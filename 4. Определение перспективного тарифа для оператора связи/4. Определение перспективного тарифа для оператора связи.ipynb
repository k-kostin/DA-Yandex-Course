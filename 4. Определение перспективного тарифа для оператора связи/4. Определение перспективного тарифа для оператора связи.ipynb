{
 "cells": [
  {
   "cell_type": "markdown",
   "metadata": {},
   "source": [
    "# Определение перспективного тарифа для телеком-компании"
   ]
  },
  {
   "cell_type": "markdown",
   "metadata": {},
   "source": [
    "В нашем распоряжении данные 500 пользователей федерального оператора сотовой связи «Мегалайна»: кто они, откуда, каким тарифом пользуются, сколько звонков и сообщений каждый отправил за 2018 год.\n",
    "Клиентам предлагают два тарифных плана: «Смарт» и «Ультра». Чтобы скорректировать рекламный бюджет, коммерческий департамент хочет понять, какой тариф приносит больше денег.\n",
    "\n",
    "**Описание тарифов:**\n",
    "\n",
    "**Тариф «Смарт»**\n",
    "1. Ежемесячная плата: 550 рублей\n",
    "2. Включено 500 минут разговора, 50 сообщений и 15 Гб интернет-трафика\n",
    "3. Стоимость услуг сверх тарифного пакета:\n",
    "* минута разговора: 3 рубля\n",
    "* сообщение: 3 рубля\n",
    "* 1 Гб интернет-трафика: 200 рублей\n",
    "\n",
    "**Тариф «Ультра»**\n",
    "1. Ежемесячная плата: 1950 рублей\n",
    "2. Включено 3000 минут разговора, 1000 сообщений и 30 Гб интернет-трафика\n",
    "3. Стоимость услуг сверх тарифного пакета:\n",
    "* минута разговора: 1 рубль\n",
    "* сообщение: 1 рубль\n",
    "* 1 Гб интернет-трафика: 150 рублей\n",
    "\n",
    "«Мегалайн» всегда округляет секунды до минут, а мегабайты — до гигабайт. Каждый звонок округляется отдельно: даже если он длился всего 1 секунду, будет засчитан как 1 минута.\n",
    "Для веб-трафика отдельные сессии не считаются. Вместо этого общая сумма за месяц округляется в бо́льшую сторону. Если абонент использует 1025 мегабайт в этом месяце, с него возьмут плату за 2 гигабайта.\n",
    "\n",
    "**Цель исследования:** проанализировать поведение клиентов и сделать вывод — какой тариф лучше.\n",
    "\n",
    "**Задачи исследования:**\n",
    "- описать поведение клиентов оператора, исходя из выборки\n",
    "- посчитать среднее количество, дисперсию и стандартное отклонение\n",
    "- построить гистограммы\n",
    "- описать распределения\n",
    "\n",
    "Данные будут получены из следующих файлов:\n",
    "* `/datasets/calls.csv`\n",
    "* `/datasets/internet.csv`\n",
    "* `/datasets/messages.csv`\n",
    "* `/datasets/tariffs.csv`\n",
    "* `/datasets/users.csv`\n",
    "\n",
    "Таким образом, исследование пройдёт в пять этапов:\n",
    "1. Обзор данных\n",
    "2. Подготовка данных\n",
    "3. Анализ данных\n",
    "4. Проверка гипотез\n",
    "5. Общий вывод"
   ]
  },
  {
   "cell_type": "markdown",
   "metadata": {
    "toc": true
   },
   "source": [
    "<h1>Содержание работы<span class=\"tocSkip\"></span></h1>\n",
    "<div class=\"toc\"><ul class=\"toc-item\"><li><span><a href=\"#Обзор-данных\" data-toc-modified-id=\"Обзор-данных-1\"><span class=\"toc-item-num\">1&nbsp;&nbsp;</span>Обзор данных</a></span></li><li><span><a href=\"#Подготовка-данных\" data-toc-modified-id=\"Подготовка-данных-2\"><span class=\"toc-item-num\">2&nbsp;&nbsp;</span>Подготовка данных</a></span></li><li><span><a href=\"#Анализ-данных\" data-toc-modified-id=\"Анализ-данных-3\"><span class=\"toc-item-num\">3&nbsp;&nbsp;</span>Анализ данных</a></span></li><li><span><a href=\"#Проверка-гипотез\" data-toc-modified-id=\"Проверка-гипотез-4\"><span class=\"toc-item-num\">4&nbsp;&nbsp;</span>Проверка гипотез</a></span></li><li><span><a href=\"#Общий-вывод\" data-toc-modified-id=\"Общий-вывод-5\"><span class=\"toc-item-num\">5&nbsp;&nbsp;</span>Общий вывод</a></span></li></ul></div>"
   ]
  },
  {
   "cell_type": "markdown",
   "metadata": {},
   "source": [
    "## Обзор данных"
   ]
  },
  {
   "cell_type": "code",
   "execution_count": 1,
   "metadata": {},
   "outputs": [],
   "source": [
    "import pandas as pd\n",
    "from matplotlib import pyplot as plt\n",
    "from math import factorial\n",
    "import numpy as np\n",
    "import seaborn as sns\n",
    "from scipy import stats as st"
   ]
  },
  {
   "cell_type": "markdown",
   "metadata": {},
   "source": [
    "Объявим переменные с исходными данными, пускай индексом будет первый столбец:"
   ]
  },
  {
   "cell_type": "code",
   "execution_count": 2,
   "metadata": {
    "scrolled": true
   },
   "outputs": [],
   "source": [
    "calls = pd.read_csv('calls.csv')\n",
    "internet = pd.read_csv('internet.csv')\n",
    "messages = pd.read_csv('messages.csv')\n",
    "tariffs = pd.read_csv('tariffs.csv')\n",
    "users = pd.read_csv('users.csv')"
   ]
  },
  {
   "cell_type": "markdown",
   "metadata": {},
   "source": [
    "Посмотрим как выглядят данные и их основные статистики:"
   ]
  },
  {
   "cell_type": "code",
   "execution_count": 3,
   "metadata": {
    "scrolled": false
   },
   "outputs": [
    {
     "data": {
      "text/html": [
       "<div>\n",
       "<style scoped>\n",
       "    .dataframe tbody tr th:only-of-type {\n",
       "        vertical-align: middle;\n",
       "    }\n",
       "\n",
       "    .dataframe tbody tr th {\n",
       "        vertical-align: top;\n",
       "    }\n",
       "\n",
       "    .dataframe thead th {\n",
       "        text-align: right;\n",
       "    }\n",
       "</style>\n",
       "<table border=\"1\" class=\"dataframe\">\n",
       "  <thead>\n",
       "    <tr style=\"text-align: right;\">\n",
       "      <th></th>\n",
       "      <th>id</th>\n",
       "      <th>call_date</th>\n",
       "      <th>duration</th>\n",
       "      <th>user_id</th>\n",
       "    </tr>\n",
       "  </thead>\n",
       "  <tbody>\n",
       "    <tr>\n",
       "      <th>0</th>\n",
       "      <td>1000_0</td>\n",
       "      <td>2018-07-25</td>\n",
       "      <td>0.00</td>\n",
       "      <td>1000</td>\n",
       "    </tr>\n",
       "    <tr>\n",
       "      <th>1</th>\n",
       "      <td>1000_1</td>\n",
       "      <td>2018-08-17</td>\n",
       "      <td>0.00</td>\n",
       "      <td>1000</td>\n",
       "    </tr>\n",
       "    <tr>\n",
       "      <th>2</th>\n",
       "      <td>1000_2</td>\n",
       "      <td>2018-06-11</td>\n",
       "      <td>2.85</td>\n",
       "      <td>1000</td>\n",
       "    </tr>\n",
       "    <tr>\n",
       "      <th>3</th>\n",
       "      <td>1000_3</td>\n",
       "      <td>2018-09-21</td>\n",
       "      <td>13.80</td>\n",
       "      <td>1000</td>\n",
       "    </tr>\n",
       "    <tr>\n",
       "      <th>4</th>\n",
       "      <td>1000_4</td>\n",
       "      <td>2018-12-15</td>\n",
       "      <td>5.18</td>\n",
       "      <td>1000</td>\n",
       "    </tr>\n",
       "  </tbody>\n",
       "</table>\n",
       "</div>"
      ],
      "text/plain": [
       "       id   call_date  duration  user_id\n",
       "0  1000_0  2018-07-25      0.00     1000\n",
       "1  1000_1  2018-08-17      0.00     1000\n",
       "2  1000_2  2018-06-11      2.85     1000\n",
       "3  1000_3  2018-09-21     13.80     1000\n",
       "4  1000_4  2018-12-15      5.18     1000"
      ]
     },
     "execution_count": 3,
     "metadata": {},
     "output_type": "execute_result"
    }
   ],
   "source": [
    "calls.head()"
   ]
  },
  {
   "cell_type": "code",
   "execution_count": 4,
   "metadata": {},
   "outputs": [
    {
     "data": {
      "text/plain": [
       "492"
      ]
     },
     "execution_count": 4,
     "metadata": {},
     "output_type": "execute_result"
    }
   ],
   "source": [
    "calls.user_id.nunique()"
   ]
  },
  {
   "cell_type": "code",
   "execution_count": 5,
   "metadata": {
    "scrolled": false
   },
   "outputs": [
    {
     "data": {
      "text/html": [
       "<div>\n",
       "<style scoped>\n",
       "    .dataframe tbody tr th:only-of-type {\n",
       "        vertical-align: middle;\n",
       "    }\n",
       "\n",
       "    .dataframe tbody tr th {\n",
       "        vertical-align: top;\n",
       "    }\n",
       "\n",
       "    .dataframe thead th {\n",
       "        text-align: right;\n",
       "    }\n",
       "</style>\n",
       "<table border=\"1\" class=\"dataframe\">\n",
       "  <thead>\n",
       "    <tr style=\"text-align: right;\">\n",
       "      <th></th>\n",
       "      <th>Unnamed: 0</th>\n",
       "      <th>id</th>\n",
       "      <th>mb_used</th>\n",
       "      <th>session_date</th>\n",
       "      <th>user_id</th>\n",
       "    </tr>\n",
       "  </thead>\n",
       "  <tbody>\n",
       "    <tr>\n",
       "      <th>0</th>\n",
       "      <td>0</td>\n",
       "      <td>1000_0</td>\n",
       "      <td>112.95</td>\n",
       "      <td>2018-11-25</td>\n",
       "      <td>1000</td>\n",
       "    </tr>\n",
       "    <tr>\n",
       "      <th>1</th>\n",
       "      <td>1</td>\n",
       "      <td>1000_1</td>\n",
       "      <td>1052.81</td>\n",
       "      <td>2018-09-07</td>\n",
       "      <td>1000</td>\n",
       "    </tr>\n",
       "    <tr>\n",
       "      <th>2</th>\n",
       "      <td>2</td>\n",
       "      <td>1000_2</td>\n",
       "      <td>1197.26</td>\n",
       "      <td>2018-06-25</td>\n",
       "      <td>1000</td>\n",
       "    </tr>\n",
       "    <tr>\n",
       "      <th>3</th>\n",
       "      <td>3</td>\n",
       "      <td>1000_3</td>\n",
       "      <td>550.27</td>\n",
       "      <td>2018-08-22</td>\n",
       "      <td>1000</td>\n",
       "    </tr>\n",
       "    <tr>\n",
       "      <th>4</th>\n",
       "      <td>4</td>\n",
       "      <td>1000_4</td>\n",
       "      <td>302.56</td>\n",
       "      <td>2018-09-24</td>\n",
       "      <td>1000</td>\n",
       "    </tr>\n",
       "  </tbody>\n",
       "</table>\n",
       "</div>"
      ],
      "text/plain": [
       "   Unnamed: 0      id  mb_used session_date  user_id\n",
       "0           0  1000_0   112.95   2018-11-25     1000\n",
       "1           1  1000_1  1052.81   2018-09-07     1000\n",
       "2           2  1000_2  1197.26   2018-06-25     1000\n",
       "3           3  1000_3   550.27   2018-08-22     1000\n",
       "4           4  1000_4   302.56   2018-09-24     1000"
      ]
     },
     "execution_count": 5,
     "metadata": {},
     "output_type": "execute_result"
    }
   ],
   "source": [
    "internet.head()"
   ]
  },
  {
   "cell_type": "code",
   "execution_count": 6,
   "metadata": {},
   "outputs": [],
   "source": [
    "internet = pd.read_csv('internet.csv', index_col=[0])"
   ]
  },
  {
   "cell_type": "code",
   "execution_count": 7,
   "metadata": {},
   "outputs": [
    {
     "data": {
      "text/plain": [
       "497"
      ]
     },
     "execution_count": 7,
     "metadata": {},
     "output_type": "execute_result"
    }
   ],
   "source": [
    "internet.user_id.nunique()"
   ]
  },
  {
   "cell_type": "code",
   "execution_count": 8,
   "metadata": {
    "scrolled": true
   },
   "outputs": [
    {
     "data": {
      "text/html": [
       "<div>\n",
       "<style scoped>\n",
       "    .dataframe tbody tr th:only-of-type {\n",
       "        vertical-align: middle;\n",
       "    }\n",
       "\n",
       "    .dataframe tbody tr th {\n",
       "        vertical-align: top;\n",
       "    }\n",
       "\n",
       "    .dataframe thead th {\n",
       "        text-align: right;\n",
       "    }\n",
       "</style>\n",
       "<table border=\"1\" class=\"dataframe\">\n",
       "  <thead>\n",
       "    <tr style=\"text-align: right;\">\n",
       "      <th></th>\n",
       "      <th>id</th>\n",
       "      <th>message_date</th>\n",
       "      <th>user_id</th>\n",
       "    </tr>\n",
       "  </thead>\n",
       "  <tbody>\n",
       "    <tr>\n",
       "      <th>0</th>\n",
       "      <td>1000_0</td>\n",
       "      <td>2018-06-27</td>\n",
       "      <td>1000</td>\n",
       "    </tr>\n",
       "    <tr>\n",
       "      <th>1</th>\n",
       "      <td>1000_1</td>\n",
       "      <td>2018-10-08</td>\n",
       "      <td>1000</td>\n",
       "    </tr>\n",
       "    <tr>\n",
       "      <th>2</th>\n",
       "      <td>1000_2</td>\n",
       "      <td>2018-08-04</td>\n",
       "      <td>1000</td>\n",
       "    </tr>\n",
       "    <tr>\n",
       "      <th>3</th>\n",
       "      <td>1000_3</td>\n",
       "      <td>2018-06-16</td>\n",
       "      <td>1000</td>\n",
       "    </tr>\n",
       "    <tr>\n",
       "      <th>4</th>\n",
       "      <td>1000_4</td>\n",
       "      <td>2018-12-05</td>\n",
       "      <td>1000</td>\n",
       "    </tr>\n",
       "  </tbody>\n",
       "</table>\n",
       "</div>"
      ],
      "text/plain": [
       "       id message_date  user_id\n",
       "0  1000_0   2018-06-27     1000\n",
       "1  1000_1   2018-10-08     1000\n",
       "2  1000_2   2018-08-04     1000\n",
       "3  1000_3   2018-06-16     1000\n",
       "4  1000_4   2018-12-05     1000"
      ]
     },
     "execution_count": 8,
     "metadata": {},
     "output_type": "execute_result"
    }
   ],
   "source": [
    "messages.head()"
   ]
  },
  {
   "cell_type": "code",
   "execution_count": 9,
   "metadata": {},
   "outputs": [
    {
     "data": {
      "text/plain": [
       "426"
      ]
     },
     "execution_count": 9,
     "metadata": {},
     "output_type": "execute_result"
    }
   ],
   "source": [
    "messages.user_id.nunique()"
   ]
  },
  {
   "cell_type": "code",
   "execution_count": 10,
   "metadata": {
    "scrolled": false
   },
   "outputs": [
    {
     "data": {
      "text/html": [
       "<div>\n",
       "<style scoped>\n",
       "    .dataframe tbody tr th:only-of-type {\n",
       "        vertical-align: middle;\n",
       "    }\n",
       "\n",
       "    .dataframe tbody tr th {\n",
       "        vertical-align: top;\n",
       "    }\n",
       "\n",
       "    .dataframe thead th {\n",
       "        text-align: right;\n",
       "    }\n",
       "</style>\n",
       "<table border=\"1\" class=\"dataframe\">\n",
       "  <thead>\n",
       "    <tr style=\"text-align: right;\">\n",
       "      <th></th>\n",
       "      <th>messages_included</th>\n",
       "      <th>mb_per_month_included</th>\n",
       "      <th>minutes_included</th>\n",
       "      <th>rub_monthly_fee</th>\n",
       "      <th>rub_per_gb</th>\n",
       "      <th>rub_per_message</th>\n",
       "      <th>rub_per_minute</th>\n",
       "      <th>tariff_name</th>\n",
       "    </tr>\n",
       "  </thead>\n",
       "  <tbody>\n",
       "    <tr>\n",
       "      <th>0</th>\n",
       "      <td>50</td>\n",
       "      <td>15360</td>\n",
       "      <td>500</td>\n",
       "      <td>550</td>\n",
       "      <td>200</td>\n",
       "      <td>3</td>\n",
       "      <td>3</td>\n",
       "      <td>smart</td>\n",
       "    </tr>\n",
       "    <tr>\n",
       "      <th>1</th>\n",
       "      <td>1000</td>\n",
       "      <td>30720</td>\n",
       "      <td>3000</td>\n",
       "      <td>1950</td>\n",
       "      <td>150</td>\n",
       "      <td>1</td>\n",
       "      <td>1</td>\n",
       "      <td>ultra</td>\n",
       "    </tr>\n",
       "  </tbody>\n",
       "</table>\n",
       "</div>"
      ],
      "text/plain": [
       "   messages_included  mb_per_month_included  minutes_included  \\\n",
       "0                 50                  15360               500   \n",
       "1               1000                  30720              3000   \n",
       "\n",
       "   rub_monthly_fee  rub_per_gb  rub_per_message  rub_per_minute tariff_name  \n",
       "0              550         200                3               3       smart  \n",
       "1             1950         150                1               1       ultra  "
      ]
     },
     "execution_count": 10,
     "metadata": {},
     "output_type": "execute_result"
    }
   ],
   "source": [
    "tariffs.head()"
   ]
  },
  {
   "cell_type": "code",
   "execution_count": 11,
   "metadata": {
    "scrolled": false
   },
   "outputs": [
    {
     "data": {
      "text/html": [
       "<div>\n",
       "<style scoped>\n",
       "    .dataframe tbody tr th:only-of-type {\n",
       "        vertical-align: middle;\n",
       "    }\n",
       "\n",
       "    .dataframe tbody tr th {\n",
       "        vertical-align: top;\n",
       "    }\n",
       "\n",
       "    .dataframe thead th {\n",
       "        text-align: right;\n",
       "    }\n",
       "</style>\n",
       "<table border=\"1\" class=\"dataframe\">\n",
       "  <thead>\n",
       "    <tr style=\"text-align: right;\">\n",
       "      <th></th>\n",
       "      <th>user_id</th>\n",
       "      <th>age</th>\n",
       "      <th>churn_date</th>\n",
       "      <th>city</th>\n",
       "      <th>first_name</th>\n",
       "      <th>last_name</th>\n",
       "      <th>reg_date</th>\n",
       "      <th>tariff</th>\n",
       "    </tr>\n",
       "  </thead>\n",
       "  <tbody>\n",
       "    <tr>\n",
       "      <th>0</th>\n",
       "      <td>1000</td>\n",
       "      <td>52</td>\n",
       "      <td>NaN</td>\n",
       "      <td>Краснодар</td>\n",
       "      <td>Рафаил</td>\n",
       "      <td>Верещагин</td>\n",
       "      <td>2018-05-25</td>\n",
       "      <td>ultra</td>\n",
       "    </tr>\n",
       "    <tr>\n",
       "      <th>1</th>\n",
       "      <td>1001</td>\n",
       "      <td>41</td>\n",
       "      <td>NaN</td>\n",
       "      <td>Москва</td>\n",
       "      <td>Иван</td>\n",
       "      <td>Ежов</td>\n",
       "      <td>2018-11-01</td>\n",
       "      <td>smart</td>\n",
       "    </tr>\n",
       "    <tr>\n",
       "      <th>2</th>\n",
       "      <td>1002</td>\n",
       "      <td>59</td>\n",
       "      <td>NaN</td>\n",
       "      <td>Стерлитамак</td>\n",
       "      <td>Евгений</td>\n",
       "      <td>Абрамович</td>\n",
       "      <td>2018-06-17</td>\n",
       "      <td>smart</td>\n",
       "    </tr>\n",
       "    <tr>\n",
       "      <th>3</th>\n",
       "      <td>1003</td>\n",
       "      <td>23</td>\n",
       "      <td>NaN</td>\n",
       "      <td>Москва</td>\n",
       "      <td>Белла</td>\n",
       "      <td>Белякова</td>\n",
       "      <td>2018-08-17</td>\n",
       "      <td>ultra</td>\n",
       "    </tr>\n",
       "    <tr>\n",
       "      <th>4</th>\n",
       "      <td>1004</td>\n",
       "      <td>68</td>\n",
       "      <td>NaN</td>\n",
       "      <td>Новокузнецк</td>\n",
       "      <td>Татьяна</td>\n",
       "      <td>Авдеенко</td>\n",
       "      <td>2018-05-14</td>\n",
       "      <td>ultra</td>\n",
       "    </tr>\n",
       "  </tbody>\n",
       "</table>\n",
       "</div>"
      ],
      "text/plain": [
       "   user_id  age churn_date         city first_name  last_name    reg_date  \\\n",
       "0     1000   52        NaN    Краснодар     Рафаил  Верещагин  2018-05-25   \n",
       "1     1001   41        NaN       Москва       Иван       Ежов  2018-11-01   \n",
       "2     1002   59        NaN  Стерлитамак    Евгений  Абрамович  2018-06-17   \n",
       "3     1003   23        NaN       Москва      Белла   Белякова  2018-08-17   \n",
       "4     1004   68        NaN  Новокузнецк    Татьяна   Авдеенко  2018-05-14   \n",
       "\n",
       "  tariff  \n",
       "0  ultra  \n",
       "1  smart  \n",
       "2  smart  \n",
       "3  ultra  \n",
       "4  ultra  "
      ]
     },
     "execution_count": 11,
     "metadata": {},
     "output_type": "execute_result"
    }
   ],
   "source": [
    "users.head()"
   ]
  },
  {
   "cell_type": "code",
   "execution_count": 12,
   "metadata": {},
   "outputs": [
    {
     "data": {
      "text/plain": [
       "500"
      ]
     },
     "execution_count": 12,
     "metadata": {},
     "output_type": "execute_result"
    }
   ],
   "source": [
    "users.user_id.nunique()"
   ]
  },
  {
   "cell_type": "code",
   "execution_count": 13,
   "metadata": {},
   "outputs": [
    {
     "data": {
      "text/html": [
       "<div>\n",
       "<style scoped>\n",
       "    .dataframe tbody tr th:only-of-type {\n",
       "        vertical-align: middle;\n",
       "    }\n",
       "\n",
       "    .dataframe tbody tr th {\n",
       "        vertical-align: top;\n",
       "    }\n",
       "\n",
       "    .dataframe thead th {\n",
       "        text-align: right;\n",
       "    }\n",
       "</style>\n",
       "<table border=\"1\" class=\"dataframe\">\n",
       "  <thead>\n",
       "    <tr style=\"text-align: right;\">\n",
       "      <th></th>\n",
       "      <th>user_id</th>\n",
       "      <th>age</th>\n",
       "      <th>churn_date</th>\n",
       "      <th>city</th>\n",
       "      <th>first_name</th>\n",
       "      <th>last_name</th>\n",
       "      <th>reg_date</th>\n",
       "      <th>tariff</th>\n",
       "    </tr>\n",
       "  </thead>\n",
       "  <tbody>\n",
       "    <tr>\n",
       "      <th>19</th>\n",
       "      <td>1019</td>\n",
       "      <td>63</td>\n",
       "      <td>2018-10-05</td>\n",
       "      <td>Томск</td>\n",
       "      <td>Игнатий</td>\n",
       "      <td>Круглов</td>\n",
       "      <td>2018-05-16</td>\n",
       "      <td>ultra</td>\n",
       "    </tr>\n",
       "    <tr>\n",
       "      <th>20</th>\n",
       "      <td>1020</td>\n",
       "      <td>59</td>\n",
       "      <td>2018-12-18</td>\n",
       "      <td>Чита</td>\n",
       "      <td>Тала</td>\n",
       "      <td>Костина</td>\n",
       "      <td>2018-10-22</td>\n",
       "      <td>smart</td>\n",
       "    </tr>\n",
       "    <tr>\n",
       "      <th>34</th>\n",
       "      <td>1034</td>\n",
       "      <td>66</td>\n",
       "      <td>2018-11-21</td>\n",
       "      <td>Вологда</td>\n",
       "      <td>Святослав</td>\n",
       "      <td>Бондарев</td>\n",
       "      <td>2018-08-26</td>\n",
       "      <td>smart</td>\n",
       "    </tr>\n",
       "    <tr>\n",
       "      <th>50</th>\n",
       "      <td>1050</td>\n",
       "      <td>44</td>\n",
       "      <td>2018-10-03</td>\n",
       "      <td>Тюмень</td>\n",
       "      <td>Рузана</td>\n",
       "      <td>Аничкина</td>\n",
       "      <td>2018-06-16</td>\n",
       "      <td>ultra</td>\n",
       "    </tr>\n",
       "    <tr>\n",
       "      <th>51</th>\n",
       "      <td>1051</td>\n",
       "      <td>37</td>\n",
       "      <td>2018-10-14</td>\n",
       "      <td>Москва</td>\n",
       "      <td>Кристина</td>\n",
       "      <td>Сомова</td>\n",
       "      <td>2018-05-28</td>\n",
       "      <td>smart</td>\n",
       "    </tr>\n",
       "  </tbody>\n",
       "</table>\n",
       "</div>"
      ],
      "text/plain": [
       "    user_id  age  churn_date     city first_name last_name    reg_date tariff\n",
       "19     1019   63  2018-10-05    Томск    Игнатий   Круглов  2018-05-16  ultra\n",
       "20     1020   59  2018-12-18     Чита       Тала   Костина  2018-10-22  smart\n",
       "34     1034   66  2018-11-21  Вологда  Святослав  Бондарев  2018-08-26  smart\n",
       "50     1050   44  2018-10-03   Тюмень     Рузана  Аничкина  2018-06-16  ultra\n",
       "51     1051   37  2018-10-14   Москва   Кристина    Сомова  2018-05-28  smart"
      ]
     },
     "execution_count": 13,
     "metadata": {},
     "output_type": "execute_result"
    }
   ],
   "source": [
    "users.query('churn_date.notna()').head()"
   ]
  },
  {
   "cell_type": "code",
   "execution_count": 14,
   "metadata": {
    "scrolled": true
   },
   "outputs": [
    {
     "name": "stdout",
     "output_type": "stream",
     "text": [
      "<class 'pandas.core.frame.DataFrame'>\n",
      "RangeIndex: 202607 entries, 0 to 202606\n",
      "Data columns (total 4 columns):\n",
      " #   Column     Non-Null Count   Dtype  \n",
      "---  ------     --------------   -----  \n",
      " 0   id         202607 non-null  object \n",
      " 1   call_date  202607 non-null  object \n",
      " 2   duration   202607 non-null  float64\n",
      " 3   user_id    202607 non-null  int64  \n",
      "dtypes: float64(1), int64(1), object(2)\n",
      "memory usage: 6.2+ MB\n",
      "None\n",
      "\n",
      "<class 'pandas.core.frame.DataFrame'>\n",
      "Int64Index: 149396 entries, 0 to 149395\n",
      "Data columns (total 4 columns):\n",
      " #   Column        Non-Null Count   Dtype  \n",
      "---  ------        --------------   -----  \n",
      " 0   id            149396 non-null  object \n",
      " 1   mb_used       149396 non-null  float64\n",
      " 2   session_date  149396 non-null  object \n",
      " 3   user_id       149396 non-null  int64  \n",
      "dtypes: float64(1), int64(1), object(2)\n",
      "memory usage: 5.7+ MB\n",
      "None\n",
      "\n",
      "<class 'pandas.core.frame.DataFrame'>\n",
      "RangeIndex: 123036 entries, 0 to 123035\n",
      "Data columns (total 3 columns):\n",
      " #   Column        Non-Null Count   Dtype \n",
      "---  ------        --------------   ----- \n",
      " 0   id            123036 non-null  object\n",
      " 1   message_date  123036 non-null  object\n",
      " 2   user_id       123036 non-null  int64 \n",
      "dtypes: int64(1), object(2)\n",
      "memory usage: 2.8+ MB\n",
      "None\n",
      "\n",
      "<class 'pandas.core.frame.DataFrame'>\n",
      "RangeIndex: 2 entries, 0 to 1\n",
      "Data columns (total 8 columns):\n",
      " #   Column                 Non-Null Count  Dtype \n",
      "---  ------                 --------------  ----- \n",
      " 0   messages_included      2 non-null      int64 \n",
      " 1   mb_per_month_included  2 non-null      int64 \n",
      " 2   minutes_included       2 non-null      int64 \n",
      " 3   rub_monthly_fee        2 non-null      int64 \n",
      " 4   rub_per_gb             2 non-null      int64 \n",
      " 5   rub_per_message        2 non-null      int64 \n",
      " 6   rub_per_minute         2 non-null      int64 \n",
      " 7   tariff_name            2 non-null      object\n",
      "dtypes: int64(7), object(1)\n",
      "memory usage: 256.0+ bytes\n",
      "None\n",
      "\n",
      "<class 'pandas.core.frame.DataFrame'>\n",
      "RangeIndex: 500 entries, 0 to 499\n",
      "Data columns (total 8 columns):\n",
      " #   Column      Non-Null Count  Dtype \n",
      "---  ------      --------------  ----- \n",
      " 0   user_id     500 non-null    int64 \n",
      " 1   age         500 non-null    int64 \n",
      " 2   churn_date  38 non-null     object\n",
      " 3   city        500 non-null    object\n",
      " 4   first_name  500 non-null    object\n",
      " 5   last_name   500 non-null    object\n",
      " 6   reg_date    500 non-null    object\n",
      " 7   tariff      500 non-null    object\n",
      "dtypes: int64(2), object(6)\n",
      "memory usage: 31.4+ KB\n",
      "None\n",
      "\n"
     ]
    }
   ],
   "source": [
    "for data in [calls, internet, messages, tariffs, users]:\n",
    "    print(data.info(), end='\\n\\n')"
   ]
  },
  {
   "cell_type": "markdown",
   "metadata": {},
   "source": [
    "В исходных данных пропуски не наблюдаются. Там где необходимо, стоит привести к типу данных \"datetime\" и округлить значения. Секунды в большую сторону до минут, общая сумма трафика за месяц в мегабайтах в большую сторону до гигабайтов."
   ]
  },
  {
   "cell_type": "markdown",
   "metadata": {},
   "source": [
    "## Подготовка данных"
   ]
  },
  {
   "cell_type": "markdown",
   "metadata": {},
   "source": [
    "**Приведем данные к нужным типам:**"
   ]
  },
  {
   "cell_type": "code",
   "execution_count": 15,
   "metadata": {},
   "outputs": [],
   "source": [
    "calls['call_date'] = pd.to_datetime(calls['call_date'], format='%Y-%m-%d')\n",
    "internet['session_date'] = pd.to_datetime(internet['session_date'], format='%Y-%m-%d')\n",
    "messages['message_date'] = pd.to_datetime(messages['message_date'], format='%Y-%m-%d')\n",
    "users['reg_date'] = pd.to_datetime(users['reg_date'], format='%Y-%m-%d')\n",
    "users['churn_date'] = pd.to_datetime(users['churn_date'], format='%Y-%m-%d')"
   ]
  },
  {
   "cell_type": "markdown",
   "metadata": {},
   "source": [
    "**Округлим значения согласно условиям:**"
   ]
  },
  {
   "cell_type": "code",
   "execution_count": 16,
   "metadata": {},
   "outputs": [],
   "source": [
    "calls['duration'] = calls['duration'].apply(np.ceil)"
   ]
  },
  {
   "cell_type": "markdown",
   "metadata": {},
   "source": [
    "**Добавим столбец с месяцем:**"
   ]
  },
  {
   "cell_type": "code",
   "execution_count": 17,
   "metadata": {},
   "outputs": [],
   "source": [
    "calls['month'] = calls['call_date'].dt.month\n",
    "messages['month'] = messages['message_date'].dt.month\n",
    "internet['month'] = internet['session_date'].dt.month"
   ]
  },
  {
   "cell_type": "markdown",
   "metadata": {},
   "source": [
    "Посмотрим что получилось"
   ]
  },
  {
   "cell_type": "code",
   "execution_count": 18,
   "metadata": {
    "scrolled": true
   },
   "outputs": [
    {
     "data": {
      "text/html": [
       "<div>\n",
       "<style scoped>\n",
       "    .dataframe tbody tr th:only-of-type {\n",
       "        vertical-align: middle;\n",
       "    }\n",
       "\n",
       "    .dataframe tbody tr th {\n",
       "        vertical-align: top;\n",
       "    }\n",
       "\n",
       "    .dataframe thead th {\n",
       "        text-align: right;\n",
       "    }\n",
       "</style>\n",
       "<table border=\"1\" class=\"dataframe\">\n",
       "  <thead>\n",
       "    <tr style=\"text-align: right;\">\n",
       "      <th></th>\n",
       "      <th>id</th>\n",
       "      <th>mb_used</th>\n",
       "      <th>session_date</th>\n",
       "      <th>user_id</th>\n",
       "      <th>month</th>\n",
       "    </tr>\n",
       "  </thead>\n",
       "  <tbody>\n",
       "    <tr>\n",
       "      <th>0</th>\n",
       "      <td>1000_0</td>\n",
       "      <td>112.95</td>\n",
       "      <td>2018-11-25</td>\n",
       "      <td>1000</td>\n",
       "      <td>11</td>\n",
       "    </tr>\n",
       "    <tr>\n",
       "      <th>1</th>\n",
       "      <td>1000_1</td>\n",
       "      <td>1052.81</td>\n",
       "      <td>2018-09-07</td>\n",
       "      <td>1000</td>\n",
       "      <td>9</td>\n",
       "    </tr>\n",
       "    <tr>\n",
       "      <th>2</th>\n",
       "      <td>1000_2</td>\n",
       "      <td>1197.26</td>\n",
       "      <td>2018-06-25</td>\n",
       "      <td>1000</td>\n",
       "      <td>6</td>\n",
       "    </tr>\n",
       "    <tr>\n",
       "      <th>3</th>\n",
       "      <td>1000_3</td>\n",
       "      <td>550.27</td>\n",
       "      <td>2018-08-22</td>\n",
       "      <td>1000</td>\n",
       "      <td>8</td>\n",
       "    </tr>\n",
       "    <tr>\n",
       "      <th>4</th>\n",
       "      <td>1000_4</td>\n",
       "      <td>302.56</td>\n",
       "      <td>2018-09-24</td>\n",
       "      <td>1000</td>\n",
       "      <td>9</td>\n",
       "    </tr>\n",
       "  </tbody>\n",
       "</table>\n",
       "</div>"
      ],
      "text/plain": [
       "       id  mb_used session_date  user_id  month\n",
       "0  1000_0   112.95   2018-11-25     1000     11\n",
       "1  1000_1  1052.81   2018-09-07     1000      9\n",
       "2  1000_2  1197.26   2018-06-25     1000      6\n",
       "3  1000_3   550.27   2018-08-22     1000      8\n",
       "4  1000_4   302.56   2018-09-24     1000      9"
      ]
     },
     "execution_count": 18,
     "metadata": {},
     "output_type": "execute_result"
    }
   ],
   "source": [
    "internet.head()"
   ]
  },
  {
   "cell_type": "markdown",
   "metadata": {},
   "source": [
    "**Рассчёт по каждому пользователю**"
   ]
  },
  {
   "cell_type": "markdown",
   "metadata": {},
   "source": [
    "Ниже будут использоваться сводные таблицы,тоит создать столбец в котором будет содержаться единое уникальное обозначение пользователя отличное от user_id. Составить его можно из столбцов \"first_name\", \"last_name\" и \"city_name\":"
   ]
  },
  {
   "cell_type": "code",
   "execution_count": 19,
   "metadata": {},
   "outputs": [],
   "source": [
    "users['user'] = users['user_id']"
   ]
  },
  {
   "cell_type": "markdown",
   "metadata": {},
   "source": [
    "Создадим сводную таблицу по звонкам:"
   ]
  },
  {
   "cell_type": "code",
   "execution_count": 20,
   "metadata": {},
   "outputs": [],
   "source": [
    "calls_grouped = calls.merge(users, on='user_id', how='inner')\n",
    "calls_grouped = calls_grouped.pivot_table(values=['user', 'duration'], \n",
    "                       index=['user_id', 'month'], \n",
    "                       aggfunc={'user': 'count', 'duration': 'sum'})\n",
    "calls_grouped.columns = ['duration', 'calls']"
   ]
  },
  {
   "cell_type": "markdown",
   "metadata": {},
   "source": [
    "Создадим сводную таблицу по сообщениям:"
   ]
  },
  {
   "cell_type": "code",
   "execution_count": 21,
   "metadata": {
    "scrolled": true
   },
   "outputs": [],
   "source": [
    "messages_grouped = messages.merge(users, on='user_id', how='inner')\n",
    "messages_grouped = messages_grouped.pivot_table(values='user', \n",
    "                       index=['user_id', 'month'], \n",
    "                       aggfunc={'user': 'count'})\n",
    "messages_grouped.columns = ['messages']"
   ]
  },
  {
   "cell_type": "markdown",
   "metadata": {},
   "source": [
    "Создадим сводную таблицу по трафику:"
   ]
  },
  {
   "cell_type": "code",
   "execution_count": 22,
   "metadata": {
    "scrolled": true
   },
   "outputs": [],
   "source": [
    "internet_grouped = internet.merge(users, on='user_id', how='inner')\n",
    "internet_grouped = internet_grouped.pivot_table(values='mb_used', \n",
    "                       index=['user_id', 'month'], \n",
    "                       aggfunc={'mb_used': 'sum'})\n",
    "internet_grouped.columns = ['mb_used']"
   ]
  },
  {
   "cell_type": "markdown",
   "metadata": {},
   "source": [
    "Теперь соберём всё в единую сводную таблицу:"
   ]
  },
  {
   "cell_type": "code",
   "execution_count": 23,
   "metadata": {
    "scrolled": false
   },
   "outputs": [
    {
     "data": {
      "text/html": [
       "<div>\n",
       "<style scoped>\n",
       "    .dataframe tbody tr th:only-of-type {\n",
       "        vertical-align: middle;\n",
       "    }\n",
       "\n",
       "    .dataframe tbody tr th {\n",
       "        vertical-align: top;\n",
       "    }\n",
       "\n",
       "    .dataframe thead th {\n",
       "        text-align: right;\n",
       "    }\n",
       "</style>\n",
       "<table border=\"1\" class=\"dataframe\">\n",
       "  <thead>\n",
       "    <tr style=\"text-align: right;\">\n",
       "      <th></th>\n",
       "      <th></th>\n",
       "      <th>mb_used</th>\n",
       "      <th>duration</th>\n",
       "      <th>calls</th>\n",
       "      <th>messages</th>\n",
       "    </tr>\n",
       "    <tr>\n",
       "      <th>user_id</th>\n",
       "      <th>month</th>\n",
       "      <th></th>\n",
       "      <th></th>\n",
       "      <th></th>\n",
       "      <th></th>\n",
       "    </tr>\n",
       "  </thead>\n",
       "  <tbody>\n",
       "    <tr>\n",
       "      <th rowspan=\"8\" valign=\"top\">1000</th>\n",
       "      <th>5</th>\n",
       "      <td>2253.49</td>\n",
       "      <td>159.0</td>\n",
       "      <td>22.0</td>\n",
       "      <td>22.0</td>\n",
       "    </tr>\n",
       "    <tr>\n",
       "      <th>6</th>\n",
       "      <td>23233.77</td>\n",
       "      <td>172.0</td>\n",
       "      <td>43.0</td>\n",
       "      <td>60.0</td>\n",
       "    </tr>\n",
       "    <tr>\n",
       "      <th>7</th>\n",
       "      <td>14003.64</td>\n",
       "      <td>340.0</td>\n",
       "      <td>47.0</td>\n",
       "      <td>75.0</td>\n",
       "    </tr>\n",
       "    <tr>\n",
       "      <th>8</th>\n",
       "      <td>14055.93</td>\n",
       "      <td>408.0</td>\n",
       "      <td>52.0</td>\n",
       "      <td>81.0</td>\n",
       "    </tr>\n",
       "    <tr>\n",
       "      <th>9</th>\n",
       "      <td>14568.91</td>\n",
       "      <td>466.0</td>\n",
       "      <td>58.0</td>\n",
       "      <td>57.0</td>\n",
       "    </tr>\n",
       "    <tr>\n",
       "      <th>10</th>\n",
       "      <td>14702.49</td>\n",
       "      <td>350.0</td>\n",
       "      <td>57.0</td>\n",
       "      <td>73.0</td>\n",
       "    </tr>\n",
       "    <tr>\n",
       "      <th>11</th>\n",
       "      <td>14756.47</td>\n",
       "      <td>338.0</td>\n",
       "      <td>43.0</td>\n",
       "      <td>58.0</td>\n",
       "    </tr>\n",
       "    <tr>\n",
       "      <th>12</th>\n",
       "      <td>9817.61</td>\n",
       "      <td>333.0</td>\n",
       "      <td>46.0</td>\n",
       "      <td>70.0</td>\n",
       "    </tr>\n",
       "    <tr>\n",
       "      <th rowspan=\"2\" valign=\"top\">1001</th>\n",
       "      <th>11</th>\n",
       "      <td>18429.34</td>\n",
       "      <td>430.0</td>\n",
       "      <td>59.0</td>\n",
       "      <td>NaN</td>\n",
       "    </tr>\n",
       "    <tr>\n",
       "      <th>12</th>\n",
       "      <td>14036.66</td>\n",
       "      <td>414.0</td>\n",
       "      <td>63.0</td>\n",
       "      <td>NaN</td>\n",
       "    </tr>\n",
       "  </tbody>\n",
       "</table>\n",
       "</div>"
      ],
      "text/plain": [
       "                mb_used  duration  calls  messages\n",
       "user_id month                                     \n",
       "1000    5       2253.49     159.0   22.0      22.0\n",
       "        6      23233.77     172.0   43.0      60.0\n",
       "        7      14003.64     340.0   47.0      75.0\n",
       "        8      14055.93     408.0   52.0      81.0\n",
       "        9      14568.91     466.0   58.0      57.0\n",
       "        10     14702.49     350.0   57.0      73.0\n",
       "        11     14756.47     338.0   43.0      58.0\n",
       "        12      9817.61     333.0   46.0      70.0\n",
       "1001    11     18429.34     430.0   59.0       NaN\n",
       "        12     14036.66     414.0   63.0       NaN"
      ]
     },
     "execution_count": 23,
     "metadata": {},
     "output_type": "execute_result"
    }
   ],
   "source": [
    "merged_pivot = pd.merge(internet_grouped, calls_grouped, 'left', on=['user_id', 'month'])\n",
    "merged_pivot = pd.merge(merged_pivot, messages_grouped, 'left', on=['user_id', 'month'])\n",
    "merged_pivot.head(10)"
   ]
  },
  {
   "cell_type": "code",
   "execution_count": 24,
   "metadata": {},
   "outputs": [
    {
     "data": {
      "text/plain": [
       "497"
      ]
     },
     "execution_count": 24,
     "metadata": {},
     "output_type": "execute_result"
    }
   ],
   "source": [
    "merged_pivot.reset_index().user_id.nunique()"
   ]
  },
  {
   "cell_type": "markdown",
   "metadata": {},
   "source": [
    "Пропущенные значения заменяем на нули:"
   ]
  },
  {
   "cell_type": "code",
   "execution_count": 25,
   "metadata": {},
   "outputs": [],
   "source": [
    "merged_pivot.loc[merged_pivot['duration'].isna(), 'duration'] = 0\n",
    "merged_pivot.loc[merged_pivot['messages'].isna(), 'messages'] = 0\n",
    "merged_pivot.loc[merged_pivot['mb_used'].isna(), 'mb_used'] = 0"
   ]
  },
  {
   "cell_type": "markdown",
   "metadata": {},
   "source": [
    "Добавим наименование используемого тарифа для каждого пользователя:"
   ]
  },
  {
   "cell_type": "code",
   "execution_count": 26,
   "metadata": {
    "scrolled": true
   },
   "outputs": [],
   "source": [
    "for user in merged_pivot.index:\n",
    "    merged_pivot.loc[user, 'tariff'] = users.loc[user[0]-1000, 'tariff']"
   ]
  },
  {
   "cell_type": "code",
   "execution_count": 27,
   "metadata": {},
   "outputs": [
    {
     "data": {
      "text/html": [
       "<div>\n",
       "<style scoped>\n",
       "    .dataframe tbody tr th:only-of-type {\n",
       "        vertical-align: middle;\n",
       "    }\n",
       "\n",
       "    .dataframe tbody tr th {\n",
       "        vertical-align: top;\n",
       "    }\n",
       "\n",
       "    .dataframe thead th {\n",
       "        text-align: right;\n",
       "    }\n",
       "</style>\n",
       "<table border=\"1\" class=\"dataframe\">\n",
       "  <thead>\n",
       "    <tr style=\"text-align: right;\">\n",
       "      <th></th>\n",
       "      <th></th>\n",
       "      <th>mb_used</th>\n",
       "      <th>duration</th>\n",
       "      <th>calls</th>\n",
       "      <th>messages</th>\n",
       "      <th>tariff</th>\n",
       "    </tr>\n",
       "    <tr>\n",
       "      <th>user_id</th>\n",
       "      <th>month</th>\n",
       "      <th></th>\n",
       "      <th></th>\n",
       "      <th></th>\n",
       "      <th></th>\n",
       "      <th></th>\n",
       "    </tr>\n",
       "  </thead>\n",
       "  <tbody>\n",
       "    <tr>\n",
       "      <th rowspan=\"5\" valign=\"top\">1000</th>\n",
       "      <th>5</th>\n",
       "      <td>2253.49</td>\n",
       "      <td>159.0</td>\n",
       "      <td>22.0</td>\n",
       "      <td>22.0</td>\n",
       "      <td>ultra</td>\n",
       "    </tr>\n",
       "    <tr>\n",
       "      <th>6</th>\n",
       "      <td>23233.77</td>\n",
       "      <td>172.0</td>\n",
       "      <td>43.0</td>\n",
       "      <td>60.0</td>\n",
       "      <td>ultra</td>\n",
       "    </tr>\n",
       "    <tr>\n",
       "      <th>7</th>\n",
       "      <td>14003.64</td>\n",
       "      <td>340.0</td>\n",
       "      <td>47.0</td>\n",
       "      <td>75.0</td>\n",
       "      <td>ultra</td>\n",
       "    </tr>\n",
       "    <tr>\n",
       "      <th>8</th>\n",
       "      <td>14055.93</td>\n",
       "      <td>408.0</td>\n",
       "      <td>52.0</td>\n",
       "      <td>81.0</td>\n",
       "      <td>ultra</td>\n",
       "    </tr>\n",
       "    <tr>\n",
       "      <th>9</th>\n",
       "      <td>14568.91</td>\n",
       "      <td>466.0</td>\n",
       "      <td>58.0</td>\n",
       "      <td>57.0</td>\n",
       "      <td>ultra</td>\n",
       "    </tr>\n",
       "    <tr>\n",
       "      <th>...</th>\n",
       "      <th>...</th>\n",
       "      <td>...</td>\n",
       "      <td>...</td>\n",
       "      <td>...</td>\n",
       "      <td>...</td>\n",
       "      <td>...</td>\n",
       "    </tr>\n",
       "    <tr>\n",
       "      <th>1498</th>\n",
       "      <th>10</th>\n",
       "      <td>20579.36</td>\n",
       "      <td>247.0</td>\n",
       "      <td>41.0</td>\n",
       "      <td>42.0</td>\n",
       "      <td>smart</td>\n",
       "    </tr>\n",
       "    <tr>\n",
       "      <th rowspan=\"4\" valign=\"top\">1499</th>\n",
       "      <th>9</th>\n",
       "      <td>1845.75</td>\n",
       "      <td>70.0</td>\n",
       "      <td>9.0</td>\n",
       "      <td>11.0</td>\n",
       "      <td>smart</td>\n",
       "    </tr>\n",
       "    <tr>\n",
       "      <th>10</th>\n",
       "      <td>17788.51</td>\n",
       "      <td>449.0</td>\n",
       "      <td>68.0</td>\n",
       "      <td>48.0</td>\n",
       "      <td>smart</td>\n",
       "    </tr>\n",
       "    <tr>\n",
       "      <th>11</th>\n",
       "      <td>17963.31</td>\n",
       "      <td>612.0</td>\n",
       "      <td>74.0</td>\n",
       "      <td>59.0</td>\n",
       "      <td>smart</td>\n",
       "    </tr>\n",
       "    <tr>\n",
       "      <th>12</th>\n",
       "      <td>13055.58</td>\n",
       "      <td>492.0</td>\n",
       "      <td>69.0</td>\n",
       "      <td>66.0</td>\n",
       "      <td>smart</td>\n",
       "    </tr>\n",
       "  </tbody>\n",
       "</table>\n",
       "<p>3203 rows × 5 columns</p>\n",
       "</div>"
      ],
      "text/plain": [
       "                mb_used  duration  calls  messages tariff\n",
       "user_id month                                            \n",
       "1000    5       2253.49     159.0   22.0      22.0  ultra\n",
       "        6      23233.77     172.0   43.0      60.0  ultra\n",
       "        7      14003.64     340.0   47.0      75.0  ultra\n",
       "        8      14055.93     408.0   52.0      81.0  ultra\n",
       "        9      14568.91     466.0   58.0      57.0  ultra\n",
       "...                 ...       ...    ...       ...    ...\n",
       "1498    10     20579.36     247.0   41.0      42.0  smart\n",
       "1499    9       1845.75      70.0    9.0      11.0  smart\n",
       "        10     17788.51     449.0   68.0      48.0  smart\n",
       "        11     17963.31     612.0   74.0      59.0  smart\n",
       "        12     13055.58     492.0   69.0      66.0  smart\n",
       "\n",
       "[3203 rows x 5 columns]"
      ]
     },
     "execution_count": 27,
     "metadata": {},
     "output_type": "execute_result"
    }
   ],
   "source": [
    "merged_pivot"
   ]
  },
  {
   "cell_type": "markdown",
   "metadata": {},
   "source": [
    "Теперь можно посчитать помесячную выручку с каждого клиента. Для этого следует вычесть бесплатные лимиты из количества звонков, сообщений и трафика, умножить на стоимость по тарифу и прибавить абонентскую платупо тарифу."
   ]
  },
  {
   "cell_type": "markdown",
   "metadata": {},
   "source": [
    "Напишем функцию для подсчета выручки с каждого пользователя в каждый из месяцев:"
   ]
  },
  {
   "cell_type": "code",
   "execution_count": 28,
   "metadata": {
    "scrolled": true
   },
   "outputs": [
    {
     "data": {
      "text/html": [
       "<div>\n",
       "<style scoped>\n",
       "    .dataframe tbody tr th:only-of-type {\n",
       "        vertical-align: middle;\n",
       "    }\n",
       "\n",
       "    .dataframe tbody tr th {\n",
       "        vertical-align: top;\n",
       "    }\n",
       "\n",
       "    .dataframe thead th {\n",
       "        text-align: right;\n",
       "    }\n",
       "</style>\n",
       "<table border=\"1\" class=\"dataframe\">\n",
       "  <thead>\n",
       "    <tr style=\"text-align: right;\">\n",
       "      <th></th>\n",
       "      <th></th>\n",
       "      <th>mb_used</th>\n",
       "      <th>duration</th>\n",
       "      <th>calls</th>\n",
       "      <th>messages</th>\n",
       "      <th>tariff</th>\n",
       "      <th>revenue</th>\n",
       "    </tr>\n",
       "    <tr>\n",
       "      <th>user_id</th>\n",
       "      <th>month</th>\n",
       "      <th></th>\n",
       "      <th></th>\n",
       "      <th></th>\n",
       "      <th></th>\n",
       "      <th></th>\n",
       "      <th></th>\n",
       "    </tr>\n",
       "  </thead>\n",
       "  <tbody>\n",
       "    <tr>\n",
       "      <th rowspan=\"8\" valign=\"top\">1000</th>\n",
       "      <th>5</th>\n",
       "      <td>2253.49</td>\n",
       "      <td>159.0</td>\n",
       "      <td>22.0</td>\n",
       "      <td>22.0</td>\n",
       "      <td>ultra</td>\n",
       "      <td>1950.0</td>\n",
       "    </tr>\n",
       "    <tr>\n",
       "      <th>6</th>\n",
       "      <td>23233.77</td>\n",
       "      <td>172.0</td>\n",
       "      <td>43.0</td>\n",
       "      <td>60.0</td>\n",
       "      <td>ultra</td>\n",
       "      <td>1950.0</td>\n",
       "    </tr>\n",
       "    <tr>\n",
       "      <th>7</th>\n",
       "      <td>14003.64</td>\n",
       "      <td>340.0</td>\n",
       "      <td>47.0</td>\n",
       "      <td>75.0</td>\n",
       "      <td>ultra</td>\n",
       "      <td>1950.0</td>\n",
       "    </tr>\n",
       "    <tr>\n",
       "      <th>8</th>\n",
       "      <td>14055.93</td>\n",
       "      <td>408.0</td>\n",
       "      <td>52.0</td>\n",
       "      <td>81.0</td>\n",
       "      <td>ultra</td>\n",
       "      <td>1950.0</td>\n",
       "    </tr>\n",
       "    <tr>\n",
       "      <th>9</th>\n",
       "      <td>14568.91</td>\n",
       "      <td>466.0</td>\n",
       "      <td>58.0</td>\n",
       "      <td>57.0</td>\n",
       "      <td>ultra</td>\n",
       "      <td>1950.0</td>\n",
       "    </tr>\n",
       "    <tr>\n",
       "      <th>10</th>\n",
       "      <td>14702.49</td>\n",
       "      <td>350.0</td>\n",
       "      <td>57.0</td>\n",
       "      <td>73.0</td>\n",
       "      <td>ultra</td>\n",
       "      <td>1950.0</td>\n",
       "    </tr>\n",
       "    <tr>\n",
       "      <th>11</th>\n",
       "      <td>14756.47</td>\n",
       "      <td>338.0</td>\n",
       "      <td>43.0</td>\n",
       "      <td>58.0</td>\n",
       "      <td>ultra</td>\n",
       "      <td>1950.0</td>\n",
       "    </tr>\n",
       "    <tr>\n",
       "      <th>12</th>\n",
       "      <td>9817.61</td>\n",
       "      <td>333.0</td>\n",
       "      <td>46.0</td>\n",
       "      <td>70.0</td>\n",
       "      <td>ultra</td>\n",
       "      <td>1950.0</td>\n",
       "    </tr>\n",
       "    <tr>\n",
       "      <th rowspan=\"2\" valign=\"top\">1001</th>\n",
       "      <th>11</th>\n",
       "      <td>18429.34</td>\n",
       "      <td>430.0</td>\n",
       "      <td>59.0</td>\n",
       "      <td>0.0</td>\n",
       "      <td>smart</td>\n",
       "      <td>1150.0</td>\n",
       "    </tr>\n",
       "    <tr>\n",
       "      <th>12</th>\n",
       "      <td>14036.66</td>\n",
       "      <td>414.0</td>\n",
       "      <td>63.0</td>\n",
       "      <td>0.0</td>\n",
       "      <td>smart</td>\n",
       "      <td>550.0</td>\n",
       "    </tr>\n",
       "    <tr>\n",
       "      <th rowspan=\"7\" valign=\"top\">1002</th>\n",
       "      <th>6</th>\n",
       "      <td>10856.82</td>\n",
       "      <td>117.0</td>\n",
       "      <td>15.0</td>\n",
       "      <td>4.0</td>\n",
       "      <td>smart</td>\n",
       "      <td>550.0</td>\n",
       "    </tr>\n",
       "    <tr>\n",
       "      <th>7</th>\n",
       "      <td>17580.10</td>\n",
       "      <td>214.0</td>\n",
       "      <td>26.0</td>\n",
       "      <td>11.0</td>\n",
       "      <td>smart</td>\n",
       "      <td>1150.0</td>\n",
       "    </tr>\n",
       "    <tr>\n",
       "      <th>8</th>\n",
       "      <td>20319.26</td>\n",
       "      <td>289.0</td>\n",
       "      <td>42.0</td>\n",
       "      <td>13.0</td>\n",
       "      <td>smart</td>\n",
       "      <td>1550.0</td>\n",
       "    </tr>\n",
       "    <tr>\n",
       "      <th>9</th>\n",
       "      <td>16691.08</td>\n",
       "      <td>206.0</td>\n",
       "      <td>36.0</td>\n",
       "      <td>4.0</td>\n",
       "      <td>smart</td>\n",
       "      <td>950.0</td>\n",
       "    </tr>\n",
       "    <tr>\n",
       "      <th>10</th>\n",
       "      <td>13888.25</td>\n",
       "      <td>212.0</td>\n",
       "      <td>33.0</td>\n",
       "      <td>10.0</td>\n",
       "      <td>smart</td>\n",
       "      <td>550.0</td>\n",
       "    </tr>\n",
       "    <tr>\n",
       "      <th>11</th>\n",
       "      <td>18587.28</td>\n",
       "      <td>243.0</td>\n",
       "      <td>32.0</td>\n",
       "      <td>16.0</td>\n",
       "      <td>smart</td>\n",
       "      <td>1350.0</td>\n",
       "    </tr>\n",
       "    <tr>\n",
       "      <th>12</th>\n",
       "      <td>18113.73</td>\n",
       "      <td>236.0</td>\n",
       "      <td>33.0</td>\n",
       "      <td>12.0</td>\n",
       "      <td>smart</td>\n",
       "      <td>1150.0</td>\n",
       "    </tr>\n",
       "    <tr>\n",
       "      <th rowspan=\"3\" valign=\"top\">1003</th>\n",
       "      <th>8</th>\n",
       "      <td>8565.21</td>\n",
       "      <td>380.0</td>\n",
       "      <td>55.0</td>\n",
       "      <td>37.0</td>\n",
       "      <td>ultra</td>\n",
       "      <td>1950.0</td>\n",
       "    </tr>\n",
       "    <tr>\n",
       "      <th>9</th>\n",
       "      <td>12468.87</td>\n",
       "      <td>961.0</td>\n",
       "      <td>134.0</td>\n",
       "      <td>91.0</td>\n",
       "      <td>ultra</td>\n",
       "      <td>1950.0</td>\n",
       "    </tr>\n",
       "    <tr>\n",
       "      <th>10</th>\n",
       "      <td>14768.14</td>\n",
       "      <td>855.0</td>\n",
       "      <td>108.0</td>\n",
       "      <td>83.0</td>\n",
       "      <td>ultra</td>\n",
       "      <td>1950.0</td>\n",
       "    </tr>\n",
       "  </tbody>\n",
       "</table>\n",
       "</div>"
      ],
      "text/plain": [
       "                mb_used  duration  calls  messages tariff  revenue\n",
       "user_id month                                                     \n",
       "1000    5       2253.49     159.0   22.0      22.0  ultra   1950.0\n",
       "        6      23233.77     172.0   43.0      60.0  ultra   1950.0\n",
       "        7      14003.64     340.0   47.0      75.0  ultra   1950.0\n",
       "        8      14055.93     408.0   52.0      81.0  ultra   1950.0\n",
       "        9      14568.91     466.0   58.0      57.0  ultra   1950.0\n",
       "        10     14702.49     350.0   57.0      73.0  ultra   1950.0\n",
       "        11     14756.47     338.0   43.0      58.0  ultra   1950.0\n",
       "        12      9817.61     333.0   46.0      70.0  ultra   1950.0\n",
       "1001    11     18429.34     430.0   59.0       0.0  smart   1150.0\n",
       "        12     14036.66     414.0   63.0       0.0  smart    550.0\n",
       "1002    6      10856.82     117.0   15.0       4.0  smart    550.0\n",
       "        7      17580.10     214.0   26.0      11.0  smart   1150.0\n",
       "        8      20319.26     289.0   42.0      13.0  smart   1550.0\n",
       "        9      16691.08     206.0   36.0       4.0  smart    950.0\n",
       "        10     13888.25     212.0   33.0      10.0  smart    550.0\n",
       "        11     18587.28     243.0   32.0      16.0  smart   1350.0\n",
       "        12     18113.73     236.0   33.0      12.0  smart   1150.0\n",
       "1003    8       8565.21     380.0   55.0      37.0  ultra   1950.0\n",
       "        9      12468.87     961.0  134.0      91.0  ultra   1950.0\n",
       "        10     14768.14     855.0  108.0      83.0  ultra   1950.0"
      ]
     },
     "execution_count": 28,
     "metadata": {},
     "output_type": "execute_result"
    }
   ],
   "source": [
    "def rev_by_user(row):\n",
    "    duration = row['duration']\n",
    "    calls = row['calls']\n",
    "    messages = row['messages']\n",
    "    mb_used = row['mb_used']\n",
    "    tariff = row['tariff']\n",
    "    \n",
    "    if tariff == 'smart':\n",
    "        duration_overrun = duration - tariffs.loc[0, 'minutes_included']\n",
    "        messages_overrun = messages - tariffs.loc[0, 'messages_included']\n",
    "        gb_overrun = np.ceil((mb_used - tariffs.loc[0, 'mb_per_month_included']) / 1024)\n",
    "                \n",
    "        if duration_overrun < 0: duration_overrun = 0\n",
    "        if messages_overrun < 0: messages_overrun = 0\n",
    "        if gb_overrun < 0: gb_overrun = 0\n",
    "                \n",
    "        return (tariffs.loc[0, 'rub_per_minute'] * duration_overrun +\n",
    "                tariffs.loc[0, 'rub_per_message'] * messages_overrun +\n",
    "                tariffs.loc[0, 'rub_per_gb'] * gb_overrun +\n",
    "                tariffs.loc[0, 'rub_monthly_fee']\n",
    "               ) \n",
    "    else:\n",
    "        duration_overrun = duration - tariffs.loc[1, 'minutes_included']\n",
    "        messages_overrun = messages - tariffs.loc[1, 'messages_included']\n",
    "        gb_overrun = np.ceil((mb_used - tariffs.loc[1, 'mb_per_month_included']) / 1024)\n",
    "        \n",
    "        if duration_overrun < 0: duration_overrun = 0\n",
    "        if messages_overrun < 0: messages_overrun = 0\n",
    "        if gb_overrun < 0: gb_overrun = 0\n",
    "        \n",
    "        return (tariffs.loc[1, 'rub_per_minute'] * duration_overrun +\n",
    "                tariffs.loc[1, 'rub_per_message'] * messages_overrun +\n",
    "                tariffs.loc[1, 'rub_per_gb'] * gb_overrun +\n",
    "                tariffs.loc[1, 'rub_monthly_fee']\n",
    "               )\n",
    "\n",
    "merged_pivot['revenue'] = merged_pivot.apply(rev_by_user, axis=1)\n",
    "merged_pivot.head(20)"
   ]
  },
  {
   "cell_type": "markdown",
   "metadata": {},
   "source": [
    "## Анализ данных"
   ]
  },
  {
   "cell_type": "markdown",
   "metadata": {},
   "source": [
    "Найдём медианные показатели потребления звонков, сообщений и интернет-трафика для каждого пользователя:"
   ]
  },
  {
   "cell_type": "code",
   "execution_count": 29,
   "metadata": {
    "scrolled": true
   },
   "outputs": [
    {
     "data": {
      "text/html": [
       "<div>\n",
       "<style scoped>\n",
       "    .dataframe tbody tr th:only-of-type {\n",
       "        vertical-align: middle;\n",
       "    }\n",
       "\n",
       "    .dataframe tbody tr th {\n",
       "        vertical-align: top;\n",
       "    }\n",
       "\n",
       "    .dataframe thead th {\n",
       "        text-align: right;\n",
       "    }\n",
       "</style>\n",
       "<table border=\"1\" class=\"dataframe\">\n",
       "  <thead>\n",
       "    <tr style=\"text-align: right;\">\n",
       "      <th></th>\n",
       "      <th>duration</th>\n",
       "      <th>mb_used</th>\n",
       "      <th>messages</th>\n",
       "      <th>revenue</th>\n",
       "      <th>tariff</th>\n",
       "    </tr>\n",
       "    <tr>\n",
       "      <th>user_id</th>\n",
       "      <th></th>\n",
       "      <th></th>\n",
       "      <th></th>\n",
       "      <th></th>\n",
       "      <th></th>\n",
       "    </tr>\n",
       "  </thead>\n",
       "  <tbody>\n",
       "    <tr>\n",
       "      <th>1000</th>\n",
       "      <td>339.0</td>\n",
       "      <td>14312.42</td>\n",
       "      <td>65.0</td>\n",
       "      <td>1950.0</td>\n",
       "      <td>ultra</td>\n",
       "    </tr>\n",
       "    <tr>\n",
       "      <th>1001</th>\n",
       "      <td>422.0</td>\n",
       "      <td>16233.00</td>\n",
       "      <td>0.0</td>\n",
       "      <td>850.0</td>\n",
       "      <td>smart</td>\n",
       "    </tr>\n",
       "    <tr>\n",
       "      <th>1002</th>\n",
       "      <td>214.0</td>\n",
       "      <td>17580.10</td>\n",
       "      <td>11.0</td>\n",
       "      <td>1150.0</td>\n",
       "      <td>smart</td>\n",
       "    </tr>\n",
       "    <tr>\n",
       "      <th>1003</th>\n",
       "      <td>824.0</td>\n",
       "      <td>11356.89</td>\n",
       "      <td>83.0</td>\n",
       "      <td>1950.0</td>\n",
       "      <td>ultra</td>\n",
       "    </tr>\n",
       "    <tr>\n",
       "      <th>1004</th>\n",
       "      <td>132.5</td>\n",
       "      <td>17810.53</td>\n",
       "      <td>154.5</td>\n",
       "      <td>1950.0</td>\n",
       "      <td>ultra</td>\n",
       "    </tr>\n",
       "  </tbody>\n",
       "</table>\n",
       "</div>"
      ],
      "text/plain": [
       "         duration   mb_used  messages  revenue tariff\n",
       "user_id                                              \n",
       "1000        339.0  14312.42      65.0   1950.0  ultra\n",
       "1001        422.0  16233.00       0.0    850.0  smart\n",
       "1002        214.0  17580.10      11.0   1150.0  smart\n",
       "1003        824.0  11356.89      83.0   1950.0  ultra\n",
       "1004        132.5  17810.53     154.5   1950.0  ultra"
      ]
     },
     "execution_count": 29,
     "metadata": {},
     "output_type": "execute_result"
    }
   ],
   "source": [
    "median = merged_pivot.pivot_table(index='user_id', values=['duration', 'messages', 'mb_used', 'revenue'], aggfunc='median')\n",
    "for user_id in users['user_id']:\n",
    "    median.loc[user_id, 'tariff'] = users.loc[user_id - 1000, 'tariff']\n",
    "median.head()"
   ]
  },
  {
   "cell_type": "markdown",
   "metadata": {},
   "source": [
    "Теперь можем поработать над представлением описательной статистики для тарифов:"
   ]
  },
  {
   "cell_type": "code",
   "execution_count": 30,
   "metadata": {
    "scrolled": true
   },
   "outputs": [
    {
     "data": {
      "text/html": [
       "<div>\n",
       "<style scoped>\n",
       "    .dataframe tbody tr th:only-of-type {\n",
       "        vertical-align: middle;\n",
       "    }\n",
       "\n",
       "    .dataframe tbody tr th {\n",
       "        vertical-align: top;\n",
       "    }\n",
       "\n",
       "    .dataframe thead tr th {\n",
       "        text-align: left;\n",
       "    }\n",
       "\n",
       "    .dataframe thead tr:last-of-type th {\n",
       "        text-align: right;\n",
       "    }\n",
       "</style>\n",
       "<table border=\"1\" class=\"dataframe\">\n",
       "  <thead>\n",
       "    <tr>\n",
       "      <th></th>\n",
       "      <th colspan=\"3\" halign=\"left\">duration</th>\n",
       "      <th colspan=\"3\" halign=\"left\">mb_used</th>\n",
       "      <th colspan=\"3\" halign=\"left\">messages</th>\n",
       "    </tr>\n",
       "    <tr>\n",
       "      <th></th>\n",
       "      <th>median</th>\n",
       "      <th>std</th>\n",
       "      <th>var</th>\n",
       "      <th>median</th>\n",
       "      <th>std</th>\n",
       "      <th>var</th>\n",
       "      <th>median</th>\n",
       "      <th>std</th>\n",
       "      <th>var</th>\n",
       "    </tr>\n",
       "    <tr>\n",
       "      <th>tariff</th>\n",
       "      <th></th>\n",
       "      <th></th>\n",
       "      <th></th>\n",
       "      <th></th>\n",
       "      <th></th>\n",
       "      <th></th>\n",
       "      <th></th>\n",
       "      <th></th>\n",
       "      <th></th>\n",
       "    </tr>\n",
       "  </thead>\n",
       "  <tbody>\n",
       "    <tr>\n",
       "      <th>smart</th>\n",
       "      <td>439.75</td>\n",
       "      <td>160.26620</td>\n",
       "      <td>25685.254992</td>\n",
       "      <td>16963.4425</td>\n",
       "      <td>4174.14787</td>\n",
       "      <td>1.742351e+07</td>\n",
       "      <td>28.5</td>\n",
       "      <td>28.010568</td>\n",
       "      <td>784.591946</td>\n",
       "    </tr>\n",
       "    <tr>\n",
       "      <th>ultra</th>\n",
       "      <td>537.00</td>\n",
       "      <td>303.88866</td>\n",
       "      <td>92348.317654</td>\n",
       "      <td>19809.9950</td>\n",
       "      <td>8756.77636</td>\n",
       "      <td>7.668113e+07</td>\n",
       "      <td>47.5</td>\n",
       "      <td>49.372989</td>\n",
       "      <td>2437.692084</td>\n",
       "    </tr>\n",
       "  </tbody>\n",
       "</table>\n",
       "</div>"
      ],
      "text/plain": [
       "       duration                              mb_used              \\\n",
       "         median        std           var      median         std   \n",
       "tariff                                                             \n",
       "smart    439.75  160.26620  25685.254992  16963.4425  4174.14787   \n",
       "ultra    537.00  303.88866  92348.317654  19809.9950  8756.77636   \n",
       "\n",
       "                     messages                          \n",
       "                 var   median        std          var  \n",
       "tariff                                                 \n",
       "smart   1.742351e+07     28.5  28.010568   784.591946  \n",
       "ultra   7.668113e+07     47.5  49.372989  2437.692084  "
      ]
     },
     "execution_count": 30,
     "metadata": {},
     "output_type": "execute_result"
    }
   ],
   "source": [
    "median.dropna(subset=['duration'], inplace=True)\n",
    "d_stats = median.pivot_table(index='tariff', values=['duration', 'messages', 'mb_used'],\n",
    "                             aggfunc={'duration': [np.median, np.var, np.std],\n",
    "                                      'messages': [np.median, np.var, np.std],\n",
    "                                      'mb_used': [np.median, np.var, np.std]\n",
    "                                     })\n",
    "d_stats"
   ]
  },
  {
   "cell_type": "code",
   "execution_count": 31,
   "metadata": {
    "scrolled": true
   },
   "outputs": [
    {
     "data": {
      "image/png": "[encoded data removed]",
      "text/plain": [
       "<Figure size 360x360 with 1 Axes>"
      ]
     },
     "metadata": {
      "needs_background": "light"
     },
     "output_type": "display_data"
    },
    {
     "data": {
      "image/png": "[encoded data removed]",
      "text/plain": [
       "<Figure size 360x360 with 1 Axes>"
      ]
     },
     "metadata": {
      "needs_background": "light"
     },
     "output_type": "display_data"
    },
    {
     "data": {
      "image/png": "[encoded data removed]",
      "text/plain": [
       "<Figure size 360x360 with 1 Axes>"
      ]
     },
     "metadata": {
      "needs_background": "light"
     },
     "output_type": "display_data"
    }
   ],
   "source": [
    "for column in ['duration', 'messages', 'mb_used']:    \n",
    "    sns.catplot(x=\"tariff\", y=column, kind=\"box\", data=median)"
   ]
  },
  {
   "cell_type": "markdown",
   "metadata": {},
   "source": [
    "Наглядно, что продолжительность звонков, количество сообщений и объем потребялемого трафика по тарифу \"Ультра\"  по сравнению с тарифом \"Смарт\" имеет большую дисперсию, а медианые показатели по всем параметрам использования тарифа больше. Также, выбросов в рамках тарифа \"Смарт\" заметно больше."
   ]
  },
  {
   "cell_type": "markdown",
   "metadata": {},
   "source": [
    "Попробуем углубиться и посмотреть как выглядит разброс показателей:"
   ]
  },
  {
   "cell_type": "code",
   "execution_count": 32,
   "metadata": {
    "scrolled": false
   },
   "outputs": [
    {
     "data": {
      "text/plain": [
       "array([<AxesSubplot:title={'center':'smart'}>,\n",
       "       <AxesSubplot:title={'center':'ultra'}>], dtype=object)"
      ]
     },
     "execution_count": 32,
     "metadata": {},
     "output_type": "execute_result"
    },
    {
     "data": {
      "image/png": "[encoded data removed]",
      "text/plain": [
       "<Figure size 432x288 with 2 Axes>"
      ]
     },
     "metadata": {
      "needs_background": "light"
     },
     "output_type": "display_data"
    }
   ],
   "source": [
    "median.hist(column='duration', by='tariff', bins=30)"
   ]
  },
  {
   "cell_type": "code",
   "execution_count": 33,
   "metadata": {
    "scrolled": true
   },
   "outputs": [
    {
     "data": {
      "text/plain": [
       "array([<AxesSubplot:title={'center':'smart'}>,\n",
       "       <AxesSubplot:title={'center':'ultra'}>], dtype=object)"
      ]
     },
     "execution_count": 33,
     "metadata": {},
     "output_type": "execute_result"
    },
    {
     "data": {
      "image/png": "[encoded data removed]",
      "text/plain": [
       "<Figure size 432x288 with 2 Axes>"
      ]
     },
     "metadata": {
      "needs_background": "light"
     },
     "output_type": "display_data"
    }
   ],
   "source": [
    "median.hist(column='messages', by='tariff', bins=30)"
   ]
  },
  {
   "cell_type": "code",
   "execution_count": 34,
   "metadata": {
    "scrolled": true
   },
   "outputs": [
    {
     "data": {
      "text/plain": [
       "array([<AxesSubplot:title={'center':'smart'}>,\n",
       "       <AxesSubplot:title={'center':'ultra'}>], dtype=object)"
      ]
     },
     "execution_count": 34,
     "metadata": {},
     "output_type": "execute_result"
    },
    {
     "data": {
      "image/png": "[encoded data removed]",
      "text/plain": [
       "<Figure size 432x288 with 2 Axes>"
      ]
     },
     "metadata": {
      "needs_background": "light"
     },
     "output_type": "display_data"
    }
   ],
   "source": [
    "median.hist(column='mb_used', by='tariff', bins=30)"
   ]
  },
  {
   "cell_type": "markdown",
   "metadata": {},
   "source": [
    "**Вывод**\n",
    "\n",
    "Гистрограммы показывают, что дисперсия по всем показателем тарифа \"Смарт\" меньше, чем у пользователей с более дорогим тарифом: по продолжительность звонков, по числу сообщений и объему потребялемого трафика.\n",
    "\n",
    "Можно судить о том, что паттерны использования возможностей тарифа среди пользователей \"Ультра\" более разнообразны. Пользователи дорогого тарифа ведут себя свободнее в выборе того, как им тратить доступные минуты, сообщения и гигабайты."
   ]
  },
  {
   "cell_type": "markdown",
   "metadata": {},
   "source": [
    "## Проверка гипотез"
   ]
  },
  {
   "cell_type": "markdown",
   "metadata": {},
   "source": [
    "Проверим гипотезу о том, что средняя выручка пользователей тарифов «Ультра» и «Смарт» различаются. Ниже будет использован тест для сравнения средних двух генеральных совокупностей между собой. Пусть критический уровень статистической значимости будет задан значением 0,01. Так как разброс данных по разным тарифам заметно отличается, передадим параметру \"equal_var\" значение False.\n",
    "За нулевую гипотезу следует принять обратное утверждение:\n",
    "- H0 - средняя выручка пользователей тарифа \"Ультра\" равна средней выручке пользователей тарифа \"Смарт\"\n",
    "- H1 - средняя выручка пользователей тарифов \"Ультра\" и \"Смарт\" различаются\n"
   ]
  },
  {
   "cell_type": "code",
   "execution_count": 35,
   "metadata": {},
   "outputs": [
    {
     "name": "stdout",
     "output_type": "stream",
     "text": [
      "p-значение: 5.22403940028982e-249\n",
      "Отвергаем нулевую гипотезу\n"
     ]
    }
   ],
   "source": [
    "smart = merged_pivot.query('tariff == \"smart\"')['revenue']\n",
    "ultra = merged_pivot.query('tariff == \"ultra\"')['revenue']\n",
    "alpha = 0.01\n",
    "\n",
    "results = st.ttest_ind(\n",
    "    ultra, \n",
    "    smart, \n",
    "    equal_var=False)\n",
    "\n",
    "print('p-значение:', results.pvalue)\n",
    "\n",
    "if results.pvalue < alpha:\n",
    "    print(\"Отвергаем нулевую гипотезу\")\n",
    "else:\n",
    "    print(\"Не получилось отвергнуть нулевую гипотезу\")"
   ]
  },
  {
   "cell_type": "code",
   "execution_count": 36,
   "metadata": {
    "scrolled": false
   },
   "outputs": [
    {
     "data": {
      "text/html": [
       "<div>\n",
       "<style scoped>\n",
       "    .dataframe tbody tr th:only-of-type {\n",
       "        vertical-align: middle;\n",
       "    }\n",
       "\n",
       "    .dataframe tbody tr th {\n",
       "        vertical-align: top;\n",
       "    }\n",
       "\n",
       "    .dataframe thead th {\n",
       "        text-align: right;\n",
       "    }\n",
       "</style>\n",
       "<table border=\"1\" class=\"dataframe\">\n",
       "  <thead>\n",
       "    <tr style=\"text-align: right;\">\n",
       "      <th></th>\n",
       "      <th>revenue</th>\n",
       "    </tr>\n",
       "    <tr>\n",
       "      <th>tariff</th>\n",
       "      <th></th>\n",
       "    </tr>\n",
       "  </thead>\n",
       "  <tbody>\n",
       "    <tr>\n",
       "      <th>smart</th>\n",
       "      <td>1026.5</td>\n",
       "    </tr>\n",
       "    <tr>\n",
       "      <th>ultra</th>\n",
       "      <td>1950.0</td>\n",
       "    </tr>\n",
       "  </tbody>\n",
       "</table>\n",
       "</div>"
      ],
      "text/plain": [
       "        revenue\n",
       "tariff         \n",
       "smart    1026.5\n",
       "ultra    1950.0"
      ]
     },
     "execution_count": 36,
     "metadata": {},
     "output_type": "execute_result"
    }
   ],
   "source": [
    "merged_pivot.pivot_table(index='tariff', values='revenue', aggfunc='median')"
   ]
  },
  {
   "cell_type": "code",
   "execution_count": 37,
   "metadata": {
    "scrolled": true
   },
   "outputs": [
    {
     "data": {
      "text/plain": [
       "<AxesSubplot:title={'center':'revenue'}, xlabel='tariff'>"
      ]
     },
     "execution_count": 37,
     "metadata": {},
     "output_type": "execute_result"
    },
    {
     "data": {
      "image/png": "[encoded data removed]",
      "text/plain": [
       "<Figure size 432x288 with 1 Axes>"
      ]
     },
     "metadata": {
      "needs_background": "light"
     },
     "output_type": "display_data"
    }
   ],
   "source": [
    "merged_pivot.boxplot(column='revenue', by='tariff')"
   ]
  },
  {
   "cell_type": "markdown",
   "metadata": {},
   "source": [
    "Средние показатели выручки по тарифам отличаются почти в 2 раза. Пользователь, у которого подключен тариф \"Смарт\" с ежемесячной платой в 550 рублей, с большой вероятностью по итогам месяца заплатит гораздо больше из-за нехватки доступных по условиям тарифа пакетов минут, сообщений и гигабайт.\n",
    "\n",
    "Можно сделать вывод о том, что доходы оператора от пользователей с тарифом \"Ультра\" действительно отличаются по сравнению с доходами от пользователей тарифа \"Смарт\"."
   ]
  },
  {
   "cell_type": "markdown",
   "metadata": {},
   "source": [
    "Похожим образом проверим гипотезу о том, что средняя выручка пользователей из Москвы отличается от выручки пользователей из других регионов:\n",
    "- H0 - средняя выручка пользователей из Москвы равна средней выручке пользователей из других регионов\n",
    "- H1 - средняя выручка пользователей из Москвы отличается от средней выручке пользователей из других регионов"
   ]
  },
  {
   "cell_type": "code",
   "execution_count": 38,
   "metadata": {},
   "outputs": [
    {
     "name": "stdout",
     "output_type": "stream",
     "text": [
      "p-значение: 0.5023167352991608\n",
      "Не получилось отвергнуть нулевую гипотезу\n"
     ]
    }
   ],
   "source": [
    "for user in merged_pivot.index:\n",
    "    merged_pivot.loc[user, 'city'] = users.loc[user[0]-1000, 'city']\n",
    "\n",
    "moscow = merged_pivot.query('city == \"Москва\"')['revenue']\n",
    "other_reg = merged_pivot.query('city != \"Москва\"')['revenue']\n",
    "\n",
    "alpha = 0.01\n",
    "\n",
    "results = st.ttest_ind(\n",
    "    moscow, \n",
    "    other_reg, \n",
    "    equal_var=False)\n",
    "\n",
    "print('p-значение:', results.pvalue)\n",
    "\n",
    "if results.pvalue < alpha:\n",
    "    print(\"Отвергаем нулевую гипотезу\")\n",
    "else:\n",
    "    print(\"Не получилось отвергнуть нулевую гипотезу\")"
   ]
  },
  {
   "cell_type": "code",
   "execution_count": 39,
   "metadata": {
    "scrolled": true
   },
   "outputs": [
    {
     "data": {
      "text/html": [
       "<div>\n",
       "<style scoped>\n",
       "    .dataframe tbody tr th:only-of-type {\n",
       "        vertical-align: middle;\n",
       "    }\n",
       "\n",
       "    .dataframe tbody tr th {\n",
       "        vertical-align: top;\n",
       "    }\n",
       "\n",
       "    .dataframe thead th {\n",
       "        text-align: right;\n",
       "    }\n",
       "</style>\n",
       "<table border=\"1\" class=\"dataframe\">\n",
       "  <thead>\n",
       "    <tr style=\"text-align: right;\">\n",
       "      <th></th>\n",
       "      <th>revenue</th>\n",
       "    </tr>\n",
       "    <tr>\n",
       "      <th>region</th>\n",
       "      <th></th>\n",
       "    </tr>\n",
       "  </thead>\n",
       "  <tbody>\n",
       "    <tr>\n",
       "      <th>Москва</th>\n",
       "      <td>1750.0</td>\n",
       "    </tr>\n",
       "    <tr>\n",
       "      <th>другие регионы</th>\n",
       "      <td>1575.0</td>\n",
       "    </tr>\n",
       "  </tbody>\n",
       "</table>\n",
       "</div>"
      ],
      "text/plain": [
       "                revenue\n",
       "region                 \n",
       "Москва           1750.0\n",
       "другие регионы   1575.0"
      ]
     },
     "execution_count": 39,
     "metadata": {},
     "output_type": "execute_result"
    }
   ],
   "source": [
    "def sort_reg(city):\n",
    "    if city == 'Москва': return 'Москва'\n",
    "    else: return 'другие регионы'\n",
    "    \n",
    "merged_pivot['region'] = merged_pivot['city'].apply(sort_reg)\n",
    "merged_pivot.pivot_table(index='region', values='revenue', aggfunc='median')"
   ]
  },
  {
   "cell_type": "code",
   "execution_count": 40,
   "metadata": {
    "scrolled": true
   },
   "outputs": [
    {
     "data": {
      "text/plain": [
       "<AxesSubplot:title={'center':'revenue'}, xlabel='region'>"
      ]
     },
     "execution_count": 40,
     "metadata": {},
     "output_type": "execute_result"
    },
    {
     "data": {
      "image/png": "[encoded data removed]",
      "text/plain": [
       "<Figure size 432x288 with 1 Axes>"
      ]
     },
     "metadata": {
      "needs_background": "light"
     },
     "output_type": "display_data"
    }
   ],
   "source": [
    "merged_pivot.boxplot(column='revenue', by='region')"
   ]
  },
  {
   "cell_type": "markdown",
   "metadata": {},
   "source": [
    "Результаты теста не опровергают нулевую гипотезу о том, что доходы от пользователей из Москвы и из других регионов равны. Видно, что доходы от пользователей в Москве не отличаются значительно от пользователей в других городах."
   ]
  },
  {
   "cell_type": "markdown",
   "metadata": {},
   "source": [
    "## Общий вывод"
   ]
  },
  {
   "cell_type": "markdown",
   "metadata": {},
   "source": [
    "Результаты анализа позволяют сделать следующие суждение о том, что доходы от клиентов с тарифом «Ультра» больше, чем от тарифа \"Смарт\". В среднем оператор \"Мегалайн\" получает от одного пользователя с дорогим тарифом 1950 рублей и 1026.5 рубля от пользователя с дешёвым тарифом.\n",
    "\n",
    "Кроме того были выявлены особенности использования тарифов оператора. Пользователи тарифа \"Смарт\" выходят за рамки тарифных пакетов, кроме обязательной абонентской платы в среднем пользователь доплачивает 476 рубля, что составляет 86,5% от базовой стоимости.\n",
    "Напротив, пользователи тарифа \"Ультра\", не тратят в полном объёме доступные им пакеты.\n",
    "\n",
    "Средние доходы от московских пользователей кардинально не разнятся с доходами от пользователей в других регионах. В среднем это 1750 рублей и 1575 рублей соответственно.\n",
    "\n",
    "Можно констатировать, что пользователи тарифа \"Смарт\" в половине случаев не укладываются в лимиты прожолжительности звонков и потребления интернет-траффика, но при оплате перерасходов по лимитам всё равно тратят в среднем меньше чем пользователи тарифа \"Ультра\"."
   ]
  }
 ],
 "metadata": {
  "ExecuteTimeLog": [
   {
    "duration": 5,
    "start_time": "2022-03-20T09:22:47.336Z"
   },
   {
    "duration": 99,
    "start_time": "2022-03-20T09:41:41.155Z"
   },
   {
    "duration": 4,
    "start_time": "2022-03-20T09:43:46.983Z"
   },
   {
    "duration": 1291,
    "start_time": "2022-03-20T09:47:51.066Z"
   },
   {
    "duration": 218,
    "start_time": "2022-03-20T09:48:00.955Z"
   },
   {
    "duration": 215,
    "start_time": "2022-03-20T09:48:06.248Z"
   },
   {
    "duration": 207,
    "start_time": "2022-03-20T09:48:16.219Z"
   },
   {
    "duration": 216,
    "start_time": "2022-03-20T09:48:29.987Z"
   },
   {
    "duration": 367,
    "start_time": "2022-03-20T09:48:46.924Z"
   },
   {
    "duration": 354,
    "start_time": "2022-03-20T09:49:10.569Z"
   },
   {
    "duration": 213,
    "start_time": "2022-03-20T09:49:53.402Z"
   },
   {
    "duration": 199,
    "start_time": "2022-03-20T09:50:39.028Z"
   },
   {
    "duration": 206,
    "start_time": "2022-03-20T09:50:43.580Z"
   },
   {
    "duration": 174,
    "start_time": "2022-03-20T09:51:07.253Z"
   },
   {
    "duration": 123,
    "start_time": "2022-03-20T09:51:31.242Z"
   },
   {
    "duration": 20,
    "start_time": "2022-03-20T09:51:54.954Z"
   },
   {
    "duration": 20,
    "start_time": "2022-03-20T09:52:07.613Z"
   },
   {
    "duration": 29,
    "start_time": "2022-03-20T09:52:31.495Z"
   },
   {
    "duration": 202,
    "start_time": "2022-03-20T09:52:36.622Z"
   },
   {
    "duration": 191,
    "start_time": "2022-03-20T09:52:36.827Z"
   },
   {
    "duration": 137,
    "start_time": "2022-03-20T09:52:37.021Z"
   },
   {
    "duration": 27,
    "start_time": "2022-03-20T09:52:37.162Z"
   },
   {
    "duration": 30,
    "start_time": "2022-03-20T09:52:37.192Z"
   },
   {
    "duration": 201,
    "start_time": "2022-03-20T09:53:15.455Z"
   },
   {
    "duration": 199,
    "start_time": "2022-03-20T09:53:28.675Z"
   },
   {
    "duration": 4,
    "start_time": "2022-03-20T09:53:33.762Z"
   },
   {
    "duration": 483,
    "start_time": "2022-03-20T10:03:28.127Z"
   },
   {
    "duration": 16,
    "start_time": "2022-03-20T10:03:40.838Z"
   },
   {
    "duration": 22,
    "start_time": "2022-03-20T10:03:51.470Z"
   },
   {
    "duration": 543,
    "start_time": "2022-03-20T10:03:58.581Z"
   },
   {
    "duration": 15,
    "start_time": "2022-03-20T10:04:00.293Z"
   },
   {
    "duration": 4,
    "start_time": "2022-03-20T10:04:13.030Z"
   },
   {
    "duration": 486,
    "start_time": "2022-03-20T10:04:14.561Z"
   },
   {
    "duration": 16,
    "start_time": "2022-03-20T10:04:16.214Z"
   },
   {
    "duration": 505,
    "start_time": "2022-03-20T10:04:23.644Z"
   },
   {
    "duration": 16,
    "start_time": "2022-03-20T10:04:25.950Z"
   },
   {
    "duration": 562,
    "start_time": "2022-03-20T10:06:32.917Z"
   },
   {
    "duration": 17,
    "start_time": "2022-03-20T10:06:34.701Z"
   },
   {
    "duration": 28,
    "start_time": "2022-03-20T10:07:21.121Z"
   },
   {
    "duration": 21,
    "start_time": "2022-03-20T10:07:48.151Z"
   },
   {
    "duration": 21,
    "start_time": "2022-03-20T10:07:55.878Z"
   },
   {
    "duration": 568,
    "start_time": "2022-03-20T10:08:05.206Z"
   },
   {
    "duration": 21,
    "start_time": "2022-03-20T10:08:07.037Z"
   },
   {
    "duration": 11,
    "start_time": "2022-03-20T10:08:42.943Z"
   },
   {
    "duration": 12,
    "start_time": "2022-03-20T10:08:56.238Z"
   },
   {
    "duration": 12,
    "start_time": "2022-03-20T10:09:06.294Z"
   },
   {
    "duration": 106,
    "start_time": "2022-03-20T10:09:15.030Z"
   },
   {
    "duration": 12,
    "start_time": "2022-03-20T10:09:19.647Z"
   },
   {
    "duration": 561,
    "start_time": "2022-03-20T10:09:31.337Z"
   },
   {
    "duration": 12,
    "start_time": "2022-03-20T10:09:33.814Z"
   },
   {
    "duration": 485,
    "start_time": "2022-03-20T10:11:33.679Z"
   },
   {
    "duration": 4,
    "start_time": "2022-03-20T10:11:35.960Z"
   },
   {
    "duration": 512,
    "start_time": "2022-03-20T10:11:35.967Z"
   },
   {
    "duration": 11,
    "start_time": "2022-03-20T10:11:36.482Z"
   },
   {
    "duration": 34,
    "start_time": "2022-03-20T10:11:36.495Z"
   },
   {
    "duration": 40,
    "start_time": "2022-03-20T10:11:36.532Z"
   },
   {
    "duration": 37,
    "start_time": "2022-03-20T10:11:36.574Z"
   },
   {
    "duration": 16,
    "start_time": "2022-03-20T10:12:00.152Z"
   },
   {
    "duration": 3,
    "start_time": "2022-03-20T10:20:04.443Z"
   },
   {
    "duration": 32,
    "start_time": "2022-03-20T10:20:11.235Z"
   },
   {
    "duration": 31,
    "start_time": "2022-03-20T10:20:25.156Z"
   },
   {
    "duration": 32,
    "start_time": "2022-03-20T10:20:30.210Z"
   },
   {
    "duration": 30,
    "start_time": "2022-03-20T10:20:38.730Z"
   },
   {
    "duration": 100,
    "start_time": "2022-03-20T10:21:04.322Z"
   },
   {
    "duration": 96,
    "start_time": "2022-03-20T10:21:08.331Z"
   },
   {
    "duration": 95,
    "start_time": "2022-03-20T10:21:12.194Z"
   },
   {
    "duration": 124,
    "start_time": "2022-03-20T10:21:56.900Z"
   },
   {
    "duration": 96,
    "start_time": "2022-03-20T10:22:08.951Z"
   },
   {
    "duration": 99,
    "start_time": "2022-03-20T10:22:13.941Z"
   },
   {
    "duration": 4,
    "start_time": "2022-03-20T10:30:17.858Z"
   },
   {
    "duration": 505,
    "start_time": "2022-03-20T10:30:17.864Z"
   },
   {
    "duration": 18,
    "start_time": "2022-03-20T10:30:18.371Z"
   },
   {
    "duration": 23,
    "start_time": "2022-03-20T10:30:18.392Z"
   },
   {
    "duration": 12,
    "start_time": "2022-03-20T10:30:18.418Z"
   },
   {
    "duration": 14,
    "start_time": "2022-03-20T10:30:18.432Z"
   },
   {
    "duration": 35,
    "start_time": "2022-03-20T10:30:18.448Z"
   },
   {
    "duration": 123,
    "start_time": "2022-03-20T10:30:18.485Z"
   },
   {
    "duration": 32,
    "start_time": "2022-03-20T10:40:40.184Z"
   },
   {
    "duration": 20,
    "start_time": "2022-03-20T10:40:45.807Z"
   },
   {
    "duration": 819,
    "start_time": "2022-03-20T10:41:18.394Z"
   },
   {
    "duration": 768,
    "start_time": "2022-03-20T10:42:12.608Z"
   },
   {
    "duration": 104,
    "start_time": "2022-03-20T10:43:02.954Z"
   },
   {
    "duration": 1207,
    "start_time": "2022-03-21T07:05:39.627Z"
   },
   {
    "duration": 508,
    "start_time": "2022-03-21T07:05:40.838Z"
   },
   {
    "duration": 18,
    "start_time": "2022-03-21T07:05:41.348Z"
   },
   {
    "duration": 16,
    "start_time": "2022-03-21T07:05:41.368Z"
   },
   {
    "duration": 19,
    "start_time": "2022-03-21T07:05:41.387Z"
   },
   {
    "duration": 33,
    "start_time": "2022-03-21T07:05:41.408Z"
   },
   {
    "duration": 16,
    "start_time": "2022-03-21T07:05:41.443Z"
   },
   {
    "duration": 24,
    "start_time": "2022-03-21T07:05:41.461Z"
   },
   {
    "duration": 108,
    "start_time": "2022-03-21T07:05:41.488Z"
   },
   {
    "duration": 118,
    "start_time": "2022-03-21T07:05:41.598Z"
   },
   {
    "duration": 112,
    "start_time": "2022-03-21T07:05:41.718Z"
   },
   {
    "duration": 0,
    "start_time": "2022-03-21T07:05:41.832Z"
   },
   {
    "duration": 4,
    "start_time": "2022-03-21T07:06:01.598Z"
   },
   {
    "duration": 587,
    "start_time": "2022-03-21T07:06:01.605Z"
   },
   {
    "duration": 18,
    "start_time": "2022-03-21T07:06:02.195Z"
   },
   {
    "duration": 18,
    "start_time": "2022-03-21T07:06:02.216Z"
   },
   {
    "duration": 23,
    "start_time": "2022-03-21T07:06:02.236Z"
   },
   {
    "duration": 27,
    "start_time": "2022-03-21T07:06:02.261Z"
   },
   {
    "duration": 20,
    "start_time": "2022-03-21T07:06:02.292Z"
   },
   {
    "duration": 23,
    "start_time": "2022-03-21T07:06:02.314Z"
   },
   {
    "duration": 129,
    "start_time": "2022-03-21T07:06:02.339Z"
   },
   {
    "duration": 121,
    "start_time": "2022-03-21T07:06:02.474Z"
   },
   {
    "duration": 10,
    "start_time": "2022-03-21T07:06:02.597Z"
   },
   {
    "duration": 6,
    "start_time": "2022-03-21T07:06:02.609Z"
   },
   {
    "duration": 5,
    "start_time": "2022-03-21T07:07:03.943Z"
   },
   {
    "duration": 728,
    "start_time": "2022-03-21T07:07:03.952Z"
   },
   {
    "duration": 16,
    "start_time": "2022-03-21T07:07:04.683Z"
   },
   {
    "duration": 29,
    "start_time": "2022-03-21T07:07:04.703Z"
   },
   {
    "duration": 29,
    "start_time": "2022-03-21T07:07:04.735Z"
   },
   {
    "duration": 31,
    "start_time": "2022-03-21T07:07:04.767Z"
   },
   {
    "duration": 25,
    "start_time": "2022-03-21T07:07:04.800Z"
   },
   {
    "duration": 41,
    "start_time": "2022-03-21T07:07:04.827Z"
   },
   {
    "duration": 110,
    "start_time": "2022-03-21T07:07:04.871Z"
   },
   {
    "duration": 169,
    "start_time": "2022-03-21T07:07:04.984Z"
   },
   {
    "duration": 20,
    "start_time": "2022-03-21T07:07:05.156Z"
   },
   {
    "duration": 16,
    "start_time": "2022-03-21T07:07:05.179Z"
   },
   {
    "duration": 32,
    "start_time": "2022-03-21T07:07:35.182Z"
   },
   {
    "duration": 10,
    "start_time": "2022-03-21T14:29:09.784Z"
   },
   {
    "duration": 6,
    "start_time": "2022-03-21T14:29:11.114Z"
   },
   {
    "duration": 17,
    "start_time": "2022-03-21T14:29:19.102Z"
   },
   {
    "duration": 7,
    "start_time": "2022-03-21T14:30:20.261Z"
   },
   {
    "duration": 15,
    "start_time": "2022-03-21T14:30:22.862Z"
   },
   {
    "duration": 93,
    "start_time": "2022-03-21T14:33:54.187Z"
   },
   {
    "duration": 46,
    "start_time": "2022-03-25T12:48:02.201Z"
   },
   {
    "duration": 767,
    "start_time": "2022-03-25T12:48:05.879Z"
   },
   {
    "duration": 389,
    "start_time": "2022-03-25T12:48:06.648Z"
   },
   {
    "duration": 13,
    "start_time": "2022-03-25T12:48:07.039Z"
   },
   {
    "duration": 26,
    "start_time": "2022-03-25T12:48:07.054Z"
   },
   {
    "duration": 29,
    "start_time": "2022-03-25T12:48:07.083Z"
   },
   {
    "duration": 34,
    "start_time": "2022-03-25T12:48:07.114Z"
   },
   {
    "duration": 59,
    "start_time": "2022-03-25T12:48:07.150Z"
   },
   {
    "duration": 37,
    "start_time": "2022-03-25T12:48:07.211Z"
   },
   {
    "duration": 109,
    "start_time": "2022-03-25T12:48:07.250Z"
   },
   {
    "duration": 123,
    "start_time": "2022-03-25T12:48:07.360Z"
   },
   {
    "duration": 9,
    "start_time": "2022-03-25T12:48:07.484Z"
   },
   {
    "duration": 23,
    "start_time": "2022-03-25T12:48:07.494Z"
   },
   {
    "duration": 67,
    "start_time": "2022-03-25T12:48:07.519Z"
   },
   {
    "duration": 10,
    "start_time": "2022-03-25T12:48:07.589Z"
   },
   {
    "duration": 40,
    "start_time": "2022-03-25T12:48:07.601Z"
   },
   {
    "duration": 42,
    "start_time": "2022-03-25T12:53:46.747Z"
   },
   {
    "duration": 11,
    "start_time": "2022-03-25T12:54:10.924Z"
   },
   {
    "duration": 23,
    "start_time": "2022-03-25T12:54:20.395Z"
   },
   {
    "duration": 22,
    "start_time": "2022-03-25T12:54:56.298Z"
   },
   {
    "duration": 142,
    "start_time": "2022-03-25T13:02:30.687Z"
   },
   {
    "duration": 9,
    "start_time": "2022-03-25T13:02:34.878Z"
   },
   {
    "duration": 1408,
    "start_time": "2022-04-01T07:31:50.541Z"
   },
   {
    "duration": 617,
    "start_time": "2022-04-01T07:31:51.954Z"
   },
   {
    "duration": 21,
    "start_time": "2022-04-01T07:31:52.573Z"
   },
   {
    "duration": 19,
    "start_time": "2022-04-01T07:31:52.596Z"
   },
   {
    "duration": 199,
    "start_time": "2022-04-01T07:31:52.619Z"
   },
   {
    "duration": 10,
    "start_time": "2022-04-01T07:31:52.820Z"
   },
   {
    "duration": 14,
    "start_time": "2022-04-01T07:31:52.832Z"
   },
   {
    "duration": 41,
    "start_time": "2022-04-01T07:31:52.848Z"
   },
   {
    "duration": 32,
    "start_time": "2022-04-01T07:31:52.891Z"
   },
   {
    "duration": 109,
    "start_time": "2022-04-01T07:31:52.925Z"
   },
   {
    "duration": 113,
    "start_time": "2022-04-01T07:31:53.036Z"
   },
   {
    "duration": 9,
    "start_time": "2022-04-01T07:31:53.151Z"
   },
   {
    "duration": 27,
    "start_time": "2022-04-01T07:31:53.163Z"
   },
   {
    "duration": 38,
    "start_time": "2022-04-01T07:31:53.195Z"
   },
   {
    "duration": 14,
    "start_time": "2022-04-01T07:31:53.235Z"
   },
   {
    "duration": 54,
    "start_time": "2022-04-01T07:32:02.627Z"
   },
   {
    "duration": 8,
    "start_time": "2022-04-01T07:32:04.219Z"
   },
   {
    "duration": 6,
    "start_time": "2022-04-01T07:32:05.762Z"
   },
   {
    "duration": 24,
    "start_time": "2022-04-01T07:32:07.722Z"
   },
   {
    "duration": 14,
    "start_time": "2022-04-01T07:32:09.210Z"
   },
   {
    "duration": 12,
    "start_time": "2022-04-01T07:33:42.200Z"
   },
   {
    "duration": 257,
    "start_time": "2022-04-01T07:50:25.460Z"
   },
   {
    "duration": 751,
    "start_time": "2022-04-21T23:17:27.919Z"
   },
   {
    "duration": 369,
    "start_time": "2022-04-21T23:17:28.672Z"
   },
   {
    "duration": 12,
    "start_time": "2022-04-21T23:17:29.043Z"
   },
   {
    "duration": 9,
    "start_time": "2022-04-21T23:17:29.057Z"
   },
   {
    "duration": 134,
    "start_time": "2022-04-21T23:17:29.067Z"
   },
   {
    "duration": 7,
    "start_time": "2022-04-21T23:17:29.203Z"
   },
   {
    "duration": 8,
    "start_time": "2022-04-21T23:17:29.212Z"
   },
   {
    "duration": 10,
    "start_time": "2022-04-21T23:17:29.221Z"
   },
   {
    "duration": 13,
    "start_time": "2022-04-21T23:17:29.233Z"
   },
   {
    "duration": 84,
    "start_time": "2022-04-21T23:17:29.248Z"
   },
   {
    "duration": 77,
    "start_time": "2022-04-21T23:17:29.334Z"
   },
   {
    "duration": 7,
    "start_time": "2022-04-21T23:17:29.412Z"
   },
   {
    "duration": 4,
    "start_time": "2022-04-21T23:17:29.420Z"
   },
   {
    "duration": 18,
    "start_time": "2022-04-21T23:17:29.426Z"
   },
   {
    "duration": 9,
    "start_time": "2022-04-21T23:17:29.445Z"
   },
   {
    "duration": 7,
    "start_time": "2022-04-21T23:17:29.455Z"
   },
   {
    "duration": 242,
    "start_time": "2022-04-21T23:17:29.464Z"
   },
   {
    "duration": 68,
    "start_time": "2022-04-21T23:17:29.707Z"
   },
   {
    "duration": 3,
    "start_time": "2022-04-21T23:17:49.193Z"
   },
   {
    "duration": 365,
    "start_time": "2022-04-21T23:17:49.197Z"
   },
   {
    "duration": 8,
    "start_time": "2022-04-21T23:17:49.563Z"
   },
   {
    "duration": 8,
    "start_time": "2022-04-21T23:17:49.574Z"
   },
   {
    "duration": 127,
    "start_time": "2022-04-21T23:17:49.583Z"
   },
   {
    "duration": 8,
    "start_time": "2022-04-21T23:17:49.711Z"
   },
   {
    "duration": 8,
    "start_time": "2022-04-21T23:17:49.720Z"
   },
   {
    "duration": 10,
    "start_time": "2022-04-21T23:17:49.729Z"
   },
   {
    "duration": 12,
    "start_time": "2022-04-21T23:17:49.740Z"
   },
   {
    "duration": 92,
    "start_time": "2022-04-21T23:17:49.754Z"
   },
   {
    "duration": 83,
    "start_time": "2022-04-21T23:17:49.848Z"
   },
   {
    "duration": 6,
    "start_time": "2022-04-21T23:17:49.933Z"
   },
   {
    "duration": 4,
    "start_time": "2022-04-21T23:17:49.941Z"
   },
   {
    "duration": 23,
    "start_time": "2022-04-21T23:17:49.946Z"
   },
   {
    "duration": 10,
    "start_time": "2022-04-21T23:17:49.970Z"
   },
   {
    "duration": 27,
    "start_time": "2022-04-21T23:17:49.981Z"
   },
   {
    "duration": 239,
    "start_time": "2022-04-21T23:17:50.010Z"
   },
   {
    "duration": 38,
    "start_time": "2022-04-21T23:18:40.193Z"
   },
   {
    "duration": 7,
    "start_time": "2022-04-21T23:18:47.688Z"
   },
   {
    "duration": 88,
    "start_time": "2022-04-21T23:19:49.480Z"
   },
   {
    "duration": 6,
    "start_time": "2022-04-21T23:19:50.476Z"
   },
   {
    "duration": 5,
    "start_time": "2022-04-21T23:19:51.527Z"
   },
   {
    "duration": 71,
    "start_time": "2022-04-21T23:25:16.404Z"
   },
   {
    "duration": 60,
    "start_time": "2022-04-21T23:26:00.747Z"
   },
   {
    "duration": 2,
    "start_time": "2022-04-21T23:44:13.515Z"
   },
   {
    "duration": 3,
    "start_time": "2022-04-21T23:44:14.883Z"
   },
   {
    "duration": 4,
    "start_time": "2022-04-21T23:50:37.734Z"
   },
   {
    "duration": 10,
    "start_time": "2022-04-21T23:50:55.621Z"
   },
   {
    "duration": 11,
    "start_time": "2022-04-21T23:51:54.317Z"
   },
   {
    "duration": 5,
    "start_time": "2022-04-21T23:51:57.565Z"
   },
   {
    "duration": 6,
    "start_time": "2022-04-21T23:52:07.861Z"
   },
   {
    "duration": 147,
    "start_time": "2022-04-21T23:54:14.887Z"
   },
   {
    "duration": 121,
    "start_time": "2022-04-21T23:54:26.182Z"
   },
   {
    "duration": 692,
    "start_time": "2022-04-21T23:56:01.603Z"
   },
   {
    "duration": 364,
    "start_time": "2022-04-21T23:56:02.297Z"
   },
   {
    "duration": 11,
    "start_time": "2022-04-21T23:56:02.662Z"
   },
   {
    "duration": 8,
    "start_time": "2022-04-21T23:56:02.675Z"
   },
   {
    "duration": 132,
    "start_time": "2022-04-21T23:56:02.684Z"
   },
   {
    "duration": 8,
    "start_time": "2022-04-21T23:56:02.817Z"
   },
   {
    "duration": 12,
    "start_time": "2022-04-21T23:56:02.827Z"
   },
   {
    "duration": 14,
    "start_time": "2022-04-21T23:56:02.840Z"
   },
   {
    "duration": 13,
    "start_time": "2022-04-21T23:56:02.856Z"
   },
   {
    "duration": 87,
    "start_time": "2022-04-21T23:56:02.872Z"
   },
   {
    "duration": 94,
    "start_time": "2022-04-21T23:56:02.961Z"
   },
   {
    "duration": 8,
    "start_time": "2022-04-21T23:56:03.057Z"
   },
   {
    "duration": 6,
    "start_time": "2022-04-21T23:56:03.067Z"
   },
   {
    "duration": 3,
    "start_time": "2022-04-21T23:56:03.075Z"
   },
   {
    "duration": 34,
    "start_time": "2022-04-21T23:56:03.080Z"
   },
   {
    "duration": 9,
    "start_time": "2022-04-21T23:56:03.116Z"
   },
   {
    "duration": 11,
    "start_time": "2022-04-21T23:56:03.127Z"
   },
   {
    "duration": 6,
    "start_time": "2022-04-21T23:56:03.140Z"
   },
   {
    "duration": 224,
    "start_time": "2022-04-21T23:56:03.148Z"
   },
   {
    "duration": 22,
    "start_time": "2022-04-21T23:57:28.451Z"
   },
   {
    "duration": 311,
    "start_time": "2022-04-21T23:57:31.640Z"
   },
   {
    "duration": 286,
    "start_time": "2022-04-22T00:00:03.487Z"
   },
   {
    "duration": 272,
    "start_time": "2022-04-22T00:00:22.446Z"
   },
   {
    "duration": 260,
    "start_time": "2022-04-22T00:01:45.736Z"
   },
   {
    "duration": 298,
    "start_time": "2022-04-22T00:01:52.304Z"
   },
   {
    "duration": 272,
    "start_time": "2022-04-22T00:01:56.863Z"
   },
   {
    "duration": 273,
    "start_time": "2022-04-22T00:02:11.944Z"
   },
   {
    "duration": 273,
    "start_time": "2022-04-22T00:02:35.736Z"
   },
   {
    "duration": 279,
    "start_time": "2022-04-22T00:03:05.273Z"
   },
   {
    "duration": 287,
    "start_time": "2022-04-22T00:03:10.297Z"
   },
   {
    "duration": 65,
    "start_time": "2022-04-22T00:04:26.217Z"
   },
   {
    "duration": 264,
    "start_time": "2022-04-22T00:04:41.160Z"
   },
   {
    "duration": 257,
    "start_time": "2022-04-22T00:04:47.288Z"
   },
   {
    "duration": 276,
    "start_time": "2022-04-22T00:04:56.830Z"
   },
   {
    "duration": 265,
    "start_time": "2022-04-22T00:05:35.296Z"
   },
   {
    "duration": 271,
    "start_time": "2022-04-22T00:05:52.059Z"
   },
   {
    "duration": 267,
    "start_time": "2022-04-22T00:05:56.512Z"
   },
   {
    "duration": 298,
    "start_time": "2022-04-22T00:06:19.290Z"
   },
   {
    "duration": 91,
    "start_time": "2022-04-22T00:07:23.450Z"
   },
   {
    "duration": 2,
    "start_time": "2022-04-22T00:14:24.090Z"
   },
   {
    "duration": 353,
    "start_time": "2022-04-22T00:14:24.094Z"
   },
   {
    "duration": 8,
    "start_time": "2022-04-22T00:14:24.449Z"
   },
   {
    "duration": 11,
    "start_time": "2022-04-22T00:14:24.459Z"
   },
   {
    "duration": 120,
    "start_time": "2022-04-22T00:14:24.472Z"
   },
   {
    "duration": 7,
    "start_time": "2022-04-22T00:14:24.594Z"
   },
   {
    "duration": 10,
    "start_time": "2022-04-22T00:14:24.602Z"
   },
   {
    "duration": 12,
    "start_time": "2022-04-22T00:14:24.613Z"
   },
   {
    "duration": 13,
    "start_time": "2022-04-22T00:14:24.628Z"
   },
   {
    "duration": 88,
    "start_time": "2022-04-22T00:14:24.643Z"
   },
   {
    "duration": 77,
    "start_time": "2022-04-22T00:14:24.733Z"
   },
   {
    "duration": 7,
    "start_time": "2022-04-22T00:14:24.812Z"
   },
   {
    "duration": 30,
    "start_time": "2022-04-22T00:14:24.820Z"
   },
   {
    "duration": 22,
    "start_time": "2022-04-22T00:14:24.852Z"
   },
   {
    "duration": 10,
    "start_time": "2022-04-22T00:14:24.875Z"
   },
   {
    "duration": 46,
    "start_time": "2022-04-22T00:14:27.842Z"
   },
   {
    "duration": 83,
    "start_time": "2022-04-22T00:14:33.363Z"
   },
   {
    "duration": 98,
    "start_time": "2022-04-22T00:15:20.051Z"
   },
   {
    "duration": 65,
    "start_time": "2022-04-22T00:18:05.019Z"
   },
   {
    "duration": 57,
    "start_time": "2022-04-22T00:19:10.003Z"
   },
   {
    "duration": 5,
    "start_time": "2022-04-22T00:19:16.514Z"
   },
   {
    "duration": 64,
    "start_time": "2022-04-22T00:19:18.163Z"
   },
   {
    "duration": 120,
    "start_time": "2022-04-22T00:19:33.540Z"
   },
   {
    "duration": 101,
    "start_time": "2022-04-22T00:19:39.295Z"
   },
   {
    "duration": 82,
    "start_time": "2022-04-22T00:20:23.813Z"
   },
   {
    "duration": 4,
    "start_time": "2022-04-22T00:25:44.061Z"
   },
   {
    "duration": 75,
    "start_time": "2022-04-22T00:27:21.502Z"
   },
   {
    "duration": 75,
    "start_time": "2022-04-22T00:29:03.480Z"
   },
   {
    "duration": 78,
    "start_time": "2022-04-22T00:29:08.014Z"
   },
   {
    "duration": 84,
    "start_time": "2022-04-22T00:29:43.105Z"
   },
   {
    "duration": 61,
    "start_time": "2022-04-22T00:30:40.159Z"
   },
   {
    "duration": 46,
    "start_time": "2022-04-22T00:32:33.569Z"
   },
   {
    "duration": 51,
    "start_time": "2022-04-22T00:32:40.593Z"
   },
   {
    "duration": 50,
    "start_time": "2022-04-22T00:32:48.729Z"
   },
   {
    "duration": 56,
    "start_time": "2022-04-22T00:34:07.953Z"
   },
   {
    "duration": 25,
    "start_time": "2022-04-22T00:36:46.700Z"
   },
   {
    "duration": 25,
    "start_time": "2022-04-22T00:36:49.898Z"
   },
   {
    "duration": 20,
    "start_time": "2022-04-22T00:36:55.986Z"
   },
   {
    "duration": 75,
    "start_time": "2022-04-22T00:37:19.043Z"
   },
   {
    "duration": 49,
    "start_time": "2022-04-22T00:37:20.780Z"
   },
   {
    "duration": 50,
    "start_time": "2022-04-22T00:37:21.908Z"
   },
   {
    "duration": 8,
    "start_time": "2022-04-22T01:23:41.128Z"
   },
   {
    "duration": 68,
    "start_time": "2022-04-22T01:24:07.638Z"
   },
   {
    "duration": 6,
    "start_time": "2022-04-22T01:24:13.704Z"
   },
   {
    "duration": 2,
    "start_time": "2022-04-22T01:25:00.436Z"
   },
   {
    "duration": 349,
    "start_time": "2022-04-22T01:25:00.441Z"
   },
   {
    "duration": 9,
    "start_time": "2022-04-22T01:25:00.791Z"
   },
   {
    "duration": 16,
    "start_time": "2022-04-22T01:25:00.802Z"
   },
   {
    "duration": 133,
    "start_time": "2022-04-22T01:25:00.820Z"
   },
   {
    "duration": 8,
    "start_time": "2022-04-22T01:25:00.954Z"
   },
   {
    "duration": 15,
    "start_time": "2022-04-22T01:25:00.964Z"
   },
   {
    "duration": 25,
    "start_time": "2022-04-22T01:25:00.981Z"
   },
   {
    "duration": 23,
    "start_time": "2022-04-22T01:25:01.009Z"
   },
   {
    "duration": 73,
    "start_time": "2022-04-22T01:25:01.034Z"
   },
   {
    "duration": 68,
    "start_time": "2022-04-22T01:25:01.109Z"
   },
   {
    "duration": 8,
    "start_time": "2022-04-22T01:25:01.179Z"
   },
   {
    "duration": 6,
    "start_time": "2022-04-22T01:25:01.208Z"
   },
   {
    "duration": 52,
    "start_time": "2022-04-22T01:25:01.215Z"
   },
   {
    "duration": 10,
    "start_time": "2022-04-22T01:25:01.270Z"
   },
   {
    "duration": 12,
    "start_time": "2022-04-22T01:25:01.281Z"
   },
   {
    "duration": 99,
    "start_time": "2022-04-22T01:25:01.308Z"
   },
   {
    "duration": 46,
    "start_time": "2022-04-22T01:25:01.409Z"
   },
   {
    "duration": 65,
    "start_time": "2022-04-22T01:25:01.457Z"
   },
   {
    "duration": 23,
    "start_time": "2022-04-22T01:25:01.523Z"
   },
   {
    "duration": 6,
    "start_time": "2022-04-22T01:25:01.548Z"
   },
   {
    "duration": 1000,
    "start_time": "2022-04-22T01:26:18.624Z"
   },
   {
    "duration": 68,
    "start_time": "2022-04-22T01:27:11.841Z"
   },
   {
    "duration": 1613,
    "start_time": "2022-04-22T01:34:52.597Z"
   },
   {
    "duration": 257,
    "start_time": "2022-04-22T01:35:17.944Z"
   },
   {
    "duration": 2,
    "start_time": "2022-04-22T01:40:22.907Z"
   },
   {
    "duration": 146,
    "start_time": "2022-04-26T11:09:44.175Z"
   },
   {
    "duration": 1347,
    "start_time": "2022-04-26T11:09:49.884Z"
   },
   {
    "duration": 582,
    "start_time": "2022-04-26T11:09:51.234Z"
   },
   {
    "duration": 20,
    "start_time": "2022-04-26T11:09:51.819Z"
   },
   {
    "duration": 32,
    "start_time": "2022-04-26T11:09:51.843Z"
   },
   {
    "duration": 208,
    "start_time": "2022-04-26T11:09:51.879Z"
   },
   {
    "duration": 14,
    "start_time": "2022-04-26T11:09:52.091Z"
   },
   {
    "duration": 18,
    "start_time": "2022-04-26T11:09:52.108Z"
   },
   {
    "duration": 29,
    "start_time": "2022-04-26T11:09:52.158Z"
   },
   {
    "duration": 32,
    "start_time": "2022-04-26T11:09:52.190Z"
   },
   {
    "duration": 185,
    "start_time": "2022-04-26T11:09:52.225Z"
   },
   {
    "duration": 199,
    "start_time": "2022-04-26T11:09:52.414Z"
   },
   {
    "duration": 12,
    "start_time": "2022-04-26T11:09:52.617Z"
   },
   {
    "duration": 29,
    "start_time": "2022-04-26T11:09:52.632Z"
   },
   {
    "duration": 115,
    "start_time": "2022-04-26T11:09:52.669Z"
   },
   {
    "duration": 23,
    "start_time": "2022-04-26T11:09:52.787Z"
   },
   {
    "duration": 14,
    "start_time": "2022-04-26T11:09:52.813Z"
   },
   {
    "duration": 324,
    "start_time": "2022-04-26T11:09:52.830Z"
   },
   {
    "duration": 0,
    "start_time": "2022-04-26T11:09:53.157Z"
   },
   {
    "duration": 0,
    "start_time": "2022-04-26T11:09:53.159Z"
   },
   {
    "duration": 0,
    "start_time": "2022-04-26T11:09:53.161Z"
   },
   {
    "duration": 0,
    "start_time": "2022-04-26T11:09:53.163Z"
   },
   {
    "duration": 0,
    "start_time": "2022-04-26T11:09:53.164Z"
   },
   {
    "duration": 0,
    "start_time": "2022-04-26T11:09:53.166Z"
   },
   {
    "duration": 0,
    "start_time": "2022-04-26T11:09:53.170Z"
   },
   {
    "duration": 7,
    "start_time": "2022-04-26T11:10:20.238Z"
   },
   {
    "duration": 566,
    "start_time": "2022-04-26T11:10:20.248Z"
   },
   {
    "duration": 12,
    "start_time": "2022-04-26T11:10:20.816Z"
   },
   {
    "duration": 23,
    "start_time": "2022-04-26T11:10:20.831Z"
   },
   {
    "duration": 306,
    "start_time": "2022-04-26T11:10:20.856Z"
   },
   {
    "duration": 13,
    "start_time": "2022-04-26T11:10:21.168Z"
   },
   {
    "duration": 28,
    "start_time": "2022-04-26T11:10:21.183Z"
   },
   {
    "duration": 21,
    "start_time": "2022-04-26T11:10:21.214Z"
   },
   {
    "duration": 26,
    "start_time": "2022-04-26T11:10:21.253Z"
   },
   {
    "duration": 174,
    "start_time": "2022-04-26T11:10:21.284Z"
   },
   {
    "duration": 177,
    "start_time": "2022-04-26T11:10:21.463Z"
   },
   {
    "duration": 20,
    "start_time": "2022-04-26T11:10:21.642Z"
   },
   {
    "duration": 20,
    "start_time": "2022-04-26T11:10:21.668Z"
   },
   {
    "duration": 95,
    "start_time": "2022-04-26T11:10:21.691Z"
   },
   {
    "duration": 20,
    "start_time": "2022-04-26T11:10:21.789Z"
   },
   {
    "duration": 8,
    "start_time": "2022-04-26T11:10:21.812Z"
   },
   {
    "duration": 144,
    "start_time": "2022-04-26T11:10:21.822Z"
   },
   {
    "duration": 0,
    "start_time": "2022-04-26T11:10:21.969Z"
   },
   {
    "duration": 0,
    "start_time": "2022-04-26T11:10:21.971Z"
   },
   {
    "duration": 0,
    "start_time": "2022-04-26T11:10:21.973Z"
   },
   {
    "duration": 0,
    "start_time": "2022-04-26T11:10:21.974Z"
   },
   {
    "duration": 0,
    "start_time": "2022-04-26T11:10:21.976Z"
   },
   {
    "duration": 0,
    "start_time": "2022-04-26T11:10:21.978Z"
   },
   {
    "duration": 0,
    "start_time": "2022-04-26T11:10:21.980Z"
   },
   {
    "duration": 137,
    "start_time": "2022-04-26T11:11:00.194Z"
   },
   {
    "duration": 899,
    "start_time": "2022-04-26T11:11:14.396Z"
   },
   {
    "duration": 548,
    "start_time": "2022-04-26T11:11:15.301Z"
   },
   {
    "duration": 24,
    "start_time": "2022-04-26T11:11:15.852Z"
   },
   {
    "duration": 13,
    "start_time": "2022-04-26T11:11:15.879Z"
   },
   {
    "duration": 280,
    "start_time": "2022-04-26T11:11:15.896Z"
   },
   {
    "duration": 13,
    "start_time": "2022-04-26T11:11:16.180Z"
   },
   {
    "duration": 19,
    "start_time": "2022-04-26T11:11:16.200Z"
   },
   {
    "duration": 50,
    "start_time": "2022-04-26T11:11:16.222Z"
   },
   {
    "duration": 43,
    "start_time": "2022-04-26T11:11:16.276Z"
   },
   {
    "duration": 116,
    "start_time": "2022-04-26T11:11:16.322Z"
   },
   {
    "duration": 187,
    "start_time": "2022-04-26T11:11:16.441Z"
   },
   {
    "duration": 8,
    "start_time": "2022-04-26T11:11:16.631Z"
   },
   {
    "duration": 10,
    "start_time": "2022-04-26T11:11:16.664Z"
   },
   {
    "duration": 119,
    "start_time": "2022-04-26T11:11:16.679Z"
   },
   {
    "duration": 18,
    "start_time": "2022-04-26T11:11:16.801Z"
   },
   {
    "duration": 5,
    "start_time": "2022-04-26T11:11:16.822Z"
   },
   {
    "duration": 260,
    "start_time": "2022-04-26T11:11:16.830Z"
   },
   {
    "duration": 0,
    "start_time": "2022-04-26T11:11:17.098Z"
   },
   {
    "duration": 0,
    "start_time": "2022-04-26T11:11:17.102Z"
   },
   {
    "duration": 0,
    "start_time": "2022-04-26T11:11:17.104Z"
   },
   {
    "duration": 0,
    "start_time": "2022-04-26T11:11:17.108Z"
   },
   {
    "duration": 0,
    "start_time": "2022-04-26T11:11:17.109Z"
   },
   {
    "duration": 0,
    "start_time": "2022-04-26T11:11:17.110Z"
   },
   {
    "duration": 0,
    "start_time": "2022-04-26T11:11:17.113Z"
   },
   {
    "duration": 5,
    "start_time": "2022-04-26T11:23:42.872Z"
   },
   {
    "duration": 606,
    "start_time": "2022-04-26T11:23:42.881Z"
   },
   {
    "duration": 14,
    "start_time": "2022-04-26T11:23:43.489Z"
   },
   {
    "duration": 14,
    "start_time": "2022-04-26T11:23:43.506Z"
   },
   {
    "duration": 216,
    "start_time": "2022-04-26T11:23:43.524Z"
   },
   {
    "duration": 18,
    "start_time": "2022-04-26T11:23:43.742Z"
   },
   {
    "duration": 42,
    "start_time": "2022-04-26T11:23:43.763Z"
   },
   {
    "duration": 17,
    "start_time": "2022-04-26T11:23:43.808Z"
   },
   {
    "duration": 45,
    "start_time": "2022-04-26T11:23:43.828Z"
   },
   {
    "duration": 132,
    "start_time": "2022-04-26T11:23:43.875Z"
   },
   {
    "duration": 134,
    "start_time": "2022-04-26T11:23:44.010Z"
   },
   {
    "duration": 8,
    "start_time": "2022-04-26T11:23:44.146Z"
   },
   {
    "duration": 33,
    "start_time": "2022-04-26T11:23:44.160Z"
   },
   {
    "duration": 91,
    "start_time": "2022-04-26T11:23:44.197Z"
   },
   {
    "duration": 20,
    "start_time": "2022-04-26T11:23:44.292Z"
   },
   {
    "duration": 13,
    "start_time": "2022-04-26T11:23:44.315Z"
   },
   {
    "duration": 160,
    "start_time": "2022-04-26T11:23:44.332Z"
   },
   {
    "duration": 0,
    "start_time": "2022-04-26T11:23:44.496Z"
   },
   {
    "duration": 0,
    "start_time": "2022-04-26T11:23:44.497Z"
   },
   {
    "duration": 0,
    "start_time": "2022-04-26T11:23:44.499Z"
   },
   {
    "duration": 0,
    "start_time": "2022-04-26T11:23:44.500Z"
   },
   {
    "duration": 0,
    "start_time": "2022-04-26T11:23:44.502Z"
   },
   {
    "duration": 0,
    "start_time": "2022-04-26T11:23:44.503Z"
   },
   {
    "duration": 0,
    "start_time": "2022-04-26T11:23:44.505Z"
   },
   {
    "duration": 9,
    "start_time": "2022-04-26T11:23:49.978Z"
   },
   {
    "duration": 611,
    "start_time": "2022-04-26T11:23:50.679Z"
   },
   {
    "duration": 13,
    "start_time": "2022-04-26T11:23:51.296Z"
   },
   {
    "duration": 19,
    "start_time": "2022-04-26T11:23:51.311Z"
   },
   {
    "duration": 268,
    "start_time": "2022-04-26T11:23:51.333Z"
   },
   {
    "duration": 14,
    "start_time": "2022-04-26T11:23:51.604Z"
   },
   {
    "duration": 15,
    "start_time": "2022-04-26T11:23:51.670Z"
   },
   {
    "duration": 15,
    "start_time": "2022-04-26T11:23:51.807Z"
   },
   {
    "duration": 19,
    "start_time": "2022-04-26T11:23:52.001Z"
   },
   {
    "duration": 167,
    "start_time": "2022-04-26T11:23:52.236Z"
   },
   {
    "duration": 166,
    "start_time": "2022-04-26T11:23:52.880Z"
   },
   {
    "duration": 8,
    "start_time": "2022-04-26T11:23:53.294Z"
   },
   {
    "duration": 6,
    "start_time": "2022-04-26T11:23:53.639Z"
   },
   {
    "duration": 74,
    "start_time": "2022-04-26T11:23:53.978Z"
   },
   {
    "duration": 14,
    "start_time": "2022-04-26T11:23:54.336Z"
   },
   {
    "duration": 7,
    "start_time": "2022-04-26T11:23:54.930Z"
   },
   {
    "duration": 120,
    "start_time": "2022-04-26T11:23:55.282Z"
   },
   {
    "duration": 67,
    "start_time": "2022-04-26T11:23:55.750Z"
   },
   {
    "duration": 79,
    "start_time": "2022-04-26T11:23:56.115Z"
   },
   {
    "duration": 200,
    "start_time": "2022-04-26T11:24:22.199Z"
   },
   {
    "duration": 175,
    "start_time": "2022-04-26T11:24:22.926Z"
   },
   {
    "duration": 56,
    "start_time": "2022-04-26T11:24:25.383Z"
   },
   {
    "duration": 60,
    "start_time": "2022-04-26T11:24:25.906Z"
   },
   {
    "duration": 56,
    "start_time": "2022-04-26T11:24:27.022Z"
   },
   {
    "duration": 106,
    "start_time": "2022-04-26T11:24:32.819Z"
   },
   {
    "duration": 119,
    "start_time": "2022-04-26T11:24:38.513Z"
   },
   {
    "duration": 19,
    "start_time": "2022-04-26T11:24:40.208Z"
   },
   {
    "duration": 23,
    "start_time": "2022-04-26T11:24:41.664Z"
   },
   {
    "duration": 22,
    "start_time": "2022-04-26T11:24:42.648Z"
   },
   {
    "duration": 34,
    "start_time": "2022-04-26T11:24:50.417Z"
   },
   {
    "duration": 9,
    "start_time": "2022-04-26T11:24:52.478Z"
   },
   {
    "duration": 1878,
    "start_time": "2022-04-26T11:24:53.646Z"
   },
   {
    "duration": 504,
    "start_time": "2022-04-26T11:24:56.869Z"
   },
   {
    "duration": 118,
    "start_time": "2022-04-26T11:25:00.456Z"
   },
   {
    "duration": 16,
    "start_time": "2022-04-26T11:25:06.176Z"
   },
   {
    "duration": 19,
    "start_time": "2022-04-26T11:25:22.330Z"
   },
   {
    "duration": 219,
    "start_time": "2022-04-26T11:25:26.297Z"
   },
   {
    "duration": 352,
    "start_time": "2022-04-26T11:25:57.135Z"
   },
   {
    "duration": 114,
    "start_time": "2022-04-26T11:55:58.820Z"
   },
   {
    "duration": 110,
    "start_time": "2022-04-26T11:56:29.136Z"
   },
   {
    "duration": 122,
    "start_time": "2022-04-26T11:56:51.498Z"
   },
   {
    "duration": 95,
    "start_time": "2022-04-26T11:56:58.409Z"
   },
   {
    "duration": 98,
    "start_time": "2022-04-26T11:57:40.440Z"
   },
   {
    "duration": 44,
    "start_time": "2022-04-26T11:58:25.535Z"
   },
   {
    "duration": 45,
    "start_time": "2022-04-26T11:58:40.836Z"
   },
   {
    "duration": 10,
    "start_time": "2022-04-26T12:02:53.558Z"
   },
   {
    "duration": 675,
    "start_time": "2022-04-26T12:03:10.860Z"
   },
   {
    "duration": 52,
    "start_time": "2022-04-26T12:03:13.783Z"
   },
   {
    "duration": 1191,
    "start_time": "2022-04-26T12:03:18.564Z"
   },
   {
    "duration": 1106,
    "start_time": "2022-04-26T12:06:56.888Z"
   },
   {
    "duration": 166,
    "start_time": "2022-04-26T12:13:28.568Z"
   },
   {
    "duration": 26,
    "start_time": "2022-04-26T12:15:13.756Z"
   },
   {
    "duration": 17,
    "start_time": "2022-04-26T12:16:38.276Z"
   },
   {
    "duration": 71,
    "start_time": "2022-04-26T12:17:20.030Z"
   },
   {
    "duration": 257,
    "start_time": "2022-04-26T12:18:03.307Z"
   },
   {
    "duration": 267,
    "start_time": "2022-04-26T12:24:57.634Z"
   },
   {
    "duration": 23,
    "start_time": "2022-04-26T12:25:14.302Z"
   },
   {
    "duration": 28,
    "start_time": "2022-04-26T12:25:24.131Z"
   },
   {
    "duration": 20,
    "start_time": "2022-04-26T12:27:00.466Z"
   },
   {
    "duration": 382,
    "start_time": "2022-04-26T12:27:59.700Z"
   },
   {
    "duration": 369,
    "start_time": "2022-04-26T12:29:20.321Z"
   },
   {
    "duration": 490,
    "start_time": "2022-04-26T12:29:26.341Z"
   },
   {
    "duration": 368,
    "start_time": "2022-04-26T12:29:31.131Z"
   },
   {
    "duration": 322,
    "start_time": "2022-04-26T12:29:36.394Z"
   },
   {
    "duration": 338,
    "start_time": "2022-04-26T12:30:51.927Z"
   },
   {
    "duration": 336,
    "start_time": "2022-04-26T12:30:57.133Z"
   },
   {
    "duration": 385,
    "start_time": "2022-04-26T12:31:01.502Z"
   },
   {
    "duration": 418,
    "start_time": "2022-04-26T12:31:06.472Z"
   },
   {
    "duration": 436,
    "start_time": "2022-04-26T12:31:16.727Z"
   },
   {
    "duration": 647,
    "start_time": "2022-04-26T12:31:24.074Z"
   },
   {
    "duration": 722,
    "start_time": "2022-04-26T12:31:36.284Z"
   },
   {
    "duration": 486,
    "start_time": "2022-04-26T12:31:44.447Z"
   },
   {
    "duration": 547,
    "start_time": "2022-04-26T12:31:48.447Z"
   },
   {
    "duration": 879,
    "start_time": "2022-04-26T12:32:05.836Z"
   },
   {
    "duration": 414,
    "start_time": "2022-04-26T12:32:10.784Z"
   },
   {
    "duration": 408,
    "start_time": "2022-04-26T12:33:06.288Z"
   },
   {
    "duration": 438,
    "start_time": "2022-04-26T12:33:16.241Z"
   },
   {
    "duration": 95,
    "start_time": "2022-04-26T15:48:46.865Z"
   },
   {
    "duration": 20,
    "start_time": "2022-04-26T15:49:56.870Z"
   },
   {
    "duration": 4,
    "start_time": "2022-04-26T15:50:30.875Z"
   },
   {
    "duration": 14,
    "start_time": "2022-04-26T15:50:34.763Z"
   },
   {
    "duration": 15,
    "start_time": "2022-04-26T15:51:05.274Z"
   },
   {
    "duration": 20,
    "start_time": "2022-04-26T15:51:51.219Z"
   },
   {
    "duration": 381,
    "start_time": "2022-04-26T15:52:47.725Z"
   },
   {
    "duration": 338,
    "start_time": "2022-04-26T15:52:54.433Z"
   },
   {
    "duration": 331,
    "start_time": "2022-04-26T15:53:09.084Z"
   },
   {
    "duration": 1842,
    "start_time": "2022-04-26T15:56:13.621Z"
   },
   {
    "duration": 1879,
    "start_time": "2022-04-26T15:56:21.399Z"
   },
   {
    "duration": 1841,
    "start_time": "2022-04-26T15:56:39.103Z"
   },
   {
    "duration": 20,
    "start_time": "2022-04-26T15:57:42.541Z"
   },
   {
    "duration": 21,
    "start_time": "2022-04-26T15:58:13.990Z"
   },
   {
    "duration": 220,
    "start_time": "2022-04-26T15:59:06.356Z"
   },
   {
    "duration": 4,
    "start_time": "2022-04-26T18:09:07.296Z"
   },
   {
    "duration": 468,
    "start_time": "2022-04-26T18:09:07.303Z"
   },
   {
    "duration": 11,
    "start_time": "2022-04-26T18:09:07.774Z"
   },
   {
    "duration": 13,
    "start_time": "2022-04-26T18:09:07.788Z"
   },
   {
    "duration": 180,
    "start_time": "2022-04-26T18:09:07.804Z"
   },
   {
    "duration": 10,
    "start_time": "2022-04-26T18:09:07.987Z"
   },
   {
    "duration": 21,
    "start_time": "2022-04-26T18:09:07.999Z"
   },
   {
    "duration": 42,
    "start_time": "2022-04-26T18:09:08.022Z"
   },
   {
    "duration": 24,
    "start_time": "2022-04-26T18:09:08.066Z"
   },
   {
    "duration": 121,
    "start_time": "2022-04-26T18:09:08.092Z"
   },
   {
    "duration": 181,
    "start_time": "2022-04-26T18:09:08.216Z"
   },
   {
    "duration": 7,
    "start_time": "2022-04-26T18:09:08.399Z"
   },
   {
    "duration": 6,
    "start_time": "2022-04-26T18:09:08.408Z"
   },
   {
    "duration": 107,
    "start_time": "2022-04-26T18:09:08.417Z"
   },
   {
    "duration": 26,
    "start_time": "2022-04-26T18:09:08.526Z"
   },
   {
    "duration": 8,
    "start_time": "2022-04-26T18:09:08.554Z"
   },
   {
    "duration": 213,
    "start_time": "2022-04-26T18:09:08.565Z"
   },
   {
    "duration": 129,
    "start_time": "2022-04-26T18:09:08.780Z"
   },
   {
    "duration": 248,
    "start_time": "2022-04-26T18:09:08.911Z"
   },
   {
    "duration": 47,
    "start_time": "2022-04-26T18:09:09.161Z"
   },
   {
    "duration": 11,
    "start_time": "2022-04-26T18:09:09.210Z"
   },
   {
    "duration": 2582,
    "start_time": "2022-04-26T18:09:11.756Z"
   },
   {
    "duration": 26,
    "start_time": "2022-04-26T18:10:27.763Z"
   },
   {
    "duration": 1499,
    "start_time": "2022-04-26T18:11:16.321Z"
   },
   {
    "duration": 486,
    "start_time": "2022-04-26T18:11:17.822Z"
   },
   {
    "duration": 17,
    "start_time": "2022-04-26T18:11:18.310Z"
   },
   {
    "duration": 13,
    "start_time": "2022-04-26T18:11:18.330Z"
   },
   {
    "duration": 178,
    "start_time": "2022-04-26T18:11:18.344Z"
   },
   {
    "duration": 10,
    "start_time": "2022-04-26T18:11:18.525Z"
   },
   {
    "duration": 12,
    "start_time": "2022-04-26T18:11:18.552Z"
   },
   {
    "duration": 15,
    "start_time": "2022-04-26T18:11:18.566Z"
   },
   {
    "duration": 24,
    "start_time": "2022-04-26T18:11:18.583Z"
   },
   {
    "duration": 127,
    "start_time": "2022-04-26T18:11:18.610Z"
   },
   {
    "duration": 132,
    "start_time": "2022-04-26T18:11:18.739Z"
   },
   {
    "duration": 10,
    "start_time": "2022-04-26T18:11:18.873Z"
   },
   {
    "duration": 8,
    "start_time": "2022-04-26T18:11:18.885Z"
   },
   {
    "duration": 101,
    "start_time": "2022-04-26T18:11:18.895Z"
   },
   {
    "duration": 15,
    "start_time": "2022-04-26T18:11:18.999Z"
   },
   {
    "duration": 7,
    "start_time": "2022-04-26T18:11:19.017Z"
   },
   {
    "duration": 230,
    "start_time": "2022-04-26T18:11:19.027Z"
   },
   {
    "duration": 134,
    "start_time": "2022-04-26T18:11:19.259Z"
   },
   {
    "duration": 157,
    "start_time": "2022-04-26T18:11:19.395Z"
   },
   {
    "duration": 35,
    "start_time": "2022-04-26T18:11:19.554Z"
   },
   {
    "duration": 10,
    "start_time": "2022-04-26T18:11:19.591Z"
   },
   {
    "duration": 8,
    "start_time": "2022-04-26T18:11:23.913Z"
   },
   {
    "duration": 38,
    "start_time": "2022-04-26T18:11:25.399Z"
   },
   {
    "duration": 25,
    "start_time": "2022-04-26T18:13:03.202Z"
   },
   {
    "duration": 4,
    "start_time": "2022-04-26T18:13:40.787Z"
   },
   {
    "duration": 558,
    "start_time": "2022-04-26T18:13:40.794Z"
   },
   {
    "duration": 13,
    "start_time": "2022-04-26T18:13:41.354Z"
   },
   {
    "duration": 27,
    "start_time": "2022-04-26T18:13:41.370Z"
   },
   {
    "duration": 189,
    "start_time": "2022-04-26T18:13:41.400Z"
   },
   {
    "duration": 10,
    "start_time": "2022-04-26T18:13:41.591Z"
   },
   {
    "duration": 16,
    "start_time": "2022-04-26T18:13:41.603Z"
   },
   {
    "duration": 35,
    "start_time": "2022-04-26T18:13:41.621Z"
   },
   {
    "duration": 22,
    "start_time": "2022-04-26T18:13:41.660Z"
   },
   {
    "duration": 120,
    "start_time": "2022-04-26T18:13:41.684Z"
   },
   {
    "duration": 116,
    "start_time": "2022-04-26T18:13:41.806Z"
   },
   {
    "duration": 7,
    "start_time": "2022-04-26T18:13:41.925Z"
   },
   {
    "duration": 18,
    "start_time": "2022-04-26T18:13:41.935Z"
   },
   {
    "duration": 73,
    "start_time": "2022-04-26T18:13:41.955Z"
   },
   {
    "duration": 34,
    "start_time": "2022-04-26T18:13:42.030Z"
   },
   {
    "duration": 8,
    "start_time": "2022-04-26T18:13:42.067Z"
   },
   {
    "duration": 225,
    "start_time": "2022-04-26T18:13:42.078Z"
   },
   {
    "duration": 125,
    "start_time": "2022-04-26T18:13:42.305Z"
   },
   {
    "duration": 151,
    "start_time": "2022-04-26T18:13:42.432Z"
   },
   {
    "duration": 32,
    "start_time": "2022-04-26T18:13:42.585Z"
   },
   {
    "duration": 34,
    "start_time": "2022-04-26T18:13:42.619Z"
   },
   {
    "duration": 1926,
    "start_time": "2022-04-26T18:13:42.655Z"
   },
   {
    "duration": 28,
    "start_time": "2022-04-26T18:13:44.583Z"
   },
   {
    "duration": 514,
    "start_time": "2022-04-26T18:13:44.617Z"
   },
   {
    "duration": 211,
    "start_time": "2022-04-26T18:13:45.134Z"
   },
   {
    "duration": 45,
    "start_time": "2022-04-26T18:13:45.352Z"
   },
   {
    "duration": 1191,
    "start_time": "2022-04-26T18:13:49.099Z"
   },
   {
    "duration": 407,
    "start_time": "2022-04-26T18:16:52.700Z"
   },
   {
    "duration": 391,
    "start_time": "2022-04-26T18:16:55.879Z"
   },
   {
    "duration": 498,
    "start_time": "2022-04-26T18:16:58.541Z"
   },
   {
    "duration": 16,
    "start_time": "2022-04-26T18:26:59.271Z"
   },
   {
    "duration": 18,
    "start_time": "2022-04-26T18:27:02.681Z"
   },
   {
    "duration": 199,
    "start_time": "2022-04-26T18:27:04.391Z"
   },
   {
    "duration": 15,
    "start_time": "2022-04-26T18:27:58.825Z"
   },
   {
    "duration": 2105,
    "start_time": "2022-04-26T18:43:53.836Z"
   },
   {
    "duration": 25,
    "start_time": "2022-04-26T18:43:59.147Z"
   },
   {
    "duration": 206,
    "start_time": "2022-04-26T18:44:05.064Z"
   },
   {
    "duration": 1536,
    "start_time": "2022-04-26T18:47:30.893Z"
   },
   {
    "duration": 527,
    "start_time": "2022-04-26T18:47:32.432Z"
   },
   {
    "duration": 17,
    "start_time": "2022-04-26T18:47:32.961Z"
   },
   {
    "duration": 30,
    "start_time": "2022-04-26T18:47:32.981Z"
   },
   {
    "duration": 191,
    "start_time": "2022-04-26T18:47:33.013Z"
   },
   {
    "duration": 10,
    "start_time": "2022-04-26T18:47:33.206Z"
   },
   {
    "duration": 35,
    "start_time": "2022-04-26T18:47:33.218Z"
   },
   {
    "duration": 22,
    "start_time": "2022-04-26T18:47:33.256Z"
   },
   {
    "duration": 52,
    "start_time": "2022-04-26T18:47:33.280Z"
   },
   {
    "duration": 128,
    "start_time": "2022-04-26T18:47:33.337Z"
   },
   {
    "duration": 119,
    "start_time": "2022-04-26T18:47:33.467Z"
   },
   {
    "duration": 8,
    "start_time": "2022-04-26T18:47:33.589Z"
   },
   {
    "duration": 20,
    "start_time": "2022-04-26T18:47:33.599Z"
   },
   {
    "duration": 85,
    "start_time": "2022-04-26T18:47:33.621Z"
   },
   {
    "duration": 15,
    "start_time": "2022-04-26T18:47:33.708Z"
   },
   {
    "duration": 29,
    "start_time": "2022-04-26T18:47:33.725Z"
   },
   {
    "duration": 211,
    "start_time": "2022-04-26T18:47:33.756Z"
   },
   {
    "duration": 128,
    "start_time": "2022-04-26T18:47:33.969Z"
   },
   {
    "duration": 152,
    "start_time": "2022-04-26T18:47:34.100Z"
   },
   {
    "duration": 43,
    "start_time": "2022-04-26T18:47:34.254Z"
   },
   {
    "duration": 11,
    "start_time": "2022-04-26T18:47:34.300Z"
   },
   {
    "duration": 2650,
    "start_time": "2022-04-26T18:47:34.314Z"
   },
   {
    "duration": 28,
    "start_time": "2022-04-26T18:47:36.966Z"
   },
   {
    "duration": 533,
    "start_time": "2022-04-26T18:47:36.996Z"
   },
   {
    "duration": 242,
    "start_time": "2022-04-26T18:47:37.531Z"
   },
   {
    "duration": 46,
    "start_time": "2022-04-26T18:47:37.776Z"
   },
   {
    "duration": 1142,
    "start_time": "2022-04-26T18:47:37.824Z"
   },
   {
    "duration": 437,
    "start_time": "2022-04-26T18:47:38.971Z"
   },
   {
    "duration": 419,
    "start_time": "2022-04-26T18:47:39.411Z"
   },
   {
    "duration": 536,
    "start_time": "2022-04-26T18:47:39.833Z"
   },
   {
    "duration": 16,
    "start_time": "2022-04-26T18:47:40.372Z"
   },
   {
    "duration": 23,
    "start_time": "2022-04-26T18:47:40.390Z"
   },
   {
    "duration": 241,
    "start_time": "2022-04-26T18:47:40.415Z"
   },
   {
    "duration": 1977,
    "start_time": "2022-04-26T18:47:40.658Z"
   },
   {
    "duration": 34,
    "start_time": "2022-04-26T18:47:42.637Z"
   },
   {
    "duration": 217,
    "start_time": "2022-04-26T18:47:42.673Z"
   },
   {
    "duration": 2015,
    "start_time": "2022-04-26T18:47:54.229Z"
   },
   {
    "duration": 1554,
    "start_time": "2022-04-26T18:58:53.344Z"
   },
   {
    "duration": 513,
    "start_time": "2022-04-26T18:58:54.901Z"
   },
   {
    "duration": 16,
    "start_time": "2022-04-26T18:58:55.417Z"
   },
   {
    "duration": 19,
    "start_time": "2022-04-26T18:58:55.435Z"
   },
   {
    "duration": 197,
    "start_time": "2022-04-26T18:58:55.457Z"
   },
   {
    "duration": 12,
    "start_time": "2022-04-26T18:58:55.656Z"
   },
   {
    "duration": 15,
    "start_time": "2022-04-26T18:58:55.670Z"
   },
   {
    "duration": 22,
    "start_time": "2022-04-26T18:58:55.687Z"
   },
   {
    "duration": 57,
    "start_time": "2022-04-26T18:58:55.712Z"
   },
   {
    "duration": 105,
    "start_time": "2022-04-26T18:58:55.771Z"
   },
   {
    "duration": 123,
    "start_time": "2022-04-26T18:58:55.879Z"
   },
   {
    "duration": 8,
    "start_time": "2022-04-26T18:58:56.005Z"
   },
   {
    "duration": 11,
    "start_time": "2022-04-26T18:58:56.015Z"
   },
   {
    "duration": 92,
    "start_time": "2022-04-26T18:58:56.030Z"
   },
   {
    "duration": 38,
    "start_time": "2022-04-26T18:58:56.125Z"
   },
   {
    "duration": 13,
    "start_time": "2022-04-26T18:58:56.165Z"
   },
   {
    "duration": 216,
    "start_time": "2022-04-26T18:58:56.180Z"
   },
   {
    "duration": 132,
    "start_time": "2022-04-26T18:58:56.398Z"
   },
   {
    "duration": 159,
    "start_time": "2022-04-26T18:58:56.532Z"
   },
   {
    "duration": 31,
    "start_time": "2022-04-26T18:58:56.693Z"
   },
   {
    "duration": 594,
    "start_time": "2022-04-26T18:58:56.726Z"
   },
   {
    "duration": 2236,
    "start_time": "2022-04-26T18:58:57.323Z"
   },
   {
    "duration": 28,
    "start_time": "2022-04-26T18:58:59.562Z"
   },
   {
    "duration": 521,
    "start_time": "2022-04-26T18:58:59.593Z"
   },
   {
    "duration": 237,
    "start_time": "2022-04-26T18:59:00.117Z"
   },
   {
    "duration": 44,
    "start_time": "2022-04-26T18:59:00.357Z"
   },
   {
    "duration": 1198,
    "start_time": "2022-04-26T18:59:00.403Z"
   },
   {
    "duration": 441,
    "start_time": "2022-04-26T18:59:01.604Z"
   },
   {
    "duration": 435,
    "start_time": "2022-04-26T18:59:02.047Z"
   },
   {
    "duration": 542,
    "start_time": "2022-04-26T18:59:02.485Z"
   },
   {
    "duration": 28,
    "start_time": "2022-04-26T18:59:03.030Z"
   },
   {
    "duration": 19,
    "start_time": "2022-04-26T18:59:03.061Z"
   },
   {
    "duration": 246,
    "start_time": "2022-04-26T18:59:03.082Z"
   },
   {
    "duration": 2110,
    "start_time": "2022-04-26T18:59:03.330Z"
   },
   {
    "duration": 35,
    "start_time": "2022-04-26T18:59:05.442Z"
   },
   {
    "duration": 250,
    "start_time": "2022-04-26T18:59:05.480Z"
   },
   {
    "duration": 1152,
    "start_time": "2022-04-26T19:41:30.841Z"
   },
   {
    "duration": 377,
    "start_time": "2022-04-26T19:41:31.995Z"
   },
   {
    "duration": 13,
    "start_time": "2022-04-26T19:41:32.374Z"
   },
   {
    "duration": 8,
    "start_time": "2022-04-26T19:41:32.510Z"
   },
   {
    "duration": 136,
    "start_time": "2022-04-26T19:41:32.864Z"
   },
   {
    "duration": 8,
    "start_time": "2022-04-26T19:41:33.248Z"
   },
   {
    "duration": 13,
    "start_time": "2022-04-26T19:41:33.616Z"
   },
   {
    "duration": 9,
    "start_time": "2022-04-26T19:41:33.959Z"
   },
   {
    "duration": 18,
    "start_time": "2022-04-26T19:41:34.337Z"
   },
   {
    "duration": 62,
    "start_time": "2022-04-26T19:41:34.647Z"
   },
   {
    "duration": 79,
    "start_time": "2022-04-26T19:41:35.965Z"
   },
   {
    "duration": 8,
    "start_time": "2022-04-26T19:41:36.634Z"
   },
   {
    "duration": 5,
    "start_time": "2022-04-26T19:41:37.307Z"
   },
   {
    "duration": 61,
    "start_time": "2022-04-26T19:41:37.982Z"
   },
   {
    "duration": 10,
    "start_time": "2022-04-26T19:41:38.646Z"
   },
   {
    "duration": 4,
    "start_time": "2022-04-26T19:41:39.651Z"
   },
   {
    "duration": 126,
    "start_time": "2022-04-26T19:41:40.274Z"
   },
   {
    "duration": 76,
    "start_time": "2022-04-26T19:41:40.881Z"
   },
   {
    "duration": 91,
    "start_time": "2022-04-26T19:41:41.465Z"
   },
   {
    "duration": 21,
    "start_time": "2022-04-26T19:41:42.062Z"
   },
   {
    "duration": 5,
    "start_time": "2022-04-26T19:41:42.696Z"
   },
   {
    "duration": 1030,
    "start_time": "2022-04-26T19:41:43.335Z"
   },
   {
    "duration": 16,
    "start_time": "2022-04-26T19:41:44.366Z"
   },
   {
    "duration": 262,
    "start_time": "2022-04-26T19:41:44.609Z"
   },
   {
    "duration": 122,
    "start_time": "2022-04-26T19:41:45.619Z"
   },
   {
    "duration": 27,
    "start_time": "2022-04-26T19:41:46.254Z"
   },
   {
    "duration": 795,
    "start_time": "2022-04-26T19:41:46.568Z"
   },
   {
    "duration": 233,
    "start_time": "2022-04-26T19:41:47.543Z"
   },
   {
    "duration": 245,
    "start_time": "2022-04-26T19:41:47.862Z"
   },
   {
    "duration": 332,
    "start_time": "2022-04-26T19:41:48.196Z"
   },
   {
    "duration": 12,
    "start_time": "2022-04-26T19:41:49.444Z"
   },
   {
    "duration": 11,
    "start_time": "2022-04-26T19:41:49.761Z"
   },
   {
    "duration": 123,
    "start_time": "2022-04-26T19:41:50.060Z"
   },
   {
    "duration": 1085,
    "start_time": "2022-04-26T19:41:50.953Z"
   },
   {
    "duration": 13,
    "start_time": "2022-04-26T19:41:52.040Z"
   },
   {
    "duration": 133,
    "start_time": "2022-04-26T19:41:52.055Z"
   },
   {
    "duration": 3,
    "start_time": "2022-04-26T19:43:16.460Z"
   },
   {
    "duration": 367,
    "start_time": "2022-04-26T19:43:17.341Z"
   },
   {
    "duration": 9,
    "start_time": "2022-04-26T19:43:18.342Z"
   },
   {
    "duration": 8,
    "start_time": "2022-04-26T19:43:19.099Z"
   },
   {
    "duration": 145,
    "start_time": "2022-04-26T19:43:19.560Z"
   },
   {
    "duration": 7,
    "start_time": "2022-04-26T19:43:20.153Z"
   },
   {
    "duration": 8,
    "start_time": "2022-04-26T19:43:20.608Z"
   },
   {
    "duration": 15,
    "start_time": "2022-04-26T19:43:21.027Z"
   },
   {
    "duration": 12,
    "start_time": "2022-04-26T19:43:21.909Z"
   },
   {
    "duration": 71,
    "start_time": "2022-04-26T19:43:22.531Z"
   },
   {
    "duration": 128,
    "start_time": "2022-04-26T19:43:57.517Z"
   },
   {
    "duration": 74,
    "start_time": "2022-04-26T19:44:10.729Z"
   },
   {
    "duration": 125,
    "start_time": "2022-04-26T19:46:27.979Z"
   },
   {
    "duration": 150,
    "start_time": "2022-04-26T19:49:18.321Z"
   },
   {
    "duration": 5,
    "start_time": "2022-04-26T19:52:57.033Z"
   },
   {
    "duration": 198,
    "start_time": "2022-04-26T19:52:57.767Z"
   },
   {
    "duration": 64,
    "start_time": "2022-04-26T19:52:58.412Z"
   },
   {
    "duration": 43,
    "start_time": "2022-04-26T19:53:06.194Z"
   },
   {
    "duration": 7,
    "start_time": "2022-04-26T19:53:06.937Z"
   },
   {
    "duration": 5,
    "start_time": "2022-04-26T19:53:08.099Z"
   },
   {
    "duration": 57,
    "start_time": "2022-04-26T19:53:09.022Z"
   },
   {
    "duration": 9,
    "start_time": "2022-04-26T19:53:09.889Z"
   },
   {
    "duration": 6,
    "start_time": "2022-04-26T19:53:11.946Z"
   },
   {
    "duration": 157,
    "start_time": "2022-04-26T19:53:13.901Z"
   },
   {
    "duration": 85,
    "start_time": "2022-04-26T19:53:15.379Z"
   },
   {
    "duration": 85,
    "start_time": "2022-04-26T19:53:16.577Z"
   },
   {
    "duration": 83,
    "start_time": "2022-04-26T19:53:27.063Z"
   },
   {
    "duration": 67,
    "start_time": "2022-04-26T19:53:28.039Z"
   },
   {
    "duration": 22,
    "start_time": "2022-04-26T19:53:28.957Z"
   },
   {
    "duration": 145,
    "start_time": "2022-04-26T19:54:30.551Z"
   },
   {
    "duration": 6,
    "start_time": "2022-04-26T19:54:55.896Z"
   },
   {
    "duration": 1049,
    "start_time": "2022-04-26T19:55:48.363Z"
   },
   {
    "duration": 26,
    "start_time": "2022-04-26T19:55:49.414Z"
   },
   {
    "duration": 1534,
    "start_time": "2022-04-26T19:56:43.126Z"
   },
   {
    "duration": 22,
    "start_time": "2022-04-26T19:56:44.662Z"
   },
   {
    "duration": 410,
    "start_time": "2022-04-26T19:57:07.175Z"
   },
   {
    "duration": 280,
    "start_time": "2022-04-26T19:57:47.214Z"
   },
   {
    "duration": 300,
    "start_time": "2022-04-26T19:58:23.375Z"
   },
   {
    "duration": 281,
    "start_time": "2022-04-26T19:58:28.606Z"
   },
   {
    "duration": 140,
    "start_time": "2022-04-26T19:59:40.045Z"
   },
   {
    "duration": 112,
    "start_time": "2022-04-26T19:59:55.299Z"
   },
   {
    "duration": 27,
    "start_time": "2022-04-26T19:59:59.187Z"
   },
   {
    "duration": 794,
    "start_time": "2022-04-26T20:00:01.263Z"
   },
   {
    "duration": 254,
    "start_time": "2022-04-26T20:00:04.313Z"
   },
   {
    "duration": 320,
    "start_time": "2022-04-26T20:00:04.973Z"
   },
   {
    "duration": 275,
    "start_time": "2022-04-26T20:00:08.691Z"
   },
   {
    "duration": 129,
    "start_time": "2022-04-26T20:02:56.722Z"
   },
   {
    "duration": 188,
    "start_time": "2022-04-26T20:04:06.921Z"
   },
   {
    "duration": 150,
    "start_time": "2022-04-26T20:09:59.847Z"
   },
   {
    "duration": 161,
    "start_time": "2022-04-26T20:10:26.314Z"
   },
   {
    "duration": 138,
    "start_time": "2022-04-26T20:15:29.913Z"
   },
   {
    "duration": 70,
    "start_time": "2022-04-28T05:24:42.020Z"
   },
   {
    "duration": 1869,
    "start_time": "2022-04-28T05:24:45.842Z"
   },
   {
    "duration": 512,
    "start_time": "2022-04-28T05:24:47.714Z"
   },
   {
    "duration": 20,
    "start_time": "2022-04-28T05:24:48.229Z"
   },
   {
    "duration": 14,
    "start_time": "2022-04-28T05:24:48.253Z"
   },
   {
    "duration": 202,
    "start_time": "2022-04-28T05:24:48.269Z"
   },
   {
    "duration": 14,
    "start_time": "2022-04-28T05:24:48.473Z"
   },
   {
    "duration": 13,
    "start_time": "2022-04-28T05:24:48.489Z"
   },
   {
    "duration": 20,
    "start_time": "2022-04-28T05:24:48.504Z"
   },
   {
    "duration": 24,
    "start_time": "2022-04-28T05:24:48.526Z"
   },
   {
    "duration": 104,
    "start_time": "2022-04-28T05:24:48.581Z"
   },
   {
    "duration": 126,
    "start_time": "2022-04-28T05:24:48.687Z"
   },
   {
    "duration": 7,
    "start_time": "2022-04-28T05:24:48.816Z"
   },
   {
    "duration": 87,
    "start_time": "2022-04-28T05:24:48.825Z"
   },
   {
    "duration": 13,
    "start_time": "2022-04-28T05:24:48.914Z"
   },
   {
    "duration": 11,
    "start_time": "2022-04-28T05:24:48.929Z"
   },
   {
    "duration": 231,
    "start_time": "2022-04-28T05:24:48.943Z"
   },
   {
    "duration": 135,
    "start_time": "2022-04-28T05:24:49.176Z"
   },
   {
    "duration": 155,
    "start_time": "2022-04-28T05:24:49.314Z"
   },
   {
    "duration": 37,
    "start_time": "2022-04-28T05:24:49.471Z"
   },
   {
    "duration": 7,
    "start_time": "2022-04-28T05:24:49.511Z"
   },
   {
    "duration": 1868,
    "start_time": "2022-04-28T05:24:49.520Z"
   },
   {
    "duration": 27,
    "start_time": "2022-04-28T05:24:51.390Z"
   },
   {
    "duration": 495,
    "start_time": "2022-04-28T05:24:51.419Z"
   },
   {
    "duration": 220,
    "start_time": "2022-04-28T05:24:51.916Z"
   },
   {
    "duration": 63,
    "start_time": "2022-04-28T05:24:52.139Z"
   },
   {
    "duration": 1219,
    "start_time": "2022-04-28T05:24:52.205Z"
   },
   {
    "duration": 421,
    "start_time": "2022-04-28T05:24:53.427Z"
   },
   {
    "duration": 426,
    "start_time": "2022-04-28T05:24:53.855Z"
   },
   {
    "duration": 538,
    "start_time": "2022-04-28T05:24:54.284Z"
   },
   {
    "duration": 15,
    "start_time": "2022-04-28T05:24:54.824Z"
   },
   {
    "duration": 41,
    "start_time": "2022-04-28T05:24:54.842Z"
   },
   {
    "duration": 223,
    "start_time": "2022-04-28T05:24:54.885Z"
   },
   {
    "duration": 2040,
    "start_time": "2022-04-28T05:24:55.111Z"
   },
   {
    "duration": 34,
    "start_time": "2022-04-28T05:24:57.153Z"
   },
   {
    "duration": 215,
    "start_time": "2022-04-28T05:24:57.189Z"
   },
   {
    "duration": 9,
    "start_time": "2022-04-28T05:25:38.148Z"
   },
   {
    "duration": 5,
    "start_time": "2022-04-28T05:25:42.104Z"
   },
   {
    "duration": 517,
    "start_time": "2022-04-28T05:25:42.111Z"
   },
   {
    "duration": 11,
    "start_time": "2022-04-28T05:25:42.630Z"
   },
   {
    "duration": 13,
    "start_time": "2022-04-28T05:25:42.644Z"
   },
   {
    "duration": 184,
    "start_time": "2022-04-28T05:25:42.659Z"
   },
   {
    "duration": 10,
    "start_time": "2022-04-28T05:25:42.846Z"
   },
   {
    "duration": 30,
    "start_time": "2022-04-28T05:25:42.858Z"
   },
   {
    "duration": 15,
    "start_time": "2022-04-28T05:25:42.890Z"
   },
   {
    "duration": 22,
    "start_time": "2022-04-28T05:25:42.908Z"
   },
   {
    "duration": 123,
    "start_time": "2022-04-28T05:25:42.934Z"
   },
   {
    "duration": 115,
    "start_time": "2022-04-28T05:25:43.059Z"
   },
   {
    "duration": 7,
    "start_time": "2022-04-28T05:25:43.182Z"
   },
   {
    "duration": 91,
    "start_time": "2022-04-28T05:25:43.192Z"
   },
   {
    "duration": 13,
    "start_time": "2022-04-28T05:25:43.285Z"
   },
   {
    "duration": 19,
    "start_time": "2022-04-28T05:25:43.301Z"
   },
   {
    "duration": 211,
    "start_time": "2022-04-28T05:25:43.322Z"
   },
   {
    "duration": 125,
    "start_time": "2022-04-28T05:25:43.535Z"
   },
   {
    "duration": 142,
    "start_time": "2022-04-28T05:25:43.662Z"
   },
   {
    "duration": 33,
    "start_time": "2022-04-28T05:25:43.806Z"
   },
   {
    "duration": 7,
    "start_time": "2022-04-28T05:25:43.841Z"
   },
   {
    "duration": 1880,
    "start_time": "2022-04-28T05:25:43.850Z"
   },
   {
    "duration": 27,
    "start_time": "2022-04-28T05:25:45.732Z"
   },
   {
    "duration": 496,
    "start_time": "2022-04-28T05:25:45.761Z"
   },
   {
    "duration": 224,
    "start_time": "2022-04-28T05:25:46.259Z"
   },
   {
    "duration": 45,
    "start_time": "2022-04-28T05:25:46.485Z"
   },
   {
    "duration": 1142,
    "start_time": "2022-04-28T05:25:46.532Z"
   },
   {
    "duration": 426,
    "start_time": "2022-04-28T05:25:47.676Z"
   },
   {
    "duration": 425,
    "start_time": "2022-04-28T05:25:48.107Z"
   },
   {
    "duration": 530,
    "start_time": "2022-04-28T05:25:48.534Z"
   },
   {
    "duration": 24,
    "start_time": "2022-04-28T05:25:49.066Z"
   },
   {
    "duration": 19,
    "start_time": "2022-04-28T05:25:49.092Z"
   },
   {
    "duration": 230,
    "start_time": "2022-04-28T05:25:49.112Z"
   },
   {
    "duration": 2014,
    "start_time": "2022-04-28T05:25:49.344Z"
   },
   {
    "duration": 30,
    "start_time": "2022-04-28T05:25:51.361Z"
   },
   {
    "duration": 220,
    "start_time": "2022-04-28T05:25:51.393Z"
   },
   {
    "duration": 6,
    "start_time": "2022-04-28T05:27:12.170Z"
   },
   {
    "duration": 5,
    "start_time": "2022-04-28T05:27:30.215Z"
   },
   {
    "duration": 589,
    "start_time": "2022-04-28T05:27:30.222Z"
   },
   {
    "duration": 12,
    "start_time": "2022-04-28T05:27:30.813Z"
   },
   {
    "duration": 17,
    "start_time": "2022-04-28T05:27:30.828Z"
   },
   {
    "duration": 192,
    "start_time": "2022-04-28T05:27:30.848Z"
   },
   {
    "duration": 11,
    "start_time": "2022-04-28T05:27:31.042Z"
   },
   {
    "duration": 63,
    "start_time": "2022-04-28T05:27:31.055Z"
   },
   {
    "duration": 61,
    "start_time": "2022-04-28T05:27:31.120Z"
   },
   {
    "duration": 35,
    "start_time": "2022-04-28T05:27:31.184Z"
   },
   {
    "duration": 110,
    "start_time": "2022-04-28T05:27:31.225Z"
   },
   {
    "duration": 121,
    "start_time": "2022-04-28T05:27:31.337Z"
   },
   {
    "duration": 4,
    "start_time": "2022-04-28T05:27:31.461Z"
   },
   {
    "duration": 83,
    "start_time": "2022-04-28T05:27:31.468Z"
   },
   {
    "duration": 29,
    "start_time": "2022-04-28T05:27:31.553Z"
   },
   {
    "duration": 7,
    "start_time": "2022-04-28T05:27:31.584Z"
   },
   {
    "duration": 223,
    "start_time": "2022-04-28T05:27:31.593Z"
   },
   {
    "duration": 139,
    "start_time": "2022-04-28T05:27:31.819Z"
   },
   {
    "duration": 162,
    "start_time": "2022-04-28T05:27:31.960Z"
   },
   {
    "duration": 33,
    "start_time": "2022-04-28T05:27:32.124Z"
   },
   {
    "duration": 26,
    "start_time": "2022-04-28T05:27:32.160Z"
   },
   {
    "duration": 1977,
    "start_time": "2022-04-28T05:27:32.188Z"
   },
   {
    "duration": 33,
    "start_time": "2022-04-28T05:27:34.167Z"
   },
   {
    "duration": 503,
    "start_time": "2022-04-28T05:27:34.203Z"
   },
   {
    "duration": 230,
    "start_time": "2022-04-28T05:27:34.708Z"
   },
   {
    "duration": 56,
    "start_time": "2022-04-28T05:27:34.940Z"
   },
   {
    "duration": 1129,
    "start_time": "2022-04-28T05:27:34.999Z"
   },
   {
    "duration": 441,
    "start_time": "2022-04-28T05:27:36.130Z"
   },
   {
    "duration": 421,
    "start_time": "2022-04-28T05:27:36.576Z"
   },
   {
    "duration": 567,
    "start_time": "2022-04-28T05:27:36.999Z"
   },
   {
    "duration": 25,
    "start_time": "2022-04-28T05:27:37.568Z"
   },
   {
    "duration": 19,
    "start_time": "2022-04-28T05:27:37.596Z"
   },
   {
    "duration": 235,
    "start_time": "2022-04-28T05:27:37.617Z"
   },
   {
    "duration": 2074,
    "start_time": "2022-04-28T05:27:37.854Z"
   },
   {
    "duration": 21,
    "start_time": "2022-04-28T05:27:39.930Z"
   },
   {
    "duration": 234,
    "start_time": "2022-04-28T05:27:39.953Z"
   },
   {
    "duration": 256,
    "start_time": "2022-04-28T11:29:24.051Z"
   },
   {
    "duration": 69,
    "start_time": "2022-04-29T16:04:15.151Z"
   },
   {
    "duration": 1772,
    "start_time": "2022-04-29T16:04:20.368Z"
   },
   {
    "duration": 483,
    "start_time": "2022-04-29T16:04:22.143Z"
   },
   {
    "duration": 20,
    "start_time": "2022-04-29T16:04:22.628Z"
   },
   {
    "duration": 12,
    "start_time": "2022-04-29T16:04:22.650Z"
   },
   {
    "duration": 192,
    "start_time": "2022-04-29T16:04:22.667Z"
   },
   {
    "duration": 12,
    "start_time": "2022-04-29T16:04:22.862Z"
   },
   {
    "duration": 13,
    "start_time": "2022-04-29T16:04:22.876Z"
   },
   {
    "duration": 14,
    "start_time": "2022-04-29T16:04:22.892Z"
   },
   {
    "duration": 61,
    "start_time": "2022-04-29T16:04:22.908Z"
   },
   {
    "duration": 100,
    "start_time": "2022-04-29T16:04:22.971Z"
   },
   {
    "duration": 120,
    "start_time": "2022-04-29T16:04:23.073Z"
   },
   {
    "duration": 6,
    "start_time": "2022-04-29T16:04:23.195Z"
   },
   {
    "duration": 86,
    "start_time": "2022-04-29T16:04:23.203Z"
   },
   {
    "duration": 12,
    "start_time": "2022-04-29T16:04:23.293Z"
   },
   {
    "duration": 6,
    "start_time": "2022-04-29T16:04:23.308Z"
   },
   {
    "duration": 202,
    "start_time": "2022-04-29T16:04:23.316Z"
   },
   {
    "duration": 250,
    "start_time": "2022-04-29T16:04:23.520Z"
   },
   {
    "duration": 0,
    "start_time": "2022-04-29T16:04:23.772Z"
   },
   {
    "duration": 0,
    "start_time": "2022-04-29T16:04:23.774Z"
   },
   {
    "duration": 0,
    "start_time": "2022-04-29T16:04:23.775Z"
   },
   {
    "duration": 0,
    "start_time": "2022-04-29T16:04:23.776Z"
   },
   {
    "duration": 0,
    "start_time": "2022-04-29T16:04:23.778Z"
   },
   {
    "duration": 0,
    "start_time": "2022-04-29T16:04:23.779Z"
   },
   {
    "duration": 0,
    "start_time": "2022-04-29T16:04:23.781Z"
   },
   {
    "duration": 0,
    "start_time": "2022-04-29T16:04:23.782Z"
   },
   {
    "duration": 0,
    "start_time": "2022-04-29T16:04:23.784Z"
   },
   {
    "duration": 0,
    "start_time": "2022-04-29T16:04:23.785Z"
   },
   {
    "duration": 0,
    "start_time": "2022-04-29T16:04:23.786Z"
   },
   {
    "duration": 0,
    "start_time": "2022-04-29T16:04:23.787Z"
   },
   {
    "duration": 0,
    "start_time": "2022-04-29T16:04:23.789Z"
   },
   {
    "duration": 0,
    "start_time": "2022-04-29T16:04:23.790Z"
   },
   {
    "duration": 0,
    "start_time": "2022-04-29T16:04:23.792Z"
   },
   {
    "duration": 0,
    "start_time": "2022-04-29T16:04:23.793Z"
   },
   {
    "duration": 0,
    "start_time": "2022-04-29T16:04:23.795Z"
   },
   {
    "duration": 0,
    "start_time": "2022-04-29T16:04:23.797Z"
   },
   {
    "duration": 0,
    "start_time": "2022-04-29T16:04:23.798Z"
   },
   {
    "duration": 1533,
    "start_time": "2022-04-29T16:04:59.347Z"
   },
   {
    "duration": 492,
    "start_time": "2022-04-29T16:05:00.883Z"
   },
   {
    "duration": 17,
    "start_time": "2022-04-29T16:05:01.377Z"
   },
   {
    "duration": 45,
    "start_time": "2022-04-29T16:05:01.395Z"
   },
   {
    "duration": 193,
    "start_time": "2022-04-29T16:05:01.443Z"
   },
   {
    "duration": 13,
    "start_time": "2022-04-29T16:05:01.639Z"
   },
   {
    "duration": 30,
    "start_time": "2022-04-29T16:05:01.654Z"
   },
   {
    "duration": 51,
    "start_time": "2022-04-29T16:05:01.686Z"
   },
   {
    "duration": 48,
    "start_time": "2022-04-29T16:05:01.739Z"
   },
   {
    "duration": 102,
    "start_time": "2022-04-29T16:05:01.789Z"
   },
   {
    "duration": 120,
    "start_time": "2022-04-29T16:05:01.893Z"
   },
   {
    "duration": 6,
    "start_time": "2022-04-29T16:05:02.015Z"
   },
   {
    "duration": 86,
    "start_time": "2022-04-29T16:05:02.023Z"
   },
   {
    "duration": 12,
    "start_time": "2022-04-29T16:05:02.114Z"
   },
   {
    "duration": 23,
    "start_time": "2022-04-29T16:05:02.128Z"
   },
   {
    "duration": 211,
    "start_time": "2022-04-29T16:05:02.153Z"
   },
   {
    "duration": 3,
    "start_time": "2022-04-29T16:05:02.367Z"
   },
   {
    "duration": 125,
    "start_time": "2022-04-29T16:05:02.372Z"
   },
   {
    "duration": 145,
    "start_time": "2022-04-29T16:05:02.499Z"
   },
   {
    "duration": 35,
    "start_time": "2022-04-29T16:05:02.646Z"
   },
   {
    "duration": 8,
    "start_time": "2022-04-29T16:05:02.684Z"
   },
   {
    "duration": 1896,
    "start_time": "2022-04-29T16:05:02.695Z"
   },
   {
    "duration": 25,
    "start_time": "2022-04-29T16:05:04.593Z"
   },
   {
    "duration": 470,
    "start_time": "2022-04-29T16:05:04.620Z"
   },
   {
    "duration": 219,
    "start_time": "2022-04-29T16:05:05.092Z"
   },
   {
    "duration": 59,
    "start_time": "2022-04-29T16:05:05.313Z"
   },
   {
    "duration": 1185,
    "start_time": "2022-04-29T16:05:05.374Z"
   },
   {
    "duration": 415,
    "start_time": "2022-04-29T16:05:06.562Z"
   },
   {
    "duration": 408,
    "start_time": "2022-04-29T16:05:06.980Z"
   },
   {
    "duration": 509,
    "start_time": "2022-04-29T16:05:07.391Z"
   },
   {
    "duration": 15,
    "start_time": "2022-04-29T16:05:07.903Z"
   },
   {
    "duration": 40,
    "start_time": "2022-04-29T16:05:07.920Z"
   },
   {
    "duration": 208,
    "start_time": "2022-04-29T16:05:07.962Z"
   },
   {
    "duration": 1981,
    "start_time": "2022-04-29T16:05:08.172Z"
   },
   {
    "duration": 22,
    "start_time": "2022-04-29T16:05:10.155Z"
   },
   {
    "duration": 223,
    "start_time": "2022-04-29T16:05:10.179Z"
   },
   {
    "duration": 21,
    "start_time": "2022-04-29T16:07:01.280Z"
   },
   {
    "duration": 22,
    "start_time": "2022-04-29T16:07:02.161Z"
   },
   {
    "duration": 29,
    "start_time": "2022-04-29T16:07:02.607Z"
   },
   {
    "duration": 21,
    "start_time": "2022-04-29T16:07:02.951Z"
   },
   {
    "duration": 10,
    "start_time": "2022-04-29T16:11:02.408Z"
   },
   {
    "duration": 21,
    "start_time": "2022-04-29T16:11:07.705Z"
   },
   {
    "duration": 22,
    "start_time": "2022-04-29T16:11:08.671Z"
   },
   {
    "duration": 26,
    "start_time": "2022-04-29T16:11:09.241Z"
   },
   {
    "duration": 21,
    "start_time": "2022-04-29T16:11:09.535Z"
   },
   {
    "duration": 1525,
    "start_time": "2022-04-29T16:11:16.075Z"
   },
   {
    "duration": 494,
    "start_time": "2022-04-29T16:11:17.603Z"
   },
   {
    "duration": 22,
    "start_time": "2022-04-29T16:11:18.100Z"
   },
   {
    "duration": 15,
    "start_time": "2022-04-29T16:11:18.125Z"
   },
   {
    "duration": 253,
    "start_time": "2022-04-29T16:11:18.151Z"
   },
   {
    "duration": 13,
    "start_time": "2022-04-29T16:11:18.407Z"
   },
   {
    "duration": 30,
    "start_time": "2022-04-29T16:11:18.423Z"
   },
   {
    "duration": 15,
    "start_time": "2022-04-29T16:11:18.455Z"
   },
   {
    "duration": 25,
    "start_time": "2022-04-29T16:11:18.473Z"
   },
   {
    "duration": 130,
    "start_time": "2022-04-29T16:11:18.502Z"
   },
   {
    "duration": 146,
    "start_time": "2022-04-29T16:11:18.634Z"
   },
   {
    "duration": 11,
    "start_time": "2022-04-29T16:11:18.783Z"
   },
   {
    "duration": 89,
    "start_time": "2022-04-29T16:11:18.796Z"
   },
   {
    "duration": 14,
    "start_time": "2022-04-29T16:11:18.887Z"
   },
   {
    "duration": 6,
    "start_time": "2022-04-29T16:11:18.904Z"
   },
   {
    "duration": 233,
    "start_time": "2022-04-29T16:11:18.913Z"
   },
   {
    "duration": 3,
    "start_time": "2022-04-29T16:11:19.151Z"
   },
   {
    "duration": 151,
    "start_time": "2022-04-29T16:11:19.157Z"
   },
   {
    "duration": 147,
    "start_time": "2022-04-29T16:11:19.311Z"
   },
   {
    "duration": 33,
    "start_time": "2022-04-29T16:11:19.461Z"
   },
   {
    "duration": 8,
    "start_time": "2022-04-29T16:11:19.496Z"
   },
   {
    "duration": 2439,
    "start_time": "2022-04-29T16:11:19.506Z"
   },
   {
    "duration": 36,
    "start_time": "2022-04-29T16:11:21.947Z"
   },
   {
    "duration": 736,
    "start_time": "2022-04-29T16:11:21.985Z"
   },
   {
    "duration": 230,
    "start_time": "2022-04-29T16:11:22.724Z"
   },
   {
    "duration": 47,
    "start_time": "2022-04-29T16:11:22.956Z"
   },
   {
    "duration": 1247,
    "start_time": "2022-04-29T16:11:23.006Z"
   },
   {
    "duration": 422,
    "start_time": "2022-04-29T16:11:24.258Z"
   },
   {
    "duration": 418,
    "start_time": "2022-04-29T16:11:24.682Z"
   },
   {
    "duration": 621,
    "start_time": "2022-04-29T16:11:25.103Z"
   },
   {
    "duration": 32,
    "start_time": "2022-04-29T16:11:25.726Z"
   },
   {
    "duration": 18,
    "start_time": "2022-04-29T16:11:25.761Z"
   },
   {
    "duration": 228,
    "start_time": "2022-04-29T16:11:25.781Z"
   },
   {
    "duration": 1954,
    "start_time": "2022-04-29T16:11:26.011Z"
   },
   {
    "duration": 22,
    "start_time": "2022-04-29T16:11:27.968Z"
   },
   {
    "duration": 230,
    "start_time": "2022-04-29T16:11:27.993Z"
   },
   {
    "duration": 154,
    "start_time": "2022-04-29T16:12:34.817Z"
   },
   {
    "duration": 5,
    "start_time": "2022-04-29T16:13:11.687Z"
   },
   {
    "duration": 151,
    "start_time": "2022-04-29T16:13:59.835Z"
   },
   {
    "duration": 1730,
    "start_time": "2022-04-29T16:14:11.549Z"
   },
   {
    "duration": 1656,
    "start_time": "2022-04-29T16:14:23.237Z"
   },
   {
    "duration": 5,
    "start_time": "2022-04-29T16:14:30.448Z"
   },
   {
    "duration": 8,
    "start_time": "2022-04-29T16:14:49.845Z"
   },
   {
    "duration": 25,
    "start_time": "2022-04-29T16:14:58.509Z"
   },
   {
    "duration": 16,
    "start_time": "2022-04-29T16:15:06.039Z"
   },
   {
    "duration": 1971,
    "start_time": "2022-04-29T16:15:16.237Z"
   },
   {
    "duration": 13,
    "start_time": "2022-04-29T16:15:43.236Z"
   },
   {
    "duration": 12,
    "start_time": "2022-04-29T16:15:48.789Z"
   },
   {
    "duration": 12,
    "start_time": "2022-04-29T16:15:53.028Z"
   },
   {
    "duration": 16,
    "start_time": "2022-04-29T16:16:02.710Z"
   },
   {
    "duration": 1578,
    "start_time": "2022-04-29T16:16:13.907Z"
   },
   {
    "duration": 517,
    "start_time": "2022-04-29T16:16:15.491Z"
   },
   {
    "duration": 18,
    "start_time": "2022-04-29T16:16:16.010Z"
   },
   {
    "duration": 16,
    "start_time": "2022-04-29T16:16:16.030Z"
   },
   {
    "duration": 184,
    "start_time": "2022-04-29T16:16:16.052Z"
   },
   {
    "duration": 16,
    "start_time": "2022-04-29T16:16:16.239Z"
   },
   {
    "duration": 13,
    "start_time": "2022-04-29T16:16:16.257Z"
   },
   {
    "duration": 16,
    "start_time": "2022-04-29T16:16:16.273Z"
   },
   {
    "duration": 6,
    "start_time": "2022-04-29T16:16:16.292Z"
   },
   {
    "duration": 66,
    "start_time": "2022-04-29T16:16:16.301Z"
   },
   {
    "duration": 116,
    "start_time": "2022-04-29T16:16:16.369Z"
   },
   {
    "duration": 126,
    "start_time": "2022-04-29T16:16:16.488Z"
   },
   {
    "duration": 12,
    "start_time": "2022-04-29T16:16:16.616Z"
   },
   {
    "duration": 74,
    "start_time": "2022-04-29T16:16:16.651Z"
   },
   {
    "duration": 27,
    "start_time": "2022-04-29T16:16:16.728Z"
   },
   {
    "duration": 5,
    "start_time": "2022-04-29T16:16:16.757Z"
   },
   {
    "duration": 209,
    "start_time": "2022-04-29T16:16:16.764Z"
   },
   {
    "duration": 3,
    "start_time": "2022-04-29T16:16:16.976Z"
   },
   {
    "duration": 132,
    "start_time": "2022-04-29T16:16:16.981Z"
   },
   {
    "duration": 149,
    "start_time": "2022-04-29T16:16:17.115Z"
   },
   {
    "duration": 33,
    "start_time": "2022-04-29T16:16:17.267Z"
   },
   {
    "duration": 52,
    "start_time": "2022-04-29T16:16:17.302Z"
   },
   {
    "duration": 10,
    "start_time": "2022-04-29T16:16:17.356Z"
   },
   {
    "duration": 253,
    "start_time": "2022-04-29T16:16:17.368Z"
   },
   {
    "duration": 0,
    "start_time": "2022-04-29T16:16:17.623Z"
   },
   {
    "duration": 0,
    "start_time": "2022-04-29T16:16:17.625Z"
   },
   {
    "duration": 0,
    "start_time": "2022-04-29T16:16:17.628Z"
   },
   {
    "duration": 0,
    "start_time": "2022-04-29T16:16:17.630Z"
   },
   {
    "duration": 0,
    "start_time": "2022-04-29T16:16:17.631Z"
   },
   {
    "duration": 0,
    "start_time": "2022-04-29T16:16:17.633Z"
   },
   {
    "duration": 0,
    "start_time": "2022-04-29T16:16:17.652Z"
   },
   {
    "duration": 0,
    "start_time": "2022-04-29T16:16:17.654Z"
   },
   {
    "duration": 0,
    "start_time": "2022-04-29T16:16:17.656Z"
   },
   {
    "duration": 0,
    "start_time": "2022-04-29T16:16:17.658Z"
   },
   {
    "duration": 0,
    "start_time": "2022-04-29T16:16:17.659Z"
   },
   {
    "duration": 0,
    "start_time": "2022-04-29T16:16:17.661Z"
   },
   {
    "duration": 0,
    "start_time": "2022-04-29T16:16:17.663Z"
   },
   {
    "duration": 0,
    "start_time": "2022-04-29T16:16:17.665Z"
   },
   {
    "duration": 1468,
    "start_time": "2022-04-29T16:18:21.250Z"
   },
   {
    "duration": 478,
    "start_time": "2022-04-29T16:18:22.721Z"
   },
   {
    "duration": 16,
    "start_time": "2022-04-29T16:18:23.201Z"
   },
   {
    "duration": 13,
    "start_time": "2022-04-29T16:18:23.219Z"
   },
   {
    "duration": 202,
    "start_time": "2022-04-29T16:18:23.235Z"
   },
   {
    "duration": 15,
    "start_time": "2022-04-29T16:18:23.439Z"
   },
   {
    "duration": 22,
    "start_time": "2022-04-29T16:18:23.457Z"
   },
   {
    "duration": 25,
    "start_time": "2022-04-29T16:18:23.482Z"
   },
   {
    "duration": 15,
    "start_time": "2022-04-29T16:18:23.509Z"
   },
   {
    "duration": 36,
    "start_time": "2022-04-29T16:18:23.526Z"
   },
   {
    "duration": 109,
    "start_time": "2022-04-29T16:18:23.565Z"
   },
   {
    "duration": 177,
    "start_time": "2022-04-29T16:18:23.676Z"
   },
   {
    "duration": 12,
    "start_time": "2022-04-29T16:18:23.856Z"
   },
   {
    "duration": 112,
    "start_time": "2022-04-29T16:18:23.873Z"
   },
   {
    "duration": 16,
    "start_time": "2022-04-29T16:18:23.988Z"
   },
   {
    "duration": 28,
    "start_time": "2022-04-29T16:18:24.006Z"
   },
   {
    "duration": 189,
    "start_time": "2022-04-29T16:18:24.036Z"
   },
   {
    "duration": 4,
    "start_time": "2022-04-29T16:18:24.227Z"
   },
   {
    "duration": 125,
    "start_time": "2022-04-29T16:18:24.233Z"
   },
   {
    "duration": 144,
    "start_time": "2022-04-29T16:18:24.360Z"
   },
   {
    "duration": 53,
    "start_time": "2022-04-29T16:18:24.506Z"
   },
   {
    "duration": 33,
    "start_time": "2022-04-29T16:18:24.561Z"
   },
   {
    "duration": 11,
    "start_time": "2022-04-29T16:18:24.597Z"
   },
   {
    "duration": 181,
    "start_time": "2022-04-29T16:18:24.610Z"
   },
   {
    "duration": 0,
    "start_time": "2022-04-29T16:18:24.793Z"
   },
   {
    "duration": 0,
    "start_time": "2022-04-29T16:18:24.795Z"
   },
   {
    "duration": 0,
    "start_time": "2022-04-29T16:18:24.797Z"
   },
   {
    "duration": 0,
    "start_time": "2022-04-29T16:18:24.798Z"
   },
   {
    "duration": 0,
    "start_time": "2022-04-29T16:18:24.800Z"
   },
   {
    "duration": 0,
    "start_time": "2022-04-29T16:18:24.801Z"
   },
   {
    "duration": 0,
    "start_time": "2022-04-29T16:18:24.803Z"
   },
   {
    "duration": 0,
    "start_time": "2022-04-29T16:18:24.804Z"
   },
   {
    "duration": 0,
    "start_time": "2022-04-29T16:18:24.806Z"
   },
   {
    "duration": 0,
    "start_time": "2022-04-29T16:18:24.808Z"
   },
   {
    "duration": 0,
    "start_time": "2022-04-29T16:18:24.809Z"
   },
   {
    "duration": 0,
    "start_time": "2022-04-29T16:18:24.810Z"
   },
   {
    "duration": 0,
    "start_time": "2022-04-29T16:18:24.812Z"
   },
   {
    "duration": 0,
    "start_time": "2022-04-29T16:18:24.813Z"
   },
   {
    "duration": 5,
    "start_time": "2022-04-29T16:18:35.420Z"
   },
   {
    "duration": 543,
    "start_time": "2022-04-29T16:18:35.428Z"
   },
   {
    "duration": 12,
    "start_time": "2022-04-29T16:18:35.973Z"
   },
   {
    "duration": 23,
    "start_time": "2022-04-29T16:18:35.987Z"
   },
   {
    "duration": 191,
    "start_time": "2022-04-29T16:18:36.013Z"
   },
   {
    "duration": 11,
    "start_time": "2022-04-29T16:18:36.206Z"
   },
   {
    "duration": 13,
    "start_time": "2022-04-29T16:18:36.219Z"
   },
   {
    "duration": 32,
    "start_time": "2022-04-29T16:18:36.234Z"
   },
   {
    "duration": 9,
    "start_time": "2022-04-29T16:18:36.269Z"
   },
   {
    "duration": 33,
    "start_time": "2022-04-29T16:18:36.280Z"
   },
   {
    "duration": 126,
    "start_time": "2022-04-29T16:18:36.315Z"
   },
   {
    "duration": 116,
    "start_time": "2022-04-29T16:18:36.443Z"
   },
   {
    "duration": 9,
    "start_time": "2022-04-29T16:18:36.561Z"
   },
   {
    "duration": 86,
    "start_time": "2022-04-29T16:18:36.576Z"
   },
   {
    "duration": 12,
    "start_time": "2022-04-29T16:18:36.664Z"
   },
   {
    "duration": 6,
    "start_time": "2022-04-29T16:18:36.678Z"
   },
   {
    "duration": 197,
    "start_time": "2022-04-29T16:18:36.686Z"
   },
   {
    "duration": 3,
    "start_time": "2022-04-29T16:18:36.885Z"
   },
   {
    "duration": 129,
    "start_time": "2022-04-29T16:18:36.891Z"
   },
   {
    "duration": 145,
    "start_time": "2022-04-29T16:18:37.022Z"
   },
   {
    "duration": 33,
    "start_time": "2022-04-29T16:18:37.170Z"
   },
   {
    "duration": 48,
    "start_time": "2022-04-29T16:18:37.205Z"
   },
   {
    "duration": 8,
    "start_time": "2022-04-29T16:18:37.255Z"
   },
   {
    "duration": 15,
    "start_time": "2022-04-29T16:18:37.266Z"
   },
   {
    "duration": 0,
    "start_time": "2022-04-29T16:18:37.284Z"
   },
   {
    "duration": 0,
    "start_time": "2022-04-29T16:18:37.286Z"
   },
   {
    "duration": 0,
    "start_time": "2022-04-29T16:18:37.287Z"
   },
   {
    "duration": 1,
    "start_time": "2022-04-29T16:18:37.288Z"
   },
   {
    "duration": 0,
    "start_time": "2022-04-29T16:18:37.290Z"
   },
   {
    "duration": 0,
    "start_time": "2022-04-29T16:18:37.292Z"
   },
   {
    "duration": 0,
    "start_time": "2022-04-29T16:18:37.293Z"
   },
   {
    "duration": 0,
    "start_time": "2022-04-29T16:18:37.295Z"
   },
   {
    "duration": 0,
    "start_time": "2022-04-29T16:18:37.296Z"
   },
   {
    "duration": 0,
    "start_time": "2022-04-29T16:18:37.297Z"
   },
   {
    "duration": 0,
    "start_time": "2022-04-29T16:18:37.299Z"
   },
   {
    "duration": 0,
    "start_time": "2022-04-29T16:18:37.301Z"
   },
   {
    "duration": 0,
    "start_time": "2022-04-29T16:18:37.303Z"
   },
   {
    "duration": 0,
    "start_time": "2022-04-29T16:18:37.352Z"
   },
   {
    "duration": 10,
    "start_time": "2022-04-29T16:19:00.911Z"
   },
   {
    "duration": 10,
    "start_time": "2022-04-29T16:19:31.713Z"
   },
   {
    "duration": 6,
    "start_time": "2022-04-29T16:20:14.319Z"
   },
   {
    "duration": 7,
    "start_time": "2022-04-29T16:20:26.649Z"
   },
   {
    "duration": 8,
    "start_time": "2022-04-29T16:20:46.580Z"
   },
   {
    "duration": 8,
    "start_time": "2022-04-29T16:20:59.089Z"
   },
   {
    "duration": 9,
    "start_time": "2022-04-29T16:21:15.443Z"
   },
   {
    "duration": 7,
    "start_time": "2022-04-29T16:21:25.090Z"
   },
   {
    "duration": 8,
    "start_time": "2022-04-29T16:21:29.184Z"
   },
   {
    "duration": 7,
    "start_time": "2022-04-29T16:21:30.089Z"
   },
   {
    "duration": 110,
    "start_time": "2022-05-01T22:13:01.876Z"
   },
   {
    "duration": 1835,
    "start_time": "2022-05-01T22:13:05.736Z"
   },
   {
    "duration": 487,
    "start_time": "2022-05-01T22:13:07.574Z"
   },
   {
    "duration": 19,
    "start_time": "2022-05-01T22:13:08.063Z"
   },
   {
    "duration": 12,
    "start_time": "2022-05-01T22:13:08.836Z"
   },
   {
    "duration": 152,
    "start_time": "2022-05-01T22:17:23.888Z"
   },
   {
    "duration": 5,
    "start_time": "2022-05-01T22:17:27.963Z"
   },
   {
    "duration": 475,
    "start_time": "2022-05-01T22:17:27.971Z"
   },
   {
    "duration": 11,
    "start_time": "2022-05-01T22:17:28.448Z"
   },
   {
    "duration": 20,
    "start_time": "2022-05-01T22:17:28.461Z"
   },
   {
    "duration": 17,
    "start_time": "2022-05-01T22:17:28.484Z"
   },
   {
    "duration": 182,
    "start_time": "2022-05-01T22:17:28.504Z"
   },
   {
    "duration": 9,
    "start_time": "2022-05-01T22:17:28.689Z"
   },
   {
    "duration": 14,
    "start_time": "2022-05-01T22:17:28.700Z"
   },
   {
    "duration": 36,
    "start_time": "2022-05-01T22:17:28.717Z"
   },
   {
    "duration": 11,
    "start_time": "2022-05-01T22:17:28.756Z"
   },
   {
    "duration": 18,
    "start_time": "2022-05-01T22:17:28.770Z"
   },
   {
    "duration": 16,
    "start_time": "2022-05-01T22:17:28.790Z"
   },
   {
    "duration": 47,
    "start_time": "2022-05-01T22:17:28.808Z"
   },
   {
    "duration": 112,
    "start_time": "2022-05-01T22:17:28.860Z"
   },
   {
    "duration": 121,
    "start_time": "2022-05-01T22:17:28.975Z"
   },
   {
    "duration": 9,
    "start_time": "2022-05-01T22:17:29.098Z"
   },
   {
    "duration": 89,
    "start_time": "2022-05-01T22:17:29.109Z"
   },
   {
    "duration": 13,
    "start_time": "2022-05-01T22:17:29.200Z"
   },
   {
    "duration": 6,
    "start_time": "2022-05-01T22:17:29.216Z"
   },
   {
    "duration": 178,
    "start_time": "2022-05-01T22:17:32.083Z"
   },
   {
    "duration": 15,
    "start_time": "2022-05-01T22:17:54.523Z"
   },
   {
    "duration": 13,
    "start_time": "2022-05-01T22:18:00.829Z"
   },
   {
    "duration": 20,
    "start_time": "2022-05-01T22:18:09.446Z"
   },
   {
    "duration": 15,
    "start_time": "2022-05-01T22:18:24.197Z"
   },
   {
    "duration": 12,
    "start_time": "2022-05-01T22:18:52.624Z"
   },
   {
    "duration": 1663,
    "start_time": "2022-05-01T22:19:09.226Z"
   },
   {
    "duration": 1439,
    "start_time": "2022-05-01T22:19:26.923Z"
   },
   {
    "duration": 1503,
    "start_time": "2022-05-01T22:19:33.699Z"
   },
   {
    "duration": 22,
    "start_time": "2022-05-01T22:19:42.035Z"
   },
   {
    "duration": 9,
    "start_time": "2022-05-01T22:20:17.409Z"
   },
   {
    "duration": 6,
    "start_time": "2022-05-01T22:21:12.029Z"
   },
   {
    "duration": 11,
    "start_time": "2022-05-01T22:22:34.360Z"
   },
   {
    "duration": 4,
    "start_time": "2022-05-01T22:22:40.362Z"
   },
   {
    "duration": 632,
    "start_time": "2022-05-01T22:22:40.369Z"
   },
   {
    "duration": 12,
    "start_time": "2022-05-01T22:22:41.003Z"
   },
   {
    "duration": 18,
    "start_time": "2022-05-01T22:22:41.017Z"
   },
   {
    "duration": 16,
    "start_time": "2022-05-01T22:22:41.038Z"
   },
   {
    "duration": 274,
    "start_time": "2022-05-01T22:22:41.058Z"
   },
   {
    "duration": 18,
    "start_time": "2022-05-01T22:22:41.335Z"
   },
   {
    "duration": 13,
    "start_time": "2022-05-01T22:22:41.355Z"
   },
   {
    "duration": 13,
    "start_time": "2022-05-01T22:22:41.370Z"
   },
   {
    "duration": 31,
    "start_time": "2022-05-01T22:22:41.385Z"
   },
   {
    "duration": 20,
    "start_time": "2022-05-01T22:22:41.419Z"
   },
   {
    "duration": 6,
    "start_time": "2022-05-01T22:22:41.453Z"
   },
   {
    "duration": 11,
    "start_time": "2022-05-01T22:22:41.462Z"
   },
   {
    "duration": 21,
    "start_time": "2022-05-01T22:22:41.477Z"
   },
   {
    "duration": 128,
    "start_time": "2022-05-01T22:22:41.500Z"
   },
   {
    "duration": 177,
    "start_time": "2022-05-01T22:22:41.631Z"
   },
   {
    "duration": 8,
    "start_time": "2022-05-01T22:22:41.810Z"
   },
   {
    "duration": 88,
    "start_time": "2022-05-01T22:22:41.820Z"
   },
   {
    "duration": 13,
    "start_time": "2022-05-01T22:22:41.910Z"
   },
   {
    "duration": 7,
    "start_time": "2022-05-01T22:22:41.926Z"
   },
   {
    "duration": 190,
    "start_time": "2022-05-01T22:22:41.952Z"
   },
   {
    "duration": 13,
    "start_time": "2022-05-01T22:22:42.144Z"
   },
   {
    "duration": 6,
    "start_time": "2022-05-01T22:22:42.160Z"
   },
   {
    "duration": 139,
    "start_time": "2022-05-01T22:22:42.168Z"
   },
   {
    "duration": 149,
    "start_time": "2022-05-01T22:22:42.309Z"
   },
   {
    "duration": 26,
    "start_time": "2022-05-01T22:22:42.460Z"
   },
   {
    "duration": 7,
    "start_time": "2022-05-01T22:22:42.489Z"
   },
   {
    "duration": 12,
    "start_time": "2022-05-01T22:22:42.499Z"
   },
   {
    "duration": 35,
    "start_time": "2022-05-01T22:22:55.723Z"
   },
   {
    "duration": 7,
    "start_time": "2022-05-01T22:22:57.476Z"
   },
   {
    "duration": 7,
    "start_time": "2022-05-01T22:22:59.244Z"
   },
   {
    "duration": 14,
    "start_time": "2022-05-01T22:23:00.842Z"
   },
   {
    "duration": 11,
    "start_time": "2022-05-01T22:23:03.716Z"
   },
   {
    "duration": 27,
    "start_time": "2022-05-01T22:26:38.414Z"
   },
   {
    "duration": 27,
    "start_time": "2022-05-01T22:26:49.402Z"
   },
   {
    "duration": 27,
    "start_time": "2022-05-01T22:26:57.048Z"
   },
   {
    "duration": 25,
    "start_time": "2022-05-01T22:27:15.014Z"
   },
   {
    "duration": 6,
    "start_time": "2022-05-01T22:27:39.246Z"
   },
   {
    "duration": 8,
    "start_time": "2022-05-01T22:27:42.411Z"
   },
   {
    "duration": 9,
    "start_time": "2022-05-01T22:41:08.512Z"
   },
   {
    "duration": 4,
    "start_time": "2022-05-01T22:43:08.600Z"
   },
   {
    "duration": 491,
    "start_time": "2022-05-01T22:43:08.611Z"
   },
   {
    "duration": 12,
    "start_time": "2022-05-01T22:43:09.106Z"
   },
   {
    "duration": 13,
    "start_time": "2022-05-01T22:43:09.121Z"
   },
   {
    "duration": 17,
    "start_time": "2022-05-01T22:43:09.136Z"
   },
   {
    "duration": 196,
    "start_time": "2022-05-01T22:43:09.156Z"
   },
   {
    "duration": 8,
    "start_time": "2022-05-01T22:43:09.355Z"
   },
   {
    "duration": 14,
    "start_time": "2022-05-01T22:43:09.365Z"
   },
   {
    "duration": 10,
    "start_time": "2022-05-01T22:43:09.382Z"
   },
   {
    "duration": 58,
    "start_time": "2022-05-01T22:43:09.394Z"
   },
   {
    "duration": 19,
    "start_time": "2022-05-01T22:43:09.455Z"
   },
   {
    "duration": 7,
    "start_time": "2022-05-01T22:43:09.477Z"
   },
   {
    "duration": 8,
    "start_time": "2022-05-01T22:43:09.487Z"
   },
   {
    "duration": 61,
    "start_time": "2022-05-01T22:43:09.498Z"
   },
   {
    "duration": 109,
    "start_time": "2022-05-01T22:43:09.564Z"
   },
   {
    "duration": 117,
    "start_time": "2022-05-01T22:43:09.676Z"
   },
   {
    "duration": 9,
    "start_time": "2022-05-01T22:43:09.795Z"
   },
   {
    "duration": 90,
    "start_time": "2022-05-01T22:43:09.807Z"
   },
   {
    "duration": 14,
    "start_time": "2022-05-01T22:43:09.899Z"
   },
   {
    "duration": 6,
    "start_time": "2022-05-01T22:43:09.918Z"
   },
   {
    "duration": 184,
    "start_time": "2022-05-01T22:43:09.951Z"
   },
   {
    "duration": 18,
    "start_time": "2022-05-01T22:43:10.137Z"
   },
   {
    "duration": 3,
    "start_time": "2022-05-01T22:43:10.158Z"
   },
   {
    "duration": 162,
    "start_time": "2022-05-01T22:43:10.164Z"
   },
   {
    "duration": 184,
    "start_time": "2022-05-01T22:43:10.329Z"
   },
   {
    "duration": 163,
    "start_time": "2022-05-01T22:43:14.338Z"
   },
   {
    "duration": 42,
    "start_time": "2022-05-01T22:43:15.592Z"
   },
   {
    "duration": 8,
    "start_time": "2022-05-01T22:43:25.976Z"
   },
   {
    "duration": 7,
    "start_time": "2022-05-01T22:44:53.642Z"
   },
   {
    "duration": 11,
    "start_time": "2022-05-01T22:44:59.106Z"
   },
   {
    "duration": 1524,
    "start_time": "2022-05-01T22:46:06.494Z"
   },
   {
    "duration": 479,
    "start_time": "2022-05-01T22:46:08.021Z"
   },
   {
    "duration": 18,
    "start_time": "2022-05-01T22:46:08.502Z"
   },
   {
    "duration": 13,
    "start_time": "2022-05-01T22:46:08.524Z"
   },
   {
    "duration": 22,
    "start_time": "2022-05-01T22:46:08.539Z"
   },
   {
    "duration": 274,
    "start_time": "2022-05-01T22:46:08.564Z"
   },
   {
    "duration": 15,
    "start_time": "2022-05-01T22:46:08.841Z"
   },
   {
    "duration": 13,
    "start_time": "2022-05-01T22:46:08.859Z"
   },
   {
    "duration": 15,
    "start_time": "2022-05-01T22:46:08.875Z"
   },
   {
    "duration": 16,
    "start_time": "2022-05-01T22:46:08.894Z"
   },
   {
    "duration": 50,
    "start_time": "2022-05-01T22:46:08.913Z"
   },
   {
    "duration": 8,
    "start_time": "2022-05-01T22:46:08.966Z"
   },
   {
    "duration": 11,
    "start_time": "2022-05-01T22:46:08.977Z"
   },
   {
    "duration": 31,
    "start_time": "2022-05-01T22:46:08.990Z"
   },
   {
    "duration": 130,
    "start_time": "2022-05-01T22:46:09.023Z"
   },
   {
    "duration": 117,
    "start_time": "2022-05-01T22:46:09.155Z"
   },
   {
    "duration": 8,
    "start_time": "2022-05-01T22:46:09.275Z"
   },
   {
    "duration": 86,
    "start_time": "2022-05-01T22:46:09.285Z"
   },
   {
    "duration": 13,
    "start_time": "2022-05-01T22:46:09.373Z"
   },
   {
    "duration": 8,
    "start_time": "2022-05-01T22:46:09.388Z"
   },
   {
    "duration": 195,
    "start_time": "2022-05-01T22:46:09.398Z"
   },
   {
    "duration": 9,
    "start_time": "2022-05-01T22:46:09.595Z"
   },
   {
    "duration": 156,
    "start_time": "2022-05-01T22:46:09.607Z"
   },
   {
    "duration": 144,
    "start_time": "2022-05-01T22:46:09.765Z"
   },
   {
    "duration": 29,
    "start_time": "2022-05-01T22:46:09.911Z"
   },
   {
    "duration": 9,
    "start_time": "2022-05-01T22:46:09.951Z"
   },
   {
    "duration": 100,
    "start_time": "2022-05-01T22:46:09.962Z"
   },
   {
    "duration": 0,
    "start_time": "2022-05-01T22:46:10.065Z"
   },
   {
    "duration": 0,
    "start_time": "2022-05-01T22:46:10.067Z"
   },
   {
    "duration": 0,
    "start_time": "2022-05-01T22:46:10.069Z"
   },
   {
    "duration": 0,
    "start_time": "2022-05-01T22:46:10.071Z"
   },
   {
    "duration": 0,
    "start_time": "2022-05-01T22:46:10.073Z"
   },
   {
    "duration": 0,
    "start_time": "2022-05-01T22:46:10.075Z"
   },
   {
    "duration": 0,
    "start_time": "2022-05-01T22:46:10.078Z"
   },
   {
    "duration": 0,
    "start_time": "2022-05-01T22:46:10.080Z"
   },
   {
    "duration": 0,
    "start_time": "2022-05-01T22:46:10.082Z"
   },
   {
    "duration": 0,
    "start_time": "2022-05-01T22:46:10.084Z"
   },
   {
    "duration": 0,
    "start_time": "2022-05-01T22:46:10.086Z"
   },
   {
    "duration": 0,
    "start_time": "2022-05-01T22:46:10.088Z"
   },
   {
    "duration": 0,
    "start_time": "2022-05-01T22:46:10.090Z"
   },
   {
    "duration": 0,
    "start_time": "2022-05-01T22:46:10.092Z"
   },
   {
    "duration": 0,
    "start_time": "2022-05-01T22:46:10.094Z"
   },
   {
    "duration": 0,
    "start_time": "2022-05-01T22:46:10.096Z"
   },
   {
    "duration": 0,
    "start_time": "2022-05-01T22:46:10.098Z"
   },
   {
    "duration": 5,
    "start_time": "2022-05-01T22:46:20.030Z"
   },
   {
    "duration": 528,
    "start_time": "2022-05-01T22:46:20.037Z"
   },
   {
    "duration": 12,
    "start_time": "2022-05-01T22:46:20.568Z"
   },
   {
    "duration": 12,
    "start_time": "2022-05-01T22:46:20.582Z"
   },
   {
    "duration": 12,
    "start_time": "2022-05-01T22:46:20.597Z"
   },
   {
    "duration": 198,
    "start_time": "2022-05-01T22:46:20.611Z"
   },
   {
    "duration": 8,
    "start_time": "2022-05-01T22:46:20.812Z"
   },
   {
    "duration": 32,
    "start_time": "2022-05-01T22:46:20.822Z"
   },
   {
    "duration": 10,
    "start_time": "2022-05-01T22:46:20.856Z"
   },
   {
    "duration": 23,
    "start_time": "2022-05-01T22:46:20.868Z"
   },
   {
    "duration": 19,
    "start_time": "2022-05-01T22:46:20.895Z"
   },
   {
    "duration": 15,
    "start_time": "2022-05-01T22:46:20.916Z"
   },
   {
    "duration": 26,
    "start_time": "2022-05-01T22:46:20.934Z"
   },
   {
    "duration": 24,
    "start_time": "2022-05-01T22:46:20.962Z"
   },
   {
    "duration": 153,
    "start_time": "2022-05-01T22:46:20.988Z"
   },
   {
    "duration": 119,
    "start_time": "2022-05-01T22:46:21.144Z"
   },
   {
    "duration": 9,
    "start_time": "2022-05-01T22:46:21.266Z"
   },
   {
    "duration": 90,
    "start_time": "2022-05-01T22:46:21.277Z"
   },
   {
    "duration": 13,
    "start_time": "2022-05-01T22:46:21.369Z"
   },
   {
    "duration": 8,
    "start_time": "2022-05-01T22:46:21.384Z"
   },
   {
    "duration": 189,
    "start_time": "2022-05-01T22:46:21.394Z"
   },
   {
    "duration": 9,
    "start_time": "2022-05-01T22:46:21.586Z"
   },
   {
    "duration": 134,
    "start_time": "2022-05-01T22:46:21.597Z"
   },
   {
    "duration": 139,
    "start_time": "2022-05-01T22:46:21.734Z"
   },
   {
    "duration": 30,
    "start_time": "2022-05-01T22:46:21.876Z"
   },
   {
    "duration": 9,
    "start_time": "2022-05-01T22:46:21.908Z"
   },
   {
    "duration": 99,
    "start_time": "2022-05-01T22:46:21.919Z"
   },
   {
    "duration": 0,
    "start_time": "2022-05-01T22:46:22.022Z"
   },
   {
    "duration": 0,
    "start_time": "2022-05-01T22:46:22.023Z"
   },
   {
    "duration": 0,
    "start_time": "2022-05-01T22:46:22.024Z"
   },
   {
    "duration": 0,
    "start_time": "2022-05-01T22:46:22.026Z"
   },
   {
    "duration": 0,
    "start_time": "2022-05-01T22:46:22.028Z"
   },
   {
    "duration": 1,
    "start_time": "2022-05-01T22:46:22.029Z"
   },
   {
    "duration": 0,
    "start_time": "2022-05-01T22:46:22.031Z"
   },
   {
    "duration": 0,
    "start_time": "2022-05-01T22:46:22.033Z"
   },
   {
    "duration": 0,
    "start_time": "2022-05-01T22:46:22.034Z"
   },
   {
    "duration": 0,
    "start_time": "2022-05-01T22:46:22.036Z"
   },
   {
    "duration": 0,
    "start_time": "2022-05-01T22:46:22.037Z"
   },
   {
    "duration": 0,
    "start_time": "2022-05-01T22:46:22.039Z"
   },
   {
    "duration": 0,
    "start_time": "2022-05-01T22:46:22.040Z"
   },
   {
    "duration": 0,
    "start_time": "2022-05-01T22:46:22.041Z"
   },
   {
    "duration": 0,
    "start_time": "2022-05-01T22:46:22.042Z"
   },
   {
    "duration": 0,
    "start_time": "2022-05-01T22:46:22.044Z"
   },
   {
    "duration": 0,
    "start_time": "2022-05-01T22:46:22.046Z"
   },
   {
    "duration": 4,
    "start_time": "2022-05-01T22:46:39.932Z"
   },
   {
    "duration": 4,
    "start_time": "2022-05-01T22:46:41.746Z"
   },
   {
    "duration": 9,
    "start_time": "2022-05-01T22:46:45.973Z"
   },
   {
    "duration": 146,
    "start_time": "2022-05-01T22:46:47.746Z"
   },
   {
    "duration": 1497,
    "start_time": "2022-05-01T22:47:06.385Z"
   },
   {
    "duration": 489,
    "start_time": "2022-05-01T22:47:07.885Z"
   },
   {
    "duration": 18,
    "start_time": "2022-05-01T22:47:08.377Z"
   },
   {
    "duration": 14,
    "start_time": "2022-05-01T22:47:08.400Z"
   },
   {
    "duration": 14,
    "start_time": "2022-05-01T22:47:08.417Z"
   },
   {
    "duration": 200,
    "start_time": "2022-05-01T22:47:08.433Z"
   },
   {
    "duration": 19,
    "start_time": "2022-05-01T22:47:08.635Z"
   },
   {
    "duration": 28,
    "start_time": "2022-05-01T22:47:08.656Z"
   },
   {
    "duration": 16,
    "start_time": "2022-05-01T22:47:08.686Z"
   },
   {
    "duration": 31,
    "start_time": "2022-05-01T22:47:08.706Z"
   },
   {
    "duration": 36,
    "start_time": "2022-05-01T22:47:08.739Z"
   },
   {
    "duration": 36,
    "start_time": "2022-05-01T22:47:08.777Z"
   },
   {
    "duration": 29,
    "start_time": "2022-05-01T22:47:08.815Z"
   },
   {
    "duration": 39,
    "start_time": "2022-05-01T22:47:08.846Z"
   },
   {
    "duration": 98,
    "start_time": "2022-05-01T22:47:08.887Z"
   },
   {
    "duration": 117,
    "start_time": "2022-05-01T22:47:08.987Z"
   },
   {
    "duration": 9,
    "start_time": "2022-05-01T22:47:09.106Z"
   },
   {
    "duration": 90,
    "start_time": "2022-05-01T22:47:09.117Z"
   },
   {
    "duration": 13,
    "start_time": "2022-05-01T22:47:09.210Z"
   },
   {
    "duration": 15,
    "start_time": "2022-05-01T22:47:09.225Z"
   },
   {
    "duration": 195,
    "start_time": "2022-05-01T22:47:09.242Z"
   },
   {
    "duration": 18,
    "start_time": "2022-05-01T22:47:09.439Z"
   },
   {
    "duration": 131,
    "start_time": "2022-05-01T22:47:09.459Z"
   },
   {
    "duration": 150,
    "start_time": "2022-05-01T22:47:09.593Z"
   },
   {
    "duration": 32,
    "start_time": "2022-05-01T22:47:09.745Z"
   },
   {
    "duration": 5,
    "start_time": "2022-05-01T22:47:09.780Z"
   },
   {
    "duration": 11,
    "start_time": "2022-05-01T22:47:09.787Z"
   },
   {
    "duration": 5,
    "start_time": "2022-05-01T22:47:09.803Z"
   },
   {
    "duration": 44,
    "start_time": "2022-05-01T22:47:09.811Z"
   },
   {
    "duration": 155,
    "start_time": "2022-05-01T22:47:09.858Z"
   },
   {
    "duration": 0,
    "start_time": "2022-05-01T22:47:10.016Z"
   },
   {
    "duration": 1,
    "start_time": "2022-05-01T22:47:10.017Z"
   },
   {
    "duration": 0,
    "start_time": "2022-05-01T22:47:10.019Z"
   },
   {
    "duration": 0,
    "start_time": "2022-05-01T22:47:10.020Z"
   },
   {
    "duration": 0,
    "start_time": "2022-05-01T22:47:10.021Z"
   },
   {
    "duration": 0,
    "start_time": "2022-05-01T22:47:10.023Z"
   },
   {
    "duration": 0,
    "start_time": "2022-05-01T22:47:10.025Z"
   },
   {
    "duration": 0,
    "start_time": "2022-05-01T22:47:10.027Z"
   },
   {
    "duration": 0,
    "start_time": "2022-05-01T22:47:10.052Z"
   },
   {
    "duration": 0,
    "start_time": "2022-05-01T22:47:10.053Z"
   },
   {
    "duration": 0,
    "start_time": "2022-05-01T22:47:10.055Z"
   },
   {
    "duration": 0,
    "start_time": "2022-05-01T22:47:10.057Z"
   },
   {
    "duration": 0,
    "start_time": "2022-05-01T22:47:10.058Z"
   },
   {
    "duration": 0,
    "start_time": "2022-05-01T22:47:10.060Z"
   },
   {
    "duration": 12,
    "start_time": "2022-05-01T22:47:40.034Z"
   },
   {
    "duration": 22,
    "start_time": "2022-05-01T22:47:53.661Z"
   },
   {
    "duration": 4,
    "start_time": "2022-05-01T22:48:12.423Z"
   },
   {
    "duration": 4,
    "start_time": "2022-05-01T22:48:21.824Z"
   },
   {
    "duration": 497,
    "start_time": "2022-05-01T22:48:21.831Z"
   },
   {
    "duration": 11,
    "start_time": "2022-05-01T22:48:22.330Z"
   },
   {
    "duration": 22,
    "start_time": "2022-05-01T22:48:22.344Z"
   },
   {
    "duration": 13,
    "start_time": "2022-05-01T22:48:22.368Z"
   },
   {
    "duration": 197,
    "start_time": "2022-05-01T22:48:22.383Z"
   },
   {
    "duration": 7,
    "start_time": "2022-05-01T22:48:22.582Z"
   },
   {
    "duration": 22,
    "start_time": "2022-05-01T22:48:22.591Z"
   },
   {
    "duration": 13,
    "start_time": "2022-05-01T22:48:22.617Z"
   },
   {
    "duration": 32,
    "start_time": "2022-05-01T22:48:22.632Z"
   },
   {
    "duration": 20,
    "start_time": "2022-05-01T22:48:22.665Z"
   },
   {
    "duration": 20,
    "start_time": "2022-05-01T22:48:22.687Z"
   },
   {
    "duration": 14,
    "start_time": "2022-05-01T22:48:22.708Z"
   },
   {
    "duration": 36,
    "start_time": "2022-05-01T22:48:22.724Z"
   },
   {
    "duration": 110,
    "start_time": "2022-05-01T22:48:22.762Z"
   },
   {
    "duration": 116,
    "start_time": "2022-05-01T22:48:22.874Z"
   },
   {
    "duration": 8,
    "start_time": "2022-05-01T22:48:22.992Z"
   },
   {
    "duration": 85,
    "start_time": "2022-05-01T22:48:23.003Z"
   },
   {
    "duration": 13,
    "start_time": "2022-05-01T22:48:23.090Z"
   },
   {
    "duration": 31,
    "start_time": "2022-05-01T22:48:23.105Z"
   },
   {
    "duration": 188,
    "start_time": "2022-05-01T22:48:23.139Z"
   },
   {
    "duration": 9,
    "start_time": "2022-05-01T22:48:23.329Z"
   },
   {
    "duration": 121,
    "start_time": "2022-05-01T22:48:23.352Z"
   },
   {
    "duration": 140,
    "start_time": "2022-05-01T22:48:23.477Z"
   },
   {
    "duration": 42,
    "start_time": "2022-05-01T22:48:23.619Z"
   },
   {
    "duration": 5,
    "start_time": "2022-05-01T22:48:25.707Z"
   },
   {
    "duration": 5,
    "start_time": "2022-05-01T22:48:27.118Z"
   },
   {
    "duration": 5,
    "start_time": "2022-05-01T22:48:28.506Z"
   },
   {
    "duration": 22,
    "start_time": "2022-05-01T22:48:31.547Z"
   },
   {
    "duration": 15,
    "start_time": "2022-05-01T22:49:01.480Z"
   },
   {
    "duration": 18,
    "start_time": "2022-05-01T22:49:09.779Z"
   },
   {
    "duration": 12,
    "start_time": "2022-05-01T22:49:15.758Z"
   },
   {
    "duration": 120,
    "start_time": "2022-05-01T22:50:58.375Z"
   },
   {
    "duration": 141,
    "start_time": "2022-05-01T22:50:59.649Z"
   },
   {
    "duration": 31,
    "start_time": "2022-05-01T22:51:01.201Z"
   },
   {
    "duration": 1434,
    "start_time": "2022-05-01T22:52:24.398Z"
   },
   {
    "duration": 15,
    "start_time": "2022-05-01T22:52:40.949Z"
   },
   {
    "duration": 30,
    "start_time": "2022-05-01T22:53:33.592Z"
   },
   {
    "duration": 11,
    "start_time": "2022-05-01T22:54:35.917Z"
   },
   {
    "duration": 31,
    "start_time": "2022-05-01T22:54:41.172Z"
   },
   {
    "duration": 14,
    "start_time": "2022-05-01T22:54:44.745Z"
   },
   {
    "duration": 15,
    "start_time": "2022-05-01T22:54:48.773Z"
   },
   {
    "duration": 14,
    "start_time": "2022-05-01T22:54:48.986Z"
   },
   {
    "duration": 14,
    "start_time": "2022-05-01T22:54:49.149Z"
   },
   {
    "duration": 12,
    "start_time": "2022-05-01T22:54:49.344Z"
   },
   {
    "duration": 11,
    "start_time": "2022-05-01T22:54:49.412Z"
   },
   {
    "duration": 22,
    "start_time": "2022-05-01T22:55:02.284Z"
   },
   {
    "duration": 5,
    "start_time": "2022-05-01T22:55:11.519Z"
   },
   {
    "duration": 15,
    "start_time": "2022-05-01T22:55:14.262Z"
   },
   {
    "duration": 15,
    "start_time": "2022-05-01T22:55:15.950Z"
   },
   {
    "duration": 19,
    "start_time": "2022-05-01T22:55:27.839Z"
   },
   {
    "duration": 15,
    "start_time": "2022-05-01T22:55:36.403Z"
   },
   {
    "duration": 15,
    "start_time": "2022-05-01T22:55:37.297Z"
   },
   {
    "duration": 16,
    "start_time": "2022-05-01T22:55:37.722Z"
   },
   {
    "duration": 15,
    "start_time": "2022-05-01T22:55:37.940Z"
   },
   {
    "duration": 15,
    "start_time": "2022-05-01T22:55:38.205Z"
   },
   {
    "duration": 14,
    "start_time": "2022-05-01T22:55:38.340Z"
   },
   {
    "duration": 11,
    "start_time": "2022-05-01T22:55:38.622Z"
   },
   {
    "duration": 11,
    "start_time": "2022-05-01T22:55:38.768Z"
   },
   {
    "duration": 11,
    "start_time": "2022-05-01T22:55:38.907Z"
   },
   {
    "duration": 11,
    "start_time": "2022-05-01T22:55:39.005Z"
   },
   {
    "duration": 14,
    "start_time": "2022-05-01T22:55:39.166Z"
   },
   {
    "duration": 15,
    "start_time": "2022-05-01T22:55:39.310Z"
   },
   {
    "duration": 15,
    "start_time": "2022-05-01T22:55:39.595Z"
   },
   {
    "duration": 15,
    "start_time": "2022-05-01T22:55:39.727Z"
   },
   {
    "duration": 584,
    "start_time": "2022-05-01T22:56:11.419Z"
   },
   {
    "duration": 12,
    "start_time": "2022-05-01T22:57:47.559Z"
   },
   {
    "duration": 1523,
    "start_time": "2022-05-01T22:58:01.849Z"
   },
   {
    "duration": 512,
    "start_time": "2022-05-01T22:58:03.375Z"
   },
   {
    "duration": 18,
    "start_time": "2022-05-01T22:58:03.889Z"
   },
   {
    "duration": 13,
    "start_time": "2022-05-01T22:58:03.909Z"
   },
   {
    "duration": 12,
    "start_time": "2022-05-01T22:58:03.925Z"
   },
   {
    "duration": 200,
    "start_time": "2022-05-01T22:58:03.952Z"
   },
   {
    "duration": 12,
    "start_time": "2022-05-01T22:58:04.155Z"
   },
   {
    "duration": 13,
    "start_time": "2022-05-01T22:58:04.170Z"
   },
   {
    "duration": 14,
    "start_time": "2022-05-01T22:58:04.185Z"
   },
   {
    "duration": 50,
    "start_time": "2022-05-01T22:58:04.202Z"
   },
   {
    "duration": 22,
    "start_time": "2022-05-01T22:58:04.255Z"
   },
   {
    "duration": 9,
    "start_time": "2022-05-01T22:58:04.279Z"
   },
   {
    "duration": 9,
    "start_time": "2022-05-01T22:58:04.290Z"
   },
   {
    "duration": 51,
    "start_time": "2022-05-01T22:58:04.303Z"
   },
   {
    "duration": 115,
    "start_time": "2022-05-01T22:58:04.356Z"
   },
   {
    "duration": 124,
    "start_time": "2022-05-01T22:58:04.474Z"
   },
   {
    "duration": 9,
    "start_time": "2022-05-01T22:58:04.601Z"
   },
   {
    "duration": 90,
    "start_time": "2022-05-01T22:58:04.612Z"
   },
   {
    "duration": 13,
    "start_time": "2022-05-01T22:58:04.705Z"
   },
   {
    "duration": 10,
    "start_time": "2022-05-01T22:58:04.720Z"
   },
   {
    "duration": 220,
    "start_time": "2022-05-01T22:58:04.733Z"
   },
   {
    "duration": 9,
    "start_time": "2022-05-01T22:58:04.956Z"
   },
   {
    "duration": 139,
    "start_time": "2022-05-01T22:58:04.967Z"
   },
   {
    "duration": 147,
    "start_time": "2022-05-01T22:58:05.108Z"
   },
   {
    "duration": 30,
    "start_time": "2022-05-01T22:58:05.257Z"
   },
   {
    "duration": 5,
    "start_time": "2022-05-01T22:58:05.290Z"
   },
   {
    "duration": 22,
    "start_time": "2022-05-01T22:58:05.298Z"
   },
   {
    "duration": 9,
    "start_time": "2022-05-01T22:58:05.351Z"
   },
   {
    "duration": 6,
    "start_time": "2022-05-01T22:58:05.363Z"
   },
   {
    "duration": 7,
    "start_time": "2022-05-01T22:58:05.371Z"
   },
   {
    "duration": 9,
    "start_time": "2022-05-01T22:58:05.380Z"
   },
   {
    "duration": 94,
    "start_time": "2022-05-01T22:58:05.392Z"
   },
   {
    "duration": 0,
    "start_time": "2022-05-01T22:58:05.490Z"
   },
   {
    "duration": 0,
    "start_time": "2022-05-01T22:58:05.493Z"
   },
   {
    "duration": 0,
    "start_time": "2022-05-01T22:58:05.495Z"
   },
   {
    "duration": 0,
    "start_time": "2022-05-01T22:58:05.497Z"
   },
   {
    "duration": 0,
    "start_time": "2022-05-01T22:58:05.499Z"
   },
   {
    "duration": 0,
    "start_time": "2022-05-01T22:58:05.501Z"
   },
   {
    "duration": 0,
    "start_time": "2022-05-01T22:58:05.503Z"
   },
   {
    "duration": 0,
    "start_time": "2022-05-01T22:58:05.504Z"
   },
   {
    "duration": 0,
    "start_time": "2022-05-01T22:58:05.506Z"
   },
   {
    "duration": 0,
    "start_time": "2022-05-01T22:58:05.508Z"
   },
   {
    "duration": 0,
    "start_time": "2022-05-01T22:58:05.509Z"
   },
   {
    "duration": 0,
    "start_time": "2022-05-01T22:58:05.511Z"
   },
   {
    "duration": 0,
    "start_time": "2022-05-01T22:58:05.513Z"
   },
   {
    "duration": 0,
    "start_time": "2022-05-01T22:58:05.514Z"
   },
   {
    "duration": 0,
    "start_time": "2022-05-01T22:58:05.516Z"
   },
   {
    "duration": 0,
    "start_time": "2022-05-01T22:58:05.518Z"
   },
   {
    "duration": 280,
    "start_time": "2022-05-01T22:58:16.421Z"
   },
   {
    "duration": 21,
    "start_time": "2022-05-01T22:59:15.191Z"
   },
   {
    "duration": 1169,
    "start_time": "2022-05-01T22:59:52.026Z"
   },
   {
    "duration": 23,
    "start_time": "2022-05-01T22:59:55.937Z"
   },
   {
    "duration": 1298,
    "start_time": "2022-05-01T23:00:38.073Z"
   },
   {
    "duration": 22,
    "start_time": "2022-05-01T23:00:41.608Z"
   },
   {
    "duration": 467,
    "start_time": "2022-05-01T23:00:49.276Z"
   },
   {
    "duration": 476,
    "start_time": "2022-05-01T23:00:52.477Z"
   },
   {
    "duration": 223,
    "start_time": "2022-05-01T23:01:04.307Z"
   },
   {
    "duration": 43,
    "start_time": "2022-05-01T23:01:06.156Z"
   },
   {
    "duration": 1184,
    "start_time": "2022-05-01T23:01:08.375Z"
   },
   {
    "duration": 394,
    "start_time": "2022-05-01T23:01:11.394Z"
   },
   {
    "duration": 15,
    "start_time": "2022-05-01T23:01:15.007Z"
   },
   {
    "duration": 18,
    "start_time": "2022-05-01T23:01:17.945Z"
   },
   {
    "duration": 199,
    "start_time": "2022-05-01T23:01:19.518Z"
   },
   {
    "duration": 15,
    "start_time": "2022-05-01T23:01:45.955Z"
   },
   {
    "duration": 13,
    "start_time": "2022-05-01T23:02:41.107Z"
   },
   {
    "duration": 1360,
    "start_time": "2022-05-01T23:03:54.501Z"
   },
   {
    "duration": 20,
    "start_time": "2022-05-01T23:03:57.147Z"
   },
   {
    "duration": 198,
    "start_time": "2022-05-01T23:03:58.972Z"
   },
   {
    "duration": 7,
    "start_time": "2022-05-01T23:04:50.693Z"
   },
   {
    "duration": 71,
    "start_time": "2022-05-01T23:04:52.931Z"
   },
   {
    "duration": 4,
    "start_time": "2022-05-01T23:04:55.044Z"
   },
   {
    "duration": 764,
    "start_time": "2022-05-01T23:04:55.051Z"
   },
   {
    "duration": 12,
    "start_time": "2022-05-01T23:04:55.817Z"
   },
   {
    "duration": 11,
    "start_time": "2022-05-01T23:04:55.832Z"
   },
   {
    "duration": 12,
    "start_time": "2022-05-01T23:04:55.851Z"
   },
   {
    "duration": 203,
    "start_time": "2022-05-01T23:04:55.865Z"
   },
   {
    "duration": 9,
    "start_time": "2022-05-01T23:04:56.070Z"
   },
   {
    "duration": 11,
    "start_time": "2022-05-01T23:04:56.080Z"
   },
   {
    "duration": 8,
    "start_time": "2022-05-01T23:04:56.095Z"
   },
   {
    "duration": 48,
    "start_time": "2022-05-01T23:04:56.105Z"
   },
   {
    "duration": 16,
    "start_time": "2022-05-01T23:04:56.156Z"
   },
   {
    "duration": 7,
    "start_time": "2022-05-01T23:04:56.174Z"
   },
   {
    "duration": 9,
    "start_time": "2022-05-01T23:04:56.183Z"
   },
   {
    "duration": 21,
    "start_time": "2022-05-01T23:04:56.194Z"
   },
   {
    "duration": 109,
    "start_time": "2022-05-01T23:04:56.253Z"
   },
   {
    "duration": 115,
    "start_time": "2022-05-01T23:04:56.364Z"
   },
   {
    "duration": 6,
    "start_time": "2022-05-01T23:04:56.481Z"
   },
   {
    "duration": 88,
    "start_time": "2022-05-01T23:04:56.489Z"
   },
   {
    "duration": 13,
    "start_time": "2022-05-01T23:04:56.579Z"
   },
   {
    "duration": 8,
    "start_time": "2022-05-01T23:04:56.594Z"
   },
   {
    "duration": 209,
    "start_time": "2022-05-01T23:04:56.604Z"
   },
   {
    "duration": 8,
    "start_time": "2022-05-01T23:04:56.815Z"
   },
   {
    "duration": 138,
    "start_time": "2022-05-01T23:04:56.826Z"
   },
   {
    "duration": 147,
    "start_time": "2022-05-01T23:04:56.969Z"
   },
   {
    "duration": 38,
    "start_time": "2022-05-01T23:04:57.118Z"
   },
   {
    "duration": 5,
    "start_time": "2022-05-01T23:04:57.159Z"
   },
   {
    "duration": 28,
    "start_time": "2022-05-01T23:04:57.167Z"
   },
   {
    "duration": 6,
    "start_time": "2022-05-01T23:04:57.198Z"
   },
   {
    "duration": 6,
    "start_time": "2022-05-01T23:04:57.207Z"
   },
   {
    "duration": 40,
    "start_time": "2022-05-01T23:04:57.215Z"
   },
   {
    "duration": 9,
    "start_time": "2022-05-01T23:04:57.257Z"
   },
   {
    "duration": 6,
    "start_time": "2022-05-01T23:04:57.268Z"
   },
   {
    "duration": 17,
    "start_time": "2022-05-01T23:04:57.276Z"
   },
   {
    "duration": 0,
    "start_time": "2022-05-01T23:04:57.296Z"
   },
   {
    "duration": 0,
    "start_time": "2022-05-01T23:04:57.298Z"
   },
   {
    "duration": 0,
    "start_time": "2022-05-01T23:04:57.300Z"
   },
   {
    "duration": 0,
    "start_time": "2022-05-01T23:04:57.303Z"
   },
   {
    "duration": 0,
    "start_time": "2022-05-01T23:04:57.304Z"
   },
   {
    "duration": 0,
    "start_time": "2022-05-01T23:04:57.305Z"
   },
   {
    "duration": 0,
    "start_time": "2022-05-01T23:04:57.307Z"
   },
   {
    "duration": 0,
    "start_time": "2022-05-01T23:04:57.351Z"
   },
   {
    "duration": 0,
    "start_time": "2022-05-01T23:04:57.353Z"
   },
   {
    "duration": 0,
    "start_time": "2022-05-01T23:04:57.355Z"
   },
   {
    "duration": 0,
    "start_time": "2022-05-01T23:04:57.356Z"
   },
   {
    "duration": 0,
    "start_time": "2022-05-01T23:04:57.357Z"
   },
   {
    "duration": 0,
    "start_time": "2022-05-01T23:04:57.358Z"
   },
   {
    "duration": 0,
    "start_time": "2022-05-01T23:04:57.359Z"
   },
   {
    "duration": 0,
    "start_time": "2022-05-01T23:04:57.360Z"
   },
   {
    "duration": 10,
    "start_time": "2022-05-01T23:08:41.359Z"
   },
   {
    "duration": 5,
    "start_time": "2022-05-01T23:08:43.503Z"
   },
   {
    "duration": 576,
    "start_time": "2022-05-01T23:08:43.512Z"
   },
   {
    "duration": 12,
    "start_time": "2022-05-01T23:08:44.090Z"
   },
   {
    "duration": 13,
    "start_time": "2022-05-01T23:08:44.104Z"
   },
   {
    "duration": 11,
    "start_time": "2022-05-01T23:08:44.120Z"
   },
   {
    "duration": 203,
    "start_time": "2022-05-01T23:08:44.133Z"
   },
   {
    "duration": 17,
    "start_time": "2022-05-01T23:08:44.338Z"
   },
   {
    "duration": 353,
    "start_time": "2022-05-01T23:08:44.358Z"
   },
   {
    "duration": 9,
    "start_time": "2022-05-01T23:08:44.715Z"
   },
   {
    "duration": 13,
    "start_time": "2022-05-01T23:08:44.726Z"
   },
   {
    "duration": 27,
    "start_time": "2022-05-01T23:08:44.743Z"
   },
   {
    "duration": 7,
    "start_time": "2022-05-01T23:08:44.772Z"
   },
   {
    "duration": 10,
    "start_time": "2022-05-01T23:08:44.781Z"
   },
   {
    "duration": 20,
    "start_time": "2022-05-01T23:08:44.794Z"
   },
   {
    "duration": 126,
    "start_time": "2022-05-01T23:08:44.816Z"
   },
   {
    "duration": 120,
    "start_time": "2022-05-01T23:08:44.944Z"
   },
   {
    "duration": 6,
    "start_time": "2022-05-01T23:08:45.067Z"
   },
   {
    "duration": 98,
    "start_time": "2022-05-01T23:08:45.075Z"
   },
   {
    "duration": 13,
    "start_time": "2022-05-01T23:08:45.175Z"
   },
   {
    "duration": 6,
    "start_time": "2022-05-01T23:08:45.190Z"
   },
   {
    "duration": 199,
    "start_time": "2022-05-01T23:08:45.198Z"
   },
   {
    "duration": 9,
    "start_time": "2022-05-01T23:08:45.399Z"
   },
   {
    "duration": 131,
    "start_time": "2022-05-01T23:08:45.410Z"
   },
   {
    "duration": 146,
    "start_time": "2022-05-01T23:08:45.546Z"
   },
   {
    "duration": 29,
    "start_time": "2022-05-01T23:08:45.694Z"
   },
   {
    "duration": 27,
    "start_time": "2022-05-01T23:08:45.725Z"
   },
   {
    "duration": 20,
    "start_time": "2022-05-01T23:08:45.754Z"
   },
   {
    "duration": 6,
    "start_time": "2022-05-01T23:08:45.776Z"
   },
   {
    "duration": 6,
    "start_time": "2022-05-01T23:08:45.784Z"
   },
   {
    "duration": 6,
    "start_time": "2022-05-01T23:08:45.792Z"
   },
   {
    "duration": 8,
    "start_time": "2022-05-01T23:08:45.801Z"
   },
   {
    "duration": 4,
    "start_time": "2022-05-01T23:08:45.852Z"
   },
   {
    "duration": 15,
    "start_time": "2022-05-01T23:08:45.858Z"
   },
   {
    "duration": 0,
    "start_time": "2022-05-01T23:08:45.875Z"
   },
   {
    "duration": 0,
    "start_time": "2022-05-01T23:08:45.877Z"
   },
   {
    "duration": 0,
    "start_time": "2022-05-01T23:08:45.879Z"
   },
   {
    "duration": 0,
    "start_time": "2022-05-01T23:08:45.881Z"
   },
   {
    "duration": 0,
    "start_time": "2022-05-01T23:08:45.883Z"
   },
   {
    "duration": 0,
    "start_time": "2022-05-01T23:08:45.884Z"
   },
   {
    "duration": 0,
    "start_time": "2022-05-01T23:08:45.886Z"
   },
   {
    "duration": 0,
    "start_time": "2022-05-01T23:08:45.887Z"
   },
   {
    "duration": 0,
    "start_time": "2022-05-01T23:08:45.889Z"
   },
   {
    "duration": 0,
    "start_time": "2022-05-01T23:08:45.891Z"
   },
   {
    "duration": 0,
    "start_time": "2022-05-01T23:08:45.892Z"
   },
   {
    "duration": 0,
    "start_time": "2022-05-01T23:08:45.894Z"
   },
   {
    "duration": 0,
    "start_time": "2022-05-01T23:08:45.896Z"
   },
   {
    "duration": 0,
    "start_time": "2022-05-01T23:08:45.897Z"
   },
   {
    "duration": 0,
    "start_time": "2022-05-01T23:08:45.899Z"
   },
   {
    "duration": 4,
    "start_time": "2022-05-01T23:09:04.280Z"
   },
   {
    "duration": 507,
    "start_time": "2022-05-01T23:09:04.287Z"
   },
   {
    "duration": 11,
    "start_time": "2022-05-01T23:09:04.796Z"
   },
   {
    "duration": 14,
    "start_time": "2022-05-01T23:09:04.809Z"
   },
   {
    "duration": 12,
    "start_time": "2022-05-01T23:09:04.826Z"
   },
   {
    "duration": 201,
    "start_time": "2022-05-01T23:09:04.840Z"
   },
   {
    "duration": 14,
    "start_time": "2022-05-01T23:09:05.043Z"
   },
   {
    "duration": 17,
    "start_time": "2022-05-01T23:09:05.059Z"
   },
   {
    "duration": 26,
    "start_time": "2022-05-01T23:09:05.079Z"
   },
   {
    "duration": 20,
    "start_time": "2022-05-01T23:09:05.107Z"
   },
   {
    "duration": 24,
    "start_time": "2022-05-01T23:09:05.133Z"
   },
   {
    "duration": 8,
    "start_time": "2022-05-01T23:09:05.159Z"
   },
   {
    "duration": 9,
    "start_time": "2022-05-01T23:09:05.168Z"
   },
   {
    "duration": 24,
    "start_time": "2022-05-01T23:09:05.179Z"
   },
   {
    "duration": 118,
    "start_time": "2022-05-01T23:09:05.205Z"
   },
   {
    "duration": 113,
    "start_time": "2022-05-01T23:09:05.325Z"
   },
   {
    "duration": 11,
    "start_time": "2022-05-01T23:09:05.440Z"
   },
   {
    "duration": 75,
    "start_time": "2022-05-01T23:09:05.453Z"
   },
   {
    "duration": 25,
    "start_time": "2022-05-01T23:09:05.530Z"
   },
   {
    "duration": 7,
    "start_time": "2022-05-01T23:09:05.557Z"
   },
   {
    "duration": 201,
    "start_time": "2022-05-01T23:09:05.566Z"
   },
   {
    "duration": 11,
    "start_time": "2022-05-01T23:09:05.769Z"
   },
   {
    "duration": 143,
    "start_time": "2022-05-01T23:09:05.782Z"
   },
   {
    "duration": 149,
    "start_time": "2022-05-01T23:09:05.927Z"
   },
   {
    "duration": 29,
    "start_time": "2022-05-01T23:09:06.078Z"
   },
   {
    "duration": 5,
    "start_time": "2022-05-01T23:09:06.109Z"
   },
   {
    "duration": 46,
    "start_time": "2022-05-01T23:09:06.116Z"
   },
   {
    "duration": 14,
    "start_time": "2022-05-01T23:09:06.164Z"
   },
   {
    "duration": 7,
    "start_time": "2022-05-01T23:09:06.185Z"
   },
   {
    "duration": 9,
    "start_time": "2022-05-01T23:09:06.194Z"
   },
   {
    "duration": 16,
    "start_time": "2022-05-01T23:09:06.205Z"
   },
   {
    "duration": 5,
    "start_time": "2022-05-01T23:09:06.223Z"
   },
   {
    "duration": 1307,
    "start_time": "2022-05-01T23:09:06.252Z"
   },
   {
    "duration": 21,
    "start_time": "2022-05-01T23:09:07.561Z"
   },
   {
    "duration": 459,
    "start_time": "2022-05-01T23:09:07.584Z"
   },
   {
    "duration": 209,
    "start_time": "2022-05-01T23:09:08.045Z"
   },
   {
    "duration": 44,
    "start_time": "2022-05-01T23:09:08.256Z"
   },
   {
    "duration": 1149,
    "start_time": "2022-05-01T23:09:08.302Z"
   },
   {
    "duration": 391,
    "start_time": "2022-05-01T23:09:09.453Z"
   },
   {
    "duration": 406,
    "start_time": "2022-05-01T23:09:09.846Z"
   },
   {
    "duration": 410,
    "start_time": "2022-05-01T23:09:10.254Z"
   },
   {
    "duration": 15,
    "start_time": "2022-05-01T23:09:10.666Z"
   },
   {
    "duration": 26,
    "start_time": "2022-05-01T23:09:10.683Z"
   },
   {
    "duration": 218,
    "start_time": "2022-05-01T23:09:10.711Z"
   },
   {
    "duration": 1321,
    "start_time": "2022-05-01T23:09:10.932Z"
   },
   {
    "duration": 20,
    "start_time": "2022-05-01T23:09:12.255Z"
   },
   {
    "duration": 222,
    "start_time": "2022-05-01T23:09:12.277Z"
   },
   {
    "duration": 8,
    "start_time": "2022-05-01T23:13:51.782Z"
   },
   {
    "duration": 20,
    "start_time": "2022-05-01T23:13:57.399Z"
   },
   {
    "duration": 22,
    "start_time": "2022-05-01T23:14:30.692Z"
   },
   {
    "duration": 5,
    "start_time": "2022-05-01T23:14:33.818Z"
   },
   {
    "duration": 494,
    "start_time": "2022-05-01T23:14:33.825Z"
   },
   {
    "duration": 12,
    "start_time": "2022-05-01T23:14:34.321Z"
   },
   {
    "duration": 12,
    "start_time": "2022-05-01T23:14:34.335Z"
   },
   {
    "duration": 12,
    "start_time": "2022-05-01T23:14:34.352Z"
   },
   {
    "duration": 198,
    "start_time": "2022-05-01T23:14:34.367Z"
   },
   {
    "duration": 11,
    "start_time": "2022-05-01T23:14:34.567Z"
   },
   {
    "duration": 12,
    "start_time": "2022-05-01T23:14:34.580Z"
   },
   {
    "duration": 13,
    "start_time": "2022-05-01T23:14:34.594Z"
   },
   {
    "duration": 44,
    "start_time": "2022-05-01T23:14:34.609Z"
   },
   {
    "duration": 15,
    "start_time": "2022-05-01T23:14:34.657Z"
   },
   {
    "duration": 18,
    "start_time": "2022-05-01T23:14:34.674Z"
   },
   {
    "duration": 33,
    "start_time": "2022-05-01T23:14:34.694Z"
   },
   {
    "duration": 112,
    "start_time": "2022-05-01T23:14:34.729Z"
   },
   {
    "duration": 114,
    "start_time": "2022-05-01T23:14:34.851Z"
   },
   {
    "duration": 8,
    "start_time": "2022-05-01T23:14:34.968Z"
   },
   {
    "duration": 88,
    "start_time": "2022-05-01T23:14:34.978Z"
   },
   {
    "duration": 13,
    "start_time": "2022-05-01T23:14:35.068Z"
   },
   {
    "duration": 10,
    "start_time": "2022-05-01T23:14:35.083Z"
   },
   {
    "duration": 189,
    "start_time": "2022-05-01T23:14:35.095Z"
   },
   {
    "duration": 8,
    "start_time": "2022-05-01T23:14:35.286Z"
   },
   {
    "duration": 126,
    "start_time": "2022-05-01T23:14:35.297Z"
   },
   {
    "duration": 143,
    "start_time": "2022-05-01T23:14:35.425Z"
   },
   {
    "duration": 30,
    "start_time": "2022-05-01T23:14:35.570Z"
   },
   {
    "duration": 4,
    "start_time": "2022-05-01T23:14:35.602Z"
   },
   {
    "duration": 45,
    "start_time": "2022-05-01T23:14:35.608Z"
   },
   {
    "duration": 5,
    "start_time": "2022-05-01T23:14:35.655Z"
   },
   {
    "duration": 8,
    "start_time": "2022-05-01T23:14:35.662Z"
   },
   {
    "duration": 12,
    "start_time": "2022-05-01T23:14:35.675Z"
   },
   {
    "duration": 14,
    "start_time": "2022-05-01T23:14:35.689Z"
   },
   {
    "duration": 15,
    "start_time": "2022-05-01T23:14:35.705Z"
   },
   {
    "duration": 1375,
    "start_time": "2022-05-01T23:14:35.722Z"
   },
   {
    "duration": 22,
    "start_time": "2022-05-01T23:14:37.100Z"
   },
   {
    "duration": 511,
    "start_time": "2022-05-01T23:14:37.125Z"
   },
   {
    "duration": 266,
    "start_time": "2022-05-01T23:14:37.638Z"
   },
   {
    "duration": 56,
    "start_time": "2022-05-01T23:14:37.906Z"
   },
   {
    "duration": 1217,
    "start_time": "2022-05-01T23:14:37.964Z"
   },
   {
    "duration": 525,
    "start_time": "2022-05-01T23:14:39.183Z"
   },
   {
    "duration": 480,
    "start_time": "2022-05-01T23:14:39.710Z"
   },
   {
    "duration": 421,
    "start_time": "2022-05-01T23:14:40.192Z"
   },
   {
    "duration": 15,
    "start_time": "2022-05-01T23:14:40.615Z"
   },
   {
    "duration": 30,
    "start_time": "2022-05-01T23:14:40.632Z"
   },
   {
    "duration": 211,
    "start_time": "2022-05-01T23:14:40.665Z"
   },
   {
    "duration": 1354,
    "start_time": "2022-05-01T23:14:40.878Z"
   },
   {
    "duration": 29,
    "start_time": "2022-05-01T23:14:42.234Z"
   },
   {
    "duration": 215,
    "start_time": "2022-05-01T23:14:42.265Z"
   },
   {
    "duration": 9,
    "start_time": "2022-05-01T23:15:30.094Z"
   },
   {
    "duration": 4,
    "start_time": "2022-05-01T23:15:33.017Z"
   },
   {
    "duration": 562,
    "start_time": "2022-05-01T23:15:33.027Z"
   },
   {
    "duration": 12,
    "start_time": "2022-05-01T23:15:33.591Z"
   },
   {
    "duration": 10,
    "start_time": "2022-05-01T23:15:33.605Z"
   },
   {
    "duration": 11,
    "start_time": "2022-05-01T23:15:33.617Z"
   },
   {
    "duration": 210,
    "start_time": "2022-05-01T23:15:33.632Z"
   },
   {
    "duration": 9,
    "start_time": "2022-05-01T23:15:33.845Z"
   },
   {
    "duration": 11,
    "start_time": "2022-05-01T23:15:33.856Z"
   },
   {
    "duration": 10,
    "start_time": "2022-05-01T23:15:33.869Z"
   },
   {
    "duration": 19,
    "start_time": "2022-05-01T23:15:33.881Z"
   },
   {
    "duration": 17,
    "start_time": "2022-05-01T23:15:33.902Z"
   },
   {
    "duration": 8,
    "start_time": "2022-05-01T23:15:33.953Z"
   },
   {
    "duration": 21,
    "start_time": "2022-05-01T23:15:33.963Z"
   },
   {
    "duration": 119,
    "start_time": "2022-05-01T23:15:33.986Z"
   },
   {
    "duration": 133,
    "start_time": "2022-05-01T23:15:34.109Z"
   },
   {
    "duration": 16,
    "start_time": "2022-05-01T23:15:34.244Z"
   },
   {
    "duration": 82,
    "start_time": "2022-05-01T23:15:34.262Z"
   },
   {
    "duration": 12,
    "start_time": "2022-05-01T23:15:34.352Z"
   },
   {
    "duration": 10,
    "start_time": "2022-05-01T23:15:34.366Z"
   },
   {
    "duration": 189,
    "start_time": "2022-05-01T23:15:34.378Z"
   },
   {
    "duration": 8,
    "start_time": "2022-05-01T23:15:34.570Z"
   },
   {
    "duration": 128,
    "start_time": "2022-05-01T23:15:34.580Z"
   },
   {
    "duration": 143,
    "start_time": "2022-05-01T23:15:34.710Z"
   },
   {
    "duration": 29,
    "start_time": "2022-05-01T23:15:34.855Z"
   },
   {
    "duration": 5,
    "start_time": "2022-05-01T23:15:34.886Z"
   },
   {
    "duration": 23,
    "start_time": "2022-05-01T23:15:34.893Z"
   },
   {
    "duration": 37,
    "start_time": "2022-05-01T23:15:34.918Z"
   },
   {
    "duration": 8,
    "start_time": "2022-05-01T23:15:34.957Z"
   },
   {
    "duration": 7,
    "start_time": "2022-05-01T23:15:34.967Z"
   },
   {
    "duration": 9,
    "start_time": "2022-05-01T23:15:34.976Z"
   },
   {
    "duration": 14,
    "start_time": "2022-05-01T23:15:34.988Z"
   },
   {
    "duration": 1317,
    "start_time": "2022-05-01T23:15:35.004Z"
   },
   {
    "duration": 32,
    "start_time": "2022-05-01T23:15:36.323Z"
   },
   {
    "duration": 462,
    "start_time": "2022-05-01T23:15:36.357Z"
   },
   {
    "duration": 202,
    "start_time": "2022-05-01T23:15:36.822Z"
   },
   {
    "duration": 54,
    "start_time": "2022-05-01T23:15:37.026Z"
   },
   {
    "duration": 1073,
    "start_time": "2022-05-01T23:15:37.082Z"
   },
   {
    "duration": 514,
    "start_time": "2022-05-01T23:15:38.157Z"
   },
   {
    "duration": 400,
    "start_time": "2022-05-01T23:15:38.673Z"
   },
   {
    "duration": 421,
    "start_time": "2022-05-01T23:15:39.076Z"
   },
   {
    "duration": 16,
    "start_time": "2022-05-01T23:15:39.500Z"
   },
   {
    "duration": 41,
    "start_time": "2022-05-01T23:15:39.523Z"
   },
   {
    "duration": 218,
    "start_time": "2022-05-01T23:15:39.566Z"
   },
   {
    "duration": 1328,
    "start_time": "2022-05-01T23:15:39.787Z"
   },
   {
    "duration": 39,
    "start_time": "2022-05-01T23:15:41.117Z"
   },
   {
    "duration": 210,
    "start_time": "2022-05-01T23:15:41.159Z"
   },
   {
    "duration": 9,
    "start_time": "2022-05-01T23:19:46.052Z"
   },
   {
    "duration": 87,
    "start_time": "2022-05-01T23:26:26.427Z"
   },
   {
    "duration": 9,
    "start_time": "2022-05-01T23:26:44.755Z"
   },
   {
    "duration": 16,
    "start_time": "2022-05-01T23:26:49.003Z"
   },
   {
    "duration": 9,
    "start_time": "2022-05-01T23:26:57.784Z"
   },
   {
    "duration": 14,
    "start_time": "2022-05-01T23:26:59.626Z"
   },
   {
    "duration": 10,
    "start_time": "2022-05-01T23:27:23.787Z"
   },
   {
    "duration": 15,
    "start_time": "2022-05-01T23:27:25.464Z"
   },
   {
    "duration": 8,
    "start_time": "2022-05-01T23:27:41.862Z"
   },
   {
    "duration": 13,
    "start_time": "2022-05-01T23:27:43.813Z"
   },
   {
    "duration": 31,
    "start_time": "2022-05-01T23:27:57.676Z"
   },
   {
    "duration": 31,
    "start_time": "2022-05-01T23:27:59.891Z"
   },
   {
    "duration": 32,
    "start_time": "2022-05-01T23:28:00.793Z"
   },
   {
    "duration": 29,
    "start_time": "2022-05-01T23:28:01.502Z"
   },
   {
    "duration": 29,
    "start_time": "2022-05-01T23:28:01.871Z"
   },
   {
    "duration": 131,
    "start_time": "2022-05-01T23:28:03.737Z"
   },
   {
    "duration": 29,
    "start_time": "2022-05-01T23:28:04.948Z"
   },
   {
    "duration": 9,
    "start_time": "2022-05-01T23:28:28.799Z"
   },
   {
    "duration": 124,
    "start_time": "2022-05-01T23:28:38.094Z"
   },
   {
    "duration": 30,
    "start_time": "2022-05-01T23:28:39.586Z"
   },
   {
    "duration": 135,
    "start_time": "2022-05-01T23:28:45.954Z"
   },
   {
    "duration": 14,
    "start_time": "2022-05-01T23:28:50.082Z"
   },
   {
    "duration": 131,
    "start_time": "2022-05-01T23:28:55.003Z"
   },
   {
    "duration": 29,
    "start_time": "2022-05-01T23:28:57.004Z"
   },
   {
    "duration": 5,
    "start_time": "2022-05-01T23:28:59.543Z"
   },
   {
    "duration": 502,
    "start_time": "2022-05-01T23:28:59.551Z"
   },
   {
    "duration": 11,
    "start_time": "2022-05-01T23:29:00.055Z"
   },
   {
    "duration": 16,
    "start_time": "2022-05-01T23:29:00.069Z"
   },
   {
    "duration": 18,
    "start_time": "2022-05-01T23:29:00.087Z"
   },
   {
    "duration": 197,
    "start_time": "2022-05-01T23:29:00.107Z"
   },
   {
    "duration": 8,
    "start_time": "2022-05-01T23:29:00.306Z"
   },
   {
    "duration": 21,
    "start_time": "2022-05-01T23:29:00.316Z"
   },
   {
    "duration": 9,
    "start_time": "2022-05-01T23:29:00.351Z"
   },
   {
    "duration": 21,
    "start_time": "2022-05-01T23:29:00.364Z"
   },
   {
    "duration": 23,
    "start_time": "2022-05-01T23:29:00.387Z"
   },
   {
    "duration": 36,
    "start_time": "2022-05-01T23:29:00.412Z"
   },
   {
    "duration": 25,
    "start_time": "2022-05-01T23:29:00.451Z"
   },
   {
    "duration": 112,
    "start_time": "2022-05-01T23:29:00.478Z"
   },
   {
    "duration": 115,
    "start_time": "2022-05-01T23:29:00.592Z"
   },
   {
    "duration": 9,
    "start_time": "2022-05-01T23:29:00.709Z"
   },
   {
    "duration": 91,
    "start_time": "2022-05-01T23:29:00.721Z"
   },
   {
    "duration": 13,
    "start_time": "2022-05-01T23:29:00.814Z"
   },
   {
    "duration": 15,
    "start_time": "2022-05-01T23:29:00.829Z"
   },
   {
    "duration": 182,
    "start_time": "2022-05-01T23:29:00.846Z"
   },
   {
    "duration": 8,
    "start_time": "2022-05-01T23:29:01.030Z"
   },
   {
    "duration": 121,
    "start_time": "2022-05-01T23:29:01.052Z"
   },
   {
    "duration": 151,
    "start_time": "2022-05-01T23:29:01.175Z"
   },
   {
    "duration": 38,
    "start_time": "2022-05-01T23:29:01.328Z"
   },
   {
    "duration": 5,
    "start_time": "2022-05-01T23:29:01.368Z"
   },
   {
    "duration": 45,
    "start_time": "2022-05-01T23:29:01.375Z"
   },
   {
    "duration": 14,
    "start_time": "2022-05-01T23:29:01.422Z"
   },
   {
    "duration": 7,
    "start_time": "2022-05-01T23:29:01.441Z"
   },
   {
    "duration": 19,
    "start_time": "2022-05-01T23:29:01.450Z"
   },
   {
    "duration": 30,
    "start_time": "2022-05-01T23:29:01.472Z"
   },
   {
    "duration": 13,
    "start_time": "2022-05-01T23:29:01.505Z"
   },
   {
    "duration": 1299,
    "start_time": "2022-05-01T23:29:01.520Z"
   },
   {
    "duration": 33,
    "start_time": "2022-05-01T23:29:02.821Z"
   },
   {
    "duration": 462,
    "start_time": "2022-05-01T23:29:02.856Z"
   },
   {
    "duration": 212,
    "start_time": "2022-05-01T23:29:03.320Z"
   },
   {
    "duration": 52,
    "start_time": "2022-05-01T23:29:03.534Z"
   },
   {
    "duration": 1058,
    "start_time": "2022-05-01T23:29:03.588Z"
   },
   {
    "duration": 386,
    "start_time": "2022-05-01T23:29:04.652Z"
   },
   {
    "duration": 541,
    "start_time": "2022-05-01T23:29:05.040Z"
   },
   {
    "duration": 415,
    "start_time": "2022-05-01T23:29:05.583Z"
   },
   {
    "duration": 15,
    "start_time": "2022-05-01T23:29:06.001Z"
   },
   {
    "duration": 41,
    "start_time": "2022-05-01T23:29:06.019Z"
   },
   {
    "duration": 222,
    "start_time": "2022-05-01T23:29:06.062Z"
   },
   {
    "duration": 1393,
    "start_time": "2022-05-01T23:29:06.287Z"
   },
   {
    "duration": 20,
    "start_time": "2022-05-01T23:29:07.683Z"
   },
   {
    "duration": 242,
    "start_time": "2022-05-01T23:29:07.705Z"
   },
   {
    "duration": 8,
    "start_time": "2022-05-01T23:31:31.356Z"
   },
   {
    "duration": 14,
    "start_time": "2022-05-01T23:31:33.855Z"
   },
   {
    "duration": 8,
    "start_time": "2022-05-01T23:31:41.019Z"
   },
   {
    "duration": 5,
    "start_time": "2022-05-01T23:31:42.903Z"
   },
   {
    "duration": 490,
    "start_time": "2022-05-01T23:31:42.910Z"
   },
   {
    "duration": 11,
    "start_time": "2022-05-01T23:31:43.402Z"
   },
   {
    "duration": 10,
    "start_time": "2022-05-01T23:31:43.417Z"
   },
   {
    "duration": 22,
    "start_time": "2022-05-01T23:31:43.429Z"
   },
   {
    "duration": 187,
    "start_time": "2022-05-01T23:31:43.454Z"
   },
   {
    "duration": 9,
    "start_time": "2022-05-01T23:31:43.644Z"
   },
   {
    "duration": 13,
    "start_time": "2022-05-01T23:31:43.654Z"
   },
   {
    "duration": 13,
    "start_time": "2022-05-01T23:31:43.671Z"
   },
   {
    "duration": 13,
    "start_time": "2022-05-01T23:31:43.686Z"
   },
   {
    "duration": 15,
    "start_time": "2022-05-01T23:31:43.701Z"
   },
   {
    "duration": 6,
    "start_time": "2022-05-01T23:31:43.752Z"
   },
   {
    "duration": 20,
    "start_time": "2022-05-01T23:31:43.760Z"
   },
   {
    "duration": 117,
    "start_time": "2022-05-01T23:31:43.782Z"
   },
   {
    "duration": 109,
    "start_time": "2022-05-01T23:31:43.901Z"
   },
   {
    "duration": 8,
    "start_time": "2022-05-01T23:31:44.013Z"
   },
   {
    "duration": 86,
    "start_time": "2022-05-01T23:31:44.023Z"
   },
   {
    "duration": 13,
    "start_time": "2022-05-01T23:31:44.111Z"
   },
   {
    "duration": 9,
    "start_time": "2022-05-01T23:31:44.126Z"
   },
   {
    "duration": 178,
    "start_time": "2022-05-01T23:31:44.151Z"
   },
   {
    "duration": 8,
    "start_time": "2022-05-01T23:31:44.332Z"
   },
   {
    "duration": 122,
    "start_time": "2022-05-01T23:31:44.351Z"
   },
   {
    "duration": 137,
    "start_time": "2022-05-01T23:31:44.475Z"
   },
   {
    "duration": 37,
    "start_time": "2022-05-01T23:31:44.616Z"
   },
   {
    "duration": 5,
    "start_time": "2022-05-01T23:31:44.655Z"
   },
   {
    "duration": 22,
    "start_time": "2022-05-01T23:31:44.663Z"
   },
   {
    "duration": 8,
    "start_time": "2022-05-01T23:31:44.687Z"
   },
   {
    "duration": 7,
    "start_time": "2022-05-01T23:31:44.697Z"
   },
   {
    "duration": 5,
    "start_time": "2022-05-01T23:31:44.706Z"
   },
   {
    "duration": 45,
    "start_time": "2022-05-01T23:31:44.713Z"
   },
   {
    "duration": 9,
    "start_time": "2022-05-01T23:31:44.761Z"
   },
   {
    "duration": 1347,
    "start_time": "2022-05-01T23:31:44.772Z"
   },
   {
    "duration": 33,
    "start_time": "2022-05-01T23:31:46.121Z"
   },
   {
    "duration": 483,
    "start_time": "2022-05-01T23:31:46.156Z"
   },
   {
    "duration": 241,
    "start_time": "2022-05-01T23:31:46.641Z"
   },
   {
    "duration": 45,
    "start_time": "2022-05-01T23:31:46.884Z"
   },
   {
    "duration": 1169,
    "start_time": "2022-05-01T23:31:46.931Z"
   },
   {
    "duration": 403,
    "start_time": "2022-05-01T23:31:48.102Z"
   },
   {
    "duration": 401,
    "start_time": "2022-05-01T23:31:48.507Z"
   },
   {
    "duration": 434,
    "start_time": "2022-05-01T23:31:48.911Z"
   },
   {
    "duration": 16,
    "start_time": "2022-05-01T23:31:49.352Z"
   },
   {
    "duration": 18,
    "start_time": "2022-05-01T23:31:49.370Z"
   },
   {
    "duration": 233,
    "start_time": "2022-05-01T23:31:49.391Z"
   },
   {
    "duration": 1532,
    "start_time": "2022-05-01T23:31:49.627Z"
   },
   {
    "duration": 22,
    "start_time": "2022-05-01T23:31:51.161Z"
   },
   {
    "duration": 224,
    "start_time": "2022-05-01T23:31:51.185Z"
   },
   {
    "duration": 15,
    "start_time": "2022-05-01T23:33:38.732Z"
   },
   {
    "duration": 19,
    "start_time": "2022-05-01T23:33:45.729Z"
   },
   {
    "duration": 6,
    "start_time": "2022-05-01T23:33:48.205Z"
   },
   {
    "duration": 5,
    "start_time": "2022-05-01T23:34:44.443Z"
   },
   {
    "duration": 475,
    "start_time": "2022-05-01T23:34:44.450Z"
   },
   {
    "duration": 11,
    "start_time": "2022-05-01T23:34:44.928Z"
   },
   {
    "duration": 15,
    "start_time": "2022-05-01T23:34:44.941Z"
   },
   {
    "duration": 13,
    "start_time": "2022-05-01T23:34:44.961Z"
   },
   {
    "duration": 197,
    "start_time": "2022-05-01T23:34:44.976Z"
   },
   {
    "duration": 10,
    "start_time": "2022-05-01T23:34:45.175Z"
   },
   {
    "duration": 13,
    "start_time": "2022-05-01T23:34:45.188Z"
   },
   {
    "duration": 22,
    "start_time": "2022-05-01T23:34:45.203Z"
   },
   {
    "duration": 34,
    "start_time": "2022-05-01T23:34:45.227Z"
   },
   {
    "duration": 27,
    "start_time": "2022-05-01T23:34:45.266Z"
   },
   {
    "duration": 11,
    "start_time": "2022-05-01T23:34:45.296Z"
   },
   {
    "duration": 44,
    "start_time": "2022-05-01T23:34:45.309Z"
   },
   {
    "duration": 110,
    "start_time": "2022-05-01T23:34:45.356Z"
   },
   {
    "duration": 128,
    "start_time": "2022-05-01T23:34:45.469Z"
   },
   {
    "duration": 10,
    "start_time": "2022-05-01T23:34:45.600Z"
   },
   {
    "duration": 85,
    "start_time": "2022-05-01T23:34:45.613Z"
   },
   {
    "duration": 14,
    "start_time": "2022-05-01T23:34:45.700Z"
   },
   {
    "duration": 8,
    "start_time": "2022-05-01T23:34:45.717Z"
   },
   {
    "duration": 193,
    "start_time": "2022-05-01T23:34:45.727Z"
   },
   {
    "duration": 9,
    "start_time": "2022-05-01T23:34:45.922Z"
   },
   {
    "duration": 132,
    "start_time": "2022-05-01T23:34:45.933Z"
   },
   {
    "duration": 142,
    "start_time": "2022-05-01T23:34:46.067Z"
   },
   {
    "duration": 29,
    "start_time": "2022-05-01T23:34:46.211Z"
   },
   {
    "duration": 3,
    "start_time": "2022-05-01T23:34:46.252Z"
   },
   {
    "duration": 7,
    "start_time": "2022-05-01T23:34:48.817Z"
   },
   {
    "duration": 18,
    "start_time": "2022-05-01T23:35:03.766Z"
   },
   {
    "duration": 22,
    "start_time": "2022-05-01T23:35:23.229Z"
   },
   {
    "duration": 30,
    "start_time": "2022-05-01T23:35:35.557Z"
   },
   {
    "duration": 22,
    "start_time": "2022-05-01T23:35:40.639Z"
   },
   {
    "duration": 12,
    "start_time": "2022-05-01T23:37:15.437Z"
   },
   {
    "duration": 4,
    "start_time": "2022-05-01T23:37:36.878Z"
   },
   {
    "duration": 29,
    "start_time": "2022-05-01T23:37:40.448Z"
   },
   {
    "duration": 15,
    "start_time": "2022-05-01T23:38:33.300Z"
   },
   {
    "duration": 14,
    "start_time": "2022-05-01T23:38:50.414Z"
   },
   {
    "duration": 4,
    "start_time": "2022-05-01T23:39:19.204Z"
   },
   {
    "duration": 487,
    "start_time": "2022-05-01T23:39:19.211Z"
   },
   {
    "duration": 12,
    "start_time": "2022-05-01T23:39:19.701Z"
   },
   {
    "duration": 11,
    "start_time": "2022-05-01T23:39:19.715Z"
   },
   {
    "duration": 12,
    "start_time": "2022-05-01T23:39:19.728Z"
   },
   {
    "duration": 190,
    "start_time": "2022-05-01T23:39:19.752Z"
   },
   {
    "duration": 14,
    "start_time": "2022-05-01T23:39:19.945Z"
   },
   {
    "duration": 12,
    "start_time": "2022-05-01T23:39:19.961Z"
   },
   {
    "duration": 12,
    "start_time": "2022-05-01T23:39:19.976Z"
   },
   {
    "duration": 16,
    "start_time": "2022-05-01T23:39:19.990Z"
   },
   {
    "duration": 45,
    "start_time": "2022-05-01T23:39:20.008Z"
   },
   {
    "duration": 11,
    "start_time": "2022-05-01T23:39:20.055Z"
   },
   {
    "duration": 20,
    "start_time": "2022-05-01T23:39:20.069Z"
   },
   {
    "duration": 113,
    "start_time": "2022-05-01T23:39:20.091Z"
   },
   {
    "duration": 108,
    "start_time": "2022-05-01T23:39:20.206Z"
   },
   {
    "duration": 7,
    "start_time": "2022-05-01T23:39:20.317Z"
   },
   {
    "duration": 79,
    "start_time": "2022-05-01T23:39:20.326Z"
   },
   {
    "duration": 12,
    "start_time": "2022-05-01T23:39:20.407Z"
   },
   {
    "duration": 453,
    "start_time": "2022-05-01T23:39:22.086Z"
   },
   {
    "duration": 12,
    "start_time": "2022-05-01T23:40:27.616Z"
   },
   {
    "duration": 10,
    "start_time": "2022-05-01T23:40:40.168Z"
   },
   {
    "duration": 416,
    "start_time": "2022-05-01T23:41:33.174Z"
   },
   {
    "duration": 31,
    "start_time": "2022-05-01T23:42:10.791Z"
   },
   {
    "duration": 416,
    "start_time": "2022-05-01T23:43:24.304Z"
   },
   {
    "duration": 422,
    "start_time": "2022-05-01T23:43:27.750Z"
   },
   {
    "duration": 8,
    "start_time": "2022-05-01T23:44:00.183Z"
   },
   {
    "duration": 8,
    "start_time": "2022-05-01T23:44:06.228Z"
   },
   {
    "duration": 9,
    "start_time": "2022-05-01T23:46:46.873Z"
   },
   {
    "duration": 4,
    "start_time": "2022-05-01T23:46:52.168Z"
   },
   {
    "duration": 462,
    "start_time": "2022-05-01T23:46:52.179Z"
   },
   {
    "duration": 12,
    "start_time": "2022-05-01T23:46:52.644Z"
   },
   {
    "duration": 12,
    "start_time": "2022-05-01T23:46:52.658Z"
   },
   {
    "duration": 11,
    "start_time": "2022-05-01T23:46:52.673Z"
   },
   {
    "duration": 189,
    "start_time": "2022-05-01T23:46:52.686Z"
   },
   {
    "duration": 9,
    "start_time": "2022-05-01T23:46:52.877Z"
   },
   {
    "duration": 10,
    "start_time": "2022-05-01T23:46:52.888Z"
   },
   {
    "duration": 13,
    "start_time": "2022-05-01T23:46:52.900Z"
   },
   {
    "duration": 41,
    "start_time": "2022-05-01T23:46:52.914Z"
   },
   {
    "duration": 15,
    "start_time": "2022-05-01T23:46:52.959Z"
   },
   {
    "duration": 19,
    "start_time": "2022-05-01T23:46:52.976Z"
   },
   {
    "duration": 25,
    "start_time": "2022-05-01T23:46:52.997Z"
   },
   {
    "duration": 113,
    "start_time": "2022-05-01T23:46:53.024Z"
   },
   {
    "duration": 124,
    "start_time": "2022-05-01T23:46:53.140Z"
   },
   {
    "duration": 10,
    "start_time": "2022-05-01T23:46:53.267Z"
   },
   {
    "duration": 86,
    "start_time": "2022-05-01T23:46:53.280Z"
   },
   {
    "duration": 14,
    "start_time": "2022-05-01T23:46:53.368Z"
   },
   {
    "duration": 6,
    "start_time": "2022-05-01T23:46:53.385Z"
   },
   {
    "duration": 189,
    "start_time": "2022-05-01T23:46:53.393Z"
   },
   {
    "duration": 90,
    "start_time": "2022-05-01T23:46:53.585Z"
   },
   {
    "duration": 116,
    "start_time": "2022-05-01T23:46:53.677Z"
   },
   {
    "duration": 33,
    "start_time": "2022-05-01T23:46:53.795Z"
   },
   {
    "duration": 23,
    "start_time": "2022-05-01T23:46:53.830Z"
   },
   {
    "duration": 10,
    "start_time": "2022-05-01T23:46:53.855Z"
   },
   {
    "duration": 7,
    "start_time": "2022-05-01T23:46:53.867Z"
   },
   {
    "duration": 6,
    "start_time": "2022-05-01T23:46:53.876Z"
   },
   {
    "duration": 9,
    "start_time": "2022-05-01T23:46:53.884Z"
   },
   {
    "duration": 8,
    "start_time": "2022-05-01T23:46:53.898Z"
   },
   {
    "duration": 42,
    "start_time": "2022-05-01T23:46:53.909Z"
   },
   {
    "duration": 13,
    "start_time": "2022-05-01T23:46:53.954Z"
   },
   {
    "duration": 0,
    "start_time": "2022-05-01T23:46:53.969Z"
   },
   {
    "duration": 0,
    "start_time": "2022-05-01T23:46:53.970Z"
   },
   {
    "duration": 0,
    "start_time": "2022-05-01T23:46:53.971Z"
   },
   {
    "duration": 0,
    "start_time": "2022-05-01T23:46:53.973Z"
   },
   {
    "duration": 0,
    "start_time": "2022-05-01T23:46:53.975Z"
   },
   {
    "duration": 0,
    "start_time": "2022-05-01T23:46:53.976Z"
   },
   {
    "duration": 0,
    "start_time": "2022-05-01T23:46:53.977Z"
   },
   {
    "duration": 0,
    "start_time": "2022-05-01T23:46:53.979Z"
   },
   {
    "duration": 0,
    "start_time": "2022-05-01T23:46:53.980Z"
   },
   {
    "duration": 0,
    "start_time": "2022-05-01T23:46:53.982Z"
   },
   {
    "duration": 0,
    "start_time": "2022-05-01T23:46:53.983Z"
   },
   {
    "duration": 0,
    "start_time": "2022-05-01T23:46:53.984Z"
   },
   {
    "duration": 0,
    "start_time": "2022-05-01T23:46:53.985Z"
   },
   {
    "duration": 0,
    "start_time": "2022-05-01T23:46:53.987Z"
   },
   {
    "duration": 0,
    "start_time": "2022-05-01T23:47:18.053Z"
   },
   {
    "duration": 0,
    "start_time": "2022-05-01T23:47:18.055Z"
   },
   {
    "duration": 0,
    "start_time": "2022-05-01T23:47:18.057Z"
   },
   {
    "duration": 0,
    "start_time": "2022-05-01T23:47:18.059Z"
   },
   {
    "duration": 0,
    "start_time": "2022-05-01T23:47:18.061Z"
   },
   {
    "duration": 0,
    "start_time": "2022-05-01T23:47:18.063Z"
   },
   {
    "duration": 0,
    "start_time": "2022-05-01T23:47:18.065Z"
   },
   {
    "duration": 0,
    "start_time": "2022-05-01T23:47:18.067Z"
   },
   {
    "duration": 0,
    "start_time": "2022-05-01T23:47:18.069Z"
   },
   {
    "duration": 0,
    "start_time": "2022-05-01T23:47:18.071Z"
   },
   {
    "duration": 0,
    "start_time": "2022-05-01T23:47:18.072Z"
   },
   {
    "duration": 0,
    "start_time": "2022-05-01T23:47:18.074Z"
   },
   {
    "duration": 0,
    "start_time": "2022-05-01T23:47:18.076Z"
   },
   {
    "duration": 0,
    "start_time": "2022-05-01T23:47:18.077Z"
   },
   {
    "duration": 0,
    "start_time": "2022-05-01T23:47:18.079Z"
   },
   {
    "duration": 0,
    "start_time": "2022-05-01T23:47:18.081Z"
   },
   {
    "duration": 0,
    "start_time": "2022-05-01T23:47:18.082Z"
   },
   {
    "duration": 0,
    "start_time": "2022-05-01T23:47:18.084Z"
   },
   {
    "duration": 0,
    "start_time": "2022-05-01T23:47:18.086Z"
   },
   {
    "duration": 0,
    "start_time": "2022-05-01T23:47:18.152Z"
   },
   {
    "duration": 0,
    "start_time": "2022-05-01T23:47:18.153Z"
   },
   {
    "duration": 0,
    "start_time": "2022-05-01T23:47:18.155Z"
   },
   {
    "duration": 0,
    "start_time": "2022-05-01T23:47:18.157Z"
   },
   {
    "duration": 0,
    "start_time": "2022-05-01T23:47:18.159Z"
   },
   {
    "duration": 0,
    "start_time": "2022-05-01T23:47:18.160Z"
   },
   {
    "duration": 0,
    "start_time": "2022-05-01T23:47:18.162Z"
   },
   {
    "duration": 0,
    "start_time": "2022-05-01T23:47:18.164Z"
   },
   {
    "duration": 0,
    "start_time": "2022-05-01T23:47:18.165Z"
   },
   {
    "duration": 0,
    "start_time": "2022-05-01T23:47:18.167Z"
   },
   {
    "duration": 0,
    "start_time": "2022-05-01T23:47:18.169Z"
   },
   {
    "duration": 0,
    "start_time": "2022-05-01T23:47:18.170Z"
   },
   {
    "duration": 0,
    "start_time": "2022-05-01T23:47:18.172Z"
   },
   {
    "duration": 0,
    "start_time": "2022-05-01T23:47:18.174Z"
   },
   {
    "duration": 0,
    "start_time": "2022-05-01T23:47:18.175Z"
   },
   {
    "duration": 0,
    "start_time": "2022-05-01T23:47:18.177Z"
   },
   {
    "duration": 0,
    "start_time": "2022-05-01T23:47:18.179Z"
   },
   {
    "duration": 0,
    "start_time": "2022-05-01T23:47:18.181Z"
   },
   {
    "duration": 0,
    "start_time": "2022-05-01T23:47:18.183Z"
   },
   {
    "duration": 0,
    "start_time": "2022-05-01T23:47:18.184Z"
   },
   {
    "duration": 0,
    "start_time": "2022-05-01T23:47:18.186Z"
   },
   {
    "duration": 0,
    "start_time": "2022-05-01T23:47:18.188Z"
   },
   {
    "duration": 1,
    "start_time": "2022-05-01T23:47:18.189Z"
   },
   {
    "duration": 0,
    "start_time": "2022-05-01T23:47:18.252Z"
   },
   {
    "duration": 0,
    "start_time": "2022-05-01T23:47:18.254Z"
   },
   {
    "duration": 0,
    "start_time": "2022-05-01T23:47:18.255Z"
   },
   {
    "duration": 4,
    "start_time": "2022-05-02T00:01:55.316Z"
   },
   {
    "duration": 495,
    "start_time": "2022-05-02T00:01:55.323Z"
   },
   {
    "duration": 11,
    "start_time": "2022-05-02T00:01:55.820Z"
   },
   {
    "duration": 11,
    "start_time": "2022-05-02T00:01:55.833Z"
   },
   {
    "duration": 13,
    "start_time": "2022-05-02T00:01:55.847Z"
   },
   {
    "duration": 186,
    "start_time": "2022-05-02T00:01:55.862Z"
   },
   {
    "duration": 10,
    "start_time": "2022-05-02T00:01:56.050Z"
   },
   {
    "duration": 11,
    "start_time": "2022-05-02T00:01:56.062Z"
   },
   {
    "duration": 9,
    "start_time": "2022-05-02T00:01:56.076Z"
   },
   {
    "duration": 12,
    "start_time": "2022-05-02T00:01:56.088Z"
   },
   {
    "duration": 16,
    "start_time": "2022-05-02T00:01:56.152Z"
   },
   {
    "duration": 11,
    "start_time": "2022-05-02T00:01:56.170Z"
   },
   {
    "duration": 21,
    "start_time": "2022-05-02T00:01:56.183Z"
   },
   {
    "duration": 126,
    "start_time": "2022-05-02T00:01:56.210Z"
   },
   {
    "duration": 117,
    "start_time": "2022-05-02T00:01:56.352Z"
   },
   {
    "duration": 8,
    "start_time": "2022-05-02T00:01:56.471Z"
   },
   {
    "duration": 87,
    "start_time": "2022-05-02T00:01:56.481Z"
   },
   {
    "duration": 12,
    "start_time": "2022-05-02T00:01:56.570Z"
   },
   {
    "duration": 8,
    "start_time": "2022-05-02T00:01:56.585Z"
   },
   {
    "duration": 196,
    "start_time": "2022-05-02T00:01:56.594Z"
   },
   {
    "duration": 120,
    "start_time": "2022-05-02T00:01:56.792Z"
   },
   {
    "duration": 139,
    "start_time": "2022-05-02T00:01:56.915Z"
   },
   {
    "duration": 32,
    "start_time": "2022-05-02T00:01:57.057Z"
   },
   {
    "duration": 8,
    "start_time": "2022-05-02T00:01:57.091Z"
   },
   {
    "duration": 3,
    "start_time": "2022-05-02T00:01:57.101Z"
   },
   {
    "duration": 8,
    "start_time": "2022-05-02T00:01:57.106Z"
   },
   {
    "duration": 39,
    "start_time": "2022-05-02T00:01:57.116Z"
   },
   {
    "duration": 7,
    "start_time": "2022-05-02T00:01:57.157Z"
   },
   {
    "duration": 9,
    "start_time": "2022-05-02T00:01:57.166Z"
   },
   {
    "duration": 4,
    "start_time": "2022-05-02T00:01:57.177Z"
   },
   {
    "duration": 13,
    "start_time": "2022-05-02T00:01:57.183Z"
   },
   {
    "duration": 0,
    "start_time": "2022-05-02T00:01:57.199Z"
   },
   {
    "duration": 0,
    "start_time": "2022-05-02T00:01:57.201Z"
   },
   {
    "duration": 0,
    "start_time": "2022-05-02T00:01:57.203Z"
   },
   {
    "duration": 0,
    "start_time": "2022-05-02T00:01:57.205Z"
   },
   {
    "duration": 0,
    "start_time": "2022-05-02T00:01:57.207Z"
   },
   {
    "duration": 0,
    "start_time": "2022-05-02T00:01:57.208Z"
   },
   {
    "duration": 0,
    "start_time": "2022-05-02T00:01:57.252Z"
   },
   {
    "duration": 0,
    "start_time": "2022-05-02T00:01:57.254Z"
   },
   {
    "duration": 0,
    "start_time": "2022-05-02T00:01:57.256Z"
   },
   {
    "duration": 0,
    "start_time": "2022-05-02T00:01:57.257Z"
   },
   {
    "duration": 0,
    "start_time": "2022-05-02T00:01:57.259Z"
   },
   {
    "duration": 0,
    "start_time": "2022-05-02T00:01:57.260Z"
   },
   {
    "duration": 0,
    "start_time": "2022-05-02T00:01:57.263Z"
   },
   {
    "duration": 0,
    "start_time": "2022-05-02T00:01:57.264Z"
   },
   {
    "duration": 1803,
    "start_time": "2022-05-02T00:03:18.261Z"
   },
   {
    "duration": 28,
    "start_time": "2022-05-02T00:03:20.754Z"
   },
   {
    "duration": 5,
    "start_time": "2022-05-02T00:03:28.449Z"
   },
   {
    "duration": 489,
    "start_time": "2022-05-02T00:03:28.456Z"
   },
   {
    "duration": 12,
    "start_time": "2022-05-02T00:03:28.948Z"
   },
   {
    "duration": 15,
    "start_time": "2022-05-02T00:03:28.962Z"
   },
   {
    "duration": 13,
    "start_time": "2022-05-02T00:03:28.980Z"
   },
   {
    "duration": 202,
    "start_time": "2022-05-02T00:03:28.995Z"
   },
   {
    "duration": 9,
    "start_time": "2022-05-02T00:03:29.199Z"
   },
   {
    "duration": 12,
    "start_time": "2022-05-02T00:03:29.210Z"
   },
   {
    "duration": 32,
    "start_time": "2022-05-02T00:03:29.224Z"
   },
   {
    "duration": 11,
    "start_time": "2022-05-02T00:03:29.259Z"
   },
   {
    "duration": 16,
    "start_time": "2022-05-02T00:03:29.272Z"
   },
   {
    "duration": 7,
    "start_time": "2022-05-02T00:03:29.290Z"
   },
   {
    "duration": 55,
    "start_time": "2022-05-02T00:03:29.299Z"
   },
   {
    "duration": 103,
    "start_time": "2022-05-02T00:03:29.359Z"
   },
   {
    "duration": 112,
    "start_time": "2022-05-02T00:03:29.464Z"
   },
   {
    "duration": 9,
    "start_time": "2022-05-02T00:03:29.578Z"
   },
   {
    "duration": 84,
    "start_time": "2022-05-02T00:03:29.589Z"
   },
   {
    "duration": 12,
    "start_time": "2022-05-02T00:03:29.675Z"
   },
   {
    "duration": 7,
    "start_time": "2022-05-02T00:03:29.689Z"
   },
   {
    "duration": 200,
    "start_time": "2022-05-02T00:03:29.698Z"
   },
   {
    "duration": 126,
    "start_time": "2022-05-02T00:03:29.900Z"
   },
   {
    "duration": 145,
    "start_time": "2022-05-02T00:03:30.028Z"
   },
   {
    "duration": 33,
    "start_time": "2022-05-02T00:03:30.175Z"
   },
   {
    "duration": 7,
    "start_time": "2022-05-02T00:03:30.211Z"
   },
   {
    "duration": 9,
    "start_time": "2022-05-02T00:03:30.221Z"
   },
   {
    "duration": 9,
    "start_time": "2022-05-02T00:03:30.253Z"
   },
   {
    "duration": 9,
    "start_time": "2022-05-02T00:03:30.265Z"
   },
   {
    "duration": 18,
    "start_time": "2022-05-02T00:03:30.276Z"
   },
   {
    "duration": 17,
    "start_time": "2022-05-02T00:03:30.296Z"
   },
   {
    "duration": 9,
    "start_time": "2022-05-02T00:03:30.316Z"
   },
   {
    "duration": 1764,
    "start_time": "2022-05-02T00:03:30.327Z"
   },
   {
    "duration": 27,
    "start_time": "2022-05-02T00:03:32.093Z"
   },
   {
    "duration": 494,
    "start_time": "2022-05-02T00:03:32.122Z"
   },
   {
    "duration": 202,
    "start_time": "2022-05-02T00:03:32.620Z"
   },
   {
    "duration": 55,
    "start_time": "2022-05-02T00:03:32.824Z"
   },
   {
    "duration": 1133,
    "start_time": "2022-05-02T00:03:32.882Z"
   },
   {
    "duration": 398,
    "start_time": "2022-05-02T00:03:34.017Z"
   },
   {
    "duration": 400,
    "start_time": "2022-05-02T00:03:34.417Z"
   },
   {
    "duration": 516,
    "start_time": "2022-05-02T00:03:34.819Z"
   },
   {
    "duration": 22,
    "start_time": "2022-05-02T00:03:35.338Z"
   },
   {
    "duration": 18,
    "start_time": "2022-05-02T00:03:35.368Z"
   },
   {
    "duration": 231,
    "start_time": "2022-05-02T00:03:35.388Z"
   },
   {
    "duration": 36,
    "start_time": "2022-05-02T00:03:35.622Z"
   },
   {
    "duration": 0,
    "start_time": "2022-05-02T00:03:35.661Z"
   },
   {
    "duration": 0,
    "start_time": "2022-05-02T00:03:35.664Z"
   },
   {
    "duration": 1853,
    "start_time": "2022-05-02T00:03:42.931Z"
   },
   {
    "duration": 21,
    "start_time": "2022-05-02T00:03:45.745Z"
   },
   {
    "duration": 202,
    "start_time": "2022-05-02T00:03:48.636Z"
   },
   {
    "duration": 16,
    "start_time": "2022-05-02T00:17:33.905Z"
   },
   {
    "duration": 5,
    "start_time": "2022-05-02T00:17:46.646Z"
   },
   {
    "duration": 31,
    "start_time": "2022-05-02T00:17:56.754Z"
   },
   {
    "duration": 6,
    "start_time": "2022-05-02T00:18:06.169Z"
   },
   {
    "duration": 33,
    "start_time": "2022-05-02T00:18:08.207Z"
   },
   {
    "duration": 509,
    "start_time": "2022-05-02T00:18:25.076Z"
   },
   {
    "duration": 208,
    "start_time": "2022-05-02T00:18:38.248Z"
   },
   {
    "duration": 45,
    "start_time": "2022-05-02T00:18:41.514Z"
   },
   {
    "duration": 390,
    "start_time": "2022-05-02T00:18:45.275Z"
   },
   {
    "duration": 411,
    "start_time": "2022-05-02T00:18:48.120Z"
   },
   {
    "duration": 418,
    "start_time": "2022-05-02T00:18:59.402Z"
   },
   {
    "duration": 19,
    "start_time": "2022-05-02T00:19:18.905Z"
   },
   {
    "duration": 204,
    "start_time": "2022-05-02T00:19:25.634Z"
   },
   {
    "duration": 21,
    "start_time": "2022-05-02T00:19:32.995Z"
   },
   {
    "duration": 9,
    "start_time": "2022-05-02T00:20:09.371Z"
   },
   {
    "duration": 32,
    "start_time": "2022-05-02T00:20:10.780Z"
   },
   {
    "duration": 5,
    "start_time": "2022-05-02T00:20:13.746Z"
   },
   {
    "duration": 510,
    "start_time": "2022-05-02T00:20:13.753Z"
   },
   {
    "duration": 12,
    "start_time": "2022-05-02T00:20:14.265Z"
   },
   {
    "duration": 15,
    "start_time": "2022-05-02T00:20:14.279Z"
   },
   {
    "duration": 12,
    "start_time": "2022-05-02T00:20:14.298Z"
   },
   {
    "duration": 203,
    "start_time": "2022-05-02T00:20:14.312Z"
   },
   {
    "duration": 8,
    "start_time": "2022-05-02T00:20:14.517Z"
   },
   {
    "duration": 30,
    "start_time": "2022-05-02T00:20:14.528Z"
   },
   {
    "duration": 13,
    "start_time": "2022-05-02T00:20:14.561Z"
   },
   {
    "duration": 12,
    "start_time": "2022-05-02T00:20:14.576Z"
   },
   {
    "duration": 123,
    "start_time": "2022-05-02T00:20:14.590Z"
   },
   {
    "duration": 10,
    "start_time": "2022-05-02T00:20:14.715Z"
   },
   {
    "duration": 33,
    "start_time": "2022-05-02T00:20:14.727Z"
   },
   {
    "duration": 104,
    "start_time": "2022-05-02T00:20:14.764Z"
   },
   {
    "duration": 112,
    "start_time": "2022-05-02T00:20:14.870Z"
   },
   {
    "duration": 7,
    "start_time": "2022-05-02T00:20:14.985Z"
   },
   {
    "duration": 88,
    "start_time": "2022-05-02T00:20:14.994Z"
   },
   {
    "duration": 12,
    "start_time": "2022-05-02T00:20:15.085Z"
   },
   {
    "duration": 19,
    "start_time": "2022-05-02T00:20:15.099Z"
   },
   {
    "duration": 191,
    "start_time": "2022-05-02T00:20:15.120Z"
   },
   {
    "duration": 123,
    "start_time": "2022-05-02T00:20:15.314Z"
   },
   {
    "duration": 153,
    "start_time": "2022-05-02T00:20:15.440Z"
   },
   {
    "duration": 34,
    "start_time": "2022-05-02T00:20:15.596Z"
   },
   {
    "duration": 22,
    "start_time": "2022-05-02T00:20:15.632Z"
   },
   {
    "duration": 3,
    "start_time": "2022-05-02T00:20:15.656Z"
   },
   {
    "duration": 25,
    "start_time": "2022-05-02T00:20:20.900Z"
   },
   {
    "duration": 5,
    "start_time": "2022-05-02T00:20:39.095Z"
   },
   {
    "duration": 25,
    "start_time": "2022-05-02T00:20:41.549Z"
   },
   {
    "duration": 19,
    "start_time": "2022-05-02T00:25:46.564Z"
   },
   {
    "duration": 17,
    "start_time": "2022-05-02T00:26:07.172Z"
   },
   {
    "duration": 19,
    "start_time": "2022-05-02T00:26:08.803Z"
   },
   {
    "duration": 19,
    "start_time": "2022-05-02T00:26:10.027Z"
   },
   {
    "duration": 19,
    "start_time": "2022-05-02T00:26:16.095Z"
   },
   {
    "duration": 19,
    "start_time": "2022-05-02T00:26:32.947Z"
   },
   {
    "duration": 5,
    "start_time": "2022-05-02T00:26:46.795Z"
   },
   {
    "duration": 499,
    "start_time": "2022-05-02T00:26:46.804Z"
   },
   {
    "duration": 12,
    "start_time": "2022-05-02T00:26:47.306Z"
   },
   {
    "duration": 12,
    "start_time": "2022-05-02T00:26:47.321Z"
   },
   {
    "duration": 20,
    "start_time": "2022-05-02T00:26:47.337Z"
   },
   {
    "duration": 191,
    "start_time": "2022-05-02T00:26:47.360Z"
   },
   {
    "duration": 10,
    "start_time": "2022-05-02T00:26:47.554Z"
   },
   {
    "duration": 13,
    "start_time": "2022-05-02T00:26:47.567Z"
   },
   {
    "duration": 16,
    "start_time": "2022-05-02T00:26:47.582Z"
   },
   {
    "duration": 17,
    "start_time": "2022-05-02T00:26:47.600Z"
   },
   {
    "duration": 15,
    "start_time": "2022-05-02T00:26:47.652Z"
   },
   {
    "duration": 9,
    "start_time": "2022-05-02T00:26:47.670Z"
   },
   {
    "duration": 28,
    "start_time": "2022-05-02T00:26:47.681Z"
   },
   {
    "duration": 122,
    "start_time": "2022-05-02T00:26:47.712Z"
   },
   {
    "duration": 121,
    "start_time": "2022-05-02T00:26:47.836Z"
   },
   {
    "duration": 11,
    "start_time": "2022-05-02T00:26:47.959Z"
   },
   {
    "duration": 90,
    "start_time": "2022-05-02T00:26:47.972Z"
   },
   {
    "duration": 15,
    "start_time": "2022-05-02T00:26:48.064Z"
   },
   {
    "duration": 5,
    "start_time": "2022-05-02T00:26:48.082Z"
   },
   {
    "duration": 213,
    "start_time": "2022-05-02T00:26:48.090Z"
   },
   {
    "duration": 125,
    "start_time": "2022-05-02T00:26:48.305Z"
   },
   {
    "duration": 146,
    "start_time": "2022-05-02T00:26:48.433Z"
   },
   {
    "duration": 33,
    "start_time": "2022-05-02T00:26:48.581Z"
   },
   {
    "duration": 8,
    "start_time": "2022-05-02T00:26:48.616Z"
   },
   {
    "duration": 29,
    "start_time": "2022-05-02T00:26:48.626Z"
   },
   {
    "duration": 29,
    "start_time": "2022-05-02T00:26:48.657Z"
   },
   {
    "duration": 3,
    "start_time": "2022-05-02T00:26:48.689Z"
   },
   {
    "duration": 21,
    "start_time": "2022-05-02T00:26:48.694Z"
   },
   {
    "duration": 11,
    "start_time": "2022-05-02T00:26:48.720Z"
   },
   {
    "duration": 20,
    "start_time": "2022-05-02T00:26:48.733Z"
   },
   {
    "duration": 18,
    "start_time": "2022-05-02T00:26:48.755Z"
   },
   {
    "duration": 17,
    "start_time": "2022-05-02T00:26:48.775Z"
   },
   {
    "duration": 1797,
    "start_time": "2022-05-02T00:26:48.794Z"
   },
   {
    "duration": 25,
    "start_time": "2022-05-02T00:26:50.594Z"
   },
   {
    "duration": 495,
    "start_time": "2022-05-02T00:26:50.623Z"
   },
   {
    "duration": 32,
    "start_time": "2022-05-02T00:26:51.121Z"
   },
   {
    "duration": 0,
    "start_time": "2022-05-02T00:26:51.157Z"
   },
   {
    "duration": 0,
    "start_time": "2022-05-02T00:26:51.159Z"
   },
   {
    "duration": 0,
    "start_time": "2022-05-02T00:26:51.162Z"
   },
   {
    "duration": 0,
    "start_time": "2022-05-02T00:26:51.164Z"
   },
   {
    "duration": 0,
    "start_time": "2022-05-02T00:26:51.166Z"
   },
   {
    "duration": 1,
    "start_time": "2022-05-02T00:26:51.168Z"
   },
   {
    "duration": 0,
    "start_time": "2022-05-02T00:26:51.171Z"
   },
   {
    "duration": 0,
    "start_time": "2022-05-02T00:26:51.173Z"
   },
   {
    "duration": 0,
    "start_time": "2022-05-02T00:26:51.175Z"
   },
   {
    "duration": 0,
    "start_time": "2022-05-02T00:26:51.177Z"
   },
   {
    "duration": 0,
    "start_time": "2022-05-02T00:26:51.179Z"
   },
   {
    "duration": 1,
    "start_time": "2022-05-02T00:26:51.181Z"
   },
   {
    "duration": 17,
    "start_time": "2022-05-02T00:33:28.873Z"
   },
   {
    "duration": 18,
    "start_time": "2022-05-02T00:33:50.890Z"
   },
   {
    "duration": 17,
    "start_time": "2022-05-02T00:33:52.108Z"
   },
   {
    "duration": 18,
    "start_time": "2022-05-02T00:34:03.135Z"
   },
   {
    "duration": 18,
    "start_time": "2022-05-02T00:34:17.439Z"
   },
   {
    "duration": 482,
    "start_time": "2022-05-02T00:34:20.281Z"
   },
   {
    "duration": 6,
    "start_time": "2022-05-02T00:34:31.610Z"
   },
   {
    "duration": 4,
    "start_time": "2022-05-02T00:34:35.363Z"
   },
   {
    "duration": 525,
    "start_time": "2022-05-02T00:34:35.369Z"
   },
   {
    "duration": 12,
    "start_time": "2022-05-02T00:34:35.896Z"
   },
   {
    "duration": 22,
    "start_time": "2022-05-02T00:34:35.910Z"
   },
   {
    "duration": 12,
    "start_time": "2022-05-02T00:34:35.935Z"
   },
   {
    "duration": 186,
    "start_time": "2022-05-02T00:34:35.949Z"
   },
   {
    "duration": 17,
    "start_time": "2022-05-02T00:34:36.137Z"
   },
   {
    "duration": 9,
    "start_time": "2022-05-02T00:34:36.156Z"
   },
   {
    "duration": 12,
    "start_time": "2022-05-02T00:34:36.167Z"
   },
   {
    "duration": 11,
    "start_time": "2022-05-02T00:34:36.181Z"
   },
   {
    "duration": 18,
    "start_time": "2022-05-02T00:34:36.196Z"
   },
   {
    "duration": 38,
    "start_time": "2022-05-02T00:34:36.216Z"
   },
   {
    "duration": 18,
    "start_time": "2022-05-02T00:34:36.256Z"
   },
   {
    "duration": 117,
    "start_time": "2022-05-02T00:34:36.276Z"
   },
   {
    "duration": 115,
    "start_time": "2022-05-02T00:34:36.395Z"
   },
   {
    "duration": 8,
    "start_time": "2022-05-02T00:34:36.512Z"
   },
   {
    "duration": 82,
    "start_time": "2022-05-02T00:34:36.523Z"
   },
   {
    "duration": 13,
    "start_time": "2022-05-02T00:34:36.607Z"
   },
   {
    "duration": 7,
    "start_time": "2022-05-02T00:34:36.622Z"
   },
   {
    "duration": 191,
    "start_time": "2022-05-02T00:34:36.631Z"
   },
   {
    "duration": 122,
    "start_time": "2022-05-02T00:34:36.825Z"
   },
   {
    "duration": 145,
    "start_time": "2022-05-02T00:34:36.949Z"
   },
   {
    "duration": 33,
    "start_time": "2022-05-02T00:34:37.096Z"
   },
   {
    "duration": 25,
    "start_time": "2022-05-02T00:34:37.131Z"
   },
   {
    "duration": 5,
    "start_time": "2022-05-02T00:34:37.158Z"
   },
   {
    "duration": 25,
    "start_time": "2022-05-02T00:34:37.166Z"
   },
   {
    "duration": 4,
    "start_time": "2022-05-02T00:34:37.193Z"
   },
   {
    "duration": 12,
    "start_time": "2022-05-02T00:34:37.199Z"
   },
   {
    "duration": 37,
    "start_time": "2022-05-02T00:34:37.216Z"
   },
   {
    "duration": 8,
    "start_time": "2022-05-02T00:34:37.255Z"
   },
   {
    "duration": 10,
    "start_time": "2022-05-02T00:34:37.265Z"
   },
   {
    "duration": 6,
    "start_time": "2022-05-02T00:34:37.277Z"
   },
   {
    "duration": 1862,
    "start_time": "2022-05-02T00:34:37.285Z"
   },
   {
    "duration": 29,
    "start_time": "2022-05-02T00:34:39.152Z"
   },
   {
    "duration": 6,
    "start_time": "2022-05-02T00:34:39.183Z"
   },
   {
    "duration": 21,
    "start_time": "2022-05-02T00:34:39.192Z"
   },
   {
    "duration": 0,
    "start_time": "2022-05-02T00:34:39.215Z"
   },
   {
    "duration": 0,
    "start_time": "2022-05-02T00:34:39.253Z"
   },
   {
    "duration": 0,
    "start_time": "2022-05-02T00:34:39.255Z"
   },
   {
    "duration": 0,
    "start_time": "2022-05-02T00:34:39.257Z"
   },
   {
    "duration": 0,
    "start_time": "2022-05-02T00:34:39.260Z"
   },
   {
    "duration": 0,
    "start_time": "2022-05-02T00:34:39.261Z"
   },
   {
    "duration": 0,
    "start_time": "2022-05-02T00:34:39.263Z"
   },
   {
    "duration": 0,
    "start_time": "2022-05-02T00:34:39.265Z"
   },
   {
    "duration": 0,
    "start_time": "2022-05-02T00:34:39.268Z"
   },
   {
    "duration": 0,
    "start_time": "2022-05-02T00:34:39.270Z"
   },
   {
    "duration": 0,
    "start_time": "2022-05-02T00:34:39.272Z"
   },
   {
    "duration": 0,
    "start_time": "2022-05-02T00:34:39.274Z"
   },
   {
    "duration": 32,
    "start_time": "2022-05-02T00:34:49.997Z"
   },
   {
    "duration": 30,
    "start_time": "2022-05-02T00:37:08.336Z"
   },
   {
    "duration": 30,
    "start_time": "2022-05-02T00:37:17.253Z"
   },
   {
    "duration": 28,
    "start_time": "2022-05-02T00:37:27.717Z"
   },
   {
    "duration": 31,
    "start_time": "2022-05-02T00:38:54.162Z"
   },
   {
    "duration": 30,
    "start_time": "2022-05-02T00:39:56.631Z"
   },
   {
    "duration": 29,
    "start_time": "2022-05-02T00:40:58.732Z"
   },
   {
    "duration": 29,
    "start_time": "2022-05-02T00:41:09.912Z"
   },
   {
    "duration": 31,
    "start_time": "2022-05-02T00:41:18.977Z"
   },
   {
    "duration": 1412,
    "start_time": "2022-05-02T17:10:28.211Z"
   },
   {
    "duration": 425,
    "start_time": "2022-05-02T17:10:29.625Z"
   },
   {
    "duration": 13,
    "start_time": "2022-05-02T17:10:30.052Z"
   },
   {
    "duration": 10,
    "start_time": "2022-05-02T17:10:30.067Z"
   },
   {
    "duration": 22,
    "start_time": "2022-05-02T17:10:30.081Z"
   },
   {
    "duration": 163,
    "start_time": "2022-05-02T17:10:30.105Z"
   },
   {
    "duration": 7,
    "start_time": "2022-05-02T17:10:30.269Z"
   },
   {
    "duration": 21,
    "start_time": "2022-05-02T17:10:30.278Z"
   },
   {
    "duration": 19,
    "start_time": "2022-05-02T17:10:30.305Z"
   },
   {
    "duration": 31,
    "start_time": "2022-05-02T17:10:30.326Z"
   },
   {
    "duration": 32,
    "start_time": "2022-05-02T17:10:30.360Z"
   },
   {
    "duration": 65,
    "start_time": "2022-05-02T17:10:30.394Z"
   },
   {
    "duration": 44,
    "start_time": "2022-05-02T17:10:30.461Z"
   },
   {
    "duration": 84,
    "start_time": "2022-05-02T17:10:30.509Z"
   },
   {
    "duration": 90,
    "start_time": "2022-05-02T17:10:30.595Z"
   },
   {
    "duration": 9,
    "start_time": "2022-05-02T17:10:30.694Z"
   },
   {
    "duration": 106,
    "start_time": "2022-05-02T17:10:30.705Z"
   },
   {
    "duration": 12,
    "start_time": "2022-05-02T17:10:30.813Z"
   },
   {
    "duration": 29,
    "start_time": "2022-05-02T17:10:30.827Z"
   },
   {
    "duration": 164,
    "start_time": "2022-05-02T17:10:30.859Z"
   },
   {
    "duration": 103,
    "start_time": "2022-05-02T17:10:31.025Z"
   },
   {
    "duration": 105,
    "start_time": "2022-05-02T17:10:31.131Z"
   },
   {
    "duration": 24,
    "start_time": "2022-05-02T17:10:31.238Z"
   },
   {
    "duration": 6,
    "start_time": "2022-05-02T17:10:31.263Z"
   },
   {
    "duration": 7,
    "start_time": "2022-05-02T17:10:31.271Z"
   },
   {
    "duration": 22,
    "start_time": "2022-05-02T17:10:31.294Z"
   },
   {
    "duration": 3,
    "start_time": "2022-05-02T17:10:31.318Z"
   },
   {
    "duration": 14,
    "start_time": "2022-05-02T17:10:31.322Z"
   },
   {
    "duration": 14,
    "start_time": "2022-05-02T17:10:31.338Z"
   },
   {
    "duration": 10,
    "start_time": "2022-05-02T17:10:31.354Z"
   },
   {
    "duration": 12,
    "start_time": "2022-05-02T17:10:31.365Z"
   },
   {
    "duration": 3,
    "start_time": "2022-05-02T17:10:31.392Z"
   },
   {
    "duration": 1060,
    "start_time": "2022-05-02T17:10:31.397Z"
   },
   {
    "duration": 15,
    "start_time": "2022-05-02T17:10:32.459Z"
   },
   {
    "duration": 19,
    "start_time": "2022-05-02T17:10:32.476Z"
   },
   {
    "duration": 129,
    "start_time": "2022-05-02T17:10:32.498Z"
   },
   {
    "duration": 0,
    "start_time": "2022-05-02T17:10:32.630Z"
   },
   {
    "duration": 0,
    "start_time": "2022-05-02T17:10:32.631Z"
   },
   {
    "duration": 0,
    "start_time": "2022-05-02T17:10:32.632Z"
   },
   {
    "duration": 0,
    "start_time": "2022-05-02T17:10:32.633Z"
   },
   {
    "duration": 0,
    "start_time": "2022-05-02T17:10:32.635Z"
   },
   {
    "duration": 0,
    "start_time": "2022-05-02T17:10:32.636Z"
   },
   {
    "duration": 0,
    "start_time": "2022-05-02T17:10:32.637Z"
   },
   {
    "duration": 0,
    "start_time": "2022-05-02T17:10:32.638Z"
   },
   {
    "duration": 0,
    "start_time": "2022-05-02T17:10:32.639Z"
   },
   {
    "duration": 0,
    "start_time": "2022-05-02T17:10:32.640Z"
   },
   {
    "duration": 0,
    "start_time": "2022-05-02T17:10:32.642Z"
   },
   {
    "duration": 0,
    "start_time": "2022-05-02T17:10:32.643Z"
   },
   {
    "duration": 29,
    "start_time": "2022-05-02T17:11:38.749Z"
   },
   {
    "duration": 30,
    "start_time": "2022-05-02T17:13:04.047Z"
   },
   {
    "duration": 432,
    "start_time": "2022-05-02T17:13:11.091Z"
   },
   {
    "duration": 430,
    "start_time": "2022-05-02T17:13:33.979Z"
   },
   {
    "duration": 299,
    "start_time": "2022-05-02T17:15:30.783Z"
   },
   {
    "duration": 4,
    "start_time": "2022-05-02T17:15:55.153Z"
   },
   {
    "duration": 438,
    "start_time": "2022-05-02T17:15:55.159Z"
   },
   {
    "duration": 8,
    "start_time": "2022-05-02T17:15:55.599Z"
   },
   {
    "duration": 12,
    "start_time": "2022-05-02T17:15:55.608Z"
   },
   {
    "duration": 7,
    "start_time": "2022-05-02T17:15:55.622Z"
   },
   {
    "duration": 148,
    "start_time": "2022-05-02T17:15:55.631Z"
   },
   {
    "duration": 12,
    "start_time": "2022-05-02T17:15:55.781Z"
   },
   {
    "duration": 8,
    "start_time": "2022-05-02T17:15:55.794Z"
   },
   {
    "duration": 8,
    "start_time": "2022-05-02T17:15:55.803Z"
   },
   {
    "duration": 8,
    "start_time": "2022-05-02T17:15:55.812Z"
   },
   {
    "duration": 9,
    "start_time": "2022-05-02T17:15:55.822Z"
   },
   {
    "duration": 6,
    "start_time": "2022-05-02T17:15:55.832Z"
   },
   {
    "duration": 13,
    "start_time": "2022-05-02T17:15:55.840Z"
   },
   {
    "duration": 70,
    "start_time": "2022-05-02T17:15:55.892Z"
   },
   {
    "duration": 82,
    "start_time": "2022-05-02T17:15:55.964Z"
   },
   {
    "duration": 7,
    "start_time": "2022-05-02T17:15:56.048Z"
   },
   {
    "duration": 70,
    "start_time": "2022-05-02T17:15:56.057Z"
   },
   {
    "duration": 9,
    "start_time": "2022-05-02T17:15:56.129Z"
   },
   {
    "duration": 5,
    "start_time": "2022-05-02T17:15:56.140Z"
   },
   {
    "duration": 137,
    "start_time": "2022-05-02T17:15:56.146Z"
   },
   {
    "duration": 79,
    "start_time": "2022-05-02T17:15:56.284Z"
   },
   {
    "duration": 102,
    "start_time": "2022-05-02T17:15:56.365Z"
   },
   {
    "duration": 28,
    "start_time": "2022-05-02T17:15:56.469Z"
   },
   {
    "duration": 7,
    "start_time": "2022-05-02T17:15:56.500Z"
   },
   {
    "duration": 6,
    "start_time": "2022-05-02T17:15:56.509Z"
   },
   {
    "duration": 16,
    "start_time": "2022-05-02T17:15:56.517Z"
   },
   {
    "duration": 3,
    "start_time": "2022-05-02T17:15:56.535Z"
   },
   {
    "duration": 5,
    "start_time": "2022-05-02T17:15:56.540Z"
   },
   {
    "duration": 3,
    "start_time": "2022-05-02T17:15:56.549Z"
   },
   {
    "duration": 4,
    "start_time": "2022-05-02T17:15:56.593Z"
   },
   {
    "duration": 6,
    "start_time": "2022-05-02T17:15:56.599Z"
   },
   {
    "duration": 4,
    "start_time": "2022-05-02T17:15:56.607Z"
   },
   {
    "duration": 1236,
    "start_time": "2022-05-02T17:15:56.613Z"
   },
   {
    "duration": 17,
    "start_time": "2022-05-02T17:15:57.851Z"
   },
   {
    "duration": 24,
    "start_time": "2022-05-02T17:15:57.869Z"
   },
   {
    "duration": 258,
    "start_time": "2022-05-02T17:15:57.895Z"
   },
   {
    "duration": 110,
    "start_time": "2022-05-02T17:15:58.154Z"
   },
   {
    "duration": 36,
    "start_time": "2022-05-02T17:15:58.266Z"
   },
   {
    "duration": 925,
    "start_time": "2022-05-02T17:15:58.304Z"
   },
   {
    "duration": 228,
    "start_time": "2022-05-02T17:15:59.230Z"
   },
   {
    "duration": 228,
    "start_time": "2022-05-02T17:15:59.460Z"
   },
   {
    "duration": 444,
    "start_time": "2022-05-02T17:15:59.692Z"
   },
   {
    "duration": 16,
    "start_time": "2022-05-02T17:16:00.138Z"
   },
   {
    "duration": 21,
    "start_time": "2022-05-02T17:16:00.156Z"
   },
   {
    "duration": 216,
    "start_time": "2022-05-02T17:16:00.179Z"
   },
   {
    "duration": 1296,
    "start_time": "2022-05-02T17:16:00.397Z"
   },
   {
    "duration": 15,
    "start_time": "2022-05-02T17:16:01.695Z"
   },
   {
    "duration": 135,
    "start_time": "2022-05-02T17:16:01.711Z"
   },
   {
    "duration": 3,
    "start_time": "2022-05-02T17:21:35.380Z"
   },
   {
    "duration": 377,
    "start_time": "2022-05-02T17:21:35.385Z"
   },
   {
    "duration": 9,
    "start_time": "2022-05-02T17:21:35.764Z"
   },
   {
    "duration": 8,
    "start_time": "2022-05-02T17:21:35.775Z"
   },
   {
    "duration": 8,
    "start_time": "2022-05-02T17:21:35.785Z"
   },
   {
    "duration": 139,
    "start_time": "2022-05-02T17:21:35.795Z"
   },
   {
    "duration": 6,
    "start_time": "2022-05-02T17:21:35.936Z"
   },
   {
    "duration": 6,
    "start_time": "2022-05-02T17:21:35.944Z"
   },
   {
    "duration": 7,
    "start_time": "2022-05-02T17:21:35.952Z"
   },
   {
    "duration": 33,
    "start_time": "2022-05-02T17:21:35.961Z"
   },
   {
    "duration": 10,
    "start_time": "2022-05-02T17:21:35.997Z"
   },
   {
    "duration": 7,
    "start_time": "2022-05-02T17:21:36.009Z"
   },
   {
    "duration": 13,
    "start_time": "2022-05-02T17:21:36.018Z"
   },
   {
    "duration": 92,
    "start_time": "2022-05-02T17:21:36.033Z"
   },
   {
    "duration": 75,
    "start_time": "2022-05-02T17:21:36.127Z"
   },
   {
    "duration": 7,
    "start_time": "2022-05-02T17:21:36.204Z"
   },
   {
    "duration": 46,
    "start_time": "2022-05-02T17:21:36.213Z"
   },
   {
    "duration": 8,
    "start_time": "2022-05-02T17:21:36.261Z"
   },
   {
    "duration": 5,
    "start_time": "2022-05-02T17:21:36.271Z"
   },
   {
    "duration": 120,
    "start_time": "2022-05-02T17:21:36.292Z"
   },
   {
    "duration": 80,
    "start_time": "2022-05-02T17:21:36.414Z"
   },
   {
    "duration": 87,
    "start_time": "2022-05-02T17:21:36.496Z"
   },
   {
    "duration": 27,
    "start_time": "2022-05-02T17:21:36.584Z"
   },
   {
    "duration": 6,
    "start_time": "2022-05-02T17:21:36.613Z"
   },
   {
    "duration": 7,
    "start_time": "2022-05-02T17:21:36.620Z"
   },
   {
    "duration": 4,
    "start_time": "2022-05-02T17:21:36.628Z"
   },
   {
    "duration": 4,
    "start_time": "2022-05-02T17:21:36.634Z"
   },
   {
    "duration": 5,
    "start_time": "2022-05-02T17:21:36.639Z"
   },
   {
    "duration": 4,
    "start_time": "2022-05-02T17:21:36.647Z"
   },
   {
    "duration": 41,
    "start_time": "2022-05-02T17:21:36.652Z"
   },
   {
    "duration": 5,
    "start_time": "2022-05-02T17:21:36.694Z"
   },
   {
    "duration": 5,
    "start_time": "2022-05-02T17:21:36.701Z"
   },
   {
    "duration": 972,
    "start_time": "2022-05-02T17:21:36.708Z"
   },
   {
    "duration": 22,
    "start_time": "2022-05-02T17:21:37.681Z"
   },
   {
    "duration": 7,
    "start_time": "2022-05-02T17:21:37.704Z"
   },
   {
    "duration": 263,
    "start_time": "2022-05-02T17:21:37.713Z"
   },
   {
    "duration": 108,
    "start_time": "2022-05-02T17:21:37.981Z"
   },
   {
    "duration": 27,
    "start_time": "2022-05-02T17:21:38.090Z"
   },
   {
    "duration": 783,
    "start_time": "2022-05-02T17:21:38.118Z"
   },
   {
    "duration": 222,
    "start_time": "2022-05-02T17:21:38.903Z"
   },
   {
    "duration": 233,
    "start_time": "2022-05-02T17:21:39.127Z"
   },
   {
    "duration": 315,
    "start_time": "2022-05-02T17:21:39.361Z"
   },
   {
    "duration": 18,
    "start_time": "2022-05-02T17:21:39.677Z"
   },
   {
    "duration": 12,
    "start_time": "2022-05-02T17:21:39.697Z"
   },
   {
    "duration": 122,
    "start_time": "2022-05-02T17:21:39.710Z"
   },
   {
    "duration": 1160,
    "start_time": "2022-05-02T17:21:39.833Z"
   },
   {
    "duration": 14,
    "start_time": "2022-05-02T17:21:40.995Z"
   },
   {
    "duration": 137,
    "start_time": "2022-05-02T17:21:41.010Z"
   },
   {
    "duration": 1518,
    "start_time": "2022-05-02T18:12:51.516Z"
   },
   {
    "duration": 549,
    "start_time": "2022-05-02T18:12:53.037Z"
   },
   {
    "duration": 14,
    "start_time": "2022-05-02T18:12:53.588Z"
   },
   {
    "duration": 9,
    "start_time": "2022-05-02T18:12:53.604Z"
   },
   {
    "duration": 13,
    "start_time": "2022-05-02T18:12:53.615Z"
   },
   {
    "duration": 166,
    "start_time": "2022-05-02T18:12:53.630Z"
   },
   {
    "duration": 6,
    "start_time": "2022-05-02T18:12:53.798Z"
   },
   {
    "duration": 10,
    "start_time": "2022-05-02T18:12:53.806Z"
   },
   {
    "duration": 14,
    "start_time": "2022-05-02T18:12:53.817Z"
   },
   {
    "duration": 9,
    "start_time": "2022-05-02T18:12:53.832Z"
   },
   {
    "duration": 15,
    "start_time": "2022-05-02T18:12:53.843Z"
   },
   {
    "duration": 33,
    "start_time": "2022-05-02T18:12:53.859Z"
   },
   {
    "duration": 23,
    "start_time": "2022-05-02T18:12:53.894Z"
   },
   {
    "duration": 117,
    "start_time": "2022-05-02T18:12:53.921Z"
   },
   {
    "duration": 122,
    "start_time": "2022-05-02T18:12:54.040Z"
   },
   {
    "duration": 5,
    "start_time": "2022-05-02T18:12:54.164Z"
   },
   {
    "duration": 71,
    "start_time": "2022-05-02T18:12:54.171Z"
   },
   {
    "duration": 9,
    "start_time": "2022-05-02T18:12:54.244Z"
   },
   {
    "duration": 10,
    "start_time": "2022-05-02T18:12:54.255Z"
   },
   {
    "duration": 177,
    "start_time": "2022-05-02T18:12:54.267Z"
   },
   {
    "duration": 104,
    "start_time": "2022-05-02T18:12:54.447Z"
   },
   {
    "duration": 131,
    "start_time": "2022-05-02T18:12:54.553Z"
   },
   {
    "duration": 29,
    "start_time": "2022-05-02T18:12:54.686Z"
   },
   {
    "duration": 8,
    "start_time": "2022-05-02T18:12:54.716Z"
   },
   {
    "duration": 3,
    "start_time": "2022-05-02T18:12:54.726Z"
   },
   {
    "duration": 5,
    "start_time": "2022-05-02T18:12:54.731Z"
   },
   {
    "duration": 6,
    "start_time": "2022-05-02T18:12:54.737Z"
   },
   {
    "duration": 8,
    "start_time": "2022-05-02T18:12:54.745Z"
   },
   {
    "duration": 40,
    "start_time": "2022-05-02T18:12:54.754Z"
   },
   {
    "duration": 5,
    "start_time": "2022-05-02T18:12:54.796Z"
   },
   {
    "duration": 9,
    "start_time": "2022-05-02T18:12:54.803Z"
   },
   {
    "duration": 4,
    "start_time": "2022-05-02T18:12:54.814Z"
   },
   {
    "duration": 1073,
    "start_time": "2022-05-02T18:12:54.820Z"
   },
   {
    "duration": 21,
    "start_time": "2022-05-02T18:12:55.895Z"
   },
   {
    "duration": 9,
    "start_time": "2022-05-02T18:12:55.918Z"
   },
   {
    "duration": 466,
    "start_time": "2022-05-02T18:12:55.929Z"
   },
   {
    "duration": 195,
    "start_time": "2022-05-02T18:12:56.396Z"
   },
   {
    "duration": 37,
    "start_time": "2022-05-02T18:12:56.593Z"
   },
   {
    "duration": 1062,
    "start_time": "2022-05-02T18:12:56.632Z"
   },
   {
    "duration": 247,
    "start_time": "2022-05-02T18:12:57.695Z"
   },
   {
    "duration": 253,
    "start_time": "2022-05-02T18:12:57.946Z"
   },
   {
    "duration": 332,
    "start_time": "2022-05-02T18:12:58.200Z"
   },
   {
    "duration": 12,
    "start_time": "2022-05-02T18:12:58.534Z"
   },
   {
    "duration": 15,
    "start_time": "2022-05-02T18:12:58.548Z"
   },
   {
    "duration": 156,
    "start_time": "2022-05-02T18:12:58.565Z"
   },
   {
    "duration": 1176,
    "start_time": "2022-05-02T18:12:58.723Z"
   },
   {
    "duration": 13,
    "start_time": "2022-05-02T18:12:59.901Z"
   },
   {
    "duration": 145,
    "start_time": "2022-05-02T18:12:59.916Z"
   },
   {
    "duration": 172,
    "start_time": "2022-05-02T18:16:37.507Z"
   },
   {
    "duration": 1334,
    "start_time": "2022-05-02T18:20:04.675Z"
   },
   {
    "duration": 418,
    "start_time": "2022-05-02T18:20:06.011Z"
   },
   {
    "duration": 12,
    "start_time": "2022-05-02T18:20:06.431Z"
   },
   {
    "duration": 11,
    "start_time": "2022-05-02T18:20:06.445Z"
   },
   {
    "duration": 8,
    "start_time": "2022-05-02T18:20:06.459Z"
   },
   {
    "duration": 135,
    "start_time": "2022-05-02T18:20:06.469Z"
   },
   {
    "duration": 6,
    "start_time": "2022-05-02T18:20:06.606Z"
   },
   {
    "duration": 7,
    "start_time": "2022-05-02T18:20:06.613Z"
   },
   {
    "duration": 22,
    "start_time": "2022-05-02T18:20:06.621Z"
   },
   {
    "duration": 11,
    "start_time": "2022-05-02T18:20:06.644Z"
   },
   {
    "duration": 49,
    "start_time": "2022-05-02T18:20:06.657Z"
   },
   {
    "duration": 43,
    "start_time": "2022-05-02T18:20:06.708Z"
   },
   {
    "duration": 45,
    "start_time": "2022-05-02T18:20:06.754Z"
   },
   {
    "duration": 93,
    "start_time": "2022-05-02T18:20:06.802Z"
   },
   {
    "duration": 78,
    "start_time": "2022-05-02T18:20:06.897Z"
   },
   {
    "duration": 5,
    "start_time": "2022-05-02T18:20:06.977Z"
   },
   {
    "duration": 54,
    "start_time": "2022-05-02T18:20:06.992Z"
   },
   {
    "duration": 22,
    "start_time": "2022-05-02T18:20:07.048Z"
   },
   {
    "duration": 22,
    "start_time": "2022-05-02T18:20:07.071Z"
   },
   {
    "duration": 152,
    "start_time": "2022-05-02T18:20:07.095Z"
   },
   {
    "duration": 77,
    "start_time": "2022-05-02T18:20:07.249Z"
   },
   {
    "duration": 102,
    "start_time": "2022-05-02T18:20:07.328Z"
   },
   {
    "duration": 29,
    "start_time": "2022-05-02T18:20:07.431Z"
   },
   {
    "duration": 7,
    "start_time": "2022-05-02T18:20:07.462Z"
   },
   {
    "duration": 26,
    "start_time": "2022-05-02T18:20:07.471Z"
   },
   {
    "duration": 1110,
    "start_time": "2022-05-02T18:20:07.498Z"
   },
   {
    "duration": 16,
    "start_time": "2022-05-02T18:20:08.610Z"
   },
   {
    "duration": 288,
    "start_time": "2022-05-02T18:20:08.628Z"
   },
   {
    "duration": 120,
    "start_time": "2022-05-02T18:20:08.918Z"
   },
   {
    "duration": 27,
    "start_time": "2022-05-02T18:20:09.040Z"
   },
   {
    "duration": 936,
    "start_time": "2022-05-02T18:20:09.069Z"
   },
   {
    "duration": 265,
    "start_time": "2022-05-02T18:20:10.007Z"
   },
   {
    "duration": 257,
    "start_time": "2022-05-02T18:20:10.273Z"
   },
   {
    "duration": 332,
    "start_time": "2022-05-02T18:20:10.532Z"
   },
   {
    "duration": 10,
    "start_time": "2022-05-02T18:20:10.866Z"
   },
   {
    "duration": 25,
    "start_time": "2022-05-02T18:20:10.878Z"
   },
   {
    "duration": 139,
    "start_time": "2022-05-02T18:20:10.904Z"
   },
   {
    "duration": 1145,
    "start_time": "2022-05-02T18:20:11.045Z"
   },
   {
    "duration": 15,
    "start_time": "2022-05-02T18:20:12.192Z"
   },
   {
    "duration": 167,
    "start_time": "2022-05-02T18:20:12.208Z"
   },
   {
    "duration": 258,
    "start_time": "2022-05-02T18:22:52.355Z"
   },
   {
    "duration": 3,
    "start_time": "2022-05-02T18:23:02.966Z"
   },
   {
    "duration": 390,
    "start_time": "2022-05-02T18:23:02.971Z"
   },
   {
    "duration": 8,
    "start_time": "2022-05-02T18:23:03.362Z"
   },
   {
    "duration": 9,
    "start_time": "2022-05-02T18:23:03.372Z"
   },
   {
    "duration": 11,
    "start_time": "2022-05-02T18:23:03.383Z"
   },
   {
    "duration": 129,
    "start_time": "2022-05-02T18:23:03.396Z"
   },
   {
    "duration": 6,
    "start_time": "2022-05-02T18:23:03.527Z"
   },
   {
    "duration": 7,
    "start_time": "2022-05-02T18:23:03.535Z"
   },
   {
    "duration": 8,
    "start_time": "2022-05-02T18:23:03.543Z"
   },
   {
    "duration": 7,
    "start_time": "2022-05-02T18:23:03.554Z"
   },
   {
    "duration": 31,
    "start_time": "2022-05-02T18:23:03.562Z"
   },
   {
    "duration": 9,
    "start_time": "2022-05-02T18:23:03.595Z"
   },
   {
    "duration": 13,
    "start_time": "2022-05-02T18:23:03.605Z"
   },
   {
    "duration": 75,
    "start_time": "2022-05-02T18:23:03.620Z"
   },
   {
    "duration": 74,
    "start_time": "2022-05-02T18:23:03.697Z"
   },
   {
    "duration": 4,
    "start_time": "2022-05-02T18:23:03.773Z"
   },
   {
    "duration": 50,
    "start_time": "2022-05-02T18:23:03.792Z"
   },
   {
    "duration": 9,
    "start_time": "2022-05-02T18:23:03.843Z"
   },
   {
    "duration": 7,
    "start_time": "2022-05-02T18:23:03.853Z"
   },
   {
    "duration": 135,
    "start_time": "2022-05-02T18:23:03.861Z"
   },
   {
    "duration": 73,
    "start_time": "2022-05-02T18:23:03.998Z"
   },
   {
    "duration": 94,
    "start_time": "2022-05-02T18:23:04.073Z"
   },
   {
    "duration": 35,
    "start_time": "2022-05-02T18:23:04.169Z"
   },
   {
    "duration": 7,
    "start_time": "2022-05-02T18:23:04.206Z"
   },
   {
    "duration": 7,
    "start_time": "2022-05-02T18:23:04.215Z"
   },
   {
    "duration": 1004,
    "start_time": "2022-05-02T18:23:04.223Z"
   },
   {
    "duration": 17,
    "start_time": "2022-05-02T18:23:05.229Z"
   },
   {
    "duration": 284,
    "start_time": "2022-05-02T18:23:05.250Z"
   },
   {
    "duration": 118,
    "start_time": "2022-05-02T18:23:05.537Z"
   },
   {
    "duration": 36,
    "start_time": "2022-05-02T18:23:05.657Z"
   },
   {
    "duration": 813,
    "start_time": "2022-05-02T18:23:05.695Z"
   },
   {
    "duration": 226,
    "start_time": "2022-05-02T18:23:06.510Z"
   },
   {
    "duration": 231,
    "start_time": "2022-05-02T18:23:06.738Z"
   },
   {
    "duration": 320,
    "start_time": "2022-05-02T18:23:06.970Z"
   },
   {
    "duration": 10,
    "start_time": "2022-05-02T18:23:07.291Z"
   },
   {
    "duration": 12,
    "start_time": "2022-05-02T18:23:07.302Z"
   },
   {
    "duration": 137,
    "start_time": "2022-05-02T18:23:07.315Z"
   },
   {
    "duration": 1163,
    "start_time": "2022-05-02T18:23:07.454Z"
   },
   {
    "duration": 14,
    "start_time": "2022-05-02T18:23:08.618Z"
   },
   {
    "duration": 139,
    "start_time": "2022-05-02T18:23:08.634Z"
   },
   {
    "duration": 1119,
    "start_time": "2022-05-02T18:23:27.261Z"
   },
   {
    "duration": 364,
    "start_time": "2022-05-02T18:23:28.383Z"
   },
   {
    "duration": 13,
    "start_time": "2022-05-02T18:23:28.749Z"
   },
   {
    "duration": 10,
    "start_time": "2022-05-02T18:23:28.764Z"
   },
   {
    "duration": 8,
    "start_time": "2022-05-02T18:23:28.777Z"
   },
   {
    "duration": 146,
    "start_time": "2022-05-02T18:23:28.787Z"
   },
   {
    "duration": 7,
    "start_time": "2022-05-02T18:23:28.935Z"
   },
   {
    "duration": 7,
    "start_time": "2022-05-02T18:23:28.944Z"
   },
   {
    "duration": 7,
    "start_time": "2022-05-02T18:23:28.953Z"
   },
   {
    "duration": 32,
    "start_time": "2022-05-02T18:23:28.962Z"
   },
   {
    "duration": 11,
    "start_time": "2022-05-02T18:23:28.996Z"
   },
   {
    "duration": 6,
    "start_time": "2022-05-02T18:23:29.008Z"
   },
   {
    "duration": 15,
    "start_time": "2022-05-02T18:23:29.016Z"
   },
   {
    "duration": 96,
    "start_time": "2022-05-02T18:23:29.035Z"
   },
   {
    "duration": 84,
    "start_time": "2022-05-02T18:23:29.133Z"
   },
   {
    "duration": 5,
    "start_time": "2022-05-02T18:23:29.219Z"
   },
   {
    "duration": 50,
    "start_time": "2022-05-02T18:23:29.225Z"
   },
   {
    "duration": 23,
    "start_time": "2022-05-02T18:23:29.276Z"
   },
   {
    "duration": 4,
    "start_time": "2022-05-02T18:23:29.301Z"
   },
   {
    "duration": 127,
    "start_time": "2022-05-02T18:23:29.306Z"
   },
   {
    "duration": 82,
    "start_time": "2022-05-02T18:23:29.435Z"
   },
   {
    "duration": 96,
    "start_time": "2022-05-02T18:23:29.518Z"
   },
   {
    "duration": 22,
    "start_time": "2022-05-02T18:23:29.616Z"
   },
   {
    "duration": 6,
    "start_time": "2022-05-02T18:23:29.639Z"
   },
   {
    "duration": 5,
    "start_time": "2022-05-02T18:23:29.646Z"
   },
   {
    "duration": 3,
    "start_time": "2022-05-02T18:23:34.301Z"
   },
   {
    "duration": 387,
    "start_time": "2022-05-02T18:23:34.305Z"
   },
   {
    "duration": 9,
    "start_time": "2022-05-02T18:23:34.694Z"
   },
   {
    "duration": 56,
    "start_time": "2022-05-02T18:23:34.705Z"
   },
   {
    "duration": 10,
    "start_time": "2022-05-02T18:23:34.763Z"
   },
   {
    "duration": 132,
    "start_time": "2022-05-02T18:23:34.775Z"
   },
   {
    "duration": 6,
    "start_time": "2022-05-02T18:23:34.909Z"
   },
   {
    "duration": 7,
    "start_time": "2022-05-02T18:23:34.916Z"
   },
   {
    "duration": 7,
    "start_time": "2022-05-02T18:23:34.925Z"
   },
   {
    "duration": 8,
    "start_time": "2022-05-02T18:23:34.934Z"
   },
   {
    "duration": 14,
    "start_time": "2022-05-02T18:23:34.944Z"
   },
   {
    "duration": 34,
    "start_time": "2022-05-02T18:23:34.960Z"
   },
   {
    "duration": 14,
    "start_time": "2022-05-02T18:23:34.995Z"
   },
   {
    "duration": 85,
    "start_time": "2022-05-02T18:23:35.011Z"
   },
   {
    "duration": 73,
    "start_time": "2022-05-02T18:23:35.099Z"
   },
   {
    "duration": 20,
    "start_time": "2022-05-02T18:23:35.174Z"
   },
   {
    "duration": 52,
    "start_time": "2022-05-02T18:23:35.196Z"
   },
   {
    "duration": 10,
    "start_time": "2022-05-02T18:23:35.250Z"
   },
   {
    "duration": 4,
    "start_time": "2022-05-02T18:23:35.262Z"
   },
   {
    "duration": 138,
    "start_time": "2022-05-02T18:23:35.268Z"
   },
   {
    "duration": 74,
    "start_time": "2022-05-02T18:23:35.407Z"
   },
   {
    "duration": 86,
    "start_time": "2022-05-02T18:23:35.493Z"
   },
   {
    "duration": 30,
    "start_time": "2022-05-02T18:23:35.581Z"
   },
   {
    "duration": 7,
    "start_time": "2022-05-02T18:23:35.613Z"
   },
   {
    "duration": 6,
    "start_time": "2022-05-02T18:23:35.622Z"
   },
   {
    "duration": 988,
    "start_time": "2022-05-02T18:23:35.629Z"
   },
   {
    "duration": 17,
    "start_time": "2022-05-02T18:23:36.619Z"
   },
   {
    "duration": 276,
    "start_time": "2022-05-02T18:23:36.637Z"
   },
   {
    "duration": 119,
    "start_time": "2022-05-02T18:23:36.915Z"
   },
   {
    "duration": 28,
    "start_time": "2022-05-02T18:23:37.036Z"
   },
   {
    "duration": 846,
    "start_time": "2022-05-02T18:23:37.066Z"
   },
   {
    "duration": 249,
    "start_time": "2022-05-02T18:23:37.914Z"
   },
   {
    "duration": 235,
    "start_time": "2022-05-02T18:23:38.165Z"
   },
   {
    "duration": 320,
    "start_time": "2022-05-02T18:23:38.402Z"
   },
   {
    "duration": 11,
    "start_time": "2022-05-02T18:23:38.724Z"
   },
   {
    "duration": 12,
    "start_time": "2022-05-02T18:23:38.737Z"
   },
   {
    "duration": 136,
    "start_time": "2022-05-02T18:23:38.751Z"
   },
   {
    "duration": 1130,
    "start_time": "2022-05-02T18:23:38.893Z"
   },
   {
    "duration": 13,
    "start_time": "2022-05-02T18:23:40.025Z"
   },
   {
    "duration": 130,
    "start_time": "2022-05-02T18:23:40.040Z"
   },
   {
    "duration": 150,
    "start_time": "2022-05-02T18:59:12.447Z"
   },
   {
    "duration": 1174,
    "start_time": "2022-05-02T18:59:24.922Z"
   },
   {
    "duration": 373,
    "start_time": "2022-05-02T18:59:26.099Z"
   },
   {
    "duration": 11,
    "start_time": "2022-05-02T18:59:26.474Z"
   },
   {
    "duration": 8,
    "start_time": "2022-05-02T18:59:26.487Z"
   },
   {
    "duration": 8,
    "start_time": "2022-05-02T18:59:26.496Z"
   },
   {
    "duration": 132,
    "start_time": "2022-05-02T18:59:26.505Z"
   },
   {
    "duration": 7,
    "start_time": "2022-05-02T18:59:26.638Z"
   },
   {
    "duration": 8,
    "start_time": "2022-05-02T18:59:26.646Z"
   },
   {
    "duration": 6,
    "start_time": "2022-05-02T18:59:26.656Z"
   },
   {
    "duration": 29,
    "start_time": "2022-05-02T18:59:26.665Z"
   },
   {
    "duration": 10,
    "start_time": "2022-05-02T18:59:26.695Z"
   },
   {
    "duration": 6,
    "start_time": "2022-05-02T18:59:26.706Z"
   },
   {
    "duration": 14,
    "start_time": "2022-05-02T18:59:26.714Z"
   },
   {
    "duration": 102,
    "start_time": "2022-05-02T18:59:26.730Z"
   },
   {
    "duration": 84,
    "start_time": "2022-05-02T18:59:26.834Z"
   },
   {
    "duration": 4,
    "start_time": "2022-05-02T18:59:26.920Z"
   },
   {
    "duration": 66,
    "start_time": "2022-05-02T18:59:26.926Z"
   },
   {
    "duration": 8,
    "start_time": "2022-05-02T18:59:26.994Z"
   },
   {
    "duration": 6,
    "start_time": "2022-05-02T18:59:27.004Z"
   },
   {
    "duration": 133,
    "start_time": "2022-05-02T18:59:27.011Z"
   },
   {
    "duration": 84,
    "start_time": "2022-05-02T18:59:27.145Z"
   },
   {
    "duration": 92,
    "start_time": "2022-05-02T18:59:27.231Z"
   },
   {
    "duration": 21,
    "start_time": "2022-05-02T18:59:27.325Z"
   },
   {
    "duration": 5,
    "start_time": "2022-05-02T18:59:27.348Z"
   },
   {
    "duration": 4,
    "start_time": "2022-05-02T18:59:27.355Z"
   },
   {
    "duration": 1017,
    "start_time": "2022-05-02T18:59:27.361Z"
   },
   {
    "duration": 21,
    "start_time": "2022-05-02T18:59:28.380Z"
   },
   {
    "duration": 266,
    "start_time": "2022-05-02T18:59:28.404Z"
   },
   {
    "duration": 114,
    "start_time": "2022-05-02T18:59:28.671Z"
   },
   {
    "duration": 27,
    "start_time": "2022-05-02T18:59:28.787Z"
   },
   {
    "duration": 794,
    "start_time": "2022-05-02T18:59:28.815Z"
   },
   {
    "duration": 250,
    "start_time": "2022-05-02T18:59:29.611Z"
   },
   {
    "duration": 248,
    "start_time": "2022-05-02T18:59:29.863Z"
   },
   {
    "duration": 331,
    "start_time": "2022-05-02T18:59:30.114Z"
   },
   {
    "duration": 11,
    "start_time": "2022-05-02T18:59:30.447Z"
   },
   {
    "duration": 11,
    "start_time": "2022-05-02T18:59:30.461Z"
   },
   {
    "duration": 123,
    "start_time": "2022-05-02T18:59:30.492Z"
   },
   {
    "duration": 3,
    "start_time": "2022-05-02T18:59:31.936Z"
   },
   {
    "duration": 363,
    "start_time": "2022-05-02T18:59:31.940Z"
   },
   {
    "duration": 8,
    "start_time": "2022-05-02T18:59:32.305Z"
   },
   {
    "duration": 14,
    "start_time": "2022-05-02T18:59:32.315Z"
   },
   {
    "duration": 10,
    "start_time": "2022-05-02T18:59:32.331Z"
   },
   {
    "duration": 132,
    "start_time": "2022-05-02T18:59:32.343Z"
   },
   {
    "duration": 6,
    "start_time": "2022-05-02T18:59:32.477Z"
   },
   {
    "duration": 10,
    "start_time": "2022-05-02T18:59:32.484Z"
   },
   {
    "duration": 12,
    "start_time": "2022-05-02T18:59:32.495Z"
   },
   {
    "duration": 10,
    "start_time": "2022-05-02T18:59:32.509Z"
   },
   {
    "duration": 11,
    "start_time": "2022-05-02T18:59:32.520Z"
   },
   {
    "duration": 5,
    "start_time": "2022-05-02T18:59:32.532Z"
   },
   {
    "duration": 15,
    "start_time": "2022-05-02T18:59:32.539Z"
   },
   {
    "duration": 95,
    "start_time": "2022-05-02T18:59:32.556Z"
   },
   {
    "duration": 76,
    "start_time": "2022-05-02T18:59:32.652Z"
   },
   {
    "duration": 4,
    "start_time": "2022-05-02T18:59:32.730Z"
   },
   {
    "duration": 59,
    "start_time": "2022-05-02T18:59:32.735Z"
   },
   {
    "duration": 11,
    "start_time": "2022-05-02T18:59:32.796Z"
   },
   {
    "duration": 8,
    "start_time": "2022-05-02T18:59:32.809Z"
   },
   {
    "duration": 127,
    "start_time": "2022-05-02T18:59:32.818Z"
   },
   {
    "duration": 78,
    "start_time": "2022-05-02T18:59:32.947Z"
   },
   {
    "duration": 94,
    "start_time": "2022-05-02T18:59:33.027Z"
   },
   {
    "duration": 21,
    "start_time": "2022-05-02T18:59:33.123Z"
   },
   {
    "duration": 6,
    "start_time": "2022-05-02T18:59:33.145Z"
   },
   {
    "duration": 5,
    "start_time": "2022-05-02T18:59:33.153Z"
   },
   {
    "duration": 998,
    "start_time": "2022-05-02T18:59:33.160Z"
   },
   {
    "duration": 19,
    "start_time": "2022-05-02T18:59:34.160Z"
   },
   {
    "duration": 278,
    "start_time": "2022-05-02T18:59:34.181Z"
   },
   {
    "duration": 139,
    "start_time": "2022-05-02T18:59:34.463Z"
   },
   {
    "duration": 30,
    "start_time": "2022-05-02T18:59:34.605Z"
   },
   {
    "duration": 878,
    "start_time": "2022-05-02T18:59:34.637Z"
   },
   {
    "duration": 256,
    "start_time": "2022-05-02T18:59:35.517Z"
   },
   {
    "duration": 235,
    "start_time": "2022-05-02T18:59:35.775Z"
   },
   {
    "duration": 315,
    "start_time": "2022-05-02T18:59:36.011Z"
   },
   {
    "duration": 9,
    "start_time": "2022-05-02T18:59:36.328Z"
   },
   {
    "duration": 15,
    "start_time": "2022-05-02T18:59:36.338Z"
   },
   {
    "duration": 125,
    "start_time": "2022-05-02T18:59:36.355Z"
   },
   {
    "duration": 1089,
    "start_time": "2022-05-02T18:59:36.482Z"
   },
   {
    "duration": 23,
    "start_time": "2022-05-02T18:59:37.573Z"
   },
   {
    "duration": 135,
    "start_time": "2022-05-02T18:59:37.597Z"
   },
   {
    "duration": 45,
    "start_time": "2022-05-02T21:39:11.757Z"
   },
   {
    "duration": 1105,
    "start_time": "2022-05-02T21:39:17.892Z"
   },
   {
    "duration": 325,
    "start_time": "2022-05-02T21:39:18.999Z"
   },
   {
    "duration": 11,
    "start_time": "2022-05-02T21:39:19.326Z"
   },
   {
    "duration": 9,
    "start_time": "2022-05-02T21:39:19.542Z"
   },
   {
    "duration": 9,
    "start_time": "2022-05-02T21:39:19.869Z"
   },
   {
    "duration": 122,
    "start_time": "2022-05-02T21:39:20.217Z"
   },
   {
    "duration": 6,
    "start_time": "2022-05-02T21:39:20.507Z"
   },
   {
    "duration": 7,
    "start_time": "2022-05-02T21:39:20.769Z"
   },
   {
    "duration": 6,
    "start_time": "2022-05-02T21:39:21.065Z"
   },
   {
    "duration": 7,
    "start_time": "2022-05-02T21:39:21.330Z"
   },
   {
    "duration": 10,
    "start_time": "2022-05-02T21:39:21.595Z"
   },
   {
    "duration": 4,
    "start_time": "2022-05-02T21:39:21.868Z"
   },
   {
    "duration": 13,
    "start_time": "2022-05-02T21:39:22.144Z"
   },
   {
    "duration": 60,
    "start_time": "2022-05-02T21:39:22.434Z"
   },
   {
    "duration": 67,
    "start_time": "2022-05-02T21:39:24.058Z"
   },
   {
    "duration": 5,
    "start_time": "2022-05-02T21:39:25.073Z"
   },
   {
    "duration": 50,
    "start_time": "2022-05-02T21:39:28.368Z"
   },
   {
    "duration": 9,
    "start_time": "2022-05-02T21:39:29.389Z"
   },
   {
    "duration": 3,
    "start_time": "2022-05-02T21:39:56.354Z"
   },
   {
    "duration": 131,
    "start_time": "2022-05-02T21:40:10.925Z"
   },
   {
    "duration": 75,
    "start_time": "2022-05-02T21:40:11.670Z"
   },
   {
    "duration": 87,
    "start_time": "2022-05-02T21:40:12.705Z"
   },
   {
    "duration": 21,
    "start_time": "2022-05-02T21:40:13.867Z"
   },
   {
    "duration": 6,
    "start_time": "2022-05-02T21:40:16.141Z"
   },
   {
    "duration": 6,
    "start_time": "2022-05-02T21:40:33.368Z"
   },
   {
    "duration": 978,
    "start_time": "2022-05-02T21:40:35.756Z"
   },
   {
    "duration": 17,
    "start_time": "2022-05-02T21:40:36.736Z"
   },
   {
    "duration": 257,
    "start_time": "2022-05-02T21:40:38.852Z"
   },
   {
    "duration": 18,
    "start_time": "2022-05-02T21:40:53.762Z"
   },
   {
    "duration": 61,
    "start_time": "2022-05-02T21:41:04.618Z"
   },
   {
    "duration": 4,
    "start_time": "2022-05-02T21:41:10.168Z"
   },
   {
    "duration": 111,
    "start_time": "2022-05-02T21:41:56.461Z"
   },
   {
    "duration": 26,
    "start_time": "2022-05-02T21:41:57.178Z"
   },
   {
    "duration": 819,
    "start_time": "2022-05-02T21:41:57.411Z"
   },
   {
    "duration": 227,
    "start_time": "2022-05-02T21:41:58.293Z"
   },
   {
    "duration": 211,
    "start_time": "2022-05-02T21:41:58.609Z"
   },
   {
    "duration": 287,
    "start_time": "2022-05-02T21:41:58.888Z"
   },
   {
    "duration": 10,
    "start_time": "2022-05-02T21:42:00.570Z"
   },
   {
    "duration": 13,
    "start_time": "2022-05-02T21:42:01.176Z"
   },
   {
    "duration": 122,
    "start_time": "2022-05-02T21:42:01.623Z"
   }
  ],
  "kernelspec": {
   "display_name": "Python 3 (ipykernel)",
   "language": "python",
   "name": "python3"
  },
  "language_info": {
   "codemirror_mode": {
    "name": "ipython",
    "version": 3
   },
   "file_extension": ".py",
   "mimetype": "text/x-python",
   "name": "python",
   "nbconvert_exporter": "python",
   "pygments_lexer": "ipython3",
   "version": "3.9.12"
  },
  "toc": {
   "base_numbering": 1,
   "nav_menu": {
    "height": "72.5px",
    "width": "205.533px"
   },
   "number_sections": true,
   "sideBar": true,
   "skip_h1_title": true,
   "title_cell": "Содержание работы",
   "title_sidebar": "Contents",
   "toc_cell": true,
   "toc_position": {},
   "toc_section_display": true,
   "toc_window_display": false
  }
 },
 "nbformat": 4,
 "nbformat_minor": 2
}
