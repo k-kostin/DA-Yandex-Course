{
 "cells": [
  {
   "cell_type": "markdown",
   "metadata": {},
   "source": [
    "# Исследование надёжности заёмщиков\n",
    "\n",
    "Заказчик — кредитный отдел банка. Нужно разобраться, влияет ли семейное положение и количество детей клиента на факт погашения кредита в срок. Входные данные от банка — статистика о платёжеспособности клиентов.\n",
    "\n",
    "Результаты исследования будут учтены при построении модели **кредитного скоринга** — специальной системы, которая оценивает способность потенциального заёмщика вернуть кредит банку."
   ]
  },
  {
   "cell_type": "markdown",
   "metadata": {},
   "source": [
    "## Шаг 1. Откройте файл с данными и изучите общую информацию"
   ]
  },
  {
   "cell_type": "markdown",
   "metadata": {},
   "source": [
    "Импортируем библиотеку pandas, связав вызов библиотеки с коротким именем pd, посмотрим на общую информацию об исходных данных и взглянем на первые строки:"
   ]
  },
  {
   "cell_type": "code",
   "execution_count": 1,
   "metadata": {
    "scrolled": true
   },
   "outputs": [
    {
     "name": "stdout",
     "output_type": "stream",
     "text": [
      "<class 'pandas.core.frame.DataFrame'>\n",
      "RangeIndex: 21525 entries, 0 to 21524\n",
      "Data columns (total 12 columns):\n",
      "children            21525 non-null int64\n",
      "days_employed       19351 non-null float64\n",
      "dob_years           21525 non-null int64\n",
      "education           21525 non-null object\n",
      "education_id        21525 non-null int64\n",
      "family_status       21525 non-null object\n",
      "family_status_id    21525 non-null int64\n",
      "gender              21525 non-null object\n",
      "income_type         21525 non-null object\n",
      "debt                21525 non-null int64\n",
      "total_income        19351 non-null float64\n",
      "purpose             21525 non-null object\n",
      "dtypes: float64(2), int64(5), object(5)\n",
      "memory usage: 2.0+ MB\n"
     ]
    }
   ],
   "source": [
    "import pandas as pd\n",
    "\n",
    "data = pd.read_csv('/datasets/data.csv')\n",
    "data.info()"
   ]
  },
  {
   "cell_type": "code",
   "execution_count": 2,
   "metadata": {
    "scrolled": true
   },
   "outputs": [
    {
     "data": {
      "text/html": [
       "<div>\n",
       "<style scoped>\n",
       "    .dataframe tbody tr th:only-of-type {\n",
       "        vertical-align: middle;\n",
       "    }\n",
       "\n",
       "    .dataframe tbody tr th {\n",
       "        vertical-align: top;\n",
       "    }\n",
       "\n",
       "    .dataframe thead th {\n",
       "        text-align: right;\n",
       "    }\n",
       "</style>\n",
       "<table border=\"1\" class=\"dataframe\">\n",
       "  <thead>\n",
       "    <tr style=\"text-align: right;\">\n",
       "      <th></th>\n",
       "      <th>children</th>\n",
       "      <th>days_employed</th>\n",
       "      <th>dob_years</th>\n",
       "      <th>education</th>\n",
       "      <th>education_id</th>\n",
       "      <th>family_status</th>\n",
       "      <th>family_status_id</th>\n",
       "      <th>gender</th>\n",
       "      <th>income_type</th>\n",
       "      <th>debt</th>\n",
       "      <th>total_income</th>\n",
       "      <th>purpose</th>\n",
       "    </tr>\n",
       "  </thead>\n",
       "  <tbody>\n",
       "    <tr>\n",
       "      <td>0</td>\n",
       "      <td>1</td>\n",
       "      <td>-8437.673028</td>\n",
       "      <td>42</td>\n",
       "      <td>высшее</td>\n",
       "      <td>0</td>\n",
       "      <td>женат / замужем</td>\n",
       "      <td>0</td>\n",
       "      <td>F</td>\n",
       "      <td>сотрудник</td>\n",
       "      <td>0</td>\n",
       "      <td>253875.639453</td>\n",
       "      <td>покупка жилья</td>\n",
       "    </tr>\n",
       "    <tr>\n",
       "      <td>1</td>\n",
       "      <td>1</td>\n",
       "      <td>-4024.803754</td>\n",
       "      <td>36</td>\n",
       "      <td>среднее</td>\n",
       "      <td>1</td>\n",
       "      <td>женат / замужем</td>\n",
       "      <td>0</td>\n",
       "      <td>F</td>\n",
       "      <td>сотрудник</td>\n",
       "      <td>0</td>\n",
       "      <td>112080.014102</td>\n",
       "      <td>приобретение автомобиля</td>\n",
       "    </tr>\n",
       "    <tr>\n",
       "      <td>2</td>\n",
       "      <td>0</td>\n",
       "      <td>-5623.422610</td>\n",
       "      <td>33</td>\n",
       "      <td>Среднее</td>\n",
       "      <td>1</td>\n",
       "      <td>женат / замужем</td>\n",
       "      <td>0</td>\n",
       "      <td>M</td>\n",
       "      <td>сотрудник</td>\n",
       "      <td>0</td>\n",
       "      <td>145885.952297</td>\n",
       "      <td>покупка жилья</td>\n",
       "    </tr>\n",
       "    <tr>\n",
       "      <td>3</td>\n",
       "      <td>3</td>\n",
       "      <td>-4124.747207</td>\n",
       "      <td>32</td>\n",
       "      <td>среднее</td>\n",
       "      <td>1</td>\n",
       "      <td>женат / замужем</td>\n",
       "      <td>0</td>\n",
       "      <td>M</td>\n",
       "      <td>сотрудник</td>\n",
       "      <td>0</td>\n",
       "      <td>267628.550329</td>\n",
       "      <td>дополнительное образование</td>\n",
       "    </tr>\n",
       "    <tr>\n",
       "      <td>4</td>\n",
       "      <td>0</td>\n",
       "      <td>340266.072047</td>\n",
       "      <td>53</td>\n",
       "      <td>среднее</td>\n",
       "      <td>1</td>\n",
       "      <td>гражданский брак</td>\n",
       "      <td>1</td>\n",
       "      <td>F</td>\n",
       "      <td>пенсионер</td>\n",
       "      <td>0</td>\n",
       "      <td>158616.077870</td>\n",
       "      <td>сыграть свадьбу</td>\n",
       "    </tr>\n",
       "  </tbody>\n",
       "</table>\n",
       "</div>"
      ],
      "text/plain": [
       "   children  days_employed  dob_years education  education_id  \\\n",
       "0         1   -8437.673028         42    высшее             0   \n",
       "1         1   -4024.803754         36   среднее             1   \n",
       "2         0   -5623.422610         33   Среднее             1   \n",
       "3         3   -4124.747207         32   среднее             1   \n",
       "4         0  340266.072047         53   среднее             1   \n",
       "\n",
       "      family_status  family_status_id gender income_type  debt   total_income  \\\n",
       "0   женат / замужем                 0      F   сотрудник     0  253875.639453   \n",
       "1   женат / замужем                 0      F   сотрудник     0  112080.014102   \n",
       "2   женат / замужем                 0      M   сотрудник     0  145885.952297   \n",
       "3   женат / замужем                 0      M   сотрудник     0  267628.550329   \n",
       "4  гражданский брак                 1      F   пенсионер     0  158616.077870   \n",
       "\n",
       "                      purpose  \n",
       "0               покупка жилья  \n",
       "1     приобретение автомобиля  \n",
       "2               покупка жилья  \n",
       "3  дополнительное образование  \n",
       "4             сыграть свадьбу  "
      ]
     },
     "execution_count": 2,
     "metadata": {},
     "output_type": "execute_result"
    }
   ],
   "source": [
    "data.head()"
   ]
  },
  {
   "cell_type": "markdown",
   "metadata": {},
   "source": [
    "В глаза сразу бросаются аномалии в виде отрицательных значений в столбце \"days_employed\". Напишем и применим функцию для проверки столбцов на подобные вещи:"
   ]
  },
  {
   "cell_type": "code",
   "execution_count": 3,
   "metadata": {
    "scrolled": true
   },
   "outputs": [
    {
     "data": {
      "text/plain": [
       "children               47\n",
       "days_employed       15906\n",
       "dob_years               0\n",
       "education_id            0\n",
       "family_status_id        0\n",
       "debt                    0\n",
       "total_income            0\n",
       "dtype: int64"
      ]
     },
     "execution_count": 3,
     "metadata": {},
     "output_type": "execute_result"
    }
   ],
   "source": [
    "def negative_count(data):\n",
    "    negative_count = data.select_dtypes(include=['float64', 'int64'])\n",
    "    negative_count = negative_count[negative_count < 0].count()\n",
    "    return negative_count #функция возвращает количество отрицательных значений в каждом столбце передаваемой таблицы\n",
    "\n",
    "negative_count(data)"
   ]
  },
  {
   "cell_type": "markdown",
   "metadata": {},
   "source": [
    "Проверим на странности минимальные и максимальные значения столбцов с помощью функции:"
   ]
  },
  {
   "cell_type": "code",
   "execution_count": 4,
   "metadata": {
    "scrolled": false
   },
   "outputs": [
    {
     "data": {
      "text/html": [
       "<div>\n",
       "<style scoped>\n",
       "    .dataframe tbody tr th:only-of-type {\n",
       "        vertical-align: middle;\n",
       "    }\n",
       "\n",
       "    .dataframe tbody tr th {\n",
       "        vertical-align: top;\n",
       "    }\n",
       "\n",
       "    .dataframe thead th {\n",
       "        text-align: right;\n",
       "    }\n",
       "</style>\n",
       "<table border=\"1\" class=\"dataframe\">\n",
       "  <thead>\n",
       "    <tr style=\"text-align: right;\">\n",
       "      <th></th>\n",
       "      <th>children</th>\n",
       "      <th>days_employed</th>\n",
       "      <th>dob_years</th>\n",
       "      <th>education_id</th>\n",
       "      <th>family_status_id</th>\n",
       "      <th>debt</th>\n",
       "      <th>total_income</th>\n",
       "    </tr>\n",
       "  </thead>\n",
       "  <tbody>\n",
       "    <tr>\n",
       "      <td>count</td>\n",
       "      <td>21525.000000</td>\n",
       "      <td>19351.000000</td>\n",
       "      <td>21525.000000</td>\n",
       "      <td>21525.000000</td>\n",
       "      <td>21525.000000</td>\n",
       "      <td>21525.000000</td>\n",
       "      <td>1.935100e+04</td>\n",
       "    </tr>\n",
       "    <tr>\n",
       "      <td>mean</td>\n",
       "      <td>0.538908</td>\n",
       "      <td>63046.497661</td>\n",
       "      <td>43.293380</td>\n",
       "      <td>0.817236</td>\n",
       "      <td>0.972544</td>\n",
       "      <td>0.080883</td>\n",
       "      <td>1.674223e+05</td>\n",
       "    </tr>\n",
       "    <tr>\n",
       "      <td>std</td>\n",
       "      <td>1.381587</td>\n",
       "      <td>140827.311974</td>\n",
       "      <td>12.574584</td>\n",
       "      <td>0.548138</td>\n",
       "      <td>1.420324</td>\n",
       "      <td>0.272661</td>\n",
       "      <td>1.029716e+05</td>\n",
       "    </tr>\n",
       "    <tr>\n",
       "      <td>min</td>\n",
       "      <td>-1.000000</td>\n",
       "      <td>-18388.949901</td>\n",
       "      <td>0.000000</td>\n",
       "      <td>0.000000</td>\n",
       "      <td>0.000000</td>\n",
       "      <td>0.000000</td>\n",
       "      <td>2.066726e+04</td>\n",
       "    </tr>\n",
       "    <tr>\n",
       "      <td>25%</td>\n",
       "      <td>0.000000</td>\n",
       "      <td>-2747.423625</td>\n",
       "      <td>33.000000</td>\n",
       "      <td>1.000000</td>\n",
       "      <td>0.000000</td>\n",
       "      <td>0.000000</td>\n",
       "      <td>1.030532e+05</td>\n",
       "    </tr>\n",
       "    <tr>\n",
       "      <td>50%</td>\n",
       "      <td>0.000000</td>\n",
       "      <td>-1203.369529</td>\n",
       "      <td>42.000000</td>\n",
       "      <td>1.000000</td>\n",
       "      <td>0.000000</td>\n",
       "      <td>0.000000</td>\n",
       "      <td>1.450179e+05</td>\n",
       "    </tr>\n",
       "    <tr>\n",
       "      <td>75%</td>\n",
       "      <td>1.000000</td>\n",
       "      <td>-291.095954</td>\n",
       "      <td>53.000000</td>\n",
       "      <td>1.000000</td>\n",
       "      <td>1.000000</td>\n",
       "      <td>0.000000</td>\n",
       "      <td>2.034351e+05</td>\n",
       "    </tr>\n",
       "    <tr>\n",
       "      <td>max</td>\n",
       "      <td>20.000000</td>\n",
       "      <td>401755.400475</td>\n",
       "      <td>75.000000</td>\n",
       "      <td>4.000000</td>\n",
       "      <td>4.000000</td>\n",
       "      <td>1.000000</td>\n",
       "      <td>2.265604e+06</td>\n",
       "    </tr>\n",
       "  </tbody>\n",
       "</table>\n",
       "</div>"
      ],
      "text/plain": [
       "           children  days_employed     dob_years  education_id  \\\n",
       "count  21525.000000   19351.000000  21525.000000  21525.000000   \n",
       "mean       0.538908   63046.497661     43.293380      0.817236   \n",
       "std        1.381587  140827.311974     12.574584      0.548138   \n",
       "min       -1.000000  -18388.949901      0.000000      0.000000   \n",
       "25%        0.000000   -2747.423625     33.000000      1.000000   \n",
       "50%        0.000000   -1203.369529     42.000000      1.000000   \n",
       "75%        1.000000    -291.095954     53.000000      1.000000   \n",
       "max       20.000000  401755.400475     75.000000      4.000000   \n",
       "\n",
       "       family_status_id          debt  total_income  \n",
       "count      21525.000000  21525.000000  1.935100e+04  \n",
       "mean           0.972544      0.080883  1.674223e+05  \n",
       "std            1.420324      0.272661  1.029716e+05  \n",
       "min            0.000000      0.000000  2.066726e+04  \n",
       "25%            0.000000      0.000000  1.030532e+05  \n",
       "50%            0.000000      0.000000  1.450179e+05  \n",
       "75%            1.000000      0.000000  2.034351e+05  \n",
       "max            4.000000      1.000000  2.265604e+06  "
      ]
     },
     "execution_count": 4,
     "metadata": {},
     "output_type": "execute_result"
    }
   ],
   "source": [
    "'''def min_max(data):\n",
    "    dict = {}\n",
    "    min_max_table = data.select_dtypes(include=['float64', 'int64'])\n",
    "    for row in min_max_table:\n",
    "        dict[row] = [data[row].min(), data[row].max()]\n",
    "        min_max_table = pd.DataFrame.from_dict(dict)\n",
    "    return min_max_table #возвращает таблицу с минимальным и максимальным значением каждого столбца типа данных int и float\n",
    "\n",
    "min_max(data)'''\n",
    "\n",
    "data.describe()"
   ]
  },
  {
   "cell_type": "markdown",
   "metadata": {},
   "source": [
    "Отрицательное количество детей следует исправить в дальнейшем."
   ]
  },
  {
   "cell_type": "markdown",
   "metadata": {},
   "source": [
    "Напишем и применим функцию для выявления уникальных значениях в столбцах с типом данных \"object\":"
   ]
  },
  {
   "cell_type": "code",
   "execution_count": 5,
   "metadata": {},
   "outputs": [
    {
     "data": {
      "text/html": [
       "<div>\n",
       "<style scoped>\n",
       "    .dataframe tbody tr th:only-of-type {\n",
       "        vertical-align: middle;\n",
       "    }\n",
       "\n",
       "    .dataframe tbody tr th {\n",
       "        vertical-align: top;\n",
       "    }\n",
       "\n",
       "    .dataframe thead th {\n",
       "        text-align: right;\n",
       "    }\n",
       "</style>\n",
       "<table border=\"1\" class=\"dataframe\">\n",
       "  <thead>\n",
       "    <tr style=\"text-align: right;\">\n",
       "      <th></th>\n",
       "      <th>education</th>\n",
       "      <th>family_status</th>\n",
       "      <th>gender</th>\n",
       "      <th>income_type</th>\n",
       "      <th>purpose</th>\n",
       "    </tr>\n",
       "  </thead>\n",
       "  <tbody>\n",
       "    <tr>\n",
       "      <td>0</td>\n",
       "      <td>высшее</td>\n",
       "      <td>женат / замужем</td>\n",
       "      <td>F</td>\n",
       "      <td>сотрудник</td>\n",
       "      <td>покупка жилья</td>\n",
       "    </tr>\n",
       "    <tr>\n",
       "      <td>1</td>\n",
       "      <td>среднее</td>\n",
       "      <td>гражданский брак</td>\n",
       "      <td>M</td>\n",
       "      <td>пенсионер</td>\n",
       "      <td>приобретение автомобиля</td>\n",
       "    </tr>\n",
       "    <tr>\n",
       "      <td>2</td>\n",
       "      <td>Среднее</td>\n",
       "      <td>вдовец / вдова</td>\n",
       "      <td>XNA</td>\n",
       "      <td>компаньон</td>\n",
       "      <td>дополнительное образование</td>\n",
       "    </tr>\n",
       "    <tr>\n",
       "      <td>3</td>\n",
       "      <td>СРЕДНЕЕ</td>\n",
       "      <td>в разводе</td>\n",
       "      <td>None</td>\n",
       "      <td>госслужащий</td>\n",
       "      <td>сыграть свадьбу</td>\n",
       "    </tr>\n",
       "    <tr>\n",
       "      <td>4</td>\n",
       "      <td>ВЫСШЕЕ</td>\n",
       "      <td>Не женат / не замужем</td>\n",
       "      <td>None</td>\n",
       "      <td>безработный</td>\n",
       "      <td>операции с жильем</td>\n",
       "    </tr>\n",
       "    <tr>\n",
       "      <td>5</td>\n",
       "      <td>неоконченное высшее</td>\n",
       "      <td>None</td>\n",
       "      <td>None</td>\n",
       "      <td>предприниматель</td>\n",
       "      <td>образование</td>\n",
       "    </tr>\n",
       "    <tr>\n",
       "      <td>6</td>\n",
       "      <td>начальное</td>\n",
       "      <td>None</td>\n",
       "      <td>None</td>\n",
       "      <td>студент</td>\n",
       "      <td>на проведение свадьбы</td>\n",
       "    </tr>\n",
       "    <tr>\n",
       "      <td>7</td>\n",
       "      <td>Высшее</td>\n",
       "      <td>None</td>\n",
       "      <td>None</td>\n",
       "      <td>в декрете</td>\n",
       "      <td>покупка жилья для семьи</td>\n",
       "    </tr>\n",
       "    <tr>\n",
       "      <td>8</td>\n",
       "      <td>НЕОКОНЧЕННОЕ ВЫСШЕЕ</td>\n",
       "      <td>None</td>\n",
       "      <td>None</td>\n",
       "      <td>None</td>\n",
       "      <td>покупка недвижимости</td>\n",
       "    </tr>\n",
       "    <tr>\n",
       "      <td>9</td>\n",
       "      <td>Неоконченное высшее</td>\n",
       "      <td>None</td>\n",
       "      <td>None</td>\n",
       "      <td>None</td>\n",
       "      <td>покупка коммерческой недвижимости</td>\n",
       "    </tr>\n",
       "    <tr>\n",
       "      <td>10</td>\n",
       "      <td>НАЧАЛЬНОЕ</td>\n",
       "      <td>None</td>\n",
       "      <td>None</td>\n",
       "      <td>None</td>\n",
       "      <td>покупка жилой недвижимости</td>\n",
       "    </tr>\n",
       "    <tr>\n",
       "      <td>11</td>\n",
       "      <td>Начальное</td>\n",
       "      <td>None</td>\n",
       "      <td>None</td>\n",
       "      <td>None</td>\n",
       "      <td>строительство собственной недвижимости</td>\n",
       "    </tr>\n",
       "    <tr>\n",
       "      <td>12</td>\n",
       "      <td>Ученая степень</td>\n",
       "      <td>None</td>\n",
       "      <td>None</td>\n",
       "      <td>None</td>\n",
       "      <td>недвижимость</td>\n",
       "    </tr>\n",
       "    <tr>\n",
       "      <td>13</td>\n",
       "      <td>УЧЕНАЯ СТЕПЕНЬ</td>\n",
       "      <td>None</td>\n",
       "      <td>None</td>\n",
       "      <td>None</td>\n",
       "      <td>строительство недвижимости</td>\n",
       "    </tr>\n",
       "    <tr>\n",
       "      <td>14</td>\n",
       "      <td>ученая степень</td>\n",
       "      <td>None</td>\n",
       "      <td>None</td>\n",
       "      <td>None</td>\n",
       "      <td>на покупку подержанного автомобиля</td>\n",
       "    </tr>\n",
       "    <tr>\n",
       "      <td>15</td>\n",
       "      <td>None</td>\n",
       "      <td>None</td>\n",
       "      <td>None</td>\n",
       "      <td>None</td>\n",
       "      <td>на покупку своего автомобиля</td>\n",
       "    </tr>\n",
       "    <tr>\n",
       "      <td>16</td>\n",
       "      <td>None</td>\n",
       "      <td>None</td>\n",
       "      <td>None</td>\n",
       "      <td>None</td>\n",
       "      <td>операции с коммерческой недвижимостью</td>\n",
       "    </tr>\n",
       "    <tr>\n",
       "      <td>17</td>\n",
       "      <td>None</td>\n",
       "      <td>None</td>\n",
       "      <td>None</td>\n",
       "      <td>None</td>\n",
       "      <td>строительство жилой недвижимости</td>\n",
       "    </tr>\n",
       "    <tr>\n",
       "      <td>18</td>\n",
       "      <td>None</td>\n",
       "      <td>None</td>\n",
       "      <td>None</td>\n",
       "      <td>None</td>\n",
       "      <td>жилье</td>\n",
       "    </tr>\n",
       "    <tr>\n",
       "      <td>19</td>\n",
       "      <td>None</td>\n",
       "      <td>None</td>\n",
       "      <td>None</td>\n",
       "      <td>None</td>\n",
       "      <td>операции со своей недвижимостью</td>\n",
       "    </tr>\n",
       "    <tr>\n",
       "      <td>20</td>\n",
       "      <td>None</td>\n",
       "      <td>None</td>\n",
       "      <td>None</td>\n",
       "      <td>None</td>\n",
       "      <td>автомобили</td>\n",
       "    </tr>\n",
       "    <tr>\n",
       "      <td>21</td>\n",
       "      <td>None</td>\n",
       "      <td>None</td>\n",
       "      <td>None</td>\n",
       "      <td>None</td>\n",
       "      <td>заняться образованием</td>\n",
       "    </tr>\n",
       "    <tr>\n",
       "      <td>22</td>\n",
       "      <td>None</td>\n",
       "      <td>None</td>\n",
       "      <td>None</td>\n",
       "      <td>None</td>\n",
       "      <td>сделка с подержанным автомобилем</td>\n",
       "    </tr>\n",
       "    <tr>\n",
       "      <td>23</td>\n",
       "      <td>None</td>\n",
       "      <td>None</td>\n",
       "      <td>None</td>\n",
       "      <td>None</td>\n",
       "      <td>получение образования</td>\n",
       "    </tr>\n",
       "    <tr>\n",
       "      <td>24</td>\n",
       "      <td>None</td>\n",
       "      <td>None</td>\n",
       "      <td>None</td>\n",
       "      <td>None</td>\n",
       "      <td>автомобиль</td>\n",
       "    </tr>\n",
       "    <tr>\n",
       "      <td>25</td>\n",
       "      <td>None</td>\n",
       "      <td>None</td>\n",
       "      <td>None</td>\n",
       "      <td>None</td>\n",
       "      <td>свадьба</td>\n",
       "    </tr>\n",
       "    <tr>\n",
       "      <td>26</td>\n",
       "      <td>None</td>\n",
       "      <td>None</td>\n",
       "      <td>None</td>\n",
       "      <td>None</td>\n",
       "      <td>получение дополнительного образования</td>\n",
       "    </tr>\n",
       "    <tr>\n",
       "      <td>27</td>\n",
       "      <td>None</td>\n",
       "      <td>None</td>\n",
       "      <td>None</td>\n",
       "      <td>None</td>\n",
       "      <td>покупка своего жилья</td>\n",
       "    </tr>\n",
       "    <tr>\n",
       "      <td>28</td>\n",
       "      <td>None</td>\n",
       "      <td>None</td>\n",
       "      <td>None</td>\n",
       "      <td>None</td>\n",
       "      <td>операции с недвижимостью</td>\n",
       "    </tr>\n",
       "    <tr>\n",
       "      <td>29</td>\n",
       "      <td>None</td>\n",
       "      <td>None</td>\n",
       "      <td>None</td>\n",
       "      <td>None</td>\n",
       "      <td>получение высшего образования</td>\n",
       "    </tr>\n",
       "    <tr>\n",
       "      <td>30</td>\n",
       "      <td>None</td>\n",
       "      <td>None</td>\n",
       "      <td>None</td>\n",
       "      <td>None</td>\n",
       "      <td>свой автомобиль</td>\n",
       "    </tr>\n",
       "    <tr>\n",
       "      <td>31</td>\n",
       "      <td>None</td>\n",
       "      <td>None</td>\n",
       "      <td>None</td>\n",
       "      <td>None</td>\n",
       "      <td>сделка с автомобилем</td>\n",
       "    </tr>\n",
       "    <tr>\n",
       "      <td>32</td>\n",
       "      <td>None</td>\n",
       "      <td>None</td>\n",
       "      <td>None</td>\n",
       "      <td>None</td>\n",
       "      <td>профильное образование</td>\n",
       "    </tr>\n",
       "    <tr>\n",
       "      <td>33</td>\n",
       "      <td>None</td>\n",
       "      <td>None</td>\n",
       "      <td>None</td>\n",
       "      <td>None</td>\n",
       "      <td>высшее образование</td>\n",
       "    </tr>\n",
       "    <tr>\n",
       "      <td>34</td>\n",
       "      <td>None</td>\n",
       "      <td>None</td>\n",
       "      <td>None</td>\n",
       "      <td>None</td>\n",
       "      <td>покупка жилья для сдачи</td>\n",
       "    </tr>\n",
       "    <tr>\n",
       "      <td>35</td>\n",
       "      <td>None</td>\n",
       "      <td>None</td>\n",
       "      <td>None</td>\n",
       "      <td>None</td>\n",
       "      <td>на покупку автомобиля</td>\n",
       "    </tr>\n",
       "    <tr>\n",
       "      <td>36</td>\n",
       "      <td>None</td>\n",
       "      <td>None</td>\n",
       "      <td>None</td>\n",
       "      <td>None</td>\n",
       "      <td>ремонт жилью</td>\n",
       "    </tr>\n",
       "    <tr>\n",
       "      <td>37</td>\n",
       "      <td>None</td>\n",
       "      <td>None</td>\n",
       "      <td>None</td>\n",
       "      <td>None</td>\n",
       "      <td>заняться высшим образованием</td>\n",
       "    </tr>\n",
       "  </tbody>\n",
       "</table>\n",
       "</div>"
      ],
      "text/plain": [
       "              education          family_status gender      income_type  \\\n",
       "0                высшее        женат / замужем      F        сотрудник   \n",
       "1               среднее       гражданский брак      M        пенсионер   \n",
       "2               Среднее         вдовец / вдова    XNA        компаньон   \n",
       "3               СРЕДНЕЕ              в разводе   None      госслужащий   \n",
       "4                ВЫСШЕЕ  Не женат / не замужем   None      безработный   \n",
       "5   неоконченное высшее                   None   None  предприниматель   \n",
       "6             начальное                   None   None          студент   \n",
       "7                Высшее                   None   None        в декрете   \n",
       "8   НЕОКОНЧЕННОЕ ВЫСШЕЕ                   None   None             None   \n",
       "9   Неоконченное высшее                   None   None             None   \n",
       "10            НАЧАЛЬНОЕ                   None   None             None   \n",
       "11            Начальное                   None   None             None   \n",
       "12       Ученая степень                   None   None             None   \n",
       "13       УЧЕНАЯ СТЕПЕНЬ                   None   None             None   \n",
       "14       ученая степень                   None   None             None   \n",
       "15                 None                   None   None             None   \n",
       "16                 None                   None   None             None   \n",
       "17                 None                   None   None             None   \n",
       "18                 None                   None   None             None   \n",
       "19                 None                   None   None             None   \n",
       "20                 None                   None   None             None   \n",
       "21                 None                   None   None             None   \n",
       "22                 None                   None   None             None   \n",
       "23                 None                   None   None             None   \n",
       "24                 None                   None   None             None   \n",
       "25                 None                   None   None             None   \n",
       "26                 None                   None   None             None   \n",
       "27                 None                   None   None             None   \n",
       "28                 None                   None   None             None   \n",
       "29                 None                   None   None             None   \n",
       "30                 None                   None   None             None   \n",
       "31                 None                   None   None             None   \n",
       "32                 None                   None   None             None   \n",
       "33                 None                   None   None             None   \n",
       "34                 None                   None   None             None   \n",
       "35                 None                   None   None             None   \n",
       "36                 None                   None   None             None   \n",
       "37                 None                   None   None             None   \n",
       "\n",
       "                                   purpose  \n",
       "0                            покупка жилья  \n",
       "1                  приобретение автомобиля  \n",
       "2               дополнительное образование  \n",
       "3                          сыграть свадьбу  \n",
       "4                        операции с жильем  \n",
       "5                              образование  \n",
       "6                    на проведение свадьбы  \n",
       "7                  покупка жилья для семьи  \n",
       "8                     покупка недвижимости  \n",
       "9        покупка коммерческой недвижимости  \n",
       "10              покупка жилой недвижимости  \n",
       "11  строительство собственной недвижимости  \n",
       "12                            недвижимость  \n",
       "13              строительство недвижимости  \n",
       "14      на покупку подержанного автомобиля  \n",
       "15            на покупку своего автомобиля  \n",
       "16   операции с коммерческой недвижимостью  \n",
       "17        строительство жилой недвижимости  \n",
       "18                                   жилье  \n",
       "19         операции со своей недвижимостью  \n",
       "20                              автомобили  \n",
       "21                   заняться образованием  \n",
       "22        сделка с подержанным автомобилем  \n",
       "23                   получение образования  \n",
       "24                              автомобиль  \n",
       "25                                 свадьба  \n",
       "26   получение дополнительного образования  \n",
       "27                    покупка своего жилья  \n",
       "28                операции с недвижимостью  \n",
       "29           получение высшего образования  \n",
       "30                         свой автомобиль  \n",
       "31                    сделка с автомобилем  \n",
       "32                  профильное образование  \n",
       "33                      высшее образование  \n",
       "34                 покупка жилья для сдачи  \n",
       "35                   на покупку автомобиля  \n",
       "36                            ремонт жилью  \n",
       "37            заняться высшим образованием  "
      ]
     },
     "execution_count": 5,
     "metadata": {},
     "output_type": "execute_result"
    }
   ],
   "source": [
    "def table_of_unique(data):\n",
    "    data_filtered = data.select_dtypes(include=['object'])\n",
    "    dict = {}\n",
    "    for row in data_filtered:\n",
    "        dict[row] = data_filtered[row].unique().tolist()\n",
    "    table_of_unique = pd.DataFrame.from_dict(dict, orient='index').transpose()\n",
    "    return table_of_unique\n",
    "\n",
    "table_of_unique(data)"
   ]
  },
  {
   "cell_type": "markdown",
   "metadata": {},
   "source": [
    "Проверим корректность присвоения id в столбцах со сведениями об образовании и семейном статусе клиентов:"
   ]
  },
  {
   "cell_type": "code",
   "execution_count": 6,
   "metadata": {
    "scrolled": true
   },
   "outputs": [
    {
     "data": {
      "text/plain": [
       "education_id\n",
       "0                             [высшее, ВЫСШЕЕ, Высшее]\n",
       "1                          [среднее, Среднее, СРЕДНЕЕ]\n",
       "2    [неоконченное высшее, НЕОКОНЧЕННОЕ ВЫСШЕЕ, Нео...\n",
       "3                    [начальное, НАЧАЛЬНОЕ, Начальное]\n",
       "4     [Ученая степень, УЧЕНАЯ СТЕПЕНЬ, ученая степень]\n",
       "Name: education, dtype: object"
      ]
     },
     "execution_count": 6,
     "metadata": {},
     "output_type": "execute_result"
    }
   ],
   "source": [
    "data.groupby('education_id')['education'].unique()"
   ]
  },
  {
   "cell_type": "code",
   "execution_count": 7,
   "metadata": {
    "scrolled": false
   },
   "outputs": [
    {
     "data": {
      "text/plain": [
       "family_status_id\n",
       "0          [женат / замужем]\n",
       "1         [гражданский брак]\n",
       "2           [вдовец / вдова]\n",
       "3                [в разводе]\n",
       "4    [Не женат / не замужем]\n",
       "Name: family_status, dtype: object"
      ]
     },
     "execution_count": 7,
     "metadata": {},
     "output_type": "execute_result"
    }
   ],
   "source": [
    "data.groupby('family_status_id')['family_status'].unique()"
   ]
  },
  {
   "cell_type": "markdown",
   "metadata": {},
   "source": [
    "Ошибок нет, id присвоены корректно."
   ]
  },
  {
   "cell_type": "markdown",
   "metadata": {},
   "source": [
    "**Вывод**"
   ]
  },
  {
   "cell_type": "markdown",
   "metadata": {},
   "source": [
    "В исходных данных наблюдаются следующие проблемы:\n",
    "- отрицательные значения в столбцах \"children\" и \"days_employed\"\n",
    "- аномалии в столбце \"days_employed\" в виде отрицательных и слишком больших значений\n",
    "- неявные дубликаты в столбцах \"education\" и \"purpose\"\n",
    "- пропущены значения в столбцах \"total_income\" и \"days_employed\"\n",
    "- нулевые значения в возрасте заемщиков"
   ]
  },
  {
   "cell_type": "markdown",
   "metadata": {},
   "source": [
    "## Шаг 2. Предобработка данных"
   ]
  },
  {
   "cell_type": "markdown",
   "metadata": {},
   "source": [
    "### Обработка пропусков"
   ]
  },
  {
   "cell_type": "markdown",
   "metadata": {},
   "source": [
    "Перед тем как приступить к устранению неявных пропусков в виде нулевого возраста у заёмщиков, оценим масштаб проблемы:"
   ]
  },
  {
   "cell_type": "code",
   "execution_count": 8,
   "metadata": {},
   "outputs": [
    {
     "name": "stdout",
     "output_type": "stream",
     "text": [
      "[0, 19, 20, 21, 22, 23, 24, 25, 26, 27, 28, 29, 30, 31, 32, 33, 34, 35, 36, 37, 38, 39, 40, 41, 42, 43, 44, 45, 46, 47, 48, 49, 50, 51, 52, 53, 54, 55, 56, 57, 58, 59, 60, 61, 62, 63, 64, 65, 66, 67, 68, 69, 70, 71, 72, 73, 74, 75]\n"
     ]
    }
   ],
   "source": [
    "print(sorted(data['dob_years'].unique()))\n",
    "# без print юпитер выводит в очень некрасивом виде"
   ]
  },
  {
   "cell_type": "code",
   "execution_count": 9,
   "metadata": {
    "scrolled": true
   },
   "outputs": [
    {
     "name": "stdout",
     "output_type": "stream",
     "text": [
      "Количество заёмщиков с возрастом 0 лет: 101\n"
     ]
    }
   ],
   "source": [
    "print(f'Количество заёмщиков с возрастом 0 лет: {len(data.loc[data[\"dob_years\"] == 0])}')"
   ]
  },
  {
   "cell_type": "markdown",
   "metadata": {},
   "source": [
    "По типам занятости это аномалия распределяется так:"
   ]
  },
  {
   "cell_type": "code",
   "execution_count": 10,
   "metadata": {
    "scrolled": true
   },
   "outputs": [
    {
     "data": {
      "text/plain": [
       "сотрудник      55\n",
       "пенсионер      20\n",
       "компаньон      20\n",
       "госслужащий     6\n",
       "Name: income_type, dtype: int64"
      ]
     },
     "execution_count": 10,
     "metadata": {},
     "output_type": "execute_result"
    }
   ],
   "source": [
    "data.loc[data['dob_years'] == 0, 'income_type'].value_counts()"
   ]
  },
  {
   "cell_type": "markdown",
   "metadata": {},
   "source": [
    "Следует аккуратно обойтись с этим неявным пропуском и заменить его на медианный возраст для каждого типа занятости, чтобы не искажать картину результаты исследования. Вычислим медиану для каждого типа занятости:"
   ]
  },
  {
   "cell_type": "code",
   "execution_count": 11,
   "metadata": {
    "scrolled": true
   },
   "outputs": [
    {
     "data": {
      "text/plain": [
       "income_type\n",
       "безработный        38.0\n",
       "в декрете          39.0\n",
       "госслужащий        40.0\n",
       "компаньон          39.0\n",
       "пенсионер          60.0\n",
       "предприниматель    42.5\n",
       "сотрудник          39.0\n",
       "студент            22.0\n",
       "Name: dob_years, dtype: float64"
      ]
     },
     "execution_count": 11,
     "metadata": {},
     "output_type": "execute_result"
    }
   ],
   "source": [
    "median_dob_years = data.groupby('income_type')['dob_years'].median()\n",
    "median_dob_years"
   ]
  },
  {
   "cell_type": "markdown",
   "metadata": {},
   "source": [
    "Теперь применим цикл для замены нулевых значений:"
   ]
  },
  {
   "cell_type": "code",
   "execution_count": 12,
   "metadata": {},
   "outputs": [],
   "source": [
    "for i in data['income_type'].unique():\n",
    "    data.loc[(data['dob_years'] == 0) & (data['income_type'] == i), 'dob_years'] = median_dob_years[i]"
   ]
  },
  {
   "cell_type": "markdown",
   "metadata": {},
   "source": [
    "Проверка:"
   ]
  },
  {
   "cell_type": "code",
   "execution_count": 13,
   "metadata": {},
   "outputs": [
    {
     "data": {
      "text/plain": [
       "Series([], Name: income_type, dtype: int64)"
      ]
     },
     "execution_count": 13,
     "metadata": {},
     "output_type": "execute_result"
    }
   ],
   "source": [
    "data.loc[data['dob_years'] == 0, 'income_type'].value_counts()"
   ]
  },
  {
   "cell_type": "markdown",
   "metadata": {},
   "source": [
    "Перед тем как перейти к устранению пропусков в столбцах \"total_income\" и \"days_employed\" взглянем на данные:"
   ]
  },
  {
   "cell_type": "code",
   "execution_count": 14,
   "metadata": {
    "scrolled": true
   },
   "outputs": [
    {
     "data": {
      "text/html": [
       "<div>\n",
       "<style scoped>\n",
       "    .dataframe tbody tr th:only-of-type {\n",
       "        vertical-align: middle;\n",
       "    }\n",
       "\n",
       "    .dataframe tbody tr th {\n",
       "        vertical-align: top;\n",
       "    }\n",
       "\n",
       "    .dataframe thead th {\n",
       "        text-align: right;\n",
       "    }\n",
       "</style>\n",
       "<table border=\"1\" class=\"dataframe\">\n",
       "  <thead>\n",
       "    <tr style=\"text-align: right;\">\n",
       "      <th></th>\n",
       "      <th>children</th>\n",
       "      <th>days_employed</th>\n",
       "      <th>dob_years</th>\n",
       "      <th>education</th>\n",
       "      <th>education_id</th>\n",
       "      <th>family_status</th>\n",
       "      <th>family_status_id</th>\n",
       "      <th>gender</th>\n",
       "      <th>income_type</th>\n",
       "      <th>debt</th>\n",
       "      <th>total_income</th>\n",
       "      <th>purpose</th>\n",
       "    </tr>\n",
       "  </thead>\n",
       "  <tbody>\n",
       "    <tr>\n",
       "      <td>12</td>\n",
       "      <td>0</td>\n",
       "      <td>NaN</td>\n",
       "      <td>65.0</td>\n",
       "      <td>среднее</td>\n",
       "      <td>1</td>\n",
       "      <td>гражданский брак</td>\n",
       "      <td>1</td>\n",
       "      <td>M</td>\n",
       "      <td>пенсионер</td>\n",
       "      <td>0</td>\n",
       "      <td>NaN</td>\n",
       "      <td>сыграть свадьбу</td>\n",
       "    </tr>\n",
       "    <tr>\n",
       "      <td>26</td>\n",
       "      <td>0</td>\n",
       "      <td>NaN</td>\n",
       "      <td>41.0</td>\n",
       "      <td>среднее</td>\n",
       "      <td>1</td>\n",
       "      <td>женат / замужем</td>\n",
       "      <td>0</td>\n",
       "      <td>M</td>\n",
       "      <td>госслужащий</td>\n",
       "      <td>0</td>\n",
       "      <td>NaN</td>\n",
       "      <td>образование</td>\n",
       "    </tr>\n",
       "    <tr>\n",
       "      <td>29</td>\n",
       "      <td>0</td>\n",
       "      <td>NaN</td>\n",
       "      <td>63.0</td>\n",
       "      <td>среднее</td>\n",
       "      <td>1</td>\n",
       "      <td>Не женат / не замужем</td>\n",
       "      <td>4</td>\n",
       "      <td>F</td>\n",
       "      <td>пенсионер</td>\n",
       "      <td>0</td>\n",
       "      <td>NaN</td>\n",
       "      <td>строительство жилой недвижимости</td>\n",
       "    </tr>\n",
       "    <tr>\n",
       "      <td>41</td>\n",
       "      <td>0</td>\n",
       "      <td>NaN</td>\n",
       "      <td>50.0</td>\n",
       "      <td>среднее</td>\n",
       "      <td>1</td>\n",
       "      <td>женат / замужем</td>\n",
       "      <td>0</td>\n",
       "      <td>F</td>\n",
       "      <td>госслужащий</td>\n",
       "      <td>0</td>\n",
       "      <td>NaN</td>\n",
       "      <td>сделка с подержанным автомобилем</td>\n",
       "    </tr>\n",
       "    <tr>\n",
       "      <td>55</td>\n",
       "      <td>0</td>\n",
       "      <td>NaN</td>\n",
       "      <td>54.0</td>\n",
       "      <td>среднее</td>\n",
       "      <td>1</td>\n",
       "      <td>гражданский брак</td>\n",
       "      <td>1</td>\n",
       "      <td>F</td>\n",
       "      <td>пенсионер</td>\n",
       "      <td>1</td>\n",
       "      <td>NaN</td>\n",
       "      <td>сыграть свадьбу</td>\n",
       "    </tr>\n",
       "  </tbody>\n",
       "</table>\n",
       "</div>"
      ],
      "text/plain": [
       "    children  days_employed  dob_years education  education_id  \\\n",
       "12         0            NaN       65.0   среднее             1   \n",
       "26         0            NaN       41.0   среднее             1   \n",
       "29         0            NaN       63.0   среднее             1   \n",
       "41         0            NaN       50.0   среднее             1   \n",
       "55         0            NaN       54.0   среднее             1   \n",
       "\n",
       "            family_status  family_status_id gender  income_type  debt  \\\n",
       "12       гражданский брак                 1      M    пенсионер     0   \n",
       "26        женат / замужем                 0      M  госслужащий     0   \n",
       "29  Не женат / не замужем                 4      F    пенсионер     0   \n",
       "41        женат / замужем                 0      F  госслужащий     0   \n",
       "55       гражданский брак                 1      F    пенсионер     1   \n",
       "\n",
       "    total_income                           purpose  \n",
       "12           NaN                   сыграть свадьбу  \n",
       "26           NaN                       образование  \n",
       "29           NaN  строительство жилой недвижимости  \n",
       "41           NaN  сделка с подержанным автомобилем  \n",
       "55           NaN                   сыграть свадьбу  "
      ]
     },
     "execution_count": 14,
     "metadata": {},
     "output_type": "execute_result"
    }
   ],
   "source": [
    "data[data['total_income'].isna()].head()"
   ]
  },
  {
   "cell_type": "markdown",
   "metadata": {},
   "source": [
    "Количество пропусков в столбце \"total_income\":"
   ]
  },
  {
   "cell_type": "code",
   "execution_count": 15,
   "metadata": {},
   "outputs": [
    {
     "data": {
      "text/plain": [
       "2174"
      ]
     },
     "execution_count": 15,
     "metadata": {},
     "output_type": "execute_result"
    }
   ],
   "source": [
    "data['total_income'].isna().sum()"
   ]
  },
  {
   "cell_type": "markdown",
   "metadata": {},
   "source": [
    "Количество пропусков в столбце \"days_employed\":"
   ]
  },
  {
   "cell_type": "code",
   "execution_count": 16,
   "metadata": {
    "scrolled": false
   },
   "outputs": [
    {
     "data": {
      "text/plain": [
       "2174"
      ]
     },
     "execution_count": 16,
     "metadata": {},
     "output_type": "execute_result"
    }
   ],
   "source": [
    "data['days_employed'].isna().sum()"
   ]
  },
  {
   "cell_type": "markdown",
   "metadata": {},
   "source": [
    "Проверим предположение о том, что пропуски в сведениях о доходах связаны с отсутствием сведений о трудовом стаже:"
   ]
  },
  {
   "cell_type": "code",
   "execution_count": 17,
   "metadata": {
    "scrolled": true
   },
   "outputs": [
    {
     "data": {
      "text/plain": [
       "2174"
      ]
     },
     "execution_count": 17,
     "metadata": {},
     "output_type": "execute_result"
    }
   ],
   "source": [
    "len(data.loc[data['days_employed'].isna() & data['total_income'].isna()])"
   ]
  },
  {
   "cell_type": "markdown",
   "metadata": {},
   "source": [
    "По типу занятости пропуски группируются так:"
   ]
  },
  {
   "cell_type": "code",
   "execution_count": 18,
   "metadata": {
    "scrolled": true
   },
   "outputs": [
    {
     "data": {
      "text/plain": [
       "сотрудник          1105\n",
       "компаньон           508\n",
       "пенсионер           413\n",
       "госслужащий         147\n",
       "предприниматель       1\n",
       "Name: income_type, dtype: int64"
      ]
     },
     "execution_count": 18,
     "metadata": {},
     "output_type": "execute_result"
    }
   ],
   "source": [
    "data[data['total_income'].isna()]['income_type'].value_counts()"
   ]
  },
  {
   "cell_type": "markdown",
   "metadata": {},
   "source": [
    "Предположение подтвердилось. К тому же, эти сведения отсутствуют почти по каждому десятому клиенту. Следует заменить значения в соответствующих столбцах на медиану, т.к. принятие их за 0 может привести к искажению результатов исследования."
   ]
  },
  {
   "cell_type": "markdown",
   "metadata": {},
   "source": [
    "Найдем медианный доход для каждого типа занятости:"
   ]
  },
  {
   "cell_type": "code",
   "execution_count": 19,
   "metadata": {},
   "outputs": [
    {
     "data": {
      "text/plain": [
       "income_type\n",
       "безработный        131339.751676\n",
       "в декрете           53829.130729\n",
       "госслужащий        150447.935283\n",
       "компаньон          172357.950966\n",
       "пенсионер          118514.486412\n",
       "предприниматель    499163.144947\n",
       "сотрудник          142594.396847\n",
       "студент             98201.625314\n",
       "Name: total_income, dtype: float64"
      ]
     },
     "execution_count": 19,
     "metadata": {},
     "output_type": "execute_result"
    }
   ],
   "source": [
    "median_income = data.groupby('income_type')['total_income'].median()\n",
    "median_income"
   ]
  },
  {
   "cell_type": "markdown",
   "metadata": {},
   "source": [
    "Отметим, что сведения о доходах и стаже не пропущены у безработных, находящихся в декрете и студентов.\n",
    "<br>\n",
    "Теперь пора заполнить пропуски в доходах на медиану по типам занятости:"
   ]
  },
  {
   "cell_type": "code",
   "execution_count": 20,
   "metadata": {},
   "outputs": [],
   "source": [
    "for i in data['income_type'].unique():\n",
    "    data.loc[((data['total_income'].isna()) & (data['income_type'] == i)), 'total_income'] = median_income[i]\n"
   ]
  },
  {
   "cell_type": "markdown",
   "metadata": {},
   "source": [
    "Проверим как устранились пропущенные значения доходов:"
   ]
  },
  {
   "cell_type": "code",
   "execution_count": 21,
   "metadata": {
    "scrolled": true
   },
   "outputs": [
    {
     "data": {
      "text/plain": [
       "Series([], Name: income_type, dtype: int64)"
      ]
     },
     "execution_count": 21,
     "metadata": {},
     "output_type": "execute_result"
    }
   ],
   "source": [
    "data[data['total_income'].isna()]['income_type'].value_counts()"
   ]
  },
  {
   "cell_type": "markdown",
   "metadata": {},
   "source": [
    "Вернемся к пропущенным значениям стажа:"
   ]
  },
  {
   "cell_type": "code",
   "execution_count": 22,
   "metadata": {
    "scrolled": true
   },
   "outputs": [
    {
     "data": {
      "text/plain": [
       "сотрудник          1105\n",
       "компаньон           508\n",
       "пенсионер           413\n",
       "госслужащий         147\n",
       "предприниматель       1\n",
       "Name: income_type, dtype: int64"
      ]
     },
     "execution_count": 22,
     "metadata": {},
     "output_type": "execute_result"
    }
   ],
   "source": [
    "data[data['days_employed'].isna()]['income_type'].value_counts()"
   ]
  },
  {
   "cell_type": "markdown",
   "metadata": {},
   "source": [
    "Ранее были отмечены странности в виде отрицательного или слишком большого стажа, возможно эти аномалии не случайны.\n",
    "<br>\n",
    "Чтобы не терять важную информацию, заменим пропущенный стаж на медианые значения для возрастных групп. Для начала следует добавить столбец с id этих групп в таблицу по следующим критериям:\n",
    "- первая группа: молодые заёмщики в возрасте до 35 лет включительно\n",
    "- вторая группа: зрелые заёмщики в возрасте от 35 до 59 лет включительно\n",
    "- третья группа: пожилые заёмщики в возрасте от 60 лет"
   ]
  },
  {
   "cell_type": "code",
   "execution_count": 23,
   "metadata": {},
   "outputs": [],
   "source": [
    "def dob_years_id(dob_years):\n",
    "    if dob_years <= 35:\n",
    "        return 0\n",
    "    elif 35 < dob_years < 60:\n",
    "        return 1\n",
    "    elif dob_years >= 60:\n",
    "        return 2\n",
    "data['dob_years_id'] = data['dob_years'].apply(dob_years_id)"
   ]
  },
  {
   "cell_type": "markdown",
   "metadata": {},
   "source": [
    "Посчитаем медиану для каждой возрастной группы:"
   ]
  },
  {
   "cell_type": "code",
   "execution_count": 24,
   "metadata": {
    "scrolled": true
   },
   "outputs": [
    {
     "data": {
      "text/plain": [
       "dob_years_id\n",
       "0     -1197.741206\n",
       "1     -1584.671417\n",
       "2    355324.823353\n",
       "Name: days_employed, dtype: float64"
      ]
     },
     "execution_count": 24,
     "metadata": {},
     "output_type": "execute_result"
    }
   ],
   "source": [
    "median_days_employed = data.groupby('dob_years_id')['days_employed'].median()\n",
    "median_days_employed"
   ]
  },
  {
   "cell_type": "markdown",
   "metadata": {},
   "source": [
    "Заменим пропуски на медиану и проверим результат:"
   ]
  },
  {
   "cell_type": "code",
   "execution_count": 25,
   "metadata": {
    "scrolled": true
   },
   "outputs": [
    {
     "data": {
      "text/plain": [
       "Series([], Name: income_type, dtype: int64)"
      ]
     },
     "execution_count": 25,
     "metadata": {},
     "output_type": "execute_result"
    }
   ],
   "source": [
    "for i in data['dob_years_id'].unique():\n",
    "    data.loc[(data['days_employed'].isna()) & (data['dob_years_id'] == i), 'days_employed'] = median_days_employed[i]\n",
    "data[data['days_employed'].isna()]['income_type'].value_counts()\n",
    "#можно проще через data['days_employed'].isna().sum(), но я скопипастил предыдущий код, которым считал пропуски по занятости"
   ]
  },
  {
   "cell_type": "markdown",
   "metadata": {},
   "source": [
    "С заменой пропусков справились. Посмотрим на проблему отрицательного количества детей:"
   ]
  },
  {
   "cell_type": "code",
   "execution_count": 26,
   "metadata": {
    "scrolled": true
   },
   "outputs": [
    {
     "name": "stdout",
     "output_type": "stream",
     "text": [
      "Процент заёмщиков с -1 рёбенком: 0.22%\n",
      "Процент заёмщиков с 0 рёбенком: 65.73%\n",
      "Процент заёмщиков с 1 рёбенком: 22.38%\n"
     ]
    }
   ],
   "source": [
    "negative_kids_share = len(data.loc[data['children'] == -1, 'children']) / len(data)\n",
    "no_kids_share = len(data.loc[data['children'] == 0, 'children']) / len(data)\n",
    "one_kid_share = len(data.loc[data['children'] == 1, 'children']) / len(data)\n",
    "print(f'Процент заёмщиков с -1 рёбенком: {negative_kids_share:.2%}')\n",
    "print(f'Процент заёмщиков с 0 рёбенком: {no_kids_share:.2%}')\n",
    "print(f'Процент заёмщиков с 1 рёбенком: {one_kid_share:.2%}')"
   ]
  },
  {
   "cell_type": "markdown",
   "metadata": {},
   "source": [
    "Незначительный процент заёмщиков оказался с -1 ребёнком. Скорее всего имеет место проблема сбора данных, чтобы их не терять, предположим, что на самом деле у этих клиентов банка 1 ребёнок:"
   ]
  },
  {
   "cell_type": "code",
   "execution_count": 27,
   "metadata": {
    "scrolled": true
   },
   "outputs": [
    {
     "data": {
      "text/plain": [
       "Series([], Name: children, dtype: int64)"
      ]
     },
     "execution_count": 27,
     "metadata": {},
     "output_type": "execute_result"
    }
   ],
   "source": [
    "#data.loc[data['children'] == -1, 'children'] = 1\n",
    "data['children'] = data['children'].abs()\n",
    "data.loc[data['children'] == -1, 'children']"
   ]
  },
  {
   "cell_type": "markdown",
   "metadata": {},
   "source": [
    "Аномалия устранена!"
   ]
  },
  {
   "cell_type": "markdown",
   "metadata": {},
   "source": [
    "**Вывод**"
   ]
  },
  {
   "cell_type": "markdown",
   "metadata": {},
   "source": [
    "Сведения о стаже и доходах пропущены только у сотрудников, компаньонов, пенсионеров, госслужащих и предпринимателей, т.е. у групп, которым полагается иметь реальные стаж и доход. Возможно это проблема сбора данных, либо последствия неофициальной занятости. Примерно у той же группы (исключая предпринимателей, что неудивительно, т.к. их мало) в сведениях о возрасте внесено значение 0.\n",
    "<br>\n",
    "Что касается странных значений в стаже, можно предположить что в соответствующем столбце указан не общий стаж, а отклонение от дельты."
   ]
  },
  {
   "cell_type": "markdown",
   "metadata": {},
   "source": [
    "### Замена типа данных"
   ]
  },
  {
   "cell_type": "markdown",
   "metadata": {},
   "source": [
    "Приводим в порядок стобец \"total_income\". Учитывая бесполезность учёта доходов с точностью в 6 знаков после запятой, следует присвоить значениям в столбце целочисленный тип для удобства дальнейшей обработки и восприятия:"
   ]
  },
  {
   "cell_type": "code",
   "execution_count": 28,
   "metadata": {},
   "outputs": [],
   "source": [
    "data['total_income'] = data['total_income'].astype('int64')"
   ]
  },
  {
   "cell_type": "code",
   "execution_count": 29,
   "metadata": {
    "scrolled": true
   },
   "outputs": [
    {
     "data": {
      "text/html": [
       "<div>\n",
       "<style scoped>\n",
       "    .dataframe tbody tr th:only-of-type {\n",
       "        vertical-align: middle;\n",
       "    }\n",
       "\n",
       "    .dataframe tbody tr th {\n",
       "        vertical-align: top;\n",
       "    }\n",
       "\n",
       "    .dataframe thead th {\n",
       "        text-align: right;\n",
       "    }\n",
       "</style>\n",
       "<table border=\"1\" class=\"dataframe\">\n",
       "  <thead>\n",
       "    <tr style=\"text-align: right;\">\n",
       "      <th></th>\n",
       "      <th>children</th>\n",
       "      <th>days_employed</th>\n",
       "      <th>dob_years</th>\n",
       "      <th>education</th>\n",
       "      <th>education_id</th>\n",
       "      <th>family_status</th>\n",
       "      <th>family_status_id</th>\n",
       "      <th>gender</th>\n",
       "      <th>income_type</th>\n",
       "      <th>debt</th>\n",
       "      <th>total_income</th>\n",
       "      <th>purpose</th>\n",
       "      <th>dob_years_id</th>\n",
       "    </tr>\n",
       "  </thead>\n",
       "  <tbody>\n",
       "    <tr>\n",
       "      <td>0</td>\n",
       "      <td>1</td>\n",
       "      <td>-8437.673028</td>\n",
       "      <td>42.0</td>\n",
       "      <td>высшее</td>\n",
       "      <td>0</td>\n",
       "      <td>женат / замужем</td>\n",
       "      <td>0</td>\n",
       "      <td>F</td>\n",
       "      <td>сотрудник</td>\n",
       "      <td>0</td>\n",
       "      <td>253875</td>\n",
       "      <td>покупка жилья</td>\n",
       "      <td>1</td>\n",
       "    </tr>\n",
       "    <tr>\n",
       "      <td>1</td>\n",
       "      <td>1</td>\n",
       "      <td>-4024.803754</td>\n",
       "      <td>36.0</td>\n",
       "      <td>среднее</td>\n",
       "      <td>1</td>\n",
       "      <td>женат / замужем</td>\n",
       "      <td>0</td>\n",
       "      <td>F</td>\n",
       "      <td>сотрудник</td>\n",
       "      <td>0</td>\n",
       "      <td>112080</td>\n",
       "      <td>приобретение автомобиля</td>\n",
       "      <td>1</td>\n",
       "    </tr>\n",
       "    <tr>\n",
       "      <td>2</td>\n",
       "      <td>0</td>\n",
       "      <td>-5623.422610</td>\n",
       "      <td>33.0</td>\n",
       "      <td>Среднее</td>\n",
       "      <td>1</td>\n",
       "      <td>женат / замужем</td>\n",
       "      <td>0</td>\n",
       "      <td>M</td>\n",
       "      <td>сотрудник</td>\n",
       "      <td>0</td>\n",
       "      <td>145885</td>\n",
       "      <td>покупка жилья</td>\n",
       "      <td>0</td>\n",
       "    </tr>\n",
       "    <tr>\n",
       "      <td>3</td>\n",
       "      <td>3</td>\n",
       "      <td>-4124.747207</td>\n",
       "      <td>32.0</td>\n",
       "      <td>среднее</td>\n",
       "      <td>1</td>\n",
       "      <td>женат / замужем</td>\n",
       "      <td>0</td>\n",
       "      <td>M</td>\n",
       "      <td>сотрудник</td>\n",
       "      <td>0</td>\n",
       "      <td>267628</td>\n",
       "      <td>дополнительное образование</td>\n",
       "      <td>0</td>\n",
       "    </tr>\n",
       "    <tr>\n",
       "      <td>4</td>\n",
       "      <td>0</td>\n",
       "      <td>340266.072047</td>\n",
       "      <td>53.0</td>\n",
       "      <td>среднее</td>\n",
       "      <td>1</td>\n",
       "      <td>гражданский брак</td>\n",
       "      <td>1</td>\n",
       "      <td>F</td>\n",
       "      <td>пенсионер</td>\n",
       "      <td>0</td>\n",
       "      <td>158616</td>\n",
       "      <td>сыграть свадьбу</td>\n",
       "      <td>1</td>\n",
       "    </tr>\n",
       "  </tbody>\n",
       "</table>\n",
       "</div>"
      ],
      "text/plain": [
       "   children  days_employed  dob_years education  education_id  \\\n",
       "0         1   -8437.673028       42.0    высшее             0   \n",
       "1         1   -4024.803754       36.0   среднее             1   \n",
       "2         0   -5623.422610       33.0   Среднее             1   \n",
       "3         3   -4124.747207       32.0   среднее             1   \n",
       "4         0  340266.072047       53.0   среднее             1   \n",
       "\n",
       "      family_status  family_status_id gender income_type  debt  total_income  \\\n",
       "0   женат / замужем                 0      F   сотрудник     0        253875   \n",
       "1   женат / замужем                 0      F   сотрудник     0        112080   \n",
       "2   женат / замужем                 0      M   сотрудник     0        145885   \n",
       "3   женат / замужем                 0      M   сотрудник     0        267628   \n",
       "4  гражданский брак                 1      F   пенсионер     0        158616   \n",
       "\n",
       "                      purpose  dob_years_id  \n",
       "0               покупка жилья             1  \n",
       "1     приобретение автомобиля             1  \n",
       "2               покупка жилья             0  \n",
       "3  дополнительное образование             0  \n",
       "4             сыграть свадьбу             1  "
      ]
     },
     "execution_count": 29,
     "metadata": {},
     "output_type": "execute_result"
    }
   ],
   "source": [
    "data.head()"
   ]
  },
  {
   "cell_type": "markdown",
   "metadata": {},
   "source": [
    "**Вывод**"
   ]
  },
  {
   "cell_type": "markdown",
   "metadata": {},
   "source": [
    "Значения столбца \"total_income\" выглядят красиво и опрятно. Ура!"
   ]
  },
  {
   "cell_type": "markdown",
   "metadata": {},
   "source": [
    "### Обработка дубликатов"
   ]
  },
  {
   "cell_type": "markdown",
   "metadata": {},
   "source": [
    "Переходим к устранению явных дубликатов. Значение в столбце \"education\" выглядят так:"
   ]
  },
  {
   "cell_type": "code",
   "execution_count": 30,
   "metadata": {
    "scrolled": true
   },
   "outputs": [
    {
     "data": {
      "text/plain": [
       "education_id\n",
       "0                             [высшее, ВЫСШЕЕ, Высшее]\n",
       "1                          [среднее, Среднее, СРЕДНЕЕ]\n",
       "2    [неоконченное высшее, НЕОКОНЧЕННОЕ ВЫСШЕЕ, Нео...\n",
       "3                    [начальное, НАЧАЛЬНОЕ, Начальное]\n",
       "4     [Ученая степень, УЧЕНАЯ СТЕПЕНЬ, ученая степень]\n",
       "Name: education, dtype: object"
      ]
     },
     "execution_count": 30,
     "metadata": {},
     "output_type": "execute_result"
    }
   ],
   "source": [
    "data.groupby('education_id')['education'].unique()"
   ]
  },
  {
   "cell_type": "markdown",
   "metadata": {},
   "source": [
    "Очевидно, что ввод сведений об образовании осуществляется вручную. Стоит подумать о выборе из готовых вариантов. Приведем написание в нижний регистр:"
   ]
  },
  {
   "cell_type": "code",
   "execution_count": 31,
   "metadata": {
    "scrolled": true
   },
   "outputs": [
    {
     "data": {
      "text/plain": [
       "education_id\n",
       "0                 [высшее]\n",
       "1                [среднее]\n",
       "2    [неоконченное высшее]\n",
       "3              [начальное]\n",
       "4         [ученая степень]\n",
       "Name: education, dtype: object"
      ]
     },
     "execution_count": 31,
     "metadata": {},
     "output_type": "execute_result"
    }
   ],
   "source": [
    "data['education'] = data['education'].str.lower()\n",
    "data.groupby('education_id')['education'].unique()"
   ]
  },
  {
   "cell_type": "markdown",
   "metadata": {},
   "source": [
    "Оцениваем ситуацию с дубликатами:"
   ]
  },
  {
   "cell_type": "code",
   "execution_count": 32,
   "metadata": {},
   "outputs": [
    {
     "data": {
      "text/html": [
       "<div>\n",
       "<style scoped>\n",
       "    .dataframe tbody tr th:only-of-type {\n",
       "        vertical-align: middle;\n",
       "    }\n",
       "\n",
       "    .dataframe tbody tr th {\n",
       "        vertical-align: top;\n",
       "    }\n",
       "\n",
       "    .dataframe thead th {\n",
       "        text-align: right;\n",
       "    }\n",
       "</style>\n",
       "<table border=\"1\" class=\"dataframe\">\n",
       "  <thead>\n",
       "    <tr style=\"text-align: right;\">\n",
       "      <th></th>\n",
       "      <th>children</th>\n",
       "      <th>days_employed</th>\n",
       "      <th>dob_years</th>\n",
       "      <th>education</th>\n",
       "      <th>education_id</th>\n",
       "      <th>family_status</th>\n",
       "      <th>family_status_id</th>\n",
       "      <th>gender</th>\n",
       "      <th>income_type</th>\n",
       "      <th>debt</th>\n",
       "      <th>total_income</th>\n",
       "      <th>purpose</th>\n",
       "      <th>dob_years_id</th>\n",
       "    </tr>\n",
       "  </thead>\n",
       "  <tbody>\n",
       "    <tr>\n",
       "      <td>9013</td>\n",
       "      <td>2</td>\n",
       "      <td>-1584.671417</td>\n",
       "      <td>36.0</td>\n",
       "      <td>высшее</td>\n",
       "      <td>0</td>\n",
       "      <td>женат / замужем</td>\n",
       "      <td>0</td>\n",
       "      <td>F</td>\n",
       "      <td>госслужащий</td>\n",
       "      <td>0</td>\n",
       "      <td>150447</td>\n",
       "      <td>получение образования</td>\n",
       "      <td>1</td>\n",
       "    </tr>\n",
       "    <tr>\n",
       "      <td>14432</td>\n",
       "      <td>2</td>\n",
       "      <td>-1584.671417</td>\n",
       "      <td>36.0</td>\n",
       "      <td>высшее</td>\n",
       "      <td>0</td>\n",
       "      <td>женат / замужем</td>\n",
       "      <td>0</td>\n",
       "      <td>F</td>\n",
       "      <td>госслужащий</td>\n",
       "      <td>0</td>\n",
       "      <td>150447</td>\n",
       "      <td>получение образования</td>\n",
       "      <td>1</td>\n",
       "    </tr>\n",
       "    <tr>\n",
       "      <td>8886</td>\n",
       "      <td>1</td>\n",
       "      <td>-1584.671417</td>\n",
       "      <td>37.0</td>\n",
       "      <td>среднее</td>\n",
       "      <td>1</td>\n",
       "      <td>женат / замужем</td>\n",
       "      <td>0</td>\n",
       "      <td>F</td>\n",
       "      <td>сотрудник</td>\n",
       "      <td>0</td>\n",
       "      <td>142594</td>\n",
       "      <td>покупка недвижимости</td>\n",
       "      <td>1</td>\n",
       "    </tr>\n",
       "    <tr>\n",
       "      <td>12375</td>\n",
       "      <td>1</td>\n",
       "      <td>-1584.671417</td>\n",
       "      <td>37.0</td>\n",
       "      <td>среднее</td>\n",
       "      <td>1</td>\n",
       "      <td>женат / замужем</td>\n",
       "      <td>0</td>\n",
       "      <td>F</td>\n",
       "      <td>сотрудник</td>\n",
       "      <td>0</td>\n",
       "      <td>142594</td>\n",
       "      <td>покупка недвижимости</td>\n",
       "      <td>1</td>\n",
       "    </tr>\n",
       "    <tr>\n",
       "      <td>9374</td>\n",
       "      <td>0</td>\n",
       "      <td>-1584.671417</td>\n",
       "      <td>38.0</td>\n",
       "      <td>высшее</td>\n",
       "      <td>0</td>\n",
       "      <td>гражданский брак</td>\n",
       "      <td>1</td>\n",
       "      <td>F</td>\n",
       "      <td>компаньон</td>\n",
       "      <td>0</td>\n",
       "      <td>172357</td>\n",
       "      <td>на проведение свадьбы</td>\n",
       "      <td>1</td>\n",
       "    </tr>\n",
       "    <tr>\n",
       "      <td>19387</td>\n",
       "      <td>0</td>\n",
       "      <td>-1584.671417</td>\n",
       "      <td>38.0</td>\n",
       "      <td>высшее</td>\n",
       "      <td>0</td>\n",
       "      <td>гражданский брак</td>\n",
       "      <td>1</td>\n",
       "      <td>F</td>\n",
       "      <td>компаньон</td>\n",
       "      <td>0</td>\n",
       "      <td>172357</td>\n",
       "      <td>на проведение свадьбы</td>\n",
       "      <td>1</td>\n",
       "    </tr>\n",
       "    <tr>\n",
       "      <td>11033</td>\n",
       "      <td>2</td>\n",
       "      <td>-1584.671417</td>\n",
       "      <td>39.0</td>\n",
       "      <td>среднее</td>\n",
       "      <td>1</td>\n",
       "      <td>гражданский брак</td>\n",
       "      <td>1</td>\n",
       "      <td>F</td>\n",
       "      <td>сотрудник</td>\n",
       "      <td>0</td>\n",
       "      <td>142594</td>\n",
       "      <td>сыграть свадьбу</td>\n",
       "      <td>1</td>\n",
       "    </tr>\n",
       "    <tr>\n",
       "      <td>16902</td>\n",
       "      <td>2</td>\n",
       "      <td>-1584.671417</td>\n",
       "      <td>39.0</td>\n",
       "      <td>среднее</td>\n",
       "      <td>1</td>\n",
       "      <td>гражданский брак</td>\n",
       "      <td>1</td>\n",
       "      <td>F</td>\n",
       "      <td>сотрудник</td>\n",
       "      <td>0</td>\n",
       "      <td>142594</td>\n",
       "      <td>сыграть свадьбу</td>\n",
       "      <td>1</td>\n",
       "    </tr>\n",
       "    <tr>\n",
       "      <td>4081</td>\n",
       "      <td>1</td>\n",
       "      <td>-1584.671417</td>\n",
       "      <td>40.0</td>\n",
       "      <td>среднее</td>\n",
       "      <td>1</td>\n",
       "      <td>гражданский брак</td>\n",
       "      <td>1</td>\n",
       "      <td>F</td>\n",
       "      <td>компаньон</td>\n",
       "      <td>0</td>\n",
       "      <td>172357</td>\n",
       "      <td>строительство жилой недвижимости</td>\n",
       "      <td>1</td>\n",
       "    </tr>\n",
       "    <tr>\n",
       "      <td>17774</td>\n",
       "      <td>1</td>\n",
       "      <td>-1584.671417</td>\n",
       "      <td>40.0</td>\n",
       "      <td>среднее</td>\n",
       "      <td>1</td>\n",
       "      <td>гражданский брак</td>\n",
       "      <td>1</td>\n",
       "      <td>F</td>\n",
       "      <td>компаньон</td>\n",
       "      <td>0</td>\n",
       "      <td>172357</td>\n",
       "      <td>строительство жилой недвижимости</td>\n",
       "      <td>1</td>\n",
       "    </tr>\n",
       "  </tbody>\n",
       "</table>\n",
       "</div>"
      ],
      "text/plain": [
       "       children  days_employed  dob_years education  education_id  \\\n",
       "9013          2   -1584.671417       36.0    высшее             0   \n",
       "14432         2   -1584.671417       36.0    высшее             0   \n",
       "8886          1   -1584.671417       37.0   среднее             1   \n",
       "12375         1   -1584.671417       37.0   среднее             1   \n",
       "9374          0   -1584.671417       38.0    высшее             0   \n",
       "19387         0   -1584.671417       38.0    высшее             0   \n",
       "11033         2   -1584.671417       39.0   среднее             1   \n",
       "16902         2   -1584.671417       39.0   среднее             1   \n",
       "4081          1   -1584.671417       40.0   среднее             1   \n",
       "17774         1   -1584.671417       40.0   среднее             1   \n",
       "\n",
       "          family_status  family_status_id gender  income_type  debt  \\\n",
       "9013    женат / замужем                 0      F  госслужащий     0   \n",
       "14432   женат / замужем                 0      F  госслужащий     0   \n",
       "8886    женат / замужем                 0      F    сотрудник     0   \n",
       "12375   женат / замужем                 0      F    сотрудник     0   \n",
       "9374   гражданский брак                 1      F    компаньон     0   \n",
       "19387  гражданский брак                 1      F    компаньон     0   \n",
       "11033  гражданский брак                 1      F    сотрудник     0   \n",
       "16902  гражданский брак                 1      F    сотрудник     0   \n",
       "4081   гражданский брак                 1      F    компаньон     0   \n",
       "17774  гражданский брак                 1      F    компаньон     0   \n",
       "\n",
       "       total_income                           purpose  dob_years_id  \n",
       "9013         150447             получение образования             1  \n",
       "14432        150447             получение образования             1  \n",
       "8886         142594              покупка недвижимости             1  \n",
       "12375        142594              покупка недвижимости             1  \n",
       "9374         172357             на проведение свадьбы             1  \n",
       "19387        172357             на проведение свадьбы             1  \n",
       "11033        142594                   сыграть свадьбу             1  \n",
       "16902        142594                   сыграть свадьбу             1  \n",
       "4081         172357  строительство жилой недвижимости             1  \n",
       "17774        172357  строительство жилой недвижимости             1  "
      ]
     },
     "execution_count": 32,
     "metadata": {},
     "output_type": "execute_result"
    }
   ],
   "source": [
    "data[data.duplicated(keep=False)].sort_values(by=['days_employed', 'dob_years', 'purpose', 'total_income']).head(10)"
   ]
  },
  {
   "cell_type": "code",
   "execution_count": 33,
   "metadata": {},
   "outputs": [
    {
     "name": "stdout",
     "output_type": "stream",
     "text": [
      "Дубликаты есть и их много! А именно 71.\n"
     ]
    }
   ],
   "source": [
    "print(f'Дубликаты есть и их много! А именно {len(data[data.duplicated()])}.')"
   ]
  },
  {
   "cell_type": "markdown",
   "metadata": {},
   "source": [
    "Избавимся от них методом drop_duplicates и проверим результат:"
   ]
  },
  {
   "cell_type": "code",
   "execution_count": 34,
   "metadata": {
    "scrolled": false
   },
   "outputs": [
    {
     "name": "stdout",
     "output_type": "stream",
     "text": [
      "Осталось 0 дубликатов.\n"
     ]
    }
   ],
   "source": [
    "data.drop_duplicates(inplace=True)\n",
    "data.reset_index(drop=True, inplace=True)\n",
    "print(f'Осталось {len(data[data.duplicated()])} дубликатов.')"
   ]
  },
  {
   "cell_type": "markdown",
   "metadata": {},
   "source": [
    "**Вывод**"
   ]
  },
  {
   "cell_type": "markdown",
   "metadata": {},
   "source": [
    "После приведения значений столбца 'education' в нижний регистр в таблице оказалась 71 дублирующая строка. Следует уточнить причину появления дубликатов, возможно это могут быть повторные заявки, либо два кредита на схожие цели. Так как количество дубликатов незначительно, их можно удалить без потери ценных сведений."
   ]
  },
  {
   "cell_type": "markdown",
   "metadata": {},
   "source": [
    "### Лемматизация"
   ]
  },
  {
   "cell_type": "markdown",
   "metadata": {},
   "source": [
    "Поиграемся с выкинутой из новой версии проекта лемматизацией, вместо того чтобы передалать весь ноутбук под обновившееся задание:"
   ]
  },
  {
   "cell_type": "code",
   "execution_count": 35,
   "metadata": {
    "scrolled": true
   },
   "outputs": [
    {
     "data": {
      "text/html": [
       "<div>\n",
       "<style scoped>\n",
       "    .dataframe tbody tr th:only-of-type {\n",
       "        vertical-align: middle;\n",
       "    }\n",
       "\n",
       "    .dataframe tbody tr th {\n",
       "        vertical-align: top;\n",
       "    }\n",
       "\n",
       "    .dataframe thead th {\n",
       "        text-align: right;\n",
       "    }\n",
       "</style>\n",
       "<table border=\"1\" class=\"dataframe\">\n",
       "  <thead>\n",
       "    <tr style=\"text-align: right;\">\n",
       "      <th></th>\n",
       "      <th>children</th>\n",
       "      <th>days_employed</th>\n",
       "      <th>dob_years</th>\n",
       "      <th>education</th>\n",
       "      <th>education_id</th>\n",
       "      <th>family_status</th>\n",
       "      <th>family_status_id</th>\n",
       "      <th>gender</th>\n",
       "      <th>income_type</th>\n",
       "      <th>debt</th>\n",
       "      <th>total_income</th>\n",
       "      <th>purpose</th>\n",
       "      <th>dob_years_id</th>\n",
       "      <th>purpose_lemmas</th>\n",
       "    </tr>\n",
       "  </thead>\n",
       "  <tbody>\n",
       "    <tr>\n",
       "      <td>0</td>\n",
       "      <td>1</td>\n",
       "      <td>-8437.673028</td>\n",
       "      <td>42.0</td>\n",
       "      <td>высшее</td>\n",
       "      <td>0</td>\n",
       "      <td>женат / замужем</td>\n",
       "      <td>0</td>\n",
       "      <td>F</td>\n",
       "      <td>сотрудник</td>\n",
       "      <td>0</td>\n",
       "      <td>253875</td>\n",
       "      <td>покупка жилья</td>\n",
       "      <td>1</td>\n",
       "      <td>[покупка,  , жилье, \\n]</td>\n",
       "    </tr>\n",
       "    <tr>\n",
       "      <td>1</td>\n",
       "      <td>1</td>\n",
       "      <td>-4024.803754</td>\n",
       "      <td>36.0</td>\n",
       "      <td>среднее</td>\n",
       "      <td>1</td>\n",
       "      <td>женат / замужем</td>\n",
       "      <td>0</td>\n",
       "      <td>F</td>\n",
       "      <td>сотрудник</td>\n",
       "      <td>0</td>\n",
       "      <td>112080</td>\n",
       "      <td>приобретение автомобиля</td>\n",
       "      <td>1</td>\n",
       "      <td>[приобретение,  , автомобиль, \\n]</td>\n",
       "    </tr>\n",
       "    <tr>\n",
       "      <td>2</td>\n",
       "      <td>0</td>\n",
       "      <td>-5623.422610</td>\n",
       "      <td>33.0</td>\n",
       "      <td>среднее</td>\n",
       "      <td>1</td>\n",
       "      <td>женат / замужем</td>\n",
       "      <td>0</td>\n",
       "      <td>M</td>\n",
       "      <td>сотрудник</td>\n",
       "      <td>0</td>\n",
       "      <td>145885</td>\n",
       "      <td>покупка жилья</td>\n",
       "      <td>0</td>\n",
       "      <td>[покупка,  , жилье, \\n]</td>\n",
       "    </tr>\n",
       "    <tr>\n",
       "      <td>3</td>\n",
       "      <td>3</td>\n",
       "      <td>-4124.747207</td>\n",
       "      <td>32.0</td>\n",
       "      <td>среднее</td>\n",
       "      <td>1</td>\n",
       "      <td>женат / замужем</td>\n",
       "      <td>0</td>\n",
       "      <td>M</td>\n",
       "      <td>сотрудник</td>\n",
       "      <td>0</td>\n",
       "      <td>267628</td>\n",
       "      <td>дополнительное образование</td>\n",
       "      <td>0</td>\n",
       "      <td>[дополнительный,  , образование, \\n]</td>\n",
       "    </tr>\n",
       "    <tr>\n",
       "      <td>4</td>\n",
       "      <td>0</td>\n",
       "      <td>340266.072047</td>\n",
       "      <td>53.0</td>\n",
       "      <td>среднее</td>\n",
       "      <td>1</td>\n",
       "      <td>гражданский брак</td>\n",
       "      <td>1</td>\n",
       "      <td>F</td>\n",
       "      <td>пенсионер</td>\n",
       "      <td>0</td>\n",
       "      <td>158616</td>\n",
       "      <td>сыграть свадьбу</td>\n",
       "      <td>1</td>\n",
       "      <td>[сыграть,  , свадьба, \\n]</td>\n",
       "    </tr>\n",
       "    <tr>\n",
       "      <td>5</td>\n",
       "      <td>0</td>\n",
       "      <td>-926.185831</td>\n",
       "      <td>27.0</td>\n",
       "      <td>высшее</td>\n",
       "      <td>0</td>\n",
       "      <td>гражданский брак</td>\n",
       "      <td>1</td>\n",
       "      <td>M</td>\n",
       "      <td>компаньон</td>\n",
       "      <td>0</td>\n",
       "      <td>255763</td>\n",
       "      <td>покупка жилья</td>\n",
       "      <td>0</td>\n",
       "      <td>[покупка,  , жилье, \\n]</td>\n",
       "    </tr>\n",
       "    <tr>\n",
       "      <td>6</td>\n",
       "      <td>0</td>\n",
       "      <td>-2879.202052</td>\n",
       "      <td>43.0</td>\n",
       "      <td>высшее</td>\n",
       "      <td>0</td>\n",
       "      <td>женат / замужем</td>\n",
       "      <td>0</td>\n",
       "      <td>F</td>\n",
       "      <td>компаньон</td>\n",
       "      <td>0</td>\n",
       "      <td>240525</td>\n",
       "      <td>операции с жильем</td>\n",
       "      <td>1</td>\n",
       "      <td>[операция,  , с,  , жилье, \\n]</td>\n",
       "    </tr>\n",
       "    <tr>\n",
       "      <td>7</td>\n",
       "      <td>0</td>\n",
       "      <td>-152.779569</td>\n",
       "      <td>50.0</td>\n",
       "      <td>среднее</td>\n",
       "      <td>1</td>\n",
       "      <td>женат / замужем</td>\n",
       "      <td>0</td>\n",
       "      <td>M</td>\n",
       "      <td>сотрудник</td>\n",
       "      <td>0</td>\n",
       "      <td>135823</td>\n",
       "      <td>образование</td>\n",
       "      <td>1</td>\n",
       "      <td>[образование, \\n]</td>\n",
       "    </tr>\n",
       "    <tr>\n",
       "      <td>8</td>\n",
       "      <td>2</td>\n",
       "      <td>-6929.865299</td>\n",
       "      <td>35.0</td>\n",
       "      <td>высшее</td>\n",
       "      <td>0</td>\n",
       "      <td>гражданский брак</td>\n",
       "      <td>1</td>\n",
       "      <td>F</td>\n",
       "      <td>сотрудник</td>\n",
       "      <td>0</td>\n",
       "      <td>95856</td>\n",
       "      <td>на проведение свадьбы</td>\n",
       "      <td>0</td>\n",
       "      <td>[на,  , проведение,  , свадьба, \\n]</td>\n",
       "    </tr>\n",
       "    <tr>\n",
       "      <td>9</td>\n",
       "      <td>0</td>\n",
       "      <td>-2188.756445</td>\n",
       "      <td>41.0</td>\n",
       "      <td>среднее</td>\n",
       "      <td>1</td>\n",
       "      <td>женат / замужем</td>\n",
       "      <td>0</td>\n",
       "      <td>M</td>\n",
       "      <td>сотрудник</td>\n",
       "      <td>0</td>\n",
       "      <td>144425</td>\n",
       "      <td>покупка жилья для семьи</td>\n",
       "      <td>1</td>\n",
       "      <td>[покупка,  , жилье,  , для,  , семья, \\n]</td>\n",
       "    </tr>\n",
       "  </tbody>\n",
       "</table>\n",
       "</div>"
      ],
      "text/plain": [
       "   children  days_employed  dob_years education  education_id  \\\n",
       "0         1   -8437.673028       42.0    высшее             0   \n",
       "1         1   -4024.803754       36.0   среднее             1   \n",
       "2         0   -5623.422610       33.0   среднее             1   \n",
       "3         3   -4124.747207       32.0   среднее             1   \n",
       "4         0  340266.072047       53.0   среднее             1   \n",
       "5         0    -926.185831       27.0    высшее             0   \n",
       "6         0   -2879.202052       43.0    высшее             0   \n",
       "7         0    -152.779569       50.0   среднее             1   \n",
       "8         2   -6929.865299       35.0    высшее             0   \n",
       "9         0   -2188.756445       41.0   среднее             1   \n",
       "\n",
       "      family_status  family_status_id gender income_type  debt  total_income  \\\n",
       "0   женат / замужем                 0      F   сотрудник     0        253875   \n",
       "1   женат / замужем                 0      F   сотрудник     0        112080   \n",
       "2   женат / замужем                 0      M   сотрудник     0        145885   \n",
       "3   женат / замужем                 0      M   сотрудник     0        267628   \n",
       "4  гражданский брак                 1      F   пенсионер     0        158616   \n",
       "5  гражданский брак                 1      M   компаньон     0        255763   \n",
       "6   женат / замужем                 0      F   компаньон     0        240525   \n",
       "7   женат / замужем                 0      M   сотрудник     0        135823   \n",
       "8  гражданский брак                 1      F   сотрудник     0         95856   \n",
       "9   женат / замужем                 0      M   сотрудник     0        144425   \n",
       "\n",
       "                      purpose  dob_years_id  \\\n",
       "0               покупка жилья             1   \n",
       "1     приобретение автомобиля             1   \n",
       "2               покупка жилья             0   \n",
       "3  дополнительное образование             0   \n",
       "4             сыграть свадьбу             1   \n",
       "5               покупка жилья             0   \n",
       "6           операции с жильем             1   \n",
       "7                 образование             1   \n",
       "8       на проведение свадьбы             0   \n",
       "9     покупка жилья для семьи             1   \n",
       "\n",
       "                              purpose_lemmas  \n",
       "0                    [покупка,  , жилье, \\n]  \n",
       "1          [приобретение,  , автомобиль, \\n]  \n",
       "2                    [покупка,  , жилье, \\n]  \n",
       "3       [дополнительный,  , образование, \\n]  \n",
       "4                  [сыграть,  , свадьба, \\n]  \n",
       "5                    [покупка,  , жилье, \\n]  \n",
       "6             [операция,  , с,  , жилье, \\n]  \n",
       "7                          [образование, \\n]  \n",
       "8        [на,  , проведение,  , свадьба, \\n]  \n",
       "9  [покупка,  , жилье,  , для,  , семья, \\n]  "
      ]
     },
     "execution_count": 35,
     "metadata": {},
     "output_type": "execute_result"
    }
   ],
   "source": [
    "from pymystem3 import Mystem\n",
    "from collections import Counter\n",
    "m = Mystem()\n",
    "\n",
    "def lemmatize(string):\n",
    "    lemmas = m.lemmatize(string)\n",
    "    return lemmas\n",
    "data['purpose_lemmas'] = data['purpose'].apply(lemmatize)\n",
    "data.head(10)"
   ]
  },
  {
   "cell_type": "markdown",
   "metadata": {},
   "source": [
    "Получилось добавить новый столбец с леммами."
   ]
  },
  {
   "cell_type": "markdown",
   "metadata": {},
   "source": [
    "Попробуем выбросить лишние слова из столбца \"purpose\":"
   ]
  },
  {
   "cell_type": "code",
   "execution_count": 36,
   "metadata": {},
   "outputs": [],
   "source": [
    "for i in range(len(data)):\n",
    "    for e in ['\\n', ' ', 'с', 'для', 'со', 'на', 'свой', 'операция']:\n",
    "        while e in data['purpose_lemmas'][i]:\n",
    "            data['purpose_lemmas'][i].remove(e)\n",
    "        else:\n",
    "            continue"
   ]
  },
  {
   "cell_type": "code",
   "execution_count": 37,
   "metadata": {},
   "outputs": [
    {
     "data": {
      "text/html": [
       "<div>\n",
       "<style scoped>\n",
       "    .dataframe tbody tr th:only-of-type {\n",
       "        vertical-align: middle;\n",
       "    }\n",
       "\n",
       "    .dataframe tbody tr th {\n",
       "        vertical-align: top;\n",
       "    }\n",
       "\n",
       "    .dataframe thead th {\n",
       "        text-align: right;\n",
       "    }\n",
       "</style>\n",
       "<table border=\"1\" class=\"dataframe\">\n",
       "  <thead>\n",
       "    <tr style=\"text-align: right;\">\n",
       "      <th></th>\n",
       "      <th>children</th>\n",
       "      <th>days_employed</th>\n",
       "      <th>dob_years</th>\n",
       "      <th>education</th>\n",
       "      <th>education_id</th>\n",
       "      <th>family_status</th>\n",
       "      <th>family_status_id</th>\n",
       "      <th>gender</th>\n",
       "      <th>income_type</th>\n",
       "      <th>debt</th>\n",
       "      <th>total_income</th>\n",
       "      <th>purpose</th>\n",
       "      <th>dob_years_id</th>\n",
       "      <th>purpose_lemmas</th>\n",
       "    </tr>\n",
       "  </thead>\n",
       "  <tbody>\n",
       "    <tr>\n",
       "      <td>0</td>\n",
       "      <td>1</td>\n",
       "      <td>-8437.673028</td>\n",
       "      <td>42.0</td>\n",
       "      <td>высшее</td>\n",
       "      <td>0</td>\n",
       "      <td>женат / замужем</td>\n",
       "      <td>0</td>\n",
       "      <td>F</td>\n",
       "      <td>сотрудник</td>\n",
       "      <td>0</td>\n",
       "      <td>253875</td>\n",
       "      <td>покупка жилья</td>\n",
       "      <td>1</td>\n",
       "      <td>[покупка, жилье]</td>\n",
       "    </tr>\n",
       "    <tr>\n",
       "      <td>1</td>\n",
       "      <td>1</td>\n",
       "      <td>-4024.803754</td>\n",
       "      <td>36.0</td>\n",
       "      <td>среднее</td>\n",
       "      <td>1</td>\n",
       "      <td>женат / замужем</td>\n",
       "      <td>0</td>\n",
       "      <td>F</td>\n",
       "      <td>сотрудник</td>\n",
       "      <td>0</td>\n",
       "      <td>112080</td>\n",
       "      <td>приобретение автомобиля</td>\n",
       "      <td>1</td>\n",
       "      <td>[приобретение, автомобиль]</td>\n",
       "    </tr>\n",
       "    <tr>\n",
       "      <td>2</td>\n",
       "      <td>0</td>\n",
       "      <td>-5623.422610</td>\n",
       "      <td>33.0</td>\n",
       "      <td>среднее</td>\n",
       "      <td>1</td>\n",
       "      <td>женат / замужем</td>\n",
       "      <td>0</td>\n",
       "      <td>M</td>\n",
       "      <td>сотрудник</td>\n",
       "      <td>0</td>\n",
       "      <td>145885</td>\n",
       "      <td>покупка жилья</td>\n",
       "      <td>0</td>\n",
       "      <td>[покупка, жилье]</td>\n",
       "    </tr>\n",
       "    <tr>\n",
       "      <td>3</td>\n",
       "      <td>3</td>\n",
       "      <td>-4124.747207</td>\n",
       "      <td>32.0</td>\n",
       "      <td>среднее</td>\n",
       "      <td>1</td>\n",
       "      <td>женат / замужем</td>\n",
       "      <td>0</td>\n",
       "      <td>M</td>\n",
       "      <td>сотрудник</td>\n",
       "      <td>0</td>\n",
       "      <td>267628</td>\n",
       "      <td>дополнительное образование</td>\n",
       "      <td>0</td>\n",
       "      <td>[дополнительный, образование]</td>\n",
       "    </tr>\n",
       "    <tr>\n",
       "      <td>4</td>\n",
       "      <td>0</td>\n",
       "      <td>340266.072047</td>\n",
       "      <td>53.0</td>\n",
       "      <td>среднее</td>\n",
       "      <td>1</td>\n",
       "      <td>гражданский брак</td>\n",
       "      <td>1</td>\n",
       "      <td>F</td>\n",
       "      <td>пенсионер</td>\n",
       "      <td>0</td>\n",
       "      <td>158616</td>\n",
       "      <td>сыграть свадьбу</td>\n",
       "      <td>1</td>\n",
       "      <td>[сыграть, свадьба]</td>\n",
       "    </tr>\n",
       "  </tbody>\n",
       "</table>\n",
       "</div>"
      ],
      "text/plain": [
       "   children  days_employed  dob_years education  education_id  \\\n",
       "0         1   -8437.673028       42.0    высшее             0   \n",
       "1         1   -4024.803754       36.0   среднее             1   \n",
       "2         0   -5623.422610       33.0   среднее             1   \n",
       "3         3   -4124.747207       32.0   среднее             1   \n",
       "4         0  340266.072047       53.0   среднее             1   \n",
       "\n",
       "      family_status  family_status_id gender income_type  debt  total_income  \\\n",
       "0   женат / замужем                 0      F   сотрудник     0        253875   \n",
       "1   женат / замужем                 0      F   сотрудник     0        112080   \n",
       "2   женат / замужем                 0      M   сотрудник     0        145885   \n",
       "3   женат / замужем                 0      M   сотрудник     0        267628   \n",
       "4  гражданский брак                 1      F   пенсионер     0        158616   \n",
       "\n",
       "                      purpose  dob_years_id                 purpose_lemmas  \n",
       "0               покупка жилья             1               [покупка, жилье]  \n",
       "1     приобретение автомобиля             1     [приобретение, автомобиль]  \n",
       "2               покупка жилья             0               [покупка, жилье]  \n",
       "3  дополнительное образование             0  [дополнительный, образование]  \n",
       "4             сыграть свадьбу             1             [сыграть, свадьба]  "
      ]
     },
     "execution_count": 37,
     "metadata": {},
     "output_type": "execute_result"
    }
   ],
   "source": [
    "data.head()"
   ]
  },
  {
   "cell_type": "markdown",
   "metadata": {},
   "source": [
    "Почти получилось! Но цикл явно нуждается в доработке:"
   ]
  },
  {
   "cell_type": "code",
   "execution_count": 38,
   "metadata": {},
   "outputs": [],
   "source": [
    "for i in range(len(data)):\n",
    "    for e in ['\\n', ' ', 'с', 'для', 'со', 'на', 'свой', 'операция', 'покупка', 'проведение', 'сыграть', 'коммерческий',\n",
    "              'сдача', 'семья', 'собственный', 'строительство', 'жилой', 'сделка', 'поддержать', 'заниматься', 'высокий',\n",
    "             'высокий', 'получение', 'дополнительный', 'ремонт', 'подержанный', 'приобретение', 'подержать', 'профильный']:\n",
    "        while e in data['purpose_lemmas'][i]:\n",
    "            data['purpose_lemmas'][i].remove(e)\n",
    "        else:\n",
    "            continue"
   ]
  },
  {
   "cell_type": "markdown",
   "metadata": {},
   "source": [
    "Выведем таблицу с категориями займов:"
   ]
  },
  {
   "cell_type": "code",
   "execution_count": 39,
   "metadata": {},
   "outputs": [
    {
     "data": {
      "text/html": [
       "<div>\n",
       "<style scoped>\n",
       "    .dataframe tbody tr th:only-of-type {\n",
       "        vertical-align: middle;\n",
       "    }\n",
       "\n",
       "    .dataframe tbody tr th {\n",
       "        vertical-align: top;\n",
       "    }\n",
       "\n",
       "    .dataframe thead th {\n",
       "        text-align: right;\n",
       "    }\n",
       "</style>\n",
       "<table border=\"1\" class=\"dataframe\">\n",
       "  <thead>\n",
       "    <tr style=\"text-align: right;\">\n",
       "      <th></th>\n",
       "      <th>purpose_type</th>\n",
       "      <th>sum_by_purpose</th>\n",
       "    </tr>\n",
       "  </thead>\n",
       "  <tbody>\n",
       "    <tr>\n",
       "      <td>0</td>\n",
       "      <td>[недвижимость]</td>\n",
       "      <td>6351</td>\n",
       "    </tr>\n",
       "    <tr>\n",
       "      <td>1</td>\n",
       "      <td>[жилье]</td>\n",
       "      <td>4460</td>\n",
       "    </tr>\n",
       "    <tr>\n",
       "      <td>2</td>\n",
       "      <td>[автомобиль]</td>\n",
       "      <td>4306</td>\n",
       "    </tr>\n",
       "    <tr>\n",
       "      <td>3</td>\n",
       "      <td>[образование]</td>\n",
       "      <td>4013</td>\n",
       "    </tr>\n",
       "    <tr>\n",
       "      <td>4</td>\n",
       "      <td>[свадьба]</td>\n",
       "      <td>2324</td>\n",
       "    </tr>\n",
       "  </tbody>\n",
       "</table>\n",
       "</div>"
      ],
      "text/plain": [
       "     purpose_type  sum_by_purpose\n",
       "0  [недвижимость]            6351\n",
       "1         [жилье]            4460\n",
       "2    [автомобиль]            4306\n",
       "3   [образование]            4013\n",
       "4       [свадьба]            2324"
      ]
     },
     "execution_count": 39,
     "metadata": {},
     "output_type": "execute_result"
    }
   ],
   "source": [
    "top_purposes = pd.DataFrame(data.loc[:, 'purpose_lemmas'].value_counts().reset_index())\n",
    "top_purposes.rename(columns={'index': 'purpose_type', 'purpose_lemmas':'sum_by_purpose'}, inplace=True)\n",
    "top_purposes"
   ]
  },
  {
   "cell_type": "markdown",
   "metadata": {},
   "source": [
    "**Вывод**"
   ]
  },
  {
   "cell_type": "markdown",
   "metadata": {},
   "source": [
    "Умение пользоваться лемматизацией получено, страшный цикл написан, осознание того, что можно было просто написать функцию на вхождение подстроки в строку и применить её к исходному датасету через apply пришло."
   ]
  },
  {
   "cell_type": "markdown",
   "metadata": {},
   "source": [
    "### Категоризация данных"
   ]
  },
  {
   "cell_type": "markdown",
   "metadata": {},
   "source": [
    "Количественное распредление заёмщиков по целям займа мы выяснили в прошлом пункте. Сейчас же посмотрим какие доли от общего количества эти группы составляют:"
   ]
  },
  {
   "cell_type": "code",
   "execution_count": 40,
   "metadata": {
    "scrolled": false
   },
   "outputs": [
    {
     "name": "stdout",
     "output_type": "stream",
     "text": [
      "Обращений с целью \"недвижимость\": 29.60%\n",
      "Обращений с целью \"жилье\": 20.79%\n",
      "Обращений с целью \"автомобиль\": 20.07%\n",
      "Обращений с целью \"образование\": 18.71%\n",
      "Обращений с целью \"свадьба\": 10.83%\n"
     ]
    }
   ],
   "source": [
    "for i in range(len(top_purposes)):\n",
    "    print(f'Обращений с целью \"{\"\".join(top_purposes.loc[i, \"purpose_type\"])}\": {top_purposes.loc[i, \"sum_by_purpose\"] / len(data):.2%}')"
   ]
  },
  {
   "cell_type": "markdown",
   "metadata": {},
   "source": [
    "Попробуем категоризировать заявителей по целям займа с помощью функции, на вход она принимает цель займа, если в цели содержится одна из найденных лемм, то функция вернет id, тут же объединим цели \"недвижимость\" и \"жилье\":"
   ]
  },
  {
   "cell_type": "code",
   "execution_count": 41,
   "metadata": {},
   "outputs": [],
   "source": [
    "def purpose_id(purpose):\n",
    "    if 'недвижимость' in purpose:\n",
    "        return 0\n",
    "    elif 'жилье' in purpose:\n",
    "        return 0\n",
    "    elif 'автомобиль' in purpose:\n",
    "        return 1\n",
    "    elif 'образование' in purpose:\n",
    "        return 2\n",
    "    elif 'свадьба' in purpose:\n",
    "        return 3"
   ]
  },
  {
   "cell_type": "markdown",
   "metadata": {},
   "source": [
    "Пора применить и проверить работу функции:"
   ]
  },
  {
   "cell_type": "code",
   "execution_count": 42,
   "metadata": {
    "scrolled": true
   },
   "outputs": [
    {
     "data": {
      "text/html": [
       "<div>\n",
       "<style scoped>\n",
       "    .dataframe tbody tr th:only-of-type {\n",
       "        vertical-align: middle;\n",
       "    }\n",
       "\n",
       "    .dataframe tbody tr th {\n",
       "        vertical-align: top;\n",
       "    }\n",
       "\n",
       "    .dataframe thead th {\n",
       "        text-align: right;\n",
       "    }\n",
       "</style>\n",
       "<table border=\"1\" class=\"dataframe\">\n",
       "  <thead>\n",
       "    <tr style=\"text-align: right;\">\n",
       "      <th></th>\n",
       "      <th>children</th>\n",
       "      <th>days_employed</th>\n",
       "      <th>dob_years</th>\n",
       "      <th>education</th>\n",
       "      <th>education_id</th>\n",
       "      <th>family_status</th>\n",
       "      <th>family_status_id</th>\n",
       "      <th>gender</th>\n",
       "      <th>income_type</th>\n",
       "      <th>debt</th>\n",
       "      <th>total_income</th>\n",
       "      <th>purpose</th>\n",
       "      <th>dob_years_id</th>\n",
       "      <th>purpose_lemmas</th>\n",
       "      <th>purpose_id</th>\n",
       "    </tr>\n",
       "  </thead>\n",
       "  <tbody>\n",
       "    <tr>\n",
       "      <td>0</td>\n",
       "      <td>1</td>\n",
       "      <td>-8437.673028</td>\n",
       "      <td>42.0</td>\n",
       "      <td>высшее</td>\n",
       "      <td>0</td>\n",
       "      <td>женат / замужем</td>\n",
       "      <td>0</td>\n",
       "      <td>F</td>\n",
       "      <td>сотрудник</td>\n",
       "      <td>0</td>\n",
       "      <td>253875</td>\n",
       "      <td>покупка жилья</td>\n",
       "      <td>1</td>\n",
       "      <td>[жилье]</td>\n",
       "      <td>0</td>\n",
       "    </tr>\n",
       "    <tr>\n",
       "      <td>1</td>\n",
       "      <td>1</td>\n",
       "      <td>-4024.803754</td>\n",
       "      <td>36.0</td>\n",
       "      <td>среднее</td>\n",
       "      <td>1</td>\n",
       "      <td>женат / замужем</td>\n",
       "      <td>0</td>\n",
       "      <td>F</td>\n",
       "      <td>сотрудник</td>\n",
       "      <td>0</td>\n",
       "      <td>112080</td>\n",
       "      <td>приобретение автомобиля</td>\n",
       "      <td>1</td>\n",
       "      <td>[автомобиль]</td>\n",
       "      <td>1</td>\n",
       "    </tr>\n",
       "    <tr>\n",
       "      <td>2</td>\n",
       "      <td>0</td>\n",
       "      <td>-5623.422610</td>\n",
       "      <td>33.0</td>\n",
       "      <td>среднее</td>\n",
       "      <td>1</td>\n",
       "      <td>женат / замужем</td>\n",
       "      <td>0</td>\n",
       "      <td>M</td>\n",
       "      <td>сотрудник</td>\n",
       "      <td>0</td>\n",
       "      <td>145885</td>\n",
       "      <td>покупка жилья</td>\n",
       "      <td>0</td>\n",
       "      <td>[жилье]</td>\n",
       "      <td>0</td>\n",
       "    </tr>\n",
       "    <tr>\n",
       "      <td>3</td>\n",
       "      <td>3</td>\n",
       "      <td>-4124.747207</td>\n",
       "      <td>32.0</td>\n",
       "      <td>среднее</td>\n",
       "      <td>1</td>\n",
       "      <td>женат / замужем</td>\n",
       "      <td>0</td>\n",
       "      <td>M</td>\n",
       "      <td>сотрудник</td>\n",
       "      <td>0</td>\n",
       "      <td>267628</td>\n",
       "      <td>дополнительное образование</td>\n",
       "      <td>0</td>\n",
       "      <td>[образование]</td>\n",
       "      <td>2</td>\n",
       "    </tr>\n",
       "    <tr>\n",
       "      <td>4</td>\n",
       "      <td>0</td>\n",
       "      <td>340266.072047</td>\n",
       "      <td>53.0</td>\n",
       "      <td>среднее</td>\n",
       "      <td>1</td>\n",
       "      <td>гражданский брак</td>\n",
       "      <td>1</td>\n",
       "      <td>F</td>\n",
       "      <td>пенсионер</td>\n",
       "      <td>0</td>\n",
       "      <td>158616</td>\n",
       "      <td>сыграть свадьбу</td>\n",
       "      <td>1</td>\n",
       "      <td>[свадьба]</td>\n",
       "      <td>3</td>\n",
       "    </tr>\n",
       "  </tbody>\n",
       "</table>\n",
       "</div>"
      ],
      "text/plain": [
       "   children  days_employed  dob_years education  education_id  \\\n",
       "0         1   -8437.673028       42.0    высшее             0   \n",
       "1         1   -4024.803754       36.0   среднее             1   \n",
       "2         0   -5623.422610       33.0   среднее             1   \n",
       "3         3   -4124.747207       32.0   среднее             1   \n",
       "4         0  340266.072047       53.0   среднее             1   \n",
       "\n",
       "      family_status  family_status_id gender income_type  debt  total_income  \\\n",
       "0   женат / замужем                 0      F   сотрудник     0        253875   \n",
       "1   женат / замужем                 0      F   сотрудник     0        112080   \n",
       "2   женат / замужем                 0      M   сотрудник     0        145885   \n",
       "3   женат / замужем                 0      M   сотрудник     0        267628   \n",
       "4  гражданский брак                 1      F   пенсионер     0        158616   \n",
       "\n",
       "                      purpose  dob_years_id purpose_lemmas  purpose_id  \n",
       "0               покупка жилья             1        [жилье]           0  \n",
       "1     приобретение автомобиля             1   [автомобиль]           1  \n",
       "2               покупка жилья             0        [жилье]           0  \n",
       "3  дополнительное образование             0  [образование]           2  \n",
       "4             сыграть свадьбу             1      [свадьба]           3  "
      ]
     },
     "execution_count": 42,
     "metadata": {},
     "output_type": "execute_result"
    }
   ],
   "source": [
    "data['purpose_id'] = data['purpose_lemmas'].apply(purpose_id)\n",
    "data.head()"
   ]
  },
  {
   "cell_type": "markdown",
   "metadata": {},
   "source": [
    "Посмотрим, что поменялось после объединения целей \"недвижимость\"и \"жилье\":"
   ]
  },
  {
   "cell_type": "code",
   "execution_count": 43,
   "metadata": {},
   "outputs": [
    {
     "name": "stdout",
     "output_type": "stream",
     "text": [
      "Обращений с целью \"недвижимость\": 50.39%\n",
      "Обращений с целью \"автомобиль\": 20.07%\n",
      "Обращений с целью \"образование\": 18.71%\n",
      "Обращений с целью \"свадьба\": 10.83%\n"
     ]
    }
   ],
   "source": [
    "print(f'Обращений с целью \"недвижимость\": {data.loc[data[\"purpose_id\"] == 0, \"purpose_id\"].count() / len(data):.2%}')\n",
    "print(f'Обращений с целью \"автомобиль\": {data.loc[data[\"purpose_id\"] == 1, \"purpose_id\"].count() / len(data):.2%}')\n",
    "print(f'Обращений с целью \"образование\": {data.loc[data[\"purpose_id\"] == 2, \"purpose_id\"].count() / len(data):.2%}')\n",
    "print(f'Обращений с целью \"свадьба\": {data.loc[data[\"purpose_id\"] == 3, \"purpose_id\"].count() / len(data):.2%}')"
   ]
  },
  {
   "cell_type": "markdown",
   "metadata": {},
   "source": [
    "Леммы свою роль сыграли, пора от них избавиться:"
   ]
  },
  {
   "cell_type": "code",
   "execution_count": 44,
   "metadata": {},
   "outputs": [
    {
     "data": {
      "text/html": [
       "<div>\n",
       "<style scoped>\n",
       "    .dataframe tbody tr th:only-of-type {\n",
       "        vertical-align: middle;\n",
       "    }\n",
       "\n",
       "    .dataframe tbody tr th {\n",
       "        vertical-align: top;\n",
       "    }\n",
       "\n",
       "    .dataframe thead th {\n",
       "        text-align: right;\n",
       "    }\n",
       "</style>\n",
       "<table border=\"1\" class=\"dataframe\">\n",
       "  <thead>\n",
       "    <tr style=\"text-align: right;\">\n",
       "      <th></th>\n",
       "      <th>children</th>\n",
       "      <th>days_employed</th>\n",
       "      <th>dob_years</th>\n",
       "      <th>education</th>\n",
       "      <th>education_id</th>\n",
       "      <th>family_status</th>\n",
       "      <th>family_status_id</th>\n",
       "      <th>gender</th>\n",
       "      <th>income_type</th>\n",
       "      <th>debt</th>\n",
       "      <th>total_income</th>\n",
       "      <th>purpose</th>\n",
       "      <th>dob_years_id</th>\n",
       "      <th>purpose_id</th>\n",
       "    </tr>\n",
       "  </thead>\n",
       "  <tbody>\n",
       "    <tr>\n",
       "      <td>0</td>\n",
       "      <td>1</td>\n",
       "      <td>-8437.673028</td>\n",
       "      <td>42.0</td>\n",
       "      <td>высшее</td>\n",
       "      <td>0</td>\n",
       "      <td>женат / замужем</td>\n",
       "      <td>0</td>\n",
       "      <td>F</td>\n",
       "      <td>сотрудник</td>\n",
       "      <td>0</td>\n",
       "      <td>253875</td>\n",
       "      <td>покупка жилья</td>\n",
       "      <td>1</td>\n",
       "      <td>0</td>\n",
       "    </tr>\n",
       "    <tr>\n",
       "      <td>1</td>\n",
       "      <td>1</td>\n",
       "      <td>-4024.803754</td>\n",
       "      <td>36.0</td>\n",
       "      <td>среднее</td>\n",
       "      <td>1</td>\n",
       "      <td>женат / замужем</td>\n",
       "      <td>0</td>\n",
       "      <td>F</td>\n",
       "      <td>сотрудник</td>\n",
       "      <td>0</td>\n",
       "      <td>112080</td>\n",
       "      <td>приобретение автомобиля</td>\n",
       "      <td>1</td>\n",
       "      <td>1</td>\n",
       "    </tr>\n",
       "    <tr>\n",
       "      <td>2</td>\n",
       "      <td>0</td>\n",
       "      <td>-5623.422610</td>\n",
       "      <td>33.0</td>\n",
       "      <td>среднее</td>\n",
       "      <td>1</td>\n",
       "      <td>женат / замужем</td>\n",
       "      <td>0</td>\n",
       "      <td>M</td>\n",
       "      <td>сотрудник</td>\n",
       "      <td>0</td>\n",
       "      <td>145885</td>\n",
       "      <td>покупка жилья</td>\n",
       "      <td>0</td>\n",
       "      <td>0</td>\n",
       "    </tr>\n",
       "    <tr>\n",
       "      <td>3</td>\n",
       "      <td>3</td>\n",
       "      <td>-4124.747207</td>\n",
       "      <td>32.0</td>\n",
       "      <td>среднее</td>\n",
       "      <td>1</td>\n",
       "      <td>женат / замужем</td>\n",
       "      <td>0</td>\n",
       "      <td>M</td>\n",
       "      <td>сотрудник</td>\n",
       "      <td>0</td>\n",
       "      <td>267628</td>\n",
       "      <td>дополнительное образование</td>\n",
       "      <td>0</td>\n",
       "      <td>2</td>\n",
       "    </tr>\n",
       "    <tr>\n",
       "      <td>4</td>\n",
       "      <td>0</td>\n",
       "      <td>340266.072047</td>\n",
       "      <td>53.0</td>\n",
       "      <td>среднее</td>\n",
       "      <td>1</td>\n",
       "      <td>гражданский брак</td>\n",
       "      <td>1</td>\n",
       "      <td>F</td>\n",
       "      <td>пенсионер</td>\n",
       "      <td>0</td>\n",
       "      <td>158616</td>\n",
       "      <td>сыграть свадьбу</td>\n",
       "      <td>1</td>\n",
       "      <td>3</td>\n",
       "    </tr>\n",
       "  </tbody>\n",
       "</table>\n",
       "</div>"
      ],
      "text/plain": [
       "   children  days_employed  dob_years education  education_id  \\\n",
       "0         1   -8437.673028       42.0    высшее             0   \n",
       "1         1   -4024.803754       36.0   среднее             1   \n",
       "2         0   -5623.422610       33.0   среднее             1   \n",
       "3         3   -4124.747207       32.0   среднее             1   \n",
       "4         0  340266.072047       53.0   среднее             1   \n",
       "\n",
       "      family_status  family_status_id gender income_type  debt  total_income  \\\n",
       "0   женат / замужем                 0      F   сотрудник     0        253875   \n",
       "1   женат / замужем                 0      F   сотрудник     0        112080   \n",
       "2   женат / замужем                 0      M   сотрудник     0        145885   \n",
       "3   женат / замужем                 0      M   сотрудник     0        267628   \n",
       "4  гражданский брак                 1      F   пенсионер     0        158616   \n",
       "\n",
       "                      purpose  dob_years_id  purpose_id  \n",
       "0               покупка жилья             1           0  \n",
       "1     приобретение автомобиля             1           1  \n",
       "2               покупка жилья             0           0  \n",
       "3  дополнительное образование             0           2  \n",
       "4             сыграть свадьбу             1           3  "
      ]
     },
     "execution_count": 44,
     "metadata": {},
     "output_type": "execute_result"
    }
   ],
   "source": [
    "data.drop('purpose_lemmas', axis=1, inplace=True)\n",
    "data.head()"
   ]
  },
  {
   "cell_type": "markdown",
   "metadata": {},
   "source": [
    "Для категоризации заёмщиков по уровню образования попробуем обойтись без написания функции. Вместо этого создадим таблицу в которой будет посчитано количество заявителей с каждым уровнем образования:"
   ]
  },
  {
   "cell_type": "code",
   "execution_count": 45,
   "metadata": {
    "scrolled": true
   },
   "outputs": [
    {
     "data": {
      "text/html": [
       "<div>\n",
       "<style scoped>\n",
       "    .dataframe tbody tr th:only-of-type {\n",
       "        vertical-align: middle;\n",
       "    }\n",
       "\n",
       "    .dataframe tbody tr th {\n",
       "        vertical-align: top;\n",
       "    }\n",
       "\n",
       "    .dataframe thead th {\n",
       "        text-align: right;\n",
       "    }\n",
       "</style>\n",
       "<table border=\"1\" class=\"dataframe\">\n",
       "  <thead>\n",
       "    <tr style=\"text-align: right;\">\n",
       "      <th></th>\n",
       "      <th>education_type</th>\n",
       "      <th>sum_by_education</th>\n",
       "    </tr>\n",
       "  </thead>\n",
       "  <tbody>\n",
       "    <tr>\n",
       "      <td>0</td>\n",
       "      <td>среднее</td>\n",
       "      <td>15172</td>\n",
       "    </tr>\n",
       "    <tr>\n",
       "      <td>1</td>\n",
       "      <td>высшее</td>\n",
       "      <td>5250</td>\n",
       "    </tr>\n",
       "    <tr>\n",
       "      <td>2</td>\n",
       "      <td>неоконченное высшее</td>\n",
       "      <td>744</td>\n",
       "    </tr>\n",
       "    <tr>\n",
       "      <td>3</td>\n",
       "      <td>начальное</td>\n",
       "      <td>282</td>\n",
       "    </tr>\n",
       "    <tr>\n",
       "      <td>4</td>\n",
       "      <td>ученая степень</td>\n",
       "      <td>6</td>\n",
       "    </tr>\n",
       "  </tbody>\n",
       "</table>\n",
       "</div>"
      ],
      "text/plain": [
       "        education_type  sum_by_education\n",
       "0              среднее             15172\n",
       "1               высшее              5250\n",
       "2  неоконченное высшее               744\n",
       "3            начальное               282\n",
       "4       ученая степень                 6"
      ]
     },
     "execution_count": 45,
     "metadata": {},
     "output_type": "execute_result"
    }
   ],
   "source": [
    "top_education = pd.DataFrame(data['education'].value_counts().reset_index())\n",
    "top_education.rename(columns={'index': 'education_type', 'education':'sum_by_education'}, inplace=True)\n",
    "top_education"
   ]
  },
  {
   "cell_type": "markdown",
   "metadata": {},
   "source": [
    "Красота! Посчитаем доли:"
   ]
  },
  {
   "cell_type": "code",
   "execution_count": 46,
   "metadata": {
    "scrolled": true
   },
   "outputs": [
    {
     "name": "stdout",
     "output_type": "stream",
     "text": [
      "Заёмщиков с образованием \"среднее\": 70.72%\n",
      "Заёмщиков с образованием \"высшее\": 24.47%\n",
      "Заёмщиков с образованием \"неоконченное высшее\": 3.47%\n",
      "Заёмщиков с образованием \"начальное\": 1.31%\n",
      "Заёмщиков с образованием \"ученая степень\": 0.03%\n"
     ]
    }
   ],
   "source": [
    "for i in range(len(top_education)):\n",
    "    print(f'Заёмщиков с образованием \"{top_education.loc[i, \"education_type\"]}\": {top_education.loc[i, \"sum_by_education\"] / len(data):.2%}')"
   ]
  },
  {
   "cell_type": "markdown",
   "metadata": {},
   "source": [
    "Подобным образом узнаем как представлены заёмщики с разными семейными статусами:"
   ]
  },
  {
   "cell_type": "code",
   "execution_count": 47,
   "metadata": {},
   "outputs": [
    {
     "data": {
      "text/html": [
       "<div>\n",
       "<style scoped>\n",
       "    .dataframe tbody tr th:only-of-type {\n",
       "        vertical-align: middle;\n",
       "    }\n",
       "\n",
       "    .dataframe tbody tr th {\n",
       "        vertical-align: top;\n",
       "    }\n",
       "\n",
       "    .dataframe thead th {\n",
       "        text-align: right;\n",
       "    }\n",
       "</style>\n",
       "<table border=\"1\" class=\"dataframe\">\n",
       "  <thead>\n",
       "    <tr style=\"text-align: right;\">\n",
       "      <th></th>\n",
       "      <th>family_type</th>\n",
       "      <th>sum_by_family</th>\n",
       "    </tr>\n",
       "  </thead>\n",
       "  <tbody>\n",
       "    <tr>\n",
       "      <td>0</td>\n",
       "      <td>женат / замужем</td>\n",
       "      <td>12339</td>\n",
       "    </tr>\n",
       "    <tr>\n",
       "      <td>1</td>\n",
       "      <td>гражданский брак</td>\n",
       "      <td>4151</td>\n",
       "    </tr>\n",
       "    <tr>\n",
       "      <td>2</td>\n",
       "      <td>Не женат / не замужем</td>\n",
       "      <td>2810</td>\n",
       "    </tr>\n",
       "    <tr>\n",
       "      <td>3</td>\n",
       "      <td>в разводе</td>\n",
       "      <td>1195</td>\n",
       "    </tr>\n",
       "    <tr>\n",
       "      <td>4</td>\n",
       "      <td>вдовец / вдова</td>\n",
       "      <td>959</td>\n",
       "    </tr>\n",
       "  </tbody>\n",
       "</table>\n",
       "</div>"
      ],
      "text/plain": [
       "             family_type  sum_by_family\n",
       "0        женат / замужем          12339\n",
       "1       гражданский брак           4151\n",
       "2  Не женат / не замужем           2810\n",
       "3              в разводе           1195\n",
       "4         вдовец / вдова            959"
      ]
     },
     "execution_count": 47,
     "metadata": {},
     "output_type": "execute_result"
    }
   ],
   "source": [
    "top_family_status = pd.DataFrame(data['family_status'].value_counts().reset_index())\n",
    "top_family_status.rename(columns={'index': 'family_type', 'family_status':'sum_by_family'}, inplace=True)\n",
    "top_family_status"
   ]
  },
  {
   "cell_type": "code",
   "execution_count": 48,
   "metadata": {},
   "outputs": [
    {
     "name": "stdout",
     "output_type": "stream",
     "text": [
      "Заёмщиков с семейным положением \"женат / замужем\": 57.51%\n",
      "Заёмщиков с семейным положением \"гражданский брак\": 19.35%\n",
      "Заёмщиков с семейным положением \"Не женат / не замужем\": 13.10%\n",
      "Заёмщиков с семейным положением \"в разводе\": 5.57%\n",
      "Заёмщиков с семейным положением \"вдовец / вдова\": 4.47%\n"
     ]
    }
   ],
   "source": [
    "for i in range(len(data.groupby('family_status_id')['family_status'].unique())):\n",
    "    print(f'Заёмщиков с семейным положением \"{top_family_status.loc[i, \"family_type\"]}\": {top_family_status.loc[i, \"sum_by_family\"] / len(data):.2%}')"
   ]
  },
  {
   "cell_type": "markdown",
   "metadata": {},
   "source": [
    "Добавим в исходную таблицу категоризацию по наличию детей в семье:"
   ]
  },
  {
   "cell_type": "code",
   "execution_count": 49,
   "metadata": {
    "scrolled": true
   },
   "outputs": [
    {
     "data": {
      "text/html": [
       "<div>\n",
       "<style scoped>\n",
       "    .dataframe tbody tr th:only-of-type {\n",
       "        vertical-align: middle;\n",
       "    }\n",
       "\n",
       "    .dataframe tbody tr th {\n",
       "        vertical-align: top;\n",
       "    }\n",
       "\n",
       "    .dataframe thead th {\n",
       "        text-align: right;\n",
       "    }\n",
       "</style>\n",
       "<table border=\"1\" class=\"dataframe\">\n",
       "  <thead>\n",
       "    <tr style=\"text-align: right;\">\n",
       "      <th></th>\n",
       "      <th>children</th>\n",
       "      <th>days_employed</th>\n",
       "      <th>dob_years</th>\n",
       "      <th>education</th>\n",
       "      <th>education_id</th>\n",
       "      <th>family_status</th>\n",
       "      <th>family_status_id</th>\n",
       "      <th>gender</th>\n",
       "      <th>income_type</th>\n",
       "      <th>debt</th>\n",
       "      <th>total_income</th>\n",
       "      <th>purpose</th>\n",
       "      <th>dob_years_id</th>\n",
       "      <th>purpose_id</th>\n",
       "      <th>children_id</th>\n",
       "    </tr>\n",
       "  </thead>\n",
       "  <tbody>\n",
       "    <tr>\n",
       "      <td>0</td>\n",
       "      <td>1</td>\n",
       "      <td>-8437.673028</td>\n",
       "      <td>42.0</td>\n",
       "      <td>высшее</td>\n",
       "      <td>0</td>\n",
       "      <td>женат / замужем</td>\n",
       "      <td>0</td>\n",
       "      <td>F</td>\n",
       "      <td>сотрудник</td>\n",
       "      <td>0</td>\n",
       "      <td>253875</td>\n",
       "      <td>покупка жилья</td>\n",
       "      <td>1</td>\n",
       "      <td>0</td>\n",
       "      <td>1</td>\n",
       "    </tr>\n",
       "    <tr>\n",
       "      <td>1</td>\n",
       "      <td>1</td>\n",
       "      <td>-4024.803754</td>\n",
       "      <td>36.0</td>\n",
       "      <td>среднее</td>\n",
       "      <td>1</td>\n",
       "      <td>женат / замужем</td>\n",
       "      <td>0</td>\n",
       "      <td>F</td>\n",
       "      <td>сотрудник</td>\n",
       "      <td>0</td>\n",
       "      <td>112080</td>\n",
       "      <td>приобретение автомобиля</td>\n",
       "      <td>1</td>\n",
       "      <td>1</td>\n",
       "      <td>1</td>\n",
       "    </tr>\n",
       "    <tr>\n",
       "      <td>2</td>\n",
       "      <td>0</td>\n",
       "      <td>-5623.422610</td>\n",
       "      <td>33.0</td>\n",
       "      <td>среднее</td>\n",
       "      <td>1</td>\n",
       "      <td>женат / замужем</td>\n",
       "      <td>0</td>\n",
       "      <td>M</td>\n",
       "      <td>сотрудник</td>\n",
       "      <td>0</td>\n",
       "      <td>145885</td>\n",
       "      <td>покупка жилья</td>\n",
       "      <td>0</td>\n",
       "      <td>0</td>\n",
       "      <td>0</td>\n",
       "    </tr>\n",
       "    <tr>\n",
       "      <td>3</td>\n",
       "      <td>3</td>\n",
       "      <td>-4124.747207</td>\n",
       "      <td>32.0</td>\n",
       "      <td>среднее</td>\n",
       "      <td>1</td>\n",
       "      <td>женат / замужем</td>\n",
       "      <td>0</td>\n",
       "      <td>M</td>\n",
       "      <td>сотрудник</td>\n",
       "      <td>0</td>\n",
       "      <td>267628</td>\n",
       "      <td>дополнительное образование</td>\n",
       "      <td>0</td>\n",
       "      <td>2</td>\n",
       "      <td>1</td>\n",
       "    </tr>\n",
       "    <tr>\n",
       "      <td>4</td>\n",
       "      <td>0</td>\n",
       "      <td>340266.072047</td>\n",
       "      <td>53.0</td>\n",
       "      <td>среднее</td>\n",
       "      <td>1</td>\n",
       "      <td>гражданский брак</td>\n",
       "      <td>1</td>\n",
       "      <td>F</td>\n",
       "      <td>пенсионер</td>\n",
       "      <td>0</td>\n",
       "      <td>158616</td>\n",
       "      <td>сыграть свадьбу</td>\n",
       "      <td>1</td>\n",
       "      <td>3</td>\n",
       "      <td>0</td>\n",
       "    </tr>\n",
       "  </tbody>\n",
       "</table>\n",
       "</div>"
      ],
      "text/plain": [
       "   children  days_employed  dob_years education  education_id  \\\n",
       "0         1   -8437.673028       42.0    высшее             0   \n",
       "1         1   -4024.803754       36.0   среднее             1   \n",
       "2         0   -5623.422610       33.0   среднее             1   \n",
       "3         3   -4124.747207       32.0   среднее             1   \n",
       "4         0  340266.072047       53.0   среднее             1   \n",
       "\n",
       "      family_status  family_status_id gender income_type  debt  total_income  \\\n",
       "0   женат / замужем                 0      F   сотрудник     0        253875   \n",
       "1   женат / замужем                 0      F   сотрудник     0        112080   \n",
       "2   женат / замужем                 0      M   сотрудник     0        145885   \n",
       "3   женат / замужем                 0      M   сотрудник     0        267628   \n",
       "4  гражданский брак                 1      F   пенсионер     0        158616   \n",
       "\n",
       "                      purpose  dob_years_id  purpose_id  children_id  \n",
       "0               покупка жилья             1           0            1  \n",
       "1     приобретение автомобиля             1           1            1  \n",
       "2               покупка жилья             0           0            0  \n",
       "3  дополнительное образование             0           2            1  \n",
       "4             сыграть свадьбу             1           3            0  "
      ]
     },
     "execution_count": 49,
     "metadata": {},
     "output_type": "execute_result"
    }
   ],
   "source": [
    "def children_id(children):\n",
    "    if children >= 1:\n",
    "        return 1\n",
    "    else:\n",
    "        return 0\n",
    "data['children_id'] = data['children'].apply(children_id).astype('int64')\n",
    "data.head()"
   ]
  },
  {
   "cell_type": "markdown",
   "metadata": {},
   "source": [
    "Посмотрим на доли заёмщиков с детьми и без детей:"
   ]
  },
  {
   "cell_type": "code",
   "execution_count": 50,
   "metadata": {
    "scrolled": true
   },
   "outputs": [
    {
     "name": "stdout",
     "output_type": "stream",
     "text": [
      "Заёмщиков с детьми: 34.32%\n",
      "Заёмщиков без детей: 65.68%\n"
     ]
    }
   ],
   "source": [
    "print(f'Заёмщиков с детьми: {data.loc[data[\"children_id\"] == 1, \"children_id\"].count() / len(data):.2%}')\n",
    "print(f'Заёмщиков без детей: {data.loc[data[\"children_id\"] == 0, \"children_id\"].count() / len(data):.2%}')"
   ]
  },
  {
   "cell_type": "markdown",
   "metadata": {},
   "source": [
    "Категоризируем заёмщиков по доходам. Очевидный способ - выделить квартили и добавить в исходную таблицу столбец \"total_income_id\". Сначала применим методом describe() к исходным данным о доходе заёмщиков и сохраним результат в переменную \"total_income_described\":"
   ]
  },
  {
   "cell_type": "code",
   "execution_count": 51,
   "metadata": {
    "scrolled": false
   },
   "outputs": [
    {
     "data": {
      "text/plain": [
       "count    2.145400e+04\n",
       "mean     1.653196e+05\n",
       "std      9.818730e+04\n",
       "min      2.066700e+04\n",
       "25%      1.076230e+05\n",
       "50%      1.425940e+05\n",
       "75%      1.958202e+05\n",
       "max      2.265604e+06\n",
       "Name: total_income, dtype: float64"
      ]
     },
     "execution_count": 51,
     "metadata": {},
     "output_type": "execute_result"
    }
   ],
   "source": [
    "total_income_described = data['total_income'].describe()\n",
    "total_income_described"
   ]
  },
  {
   "cell_type": "markdown",
   "metadata": {},
   "source": [
    "Теперь напишем и применим функцию, которая принимает на вход доход и возвращает id в зависимости от принадлежности к квартилю:"
   ]
  },
  {
   "cell_type": "code",
   "execution_count": 52,
   "metadata": {},
   "outputs": [],
   "source": [
    "def total_income_id(total_income):\n",
    "    if total_income < total_income_described['25%']:\n",
    "        return 0\n",
    "    elif total_income < total_income_described['50%']:\n",
    "        return 1\n",
    "    elif total_income < total_income_described['75%']:\n",
    "        return 2\n",
    "    else:\n",
    "        return 3"
   ]
  },
  {
   "cell_type": "code",
   "execution_count": 53,
   "metadata": {
    "scrolled": true
   },
   "outputs": [
    {
     "data": {
      "text/html": [
       "<div>\n",
       "<style scoped>\n",
       "    .dataframe tbody tr th:only-of-type {\n",
       "        vertical-align: middle;\n",
       "    }\n",
       "\n",
       "    .dataframe tbody tr th {\n",
       "        vertical-align: top;\n",
       "    }\n",
       "\n",
       "    .dataframe thead th {\n",
       "        text-align: right;\n",
       "    }\n",
       "</style>\n",
       "<table border=\"1\" class=\"dataframe\">\n",
       "  <thead>\n",
       "    <tr style=\"text-align: right;\">\n",
       "      <th></th>\n",
       "      <th>children</th>\n",
       "      <th>days_employed</th>\n",
       "      <th>dob_years</th>\n",
       "      <th>education</th>\n",
       "      <th>education_id</th>\n",
       "      <th>family_status</th>\n",
       "      <th>family_status_id</th>\n",
       "      <th>gender</th>\n",
       "      <th>income_type</th>\n",
       "      <th>debt</th>\n",
       "      <th>total_income</th>\n",
       "      <th>purpose</th>\n",
       "      <th>dob_years_id</th>\n",
       "      <th>purpose_id</th>\n",
       "      <th>children_id</th>\n",
       "      <th>total_income_id</th>\n",
       "    </tr>\n",
       "  </thead>\n",
       "  <tbody>\n",
       "    <tr>\n",
       "      <td>0</td>\n",
       "      <td>1</td>\n",
       "      <td>-8437.673028</td>\n",
       "      <td>42.0</td>\n",
       "      <td>высшее</td>\n",
       "      <td>0</td>\n",
       "      <td>женат / замужем</td>\n",
       "      <td>0</td>\n",
       "      <td>F</td>\n",
       "      <td>сотрудник</td>\n",
       "      <td>0</td>\n",
       "      <td>253875</td>\n",
       "      <td>покупка жилья</td>\n",
       "      <td>1</td>\n",
       "      <td>0</td>\n",
       "      <td>1</td>\n",
       "      <td>3</td>\n",
       "    </tr>\n",
       "    <tr>\n",
       "      <td>1</td>\n",
       "      <td>1</td>\n",
       "      <td>-4024.803754</td>\n",
       "      <td>36.0</td>\n",
       "      <td>среднее</td>\n",
       "      <td>1</td>\n",
       "      <td>женат / замужем</td>\n",
       "      <td>0</td>\n",
       "      <td>F</td>\n",
       "      <td>сотрудник</td>\n",
       "      <td>0</td>\n",
       "      <td>112080</td>\n",
       "      <td>приобретение автомобиля</td>\n",
       "      <td>1</td>\n",
       "      <td>1</td>\n",
       "      <td>1</td>\n",
       "      <td>1</td>\n",
       "    </tr>\n",
       "    <tr>\n",
       "      <td>2</td>\n",
       "      <td>0</td>\n",
       "      <td>-5623.422610</td>\n",
       "      <td>33.0</td>\n",
       "      <td>среднее</td>\n",
       "      <td>1</td>\n",
       "      <td>женат / замужем</td>\n",
       "      <td>0</td>\n",
       "      <td>M</td>\n",
       "      <td>сотрудник</td>\n",
       "      <td>0</td>\n",
       "      <td>145885</td>\n",
       "      <td>покупка жилья</td>\n",
       "      <td>0</td>\n",
       "      <td>0</td>\n",
       "      <td>0</td>\n",
       "      <td>2</td>\n",
       "    </tr>\n",
       "    <tr>\n",
       "      <td>3</td>\n",
       "      <td>3</td>\n",
       "      <td>-4124.747207</td>\n",
       "      <td>32.0</td>\n",
       "      <td>среднее</td>\n",
       "      <td>1</td>\n",
       "      <td>женат / замужем</td>\n",
       "      <td>0</td>\n",
       "      <td>M</td>\n",
       "      <td>сотрудник</td>\n",
       "      <td>0</td>\n",
       "      <td>267628</td>\n",
       "      <td>дополнительное образование</td>\n",
       "      <td>0</td>\n",
       "      <td>2</td>\n",
       "      <td>1</td>\n",
       "      <td>3</td>\n",
       "    </tr>\n",
       "    <tr>\n",
       "      <td>4</td>\n",
       "      <td>0</td>\n",
       "      <td>340266.072047</td>\n",
       "      <td>53.0</td>\n",
       "      <td>среднее</td>\n",
       "      <td>1</td>\n",
       "      <td>гражданский брак</td>\n",
       "      <td>1</td>\n",
       "      <td>F</td>\n",
       "      <td>пенсионер</td>\n",
       "      <td>0</td>\n",
       "      <td>158616</td>\n",
       "      <td>сыграть свадьбу</td>\n",
       "      <td>1</td>\n",
       "      <td>3</td>\n",
       "      <td>0</td>\n",
       "      <td>2</td>\n",
       "    </tr>\n",
       "  </tbody>\n",
       "</table>\n",
       "</div>"
      ],
      "text/plain": [
       "   children  days_employed  dob_years education  education_id  \\\n",
       "0         1   -8437.673028       42.0    высшее             0   \n",
       "1         1   -4024.803754       36.0   среднее             1   \n",
       "2         0   -5623.422610       33.0   среднее             1   \n",
       "3         3   -4124.747207       32.0   среднее             1   \n",
       "4         0  340266.072047       53.0   среднее             1   \n",
       "\n",
       "      family_status  family_status_id gender income_type  debt  total_income  \\\n",
       "0   женат / замужем                 0      F   сотрудник     0        253875   \n",
       "1   женат / замужем                 0      F   сотрудник     0        112080   \n",
       "2   женат / замужем                 0      M   сотрудник     0        145885   \n",
       "3   женат / замужем                 0      M   сотрудник     0        267628   \n",
       "4  гражданский брак                 1      F   пенсионер     0        158616   \n",
       "\n",
       "                      purpose  dob_years_id  purpose_id  children_id  \\\n",
       "0               покупка жилья             1           0            1   \n",
       "1     приобретение автомобиля             1           1            1   \n",
       "2               покупка жилья             0           0            0   \n",
       "3  дополнительное образование             0           2            1   \n",
       "4             сыграть свадьбу             1           3            0   \n",
       "\n",
       "   total_income_id  \n",
       "0                3  \n",
       "1                1  \n",
       "2                2  \n",
       "3                3  \n",
       "4                2  "
      ]
     },
     "execution_count": 53,
     "metadata": {},
     "output_type": "execute_result"
    }
   ],
   "source": [
    "data['total_income_id'] = data['total_income'].apply(total_income_id)\n",
    "data.head()"
   ]
  },
  {
   "cell_type": "markdown",
   "metadata": {},
   "source": [
    "Сформулируем очередной вывод:"
   ]
  },
  {
   "cell_type": "code",
   "execution_count": 54,
   "metadata": {
    "scrolled": true
   },
   "outputs": [
    {
     "name": "stdout",
     "output_type": "stream",
     "text": [
      "Первый квартиль составлют заёмщики с доходом до 107623 у.е. в месяц\n",
      "Второй квартиль составлют заёмщики с доходом от 107623 у.е. до 142594 у.е. в месяц\n",
      "Третий квартиль составлют заёмщики с доходом от 142594 у.е. до 195820 у.е. в месяц\n",
      "Четвертый квартиль составлют заёмщики с доходом от 195820 у.е. до 2265604 у.е. в месяц\n"
     ]
    }
   ],
   "source": [
    "print(f'Первый квартиль составлют заёмщики с доходом до {total_income_described[\"25%\"]:.0f} у.е. в месяц')\n",
    "print(f'Второй квартиль составлют заёмщики с доходом от {total_income_described[\"25%\"]:.0f} у.е. до {total_income_described[\"50%\"]:.0f} у.е. в месяц')\n",
    "print(f'Третий квартиль составлют заёмщики с доходом от {total_income_described[\"50%\"]:.0f} у.е. до {total_income_described[\"75%\"]:.0f} у.е. в месяц')\n",
    "print(f'Четвертый квартиль составлют заёмщики с доходом от {total_income_described[\"75%\"]:.0f} у.е. до {total_income_described[\"max\"]:.0f} у.е. в месяц')"
   ]
  },
  {
   "cell_type": "markdown",
   "metadata": {},
   "source": [
    "## Шаг 3. Ответьте на вопросы"
   ]
  },
  {
   "cell_type": "markdown",
   "metadata": {},
   "source": [
    "- Есть ли зависимость между наличием детей и возвратом кредита в срок?"
   ]
  },
  {
   "cell_type": "markdown",
   "metadata": {},
   "source": [
    "У нас достаточно данных для подсчета доли должников среди заёмщиков с детьми и без детей. Напишем функцию, которая возвращает сводную таблицу, котора опишет распредление должников среди групп заёмщиков, определяемыми параметром factor:"
   ]
  },
  {
   "cell_type": "code",
   "execution_count": 55,
   "metadata": {},
   "outputs": [],
   "source": [
    "def how_it_affects(factor):\n",
    "    data_pivot = data.pivot_table(index = [factor], columns = 'debt', values = 'gender', aggfunc = 'count')\n",
    "    data_pivot['ratio'] = round(data_pivot[1] / (data_pivot[0] + data_pivot[1]), 3)\n",
    "    return data_pivot.sort_values('ratio', ascending = False)"
   ]
  },
  {
   "cell_type": "markdown",
   "metadata": {},
   "source": [
    "Применим функцию чтобы узнать как наличие детей у заёмщика влияет на возврат кредита:"
   ]
  },
  {
   "cell_type": "code",
   "execution_count": 56,
   "metadata": {
    "scrolled": true
   },
   "outputs": [
    {
     "data": {
      "text/html": [
       "<div>\n",
       "<style scoped>\n",
       "    .dataframe tbody tr th:only-of-type {\n",
       "        vertical-align: middle;\n",
       "    }\n",
       "\n",
       "    .dataframe tbody tr th {\n",
       "        vertical-align: top;\n",
       "    }\n",
       "\n",
       "    .dataframe thead th {\n",
       "        text-align: right;\n",
       "    }\n",
       "</style>\n",
       "<table border=\"1\" class=\"dataframe\">\n",
       "  <thead>\n",
       "    <tr style=\"text-align: right;\">\n",
       "      <th>debt</th>\n",
       "      <th>0</th>\n",
       "      <th>1</th>\n",
       "      <th>ratio</th>\n",
       "    </tr>\n",
       "    <tr>\n",
       "      <th>children_id</th>\n",
       "      <th></th>\n",
       "      <th></th>\n",
       "      <th></th>\n",
       "    </tr>\n",
       "  </thead>\n",
       "  <tbody>\n",
       "    <tr>\n",
       "      <td>1</td>\n",
       "      <td>6685</td>\n",
       "      <td>678</td>\n",
       "      <td>0.092</td>\n",
       "    </tr>\n",
       "    <tr>\n",
       "      <td>0</td>\n",
       "      <td>13028</td>\n",
       "      <td>1063</td>\n",
       "      <td>0.075</td>\n",
       "    </tr>\n",
       "  </tbody>\n",
       "</table>\n",
       "</div>"
      ],
      "text/plain": [
       "debt             0     1  ratio\n",
       "children_id                    \n",
       "1             6685   678  0.092\n",
       "0            13028  1063  0.075"
      ]
     },
     "execution_count": 56,
     "metadata": {},
     "output_type": "execute_result"
    }
   ],
   "source": [
    "how_it_affects('children_id')"
   ]
  },
  {
   "cell_type": "markdown",
   "metadata": {},
   "source": [
    "**Вывод**"
   ]
  },
  {
   "cell_type": "markdown",
   "metadata": {},
   "source": [
    "Должников среди заёмщиков с детьми:  9,2%\n",
    "<br>\n",
    "Должников среди заёмщиков без детей:  7,5%\n",
    "<br>\n",
    "Вывод не самый очевидный: наличие у заёмщика детей повышает для него вероятность просрочить возврат долга на 1,7%! Очевидно, это связано с тем, что такие заёмщики прежде всего потратят свои деньги на ребёнка, а не на платеж по кредиту."
   ]
  },
  {
   "cell_type": "markdown",
   "metadata": {},
   "source": [
    "- Есть ли зависимость между семейным положением и возвратом кредита в срок?"
   ]
  },
  {
   "cell_type": "code",
   "execution_count": 57,
   "metadata": {
    "scrolled": true
   },
   "outputs": [
    {
     "data": {
      "text/html": [
       "<div>\n",
       "<style scoped>\n",
       "    .dataframe tbody tr th:only-of-type {\n",
       "        vertical-align: middle;\n",
       "    }\n",
       "\n",
       "    .dataframe tbody tr th {\n",
       "        vertical-align: top;\n",
       "    }\n",
       "\n",
       "    .dataframe thead th {\n",
       "        text-align: right;\n",
       "    }\n",
       "</style>\n",
       "<table border=\"1\" class=\"dataframe\">\n",
       "  <thead>\n",
       "    <tr style=\"text-align: right;\">\n",
       "      <th>debt</th>\n",
       "      <th>0</th>\n",
       "      <th>1</th>\n",
       "      <th>ratio</th>\n",
       "    </tr>\n",
       "    <tr>\n",
       "      <th>family_status</th>\n",
       "      <th></th>\n",
       "      <th></th>\n",
       "      <th></th>\n",
       "    </tr>\n",
       "  </thead>\n",
       "  <tbody>\n",
       "    <tr>\n",
       "      <td>Не женат / не замужем</td>\n",
       "      <td>2536</td>\n",
       "      <td>274</td>\n",
       "      <td>0.098</td>\n",
       "    </tr>\n",
       "    <tr>\n",
       "      <td>гражданский брак</td>\n",
       "      <td>3763</td>\n",
       "      <td>388</td>\n",
       "      <td>0.093</td>\n",
       "    </tr>\n",
       "    <tr>\n",
       "      <td>женат / замужем</td>\n",
       "      <td>11408</td>\n",
       "      <td>931</td>\n",
       "      <td>0.075</td>\n",
       "    </tr>\n",
       "    <tr>\n",
       "      <td>в разводе</td>\n",
       "      <td>1110</td>\n",
       "      <td>85</td>\n",
       "      <td>0.071</td>\n",
       "    </tr>\n",
       "    <tr>\n",
       "      <td>вдовец / вдова</td>\n",
       "      <td>896</td>\n",
       "      <td>63</td>\n",
       "      <td>0.066</td>\n",
       "    </tr>\n",
       "  </tbody>\n",
       "</table>\n",
       "</div>"
      ],
      "text/plain": [
       "debt                       0    1  ratio\n",
       "family_status                           \n",
       "Не женат / не замужем   2536  274  0.098\n",
       "гражданский брак        3763  388  0.093\n",
       "женат / замужем        11408  931  0.075\n",
       "в разводе               1110   85  0.071\n",
       "вдовец / вдова           896   63  0.066"
      ]
     },
     "execution_count": 57,
     "metadata": {},
     "output_type": "execute_result"
    }
   ],
   "source": [
    "how_it_affects('family_status')"
   ]
  },
  {
   "cell_type": "markdown",
   "metadata": {},
   "source": [
    "**Вывод**"
   ]
  },
  {
   "cell_type": "markdown",
   "metadata": {},
   "source": [
    "Должников среди заёмщиков  не в браке: 9,8%\n",
    "<br>\n",
    "Должников среди заёмщиков в гражданском браке: 9,3%\n",
    "<br>\n",
    "Должников среди заёмщиков в зарегистрированном браке: 7,5%\n",
    "<br>\n",
    "Должников среди заёмщиков в разводе: 7,1%\n",
    "<br>\n",
    "Должников среди заёмщиков-вдовцов: 6,6%\n",
    "<br>\n",
    "Если заёмщик хотя бы раз был в зарегистрированном браке, то это снижает вероятность просрочек по кредиту на 1,8-3,2%. Возможно это связано с тем, что жизнь в браке учит ответственнее подходить к ведению бюджета."
   ]
  },
  {
   "cell_type": "markdown",
   "metadata": {},
   "source": [
    "- Есть ли зависимость между уровнем дохода и возвратом кредита в срок?"
   ]
  },
  {
   "cell_type": "code",
   "execution_count": 58,
   "metadata": {
    "scrolled": false
   },
   "outputs": [
    {
     "data": {
      "text/html": [
       "<div>\n",
       "<style scoped>\n",
       "    .dataframe tbody tr th:only-of-type {\n",
       "        vertical-align: middle;\n",
       "    }\n",
       "\n",
       "    .dataframe tbody tr th {\n",
       "        vertical-align: top;\n",
       "    }\n",
       "\n",
       "    .dataframe thead th {\n",
       "        text-align: right;\n",
       "    }\n",
       "</style>\n",
       "<table border=\"1\" class=\"dataframe\">\n",
       "  <thead>\n",
       "    <tr style=\"text-align: right;\">\n",
       "      <th>debt</th>\n",
       "      <th>0</th>\n",
       "      <th>1</th>\n",
       "      <th>ratio</th>\n",
       "    </tr>\n",
       "    <tr>\n",
       "      <th>total_income_id</th>\n",
       "      <th></th>\n",
       "      <th></th>\n",
       "      <th></th>\n",
       "    </tr>\n",
       "  </thead>\n",
       "  <tbody>\n",
       "    <tr>\n",
       "      <td>1</td>\n",
       "      <td>4024</td>\n",
       "      <td>385</td>\n",
       "      <td>0.087</td>\n",
       "    </tr>\n",
       "    <tr>\n",
       "      <td>2</td>\n",
       "      <td>5771</td>\n",
       "      <td>546</td>\n",
       "      <td>0.086</td>\n",
       "    </tr>\n",
       "    <tr>\n",
       "      <td>0</td>\n",
       "      <td>4937</td>\n",
       "      <td>427</td>\n",
       "      <td>0.080</td>\n",
       "    </tr>\n",
       "    <tr>\n",
       "      <td>3</td>\n",
       "      <td>4981</td>\n",
       "      <td>383</td>\n",
       "      <td>0.071</td>\n",
       "    </tr>\n",
       "  </tbody>\n",
       "</table>\n",
       "</div>"
      ],
      "text/plain": [
       "debt                0    1  ratio\n",
       "total_income_id                  \n",
       "1                4024  385  0.087\n",
       "2                5771  546  0.086\n",
       "0                4937  427  0.080\n",
       "3                4981  383  0.071"
      ]
     },
     "execution_count": 58,
     "metadata": {},
     "output_type": "execute_result"
    }
   ],
   "source": [
    "how_it_affects('total_income_id')"
   ]
  },
  {
   "cell_type": "markdown",
   "metadata": {},
   "source": [
    "**Вывод**"
   ]
  },
  {
   "cell_type": "markdown",
   "metadata": {},
   "source": [
    "Должников среди заёмщиков с доходом до 107623 у.е. в месяц: 8,0%\n",
    "<br>\n",
    "Должников среди заёмщиков с доходом от 107623 до 142594 у.е. в месяц: 8,7%\n",
    "<br>\n",
    "Должников среди заёмщиков с доходом от 142594 до 195820 у.е. в месяц: 8,6%\n",
    "<br>\n",
    "Должников среди заёмщиков с доходом от 195820 до 2265604 у.е. в месяц: 7,1%\n",
    "<br>\n",
    "Снова неочевидный вывод. Заёмщики с самыми низкими доходами не являются самыми ненадежными! При этом шансы стать должниками для групп с доходом от 107623 до 142594 и доходом от 142594 до 195820 практически не отличаются и составляют 8,6-8,7%."
   ]
  },
  {
   "cell_type": "markdown",
   "metadata": {},
   "source": [
    "- Как разные цели кредита влияют на его возврат в срок?"
   ]
  },
  {
   "cell_type": "code",
   "execution_count": 59,
   "metadata": {},
   "outputs": [
    {
     "data": {
      "text/html": [
       "<div>\n",
       "<style scoped>\n",
       "    .dataframe tbody tr th:only-of-type {\n",
       "        vertical-align: middle;\n",
       "    }\n",
       "\n",
       "    .dataframe tbody tr th {\n",
       "        vertical-align: top;\n",
       "    }\n",
       "\n",
       "    .dataframe thead th {\n",
       "        text-align: right;\n",
       "    }\n",
       "</style>\n",
       "<table border=\"1\" class=\"dataframe\">\n",
       "  <thead>\n",
       "    <tr style=\"text-align: right;\">\n",
       "      <th>debt</th>\n",
       "      <th>0</th>\n",
       "      <th>1</th>\n",
       "      <th>ratio</th>\n",
       "    </tr>\n",
       "    <tr>\n",
       "      <th>purpose_id</th>\n",
       "      <th></th>\n",
       "      <th></th>\n",
       "      <th></th>\n",
       "    </tr>\n",
       "  </thead>\n",
       "  <tbody>\n",
       "    <tr>\n",
       "      <td>1</td>\n",
       "      <td>3903</td>\n",
       "      <td>403</td>\n",
       "      <td>0.094</td>\n",
       "    </tr>\n",
       "    <tr>\n",
       "      <td>2</td>\n",
       "      <td>3643</td>\n",
       "      <td>370</td>\n",
       "      <td>0.092</td>\n",
       "    </tr>\n",
       "    <tr>\n",
       "      <td>3</td>\n",
       "      <td>2138</td>\n",
       "      <td>186</td>\n",
       "      <td>0.080</td>\n",
       "    </tr>\n",
       "    <tr>\n",
       "      <td>0</td>\n",
       "      <td>10029</td>\n",
       "      <td>782</td>\n",
       "      <td>0.072</td>\n",
       "    </tr>\n",
       "  </tbody>\n",
       "</table>\n",
       "</div>"
      ],
      "text/plain": [
       "debt            0    1  ratio\n",
       "purpose_id                   \n",
       "1            3903  403  0.094\n",
       "2            3643  370  0.092\n",
       "3            2138  186  0.080\n",
       "0           10029  782  0.072"
      ]
     },
     "execution_count": 59,
     "metadata": {},
     "output_type": "execute_result"
    }
   ],
   "source": [
    "how_it_affects('purpose_id')"
   ]
  },
  {
   "cell_type": "markdown",
   "metadata": {},
   "source": [
    "**Вывод**"
   ]
  },
  {
   "cell_type": "markdown",
   "metadata": {},
   "source": [
    "Должников среди заёмщиков с целью \"недвижимость\": 7,2%\n",
    "<br>\n",
    "Должников среди заёмщиков с целью \"автомобиль\": 9,4%\n",
    "<br>\n",
    "Должников среди заёмщиков с целью \"образование\": 9,2%\n",
    "<br>\n",
    "Должников среди заёмщиков с целью \"свадьба\": 8,0%\n",
    "<br>\n",
    "Что можно сказать. Заёмщики заинтересованы платить по кредиту за жильё, должников среди них на 0,8-2,2% меньше чем в других групах. Хуже всего себя проявляется заёмщики, предпочитающие брать в кредит автомобили. "
   ]
  },
  {
   "cell_type": "markdown",
   "metadata": {},
   "source": [
    "## Шаг 4. Общий вывод"
   ]
  },
  {
   "cell_type": "markdown",
   "metadata": {},
   "source": [
    "Исходя из промежуточных выводов идеальный заёмщик выглядит так:\n",
    "- хотя бы раз состоял в зарегистрированном браке\n",
    "- не имеет детей\n",
    "- цель кредит - приобретение жилья\n",
    "- доход от 195820 у.е. в месяц\n",
    "\n",
    "Вывод тривиальный: опыт жизни в официальном браке, высокий доход, отсутствие иждевенцев и цель в виде собственного жилья минимизируют шансы клиента банка оказаться среди должников. "
   ]
  }
 ],
 "metadata": {
  "ExecuteTimeLog": [
   {
    "duration": 960,
    "start_time": "2022-01-28T13:09:11.730Z"
   },
   {
    "duration": 2060,
    "start_time": "2022-01-28T13:09:18.394Z"
   },
   {
    "duration": 76,
    "start_time": "2022-01-28T13:09:47.965Z"
   },
   {
    "duration": 59,
    "start_time": "2022-01-28T13:09:58.707Z"
   },
   {
    "duration": 69,
    "start_time": "2022-01-28T13:10:20.907Z"
   },
   {
    "duration": 330,
    "start_time": "2022-01-28T13:17:34.364Z"
   },
   {
    "duration": 63,
    "start_time": "2022-01-28T13:17:40.757Z"
   },
   {
    "duration": 60,
    "start_time": "2022-01-28T13:19:25.822Z"
   },
   {
    "duration": 61,
    "start_time": "2022-01-28T13:19:39.232Z"
   },
   {
    "duration": 67,
    "start_time": "2022-01-28T13:19:57.534Z"
   },
   {
    "duration": 67,
    "start_time": "2022-01-28T13:20:12.261Z"
   },
   {
    "duration": 50,
    "start_time": "2022-01-28T13:20:29.615Z"
   },
   {
    "duration": 57,
    "start_time": "2022-01-28T13:20:40.766Z"
   },
   {
    "duration": 52,
    "start_time": "2022-01-28T13:22:19.919Z"
   },
   {
    "duration": 53,
    "start_time": "2022-01-28T13:22:41.825Z"
   },
   {
    "duration": 59,
    "start_time": "2022-01-28T13:22:52.540Z"
   },
   {
    "duration": 63,
    "start_time": "2022-01-28T13:23:12.568Z"
   },
   {
    "duration": 65,
    "start_time": "2022-01-28T13:23:41.432Z"
   },
   {
    "duration": 56,
    "start_time": "2022-01-28T13:23:42.376Z"
   },
   {
    "duration": 65,
    "start_time": "2022-01-28T13:23:42.639Z"
   },
   {
    "duration": 54,
    "start_time": "2022-01-28T13:23:43.263Z"
   },
   {
    "duration": 66,
    "start_time": "2022-01-28T13:23:44.968Z"
   },
   {
    "duration": 56,
    "start_time": "2022-01-28T13:23:45.208Z"
   },
   {
    "duration": 56,
    "start_time": "2022-01-28T13:23:45.735Z"
   },
   {
    "duration": 55,
    "start_time": "2022-01-28T13:23:45.871Z"
   },
   {
    "duration": 67,
    "start_time": "2022-01-28T13:23:46.038Z"
   },
   {
    "duration": 68,
    "start_time": "2022-01-28T13:23:47.983Z"
   },
   {
    "duration": 8,
    "start_time": "2022-01-28T13:23:48.467Z"
   },
   {
    "duration": 7,
    "start_time": "2022-01-28T13:23:49.002Z"
   },
   {
    "duration": 8,
    "start_time": "2022-01-28T13:24:25.454Z"
   },
   {
    "duration": 8,
    "start_time": "2022-01-28T13:24:49.896Z"
   },
   {
    "duration": 8,
    "start_time": "2022-01-28T13:25:20.401Z"
   },
   {
    "duration": 23,
    "start_time": "2022-01-28T13:32:28.956Z"
   },
   {
    "duration": 53,
    "start_time": "2022-01-28T13:32:35.908Z"
   },
   {
    "duration": 13,
    "start_time": "2022-01-28T13:36:46.175Z"
   },
   {
    "duration": 4,
    "start_time": "2022-01-28T13:39:37.526Z"
   },
   {
    "duration": 6,
    "start_time": "2022-01-28T13:39:44.597Z"
   },
   {
    "duration": 276,
    "start_time": "2022-01-28T13:44:47.428Z"
   },
   {
    "duration": 34,
    "start_time": "2022-01-28T13:44:53.372Z"
   },
   {
    "duration": 7,
    "start_time": "2022-01-28T13:45:15.267Z"
   },
   {
    "duration": 81,
    "start_time": "2022-01-28T13:57:48.788Z"
   },
   {
    "duration": 3,
    "start_time": "2022-01-28T13:59:52.460Z"
   },
   {
    "duration": 108,
    "start_time": "2022-01-28T14:00:31.235Z"
   },
   {
    "duration": 457,
    "start_time": "2022-01-28T14:00:42.451Z"
   },
   {
    "duration": 452,
    "start_time": "2022-01-28T14:02:01.863Z"
   },
   {
    "duration": 562,
    "start_time": "2022-01-28T14:02:20.446Z"
   },
   {
    "duration": 477,
    "start_time": "2022-01-28T14:04:49.302Z"
   },
   {
    "duration": 22,
    "start_time": "2022-01-28T14:05:34.054Z"
   },
   {
    "duration": 6,
    "start_time": "2022-01-28T14:09:08.120Z"
   },
   {
    "duration": 23,
    "start_time": "2022-01-28T14:09:44.791Z"
   },
   {
    "duration": 5,
    "start_time": "2022-01-28T14:10:35.991Z"
   },
   {
    "duration": 437,
    "start_time": "2022-01-28T14:10:49.935Z"
   },
   {
    "duration": 4,
    "start_time": "2022-01-28T14:10:54.168Z"
   },
   {
    "duration": 4,
    "start_time": "2022-01-28T14:11:06.406Z"
   },
   {
    "duration": 4,
    "start_time": "2022-01-28T14:11:12.047Z"
   },
   {
    "duration": 6,
    "start_time": "2022-01-28T14:17:47.889Z"
   },
   {
    "duration": 6,
    "start_time": "2022-01-28T14:19:55.354Z"
   },
   {
    "duration": 313,
    "start_time": "2022-01-28T14:28:39.037Z"
   },
   {
    "duration": 15,
    "start_time": "2022-01-28T14:28:44.165Z"
   },
   {
    "duration": 17,
    "start_time": "2022-01-28T14:30:19.060Z"
   },
   {
    "duration": 505,
    "start_time": "2022-01-28T14:30:42.086Z"
   },
   {
    "duration": 16,
    "start_time": "2022-01-28T14:33:08.417Z"
   },
   {
    "duration": 1973,
    "start_time": "2022-01-28T14:35:21.399Z"
   },
   {
    "duration": 18,
    "start_time": "2022-01-28T14:35:39.500Z"
   },
   {
    "duration": 17,
    "start_time": "2022-01-28T14:36:47.361Z"
   },
   {
    "duration": 16,
    "start_time": "2022-01-28T14:37:14.658Z"
   },
   {
    "duration": 439,
    "start_time": "2022-01-28T14:38:03.818Z"
   },
   {
    "duration": 448,
    "start_time": "2022-01-28T14:38:10.816Z"
   },
   {
    "duration": 19,
    "start_time": "2022-01-28T14:38:18.689Z"
   },
   {
    "duration": 9,
    "start_time": "2022-01-28T14:41:18.914Z"
   },
   {
    "duration": 448,
    "start_time": "2022-01-28T14:41:37.050Z"
   },
   {
    "duration": 12,
    "start_time": "2022-01-28T14:42:17.277Z"
   },
   {
    "duration": 11,
    "start_time": "2022-01-28T14:49:27.230Z"
   },
   {
    "duration": 18,
    "start_time": "2022-01-28T14:49:34.166Z"
   },
   {
    "duration": 477,
    "start_time": "2022-01-28T14:55:40.778Z"
   },
   {
    "duration": 459,
    "start_time": "2022-01-28T14:55:53.025Z"
   },
   {
    "duration": 459,
    "start_time": "2022-01-28T14:56:35.697Z"
   },
   {
    "duration": 465,
    "start_time": "2022-01-28T14:57:50.921Z"
   },
   {
    "duration": 667,
    "start_time": "2022-01-28T14:58:04.864Z"
   },
   {
    "duration": 429,
    "start_time": "2022-01-28T14:58:21.496Z"
   },
   {
    "duration": 476,
    "start_time": "2022-01-28T14:58:25.208Z"
   },
   {
    "duration": 13,
    "start_time": "2022-01-28T14:59:44.474Z"
   },
   {
    "duration": 16,
    "start_time": "2022-01-28T14:59:53.982Z"
   },
   {
    "duration": 18,
    "start_time": "2022-01-28T15:00:09.770Z"
   },
   {
    "duration": 20,
    "start_time": "2022-01-28T15:02:26.306Z"
   },
   {
    "duration": 22,
    "start_time": "2022-01-28T15:02:40.795Z"
   },
   {
    "duration": 20,
    "start_time": "2022-01-28T15:04:44.298Z"
   },
   {
    "duration": 100,
    "start_time": "2022-01-28T15:05:59.413Z"
   },
   {
    "duration": 95,
    "start_time": "2022-01-28T15:06:09.323Z"
   },
   {
    "duration": 22,
    "start_time": "2022-01-28T15:06:36.516Z"
   },
   {
    "duration": 32,
    "start_time": "2022-01-28T15:07:04.632Z"
   },
   {
    "duration": 3,
    "start_time": "2022-01-28T15:10:05.893Z"
   },
   {
    "duration": 438,
    "start_time": "2022-01-28T15:10:18.124Z"
   },
   {
    "duration": 15,
    "start_time": "2022-01-28T15:10:37.071Z"
   },
   {
    "duration": 23,
    "start_time": "2022-01-28T15:10:52.142Z"
   },
   {
    "duration": 87,
    "start_time": "2022-01-28T15:32:27.956Z"
   },
   {
    "duration": 17,
    "start_time": "2022-01-28T15:32:35.607Z"
   },
   {
    "duration": 90,
    "start_time": "2022-01-28T15:33:25.731Z"
   },
   {
    "duration": 85,
    "start_time": "2022-01-28T15:33:34.371Z"
   },
   {
    "duration": 17,
    "start_time": "2022-01-28T15:34:05.572Z"
   },
   {
    "duration": 222,
    "start_time": "2022-01-28T15:35:03.044Z"
   },
   {
    "duration": 507,
    "start_time": "2022-01-28T15:35:31.667Z"
   },
   {
    "duration": 17,
    "start_time": "2022-01-28T15:35:40.210Z"
   },
   {
    "duration": 18,
    "start_time": "2022-01-28T15:35:54.467Z"
   },
   {
    "duration": 67,
    "start_time": "2022-01-28T15:35:57.355Z"
   },
   {
    "duration": 7,
    "start_time": "2022-01-28T15:35:57.424Z"
   },
   {
    "duration": 14,
    "start_time": "2022-01-28T15:35:57.435Z"
   },
   {
    "duration": 10,
    "start_time": "2022-01-28T15:35:57.452Z"
   },
   {
    "duration": 10,
    "start_time": "2022-01-28T15:35:57.464Z"
   },
   {
    "duration": 26,
    "start_time": "2022-01-28T15:35:57.476Z"
   },
   {
    "duration": 18,
    "start_time": "2022-01-28T15:35:57.504Z"
   },
   {
    "duration": 16,
    "start_time": "2022-01-28T15:35:57.524Z"
   },
   {
    "duration": 59,
    "start_time": "2022-01-28T15:35:57.542Z"
   },
   {
    "duration": 6,
    "start_time": "2022-01-28T15:37:50.484Z"
   },
   {
    "duration": 15,
    "start_time": "2022-01-28T15:37:55.069Z"
   },
   {
    "duration": 275,
    "start_time": "2022-01-28T15:39:37.309Z"
   },
   {
    "duration": 273,
    "start_time": "2022-01-28T15:39:56.796Z"
   },
   {
    "duration": 8,
    "start_time": "2022-01-28T15:41:51.461Z"
   },
   {
    "duration": 274,
    "start_time": "2022-01-28T15:42:16.298Z"
   },
   {
    "duration": 70,
    "start_time": "2022-01-28T15:42:35.156Z"
   },
   {
    "duration": 7,
    "start_time": "2022-01-28T15:42:35.227Z"
   },
   {
    "duration": 9,
    "start_time": "2022-01-28T15:42:35.236Z"
   },
   {
    "duration": 11,
    "start_time": "2022-01-28T15:42:35.247Z"
   },
   {
    "duration": 13,
    "start_time": "2022-01-28T15:42:35.260Z"
   },
   {
    "duration": 25,
    "start_time": "2022-01-28T15:42:35.275Z"
   },
   {
    "duration": 15,
    "start_time": "2022-01-28T15:42:35.302Z"
   },
   {
    "duration": 13,
    "start_time": "2022-01-28T15:42:35.319Z"
   },
   {
    "duration": 273,
    "start_time": "2022-01-28T15:42:35.335Z"
   },
   {
    "duration": 64,
    "start_time": "2022-01-28T15:42:35.546Z"
   },
   {
    "duration": 251,
    "start_time": "2022-01-28T15:43:47.231Z"
   },
   {
    "duration": 276,
    "start_time": "2022-01-28T15:44:19.873Z"
   },
   {
    "duration": 69,
    "start_time": "2022-01-28T15:44:26.725Z"
   },
   {
    "duration": 7,
    "start_time": "2022-01-28T15:44:26.796Z"
   },
   {
    "duration": 9,
    "start_time": "2022-01-28T15:44:26.806Z"
   },
   {
    "duration": 8,
    "start_time": "2022-01-28T15:44:26.817Z"
   },
   {
    "duration": 9,
    "start_time": "2022-01-28T15:44:26.827Z"
   },
   {
    "duration": 9,
    "start_time": "2022-01-28T15:44:26.838Z"
   },
   {
    "duration": 17,
    "start_time": "2022-01-28T15:44:26.848Z"
   },
   {
    "duration": 37,
    "start_time": "2022-01-28T15:44:26.867Z"
   },
   {
    "duration": 19,
    "start_time": "2022-01-28T15:44:26.907Z"
   },
   {
    "duration": 35,
    "start_time": "2022-01-28T15:44:26.927Z"
   },
   {
    "duration": 9,
    "start_time": "2022-01-28T15:44:35.174Z"
   },
   {
    "duration": 8,
    "start_time": "2022-01-28T15:44:41.479Z"
   },
   {
    "duration": 14,
    "start_time": "2022-01-28T15:44:57.734Z"
   },
   {
    "duration": 9,
    "start_time": "2022-01-28T15:45:10.047Z"
   },
   {
    "duration": 265,
    "start_time": "2022-01-28T15:45:42.375Z"
   },
   {
    "duration": 9,
    "start_time": "2022-01-28T15:45:50.567Z"
   },
   {
    "duration": 1953,
    "start_time": "2022-01-28T15:46:07.334Z"
   },
   {
    "duration": 1914,
    "start_time": "2022-01-28T15:46:09.414Z"
   },
   {
    "duration": 13,
    "start_time": "2022-01-28T15:46:20.759Z"
   },
   {
    "duration": 1901,
    "start_time": "2022-01-28T15:47:06.678Z"
   },
   {
    "duration": 1883,
    "start_time": "2022-01-28T15:47:10.222Z"
   },
   {
    "duration": 128,
    "start_time": "2022-01-28T15:47:32.481Z"
   },
   {
    "duration": 1976,
    "start_time": "2022-01-28T15:47:36.576Z"
   },
   {
    "duration": 13,
    "start_time": "2022-01-28T15:47:56.948Z"
   },
   {
    "duration": 279,
    "start_time": "2022-01-28T15:48:56.745Z"
   },
   {
    "duration": 13,
    "start_time": "2022-01-28T15:49:20.502Z"
   },
   {
    "duration": 277,
    "start_time": "2022-01-28T15:49:59.992Z"
   },
   {
    "duration": 17,
    "start_time": "2022-01-28T15:50:18.527Z"
   },
   {
    "duration": 15,
    "start_time": "2022-01-28T15:50:48.136Z"
   },
   {
    "duration": 15,
    "start_time": "2022-01-28T15:51:06.951Z"
   },
   {
    "duration": 276,
    "start_time": "2022-01-28T15:51:43.896Z"
   },
   {
    "duration": 283,
    "start_time": "2022-01-28T15:52:05.952Z"
   },
   {
    "duration": 31,
    "start_time": "2022-01-28T15:52:20.264Z"
   },
   {
    "duration": 23,
    "start_time": "2022-01-28T15:53:54.121Z"
   },
   {
    "duration": 20,
    "start_time": "2022-01-28T15:54:04.152Z"
   },
   {
    "duration": 14,
    "start_time": "2022-01-28T16:11:27.889Z"
   },
   {
    "duration": 17,
    "start_time": "2022-01-28T16:12:03.085Z"
   },
   {
    "duration": 292,
    "start_time": "2022-01-28T16:12:09.439Z"
   },
   {
    "duration": 15,
    "start_time": "2022-01-28T16:12:12.983Z"
   },
   {
    "duration": 265,
    "start_time": "2022-01-28T16:12:55.572Z"
   },
   {
    "duration": 15,
    "start_time": "2022-01-28T16:13:31.160Z"
   },
   {
    "duration": 16,
    "start_time": "2022-01-28T16:14:50.048Z"
   },
   {
    "duration": 84,
    "start_time": "2022-01-28T16:15:19.072Z"
   },
   {
    "duration": 25,
    "start_time": "2022-01-28T16:15:24.128Z"
   },
   {
    "duration": 278,
    "start_time": "2022-01-28T16:15:57.858Z"
   },
   {
    "duration": 291,
    "start_time": "2022-01-28T16:16:14.819Z"
   },
   {
    "duration": 15,
    "start_time": "2022-01-28T16:16:52.497Z"
   },
   {
    "duration": 25,
    "start_time": "2022-01-28T16:18:20.104Z"
   },
   {
    "duration": 6550,
    "start_time": "2022-01-28T16:18:41.328Z"
   },
   {
    "duration": 15,
    "start_time": "2022-01-28T16:19:02.201Z"
   },
   {
    "duration": 10,
    "start_time": "2022-01-28T16:21:23.306Z"
   },
   {
    "duration": 310,
    "start_time": "2022-01-28T16:21:43.838Z"
   },
   {
    "duration": 22,
    "start_time": "2022-01-28T16:24:40.797Z"
   },
   {
    "duration": 15,
    "start_time": "2022-01-28T16:24:56.981Z"
   },
   {
    "duration": 256,
    "start_time": "2022-01-28T16:25:45.051Z"
   },
   {
    "duration": 10,
    "start_time": "2022-01-28T16:30:02.583Z"
   },
   {
    "duration": 11,
    "start_time": "2022-01-28T16:30:13.558Z"
   },
   {
    "duration": 18,
    "start_time": "2022-01-28T16:32:33.126Z"
   },
   {
    "duration": 340,
    "start_time": "2022-01-28T16:34:36.550Z"
   },
   {
    "duration": 14,
    "start_time": "2022-01-28T16:35:15.373Z"
   },
   {
    "duration": 533,
    "start_time": "2022-01-28T16:35:33.080Z"
   },
   {
    "duration": 13,
    "start_time": "2022-01-28T16:35:49.694Z"
   },
   {
    "duration": 15,
    "start_time": "2022-01-28T16:36:23.274Z"
   },
   {
    "duration": 280,
    "start_time": "2022-01-28T16:36:58.687Z"
   },
   {
    "duration": 15,
    "start_time": "2022-01-28T16:38:18.096Z"
   },
   {
    "duration": 10,
    "start_time": "2022-01-28T16:39:30.943Z"
   },
   {
    "duration": 10,
    "start_time": "2022-01-28T16:39:59.440Z"
   },
   {
    "duration": 4,
    "start_time": "2022-01-28T16:47:11.217Z"
   },
   {
    "duration": 85,
    "start_time": "2022-01-28T16:47:33.635Z"
   },
   {
    "duration": 337,
    "start_time": "2022-01-28T16:47:51.226Z"
   },
   {
    "duration": 4,
    "start_time": "2022-01-28T16:48:29.786Z"
   },
   {
    "duration": 4,
    "start_time": "2022-01-28T16:48:33.883Z"
   },
   {
    "duration": 84,
    "start_time": "2022-01-28T16:48:43.770Z"
   },
   {
    "duration": 467,
    "start_time": "2022-01-28T16:48:57.195Z"
   },
   {
    "duration": 16,
    "start_time": "2022-01-28T16:57:05.214Z"
   },
   {
    "duration": 15,
    "start_time": "2022-01-28T16:57:18.230Z"
   },
   {
    "duration": 10,
    "start_time": "2022-01-28T16:57:30.095Z"
   },
   {
    "duration": 14,
    "start_time": "2022-01-28T16:59:10.989Z"
   },
   {
    "duration": 16,
    "start_time": "2022-01-28T16:59:15.661Z"
   },
   {
    "duration": 26,
    "start_time": "2022-01-28T17:00:25.033Z"
   },
   {
    "duration": 327,
    "start_time": "2022-01-28T17:02:25.590Z"
   },
   {
    "duration": 267,
    "start_time": "2022-01-28T17:02:41.553Z"
   },
   {
    "duration": 88,
    "start_time": "2022-01-28T17:03:51.302Z"
   },
   {
    "duration": 24,
    "start_time": "2022-01-28T17:03:54.974Z"
   },
   {
    "duration": 22,
    "start_time": "2022-01-28T17:04:33.199Z"
   },
   {
    "duration": 35,
    "start_time": "2022-01-28T17:04:48.136Z"
   },
   {
    "duration": 42,
    "start_time": "2022-01-28T17:05:12.939Z"
   },
   {
    "duration": 26,
    "start_time": "2022-01-28T17:05:21.736Z"
   },
   {
    "duration": 24,
    "start_time": "2022-01-28T17:05:44.391Z"
   },
   {
    "duration": 663,
    "start_time": "2022-01-28T17:06:17.224Z"
   },
   {
    "duration": 23,
    "start_time": "2022-01-28T17:06:17.890Z"
   },
   {
    "duration": 315,
    "start_time": "2022-01-29T05:02:18.045Z"
   },
   {
    "duration": 74,
    "start_time": "2022-01-29T05:02:26.944Z"
   },
   {
    "duration": 37,
    "start_time": "2022-01-29T05:02:30.176Z"
   },
   {
    "duration": 15,
    "start_time": "2022-01-29T05:02:31.904Z"
   },
   {
    "duration": 125,
    "start_time": "2022-01-29T05:02:49.263Z"
   },
   {
    "duration": 722,
    "start_time": "2022-01-29T05:03:12.138Z"
   },
   {
    "duration": 21,
    "start_time": "2022-01-29T05:03:12.863Z"
   },
   {
    "duration": 107,
    "start_time": "2022-01-29T05:03:12.889Z"
   },
   {
    "duration": 318,
    "start_time": "2022-01-29T05:03:37.742Z"
   },
   {
    "duration": 45,
    "start_time": "2022-01-29T05:03:54.198Z"
   },
   {
    "duration": 10,
    "start_time": "2022-01-29T05:04:13.397Z"
   },
   {
    "duration": 88,
    "start_time": "2022-01-29T05:04:46.397Z"
   },
   {
    "duration": 280,
    "start_time": "2022-01-29T05:04:50.949Z"
   },
   {
    "duration": 18,
    "start_time": "2022-01-29T05:05:51.285Z"
   },
   {
    "duration": 10,
    "start_time": "2022-01-29T05:06:23.428Z"
   },
   {
    "duration": 11,
    "start_time": "2022-01-29T05:08:01.863Z"
   },
   {
    "duration": 23,
    "start_time": "2022-01-29T05:08:09.587Z"
   },
   {
    "duration": 9,
    "start_time": "2022-01-29T05:08:11.524Z"
   },
   {
    "duration": 9,
    "start_time": "2022-01-29T05:08:13.323Z"
   },
   {
    "duration": 9,
    "start_time": "2022-01-29T05:09:17.355Z"
   },
   {
    "duration": 10,
    "start_time": "2022-01-29T05:09:29.379Z"
   },
   {
    "duration": 18,
    "start_time": "2022-01-29T05:11:53.274Z"
   },
   {
    "duration": 13,
    "start_time": "2022-01-29T05:12:24.090Z"
   },
   {
    "duration": 20,
    "start_time": "2022-01-29T05:12:33.537Z"
   },
   {
    "duration": 286,
    "start_time": "2022-01-29T05:13:00.274Z"
   },
   {
    "duration": 25,
    "start_time": "2022-01-29T05:13:04.449Z"
   },
   {
    "duration": 8,
    "start_time": "2022-01-29T05:15:08.026Z"
   },
   {
    "duration": 263,
    "start_time": "2022-01-29T05:15:26.472Z"
   },
   {
    "duration": 21,
    "start_time": "2022-01-29T05:15:32.174Z"
   },
   {
    "duration": 256,
    "start_time": "2022-01-29T05:15:33.952Z"
   },
   {
    "duration": 252,
    "start_time": "2022-01-29T05:15:42.592Z"
   },
   {
    "duration": 6,
    "start_time": "2022-01-29T05:15:52.456Z"
   },
   {
    "duration": 88,
    "start_time": "2022-01-29T05:17:08.128Z"
   },
   {
    "duration": 12,
    "start_time": "2022-01-29T05:17:27.943Z"
   },
   {
    "duration": 21,
    "start_time": "2022-01-29T05:17:32.887Z"
   },
   {
    "duration": 20,
    "start_time": "2022-01-29T05:18:33.127Z"
   },
   {
    "duration": 21,
    "start_time": "2022-01-29T05:18:42.414Z"
   },
   {
    "duration": 68,
    "start_time": "2022-01-29T05:19:29.458Z"
   },
   {
    "duration": 33,
    "start_time": "2022-01-29T05:19:29.529Z"
   },
   {
    "duration": 44,
    "start_time": "2022-01-29T05:19:29.564Z"
   },
   {
    "duration": 7,
    "start_time": "2022-01-29T05:19:29.610Z"
   },
   {
    "duration": 274,
    "start_time": "2022-01-29T05:20:20.677Z"
   },
   {
    "duration": 254,
    "start_time": "2022-01-29T05:23:23.196Z"
   },
   {
    "duration": 247,
    "start_time": "2022-01-29T05:24:48.828Z"
   },
   {
    "duration": 13,
    "start_time": "2022-01-29T05:26:12.787Z"
   },
   {
    "duration": 13,
    "start_time": "2022-01-29T05:26:23.491Z"
   },
   {
    "duration": 12,
    "start_time": "2022-01-29T05:26:29.481Z"
   },
   {
    "duration": 13,
    "start_time": "2022-01-29T05:26:34.298Z"
   },
   {
    "duration": 22,
    "start_time": "2022-01-29T05:27:03.585Z"
   },
   {
    "duration": 28,
    "start_time": "2022-01-29T05:27:14.986Z"
   },
   {
    "duration": 22,
    "start_time": "2022-01-29T05:27:25.379Z"
   },
   {
    "duration": 20,
    "start_time": "2022-01-29T05:28:46.274Z"
   },
   {
    "duration": 706,
    "start_time": "2022-01-29T05:30:38.841Z"
   },
   {
    "duration": 25,
    "start_time": "2022-01-29T05:30:52.937Z"
   },
   {
    "duration": 3,
    "start_time": "2022-01-29T05:32:19.695Z"
   },
   {
    "duration": 28,
    "start_time": "2022-01-29T05:34:51.909Z"
   },
   {
    "duration": 234,
    "start_time": "2022-01-29T05:36:43.237Z"
   },
   {
    "duration": 12,
    "start_time": "2022-01-29T05:37:13.302Z"
   },
   {
    "duration": 11,
    "start_time": "2022-01-29T05:38:09.109Z"
   },
   {
    "duration": 265,
    "start_time": "2022-01-29T05:38:51.277Z"
   },
   {
    "duration": 12,
    "start_time": "2022-01-29T05:38:56.389Z"
   },
   {
    "duration": 11,
    "start_time": "2022-01-29T05:39:02.741Z"
   },
   {
    "duration": 79,
    "start_time": "2022-01-29T05:41:39.715Z"
   },
   {
    "duration": 12,
    "start_time": "2022-01-29T05:44:29.746Z"
   },
   {
    "duration": 639,
    "start_time": "2022-01-29T05:44:52.981Z"
   },
   {
    "duration": 17,
    "start_time": "2022-01-29T05:44:53.622Z"
   },
   {
    "duration": 46,
    "start_time": "2022-01-29T05:44:53.641Z"
   },
   {
    "duration": 13,
    "start_time": "2022-01-29T05:44:53.689Z"
   },
   {
    "duration": 41,
    "start_time": "2022-01-29T05:44:53.703Z"
   },
   {
    "duration": 82,
    "start_time": "2022-01-29T05:48:25.255Z"
   },
   {
    "duration": 349,
    "start_time": "2022-01-29T05:50:54.543Z"
   },
   {
    "duration": 266,
    "start_time": "2022-01-29T05:52:36.094Z"
   },
   {
    "duration": 1093,
    "start_time": "2022-01-29T05:54:16.686Z"
   },
   {
    "duration": 1089,
    "start_time": "2022-01-29T05:56:45.956Z"
   },
   {
    "duration": 13,
    "start_time": "2022-01-29T05:58:06.292Z"
   },
   {
    "duration": 23,
    "start_time": "2022-01-29T06:00:05.617Z"
   },
   {
    "duration": 27,
    "start_time": "2022-01-29T06:00:12.522Z"
   },
   {
    "duration": 24,
    "start_time": "2022-01-29T06:00:37.235Z"
   },
   {
    "duration": 25,
    "start_time": "2022-01-29T06:01:01.386Z"
   },
   {
    "duration": 19,
    "start_time": "2022-01-29T06:01:53.354Z"
   },
   {
    "duration": 82,
    "start_time": "2022-01-29T06:04:18.777Z"
   },
   {
    "duration": 20,
    "start_time": "2022-01-29T06:04:23.217Z"
   },
   {
    "duration": 18,
    "start_time": "2022-01-29T06:04:33.497Z"
   },
   {
    "duration": 11,
    "start_time": "2022-01-29T06:07:22.816Z"
   },
   {
    "duration": 11,
    "start_time": "2022-01-29T06:07:40.647Z"
   },
   {
    "duration": 19,
    "start_time": "2022-01-29T06:16:34.324Z"
   },
   {
    "duration": 11,
    "start_time": "2022-01-29T06:16:39.522Z"
   },
   {
    "duration": 18,
    "start_time": "2022-01-29T06:17:02.860Z"
   },
   {
    "duration": 257,
    "start_time": "2022-01-29T06:18:36.108Z"
   },
   {
    "duration": 10,
    "start_time": "2022-01-29T06:18:56.123Z"
   },
   {
    "duration": 94,
    "start_time": "2022-01-29T06:19:25.523Z"
   },
   {
    "duration": 100,
    "start_time": "2022-01-29T06:19:31.634Z"
   },
   {
    "duration": 7,
    "start_time": "2022-01-29T06:19:36.267Z"
   },
   {
    "duration": 7,
    "start_time": "2022-01-29T06:19:43.650Z"
   },
   {
    "duration": 6,
    "start_time": "2022-01-29T06:19:51.394Z"
   },
   {
    "duration": 8,
    "start_time": "2022-01-29T06:19:56.442Z"
   },
   {
    "duration": 9,
    "start_time": "2022-01-29T06:20:14.379Z"
   },
   {
    "duration": 5,
    "start_time": "2022-01-29T06:20:21.371Z"
   },
   {
    "duration": 6,
    "start_time": "2022-01-29T06:20:37.186Z"
   },
   {
    "duration": 277,
    "start_time": "2022-01-29T06:20:47.370Z"
   },
   {
    "duration": 370,
    "start_time": "2022-01-29T06:20:54.690Z"
   },
   {
    "duration": 6,
    "start_time": "2022-01-29T06:21:13.954Z"
   },
   {
    "duration": 5,
    "start_time": "2022-01-29T06:21:16.745Z"
   },
   {
    "duration": 10,
    "start_time": "2022-01-29T06:31:42.825Z"
   },
   {
    "duration": 56,
    "start_time": "2022-01-29T06:32:43.655Z"
   },
   {
    "duration": 11,
    "start_time": "2022-01-29T06:32:43.713Z"
   },
   {
    "duration": 38,
    "start_time": "2022-01-29T06:32:43.726Z"
   },
   {
    "duration": 35,
    "start_time": "2022-01-29T06:32:43.766Z"
   },
   {
    "duration": 48,
    "start_time": "2022-01-29T06:32:43.803Z"
   },
   {
    "duration": 10,
    "start_time": "2022-01-29T06:32:43.853Z"
   },
   {
    "duration": 22,
    "start_time": "2022-01-29T06:32:43.865Z"
   },
   {
    "duration": 11,
    "start_time": "2022-01-29T06:33:32.980Z"
   },
   {
    "duration": 613,
    "start_time": "2022-01-29T06:35:33.318Z"
   },
   {
    "duration": 20,
    "start_time": "2022-01-29T06:35:33.934Z"
   },
   {
    "duration": 24,
    "start_time": "2022-01-29T06:35:33.956Z"
   },
   {
    "duration": 38,
    "start_time": "2022-01-29T06:35:33.982Z"
   },
   {
    "duration": 21,
    "start_time": "2022-01-29T06:35:34.022Z"
   },
   {
    "duration": 26,
    "start_time": "2022-01-29T06:35:34.045Z"
   },
   {
    "duration": 594,
    "start_time": "2022-01-29T11:38:01.650Z"
   },
   {
    "duration": 21,
    "start_time": "2022-01-29T11:38:11.131Z"
   },
   {
    "duration": 424,
    "start_time": "2022-01-29T11:39:11.153Z"
   },
   {
    "duration": 20,
    "start_time": "2022-01-29T11:39:33.730Z"
   },
   {
    "duration": 438,
    "start_time": "2022-01-29T11:39:51.486Z"
   },
   {
    "duration": 1432,
    "start_time": "2022-01-29T11:40:01.722Z"
   },
   {
    "duration": 21,
    "start_time": "2022-01-29T11:40:07.898Z"
   },
   {
    "duration": 381,
    "start_time": "2022-01-29T14:02:36.410Z"
   },
   {
    "duration": 23,
    "start_time": "2022-01-29T14:03:08.834Z"
   },
   {
    "duration": 6,
    "start_time": "2022-01-29T14:23:17.056Z"
   },
   {
    "duration": 6,
    "start_time": "2022-01-29T14:24:41.367Z"
   },
   {
    "duration": 303,
    "start_time": "2022-01-29T14:25:27.944Z"
   },
   {
    "duration": 21,
    "start_time": "2022-01-29T14:25:33.319Z"
   },
   {
    "duration": 276,
    "start_time": "2022-01-29T14:25:46.479Z"
   },
   {
    "duration": 125,
    "start_time": "2022-01-29T14:25:58.260Z"
   },
   {
    "duration": 14,
    "start_time": "2022-01-29T14:26:02.178Z"
   },
   {
    "duration": 13,
    "start_time": "2022-01-29T14:26:42.399Z"
   },
   {
    "duration": 5,
    "start_time": "2022-01-29T14:27:26.974Z"
   },
   {
    "duration": 5,
    "start_time": "2022-01-29T14:27:33.798Z"
   },
   {
    "duration": 5,
    "start_time": "2022-01-29T14:27:45.319Z"
   },
   {
    "duration": 82,
    "start_time": "2022-01-29T14:29:59.118Z"
   },
   {
    "duration": 269,
    "start_time": "2022-01-29T14:31:40.739Z"
   },
   {
    "duration": 443,
    "start_time": "2022-01-29T14:32:13.124Z"
   },
   {
    "duration": 876,
    "start_time": "2022-01-29T14:32:27.863Z"
   },
   {
    "duration": 198,
    "start_time": "2022-01-29T14:32:34.485Z"
   },
   {
    "duration": 539,
    "start_time": "2022-01-29T14:32:38.534Z"
   },
   {
    "duration": 252,
    "start_time": "2022-01-29T14:33:32.062Z"
   },
   {
    "duration": 383,
    "start_time": "2022-01-29T14:33:40.334Z"
   },
   {
    "duration": 262,
    "start_time": "2022-01-29T14:33:50.997Z"
   },
   {
    "duration": 5,
    "start_time": "2022-01-29T14:34:00.814Z"
   },
   {
    "duration": 22,
    "start_time": "2022-01-29T14:34:15.581Z"
   },
   {
    "duration": 23,
    "start_time": "2022-01-29T14:34:37.195Z"
   },
   {
    "duration": 9,
    "start_time": "2022-01-29T14:35:02.717Z"
   },
   {
    "duration": 29,
    "start_time": "2022-01-29T14:35:36.525Z"
   },
   {
    "duration": 11,
    "start_time": "2022-01-29T14:35:44.325Z"
   },
   {
    "duration": 334,
    "start_time": "2022-01-29T14:55:47.449Z"
   },
   {
    "duration": 268,
    "start_time": "2022-01-29T14:55:53.098Z"
   },
   {
    "duration": 23,
    "start_time": "2022-01-29T14:55:56.225Z"
   },
   {
    "duration": 10,
    "start_time": "2022-01-29T14:56:03.578Z"
   },
   {
    "duration": 6,
    "start_time": "2022-01-29T14:57:00.698Z"
   },
   {
    "duration": 253,
    "start_time": "2022-01-29T15:03:11.391Z"
   },
   {
    "duration": 18,
    "start_time": "2022-01-29T15:25:41.612Z"
   },
   {
    "duration": 21,
    "start_time": "2022-01-29T15:25:58.787Z"
   },
   {
    "duration": 18,
    "start_time": "2022-01-29T15:26:03.564Z"
   },
   {
    "duration": 17,
    "start_time": "2022-01-29T15:26:08.412Z"
   },
   {
    "duration": 18,
    "start_time": "2022-01-29T15:27:16.060Z"
   },
   {
    "duration": 7,
    "start_time": "2022-01-29T15:27:47.987Z"
   },
   {
    "duration": 38,
    "start_time": "2022-01-29T15:29:29.467Z"
   },
   {
    "duration": 21,
    "start_time": "2022-01-29T15:33:52.882Z"
   },
   {
    "duration": 10,
    "start_time": "2022-01-29T15:34:04.571Z"
   },
   {
    "duration": 14,
    "start_time": "2022-01-29T15:34:55.450Z"
   },
   {
    "duration": 9,
    "start_time": "2022-01-29T15:38:58.089Z"
   },
   {
    "duration": 9,
    "start_time": "2022-01-29T15:39:33.151Z"
   },
   {
    "duration": 9,
    "start_time": "2022-01-29T15:39:42.313Z"
   },
   {
    "duration": 9,
    "start_time": "2022-01-29T15:39:44.041Z"
   },
   {
    "duration": 10,
    "start_time": "2022-01-29T15:39:59.993Z"
   },
   {
    "duration": 12,
    "start_time": "2022-01-29T15:40:11.625Z"
   },
   {
    "duration": 12,
    "start_time": "2022-01-29T15:53:07.542Z"
   },
   {
    "duration": 11,
    "start_time": "2022-01-29T15:54:17.381Z"
   },
   {
    "duration": 15,
    "start_time": "2022-01-29T15:54:26.902Z"
   },
   {
    "duration": 437,
    "start_time": "2022-01-29T15:55:52.302Z"
   },
   {
    "duration": 429,
    "start_time": "2022-01-29T15:56:03.693Z"
   },
   {
    "duration": 26,
    "start_time": "2022-01-29T15:56:12.309Z"
   },
   {
    "duration": 176013,
    "start_time": "2022-01-29T16:03:19.937Z"
   },
   {
    "duration": 237,
    "start_time": "2022-01-29T16:08:12.491Z"
   },
   {
    "duration": 24,
    "start_time": "2022-01-29T16:08:18.130Z"
   },
   {
    "duration": 25,
    "start_time": "2022-01-29T16:08:44.977Z"
   },
   {
    "duration": 35,
    "start_time": "2022-01-29T16:13:25.313Z"
   },
   {
    "duration": 78,
    "start_time": "2022-01-29T16:13:30.457Z"
   },
   {
    "duration": 65,
    "start_time": "2022-01-29T16:13:39.370Z"
   },
   {
    "duration": 25,
    "start_time": "2022-01-29T16:16:27.273Z"
   },
   {
    "duration": 27,
    "start_time": "2022-01-29T16:16:57.057Z"
   },
   {
    "duration": 27,
    "start_time": "2022-01-29T16:17:12.881Z"
   },
   {
    "duration": 9,
    "start_time": "2022-01-29T16:17:32.193Z"
   },
   {
    "duration": 255,
    "start_time": "2022-01-29T16:17:53.889Z"
   },
   {
    "duration": 10,
    "start_time": "2022-01-29T16:18:32.745Z"
   },
   {
    "duration": 11,
    "start_time": "2022-01-29T16:18:54.233Z"
   },
   {
    "duration": 40,
    "start_time": "2022-01-29T16:19:26.672Z"
   },
   {
    "duration": 2204,
    "start_time": "2022-01-29T16:21:26.408Z"
   },
   {
    "duration": 5,
    "start_time": "2022-01-29T16:21:47.352Z"
   },
   {
    "duration": 5,
    "start_time": "2022-01-29T16:22:49.336Z"
   },
   {
    "duration": 10,
    "start_time": "2022-01-29T16:22:53.631Z"
   },
   {
    "duration": 6,
    "start_time": "2022-01-29T16:23:42.184Z"
   },
   {
    "duration": 7,
    "start_time": "2022-01-29T16:23:46.920Z"
   },
   {
    "duration": 741,
    "start_time": "2022-01-29T16:23:58.693Z"
   },
   {
    "duration": 18,
    "start_time": "2022-01-29T16:23:59.436Z"
   },
   {
    "duration": 26,
    "start_time": "2022-01-29T16:23:59.456Z"
   },
   {
    "duration": 172,
    "start_time": "2022-01-29T16:23:59.484Z"
   },
   {
    "duration": 176017,
    "start_time": "2022-01-29T16:21:03.641Z"
   },
   {
    "duration": 176016,
    "start_time": "2022-01-29T16:21:03.643Z"
   },
   {
    "duration": 176008,
    "start_time": "2022-01-29T16:21:03.653Z"
   },
   {
    "duration": 176008,
    "start_time": "2022-01-29T16:21:03.654Z"
   },
   {
    "duration": 176007,
    "start_time": "2022-01-29T16:21:03.656Z"
   },
   {
    "duration": 176007,
    "start_time": "2022-01-29T16:21:03.657Z"
   },
   {
    "duration": 176007,
    "start_time": "2022-01-29T16:21:03.659Z"
   },
   {
    "duration": 176007,
    "start_time": "2022-01-29T16:21:03.660Z"
   },
   {
    "duration": 176007,
    "start_time": "2022-01-29T16:21:03.661Z"
   },
   {
    "duration": 176006,
    "start_time": "2022-01-29T16:21:03.663Z"
   },
   {
    "duration": 677,
    "start_time": "2022-01-29T16:24:21.492Z"
   },
   {
    "duration": 18,
    "start_time": "2022-01-29T16:24:22.171Z"
   },
   {
    "duration": 21,
    "start_time": "2022-01-29T16:24:22.193Z"
   },
   {
    "duration": 18,
    "start_time": "2022-01-29T16:24:22.215Z"
   },
   {
    "duration": 26,
    "start_time": "2022-01-29T16:24:22.260Z"
   },
   {
    "duration": 12,
    "start_time": "2022-01-29T16:24:22.287Z"
   },
   {
    "duration": 11,
    "start_time": "2022-01-29T16:24:22.301Z"
   },
   {
    "duration": 4,
    "start_time": "2022-01-29T16:24:22.314Z"
   },
   {
    "duration": 43,
    "start_time": "2022-01-29T16:24:22.320Z"
   },
   {
    "duration": 16,
    "start_time": "2022-01-29T16:24:22.365Z"
   },
   {
    "duration": 6,
    "start_time": "2022-01-29T16:24:22.382Z"
   },
   {
    "duration": 7,
    "start_time": "2022-01-29T16:24:22.389Z"
   },
   {
    "duration": 10,
    "start_time": "2022-01-29T16:24:22.398Z"
   },
   {
    "duration": 302,
    "start_time": "2022-01-30T12:10:53.481Z"
   },
   {
    "duration": 819,
    "start_time": "2022-01-30T12:10:58.701Z"
   },
   {
    "duration": 29,
    "start_time": "2022-01-30T12:10:59.524Z"
   },
   {
    "duration": 84,
    "start_time": "2022-01-30T12:10:59.571Z"
   },
   {
    "duration": 63,
    "start_time": "2022-01-30T12:10:59.657Z"
   },
   {
    "duration": 46,
    "start_time": "2022-01-30T12:10:59.723Z"
   },
   {
    "duration": 48,
    "start_time": "2022-01-30T12:10:59.771Z"
   },
   {
    "duration": 46,
    "start_time": "2022-01-30T12:10:59.821Z"
   },
   {
    "duration": 7,
    "start_time": "2022-01-30T12:10:59.870Z"
   },
   {
    "duration": 24,
    "start_time": "2022-01-30T12:10:59.881Z"
   },
   {
    "duration": 95,
    "start_time": "2022-01-30T12:10:59.907Z"
   },
   {
    "duration": 20,
    "start_time": "2022-01-30T12:11:00.005Z"
   },
   {
    "duration": 82,
    "start_time": "2022-01-30T12:11:00.027Z"
   },
   {
    "duration": 8,
    "start_time": "2022-01-30T12:11:00.111Z"
   },
   {
    "duration": 19,
    "start_time": "2022-01-30T12:11:21.222Z"
   },
   {
    "duration": 73,
    "start_time": "2022-01-30T12:11:34.351Z"
   },
   {
    "duration": 18,
    "start_time": "2022-01-30T12:11:34.427Z"
   },
   {
    "duration": 45,
    "start_time": "2022-01-30T12:11:34.448Z"
   },
   {
    "duration": 28,
    "start_time": "2022-01-30T12:11:34.495Z"
   },
   {
    "duration": 79,
    "start_time": "2022-01-30T12:11:34.525Z"
   },
   {
    "duration": 16,
    "start_time": "2022-01-30T12:11:34.606Z"
   },
   {
    "duration": 47,
    "start_time": "2022-01-30T12:11:34.625Z"
   },
   {
    "duration": 9,
    "start_time": "2022-01-30T12:11:34.679Z"
   },
   {
    "duration": 8,
    "start_time": "2022-01-30T12:11:34.691Z"
   },
   {
    "duration": 19,
    "start_time": "2022-01-30T12:11:34.701Z"
   },
   {
    "duration": 8,
    "start_time": "2022-01-30T12:11:34.722Z"
   },
   {
    "duration": 22,
    "start_time": "2022-01-30T12:11:34.773Z"
   },
   {
    "duration": 8,
    "start_time": "2022-01-30T12:11:34.798Z"
   },
   {
    "duration": 11,
    "start_time": "2022-01-30T12:14:52.050Z"
   },
   {
    "duration": 16,
    "start_time": "2022-01-30T12:16:04.583Z"
   },
   {
    "duration": 11,
    "start_time": "2022-01-30T12:16:12.278Z"
   },
   {
    "duration": 11,
    "start_time": "2022-01-30T12:16:21.414Z"
   },
   {
    "duration": 10,
    "start_time": "2022-01-30T12:16:27.855Z"
   },
   {
    "duration": 11,
    "start_time": "2022-01-30T12:16:55.731Z"
   },
   {
    "duration": 10,
    "start_time": "2022-01-30T12:17:46.210Z"
   },
   {
    "duration": 10,
    "start_time": "2022-01-30T12:18:12.554Z"
   },
   {
    "duration": 9,
    "start_time": "2022-01-30T12:18:20.647Z"
   },
   {
    "duration": 7,
    "start_time": "2022-01-30T12:18:22.946Z"
   },
   {
    "duration": 376,
    "start_time": "2022-01-30T12:25:17.540Z"
   },
   {
    "duration": 1039,
    "start_time": "2022-01-30T12:26:54.522Z"
   },
   {
    "duration": 1018,
    "start_time": "2022-01-30T12:27:53.000Z"
   },
   {
    "duration": 1149,
    "start_time": "2022-01-30T12:29:05.145Z"
   },
   {
    "duration": 1160,
    "start_time": "2022-01-30T12:29:31.980Z"
   },
   {
    "duration": 1207,
    "start_time": "2022-01-30T12:30:44.880Z"
   },
   {
    "duration": 1052,
    "start_time": "2022-01-30T12:31:06.794Z"
   },
   {
    "duration": 1010,
    "start_time": "2022-01-30T12:31:26.763Z"
   },
   {
    "duration": 1131,
    "start_time": "2022-01-30T12:31:42.290Z"
   },
   {
    "duration": 16,
    "start_time": "2022-01-30T12:33:25.282Z"
   },
   {
    "duration": 15,
    "start_time": "2022-01-30T12:33:47.442Z"
   },
   {
    "duration": 402,
    "start_time": "2022-01-30T12:34:07.282Z"
   },
   {
    "duration": 15,
    "start_time": "2022-01-30T12:34:17.298Z"
   },
   {
    "duration": 14,
    "start_time": "2022-01-30T12:34:23.525Z"
   },
   {
    "duration": 14,
    "start_time": "2022-01-30T12:34:42.701Z"
   },
   {
    "duration": 15,
    "start_time": "2022-01-30T12:34:47.452Z"
   },
   {
    "duration": 15,
    "start_time": "2022-01-30T12:34:52.309Z"
   },
   {
    "duration": 15,
    "start_time": "2022-01-30T12:35:06.202Z"
   },
   {
    "duration": 40,
    "start_time": "2022-01-30T12:35:17.032Z"
   },
   {
    "duration": 277,
    "start_time": "2022-01-30T12:37:47.757Z"
   },
   {
    "duration": 256,
    "start_time": "2022-01-30T12:37:58.108Z"
   },
   {
    "duration": 289,
    "start_time": "2022-01-30T12:38:22.466Z"
   },
   {
    "duration": 34,
    "start_time": "2022-01-30T12:38:33.345Z"
   },
   {
    "duration": 15,
    "start_time": "2022-01-30T12:39:22.339Z"
   },
   {
    "duration": 14,
    "start_time": "2022-01-30T12:39:47.527Z"
   },
   {
    "duration": 16,
    "start_time": "2022-01-30T12:40:50.338Z"
   },
   {
    "duration": 17,
    "start_time": "2022-01-30T12:41:15.812Z"
   },
   {
    "duration": 831,
    "start_time": "2022-01-30T12:42:01.944Z"
   },
   {
    "duration": 43,
    "start_time": "2022-01-30T12:42:03.079Z"
   },
   {
    "duration": 54,
    "start_time": "2022-01-30T12:42:05.249Z"
   },
   {
    "duration": 49,
    "start_time": "2022-01-30T12:42:06.554Z"
   },
   {
    "duration": 40,
    "start_time": "2022-01-30T12:42:09.418Z"
   },
   {
    "duration": 17,
    "start_time": "2022-01-30T12:42:12.721Z"
   },
   {
    "duration": 18,
    "start_time": "2022-01-30T12:42:13.528Z"
   },
   {
    "duration": 6,
    "start_time": "2022-01-30T12:42:18.636Z"
   },
   {
    "duration": 7,
    "start_time": "2022-01-30T12:42:19.129Z"
   },
   {
    "duration": 22,
    "start_time": "2022-01-30T12:42:19.658Z"
   },
   {
    "duration": 9,
    "start_time": "2022-01-30T12:42:24.962Z"
   },
   {
    "duration": 23,
    "start_time": "2022-01-30T12:42:29.760Z"
   },
   {
    "duration": 15,
    "start_time": "2022-01-30T12:42:35.992Z"
   },
   {
    "duration": 16,
    "start_time": "2022-01-30T12:42:42.957Z"
   },
   {
    "duration": 15,
    "start_time": "2022-01-30T12:42:47.247Z"
   },
   {
    "duration": 19,
    "start_time": "2022-01-30T12:42:53.452Z"
   },
   {
    "duration": 20,
    "start_time": "2022-01-30T12:42:59.369Z"
   },
   {
    "duration": 16,
    "start_time": "2022-01-30T12:43:13.246Z"
   },
   {
    "duration": 23,
    "start_time": "2022-01-30T12:43:25.096Z"
   },
   {
    "duration": 348,
    "start_time": "2022-01-30T12:43:54.382Z"
   },
   {
    "duration": 264,
    "start_time": "2022-01-30T12:46:08.188Z"
   },
   {
    "duration": 10,
    "start_time": "2022-01-30T12:46:23.487Z"
   },
   {
    "duration": 88,
    "start_time": "2022-01-30T12:49:37.709Z"
   },
   {
    "duration": 90,
    "start_time": "2022-01-30T12:49:46.380Z"
   },
   {
    "duration": 1881,
    "start_time": "2022-01-30T12:49:55.893Z"
   },
   {
    "duration": 36,
    "start_time": "2022-01-30T12:50:44.823Z"
   },
   {
    "duration": 283,
    "start_time": "2022-01-30T13:07:20.783Z"
   },
   {
    "duration": 266,
    "start_time": "2022-01-30T13:07:54.917Z"
   },
   {
    "duration": 37,
    "start_time": "2022-01-30T13:08:03.206Z"
   },
   {
    "duration": 31,
    "start_time": "2022-01-30T13:08:14.156Z"
   },
   {
    "duration": 25,
    "start_time": "2022-01-30T13:08:18.495Z"
   },
   {
    "duration": 15,
    "start_time": "2022-01-30T13:08:54.487Z"
   },
   {
    "duration": 14,
    "start_time": "2022-01-30T13:09:26.407Z"
   },
   {
    "duration": 10,
    "start_time": "2022-01-30T13:09:32.715Z"
   },
   {
    "duration": 911,
    "start_time": "2022-01-30T13:09:57.541Z"
   },
   {
    "duration": 27,
    "start_time": "2022-01-30T13:09:58.455Z"
   },
   {
    "duration": 32,
    "start_time": "2022-01-30T13:09:58.486Z"
   },
   {
    "duration": 27,
    "start_time": "2022-01-30T13:09:58.824Z"
   },
   {
    "duration": 67,
    "start_time": "2022-01-30T13:09:59.582Z"
   },
   {
    "duration": 24,
    "start_time": "2022-01-30T13:10:01.356Z"
   },
   {
    "duration": 24,
    "start_time": "2022-01-30T13:10:02.063Z"
   },
   {
    "duration": 6,
    "start_time": "2022-01-30T13:10:16.242Z"
   },
   {
    "duration": 6,
    "start_time": "2022-01-30T13:10:16.659Z"
   },
   {
    "duration": 20,
    "start_time": "2022-01-30T13:10:17.552Z"
   },
   {
    "duration": 9,
    "start_time": "2022-01-30T13:10:21.592Z"
   },
   {
    "duration": 26,
    "start_time": "2022-01-30T13:10:58.514Z"
   },
   {
    "duration": 9,
    "start_time": "2022-01-30T13:11:02.273Z"
   },
   {
    "duration": 20,
    "start_time": "2022-01-30T13:11:22.577Z"
   },
   {
    "duration": 15,
    "start_time": "2022-01-30T13:12:00.262Z"
   },
   {
    "duration": 9,
    "start_time": "2022-01-30T13:12:15.247Z"
   },
   {
    "duration": 11,
    "start_time": "2022-01-30T13:12:32.371Z"
   },
   {
    "duration": 10,
    "start_time": "2022-01-30T13:12:34.279Z"
   },
   {
    "duration": 39,
    "start_time": "2022-01-30T13:12:40.617Z"
   },
   {
    "duration": 43,
    "start_time": "2022-01-30T13:13:24.294Z"
   },
   {
    "duration": 44,
    "start_time": "2022-01-30T13:13:46.804Z"
   },
   {
    "duration": 52,
    "start_time": "2022-01-30T13:14:14.755Z"
   },
   {
    "duration": 42,
    "start_time": "2022-01-30T13:14:27.451Z"
   },
   {
    "duration": 43,
    "start_time": "2022-01-30T13:14:45.978Z"
   },
   {
    "duration": 38,
    "start_time": "2022-01-30T13:16:11.178Z"
   },
   {
    "duration": 19,
    "start_time": "2022-01-30T13:17:31.188Z"
   },
   {
    "duration": 832,
    "start_time": "2022-01-30T13:17:46.734Z"
   },
   {
    "duration": 26,
    "start_time": "2022-01-30T13:17:47.569Z"
   },
   {
    "duration": 30,
    "start_time": "2022-01-30T13:17:47.598Z"
   },
   {
    "duration": 54,
    "start_time": "2022-01-30T13:17:47.630Z"
   },
   {
    "duration": 42,
    "start_time": "2022-01-30T13:17:47.936Z"
   },
   {
    "duration": 21,
    "start_time": "2022-01-30T13:17:48.372Z"
   },
   {
    "duration": 23,
    "start_time": "2022-01-30T13:17:49.090Z"
   },
   {
    "duration": 7,
    "start_time": "2022-01-30T13:17:52.510Z"
   },
   {
    "duration": 8,
    "start_time": "2022-01-30T13:17:52.755Z"
   },
   {
    "duration": 20,
    "start_time": "2022-01-30T13:17:53.534Z"
   },
   {
    "duration": 10,
    "start_time": "2022-01-30T13:18:01.289Z"
   },
   {
    "duration": 20,
    "start_time": "2022-01-30T13:18:05.910Z"
   },
   {
    "duration": 36,
    "start_time": "2022-01-30T13:18:52.162Z"
   },
   {
    "duration": 22,
    "start_time": "2022-01-30T13:19:15.699Z"
   },
   {
    "duration": 36,
    "start_time": "2022-01-30T13:19:52.889Z"
   },
   {
    "duration": 12,
    "start_time": "2022-01-30T13:20:43.162Z"
   },
   {
    "duration": 36,
    "start_time": "2022-01-30T13:22:21.616Z"
   },
   {
    "duration": 15,
    "start_time": "2022-01-30T13:22:52.969Z"
   },
   {
    "duration": 11,
    "start_time": "2022-01-30T13:24:23.538Z"
   },
   {
    "duration": 10,
    "start_time": "2022-01-30T13:25:10.279Z"
   },
   {
    "duration": 7,
    "start_time": "2022-01-30T13:25:16.283Z"
   },
   {
    "duration": 9,
    "start_time": "2022-01-30T13:25:20.076Z"
   },
   {
    "duration": 12,
    "start_time": "2022-01-30T13:25:33.990Z"
   },
   {
    "duration": 385,
    "start_time": "2022-01-30T13:30:32.973Z"
   },
   {
    "duration": 13,
    "start_time": "2022-01-30T13:31:28.886Z"
   },
   {
    "duration": 335,
    "start_time": "2022-01-30T13:32:13.265Z"
   },
   {
    "duration": 16,
    "start_time": "2022-01-30T13:32:53.367Z"
   },
   {
    "duration": 82,
    "start_time": "2022-01-30T13:33:53.308Z"
   },
   {
    "duration": 81,
    "start_time": "2022-01-30T13:33:59.441Z"
   },
   {
    "duration": 80,
    "start_time": "2022-01-30T13:34:14.538Z"
   },
   {
    "duration": 93,
    "start_time": "2022-01-30T13:34:32.189Z"
   },
   {
    "duration": 10,
    "start_time": "2022-01-30T13:35:07.734Z"
   },
   {
    "duration": 91,
    "start_time": "2022-01-30T13:36:03.628Z"
   },
   {
    "duration": 94,
    "start_time": "2022-01-30T13:36:10.935Z"
   },
   {
    "duration": 660,
    "start_time": "2022-01-30T13:36:13.763Z"
   },
   {
    "duration": 84,
    "start_time": "2022-01-30T13:36:25.177Z"
   },
   {
    "duration": 13,
    "start_time": "2022-01-30T13:39:34.051Z"
   },
   {
    "duration": 11,
    "start_time": "2022-01-30T13:39:41.026Z"
   },
   {
    "duration": 264,
    "start_time": "2022-01-30T13:39:58.899Z"
   },
   {
    "duration": 290,
    "start_time": "2022-01-30T13:41:39.592Z"
   },
   {
    "duration": 276,
    "start_time": "2022-01-30T13:44:37.299Z"
   },
   {
    "duration": -276,
    "start_time": "2022-01-30T13:44:54.079Z"
   },
   {
    "duration": 12,
    "start_time": "2022-01-30T13:44:54.511Z"
   },
   {
    "duration": -683,
    "start_time": "2022-01-30T13:45:05.022Z"
   },
   {
    "duration": 8732,
    "start_time": "2022-01-30T13:45:42.875Z"
   },
   {
    "duration": 307,
    "start_time": "2022-01-30T13:46:18.844Z"
   },
   {
    "duration": 281,
    "start_time": "2022-01-30T13:47:06.445Z"
   },
   {
    "duration": 276,
    "start_time": "2022-01-30T13:50:34.077Z"
   },
   {
    "duration": 6251,
    "start_time": "2022-01-30T13:50:46.069Z"
   },
   {
    "duration": 2,
    "start_time": "2022-01-30T13:50:52.321Z"
   },
   {
    "duration": 6343,
    "start_time": "2022-01-30T13:51:20.619Z"
   },
   {
    "duration": 12,
    "start_time": "2022-01-30T13:51:33.451Z"
   },
   {
    "duration": 7944,
    "start_time": "2022-01-30T13:51:52.005Z"
   },
   {
    "duration": 15,
    "start_time": "2022-01-30T13:56:27.933Z"
   },
   {
    "duration": 324,
    "start_time": "2022-01-30T13:57:07.916Z"
   },
   {
    "duration": 9325,
    "start_time": "2022-01-30T13:57:49.341Z"
   },
   {
    "duration": 7678,
    "start_time": "2022-01-30T13:58:26.580Z"
   },
   {
    "duration": 14,
    "start_time": "2022-01-30T13:58:48.503Z"
   },
   {
    "duration": 7102,
    "start_time": "2022-01-30T14:00:21.340Z"
   },
   {
    "duration": 2279,
    "start_time": "2022-01-30T14:01:57.023Z"
   },
   {
    "duration": 3277,
    "start_time": "2022-01-30T14:02:44.520Z"
   },
   {
    "duration": 1808,
    "start_time": "2022-01-30T14:03:06.806Z"
   },
   {
    "duration": 16,
    "start_time": "2022-01-30T14:03:30.470Z"
   },
   {
    "duration": 1963,
    "start_time": "2022-01-30T14:04:09.454Z"
   },
   {
    "duration": 21,
    "start_time": "2022-01-30T14:04:14.254Z"
   },
   {
    "duration": 12,
    "start_time": "2022-01-30T14:04:30.230Z"
   },
   {
    "duration": 1077,
    "start_time": "2022-01-30T14:06:11.665Z"
   },
   {
    "duration": 30,
    "start_time": "2022-01-30T14:06:12.745Z"
   },
   {
    "duration": 32,
    "start_time": "2022-01-30T14:06:12.783Z"
   },
   {
    "duration": 61,
    "start_time": "2022-01-30T14:06:12.818Z"
   },
   {
    "duration": 52,
    "start_time": "2022-01-30T14:06:12.882Z"
   },
   {
    "duration": 55,
    "start_time": "2022-01-30T14:06:12.937Z"
   },
   {
    "duration": 24,
    "start_time": "2022-01-30T14:06:12.995Z"
   },
   {
    "duration": 7,
    "start_time": "2022-01-30T14:06:13.024Z"
   },
   {
    "duration": 8,
    "start_time": "2022-01-30T14:06:13.034Z"
   },
   {
    "duration": 35,
    "start_time": "2022-01-30T14:06:13.074Z"
   },
   {
    "duration": 13,
    "start_time": "2022-01-30T14:06:13.112Z"
   },
   {
    "duration": 11,
    "start_time": "2022-01-30T14:06:13.127Z"
   },
   {
    "duration": 53,
    "start_time": "2022-01-30T14:06:13.140Z"
   },
   {
    "duration": 121876,
    "start_time": "2022-01-30T14:06:13.196Z"
   },
   {
    "duration": 14,
    "start_time": "2022-01-30T14:08:15.075Z"
   },
   {
    "duration": 9,
    "start_time": "2022-01-30T14:08:15.092Z"
   },
   {
    "duration": 6,
    "start_time": "2022-01-30T14:08:15.104Z"
   },
   {
    "duration": 23,
    "start_time": "2022-01-30T14:08:15.113Z"
   },
   {
    "duration": 15,
    "start_time": "2022-01-30T14:08:30.780Z"
   },
   {
    "duration": 20,
    "start_time": "2022-01-30T14:09:21.620Z"
   },
   {
    "duration": 18,
    "start_time": "2022-01-30T14:09:24.985Z"
   },
   {
    "duration": 421,
    "start_time": "2022-01-30T14:10:36.360Z"
   },
   {
    "duration": 6,
    "start_time": "2022-01-30T14:10:43.138Z"
   },
   {
    "duration": 11,
    "start_time": "2022-01-30T14:10:57.459Z"
   },
   {
    "duration": 5651,
    "start_time": "2022-01-30T14:11:34.350Z"
   },
   {
    "duration": 923,
    "start_time": "2022-01-30T14:12:00.819Z"
   },
   {
    "duration": 32,
    "start_time": "2022-01-30T14:12:01.745Z"
   },
   {
    "duration": 49,
    "start_time": "2022-01-30T14:12:01.781Z"
   },
   {
    "duration": 46,
    "start_time": "2022-01-30T14:12:01.833Z"
   },
   {
    "duration": 46,
    "start_time": "2022-01-30T14:12:01.883Z"
   },
   {
    "duration": 48,
    "start_time": "2022-01-30T14:12:01.931Z"
   },
   {
    "duration": 19,
    "start_time": "2022-01-30T14:12:01.983Z"
   },
   {
    "duration": 10,
    "start_time": "2022-01-30T14:12:02.007Z"
   },
   {
    "duration": 19,
    "start_time": "2022-01-30T14:12:02.020Z"
   },
   {
    "duration": 34,
    "start_time": "2022-01-30T14:12:02.069Z"
   },
   {
    "duration": 11,
    "start_time": "2022-01-30T14:12:02.106Z"
   },
   {
    "duration": 12,
    "start_time": "2022-01-30T14:12:02.119Z"
   },
   {
    "duration": 37,
    "start_time": "2022-01-30T14:12:02.134Z"
   },
   {
    "duration": 396,
    "start_time": "2022-01-30T14:12:02.174Z"
   },
   {
    "duration": 58,
    "start_time": "2022-01-30T14:12:02.514Z"
   },
   {
    "duration": 50,
    "start_time": "2022-01-30T14:12:02.524Z"
   },
   {
    "duration": 48,
    "start_time": "2022-01-30T14:12:02.527Z"
   },
   {
    "duration": 35,
    "start_time": "2022-01-30T14:12:02.542Z"
   },
   {
    "duration": 28,
    "start_time": "2022-01-30T14:12:02.550Z"
   },
   {
    "duration": 51,
    "start_time": "2022-01-30T14:12:33.994Z"
   },
   {
    "duration": 370,
    "start_time": "2022-01-30T14:12:47.087Z"
   },
   {
    "duration": 17,
    "start_time": "2022-01-30T14:13:06.871Z"
   },
   {
    "duration": 19,
    "start_time": "2022-01-30T14:13:19.975Z"
   },
   {
    "duration": 111,
    "start_time": "2022-01-30T14:13:24.963Z"
   },
   {
    "duration": 18,
    "start_time": "2022-01-30T14:13:25.667Z"
   },
   {
    "duration": 37,
    "start_time": "2022-01-30T14:13:28.091Z"
   },
   {
    "duration": 35,
    "start_time": "2022-01-30T14:13:28.892Z"
   },
   {
    "duration": 49,
    "start_time": "2022-01-30T14:13:33.128Z"
   },
   {
    "duration": 19,
    "start_time": "2022-01-30T14:13:36.618Z"
   },
   {
    "duration": 20,
    "start_time": "2022-01-30T14:13:37.152Z"
   },
   {
    "duration": 6,
    "start_time": "2022-01-30T14:13:40.836Z"
   },
   {
    "duration": 8,
    "start_time": "2022-01-30T14:13:41.778Z"
   },
   {
    "duration": 19,
    "start_time": "2022-01-30T14:13:44.221Z"
   },
   {
    "duration": 10,
    "start_time": "2022-01-30T14:13:48.352Z"
   },
   {
    "duration": 12,
    "start_time": "2022-01-30T14:13:49.790Z"
   },
   {
    "duration": 10,
    "start_time": "2022-01-30T14:14:06.278Z"
   },
   {
    "duration": 10,
    "start_time": "2022-01-30T14:14:11.912Z"
   },
   {
    "duration": 79,
    "start_time": "2022-01-30T14:14:12.730Z"
   },
   {
    "duration": 15,
    "start_time": "2022-01-30T14:14:17.786Z"
   },
   {
    "duration": 9,
    "start_time": "2022-01-30T14:14:23.734Z"
   },
   {
    "duration": 6,
    "start_time": "2022-01-30T14:15:00.141Z"
   },
   {
    "duration": 13,
    "start_time": "2022-01-30T14:15:17.444Z"
   },
   {
    "duration": 920,
    "start_time": "2022-01-30T14:15:41.226Z"
   },
   {
    "duration": 49,
    "start_time": "2022-01-30T14:15:42.150Z"
   },
   {
    "duration": 33,
    "start_time": "2022-01-30T14:15:45.386Z"
   },
   {
    "duration": 35,
    "start_time": "2022-01-30T14:15:56.013Z"
   },
   {
    "duration": 48,
    "start_time": "2022-01-30T14:15:58.755Z"
   },
   {
    "duration": 17,
    "start_time": "2022-01-30T14:16:02.295Z"
   },
   {
    "duration": 26,
    "start_time": "2022-01-30T14:16:02.957Z"
   },
   {
    "duration": 7,
    "start_time": "2022-01-30T14:16:11.355Z"
   },
   {
    "duration": 7,
    "start_time": "2022-01-30T14:16:12.183Z"
   },
   {
    "duration": 20,
    "start_time": "2022-01-30T14:16:14.331Z"
   },
   {
    "duration": 10,
    "start_time": "2022-01-30T14:16:27.492Z"
   },
   {
    "duration": 9,
    "start_time": "2022-01-30T14:16:55.752Z"
   },
   {
    "duration": 11,
    "start_time": "2022-01-30T14:16:59.782Z"
   },
   {
    "duration": 14,
    "start_time": "2022-01-30T14:17:06.103Z"
   },
   {
    "duration": 16,
    "start_time": "2022-01-30T14:17:45.646Z"
   },
   {
    "duration": 18,
    "start_time": "2022-01-30T14:17:59.513Z"
   },
   {
    "duration": 16,
    "start_time": "2022-01-30T14:18:10.031Z"
   },
   {
    "duration": 8,
    "start_time": "2022-01-30T14:18:48.948Z"
   },
   {
    "duration": 7,
    "start_time": "2022-01-30T14:19:00.358Z"
   },
   {
    "duration": 12,
    "start_time": "2022-01-30T14:19:34.111Z"
   },
   {
    "duration": 9,
    "start_time": "2022-01-30T14:19:55.431Z"
   },
   {
    "duration": 15,
    "start_time": "2022-01-30T14:20:01.923Z"
   },
   {
    "duration": 8270,
    "start_time": "2022-01-30T14:23:52.527Z"
   },
   {
    "duration": 50,
    "start_time": "2022-01-30T14:24:00.750Z"
   },
   {
    "duration": 12,
    "start_time": "2022-01-30T14:24:03.579Z"
   },
   {
    "duration": 899,
    "start_time": "2022-01-30T14:24:30.787Z"
   },
   {
    "duration": 42,
    "start_time": "2022-01-30T14:24:31.690Z"
   },
   {
    "duration": 57,
    "start_time": "2022-01-30T14:24:31.739Z"
   },
   {
    "duration": 38,
    "start_time": "2022-01-30T14:24:31.799Z"
   },
   {
    "duration": 86,
    "start_time": "2022-01-30T14:24:31.839Z"
   },
   {
    "duration": 16,
    "start_time": "2022-01-30T14:24:31.927Z"
   },
   {
    "duration": 42,
    "start_time": "2022-01-30T14:24:31.946Z"
   },
   {
    "duration": 7,
    "start_time": "2022-01-30T14:24:31.993Z"
   },
   {
    "duration": 12,
    "start_time": "2022-01-30T14:24:32.004Z"
   },
   {
    "duration": 21,
    "start_time": "2022-01-30T14:24:32.019Z"
   },
   {
    "duration": 40,
    "start_time": "2022-01-30T14:24:32.043Z"
   },
   {
    "duration": 19,
    "start_time": "2022-01-30T14:24:32.091Z"
   },
   {
    "duration": 11,
    "start_time": "2022-01-30T14:24:32.113Z"
   },
   {
    "duration": 13,
    "start_time": "2022-01-30T14:24:32.127Z"
   },
   {
    "duration": 9786,
    "start_time": "2022-01-30T14:24:32.142Z"
   },
   {
    "duration": -1,
    "start_time": "2022-01-30T14:24:41.933Z"
   },
   {
    "duration": 0,
    "start_time": "2022-01-30T14:24:41.934Z"
   },
   {
    "duration": -2,
    "start_time": "2022-01-30T14:24:41.937Z"
   },
   {
    "duration": -1,
    "start_time": "2022-01-30T14:24:41.938Z"
   },
   {
    "duration": -1,
    "start_time": "2022-01-30T14:24:41.940Z"
   },
   {
    "duration": -1,
    "start_time": "2022-01-30T14:24:41.941Z"
   },
   {
    "duration": 4,
    "start_time": "2022-01-30T14:24:53.742Z"
   },
   {
    "duration": 41,
    "start_time": "2022-01-30T14:26:14.286Z"
   },
   {
    "duration": 9,
    "start_time": "2022-01-30T14:26:21.257Z"
   },
   {
    "duration": 14,
    "start_time": "2022-01-30T14:26:27.775Z"
   },
   {
    "duration": 10,
    "start_time": "2022-01-30T14:26:30.971Z"
   },
   {
    "duration": 13,
    "start_time": "2022-01-30T14:27:11.189Z"
   },
   {
    "duration": 8,
    "start_time": "2022-01-30T14:27:13.205Z"
   },
   {
    "duration": 10,
    "start_time": "2022-01-30T14:27:13.876Z"
   },
   {
    "duration": 854,
    "start_time": "2022-01-30T14:28:37.296Z"
   },
   {
    "duration": 36,
    "start_time": "2022-01-30T14:28:38.153Z"
   },
   {
    "duration": 38,
    "start_time": "2022-01-30T14:28:38.192Z"
   },
   {
    "duration": 49,
    "start_time": "2022-01-30T14:28:38.233Z"
   },
   {
    "duration": 43,
    "start_time": "2022-01-30T14:28:38.285Z"
   },
   {
    "duration": 46,
    "start_time": "2022-01-30T14:28:38.331Z"
   },
   {
    "duration": 20,
    "start_time": "2022-01-30T14:28:38.379Z"
   },
   {
    "duration": 8,
    "start_time": "2022-01-30T14:28:38.402Z"
   },
   {
    "duration": 7,
    "start_time": "2022-01-30T14:28:38.415Z"
   },
   {
    "duration": 70,
    "start_time": "2022-01-30T14:28:38.425Z"
   },
   {
    "duration": 12,
    "start_time": "2022-01-30T14:28:38.498Z"
   },
   {
    "duration": 13,
    "start_time": "2022-01-30T14:28:38.512Z"
   },
   {
    "duration": 51,
    "start_time": "2022-01-30T14:28:38.527Z"
   },
   {
    "duration": 37,
    "start_time": "2022-01-30T14:28:38.581Z"
   },
   {
    "duration": 9,
    "start_time": "2022-01-30T14:28:38.620Z"
   },
   {
    "duration": 39,
    "start_time": "2022-01-30T14:28:38.632Z"
   },
   {
    "duration": 11,
    "start_time": "2022-01-30T14:28:38.674Z"
   },
   {
    "duration": 5,
    "start_time": "2022-01-30T14:28:38.688Z"
   },
   {
    "duration": 6,
    "start_time": "2022-01-30T14:28:38.695Z"
   },
   {
    "duration": 10,
    "start_time": "2022-01-30T14:28:38.704Z"
   },
   {
    "duration": 10,
    "start_time": "2022-01-30T14:33:35.592Z"
   },
   {
    "duration": 978,
    "start_time": "2022-01-30T14:33:50.805Z"
   },
   {
    "duration": 31,
    "start_time": "2022-01-30T14:33:51.788Z"
   },
   {
    "duration": 61,
    "start_time": "2022-01-30T14:33:51.823Z"
   },
   {
    "duration": 43,
    "start_time": "2022-01-30T14:33:51.889Z"
   },
   {
    "duration": 94,
    "start_time": "2022-01-30T14:33:51.935Z"
   },
   {
    "duration": 59,
    "start_time": "2022-01-30T14:33:52.032Z"
   },
   {
    "duration": 25,
    "start_time": "2022-01-30T14:33:52.095Z"
   },
   {
    "duration": 8,
    "start_time": "2022-01-30T14:33:52.125Z"
   },
   {
    "duration": 7,
    "start_time": "2022-01-30T14:33:52.136Z"
   },
   {
    "duration": 66,
    "start_time": "2022-01-30T14:33:52.145Z"
   },
   {
    "duration": 11,
    "start_time": "2022-01-30T14:33:52.213Z"
   },
   {
    "duration": 13,
    "start_time": "2022-01-30T14:33:52.227Z"
   },
   {
    "duration": 35,
    "start_time": "2022-01-30T14:33:52.244Z"
   },
   {
    "duration": 62,
    "start_time": "2022-01-30T14:33:52.283Z"
   },
   {
    "duration": 12,
    "start_time": "2022-01-30T14:33:52.348Z"
   },
   {
    "duration": 23,
    "start_time": "2022-01-30T14:33:52.379Z"
   },
   {
    "duration": 9,
    "start_time": "2022-01-30T14:33:52.404Z"
   },
   {
    "duration": 10,
    "start_time": "2022-01-30T14:34:34.591Z"
   },
   {
    "duration": 843,
    "start_time": "2022-01-30T14:34:46.178Z"
   },
   {
    "duration": 29,
    "start_time": "2022-01-30T14:34:47.024Z"
   },
   {
    "duration": 35,
    "start_time": "2022-01-30T14:34:47.069Z"
   },
   {
    "duration": 31,
    "start_time": "2022-01-30T14:34:47.108Z"
   },
   {
    "duration": 66,
    "start_time": "2022-01-30T14:34:47.141Z"
   },
   {
    "duration": 18,
    "start_time": "2022-01-30T14:34:47.210Z"
   },
   {
    "duration": 46,
    "start_time": "2022-01-30T14:34:47.230Z"
   },
   {
    "duration": 7,
    "start_time": "2022-01-30T14:34:47.279Z"
   },
   {
    "duration": 10,
    "start_time": "2022-01-30T14:34:47.289Z"
   },
   {
    "duration": 24,
    "start_time": "2022-01-30T14:34:47.302Z"
   },
   {
    "duration": 47,
    "start_time": "2022-01-30T14:34:47.330Z"
   },
   {
    "duration": 12,
    "start_time": "2022-01-30T14:34:47.380Z"
   },
   {
    "duration": 11,
    "start_time": "2022-01-30T14:34:47.394Z"
   },
   {
    "duration": 80,
    "start_time": "2022-01-30T14:34:47.407Z"
   },
   {
    "duration": 9,
    "start_time": "2022-01-30T14:34:47.489Z"
   },
   {
    "duration": 12,
    "start_time": "2022-01-30T14:34:47.501Z"
   },
   {
    "duration": 9,
    "start_time": "2022-01-30T14:34:47.516Z"
   },
   {
    "duration": 12,
    "start_time": "2022-01-30T14:37:31.920Z"
   },
   {
    "duration": 91,
    "start_time": "2022-01-30T14:40:03.352Z"
   },
   {
    "duration": 87,
    "start_time": "2022-01-30T14:41:24.356Z"
   },
   {
    "duration": 9,
    "start_time": "2022-01-30T14:55:45.470Z"
   },
   {
    "duration": 884,
    "start_time": "2022-01-30T14:56:02.188Z"
   },
   {
    "duration": 33,
    "start_time": "2022-01-30T14:56:03.076Z"
   },
   {
    "duration": 35,
    "start_time": "2022-01-30T14:56:03.112Z"
   },
   {
    "duration": 37,
    "start_time": "2022-01-30T14:56:03.170Z"
   },
   {
    "duration": 72,
    "start_time": "2022-01-30T14:56:03.209Z"
   },
   {
    "duration": 20,
    "start_time": "2022-01-30T14:56:03.283Z"
   },
   {
    "duration": 16,
    "start_time": "2022-01-30T14:56:03.306Z"
   },
   {
    "duration": 51,
    "start_time": "2022-01-30T14:56:03.324Z"
   },
   {
    "duration": 18,
    "start_time": "2022-01-30T14:56:03.380Z"
   },
   {
    "duration": 6,
    "start_time": "2022-01-30T14:56:03.401Z"
   },
   {
    "duration": 9,
    "start_time": "2022-01-30T14:56:03.409Z"
   },
   {
    "duration": 10,
    "start_time": "2022-01-30T14:56:03.420Z"
   },
   {
    "duration": 41,
    "start_time": "2022-01-30T14:56:03.432Z"
   },
   {
    "duration": 14,
    "start_time": "2022-01-30T14:56:03.476Z"
   },
   {
    "duration": 88,
    "start_time": "2022-01-30T14:56:03.493Z"
   },
   {
    "duration": 12,
    "start_time": "2022-01-30T14:56:03.584Z"
   },
   {
    "duration": 8,
    "start_time": "2022-01-30T14:56:03.599Z"
   },
   {
    "duration": 11,
    "start_time": "2022-01-30T14:56:50.497Z"
   },
   {
    "duration": 6,
    "start_time": "2022-01-30T15:05:24.341Z"
   },
   {
    "duration": 6529,
    "start_time": "2022-01-30T15:23:49.922Z"
   },
   {
    "duration": 18,
    "start_time": "2022-01-30T15:25:11.521Z"
   },
   {
    "duration": 1259,
    "start_time": "2022-01-30T15:25:21.489Z"
   },
   {
    "duration": 1137,
    "start_time": "2022-01-30T15:25:25.478Z"
   },
   {
    "duration": 16,
    "start_time": "2022-01-30T15:25:49.370Z"
   },
   {
    "duration": 32,
    "start_time": "2022-01-30T15:25:58.883Z"
   },
   {
    "duration": 10,
    "start_time": "2022-01-30T15:27:50.901Z"
   },
   {
    "duration": 415,
    "start_time": "2022-01-30T15:33:48.728Z"
   },
   {
    "duration": 5,
    "start_time": "2022-01-30T15:34:09.356Z"
   },
   {
    "duration": 472,
    "start_time": "2022-01-30T15:34:31.805Z"
   },
   {
    "duration": 1480,
    "start_time": "2022-01-30T15:35:14.055Z"
   },
   {
    "duration": 17,
    "start_time": "2022-01-30T15:35:27.047Z"
   },
   {
    "duration": 9,
    "start_time": "2022-01-30T15:36:10.447Z"
   },
   {
    "duration": 13,
    "start_time": "2022-01-30T15:38:57.559Z"
   },
   {
    "duration": 20,
    "start_time": "2022-01-30T15:39:59.830Z"
   },
   {
    "duration": 22,
    "start_time": "2022-01-30T15:41:07.513Z"
   },
   {
    "duration": 21,
    "start_time": "2022-01-30T15:41:13.752Z"
   },
   {
    "duration": 19,
    "start_time": "2022-01-30T15:42:30.471Z"
   },
   {
    "duration": 19,
    "start_time": "2022-01-30T15:42:44.345Z"
   },
   {
    "duration": 19,
    "start_time": "2022-01-30T15:43:16.333Z"
   },
   {
    "duration": 17,
    "start_time": "2022-01-30T15:43:31.208Z"
   },
   {
    "duration": 854,
    "start_time": "2022-01-30T15:51:15.520Z"
   },
   {
    "duration": 27,
    "start_time": "2022-01-30T15:51:16.377Z"
   },
   {
    "duration": 63,
    "start_time": "2022-01-30T15:51:16.408Z"
   },
   {
    "duration": 35,
    "start_time": "2022-01-30T15:51:16.475Z"
   },
   {
    "duration": 68,
    "start_time": "2022-01-30T15:51:16.513Z"
   },
   {
    "duration": 19,
    "start_time": "2022-01-30T15:51:16.585Z"
   },
   {
    "duration": 21,
    "start_time": "2022-01-30T15:51:16.607Z"
   },
   {
    "duration": 62,
    "start_time": "2022-01-30T15:51:16.633Z"
   },
   {
    "duration": 10,
    "start_time": "2022-01-30T15:51:16.698Z"
   },
   {
    "duration": 12,
    "start_time": "2022-01-30T15:51:16.711Z"
   },
   {
    "duration": 50,
    "start_time": "2022-01-30T15:51:16.726Z"
   },
   {
    "duration": 14,
    "start_time": "2022-01-30T15:51:16.779Z"
   },
   {
    "duration": 11,
    "start_time": "2022-01-30T15:51:16.796Z"
   },
   {
    "duration": 69,
    "start_time": "2022-01-30T15:51:16.809Z"
   },
   {
    "duration": 9,
    "start_time": "2022-01-30T15:51:16.880Z"
   },
   {
    "duration": 11,
    "start_time": "2022-01-30T15:51:16.892Z"
   },
   {
    "duration": 18,
    "start_time": "2022-01-30T15:51:16.905Z"
   },
   {
    "duration": 50,
    "start_time": "2022-01-30T15:51:16.926Z"
   },
   {
    "duration": 25,
    "start_time": "2022-01-30T15:51:16.978Z"
   },
   {
    "duration": 21,
    "start_time": "2022-01-30T15:51:17.006Z"
   },
   {
    "duration": 46,
    "start_time": "2022-01-30T15:51:17.030Z"
   },
   {
    "duration": 122,
    "start_time": "2022-01-30T15:58:20.451Z"
   },
   {
    "duration": 10,
    "start_time": "2022-01-30T16:00:28.006Z"
   },
   {
    "duration": 12,
    "start_time": "2022-01-30T16:00:51.093Z"
   },
   {
    "duration": 10,
    "start_time": "2022-01-30T16:01:39.632Z"
   },
   {
    "duration": 73,
    "start_time": "2022-01-30T16:01:48.192Z"
   },
   {
    "duration": 17,
    "start_time": "2022-01-30T16:01:48.268Z"
   },
   {
    "duration": 32,
    "start_time": "2022-01-30T16:01:48.288Z"
   },
   {
    "duration": 52,
    "start_time": "2022-01-30T16:01:48.323Z"
   },
   {
    "duration": 43,
    "start_time": "2022-01-30T16:01:48.378Z"
   },
   {
    "duration": 16,
    "start_time": "2022-01-30T16:01:48.423Z"
   },
   {
    "duration": 42,
    "start_time": "2022-01-30T16:01:48.441Z"
   },
   {
    "duration": 8,
    "start_time": "2022-01-30T16:01:48.488Z"
   },
   {
    "duration": 24,
    "start_time": "2022-01-30T16:01:48.499Z"
   },
   {
    "duration": 7,
    "start_time": "2022-01-30T16:01:48.526Z"
   },
   {
    "duration": 7,
    "start_time": "2022-01-30T16:01:48.570Z"
   },
   {
    "duration": 12,
    "start_time": "2022-01-30T16:01:48.580Z"
   },
   {
    "duration": 12,
    "start_time": "2022-01-30T16:01:48.594Z"
   },
   {
    "duration": 11,
    "start_time": "2022-01-30T16:01:48.609Z"
   },
   {
    "duration": 38,
    "start_time": "2022-01-30T16:01:48.669Z"
   },
   {
    "duration": 11,
    "start_time": "2022-01-30T16:01:48.709Z"
   },
   {
    "duration": 49,
    "start_time": "2022-01-30T16:01:48.723Z"
   },
   {
    "duration": 19,
    "start_time": "2022-01-30T16:01:48.775Z"
   },
   {
    "duration": 13,
    "start_time": "2022-01-30T16:01:48.796Z"
   },
   {
    "duration": 20,
    "start_time": "2022-01-30T16:01:48.812Z"
   },
   {
    "duration": 46,
    "start_time": "2022-01-30T16:01:48.834Z"
   },
   {
    "duration": 9,
    "start_time": "2022-01-30T16:01:48.883Z"
   },
   {
    "duration": 1063,
    "start_time": "2022-01-30T16:01:58.687Z"
   },
   {
    "duration": 40,
    "start_time": "2022-01-30T16:01:59.753Z"
   },
   {
    "duration": 47,
    "start_time": "2022-01-30T16:01:59.797Z"
   },
   {
    "duration": 44,
    "start_time": "2022-01-30T16:01:59.871Z"
   },
   {
    "duration": 78,
    "start_time": "2022-01-30T16:01:59.918Z"
   },
   {
    "duration": 17,
    "start_time": "2022-01-30T16:01:59.998Z"
   },
   {
    "duration": 19,
    "start_time": "2022-01-30T16:02:00.017Z"
   },
   {
    "duration": 33,
    "start_time": "2022-01-30T16:02:00.040Z"
   },
   {
    "duration": 28,
    "start_time": "2022-01-30T16:02:00.076Z"
   },
   {
    "duration": 6,
    "start_time": "2022-01-30T16:02:00.106Z"
   },
   {
    "duration": 11,
    "start_time": "2022-01-30T16:02:00.114Z"
   },
   {
    "duration": 50,
    "start_time": "2022-01-30T16:02:00.127Z"
   },
   {
    "duration": 23,
    "start_time": "2022-01-30T16:02:00.180Z"
   },
   {
    "duration": 22,
    "start_time": "2022-01-30T16:02:00.205Z"
   },
   {
    "duration": 60,
    "start_time": "2022-01-30T16:02:00.229Z"
   },
   {
    "duration": 11,
    "start_time": "2022-01-30T16:02:00.292Z"
   },
   {
    "duration": 15,
    "start_time": "2022-01-30T16:02:00.306Z"
   },
   {
    "duration": 53,
    "start_time": "2022-01-30T16:02:00.324Z"
   },
   {
    "duration": 25,
    "start_time": "2022-01-30T16:02:00.380Z"
   },
   {
    "duration": 23,
    "start_time": "2022-01-30T16:02:00.408Z"
   },
   {
    "duration": 45,
    "start_time": "2022-01-30T16:02:00.433Z"
   },
   {
    "duration": 11,
    "start_time": "2022-01-30T16:02:00.481Z"
   },
   {
    "duration": 7,
    "start_time": "2022-01-30T16:02:40.905Z"
   },
   {
    "duration": 13,
    "start_time": "2022-01-30T16:02:51.744Z"
   },
   {
    "duration": 12,
    "start_time": "2022-01-30T16:04:32.561Z"
   },
   {
    "duration": 341,
    "start_time": "2022-01-30T16:06:24.714Z"
   },
   {
    "duration": 7,
    "start_time": "2022-01-30T16:06:29.594Z"
   },
   {
    "duration": 5,
    "start_time": "2022-01-30T16:06:36.483Z"
   },
   {
    "duration": 259,
    "start_time": "2022-01-30T16:06:39.826Z"
   },
   {
    "duration": 5,
    "start_time": "2022-01-30T16:06:54.466Z"
   },
   {
    "duration": 5,
    "start_time": "2022-01-30T16:07:23.908Z"
   },
   {
    "duration": 5,
    "start_time": "2022-01-30T16:07:31.612Z"
   },
   {
    "duration": 5,
    "start_time": "2022-01-30T16:07:39.066Z"
   },
   {
    "duration": 354,
    "start_time": "2022-01-30T16:07:46.114Z"
   },
   {
    "duration": 5,
    "start_time": "2022-01-30T16:08:13.834Z"
   },
   {
    "duration": 5,
    "start_time": "2022-01-30T16:08:20.699Z"
   },
   {
    "duration": 284,
    "start_time": "2022-01-30T16:08:47.283Z"
   },
   {
    "duration": 90,
    "start_time": "2022-01-30T16:09:09.508Z"
   },
   {
    "duration": 8,
    "start_time": "2022-01-30T16:09:15.370Z"
   },
   {
    "duration": 7,
    "start_time": "2022-01-30T16:09:24.181Z"
   },
   {
    "duration": 4,
    "start_time": "2022-01-30T16:12:36.804Z"
   },
   {
    "duration": 6,
    "start_time": "2022-01-30T16:12:43.532Z"
   },
   {
    "duration": 8,
    "start_time": "2022-01-30T16:12:51.635Z"
   },
   {
    "duration": 6,
    "start_time": "2022-01-30T16:13:32.811Z"
   },
   {
    "duration": 5,
    "start_time": "2022-01-30T16:14:07.712Z"
   },
   {
    "duration": 35,
    "start_time": "2022-01-30T16:15:58.765Z"
   },
   {
    "duration": 9,
    "start_time": "2022-01-30T16:16:06.064Z"
   },
   {
    "duration": 14,
    "start_time": "2022-01-30T16:18:02.207Z"
   },
   {
    "duration": 19,
    "start_time": "2022-01-30T16:18:13.454Z"
   },
   {
    "duration": 45,
    "start_time": "2022-01-30T16:20:42.503Z"
   },
   {
    "duration": 286,
    "start_time": "2022-01-30T16:21:11.455Z"
   },
   {
    "duration": 22,
    "start_time": "2022-01-30T16:21:30.815Z"
   },
   {
    "duration": 48,
    "start_time": "2022-01-30T16:23:31.376Z"
   },
   {
    "duration": 881,
    "start_time": "2022-01-30T16:23:41.967Z"
   },
   {
    "duration": 31,
    "start_time": "2022-01-30T16:23:42.851Z"
   },
   {
    "duration": 35,
    "start_time": "2022-01-30T16:23:42.886Z"
   },
   {
    "duration": 61,
    "start_time": "2022-01-30T16:23:42.924Z"
   },
   {
    "duration": 57,
    "start_time": "2022-01-30T16:23:42.988Z"
   },
   {
    "duration": 41,
    "start_time": "2022-01-30T16:23:43.049Z"
   },
   {
    "duration": 24,
    "start_time": "2022-01-30T16:23:43.093Z"
   },
   {
    "duration": 6,
    "start_time": "2022-01-30T16:23:43.123Z"
   },
   {
    "duration": 9,
    "start_time": "2022-01-30T16:23:43.170Z"
   },
   {
    "duration": 9,
    "start_time": "2022-01-30T16:23:43.182Z"
   },
   {
    "duration": 17,
    "start_time": "2022-01-30T16:23:43.194Z"
   },
   {
    "duration": 83,
    "start_time": "2022-01-30T16:23:43.214Z"
   },
   {
    "duration": 12,
    "start_time": "2022-01-30T16:23:43.300Z"
   },
   {
    "duration": 23,
    "start_time": "2022-01-30T16:23:43.315Z"
   },
   {
    "duration": 7,
    "start_time": "2022-01-30T16:23:43.369Z"
   },
   {
    "duration": 8,
    "start_time": "2022-01-30T16:23:43.379Z"
   },
   {
    "duration": 11,
    "start_time": "2022-01-30T16:23:43.390Z"
   },
   {
    "duration": 13,
    "start_time": "2022-01-30T16:23:43.404Z"
   },
   {
    "duration": 56,
    "start_time": "2022-01-30T16:23:43.420Z"
   },
   {
    "duration": 47,
    "start_time": "2022-01-30T16:23:43.479Z"
   },
   {
    "duration": 42,
    "start_time": "2022-01-30T16:23:43.529Z"
   },
   {
    "duration": 14,
    "start_time": "2022-01-30T16:23:43.574Z"
   },
   {
    "duration": 19,
    "start_time": "2022-01-30T16:23:43.594Z"
   },
   {
    "duration": 13,
    "start_time": "2022-01-30T16:23:43.616Z"
   },
   {
    "duration": 67,
    "start_time": "2022-01-30T16:23:43.631Z"
   },
   {
    "duration": 14,
    "start_time": "2022-01-30T16:23:43.701Z"
   },
   {
    "duration": 10,
    "start_time": "2022-01-30T16:23:43.718Z"
   },
   {
    "duration": 18,
    "start_time": "2022-01-30T16:24:48.171Z"
   },
   {
    "duration": 99,
    "start_time": "2022-01-30T16:25:50.589Z"
   },
   {
    "duration": 39,
    "start_time": "2022-01-30T16:26:18.555Z"
   },
   {
    "duration": 65,
    "start_time": "2022-01-30T16:26:21.796Z"
   },
   {
    "duration": 10,
    "start_time": "2022-01-30T16:26:22.307Z"
   },
   {
    "duration": 9,
    "start_time": "2022-01-30T16:26:23.206Z"
   },
   {
    "duration": 21,
    "start_time": "2022-01-30T16:26:28.251Z"
   },
   {
    "duration": 10,
    "start_time": "2022-01-30T16:26:29.051Z"
   },
   {
    "duration": 22,
    "start_time": "2022-01-30T16:26:31.856Z"
   },
   {
    "duration": 16,
    "start_time": "2022-01-30T16:26:32.478Z"
   },
   {
    "duration": 870,
    "start_time": "2022-01-30T16:26:48.845Z"
   },
   {
    "duration": 29,
    "start_time": "2022-01-30T16:26:49.718Z"
   },
   {
    "duration": 60,
    "start_time": "2022-01-30T16:26:49.751Z"
   },
   {
    "duration": 34,
    "start_time": "2022-01-30T16:26:49.815Z"
   },
   {
    "duration": 43,
    "start_time": "2022-01-30T16:26:49.870Z"
   },
   {
    "duration": 16,
    "start_time": "2022-01-30T16:26:49.916Z"
   },
   {
    "duration": 50,
    "start_time": "2022-01-30T16:26:49.934Z"
   },
   {
    "duration": 5,
    "start_time": "2022-01-30T16:26:49.987Z"
   },
   {
    "duration": 8,
    "start_time": "2022-01-30T16:26:49.996Z"
   },
   {
    "duration": 12,
    "start_time": "2022-01-30T16:26:50.007Z"
   },
   {
    "duration": 55,
    "start_time": "2022-01-30T16:26:50.022Z"
   },
   {
    "duration": 43,
    "start_time": "2022-01-30T16:26:50.080Z"
   },
   {
    "duration": 10,
    "start_time": "2022-01-30T16:26:50.125Z"
   },
   {
    "duration": 48,
    "start_time": "2022-01-30T16:26:50.139Z"
   },
   {
    "duration": 7,
    "start_time": "2022-01-30T16:26:50.190Z"
   },
   {
    "duration": 6,
    "start_time": "2022-01-30T16:26:50.200Z"
   },
   {
    "duration": 9,
    "start_time": "2022-01-30T16:26:50.209Z"
   },
   {
    "duration": 58,
    "start_time": "2022-01-30T16:26:50.220Z"
   },
   {
    "duration": 12,
    "start_time": "2022-01-30T16:26:50.281Z"
   },
   {
    "duration": 41,
    "start_time": "2022-01-30T16:26:50.295Z"
   },
   {
    "duration": 37,
    "start_time": "2022-01-30T16:26:50.338Z"
   },
   {
    "duration": 10,
    "start_time": "2022-01-30T16:26:50.377Z"
   },
   {
    "duration": 20,
    "start_time": "2022-01-30T16:26:50.390Z"
   },
   {
    "duration": 11,
    "start_time": "2022-01-30T16:26:50.412Z"
   },
   {
    "duration": 61,
    "start_time": "2022-01-30T16:26:50.426Z"
   },
   {
    "duration": 14,
    "start_time": "2022-01-30T16:26:50.490Z"
   },
   {
    "duration": 8,
    "start_time": "2022-01-30T16:26:50.508Z"
   },
   {
    "duration": 9,
    "start_time": "2022-01-30T16:30:02.752Z"
   },
   {
    "duration": 142,
    "start_time": "2022-01-30T16:30:41.110Z"
   },
   {
    "duration": 276,
    "start_time": "2022-01-31T05:18:49.860Z"
   },
   {
    "duration": 612,
    "start_time": "2022-01-31T05:19:19.913Z"
   },
   {
    "duration": 17,
    "start_time": "2022-01-31T05:19:20.527Z"
   },
   {
    "duration": 20,
    "start_time": "2022-01-31T05:19:20.547Z"
   },
   {
    "duration": 17,
    "start_time": "2022-01-31T05:19:20.569Z"
   },
   {
    "duration": 25,
    "start_time": "2022-01-31T05:19:20.588Z"
   },
   {
    "duration": 12,
    "start_time": "2022-01-31T05:19:20.614Z"
   },
   {
    "duration": 40,
    "start_time": "2022-01-31T05:19:20.628Z"
   },
   {
    "duration": 3,
    "start_time": "2022-01-31T05:19:20.670Z"
   },
   {
    "duration": 19,
    "start_time": "2022-01-31T05:19:20.676Z"
   },
   {
    "duration": 10,
    "start_time": "2022-01-31T05:19:20.697Z"
   },
   {
    "duration": 23,
    "start_time": "2022-01-31T05:19:20.708Z"
   },
   {
    "duration": 33,
    "start_time": "2022-01-31T05:19:20.732Z"
   },
   {
    "duration": 6,
    "start_time": "2022-01-31T05:19:20.766Z"
   },
   {
    "duration": 23,
    "start_time": "2022-01-31T05:19:20.774Z"
   },
   {
    "duration": 5,
    "start_time": "2022-01-31T05:19:20.799Z"
   },
   {
    "duration": 10,
    "start_time": "2022-01-31T05:19:20.805Z"
   },
   {
    "duration": 10,
    "start_time": "2022-01-31T05:19:20.816Z"
   },
   {
    "duration": 7,
    "start_time": "2022-01-31T05:19:20.828Z"
   },
   {
    "duration": 28,
    "start_time": "2022-01-31T05:19:20.837Z"
   },
   {
    "duration": 32,
    "start_time": "2022-01-31T05:19:20.867Z"
   },
   {
    "duration": 6,
    "start_time": "2022-01-31T05:19:20.900Z"
   },
   {
    "duration": 12,
    "start_time": "2022-01-31T05:19:20.907Z"
   },
   {
    "duration": 12,
    "start_time": "2022-01-31T05:19:20.921Z"
   },
   {
    "duration": 27,
    "start_time": "2022-01-31T05:19:20.934Z"
   },
   {
    "duration": 14,
    "start_time": "2022-01-31T05:19:20.963Z"
   },
   {
    "duration": 276,
    "start_time": "2022-01-31T05:19:20.979Z"
   },
   {
    "duration": 178680,
    "start_time": "2022-01-31T05:16:22.577Z"
   },
   {
    "duration": 22,
    "start_time": "2022-01-31T05:19:55.823Z"
   },
   {
    "duration": 16,
    "start_time": "2022-01-31T05:21:23.526Z"
   },
   {
    "duration": 17,
    "start_time": "2022-01-31T05:21:28.550Z"
   },
   {
    "duration": 17,
    "start_time": "2022-01-31T05:21:40.222Z"
   },
   {
    "duration": 17,
    "start_time": "2022-01-31T05:22:03.670Z"
   },
   {
    "duration": 31,
    "start_time": "2022-01-31T05:39:19.668Z"
   },
   {
    "duration": 286,
    "start_time": "2022-01-31T05:39:40.626Z"
   },
   {
    "duration": 280,
    "start_time": "2022-01-31T05:39:51.627Z"
   },
   {
    "duration": 295,
    "start_time": "2022-01-31T05:40:09.868Z"
   },
   {
    "duration": 33,
    "start_time": "2022-01-31T05:40:35.272Z"
   },
   {
    "duration": 32,
    "start_time": "2022-01-31T05:41:11.923Z"
   },
   {
    "duration": 39,
    "start_time": "2022-01-31T05:42:08.516Z"
   },
   {
    "duration": 34,
    "start_time": "2022-01-31T05:42:36.203Z"
   },
   {
    "duration": 34,
    "start_time": "2022-01-31T05:42:52.419Z"
   },
   {
    "duration": 34,
    "start_time": "2022-01-31T05:48:18.339Z"
   },
   {
    "duration": 31,
    "start_time": "2022-01-31T05:52:01.441Z"
   },
   {
    "duration": 29,
    "start_time": "2022-01-31T05:52:40.640Z"
   },
   {
    "duration": 28,
    "start_time": "2022-01-31T05:53:38.800Z"
   },
   {
    "duration": 29,
    "start_time": "2022-01-31T05:54:05.440Z"
   },
   {
    "duration": 28,
    "start_time": "2022-01-31T05:54:27.063Z"
   },
   {
    "duration": 33,
    "start_time": "2022-01-31T06:01:05.373Z"
   },
   {
    "duration": 78,
    "start_time": "2022-01-31T06:12:08.204Z"
   },
   {
    "duration": 282,
    "start_time": "2022-01-31T06:13:10.005Z"
   },
   {
    "duration": 650,
    "start_time": "2022-01-31T06:14:53.355Z"
   },
   {
    "duration": 85,
    "start_time": "2022-01-31T06:45:36.156Z"
   },
   {
    "duration": 84,
    "start_time": "2022-01-31T06:45:46.476Z"
   },
   {
    "duration": 3243,
    "start_time": "2022-01-31T06:45:59.499Z"
   },
   {
    "duration": 1177,
    "start_time": "2022-01-31T10:19:31.711Z"
   },
   {
    "duration": 1296,
    "start_time": "2022-01-31T10:20:17.415Z"
   },
   {
    "duration": 4287,
    "start_time": "2022-01-31T10:20:31.599Z"
   },
   {
    "duration": 4099,
    "start_time": "2022-01-31T10:20:45.511Z"
   },
   {
    "duration": 7,
    "start_time": "2022-01-31T10:27:51.710Z"
   },
   {
    "duration": 1785,
    "start_time": "2022-01-31T10:28:00.941Z"
   },
   {
    "duration": 248,
    "start_time": "2022-01-31T10:28:09.693Z"
   },
   {
    "duration": 1819,
    "start_time": "2022-01-31T10:28:32.949Z"
   },
   {
    "duration": 5,
    "start_time": "2022-01-31T10:29:16.301Z"
   },
   {
    "duration": 643,
    "start_time": "2022-01-31T10:29:22.174Z"
   },
   {
    "duration": 5,
    "start_time": "2022-01-31T10:29:36.044Z"
   },
   {
    "duration": 265,
    "start_time": "2022-01-31T10:31:06.797Z"
   },
   {
    "duration": 292,
    "start_time": "2022-01-31T10:31:16.461Z"
   },
   {
    "duration": 244,
    "start_time": "2022-01-31T10:31:46.597Z"
   },
   {
    "duration": 3,
    "start_time": "2022-01-31T10:32:11.309Z"
   },
   {
    "duration": 293,
    "start_time": "2022-01-31T10:32:20.012Z"
   },
   {
    "duration": 4,
    "start_time": "2022-01-31T10:32:25.717Z"
   },
   {
    "duration": 79,
    "start_time": "2022-01-31T10:51:02.777Z"
   },
   {
    "duration": 864,
    "start_time": "2022-01-31T10:51:08.370Z"
   },
   {
    "duration": 295,
    "start_time": "2022-01-31T10:52:48.393Z"
   },
   {
    "duration": 530,
    "start_time": "2022-01-31T10:53:15.976Z"
   },
   {
    "duration": 572,
    "start_time": "2022-01-31T10:55:46.711Z"
   },
   {
    "duration": 25,
    "start_time": "2022-01-31T10:55:53.454Z"
   },
   {
    "duration": 2243,
    "start_time": "2022-01-31T10:56:40.074Z"
   },
   {
    "duration": 251,
    "start_time": "2022-01-31T10:56:45.839Z"
   },
   {
    "duration": 1805,
    "start_time": "2022-01-31T10:56:51.327Z"
   },
   {
    "duration": 262,
    "start_time": "2022-01-31T11:01:58.278Z"
   },
   {
    "duration": 340,
    "start_time": "2022-01-31T11:02:50.574Z"
   },
   {
    "duration": 61,
    "start_time": "2022-01-31T11:03:09.357Z"
   },
   {
    "duration": 255,
    "start_time": "2022-01-31T11:04:09.621Z"
   },
   {
    "duration": 86,
    "start_time": "2022-01-31T11:04:23.453Z"
   },
   {
    "duration": 247,
    "start_time": "2022-01-31T11:04:28.886Z"
   },
   {
    "duration": 255,
    "start_time": "2022-01-31T11:04:40.388Z"
   },
   {
    "duration": 2096,
    "start_time": "2022-01-31T11:05:26.526Z"
   },
   {
    "duration": 1916,
    "start_time": "2022-01-31T11:05:47.990Z"
   },
   {
    "duration": 250,
    "start_time": "2022-01-31T11:07:50.069Z"
   },
   {
    "duration": 7,
    "start_time": "2022-01-31T11:07:53.860Z"
   },
   {
    "duration": 1719,
    "start_time": "2022-01-31T11:08:01.852Z"
   },
   {
    "duration": 239,
    "start_time": "2022-01-31T11:08:10.132Z"
   },
   {
    "duration": 242,
    "start_time": "2022-01-31T11:09:09.524Z"
   },
   {
    "duration": 44,
    "start_time": "2022-01-31T11:09:13.669Z"
   },
   {
    "duration": 1071,
    "start_time": "2022-01-31T11:10:31.419Z"
   },
   {
    "duration": 1113,
    "start_time": "2022-01-31T11:10:34.283Z"
   },
   {
    "duration": 16,
    "start_time": "2022-01-31T11:10:35.398Z"
   },
   {
    "duration": 26,
    "start_time": "2022-01-31T11:10:37.260Z"
   },
   {
    "duration": 1604,
    "start_time": "2022-01-31T11:11:28.227Z"
   },
   {
    "duration": 1680,
    "start_time": "2022-01-31T11:11:34.140Z"
   },
   {
    "duration": 13,
    "start_time": "2022-01-31T11:11:35.822Z"
   },
   {
    "duration": 38,
    "start_time": "2022-01-31T11:11:35.837Z"
   },
   {
    "duration": 44,
    "start_time": "2022-01-31T12:00:02.115Z"
   },
   {
    "duration": 691,
    "start_time": "2022-01-31T12:17:48.953Z"
   },
   {
    "duration": 19,
    "start_time": "2022-01-31T12:17:49.646Z"
   },
   {
    "duration": 23,
    "start_time": "2022-01-31T12:17:49.667Z"
   },
   {
    "duration": 18,
    "start_time": "2022-01-31T12:17:49.692Z"
   },
   {
    "duration": 54,
    "start_time": "2022-01-31T12:17:49.712Z"
   },
   {
    "duration": 11,
    "start_time": "2022-01-31T12:17:49.768Z"
   },
   {
    "duration": 10,
    "start_time": "2022-01-31T12:17:49.781Z"
   },
   {
    "duration": 3,
    "start_time": "2022-01-31T12:17:49.793Z"
   },
   {
    "duration": 6,
    "start_time": "2022-01-31T12:17:49.798Z"
   },
   {
    "duration": 11,
    "start_time": "2022-01-31T12:17:49.805Z"
   },
   {
    "duration": 43,
    "start_time": "2022-01-31T12:17:49.818Z"
   },
   {
    "duration": 29,
    "start_time": "2022-01-31T12:17:49.863Z"
   },
   {
    "duration": 6,
    "start_time": "2022-01-31T12:17:49.894Z"
   },
   {
    "duration": 14,
    "start_time": "2022-01-31T12:17:49.902Z"
   },
   {
    "duration": 4,
    "start_time": "2022-01-31T12:17:49.917Z"
   },
   {
    "duration": 42,
    "start_time": "2022-01-31T12:17:49.923Z"
   },
   {
    "duration": 8,
    "start_time": "2022-01-31T12:17:49.967Z"
   },
   {
    "duration": 7,
    "start_time": "2022-01-31T12:17:49.977Z"
   },
   {
    "duration": 7,
    "start_time": "2022-01-31T12:17:49.985Z"
   },
   {
    "duration": 70,
    "start_time": "2022-01-31T12:17:49.994Z"
   },
   {
    "duration": 7,
    "start_time": "2022-01-31T12:17:50.065Z"
   },
   {
    "duration": 9,
    "start_time": "2022-01-31T12:17:50.073Z"
   },
   {
    "duration": 12,
    "start_time": "2022-01-31T12:17:50.085Z"
   },
   {
    "duration": 11,
    "start_time": "2022-01-31T12:17:50.099Z"
   },
   {
    "duration": 56,
    "start_time": "2022-01-31T12:17:50.112Z"
   },
   {
    "duration": 20,
    "start_time": "2022-01-31T12:17:50.170Z"
   },
   {
    "duration": 33,
    "start_time": "2022-01-31T12:17:50.192Z"
   },
   {
    "duration": 63,
    "start_time": "2022-01-31T12:17:50.227Z"
   },
   {
    "duration": 3658,
    "start_time": "2022-01-31T12:17:50.292Z"
   },
   {
    "duration": 1707,
    "start_time": "2022-01-31T12:17:53.961Z"
   },
   {
    "duration": 17,
    "start_time": "2022-01-31T12:17:55.671Z"
   },
   {
    "duration": 33,
    "start_time": "2022-01-31T12:17:55.690Z"
   },
   {
    "duration": 73,
    "start_time": "2022-01-31T12:17:55.725Z"
   },
   {
    "duration": 11,
    "start_time": "2022-01-31T12:17:55.800Z"
   },
   {
    "duration": 3,
    "start_time": "2022-01-31T12:19:51.301Z"
   },
   {
    "duration": 3,
    "start_time": "2022-01-31T12:19:55.452Z"
   },
   {
    "duration": 15,
    "start_time": "2022-01-31T12:19:57.645Z"
   },
   {
    "duration": 24,
    "start_time": "2022-01-31T12:19:58.405Z"
   },
   {
    "duration": 4,
    "start_time": "2022-01-31T12:20:07.189Z"
   },
   {
    "duration": 15,
    "start_time": "2022-01-31T12:20:07.676Z"
   },
   {
    "duration": 25,
    "start_time": "2022-01-31T12:20:08.436Z"
   },
   {
    "duration": 1677,
    "start_time": "2022-01-31T12:20:14.452Z"
   },
   {
    "duration": 4,
    "start_time": "2022-01-31T12:20:16.212Z"
   },
   {
    "duration": 14,
    "start_time": "2022-01-31T12:20:19.141Z"
   },
   {
    "duration": 26,
    "start_time": "2022-01-31T12:20:19.676Z"
   },
   {
    "duration": 1785,
    "start_time": "2022-01-31T12:20:24.188Z"
   },
   {
    "duration": 3,
    "start_time": "2022-01-31T12:20:25.976Z"
   },
   {
    "duration": 30,
    "start_time": "2022-01-31T12:20:25.982Z"
   },
   {
    "duration": 27,
    "start_time": "2022-01-31T12:20:27.069Z"
   },
   {
    "duration": 414,
    "start_time": "2022-01-31T13:23:30.035Z"
   },
   {
    "duration": 729,
    "start_time": "2022-01-31T13:23:34.186Z"
   },
   {
    "duration": 17,
    "start_time": "2022-01-31T13:23:34.917Z"
   },
   {
    "duration": 21,
    "start_time": "2022-01-31T13:23:34.936Z"
   },
   {
    "duration": 27,
    "start_time": "2022-01-31T13:23:35.057Z"
   },
   {
    "duration": 29,
    "start_time": "2022-01-31T13:23:35.826Z"
   },
   {
    "duration": 11,
    "start_time": "2022-01-31T13:23:36.521Z"
   },
   {
    "duration": 16,
    "start_time": "2022-01-31T13:23:36.713Z"
   },
   {
    "duration": 4,
    "start_time": "2022-01-31T13:23:38.354Z"
   },
   {
    "duration": 5,
    "start_time": "2022-01-31T13:23:38.545Z"
   },
   {
    "duration": 7,
    "start_time": "2022-01-31T13:23:38.746Z"
   },
   {
    "duration": 9,
    "start_time": "2022-01-31T13:23:40.129Z"
   },
   {
    "duration": 44,
    "start_time": "2022-01-31T13:23:40.538Z"
   },
   {
    "duration": 7,
    "start_time": "2022-01-31T13:23:41.666Z"
   },
   {
    "duration": 14,
    "start_time": "2022-01-31T13:23:42.354Z"
   },
   {
    "duration": 5,
    "start_time": "2022-01-31T13:23:42.851Z"
   },
   {
    "duration": 5,
    "start_time": "2022-01-31T13:23:44.626Z"
   },
   {
    "duration": 10,
    "start_time": "2022-01-31T13:23:46.657Z"
   },
   {
    "duration": 10,
    "start_time": "2022-01-31T13:23:47.729Z"
   },
   {
    "duration": 8,
    "start_time": "2022-01-31T13:23:51.329Z"
   },
   {
    "duration": 31,
    "start_time": "2022-01-31T13:23:51.665Z"
   },
   {
    "duration": 9,
    "start_time": "2022-01-31T13:23:52.794Z"
   },
   {
    "duration": 11,
    "start_time": "2022-01-31T13:23:54.066Z"
   },
   {
    "duration": 14,
    "start_time": "2022-01-31T13:23:57.321Z"
   },
   {
    "duration": 13,
    "start_time": "2022-01-31T13:23:57.658Z"
   },
   {
    "duration": 16,
    "start_time": "2022-01-31T13:23:58.976Z"
   },
   {
    "duration": 24,
    "start_time": "2022-01-31T13:24:03.001Z"
   },
   {
    "duration": 43,
    "start_time": "2022-01-31T13:24:03.338Z"
   },
   {
    "duration": 37,
    "start_time": "2022-01-31T13:24:04.562Z"
   },
   {
    "duration": 3875,
    "start_time": "2022-01-31T13:24:10.890Z"
   },
   {
    "duration": 1718,
    "start_time": "2022-01-31T13:24:14.767Z"
   },
   {
    "duration": 56,
    "start_time": "2022-01-31T13:24:21.218Z"
   },
   {
    "duration": 1581,
    "start_time": "2022-01-31T13:24:26.489Z"
   },
   {
    "duration": 44,
    "start_time": "2022-01-31T13:24:29.250Z"
   },
   {
    "duration": 1669,
    "start_time": "2022-01-31T13:24:41.042Z"
   },
   {
    "duration": 43,
    "start_time": "2022-01-31T13:24:43.458Z"
   },
   {
    "duration": 1599,
    "start_time": "2022-01-31T13:24:52.338Z"
   },
   {
    "duration": 40,
    "start_time": "2022-01-31T13:24:54.946Z"
   },
   {
    "duration": 1742,
    "start_time": "2022-01-31T13:25:00.402Z"
   },
   {
    "duration": 44,
    "start_time": "2022-01-31T13:25:02.931Z"
   },
   {
    "duration": 1564,
    "start_time": "2022-01-31T13:25:10.778Z"
   },
   {
    "duration": 43,
    "start_time": "2022-01-31T13:25:13.281Z"
   },
   {
    "duration": 1583,
    "start_time": "2022-01-31T13:25:18.322Z"
   },
   {
    "duration": 44,
    "start_time": "2022-01-31T13:25:20.746Z"
   },
   {
    "duration": 1594,
    "start_time": "2022-01-31T13:25:26.969Z"
   },
   {
    "duration": 42,
    "start_time": "2022-01-31T13:25:29.003Z"
   },
   {
    "duration": 1699,
    "start_time": "2022-01-31T13:25:34.130Z"
   },
   {
    "duration": 48,
    "start_time": "2022-01-31T13:25:36.714Z"
   },
   {
    "duration": 26,
    "start_time": "2022-01-31T13:32:55.337Z"
   },
   {
    "duration": 1617,
    "start_time": "2022-01-31T13:33:00.841Z"
   },
   {
    "duration": 25,
    "start_time": "2022-01-31T13:33:02.825Z"
   },
   {
    "duration": 1504,
    "start_time": "2022-01-31T13:39:12.055Z"
   },
   {
    "duration": 1524,
    "start_time": "2022-01-31T13:39:15.119Z"
   },
   {
    "duration": 1575,
    "start_time": "2022-01-31T13:40:03.206Z"
   },
   {
    "duration": 651,
    "start_time": "2022-01-31T13:40:31.241Z"
   },
   {
    "duration": 17,
    "start_time": "2022-01-31T13:40:31.894Z"
   },
   {
    "duration": 29,
    "start_time": "2022-01-31T13:40:31.913Z"
   },
   {
    "duration": 19,
    "start_time": "2022-01-31T13:40:31.945Z"
   },
   {
    "duration": 29,
    "start_time": "2022-01-31T13:40:31.965Z"
   },
   {
    "duration": 34,
    "start_time": "2022-01-31T13:40:31.995Z"
   },
   {
    "duration": 12,
    "start_time": "2022-01-31T13:40:32.031Z"
   },
   {
    "duration": 4,
    "start_time": "2022-01-31T13:40:32.044Z"
   },
   {
    "duration": 14,
    "start_time": "2022-01-31T13:40:32.050Z"
   },
   {
    "duration": 16,
    "start_time": "2022-01-31T13:40:32.066Z"
   },
   {
    "duration": 39,
    "start_time": "2022-01-31T13:40:32.084Z"
   },
   {
    "duration": 31,
    "start_time": "2022-01-31T13:40:32.124Z"
   },
   {
    "duration": 6,
    "start_time": "2022-01-31T13:40:32.156Z"
   },
   {
    "duration": 40,
    "start_time": "2022-01-31T13:40:32.164Z"
   },
   {
    "duration": 27,
    "start_time": "2022-01-31T13:40:32.206Z"
   },
   {
    "duration": 11,
    "start_time": "2022-01-31T13:40:32.234Z"
   },
   {
    "duration": 26,
    "start_time": "2022-01-31T13:40:32.247Z"
   },
   {
    "duration": 14,
    "start_time": "2022-01-31T13:40:32.275Z"
   },
   {
    "duration": 17,
    "start_time": "2022-01-31T13:40:32.291Z"
   },
   {
    "duration": 32,
    "start_time": "2022-01-31T13:40:32.310Z"
   },
   {
    "duration": 8,
    "start_time": "2022-01-31T13:40:32.344Z"
   },
   {
    "duration": 13,
    "start_time": "2022-01-31T13:40:32.354Z"
   },
   {
    "duration": 26,
    "start_time": "2022-01-31T13:40:32.369Z"
   },
   {
    "duration": 57,
    "start_time": "2022-01-31T13:40:32.397Z"
   },
   {
    "duration": 15,
    "start_time": "2022-01-31T13:40:32.456Z"
   },
   {
    "duration": 24,
    "start_time": "2022-01-31T13:40:32.474Z"
   },
   {
    "duration": 38,
    "start_time": "2022-01-31T13:40:32.502Z"
   },
   {
    "duration": 37,
    "start_time": "2022-01-31T13:40:32.542Z"
   },
   {
    "duration": 3737,
    "start_time": "2022-01-31T13:40:32.581Z"
   },
   {
    "duration": 4,
    "start_time": "2022-01-31T13:40:36.320Z"
   },
   {
    "duration": 2063,
    "start_time": "2022-01-31T13:40:36.326Z"
   },
   {
    "duration": 2,
    "start_time": "2022-01-31T13:40:38.391Z"
   },
   {
    "duration": 30,
    "start_time": "2022-01-31T13:40:38.395Z"
   },
   {
    "duration": 29,
    "start_time": "2022-01-31T13:40:38.427Z"
   },
   {
    "duration": 68,
    "start_time": "2022-01-31T13:40:38.458Z"
   },
   {
    "duration": 15,
    "start_time": "2022-01-31T13:40:38.528Z"
   },
   {
    "duration": 1639,
    "start_time": "2022-01-31T13:41:08.403Z"
   },
   {
    "duration": 26,
    "start_time": "2022-01-31T13:41:11.204Z"
   },
   {
    "duration": 1604,
    "start_time": "2022-01-31T13:41:14.605Z"
   },
   {
    "duration": 25,
    "start_time": "2022-01-31T13:41:16.356Z"
   },
   {
    "duration": 1576,
    "start_time": "2022-01-31T13:41:20.203Z"
   },
   {
    "duration": 25,
    "start_time": "2022-01-31T13:41:27.627Z"
   },
   {
    "duration": 1478,
    "start_time": "2022-01-31T13:41:35.387Z"
   },
   {
    "duration": 29,
    "start_time": "2022-01-31T13:41:37.580Z"
   },
   {
    "duration": 1524,
    "start_time": "2022-01-31T13:41:42.923Z"
   },
   {
    "duration": 28,
    "start_time": "2022-01-31T13:41:45.083Z"
   },
   {
    "duration": 1486,
    "start_time": "2022-01-31T13:41:53.084Z"
   },
   {
    "duration": 25,
    "start_time": "2022-01-31T13:41:54.836Z"
   },
   {
    "duration": 27,
    "start_time": "2022-01-31T13:42:17.948Z"
   },
   {
    "duration": 1490,
    "start_time": "2022-01-31T13:42:21.587Z"
   },
   {
    "duration": 25,
    "start_time": "2022-01-31T13:42:23.731Z"
   },
   {
    "duration": 1426,
    "start_time": "2022-01-31T13:43:09.914Z"
   },
   {
    "duration": 668,
    "start_time": "2022-01-31T13:43:37.242Z"
   },
   {
    "duration": 18,
    "start_time": "2022-01-31T13:43:37.913Z"
   },
   {
    "duration": 22,
    "start_time": "2022-01-31T13:43:37.933Z"
   },
   {
    "duration": 19,
    "start_time": "2022-01-31T13:43:37.957Z"
   },
   {
    "duration": 58,
    "start_time": "2022-01-31T13:43:37.978Z"
   },
   {
    "duration": 12,
    "start_time": "2022-01-31T13:43:38.038Z"
   },
   {
    "duration": 12,
    "start_time": "2022-01-31T13:43:38.051Z"
   },
   {
    "duration": 3,
    "start_time": "2022-01-31T13:43:38.066Z"
   },
   {
    "duration": 8,
    "start_time": "2022-01-31T13:43:38.071Z"
   },
   {
    "duration": 8,
    "start_time": "2022-01-31T13:43:38.119Z"
   },
   {
    "duration": 11,
    "start_time": "2022-01-31T13:43:38.129Z"
   },
   {
    "duration": 26,
    "start_time": "2022-01-31T13:43:38.142Z"
   },
   {
    "duration": 6,
    "start_time": "2022-01-31T13:43:38.170Z"
   },
   {
    "duration": 49,
    "start_time": "2022-01-31T13:43:38.178Z"
   },
   {
    "duration": 6,
    "start_time": "2022-01-31T13:43:38.229Z"
   },
   {
    "duration": 9,
    "start_time": "2022-01-31T13:43:38.237Z"
   },
   {
    "duration": 8,
    "start_time": "2022-01-31T13:43:38.247Z"
   },
   {
    "duration": 8,
    "start_time": "2022-01-31T13:43:38.257Z"
   },
   {
    "duration": 7,
    "start_time": "2022-01-31T13:43:38.267Z"
   },
   {
    "duration": 28,
    "start_time": "2022-01-31T13:43:38.319Z"
   },
   {
    "duration": 8,
    "start_time": "2022-01-31T13:43:38.349Z"
   },
   {
    "duration": 8,
    "start_time": "2022-01-31T13:43:38.359Z"
   },
   {
    "duration": 50,
    "start_time": "2022-01-31T13:43:38.372Z"
   },
   {
    "duration": 16,
    "start_time": "2022-01-31T13:43:38.425Z"
   },
   {
    "duration": 13,
    "start_time": "2022-01-31T13:43:38.443Z"
   },
   {
    "duration": 21,
    "start_time": "2022-01-31T13:43:38.458Z"
   },
   {
    "duration": 59,
    "start_time": "2022-01-31T13:43:38.480Z"
   },
   {
    "duration": 34,
    "start_time": "2022-01-31T13:43:38.540Z"
   },
   {
    "duration": 3599,
    "start_time": "2022-01-31T13:43:38.575Z"
   },
   {
    "duration": 5,
    "start_time": "2022-01-31T13:43:42.176Z"
   },
   {
    "duration": 5,
    "start_time": "2022-01-31T13:43:42.183Z"
   },
   {
    "duration": 2038,
    "start_time": "2022-01-31T13:43:42.190Z"
   },
   {
    "duration": 2,
    "start_time": "2022-01-31T13:43:44.230Z"
   },
   {
    "duration": 19,
    "start_time": "2022-01-31T13:43:44.234Z"
   },
   {
    "duration": 35,
    "start_time": "2022-01-31T13:43:44.255Z"
   },
   {
    "duration": 77,
    "start_time": "2022-01-31T13:43:44.292Z"
   },
   {
    "duration": 12,
    "start_time": "2022-01-31T13:43:44.371Z"
   },
   {
    "duration": 1608,
    "start_time": "2022-01-31T13:44:08.675Z"
   },
   {
    "duration": 27,
    "start_time": "2022-01-31T13:44:11.290Z"
   },
   {
    "duration": 1504,
    "start_time": "2022-01-31T13:44:24.618Z"
   },
   {
    "duration": 25,
    "start_time": "2022-01-31T13:44:27.330Z"
   },
   {
    "duration": 42,
    "start_time": "2022-01-31T13:44:34.923Z"
   },
   {
    "duration": 607,
    "start_time": "2022-01-31T13:45:42.372Z"
   },
   {
    "duration": 20,
    "start_time": "2022-01-31T13:45:42.981Z"
   },
   {
    "duration": 34,
    "start_time": "2022-01-31T13:45:43.004Z"
   },
   {
    "duration": 31,
    "start_time": "2022-01-31T13:45:43.040Z"
   },
   {
    "duration": 38,
    "start_time": "2022-01-31T13:45:43.073Z"
   },
   {
    "duration": 15,
    "start_time": "2022-01-31T13:45:43.113Z"
   },
   {
    "duration": 26,
    "start_time": "2022-01-31T13:45:43.131Z"
   },
   {
    "duration": 10,
    "start_time": "2022-01-31T13:45:43.159Z"
   },
   {
    "duration": 29,
    "start_time": "2022-01-31T13:45:43.171Z"
   },
   {
    "duration": 17,
    "start_time": "2022-01-31T13:45:43.202Z"
   },
   {
    "duration": 14,
    "start_time": "2022-01-31T13:45:43.221Z"
   },
   {
    "duration": 42,
    "start_time": "2022-01-31T13:45:43.237Z"
   },
   {
    "duration": 5,
    "start_time": "2022-01-31T13:45:43.281Z"
   },
   {
    "duration": 48,
    "start_time": "2022-01-31T13:45:43.288Z"
   },
   {
    "duration": 9,
    "start_time": "2022-01-31T13:45:43.338Z"
   },
   {
    "duration": 22,
    "start_time": "2022-01-31T13:45:43.349Z"
   },
   {
    "duration": 17,
    "start_time": "2022-01-31T13:45:43.372Z"
   },
   {
    "duration": 23,
    "start_time": "2022-01-31T13:45:43.391Z"
   },
   {
    "duration": 9,
    "start_time": "2022-01-31T13:45:43.416Z"
   },
   {
    "duration": 25,
    "start_time": "2022-01-31T13:45:43.427Z"
   },
   {
    "duration": 7,
    "start_time": "2022-01-31T13:45:43.454Z"
   },
   {
    "duration": 13,
    "start_time": "2022-01-31T13:45:43.462Z"
   },
   {
    "duration": 30,
    "start_time": "2022-01-31T13:45:43.477Z"
   },
   {
    "duration": 7,
    "start_time": "2022-01-31T13:45:43.518Z"
   },
   {
    "duration": 13,
    "start_time": "2022-01-31T13:45:43.527Z"
   },
   {
    "duration": 23,
    "start_time": "2022-01-31T13:45:43.542Z"
   },
   {
    "duration": 68,
    "start_time": "2022-01-31T13:45:43.569Z"
   },
   {
    "duration": 35,
    "start_time": "2022-01-31T13:45:43.639Z"
   },
   {
    "duration": 3744,
    "start_time": "2022-01-31T13:45:43.676Z"
   },
   {
    "duration": 4,
    "start_time": "2022-01-31T13:45:47.421Z"
   },
   {
    "duration": 5,
    "start_time": "2022-01-31T13:45:47.427Z"
   },
   {
    "duration": 2112,
    "start_time": "2022-01-31T13:45:47.434Z"
   },
   {
    "duration": 1717,
    "start_time": "2022-01-31T13:45:49.548Z"
   },
   {
    "duration": 2,
    "start_time": "2022-01-31T13:45:51.267Z"
   },
   {
    "duration": 16,
    "start_time": "2022-01-31T13:45:51.270Z"
   },
   {
    "duration": 41,
    "start_time": "2022-01-31T13:45:51.288Z"
   },
   {
    "duration": 6,
    "start_time": "2022-01-31T13:45:51.330Z"
   },
   {
    "duration": 13,
    "start_time": "2022-01-31T13:45:51.337Z"
   },
   {
    "duration": 1578,
    "start_time": "2022-01-31T13:46:04.902Z"
   },
   {
    "duration": 25,
    "start_time": "2022-01-31T13:46:07.911Z"
   },
   {
    "duration": 1550,
    "start_time": "2022-01-31T13:46:14.198Z"
   },
   {
    "duration": 25,
    "start_time": "2022-01-31T13:46:16.128Z"
   },
   {
    "duration": 1612,
    "start_time": "2022-01-31T13:47:19.694Z"
   },
   {
    "duration": 638,
    "start_time": "2022-01-31T13:47:27.453Z"
   },
   {
    "duration": 20,
    "start_time": "2022-01-31T13:47:28.093Z"
   },
   {
    "duration": 24,
    "start_time": "2022-01-31T13:47:28.115Z"
   },
   {
    "duration": 18,
    "start_time": "2022-01-31T13:47:28.141Z"
   },
   {
    "duration": 26,
    "start_time": "2022-01-31T13:47:28.160Z"
   },
   {
    "duration": 40,
    "start_time": "2022-01-31T13:47:28.187Z"
   },
   {
    "duration": 11,
    "start_time": "2022-01-31T13:47:28.228Z"
   },
   {
    "duration": 3,
    "start_time": "2022-01-31T13:47:28.241Z"
   },
   {
    "duration": 10,
    "start_time": "2022-01-31T13:47:28.247Z"
   },
   {
    "duration": 8,
    "start_time": "2022-01-31T13:47:28.259Z"
   },
   {
    "duration": 9,
    "start_time": "2022-01-31T13:47:28.268Z"
   },
   {
    "duration": 27,
    "start_time": "2022-01-31T13:47:28.319Z"
   },
   {
    "duration": 6,
    "start_time": "2022-01-31T13:47:28.348Z"
   },
   {
    "duration": 16,
    "start_time": "2022-01-31T13:47:28.355Z"
   },
   {
    "duration": 7,
    "start_time": "2022-01-31T13:47:28.373Z"
   },
   {
    "duration": 36,
    "start_time": "2022-01-31T13:47:28.382Z"
   },
   {
    "duration": 7,
    "start_time": "2022-01-31T13:47:28.420Z"
   },
   {
    "duration": 11,
    "start_time": "2022-01-31T13:47:28.428Z"
   },
   {
    "duration": 8,
    "start_time": "2022-01-31T13:47:28.440Z"
   },
   {
    "duration": 26,
    "start_time": "2022-01-31T13:47:28.450Z"
   },
   {
    "duration": 6,
    "start_time": "2022-01-31T13:47:28.478Z"
   },
   {
    "duration": 45,
    "start_time": "2022-01-31T13:47:28.485Z"
   },
   {
    "duration": 112,
    "start_time": "2022-01-31T13:47:28.532Z"
   },
   {
    "duration": 60,
    "start_time": "2022-01-31T13:47:28.647Z"
   },
   {
    "duration": 117,
    "start_time": "2022-01-31T13:47:28.710Z"
   },
   {
    "duration": 84,
    "start_time": "2022-01-31T13:47:28.829Z"
   },
   {
    "duration": 51,
    "start_time": "2022-01-31T13:47:28.918Z"
   },
   {
    "duration": 101,
    "start_time": "2022-01-31T13:47:28.973Z"
   },
   {
    "duration": 3774,
    "start_time": "2022-01-31T13:47:29.076Z"
   },
   {
    "duration": 5,
    "start_time": "2022-01-31T13:47:32.852Z"
   },
   {
    "duration": 6,
    "start_time": "2022-01-31T13:47:32.859Z"
   },
   {
    "duration": 9,
    "start_time": "2022-01-31T13:47:32.867Z"
   },
   {
    "duration": 2881,
    "start_time": "2022-01-31T13:47:32.878Z"
   },
   {
    "duration": 2,
    "start_time": "2022-01-31T13:47:35.761Z"
   },
   {
    "duration": 16,
    "start_time": "2022-01-31T13:47:35.765Z"
   },
   {
    "duration": 44,
    "start_time": "2022-01-31T13:47:35.783Z"
   },
   {
    "duration": 8,
    "start_time": "2022-01-31T13:47:35.828Z"
   },
   {
    "duration": 20,
    "start_time": "2022-01-31T13:47:35.838Z"
   },
   {
    "duration": 675,
    "start_time": "2022-01-31T14:17:29.047Z"
   },
   {
    "duration": 17,
    "start_time": "2022-01-31T14:17:29.724Z"
   },
   {
    "duration": 25,
    "start_time": "2022-01-31T14:17:29.744Z"
   },
   {
    "duration": 20,
    "start_time": "2022-01-31T14:17:29.771Z"
   },
   {
    "duration": 48,
    "start_time": "2022-01-31T14:17:29.792Z"
   },
   {
    "duration": 11,
    "start_time": "2022-01-31T14:17:29.842Z"
   },
   {
    "duration": 12,
    "start_time": "2022-01-31T14:17:29.855Z"
   },
   {
    "duration": 3,
    "start_time": "2022-01-31T14:17:29.870Z"
   },
   {
    "duration": 47,
    "start_time": "2022-01-31T14:17:29.875Z"
   },
   {
    "duration": 7,
    "start_time": "2022-01-31T14:17:29.923Z"
   },
   {
    "duration": 15,
    "start_time": "2022-01-31T14:17:29.931Z"
   },
   {
    "duration": 39,
    "start_time": "2022-01-31T14:17:29.948Z"
   },
   {
    "duration": 31,
    "start_time": "2022-01-31T14:17:29.988Z"
   },
   {
    "duration": 32,
    "start_time": "2022-01-31T14:17:30.022Z"
   },
   {
    "duration": 7,
    "start_time": "2022-01-31T14:17:30.056Z"
   },
   {
    "duration": 20,
    "start_time": "2022-01-31T14:17:30.064Z"
   },
   {
    "duration": 21,
    "start_time": "2022-01-31T14:17:30.085Z"
   },
   {
    "duration": 43,
    "start_time": "2022-01-31T14:17:30.108Z"
   },
   {
    "duration": 31,
    "start_time": "2022-01-31T14:17:30.153Z"
   },
   {
    "duration": 60,
    "start_time": "2022-01-31T14:17:30.186Z"
   },
   {
    "duration": 60,
    "start_time": "2022-01-31T14:17:30.248Z"
   },
   {
    "duration": 50,
    "start_time": "2022-01-31T14:17:30.310Z"
   },
   {
    "duration": 32,
    "start_time": "2022-01-31T14:17:30.365Z"
   },
   {
    "duration": 36,
    "start_time": "2022-01-31T14:17:30.399Z"
   },
   {
    "duration": 28,
    "start_time": "2022-01-31T14:17:30.437Z"
   },
   {
    "duration": 36,
    "start_time": "2022-01-31T14:17:30.467Z"
   },
   {
    "duration": 39,
    "start_time": "2022-01-31T14:17:30.505Z"
   },
   {
    "duration": 38,
    "start_time": "2022-01-31T14:17:30.546Z"
   },
   {
    "duration": 3656,
    "start_time": "2022-01-31T14:17:30.586Z"
   },
   {
    "duration": 4,
    "start_time": "2022-01-31T14:17:34.244Z"
   },
   {
    "duration": 8,
    "start_time": "2022-01-31T14:17:34.250Z"
   },
   {
    "duration": 5,
    "start_time": "2022-01-31T14:17:34.260Z"
   },
   {
    "duration": 3427,
    "start_time": "2022-01-31T14:17:34.267Z"
   },
   {
    "duration": 11,
    "start_time": "2022-01-31T14:17:37.703Z"
   },
   {
    "duration": 120,
    "start_time": "2022-01-31T14:17:37.716Z"
   },
   {
    "duration": 29,
    "start_time": "2022-01-31T14:17:37.838Z"
   },
   {
    "duration": 14,
    "start_time": "2022-01-31T14:17:37.869Z"
   },
   {
    "duration": 28,
    "start_time": "2022-01-31T14:17:37.885Z"
   },
   {
    "duration": 1808,
    "start_time": "2022-01-31T14:55:37.232Z"
   },
   {
    "duration": 1749,
    "start_time": "2022-01-31T14:55:41.024Z"
   },
   {
    "duration": 2,
    "start_time": "2022-01-31T14:55:42.775Z"
   },
   {
    "duration": 16,
    "start_time": "2022-01-31T14:55:42.779Z"
   },
   {
    "duration": 24,
    "start_time": "2022-01-31T14:55:43.081Z"
   },
   {
    "duration": 749,
    "start_time": "2022-02-01T14:21:03.529Z"
   },
   {
    "duration": 22,
    "start_time": "2022-02-01T14:21:04.280Z"
   },
   {
    "duration": 28,
    "start_time": "2022-02-01T14:21:04.305Z"
   },
   {
    "duration": 21,
    "start_time": "2022-02-01T14:21:04.335Z"
   },
   {
    "duration": 55,
    "start_time": "2022-02-01T14:21:04.358Z"
   },
   {
    "duration": 13,
    "start_time": "2022-02-01T14:21:04.415Z"
   },
   {
    "duration": 11,
    "start_time": "2022-02-01T14:21:04.430Z"
   },
   {
    "duration": 4,
    "start_time": "2022-02-01T14:21:04.443Z"
   },
   {
    "duration": 7,
    "start_time": "2022-02-01T14:21:04.449Z"
   },
   {
    "duration": 43,
    "start_time": "2022-02-01T14:21:04.457Z"
   },
   {
    "duration": 8,
    "start_time": "2022-02-01T14:21:04.501Z"
   },
   {
    "duration": 31,
    "start_time": "2022-02-01T14:21:04.511Z"
   },
   {
    "duration": 6,
    "start_time": "2022-02-01T14:21:04.544Z"
   },
   {
    "duration": 47,
    "start_time": "2022-02-01T14:21:04.551Z"
   },
   {
    "duration": 5,
    "start_time": "2022-02-01T14:21:04.600Z"
   },
   {
    "duration": 9,
    "start_time": "2022-02-01T14:21:04.607Z"
   },
   {
    "duration": 8,
    "start_time": "2022-02-01T14:21:04.618Z"
   },
   {
    "duration": 10,
    "start_time": "2022-02-01T14:21:04.628Z"
   },
   {
    "duration": 10,
    "start_time": "2022-02-01T14:21:04.641Z"
   },
   {
    "duration": 79,
    "start_time": "2022-02-01T14:21:04.653Z"
   },
   {
    "duration": 6,
    "start_time": "2022-02-01T14:21:04.734Z"
   },
   {
    "duration": 9,
    "start_time": "2022-02-01T14:21:04.742Z"
   },
   {
    "duration": 13,
    "start_time": "2022-02-01T14:21:04.755Z"
   },
   {
    "duration": 33,
    "start_time": "2022-02-01T14:21:04.770Z"
   },
   {
    "duration": 14,
    "start_time": "2022-02-01T14:21:04.805Z"
   },
   {
    "duration": 26,
    "start_time": "2022-02-01T14:21:04.821Z"
   },
   {
    "duration": 57,
    "start_time": "2022-02-01T14:21:04.849Z"
   },
   {
    "duration": 36,
    "start_time": "2022-02-01T14:21:04.908Z"
   },
   {
    "duration": 3881,
    "start_time": "2022-02-01T14:21:04.946Z"
   },
   {
    "duration": 4,
    "start_time": "2022-02-01T14:21:08.829Z"
   },
   {
    "duration": 15,
    "start_time": "2022-02-01T14:21:08.835Z"
   },
   {
    "duration": 24,
    "start_time": "2022-02-01T14:21:08.852Z"
   },
   {
    "duration": 3845,
    "start_time": "2022-02-01T14:21:08.878Z"
   },
   {
    "duration": 2,
    "start_time": "2022-02-01T14:21:12.725Z"
   },
   {
    "duration": 20,
    "start_time": "2022-02-01T14:21:12.729Z"
   },
   {
    "duration": 26,
    "start_time": "2022-02-01T14:21:12.751Z"
   },
   {
    "duration": 19,
    "start_time": "2022-02-01T14:21:12.779Z"
   },
   {
    "duration": 16,
    "start_time": "2022-02-01T14:21:12.800Z"
   },
   {
    "duration": 682,
    "start_time": "2022-02-01T14:27:29.922Z"
   },
   {
    "duration": 712,
    "start_time": "2022-02-01T14:27:35.922Z"
   },
   {
    "duration": 19,
    "start_time": "2022-02-01T14:27:36.636Z"
   },
   {
    "duration": 23,
    "start_time": "2022-02-01T14:27:36.658Z"
   },
   {
    "duration": 20,
    "start_time": "2022-02-01T14:27:36.699Z"
   },
   {
    "duration": 28,
    "start_time": "2022-02-01T14:27:36.721Z"
   },
   {
    "duration": 12,
    "start_time": "2022-02-01T14:27:36.751Z"
   },
   {
    "duration": 44,
    "start_time": "2022-02-01T14:27:36.764Z"
   },
   {
    "duration": 4,
    "start_time": "2022-02-01T14:27:36.810Z"
   },
   {
    "duration": 8,
    "start_time": "2022-02-01T14:27:36.818Z"
   },
   {
    "duration": 13,
    "start_time": "2022-02-01T14:27:36.828Z"
   },
   {
    "duration": 11,
    "start_time": "2022-02-01T14:27:36.843Z"
   },
   {
    "duration": 87,
    "start_time": "2022-02-01T14:27:36.856Z"
   },
   {
    "duration": 8,
    "start_time": "2022-02-01T14:27:36.945Z"
   },
   {
    "duration": 19,
    "start_time": "2022-02-01T14:27:36.955Z"
   },
   {
    "duration": 25,
    "start_time": "2022-02-01T14:27:36.976Z"
   },
   {
    "duration": 5,
    "start_time": "2022-02-01T14:27:37.002Z"
   },
   {
    "duration": 9,
    "start_time": "2022-02-01T14:27:37.009Z"
   },
   {
    "duration": 10,
    "start_time": "2022-02-01T14:27:37.019Z"
   },
   {
    "duration": 8,
    "start_time": "2022-02-01T14:27:37.031Z"
   },
   {
    "duration": 77,
    "start_time": "2022-02-01T14:27:37.041Z"
   },
   {
    "duration": 7,
    "start_time": "2022-02-01T14:27:37.120Z"
   },
   {
    "duration": 15,
    "start_time": "2022-02-01T14:27:37.129Z"
   },
   {
    "duration": 24,
    "start_time": "2022-02-01T14:27:37.146Z"
   },
   {
    "duration": 30,
    "start_time": "2022-02-01T14:27:37.172Z"
   },
   {
    "duration": 19,
    "start_time": "2022-02-01T14:27:37.204Z"
   },
   {
    "duration": 27,
    "start_time": "2022-02-01T14:27:37.225Z"
   },
   {
    "duration": 62,
    "start_time": "2022-02-01T14:27:37.257Z"
   },
   {
    "duration": 43,
    "start_time": "2022-02-01T14:27:37.322Z"
   },
   {
    "duration": 4169,
    "start_time": "2022-02-01T14:27:37.367Z"
   },
   {
    "duration": 5,
    "start_time": "2022-02-01T14:27:41.538Z"
   },
   {
    "duration": 11,
    "start_time": "2022-02-01T14:27:41.544Z"
   },
   {
    "duration": 5,
    "start_time": "2022-02-01T14:27:41.557Z"
   },
   {
    "duration": 3731,
    "start_time": "2022-02-01T14:27:41.563Z"
   },
   {
    "duration": 3,
    "start_time": "2022-02-01T14:27:45.295Z"
   },
   {
    "duration": 21,
    "start_time": "2022-02-01T14:27:45.299Z"
   },
   {
    "duration": 45,
    "start_time": "2022-02-01T14:27:45.322Z"
   },
   {
    "duration": 7,
    "start_time": "2022-02-01T14:27:45.369Z"
   },
   {
    "duration": 28,
    "start_time": "2022-02-01T14:27:45.378Z"
   },
   {
    "duration": 86,
    "start_time": "2022-02-01T14:38:30.461Z"
   },
   {
    "duration": 6,
    "start_time": "2022-02-01T14:53:51.520Z"
   },
   {
    "duration": 15,
    "start_time": "2022-02-01T14:54:02.203Z"
   },
   {
    "duration": 5,
    "start_time": "2022-02-01T14:54:28.574Z"
   },
   {
    "duration": 7,
    "start_time": "2022-02-01T14:54:31.145Z"
   },
   {
    "duration": 14,
    "start_time": "2022-02-01T14:54:33.975Z"
   },
   {
    "duration": 4,
    "start_time": "2022-02-01T14:55:05.289Z"
   },
   {
    "duration": 15,
    "start_time": "2022-02-01T14:55:08.612Z"
   },
   {
    "duration": 24,
    "start_time": "2022-02-01T14:59:05.474Z"
   },
   {
    "duration": 3624,
    "start_time": "2022-02-01T15:01:37.942Z"
   },
   {
    "duration": 5759,
    "start_time": "2022-02-01T15:05:29.364Z"
   },
   {
    "duration": 20,
    "start_time": "2022-02-01T15:05:36.579Z"
   },
   {
    "duration": 5250,
    "start_time": "2022-02-01T15:06:28.217Z"
   },
   {
    "duration": 20,
    "start_time": "2022-02-01T15:06:34.068Z"
   },
   {
    "duration": 5619,
    "start_time": "2022-02-01T15:06:48.887Z"
   },
   {
    "duration": 86,
    "start_time": "2022-02-01T15:10:39.525Z"
   },
   {
    "duration": 2367,
    "start_time": "2022-02-01T15:10:48.562Z"
   },
   {
    "duration": 2351,
    "start_time": "2022-02-01T15:11:02.979Z"
   },
   {
    "duration": 11,
    "start_time": "2022-02-01T15:12:18.443Z"
   },
   {
    "duration": 276,
    "start_time": "2022-02-01T15:12:37.821Z"
   },
   {
    "duration": 287,
    "start_time": "2022-02-01T15:12:43.682Z"
   },
   {
    "duration": 268,
    "start_time": "2022-02-01T15:15:33.846Z"
   },
   {
    "duration": 248,
    "start_time": "2022-02-01T15:16:17.870Z"
   },
   {
    "duration": 12,
    "start_time": "2022-02-01T15:16:27.095Z"
   },
   {
    "duration": 12,
    "start_time": "2022-02-01T15:16:37.375Z"
   },
   {
    "duration": 2904,
    "start_time": "2022-02-01T15:16:39.998Z"
   },
   {
    "duration": 13976,
    "start_time": "2022-02-01T15:18:29.223Z"
   },
   {
    "duration": 273,
    "start_time": "2022-02-01T15:18:47.146Z"
   },
   {
    "duration": 1922,
    "start_time": "2022-02-01T15:18:53.823Z"
   },
   {
    "duration": 7804,
    "start_time": "2022-02-01T15:22:41.744Z"
   },
   {
    "duration": 101,
    "start_time": "2022-02-01T15:23:30.490Z"
   },
   {
    "duration": 8574,
    "start_time": "2022-02-01T15:23:34.360Z"
   },
   {
    "duration": 6895,
    "start_time": "2022-02-01T15:24:03.628Z"
   },
   {
    "duration": 6870,
    "start_time": "2022-02-01T15:24:26.833Z"
   },
   {
    "duration": 1839,
    "start_time": "2022-02-01T15:24:35.090Z"
   },
   {
    "duration": 6521,
    "start_time": "2022-02-01T15:24:39.265Z"
   },
   {
    "duration": 292,
    "start_time": "2022-02-01T15:25:53.538Z"
   },
   {
    "duration": 5,
    "start_time": "2022-02-01T15:28:03.503Z"
   },
   {
    "duration": 6,
    "start_time": "2022-02-01T15:28:09.897Z"
   },
   {
    "duration": -2426,
    "start_time": "2022-02-01T15:28:25.133Z"
   },
   {
    "duration": 271,
    "start_time": "2022-02-01T15:28:23.670Z"
   },
   {
    "duration": 12934,
    "start_time": "2022-02-01T15:28:40.674Z"
   },
   {
    "duration": 5023,
    "start_time": "2022-02-01T15:29:27.075Z"
   },
   {
    "duration": 22,
    "start_time": "2022-02-01T15:30:34.587Z"
   },
   {
    "duration": 24,
    "start_time": "2022-02-01T15:33:38.261Z"
   },
   {
    "duration": 14,
    "start_time": "2022-02-01T15:34:22.708Z"
   },
   {
    "duration": 12,
    "start_time": "2022-02-01T15:34:42.404Z"
   },
   {
    "duration": 341,
    "start_time": "2022-02-01T15:38:00.715Z"
   },
   {
    "duration": -2285,
    "start_time": "2022-02-01T15:38:14.608Z"
   },
   {
    "duration": 5,
    "start_time": "2022-02-01T15:38:14.991Z"
   },
   {
    "duration": 8,
    "start_time": "2022-02-01T15:38:18.798Z"
   },
   {
    "duration": 5907,
    "start_time": "2022-02-01T15:42:09.542Z"
   },
   {
    "duration": 18,
    "start_time": "2022-02-01T15:42:15.451Z"
   },
   {
    "duration": 7051,
    "start_time": "2022-02-01T15:43:23.479Z"
   },
   {
    "duration": 17,
    "start_time": "2022-02-01T15:43:31.242Z"
   },
   {
    "duration": 7534,
    "start_time": "2022-02-01T15:44:01.464Z"
   },
   {
    "duration": 17,
    "start_time": "2022-02-01T15:44:09.000Z"
   },
   {
    "duration": 25,
    "start_time": "2022-02-01T15:45:11.239Z"
   },
   {
    "duration": -2262,
    "start_time": "2022-02-01T15:52:47.262Z"
   },
   {
    "duration": 4,
    "start_time": "2022-02-01T15:52:48.790Z"
   },
   {
    "duration": 37,
    "start_time": "2022-02-01T15:54:51.267Z"
   },
   {
    "duration": 7,
    "start_time": "2022-02-01T15:55:15.025Z"
   },
   {
    "duration": 10,
    "start_time": "2022-02-01T15:55:36.179Z"
   },
   {
    "duration": 95,
    "start_time": "2022-02-01T15:59:02.420Z"
   },
   {
    "duration": 98,
    "start_time": "2022-02-01T15:59:13.500Z"
   },
   {
    "duration": 110,
    "start_time": "2022-02-01T15:59:34.579Z"
   },
   {
    "duration": 263,
    "start_time": "2022-02-01T16:01:03.741Z"
   },
   {
    "duration": 5,
    "start_time": "2022-02-01T16:01:07.376Z"
   },
   {
    "duration": 5,
    "start_time": "2022-02-01T16:01:18.748Z"
   },
   {
    "duration": 282,
    "start_time": "2022-02-01T16:01:23.740Z"
   },
   {
    "duration": 6,
    "start_time": "2022-02-01T16:02:20.732Z"
   },
   {
    "duration": 5,
    "start_time": "2022-02-01T16:02:24.772Z"
   },
   {
    "duration": 5,
    "start_time": "2022-02-01T16:02:31.533Z"
   },
   {
    "duration": 5,
    "start_time": "2022-02-01T16:02:34.903Z"
   },
   {
    "duration": 138,
    "start_time": "2022-02-01T16:02:58.405Z"
   },
   {
    "duration": 5,
    "start_time": "2022-02-01T16:03:02.836Z"
   },
   {
    "duration": 9,
    "start_time": "2022-02-01T16:03:36.983Z"
   },
   {
    "duration": 12,
    "start_time": "2022-02-01T16:04:24.441Z"
   },
   {
    "duration": 12,
    "start_time": "2022-02-01T16:04:31.182Z"
   },
   {
    "duration": 130,
    "start_time": "2022-02-01T16:06:59.630Z"
   },
   {
    "duration": 17,
    "start_time": "2022-02-01T16:07:44.686Z"
   },
   {
    "duration": 11,
    "start_time": "2022-02-01T16:07:52.479Z"
   },
   {
    "duration": 21,
    "start_time": "2022-02-01T16:08:25.966Z"
   },
   {
    "duration": 96,
    "start_time": "2022-02-01T16:08:51.614Z"
   },
   {
    "duration": 15,
    "start_time": "2022-02-01T16:18:05.266Z"
   },
   {
    "duration": 26,
    "start_time": "2022-02-01T16:18:32.405Z"
   },
   {
    "duration": 722,
    "start_time": "2022-02-01T16:20:21.862Z"
   },
   {
    "duration": 24,
    "start_time": "2022-02-01T16:20:22.586Z"
   },
   {
    "duration": 27,
    "start_time": "2022-02-01T16:20:22.615Z"
   },
   {
    "duration": 19,
    "start_time": "2022-02-01T16:20:22.645Z"
   },
   {
    "duration": 58,
    "start_time": "2022-02-01T16:20:22.666Z"
   },
   {
    "duration": 13,
    "start_time": "2022-02-01T16:20:22.726Z"
   },
   {
    "duration": 13,
    "start_time": "2022-02-01T16:20:22.741Z"
   },
   {
    "duration": 3,
    "start_time": "2022-02-01T16:20:22.757Z"
   },
   {
    "duration": 7,
    "start_time": "2022-02-01T16:20:22.800Z"
   },
   {
    "duration": 10,
    "start_time": "2022-02-01T16:20:22.810Z"
   },
   {
    "duration": 13,
    "start_time": "2022-02-01T16:20:22.822Z"
   },
   {
    "duration": 33,
    "start_time": "2022-02-01T16:20:22.837Z"
   },
   {
    "duration": 8,
    "start_time": "2022-02-01T16:20:22.898Z"
   },
   {
    "duration": 19,
    "start_time": "2022-02-01T16:20:22.908Z"
   },
   {
    "duration": 5,
    "start_time": "2022-02-01T16:20:22.930Z"
   },
   {
    "duration": 12,
    "start_time": "2022-02-01T16:20:22.936Z"
   },
   {
    "duration": 8,
    "start_time": "2022-02-01T16:20:22.950Z"
   },
   {
    "duration": 39,
    "start_time": "2022-02-01T16:20:22.960Z"
   },
   {
    "duration": 8,
    "start_time": "2022-02-01T16:20:23.001Z"
   },
   {
    "duration": 34,
    "start_time": "2022-02-01T16:20:23.011Z"
   },
   {
    "duration": 7,
    "start_time": "2022-02-01T16:20:23.047Z"
   },
   {
    "duration": 11,
    "start_time": "2022-02-01T16:20:23.056Z"
   },
   {
    "duration": 44,
    "start_time": "2022-02-01T16:20:23.069Z"
   },
   {
    "duration": 17,
    "start_time": "2022-02-01T16:20:23.114Z"
   },
   {
    "duration": 16,
    "start_time": "2022-02-01T16:20:23.133Z"
   },
   {
    "duration": 10,
    "start_time": "2022-02-01T16:20:23.153Z"
   },
   {
    "duration": 51,
    "start_time": "2022-02-01T16:20:23.165Z"
   },
   {
    "duration": 4,
    "start_time": "2022-02-01T16:20:23.218Z"
   },
   {
    "duration": 19,
    "start_time": "2022-02-01T16:20:23.224Z"
   },
   {
    "duration": 13,
    "start_time": "2022-02-01T16:20:23.244Z"
   },
   {
    "duration": 54,
    "start_time": "2022-02-01T16:20:23.259Z"
   },
   {
    "duration": 30,
    "start_time": "2022-02-01T16:20:23.315Z"
   },
   {
    "duration": 60,
    "start_time": "2022-02-01T16:20:23.347Z"
   },
   {
    "duration": 2435,
    "start_time": "2022-02-01T16:20:23.409Z"
   },
   {
    "duration": -741,
    "start_time": "2022-02-01T16:20:26.587Z"
   },
   {
    "duration": -744,
    "start_time": "2022-02-01T16:20:26.591Z"
   },
   {
    "duration": -744,
    "start_time": "2022-02-01T16:20:26.593Z"
   },
   {
    "duration": -746,
    "start_time": "2022-02-01T16:20:26.596Z"
   },
   {
    "duration": -747,
    "start_time": "2022-02-01T16:20:26.598Z"
   },
   {
    "duration": 686,
    "start_time": "2022-02-01T16:26:02.245Z"
   },
   {
    "duration": 22,
    "start_time": "2022-02-01T16:26:02.933Z"
   },
   {
    "duration": 42,
    "start_time": "2022-02-01T16:26:02.957Z"
   },
   {
    "duration": 31,
    "start_time": "2022-02-01T16:26:03.001Z"
   },
   {
    "duration": 44,
    "start_time": "2022-02-01T16:26:03.033Z"
   },
   {
    "duration": 19,
    "start_time": "2022-02-01T16:26:03.080Z"
   },
   {
    "duration": 33,
    "start_time": "2022-02-01T16:26:03.101Z"
   },
   {
    "duration": 8,
    "start_time": "2022-02-01T16:26:03.138Z"
   },
   {
    "duration": 27,
    "start_time": "2022-02-01T16:26:03.148Z"
   },
   {
    "duration": 32,
    "start_time": "2022-02-01T16:26:03.177Z"
   },
   {
    "duration": 24,
    "start_time": "2022-02-01T16:26:03.211Z"
   },
   {
    "duration": 46,
    "start_time": "2022-02-01T16:26:03.237Z"
   },
   {
    "duration": 8,
    "start_time": "2022-02-01T16:26:03.285Z"
   },
   {
    "duration": 34,
    "start_time": "2022-02-01T16:26:03.295Z"
   },
   {
    "duration": 6,
    "start_time": "2022-02-01T16:26:03.331Z"
   },
   {
    "duration": 35,
    "start_time": "2022-02-01T16:26:03.338Z"
   },
   {
    "duration": 39,
    "start_time": "2022-02-01T16:26:03.375Z"
   },
   {
    "duration": 35,
    "start_time": "2022-02-01T16:26:03.416Z"
   },
   {
    "duration": 18,
    "start_time": "2022-02-01T16:26:03.453Z"
   },
   {
    "duration": 56,
    "start_time": "2022-02-01T16:26:03.473Z"
   },
   {
    "duration": 8,
    "start_time": "2022-02-01T16:26:03.531Z"
   },
   {
    "duration": 14,
    "start_time": "2022-02-01T16:26:03.541Z"
   },
   {
    "duration": 40,
    "start_time": "2022-02-01T16:26:03.559Z"
   },
   {
    "duration": 25,
    "start_time": "2022-02-01T16:26:03.602Z"
   },
   {
    "duration": 46,
    "start_time": "2022-02-01T16:26:03.629Z"
   },
   {
    "duration": 13,
    "start_time": "2022-02-01T16:26:03.677Z"
   },
   {
    "duration": 43,
    "start_time": "2022-02-01T16:26:03.692Z"
   },
   {
    "duration": 4,
    "start_time": "2022-02-01T16:26:03.737Z"
   },
   {
    "duration": 29,
    "start_time": "2022-02-01T16:26:03.743Z"
   },
   {
    "duration": 25,
    "start_time": "2022-02-01T16:26:03.774Z"
   },
   {
    "duration": 25,
    "start_time": "2022-02-01T16:26:03.801Z"
   },
   {
    "duration": 32,
    "start_time": "2022-02-01T16:26:03.828Z"
   },
   {
    "duration": 56,
    "start_time": "2022-02-01T16:26:03.862Z"
   },
   {
    "duration": 3887,
    "start_time": "2022-02-01T16:26:03.919Z"
   },
   {
    "duration": 3854,
    "start_time": "2022-02-01T16:26:07.807Z"
   },
   {
    "duration": 8292,
    "start_time": "2022-02-01T16:26:11.663Z"
   },
   {
    "duration": 16,
    "start_time": "2022-02-01T16:26:19.957Z"
   },
   {
    "duration": 9,
    "start_time": "2022-02-01T16:26:19.975Z"
   },
   {
    "duration": 20,
    "start_time": "2022-02-01T16:26:19.986Z"
   },
   {
    "duration": 340,
    "start_time": "2022-02-01T16:26:40.200Z"
   },
   {
    "duration": 38,
    "start_time": "2022-02-01T16:26:55.041Z"
   },
   {
    "duration": 37,
    "start_time": "2022-02-01T16:27:00.323Z"
   },
   {
    "duration": 1906,
    "start_time": "2022-02-01T16:29:23.695Z"
   },
   {
    "duration": 1835,
    "start_time": "2022-02-01T16:29:46.225Z"
   },
   {
    "duration": 9,
    "start_time": "2022-02-01T16:31:46.371Z"
   },
   {
    "duration": 14,
    "start_time": "2022-02-01T16:32:41.811Z"
   },
   {
    "duration": 87,
    "start_time": "2022-02-01T16:33:17.988Z"
   },
   {
    "duration": 9,
    "start_time": "2022-02-01T16:33:21.650Z"
   },
   {
    "duration": 688,
    "start_time": "2022-02-01T16:33:31.449Z"
   },
   {
    "duration": 19,
    "start_time": "2022-02-01T16:33:32.140Z"
   },
   {
    "duration": 37,
    "start_time": "2022-02-01T16:33:32.164Z"
   },
   {
    "duration": 20,
    "start_time": "2022-02-01T16:33:32.203Z"
   },
   {
    "duration": 30,
    "start_time": "2022-02-01T16:33:32.225Z"
   },
   {
    "duration": 14,
    "start_time": "2022-02-01T16:33:32.256Z"
   },
   {
    "duration": 39,
    "start_time": "2022-02-01T16:33:32.271Z"
   },
   {
    "duration": 21,
    "start_time": "2022-02-01T16:33:32.313Z"
   },
   {
    "duration": 15,
    "start_time": "2022-02-01T16:33:32.337Z"
   },
   {
    "duration": 10,
    "start_time": "2022-02-01T16:33:32.354Z"
   },
   {
    "duration": 19,
    "start_time": "2022-02-01T16:33:32.366Z"
   },
   {
    "duration": 40,
    "start_time": "2022-02-01T16:33:32.387Z"
   },
   {
    "duration": 7,
    "start_time": "2022-02-01T16:33:32.429Z"
   },
   {
    "duration": 27,
    "start_time": "2022-02-01T16:33:32.437Z"
   },
   {
    "duration": 4,
    "start_time": "2022-02-01T16:33:32.466Z"
   },
   {
    "duration": 13,
    "start_time": "2022-02-01T16:33:32.472Z"
   },
   {
    "duration": 18,
    "start_time": "2022-02-01T16:33:32.487Z"
   },
   {
    "duration": 21,
    "start_time": "2022-02-01T16:33:32.507Z"
   },
   {
    "duration": 24,
    "start_time": "2022-02-01T16:33:32.530Z"
   },
   {
    "duration": 31,
    "start_time": "2022-02-01T16:33:32.555Z"
   },
   {
    "duration": 12,
    "start_time": "2022-02-01T16:33:32.588Z"
   },
   {
    "duration": 18,
    "start_time": "2022-02-01T16:33:32.602Z"
   },
   {
    "duration": 19,
    "start_time": "2022-02-01T16:33:32.622Z"
   },
   {
    "duration": 20,
    "start_time": "2022-02-01T16:33:32.643Z"
   },
   {
    "duration": 15,
    "start_time": "2022-02-01T16:33:32.665Z"
   },
   {
    "duration": 19,
    "start_time": "2022-02-01T16:33:32.684Z"
   },
   {
    "duration": 10,
    "start_time": "2022-02-01T16:33:32.705Z"
   },
   {
    "duration": 61,
    "start_time": "2022-02-01T16:33:32.716Z"
   },
   {
    "duration": 46,
    "start_time": "2022-02-01T16:33:32.779Z"
   },
   {
    "duration": 24,
    "start_time": "2022-02-01T16:33:32.826Z"
   },
   {
    "duration": 27,
    "start_time": "2022-02-01T16:33:32.851Z"
   },
   {
    "duration": 34,
    "start_time": "2022-02-01T16:33:32.880Z"
   },
   {
    "duration": 37,
    "start_time": "2022-02-01T16:33:32.915Z"
   },
   {
    "duration": 3807,
    "start_time": "2022-02-01T16:33:32.954Z"
   },
   {
    "duration": 3882,
    "start_time": "2022-02-01T16:33:36.764Z"
   },
   {
    "duration": 8393,
    "start_time": "2022-02-01T16:33:40.648Z"
   },
   {
    "duration": 17,
    "start_time": "2022-02-01T16:33:49.043Z"
   },
   {
    "duration": 12,
    "start_time": "2022-02-01T16:33:49.062Z"
   },
   {
    "duration": 25,
    "start_time": "2022-02-01T16:33:49.076Z"
   },
   {
    "duration": 89,
    "start_time": "2022-02-01T16:38:56.739Z"
   },
   {
    "duration": 14,
    "start_time": "2022-02-01T16:41:15.933Z"
   },
   {
    "duration": 16,
    "start_time": "2022-02-01T16:41:22.276Z"
   },
   {
    "duration": 189,
    "start_time": "2022-02-01T16:51:48.894Z"
   },
   {
    "duration": 19,
    "start_time": "2022-02-01T16:54:03.765Z"
   },
   {
    "duration": 22,
    "start_time": "2022-02-01T16:54:44.430Z"
   },
   {
    "duration": 21,
    "start_time": "2022-02-01T16:57:41.815Z"
   },
   {
    "duration": 336,
    "start_time": "2022-02-01T16:58:12.969Z"
   },
   {
    "duration": 21,
    "start_time": "2022-02-01T16:58:17.477Z"
   },
   {
    "duration": 20,
    "start_time": "2022-02-01T16:59:13.728Z"
   },
   {
    "duration": 18,
    "start_time": "2022-02-01T16:59:56.566Z"
   },
   {
    "duration": 22,
    "start_time": "2022-02-01T17:00:20.519Z"
   },
   {
    "duration": 22,
    "start_time": "2022-02-01T17:01:41.712Z"
   },
   {
    "duration": 121,
    "start_time": "2022-02-01T17:04:50.683Z"
   },
   {
    "duration": 23,
    "start_time": "2022-02-01T17:04:57.146Z"
   },
   {
    "duration": 21,
    "start_time": "2022-02-01T17:05:46.593Z"
   },
   {
    "duration": 99,
    "start_time": "2022-02-01T17:06:23.947Z"
   },
   {
    "duration": 22,
    "start_time": "2022-02-01T17:07:08.504Z"
   },
   {
    "duration": 269,
    "start_time": "2022-02-01T17:08:54.337Z"
   },
   {
    "duration": 20,
    "start_time": "2022-02-01T17:08:59.513Z"
   },
   {
    "duration": 16,
    "start_time": "2022-02-01T17:11:57.305Z"
   },
   {
    "duration": 16,
    "start_time": "2022-02-01T17:11:59.349Z"
   },
   {
    "duration": 21,
    "start_time": "2022-02-01T17:12:05.602Z"
   },
   {
    "duration": 329,
    "start_time": "2022-02-01T17:15:10.339Z"
   },
   {
    "duration": 6847,
    "start_time": "2022-02-01T17:15:27.011Z"
   },
   {
    "duration": 96,
    "start_time": "2022-02-01T17:15:54.466Z"
   },
   {
    "duration": 103,
    "start_time": "2022-02-01T17:16:11.732Z"
   },
   {
    "duration": 86,
    "start_time": "2022-02-01T17:16:14.134Z"
   },
   {
    "duration": 97,
    "start_time": "2022-02-01T17:17:28.012Z"
   },
   {
    "duration": 89,
    "start_time": "2022-02-01T17:17:54.443Z"
   },
   {
    "duration": 5,
    "start_time": "2022-02-01T17:18:03.524Z"
   },
   {
    "duration": 4,
    "start_time": "2022-02-01T17:35:37.489Z"
   },
   {
    "duration": 99,
    "start_time": "2022-02-01T17:38:15.525Z"
   },
   {
    "duration": 295,
    "start_time": "2022-02-01T17:38:35.149Z"
   },
   {
    "duration": 699,
    "start_time": "2022-02-01T17:39:40.257Z"
   },
   {
    "duration": 4,
    "start_time": "2022-02-01T17:39:49.413Z"
   },
   {
    "duration": 4,
    "start_time": "2022-02-01T17:40:10.909Z"
   },
   {
    "duration": 82,
    "start_time": "2022-02-01T17:41:48.840Z"
   },
   {
    "duration": 5,
    "start_time": "2022-02-01T17:42:08.781Z"
   },
   {
    "duration": 87,
    "start_time": "2022-02-01T17:42:51.149Z"
   },
   {
    "duration": 5,
    "start_time": "2022-02-01T17:43:28.902Z"
   },
   {
    "duration": 5,
    "start_time": "2022-02-01T17:43:35.610Z"
   },
   {
    "duration": 4,
    "start_time": "2022-02-01T17:43:56.829Z"
   },
   {
    "duration": 5,
    "start_time": "2022-02-01T17:45:30.790Z"
   },
   {
    "duration": 5,
    "start_time": "2022-02-01T17:45:47.719Z"
   },
   {
    "duration": 4,
    "start_time": "2022-02-01T17:45:58.699Z"
   },
   {
    "duration": 4,
    "start_time": "2022-02-01T17:47:18.025Z"
   },
   {
    "duration": 104,
    "start_time": "2022-02-01T18:02:44.975Z"
   },
   {
    "duration": 7,
    "start_time": "2022-02-01T18:04:04.029Z"
   },
   {
    "duration": 10,
    "start_time": "2022-02-01T18:04:21.259Z"
   },
   {
    "duration": 259,
    "start_time": "2022-02-01T18:05:18.339Z"
   },
   {
    "duration": 9,
    "start_time": "2022-02-01T18:05:41.349Z"
   },
   {
    "duration": 8,
    "start_time": "2022-02-01T18:05:59.756Z"
   },
   {
    "duration": 262,
    "start_time": "2022-02-01T18:06:16.773Z"
   },
   {
    "duration": 11,
    "start_time": "2022-02-01T18:06:34.174Z"
   },
   {
    "duration": 301,
    "start_time": "2022-02-01T18:07:16.172Z"
   },
   {
    "duration": 8,
    "start_time": "2022-02-01T18:07:29.846Z"
   },
   {
    "duration": 262,
    "start_time": "2022-02-01T18:07:45.569Z"
   },
   {
    "duration": 295,
    "start_time": "2022-02-01T18:07:50.499Z"
   },
   {
    "duration": 8,
    "start_time": "2022-02-01T18:08:19.603Z"
   },
   {
    "duration": 8,
    "start_time": "2022-02-01T18:08:23.718Z"
   },
   {
    "duration": 10,
    "start_time": "2022-02-01T18:09:00.565Z"
   },
   {
    "duration": 1084,
    "start_time": "2022-02-01T18:11:10.086Z"
   },
   {
    "duration": 276,
    "start_time": "2022-02-01T18:16:16.778Z"
   },
   {
    "duration": 9,
    "start_time": "2022-02-01T18:19:02.920Z"
   },
   {
    "duration": 9,
    "start_time": "2022-02-01T18:24:06.184Z"
   },
   {
    "duration": 11,
    "start_time": "2022-02-01T18:25:31.118Z"
   },
   {
    "duration": 8,
    "start_time": "2022-02-01T18:26:34.042Z"
   },
   {
    "duration": 7,
    "start_time": "2022-02-01T18:28:32.794Z"
   },
   {
    "duration": 7,
    "start_time": "2022-02-01T18:28:34.737Z"
   },
   {
    "duration": 6,
    "start_time": "2022-02-01T18:28:35.578Z"
   },
   {
    "duration": 9,
    "start_time": "2022-02-01T18:28:45.810Z"
   },
   {
    "duration": 112,
    "start_time": "2022-02-01T18:29:10.372Z"
   },
   {
    "duration": 8,
    "start_time": "2022-02-01T18:31:17.741Z"
   },
   {
    "duration": 9,
    "start_time": "2022-02-01T18:31:24.748Z"
   },
   {
    "duration": 13,
    "start_time": "2022-02-01T18:31:53.283Z"
   },
   {
    "duration": 13,
    "start_time": "2022-02-01T18:32:11.916Z"
   },
   {
    "duration": 13,
    "start_time": "2022-02-01T18:32:18.902Z"
   },
   {
    "duration": 5,
    "start_time": "2022-02-01T18:33:59.251Z"
   },
   {
    "duration": 6741,
    "start_time": "2022-02-01T18:34:14.796Z"
   },
   {
    "duration": -694,
    "start_time": "2022-02-01T18:34:35.271Z"
   },
   {
    "duration": 5,
    "start_time": "2022-02-01T18:34:36.484Z"
   },
   {
    "duration": 15,
    "start_time": "2022-02-01T18:38:24.285Z"
   },
   {
    "duration": 282,
    "start_time": "2022-02-01T18:43:33.710Z"
   },
   {
    "duration": 4921,
    "start_time": "2022-02-01T18:44:36.103Z"
   },
   {
    "duration": 253,
    "start_time": "2022-02-01T18:44:54.924Z"
   },
   {
    "duration": 6750,
    "start_time": "2022-02-01T18:45:02.387Z"
   },
   {
    "duration": 14,
    "start_time": "2022-02-01T18:50:59.107Z"
   },
   {
    "duration": 33,
    "start_time": "2022-02-01T18:51:06.529Z"
   },
   {
    "duration": 282,
    "start_time": "2022-02-01T18:52:09.720Z"
   },
   {
    "duration": 272,
    "start_time": "2022-02-01T18:52:17.761Z"
   },
   {
    "duration": 25,
    "start_time": "2022-02-01T18:52:39.097Z"
   },
   {
    "duration": 270,
    "start_time": "2022-02-01T18:56:18.835Z"
   },
   {
    "duration": 3591,
    "start_time": "2022-02-01T18:56:33.113Z"
   },
   {
    "duration": 3164,
    "start_time": "2022-02-01T18:59:07.540Z"
   },
   {
    "duration": 88,
    "start_time": "2022-02-01T19:02:01.768Z"
   },
   {
    "duration": -654,
    "start_time": "2022-02-01T19:02:58.515Z"
   },
   {
    "duration": 1892,
    "start_time": "2022-02-01T19:03:32.982Z"
   },
   {
    "duration": 1847,
    "start_time": "2022-02-01T19:03:44.541Z"
   },
   {
    "duration": 1833,
    "start_time": "2022-02-01T19:04:01.213Z"
   },
   {
    "duration": 7,
    "start_time": "2022-02-01T19:04:07.675Z"
   },
   {
    "duration": 5,
    "start_time": "2022-02-01T19:04:24.716Z"
   },
   {
    "duration": 7,
    "start_time": "2022-02-01T19:04:31.348Z"
   },
   {
    "duration": 5,
    "start_time": "2022-02-01T19:04:34.734Z"
   },
   {
    "duration": 81,
    "start_time": "2022-02-01T19:05:27.184Z"
   },
   {
    "duration": 6,
    "start_time": "2022-02-01T19:05:35.902Z"
   },
   {
    "duration": 6,
    "start_time": "2022-02-01T19:05:51.054Z"
   },
   {
    "duration": 18,
    "start_time": "2022-02-01T19:14:50.351Z"
   },
   {
    "duration": 22,
    "start_time": "2022-02-01T19:14:56.467Z"
   },
   {
    "duration": 24,
    "start_time": "2022-02-01T19:16:19.089Z"
   },
   {
    "duration": 21,
    "start_time": "2022-02-01T19:17:19.701Z"
   },
   {
    "duration": 7296,
    "start_time": "2022-02-01T19:21:22.101Z"
   },
   {
    "duration": 6919,
    "start_time": "2022-02-01T19:21:30.707Z"
   },
   {
    "duration": 6835,
    "start_time": "2022-02-01T19:21:49.140Z"
   },
   {
    "duration": 17,
    "start_time": "2022-02-01T19:21:58.273Z"
   },
   {
    "duration": 25,
    "start_time": "2022-02-01T19:22:15.196Z"
   },
   {
    "duration": 20,
    "start_time": "2022-02-01T19:22:31.769Z"
   },
   {
    "duration": 21,
    "start_time": "2022-02-01T19:22:50.075Z"
   },
   {
    "duration": 6626,
    "start_time": "2022-02-01T19:25:52.190Z"
   },
   {
    "duration": 20,
    "start_time": "2022-02-01T19:26:24.795Z"
   },
   {
    "duration": 3486,
    "start_time": "2022-02-01T19:26:37.219Z"
   },
   {
    "duration": 274,
    "start_time": "2022-02-01T19:27:04.286Z"
   },
   {
    "duration": 3489,
    "start_time": "2022-02-01T19:27:08.796Z"
   },
   {
    "duration": 277,
    "start_time": "2022-02-01T19:27:55.829Z"
   },
   {
    "duration": 3463,
    "start_time": "2022-02-01T19:29:33.348Z"
   },
   {
    "duration": 19,
    "start_time": "2022-02-01T19:30:11.671Z"
   },
   {
    "duration": 22,
    "start_time": "2022-02-01T19:30:30.790Z"
   },
   {
    "duration": 20,
    "start_time": "2022-02-01T19:30:45.140Z"
   },
   {
    "duration": 22,
    "start_time": "2022-02-01T19:30:50.078Z"
   },
   {
    "duration": 20,
    "start_time": "2022-02-01T19:30:50.619Z"
   },
   {
    "duration": 302,
    "start_time": "2022-02-02T05:27:35.848Z"
   },
   {
    "duration": 246,
    "start_time": "2022-02-02T05:28:31.630Z"
   },
   {
    "duration": 702,
    "start_time": "2022-02-02T05:28:36.574Z"
   },
   {
    "duration": 19,
    "start_time": "2022-02-02T05:28:37.278Z"
   },
   {
    "duration": 24,
    "start_time": "2022-02-02T05:28:37.299Z"
   },
   {
    "duration": 20,
    "start_time": "2022-02-02T05:28:37.325Z"
   },
   {
    "duration": 27,
    "start_time": "2022-02-02T05:28:37.347Z"
   },
   {
    "duration": 37,
    "start_time": "2022-02-02T05:28:37.376Z"
   },
   {
    "duration": 14,
    "start_time": "2022-02-02T05:28:37.416Z"
   },
   {
    "duration": 4,
    "start_time": "2022-02-02T05:28:37.434Z"
   },
   {
    "duration": 7,
    "start_time": "2022-02-02T05:28:37.441Z"
   },
   {
    "duration": 8,
    "start_time": "2022-02-02T05:28:37.451Z"
   },
   {
    "duration": 54,
    "start_time": "2022-02-02T05:28:37.461Z"
   },
   {
    "duration": 36,
    "start_time": "2022-02-02T05:28:37.517Z"
   },
   {
    "duration": 6,
    "start_time": "2022-02-02T05:28:37.555Z"
   },
   {
    "duration": 16,
    "start_time": "2022-02-02T05:28:37.562Z"
   },
   {
    "duration": 30,
    "start_time": "2022-02-02T05:28:37.580Z"
   },
   {
    "duration": 8,
    "start_time": "2022-02-02T05:28:37.612Z"
   },
   {
    "duration": 9,
    "start_time": "2022-02-02T05:28:37.622Z"
   },
   {
    "duration": 9,
    "start_time": "2022-02-02T05:28:37.633Z"
   },
   {
    "duration": 9,
    "start_time": "2022-02-02T05:28:37.644Z"
   },
   {
    "duration": 70,
    "start_time": "2022-02-02T05:28:37.655Z"
   },
   {
    "duration": 9,
    "start_time": "2022-02-02T05:28:37.727Z"
   },
   {
    "duration": 9,
    "start_time": "2022-02-02T05:28:37.738Z"
   },
   {
    "duration": 14,
    "start_time": "2022-02-02T05:28:37.751Z"
   },
   {
    "duration": 13,
    "start_time": "2022-02-02T05:28:37.767Z"
   },
   {
    "duration": 38,
    "start_time": "2022-02-02T05:28:37.781Z"
   },
   {
    "duration": 8,
    "start_time": "2022-02-02T05:28:37.820Z"
   },
   {
    "duration": 9,
    "start_time": "2022-02-02T05:28:37.829Z"
   },
   {
    "duration": 3,
    "start_time": "2022-02-02T05:28:37.840Z"
   },
   {
    "duration": 16,
    "start_time": "2022-02-02T05:28:37.845Z"
   },
   {
    "duration": 45,
    "start_time": "2022-02-02T05:28:37.863Z"
   },
   {
    "duration": 26,
    "start_time": "2022-02-02T05:28:37.911Z"
   },
   {
    "duration": 32,
    "start_time": "2022-02-02T05:28:37.939Z"
   },
   {
    "duration": 67,
    "start_time": "2022-02-02T05:28:37.973Z"
   },
   {
    "duration": 3996,
    "start_time": "2022-02-02T05:28:38.042Z"
   },
   {
    "duration": 3757,
    "start_time": "2022-02-02T05:28:42.040Z"
   },
   {
    "duration": 8265,
    "start_time": "2022-02-02T05:28:45.799Z"
   },
   {
    "duration": 22,
    "start_time": "2022-02-02T05:28:54.066Z"
   },
   {
    "duration": 19,
    "start_time": "2022-02-02T05:28:54.090Z"
   },
   {
    "duration": 15,
    "start_time": "2022-02-02T05:28:54.111Z"
   },
   {
    "duration": 9,
    "start_time": "2022-02-02T05:28:54.128Z"
   },
   {
    "duration": 31,
    "start_time": "2022-02-02T05:28:54.139Z"
   },
   {
    "duration": 7,
    "start_time": "2022-02-02T05:28:54.172Z"
   },
   {
    "duration": 16,
    "start_time": "2022-02-02T05:28:54.208Z"
   },
   {
    "duration": 12,
    "start_time": "2022-02-02T05:28:54.226Z"
   },
   {
    "duration": 24,
    "start_time": "2022-02-02T05:28:54.240Z"
   },
   {
    "duration": 49,
    "start_time": "2022-02-02T05:28:54.266Z"
   },
   {
    "duration": 6,
    "start_time": "2022-02-02T05:28:54.316Z"
   },
   {
    "duration": 11,
    "start_time": "2022-02-02T05:29:18.182Z"
   },
   {
    "duration": 14,
    "start_time": "2022-02-02T05:29:22.542Z"
   },
   {
    "duration": 9,
    "start_time": "2022-02-02T05:32:08.854Z"
   },
   {
    "duration": 13,
    "start_time": "2022-02-02T05:32:16.726Z"
   },
   {
    "duration": 13,
    "start_time": "2022-02-02T05:32:56.062Z"
   },
   {
    "duration": 345,
    "start_time": "2022-02-02T05:34:56.470Z"
   },
   {
    "duration": 6247,
    "start_time": "2022-02-02T05:36:20.382Z"
   },
   {
    "duration": 13,
    "start_time": "2022-02-02T05:36:43.517Z"
   },
   {
    "duration": 12,
    "start_time": "2022-02-02T05:36:46.020Z"
   },
   {
    "duration": 20,
    "start_time": "2022-02-02T05:42:06.487Z"
   },
   {
    "duration": 22,
    "start_time": "2022-02-02T05:42:14.569Z"
   },
   {
    "duration": 23,
    "start_time": "2022-02-02T05:45:23.872Z"
   },
   {
    "duration": 101,
    "start_time": "2022-02-02T05:46:28.760Z"
   },
   {
    "duration": 24,
    "start_time": "2022-02-02T05:46:36.191Z"
   },
   {
    "duration": 21,
    "start_time": "2022-02-02T05:49:43.191Z"
   },
   {
    "duration": 21,
    "start_time": "2022-02-02T05:51:31.342Z"
   },
   {
    "duration": 24,
    "start_time": "2022-02-02T05:51:33.207Z"
   },
   {
    "duration": 31,
    "start_time": "2022-02-02T05:51:35.006Z"
   },
   {
    "duration": 2488,
    "start_time": "2022-02-02T05:52:51.518Z"
   },
   {
    "duration": 91,
    "start_time": "2022-02-02T05:57:46.555Z"
   },
   {
    "duration": 245,
    "start_time": "2022-02-02T05:57:55.379Z"
   },
   {
    "duration": 268,
    "start_time": "2022-02-02T05:58:06.267Z"
   },
   {
    "duration": 94,
    "start_time": "2022-02-02T05:58:39.106Z"
   },
   {
    "duration": 6903,
    "start_time": "2022-02-02T05:58:48.226Z"
   },
   {
    "duration": 6194,
    "start_time": "2022-02-02T05:59:07.083Z"
   },
   {
    "duration": 3262,
    "start_time": "2022-02-02T07:26:45.794Z"
   },
   {
    "duration": 36,
    "start_time": "2022-02-02T07:27:42.763Z"
   },
   {
    "duration": 112,
    "start_time": "2022-02-02T08:08:51.265Z"
   },
   {
    "duration": 4456,
    "start_time": "2022-02-02T18:42:56.035Z"
   },
   {
    "duration": 7,
    "start_time": "2022-02-02T18:43:46.315Z"
   },
   {
    "duration": 16,
    "start_time": "2022-02-02T18:45:07.772Z"
   },
   {
    "duration": 42,
    "start_time": "2022-02-02T18:47:01.699Z"
   },
   {
    "duration": 9,
    "start_time": "2022-02-02T18:47:17.419Z"
   },
   {
    "duration": 8,
    "start_time": "2022-02-02T18:47:45.188Z"
   },
   {
    "duration": 10,
    "start_time": "2022-02-02T18:47:53.226Z"
   },
   {
    "duration": 8,
    "start_time": "2022-02-02T18:52:27.086Z"
   },
   {
    "duration": 9,
    "start_time": "2022-02-02T18:52:45.386Z"
   },
   {
    "duration": 3,
    "start_time": "2022-02-02T18:57:11.013Z"
   },
   {
    "duration": 3,
    "start_time": "2022-02-02T18:57:12.844Z"
   },
   {
    "duration": 7,
    "start_time": "2022-02-02T18:58:44.373Z"
   },
   {
    "duration": 90,
    "start_time": "2022-02-02T18:59:52.103Z"
   },
   {
    "duration": 4,
    "start_time": "2022-02-02T19:00:01.899Z"
   },
   {
    "duration": 1350,
    "start_time": "2022-02-02T19:00:53.727Z"
   },
   {
    "duration": 247,
    "start_time": "2022-02-02T19:01:04.713Z"
   },
   {
    "duration": 1393,
    "start_time": "2022-02-02T19:01:19.393Z"
   },
   {
    "duration": 5,
    "start_time": "2022-02-02T19:01:40.535Z"
   },
   {
    "duration": 8570,
    "start_time": "2022-02-02T19:01:43.624Z"
   },
   {
    "duration": 4,
    "start_time": "2022-02-02T19:02:02.893Z"
   },
   {
    "duration": 340,
    "start_time": "2022-02-02T19:02:05.191Z"
   },
   {
    "duration": 363,
    "start_time": "2022-02-02T19:02:16.306Z"
   },
   {
    "duration": 8,
    "start_time": "2022-02-02T19:02:45.878Z"
   },
   {
    "duration": 9,
    "start_time": "2022-02-02T19:02:55.538Z"
   },
   {
    "duration": 10,
    "start_time": "2022-02-02T19:06:17.442Z"
   },
   {
    "duration": 327,
    "start_time": "2022-02-02T19:06:37.720Z"
   },
   {
    "duration": 4,
    "start_time": "2022-02-02T19:06:43.850Z"
   },
   {
    "duration": 256,
    "start_time": "2022-02-02T19:06:47.090Z"
   },
   {
    "duration": 7,
    "start_time": "2022-02-02T19:09:34.369Z"
   },
   {
    "duration": 7,
    "start_time": "2022-02-02T19:09:39.923Z"
   },
   {
    "duration": 6,
    "start_time": "2022-02-02T19:10:06.375Z"
   },
   {
    "duration": 7,
    "start_time": "2022-02-02T19:10:21.455Z"
   },
   {
    "duration": 5,
    "start_time": "2022-02-02T19:12:29.339Z"
   },
   {
    "duration": 7537,
    "start_time": "2022-02-02T19:12:45.939Z"
   },
   {
    "duration": 5,
    "start_time": "2022-02-02T19:13:27.412Z"
   },
   {
    "duration": 5,
    "start_time": "2022-02-02T19:14:13.482Z"
   },
   {
    "duration": 4,
    "start_time": "2022-02-02T19:15:38.817Z"
   },
   {
    "duration": 5595,
    "start_time": "2022-02-02T19:15:45.276Z"
   },
   {
    "duration": 248,
    "start_time": "2022-02-02T19:20:18.757Z"
   },
   {
    "duration": 3,
    "start_time": "2022-02-02T19:27:48.658Z"
   },
   {
    "duration": 13,
    "start_time": "2022-02-02T19:28:26.385Z"
   },
   {
    "duration": 27,
    "start_time": "2022-02-02T19:28:34.503Z"
   },
   {
    "duration": 28,
    "start_time": "2022-02-02T19:28:43.053Z"
   },
   {
    "duration": 30,
    "start_time": "2022-02-02T19:31:32.746Z"
   },
   {
    "duration": 26,
    "start_time": "2022-02-02T19:31:48.504Z"
   },
   {
    "duration": 17,
    "start_time": "2022-02-02T19:31:57.411Z"
   },
   {
    "duration": 8,
    "start_time": "2022-02-02T19:32:18.810Z"
   },
   {
    "duration": 238,
    "start_time": "2022-02-02T19:32:24.170Z"
   },
   {
    "duration": 728,
    "start_time": "2022-02-02T19:32:42.933Z"
   },
   {
    "duration": 20,
    "start_time": "2022-02-02T19:32:43.663Z"
   },
   {
    "duration": 39,
    "start_time": "2022-02-02T19:32:43.686Z"
   },
   {
    "duration": 21,
    "start_time": "2022-02-02T19:32:43.727Z"
   },
   {
    "duration": 29,
    "start_time": "2022-02-02T19:32:43.750Z"
   },
   {
    "duration": 35,
    "start_time": "2022-02-02T19:32:43.781Z"
   },
   {
    "duration": 14,
    "start_time": "2022-02-02T19:32:43.818Z"
   },
   {
    "duration": 5,
    "start_time": "2022-02-02T19:32:43.834Z"
   },
   {
    "duration": 8,
    "start_time": "2022-02-02T19:32:43.842Z"
   },
   {
    "duration": 11,
    "start_time": "2022-02-02T19:32:43.852Z"
   },
   {
    "duration": 48,
    "start_time": "2022-02-02T19:32:43.866Z"
   },
   {
    "duration": 34,
    "start_time": "2022-02-02T19:32:43.917Z"
   },
   {
    "duration": 9,
    "start_time": "2022-02-02T19:32:43.953Z"
   },
   {
    "duration": 17,
    "start_time": "2022-02-02T19:32:43.964Z"
   },
   {
    "duration": 5,
    "start_time": "2022-02-02T19:32:44.008Z"
   },
   {
    "duration": 11,
    "start_time": "2022-02-02T19:32:44.014Z"
   },
   {
    "duration": 9,
    "start_time": "2022-02-02T19:32:44.027Z"
   },
   {
    "duration": 8,
    "start_time": "2022-02-02T19:32:44.039Z"
   },
   {
    "duration": 9,
    "start_time": "2022-02-02T19:32:44.050Z"
   },
   {
    "duration": 66,
    "start_time": "2022-02-02T19:32:44.061Z"
   },
   {
    "duration": 8,
    "start_time": "2022-02-02T19:32:44.129Z"
   },
   {
    "duration": 9,
    "start_time": "2022-02-02T19:32:44.139Z"
   },
   {
    "duration": 14,
    "start_time": "2022-02-02T19:32:44.151Z"
   },
   {
    "duration": 40,
    "start_time": "2022-02-02T19:32:44.168Z"
   },
   {
    "duration": 16,
    "start_time": "2022-02-02T19:32:44.211Z"
   },
   {
    "duration": 9,
    "start_time": "2022-02-02T19:32:44.230Z"
   },
   {
    "duration": 9,
    "start_time": "2022-02-02T19:32:44.243Z"
   },
   {
    "duration": 4,
    "start_time": "2022-02-02T19:32:44.255Z"
   },
   {
    "duration": 51,
    "start_time": "2022-02-02T19:32:44.261Z"
   },
   {
    "duration": 12,
    "start_time": "2022-02-02T19:32:44.314Z"
   },
   {
    "duration": 24,
    "start_time": "2022-02-02T19:32:44.328Z"
   },
   {
    "duration": 57,
    "start_time": "2022-02-02T19:32:44.354Z"
   },
   {
    "duration": 36,
    "start_time": "2022-02-02T19:32:44.412Z"
   },
   {
    "duration": 4091,
    "start_time": "2022-02-02T19:32:44.449Z"
   },
   {
    "duration": 3668,
    "start_time": "2022-02-02T19:32:48.542Z"
   },
   {
    "duration": 16,
    "start_time": "2022-02-02T19:32:52.212Z"
   },
   {
    "duration": 8027,
    "start_time": "2022-02-02T19:32:52.230Z"
   },
   {
    "duration": 24,
    "start_time": "2022-02-02T19:33:00.259Z"
   },
   {
    "duration": 24,
    "start_time": "2022-02-02T19:33:00.285Z"
   },
   {
    "duration": 5,
    "start_time": "2022-02-02T19:33:00.312Z"
   },
   {
    "duration": 36,
    "start_time": "2022-02-02T19:33:00.319Z"
   },
   {
    "duration": 26,
    "start_time": "2022-02-02T19:33:00.358Z"
   },
   {
    "duration": 31,
    "start_time": "2022-02-02T19:33:00.386Z"
   },
   {
    "duration": 10,
    "start_time": "2022-02-02T19:33:00.419Z"
   },
   {
    "duration": 39,
    "start_time": "2022-02-02T19:33:00.431Z"
   },
   {
    "duration": 7,
    "start_time": "2022-02-02T19:33:00.472Z"
   },
   {
    "duration": 30,
    "start_time": "2022-02-02T19:33:00.481Z"
   },
   {
    "duration": 24,
    "start_time": "2022-02-02T19:33:00.513Z"
   },
   {
    "duration": 18,
    "start_time": "2022-02-02T19:33:00.539Z"
   },
   {
    "duration": 4,
    "start_time": "2022-02-02T19:33:00.559Z"
   },
   {
    "duration": 365,
    "start_time": "2022-02-02T19:33:00.565Z"
   },
   {
    "duration": 5,
    "start_time": "2022-02-02T19:33:00.932Z"
   },
   {
    "duration": 34,
    "start_time": "2022-02-02T19:33:00.939Z"
   },
   {
    "duration": 44,
    "start_time": "2022-02-02T19:33:00.975Z"
   },
   {
    "duration": 328,
    "start_time": "2022-02-02T19:33:01.021Z"
   },
   {
    "duration": 13,
    "start_time": "2022-02-02T19:35:24.770Z"
   },
   {
    "duration": 13,
    "start_time": "2022-02-02T19:35:36.248Z"
   },
   {
    "duration": 61,
    "start_time": "2022-02-02T19:36:09.855Z"
   },
   {
    "duration": 13,
    "start_time": "2022-02-02T19:36:09.919Z"
   },
   {
    "duration": 25,
    "start_time": "2022-02-02T19:36:09.934Z"
   },
   {
    "duration": 51,
    "start_time": "2022-02-02T19:36:09.961Z"
   },
   {
    "duration": 31,
    "start_time": "2022-02-02T19:36:10.013Z"
   },
   {
    "duration": 13,
    "start_time": "2022-02-02T19:36:10.047Z"
   },
   {
    "duration": 46,
    "start_time": "2022-02-02T19:36:10.063Z"
   },
   {
    "duration": 5,
    "start_time": "2022-02-02T19:36:10.112Z"
   },
   {
    "duration": 12,
    "start_time": "2022-02-02T19:36:10.119Z"
   },
   {
    "duration": 7,
    "start_time": "2022-02-02T19:36:10.133Z"
   },
   {
    "duration": 10,
    "start_time": "2022-02-02T19:36:10.142Z"
   },
   {
    "duration": 61,
    "start_time": "2022-02-02T19:36:10.154Z"
   },
   {
    "duration": 7,
    "start_time": "2022-02-02T19:36:10.218Z"
   },
   {
    "duration": 18,
    "start_time": "2022-02-02T19:36:10.227Z"
   },
   {
    "duration": 5,
    "start_time": "2022-02-02T19:36:10.247Z"
   },
   {
    "duration": 8,
    "start_time": "2022-02-02T19:36:10.254Z"
   },
   {
    "duration": 11,
    "start_time": "2022-02-02T19:36:10.264Z"
   },
   {
    "duration": 33,
    "start_time": "2022-02-02T19:36:10.277Z"
   },
   {
    "duration": 12,
    "start_time": "2022-02-02T19:36:10.312Z"
   },
   {
    "duration": 34,
    "start_time": "2022-02-02T19:36:10.326Z"
   },
   {
    "duration": 7,
    "start_time": "2022-02-02T19:36:10.362Z"
   },
   {
    "duration": 57,
    "start_time": "2022-02-02T19:36:10.371Z"
   },
   {
    "duration": 23,
    "start_time": "2022-02-02T19:36:10.432Z"
   },
   {
    "duration": 14,
    "start_time": "2022-02-02T19:36:10.458Z"
   },
   {
    "duration": 24,
    "start_time": "2022-02-02T19:36:10.474Z"
   },
   {
    "duration": 9,
    "start_time": "2022-02-02T19:36:10.500Z"
   },
   {
    "duration": 14,
    "start_time": "2022-02-02T19:36:10.511Z"
   },
   {
    "duration": 7,
    "start_time": "2022-02-02T19:36:10.528Z"
   },
   {
    "duration": 22,
    "start_time": "2022-02-02T19:36:10.536Z"
   },
   {
    "duration": 13,
    "start_time": "2022-02-02T19:36:10.560Z"
   },
   {
    "duration": 47,
    "start_time": "2022-02-02T19:36:10.574Z"
   },
   {
    "duration": 34,
    "start_time": "2022-02-02T19:36:10.623Z"
   },
   {
    "duration": 58,
    "start_time": "2022-02-02T19:36:10.659Z"
   },
   {
    "duration": 4066,
    "start_time": "2022-02-02T19:36:10.719Z"
   },
   {
    "duration": 3794,
    "start_time": "2022-02-02T19:36:14.786Z"
   },
   {
    "duration": 16,
    "start_time": "2022-02-02T19:36:18.582Z"
   },
   {
    "duration": 7946,
    "start_time": "2022-02-02T19:36:18.608Z"
   },
   {
    "duration": 21,
    "start_time": "2022-02-02T19:36:26.556Z"
   },
   {
    "duration": 22,
    "start_time": "2022-02-02T19:36:26.579Z"
   },
   {
    "duration": 11,
    "start_time": "2022-02-02T19:36:26.603Z"
   },
   {
    "duration": 40,
    "start_time": "2022-02-02T19:36:26.616Z"
   },
   {
    "duration": 26,
    "start_time": "2022-02-02T19:36:26.658Z"
   },
   {
    "duration": 14,
    "start_time": "2022-02-02T19:36:26.686Z"
   },
   {
    "duration": 17,
    "start_time": "2022-02-02T19:36:26.702Z"
   },
   {
    "duration": 30,
    "start_time": "2022-02-02T19:36:26.721Z"
   },
   {
    "duration": 34,
    "start_time": "2022-02-02T19:36:26.753Z"
   },
   {
    "duration": 38,
    "start_time": "2022-02-02T19:36:26.788Z"
   },
   {
    "duration": 14,
    "start_time": "2022-02-02T19:36:26.828Z"
   },
   {
    "duration": 16,
    "start_time": "2022-02-02T19:36:26.845Z"
   },
   {
    "duration": 15,
    "start_time": "2022-02-02T19:36:26.863Z"
   },
   {
    "duration": 373,
    "start_time": "2022-02-02T19:36:26.880Z"
   },
   {
    "duration": 4,
    "start_time": "2022-02-02T19:36:27.255Z"
   },
   {
    "duration": 42,
    "start_time": "2022-02-02T19:36:27.261Z"
   },
   {
    "duration": 34,
    "start_time": "2022-02-02T19:36:27.305Z"
   },
   {
    "duration": 264,
    "start_time": "2022-02-02T19:36:27.341Z"
   },
   {
    "duration": 1041,
    "start_time": "2022-02-02T19:37:58.073Z"
   },
   {
    "duration": 21,
    "start_time": "2022-02-02T19:37:59.116Z"
   },
   {
    "duration": 24,
    "start_time": "2022-02-02T19:37:59.141Z"
   },
   {
    "duration": 49,
    "start_time": "2022-02-02T19:37:59.167Z"
   },
   {
    "duration": 29,
    "start_time": "2022-02-02T19:37:59.218Z"
   },
   {
    "duration": 14,
    "start_time": "2022-02-02T19:37:59.250Z"
   },
   {
    "duration": 46,
    "start_time": "2022-02-02T19:37:59.267Z"
   },
   {
    "duration": 5,
    "start_time": "2022-02-02T19:37:59.316Z"
   },
   {
    "duration": 8,
    "start_time": "2022-02-02T19:37:59.323Z"
   },
   {
    "duration": 11,
    "start_time": "2022-02-02T19:37:59.333Z"
   },
   {
    "duration": 11,
    "start_time": "2022-02-02T19:37:59.346Z"
   },
   {
    "duration": 90,
    "start_time": "2022-02-02T19:37:59.359Z"
   },
   {
    "duration": 10,
    "start_time": "2022-02-02T19:37:59.451Z"
   },
   {
    "duration": 23,
    "start_time": "2022-02-02T19:37:59.463Z"
   },
   {
    "duration": 25,
    "start_time": "2022-02-02T19:37:59.488Z"
   },
   {
    "duration": 7,
    "start_time": "2022-02-02T19:37:59.515Z"
   },
   {
    "duration": 8,
    "start_time": "2022-02-02T19:37:59.524Z"
   },
   {
    "duration": 9,
    "start_time": "2022-02-02T19:37:59.534Z"
   },
   {
    "duration": 14,
    "start_time": "2022-02-02T19:37:59.545Z"
   },
   {
    "duration": 68,
    "start_time": "2022-02-02T19:37:59.561Z"
   },
   {
    "duration": 7,
    "start_time": "2022-02-02T19:37:59.631Z"
   },
   {
    "duration": 11,
    "start_time": "2022-02-02T19:37:59.642Z"
   },
   {
    "duration": 14,
    "start_time": "2022-02-02T19:37:59.656Z"
   },
   {
    "duration": 37,
    "start_time": "2022-02-02T19:37:59.672Z"
   },
   {
    "duration": 16,
    "start_time": "2022-02-02T19:37:59.711Z"
   },
   {
    "duration": 9,
    "start_time": "2022-02-02T19:37:59.729Z"
   },
   {
    "duration": 11,
    "start_time": "2022-02-02T19:37:59.740Z"
   },
   {
    "duration": 5,
    "start_time": "2022-02-02T19:37:59.753Z"
   },
   {
    "duration": 20,
    "start_time": "2022-02-02T19:37:59.760Z"
   },
   {
    "duration": 12,
    "start_time": "2022-02-02T19:37:59.808Z"
   },
   {
    "duration": 26,
    "start_time": "2022-02-02T19:37:59.822Z"
   },
   {
    "duration": 63,
    "start_time": "2022-02-02T19:37:59.850Z"
   },
   {
    "duration": 37,
    "start_time": "2022-02-02T19:37:59.916Z"
   },
   {
    "duration": 4466,
    "start_time": "2022-02-02T19:37:59.955Z"
   },
   {
    "duration": 3,
    "start_time": "2022-02-02T19:38:04.424Z"
   },
   {
    "duration": 6,
    "start_time": "2022-02-02T19:38:04.429Z"
   },
   {
    "duration": 6,
    "start_time": "2022-02-02T19:38:04.437Z"
   },
   {
    "duration": 12,
    "start_time": "2022-02-02T19:38:04.445Z"
   },
   {
    "duration": 325,
    "start_time": "2022-02-02T19:38:04.460Z"
   },
   {
    "duration": -38,
    "start_time": "2022-02-02T19:38:04.826Z"
   },
   {
    "duration": -41,
    "start_time": "2022-02-02T19:38:04.830Z"
   },
   {
    "duration": -43,
    "start_time": "2022-02-02T19:38:04.834Z"
   },
   {
    "duration": -46,
    "start_time": "2022-02-02T19:38:04.839Z"
   },
   {
    "duration": -49,
    "start_time": "2022-02-02T19:38:04.843Z"
   },
   {
    "duration": -52,
    "start_time": "2022-02-02T19:38:04.848Z"
   },
   {
    "duration": -54,
    "start_time": "2022-02-02T19:38:04.851Z"
   },
   {
    "duration": -56,
    "start_time": "2022-02-02T19:38:04.854Z"
   },
   {
    "duration": -63,
    "start_time": "2022-02-02T19:38:04.863Z"
   },
   {
    "duration": -69,
    "start_time": "2022-02-02T19:38:04.870Z"
   },
   {
    "duration": -70,
    "start_time": "2022-02-02T19:38:04.873Z"
   },
   {
    "duration": -72,
    "start_time": "2022-02-02T19:38:04.876Z"
   },
   {
    "duration": -74,
    "start_time": "2022-02-02T19:38:04.879Z"
   },
   {
    "duration": -75,
    "start_time": "2022-02-02T19:38:04.882Z"
   },
   {
    "duration": -77,
    "start_time": "2022-02-02T19:38:04.885Z"
   },
   {
    "duration": -79,
    "start_time": "2022-02-02T19:38:04.888Z"
   },
   {
    "duration": 4,
    "start_time": "2022-02-02T19:38:14.037Z"
   },
   {
    "duration": 27,
    "start_time": "2022-02-02T19:38:15.704Z"
   },
   {
    "duration": 25,
    "start_time": "2022-02-02T19:38:24.503Z"
   },
   {
    "duration": 64,
    "start_time": "2022-02-02T19:39:59.233Z"
   },
   {
    "duration": 12,
    "start_time": "2022-02-02T19:39:59.300Z"
   },
   {
    "duration": 26,
    "start_time": "2022-02-02T19:39:59.314Z"
   },
   {
    "duration": 20,
    "start_time": "2022-02-02T19:39:59.342Z"
   },
   {
    "duration": 63,
    "start_time": "2022-02-02T19:39:59.364Z"
   },
   {
    "duration": 14,
    "start_time": "2022-02-02T19:39:59.429Z"
   },
   {
    "duration": 14,
    "start_time": "2022-02-02T19:39:59.445Z"
   },
   {
    "duration": 4,
    "start_time": "2022-02-02T19:39:59.461Z"
   },
   {
    "duration": 41,
    "start_time": "2022-02-02T19:39:59.468Z"
   },
   {
    "duration": 10,
    "start_time": "2022-02-02T19:39:59.512Z"
   },
   {
    "duration": 10,
    "start_time": "2022-02-02T19:39:59.524Z"
   },
   {
    "duration": 34,
    "start_time": "2022-02-02T19:39:59.536Z"
   },
   {
    "duration": 7,
    "start_time": "2022-02-02T19:39:59.572Z"
   },
   {
    "duration": 16,
    "start_time": "2022-02-02T19:39:59.607Z"
   },
   {
    "duration": 4,
    "start_time": "2022-02-02T19:39:59.625Z"
   },
   {
    "duration": 14,
    "start_time": "2022-02-02T19:39:59.631Z"
   },
   {
    "duration": 11,
    "start_time": "2022-02-02T19:39:59.647Z"
   },
   {
    "duration": 10,
    "start_time": "2022-02-02T19:39:59.661Z"
   },
   {
    "duration": 40,
    "start_time": "2022-02-02T19:39:59.673Z"
   },
   {
    "duration": 31,
    "start_time": "2022-02-02T19:39:59.715Z"
   },
   {
    "duration": 8,
    "start_time": "2022-02-02T19:39:59.748Z"
   },
   {
    "duration": 15,
    "start_time": "2022-02-02T19:39:59.758Z"
   },
   {
    "duration": 43,
    "start_time": "2022-02-02T19:39:59.775Z"
   },
   {
    "duration": 20,
    "start_time": "2022-02-02T19:39:59.821Z"
   },
   {
    "duration": 22,
    "start_time": "2022-02-02T19:39:59.843Z"
   },
   {
    "duration": 10,
    "start_time": "2022-02-02T19:39:59.867Z"
   },
   {
    "duration": 33,
    "start_time": "2022-02-02T19:39:59.883Z"
   },
   {
    "duration": 4,
    "start_time": "2022-02-02T19:39:59.919Z"
   },
   {
    "duration": 16,
    "start_time": "2022-02-02T19:39:59.925Z"
   },
   {
    "duration": 14,
    "start_time": "2022-02-02T19:39:59.944Z"
   },
   {
    "duration": 64,
    "start_time": "2022-02-02T19:39:59.960Z"
   },
   {
    "duration": 36,
    "start_time": "2022-02-02T19:40:00.026Z"
   },
   {
    "duration": 61,
    "start_time": "2022-02-02T19:40:00.065Z"
   },
   {
    "duration": 4130,
    "start_time": "2022-02-02T19:40:00.129Z"
   },
   {
    "duration": 3695,
    "start_time": "2022-02-02T19:40:04.261Z"
   },
   {
    "duration": 15,
    "start_time": "2022-02-02T19:40:07.958Z"
   },
   {
    "duration": 8390,
    "start_time": "2022-02-02T19:40:07.975Z"
   },
   {
    "duration": 22,
    "start_time": "2022-02-02T19:40:16.367Z"
   },
   {
    "duration": 23,
    "start_time": "2022-02-02T19:40:16.391Z"
   },
   {
    "duration": 9,
    "start_time": "2022-02-02T19:40:16.417Z"
   },
   {
    "duration": 31,
    "start_time": "2022-02-02T19:40:16.428Z"
   },
   {
    "duration": 24,
    "start_time": "2022-02-02T19:40:16.461Z"
   },
   {
    "duration": 33,
    "start_time": "2022-02-02T19:40:16.487Z"
   },
   {
    "duration": 11,
    "start_time": "2022-02-02T19:40:16.522Z"
   },
   {
    "duration": 22,
    "start_time": "2022-02-02T19:40:16.535Z"
   },
   {
    "duration": 16,
    "start_time": "2022-02-02T19:40:16.559Z"
   },
   {
    "duration": 51,
    "start_time": "2022-02-02T19:40:16.577Z"
   },
   {
    "duration": 6,
    "start_time": "2022-02-02T19:40:16.630Z"
   },
   {
    "duration": 35,
    "start_time": "2022-02-02T19:40:16.638Z"
   },
   {
    "duration": 20,
    "start_time": "2022-02-02T19:40:16.675Z"
   },
   {
    "duration": 573,
    "start_time": "2022-02-02T19:40:16.697Z"
   },
   {
    "duration": 5,
    "start_time": "2022-02-02T19:40:17.273Z"
   },
   {
    "duration": 42,
    "start_time": "2022-02-02T19:40:17.280Z"
   },
   {
    "duration": 25,
    "start_time": "2022-02-02T19:40:17.324Z"
   },
   {
    "duration": 256,
    "start_time": "2022-02-02T19:40:17.351Z"
   },
   {
    "duration": 41,
    "start_time": "2022-02-02T19:40:59.433Z"
   },
   {
    "duration": 26,
    "start_time": "2022-02-02T19:41:03.745Z"
   },
   {
    "duration": 22,
    "start_time": "2022-02-02T19:41:48.669Z"
   },
   {
    "duration": 20,
    "start_time": "2022-02-02T19:52:21.367Z"
   },
   {
    "duration": 34,
    "start_time": "2022-02-02T19:52:46.470Z"
   },
   {
    "duration": 52,
    "start_time": "2022-02-02T19:53:03.112Z"
   },
   {
    "duration": 32,
    "start_time": "2022-02-02T19:53:22.039Z"
   },
   {
    "duration": 37,
    "start_time": "2022-02-02T19:55:13.908Z"
   },
   {
    "duration": 26,
    "start_time": "2022-02-02T19:55:33.182Z"
   },
   {
    "duration": 22,
    "start_time": "2022-02-02T19:55:52.406Z"
   },
   {
    "duration": 23,
    "start_time": "2022-02-02T19:56:03.344Z"
   },
   {
    "duration": 24,
    "start_time": "2022-02-02T19:56:23.919Z"
   },
   {
    "duration": 4,
    "start_time": "2022-02-02T19:57:11.360Z"
   },
   {
    "duration": 673,
    "start_time": "2022-02-02T19:57:35.025Z"
   },
   {
    "duration": 20,
    "start_time": "2022-02-02T19:57:35.700Z"
   },
   {
    "duration": 29,
    "start_time": "2022-02-02T19:57:35.722Z"
   },
   {
    "duration": 20,
    "start_time": "2022-02-02T19:57:35.753Z"
   },
   {
    "duration": 49,
    "start_time": "2022-02-02T19:57:35.774Z"
   },
   {
    "duration": 13,
    "start_time": "2022-02-02T19:57:35.825Z"
   },
   {
    "duration": 13,
    "start_time": "2022-02-02T19:57:35.840Z"
   },
   {
    "duration": 4,
    "start_time": "2022-02-02T19:57:35.855Z"
   },
   {
    "duration": 17,
    "start_time": "2022-02-02T19:57:35.861Z"
   },
   {
    "duration": 34,
    "start_time": "2022-02-02T19:57:35.880Z"
   },
   {
    "duration": 13,
    "start_time": "2022-02-02T19:57:35.916Z"
   },
   {
    "duration": 40,
    "start_time": "2022-02-02T19:57:35.930Z"
   },
   {
    "duration": 8,
    "start_time": "2022-02-02T19:57:35.973Z"
   },
   {
    "duration": 37,
    "start_time": "2022-02-02T19:57:35.983Z"
   },
   {
    "duration": 5,
    "start_time": "2022-02-02T19:57:36.022Z"
   },
   {
    "duration": 15,
    "start_time": "2022-02-02T19:57:36.028Z"
   },
   {
    "duration": 10,
    "start_time": "2022-02-02T19:57:36.045Z"
   },
   {
    "duration": 10,
    "start_time": "2022-02-02T19:57:36.057Z"
   },
   {
    "duration": 11,
    "start_time": "2022-02-02T19:57:36.069Z"
   },
   {
    "duration": 56,
    "start_time": "2022-02-02T19:57:36.081Z"
   },
   {
    "duration": 7,
    "start_time": "2022-02-02T19:57:36.139Z"
   },
   {
    "duration": 16,
    "start_time": "2022-02-02T19:57:36.148Z"
   },
   {
    "duration": 41,
    "start_time": "2022-02-02T19:57:36.166Z"
   },
   {
    "duration": 8,
    "start_time": "2022-02-02T19:57:36.210Z"
   },
   {
    "duration": 17,
    "start_time": "2022-02-02T19:57:36.220Z"
   },
   {
    "duration": 8,
    "start_time": "2022-02-02T19:57:36.239Z"
   },
   {
    "duration": 13,
    "start_time": "2022-02-02T19:57:36.253Z"
   },
   {
    "duration": 39,
    "start_time": "2022-02-02T19:57:36.269Z"
   },
   {
    "duration": 12,
    "start_time": "2022-02-02T19:57:36.311Z"
   },
   {
    "duration": 12,
    "start_time": "2022-02-02T19:57:36.325Z"
   },
   {
    "duration": 25,
    "start_time": "2022-02-02T19:57:36.339Z"
   },
   {
    "duration": 60,
    "start_time": "2022-02-02T19:57:36.366Z"
   },
   {
    "duration": 36,
    "start_time": "2022-02-02T19:57:36.428Z"
   },
   {
    "duration": 3824,
    "start_time": "2022-02-02T19:57:36.466Z"
   },
   {
    "duration": 3968,
    "start_time": "2022-02-02T19:57:40.293Z"
   },
   {
    "duration": 15,
    "start_time": "2022-02-02T19:57:44.263Z"
   },
   {
    "duration": 8908,
    "start_time": "2022-02-02T19:57:44.280Z"
   },
   {
    "duration": 28,
    "start_time": "2022-02-02T19:57:53.190Z"
   },
   {
    "duration": 12,
    "start_time": "2022-02-02T19:57:53.220Z"
   },
   {
    "duration": 9,
    "start_time": "2022-02-02T19:57:53.234Z"
   },
   {
    "duration": 30,
    "start_time": "2022-02-02T19:57:53.245Z"
   },
   {
    "duration": 41,
    "start_time": "2022-02-02T19:57:53.276Z"
   },
   {
    "duration": 14,
    "start_time": "2022-02-02T19:57:53.319Z"
   },
   {
    "duration": 8,
    "start_time": "2022-02-02T19:57:53.335Z"
   },
   {
    "duration": 20,
    "start_time": "2022-02-02T19:57:53.345Z"
   },
   {
    "duration": 14,
    "start_time": "2022-02-02T19:57:53.367Z"
   },
   {
    "duration": 24,
    "start_time": "2022-02-02T19:57:53.407Z"
   },
   {
    "duration": 7,
    "start_time": "2022-02-02T19:57:53.432Z"
   },
   {
    "duration": 9,
    "start_time": "2022-02-02T19:57:53.441Z"
   },
   {
    "duration": 9,
    "start_time": "2022-02-02T19:57:53.452Z"
   },
   {
    "duration": 369,
    "start_time": "2022-02-02T19:57:53.463Z"
   },
   {
    "duration": 4,
    "start_time": "2022-02-02T19:57:53.834Z"
   },
   {
    "duration": 7,
    "start_time": "2022-02-02T19:57:53.840Z"
   },
   {
    "duration": 35,
    "start_time": "2022-02-02T19:57:53.848Z"
   },
   {
    "duration": 32,
    "start_time": "2022-02-02T19:57:53.885Z"
   },
   {
    "duration": 21,
    "start_time": "2022-02-02T19:57:53.919Z"
   },
   {
    "duration": 21,
    "start_time": "2022-02-02T19:57:53.941Z"
   },
   {
    "duration": 78,
    "start_time": "2022-02-02T19:59:52.520Z"
   },
   {
    "duration": 32,
    "start_time": "2022-02-02T20:03:22.929Z"
   },
   {
    "duration": 485,
    "start_time": "2022-02-02T20:04:34.720Z"
   },
   {
    "duration": 415,
    "start_time": "2022-02-02T20:06:27.432Z"
   },
   {
    "duration": 32,
    "start_time": "2022-02-02T20:06:32.289Z"
   },
   {
    "duration": 28,
    "start_time": "2022-02-02T20:08:16.660Z"
   },
   {
    "duration": 31,
    "start_time": "2022-02-02T20:08:44.875Z"
   },
   {
    "duration": 15,
    "start_time": "2022-02-02T20:09:17.386Z"
   },
   {
    "duration": 14,
    "start_time": "2022-02-02T20:09:17.646Z"
   },
   {
    "duration": 4,
    "start_time": "2022-02-02T20:09:21.602Z"
   },
   {
    "duration": 6,
    "start_time": "2022-02-02T20:09:32.291Z"
   },
   {
    "duration": 80,
    "start_time": "2022-02-02T20:10:42.436Z"
   },
   {
    "duration": 7,
    "start_time": "2022-02-02T20:10:49.968Z"
   },
   {
    "duration": 5,
    "start_time": "2022-02-02T20:11:00.226Z"
   },
   {
    "duration": 6,
    "start_time": "2022-02-02T20:11:05.794Z"
   },
   {
    "duration": 5,
    "start_time": "2022-02-02T20:11:23.282Z"
   },
   {
    "duration": 5,
    "start_time": "2022-02-02T20:11:27.785Z"
   },
   {
    "duration": 77,
    "start_time": "2022-02-02T20:12:11.413Z"
   },
   {
    "duration": 7,
    "start_time": "2022-02-02T20:12:18.386Z"
   },
   {
    "duration": 9,
    "start_time": "2022-02-02T20:16:15.050Z"
   },
   {
    "duration": 32,
    "start_time": "2022-02-02T20:16:16.949Z"
   },
   {
    "duration": 8,
    "start_time": "2022-02-02T20:16:19.328Z"
   },
   {
    "duration": 11,
    "start_time": "2022-02-02T20:16:26.407Z"
   },
   {
    "duration": 5,
    "start_time": "2022-02-02T20:16:34.180Z"
   },
   {
    "duration": 6,
    "start_time": "2022-02-02T20:16:37.242Z"
   },
   {
    "duration": 690,
    "start_time": "2022-02-02T20:16:50.635Z"
   },
   {
    "duration": 20,
    "start_time": "2022-02-02T20:16:51.328Z"
   },
   {
    "duration": 24,
    "start_time": "2022-02-02T20:16:51.351Z"
   },
   {
    "duration": 42,
    "start_time": "2022-02-02T20:16:51.377Z"
   },
   {
    "duration": 30,
    "start_time": "2022-02-02T20:16:51.421Z"
   },
   {
    "duration": 13,
    "start_time": "2022-02-02T20:16:51.453Z"
   },
   {
    "duration": 47,
    "start_time": "2022-02-02T20:16:51.468Z"
   },
   {
    "duration": 4,
    "start_time": "2022-02-02T20:16:51.518Z"
   },
   {
    "duration": 7,
    "start_time": "2022-02-02T20:16:51.525Z"
   },
   {
    "duration": 15,
    "start_time": "2022-02-02T20:16:51.535Z"
   },
   {
    "duration": 13,
    "start_time": "2022-02-02T20:16:51.552Z"
   },
   {
    "duration": 63,
    "start_time": "2022-02-02T20:16:51.567Z"
   },
   {
    "duration": 7,
    "start_time": "2022-02-02T20:16:51.632Z"
   },
   {
    "duration": 20,
    "start_time": "2022-02-02T20:16:51.641Z"
   },
   {
    "duration": 5,
    "start_time": "2022-02-02T20:16:51.663Z"
   },
   {
    "duration": 13,
    "start_time": "2022-02-02T20:16:51.669Z"
   },
   {
    "duration": 30,
    "start_time": "2022-02-02T20:16:51.684Z"
   },
   {
    "duration": 9,
    "start_time": "2022-02-02T20:16:51.716Z"
   },
   {
    "duration": 9,
    "start_time": "2022-02-02T20:16:51.728Z"
   },
   {
    "duration": 31,
    "start_time": "2022-02-02T20:16:51.739Z"
   },
   {
    "duration": 8,
    "start_time": "2022-02-02T20:16:51.808Z"
   },
   {
    "duration": 10,
    "start_time": "2022-02-02T20:16:51.818Z"
   },
   {
    "duration": 15,
    "start_time": "2022-02-02T20:16:51.833Z"
   },
   {
    "duration": 16,
    "start_time": "2022-02-02T20:16:51.851Z"
   },
   {
    "duration": 45,
    "start_time": "2022-02-02T20:16:51.869Z"
   },
   {
    "duration": 8,
    "start_time": "2022-02-02T20:16:51.916Z"
   },
   {
    "duration": 16,
    "start_time": "2022-02-02T20:16:51.926Z"
   },
   {
    "duration": 9,
    "start_time": "2022-02-02T20:16:51.944Z"
   },
   {
    "duration": 18,
    "start_time": "2022-02-02T20:16:51.956Z"
   },
   {
    "duration": 38,
    "start_time": "2022-02-02T20:16:51.976Z"
   },
   {
    "duration": 27,
    "start_time": "2022-02-02T20:16:52.016Z"
   },
   {
    "duration": 32,
    "start_time": "2022-02-02T20:16:52.045Z"
   },
   {
    "duration": 65,
    "start_time": "2022-02-02T20:16:52.079Z"
   },
   {
    "duration": 4573,
    "start_time": "2022-02-02T20:16:52.146Z"
   },
   {
    "duration": 3766,
    "start_time": "2022-02-02T20:16:56.721Z"
   },
   {
    "duration": 20,
    "start_time": "2022-02-02T20:17:00.489Z"
   },
   {
    "duration": 8687,
    "start_time": "2022-02-02T20:17:00.510Z"
   },
   {
    "duration": 23,
    "start_time": "2022-02-02T20:17:09.199Z"
   },
   {
    "duration": 12,
    "start_time": "2022-02-02T20:17:09.225Z"
   },
   {
    "duration": 7,
    "start_time": "2022-02-02T20:17:09.239Z"
   },
   {
    "duration": 33,
    "start_time": "2022-02-02T20:17:09.248Z"
   },
   {
    "duration": 26,
    "start_time": "2022-02-02T20:17:09.307Z"
   },
   {
    "duration": 15,
    "start_time": "2022-02-02T20:17:09.335Z"
   },
   {
    "duration": 10,
    "start_time": "2022-02-02T20:17:09.351Z"
   },
   {
    "duration": 17,
    "start_time": "2022-02-02T20:17:09.362Z"
   },
   {
    "duration": 38,
    "start_time": "2022-02-02T20:17:09.381Z"
   },
   {
    "duration": 27,
    "start_time": "2022-02-02T20:17:09.422Z"
   },
   {
    "duration": 6,
    "start_time": "2022-02-02T20:17:09.451Z"
   },
   {
    "duration": 12,
    "start_time": "2022-02-02T20:17:09.459Z"
   },
   {
    "duration": 37,
    "start_time": "2022-02-02T20:17:09.472Z"
   },
   {
    "duration": 417,
    "start_time": "2022-02-02T20:17:09.512Z"
   },
   {
    "duration": 5,
    "start_time": "2022-02-02T20:17:09.931Z"
   },
   {
    "duration": 9,
    "start_time": "2022-02-02T20:17:09.938Z"
   },
   {
    "duration": 32,
    "start_time": "2022-02-02T20:17:09.949Z"
   },
   {
    "duration": 46,
    "start_time": "2022-02-02T20:17:09.983Z"
   },
   {
    "duration": 32,
    "start_time": "2022-02-02T20:17:10.031Z"
   },
   {
    "duration": 64,
    "start_time": "2022-02-02T20:17:10.065Z"
   },
   {
    "duration": 14,
    "start_time": "2022-02-02T20:18:07.908Z"
   },
   {
    "duration": 867,
    "start_time": "2022-02-02T20:18:20.723Z"
   },
   {
    "duration": 28,
    "start_time": "2022-02-02T20:18:21.592Z"
   },
   {
    "duration": 26,
    "start_time": "2022-02-02T20:18:21.623Z"
   },
   {
    "duration": 20,
    "start_time": "2022-02-02T20:18:21.651Z"
   },
   {
    "duration": 54,
    "start_time": "2022-02-02T20:18:21.673Z"
   },
   {
    "duration": 13,
    "start_time": "2022-02-02T20:18:21.729Z"
   },
   {
    "duration": 13,
    "start_time": "2022-02-02T20:18:21.744Z"
   },
   {
    "duration": 4,
    "start_time": "2022-02-02T20:18:21.760Z"
   },
   {
    "duration": 44,
    "start_time": "2022-02-02T20:18:21.766Z"
   },
   {
    "duration": 7,
    "start_time": "2022-02-02T20:18:21.812Z"
   },
   {
    "duration": 13,
    "start_time": "2022-02-02T20:18:21.821Z"
   },
   {
    "duration": 40,
    "start_time": "2022-02-02T20:18:21.836Z"
   },
   {
    "duration": 8,
    "start_time": "2022-02-02T20:18:21.907Z"
   },
   {
    "duration": 19,
    "start_time": "2022-02-02T20:18:21.917Z"
   },
   {
    "duration": 6,
    "start_time": "2022-02-02T20:18:21.939Z"
   },
   {
    "duration": 7,
    "start_time": "2022-02-02T20:18:21.947Z"
   },
   {
    "duration": 8,
    "start_time": "2022-02-02T20:18:21.956Z"
   },
   {
    "duration": 45,
    "start_time": "2022-02-02T20:18:21.966Z"
   },
   {
    "duration": 8,
    "start_time": "2022-02-02T20:18:22.013Z"
   },
   {
    "duration": 33,
    "start_time": "2022-02-02T20:18:22.022Z"
   },
   {
    "duration": 7,
    "start_time": "2022-02-02T20:18:22.057Z"
   },
   {
    "duration": 15,
    "start_time": "2022-02-02T20:18:22.066Z"
   },
   {
    "duration": 16,
    "start_time": "2022-02-02T20:18:22.107Z"
   },
   {
    "duration": 13,
    "start_time": "2022-02-02T20:18:22.126Z"
   },
   {
    "duration": 16,
    "start_time": "2022-02-02T20:18:22.140Z"
   },
   {
    "duration": 10,
    "start_time": "2022-02-02T20:18:22.158Z"
   },
   {
    "duration": 39,
    "start_time": "2022-02-02T20:18:22.170Z"
   },
   {
    "duration": 4,
    "start_time": "2022-02-02T20:18:22.211Z"
   },
   {
    "duration": 21,
    "start_time": "2022-02-02T20:18:22.217Z"
   },
   {
    "duration": 13,
    "start_time": "2022-02-02T20:18:22.240Z"
   },
   {
    "duration": 33,
    "start_time": "2022-02-02T20:18:22.255Z"
   },
   {
    "duration": 32,
    "start_time": "2022-02-02T20:18:22.306Z"
   },
   {
    "duration": 36,
    "start_time": "2022-02-02T20:18:22.340Z"
   },
   {
    "duration": 4610,
    "start_time": "2022-02-02T20:18:22.378Z"
   },
   {
    "duration": 3881,
    "start_time": "2022-02-02T20:18:26.991Z"
   },
   {
    "duration": 33,
    "start_time": "2022-02-02T20:18:30.876Z"
   },
   {
    "duration": 8987,
    "start_time": "2022-02-02T20:18:30.911Z"
   },
   {
    "duration": 31,
    "start_time": "2022-02-02T20:18:39.900Z"
   },
   {
    "duration": 10,
    "start_time": "2022-02-02T20:18:39.934Z"
   },
   {
    "duration": 6,
    "start_time": "2022-02-02T20:18:39.946Z"
   },
   {
    "duration": 55,
    "start_time": "2022-02-02T20:18:39.954Z"
   },
   {
    "duration": 25,
    "start_time": "2022-02-02T20:18:40.011Z"
   },
   {
    "duration": 16,
    "start_time": "2022-02-02T20:18:40.038Z"
   },
   {
    "duration": 9,
    "start_time": "2022-02-02T20:18:40.056Z"
   },
   {
    "duration": 42,
    "start_time": "2022-02-02T20:18:40.067Z"
   },
   {
    "duration": 14,
    "start_time": "2022-02-02T20:18:40.111Z"
   },
   {
    "duration": 25,
    "start_time": "2022-02-02T20:18:40.127Z"
   },
   {
    "duration": 8,
    "start_time": "2022-02-02T20:18:40.154Z"
   },
   {
    "duration": 48,
    "start_time": "2022-02-02T20:18:40.164Z"
   },
   {
    "duration": 7,
    "start_time": "2022-02-02T20:18:40.215Z"
   },
   {
    "duration": 564,
    "start_time": "2022-02-02T20:18:40.224Z"
   },
   {
    "duration": 5,
    "start_time": "2022-02-02T20:18:40.791Z"
   },
   {
    "duration": 4,
    "start_time": "2022-02-02T20:18:40.807Z"
   },
   {
    "duration": 32,
    "start_time": "2022-02-02T20:18:40.813Z"
   },
   {
    "duration": 24,
    "start_time": "2022-02-02T20:18:40.847Z"
   },
   {
    "duration": 50,
    "start_time": "2022-02-02T20:18:40.873Z"
   },
   {
    "duration": 23,
    "start_time": "2022-02-02T20:18:40.925Z"
   },
   {
    "duration": 731,
    "start_time": "2022-02-02T20:19:03.102Z"
   },
   {
    "duration": 32,
    "start_time": "2022-02-02T20:19:30.739Z"
   },
   {
    "duration": 35,
    "start_time": "2022-02-02T20:19:34.546Z"
   },
   {
    "duration": 20,
    "start_time": "2022-02-02T20:19:37.187Z"
   },
   {
    "duration": 29,
    "start_time": "2022-02-02T20:19:39.883Z"
   },
   {
    "duration": 13,
    "start_time": "2022-02-02T20:19:44.708Z"
   },
   {
    "duration": 13,
    "start_time": "2022-02-02T20:19:46.273Z"
   },
   {
    "duration": 6,
    "start_time": "2022-02-02T20:20:01.075Z"
   },
   {
    "duration": 6,
    "start_time": "2022-02-02T20:20:02.525Z"
   },
   {
    "duration": 8,
    "start_time": "2022-02-02T20:20:04.471Z"
   },
   {
    "duration": 8,
    "start_time": "2022-02-02T20:20:06.259Z"
   },
   {
    "duration": 38,
    "start_time": "2022-02-02T20:20:08.145Z"
   },
   {
    "duration": 8,
    "start_time": "2022-02-02T20:20:14.891Z"
   },
   {
    "duration": 15,
    "start_time": "2022-02-02T20:20:20.260Z"
   },
   {
    "duration": 6,
    "start_time": "2022-02-02T20:20:27.548Z"
   },
   {
    "duration": 6,
    "start_time": "2022-02-02T20:20:28.552Z"
   },
   {
    "duration": 7,
    "start_time": "2022-02-02T20:20:30.704Z"
   },
   {
    "duration": 83,
    "start_time": "2022-02-02T20:21:49.262Z"
   },
   {
    "duration": 7,
    "start_time": "2022-02-02T20:22:10.227Z"
   },
   {
    "duration": 6,
    "start_time": "2022-02-02T20:22:12.368Z"
   },
   {
    "duration": 8,
    "start_time": "2022-02-02T20:22:41.815Z"
   },
   {
    "duration": 11,
    "start_time": "2022-02-02T20:22:58.467Z"
   },
   {
    "duration": 35,
    "start_time": "2022-02-02T20:23:02.802Z"
   },
   {
    "duration": 7,
    "start_time": "2022-02-02T20:23:05.379Z"
   },
   {
    "duration": 8,
    "start_time": "2022-02-02T20:23:08.175Z"
   },
   {
    "duration": 15,
    "start_time": "2022-02-02T20:24:06.286Z"
   },
   {
    "duration": 11,
    "start_time": "2022-02-02T20:24:07.860Z"
   },
   {
    "duration": 13,
    "start_time": "2022-02-02T20:25:49.861Z"
   },
   {
    "duration": 9,
    "start_time": "2022-02-02T20:25:59.983Z"
   },
   {
    "duration": 16,
    "start_time": "2022-02-02T20:27:01.086Z"
   },
   {
    "duration": 9,
    "start_time": "2022-02-02T20:27:07.138Z"
   },
   {
    "duration": 8,
    "start_time": "2022-02-02T20:27:49.003Z"
   },
   {
    "duration": 10,
    "start_time": "2022-02-02T20:27:52.303Z"
   },
   {
    "duration": 8,
    "start_time": "2022-02-02T20:28:07.895Z"
   },
   {
    "duration": 684,
    "start_time": "2022-02-02T20:28:24.516Z"
   },
   {
    "duration": 22,
    "start_time": "2022-02-02T20:28:25.203Z"
   },
   {
    "duration": 24,
    "start_time": "2022-02-02T20:28:25.228Z"
   },
   {
    "duration": 20,
    "start_time": "2022-02-02T20:28:25.585Z"
   },
   {
    "duration": 32,
    "start_time": "2022-02-02T20:28:28.888Z"
   },
   {
    "duration": 13,
    "start_time": "2022-02-02T20:28:32.882Z"
   },
   {
    "duration": 13,
    "start_time": "2022-02-02T20:28:33.103Z"
   },
   {
    "duration": 4,
    "start_time": "2022-02-02T20:28:36.233Z"
   },
   {
    "duration": 6,
    "start_time": "2022-02-02T20:28:36.581Z"
   },
   {
    "duration": 8,
    "start_time": "2022-02-02T20:28:39.249Z"
   },
   {
    "duration": 9,
    "start_time": "2022-02-02T20:28:40.151Z"
   },
   {
    "duration": 31,
    "start_time": "2022-02-02T20:28:41.739Z"
   },
   {
    "duration": 7,
    "start_time": "2022-02-02T20:28:42.598Z"
   },
   {
    "duration": 15,
    "start_time": "2022-02-02T20:28:43.146Z"
   },
   {
    "duration": 5,
    "start_time": "2022-02-02T20:28:43.575Z"
   },
   {
    "duration": 5,
    "start_time": "2022-02-02T20:28:44.811Z"
   },
   {
    "duration": 8,
    "start_time": "2022-02-02T20:28:46.668Z"
   },
   {
    "duration": 10,
    "start_time": "2022-02-02T20:28:47.073Z"
   },
   {
    "duration": 10,
    "start_time": "2022-02-02T20:28:47.907Z"
   },
   {
    "duration": 30,
    "start_time": "2022-02-02T20:28:49.936Z"
   },
   {
    "duration": 8,
    "start_time": "2022-02-02T20:28:52.197Z"
   },
   {
    "duration": 10,
    "start_time": "2022-02-02T20:28:54.299Z"
   },
   {
    "duration": 15,
    "start_time": "2022-02-02T20:28:57.502Z"
   },
   {
    "duration": 9,
    "start_time": "2022-02-02T20:28:58.841Z"
   },
   {
    "duration": 16,
    "start_time": "2022-02-02T20:29:01.505Z"
   },
   {
    "duration": 10,
    "start_time": "2022-02-02T20:29:02.693Z"
   },
   {
    "duration": 12,
    "start_time": "2022-02-02T20:29:36.141Z"
   },
   {
    "duration": 10,
    "start_time": "2022-02-02T20:29:46.011Z"
   },
   {
    "duration": 11,
    "start_time": "2022-02-02T20:30:22.784Z"
   },
   {
    "duration": 8,
    "start_time": "2022-02-02T20:30:30.431Z"
   },
   {
    "duration": 8,
    "start_time": "2022-02-02T20:30:32.918Z"
   },
   {
    "duration": 9,
    "start_time": "2022-02-02T20:30:34.517Z"
   },
   {
    "duration": 4,
    "start_time": "2022-02-02T20:31:06.529Z"
   },
   {
    "duration": 16,
    "start_time": "2022-02-02T20:31:06.976Z"
   },
   {
    "duration": 15,
    "start_time": "2022-02-02T20:31:25.576Z"
   },
   {
    "duration": 14,
    "start_time": "2022-02-02T20:31:28.731Z"
   },
   {
    "duration": 12,
    "start_time": "2022-02-02T20:31:37.772Z"
   },
   {
    "duration": 26,
    "start_time": "2022-02-02T20:31:42.276Z"
   },
   {
    "duration": 32,
    "start_time": "2022-02-02T20:31:45.087Z"
   },
   {
    "duration": 37,
    "start_time": "2022-02-02T20:31:48.586Z"
   },
   {
    "duration": 34,
    "start_time": "2022-02-02T20:33:21.207Z"
   },
   {
    "duration": 19,
    "start_time": "2022-02-02T20:34:35.525Z"
   },
   {
    "duration": 28,
    "start_time": "2022-02-02T20:34:47.091Z"
   },
   {
    "duration": 18,
    "start_time": "2022-02-02T20:34:57.125Z"
   },
   {
    "duration": 19,
    "start_time": "2022-02-02T20:35:31.220Z"
   },
   {
    "duration": 20,
    "start_time": "2022-02-02T20:35:52.186Z"
   },
   {
    "duration": 21,
    "start_time": "2022-02-02T20:35:54.936Z"
   },
   {
    "duration": 19,
    "start_time": "2022-02-02T20:35:55.679Z"
   },
   {
    "duration": 18,
    "start_time": "2022-02-02T20:36:27.515Z"
   },
   {
    "duration": 38,
    "start_time": "2022-02-02T20:36:47.088Z"
   },
   {
    "duration": 4921,
    "start_time": "2022-02-02T20:37:06.010Z"
   },
   {
    "duration": 5754,
    "start_time": "2022-02-02T20:37:10.933Z"
   },
   {
    "duration": -23,
    "start_time": "2022-02-02T20:37:16.714Z"
   },
   {
    "duration": -27,
    "start_time": "2022-02-02T20:37:16.719Z"
   },
   {
    "duration": -34,
    "start_time": "2022-02-02T20:37:16.728Z"
   },
   {
    "duration": 7220,
    "start_time": "2022-02-02T20:37:35.812Z"
   },
   {
    "duration": 17,
    "start_time": "2022-02-02T20:37:53.830Z"
   },
   {
    "duration": 5658,
    "start_time": "2022-02-02T20:38:03.046Z"
   },
   {
    "duration": 42,
    "start_time": "2022-02-02T20:38:19.751Z"
   },
   {
    "duration": 3931,
    "start_time": "2022-02-02T20:38:33.826Z"
   },
   {
    "duration": 5075,
    "start_time": "2022-02-02T20:38:58.590Z"
   },
   {
    "duration": 696,
    "start_time": "2022-02-02T20:40:45.413Z"
   },
   {
    "duration": 20,
    "start_time": "2022-02-02T20:40:46.111Z"
   },
   {
    "duration": 23,
    "start_time": "2022-02-02T20:40:46.133Z"
   },
   {
    "duration": 20,
    "start_time": "2022-02-02T20:40:46.235Z"
   },
   {
    "duration": 30,
    "start_time": "2022-02-02T20:40:46.776Z"
   },
   {
    "duration": 12,
    "start_time": "2022-02-02T20:40:47.137Z"
   },
   {
    "duration": 12,
    "start_time": "2022-02-02T20:40:47.303Z"
   },
   {
    "duration": 5,
    "start_time": "2022-02-02T20:40:48.733Z"
   },
   {
    "duration": 7,
    "start_time": "2022-02-02T20:40:48.907Z"
   },
   {
    "duration": 8,
    "start_time": "2022-02-02T20:40:49.298Z"
   },
   {
    "duration": 8,
    "start_time": "2022-02-02T20:40:49.650Z"
   },
   {
    "duration": 33,
    "start_time": "2022-02-02T20:40:50.029Z"
   },
   {
    "duration": 10,
    "start_time": "2022-02-02T20:40:50.463Z"
   },
   {
    "duration": 15,
    "start_time": "2022-02-02T20:40:50.853Z"
   },
   {
    "duration": 5,
    "start_time": "2022-02-02T20:40:52.248Z"
   },
   {
    "duration": 5,
    "start_time": "2022-02-02T20:40:52.574Z"
   },
   {
    "duration": 8,
    "start_time": "2022-02-02T20:40:52.912Z"
   },
   {
    "duration": 8,
    "start_time": "2022-02-02T20:40:53.247Z"
   },
   {
    "duration": 8,
    "start_time": "2022-02-02T20:40:55.041Z"
   },
   {
    "duration": 32,
    "start_time": "2022-02-02T20:40:55.385Z"
   },
   {
    "duration": 8,
    "start_time": "2022-02-02T20:40:55.715Z"
   },
   {
    "duration": 8,
    "start_time": "2022-02-02T20:40:56.062Z"
   },
   {
    "duration": 15,
    "start_time": "2022-02-02T20:40:56.402Z"
   },
   {
    "duration": 9,
    "start_time": "2022-02-02T20:40:56.810Z"
   },
   {
    "duration": 17,
    "start_time": "2022-02-02T20:40:58.298Z"
   },
   {
    "duration": 9,
    "start_time": "2022-02-02T20:40:59.493Z"
   },
   {
    "duration": 9,
    "start_time": "2022-02-02T20:41:00.275Z"
   },
   {
    "duration": 5,
    "start_time": "2022-02-02T20:41:02.812Z"
   },
   {
    "duration": 13,
    "start_time": "2022-02-02T20:41:03.172Z"
   },
   {
    "duration": 14,
    "start_time": "2022-02-02T20:41:04.187Z"
   },
   {
    "duration": 24,
    "start_time": "2022-02-02T20:41:04.549Z"
   },
   {
    "duration": 31,
    "start_time": "2022-02-02T20:41:05.734Z"
   },
   {
    "duration": 18,
    "start_time": "2022-02-02T20:41:06.137Z"
   },
   {
    "duration": 35,
    "start_time": "2022-02-02T20:41:07.467Z"
   },
   {
    "duration": 4129,
    "start_time": "2022-02-02T20:41:10.002Z"
   },
   {
    "duration": 4399,
    "start_time": "2022-02-02T20:41:21.831Z"
   },
   {
    "duration": 5,
    "start_time": "2022-02-02T20:42:06.001Z"
   },
   {
    "duration": 5,
    "start_time": "2022-02-02T20:42:27.139Z"
   },
   {
    "duration": 4,
    "start_time": "2022-02-02T20:42:29.263Z"
   },
   {
    "duration": 5,
    "start_time": "2022-02-02T20:42:31.499Z"
   },
   {
    "duration": 4,
    "start_time": "2022-02-02T20:42:33.727Z"
   },
   {
    "duration": 5,
    "start_time": "2022-02-02T20:42:36.110Z"
   },
   {
    "duration": 5,
    "start_time": "2022-02-02T20:42:38.327Z"
   },
   {
    "duration": 4405,
    "start_time": "2022-02-02T20:42:44.135Z"
   },
   {
    "duration": 5,
    "start_time": "2022-02-02T20:42:50.869Z"
   },
   {
    "duration": 255,
    "start_time": "2022-02-02T20:44:18.415Z"
   },
   {
    "duration": 251,
    "start_time": "2022-02-02T20:44:48.108Z"
   },
   {
    "duration": 1639,
    "start_time": "2022-02-02T20:45:57.169Z"
   },
   {
    "duration": 1851,
    "start_time": "2022-02-02T20:46:35.392Z"
   },
   {
    "duration": 714,
    "start_time": "2022-02-02T20:46:55.867Z"
   },
   {
    "duration": 22,
    "start_time": "2022-02-02T20:46:56.583Z"
   },
   {
    "duration": 23,
    "start_time": "2022-02-02T20:46:56.608Z"
   },
   {
    "duration": 22,
    "start_time": "2022-02-02T20:46:56.870Z"
   },
   {
    "duration": 28,
    "start_time": "2022-02-02T20:46:57.455Z"
   },
   {
    "duration": 15,
    "start_time": "2022-02-02T20:46:57.865Z"
   },
   {
    "duration": 14,
    "start_time": "2022-02-02T20:46:58.050Z"
   },
   {
    "duration": 4,
    "start_time": "2022-02-02T20:46:59.272Z"
   },
   {
    "duration": 6,
    "start_time": "2022-02-02T20:46:59.463Z"
   },
   {
    "duration": 8,
    "start_time": "2022-02-02T20:46:59.840Z"
   },
   {
    "duration": 8,
    "start_time": "2022-02-02T20:47:00.211Z"
   },
   {
    "duration": 34,
    "start_time": "2022-02-02T20:47:00.572Z"
   },
   {
    "duration": 9,
    "start_time": "2022-02-02T20:47:00.951Z"
   },
   {
    "duration": 16,
    "start_time": "2022-02-02T20:47:01.287Z"
   },
   {
    "duration": 6,
    "start_time": "2022-02-02T20:47:01.663Z"
   },
   {
    "duration": 6,
    "start_time": "2022-02-02T20:47:02.012Z"
   },
   {
    "duration": 7,
    "start_time": "2022-02-02T20:47:02.778Z"
   },
   {
    "duration": 10,
    "start_time": "2022-02-02T20:47:03.352Z"
   },
   {
    "duration": 9,
    "start_time": "2022-02-02T20:47:04.266Z"
   },
   {
    "duration": 30,
    "start_time": "2022-02-02T20:47:04.614Z"
   },
   {
    "duration": 8,
    "start_time": "2022-02-02T20:47:05.227Z"
   },
   {
    "duration": 9,
    "start_time": "2022-02-02T20:47:05.582Z"
   },
   {
    "duration": 15,
    "start_time": "2022-02-02T20:47:05.971Z"
   },
   {
    "duration": 9,
    "start_time": "2022-02-02T20:47:06.345Z"
   },
   {
    "duration": 17,
    "start_time": "2022-02-02T20:47:06.867Z"
   },
   {
    "duration": 9,
    "start_time": "2022-02-02T20:47:07.839Z"
   },
   {
    "duration": 9,
    "start_time": "2022-02-02T20:47:09.127Z"
   },
   {
    "duration": 5,
    "start_time": "2022-02-02T20:47:10.423Z"
   },
   {
    "duration": 15,
    "start_time": "2022-02-02T20:47:10.656Z"
   },
   {
    "duration": 23,
    "start_time": "2022-02-02T20:47:11.629Z"
   },
   {
    "duration": 26,
    "start_time": "2022-02-02T20:47:12.546Z"
   },
   {
    "duration": 41,
    "start_time": "2022-02-02T20:47:12.884Z"
   },
   {
    "duration": 17,
    "start_time": "2022-02-02T20:47:13.643Z"
   },
   {
    "duration": 37,
    "start_time": "2022-02-02T20:47:14.797Z"
   },
   {
    "duration": 3860,
    "start_time": "2022-02-02T20:47:35.314Z"
   },
   {
    "duration": 5,
    "start_time": "2022-02-02T20:47:39.177Z"
   },
   {
    "duration": 5104,
    "start_time": "2022-02-02T20:47:42.113Z"
   },
   {
    "duration": 4030,
    "start_time": "2022-02-02T20:47:54.595Z"
   },
   {
    "duration": 1803,
    "start_time": "2022-02-02T20:48:30.787Z"
   },
   {
    "duration": 717,
    "start_time": "2022-02-02T20:48:58.676Z"
   },
   {
    "duration": 20,
    "start_time": "2022-02-02T20:48:59.395Z"
   },
   {
    "duration": 23,
    "start_time": "2022-02-02T20:48:59.418Z"
   },
   {
    "duration": 20,
    "start_time": "2022-02-02T20:48:59.443Z"
   },
   {
    "duration": 60,
    "start_time": "2022-02-02T20:48:59.465Z"
   },
   {
    "duration": 13,
    "start_time": "2022-02-02T20:48:59.527Z"
   },
   {
    "duration": 18,
    "start_time": "2022-02-02T20:48:59.542Z"
   },
   {
    "duration": 4,
    "start_time": "2022-02-02T20:48:59.563Z"
   },
   {
    "duration": 22,
    "start_time": "2022-02-02T20:48:59.569Z"
   },
   {
    "duration": 26,
    "start_time": "2022-02-02T20:48:59.593Z"
   },
   {
    "duration": 14,
    "start_time": "2022-02-02T20:48:59.621Z"
   },
   {
    "duration": 37,
    "start_time": "2022-02-02T20:48:59.636Z"
   },
   {
    "duration": 7,
    "start_time": "2022-02-02T20:48:59.676Z"
   },
   {
    "duration": 30,
    "start_time": "2022-02-02T20:48:59.685Z"
   },
   {
    "duration": 6,
    "start_time": "2022-02-02T20:48:59.717Z"
   },
   {
    "duration": 20,
    "start_time": "2022-02-02T20:48:59.724Z"
   },
   {
    "duration": 16,
    "start_time": "2022-02-02T20:48:59.746Z"
   },
   {
    "duration": 22,
    "start_time": "2022-02-02T20:48:59.764Z"
   },
   {
    "duration": 16,
    "start_time": "2022-02-02T20:48:59.788Z"
   },
   {
    "duration": 43,
    "start_time": "2022-02-02T20:48:59.806Z"
   },
   {
    "duration": 7,
    "start_time": "2022-02-02T20:48:59.851Z"
   },
   {
    "duration": 16,
    "start_time": "2022-02-02T20:48:59.860Z"
   },
   {
    "duration": 23,
    "start_time": "2022-02-02T20:48:59.880Z"
   },
   {
    "duration": 11,
    "start_time": "2022-02-02T20:48:59.906Z"
   },
   {
    "duration": 23,
    "start_time": "2022-02-02T20:48:59.919Z"
   },
   {
    "duration": 7,
    "start_time": "2022-02-02T20:48:59.944Z"
   },
   {
    "duration": 27,
    "start_time": "2022-02-02T20:48:59.953Z"
   },
   {
    "duration": 10,
    "start_time": "2022-02-02T20:48:59.981Z"
   },
   {
    "duration": 33,
    "start_time": "2022-02-02T20:48:59.993Z"
   },
   {
    "duration": 27,
    "start_time": "2022-02-02T20:49:00.028Z"
   },
   {
    "duration": 30,
    "start_time": "2022-02-02T20:49:00.057Z"
   },
   {
    "duration": 37,
    "start_time": "2022-02-02T20:49:00.089Z"
   },
   {
    "duration": 17,
    "start_time": "2022-02-02T20:49:00.128Z"
   },
   {
    "duration": 34,
    "start_time": "2022-02-02T20:49:00.148Z"
   },
   {
    "duration": 4045,
    "start_time": "2022-02-02T20:49:00.184Z"
   },
   {
    "duration": 5,
    "start_time": "2022-02-02T20:49:04.231Z"
   },
   {
    "duration": 3770,
    "start_time": "2022-02-02T20:49:04.237Z"
   },
   {
    "duration": 16,
    "start_time": "2022-02-02T20:49:08.009Z"
   },
   {
    "duration": 8306,
    "start_time": "2022-02-02T20:49:08.027Z"
   },
   {
    "duration": 20,
    "start_time": "2022-02-02T20:49:16.335Z"
   },
   {
    "duration": 5,
    "start_time": "2022-02-02T20:49:16.357Z"
   },
   {
    "duration": 6,
    "start_time": "2022-02-02T20:49:16.364Z"
   },
   {
    "duration": 53,
    "start_time": "2022-02-02T20:49:16.372Z"
   },
   {
    "duration": 24,
    "start_time": "2022-02-02T20:49:16.428Z"
   },
   {
    "duration": 16,
    "start_time": "2022-02-02T20:49:16.455Z"
   },
   {
    "duration": 37,
    "start_time": "2022-02-02T20:49:16.473Z"
   },
   {
    "duration": 16,
    "start_time": "2022-02-02T20:49:16.512Z"
   },
   {
    "duration": 17,
    "start_time": "2022-02-02T20:49:16.530Z"
   },
   {
    "duration": 22,
    "start_time": "2022-02-02T20:49:16.549Z"
   },
   {
    "duration": 7,
    "start_time": "2022-02-02T20:49:16.572Z"
   },
   {
    "duration": 33,
    "start_time": "2022-02-02T20:49:16.581Z"
   },
   {
    "duration": 3,
    "start_time": "2022-02-02T20:49:16.616Z"
   },
   {
    "duration": 350,
    "start_time": "2022-02-02T20:49:16.621Z"
   },
   {
    "duration": 6,
    "start_time": "2022-02-02T20:49:16.973Z"
   },
   {
    "duration": 6,
    "start_time": "2022-02-02T20:49:16.981Z"
   },
   {
    "duration": 44,
    "start_time": "2022-02-02T20:49:16.989Z"
   },
   {
    "duration": 25,
    "start_time": "2022-02-02T20:49:17.034Z"
   },
   {
    "duration": 54,
    "start_time": "2022-02-02T20:49:17.062Z"
   },
   {
    "duration": 22,
    "start_time": "2022-02-02T20:49:17.130Z"
   },
   {
    "duration": 5,
    "start_time": "2022-02-02T20:51:27.556Z"
   },
   {
    "duration": 6370,
    "start_time": "2022-02-02T20:54:17.805Z"
   },
   {
    "duration": 279,
    "start_time": "2022-02-02T20:54:32.419Z"
   },
   {
    "duration": 14,
    "start_time": "2022-02-02T20:55:30.493Z"
   },
   {
    "duration": 38,
    "start_time": "2022-02-02T20:59:20.366Z"
   },
   {
    "duration": 7,
    "start_time": "2022-02-02T20:59:23.746Z"
   },
   {
    "duration": 10,
    "start_time": "2022-02-02T20:59:29.915Z"
   },
   {
    "duration": 4,
    "start_time": "2022-02-02T20:59:31.624Z"
   },
   {
    "duration": 341,
    "start_time": "2022-02-02T20:59:32.686Z"
   },
   {
    "duration": 5,
    "start_time": "2022-02-02T20:59:37.467Z"
   },
   {
    "duration": 4,
    "start_time": "2022-02-02T21:04:25.694Z"
   },
   {
    "duration": 26,
    "start_time": "2022-02-02T21:07:45.217Z"
   },
   {
    "duration": 22,
    "start_time": "2022-02-02T21:15:00.915Z"
   },
   {
    "duration": 21,
    "start_time": "2022-02-02T21:26:00.319Z"
   },
   {
    "duration": 3,
    "start_time": "2022-02-02T21:34:38.124Z"
   },
   {
    "duration": 6259,
    "start_time": "2022-02-02T21:34:38.578Z"
   },
   {
    "duration": 4,
    "start_time": "2022-02-02T21:34:44.835Z"
   },
   {
    "duration": 6144,
    "start_time": "2022-02-02T21:40:30.159Z"
   },
   {
    "duration": 16,
    "start_time": "2022-02-02T21:40:58.287Z"
   },
   {
    "duration": 90,
    "start_time": "2022-02-02T21:41:12.112Z"
   },
   {
    "duration": 6,
    "start_time": "2022-02-02T21:41:19.424Z"
   },
   {
    "duration": 5,
    "start_time": "2022-02-02T21:42:40.897Z"
   },
   {
    "duration": 689,
    "start_time": "2022-02-02T21:44:04.517Z"
   },
   {
    "duration": 20,
    "start_time": "2022-02-02T21:44:05.208Z"
   },
   {
    "duration": 21,
    "start_time": "2022-02-02T21:44:05.231Z"
   },
   {
    "duration": 20,
    "start_time": "2022-02-02T21:44:05.254Z"
   },
   {
    "duration": 57,
    "start_time": "2022-02-02T21:44:05.276Z"
   },
   {
    "duration": 13,
    "start_time": "2022-02-02T21:44:05.334Z"
   },
   {
    "duration": 12,
    "start_time": "2022-02-02T21:44:05.349Z"
   },
   {
    "duration": 4,
    "start_time": "2022-02-02T21:44:05.363Z"
   },
   {
    "duration": 41,
    "start_time": "2022-02-02T21:44:05.369Z"
   },
   {
    "duration": 10,
    "start_time": "2022-02-02T21:44:05.412Z"
   },
   {
    "duration": 13,
    "start_time": "2022-02-02T21:44:05.424Z"
   },
   {
    "duration": 32,
    "start_time": "2022-02-02T21:44:05.439Z"
   },
   {
    "duration": 7,
    "start_time": "2022-02-02T21:44:05.473Z"
   },
   {
    "duration": 39,
    "start_time": "2022-02-02T21:44:05.482Z"
   },
   {
    "duration": 4,
    "start_time": "2022-02-02T21:44:05.523Z"
   },
   {
    "duration": 9,
    "start_time": "2022-02-02T21:44:05.529Z"
   },
   {
    "duration": 11,
    "start_time": "2022-02-02T21:44:05.539Z"
   },
   {
    "duration": 17,
    "start_time": "2022-02-02T21:44:05.552Z"
   },
   {
    "duration": 12,
    "start_time": "2022-02-02T21:44:05.571Z"
   },
   {
    "duration": 31,
    "start_time": "2022-02-02T21:44:05.608Z"
   },
   {
    "duration": 7,
    "start_time": "2022-02-02T21:44:05.640Z"
   },
   {
    "duration": 11,
    "start_time": "2022-02-02T21:44:05.649Z"
   },
   {
    "duration": 17,
    "start_time": "2022-02-02T21:44:05.662Z"
   },
   {
    "duration": 32,
    "start_time": "2022-02-02T21:44:05.681Z"
   },
   {
    "duration": 15,
    "start_time": "2022-02-02T21:44:05.715Z"
   },
   {
    "duration": 12,
    "start_time": "2022-02-02T21:44:05.732Z"
   },
   {
    "duration": 23,
    "start_time": "2022-02-02T21:44:05.748Z"
   },
   {
    "duration": 7,
    "start_time": "2022-02-02T21:44:05.774Z"
   },
   {
    "duration": 31,
    "start_time": "2022-02-02T21:44:05.783Z"
   },
   {
    "duration": 16,
    "start_time": "2022-02-02T21:44:05.816Z"
   },
   {
    "duration": 24,
    "start_time": "2022-02-02T21:44:05.834Z"
   },
   {
    "duration": 57,
    "start_time": "2022-02-02T21:44:05.859Z"
   },
   {
    "duration": 18,
    "start_time": "2022-02-02T21:44:05.918Z"
   },
   {
    "duration": 46,
    "start_time": "2022-02-02T21:44:05.938Z"
   },
   {
    "duration": 3983,
    "start_time": "2022-02-02T21:44:05.986Z"
   },
   {
    "duration": 3755,
    "start_time": "2022-02-02T21:44:09.971Z"
   },
   {
    "duration": 15,
    "start_time": "2022-02-02T21:44:13.729Z"
   },
   {
    "duration": 8167,
    "start_time": "2022-02-02T21:44:13.746Z"
   },
   {
    "duration": 22,
    "start_time": "2022-02-02T21:44:21.915Z"
   },
   {
    "duration": 13,
    "start_time": "2022-02-02T21:44:21.938Z"
   },
   {
    "duration": 10,
    "start_time": "2022-02-02T21:44:21.953Z"
   },
   {
    "duration": 47,
    "start_time": "2022-02-02T21:44:21.965Z"
   },
   {
    "duration": 13,
    "start_time": "2022-02-02T21:44:22.015Z"
   },
   {
    "duration": 37,
    "start_time": "2022-02-02T21:44:22.031Z"
   },
   {
    "duration": 16,
    "start_time": "2022-02-02T21:44:22.070Z"
   },
   {
    "duration": 23,
    "start_time": "2022-02-02T21:44:22.088Z"
   },
   {
    "duration": 21,
    "start_time": "2022-02-02T21:44:22.113Z"
   },
   {
    "duration": 17,
    "start_time": "2022-02-02T21:44:22.136Z"
   },
   {
    "duration": 22,
    "start_time": "2022-02-02T21:44:22.155Z"
   },
   {
    "duration": 32,
    "start_time": "2022-02-02T21:44:22.178Z"
   },
   {
    "duration": 9,
    "start_time": "2022-02-02T21:44:22.212Z"
   },
   {
    "duration": 4,
    "start_time": "2022-02-02T21:44:22.223Z"
   },
   {
    "duration": 354,
    "start_time": "2022-02-02T21:44:22.229Z"
   },
   {
    "duration": 5,
    "start_time": "2022-02-02T21:44:22.585Z"
   },
   {
    "duration": 18,
    "start_time": "2022-02-02T21:44:22.591Z"
   },
   {
    "duration": 26,
    "start_time": "2022-02-02T21:44:22.611Z"
   },
   {
    "duration": 23,
    "start_time": "2022-02-02T21:44:22.639Z"
   },
   {
    "duration": 44,
    "start_time": "2022-02-02T21:44:22.664Z"
   },
   {
    "duration": 23,
    "start_time": "2022-02-02T21:44:22.710Z"
   },
   {
    "duration": 4,
    "start_time": "2022-02-02T21:44:22.734Z"
   },
   {
    "duration": 744,
    "start_time": "2022-02-02T22:00:45.303Z"
   },
   {
    "duration": 21,
    "start_time": "2022-02-02T22:00:46.049Z"
   },
   {
    "duration": 37,
    "start_time": "2022-02-02T22:00:46.072Z"
   },
   {
    "duration": 21,
    "start_time": "2022-02-02T22:00:46.111Z"
   },
   {
    "duration": 29,
    "start_time": "2022-02-02T22:00:46.134Z"
   },
   {
    "duration": 43,
    "start_time": "2022-02-02T22:00:46.165Z"
   },
   {
    "duration": 12,
    "start_time": "2022-02-02T22:00:46.211Z"
   },
   {
    "duration": 4,
    "start_time": "2022-02-02T22:00:46.226Z"
   },
   {
    "duration": 5,
    "start_time": "2022-02-02T22:00:46.233Z"
   },
   {
    "duration": 14,
    "start_time": "2022-02-02T22:00:46.241Z"
   },
   {
    "duration": 14,
    "start_time": "2022-02-02T22:00:46.257Z"
   },
   {
    "duration": 60,
    "start_time": "2022-02-02T22:00:46.273Z"
   },
   {
    "duration": 7,
    "start_time": "2022-02-02T22:00:46.335Z"
   },
   {
    "duration": 16,
    "start_time": "2022-02-02T22:00:46.344Z"
   },
   {
    "duration": 5,
    "start_time": "2022-02-02T22:00:46.362Z"
   },
   {
    "duration": 10,
    "start_time": "2022-02-02T22:00:46.368Z"
   },
   {
    "duration": 33,
    "start_time": "2022-02-02T22:00:46.380Z"
   },
   {
    "duration": 12,
    "start_time": "2022-02-02T22:00:46.415Z"
   },
   {
    "duration": 12,
    "start_time": "2022-02-02T22:00:46.429Z"
   },
   {
    "duration": 34,
    "start_time": "2022-02-02T22:00:46.443Z"
   },
   {
    "duration": 33,
    "start_time": "2022-02-02T22:00:46.479Z"
   },
   {
    "duration": 11,
    "start_time": "2022-02-02T22:00:46.514Z"
   },
   {
    "duration": 15,
    "start_time": "2022-02-02T22:00:46.527Z"
   },
   {
    "duration": 10,
    "start_time": "2022-02-02T22:00:46.544Z"
   },
   {
    "duration": 15,
    "start_time": "2022-02-02T22:00:46.556Z"
   },
   {
    "duration": 9,
    "start_time": "2022-02-02T22:00:46.608Z"
   },
   {
    "duration": 13,
    "start_time": "2022-02-02T22:00:46.621Z"
   },
   {
    "duration": 4,
    "start_time": "2022-02-02T22:00:46.637Z"
   },
   {
    "duration": 19,
    "start_time": "2022-02-02T22:00:46.643Z"
   },
   {
    "duration": 17,
    "start_time": "2022-02-02T22:00:46.664Z"
   },
   {
    "duration": 46,
    "start_time": "2022-02-02T22:00:46.683Z"
   },
   {
    "duration": 30,
    "start_time": "2022-02-02T22:00:46.731Z"
   },
   {
    "duration": 45,
    "start_time": "2022-02-02T22:00:46.763Z"
   },
   {
    "duration": 32,
    "start_time": "2022-02-02T22:00:46.810Z"
   },
   {
    "duration": 3776,
    "start_time": "2022-02-02T22:00:46.844Z"
   },
   {
    "duration": 3735,
    "start_time": "2022-02-02T22:00:50.622Z"
   },
   {
    "duration": 15,
    "start_time": "2022-02-02T22:00:54.359Z"
   },
   {
    "duration": 8159,
    "start_time": "2022-02-02T22:00:54.376Z"
   },
   {
    "duration": 23,
    "start_time": "2022-02-02T22:01:02.538Z"
   },
   {
    "duration": 13,
    "start_time": "2022-02-02T22:01:02.563Z"
   },
   {
    "duration": 10,
    "start_time": "2022-02-02T22:01:02.578Z"
   },
   {
    "duration": 44,
    "start_time": "2022-02-02T22:01:02.591Z"
   },
   {
    "duration": 12,
    "start_time": "2022-02-02T22:01:02.638Z"
   },
   {
    "duration": 55,
    "start_time": "2022-02-02T22:01:02.652Z"
   },
   {
    "duration": 14,
    "start_time": "2022-02-02T22:01:02.710Z"
   },
   {
    "duration": 11,
    "start_time": "2022-02-02T22:01:02.726Z"
   },
   {
    "duration": 18,
    "start_time": "2022-02-02T22:01:02.739Z"
   },
   {
    "duration": 26,
    "start_time": "2022-02-02T22:01:02.759Z"
   },
   {
    "duration": 36,
    "start_time": "2022-02-02T22:01:02.787Z"
   },
   {
    "duration": 15,
    "start_time": "2022-02-02T22:01:02.824Z"
   },
   {
    "duration": 15,
    "start_time": "2022-02-02T22:01:02.841Z"
   },
   {
    "duration": 36,
    "start_time": "2022-02-02T22:01:02.858Z"
   },
   {
    "duration": 353,
    "start_time": "2022-02-02T22:01:02.896Z"
   },
   {
    "duration": 5,
    "start_time": "2022-02-02T22:01:03.251Z"
   },
   {
    "duration": 10,
    "start_time": "2022-02-02T22:01:03.258Z"
   },
   {
    "duration": 38,
    "start_time": "2022-02-02T22:01:03.271Z"
   },
   {
    "duration": 22,
    "start_time": "2022-02-02T22:01:03.310Z"
   },
   {
    "duration": 20,
    "start_time": "2022-02-02T22:01:03.334Z"
   },
   {
    "duration": 21,
    "start_time": "2022-02-02T22:01:03.356Z"
   },
   {
    "duration": 29,
    "start_time": "2022-02-02T22:01:03.379Z"
   },
   {
    "duration": 815,
    "start_time": "2022-02-12T07:17:43.863Z"
   },
   {
    "duration": 28,
    "start_time": "2022-02-12T07:17:44.681Z"
   },
   {
    "duration": 40,
    "start_time": "2022-02-12T07:17:44.725Z"
   },
   {
    "duration": 28,
    "start_time": "2022-02-12T07:17:44.767Z"
   },
   {
    "duration": 57,
    "start_time": "2022-02-12T07:17:44.797Z"
   },
   {
    "duration": 16,
    "start_time": "2022-02-12T07:17:44.857Z"
   },
   {
    "duration": 47,
    "start_time": "2022-02-12T07:17:44.876Z"
   },
   {
    "duration": 4,
    "start_time": "2022-02-12T07:17:44.926Z"
   },
   {
    "duration": 9,
    "start_time": "2022-02-12T07:17:44.934Z"
   },
   {
    "duration": 9,
    "start_time": "2022-02-12T07:17:44.947Z"
   },
   {
    "duration": 11,
    "start_time": "2022-02-12T07:17:44.958Z"
   },
   {
    "duration": 86,
    "start_time": "2022-02-12T07:17:44.972Z"
   },
   {
    "duration": 10,
    "start_time": "2022-02-12T07:17:45.060Z"
   },
   {
    "duration": 52,
    "start_time": "2022-02-12T07:17:45.073Z"
   },
   {
    "duration": 6,
    "start_time": "2022-02-12T07:17:45.128Z"
   },
   {
    "duration": 6,
    "start_time": "2022-02-12T07:17:45.137Z"
   },
   {
    "duration": 10,
    "start_time": "2022-02-12T07:17:45.145Z"
   },
   {
    "duration": 14,
    "start_time": "2022-02-12T07:17:45.158Z"
   },
   {
    "duration": 59,
    "start_time": "2022-02-12T07:17:45.175Z"
   },
   {
    "duration": 92,
    "start_time": "2022-02-12T07:17:45.238Z"
   },
   {
    "duration": 14,
    "start_time": "2022-02-12T07:17:45.333Z"
   },
   {
    "duration": 12,
    "start_time": "2022-02-12T07:17:45.350Z"
   },
   {
    "duration": 19,
    "start_time": "2022-02-12T07:17:45.364Z"
   },
   {
    "duration": 51,
    "start_time": "2022-02-12T07:17:45.385Z"
   },
   {
    "duration": 21,
    "start_time": "2022-02-12T07:17:45.439Z"
   },
   {
    "duration": 10,
    "start_time": "2022-02-12T07:17:45.462Z"
   },
   {
    "duration": 12,
    "start_time": "2022-02-12T07:17:45.478Z"
   },
   {
    "duration": 7,
    "start_time": "2022-02-12T07:17:45.526Z"
   },
   {
    "duration": 26,
    "start_time": "2022-02-12T07:17:45.536Z"
   },
   {
    "duration": 63,
    "start_time": "2022-02-12T07:17:45.565Z"
   },
   {
    "duration": 31,
    "start_time": "2022-02-12T07:17:45.631Z"
   },
   {
    "duration": 81,
    "start_time": "2022-02-12T07:17:45.665Z"
   },
   {
    "duration": 23,
    "start_time": "2022-02-12T07:17:45.748Z"
   },
   {
    "duration": 72,
    "start_time": "2022-02-12T07:17:45.773Z"
   },
   {
    "duration": 4938,
    "start_time": "2022-02-12T07:17:45.847Z"
   },
   {
    "duration": 6353,
    "start_time": "2022-02-12T07:17:50.789Z"
   },
   {
    "duration": 22,
    "start_time": "2022-02-12T07:17:57.144Z"
   },
   {
    "duration": 18621,
    "start_time": "2022-02-12T07:17:57.168Z"
   },
   {
    "duration": 34,
    "start_time": "2022-02-12T07:18:15.791Z"
   },
   {
    "duration": 7,
    "start_time": "2022-02-12T07:18:15.829Z"
   },
   {
    "duration": 7,
    "start_time": "2022-02-12T07:18:15.839Z"
   },
   {
    "duration": 76,
    "start_time": "2022-02-12T07:18:15.849Z"
   },
   {
    "duration": 14,
    "start_time": "2022-02-12T07:18:15.928Z"
   },
   {
    "duration": 34,
    "start_time": "2022-02-12T07:18:15.945Z"
   },
   {
    "duration": 55,
    "start_time": "2022-02-12T07:18:15.982Z"
   },
   {
    "duration": 7,
    "start_time": "2022-02-12T07:18:16.040Z"
   },
   {
    "duration": 20,
    "start_time": "2022-02-12T07:18:16.050Z"
   },
   {
    "duration": 62,
    "start_time": "2022-02-12T07:18:16.073Z"
   },
   {
    "duration": 49,
    "start_time": "2022-02-12T07:18:16.138Z"
   },
   {
    "duration": 34,
    "start_time": "2022-02-12T07:18:16.190Z"
   },
   {
    "duration": 13,
    "start_time": "2022-02-12T07:18:16.226Z"
   },
   {
    "duration": 4,
    "start_time": "2022-02-12T07:18:16.242Z"
   },
   {
    "duration": 599,
    "start_time": "2022-02-12T07:18:16.249Z"
   },
   {
    "duration": 5,
    "start_time": "2022-02-12T07:18:16.851Z"
   },
   {
    "duration": 11,
    "start_time": "2022-02-12T07:18:16.859Z"
   },
   {
    "duration": 59,
    "start_time": "2022-02-12T07:18:16.872Z"
   },
   {
    "duration": 33,
    "start_time": "2022-02-12T07:18:16.934Z"
   },
   {
    "duration": 58,
    "start_time": "2022-02-12T07:18:16.970Z"
   },
   {
    "duration": 29,
    "start_time": "2022-02-12T07:18:17.030Z"
   },
   {
    "duration": 21,
    "start_time": "2022-02-12T07:19:15.847Z"
   },
   {
    "duration": 398,
    "start_time": "2022-02-14T06:19:34.768Z"
   },
   {
    "duration": 593,
    "start_time": "2022-02-14T06:19:43.308Z"
   },
   {
    "duration": 353,
    "start_time": "2022-02-14T06:19:50.656Z"
   },
   {
    "duration": 49,
    "start_time": "2022-02-14T06:19:58.034Z"
   },
   {
    "duration": 332,
    "start_time": "2022-02-14T06:19:58.085Z"
   },
   {
    "duration": -6338,
    "start_time": "2022-02-14T06:20:04.758Z"
   },
   {
    "duration": -6351,
    "start_time": "2022-02-14T06:20:04.772Z"
   },
   {
    "duration": -6365,
    "start_time": "2022-02-14T06:20:04.787Z"
   },
   {
    "duration": -6381,
    "start_time": "2022-02-14T06:20:04.803Z"
   },
   {
    "duration": -6393,
    "start_time": "2022-02-14T06:20:04.816Z"
   },
   {
    "duration": -6402,
    "start_time": "2022-02-14T06:20:04.826Z"
   },
   {
    "duration": -6413,
    "start_time": "2022-02-14T06:20:04.838Z"
   },
   {
    "duration": -6423,
    "start_time": "2022-02-14T06:20:04.849Z"
   },
   {
    "duration": -6431,
    "start_time": "2022-02-14T06:20:04.858Z"
   },
   {
    "duration": -6443,
    "start_time": "2022-02-14T06:20:04.871Z"
   },
   {
    "duration": -6455,
    "start_time": "2022-02-14T06:20:04.883Z"
   },
   {
    "duration": -6463,
    "start_time": "2022-02-14T06:20:04.892Z"
   },
   {
    "duration": -6473,
    "start_time": "2022-02-14T06:20:04.903Z"
   },
   {
    "duration": -6485,
    "start_time": "2022-02-14T06:20:04.916Z"
   },
   {
    "duration": -6497,
    "start_time": "2022-02-14T06:20:04.929Z"
   },
   {
    "duration": -6512,
    "start_time": "2022-02-14T06:20:04.944Z"
   },
   {
    "duration": -6524,
    "start_time": "2022-02-14T06:20:04.957Z"
   },
   {
    "duration": -6535,
    "start_time": "2022-02-14T06:20:04.969Z"
   },
   {
    "duration": -6548,
    "start_time": "2022-02-14T06:20:04.983Z"
   },
   {
    "duration": -6561,
    "start_time": "2022-02-14T06:20:04.997Z"
   },
   {
    "duration": -6577,
    "start_time": "2022-02-14T06:20:05.014Z"
   },
   {
    "duration": -6590,
    "start_time": "2022-02-14T06:20:05.027Z"
   },
   {
    "duration": -6603,
    "start_time": "2022-02-14T06:20:05.042Z"
   },
   {
    "duration": -6619,
    "start_time": "2022-02-14T06:20:05.058Z"
   },
   {
    "duration": -6636,
    "start_time": "2022-02-14T06:20:05.076Z"
   },
   {
    "duration": -6649,
    "start_time": "2022-02-14T06:20:05.090Z"
   },
   {
    "duration": -6661,
    "start_time": "2022-02-14T06:20:05.103Z"
   },
   {
    "duration": -6679,
    "start_time": "2022-02-14T06:20:05.121Z"
   },
   {
    "duration": -6694,
    "start_time": "2022-02-14T06:20:05.137Z"
   },
   {
    "duration": -6705,
    "start_time": "2022-02-14T06:20:05.150Z"
   },
   {
    "duration": 38,
    "start_time": "2022-02-14T06:19:58.446Z"
   },
   {
    "duration": 14,
    "start_time": "2022-02-14T06:19:58.485Z"
   },
   {
    "duration": 24,
    "start_time": "2022-02-14T06:19:58.501Z"
   },
   {
    "duration": 3347,
    "start_time": "2022-02-14T06:19:58.527Z"
   },
   {
    "duration": 3111,
    "start_time": "2022-02-14T06:20:01.877Z"
   },
   {
    "duration": 13,
    "start_time": "2022-02-14T06:20:04.990Z"
   },
   {
    "duration": 6992,
    "start_time": "2022-02-14T06:20:05.004Z"
   },
   {
    "duration": 19,
    "start_time": "2022-02-14T06:20:11.997Z"
   },
   {
    "duration": 8,
    "start_time": "2022-02-14T06:20:12.017Z"
   },
   {
    "duration": 3,
    "start_time": "2022-02-14T06:20:12.026Z"
   },
   {
    "duration": 23,
    "start_time": "2022-02-14T06:20:12.031Z"
   },
   {
    "duration": 20,
    "start_time": "2022-02-14T06:20:12.056Z"
   },
   {
    "duration": 17,
    "start_time": "2022-02-14T06:20:12.078Z"
   },
   {
    "duration": 10,
    "start_time": "2022-02-14T06:20:12.097Z"
   },
   {
    "duration": 5,
    "start_time": "2022-02-14T06:20:12.109Z"
   },
   {
    "duration": 11,
    "start_time": "2022-02-14T06:20:12.116Z"
   },
   {
    "duration": 14,
    "start_time": "2022-02-14T06:20:12.129Z"
   },
   {
    "duration": 43,
    "start_time": "2022-02-14T06:20:12.144Z"
   },
   {
    "duration": 5,
    "start_time": "2022-02-14T06:20:12.188Z"
   },
   {
    "duration": 7,
    "start_time": "2022-02-14T06:20:12.195Z"
   },
   {
    "duration": 4,
    "start_time": "2022-02-14T06:20:12.204Z"
   },
   {
    "duration": 297,
    "start_time": "2022-02-14T06:20:12.209Z"
   },
   {
    "duration": 5,
    "start_time": "2022-02-14T06:20:12.507Z"
   },
   {
    "duration": 3,
    "start_time": "2022-02-14T06:20:12.513Z"
   },
   {
    "duration": 25,
    "start_time": "2022-02-14T06:20:12.518Z"
   },
   {
    "duration": 35,
    "start_time": "2022-02-14T06:20:12.545Z"
   },
   {
    "duration": 17,
    "start_time": "2022-02-14T06:20:12.582Z"
   },
   {
    "duration": 16,
    "start_time": "2022-02-14T06:20:12.601Z"
   },
   {
    "duration": 350,
    "start_time": "2022-02-14T06:20:22.290Z"
   },
   {
    "duration": 50,
    "start_time": "2022-02-14T06:20:28.576Z"
   },
   {
    "duration": 9,
    "start_time": "2022-02-14T06:20:41.295Z"
   },
   {
    "duration": 29,
    "start_time": "2022-02-14T06:21:26.289Z"
   },
   {
    "duration": 28,
    "start_time": "2022-02-14T06:22:13.534Z"
   },
   {
    "duration": 116,
    "start_time": "2022-02-14T06:23:46.110Z"
   },
   {
    "duration": 118,
    "start_time": "2022-02-14T06:25:24.131Z"
   },
   {
    "duration": 54,
    "start_time": "2022-02-14T06:27:10.179Z"
   },
   {
    "duration": 9,
    "start_time": "2022-02-14T06:27:10.235Z"
   },
   {
    "duration": 26,
    "start_time": "2022-02-14T06:27:10.246Z"
   },
   {
    "duration": 28,
    "start_time": "2022-02-14T06:27:10.274Z"
   },
   {
    "duration": 23,
    "start_time": "2022-02-14T06:27:10.304Z"
   },
   {
    "duration": 10,
    "start_time": "2022-02-14T06:27:10.329Z"
   },
   {
    "duration": 41,
    "start_time": "2022-02-14T06:27:10.340Z"
   },
   {
    "duration": 3,
    "start_time": "2022-02-14T06:27:10.383Z"
   },
   {
    "duration": 6,
    "start_time": "2022-02-14T06:27:10.388Z"
   },
   {
    "duration": 7,
    "start_time": "2022-02-14T06:27:10.395Z"
   },
   {
    "duration": 7,
    "start_time": "2022-02-14T06:27:10.403Z"
   },
   {
    "duration": 26,
    "start_time": "2022-02-14T06:27:10.411Z"
   },
   {
    "duration": 36,
    "start_time": "2022-02-14T06:27:10.439Z"
   },
   {
    "duration": 13,
    "start_time": "2022-02-14T06:27:10.476Z"
   },
   {
    "duration": 4,
    "start_time": "2022-02-14T06:27:10.490Z"
   },
   {
    "duration": 4,
    "start_time": "2022-02-14T06:27:10.496Z"
   },
   {
    "duration": 9,
    "start_time": "2022-02-14T06:27:10.501Z"
   },
   {
    "duration": 9,
    "start_time": "2022-02-14T06:27:10.512Z"
   },
   {
    "duration": 8,
    "start_time": "2022-02-14T06:27:10.522Z"
   },
   {
    "duration": 51,
    "start_time": "2022-02-14T06:27:10.531Z"
   },
   {
    "duration": 5,
    "start_time": "2022-02-14T06:27:10.583Z"
   },
   {
    "duration": 7,
    "start_time": "2022-02-14T06:27:10.590Z"
   },
   {
    "duration": 11,
    "start_time": "2022-02-14T06:27:10.599Z"
   },
   {
    "duration": 9,
    "start_time": "2022-02-14T06:27:10.611Z"
   },
   {
    "duration": 11,
    "start_time": "2022-02-14T06:27:10.622Z"
   },
   {
    "duration": 6,
    "start_time": "2022-02-14T06:27:10.635Z"
   },
   {
    "duration": 412,
    "start_time": "2022-02-14T06:27:16.144Z"
   },
   {
    "duration": 6,
    "start_time": "2022-02-14T06:27:39.946Z"
   },
   {
    "duration": 7,
    "start_time": "2022-02-14T06:28:49.411Z"
   },
   {
    "duration": 169,
    "start_time": "2022-02-14T06:32:00.938Z"
   },
   {
    "duration": 9,
    "start_time": "2022-02-14T06:32:05.725Z"
   },
   {
    "duration": 10,
    "start_time": "2022-02-14T06:32:11.290Z"
   },
   {
    "duration": 5,
    "start_time": "2022-02-14T06:35:17.900Z"
   },
   {
    "duration": 170,
    "start_time": "2022-02-14T06:38:17.226Z"
   },
   {
    "duration": 672,
    "start_time": "2022-02-14T06:39:23.872Z"
   },
   {
    "duration": 15,
    "start_time": "2022-02-14T06:39:24.546Z"
   },
   {
    "duration": 19,
    "start_time": "2022-02-14T06:39:24.563Z"
   },
   {
    "duration": 27,
    "start_time": "2022-02-14T06:39:24.583Z"
   },
   {
    "duration": 22,
    "start_time": "2022-02-14T06:39:24.611Z"
   },
   {
    "duration": 10,
    "start_time": "2022-02-14T06:39:24.634Z"
   },
   {
    "duration": 30,
    "start_time": "2022-02-14T06:39:24.645Z"
   },
   {
    "duration": 3,
    "start_time": "2022-02-14T06:39:24.678Z"
   },
   {
    "duration": 4,
    "start_time": "2022-02-14T06:39:24.683Z"
   },
   {
    "duration": 6,
    "start_time": "2022-02-14T06:39:24.689Z"
   },
   {
    "duration": 10,
    "start_time": "2022-02-14T06:39:24.697Z"
   },
   {
    "duration": 69,
    "start_time": "2022-02-14T06:39:24.709Z"
   },
   {
    "duration": 8,
    "start_time": "2022-02-14T06:39:24.780Z"
   },
   {
    "duration": 12,
    "start_time": "2022-02-14T06:39:24.790Z"
   },
   {
    "duration": 3,
    "start_time": "2022-02-14T06:39:24.804Z"
   },
   {
    "duration": 8,
    "start_time": "2022-02-14T06:39:24.809Z"
   },
   {
    "duration": 9,
    "start_time": "2022-02-14T06:39:24.819Z"
   },
   {
    "duration": 9,
    "start_time": "2022-02-14T06:39:24.829Z"
   },
   {
    "duration": 33,
    "start_time": "2022-02-14T06:39:24.840Z"
   },
   {
    "duration": 27,
    "start_time": "2022-02-14T06:39:24.874Z"
   },
   {
    "duration": 5,
    "start_time": "2022-02-14T06:39:24.903Z"
   },
   {
    "duration": 8,
    "start_time": "2022-02-14T06:39:24.910Z"
   },
   {
    "duration": 13,
    "start_time": "2022-02-14T06:39:24.922Z"
   },
   {
    "duration": 40,
    "start_time": "2022-02-14T06:39:24.937Z"
   },
   {
    "duration": 14,
    "start_time": "2022-02-14T06:39:24.979Z"
   },
   {
    "duration": 8,
    "start_time": "2022-02-14T06:39:24.994Z"
   },
   {
    "duration": 7,
    "start_time": "2022-02-14T06:39:25.004Z"
   },
   {
    "duration": 6,
    "start_time": "2022-02-14T06:39:25.013Z"
   },
   {
    "duration": 17,
    "start_time": "2022-02-14T06:39:25.021Z"
   },
   {
    "duration": 23,
    "start_time": "2022-02-14T06:39:25.072Z"
   },
   {
    "duration": 21,
    "start_time": "2022-02-14T06:39:25.097Z"
   },
   {
    "duration": 28,
    "start_time": "2022-02-14T06:39:25.120Z"
   },
   {
    "duration": 32,
    "start_time": "2022-02-14T06:39:25.150Z"
   },
   {
    "duration": 30,
    "start_time": "2022-02-14T06:39:25.184Z"
   },
   {
    "duration": 3525,
    "start_time": "2022-02-14T06:39:25.216Z"
   },
   {
    "duration": 5959,
    "start_time": "2022-02-14T06:39:28.743Z"
   },
   {
    "duration": 20,
    "start_time": "2022-02-14T06:39:34.704Z"
   },
   {
    "duration": 13004,
    "start_time": "2022-02-14T06:39:34.727Z"
   },
   {
    "duration": 28,
    "start_time": "2022-02-14T06:39:47.733Z"
   },
   {
    "duration": 5,
    "start_time": "2022-02-14T06:39:47.771Z"
   },
   {
    "duration": 5,
    "start_time": "2022-02-14T06:39:47.778Z"
   },
   {
    "duration": 31,
    "start_time": "2022-02-14T06:39:47.784Z"
   },
   {
    "duration": 7,
    "start_time": "2022-02-14T06:39:47.817Z"
   },
   {
    "duration": 19,
    "start_time": "2022-02-14T06:39:47.826Z"
   },
   {
    "duration": 32,
    "start_time": "2022-02-14T06:39:47.847Z"
   },
   {
    "duration": 4,
    "start_time": "2022-02-14T06:39:47.881Z"
   },
   {
    "duration": 10,
    "start_time": "2022-02-14T06:39:47.887Z"
   },
   {
    "duration": 10,
    "start_time": "2022-02-14T06:39:47.899Z"
   },
   {
    "duration": 19,
    "start_time": "2022-02-14T06:39:47.910Z"
   },
   {
    "duration": 43,
    "start_time": "2022-02-14T06:39:47.931Z"
   },
   {
    "duration": 9,
    "start_time": "2022-02-14T06:39:47.976Z"
   },
   {
    "duration": 3,
    "start_time": "2022-02-14T06:39:47.986Z"
   },
   {
    "duration": 316,
    "start_time": "2022-02-14T06:39:47.990Z"
   },
   {
    "duration": 3,
    "start_time": "2022-02-14T06:39:48.308Z"
   },
   {
    "duration": 107,
    "start_time": "2022-02-14T06:39:48.313Z"
   },
   {
    "duration": -6131,
    "start_time": "2022-02-14T06:39:54.552Z"
   },
   {
    "duration": -6141,
    "start_time": "2022-02-14T06:39:54.563Z"
   },
   {
    "duration": -6159,
    "start_time": "2022-02-14T06:39:54.582Z"
   },
   {
    "duration": -6173,
    "start_time": "2022-02-14T06:39:54.597Z"
   },
   {
    "duration": -6190,
    "start_time": "2022-02-14T06:39:54.615Z"
   },
   {
    "duration": 1017,
    "start_time": "2022-02-14T06:40:18.695Z"
   },
   {
    "duration": 16,
    "start_time": "2022-02-14T06:40:19.714Z"
   },
   {
    "duration": 19,
    "start_time": "2022-02-14T06:40:19.732Z"
   },
   {
    "duration": 31,
    "start_time": "2022-02-14T06:40:19.772Z"
   },
   {
    "duration": 24,
    "start_time": "2022-02-14T06:40:19.805Z"
   },
   {
    "duration": 11,
    "start_time": "2022-02-14T06:40:19.830Z"
   },
   {
    "duration": 36,
    "start_time": "2022-02-14T06:40:19.843Z"
   },
   {
    "duration": 3,
    "start_time": "2022-02-14T06:40:19.882Z"
   },
   {
    "duration": 5,
    "start_time": "2022-02-14T06:40:19.887Z"
   },
   {
    "duration": 7,
    "start_time": "2022-02-14T06:40:19.893Z"
   },
   {
    "duration": 7,
    "start_time": "2022-02-14T06:40:19.901Z"
   },
   {
    "duration": 61,
    "start_time": "2022-02-14T06:40:19.910Z"
   },
   {
    "duration": 6,
    "start_time": "2022-02-14T06:40:19.973Z"
   },
   {
    "duration": 13,
    "start_time": "2022-02-14T06:40:19.980Z"
   },
   {
    "duration": 5,
    "start_time": "2022-02-14T06:40:19.995Z"
   },
   {
    "duration": 6,
    "start_time": "2022-02-14T06:40:20.001Z"
   },
   {
    "duration": 9,
    "start_time": "2022-02-14T06:40:20.009Z"
   },
   {
    "duration": 10,
    "start_time": "2022-02-14T06:40:20.019Z"
   },
   {
    "duration": 6,
    "start_time": "2022-02-14T06:40:20.031Z"
   },
   {
    "duration": 56,
    "start_time": "2022-02-14T06:40:20.039Z"
   },
   {
    "duration": 8,
    "start_time": "2022-02-14T06:40:20.096Z"
   },
   {
    "duration": 7,
    "start_time": "2022-02-14T06:40:20.105Z"
   },
   {
    "duration": 12,
    "start_time": "2022-02-14T06:40:20.116Z"
   },
   {
    "duration": 10,
    "start_time": "2022-02-14T06:40:20.131Z"
   },
   {
    "duration": 40,
    "start_time": "2022-02-14T06:40:20.142Z"
   },
   {
    "duration": 6,
    "start_time": "2022-02-14T06:40:20.183Z"
   },
   {
    "duration": 7,
    "start_time": "2022-02-14T06:40:20.190Z"
   },
   {
    "duration": 6,
    "start_time": "2022-02-14T06:40:20.199Z"
   },
   {
    "duration": 20,
    "start_time": "2022-02-14T06:40:20.206Z"
   },
   {
    "duration": 14,
    "start_time": "2022-02-14T06:40:20.228Z"
   },
   {
    "duration": 40,
    "start_time": "2022-02-14T06:40:20.243Z"
   },
   {
    "duration": 25,
    "start_time": "2022-02-14T06:40:20.285Z"
   },
   {
    "duration": 13,
    "start_time": "2022-02-14T06:40:20.311Z"
   },
   {
    "duration": 50,
    "start_time": "2022-02-14T06:40:20.326Z"
   },
   {
    "duration": 3322,
    "start_time": "2022-02-14T06:40:20.377Z"
   },
   {
    "duration": 3235,
    "start_time": "2022-02-14T06:40:23.700Z"
   },
   {
    "duration": 11,
    "start_time": "2022-02-14T06:40:26.937Z"
   },
   {
    "duration": 6905,
    "start_time": "2022-02-14T06:40:26.950Z"
   },
   {
    "duration": 21,
    "start_time": "2022-02-14T06:40:33.856Z"
   },
   {
    "duration": 4,
    "start_time": "2022-02-14T06:40:33.879Z"
   },
   {
    "duration": 4,
    "start_time": "2022-02-14T06:40:33.884Z"
   },
   {
    "duration": 32,
    "start_time": "2022-02-14T06:40:33.889Z"
   },
   {
    "duration": 10,
    "start_time": "2022-02-14T06:40:33.923Z"
   },
   {
    "duration": 33,
    "start_time": "2022-02-14T06:40:33.935Z"
   },
   {
    "duration": 16,
    "start_time": "2022-02-14T06:40:33.971Z"
   },
   {
    "duration": 5,
    "start_time": "2022-02-14T06:40:33.989Z"
   },
   {
    "duration": 15,
    "start_time": "2022-02-14T06:40:33.997Z"
   },
   {
    "duration": 14,
    "start_time": "2022-02-14T06:40:34.014Z"
   },
   {
    "duration": 18,
    "start_time": "2022-02-14T06:40:34.030Z"
   },
   {
    "duration": 5,
    "start_time": "2022-02-14T06:40:34.049Z"
   },
   {
    "duration": 9,
    "start_time": "2022-02-14T06:40:34.056Z"
   },
   {
    "duration": 7,
    "start_time": "2022-02-14T06:40:34.066Z"
   },
   {
    "duration": 310,
    "start_time": "2022-02-14T06:40:34.075Z"
   },
   {
    "duration": 4,
    "start_time": "2022-02-14T06:40:34.387Z"
   },
   {
    "duration": 28,
    "start_time": "2022-02-14T06:40:34.392Z"
   },
   {
    "duration": 40,
    "start_time": "2022-02-14T06:40:34.421Z"
   },
   {
    "duration": 18,
    "start_time": "2022-02-14T06:40:34.463Z"
   },
   {
    "duration": 21,
    "start_time": "2022-02-14T06:40:34.483Z"
   },
   {
    "duration": 23,
    "start_time": "2022-02-14T06:40:34.506Z"
   }
  ],
  "kernelspec": {
   "display_name": "Python 3 (ipykernel)",
   "language": "python",
   "name": "python3"
  },
  "language_info": {
   "codemirror_mode": {
    "name": "ipython",
    "version": 3
   },
   "file_extension": ".py",
   "mimetype": "text/x-python",
   "name": "python",
   "nbconvert_exporter": "python",
   "pygments_lexer": "ipython3",
   "version": "3.9.12"
  },
  "toc": {
   "base_numbering": 1,
   "nav_menu": {
    "height": "148px",
    "width": "208px"
   },
   "number_sections": true,
   "sideBar": true,
   "skip_h1_title": true,
   "title_cell": "Table of Contents",
   "title_sidebar": "Contents",
   "toc_cell": false,
   "toc_position": {},
   "toc_section_display": true,
   "toc_window_display": false
  }
 },
 "nbformat": 4,
 "nbformat_minor": 2
}
