{
 "cells": [
  {
   "cell_type": "markdown",
   "metadata": {
    "id": "E0vqbgi9ay0H"
   },
   "source": [
    "# Яндекс.Музыка"
   ]
  },
  {
   "cell_type": "markdown",
   "metadata": {
    "id": "VUC88oWjTJw2"
   },
   "source": [
    "Сравнение Москвы и Петербурга окружено мифами. Например:\n",
    " * Москва — мегаполис, подчинённый жёсткому ритму рабочей недели;\n",
    " * Петербург — культурная столица, со своими вкусами.\n",
    "\n",
    "На данных Яндекс.Музыки вы сравните поведение пользователей двух столиц.\n",
    "\n",
    "**Цель исследования** — проверьте три гипотезы:\n",
    "1. Активность пользователей зависит от дня недели. Причём в Москве и Петербурге это проявляется по-разному.\n",
    "2. В понедельник утром в Москве преобладают одни жанры, а в Петербурге — другие. Так же и вечером пятницы преобладают разные жанры — в зависимости от города. \n",
    "3. Москва и Петербург предпочитают разные жанры музыки. В Москве чаще слушают поп-музыку, в Петербурге — русский рэп.\n",
    "\n",
    "**Ход исследования**\n",
    "\n",
    "Данные о поведении пользователей вы получите из файла `yandex_music_project.csv`. О качестве данных ничего не известно. Поэтому перед проверкой гипотез понадобится обзор данных. \n",
    "\n",
    "Вы проверите данные на ошибки и оцените их влияние на исследование. Затем, на этапе предобработки вы поищете возможность исправить самые критичные ошибки данных.\n",
    " \n",
    "Таким образом, исследование пройдёт в три этапа:\n",
    " 1. Обзор данных.\n",
    " 2. Предобработка данных.\n",
    " 3. Проверка гипотез.\n",
    "\n"
   ]
  },
  {
   "cell_type": "markdown",
   "metadata": {
    "id": "Ml1hmfXC_Zcs"
   },
   "source": [
    "## Обзор данных\n",
    "\n",
    "Составьте первое представление о данных Яндекс.Музыки.\n",
    "\n",
    "\n"
   ]
  },
  {
   "cell_type": "markdown",
   "metadata": {
    "id": "57eAOGIz_Zcs"
   },
   "source": [
    "Основной инструмент аналитика — `pandas`. Импортируйте эту библиотеку."
   ]
  },
  {
   "cell_type": "code",
   "execution_count": 1,
   "metadata": {
    "id": "AXN7PHPN_Zcs"
   },
   "outputs": [],
   "source": [
    "# импорт библиотеки pandas\n",
    "import pandas as pd"
   ]
  },
  {
   "cell_type": "markdown",
   "metadata": {
    "id": "SG23P8tt_Zcs"
   },
   "source": [
    "Прочитайте файл `yandex_music_project.csv` из папки `/datasets` и сохраните его в переменной `df`:"
   ]
  },
  {
   "cell_type": "code",
   "execution_count": 2,
   "metadata": {
    "id": "fFVu7vqh_Zct"
   },
   "outputs": [],
   "source": [
    "# чтение файла с данными и сохранение в df\n",
    "df = pd.read_csv('/datasets/yandex_music_project.csv')"
   ]
  },
  {
   "cell_type": "markdown",
   "metadata": {
    "id": "rDoOMd3uTqnZ"
   },
   "source": [
    "Выведите на экран первые десять строк таблицы:"
   ]
  },
  {
   "cell_type": "code",
   "execution_count": 3,
   "metadata": {
    "id": "oWTVX3gW_Zct"
   },
   "outputs": [
    {
     "data": {
      "text/html": [
       "<div>\n",
       "<style scoped>\n",
       "    .dataframe tbody tr th:only-of-type {\n",
       "        vertical-align: middle;\n",
       "    }\n",
       "\n",
       "    .dataframe tbody tr th {\n",
       "        vertical-align: top;\n",
       "    }\n",
       "\n",
       "    .dataframe thead th {\n",
       "        text-align: right;\n",
       "    }\n",
       "</style>\n",
       "<table border=\"1\" class=\"dataframe\">\n",
       "  <thead>\n",
       "    <tr style=\"text-align: right;\">\n",
       "      <th></th>\n",
       "      <th>userID</th>\n",
       "      <th>Track</th>\n",
       "      <th>artist</th>\n",
       "      <th>genre</th>\n",
       "      <th>City</th>\n",
       "      <th>time</th>\n",
       "      <th>Day</th>\n",
       "    </tr>\n",
       "  </thead>\n",
       "  <tbody>\n",
       "    <tr>\n",
       "      <td>0</td>\n",
       "      <td>FFB692EC</td>\n",
       "      <td>Kamigata To Boots</td>\n",
       "      <td>The Mass Missile</td>\n",
       "      <td>rock</td>\n",
       "      <td>Saint-Petersburg</td>\n",
       "      <td>20:28:33</td>\n",
       "      <td>Wednesday</td>\n",
       "    </tr>\n",
       "    <tr>\n",
       "      <td>1</td>\n",
       "      <td>55204538</td>\n",
       "      <td>Delayed Because of Accident</td>\n",
       "      <td>Andreas Rönnberg</td>\n",
       "      <td>rock</td>\n",
       "      <td>Moscow</td>\n",
       "      <td>14:07:09</td>\n",
       "      <td>Friday</td>\n",
       "    </tr>\n",
       "    <tr>\n",
       "      <td>2</td>\n",
       "      <td>20EC38</td>\n",
       "      <td>Funiculì funiculà</td>\n",
       "      <td>Mario Lanza</td>\n",
       "      <td>pop</td>\n",
       "      <td>Saint-Petersburg</td>\n",
       "      <td>20:58:07</td>\n",
       "      <td>Wednesday</td>\n",
       "    </tr>\n",
       "    <tr>\n",
       "      <td>3</td>\n",
       "      <td>A3DD03C9</td>\n",
       "      <td>Dragons in the Sunset</td>\n",
       "      <td>Fire + Ice</td>\n",
       "      <td>folk</td>\n",
       "      <td>Saint-Petersburg</td>\n",
       "      <td>08:37:09</td>\n",
       "      <td>Monday</td>\n",
       "    </tr>\n",
       "    <tr>\n",
       "      <td>4</td>\n",
       "      <td>E2DC1FAE</td>\n",
       "      <td>Soul People</td>\n",
       "      <td>Space Echo</td>\n",
       "      <td>dance</td>\n",
       "      <td>Moscow</td>\n",
       "      <td>08:34:34</td>\n",
       "      <td>Monday</td>\n",
       "    </tr>\n",
       "    <tr>\n",
       "      <td>5</td>\n",
       "      <td>842029A1</td>\n",
       "      <td>Преданная</td>\n",
       "      <td>IMPERVTOR</td>\n",
       "      <td>rusrap</td>\n",
       "      <td>Saint-Petersburg</td>\n",
       "      <td>13:09:41</td>\n",
       "      <td>Friday</td>\n",
       "    </tr>\n",
       "    <tr>\n",
       "      <td>6</td>\n",
       "      <td>4CB90AA5</td>\n",
       "      <td>True</td>\n",
       "      <td>Roman Messer</td>\n",
       "      <td>dance</td>\n",
       "      <td>Moscow</td>\n",
       "      <td>13:00:07</td>\n",
       "      <td>Wednesday</td>\n",
       "    </tr>\n",
       "    <tr>\n",
       "      <td>7</td>\n",
       "      <td>F03E1C1F</td>\n",
       "      <td>Feeling This Way</td>\n",
       "      <td>Polina Griffith</td>\n",
       "      <td>dance</td>\n",
       "      <td>Moscow</td>\n",
       "      <td>20:47:49</td>\n",
       "      <td>Wednesday</td>\n",
       "    </tr>\n",
       "    <tr>\n",
       "      <td>8</td>\n",
       "      <td>8FA1D3BE</td>\n",
       "      <td>И вновь продолжается бой</td>\n",
       "      <td>NaN</td>\n",
       "      <td>ruspop</td>\n",
       "      <td>Moscow</td>\n",
       "      <td>09:17:40</td>\n",
       "      <td>Friday</td>\n",
       "    </tr>\n",
       "    <tr>\n",
       "      <td>9</td>\n",
       "      <td>E772D5C0</td>\n",
       "      <td>Pessimist</td>\n",
       "      <td>NaN</td>\n",
       "      <td>dance</td>\n",
       "      <td>Saint-Petersburg</td>\n",
       "      <td>21:20:49</td>\n",
       "      <td>Wednesday</td>\n",
       "    </tr>\n",
       "  </tbody>\n",
       "</table>\n",
       "</div>"
      ],
      "text/plain": [
       "     userID                        Track            artist   genre  \\\n",
       "0  FFB692EC            Kamigata To Boots  The Mass Missile    rock   \n",
       "1  55204538  Delayed Because of Accident  Andreas Rönnberg    rock   \n",
       "2    20EC38            Funiculì funiculà       Mario Lanza     pop   \n",
       "3  A3DD03C9        Dragons in the Sunset        Fire + Ice    folk   \n",
       "4  E2DC1FAE                  Soul People        Space Echo   dance   \n",
       "5  842029A1                    Преданная         IMPERVTOR  rusrap   \n",
       "6  4CB90AA5                         True      Roman Messer   dance   \n",
       "7  F03E1C1F             Feeling This Way   Polina Griffith   dance   \n",
       "8  8FA1D3BE     И вновь продолжается бой               NaN  ruspop   \n",
       "9  E772D5C0                    Pessimist               NaN   dance   \n",
       "\n",
       "             City        time        Day  \n",
       "0  Saint-Petersburg  20:28:33  Wednesday  \n",
       "1            Moscow  14:07:09     Friday  \n",
       "2  Saint-Petersburg  20:58:07  Wednesday  \n",
       "3  Saint-Petersburg  08:37:09     Monday  \n",
       "4            Moscow  08:34:34     Monday  \n",
       "5  Saint-Petersburg  13:09:41     Friday  \n",
       "6            Moscow  13:00:07  Wednesday  \n",
       "7            Moscow  20:47:49  Wednesday  \n",
       "8            Moscow  09:17:40     Friday  \n",
       "9  Saint-Petersburg  21:20:49  Wednesday  "
      ]
     },
     "execution_count": 3,
     "metadata": {},
     "output_type": "execute_result"
    }
   ],
   "source": [
    "# получение первых 10 строк таблицы df\n",
    "df.head(10)"
   ]
  },
  {
   "cell_type": "markdown",
   "metadata": {
    "id": "EO73Kwic_Zct"
   },
   "source": [
    "Одной командой получить общую информацию о таблице:"
   ]
  },
  {
   "cell_type": "code",
   "execution_count": 4,
   "metadata": {
    "id": "DSf2kIb-_Zct"
   },
   "outputs": [
    {
     "name": "stdout",
     "output_type": "stream",
     "text": [
      "<class 'pandas.core.frame.DataFrame'>\n",
      "RangeIndex: 65079 entries, 0 to 65078\n",
      "Data columns (total 7 columns):\n",
      "  userID    65079 non-null object\n",
      "Track       63848 non-null object\n",
      "artist      57876 non-null object\n",
      "genre       63881 non-null object\n",
      "  City      65079 non-null object\n",
      "time        65079 non-null object\n",
      "Day         65079 non-null object\n",
      "dtypes: object(7)\n",
      "memory usage: 3.5+ MB\n"
     ]
    }
   ],
   "source": [
    "# получение общей информации о данных в таблице df\n",
    "df.info()"
   ]
  },
  {
   "cell_type": "markdown",
   "metadata": {
    "id": "TaQ2Iwbr_Zct"
   },
   "source": [
    "Итак, в таблице семь столбцов. Тип данных во всех столбцах — `object`.\n",
    "\n",
    "Согласно документации к данным:\n",
    "* `userID` — идентификатор пользователя;\n",
    "* `Track` — название трека;  \n",
    "* `artist` — имя исполнителя;\n",
    "* `genre` — название жанра;\n",
    "* `City` — город пользователя;\n",
    "* `time` — время начала прослушивания;\n",
    "* `Day` — день недели.\n",
    "\n",
    "В названиях колонок видны три нарушения стиля:\n",
    "1. Строчные буквы сочетаются с прописными.\n",
    "2. Встречаются пробелы.\n",
    "3. Не используется \"змеиный регистр\".\n",
    "\n",
    "\n",
    "\n",
    "Количество значений в столбцах различается. Значит, в данных есть пропущенные значения.\n"
   ]
  },
  {
   "cell_type": "markdown",
   "metadata": {
    "id": "MCB6-dXG_Zct"
   },
   "source": [
    "**Выводы**\n",
    "\n",
    "В каждой строке таблицы — данные о прослушанном треке. Часть колонок описывает саму композицию: название, исполнителя и жанр. Остальные данные рассказывают о пользователе: из какого он города, когда он слушал музыку. \n",
    "\n",
    "Предварительно можно утверждать, что, данных достаточно для проверки гипотез. Но встречаются пропуски в данных, а в названиях колонок — расхождения с хорошим стилем.\n",
    "\n",
    "Чтобы двигаться дальше, нужно устранить проблемы в данных."
   ]
  },
  {
   "cell_type": "markdown",
   "metadata": {
    "id": "SjYF6Ub9_Zct"
   },
   "source": [
    "## Предобработка данных\n",
    "Исправьте стиль в заголовках столбцов, исключите пропуски. Затем проверьте данные на дубликаты."
   ]
  },
  {
   "cell_type": "markdown",
   "metadata": {
    "id": "dIaKXr29_Zct"
   },
   "source": [
    "### Стиль заголовков\n",
    "Выведите на экран названия столбцов:"
   ]
  },
  {
   "cell_type": "code",
   "execution_count": 5,
   "metadata": {
    "id": "oKOTdF_Q_Zct"
   },
   "outputs": [
    {
     "data": {
      "text/plain": [
       "Index(['  userID', 'Track', 'artist', 'genre', '  City  ', 'time', 'Day'], dtype='object')"
      ]
     },
     "execution_count": 5,
     "metadata": {},
     "output_type": "execute_result"
    }
   ],
   "source": [
    "# перечень названий столбцов таблицы df\n",
    "df.columns"
   ]
  },
  {
   "cell_type": "markdown",
   "metadata": {
    "id": "zj5534cv_Zct"
   },
   "source": [
    "Приведите названия в соответствие с хорошим стилем:\n",
    "* несколько слов в названии запишите в «змеином_регистре»,\n",
    "* все символы сделайте строчными,\n",
    "* устраните пробелы.\n",
    "\n",
    "Для этого переименуйте колонки так:\n",
    "* `'  userID'` → `'user_id'`;\n",
    "* `'Track'` → `'track'`;\n",
    "* `'  City  '` → `'city'`;\n",
    "* `'Day'` → `'day'`."
   ]
  },
  {
   "cell_type": "code",
   "execution_count": 6,
   "metadata": {
    "id": "ISlFqs5y_Zct"
   },
   "outputs": [],
   "source": [
    "# переименование столбцов\n",
    "df = df.rename(\n",
    "    columns={\n",
    "        '  userID': 'user_id',\n",
    "        'Track': 'track',\n",
    "        '  City  ': 'city',\n",
    "        'Day': 'day',\n",
    "    }\n",
    ")"
   ]
  },
  {
   "cell_type": "markdown",
   "metadata": {
    "id": "1dqbh00J_Zct"
   },
   "source": [
    "Проверьте результат. Для этого ещё раз выведите на экран названия столбцов:"
   ]
  },
  {
   "cell_type": "code",
   "execution_count": 7,
   "metadata": {
    "id": "d4NOAmTW_Zct"
   },
   "outputs": [
    {
     "data": {
      "text/plain": [
       "Index(['user_id', 'track', 'artist', 'genre', 'city', 'time', 'day'], dtype='object')"
      ]
     },
     "execution_count": 7,
     "metadata": {},
     "output_type": "execute_result"
    }
   ],
   "source": [
    "# проверка результатов - перечень названий столбцов\n",
    "df.columns"
   ]
  },
  {
   "cell_type": "markdown",
   "metadata": {
    "id": "5ISfbcfY_Zct"
   },
   "source": [
    "### Пропуски значений\n",
    "Сначала посчитайте, сколько в таблице пропущенных значений. Для этого достаточно двух методов `pandas`:"
   ]
  },
  {
   "cell_type": "code",
   "execution_count": 8,
   "metadata": {
    "id": "RskX29qr_Zct"
   },
   "outputs": [
    {
     "data": {
      "text/plain": [
       "user_id       0\n",
       "track      1231\n",
       "artist     7203\n",
       "genre      1198\n",
       "city          0\n",
       "time          0\n",
       "day           0\n",
       "dtype: int64"
      ]
     },
     "execution_count": 8,
     "metadata": {},
     "output_type": "execute_result"
    }
   ],
   "source": [
    "# подсчёт пропусков\n",
    "df.isna().sum()"
   ]
  },
  {
   "cell_type": "markdown",
   "metadata": {
    "id": "qubhgnlO_Zct"
   },
   "source": [
    "Не все пропущенные значения влияют на исследование. Так в `track` и `artist` пропуски не важны для вашей работы. Достаточно заменить их явными обозначениями.\n",
    "\n",
    "Но пропуски в `genre` могут помешать сравнению музыкальных вкусов в Москве и Санкт-Петербурге. На практике было бы правильно установить причину пропусков и восстановить данные. Такой возможности нет в учебном проекте. Придётся:\n",
    "* заполнить и эти пропуски явными обозначениями,\n",
    "* оценить, насколько они повредят расчётам. "
   ]
  },
  {
   "cell_type": "markdown",
   "metadata": {
    "id": "fSv2laPA_Zct"
   },
   "source": [
    "Замените пропущенные значения в столбцах `track`, `artist` и `genre` на строку `'unknown'`. Для этого создайте список `columns_to_replace`, переберите его элементы циклом `for` и для каждого столбца выполните замену пропущенных значений:"
   ]
  },
  {
   "cell_type": "code",
   "execution_count": 9,
   "metadata": {
    "id": "KplB5qWs_Zct"
   },
   "outputs": [],
   "source": [
    "# перебор названий столбцов в цикле и замена пропущенных значений на 'unknown'\n",
    "columns_to_replace = ['track', 'artist', 'genre']\n",
    "for column in columns_to_replace:\n",
    "    df[column] = df[column].fillna('unknown')\n",
    "    \n",
    "#df = df.fillna('unknown')"
   ]
  },
  {
   "cell_type": "markdown",
   "metadata": {
    "id": "Ilsm-MZo_Zct"
   },
   "source": [
    "Убедитесь, что в таблице не осталось пропусков. Для этого ещё раз посчитайте пропущенные значения."
   ]
  },
  {
   "cell_type": "code",
   "execution_count": 10,
   "metadata": {
    "id": "Tq4nYRX4_Zct"
   },
   "outputs": [
    {
     "data": {
      "text/plain": [
       "user_id    0\n",
       "track      0\n",
       "artist     0\n",
       "genre      0\n",
       "city       0\n",
       "time       0\n",
       "day        0\n",
       "dtype: int64"
      ]
     },
     "execution_count": 10,
     "metadata": {},
     "output_type": "execute_result"
    }
   ],
   "source": [
    "# подсчёт пропусков\n",
    "df.isna().sum()"
   ]
  },
  {
   "cell_type": "markdown",
   "metadata": {
    "id": "BWKRtBJ3_Zct"
   },
   "source": [
    "### Дубликаты\n",
    "Посчитайте явные дубликаты в таблице одной командой:"
   ]
  },
  {
   "cell_type": "code",
   "execution_count": 11,
   "metadata": {
    "id": "36eES_S0_Zct"
   },
   "outputs": [
    {
     "data": {
      "text/plain": [
       "3826"
      ]
     },
     "execution_count": 11,
     "metadata": {},
     "output_type": "execute_result"
    }
   ],
   "source": [
    "# подсчёт явных дубликатов\n",
    "df.duplicated().sum()"
   ]
  },
  {
   "cell_type": "markdown",
   "metadata": {
    "id": "Ot25h6XR_Zct"
   },
   "source": [
    "Вызовите специальный метод `pandas`, чтобы удалить явные дубликаты:"
   ]
  },
  {
   "cell_type": "code",
   "execution_count": 12,
   "metadata": {
    "id": "exFHq6tt_Zct"
   },
   "outputs": [],
   "source": [
    "# удаление явных дубликатов (с удалением старых индексов и формированием новых)\n",
    "df = df.drop_duplicates().reset_index(drop=True)"
   ]
  },
  {
   "cell_type": "markdown",
   "metadata": {
    "id": "Im2YwBEG_Zct"
   },
   "source": [
    "Ещё раз посчитайте явные дубликаты в таблице — убедитесь, что полностью от них избавились:"
   ]
  },
  {
   "cell_type": "code",
   "execution_count": 13,
   "metadata": {
    "id": "-8PuNWQ0_Zct"
   },
   "outputs": [
    {
     "data": {
      "text/plain": [
       "0"
      ]
     },
     "execution_count": 13,
     "metadata": {},
     "output_type": "execute_result"
    }
   ],
   "source": [
    "# проверка на отсутствие дубликатов\n",
    "df.duplicated().sum()"
   ]
  },
  {
   "cell_type": "markdown",
   "metadata": {
    "id": "QlFBsxAr_Zct"
   },
   "source": [
    "Теперь избавьтесь от неявных дубликатов в колонке `genre`. Например, название одного и того же жанра может быть записано немного по-разному. Такие ошибки тоже повлияют на результат исследования."
   ]
  },
  {
   "cell_type": "markdown",
   "metadata": {
    "id": "eSjWwsOh_Zct"
   },
   "source": [
    "Выведите на экран список уникальных названий жанров, отсортированный в алфавитном порядке. Для этого:\n",
    "* извлеките нужный столбец датафрейма, \n",
    "* примените к нему метод сортировки,\n",
    "* для отсортированного столбца вызовите метод, который вернёт уникальные значения из столбца."
   ]
  },
  {
   "cell_type": "code",
   "execution_count": 14,
   "metadata": {
    "id": "JIUcqzZN_Zct"
   },
   "outputs": [
    {
     "data": {
      "text/plain": [
       "array(['acid', 'acoustic', 'action', 'adult', 'africa', 'afrikaans',\n",
       "       'alternative', 'alternativepunk', 'ambient', 'americana',\n",
       "       'animated', 'anime', 'arabesk', 'arabic', 'arena',\n",
       "       'argentinetango', 'art', 'audiobook', 'author', 'avantgarde',\n",
       "       'axé', 'baile', 'balkan', 'beats', 'bigroom', 'black', 'bluegrass',\n",
       "       'blues', 'bollywood', 'bossa', 'brazilian', 'breakbeat', 'breaks',\n",
       "       'broadway', 'cantautori', 'cantopop', 'canzone', 'caribbean',\n",
       "       'caucasian', 'celtic', 'chamber', 'chanson', 'children', 'chill',\n",
       "       'chinese', 'choral', 'christian', 'christmas', 'classical',\n",
       "       'classicmetal', 'club', 'colombian', 'comedy', 'conjazz',\n",
       "       'contemporary', 'country', 'cuban', 'dance', 'dancehall',\n",
       "       'dancepop', 'dark', 'death', 'deep', 'deutschrock', 'deutschspr',\n",
       "       'dirty', 'disco', 'dnb', 'documentary', 'downbeat', 'downtempo',\n",
       "       'drum', 'dub', 'dubstep', 'eastern', 'easy', 'electronic',\n",
       "       'electropop', 'emo', 'entehno', 'epicmetal', 'estrada', 'ethnic',\n",
       "       'eurofolk', 'european', 'experimental', 'extrememetal', 'fado',\n",
       "       'fairytail', 'film', 'fitness', 'flamenco', 'folk', 'folklore',\n",
       "       'folkmetal', 'folkrock', 'folktronica', 'forró', 'frankreich',\n",
       "       'französisch', 'french', 'funk', 'future', 'gangsta', 'garage',\n",
       "       'german', 'ghazal', 'gitarre', 'glitch', 'gospel', 'gothic',\n",
       "       'grime', 'grunge', 'gypsy', 'handsup', \"hard'n'heavy\", 'hardcore',\n",
       "       'hardstyle', 'hardtechno', 'hip', 'hip-hop', 'hiphop',\n",
       "       'historisch', 'holiday', 'hop', 'horror', 'house', 'hymn', 'idm',\n",
       "       'independent', 'indian', 'indie', 'indipop', 'industrial',\n",
       "       'inspirational', 'instrumental', 'international', 'irish', 'jam',\n",
       "       'japanese', 'jazz', 'jewish', 'jpop', 'jungle', 'k-pop',\n",
       "       'karadeniz', 'karaoke', 'kayokyoku', 'korean', 'laiko', 'latin',\n",
       "       'latino', 'leftfield', 'local', 'lounge', 'loungeelectronic',\n",
       "       'lovers', 'malaysian', 'mandopop', 'marschmusik', 'meditative',\n",
       "       'mediterranean', 'melodic', 'metal', 'metalcore', 'mexican',\n",
       "       'middle', 'minimal', 'miscellaneous', 'modern', 'mood', 'mpb',\n",
       "       'muslim', 'native', 'neoklassik', 'neue', 'new', 'newage',\n",
       "       'newwave', 'nu', 'nujazz', 'numetal', 'oceania', 'old', 'opera',\n",
       "       'orchestral', 'other', 'piano', 'podcasts', 'pop', 'popdance',\n",
       "       'popelectronic', 'popeurodance', 'poprussian', 'post',\n",
       "       'posthardcore', 'postrock', 'power', 'progmetal', 'progressive',\n",
       "       'psychedelic', 'punjabi', 'punk', 'quebecois', 'ragga', 'ram',\n",
       "       'rancheras', 'rap', 'rave', 'reggae', 'reggaeton', 'regional',\n",
       "       'relax', 'religious', 'retro', 'rhythm', 'rnb', 'rnr', 'rock',\n",
       "       'rockabilly', 'rockalternative', 'rockindie', 'rockother',\n",
       "       'romance', 'roots', 'ruspop', 'rusrap', 'rusrock', 'russian',\n",
       "       'salsa', 'samba', 'scenic', 'schlager', 'self', 'sertanejo',\n",
       "       'shanson', 'shoegazing', 'showtunes', 'singer', 'ska', 'skarock',\n",
       "       'slow', 'smooth', 'soft', 'soul', 'soulful', 'sound', 'soundtrack',\n",
       "       'southern', 'specialty', 'speech', 'spiritual', 'sport',\n",
       "       'stonerrock', 'surf', 'swing', 'synthpop', 'synthrock',\n",
       "       'sängerportrait', 'tango', 'tanzorchester', 'taraftar', 'tatar',\n",
       "       'tech', 'techno', 'teen', 'thrash', 'top', 'traditional',\n",
       "       'tradjazz', 'trance', 'tribal', 'trip', 'triphop', 'tropical',\n",
       "       'türk', 'türkçe', 'ukrrock', 'unknown', 'urban', 'uzbek',\n",
       "       'variété', 'vi', 'videogame', 'vocal', 'western', 'world',\n",
       "       'worldbeat', 'ïîï', 'электроника'], dtype=object)"
      ]
     },
     "execution_count": 14,
     "metadata": {},
     "output_type": "execute_result"
    }
   ],
   "source": [
    "# Просмотр уникальных названий жанров\n",
    "df['genre'].sort_values().unique()"
   ]
  },
  {
   "cell_type": "markdown",
   "metadata": {
    "id": "qej-Qmuo_Zct"
   },
   "source": [
    "Просмотрите список и найдите неявные дубликаты названия `hiphop`. Это могут быть названия с ошибками или альтернативные названия того же жанра.\n",
    "\n",
    "Вы увидите следующие неявные дубликаты:\n",
    "* *hip*,\n",
    "* *hop*,\n",
    "* *hip-hop*.\n",
    "\n",
    "Чтобы очистить от них таблицу, напишите функцию `replace_wrong_genres()` с двумя параметрами: \n",
    "* `wrong_genres` — список дубликатов,\n",
    "* `correct_genre` — строка с правильным значением.\n",
    "\n",
    "Функция должна исправить колонку `genre` в таблице `df`: заменить каждое значение из списка `wrong_genres` на значение из `correct_genre`."
   ]
  },
  {
   "cell_type": "code",
   "execution_count": 15,
   "metadata": {
    "id": "ErNDkmns_Zct"
   },
   "outputs": [],
   "source": [
    "# Функция для замены неявных дубликатов\n",
    "def replace_wrong_genres(wrong_genres, correct_genre):\n",
    "    for wrong_genre in wrong_genres:\n",
    "        df['genre'] = df['genre'].replace(wrong_genre, correct_genre)\n",
    "    return df"
   ]
  },
  {
   "cell_type": "markdown",
   "metadata": {
    "id": "aDoBJxbA_Zct"
   },
   "source": [
    "Вызовите `replace_wrong_genres()` и передайте ей такие аргументы, чтобы она устранила неявные дубликаты: вместо `hip`, `hop` и `hip-hop` в таблице должно быть значение `hiphop`:"
   ]
  },
  {
   "cell_type": "code",
   "execution_count": 16,
   "metadata": {
    "id": "YN5i2hpmSo09"
   },
   "outputs": [
    {
     "data": {
      "text/html": [
       "<div>\n",
       "<style scoped>\n",
       "    .dataframe tbody tr th:only-of-type {\n",
       "        vertical-align: middle;\n",
       "    }\n",
       "\n",
       "    .dataframe tbody tr th {\n",
       "        vertical-align: top;\n",
       "    }\n",
       "\n",
       "    .dataframe thead th {\n",
       "        text-align: right;\n",
       "    }\n",
       "</style>\n",
       "<table border=\"1\" class=\"dataframe\">\n",
       "  <thead>\n",
       "    <tr style=\"text-align: right;\">\n",
       "      <th></th>\n",
       "      <th>user_id</th>\n",
       "      <th>track</th>\n",
       "      <th>artist</th>\n",
       "      <th>genre</th>\n",
       "      <th>city</th>\n",
       "      <th>time</th>\n",
       "      <th>day</th>\n",
       "    </tr>\n",
       "  </thead>\n",
       "  <tbody>\n",
       "    <tr>\n",
       "      <td>0</td>\n",
       "      <td>FFB692EC</td>\n",
       "      <td>Kamigata To Boots</td>\n",
       "      <td>The Mass Missile</td>\n",
       "      <td>rock</td>\n",
       "      <td>Saint-Petersburg</td>\n",
       "      <td>20:28:33</td>\n",
       "      <td>Wednesday</td>\n",
       "    </tr>\n",
       "    <tr>\n",
       "      <td>1</td>\n",
       "      <td>55204538</td>\n",
       "      <td>Delayed Because of Accident</td>\n",
       "      <td>Andreas Rönnberg</td>\n",
       "      <td>rock</td>\n",
       "      <td>Moscow</td>\n",
       "      <td>14:07:09</td>\n",
       "      <td>Friday</td>\n",
       "    </tr>\n",
       "    <tr>\n",
       "      <td>2</td>\n",
       "      <td>20EC38</td>\n",
       "      <td>Funiculì funiculà</td>\n",
       "      <td>Mario Lanza</td>\n",
       "      <td>pop</td>\n",
       "      <td>Saint-Petersburg</td>\n",
       "      <td>20:58:07</td>\n",
       "      <td>Wednesday</td>\n",
       "    </tr>\n",
       "    <tr>\n",
       "      <td>3</td>\n",
       "      <td>A3DD03C9</td>\n",
       "      <td>Dragons in the Sunset</td>\n",
       "      <td>Fire + Ice</td>\n",
       "      <td>folk</td>\n",
       "      <td>Saint-Petersburg</td>\n",
       "      <td>08:37:09</td>\n",
       "      <td>Monday</td>\n",
       "    </tr>\n",
       "    <tr>\n",
       "      <td>4</td>\n",
       "      <td>E2DC1FAE</td>\n",
       "      <td>Soul People</td>\n",
       "      <td>Space Echo</td>\n",
       "      <td>dance</td>\n",
       "      <td>Moscow</td>\n",
       "      <td>08:34:34</td>\n",
       "      <td>Monday</td>\n",
       "    </tr>\n",
       "    <tr>\n",
       "      <td>...</td>\n",
       "      <td>...</td>\n",
       "      <td>...</td>\n",
       "      <td>...</td>\n",
       "      <td>...</td>\n",
       "      <td>...</td>\n",
       "      <td>...</td>\n",
       "      <td>...</td>\n",
       "    </tr>\n",
       "    <tr>\n",
       "      <td>61248</td>\n",
       "      <td>729CBB09</td>\n",
       "      <td>My Name</td>\n",
       "      <td>McLean</td>\n",
       "      <td>rnb</td>\n",
       "      <td>Moscow</td>\n",
       "      <td>13:32:28</td>\n",
       "      <td>Wednesday</td>\n",
       "    </tr>\n",
       "    <tr>\n",
       "      <td>61249</td>\n",
       "      <td>D08D4A55</td>\n",
       "      <td>Maybe One Day (feat. Black Spade)</td>\n",
       "      <td>Blu &amp; Exile</td>\n",
       "      <td>hiphop</td>\n",
       "      <td>Saint-Petersburg</td>\n",
       "      <td>10:00:00</td>\n",
       "      <td>Monday</td>\n",
       "    </tr>\n",
       "    <tr>\n",
       "      <td>61250</td>\n",
       "      <td>C5E3A0D5</td>\n",
       "      <td>Jalopiina</td>\n",
       "      <td>unknown</td>\n",
       "      <td>industrial</td>\n",
       "      <td>Moscow</td>\n",
       "      <td>20:09:26</td>\n",
       "      <td>Friday</td>\n",
       "    </tr>\n",
       "    <tr>\n",
       "      <td>61251</td>\n",
       "      <td>321D0506</td>\n",
       "      <td>Freight Train</td>\n",
       "      <td>Chas McDevitt</td>\n",
       "      <td>rock</td>\n",
       "      <td>Moscow</td>\n",
       "      <td>21:43:59</td>\n",
       "      <td>Friday</td>\n",
       "    </tr>\n",
       "    <tr>\n",
       "      <td>61252</td>\n",
       "      <td>3A64EF84</td>\n",
       "      <td>Tell Me Sweet Little Lies</td>\n",
       "      <td>Monica Lopez</td>\n",
       "      <td>country</td>\n",
       "      <td>Moscow</td>\n",
       "      <td>21:59:46</td>\n",
       "      <td>Friday</td>\n",
       "    </tr>\n",
       "  </tbody>\n",
       "</table>\n",
       "<p>61253 rows × 7 columns</p>\n",
       "</div>"
      ],
      "text/plain": [
       "        user_id                              track            artist  \\\n",
       "0      FFB692EC                  Kamigata To Boots  The Mass Missile   \n",
       "1      55204538        Delayed Because of Accident  Andreas Rönnberg   \n",
       "2        20EC38                  Funiculì funiculà       Mario Lanza   \n",
       "3      A3DD03C9              Dragons in the Sunset        Fire + Ice   \n",
       "4      E2DC1FAE                        Soul People        Space Echo   \n",
       "...         ...                                ...               ...   \n",
       "61248  729CBB09                            My Name            McLean   \n",
       "61249  D08D4A55  Maybe One Day (feat. Black Spade)       Blu & Exile   \n",
       "61250  C5E3A0D5                          Jalopiina           unknown   \n",
       "61251  321D0506                      Freight Train     Chas McDevitt   \n",
       "61252  3A64EF84          Tell Me Sweet Little Lies      Monica Lopez   \n",
       "\n",
       "            genre              city      time        day  \n",
       "0            rock  Saint-Petersburg  20:28:33  Wednesday  \n",
       "1            rock            Moscow  14:07:09     Friday  \n",
       "2             pop  Saint-Petersburg  20:58:07  Wednesday  \n",
       "3            folk  Saint-Petersburg  08:37:09     Monday  \n",
       "4           dance            Moscow  08:34:34     Monday  \n",
       "...           ...               ...       ...        ...  \n",
       "61248         rnb            Moscow  13:32:28  Wednesday  \n",
       "61249      hiphop  Saint-Petersburg  10:00:00     Monday  \n",
       "61250  industrial            Moscow  20:09:26     Friday  \n",
       "61251        rock            Moscow  21:43:59     Friday  \n",
       "61252     country            Moscow  21:59:46     Friday  \n",
       "\n",
       "[61253 rows x 7 columns]"
      ]
     },
     "execution_count": 16,
     "metadata": {},
     "output_type": "execute_result"
    }
   ],
   "source": [
    "# Устранение неявных дубликатов\n",
    "wrong_genres = ['hip', 'hop', 'hip-hop']\n",
    "correct_genre = ('hiphop')\n",
    "replace_wrong_genres(wrong_genres, correct_genre)"
   ]
  },
  {
   "cell_type": "markdown",
   "metadata": {
    "id": "zQKF16_RG15m"
   },
   "source": [
    "Проверьте, что заменили неправильные названия:\n",
    "\n",
    "*   hip\n",
    "*   hop\n",
    "*   hip-hop\n",
    "\n",
    "Выведите отсортированный список уникальных значений столбца `genre`:"
   ]
  },
  {
   "cell_type": "code",
   "execution_count": 17,
   "metadata": {
    "id": "wvixALnFG15m"
   },
   "outputs": [
    {
     "data": {
      "text/plain": [
       "array(['acid', 'acoustic', 'action', 'adult', 'africa', 'afrikaans',\n",
       "       'alternative', 'alternativepunk', 'ambient', 'americana',\n",
       "       'animated', 'anime', 'arabesk', 'arabic', 'arena',\n",
       "       'argentinetango', 'art', 'audiobook', 'author', 'avantgarde',\n",
       "       'axé', 'baile', 'balkan', 'beats', 'bigroom', 'black', 'bluegrass',\n",
       "       'blues', 'bollywood', 'bossa', 'brazilian', 'breakbeat', 'breaks',\n",
       "       'broadway', 'cantautori', 'cantopop', 'canzone', 'caribbean',\n",
       "       'caucasian', 'celtic', 'chamber', 'chanson', 'children', 'chill',\n",
       "       'chinese', 'choral', 'christian', 'christmas', 'classical',\n",
       "       'classicmetal', 'club', 'colombian', 'comedy', 'conjazz',\n",
       "       'contemporary', 'country', 'cuban', 'dance', 'dancehall',\n",
       "       'dancepop', 'dark', 'death', 'deep', 'deutschrock', 'deutschspr',\n",
       "       'dirty', 'disco', 'dnb', 'documentary', 'downbeat', 'downtempo',\n",
       "       'drum', 'dub', 'dubstep', 'eastern', 'easy', 'electronic',\n",
       "       'electropop', 'emo', 'entehno', 'epicmetal', 'estrada', 'ethnic',\n",
       "       'eurofolk', 'european', 'experimental', 'extrememetal', 'fado',\n",
       "       'fairytail', 'film', 'fitness', 'flamenco', 'folk', 'folklore',\n",
       "       'folkmetal', 'folkrock', 'folktronica', 'forró', 'frankreich',\n",
       "       'französisch', 'french', 'funk', 'future', 'gangsta', 'garage',\n",
       "       'german', 'ghazal', 'gitarre', 'glitch', 'gospel', 'gothic',\n",
       "       'grime', 'grunge', 'gypsy', 'handsup', \"hard'n'heavy\", 'hardcore',\n",
       "       'hardstyle', 'hardtechno', 'hiphop', 'historisch', 'holiday',\n",
       "       'horror', 'house', 'hymn', 'idm', 'independent', 'indian', 'indie',\n",
       "       'indipop', 'industrial', 'inspirational', 'instrumental',\n",
       "       'international', 'irish', 'jam', 'japanese', 'jazz', 'jewish',\n",
       "       'jpop', 'jungle', 'k-pop', 'karadeniz', 'karaoke', 'kayokyoku',\n",
       "       'korean', 'laiko', 'latin', 'latino', 'leftfield', 'local',\n",
       "       'lounge', 'loungeelectronic', 'lovers', 'malaysian', 'mandopop',\n",
       "       'marschmusik', 'meditative', 'mediterranean', 'melodic', 'metal',\n",
       "       'metalcore', 'mexican', 'middle', 'minimal', 'miscellaneous',\n",
       "       'modern', 'mood', 'mpb', 'muslim', 'native', 'neoklassik', 'neue',\n",
       "       'new', 'newage', 'newwave', 'nu', 'nujazz', 'numetal', 'oceania',\n",
       "       'old', 'opera', 'orchestral', 'other', 'piano', 'podcasts', 'pop',\n",
       "       'popdance', 'popelectronic', 'popeurodance', 'poprussian', 'post',\n",
       "       'posthardcore', 'postrock', 'power', 'progmetal', 'progressive',\n",
       "       'psychedelic', 'punjabi', 'punk', 'quebecois', 'ragga', 'ram',\n",
       "       'rancheras', 'rap', 'rave', 'reggae', 'reggaeton', 'regional',\n",
       "       'relax', 'religious', 'retro', 'rhythm', 'rnb', 'rnr', 'rock',\n",
       "       'rockabilly', 'rockalternative', 'rockindie', 'rockother',\n",
       "       'romance', 'roots', 'ruspop', 'rusrap', 'rusrock', 'russian',\n",
       "       'salsa', 'samba', 'scenic', 'schlager', 'self', 'sertanejo',\n",
       "       'shanson', 'shoegazing', 'showtunes', 'singer', 'ska', 'skarock',\n",
       "       'slow', 'smooth', 'soft', 'soul', 'soulful', 'sound', 'soundtrack',\n",
       "       'southern', 'specialty', 'speech', 'spiritual', 'sport',\n",
       "       'stonerrock', 'surf', 'swing', 'synthpop', 'synthrock',\n",
       "       'sängerportrait', 'tango', 'tanzorchester', 'taraftar', 'tatar',\n",
       "       'tech', 'techno', 'teen', 'thrash', 'top', 'traditional',\n",
       "       'tradjazz', 'trance', 'tribal', 'trip', 'triphop', 'tropical',\n",
       "       'türk', 'türkçe', 'ukrrock', 'unknown', 'urban', 'uzbek',\n",
       "       'variété', 'vi', 'videogame', 'vocal', 'western', 'world',\n",
       "       'worldbeat', 'ïîï', 'электроника'], dtype=object)"
      ]
     },
     "execution_count": 17,
     "metadata": {},
     "output_type": "execute_result"
    }
   ],
   "source": [
    "# Проверка на неявные дубликаты\n",
    "df['genre'].sort_values().unique()"
   ]
  },
  {
   "cell_type": "markdown",
   "metadata": {
    "id": "jz6a9-7HQUDd"
   },
   "source": [
    "**Выводы**\n",
    "\n",
    "Предобработка обнаружила три проблемы в данных:\n",
    "\n",
    "- нарушения в стиле заголовков,\n",
    "- пропущенные значения,\n",
    "- дубликаты — явные и неявные.\n",
    "\n",
    "Вы исправили заголовки, чтобы упростить работу с таблицей. Без дубликатов исследование станет более точным.\n",
    "\n",
    "Пропущенные значения вы заменили на `'unknown'`. Ещё предстоит увидеть, не повредят ли исследованию пропуски в колонке `genre`.\n",
    "\n",
    "Теперь можно перейти к проверке гипотез. "
   ]
  },
  {
   "cell_type": "markdown",
   "metadata": {
    "id": "WttZHXH0SqKk"
   },
   "source": [
    "## Проверка гипотез"
   ]
  },
  {
   "cell_type": "markdown",
   "metadata": {
    "id": "Im936VVi_Zcu"
   },
   "source": [
    "### Сравнение поведения пользователей двух столиц"
   ]
  },
  {
   "cell_type": "markdown",
   "metadata": {
    "id": "nwt_MuaL_Zcu"
   },
   "source": [
    "Первая гипотеза утверждает, что пользователи по-разному слушают музыку в Москве и Санкт-Петербурге. Проверьте это предположение по данным о трёх днях недели — понедельнике, среде и пятнице. Для этого:\n",
    "\n",
    "* Разделите пользователей Москвы и Санкт-Петербурга\n",
    "* Сравните, сколько треков послушала каждая группа пользователей в понедельник, среду и пятницу.\n"
   ]
  },
  {
   "cell_type": "markdown",
   "metadata": {
    "id": "8Dw_YMmT_Zcu"
   },
   "source": [
    "Для тренировки сначала выполните каждый из расчётов по отдельности. \n",
    "\n",
    "Оцените активность пользователей в каждом городе. Сгруппируйте данные по городу и посчитайте прослушивания в каждой группе.\n",
    "\n"
   ]
  },
  {
   "cell_type": "code",
   "execution_count": 18,
   "metadata": {
    "id": "0_Qs96oh_Zcu"
   },
   "outputs": [
    {
     "data": {
      "text/plain": [
       "city\n",
       "Moscow              42741\n",
       "Saint-Petersburg    18512\n",
       "Name: city, dtype: int64"
      ]
     },
     "execution_count": 18,
     "metadata": {},
     "output_type": "execute_result"
    }
   ],
   "source": [
    "# Подсчёт прослушиваний в каждом городе\n",
    "count_by_city = df.groupby('city')['city'].count()\n",
    "count_by_city"
   ]
  },
  {
   "cell_type": "markdown",
   "metadata": {
    "id": "dzli3w8o_Zcu"
   },
   "source": [
    "В Москве прослушиваний больше, чем в Петербурге. Из этого не следует, что московские пользователи чаще слушают музыку. Просто самих пользователей в Москве больше.\n",
    "\n",
    "Теперь сгруппируйте данные по дню недели и подсчитайте прослушивания в понедельник, среду и пятницу. Учтите, что в данных есть информация только о прослушиваниях только за эти дни.\n"
   ]
  },
  {
   "cell_type": "code",
   "execution_count": 19,
   "metadata": {
    "id": "uZMKjiJz_Zcu"
   },
   "outputs": [
    {
     "data": {
      "text/plain": [
       "day\n",
       "Friday       21840\n",
       "Monday       21354\n",
       "Wednesday    18059\n",
       "Name: day, dtype: int64"
      ]
     },
     "execution_count": 19,
     "metadata": {},
     "output_type": "execute_result"
    }
   ],
   "source": [
    "# Подсчёт прослушиваний в каждый из трёх дней\n",
    "count_by_day = df.groupby('day')['day'].count()\n",
    "count_by_day"
   ]
  },
  {
   "cell_type": "markdown",
   "metadata": {
    "id": "cC2tNrlL_Zcu"
   },
   "source": [
    "В среднем пользователи из двух городов менее активны по средам. Но картина может измениться, если рассмотреть каждый город в отдельности."
   ]
  },
  {
   "cell_type": "markdown",
   "metadata": {
    "id": "POzs8bGa_Zcu"
   },
   "source": [
    "Вы видели, как работает группировка по городу и по дням недели. Теперь напишите функцию, которая объединит два эти расчёта.\n",
    "\n",
    "Создайте функцию `number_tracks()`, которая посчитает прослушивания для заданного дня и города. Ей понадобятся два параметра:\n",
    "* день недели,\n",
    "* название города.\n",
    "\n",
    "В функции сохраните в переменную строки исходной таблицы, у которых значение:\n",
    "  * в колонке `day` равно параметру `day`,\n",
    "  * в колонке `city` равно параметру `city`.\n",
    "\n",
    "Для этого примените последовательную фильтрацию с логической индексацией.\n",
    "\n",
    "Затем посчитайте значения в столбце `user_id` получившейся таблицы. Результат сохраните в новую переменную. Верните эту переменную из функции."
   ]
  },
  {
   "cell_type": "code",
   "execution_count": 20,
   "metadata": {
    "id": "Nz3GdQB1_Zcu"
   },
   "outputs": [],
   "source": [
    "# <создание функции number_tracks()>\n",
    "# Объявляется функция с двумя параметрами: day, city.\n",
    "# В переменной track_list сохраняются те строки таблицы df, для которых \n",
    "# значение в столбце 'day' равно параметру day и одновременно значение\n",
    "# в столбце 'city' равно параметру city (используйте последовательную фильтрацию\n",
    "# с помощью логической индексации).\n",
    "# В переменной track_list_count сохраняется число значений столбца 'user_id',\n",
    "# рассчитанное методом count() для таблицы track_list.\n",
    "# Функция возвращает число - значение track_list_count.\n",
    "\n",
    "def number_tracks(day, city):\n",
    "    track_list = df[df['day'] == day]\n",
    "    track_list = track_list[track_list['city'] == city]\n",
    "    track_list_count = track_list['user_id'].count()\n",
    "    return track_list_count\n",
    "    \n",
    "# Функция для подсчёта прослушиваний для конкретного города и дня.\n",
    "# С помощью последовательной фильтрации с логической индексацией она \n",
    "# сначала получит из исходной таблицы строки с нужным днём,\n",
    "# затем из результата отфильтрует строки с нужным городом,\n",
    "# методом count() посчитает количество значений в колонке user_id. \n",
    "# Это количество функция вернёт в качестве результата"
   ]
  },
  {
   "cell_type": "markdown",
   "metadata": {
    "id": "ytf7xFrFJQ2r"
   },
   "source": [
    "Вызовите `number_tracks()` шесть раз, меняя значение параметров — так, чтобы получить данные для каждого города в каждый из трёх дней."
   ]
  },
  {
   "cell_type": "code",
   "execution_count": 21,
   "metadata": {
    "id": "rJcRATNQ_Zcu"
   },
   "outputs": [
    {
     "data": {
      "text/plain": [
       "15740"
      ]
     },
     "execution_count": 21,
     "metadata": {},
     "output_type": "execute_result"
    }
   ],
   "source": [
    "# количество прослушиваний в Москве по понедельникам\n",
    "number_tracks('Monday', 'Moscow')"
   ]
  },
  {
   "cell_type": "code",
   "execution_count": 22,
   "metadata": {
    "id": "hq_ncZ5T_Zcu"
   },
   "outputs": [
    {
     "data": {
      "text/plain": [
       "5614"
      ]
     },
     "execution_count": 22,
     "metadata": {},
     "output_type": "execute_result"
    }
   ],
   "source": [
    "# количество прослушиваний в Санкт-Петербурге по понедельникам\n",
    "number_tracks('Monday', 'Saint-Petersburg')"
   ]
  },
  {
   "cell_type": "code",
   "execution_count": 23,
   "metadata": {
    "id": "_NTy2VPU_Zcu"
   },
   "outputs": [
    {
     "data": {
      "text/plain": [
       "11056"
      ]
     },
     "execution_count": 23,
     "metadata": {},
     "output_type": "execute_result"
    }
   ],
   "source": [
    "# количество прослушиваний в Москве по средам\n",
    "number_tracks('Wednesday', 'Moscow')"
   ]
  },
  {
   "cell_type": "code",
   "execution_count": 24,
   "metadata": {
    "id": "j2y3TAwo_Zcu"
   },
   "outputs": [
    {
     "data": {
      "text/plain": [
       "7003"
      ]
     },
     "execution_count": 24,
     "metadata": {},
     "output_type": "execute_result"
    }
   ],
   "source": [
    "# количество прослушиваний в Санкт-Петербурге по средам\n",
    "number_tracks('Wednesday', 'Saint-Petersburg')"
   ]
  },
  {
   "cell_type": "code",
   "execution_count": 25,
   "metadata": {
    "id": "vYDw5u_K_Zcu"
   },
   "outputs": [
    {
     "data": {
      "text/plain": [
       "15945"
      ]
     },
     "execution_count": 25,
     "metadata": {},
     "output_type": "execute_result"
    }
   ],
   "source": [
    "# количество прослушиваний в Москве по пятницам\n",
    "number_tracks('Friday', 'Moscow')"
   ]
  },
  {
   "cell_type": "code",
   "execution_count": 26,
   "metadata": {
    "id": "8_yzFtW3_Zcu"
   },
   "outputs": [
    {
     "data": {
      "text/plain": [
       "5895"
      ]
     },
     "execution_count": 26,
     "metadata": {},
     "output_type": "execute_result"
    }
   ],
   "source": [
    "# количество прослушиваний в Санкт-Петербурге по пятницам\n",
    "number_tracks('Friday', 'Saint-Petersburg')"
   ]
  },
  {
   "cell_type": "markdown",
   "metadata": {
    "id": "7QXffbO-_Zcu"
   },
   "source": [
    "Создайте c помощью конструктора `pd.DataFrame` таблицу, где\n",
    "* названия колонок — `['city', 'monday', 'wednesday', 'friday']`;\n",
    "* данные — результаты, которые вы получили с помощью `number_tracks`."
   ]
  },
  {
   "cell_type": "code",
   "execution_count": 27,
   "metadata": {
    "id": "APAcLpOr_Zcu"
   },
   "outputs": [
    {
     "data": {
      "text/html": [
       "<div>\n",
       "<style scoped>\n",
       "    .dataframe tbody tr th:only-of-type {\n",
       "        vertical-align: middle;\n",
       "    }\n",
       "\n",
       "    .dataframe tbody tr th {\n",
       "        vertical-align: top;\n",
       "    }\n",
       "\n",
       "    .dataframe thead th {\n",
       "        text-align: right;\n",
       "    }\n",
       "</style>\n",
       "<table border=\"1\" class=\"dataframe\">\n",
       "  <thead>\n",
       "    <tr style=\"text-align: right;\">\n",
       "      <th></th>\n",
       "      <th>city</th>\n",
       "      <th>monday</th>\n",
       "      <th>wednesday</th>\n",
       "      <th>friday</th>\n",
       "    </tr>\n",
       "  </thead>\n",
       "  <tbody>\n",
       "    <tr>\n",
       "      <td>0</td>\n",
       "      <td>Moscow</td>\n",
       "      <td>15740</td>\n",
       "      <td>11056</td>\n",
       "      <td>15945</td>\n",
       "    </tr>\n",
       "    <tr>\n",
       "      <td>1</td>\n",
       "      <td>Saint-Petersburg</td>\n",
       "      <td>5614</td>\n",
       "      <td>7003</td>\n",
       "      <td>5895</td>\n",
       "    </tr>\n",
       "  </tbody>\n",
       "</table>\n",
       "</div>"
      ],
      "text/plain": [
       "               city  monday  wednesday  friday\n",
       "0            Moscow   15740      11056   15945\n",
       "1  Saint-Petersburg    5614       7003    5895"
      ]
     },
     "execution_count": 27,
     "metadata": {},
     "output_type": "execute_result"
    }
   ],
   "source": [
    "# Таблица с результатами\n",
    "data = [\n",
    "    ['Moscow', 15740, 11056, 15945],\n",
    "    ['Saint-Petersburg', 5614, 7003, 5895]\n",
    "]\n",
    "columns = ['city', 'monday', 'wednesday', 'friday']\n",
    "table = pd.DataFrame(data = data, columns = columns)\n",
    "table"
   ]
  },
  {
   "cell_type": "markdown",
   "metadata": {
    "id": "-EgPIHYu_Zcu"
   },
   "source": [
    "**Выводы**\n",
    "\n",
    "Данные показывают разницу поведения пользователей:\n",
    "\n",
    "- В Москве пик прослушиваний приходится на понедельник и пятницу, а в среду заметен спад.\n",
    "- В Петербурге, наоборот, больше слушают музыку по средам. Активность в понедельник и пятницу здесь почти в равной мере уступает среде.\n",
    "\n",
    "Значит, данные говорят в пользу первой гипотезы."
   ]
  },
  {
   "cell_type": "markdown",
   "metadata": {
    "id": "atZAxtq4_Zcu"
   },
   "source": [
    "### Музыка в начале и в конце недели"
   ]
  },
  {
   "cell_type": "markdown",
   "metadata": {
    "id": "eXrQqXFH_Zcu"
   },
   "source": [
    "Согласно второй гипотезе, утром в понедельник в Москве преобладают одни жанры, а в Петербурге — другие. Так же и вечером пятницы преобладают разные жанры — в зависимости от города."
   ]
  },
  {
   "cell_type": "markdown",
   "metadata": {
    "id": "S8UcW6Hw_Zcu"
   },
   "source": [
    "Сохраните таблицы с данными в две переменные:\n",
    "* по Москве — в `moscow_general`;\n",
    "* по Санкт-Петербургу — в `spb_general`."
   ]
  },
  {
   "cell_type": "code",
   "execution_count": 28,
   "metadata": {
    "id": "qeaFfM_P_Zcu"
   },
   "outputs": [],
   "source": [
    "# получение таблицы moscow_general из тех строк таблицы df, \n",
    "# для которых значение в столбце 'city' равно 'Moscow'\n",
    "moscow_general = df[df['city'] == 'Moscow']"
   ]
  },
  {
   "cell_type": "code",
   "execution_count": 29,
   "metadata": {
    "id": "ORaVRKto_Zcu"
   },
   "outputs": [],
   "source": [
    "# получение таблицы spb_general из тех строк таблицы df,\n",
    "# для которых значение в столбце 'city' равно 'Saint-Petersburg'\n",
    "spb_general = df[df['city'] == 'Saint-Petersburg']"
   ]
  },
  {
   "cell_type": "markdown",
   "metadata": {
    "id": "MEJV-CX2_Zcu"
   },
   "source": [
    "Создайте функцию `genre_weekday()` с четырьмя параметрами:\n",
    "* таблица (датафрейм) с данными,\n",
    "* день недели,\n",
    "* начальная временная метка в формате 'hh:mm', \n",
    "* последняя временная метка в формате 'hh:mm'.\n",
    "\n",
    "Функция должна вернуть информацию о топ-10 жанров тех треков, которые прослушивали в указанный день, в промежутке между двумя отметками времени."
   ]
  },
  {
   "cell_type": "code",
   "execution_count": 30,
   "metadata": {
    "id": "laJT9BYl_Zcu"
   },
   "outputs": [],
   "source": [
    "# Объявление функции genre_weekday() с параметрами table, day, time1, time2,\n",
    "# которая возвращает информацию о самых популярных жанрах в указанный день в\n",
    "# заданное время:\n",
    "# 1) в переменную genre_df сохраняются те строки переданного датафрейма table, для\n",
    "#    которых одновременно:\n",
    "#    - значение в столбце day равно значению аргумента day\n",
    "#    - значение в столбце time больше значения аргумента time1\n",
    "#    - значение в столбце time меньше значения аргумента time2\n",
    "#    Используйте последовательную фильтрацию с помощью логической индексации.\n",
    "# 2) сгруппировать датафрейм genre_df по столбцу genre, взять один из его\n",
    "#    столбцов и посчитать методом count() количество записей для каждого из\n",
    "#    присутствующих жанров, получившийся Series записать в переменную\n",
    "#    genre_df_count\n",
    "# 3) отсортировать genre_df_count по убыванию встречаемости и сохранить\n",
    "#    в переменную genre_df_sorted\n",
    "# 4) вернуть Series из 10 первых значений genre_df_sorted, это будут топ-10\n",
    "#    популярных жанров (в указанный день, в заданное время)\n",
    "\n",
    "def genre_weekday(table, day, time1, time2):\n",
    "    genre_df = table[table['day'] == day]\n",
    "    genre_df = genre_df[genre_df['time'] >= time1]\n",
    "    genre_df = genre_df[genre_df['time'] <= time2]\n",
    "    genre_df_count = genre_df.groupby('genre')['user_id'].count()\n",
    "    genre_df_sorted = genre_df_count.sort_values(ascending=False)\n",
    "    return genre_df_sorted.head(10)"
   ]
  },
  {
   "cell_type": "markdown",
   "metadata": {
    "id": "la2s2_PF_Zcu"
   },
   "source": [
    "Cравните результаты функции `genre_weekday()` для Москвы и Санкт-Петербурга в понедельник утром (с 7:00 до 11:00) и в пятницу вечером (с 17:00 до 23:00):"
   ]
  },
  {
   "cell_type": "code",
   "execution_count": 31,
   "metadata": {
    "id": "yz7itPUQ_Zcu"
   },
   "outputs": [
    {
     "data": {
      "text/plain": [
       "genre\n",
       "pop            781\n",
       "dance          549\n",
       "electronic     480\n",
       "rock           474\n",
       "hiphop         286\n",
       "ruspop         186\n",
       "world          181\n",
       "rusrap         175\n",
       "alternative    164\n",
       "unknown        161\n",
       "Name: user_id, dtype: int64"
      ]
     },
     "execution_count": 31,
     "metadata": {},
     "output_type": "execute_result"
    }
   ],
   "source": [
    "# вызов функции для утра понедельника в Москве (вместо df — таблица moscow_general)\n",
    "# объекты, хранящие время, являются строками и сравниваются как строки\n",
    "# пример вызова: genre_weekday(moscow_general, 'Monday', '07:00', '11:00')\n",
    "genre_weekday(moscow_general, 'Monday', '07:00', '11:00')"
   ]
  },
  {
   "cell_type": "code",
   "execution_count": 32,
   "metadata": {
    "id": "kwUcHPdy_Zcu"
   },
   "outputs": [
    {
     "data": {
      "text/plain": [
       "genre\n",
       "pop            218\n",
       "dance          182\n",
       "rock           162\n",
       "electronic     147\n",
       "hiphop          80\n",
       "ruspop          64\n",
       "alternative     58\n",
       "rusrap          55\n",
       "jazz            44\n",
       "classical       40\n",
       "Name: user_id, dtype: int64"
      ]
     },
     "execution_count": 32,
     "metadata": {},
     "output_type": "execute_result"
    }
   ],
   "source": [
    "# вызов функции для утра понедельника в Петербурге (вместо df — таблица spb_general)\n",
    "genre_weekday(spb_general, 'Monday', '07:00', '11:00')"
   ]
  },
  {
   "cell_type": "code",
   "execution_count": 33,
   "metadata": {
    "id": "EzXVRE1o_Zcu"
   },
   "outputs": [
    {
     "data": {
      "text/plain": [
       "genre\n",
       "pop            713\n",
       "rock           517\n",
       "dance          495\n",
       "electronic     482\n",
       "hiphop         273\n",
       "world          208\n",
       "ruspop         170\n",
       "alternative    163\n",
       "classical      163\n",
       "rusrap         142\n",
       "Name: user_id, dtype: int64"
      ]
     },
     "execution_count": 33,
     "metadata": {},
     "output_type": "execute_result"
    }
   ],
   "source": [
    "# вызов функции для вечера пятницы в Москве\n",
    "genre_weekday(moscow_general, 'Friday', '17:00', '23:00')"
   ]
  },
  {
   "cell_type": "code",
   "execution_count": 34,
   "metadata": {
    "id": "JZaEKu5v_Zcu",
    "scrolled": true
   },
   "outputs": [
    {
     "data": {
      "text/plain": [
       "genre\n",
       "pop            256\n",
       "rock           216\n",
       "electronic     216\n",
       "dance          210\n",
       "hiphop          97\n",
       "alternative     63\n",
       "jazz            61\n",
       "classical       60\n",
       "rusrap          59\n",
       "world           54\n",
       "Name: user_id, dtype: int64"
      ]
     },
     "execution_count": 34,
     "metadata": {},
     "output_type": "execute_result"
    }
   ],
   "source": [
    "# вызов функции для вечера пятницы в Петербурге\n",
    "genre_weekday(spb_general, 'Friday', '17:00', '23:00')"
   ]
  },
  {
   "cell_type": "markdown",
   "metadata": {
    "id": "wrCe4MNX_Zcu"
   },
   "source": [
    "**Выводы**\n",
    "\n",
    "Если сравнить топ-10 жанров в понедельник утром, можно сделать такие выводы:\n",
    "\n",
    "1. В Москве и Петербурге слушают похожую музыку. Единственное отличие — в московский рейтинг вошёл жанр “world”, а в петербургский — джаз и классика.\n",
    "\n",
    "2. В Москве пропущенных значений оказалось так много, что значение `'unknown'` заняло десятое место среди самых популярных жанров. Значит, пропущенные значения занимают существенную долю в данных и угрожают достоверности исследования.\n",
    "\n",
    "Вечер пятницы не меняет эту картину. Некоторые жанры поднимаются немного выше, другие спускаются, но в целом топ-10 остаётся тем же самым.\n",
    "\n",
    "Таким образом, вторая гипотеза подтвердилась лишь частично:\n",
    "* Пользователи слушают похожую музыку в начале недели и в конце.\n",
    "* Разница между Москвой и Петербургом не слишком выражена. В Москве чаще слушают русскую популярную музыку, в Петербурге — джаз.\n",
    "\n",
    "Однако пропуски в данных ставят под сомнение этот результат. В Москве их так много, что рейтинг топ-10 мог бы выглядеть иначе, если бы не утерянные  данные о жанрах."
   ]
  },
  {
   "cell_type": "markdown",
   "metadata": {
    "id": "JolODAqr_Zcu"
   },
   "source": [
    "### Жанровые предпочтения в Москве и Петербурге\n",
    "\n",
    "Гипотеза: Петербург — столица рэпа, музыку этого жанра там слушают чаще, чем в Москве.  А Москва — город контрастов, в котором, тем не менее, преобладает поп-музыка."
   ]
  },
  {
   "cell_type": "markdown",
   "metadata": {
    "id": "DlegSvaT_Zcu"
   },
   "source": [
    "Сгруппируйте таблицу `moscow_general` по жанру и посчитайте прослушивания треков каждого жанра методом `count()`. Затем отсортируйте результат в порядке убывания и сохраните его в таблице `moscow_genres`."
   ]
  },
  {
   "cell_type": "code",
   "execution_count": 35,
   "metadata": {
    "id": "r19lIPke_Zcu"
   },
   "outputs": [],
   "source": [
    "# одной строкой: группировка таблицы moscow_general по столбцу 'genre', \n",
    "# подсчёт числа значений 'genre' в этой группировке методом count(), \n",
    "# сортировка получившегося Series в порядке убывания и сохранение в moscow_genres\n",
    "moscow_genres = moscow_general.groupby('genre')['genre'].count().sort_values(ascending=False)"
   ]
  },
  {
   "cell_type": "markdown",
   "metadata": {
    "id": "6kMuomxTiIr8"
   },
   "source": [
    "Выведите на экран первые десять строк `moscow_genres`:"
   ]
  },
  {
   "cell_type": "code",
   "execution_count": 36,
   "metadata": {
    "id": "WhCSooF8_Zcv"
   },
   "outputs": [
    {
     "data": {
      "text/plain": [
       "genre\n",
       "pop            5892\n",
       "dance          4435\n",
       "rock           3965\n",
       "electronic     3786\n",
       "hiphop         2096\n",
       "classical      1616\n",
       "world          1432\n",
       "alternative    1379\n",
       "ruspop         1372\n",
       "rusrap         1161\n",
       "Name: genre, dtype: int64"
      ]
     },
     "execution_count": 36,
     "metadata": {},
     "output_type": "execute_result"
    }
   ],
   "source": [
    "# просмотр первых 10 строк moscow_genres\n",
    "moscow_genres.head(10)"
   ]
  },
  {
   "cell_type": "markdown",
   "metadata": {
    "id": "cnPG2vnN_Zcv"
   },
   "source": [
    "Теперь повторите то же и для Петербурга.\n",
    "\n",
    "Сгруппируйте таблицу `spb_general` по жанру. Посчитайте прослушивания треков каждого жанра. Результат отсортируйте в порядке убывания и сохраните в таблице `spb_genres`:\n"
   ]
  },
  {
   "cell_type": "code",
   "execution_count": 37,
   "metadata": {
    "id": "gluLIpE7_Zcv"
   },
   "outputs": [],
   "source": [
    "# одной строкой: группировка таблицы spb_general по столбцу 'genre', \n",
    "# подсчёт числа значений 'genre' в этой группировке методом count(), \n",
    "# сортировка получившегося Series в порядке убывания и сохранение в spb_genres\n",
    "spb_genres = spb_general.groupby('genre')['genre'].count().sort_values(ascending=False)"
   ]
  },
  {
   "cell_type": "markdown",
   "metadata": {
    "id": "5Doha_ODgyQ8"
   },
   "source": [
    "Выведите на экран первые десять строк `spb_genres`:"
   ]
  },
  {
   "cell_type": "code",
   "execution_count": 38,
   "metadata": {
    "id": "uaGJHjVU_Zcv"
   },
   "outputs": [
    {
     "data": {
      "text/plain": [
       "genre\n",
       "pop            2431\n",
       "dance          1932\n",
       "rock           1879\n",
       "electronic     1736\n",
       "hiphop          960\n",
       "alternative     649\n",
       "classical       646\n",
       "rusrap          564\n",
       "ruspop          538\n",
       "world           515\n",
       "Name: genre, dtype: int64"
      ]
     },
     "execution_count": 38,
     "metadata": {},
     "output_type": "execute_result"
    }
   ],
   "source": [
    "# просмотр первых 10 строк spb_genres\n",
    "spb_genres.head(10)"
   ]
  },
  {
   "cell_type": "markdown",
   "metadata": {
    "id": "RY51YJYu_Zcv"
   },
   "source": [
    "**Выводы**"
   ]
  },
  {
   "cell_type": "markdown",
   "metadata": {
    "id": "nVhnJEm__Zcv"
   },
   "source": [
    "Гипотеза частично подтвердилась:\n",
    "* Поп-музыка — самый популярный жанр в Москве, как и предполагала гипотеза. Более того, в топ-10 жанров встречается близкий жанр — русская популярная музыка.\n",
    "* Вопреки ожиданиям, рэп одинаково популярен в Москве и Петербурге. \n"
   ]
  },
  {
   "cell_type": "markdown",
   "metadata": {
    "id": "ykKQ0N65_Zcv"
   },
   "source": [
    "## Итоги исследования"
   ]
  },
  {
   "cell_type": "markdown",
   "metadata": {
    "id": "tjUwbHb3_Zcv"
   },
   "source": [
    "Вы проверили три гипотезы и установили:\n",
    "\n",
    "1. День недели по-разному влияет на активность пользователей в Москве и Петербурге. \n",
    "\n",
    "Первая гипотеза полностью подтвердилась.\n",
    "\n",
    "2. Музыкальные предпочтения не сильно меняются в течение недели — будь то Москва или Петербург. Небольшие различия заметны в начале недели, по понедельникам:\n",
    "* в Москве слушают музыку жанра “world”,\n",
    "* в Петербурге — джаз и классику.\n",
    "\n",
    "Таким образом, вторая гипотеза подтвердилась лишь отчасти. Этот результат мог оказаться иным, если бы не пропуски в данных.\n",
    "\n",
    "3. Во вкусах пользователей Москвы и Петербурга больше общего чем различий. Вопреки ожиданиям, предпочтения жанров в Петербурге напоминают московские.\n",
    "\n",
    "Третья гипотеза не подтвердилась. Если различия в предпочтениях и существуют, на основной массе пользователей они незаметны.\n",
    "\n",
    "**На практике исследования содержат проверки статистических гипотез.**\n",
    "Из данных одного сервиса не всегда можно сделать вывод о всех жителях города.\n",
    "Проверки статистических гипотез покажут, насколько они достоверны, исходя из имеющихся данных. \n",
    "С методами проверок гипотез вы ещё познакомитесь в следующих темах."
   ]
  }
 ],
 "metadata": {
  "ExecuteTimeLog": [
   {
    "duration": 561,
    "start_time": "2022-01-17T10:53:38.913Z"
   },
   {
    "duration": 336,
    "start_time": "2022-01-17T10:54:33.086Z"
   },
   {
    "duration": 182,
    "start_time": "2022-01-17T10:54:41.920Z"
   },
   {
    "duration": 158,
    "start_time": "2022-01-17T10:54:49.736Z"
   },
   {
    "duration": 138,
    "start_time": "2022-01-17T10:55:12.076Z"
   },
   {
    "duration": 11,
    "start_time": "2022-01-17T10:55:25.971Z"
   },
   {
    "duration": 42,
    "start_time": "2022-01-17T10:55:48.293Z"
   },
   {
    "duration": 37,
    "start_time": "2022-01-17T10:55:57.553Z"
   },
   {
    "duration": 26,
    "start_time": "2022-01-17T10:56:02.022Z"
   },
   {
    "duration": 23,
    "start_time": "2022-01-17T10:56:08.186Z"
   },
   {
    "duration": 23,
    "start_time": "2022-01-17T10:56:48.026Z"
   },
   {
    "duration": 269,
    "start_time": "2022-01-17T11:06:29.507Z"
   },
   {
    "duration": 5,
    "start_time": "2022-01-17T11:07:12.177Z"
   },
   {
    "duration": 4,
    "start_time": "2022-01-17T11:10:37.343Z"
   },
   {
    "duration": 3,
    "start_time": "2022-01-17T11:13:01.193Z"
   },
   {
    "duration": 4,
    "start_time": "2022-01-17T11:13:17.087Z"
   },
   {
    "duration": 285,
    "start_time": "2022-01-17T11:13:29.990Z"
   },
   {
    "duration": 241,
    "start_time": "2022-01-17T11:13:45.136Z"
   },
   {
    "duration": 3,
    "start_time": "2022-01-17T11:14:40.228Z"
   },
   {
    "duration": 205,
    "start_time": "2022-01-17T11:14:40.234Z"
   },
   {
    "duration": 21,
    "start_time": "2022-01-17T11:14:40.441Z"
   },
   {
    "duration": 29,
    "start_time": "2022-01-17T11:14:40.464Z"
   },
   {
    "duration": 5,
    "start_time": "2022-01-17T11:14:40.495Z"
   },
   {
    "duration": 3,
    "start_time": "2022-01-17T11:14:43.314Z"
   },
   {
    "duration": 4,
    "start_time": "2022-01-17T11:14:44.948Z"
   },
   {
    "duration": 93,
    "start_time": "2022-01-17T11:15:02.821Z"
   },
   {
    "duration": 85,
    "start_time": "2022-01-17T11:15:16.313Z"
   },
   {
    "duration": 89,
    "start_time": "2022-01-17T11:15:38.590Z"
   },
   {
    "duration": 83,
    "start_time": "2022-01-17T11:15:48.543Z"
   },
   {
    "duration": 526,
    "start_time": "2022-01-17T11:16:25.520Z"
   },
   {
    "duration": 284,
    "start_time": "2022-01-17T11:16:36.000Z"
   },
   {
    "duration": 79,
    "start_time": "2022-01-17T11:17:57.476Z"
   },
   {
    "duration": 84,
    "start_time": "2022-01-17T11:20:14.734Z"
   },
   {
    "duration": 282,
    "start_time": "2022-01-17T11:20:54.335Z"
   },
   {
    "duration": 237,
    "start_time": "2022-01-17T11:21:34.392Z"
   },
   {
    "duration": 270,
    "start_time": "2022-01-17T11:21:39.955Z"
   },
   {
    "duration": 247,
    "start_time": "2022-01-17T11:21:46.051Z"
   },
   {
    "duration": 3,
    "start_time": "2022-01-17T11:21:55.764Z"
   },
   {
    "duration": 139,
    "start_time": "2022-01-17T11:21:56.207Z"
   },
   {
    "duration": 11,
    "start_time": "2022-01-17T11:21:56.548Z"
   },
   {
    "duration": 30,
    "start_time": "2022-01-17T11:21:56.932Z"
   },
   {
    "duration": 4,
    "start_time": "2022-01-17T11:21:59.531Z"
   },
   {
    "duration": 29,
    "start_time": "2022-01-17T11:22:01.415Z"
   },
   {
    "duration": 4,
    "start_time": "2022-01-17T11:22:08.098Z"
   },
   {
    "duration": 23,
    "start_time": "2022-01-17T11:22:13.217Z"
   },
   {
    "duration": 18,
    "start_time": "2022-01-17T11:22:13.834Z"
   },
   {
    "duration": 15,
    "start_time": "2022-01-17T11:22:17.358Z"
   },
   {
    "duration": 4,
    "start_time": "2022-01-17T11:22:18.380Z"
   },
   {
    "duration": 9,
    "start_time": "2022-01-17T11:25:00.231Z"
   },
   {
    "duration": 264,
    "start_time": "2022-01-17T11:25:12.008Z"
   },
   {
    "duration": 242,
    "start_time": "2022-01-17T11:25:38.194Z"
   },
   {
    "duration": 25,
    "start_time": "2022-01-17T11:25:55.652Z"
   },
   {
    "duration": 24,
    "start_time": "2022-01-17T11:26:58.332Z"
   },
   {
    "duration": -48,
    "start_time": "2022-01-17T11:33:02.605Z"
   },
   {
    "duration": 10,
    "start_time": "2022-01-17T11:33:28.887Z"
   },
   {
    "duration": 3,
    "start_time": "2022-01-17T11:34:10.314Z"
   },
   {
    "duration": 159,
    "start_time": "2022-01-17T11:34:10.320Z"
   },
   {
    "duration": 11,
    "start_time": "2022-01-17T11:34:10.482Z"
   },
   {
    "duration": 38,
    "start_time": "2022-01-17T11:34:10.495Z"
   },
   {
    "duration": 13,
    "start_time": "2022-01-17T11:34:10.535Z"
   },
   {
    "duration": 39,
    "start_time": "2022-01-17T11:34:10.550Z"
   },
   {
    "duration": 45,
    "start_time": "2022-01-17T11:34:10.591Z"
   },
   {
    "duration": 69,
    "start_time": "2022-01-17T11:34:10.638Z"
   },
   {
    "duration": 60,
    "start_time": "2022-01-17T11:34:13.496Z"
   },
   {
    "duration": 39,
    "start_time": "2022-01-17T11:34:14.489Z"
   },
   {
    "duration": 3362,
    "start_time": "2022-01-17T11:35:32.067Z"
   },
   {
    "duration": -46,
    "start_time": "2022-01-17T11:35:35.476Z"
   },
   {
    "duration": 3,
    "start_time": "2022-01-17T11:36:26.797Z"
   },
   {
    "duration": 146,
    "start_time": "2022-01-17T11:36:26.802Z"
   },
   {
    "duration": 11,
    "start_time": "2022-01-17T11:36:26.951Z"
   },
   {
    "duration": 25,
    "start_time": "2022-01-17T11:36:26.965Z"
   },
   {
    "duration": 4,
    "start_time": "2022-01-17T11:36:26.993Z"
   },
   {
    "duration": 23,
    "start_time": "2022-01-17T11:36:26.999Z"
   },
   {
    "duration": 37,
    "start_time": "2022-01-17T11:36:27.023Z"
   },
   {
    "duration": 25,
    "start_time": "2022-01-17T11:36:27.062Z"
   },
   {
    "duration": 4186,
    "start_time": "2022-01-17T11:36:27.091Z"
   },
   {
    "duration": -152,
    "start_time": "2022-01-17T11:36:31.434Z"
   },
   {
    "duration": -156,
    "start_time": "2022-01-17T11:36:31.439Z"
   },
   {
    "duration": -158,
    "start_time": "2022-01-17T11:36:31.442Z"
   },
   {
    "duration": -163,
    "start_time": "2022-01-17T11:36:31.448Z"
   },
   {
    "duration": -167,
    "start_time": "2022-01-17T11:36:31.453Z"
   },
   {
    "duration": -169,
    "start_time": "2022-01-17T11:36:31.456Z"
   },
   {
    "duration": -170,
    "start_time": "2022-01-17T11:36:31.458Z"
   },
   {
    "duration": -171,
    "start_time": "2022-01-17T11:36:31.459Z"
   },
   {
    "duration": -173,
    "start_time": "2022-01-17T11:36:31.462Z"
   },
   {
    "duration": -174,
    "start_time": "2022-01-17T11:36:31.464Z"
   },
   {
    "duration": -175,
    "start_time": "2022-01-17T11:36:31.466Z"
   },
   {
    "duration": -176,
    "start_time": "2022-01-17T11:36:31.468Z"
   },
   {
    "duration": -179,
    "start_time": "2022-01-17T11:36:31.471Z"
   },
   {
    "duration": -180,
    "start_time": "2022-01-17T11:36:31.473Z"
   },
   {
    "duration": -181,
    "start_time": "2022-01-17T11:36:31.475Z"
   },
   {
    "duration": -182,
    "start_time": "2022-01-17T11:36:31.477Z"
   },
   {
    "duration": -183,
    "start_time": "2022-01-17T11:36:31.479Z"
   },
   {
    "duration": -184,
    "start_time": "2022-01-17T11:36:31.481Z"
   },
   {
    "duration": -185,
    "start_time": "2022-01-17T11:36:31.483Z"
   },
   {
    "duration": -187,
    "start_time": "2022-01-17T11:36:31.485Z"
   },
   {
    "duration": -189,
    "start_time": "2022-01-17T11:36:31.488Z"
   },
   {
    "duration": -190,
    "start_time": "2022-01-17T11:36:31.490Z"
   },
   {
    "duration": -283,
    "start_time": "2022-01-17T11:36:31.584Z"
   },
   {
    "duration": -314,
    "start_time": "2022-01-17T11:36:31.615Z"
   },
   {
    "duration": -329,
    "start_time": "2022-01-17T11:36:31.631Z"
   },
   {
    "duration": -331,
    "start_time": "2022-01-17T11:36:31.634Z"
   },
   {
    "duration": -334,
    "start_time": "2022-01-17T11:36:31.638Z"
   },
   {
    "duration": -338,
    "start_time": "2022-01-17T11:36:31.642Z"
   },
   {
    "duration": -341,
    "start_time": "2022-01-17T11:36:31.646Z"
   },
   {
    "duration": 8,
    "start_time": "2022-01-17T11:36:54.734Z"
   },
   {
    "duration": 3,
    "start_time": "2022-01-17T11:37:00.734Z"
   },
   {
    "duration": 155,
    "start_time": "2022-01-17T11:37:01.646Z"
   },
   {
    "duration": 11,
    "start_time": "2022-01-17T11:37:02.775Z"
   },
   {
    "duration": 25,
    "start_time": "2022-01-17T11:37:04.153Z"
   },
   {
    "duration": 4,
    "start_time": "2022-01-17T11:37:07.020Z"
   },
   {
    "duration": 21,
    "start_time": "2022-01-17T11:37:08.743Z"
   },
   {
    "duration": 4,
    "start_time": "2022-01-17T11:37:09.720Z"
   },
   {
    "duration": 26,
    "start_time": "2022-01-17T11:37:11.260Z"
   },
   {
    "duration": 3206,
    "start_time": "2022-01-17T11:37:15.047Z"
   },
   {
    "duration": -95,
    "start_time": "2022-01-17T11:37:18.350Z"
   },
   {
    "duration": 9,
    "start_time": "2022-01-17T11:37:27.412Z"
   },
   {
    "duration": 3141,
    "start_time": "2022-01-17T11:39:12.941Z"
   },
   {
    "duration": 3298,
    "start_time": "2022-01-17T11:39:19.117Z"
   },
   {
    "duration": -38,
    "start_time": "2022-01-17T11:39:22.456Z"
   },
   {
    "duration": 3,
    "start_time": "2022-01-17T11:39:33.301Z"
   },
   {
    "duration": 149,
    "start_time": "2022-01-17T11:39:33.305Z"
   },
   {
    "duration": 12,
    "start_time": "2022-01-17T11:39:33.456Z"
   },
   {
    "duration": 48,
    "start_time": "2022-01-17T11:39:33.470Z"
   },
   {
    "duration": 14,
    "start_time": "2022-01-17T11:39:33.521Z"
   },
   {
    "duration": 30,
    "start_time": "2022-01-17T11:39:33.537Z"
   },
   {
    "duration": 4,
    "start_time": "2022-01-17T11:39:33.569Z"
   },
   {
    "duration": 36,
    "start_time": "2022-01-17T11:39:33.574Z"
   },
   {
    "duration": 21,
    "start_time": "2022-01-17T11:39:33.613Z"
   },
   {
    "duration": 31,
    "start_time": "2022-01-17T11:39:33.636Z"
   },
   {
    "duration": 8,
    "start_time": "2022-01-17T11:39:33.669Z"
   },
   {
    "duration": 5,
    "start_time": "2022-01-17T11:39:33.680Z"
   },
   {
    "duration": 5,
    "start_time": "2022-01-17T11:39:33.687Z"
   },
   {
    "duration": 6,
    "start_time": "2022-01-17T11:39:33.694Z"
   },
   {
    "duration": 6,
    "start_time": "2022-01-17T11:39:33.702Z"
   },
   {
    "duration": 6,
    "start_time": "2022-01-17T11:39:33.710Z"
   },
   {
    "duration": 10,
    "start_time": "2022-01-17T11:39:33.718Z"
   },
   {
    "duration": 6,
    "start_time": "2022-01-17T11:39:33.730Z"
   },
   {
    "duration": 9,
    "start_time": "2022-01-17T11:39:33.738Z"
   },
   {
    "duration": 5,
    "start_time": "2022-01-17T11:39:33.749Z"
   },
   {
    "duration": 11,
    "start_time": "2022-01-17T11:39:33.761Z"
   },
   {
    "duration": 6,
    "start_time": "2022-01-17T11:39:33.774Z"
   },
   {
    "duration": 8,
    "start_time": "2022-01-17T11:39:33.781Z"
   },
   {
    "duration": 5,
    "start_time": "2022-01-17T11:39:33.791Z"
   },
   {
    "duration": 7,
    "start_time": "2022-01-17T11:39:33.798Z"
   },
   {
    "duration": 3,
    "start_time": "2022-01-17T11:39:33.807Z"
   },
   {
    "duration": 3,
    "start_time": "2022-01-17T11:39:33.814Z"
   },
   {
    "duration": 6,
    "start_time": "2022-01-17T11:39:33.819Z"
   },
   {
    "duration": 6,
    "start_time": "2022-01-17T11:39:33.826Z"
   },
   {
    "duration": 13,
    "start_time": "2022-01-17T11:39:33.834Z"
   },
   {
    "duration": 7,
    "start_time": "2022-01-17T11:39:33.849Z"
   },
   {
    "duration": 4,
    "start_time": "2022-01-17T11:39:33.859Z"
   },
   {
    "duration": 8,
    "start_time": "2022-01-17T11:39:33.865Z"
   },
   {
    "duration": 6,
    "start_time": "2022-01-17T11:39:33.874Z"
   },
   {
    "duration": 15,
    "start_time": "2022-01-17T11:39:33.882Z"
   },
   {
    "duration": 33,
    "start_time": "2022-01-17T11:39:33.898Z"
   },
   {
    "duration": 22,
    "start_time": "2022-01-17T11:39:33.933Z"
   },
   {
    "duration": 13,
    "start_time": "2022-01-17T11:39:33.957Z"
   },
   {
    "duration": 3,
    "start_time": "2022-01-17T11:40:07.313Z"
   },
   {
    "duration": 211,
    "start_time": "2022-01-17T11:40:07.318Z"
   },
   {
    "duration": 30,
    "start_time": "2022-01-17T11:40:07.531Z"
   },
   {
    "duration": 106,
    "start_time": "2022-01-17T11:40:07.563Z"
   },
   {
    "duration": 44,
    "start_time": "2022-01-17T11:40:07.671Z"
   },
   {
    "duration": 78,
    "start_time": "2022-01-17T11:40:07.717Z"
   },
   {
    "duration": 69,
    "start_time": "2022-01-17T11:40:07.798Z"
   },
   {
    "duration": 113,
    "start_time": "2022-01-17T11:40:07.871Z"
   },
   {
    "duration": 149,
    "start_time": "2022-01-17T11:40:07.986Z"
   },
   {
    "duration": 78,
    "start_time": "2022-01-17T11:40:08.138Z"
   },
   {
    "duration": 39,
    "start_time": "2022-01-17T11:40:08.218Z"
   },
   {
    "duration": 48,
    "start_time": "2022-01-17T11:40:08.259Z"
   },
   {
    "duration": 84,
    "start_time": "2022-01-17T11:40:08.310Z"
   },
   {
    "duration": 54,
    "start_time": "2022-01-17T11:40:08.396Z"
   },
   {
    "duration": 33,
    "start_time": "2022-01-17T11:40:08.452Z"
   },
   {
    "duration": 67,
    "start_time": "2022-01-17T11:40:08.487Z"
   },
   {
    "duration": 107,
    "start_time": "2022-01-17T11:40:08.556Z"
   },
   {
    "duration": 83,
    "start_time": "2022-01-17T11:40:08.665Z"
   },
   {
    "duration": 66,
    "start_time": "2022-01-17T11:40:08.750Z"
   },
   {
    "duration": 41,
    "start_time": "2022-01-17T11:40:08.818Z"
   },
   {
    "duration": 67,
    "start_time": "2022-01-17T11:40:08.861Z"
   },
   {
    "duration": 44,
    "start_time": "2022-01-17T11:40:08.930Z"
   },
   {
    "duration": 43,
    "start_time": "2022-01-17T11:40:08.978Z"
   },
   {
    "duration": 61,
    "start_time": "2022-01-17T11:40:09.023Z"
   },
   {
    "duration": 43,
    "start_time": "2022-01-17T11:40:09.086Z"
   },
   {
    "duration": 90,
    "start_time": "2022-01-17T11:40:09.131Z"
   },
   {
    "duration": 61,
    "start_time": "2022-01-17T11:40:09.223Z"
   },
   {
    "duration": 44,
    "start_time": "2022-01-17T11:40:09.286Z"
   },
   {
    "duration": 55,
    "start_time": "2022-01-17T11:40:09.332Z"
   },
   {
    "duration": 63,
    "start_time": "2022-01-17T11:40:09.389Z"
   },
   {
    "duration": 45,
    "start_time": "2022-01-17T11:40:09.454Z"
   },
   {
    "duration": 63,
    "start_time": "2022-01-17T11:40:09.501Z"
   },
   {
    "duration": 71,
    "start_time": "2022-01-17T11:40:09.565Z"
   },
   {
    "duration": 50,
    "start_time": "2022-01-17T11:40:09.638Z"
   },
   {
    "duration": 44,
    "start_time": "2022-01-17T11:40:09.690Z"
   },
   {
    "duration": 27,
    "start_time": "2022-01-17T11:40:09.735Z"
   },
   {
    "duration": 59,
    "start_time": "2022-01-17T11:40:09.764Z"
   },
   {
    "duration": 38,
    "start_time": "2022-01-17T11:40:09.824Z"
   },
   {
    "duration": 3,
    "start_time": "2022-01-17T11:42:10.097Z"
   },
   {
    "duration": 169,
    "start_time": "2022-01-17T11:42:10.105Z"
   },
   {
    "duration": 13,
    "start_time": "2022-01-17T11:42:10.276Z"
   },
   {
    "duration": 39,
    "start_time": "2022-01-17T11:42:10.301Z"
   },
   {
    "duration": 13,
    "start_time": "2022-01-17T11:42:10.343Z"
   },
   {
    "duration": 31,
    "start_time": "2022-01-17T11:42:10.358Z"
   },
   {
    "duration": 6,
    "start_time": "2022-01-17T11:42:10.391Z"
   },
   {
    "duration": 62,
    "start_time": "2022-01-17T11:42:10.399Z"
   },
   {
    "duration": 52,
    "start_time": "2022-01-17T11:42:10.463Z"
   },
   {
    "duration": 38,
    "start_time": "2022-01-17T11:42:10.519Z"
   },
   {
    "duration": 28,
    "start_time": "2022-01-17T11:42:10.560Z"
   },
   {
    "duration": 33,
    "start_time": "2022-01-17T11:42:10.590Z"
   },
   {
    "duration": 29,
    "start_time": "2022-01-17T11:42:10.624Z"
   },
   {
    "duration": 32,
    "start_time": "2022-01-17T11:42:10.654Z"
   },
   {
    "duration": 26,
    "start_time": "2022-01-17T11:42:10.688Z"
   },
   {
    "duration": 16,
    "start_time": "2022-01-17T11:42:10.716Z"
   },
   {
    "duration": 33,
    "start_time": "2022-01-17T11:42:10.734Z"
   },
   {
    "duration": 28,
    "start_time": "2022-01-17T11:42:10.768Z"
   },
   {
    "duration": 24,
    "start_time": "2022-01-17T11:42:10.798Z"
   },
   {
    "duration": 19,
    "start_time": "2022-01-17T11:42:10.824Z"
   },
   {
    "duration": 41,
    "start_time": "2022-01-17T11:42:10.844Z"
   },
   {
    "duration": 18,
    "start_time": "2022-01-17T11:42:10.887Z"
   },
   {
    "duration": 22,
    "start_time": "2022-01-17T11:42:10.906Z"
   },
   {
    "duration": 5,
    "start_time": "2022-01-17T11:42:10.930Z"
   },
   {
    "duration": 5,
    "start_time": "2022-01-17T11:42:10.937Z"
   },
   {
    "duration": 9,
    "start_time": "2022-01-17T11:42:10.944Z"
   },
   {
    "duration": 5,
    "start_time": "2022-01-17T11:42:10.954Z"
   },
   {
    "duration": 4,
    "start_time": "2022-01-17T11:42:10.962Z"
   },
   {
    "duration": 4,
    "start_time": "2022-01-17T11:42:10.967Z"
   },
   {
    "duration": 8,
    "start_time": "2022-01-17T11:42:10.973Z"
   },
   {
    "duration": 16,
    "start_time": "2022-01-17T11:42:10.983Z"
   },
   {
    "duration": 17,
    "start_time": "2022-01-17T11:42:11.003Z"
   },
   {
    "duration": 10,
    "start_time": "2022-01-17T11:42:11.022Z"
   },
   {
    "duration": 10,
    "start_time": "2022-01-17T11:42:11.034Z"
   },
   {
    "duration": 8,
    "start_time": "2022-01-17T11:42:11.046Z"
   },
   {
    "duration": 4,
    "start_time": "2022-01-17T11:42:11.056Z"
   },
   {
    "duration": 9,
    "start_time": "2022-01-17T11:42:11.062Z"
   },
   {
    "duration": 27,
    "start_time": "2022-01-17T11:42:11.073Z"
   },
   {
    "duration": 63,
    "start_time": "2022-01-17T11:45:06.512Z"
   },
   {
    "duration": 251,
    "start_time": "2022-01-17T11:45:46.699Z"
   },
   {
    "duration": 80,
    "start_time": "2022-01-17T11:45:56.554Z"
   },
   {
    "duration": 61,
    "start_time": "2022-01-17T11:46:19.358Z"
   },
   {
    "duration": 23,
    "start_time": "2022-01-17T11:46:29.203Z"
   },
   {
    "duration": 4,
    "start_time": "2022-01-17T11:46:52.145Z"
   },
   {
    "duration": 3,
    "start_time": "2022-01-17T11:46:55.628Z"
   },
   {
    "duration": 177,
    "start_time": "2022-01-17T11:46:55.633Z"
   },
   {
    "duration": 11,
    "start_time": "2022-01-17T11:46:55.812Z"
   },
   {
    "duration": 44,
    "start_time": "2022-01-17T11:46:55.825Z"
   },
   {
    "duration": 12,
    "start_time": "2022-01-17T11:46:55.871Z"
   },
   {
    "duration": 18,
    "start_time": "2022-01-17T11:46:55.885Z"
   },
   {
    "duration": 4,
    "start_time": "2022-01-17T11:46:55.905Z"
   },
   {
    "duration": 23,
    "start_time": "2022-01-17T11:46:55.911Z"
   },
   {
    "duration": 52,
    "start_time": "2022-01-17T11:46:55.938Z"
   },
   {
    "duration": 23,
    "start_time": "2022-01-17T11:46:55.992Z"
   },
   {
    "duration": 88,
    "start_time": "2022-01-17T11:46:56.017Z"
   },
   {
    "duration": 75,
    "start_time": "2022-01-17T11:46:56.107Z"
   },
   {
    "duration": 57,
    "start_time": "2022-01-17T11:46:56.184Z"
   },
   {
    "duration": 2,
    "start_time": "2022-01-17T11:46:56.242Z"
   },
   {
    "duration": 14,
    "start_time": "2022-01-17T11:46:56.246Z"
   },
   {
    "duration": 3,
    "start_time": "2022-01-17T11:46:56.263Z"
   },
   {
    "duration": 9,
    "start_time": "2022-01-17T11:46:56.268Z"
   },
   {
    "duration": 6,
    "start_time": "2022-01-17T11:46:56.280Z"
   },
   {
    "duration": 4,
    "start_time": "2022-01-17T11:46:56.288Z"
   },
   {
    "duration": 6,
    "start_time": "2022-01-17T11:46:56.294Z"
   },
   {
    "duration": 8,
    "start_time": "2022-01-17T11:46:56.302Z"
   },
   {
    "duration": 4,
    "start_time": "2022-01-17T11:46:56.312Z"
   },
   {
    "duration": 7,
    "start_time": "2022-01-17T11:46:56.318Z"
   },
   {
    "duration": 6,
    "start_time": "2022-01-17T11:46:56.326Z"
   },
   {
    "duration": 4,
    "start_time": "2022-01-17T11:46:56.366Z"
   },
   {
    "duration": 16,
    "start_time": "2022-01-17T11:46:56.373Z"
   },
   {
    "duration": 6,
    "start_time": "2022-01-17T11:46:56.392Z"
   },
   {
    "duration": 6,
    "start_time": "2022-01-17T11:46:56.400Z"
   },
   {
    "duration": 5,
    "start_time": "2022-01-17T11:46:56.408Z"
   },
   {
    "duration": 5,
    "start_time": "2022-01-17T11:46:56.415Z"
   },
   {
    "duration": 22,
    "start_time": "2022-01-17T11:46:56.422Z"
   },
   {
    "duration": 7,
    "start_time": "2022-01-17T11:46:56.445Z"
   },
   {
    "duration": 14,
    "start_time": "2022-01-17T11:46:56.454Z"
   },
   {
    "duration": 8,
    "start_time": "2022-01-17T11:46:56.470Z"
   },
   {
    "duration": 11,
    "start_time": "2022-01-17T11:46:56.480Z"
   },
   {
    "duration": 6,
    "start_time": "2022-01-17T11:46:56.493Z"
   },
   {
    "duration": 5,
    "start_time": "2022-01-17T11:46:56.501Z"
   },
   {
    "duration": 5,
    "start_time": "2022-01-17T11:46:56.508Z"
   },
   {
    "duration": 5,
    "start_time": "2022-01-17T11:48:28.370Z"
   },
   {
    "duration": 71,
    "start_time": "2022-01-17T11:52:15.567Z"
   },
   {
    "duration": 249,
    "start_time": "2022-01-17T11:54:14.516Z"
   },
   {
    "duration": 117,
    "start_time": "2022-01-17T11:54:19.839Z"
   },
   {
    "duration": 247,
    "start_time": "2022-01-17T11:56:14.592Z"
   },
   {
    "duration": 10,
    "start_time": "2022-01-17T11:56:31.788Z"
   },
   {
    "duration": 251,
    "start_time": "2022-01-17T11:58:29.428Z"
   },
   {
    "duration": 307,
    "start_time": "2022-01-17T11:58:40.762Z"
   },
   {
    "duration": 41,
    "start_time": "2022-01-17T11:59:28.685Z"
   },
   {
    "duration": 4,
    "start_time": "2022-01-17T12:04:00.105Z"
   },
   {
    "duration": 4,
    "start_time": "2022-01-17T12:05:13.570Z"
   },
   {
    "duration": 3,
    "start_time": "2022-01-17T12:05:37.806Z"
   },
   {
    "duration": 329,
    "start_time": "2022-01-17T12:08:00.318Z"
   },
   {
    "duration": 28,
    "start_time": "2022-01-17T12:08:13.795Z"
   },
   {
    "duration": 43,
    "start_time": "2022-01-17T12:09:44.896Z"
   },
   {
    "duration": 42,
    "start_time": "2022-01-17T12:09:55.701Z"
   },
   {
    "duration": 3,
    "start_time": "2022-01-17T12:10:46.849Z"
   },
   {
    "duration": 162,
    "start_time": "2022-01-17T12:10:46.854Z"
   },
   {
    "duration": 11,
    "start_time": "2022-01-17T12:10:47.018Z"
   },
   {
    "duration": 49,
    "start_time": "2022-01-17T12:10:47.031Z"
   },
   {
    "duration": 20,
    "start_time": "2022-01-17T12:10:47.082Z"
   },
   {
    "duration": 20,
    "start_time": "2022-01-17T12:10:47.104Z"
   },
   {
    "duration": 9,
    "start_time": "2022-01-17T12:10:47.126Z"
   },
   {
    "duration": 40,
    "start_time": "2022-01-17T12:10:47.137Z"
   },
   {
    "duration": 20,
    "start_time": "2022-01-17T12:10:47.180Z"
   },
   {
    "duration": 25,
    "start_time": "2022-01-17T12:10:47.203Z"
   },
   {
    "duration": 87,
    "start_time": "2022-01-17T12:10:47.230Z"
   },
   {
    "duration": 89,
    "start_time": "2022-01-17T12:10:47.319Z"
   },
   {
    "duration": 70,
    "start_time": "2022-01-17T12:10:47.410Z"
   },
   {
    "duration": 46,
    "start_time": "2022-01-17T12:10:47.482Z"
   },
   {
    "duration": 4,
    "start_time": "2022-01-17T12:10:47.530Z"
   },
   {
    "duration": 45,
    "start_time": "2022-01-17T12:10:47.536Z"
   },
   {
    "duration": 88,
    "start_time": "2022-01-17T12:10:47.583Z"
   },
   {
    "duration": 4,
    "start_time": "2022-01-17T12:10:47.673Z"
   },
   {
    "duration": 15,
    "start_time": "2022-01-17T12:10:47.679Z"
   },
   {
    "duration": 22,
    "start_time": "2022-01-17T12:10:47.696Z"
   },
   {
    "duration": 14,
    "start_time": "2022-01-17T12:10:47.721Z"
   },
   {
    "duration": 5,
    "start_time": "2022-01-17T12:10:47.737Z"
   },
   {
    "duration": 10,
    "start_time": "2022-01-17T12:10:47.745Z"
   },
   {
    "duration": 6,
    "start_time": "2022-01-17T12:10:47.757Z"
   },
   {
    "duration": 5,
    "start_time": "2022-01-17T12:10:47.765Z"
   },
   {
    "duration": 9,
    "start_time": "2022-01-17T12:10:47.772Z"
   },
   {
    "duration": 7,
    "start_time": "2022-01-17T12:10:47.784Z"
   },
   {
    "duration": 10,
    "start_time": "2022-01-17T12:10:47.793Z"
   },
   {
    "duration": 6,
    "start_time": "2022-01-17T12:10:47.804Z"
   },
   {
    "duration": 9,
    "start_time": "2022-01-17T12:10:47.812Z"
   },
   {
    "duration": 13,
    "start_time": "2022-01-17T12:10:47.823Z"
   },
   {
    "duration": 9,
    "start_time": "2022-01-17T12:10:47.838Z"
   },
   {
    "duration": 20,
    "start_time": "2022-01-17T12:10:47.849Z"
   },
   {
    "duration": 9,
    "start_time": "2022-01-17T12:10:47.871Z"
   },
   {
    "duration": 11,
    "start_time": "2022-01-17T12:10:47.882Z"
   },
   {
    "duration": 9,
    "start_time": "2022-01-17T12:10:47.895Z"
   },
   {
    "duration": 9,
    "start_time": "2022-01-17T12:10:47.907Z"
   },
   {
    "duration": 18,
    "start_time": "2022-01-17T12:10:47.918Z"
   },
   {
    "duration": 4,
    "start_time": "2022-01-17T12:27:04.439Z"
   },
   {
    "duration": 3,
    "start_time": "2022-01-17T12:27:48.139Z"
   },
   {
    "duration": 407,
    "start_time": "2022-01-17T12:28:10.662Z"
   },
   {
    "duration": 465,
    "start_time": "2022-01-17T12:28:59.202Z"
   },
   {
    "duration": 516,
    "start_time": "2022-01-17T12:30:49.527Z"
   },
   {
    "duration": 524,
    "start_time": "2022-01-17T12:31:01.422Z"
   },
   {
    "duration": 3,
    "start_time": "2022-01-17T12:31:15.383Z"
   },
   {
    "duration": 168,
    "start_time": "2022-01-17T12:31:15.388Z"
   },
   {
    "duration": 12,
    "start_time": "2022-01-17T12:31:15.558Z"
   },
   {
    "duration": 30,
    "start_time": "2022-01-17T12:31:15.572Z"
   },
   {
    "duration": 6,
    "start_time": "2022-01-17T12:31:15.604Z"
   },
   {
    "duration": 49,
    "start_time": "2022-01-17T12:31:15.612Z"
   },
   {
    "duration": 4,
    "start_time": "2022-01-17T12:31:15.663Z"
   },
   {
    "duration": 31,
    "start_time": "2022-01-17T12:31:15.670Z"
   },
   {
    "duration": 20,
    "start_time": "2022-01-17T12:31:15.704Z"
   },
   {
    "duration": 54,
    "start_time": "2022-01-17T12:31:15.726Z"
   },
   {
    "duration": 61,
    "start_time": "2022-01-17T12:31:15.782Z"
   },
   {
    "duration": 82,
    "start_time": "2022-01-17T12:31:15.845Z"
   },
   {
    "duration": 66,
    "start_time": "2022-01-17T12:31:15.929Z"
   },
   {
    "duration": 46,
    "start_time": "2022-01-17T12:31:15.997Z"
   },
   {
    "duration": 17,
    "start_time": "2022-01-17T12:31:16.045Z"
   },
   {
    "duration": 29,
    "start_time": "2022-01-17T12:31:16.065Z"
   },
   {
    "duration": 40,
    "start_time": "2022-01-17T12:31:16.096Z"
   },
   {
    "duration": 432,
    "start_time": "2022-01-17T12:31:16.138Z"
   },
   {
    "duration": 8,
    "start_time": "2022-01-17T12:31:16.564Z"
   },
   {
    "duration": -13,
    "start_time": "2022-01-17T12:31:16.586Z"
   },
   {
    "duration": -15,
    "start_time": "2022-01-17T12:31:16.590Z"
   },
   {
    "duration": -23,
    "start_time": "2022-01-17T12:31:16.599Z"
   },
   {
    "duration": -25,
    "start_time": "2022-01-17T12:31:16.602Z"
   },
   {
    "duration": -26,
    "start_time": "2022-01-17T12:31:16.604Z"
   },
   {
    "duration": -26,
    "start_time": "2022-01-17T12:31:16.606Z"
   },
   {
    "duration": -28,
    "start_time": "2022-01-17T12:31:16.609Z"
   },
   {
    "duration": -30,
    "start_time": "2022-01-17T12:31:16.612Z"
   },
   {
    "duration": -31,
    "start_time": "2022-01-17T12:31:16.614Z"
   },
   {
    "duration": -32,
    "start_time": "2022-01-17T12:31:16.616Z"
   },
   {
    "duration": -34,
    "start_time": "2022-01-17T12:31:16.619Z"
   },
   {
    "duration": -34,
    "start_time": "2022-01-17T12:31:16.621Z"
   },
   {
    "duration": -35,
    "start_time": "2022-01-17T12:31:16.623Z"
   },
   {
    "duration": -36,
    "start_time": "2022-01-17T12:31:16.625Z"
   },
   {
    "duration": -37,
    "start_time": "2022-01-17T12:31:16.628Z"
   },
   {
    "duration": -39,
    "start_time": "2022-01-17T12:31:16.631Z"
   },
   {
    "duration": -40,
    "start_time": "2022-01-17T12:31:16.633Z"
   },
   {
    "duration": -40,
    "start_time": "2022-01-17T12:31:16.635Z"
   },
   {
    "duration": -47,
    "start_time": "2022-01-17T12:31:16.643Z"
   },
   {
    "duration": 6,
    "start_time": "2022-01-17T12:33:50.283Z"
   },
   {
    "duration": 5,
    "start_time": "2022-01-17T12:34:00.262Z"
   },
   {
    "duration": 12,
    "start_time": "2022-01-17T12:34:15.009Z"
   },
   {
    "duration": 12,
    "start_time": "2022-01-17T12:36:13.587Z"
   },
   {
    "duration": 11,
    "start_time": "2022-01-17T12:43:47.889Z"
   },
   {
    "duration": 17,
    "start_time": "2022-01-17T12:44:40.043Z"
   },
   {
    "duration": 17,
    "start_time": "2022-01-17T12:44:40.771Z"
   },
   {
    "duration": 5,
    "start_time": "2022-01-17T12:50:35.939Z"
   },
   {
    "duration": 5,
    "start_time": "2022-01-17T12:50:59.309Z"
   },
   {
    "duration": 4,
    "start_time": "2022-01-17T12:52:44.817Z"
   },
   {
    "duration": 3844,
    "start_time": "2022-01-17T12:55:06.300Z"
   },
   {
    "duration": 4,
    "start_time": "2022-01-17T12:58:41.686Z"
   },
   {
    "duration": 3588,
    "start_time": "2022-01-17T12:58:43.021Z"
   },
   {
    "duration": -27,
    "start_time": "2022-01-17T12:59:17.689Z"
   },
   {
    "duration": -30,
    "start_time": "2022-01-17T12:59:17.694Z"
   },
   {
    "duration": -31,
    "start_time": "2022-01-17T12:59:17.696Z"
   },
   {
    "duration": -32,
    "start_time": "2022-01-17T12:59:17.698Z"
   },
   {
    "duration": -36,
    "start_time": "2022-01-17T12:59:17.704Z"
   },
   {
    "duration": -37,
    "start_time": "2022-01-17T12:59:17.706Z"
   },
   {
    "duration": -37,
    "start_time": "2022-01-17T12:59:17.708Z"
   },
   {
    "duration": -40,
    "start_time": "2022-01-17T12:59:17.712Z"
   },
   {
    "duration": -40,
    "start_time": "2022-01-17T12:59:17.714Z"
   },
   {
    "duration": -42,
    "start_time": "2022-01-17T12:59:17.717Z"
   },
   {
    "duration": -44,
    "start_time": "2022-01-17T12:59:17.720Z"
   },
   {
    "duration": -44,
    "start_time": "2022-01-17T12:59:17.722Z"
   },
   {
    "duration": -46,
    "start_time": "2022-01-17T12:59:17.725Z"
   },
   {
    "duration": -48,
    "start_time": "2022-01-17T12:59:17.728Z"
   },
   {
    "duration": -48,
    "start_time": "2022-01-17T12:59:17.730Z"
   },
   {
    "duration": -49,
    "start_time": "2022-01-17T12:59:17.733Z"
   },
   {
    "duration": -51,
    "start_time": "2022-01-17T12:59:17.736Z"
   },
   {
    "duration": -59,
    "start_time": "2022-01-17T12:59:17.746Z"
   },
   {
    "duration": -62,
    "start_time": "2022-01-17T12:59:17.750Z"
   },
   {
    "duration": -64,
    "start_time": "2022-01-17T12:59:17.754Z"
   },
   {
    "duration": -66,
    "start_time": "2022-01-17T12:59:17.757Z"
   },
   {
    "duration": -66,
    "start_time": "2022-01-17T12:59:17.759Z"
   },
   {
    "duration": -67,
    "start_time": "2022-01-17T12:59:17.761Z"
   },
   {
    "duration": -68,
    "start_time": "2022-01-17T12:59:17.764Z"
   },
   {
    "duration": -71,
    "start_time": "2022-01-17T12:59:17.768Z"
   },
   {
    "duration": -73,
    "start_time": "2022-01-17T12:59:17.771Z"
   },
   {
    "duration": -73,
    "start_time": "2022-01-17T12:59:17.773Z"
   },
   {
    "duration": -74,
    "start_time": "2022-01-17T12:59:17.775Z"
   },
   {
    "duration": -81,
    "start_time": "2022-01-17T12:59:17.784Z"
   },
   {
    "duration": -83,
    "start_time": "2022-01-17T12:59:17.787Z"
   },
   {
    "duration": -28,
    "start_time": "2022-01-17T12:59:17.789Z"
   },
   {
    "duration": -28,
    "start_time": "2022-01-17T12:59:17.791Z"
   },
   {
    "duration": -30,
    "start_time": "2022-01-17T12:59:17.794Z"
   },
   {
    "duration": -31,
    "start_time": "2022-01-17T12:59:17.797Z"
   },
   {
    "duration": -32,
    "start_time": "2022-01-17T12:59:17.799Z"
   },
   {
    "duration": -33,
    "start_time": "2022-01-17T12:59:17.802Z"
   },
   {
    "duration": -34,
    "start_time": "2022-01-17T12:59:17.804Z"
   },
   {
    "duration": -34,
    "start_time": "2022-01-17T12:59:17.806Z"
   },
   {
    "duration": 2,
    "start_time": "2022-01-17T12:59:33.526Z"
   },
   {
    "duration": 246,
    "start_time": "2022-01-17T12:59:33.531Z"
   },
   {
    "duration": 17,
    "start_time": "2022-01-17T12:59:33.781Z"
   },
   {
    "duration": 40,
    "start_time": "2022-01-17T12:59:33.800Z"
   },
   {
    "duration": 26,
    "start_time": "2022-01-17T12:59:33.842Z"
   },
   {
    "duration": 33,
    "start_time": "2022-01-17T12:59:33.869Z"
   },
   {
    "duration": 24,
    "start_time": "2022-01-17T12:59:33.904Z"
   },
   {
    "duration": 63,
    "start_time": "2022-01-17T12:59:33.930Z"
   },
   {
    "duration": 31,
    "start_time": "2022-01-17T12:59:33.996Z"
   },
   {
    "duration": 69,
    "start_time": "2022-01-17T12:59:34.030Z"
   },
   {
    "duration": 107,
    "start_time": "2022-01-17T12:59:34.101Z"
   },
   {
    "duration": 75,
    "start_time": "2022-01-17T12:59:34.210Z"
   },
   {
    "duration": 55,
    "start_time": "2022-01-17T12:59:34.287Z"
   },
   {
    "duration": 87,
    "start_time": "2022-01-17T12:59:34.344Z"
   },
   {
    "duration": 3,
    "start_time": "2022-01-17T12:59:34.434Z"
   },
   {
    "duration": 37,
    "start_time": "2022-01-17T12:59:34.438Z"
   },
   {
    "duration": 43,
    "start_time": "2022-01-17T12:59:34.477Z"
   },
   {
    "duration": 11,
    "start_time": "2022-01-17T12:59:34.521Z"
   },
   {
    "duration": 12,
    "start_time": "2022-01-17T12:59:34.561Z"
   },
   {
    "duration": 4,
    "start_time": "2022-01-17T12:59:34.575Z"
   },
   {
    "duration": 3598,
    "start_time": "2022-01-17T12:59:34.581Z"
   },
   {
    "duration": -32,
    "start_time": "2022-01-17T12:59:38.214Z"
   },
   {
    "duration": -35,
    "start_time": "2022-01-17T12:59:38.218Z"
   },
   {
    "duration": -35,
    "start_time": "2022-01-17T12:59:38.220Z"
   },
   {
    "duration": -37,
    "start_time": "2022-01-17T12:59:38.223Z"
   },
   {
    "duration": -37,
    "start_time": "2022-01-17T12:59:38.225Z"
   },
   {
    "duration": -38,
    "start_time": "2022-01-17T12:59:38.227Z"
   },
   {
    "duration": -39,
    "start_time": "2022-01-17T12:59:38.230Z"
   },
   {
    "duration": -43,
    "start_time": "2022-01-17T12:59:38.235Z"
   },
   {
    "duration": -45,
    "start_time": "2022-01-17T12:59:38.238Z"
   },
   {
    "duration": -46,
    "start_time": "2022-01-17T12:59:38.241Z"
   },
   {
    "duration": -47,
    "start_time": "2022-01-17T12:59:38.243Z"
   },
   {
    "duration": -48,
    "start_time": "2022-01-17T12:59:38.246Z"
   },
   {
    "duration": -52,
    "start_time": "2022-01-17T12:59:38.250Z"
   },
   {
    "duration": -56,
    "start_time": "2022-01-17T12:59:38.255Z"
   },
   {
    "duration": -56,
    "start_time": "2022-01-17T12:59:38.257Z"
   },
   {
    "duration": -57,
    "start_time": "2022-01-17T12:59:38.259Z"
   },
   {
    "duration": -58,
    "start_time": "2022-01-17T12:59:38.261Z"
   },
   {
    "duration": 268,
    "start_time": "2022-01-17T13:00:50.542Z"
   },
   {
    "duration": 7,
    "start_time": "2022-01-17T13:01:03.191Z"
   },
   {
    "duration": 9,
    "start_time": "2022-01-17T13:01:14.141Z"
   },
   {
    "duration": 4,
    "start_time": "2022-01-17T13:01:45.717Z"
   },
   {
    "duration": 4,
    "start_time": "2022-01-17T13:01:48.378Z"
   },
   {
    "duration": 6490,
    "start_time": "2022-01-17T13:01:49.659Z"
   },
   {
    "duration": 3,
    "start_time": "2022-01-17T13:02:41.242Z"
   },
   {
    "duration": 15,
    "start_time": "2022-01-17T13:02:42.406Z"
   },
   {
    "duration": 19,
    "start_time": "2022-01-17T13:03:21.654Z"
   },
   {
    "duration": 33,
    "start_time": "2022-01-17T13:03:34.141Z"
   },
   {
    "duration": 40,
    "start_time": "2022-01-17T13:03:56.696Z"
   },
   {
    "duration": 30,
    "start_time": "2022-01-17T13:04:43.874Z"
   },
   {
    "duration": 45,
    "start_time": "2022-01-17T13:04:52.513Z"
   },
   {
    "duration": 29,
    "start_time": "2022-01-17T13:05:08.234Z"
   },
   {
    "duration": 4,
    "start_time": "2022-01-17T13:05:26.720Z"
   },
   {
    "duration": 6,
    "start_time": "2022-01-17T13:05:42.877Z"
   },
   {
    "duration": 15,
    "start_time": "2022-01-17T13:05:45.130Z"
   },
   {
    "duration": 30,
    "start_time": "2022-01-17T13:05:59.087Z"
   },
   {
    "duration": 25,
    "start_time": "2022-01-17T13:07:12.855Z"
   },
   {
    "duration": 16,
    "start_time": "2022-01-17T13:07:23.910Z"
   },
   {
    "duration": 15,
    "start_time": "2022-01-17T13:07:32.855Z"
   },
   {
    "duration": 16,
    "start_time": "2022-01-17T13:07:53.008Z"
   },
   {
    "duration": 21,
    "start_time": "2022-01-17T13:12:27.579Z"
   },
   {
    "duration": 160,
    "start_time": "2022-01-17T13:13:09.222Z"
   },
   {
    "duration": 5,
    "start_time": "2022-01-17T13:13:47.098Z"
   },
   {
    "duration": 16,
    "start_time": "2022-01-17T13:13:51.948Z"
   },
   {
    "duration": 19,
    "start_time": "2022-01-17T13:15:55.924Z"
   },
   {
    "duration": 18,
    "start_time": "2022-01-17T13:16:17.769Z"
   },
   {
    "duration": 6,
    "start_time": "2022-01-17T13:27:10.748Z"
   },
   {
    "duration": 22,
    "start_time": "2022-01-17T13:27:19.277Z"
   },
   {
    "duration": 244,
    "start_time": "2022-01-17T13:28:05.341Z"
   },
   {
    "duration": 3,
    "start_time": "2022-01-17T13:28:38.143Z"
   },
   {
    "duration": 154,
    "start_time": "2022-01-17T13:28:38.148Z"
   },
   {
    "duration": 12,
    "start_time": "2022-01-17T13:28:38.304Z"
   },
   {
    "duration": 28,
    "start_time": "2022-01-17T13:28:38.318Z"
   },
   {
    "duration": 5,
    "start_time": "2022-01-17T13:28:38.360Z"
   },
   {
    "duration": 26,
    "start_time": "2022-01-17T13:28:38.366Z"
   },
   {
    "duration": 5,
    "start_time": "2022-01-17T13:28:38.394Z"
   },
   {
    "duration": 64,
    "start_time": "2022-01-17T13:28:38.403Z"
   },
   {
    "duration": 33,
    "start_time": "2022-01-17T13:28:38.470Z"
   },
   {
    "duration": 41,
    "start_time": "2022-01-17T13:28:38.506Z"
   },
   {
    "duration": 62,
    "start_time": "2022-01-17T13:28:38.562Z"
   },
   {
    "duration": 92,
    "start_time": "2022-01-17T13:28:38.626Z"
   },
   {
    "duration": 59,
    "start_time": "2022-01-17T13:28:38.720Z"
   },
   {
    "duration": 43,
    "start_time": "2022-01-17T13:28:38.781Z"
   },
   {
    "duration": 3,
    "start_time": "2022-01-17T13:28:38.826Z"
   },
   {
    "duration": 41,
    "start_time": "2022-01-17T13:28:38.831Z"
   },
   {
    "duration": 42,
    "start_time": "2022-01-17T13:28:38.874Z"
   },
   {
    "duration": 12,
    "start_time": "2022-01-17T13:28:38.919Z"
   },
   {
    "duration": 37,
    "start_time": "2022-01-17T13:28:38.933Z"
   },
   {
    "duration": 4,
    "start_time": "2022-01-17T13:28:38.973Z"
   },
   {
    "duration": 23,
    "start_time": "2022-01-17T13:28:38.979Z"
   },
   {
    "duration": 17,
    "start_time": "2022-01-17T13:28:39.004Z"
   },
   {
    "duration": 48,
    "start_time": "2022-01-17T13:28:39.024Z"
   },
   {
    "duration": 34,
    "start_time": "2022-01-17T13:28:39.075Z"
   },
   {
    "duration": 25,
    "start_time": "2022-01-17T13:28:39.111Z"
   },
   {
    "duration": 16,
    "start_time": "2022-01-17T13:28:39.138Z"
   },
   {
    "duration": 9,
    "start_time": "2022-01-17T13:28:39.161Z"
   },
   {
    "duration": 14,
    "start_time": "2022-01-17T13:28:39.171Z"
   },
   {
    "duration": 11,
    "start_time": "2022-01-17T13:28:39.187Z"
   },
   {
    "duration": 4,
    "start_time": "2022-01-17T13:28:39.200Z"
   },
   {
    "duration": 25,
    "start_time": "2022-01-17T13:28:39.206Z"
   },
   {
    "duration": 41,
    "start_time": "2022-01-17T13:28:39.233Z"
   },
   {
    "duration": 3,
    "start_time": "2022-01-17T13:28:39.276Z"
   },
   {
    "duration": 5,
    "start_time": "2022-01-17T13:28:39.281Z"
   },
   {
    "duration": 10,
    "start_time": "2022-01-17T13:28:39.287Z"
   },
   {
    "duration": 8,
    "start_time": "2022-01-17T13:28:39.299Z"
   },
   {
    "duration": 6,
    "start_time": "2022-01-17T13:28:39.308Z"
   },
   {
    "duration": 14,
    "start_time": "2022-01-17T13:28:39.315Z"
   },
   {
    "duration": 14,
    "start_time": "2022-01-17T13:28:47.835Z"
   },
   {
    "duration": 11,
    "start_time": "2022-01-17T13:28:48.351Z"
   },
   {
    "duration": 4,
    "start_time": "2022-01-17T13:28:50.144Z"
   },
   {
    "duration": 22,
    "start_time": "2022-01-17T13:28:52.158Z"
   },
   {
    "duration": 17,
    "start_time": "2022-01-17T13:28:53.278Z"
   },
   {
    "duration": 18,
    "start_time": "2022-01-17T13:29:59.005Z"
   },
   {
    "duration": 16,
    "start_time": "2022-01-17T13:30:01.204Z"
   },
   {
    "duration": 9,
    "start_time": "2022-01-17T13:33:56.183Z"
   },
   {
    "duration": 5,
    "start_time": "2022-01-17T13:34:13.764Z"
   },
   {
    "duration": 9,
    "start_time": "2022-01-17T13:34:48.409Z"
   },
   {
    "duration": 5,
    "start_time": "2022-01-17T13:34:51.584Z"
   },
   {
    "duration": 13,
    "start_time": "2022-01-17T13:34:56.380Z"
   },
   {
    "duration": 11,
    "start_time": "2022-01-17T13:38:09.078Z"
   },
   {
    "duration": 422,
    "start_time": "2022-01-17T13:38:19.969Z"
   },
   {
    "duration": 6,
    "start_time": "2022-01-17T13:38:27.402Z"
   },
   {
    "duration": 3,
    "start_time": "2022-01-17T13:39:20.106Z"
   },
   {
    "duration": 181,
    "start_time": "2022-01-17T13:39:20.111Z"
   },
   {
    "duration": 11,
    "start_time": "2022-01-17T13:39:20.294Z"
   },
   {
    "duration": 30,
    "start_time": "2022-01-17T13:39:20.307Z"
   },
   {
    "duration": 22,
    "start_time": "2022-01-17T13:39:20.340Z"
   },
   {
    "duration": 27,
    "start_time": "2022-01-17T13:39:20.364Z"
   },
   {
    "duration": 6,
    "start_time": "2022-01-17T13:39:20.394Z"
   },
   {
    "duration": 57,
    "start_time": "2022-01-17T13:39:20.404Z"
   },
   {
    "duration": 36,
    "start_time": "2022-01-17T13:39:20.464Z"
   },
   {
    "duration": 60,
    "start_time": "2022-01-17T13:39:20.503Z"
   },
   {
    "duration": 65,
    "start_time": "2022-01-17T13:39:20.565Z"
   },
   {
    "duration": 102,
    "start_time": "2022-01-17T13:39:20.632Z"
   },
   {
    "duration": 69,
    "start_time": "2022-01-17T13:39:20.737Z"
   },
   {
    "duration": 60,
    "start_time": "2022-01-17T13:39:20.808Z"
   },
   {
    "duration": 3,
    "start_time": "2022-01-17T13:39:20.870Z"
   },
   {
    "duration": 25,
    "start_time": "2022-01-17T13:39:20.875Z"
   },
   {
    "duration": 67,
    "start_time": "2022-01-17T13:39:20.902Z"
   },
   {
    "duration": 10,
    "start_time": "2022-01-17T13:39:20.972Z"
   },
   {
    "duration": 11,
    "start_time": "2022-01-17T13:39:20.986Z"
   },
   {
    "duration": 4,
    "start_time": "2022-01-17T13:39:20.999Z"
   },
   {
    "duration": 28,
    "start_time": "2022-01-17T13:39:21.005Z"
   },
   {
    "duration": 33,
    "start_time": "2022-01-17T13:39:21.035Z"
   },
   {
    "duration": 16,
    "start_time": "2022-01-17T13:39:21.070Z"
   },
   {
    "duration": 14,
    "start_time": "2022-01-17T13:39:21.087Z"
   },
   {
    "duration": 58,
    "start_time": "2022-01-17T13:39:21.103Z"
   },
   {
    "duration": 16,
    "start_time": "2022-01-17T13:39:21.163Z"
   },
   {
    "duration": 9,
    "start_time": "2022-01-17T13:39:21.181Z"
   },
   {
    "duration": 15,
    "start_time": "2022-01-17T13:39:21.192Z"
   },
   {
    "duration": 12,
    "start_time": "2022-01-17T13:39:21.209Z"
   },
   {
    "duration": 4,
    "start_time": "2022-01-17T13:39:21.223Z"
   },
   {
    "duration": 22,
    "start_time": "2022-01-17T13:39:21.260Z"
   },
   {
    "duration": 17,
    "start_time": "2022-01-17T13:39:21.284Z"
   },
   {
    "duration": 17,
    "start_time": "2022-01-17T13:39:21.302Z"
   },
   {
    "duration": 46,
    "start_time": "2022-01-17T13:39:21.321Z"
   },
   {
    "duration": 14,
    "start_time": "2022-01-17T13:39:21.370Z"
   },
   {
    "duration": 5,
    "start_time": "2022-01-17T13:39:21.386Z"
   },
   {
    "duration": 13,
    "start_time": "2022-01-17T13:39:21.393Z"
   },
   {
    "duration": 8,
    "start_time": "2022-01-17T13:39:21.408Z"
   },
   {
    "duration": 34,
    "start_time": "2022-01-20T12:35:57.622Z"
   },
   {
    "duration": 194,
    "start_time": "2022-01-20T12:35:57.657Z"
   },
   {
    "duration": 10,
    "start_time": "2022-01-20T12:35:57.853Z"
   },
   {
    "duration": 65,
    "start_time": "2022-01-20T12:35:57.865Z"
   },
   {
    "duration": 42,
    "start_time": "2022-01-20T12:35:57.932Z"
   },
   {
    "duration": 64,
    "start_time": "2022-01-20T12:35:57.975Z"
   },
   {
    "duration": 22,
    "start_time": "2022-01-20T12:35:58.041Z"
   },
   {
    "duration": 66,
    "start_time": "2022-01-20T12:35:58.064Z"
   },
   {
    "duration": 46,
    "start_time": "2022-01-20T12:35:58.131Z"
   },
   {
    "duration": 63,
    "start_time": "2022-01-20T12:35:58.179Z"
   },
   {
    "duration": 62,
    "start_time": "2022-01-20T12:35:58.244Z"
   },
   {
    "duration": 64,
    "start_time": "2022-01-20T12:35:58.307Z"
   },
   {
    "duration": 48,
    "start_time": "2022-01-20T12:35:58.373Z"
   },
   {
    "duration": 50,
    "start_time": "2022-01-20T12:35:58.423Z"
   },
   {
    "duration": 10,
    "start_time": "2022-01-20T12:35:58.474Z"
   },
   {
    "duration": 27,
    "start_time": "2022-01-20T12:35:58.486Z"
   },
   {
    "duration": 45,
    "start_time": "2022-01-20T12:35:58.515Z"
   },
   {
    "duration": 11,
    "start_time": "2022-01-20T12:35:58.562Z"
   },
   {
    "duration": 11,
    "start_time": "2022-01-20T12:35:58.574Z"
   },
   {
    "duration": 4,
    "start_time": "2022-01-20T12:35:58.586Z"
   },
   {
    "duration": 28,
    "start_time": "2022-01-20T12:35:58.592Z"
   },
   {
    "duration": 15,
    "start_time": "2022-01-20T12:35:58.621Z"
   },
   {
    "duration": 36,
    "start_time": "2022-01-20T12:35:58.637Z"
   },
   {
    "duration": 14,
    "start_time": "2022-01-20T12:35:58.675Z"
   },
   {
    "duration": 17,
    "start_time": "2022-01-20T12:35:58.691Z"
   },
   {
    "duration": 15,
    "start_time": "2022-01-20T12:35:58.710Z"
   },
   {
    "duration": 41,
    "start_time": "2022-01-20T12:35:58.727Z"
   },
   {
    "duration": 18,
    "start_time": "2022-01-20T12:35:58.769Z"
   },
   {
    "duration": 15,
    "start_time": "2022-01-20T12:35:58.789Z"
   },
   {
    "duration": 4,
    "start_time": "2022-01-20T12:35:58.809Z"
   },
   {
    "duration": 34,
    "start_time": "2022-01-20T12:35:58.814Z"
   },
   {
    "duration": 17,
    "start_time": "2022-01-20T12:35:58.850Z"
   },
   {
    "duration": 16,
    "start_time": "2022-01-20T12:35:58.868Z"
   },
   {
    "duration": 13,
    "start_time": "2022-01-20T12:35:58.886Z"
   },
   {
    "duration": 8,
    "start_time": "2022-01-20T12:35:58.901Z"
   },
   {
    "duration": 4,
    "start_time": "2022-01-20T12:35:58.911Z"
   },
   {
    "duration": 44,
    "start_time": "2022-01-20T12:35:58.917Z"
   },
   {
    "duration": 5,
    "start_time": "2022-01-20T12:35:58.963Z"
   },
   {
    "duration": 88,
    "start_time": "2022-01-20T13:11:23.113Z"
   },
   {
    "duration": 94,
    "start_time": "2022-01-20T13:11:56.050Z"
   },
   {
    "duration": 86,
    "start_time": "2022-01-20T13:12:43.674Z"
   },
   {
    "duration": 83,
    "start_time": "2022-01-20T13:12:46.594Z"
   },
   {
    "duration": 79,
    "start_time": "2022-01-20T13:12:50.641Z"
   },
   {
    "duration": 362,
    "start_time": "2022-01-20T13:14:04.639Z"
   },
   {
    "duration": 611,
    "start_time": "2022-01-20T13:19:01.266Z"
   },
   {
    "duration": 147,
    "start_time": "2022-01-20T13:19:01.880Z"
   },
   {
    "duration": 17,
    "start_time": "2022-01-20T13:19:02.029Z"
   },
   {
    "duration": 77,
    "start_time": "2022-01-20T13:19:02.047Z"
   },
   {
    "duration": 23,
    "start_time": "2022-01-20T13:19:02.126Z"
   },
   {
    "duration": 34,
    "start_time": "2022-01-20T13:19:02.151Z"
   },
   {
    "duration": 13,
    "start_time": "2022-01-20T13:19:02.187Z"
   },
   {
    "duration": 36,
    "start_time": "2022-01-20T13:19:02.202Z"
   },
   {
    "duration": 28,
    "start_time": "2022-01-20T13:19:02.240Z"
   },
   {
    "duration": 39,
    "start_time": "2022-01-20T13:19:02.269Z"
   },
   {
    "duration": 94,
    "start_time": "2022-01-20T13:19:02.310Z"
   },
   {
    "duration": 75,
    "start_time": "2022-01-20T13:19:02.405Z"
   },
   {
    "duration": 51,
    "start_time": "2022-01-20T13:19:02.481Z"
   },
   {
    "duration": 50,
    "start_time": "2022-01-20T13:19:02.534Z"
   },
   {
    "duration": 29,
    "start_time": "2022-01-20T13:19:02.585Z"
   },
   {
    "duration": 51,
    "start_time": "2022-01-20T13:19:02.616Z"
   },
   {
    "duration": 65,
    "start_time": "2022-01-20T13:19:02.668Z"
   },
   {
    "duration": 38,
    "start_time": "2022-01-20T13:19:02.735Z"
   },
   {
    "duration": 35,
    "start_time": "2022-01-20T13:19:02.775Z"
   },
   {
    "duration": 13,
    "start_time": "2022-01-20T13:19:02.812Z"
   },
   {
    "duration": 73,
    "start_time": "2022-01-20T13:19:02.826Z"
   },
   {
    "duration": 50,
    "start_time": "2022-01-20T13:19:02.901Z"
   },
   {
    "duration": 54,
    "start_time": "2022-01-20T13:19:02.955Z"
   },
   {
    "duration": 28,
    "start_time": "2022-01-20T13:19:03.012Z"
   },
   {
    "duration": 45,
    "start_time": "2022-01-20T13:19:03.042Z"
   },
   {
    "duration": 33,
    "start_time": "2022-01-20T13:19:03.089Z"
   },
   {
    "duration": 39,
    "start_time": "2022-01-20T13:19:03.124Z"
   },
   {
    "duration": 34,
    "start_time": "2022-01-20T13:19:03.165Z"
   },
   {
    "duration": 32,
    "start_time": "2022-01-20T13:19:03.201Z"
   },
   {
    "duration": 53,
    "start_time": "2022-01-20T13:19:03.235Z"
   },
   {
    "duration": 85,
    "start_time": "2022-01-20T13:19:03.290Z"
   },
   {
    "duration": 36,
    "start_time": "2022-01-20T13:19:03.376Z"
   },
   {
    "duration": 61,
    "start_time": "2022-01-20T13:19:03.413Z"
   },
   {
    "duration": 73,
    "start_time": "2022-01-20T13:19:03.476Z"
   },
   {
    "duration": 19,
    "start_time": "2022-01-20T13:19:03.551Z"
   },
   {
    "duration": 24,
    "start_time": "2022-01-20T13:19:03.572Z"
   },
   {
    "duration": 27,
    "start_time": "2022-01-20T13:19:03.598Z"
   },
   {
    "duration": 13,
    "start_time": "2022-01-20T13:19:03.626Z"
   },
   {
    "duration": 596,
    "start_time": "2022-01-20T13:21:21.388Z"
   },
   {
    "duration": 140,
    "start_time": "2022-01-20T13:21:21.986Z"
   },
   {
    "duration": 17,
    "start_time": "2022-01-20T13:21:22.131Z"
   },
   {
    "duration": 90,
    "start_time": "2022-01-20T13:21:22.149Z"
   },
   {
    "duration": 56,
    "start_time": "2022-01-20T13:21:22.240Z"
   },
   {
    "duration": 78,
    "start_time": "2022-01-20T13:21:22.297Z"
   },
   {
    "duration": 122,
    "start_time": "2022-01-20T13:21:22.378Z"
   },
   {
    "duration": 122,
    "start_time": "2022-01-20T13:21:22.502Z"
   },
   {
    "duration": 92,
    "start_time": "2022-01-20T13:21:22.626Z"
   },
   {
    "duration": 69,
    "start_time": "2022-01-20T13:21:22.720Z"
   },
   {
    "duration": 111,
    "start_time": "2022-01-20T13:21:22.791Z"
   },
   {
    "duration": 103,
    "start_time": "2022-01-20T13:21:22.903Z"
   },
   {
    "duration": 61,
    "start_time": "2022-01-20T13:21:23.008Z"
   },
   {
    "duration": 40,
    "start_time": "2022-01-20T13:21:23.071Z"
   },
   {
    "duration": 40,
    "start_time": "2022-01-20T13:21:23.113Z"
   },
   {
    "duration": 73,
    "start_time": "2022-01-20T13:21:23.155Z"
   },
   {
    "duration": 140,
    "start_time": "2022-01-20T13:21:23.230Z"
   },
   {
    "duration": 43,
    "start_time": "2022-01-20T13:21:23.371Z"
   },
   {
    "duration": 54,
    "start_time": "2022-01-20T13:21:23.415Z"
   },
   {
    "duration": 45,
    "start_time": "2022-01-20T13:21:23.471Z"
   },
   {
    "duration": 75,
    "start_time": "2022-01-20T13:21:23.518Z"
   },
   {
    "duration": 40,
    "start_time": "2022-01-20T13:21:23.596Z"
   },
   {
    "duration": 58,
    "start_time": "2022-01-20T13:21:23.637Z"
   },
   {
    "duration": 65,
    "start_time": "2022-01-20T13:21:23.697Z"
   },
   {
    "duration": 68,
    "start_time": "2022-01-20T13:21:23.763Z"
   },
   {
    "duration": 40,
    "start_time": "2022-01-20T13:21:23.832Z"
   },
   {
    "duration": 45,
    "start_time": "2022-01-20T13:21:23.874Z"
   },
   {
    "duration": 49,
    "start_time": "2022-01-20T13:21:23.921Z"
   },
   {
    "duration": 60,
    "start_time": "2022-01-20T13:21:23.972Z"
   },
   {
    "duration": 57,
    "start_time": "2022-01-20T13:21:24.033Z"
   },
   {
    "duration": 99,
    "start_time": "2022-01-20T13:21:24.091Z"
   },
   {
    "duration": 128,
    "start_time": "2022-01-20T13:21:24.191Z"
   },
   {
    "duration": 84,
    "start_time": "2022-01-20T13:21:24.320Z"
   },
   {
    "duration": 36,
    "start_time": "2022-01-20T13:21:24.406Z"
   },
   {
    "duration": 71,
    "start_time": "2022-01-20T13:21:24.443Z"
   },
   {
    "duration": 52,
    "start_time": "2022-01-20T13:21:24.515Z"
   },
   {
    "duration": 71,
    "start_time": "2022-01-20T13:21:24.569Z"
   },
   {
    "duration": 72,
    "start_time": "2022-01-20T13:21:24.642Z"
   }
  ],
  "colab": {
   "collapsed_sections": [
    "E0vqbgi9ay0H",
    "VUC88oWjTJw2"
   ],
   "name": "yandex_music_project_2021.2.ipynb",
   "provenance": []
  },
  "kernelspec": {
   "display_name": "Python 3 (ipykernel)",
   "language": "python",
   "name": "python3"
  },
  "language_info": {
   "codemirror_mode": {
    "name": "ipython",
    "version": 3
   },
   "file_extension": ".py",
   "mimetype": "text/x-python",
   "name": "python",
   "nbconvert_exporter": "python",
   "pygments_lexer": "ipython3",
   "version": "3.9.12"
  },
  "toc": {
   "base_numbering": 1,
   "nav_menu": {},
   "number_sections": true,
   "sideBar": true,
   "skip_h1_title": true,
   "title_cell": "Table of Contents",
   "title_sidebar": "Contents",
   "toc_cell": false,
   "toc_position": {
    "height": "calc(100% - 180px)",
    "left": "10px",
    "top": "150px",
    "width": "391.771px"
   },
   "toc_section_display": true,
   "toc_window_display": false
  }
 },
 "nbformat": 4,
 "nbformat_minor": 1
}
