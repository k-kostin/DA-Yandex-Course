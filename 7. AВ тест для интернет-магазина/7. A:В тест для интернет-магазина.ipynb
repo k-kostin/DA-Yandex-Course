{
 "cells": [
  {
   "cell_type": "markdown",
   "metadata": {
    "toc": true
   },
   "source": [
    "<h1>Содержание<span class=\"tocSkip\"></span></h1>\n",
    "<div class=\"toc\"><ul class=\"toc-item\"><li><ul class=\"toc-item\"><li><span><a href=\"#Описание-данных\" data-toc-modified-id=\"Описание-данных-0.1\"><span class=\"toc-item-num\">0.1&nbsp;&nbsp;</span>Описание данных</a></span></li><li><span><a href=\"#Описание-проекта\" data-toc-modified-id=\"Описание-проекта-0.2\"><span class=\"toc-item-num\">0.2&nbsp;&nbsp;</span>Описание проекта</a></span><ul class=\"toc-item\"><li><span><a href=\"#Контекст\" data-toc-modified-id=\"Контекст-0.2.1\"><span class=\"toc-item-num\">0.2.1&nbsp;&nbsp;</span>Контекст</a></span></li><li><span><a href=\"#Часть-1.-Приоритизация-гипотез.\" data-toc-modified-id=\"Часть-1.-Приоритизация-гипотез.-0.2.2\"><span class=\"toc-item-num\">0.2.2&nbsp;&nbsp;</span>Часть 1. Приоритизация гипотез.</a></span></li><li><span><a href=\"#Часть-2.-Анализ-A/B-теста\" data-toc-modified-id=\"Часть-2.-Анализ-A/B-теста-0.2.3\"><span class=\"toc-item-num\">0.2.3&nbsp;&nbsp;</span>Часть 2. Анализ A/B-теста</a></span></li></ul></li></ul></li><li><span><a href=\"#часть.-Приоритизация-гипотез.\" data-toc-modified-id=\"часть.-Приоритизация-гипотез.-1\"><span class=\"toc-item-num\">1&nbsp;&nbsp;</span>часть. Приоритизация гипотез.</a></span><ul class=\"toc-item\"><li><span><a href=\"#Примените-фреймворк-ICE-для-приоритизации-гипотез.-Отсортируйте-их-по-убыванию-приоритета.\" data-toc-modified-id=\"Примените-фреймворк-ICE-для-приоритизации-гипотез.-Отсортируйте-их-по-убыванию-приоритета.-1.1\"><span class=\"toc-item-num\">1.1&nbsp;&nbsp;</span>Примените фреймворк ICE для приоритизации гипотез. Отсортируйте их по убыванию приоритета.</a></span></li><li><span><a href=\"#Примените-фреймворк-RICE-для-приоритизации-гипотез.-Отсортируйте-их-по-убыванию-приоритета.\" data-toc-modified-id=\"Примените-фреймворк-RICE-для-приоритизации-гипотез.-Отсортируйте-их-по-убыванию-приоритета.-1.2\"><span class=\"toc-item-num\">1.2&nbsp;&nbsp;</span>Примените фреймворк RICE для приоритизации гипотез. Отсортируйте их по убыванию приоритета.</a></span></li><li><span><a href=\"#Укажите,-как-изменилась-приоритизация-гипотез-при-применении-RICE-вместо-ICE.-Объясните,-почему-так-произошло.\" data-toc-modified-id=\"Укажите,-как-изменилась-приоритизация-гипотез-при-применении-RICE-вместо-ICE.-Объясните,-почему-так-произошло.-1.3\"><span class=\"toc-item-num\">1.3&nbsp;&nbsp;</span>Укажите, как изменилась приоритизация гипотез при применении RICE вместо ICE. Объясните, почему так произошло.</a></span></li></ul></li><li><span><a href=\"#часть.-Анализ-A/B-теста\" data-toc-modified-id=\"часть.-Анализ-A/B-теста-2\"><span class=\"toc-item-num\">2&nbsp;&nbsp;</span>часть. Анализ A/B-теста</a></span><ul class=\"toc-item\"><li><span><a href=\"#Постройте-график-кумулятивной-выручки-по-группам\" data-toc-modified-id=\"Постройте-график-кумулятивной-выручки-по-группам-2.1\"><span class=\"toc-item-num\">2.1&nbsp;&nbsp;</span>Постройте график кумулятивной выручки по группам</a></span></li><li><span><a href=\"#Постройте-график-кумулятивного-среднего-чека-по-группам\" data-toc-modified-id=\"Постройте-график-кумулятивного-среднего-чека-по-группам-2.2\"><span class=\"toc-item-num\">2.2&nbsp;&nbsp;</span>Постройте график кумулятивного среднего чека по группам</a></span></li><li><span><a href=\"#Постройте-график-относительного-изменения-кумулятивного-среднего-чека-группы-B-к-группе-A\" data-toc-modified-id=\"Постройте-график-относительного-изменения-кумулятивного-среднего-чека-группы-B-к-группе-A-2.3\"><span class=\"toc-item-num\">2.3&nbsp;&nbsp;</span>Постройте график относительного изменения кумулятивного среднего чека группы B к группе A</a></span></li><li><span><a href=\"#Постройте-график-кумулятивной-конверсии-по-группам\" data-toc-modified-id=\"Постройте-график-кумулятивной-конверсии-по-группам-2.4\"><span class=\"toc-item-num\">2.4&nbsp;&nbsp;</span>Постройте график кумулятивной конверсии по группам</a></span></li><li><span><a href=\"#Постройте-график-относительного-изменения-кумулятивной-конверсии-группы-B-к-группе-A\" data-toc-modified-id=\"Постройте-график-относительного-изменения-кумулятивной-конверсии-группы-B-к-группе-A-2.5\"><span class=\"toc-item-num\">2.5&nbsp;&nbsp;</span>Постройте график относительного изменения кумулятивной конверсии группы B к группе A</a></span></li><li><span><a href=\"#Постройте-точечный-график-количества-заказов-по-пользователям\" data-toc-modified-id=\"Постройте-точечный-график-количества-заказов-по-пользователям-2.6\"><span class=\"toc-item-num\">2.6&nbsp;&nbsp;</span>Постройте точечный график количества заказов по пользователям</a></span></li><li><span><a href=\"#Посчитайте-95-й-и-99-й-перцентили-количества-заказов-на-пользователя\" data-toc-modified-id=\"Посчитайте-95-й-и-99-й-перцентили-количества-заказов-на-пользователя-2.7\"><span class=\"toc-item-num\">2.7&nbsp;&nbsp;</span>Посчитайте 95-й и 99-й перцентили количества заказов на пользователя</a></span></li><li><span><a href=\"#Постройте-точечный-график-стоимостей-заказов\" data-toc-modified-id=\"Постройте-точечный-график-стоимостей-заказов-2.8\"><span class=\"toc-item-num\">2.8&nbsp;&nbsp;</span>Постройте точечный график стоимостей заказов</a></span></li><li><span><a href=\"#Посчитайте-95-й-и-99-й-перцентили-стоимости-заказов\" data-toc-modified-id=\"Посчитайте-95-й-и-99-й-перцентили-стоимости-заказов-2.9\"><span class=\"toc-item-num\">2.9&nbsp;&nbsp;</span>Посчитайте 95-й и 99-й перцентили стоимости заказов</a></span></li><li><span><a href=\"#Посчитайте-статистическую-значимость-различий-в-конверсии-между-группами-по-«сырым»-данным\" data-toc-modified-id=\"Посчитайте-статистическую-значимость-различий-в-конверсии-между-группами-по-«сырым»-данным-2.10\"><span class=\"toc-item-num\">2.10&nbsp;&nbsp;</span>Посчитайте статистическую значимость различий в конверсии между группами по «сырым» данным</a></span></li><li><span><a href=\"#Посчитайте-статистическую-значимость-различий-в-среднем-чеке-заказа-между-группами-по-«сырым»-данным\" data-toc-modified-id=\"Посчитайте-статистическую-значимость-различий-в-среднем-чеке-заказа-между-группами-по-«сырым»-данным-2.11\"><span class=\"toc-item-num\">2.11&nbsp;&nbsp;</span>Посчитайте статистическую значимость различий в среднем чеке заказа между группами по «сырым» данным</a></span></li><li><span><a href=\"#Посчитайте-статистическую-значимость-различий-в-конверсии-между-группами-по-«очищенным»-данным\" data-toc-modified-id=\"Посчитайте-статистическую-значимость-различий-в-конверсии-между-группами-по-«очищенным»-данным-2.12\"><span class=\"toc-item-num\">2.12&nbsp;&nbsp;</span>Посчитайте статистическую значимость различий в конверсии между группами по «очищенным» данным</a></span></li><li><span><a href=\"#Посчитайте-статистическую-значимость-различий-в-среднем-чеке-заказа-между-группами-по-«очищенным»-данным\" data-toc-modified-id=\"Посчитайте-статистическую-значимость-различий-в-среднем-чеке-заказа-между-группами-по-«очищенным»-данным-2.13\"><span class=\"toc-item-num\">2.13&nbsp;&nbsp;</span>Посчитайте статистическую значимость различий в среднем чеке заказа между группами по «очищенным» данным</a></span></li><li><span><a href=\"#Примите-решение-по-результатам-теста-и-объясните-его\" data-toc-modified-id=\"Примите-решение-по-результатам-теста-и-объясните-его-2.14\"><span class=\"toc-item-num\">2.14&nbsp;&nbsp;</span>Примите решение по результатам теста и объясните его</a></span></li></ul></li></ul></div>"
   ]
  },
  {
   "cell_type": "markdown",
   "metadata": {},
   "source": [
    "### Описание данных\n",
    "Данные для первой части\n",
    "Файл `/datasets/hypothesis.csv`:\n",
    "\n",
    "- Hypothesis — краткое описание гипотезы;\n",
    "- Reach — охват пользователей по 10-балльной шкале;\n",
    "- Impact — влияние на пользователей по 10-балльной шкале;\n",
    "- Confidence — уверенность в гипотезе по 10-балльной шкале;\n",
    "- Efforts — затраты ресурсов на проверку гипотезы по 10-балльной шкале. Чем больше значение Efforts, тем дороже проверка гипотезы.\n",
    "\n",
    "Данные для второй части\n",
    "Файл `/datasets/orders.csv`:\n",
    "\n",
    "- transactionId — идентификатор заказа;\n",
    "- visitorId — идентификатор пользователя, совершившего заказ;\n",
    "- date — дата, когда был совершён заказ;\n",
    "- revenue — выручка заказа;\n",
    "- group — группа A/B-теста, в которую попал заказ.\n",
    "\n",
    "Файл `/datasets/visitors.csv`:\n",
    "\n",
    "- date — дата;\n",
    "- group — группа A/B-теста;\n",
    "- visitors — количество пользователей в указанную дату в указанной группе A/B-теста"
   ]
  },
  {
   "cell_type": "markdown",
   "metadata": {},
   "source": [
    "### Описание проекта\n"
   ]
  },
  {
   "cell_type": "markdown",
   "metadata": {},
   "source": [
    "#### Контекст\n",
    "Вы — аналитик крупного интернет-магазина. Вместе с отделом маркетинга вы подготовили список гипотез для увеличения выручки.\n",
    "Приоритизируйте гипотезы, запустите A/B-тест и проанализируйте результаты. "
   ]
  },
  {
   "cell_type": "markdown",
   "metadata": {},
   "source": [
    "#### Часть 1. Приоритизация гипотез."
   ]
  },
  {
   "cell_type": "markdown",
   "metadata": {},
   "source": [
    "В файле `/datasets/hypothesis.csv` 9 гипотез по увеличению выручки интернет-магазина с указанными параметрами Reach, Impact, Confidence, Effort.\n",
    "\n",
    "- Примените фреймворк ICE для приоритизации гипотез. Отсортируйте их по убыванию приоритета.\n",
    "- Примените фреймворк RICE для приоритизации гипотез. Отсортируйте их по убыванию приоритета.\n",
    "- Укажите, как изменилась приоритизация гипотез при применении RICE вместо ICE. Объясните, почему так произошло."
   ]
  },
  {
   "cell_type": "markdown",
   "metadata": {},
   "source": [
    "#### Часть 2. Анализ A/B-теста"
   ]
  },
  {
   "cell_type": "markdown",
   "metadata": {},
   "source": [
    "Вы провели A/B-тест и получили результаты, которые описаны в файлах `/datasets/orders.csv` и `/datasets/visitors.csv`.\n",
    "\n",
    "Проанализируйте A/B-тест:\n",
    "\n",
    "1. Постройте график кумулятивной выручки по группам. Сделайте выводы и предположения.\n",
    "2. Постройте график кумулятивного среднего чека по группам. Сделайте выводы и предположения.\n",
    "3. Постройте график относительного изменения кумулятивного среднего чека группы B к группе A. Сделайте выводы и предположения.\n",
    "4. Постройте график кумулятивной конверсии по группам. Сделайте выводы и предположения.\n",
    "5. Постройте график относительного изменения кумулятивной конверсии группы B к группе A. Сделайте выводы и предположения.\n",
    "6. Постройте точечный график количества заказов по пользователям. Сделайте выводы и предположения.\n",
    "7. Посчитайте 95-й и 99-й перцентили количества заказов на пользователя. Выберите границу для определения аномальных пользователей.\n",
    "8. Постройте точечный график стоимостей заказов. Сделайте выводы и предположения.\n",
    "9. Посчитайте 95-й и 99-й перцентили стоимости заказов. Выберите границу для определения аномальных заказов.\n",
    "10. Посчитайте статистическую значимость различий в конверсии между группами по «сырым» данным. Сделайте выводы и предположения.\n",
    "11. Посчитайте статистическую значимость различий в среднем чеке заказа между группами по «сырым» данным. Сделайте выводы и предположения.\n",
    "12. Посчитайте статистическую значимость различий в конверсии между группами по «очищенным» данным. Сделайте выводы и предположения.\n",
    "13. Посчитайте статистическую значимость различий в среднем чеке заказа между группами по «очищенным» данным. Сделайте выводы и предположения.\n",
    "14. Примите решение по результатам теста и объясните его. Варианты решений: 1. Остановить тест, зафиксировать победу одной из групп. 2. Остановить тест, зафиксировать отсутствие различий между группами. 3. Продолжить тест."
   ]
  },
  {
   "cell_type": "markdown",
   "metadata": {},
   "source": [
    "## часть. Приоритизация гипотез."
   ]
  },
  {
   "cell_type": "code",
   "execution_count": 1,
   "metadata": {},
   "outputs": [],
   "source": [
    "import pandas as pd\n",
    "import matplotlib.pyplot as plt\n",
    "\n",
    "import seaborn as sns\n",
    "\n",
    "import scipy.stats as stats\n",
    "from scipy import stats as st\n",
    "\n",
    "import math\n",
    "\n",
    "import numpy as np"
   ]
  },
  {
   "cell_type": "code",
   "execution_count": 2,
   "metadata": {},
   "outputs": [],
   "source": [
    "hypothesis = pd.read_csv('/datasets/hypothesis.csv')\n",
    "orders = pd.read_csv('/datasets/orders.csv')\n",
    "visitors = pd.read_csv('/datasets/visitors.csv')"
   ]
  },
  {
   "cell_type": "code",
   "execution_count": 3,
   "metadata": {
    "scrolled": false
   },
   "outputs": [
    {
     "name": "stdout",
     "output_type": "stream",
     "text": [
      "<class 'pandas.core.frame.DataFrame'>\n",
      "RangeIndex: 9 entries, 0 to 8\n",
      "Data columns (total 5 columns):\n",
      " #   Column      Non-Null Count  Dtype \n",
      "---  ------      --------------  ----- \n",
      " 0   Hypothesis  9 non-null      object\n",
      " 1   Reach       9 non-null      int64 \n",
      " 2   Impact      9 non-null      int64 \n",
      " 3   Confidence  9 non-null      int64 \n",
      " 4   Efforts     9 non-null      int64 \n",
      "dtypes: int64(4), object(1)\n",
      "memory usage: 488.0+ bytes\n"
     ]
    },
    {
     "data": {
      "text/plain": [
       "None"
      ]
     },
     "metadata": {},
     "output_type": "display_data"
    },
    {
     "name": "stdout",
     "output_type": "stream",
     "text": [
      "Пропусков: 0\n",
      "Дубликатов: 0\n",
      "\n",
      "<class 'pandas.core.frame.DataFrame'>\n",
      "RangeIndex: 1197 entries, 0 to 1196\n",
      "Data columns (total 5 columns):\n",
      " #   Column         Non-Null Count  Dtype \n",
      "---  ------         --------------  ----- \n",
      " 0   transactionId  1197 non-null   int64 \n",
      " 1   visitorId      1197 non-null   int64 \n",
      " 2   date           1197 non-null   object\n",
      " 3   revenue        1197 non-null   int64 \n",
      " 4   group          1197 non-null   object\n",
      "dtypes: int64(3), object(2)\n",
      "memory usage: 46.9+ KB\n"
     ]
    },
    {
     "data": {
      "text/plain": [
       "None"
      ]
     },
     "metadata": {},
     "output_type": "display_data"
    },
    {
     "name": "stdout",
     "output_type": "stream",
     "text": [
      "Пропусков: 0\n",
      "Дубликатов: 0\n",
      "\n",
      "<class 'pandas.core.frame.DataFrame'>\n",
      "RangeIndex: 62 entries, 0 to 61\n",
      "Data columns (total 3 columns):\n",
      " #   Column    Non-Null Count  Dtype \n",
      "---  ------    --------------  ----- \n",
      " 0   date      62 non-null     object\n",
      " 1   group     62 non-null     object\n",
      " 2   visitors  62 non-null     int64 \n",
      "dtypes: int64(1), object(2)\n",
      "memory usage: 1.6+ KB\n"
     ]
    },
    {
     "data": {
      "text/plain": [
       "None"
      ]
     },
     "metadata": {},
     "output_type": "display_data"
    },
    {
     "name": "stdout",
     "output_type": "stream",
     "text": [
      "Пропусков: 0\n",
      "Дубликатов: 0\n",
      "\n"
     ]
    }
   ],
   "source": [
    "#проверим типы данных в столбцах, наличие пропусков и дубликатов\n",
    "for x in [hypothesis, orders, visitors]:\n",
    "    display(x.info())\n",
    "    print(f'Пропусков: {x.isna().sum().sum()}')\n",
    "    print(f'Дубликатов: {x.duplicated().sum()}')\n",
    "    print()"
   ]
  },
  {
   "cell_type": "code",
   "execution_count": 4,
   "metadata": {},
   "outputs": [],
   "source": [
    "#стоит поправить тип данных в колонках date\n",
    "orders['date'] = pd.to_datetime(orders['date'])\n",
    "visitors['date'] = pd.to_datetime(visitors['date'])"
   ]
  },
  {
   "cell_type": "markdown",
   "metadata": {},
   "source": [
    "### Примените фреймворк ICE для приоритизации гипотез. Отсортируйте их по убыванию приоритета."
   ]
  },
  {
   "cell_type": "code",
   "execution_count": 5,
   "metadata": {},
   "outputs": [],
   "source": [
    "hypothesis['ICE'] = hypothesis['Impact'] * hypothesis['Confidence'] / hypothesis['Efforts']"
   ]
  },
  {
   "cell_type": "code",
   "execution_count": 6,
   "metadata": {
    "scrolled": true
   },
   "outputs": [
    {
     "data": {
      "text/html": [
       "<div>\n",
       "<style scoped>\n",
       "    .dataframe tbody tr th:only-of-type {\n",
       "        vertical-align: middle;\n",
       "    }\n",
       "\n",
       "    .dataframe tbody tr th {\n",
       "        vertical-align: top;\n",
       "    }\n",
       "\n",
       "    .dataframe thead th {\n",
       "        text-align: right;\n",
       "    }\n",
       "</style>\n",
       "<table border=\"1\" class=\"dataframe\">\n",
       "  <thead>\n",
       "    <tr style=\"text-align: right;\">\n",
       "      <th></th>\n",
       "      <th>Hypothesis</th>\n",
       "      <th>Reach</th>\n",
       "      <th>Impact</th>\n",
       "      <th>Confidence</th>\n",
       "      <th>Efforts</th>\n",
       "      <th>ICE</th>\n",
       "    </tr>\n",
       "  </thead>\n",
       "  <tbody>\n",
       "    <tr>\n",
       "      <th>8</th>\n",
       "      <td>Запустить акцию, дающую скидку на товар в день...</td>\n",
       "      <td>1</td>\n",
       "      <td>9</td>\n",
       "      <td>9</td>\n",
       "      <td>5</td>\n",
       "      <td>16.200000</td>\n",
       "    </tr>\n",
       "    <tr>\n",
       "      <th>0</th>\n",
       "      <td>Добавить два новых канала привлечения трафика,...</td>\n",
       "      <td>3</td>\n",
       "      <td>10</td>\n",
       "      <td>8</td>\n",
       "      <td>6</td>\n",
       "      <td>13.333333</td>\n",
       "    </tr>\n",
       "    <tr>\n",
       "      <th>7</th>\n",
       "      <td>Добавить форму подписки на все основные страни...</td>\n",
       "      <td>10</td>\n",
       "      <td>7</td>\n",
       "      <td>8</td>\n",
       "      <td>5</td>\n",
       "      <td>11.200000</td>\n",
       "    </tr>\n",
       "    <tr>\n",
       "      <th>6</th>\n",
       "      <td>Показать на главной странице баннеры с актуаль...</td>\n",
       "      <td>5</td>\n",
       "      <td>3</td>\n",
       "      <td>8</td>\n",
       "      <td>3</td>\n",
       "      <td>8.000000</td>\n",
       "    </tr>\n",
       "    <tr>\n",
       "      <th>2</th>\n",
       "      <td>Добавить блоки рекомендаций товаров на сайт ин...</td>\n",
       "      <td>8</td>\n",
       "      <td>3</td>\n",
       "      <td>7</td>\n",
       "      <td>3</td>\n",
       "      <td>7.000000</td>\n",
       "    </tr>\n",
       "    <tr>\n",
       "      <th>1</th>\n",
       "      <td>Запустить собственную службу доставки, что сок...</td>\n",
       "      <td>2</td>\n",
       "      <td>5</td>\n",
       "      <td>4</td>\n",
       "      <td>10</td>\n",
       "      <td>2.000000</td>\n",
       "    </tr>\n",
       "    <tr>\n",
       "      <th>5</th>\n",
       "      <td>Добавить страницу отзывов клиентов о магазине,...</td>\n",
       "      <td>3</td>\n",
       "      <td>2</td>\n",
       "      <td>2</td>\n",
       "      <td>3</td>\n",
       "      <td>1.333333</td>\n",
       "    </tr>\n",
       "    <tr>\n",
       "      <th>3</th>\n",
       "      <td>Изменить структура категорий, что увеличит кон...</td>\n",
       "      <td>8</td>\n",
       "      <td>3</td>\n",
       "      <td>3</td>\n",
       "      <td>8</td>\n",
       "      <td>1.125000</td>\n",
       "    </tr>\n",
       "    <tr>\n",
       "      <th>4</th>\n",
       "      <td>Изменить цвет фона главной страницы, чтобы уве...</td>\n",
       "      <td>3</td>\n",
       "      <td>1</td>\n",
       "      <td>1</td>\n",
       "      <td>1</td>\n",
       "      <td>1.000000</td>\n",
       "    </tr>\n",
       "  </tbody>\n",
       "</table>\n",
       "</div>"
      ],
      "text/plain": [
       "                                          Hypothesis  Reach  Impact  \\\n",
       "8  Запустить акцию, дающую скидку на товар в день...      1       9   \n",
       "0  Добавить два новых канала привлечения трафика,...      3      10   \n",
       "7  Добавить форму подписки на все основные страни...     10       7   \n",
       "6  Показать на главной странице баннеры с актуаль...      5       3   \n",
       "2  Добавить блоки рекомендаций товаров на сайт ин...      8       3   \n",
       "1  Запустить собственную службу доставки, что сок...      2       5   \n",
       "5  Добавить страницу отзывов клиентов о магазине,...      3       2   \n",
       "3  Изменить структура категорий, что увеличит кон...      8       3   \n",
       "4  Изменить цвет фона главной страницы, чтобы уве...      3       1   \n",
       "\n",
       "   Confidence  Efforts        ICE  \n",
       "8           9        5  16.200000  \n",
       "0           8        6  13.333333  \n",
       "7           8        5  11.200000  \n",
       "6           8        3   8.000000  \n",
       "2           7        3   7.000000  \n",
       "1           4       10   2.000000  \n",
       "5           2        3   1.333333  \n",
       "3           3        8   1.125000  \n",
       "4           1        1   1.000000  "
      ]
     },
     "execution_count": 6,
     "metadata": {},
     "output_type": "execute_result"
    }
   ],
   "source": [
    "hypothesis.sort_values('ICE', ascending=False)"
   ]
  },
  {
   "cell_type": "markdown",
   "metadata": {},
   "source": [
    "### Примените фреймворк RICE для приоритизации гипотез. Отсортируйте их по убыванию приоритета."
   ]
  },
  {
   "cell_type": "code",
   "execution_count": 7,
   "metadata": {},
   "outputs": [],
   "source": [
    "hypothesis['RICE'] = hypothesis['Reach'] * hypothesis['Impact'] * hypothesis['Confidence'] / hypothesis['Efforts']"
   ]
  },
  {
   "cell_type": "code",
   "execution_count": 8,
   "metadata": {
    "scrolled": true
   },
   "outputs": [
    {
     "data": {
      "text/html": [
       "<div>\n",
       "<style scoped>\n",
       "    .dataframe tbody tr th:only-of-type {\n",
       "        vertical-align: middle;\n",
       "    }\n",
       "\n",
       "    .dataframe tbody tr th {\n",
       "        vertical-align: top;\n",
       "    }\n",
       "\n",
       "    .dataframe thead th {\n",
       "        text-align: right;\n",
       "    }\n",
       "</style>\n",
       "<table border=\"1\" class=\"dataframe\">\n",
       "  <thead>\n",
       "    <tr style=\"text-align: right;\">\n",
       "      <th></th>\n",
       "      <th>Hypothesis</th>\n",
       "      <th>Reach</th>\n",
       "      <th>Impact</th>\n",
       "      <th>Confidence</th>\n",
       "      <th>Efforts</th>\n",
       "      <th>ICE</th>\n",
       "      <th>RICE</th>\n",
       "    </tr>\n",
       "  </thead>\n",
       "  <tbody>\n",
       "    <tr>\n",
       "      <th>7</th>\n",
       "      <td>Добавить форму подписки на все основные страни...</td>\n",
       "      <td>10</td>\n",
       "      <td>7</td>\n",
       "      <td>8</td>\n",
       "      <td>5</td>\n",
       "      <td>11.200000</td>\n",
       "      <td>112.0</td>\n",
       "    </tr>\n",
       "    <tr>\n",
       "      <th>2</th>\n",
       "      <td>Добавить блоки рекомендаций товаров на сайт ин...</td>\n",
       "      <td>8</td>\n",
       "      <td>3</td>\n",
       "      <td>7</td>\n",
       "      <td>3</td>\n",
       "      <td>7.000000</td>\n",
       "      <td>56.0</td>\n",
       "    </tr>\n",
       "    <tr>\n",
       "      <th>0</th>\n",
       "      <td>Добавить два новых канала привлечения трафика,...</td>\n",
       "      <td>3</td>\n",
       "      <td>10</td>\n",
       "      <td>8</td>\n",
       "      <td>6</td>\n",
       "      <td>13.333333</td>\n",
       "      <td>40.0</td>\n",
       "    </tr>\n",
       "    <tr>\n",
       "      <th>6</th>\n",
       "      <td>Показать на главной странице баннеры с актуаль...</td>\n",
       "      <td>5</td>\n",
       "      <td>3</td>\n",
       "      <td>8</td>\n",
       "      <td>3</td>\n",
       "      <td>8.000000</td>\n",
       "      <td>40.0</td>\n",
       "    </tr>\n",
       "    <tr>\n",
       "      <th>8</th>\n",
       "      <td>Запустить акцию, дающую скидку на товар в день...</td>\n",
       "      <td>1</td>\n",
       "      <td>9</td>\n",
       "      <td>9</td>\n",
       "      <td>5</td>\n",
       "      <td>16.200000</td>\n",
       "      <td>16.2</td>\n",
       "    </tr>\n",
       "    <tr>\n",
       "      <th>3</th>\n",
       "      <td>Изменить структура категорий, что увеличит кон...</td>\n",
       "      <td>8</td>\n",
       "      <td>3</td>\n",
       "      <td>3</td>\n",
       "      <td>8</td>\n",
       "      <td>1.125000</td>\n",
       "      <td>9.0</td>\n",
       "    </tr>\n",
       "    <tr>\n",
       "      <th>1</th>\n",
       "      <td>Запустить собственную службу доставки, что сок...</td>\n",
       "      <td>2</td>\n",
       "      <td>5</td>\n",
       "      <td>4</td>\n",
       "      <td>10</td>\n",
       "      <td>2.000000</td>\n",
       "      <td>4.0</td>\n",
       "    </tr>\n",
       "    <tr>\n",
       "      <th>5</th>\n",
       "      <td>Добавить страницу отзывов клиентов о магазине,...</td>\n",
       "      <td>3</td>\n",
       "      <td>2</td>\n",
       "      <td>2</td>\n",
       "      <td>3</td>\n",
       "      <td>1.333333</td>\n",
       "      <td>4.0</td>\n",
       "    </tr>\n",
       "    <tr>\n",
       "      <th>4</th>\n",
       "      <td>Изменить цвет фона главной страницы, чтобы уве...</td>\n",
       "      <td>3</td>\n",
       "      <td>1</td>\n",
       "      <td>1</td>\n",
       "      <td>1</td>\n",
       "      <td>1.000000</td>\n",
       "      <td>3.0</td>\n",
       "    </tr>\n",
       "  </tbody>\n",
       "</table>\n",
       "</div>"
      ],
      "text/plain": [
       "                                          Hypothesis  Reach  Impact  \\\n",
       "7  Добавить форму подписки на все основные страни...     10       7   \n",
       "2  Добавить блоки рекомендаций товаров на сайт ин...      8       3   \n",
       "0  Добавить два новых канала привлечения трафика,...      3      10   \n",
       "6  Показать на главной странице баннеры с актуаль...      5       3   \n",
       "8  Запустить акцию, дающую скидку на товар в день...      1       9   \n",
       "3  Изменить структура категорий, что увеличит кон...      8       3   \n",
       "1  Запустить собственную службу доставки, что сок...      2       5   \n",
       "5  Добавить страницу отзывов клиентов о магазине,...      3       2   \n",
       "4  Изменить цвет фона главной страницы, чтобы уве...      3       1   \n",
       "\n",
       "   Confidence  Efforts        ICE   RICE  \n",
       "7           8        5  11.200000  112.0  \n",
       "2           7        3   7.000000   56.0  \n",
       "0           8        6  13.333333   40.0  \n",
       "6           8        3   8.000000   40.0  \n",
       "8           9        5  16.200000   16.2  \n",
       "3           3        8   1.125000    9.0  \n",
       "1           4       10   2.000000    4.0  \n",
       "5           2        3   1.333333    4.0  \n",
       "4           1        1   1.000000    3.0  "
      ]
     },
     "execution_count": 8,
     "metadata": {},
     "output_type": "execute_result"
    }
   ],
   "source": [
    "hypothesis.sort_values('RICE', ascending=False)"
   ]
  },
  {
   "cell_type": "markdown",
   "metadata": {},
   "source": [
    "### Укажите, как изменилась приоритизация гипотез при применении RICE вместо ICE. Объясните, почему так произошло."
   ]
  },
  {
   "cell_type": "code",
   "execution_count": 9,
   "metadata": {},
   "outputs": [
    {
     "data": {
      "text/html": [
       "<style  type=\"text/css\" >\n",
       "</style><table id=\"T_5a79e_\" ><thead>    <tr>        <th class=\"col_heading level0 col0\" >ICE</th>        <th class=\"col_heading level0 col1\" >RICE</th>    </tr></thead><tbody>\n",
       "                <tr>\n",
       "                                <td id=\"T_5a79e_row0_col0\" class=\"data row0 col0\" >8</td>\n",
       "                        <td id=\"T_5a79e_row0_col1\" class=\"data row0 col1\" >7</td>\n",
       "            </tr>\n",
       "            <tr>\n",
       "                                <td id=\"T_5a79e_row1_col0\" class=\"data row1 col0\" >0</td>\n",
       "                        <td id=\"T_5a79e_row1_col1\" class=\"data row1 col1\" >2</td>\n",
       "            </tr>\n",
       "            <tr>\n",
       "                                <td id=\"T_5a79e_row2_col0\" class=\"data row2 col0\" >7</td>\n",
       "                        <td id=\"T_5a79e_row2_col1\" class=\"data row2 col1\" >0</td>\n",
       "            </tr>\n",
       "            <tr>\n",
       "                                <td id=\"T_5a79e_row3_col0\" class=\"data row3 col0\" >6</td>\n",
       "                        <td id=\"T_5a79e_row3_col1\" class=\"data row3 col1\" >6</td>\n",
       "            </tr>\n",
       "            <tr>\n",
       "                                <td id=\"T_5a79e_row4_col0\" class=\"data row4 col0\" >2</td>\n",
       "                        <td id=\"T_5a79e_row4_col1\" class=\"data row4 col1\" >8</td>\n",
       "            </tr>\n",
       "            <tr>\n",
       "                                <td id=\"T_5a79e_row5_col0\" class=\"data row5 col0\" >1</td>\n",
       "                        <td id=\"T_5a79e_row5_col1\" class=\"data row5 col1\" >3</td>\n",
       "            </tr>\n",
       "            <tr>\n",
       "                                <td id=\"T_5a79e_row6_col0\" class=\"data row6 col0\" >5</td>\n",
       "                        <td id=\"T_5a79e_row6_col1\" class=\"data row6 col1\" >1</td>\n",
       "            </tr>\n",
       "            <tr>\n",
       "                                <td id=\"T_5a79e_row7_col0\" class=\"data row7 col0\" >3</td>\n",
       "                        <td id=\"T_5a79e_row7_col1\" class=\"data row7 col1\" >5</td>\n",
       "            </tr>\n",
       "            <tr>\n",
       "                                <td id=\"T_5a79e_row8_col0\" class=\"data row8 col0\" >4</td>\n",
       "                        <td id=\"T_5a79e_row8_col1\" class=\"data row8 col1\" >4</td>\n",
       "            </tr>\n",
       "    </tbody></table>"
      ],
      "text/plain": [
       "<pandas.io.formats.style.Styler at 0x7fd0c08514f0>"
      ]
     },
     "execution_count": 9,
     "metadata": {},
     "output_type": "execute_result"
    }
   ],
   "source": [
    "pd.DataFrame(data={'ICE': hypothesis.sort_values('ICE', ascending=False).index.values,\n",
    "                   'RICE': hypothesis.sort_values('RICE', ascending=False).index.values}).style.hide_index()"
   ]
  },
  {
   "cell_type": "markdown",
   "metadata": {},
   "source": [
    "Приоритизация гипотез изменилась из-за различия в формулах, RICE учитывает охват"
   ]
  },
  {
   "cell_type": "markdown",
   "metadata": {},
   "source": [
    "## часть. Анализ A/B-теста"
   ]
  },
  {
   "cell_type": "code",
   "execution_count": 10,
   "metadata": {
    "scrolled": false
   },
   "outputs": [
    {
     "data": {
      "text/html": [
       "<div>\n",
       "<style scoped>\n",
       "    .dataframe tbody tr th:only-of-type {\n",
       "        vertical-align: middle;\n",
       "    }\n",
       "\n",
       "    .dataframe tbody tr th {\n",
       "        vertical-align: top;\n",
       "    }\n",
       "\n",
       "    .dataframe thead th {\n",
       "        text-align: right;\n",
       "    }\n",
       "</style>\n",
       "<table border=\"1\" class=\"dataframe\">\n",
       "  <thead>\n",
       "    <tr style=\"text-align: right;\">\n",
       "      <th></th>\n",
       "      <th>transactionId</th>\n",
       "      <th>visitorId</th>\n",
       "      <th>date</th>\n",
       "      <th>revenue</th>\n",
       "      <th>group</th>\n",
       "    </tr>\n",
       "  </thead>\n",
       "  <tbody>\n",
       "    <tr>\n",
       "      <th>0</th>\n",
       "      <td>3667963787</td>\n",
       "      <td>3312258926</td>\n",
       "      <td>2019-08-15</td>\n",
       "      <td>1650</td>\n",
       "      <td>B</td>\n",
       "    </tr>\n",
       "    <tr>\n",
       "      <th>1</th>\n",
       "      <td>2804400009</td>\n",
       "      <td>3642806036</td>\n",
       "      <td>2019-08-15</td>\n",
       "      <td>730</td>\n",
       "      <td>B</td>\n",
       "    </tr>\n",
       "    <tr>\n",
       "      <th>2</th>\n",
       "      <td>2961555356</td>\n",
       "      <td>4069496402</td>\n",
       "      <td>2019-08-15</td>\n",
       "      <td>400</td>\n",
       "      <td>A</td>\n",
       "    </tr>\n",
       "    <tr>\n",
       "      <th>3</th>\n",
       "      <td>3797467345</td>\n",
       "      <td>1196621759</td>\n",
       "      <td>2019-08-15</td>\n",
       "      <td>9759</td>\n",
       "      <td>B</td>\n",
       "    </tr>\n",
       "    <tr>\n",
       "      <th>4</th>\n",
       "      <td>2282983706</td>\n",
       "      <td>2322279887</td>\n",
       "      <td>2019-08-15</td>\n",
       "      <td>2308</td>\n",
       "      <td>B</td>\n",
       "    </tr>\n",
       "  </tbody>\n",
       "</table>\n",
       "</div>"
      ],
      "text/plain": [
       "   transactionId   visitorId       date  revenue group\n",
       "0     3667963787  3312258926 2019-08-15     1650     B\n",
       "1     2804400009  3642806036 2019-08-15      730     B\n",
       "2     2961555356  4069496402 2019-08-15      400     A\n",
       "3     3797467345  1196621759 2019-08-15     9759     B\n",
       "4     2282983706  2322279887 2019-08-15     2308     B"
      ]
     },
     "execution_count": 10,
     "metadata": {},
     "output_type": "execute_result"
    }
   ],
   "source": [
    "orders.head()"
   ]
  },
  {
   "cell_type": "code",
   "execution_count": 11,
   "metadata": {
    "scrolled": false
   },
   "outputs": [
    {
     "name": "stdout",
     "output_type": "stream",
     "text": [
      "Количество пользователей в группе А: 503\n",
      "Количество пользователей в группе B: 586\n",
      "Количество пользователей оказавшихся в двух группах: 58\n",
      "Их доля от общего числа пользователей: 5.63%\n"
     ]
    }
   ],
   "source": [
    "#создадим список уникальных пользователей в двух группах,\n",
    "#найдем количество пересечений и его отношение к общему числу пользователей\n",
    "t1 = orders.query('group == \"A\"')['visitorId'].unique()\n",
    "t2 = orders.query('group == \"B\"')['visitorId'].unique()\n",
    "cross = set(t1).intersection(set(t2))\n",
    "n_cross = len(cross)\n",
    "cross_share = n_cross / len(orders['visitorId'].unique())\n",
    "print(f'Количество пользователей в группе А: {len(t1)}')\n",
    "print(f'Количество пользователей в группе B: {len(t2)}')\n",
    "print(f'Количество пользователей оказавшихся в двух группах: {n_cross}')\n",
    "print(f'Их доля от общего числа пользователей: {cross_share:.2%}')"
   ]
  },
  {
   "cell_type": "code",
   "execution_count": 12,
   "metadata": {},
   "outputs": [],
   "source": [
    "#данные были испорчены пользователями оказавшимися в обеих группах, очистим таблицу orders\n",
    "#в дальнейшем при работе с очищенными данными можно будет использовать query('visitorId not in @cross')"
   ]
  },
  {
   "cell_type": "code",
   "execution_count": 13,
   "metadata": {
    "scrolled": false
   },
   "outputs": [
    {
     "data": {
      "text/html": [
       "<div>\n",
       "<style scoped>\n",
       "    .dataframe tbody tr th:only-of-type {\n",
       "        vertical-align: middle;\n",
       "    }\n",
       "\n",
       "    .dataframe tbody tr th {\n",
       "        vertical-align: top;\n",
       "    }\n",
       "\n",
       "    .dataframe thead th {\n",
       "        text-align: right;\n",
       "    }\n",
       "</style>\n",
       "<table border=\"1\" class=\"dataframe\">\n",
       "  <thead>\n",
       "    <tr style=\"text-align: right;\">\n",
       "      <th></th>\n",
       "      <th>date</th>\n",
       "      <th>group</th>\n",
       "      <th>visitors</th>\n",
       "    </tr>\n",
       "  </thead>\n",
       "  <tbody>\n",
       "    <tr>\n",
       "      <th>0</th>\n",
       "      <td>2019-08-01</td>\n",
       "      <td>A</td>\n",
       "      <td>719</td>\n",
       "    </tr>\n",
       "    <tr>\n",
       "      <th>1</th>\n",
       "      <td>2019-08-02</td>\n",
       "      <td>A</td>\n",
       "      <td>619</td>\n",
       "    </tr>\n",
       "    <tr>\n",
       "      <th>2</th>\n",
       "      <td>2019-08-03</td>\n",
       "      <td>A</td>\n",
       "      <td>507</td>\n",
       "    </tr>\n",
       "    <tr>\n",
       "      <th>3</th>\n",
       "      <td>2019-08-04</td>\n",
       "      <td>A</td>\n",
       "      <td>717</td>\n",
       "    </tr>\n",
       "    <tr>\n",
       "      <th>4</th>\n",
       "      <td>2019-08-05</td>\n",
       "      <td>A</td>\n",
       "      <td>756</td>\n",
       "    </tr>\n",
       "  </tbody>\n",
       "</table>\n",
       "</div>"
      ],
      "text/plain": [
       "        date group  visitors\n",
       "0 2019-08-01     A       719\n",
       "1 2019-08-02     A       619\n",
       "2 2019-08-03     A       507\n",
       "3 2019-08-04     A       717\n",
       "4 2019-08-05     A       756"
      ]
     },
     "execution_count": 13,
     "metadata": {},
     "output_type": "execute_result"
    }
   ],
   "source": [
    "visitors.head()"
   ]
  },
  {
   "cell_type": "markdown",
   "metadata": {},
   "source": [
    "Создадим таблицу кумулятивных показателей по датам и группам"
   ]
  },
  {
   "cell_type": "code",
   "execution_count": 14,
   "metadata": {},
   "outputs": [],
   "source": [
    "#сгруппируем таблицу orders\n",
    "orders_grouped = (orders.groupby(['date','group'], as_index=False)\n",
    "                        .agg({'transactionId':'nunique','visitorId':'nunique','revenue':'sum'}))\\\n",
    "                        .rename(columns={'transactionId':'orders','visitorId':'buyers'})\n",
    "orders_grouped['group_copy'] = orders_grouped['group']\n",
    "orders_grouped = orders_grouped.set_index(['date','group'])\n",
    "orders_cumsum = orders_grouped.sort_values(['date','group']).groupby('group_copy').cumsum().reset_index()"
   ]
  },
  {
   "cell_type": "code",
   "execution_count": 15,
   "metadata": {},
   "outputs": [],
   "source": [
    "#найдем сумму визитов по дням в каждой группе \n",
    "visitors_cumsum = visitors.groupby(['date','group'], as_index=False).agg({'visitors':'sum'}).sort_values(['date','group'])\n",
    "visitors_cumsum['group_copy'] = visitors_cumsum['group']\n",
    "visitors_cumsum = visitors_cumsum.set_index(['date','group']).groupby('group_copy').cumsum().reset_index()    "
   ]
  },
  {
   "cell_type": "code",
   "execution_count": 16,
   "metadata": {
    "scrolled": true
   },
   "outputs": [],
   "source": [
    "#объеденим данные по заказам и визитам\n",
    "cummulative = orders_cumsum.join(visitors_cumsum[['visitors']])\n",
    "cummulative['average_check'] = cummulative['revenue'] / cummulative['orders']\n",
    "cummulative['conversion'] = cummulative['orders'] / cummulative['visitors']"
   ]
  },
  {
   "cell_type": "code",
   "execution_count": 17,
   "metadata": {
    "scrolled": true
   },
   "outputs": [
    {
     "data": {
      "text/html": [
       "<div>\n",
       "<style scoped>\n",
       "    .dataframe tbody tr th:only-of-type {\n",
       "        vertical-align: middle;\n",
       "    }\n",
       "\n",
       "    .dataframe tbody tr th {\n",
       "        vertical-align: top;\n",
       "    }\n",
       "\n",
       "    .dataframe thead th {\n",
       "        text-align: right;\n",
       "    }\n",
       "</style>\n",
       "<table border=\"1\" class=\"dataframe\">\n",
       "  <thead>\n",
       "    <tr style=\"text-align: right;\">\n",
       "      <th></th>\n",
       "      <th>date</th>\n",
       "      <th>group</th>\n",
       "      <th>orders</th>\n",
       "      <th>buyers</th>\n",
       "      <th>revenue</th>\n",
       "      <th>visitors</th>\n",
       "      <th>average_check</th>\n",
       "      <th>conversion</th>\n",
       "    </tr>\n",
       "  </thead>\n",
       "  <tbody>\n",
       "    <tr>\n",
       "      <th>0</th>\n",
       "      <td>2019-08-01</td>\n",
       "      <td>A</td>\n",
       "      <td>24</td>\n",
       "      <td>20</td>\n",
       "      <td>148579</td>\n",
       "      <td>719</td>\n",
       "      <td>6190.791667</td>\n",
       "      <td>0.033380</td>\n",
       "    </tr>\n",
       "    <tr>\n",
       "      <th>1</th>\n",
       "      <td>2019-08-01</td>\n",
       "      <td>B</td>\n",
       "      <td>21</td>\n",
       "      <td>20</td>\n",
       "      <td>101217</td>\n",
       "      <td>713</td>\n",
       "      <td>4819.857143</td>\n",
       "      <td>0.029453</td>\n",
       "    </tr>\n",
       "    <tr>\n",
       "      <th>2</th>\n",
       "      <td>2019-08-02</td>\n",
       "      <td>A</td>\n",
       "      <td>44</td>\n",
       "      <td>39</td>\n",
       "      <td>242401</td>\n",
       "      <td>1338</td>\n",
       "      <td>5509.113636</td>\n",
       "      <td>0.032885</td>\n",
       "    </tr>\n",
       "    <tr>\n",
       "      <th>3</th>\n",
       "      <td>2019-08-02</td>\n",
       "      <td>B</td>\n",
       "      <td>45</td>\n",
       "      <td>43</td>\n",
       "      <td>266748</td>\n",
       "      <td>1294</td>\n",
       "      <td>5927.733333</td>\n",
       "      <td>0.034776</td>\n",
       "    </tr>\n",
       "    <tr>\n",
       "      <th>4</th>\n",
       "      <td>2019-08-03</td>\n",
       "      <td>A</td>\n",
       "      <td>68</td>\n",
       "      <td>63</td>\n",
       "      <td>354874</td>\n",
       "      <td>1845</td>\n",
       "      <td>5218.735294</td>\n",
       "      <td>0.036856</td>\n",
       "    </tr>\n",
       "  </tbody>\n",
       "</table>\n",
       "</div>"
      ],
      "text/plain": [
       "        date group  orders  buyers  revenue  visitors  average_check  \\\n",
       "0 2019-08-01     A      24      20   148579       719    6190.791667   \n",
       "1 2019-08-01     B      21      20   101217       713    4819.857143   \n",
       "2 2019-08-02     A      44      39   242401      1338    5509.113636   \n",
       "3 2019-08-02     B      45      43   266748      1294    5927.733333   \n",
       "4 2019-08-03     A      68      63   354874      1845    5218.735294   \n",
       "\n",
       "   conversion  \n",
       "0    0.033380  \n",
       "1    0.029453  \n",
       "2    0.032885  \n",
       "3    0.034776  \n",
       "4    0.036856  "
      ]
     },
     "execution_count": 17,
     "metadata": {},
     "output_type": "execute_result"
    }
   ],
   "source": [
    "cummulative.head()"
   ]
  },
  {
   "cell_type": "markdown",
   "metadata": {},
   "source": [
    "### Постройте график кумулятивной выручки по группам"
   ]
  },
  {
   "cell_type": "code",
   "execution_count": 18,
   "metadata": {},
   "outputs": [
    {
     "data": {
      "image/png": "[encoded data removed]",
      "text/plain": [
       "<Figure size 432x288 with 1 Axes>"
      ]
     },
     "metadata": {
      "needs_background": "light"
     },
     "output_type": "display_data"
    }
   ],
   "source": [
    "cummulativeA = cummulative[cummulative['group']=='A'][['date', 'revenue']]\n",
    "cummulativeB = cummulative[cummulative['group']=='B'][['date', 'revenue']]\n",
    "plt.plot(cummulativeA.iloc[:,0].to_frame(), cummulativeA.iloc[:,1].to_frame(), label='A' )\n",
    "plt.plot(cummulativeB.iloc[:,0].to_frame(), cummulativeB.iloc[:,1].to_frame(), label='B')\n",
    "plt.title('График кумулятивной выручки')\n",
    "plt.ylabel(\"Выручка\")\n",
    "plt.xticks(rotation=45)\n",
    "plt.legend()\n",
    "plt.show()"
   ]
  },
  {
   "cell_type": "markdown",
   "metadata": {},
   "source": [
    "В группе В наблядается резкий рост, возможно выброс. Выручка в группе А растет линейно"
   ]
  },
  {
   "cell_type": "markdown",
   "metadata": {},
   "source": [
    "### Постройте график кумулятивного среднего чека по группам"
   ]
  },
  {
   "cell_type": "code",
   "execution_count": 19,
   "metadata": {
    "scrolled": true
   },
   "outputs": [
    {
     "data": {
      "image/png": "[encoded data removed]",
      "text/plain": [
       "<Figure size 432x288 with 1 Axes>"
      ]
     },
     "metadata": {
      "needs_background": "light"
     },
     "output_type": "display_data"
    }
   ],
   "source": [
    "cummulativeA = cummulative[cummulative['group']=='A'][['date', 'average_check']]\n",
    "cummulativeB = cummulative[cummulative['group']=='B'][['date', 'average_check']]\n",
    "plt.plot(cummulativeA.iloc[:,0].to_frame(), cummulativeA.iloc[:,1].to_frame(), label='A' )\n",
    "plt.plot(cummulativeB.iloc[:,0].to_frame(), cummulativeB.iloc[:,1].to_frame(), label='B')\n",
    "plt.title('График кумулятивного среднего чека')\n",
    "plt.ylabel(\"Выручка\")\n",
    "plt.xticks(rotation=45)\n",
    "plt.legend()\n",
    "plt.show()"
   ]
  },
  {
   "cell_type": "markdown",
   "metadata": {},
   "source": [
    "Ситуация схожа с прошлым графиком. Средний чек в группе В резко растет, но, в отличие от прошлого графика, наблюдается отскок"
   ]
  },
  {
   "cell_type": "markdown",
   "metadata": {},
   "source": [
    "### Постройте график относительного изменения кумулятивного среднего чека группы B к группе A"
   ]
  },
  {
   "cell_type": "code",
   "execution_count": 20,
   "metadata": {
    "scrolled": true
   },
   "outputs": [
    {
     "data": {
      "image/png": "[encoded data removed]",
      "text/plain": [
       "<Figure size 432x288 with 1 Axes>"
      ]
     },
     "metadata": {
      "needs_background": "light"
     },
     "output_type": "display_data"
    }
   ],
   "source": [
    "temp = (cummulativeA[['date', 'average_check']].merge(cummulativeB[['date', 'average_check']], \n",
    "                                            left_on='date', right_on='date', how='left', suffixes=['_A', '_B']))\n",
    "plt.plot(temp['date'], temp['average_check_B'] / temp['average_check_A']-1)\n",
    "plt.title('График относительного изменения кумулятивного среднего чека группы B к группе A')\n",
    "plt.axhline(y=0, color='red', linestyle='-')\n",
    "plt.xticks(rotation=45)\n",
    "plt.show()"
   ]
  },
  {
   "cell_type": "markdown",
   "metadata": {},
   "source": [
    "Снова та же ситуация, резкий рост и спад. Все три графика демонистрируют одинаковую картину"
   ]
  },
  {
   "cell_type": "markdown",
   "metadata": {},
   "source": [
    "### Постройте график кумулятивной конверсии по группам"
   ]
  },
  {
   "cell_type": "code",
   "execution_count": 21,
   "metadata": {
    "scrolled": true
   },
   "outputs": [
    {
     "data": {
      "image/png": "[encoded data removed]",
      "text/plain": [
       "<Figure size 432x288 with 1 Axes>"
      ]
     },
     "metadata": {
      "needs_background": "light"
     },
     "output_type": "display_data"
    }
   ],
   "source": [
    "cummulativeA = cummulative[cummulative['group']=='A'][['date', 'conversion']]\n",
    "cummulativeB = cummulative[cummulative['group']=='B'][['date', 'conversion']]\n",
    "plt.plot(cummulativeA.iloc[:,0].to_frame(), cummulativeA.iloc[:,1].to_frame(), label='A' )\n",
    "plt.plot(cummulativeB.iloc[:,0].to_frame(), cummulativeB.iloc[:,1].to_frame(), label='B')\n",
    "plt.title('График кумулятивной конверсии по группам')\n",
    "plt.ylabel(\"Выручка\")\n",
    "plt.xticks(rotation=45)\n",
    "plt.legend()\n",
    "plt.show()"
   ]
  },
  {
   "cell_type": "markdown",
   "metadata": {},
   "source": [
    "Исключая пики, конверсия группы А колеблется в коридоре от 0,029 и до 0,031. Конверсия В находится в промежутке от 0,033 до 0,036 и выглядит лучше группы А"
   ]
  },
  {
   "cell_type": "markdown",
   "metadata": {},
   "source": [
    "### Постройте график относительного изменения кумулятивной конверсии группы B к группе A"
   ]
  },
  {
   "cell_type": "code",
   "execution_count": 22,
   "metadata": {},
   "outputs": [
    {
     "data": {
      "image/png": "[encoded data removed]",
      "text/plain": [
       "<Figure size 432x288 with 1 Axes>"
      ]
     },
     "metadata": {
      "needs_background": "light"
     },
     "output_type": "display_data"
    }
   ],
   "source": [
    "temp = (cummulativeA[['date', 'conversion']].merge(cummulativeB[['date', 'conversion']], \n",
    "                                            left_on='date', right_on='date', how='left', suffixes=['_A', '_B']))\n",
    "plt.plot(temp['date'], temp['conversion_B'] / temp['conversion_A']-1)\n",
    "plt.title('График относительного изменения кумулятивной конверсии группы B к группе A')\n",
    "plt.axhline(y=0, color='red', linestyle='-')\n",
    "plt.xticks(rotation=45)\n",
    "plt.show()"
   ]
  },
  {
   "cell_type": "markdown",
   "metadata": {},
   "source": [
    "На этом отрезке конверсия группы В выглядит лучше конверсии А"
   ]
  },
  {
   "cell_type": "markdown",
   "metadata": {},
   "source": [
    "### Постройте точечный график количества заказов по пользователям"
   ]
  },
  {
   "cell_type": "code",
   "execution_count": 23,
   "metadata": {},
   "outputs": [
    {
     "data": {
      "text/html": [
       "<div>\n",
       "<style scoped>\n",
       "    .dataframe tbody tr th:only-of-type {\n",
       "        vertical-align: middle;\n",
       "    }\n",
       "\n",
       "    .dataframe tbody tr th {\n",
       "        vertical-align: top;\n",
       "    }\n",
       "\n",
       "    .dataframe thead th {\n",
       "        text-align: right;\n",
       "    }\n",
       "</style>\n",
       "<table border=\"1\" class=\"dataframe\">\n",
       "  <thead>\n",
       "    <tr style=\"text-align: right;\">\n",
       "      <th></th>\n",
       "      <th>visitorId</th>\n",
       "      <th>orders</th>\n",
       "    </tr>\n",
       "  </thead>\n",
       "  <tbody>\n",
       "    <tr>\n",
       "      <th>0</th>\n",
       "      <td>5114589</td>\n",
       "      <td>1</td>\n",
       "    </tr>\n",
       "    <tr>\n",
       "      <th>1</th>\n",
       "      <td>6958315</td>\n",
       "      <td>1</td>\n",
       "    </tr>\n",
       "    <tr>\n",
       "      <th>2</th>\n",
       "      <td>8300375</td>\n",
       "      <td>2</td>\n",
       "    </tr>\n",
       "    <tr>\n",
       "      <th>3</th>\n",
       "      <td>11685486</td>\n",
       "      <td>1</td>\n",
       "    </tr>\n",
       "    <tr>\n",
       "      <th>4</th>\n",
       "      <td>39475350</td>\n",
       "      <td>1</td>\n",
       "    </tr>\n",
       "  </tbody>\n",
       "</table>\n",
       "</div>"
      ],
      "text/plain": [
       "   visitorId  orders\n",
       "0    5114589       1\n",
       "1    6958315       1\n",
       "2    8300375       2\n",
       "3   11685486       1\n",
       "4   39475350       1"
      ]
     },
     "execution_count": 23,
     "metadata": {},
     "output_type": "execute_result"
    }
   ],
   "source": [
    "#передадим переменной фрейм с id пользователя и количество его заказов\n",
    "orders_per_user = orders.groupby('visitorId', as_index=False).agg({'transactionId':'nunique'})\\\n",
    "                         .rename(columns={'transactionId':'orders'})\n",
    "orders_per_user.head()"
   ]
  },
  {
   "cell_type": "code",
   "execution_count": 24,
   "metadata": {
    "scrolled": true
   },
   "outputs": [
    {
     "data": {
      "image/png": "[encoded data removed]",
      "text/plain": [
       "<Figure size 432x288 with 1 Axes>"
      ]
     },
     "metadata": {
      "needs_background": "light"
     },
     "output_type": "display_data"
    }
   ],
   "source": [
    "x_values = pd.Series(range(0,len(orders_per_user['orders'])))\n",
    "plt.scatter(x_values, orders_per_user['orders'])\n",
    "plt.title('Точечный график количества заказов по пользователям')\n",
    "plt.xlabel('id пользователя')\n",
    "plt.ylabel('Количество заказов')\n",
    "plt.show()"
   ]
  },
  {
   "cell_type": "code",
   "execution_count": 25,
   "metadata": {},
   "outputs": [
    {
     "data": {
      "image/png": "[encoded data removed]",
      "text/plain": [
       "<Figure size 432x288 with 1 Axes>"
      ]
     },
     "metadata": {
      "needs_background": "light"
     },
     "output_type": "display_data"
    }
   ],
   "source": [
    "#посмотрим поближе\n",
    "x_values = pd.Series(range(0,len(orders_per_user.query('orders < 4')['orders'])))\n",
    "plt.scatter(x_values, orders_per_user.query('orders < 4')['orders'])\n",
    "plt.title('Точечный график количества заказов по пользователям')\n",
    "plt.xlabel('id пользователя')\n",
    "plt.ylabel('Количество заказов')\n",
    "plt.show()"
   ]
  },
  {
   "cell_type": "markdown",
   "metadata": {},
   "source": [
    "Большая часть клиентов совершает одну покупку"
   ]
  },
  {
   "cell_type": "markdown",
   "metadata": {},
   "source": [
    " ### Посчитайте 95-й и 99-й перцентили количества заказов на пользователя"
   ]
  },
  {
   "cell_type": "code",
   "execution_count": 26,
   "metadata": {},
   "outputs": [
    {
     "name": "stdout",
     "output_type": "stream",
     "text": [
      "90-й перцентиль: 1.00\n",
      "95-й перцентиль: 2.00\n",
      "99-й перцентиль: 4.00\n"
     ]
    }
   ],
   "source": [
    "print('90-й перцентиль: %.2f' % (np.percentile(orders_per_user['orders'], [90])))\n",
    "print('95-й перцентиль: %.2f' % (np.percentile(orders_per_user['orders'], [95])))\n",
    "print('99-й перцентиль: %.2f' % (np.percentile(orders_per_user['orders'], [99])))"
   ]
  },
  {
   "cell_type": "code",
   "execution_count": 27,
   "metadata": {},
   "outputs": [
    {
     "data": {
      "text/plain": [
       "11"
      ]
     },
     "execution_count": 27,
     "metadata": {},
     "output_type": "execute_result"
    }
   ],
   "source": [
    "#найдем самого выдающегося покупателя\n",
    "orders_per_user['orders'].max()"
   ]
  },
  {
   "cell_type": "code",
   "execution_count": 28,
   "metadata": {},
   "outputs": [],
   "source": [
    "#пускай аномальными будут клиенты с 4 и более заказами\n",
    "super_users = orders_per_user[orders_per_user['orders'] >= 4]['visitorId'].to_list()"
   ]
  },
  {
   "cell_type": "markdown",
   "metadata": {},
   "source": [
    "### Постройте точечный график стоимостей заказов"
   ]
  },
  {
   "cell_type": "code",
   "execution_count": 29,
   "metadata": {
    "scrolled": true
   },
   "outputs": [
    {
     "data": {
      "image/png": "[encoded data removed]",
      "text/plain": [
       "<Figure size 432x288 with 1 Axes>"
      ]
     },
     "metadata": {
      "needs_background": "light"
     },
     "output_type": "display_data"
    }
   ],
   "source": [
    "x_values = pd.Series(range(0,len(orders['revenue'])))\n",
    "plt.scatter(x_values, orders['revenue'])\n",
    "plt.title('Точечный график стоимостей заказов')\n",
    "plt.xlabel('id пользователя')\n",
    "plt.ylabel('Стоимость заказа в 1 млн руб.')\n",
    "plt.show()"
   ]
  },
  {
   "cell_type": "code",
   "execution_count": 30,
   "metadata": {},
   "outputs": [
    {
     "data": {
      "image/png": "[encoded data removed]",
      "text/plain": [
       "<Figure size 432x288 with 1 Axes>"
      ]
     },
     "metadata": {
      "needs_background": "light"
     },
     "output_type": "display_data"
    }
   ],
   "source": [
    "#посмотрим поближе без аномалий\n",
    "x_values = pd.Series(range(0,len(orders.query('revenue < 59000')['revenue'])))\n",
    "plt.scatter(x_values, orders.query('revenue < 59000')['revenue'])\n",
    "plt.title('Точечный график стоимостей заказов')\n",
    "plt.xlabel('id пользователя')\n",
    "plt.ylabel('Стоимость заказа в руб.')\n",
    "plt.show()"
   ]
  },
  {
   "cell_type": "markdown",
   "metadata": {},
   "source": [
    "Практически все заказы дешевле 100 000 рублей. Наблюдается два ярких выброса в виде заказа на 200 000 и более чем 1 200 000 рублей."
   ]
  },
  {
   "cell_type": "markdown",
   "metadata": {},
   "source": [
    "### Посчитайте 95-й и 99-й перцентили стоимости заказов"
   ]
  },
  {
   "cell_type": "code",
   "execution_count": 31,
   "metadata": {
    "scrolled": true
   },
   "outputs": [
    {
     "name": "stdout",
     "output_type": "stream",
     "text": [
      "90-й перцентиль: 18168.00\n",
      "95-й перцентиль: 28000.00\n",
      "99-й перцентиль: 58233.20\n"
     ]
    }
   ],
   "source": [
    "print('90-й перцентиль: %.2f' % (np.percentile(orders['revenue'], [90])))\n",
    "print('95-й перцентиль: %.2f' % (np.percentile(orders['revenue'], [95])))\n",
    "print('99-й перцентиль: %.2f' % (np.percentile(orders['revenue'], [99])))"
   ]
  },
  {
   "cell_type": "code",
   "execution_count": 32,
   "metadata": {
    "scrolled": true
   },
   "outputs": [
    {
     "data": {
      "text/plain": [
       "1294500"
      ]
     },
     "execution_count": 32,
     "metadata": {},
     "output_type": "execute_result"
    }
   ],
   "source": [
    "#посмотрим на самую дорогую покупку\n",
    "orders['revenue'].max()"
   ]
  },
  {
   "cell_type": "markdown",
   "metadata": {},
   "source": [
    "Пускай аномальной будет считаться покупка дороже 58 233,20"
   ]
  },
  {
   "cell_type": "markdown",
   "metadata": {},
   "source": [
    "### Посчитайте статистическую значимость различий в конверсии между группами по «сырым» данным"
   ]
  },
  {
   "cell_type": "markdown",
   "metadata": {},
   "source": [
    "**Сперва сформулируем гипотезы**\n",
    "\n",
    "**H0**: различий в конверсии между группами нет\n",
    "\n",
    "**H1**: различия в конверсии между группами есть"
   ]
  },
  {
   "cell_type": "code",
   "execution_count": 35,
   "metadata": {},
   "outputs": [
    {
     "name": "stdout",
     "output_type": "stream",
     "text": [
      "0.01679\n",
      "0.138\n"
     ]
    }
   ],
   "source": [
    "visitorsADaily = visitors[visitors['group'] == 'A'][['date', 'visitors']]\n",
    "visitorsADaily.columns = ['date', 'visitorsPerDateA']\n",
    "\n",
    "visitorsACummulative = visitorsADaily.apply(\n",
    "    lambda x: visitorsADaily[visitorsADaily['date'] <= x['date']].agg(\n",
    "        {'date': 'max', 'visitorsPerDateA': 'sum'}\n",
    "    ),\n",
    "    axis=1,\n",
    ")\n",
    "visitorsACummulative.columns = ['date', 'visitorsCummulativeA']\n",
    "\n",
    "visitorsBDaily = visitors[visitors['group'] == 'B'][['date', 'visitors']]\n",
    "visitorsBDaily.columns = ['date', 'visitorsPerDateB']\n",
    "\n",
    "visitorsBCummulative = visitorsBDaily.apply(\n",
    "    lambda x: visitorsBDaily[visitorsBDaily['date'] <= x['date']].agg(\n",
    "        {'date': 'max', 'visitorsPerDateB': 'sum'}\n",
    "    ),\n",
    "    axis=1,\n",
    ")\n",
    "visitorsBCummulative.columns = ['date', 'visitorsCummulativeB']\n",
    "\n",
    "ordersADaily = (\n",
    "    orders[orders['group'] == 'A'][['date', 'transactionId', 'visitorId', 'revenue']]\n",
    "    .groupby('date', as_index=False)\n",
    "    .agg({'transactionId': pd.Series.nunique, 'revenue': 'sum'})\n",
    ")\n",
    "ordersADaily.columns = ['date', 'ordersPerDateA', 'revenuePerDateA']\n",
    "\n",
    "ordersACummulative = ordersADaily.apply(\n",
    "    lambda x: ordersADaily[ordersADaily['date'] <= x['date']].agg(\n",
    "        {'date': 'max', 'ordersPerDateA': 'sum', 'revenuePerDateA': 'sum'}\n",
    "    ),\n",
    "    axis=1,\n",
    ").sort_values(by=['date'])\n",
    "ordersACummulative.columns = [\n",
    "    'date',\n",
    "    'ordersCummulativeA',\n",
    "    'revenueCummulativeA',\n",
    "]\n",
    "\n",
    "ordersBDaily = (\n",
    "    orders[orders['group'] == 'B'][['date', 'transactionId', 'visitorId', 'revenue']]\n",
    "    .groupby('date', as_index=False)\n",
    "    .agg({'transactionId': pd.Series.nunique, 'revenue': 'sum'})\n",
    ")\n",
    "ordersBDaily.columns = ['date', 'ordersPerDateB', 'revenuePerDateB']\n",
    "\n",
    "ordersBCummulative = ordersBDaily.apply(\n",
    "    lambda x: ordersBDaily[ordersBDaily['date'] <= x['date']].agg(\n",
    "        {'date': 'max', 'ordersPerDateB': 'sum', 'revenuePerDateB': 'sum'}\n",
    "    ),\n",
    "    axis=1,\n",
    ").sort_values(by=['date'])\n",
    "ordersBCummulative.columns = [\n",
    "    'date',\n",
    "    'ordersCummulativeB',\n",
    "    'revenueCummulativeB',\n",
    "]\n",
    "\n",
    "data = (\n",
    "    ordersADaily.merge(\n",
    "        ordersBDaily, left_on='date', right_on='date', how='left'\n",
    "    )\n",
    "    .merge(ordersACummulative, left_on='date', right_on='date', how='left')\n",
    "    .merge(ordersBCummulative, left_on='date', right_on='date', how='left')\n",
    "    .merge(visitorsADaily, left_on='date', right_on='date', how='left')\n",
    "    .merge(visitorsBDaily, left_on='date', right_on='date', how='left')\n",
    "    .merge(visitorsACummulative, left_on='date', right_on='date', how='left')\n",
    "    .merge(visitorsBCummulative, left_on='date', right_on='date', how='left')\n",
    ")\n",
    "\n",
    "ordersByUsersA = (\n",
    "    orders[orders['group'] == 'A']\n",
    "    .groupby('visitorId', as_index=False)\n",
    "    .agg({'transactionId': pd.Series.nunique})\n",
    ")\n",
    "ordersByUsersA.columns = ['visitorId', 'orders']\n",
    "\n",
    "ordersByUsersB = (\n",
    "    orders[orders['group'] == 'B']\n",
    "    .groupby('visitorId', as_index=False)\n",
    "    .agg({'transactionId': pd.Series.nunique})\n",
    ")\n",
    "ordersByUsersB.columns = ['visitorId', 'orders']\n",
    "\n",
    "sampleA = pd.concat(\n",
    "    [\n",
    "        ordersByUsersA['orders'],\n",
    "        pd.Series(\n",
    "            0,\n",
    "            index=np.arange(\n",
    "                data['visitorsPerDateA'].sum() - len(ordersByUsersA['orders'])\n",
    "            ),\n",
    "            name='orders',\n",
    "        ),\n",
    "    ],\n",
    "    axis=0,\n",
    ")\n",
    "\n",
    "sampleB = pd.concat(\n",
    "    [\n",
    "        ordersByUsersB['orders'],\n",
    "        pd.Series(\n",
    "            0,\n",
    "            index=np.arange(\n",
    "                data['visitorsPerDateB'].sum() - len(ordersByUsersB['orders'])\n",
    "            ),\n",
    "            name='orders',\n",
    "        ),\n",
    "    ],\n",
    "    axis=0,\n",
    ")\n",
    "\n",
    "print(\"{0:.5f}\".format(stats.mannwhitneyu(sampleA, sampleB)[1]))\n",
    "\n",
    "print(\"{0:.3f}\".format((data['ordersPerDateB'].sum()/data['visitorsPerDateB'].sum())/(data['ordersPerDateA'].sum()/data['visitorsPerDateA'].sum())-1))"
   ]
  },
  {
   "cell_type": "markdown",
   "metadata": {},
   "source": [
    "P-value значительно меньше заданного порога в 0.05 и равен 0.02, нулевую гипотезу отвергаем.\n",
    "Анализ сырых данных показывал, что в конверсии между группами есть статистически значимые различия. Относительный прирост конверсии группы В к конверсии группы А составил 13,8%"
   ]
  },
  {
   "cell_type": "markdown",
   "metadata": {},
   "source": [
    "### Посчитайте статистическую значимость различий в среднем чеке заказа между группами по «сырым» данным"
   ]
  },
  {
   "cell_type": "code",
   "execution_count": 36,
   "metadata": {},
   "outputs": [
    {
     "name": "stdout",
     "output_type": "stream",
     "text": [
      "p-значение:  0.7292909855432458\n",
      "Не получилось отвергнуть нулевую гипотезу\n"
     ]
    }
   ],
   "source": [
    "''' Проверим статистическую значимость различий в среднем чеке между сегментами с помощью критерия Манна-Уитни.\n",
    "H0 статистически значимых различий в среднем чеке между группами нет\n",
    "H1 статистически значимые различия в среднем чеке между группами есть '''\n",
    "\n",
    "alpha = 0.05\n",
    "results = st.mannwhitneyu(orders[orders['group']=='A']['revenue'], orders[orders['group']=='B']['revenue'])\n",
    "pvalue = results.pvalue\n",
    "print('p-значение: ', pvalue)\n",
    "if (pvalue < alpha):\n",
    "    print(\"Отвергаем нулевую гипотезу\")\n",
    "else:\n",
    "    print(\"Не получилось отвергнуть нулевую гипотезу\")"
   ]
  },
  {
   "cell_type": "code",
   "execution_count": 37,
   "metadata": {
    "scrolled": true
   },
   "outputs": [
    {
     "data": {
      "text/plain": [
       "7333.58"
      ]
     },
     "execution_count": 37,
     "metadata": {},
     "output_type": "execute_result"
    }
   ],
   "source": [
    "orders[orders['group']=='A']['revenue'].mean().round(2)"
   ]
  },
  {
   "cell_type": "code",
   "execution_count": 38,
   "metadata": {},
   "outputs": [
    {
     "data": {
      "text/plain": [
       "9230.88"
      ]
     },
     "execution_count": 38,
     "metadata": {},
     "output_type": "execute_result"
    }
   ],
   "source": [
    "orders[orders['group']=='B']['revenue'].mean().round(2)"
   ]
  },
  {
   "cell_type": "code",
   "execution_count": 39,
   "metadata": {},
   "outputs": [
    {
     "data": {
      "text/plain": [
       "1.259"
      ]
     },
     "execution_count": 39,
     "metadata": {},
     "output_type": "execute_result"
    }
   ],
   "source": [
    "(orders[orders['group']=='B']['revenue'].mean() / orders[orders['group']=='A']['revenue'].mean()).round(3)"
   ]
  },
  {
   "cell_type": "markdown",
   "metadata": {},
   "source": [
    "Не удалось отвергнуть гипотезу о том, что средний чек группы А не превосходит средний чек группы В. P-value оказалася значительно больше 0.05. Следовательно, причин отвергать нулевую гипотезу и считать, что в среднем чеке есть различия, нет. При этом относительное различие чека составляет 25,9% в пользу группы В."
   ]
  },
  {
   "cell_type": "markdown",
   "metadata": {},
   "source": [
    "### Посчитайте статистическую значимость различий в конверсии между группами по «очищенным» данным"
   ]
  },
  {
   "cell_type": "code",
   "execution_count": 42,
   "metadata": {},
   "outputs": [
    {
     "name": "stdout",
     "output_type": "stream",
     "text": [
      "0         8300375\n",
      "1099    148427295\n",
      "18      199603092\n",
      "20      232979603\n",
      "23      237748145\n",
      "Name: visitorId, dtype: int64\n",
      "(67,)\n"
     ]
    }
   ],
   "source": [
    "\n",
    "usersWithManyOrders = pd.concat(\n",
    "    [\n",
    "        ordersByUsersA.query('orders > 4 or visitorId in @cross')['visitorId'],\n",
    "        ordersByUsersB.query('orders > 4 or visitorId in @cross')['visitorId'],\n",
    "    ],\n",
    "    axis=0,\n",
    ")\n",
    "usersWithExpensiveOrders = orders[orders['revenue'] > 58233.20]['visitorId']\n",
    "abnormalUsers = (\n",
    "    pd.concat([usersWithManyOrders, usersWithExpensiveOrders], axis=0)\n",
    "    .drop_duplicates()\n",
    "    .sort_values()\n",
    ")\n",
    "print(abnormalUsers.head(5))\n",
    "print(abnormalUsers.shape)"
   ]
  },
  {
   "cell_type": "code",
   "execution_count": 43,
   "metadata": {},
   "outputs": [],
   "source": [
    "sampleAFiltered = pd.concat(\n",
    "    [\n",
    "        ordersByUsersA[\n",
    "            np.logical_not(ordersByUsersA['visitorId'].isin(abnormalUsers))\n",
    "        ]['orders'],\n",
    "        pd.Series(\n",
    "            0,\n",
    "            index=np.arange(\n",
    "                data['visitorsPerDateA'].sum() - len(ordersByUsersA['orders'])\n",
    "            ),\n",
    "            name='orders',\n",
    "        ),\n",
    "    ],\n",
    "    axis=0,\n",
    ")\n",
    "\n",
    "sampleBFiltered = pd.concat(\n",
    "    [\n",
    "        ordersByUsersB[\n",
    "            np.logical_not(ordersByUsersB['visitorId'].isin(abnormalUsers))\n",
    "        ]['orders'],\n",
    "        pd.Series(\n",
    "            0,\n",
    "            index=np.arange(\n",
    "                data['visitorsPerDateB'].sum() - len(ordersByUsersB['orders'])\n",
    "            ),\n",
    "            name='orders',\n",
    "        ),\n",
    "    ],\n",
    "    axis=0,\n",
    ")"
   ]
  },
  {
   "cell_type": "code",
   "execution_count": 44,
   "metadata": {
    "scrolled": true
   },
   "outputs": [
    {
     "name": "stdout",
     "output_type": "stream",
     "text": [
      "0.010\n",
      "0.164\n"
     ]
    }
   ],
   "source": [
    "print('{0:.3f}'.format(stats.mannwhitneyu(sampleAFiltered, sampleBFiltered)[1]))\n",
    "print('{0:.3f}'.format(sampleBFiltered.mean()/sampleAFiltered.mean()-1)) "
   ]
  },
  {
   "cell_type": "markdown",
   "metadata": {},
   "source": [
    "P-value значительно меньше заданного порога в 0.05 и равен 0.01, нулевую гипотезу всё также отвергаем. Статистически значимые различия сохранились и после очистки данных. Относительный прирост конверсии группы В к конверсии группы А теперь составляет 16,4%"
   ]
  },
  {
   "cell_type": "markdown",
   "metadata": {},
   "source": [
    "### Посчитайте статистическую значимость различий в среднем чеке заказа между группами по «очищенным» данным"
   ]
  },
  {
   "cell_type": "code",
   "execution_count": 45,
   "metadata": {},
   "outputs": [],
   "source": [
    "orders_clear = orders.query('revenue <= 58233.20 and visitorId not in @cross')"
   ]
  },
  {
   "cell_type": "code",
   "execution_count": 46,
   "metadata": {},
   "outputs": [
    {
     "name": "stdout",
     "output_type": "stream",
     "text": [
      "p-значение:  0.9006884356560738\n",
      "Не получилось отвергнуть нулевую гипотезу\n"
     ]
    }
   ],
   "source": [
    "''' Проверим статистическую значимость различий в среднем чеке между сегментами с помощью критерия Манна-Уитни.\n",
    "H0 статистически значимых различий в среднем чеке между группами нет\n",
    "H1 статистически значимые различия в среднем чеке между группами есть '''\n",
    "\n",
    "alpha = 0.05\n",
    "results = st.mannwhitneyu(orders_clear[orders_clear['group']=='A']['revenue'], orders_clear[orders_clear['group']=='B']['revenue'])\n",
    "pvalue = results.pvalue\n",
    "print('p-значение: ', pvalue)\n",
    "if (pvalue < alpha):\n",
    "    print(\"Отвергаем нулевую гипотезу\")\n",
    "else:\n",
    "    print(\"Не получилось отвергнуть нулевую гипотезу\")"
   ]
  },
  {
   "cell_type": "code",
   "execution_count": 47,
   "metadata": {
    "scrolled": false
   },
   "outputs": [
    {
     "data": {
      "text/plain": [
       "6504.548596112311"
      ]
     },
     "execution_count": 47,
     "metadata": {},
     "output_type": "execute_result"
    }
   ],
   "source": [
    "orders_clear[orders_clear['group']=='A']['revenue'].mean()"
   ]
  },
  {
   "cell_type": "code",
   "execution_count": 48,
   "metadata": {},
   "outputs": [
    {
     "data": {
      "text/plain": [
       "6298.827205882353"
      ]
     },
     "execution_count": 48,
     "metadata": {},
     "output_type": "execute_result"
    }
   ],
   "source": [
    "orders_clear[orders_clear['group']=='B']['revenue'].mean()"
   ]
  },
  {
   "cell_type": "code",
   "execution_count": 49,
   "metadata": {},
   "outputs": [
    {
     "data": {
      "text/plain": [
       "0.9683726876369384"
      ]
     },
     "execution_count": 49,
     "metadata": {},
     "output_type": "execute_result"
    }
   ],
   "source": [
    "orders_clear[orders_clear['group']=='B']['revenue'].mean() / orders_clear[orders_clear['group']=='A']['revenue'].mean()"
   ]
  },
  {
   "cell_type": "markdown",
   "metadata": {},
   "source": [
    "P-value увеличился, а разница в среднем чеке между группами значительно сократилась, теперь это 3,2% в пользу А"
   ]
  },
  {
   "cell_type": "markdown",
   "metadata": {},
   "source": [
    "### Примите решение по результатам теста и объясните его"
   ]
  },
  {
   "cell_type": "markdown",
   "metadata": {},
   "source": [
    "Метод ICE показывает, что наиболее перспективная гипотезы 8, 0 и 7, а метод RICE 7, 2 и 0. Различие методов заключается в том, что RICE включает параметр reach (охват пользователей вносимым изменением) и в нашем случае будет более точным. Таким образом, наши приоритетные гипотезы это:\n",
    "- добавить форму подписки на все основные страницы, чтобы собрать базу клиентов для email-рассылок\n",
    "- добавить блоки рекомендаций товаров на сайт интернет магазина, чтобы повысить конверсию и средний чек заказа\n",
    "- добавить два новых канала привлечения трафика, что позволит привлекать на 30% больше пользователей\n",
    "\n",
    "Графики показывают, что конверсия в группе B стабильно лучше конверсии в группе A и средний чек группы В значительно выше группы А\n",
    "\n",
    "В количестве заказов на пользователя:\n",
    "- 90-й перцентиль равен 1\n",
    "- 95-й перцентиль равен 2\n",
    "- 99-й перцентиль равен 4\n",
    "\n",
    "В стоимости заказов:\n",
    "- 90-й перцентиль равен 18 168 руб.\n",
    "- 95-й перцентиль равен 28 000 руб.\n",
    "- 99-й перцентиль равен 58 233 руб. 20 коп.\n",
    "\n",
    "В результате проверки гипотез выявлено, что: \n",
    "- в конверсии между группами A и B (как по сырым данным, так и по очищенным) есть статистически значимые различия\n",
    "- относительный прирост конверсии группы В к конверсии группы А составил 13,8% по сырым данным и 16,4% по очищенным\n",
    "- в среднем чеке между группами A и B (как по сырым данным, так и по очищенным) нет статистически значимых различий\n",
    "- относительное различие чека составило 25,9% в пользу группы В по сырым данным и 3,2% в пользу группы А по очищенным данным\n",
    "\n",
    "Важно отметить, что в процессе работы с данными было выяснено, что 58 пользователей из 1089 в своих сессиях видели разную версию сайта, что нарушает основные принципы работы A/B-теста. Этот момент следует проработать разработчикам сайта так, чтобы пользователи при визитах видели одну и ту же версию сайта.\n",
    "\n",
    "Конверсия из пользователя в покупателя у группы B статистически значимо выше, чем у группы A. При этом средний чек между группами не отличается. Исходя из этого, тест можно остановить и признать успешным. Имеющихся данных достаточно чтобы говорить о победе группы В."
   ]
  }
 ],
 "metadata": {
  "ExecuteTimeLog": [
   {
    "duration": 1405,
    "start_time": "2022-06-05T07:42:59.624Z"
   },
   {
    "duration": 4,
    "start_time": "2022-06-05T07:43:05.926Z"
   },
   {
    "duration": 3,
    "start_time": "2022-06-05T07:44:35.643Z"
   },
   {
    "duration": 189,
    "start_time": "2022-06-05T07:44:37.318Z"
   },
   {
    "duration": 100,
    "start_time": "2022-06-05T07:44:59.017Z"
   },
   {
    "duration": 16,
    "start_time": "2022-06-05T07:45:26.051Z"
   },
   {
    "duration": 9,
    "start_time": "2022-06-05T07:45:49.083Z"
   },
   {
    "duration": 29,
    "start_time": "2022-06-05T07:46:45.476Z"
   },
   {
    "duration": 5,
    "start_time": "2022-06-05T07:47:46.601Z"
   },
   {
    "duration": 28,
    "start_time": "2022-06-05T07:48:25.341Z"
   },
   {
    "duration": 12,
    "start_time": "2022-06-05T07:48:34.890Z"
   },
   {
    "duration": 10,
    "start_time": "2022-06-05T07:48:41.603Z"
   },
   {
    "duration": 10,
    "start_time": "2022-06-05T07:49:13.587Z"
   },
   {
    "duration": 10,
    "start_time": "2022-06-05T07:49:19.716Z"
   },
   {
    "duration": 4,
    "start_time": "2022-06-05T07:50:51.398Z"
   },
   {
    "duration": 9,
    "start_time": "2022-06-05T07:50:59.315Z"
   },
   {
    "duration": 12,
    "start_time": "2022-06-05T07:51:02.586Z"
   },
   {
    "duration": 5,
    "start_time": "2022-06-05T07:53:48.537Z"
   },
   {
    "duration": 20,
    "start_time": "2022-06-05T07:55:41.694Z"
   },
   {
    "duration": 10,
    "start_time": "2022-06-05T07:55:56.194Z"
   },
   {
    "duration": 5,
    "start_time": "2022-06-05T07:56:10.377Z"
   },
   {
    "duration": 10,
    "start_time": "2022-06-05T07:56:58.477Z"
   },
   {
    "duration": 11,
    "start_time": "2022-06-05T07:58:36.208Z"
   },
   {
    "duration": 15,
    "start_time": "2022-06-05T07:59:35.312Z"
   },
   {
    "duration": 8,
    "start_time": "2022-06-05T07:59:53.285Z"
   },
   {
    "duration": 5,
    "start_time": "2022-06-05T07:59:59.913Z"
   },
   {
    "duration": 5,
    "start_time": "2022-06-05T08:01:02.885Z"
   },
   {
    "duration": 9,
    "start_time": "2022-06-05T08:01:21.092Z"
   },
   {
    "duration": 8,
    "start_time": "2022-06-05T08:01:43.893Z"
   },
   {
    "duration": 98,
    "start_time": "2022-06-05T08:03:10.780Z"
   },
   {
    "duration": 64,
    "start_time": "2022-06-05T08:03:33.340Z"
   },
   {
    "duration": 7,
    "start_time": "2022-06-05T08:03:43.408Z"
   },
   {
    "duration": 8,
    "start_time": "2022-06-05T08:06:14.288Z"
   },
   {
    "duration": 7,
    "start_time": "2022-06-05T08:06:21.986Z"
   },
   {
    "duration": 21,
    "start_time": "2022-06-05T08:07:51.955Z"
   },
   {
    "duration": 18,
    "start_time": "2022-06-05T08:09:09.677Z"
   },
   {
    "duration": 11,
    "start_time": "2022-06-05T08:10:40.849Z"
   },
   {
    "duration": 18,
    "start_time": "2022-06-05T08:10:45.578Z"
   },
   {
    "duration": 7,
    "start_time": "2022-06-05T08:10:46.540Z"
   },
   {
    "duration": 11,
    "start_time": "2022-06-05T08:10:49.493Z"
   },
   {
    "duration": 11,
    "start_time": "2022-06-05T08:13:17.882Z"
   },
   {
    "duration": 7,
    "start_time": "2022-06-05T08:15:22.025Z"
   },
   {
    "duration": 480,
    "start_time": "2022-06-05T10:42:29.611Z"
   },
   {
    "duration": 267,
    "start_time": "2022-06-05T10:42:41.078Z"
   },
   {
    "duration": 261,
    "start_time": "2022-06-05T10:44:37.410Z"
   },
   {
    "duration": 441,
    "start_time": "2022-06-05T10:47:07.601Z"
   },
   {
    "duration": 347,
    "start_time": "2022-06-05T10:47:13.978Z"
   },
   {
    "duration": 376,
    "start_time": "2022-06-05T10:47:32.419Z"
   },
   {
    "duration": 2,
    "start_time": "2022-06-05T10:49:00.722Z"
   },
   {
    "duration": 317,
    "start_time": "2022-06-05T10:49:10.419Z"
   },
   {
    "duration": 376,
    "start_time": "2022-06-05T10:53:37.723Z"
   },
   {
    "duration": 7,
    "start_time": "2022-06-05T10:55:20.584Z"
   },
   {
    "duration": 13,
    "start_time": "2022-06-05T10:55:35.265Z"
   },
   {
    "duration": 11,
    "start_time": "2022-06-05T10:56:27.749Z"
   },
   {
    "duration": 147,
    "start_time": "2022-06-05T10:56:36.851Z"
   },
   {
    "duration": 145,
    "start_time": "2022-06-05T10:56:43.360Z"
   },
   {
    "duration": 5,
    "start_time": "2022-06-05T11:00:03.130Z"
   },
   {
    "duration": 4,
    "start_time": "2022-06-05T11:01:11.621Z"
   },
   {
    "duration": 4,
    "start_time": "2022-06-05T11:01:31.662Z"
   },
   {
    "duration": 445,
    "start_time": "2022-06-05T11:02:08.936Z"
   },
   {
    "duration": 4,
    "start_time": "2022-06-05T11:02:15.192Z"
   },
   {
    "duration": 4,
    "start_time": "2022-06-05T11:03:51.498Z"
   },
   {
    "duration": 6,
    "start_time": "2022-06-05T11:04:30.563Z"
   },
   {
    "duration": 4,
    "start_time": "2022-06-05T11:10:48.489Z"
   },
   {
    "duration": 179,
    "start_time": "2022-06-05T11:11:19.639Z"
   },
   {
    "duration": 174,
    "start_time": "2022-06-05T11:11:26.146Z"
   },
   {
    "duration": 6,
    "start_time": "2022-06-05T11:14:25.533Z"
   },
   {
    "duration": 4,
    "start_time": "2022-06-05T11:14:49.246Z"
   },
   {
    "duration": 385,
    "start_time": "2022-06-05T11:18:07.193Z"
   },
   {
    "duration": 416,
    "start_time": "2022-06-05T11:18:19.958Z"
   },
   {
    "duration": 5,
    "start_time": "2022-06-05T11:18:39.406Z"
   },
   {
    "duration": 12,
    "start_time": "2022-06-05T11:18:53.032Z"
   },
   {
    "duration": 5,
    "start_time": "2022-06-05T11:19:10.591Z"
   },
   {
    "duration": 4,
    "start_time": "2022-06-05T11:19:56.983Z"
   },
   {
    "duration": 5,
    "start_time": "2022-06-05T11:20:02.622Z"
   },
   {
    "duration": 9,
    "start_time": "2022-06-05T11:21:49.985Z"
   },
   {
    "duration": 7,
    "start_time": "2022-06-05T11:21:57.207Z"
   },
   {
    "duration": 93,
    "start_time": "2022-06-05T11:37:18.540Z"
   },
   {
    "duration": 8,
    "start_time": "2022-06-05T11:38:11.745Z"
   },
   {
    "duration": 29,
    "start_time": "2022-06-05T11:44:53.651Z"
   },
   {
    "duration": 2,
    "start_time": "2022-06-05T11:45:38.294Z"
   },
   {
    "duration": 9,
    "start_time": "2022-06-05T11:47:39.288Z"
   },
   {
    "duration": 8,
    "start_time": "2022-06-05T11:47:59.386Z"
   },
   {
    "duration": 7,
    "start_time": "2022-06-05T11:48:06.396Z"
   },
   {
    "duration": 1088,
    "start_time": "2022-06-05T11:49:55.305Z"
   },
   {
    "duration": 2,
    "start_time": "2022-06-05T11:49:56.395Z"
   },
   {
    "duration": 88,
    "start_time": "2022-06-05T11:49:56.400Z"
   },
   {
    "duration": 41,
    "start_time": "2022-06-05T11:49:56.490Z"
   },
   {
    "duration": 7,
    "start_time": "2022-06-05T11:49:56.534Z"
   },
   {
    "duration": 8,
    "start_time": "2022-06-05T11:49:56.542Z"
   },
   {
    "duration": 15,
    "start_time": "2022-06-05T11:49:56.551Z"
   },
   {
    "duration": 6,
    "start_time": "2022-06-05T11:49:56.568Z"
   },
   {
    "duration": 31,
    "start_time": "2022-06-05T11:49:56.576Z"
   },
   {
    "duration": 59,
    "start_time": "2022-06-05T11:49:56.609Z"
   },
   {
    "duration": 12,
    "start_time": "2022-06-05T11:49:56.669Z"
   },
   {
    "duration": 12,
    "start_time": "2022-06-05T11:49:56.683Z"
   },
   {
    "duration": 28,
    "start_time": "2022-06-05T11:49:56.696Z"
   },
   {
    "duration": 25,
    "start_time": "2022-06-05T11:49:56.727Z"
   },
   {
    "duration": 8,
    "start_time": "2022-06-05T11:49:56.754Z"
   },
   {
    "duration": 16,
    "start_time": "2022-06-05T11:49:56.763Z"
   },
   {
    "duration": 385,
    "start_time": "2022-06-05T11:49:56.781Z"
   },
   {
    "duration": 203,
    "start_time": "2022-06-05T11:49:57.168Z"
   },
   {
    "duration": 312,
    "start_time": "2022-06-05T11:49:57.373Z"
   },
   {
    "duration": 236,
    "start_time": "2022-06-05T11:49:57.687Z"
   },
   {
    "duration": 345,
    "start_time": "2022-06-05T11:49:57.924Z"
   },
   {
    "duration": 11,
    "start_time": "2022-06-05T11:49:58.271Z"
   },
   {
    "duration": 138,
    "start_time": "2022-06-05T11:49:58.284Z"
   },
   {
    "duration": 6,
    "start_time": "2022-06-05T11:49:58.424Z"
   },
   {
    "duration": 21,
    "start_time": "2022-06-05T11:49:58.432Z"
   },
   {
    "duration": 13,
    "start_time": "2022-06-05T11:49:58.455Z"
   },
   {
    "duration": 143,
    "start_time": "2022-06-05T11:49:58.469Z"
   },
   {
    "duration": 7,
    "start_time": "2022-06-05T11:49:58.614Z"
   },
   {
    "duration": 7,
    "start_time": "2022-06-05T11:49:58.622Z"
   },
   {
    "duration": 25,
    "start_time": "2022-06-05T11:49:58.631Z"
   },
   {
    "duration": 19,
    "start_time": "2022-06-05T11:49:58.658Z"
   },
   {
    "duration": 11,
    "start_time": "2022-06-05T11:49:58.679Z"
   },
   {
    "duration": 8,
    "start_time": "2022-06-05T11:49:58.692Z"
   },
   {
    "duration": 15,
    "start_time": "2022-06-05T11:49:58.702Z"
   },
   {
    "duration": 33,
    "start_time": "2022-06-05T11:49:58.719Z"
   },
   {
    "duration": 6,
    "start_time": "2022-06-05T11:49:58.755Z"
   },
   {
    "duration": 12,
    "start_time": "2022-06-05T11:49:58.763Z"
   },
   {
    "duration": 488,
    "start_time": "2022-06-05T11:52:08.949Z"
   },
   {
    "duration": 13,
    "start_time": "2022-06-05T11:52:19.628Z"
   },
   {
    "duration": 9,
    "start_time": "2022-06-05T11:52:34.716Z"
   },
   {
    "duration": 11,
    "start_time": "2022-06-05T11:52:44.452Z"
   },
   {
    "duration": 8,
    "start_time": "2022-06-05T11:53:45.631Z"
   },
   {
    "duration": 39,
    "start_time": "2022-06-05T11:58:00.501Z"
   },
   {
    "duration": 8,
    "start_time": "2022-06-05T11:58:11.194Z"
   },
   {
    "duration": 11,
    "start_time": "2022-06-05T11:58:51.049Z"
   },
   {
    "duration": 6,
    "start_time": "2022-06-05T12:00:24.792Z"
   },
   {
    "duration": 6,
    "start_time": "2022-06-05T12:00:26.661Z"
   },
   {
    "duration": 3,
    "start_time": "2022-06-05T12:00:53.808Z"
   },
   {
    "duration": 1113,
    "start_time": "2022-06-05T12:08:06.357Z"
   },
   {
    "duration": 2,
    "start_time": "2022-06-05T12:08:07.472Z"
   },
   {
    "duration": 83,
    "start_time": "2022-06-05T12:08:07.476Z"
   },
   {
    "duration": 29,
    "start_time": "2022-06-05T12:08:07.561Z"
   },
   {
    "duration": 5,
    "start_time": "2022-06-05T12:08:07.592Z"
   },
   {
    "duration": 6,
    "start_time": "2022-06-05T12:08:07.599Z"
   },
   {
    "duration": 12,
    "start_time": "2022-06-05T12:08:07.607Z"
   },
   {
    "duration": 4,
    "start_time": "2022-06-05T12:08:07.621Z"
   },
   {
    "duration": 11,
    "start_time": "2022-06-05T12:08:07.651Z"
   },
   {
    "duration": 44,
    "start_time": "2022-06-05T12:08:07.664Z"
   },
   {
    "duration": 9,
    "start_time": "2022-06-05T12:08:07.709Z"
   },
   {
    "duration": 11,
    "start_time": "2022-06-05T12:08:07.720Z"
   },
   {
    "duration": 16,
    "start_time": "2022-06-05T12:08:07.752Z"
   },
   {
    "duration": 16,
    "start_time": "2022-06-05T12:08:07.771Z"
   },
   {
    "duration": 10,
    "start_time": "2022-06-05T12:08:07.788Z"
   },
   {
    "duration": 13,
    "start_time": "2022-06-05T12:08:07.800Z"
   },
   {
    "duration": 381,
    "start_time": "2022-06-05T12:08:07.815Z"
   },
   {
    "duration": 191,
    "start_time": "2022-06-05T12:08:08.198Z"
   },
   {
    "duration": 274,
    "start_time": "2022-06-05T12:08:08.391Z"
   },
   {
    "duration": 205,
    "start_time": "2022-06-05T12:08:08.667Z"
   },
   {
    "duration": 285,
    "start_time": "2022-06-05T12:08:08.873Z"
   },
   {
    "duration": 10,
    "start_time": "2022-06-05T12:08:09.160Z"
   },
   {
    "duration": 125,
    "start_time": "2022-06-05T12:08:09.171Z"
   },
   {
    "duration": 6,
    "start_time": "2022-06-05T12:08:09.297Z"
   },
   {
    "duration": 10,
    "start_time": "2022-06-05T12:08:09.304Z"
   },
   {
    "duration": 19,
    "start_time": "2022-06-05T12:08:09.316Z"
   },
   {
    "duration": 127,
    "start_time": "2022-06-05T12:08:09.336Z"
   },
   {
    "duration": 6,
    "start_time": "2022-06-05T12:08:09.465Z"
   },
   {
    "duration": 25,
    "start_time": "2022-06-05T12:08:09.473Z"
   },
   {
    "duration": 18,
    "start_time": "2022-06-05T12:08:09.499Z"
   },
   {
    "duration": 23,
    "start_time": "2022-06-05T12:08:09.518Z"
   },
   {
    "duration": 23,
    "start_time": "2022-06-05T12:08:09.542Z"
   },
   {
    "duration": 18,
    "start_time": "2022-06-05T12:08:09.567Z"
   },
   {
    "duration": 22,
    "start_time": "2022-06-05T12:08:09.587Z"
   },
   {
    "duration": 16,
    "start_time": "2022-06-05T12:08:09.610Z"
   },
   {
    "duration": 15,
    "start_time": "2022-06-05T12:08:09.627Z"
   },
   {
    "duration": 29,
    "start_time": "2022-06-05T12:08:09.644Z"
   },
   {
    "duration": 18,
    "start_time": "2022-06-05T12:08:09.675Z"
   },
   {
    "duration": 22,
    "start_time": "2022-06-05T12:08:09.695Z"
   },
   {
    "duration": 40,
    "start_time": "2022-06-05T12:08:09.719Z"
   },
   {
    "duration": 13,
    "start_time": "2022-06-05T12:08:09.763Z"
   },
   {
    "duration": 23,
    "start_time": "2022-06-05T12:08:09.778Z"
   },
   {
    "duration": 1281,
    "start_time": "2022-06-06T05:20:35.737Z"
   },
   {
    "duration": 6,
    "start_time": "2022-06-06T05:20:37.020Z"
   },
   {
    "duration": 256,
    "start_time": "2022-06-06T05:20:37.028Z"
   },
   {
    "duration": 28,
    "start_time": "2022-06-06T05:20:37.286Z"
   },
   {
    "duration": 5,
    "start_time": "2022-06-06T05:20:37.316Z"
   },
   {
    "duration": 23,
    "start_time": "2022-06-06T05:20:37.322Z"
   },
   {
    "duration": 11,
    "start_time": "2022-06-06T05:20:37.346Z"
   },
   {
    "duration": 4,
    "start_time": "2022-06-06T05:20:37.358Z"
   },
   {
    "duration": 13,
    "start_time": "2022-06-06T05:20:37.363Z"
   },
   {
    "duration": 42,
    "start_time": "2022-06-06T05:20:37.377Z"
   },
   {
    "duration": 10,
    "start_time": "2022-06-06T05:20:37.421Z"
   },
   {
    "duration": 17,
    "start_time": "2022-06-06T05:20:37.432Z"
   },
   {
    "duration": 22,
    "start_time": "2022-06-06T05:20:37.450Z"
   },
   {
    "duration": 13,
    "start_time": "2022-06-06T05:20:37.474Z"
   },
   {
    "duration": 6,
    "start_time": "2022-06-06T05:20:37.489Z"
   },
   {
    "duration": 11,
    "start_time": "2022-06-06T05:20:37.496Z"
   },
   {
    "duration": 363,
    "start_time": "2022-06-06T05:20:37.523Z"
   },
   {
    "duration": 200,
    "start_time": "2022-06-06T05:20:37.889Z"
   },
   {
    "duration": 354,
    "start_time": "2022-06-06T05:20:38.091Z"
   },
   {
    "duration": 202,
    "start_time": "2022-06-06T05:20:38.447Z"
   },
   {
    "duration": 292,
    "start_time": "2022-06-06T05:20:38.651Z"
   },
   {
    "duration": 12,
    "start_time": "2022-06-06T05:20:38.945Z"
   },
   {
    "duration": 129,
    "start_time": "2022-06-06T05:20:38.960Z"
   },
   {
    "duration": 5,
    "start_time": "2022-06-06T05:20:39.091Z"
   },
   {
    "duration": 13,
    "start_time": "2022-06-06T05:20:39.098Z"
   },
   {
    "duration": 30,
    "start_time": "2022-06-06T05:20:39.112Z"
   },
   {
    "duration": 134,
    "start_time": "2022-06-06T05:20:39.144Z"
   },
   {
    "duration": 7,
    "start_time": "2022-06-06T05:20:39.280Z"
   },
   {
    "duration": 17,
    "start_time": "2022-06-06T05:20:39.289Z"
   },
   {
    "duration": 17,
    "start_time": "2022-06-06T05:20:39.308Z"
   },
   {
    "duration": 24,
    "start_time": "2022-06-06T05:20:39.328Z"
   },
   {
    "duration": 9,
    "start_time": "2022-06-06T05:20:39.353Z"
   },
   {
    "duration": 13,
    "start_time": "2022-06-06T05:20:39.364Z"
   },
   {
    "duration": 10,
    "start_time": "2022-06-06T05:20:39.378Z"
   },
   {
    "duration": 5,
    "start_time": "2022-06-06T05:20:39.389Z"
   },
   {
    "duration": 6,
    "start_time": "2022-06-06T05:20:39.396Z"
   },
   {
    "duration": 27,
    "start_time": "2022-06-06T05:20:39.403Z"
   },
   {
    "duration": 8,
    "start_time": "2022-06-06T05:20:39.439Z"
   },
   {
    "duration": 8,
    "start_time": "2022-06-06T05:20:39.448Z"
   },
   {
    "duration": 10,
    "start_time": "2022-06-06T05:20:39.458Z"
   },
   {
    "duration": 5,
    "start_time": "2022-06-06T05:20:39.471Z"
   },
   {
    "duration": 6,
    "start_time": "2022-06-06T05:20:39.478Z"
   },
   {
    "duration": 1186,
    "start_time": "2022-06-06T06:18:15.013Z"
   },
   {
    "duration": 3,
    "start_time": "2022-06-06T06:18:16.200Z"
   },
   {
    "duration": 94,
    "start_time": "2022-06-06T06:18:16.204Z"
   },
   {
    "duration": 42,
    "start_time": "2022-06-06T06:18:16.300Z"
   },
   {
    "duration": 6,
    "start_time": "2022-06-06T06:18:16.347Z"
   },
   {
    "duration": 9,
    "start_time": "2022-06-06T06:18:16.355Z"
   },
   {
    "duration": 13,
    "start_time": "2022-06-06T06:18:16.366Z"
   },
   {
    "duration": 4,
    "start_time": "2022-06-06T06:18:16.380Z"
   },
   {
    "duration": 15,
    "start_time": "2022-06-06T06:18:16.385Z"
   },
   {
    "duration": 56,
    "start_time": "2022-06-06T06:18:16.401Z"
   },
   {
    "duration": 11,
    "start_time": "2022-06-06T06:18:16.459Z"
   },
   {
    "duration": 13,
    "start_time": "2022-06-06T06:18:16.472Z"
   },
   {
    "duration": 19,
    "start_time": "2022-06-06T06:18:16.487Z"
   },
   {
    "duration": 35,
    "start_time": "2022-06-06T06:18:16.509Z"
   },
   {
    "duration": 13,
    "start_time": "2022-06-06T06:18:16.547Z"
   },
   {
    "duration": 12,
    "start_time": "2022-06-06T06:18:16.561Z"
   },
   {
    "duration": 394,
    "start_time": "2022-06-06T06:18:16.574Z"
   },
   {
    "duration": 207,
    "start_time": "2022-06-06T06:18:16.970Z"
   },
   {
    "duration": 290,
    "start_time": "2022-06-06T06:18:17.179Z"
   },
   {
    "duration": 208,
    "start_time": "2022-06-06T06:18:17.471Z"
   },
   {
    "duration": 309,
    "start_time": "2022-06-06T06:18:17.681Z"
   },
   {
    "duration": 12,
    "start_time": "2022-06-06T06:18:17.992Z"
   },
   {
    "duration": 198,
    "start_time": "2022-06-06T06:18:18.005Z"
   },
   {
    "duration": 6,
    "start_time": "2022-06-06T06:18:18.206Z"
   },
   {
    "duration": 14,
    "start_time": "2022-06-06T06:18:18.214Z"
   },
   {
    "duration": 21,
    "start_time": "2022-06-06T06:18:18.240Z"
   },
   {
    "duration": 128,
    "start_time": "2022-06-06T06:18:18.263Z"
   },
   {
    "duration": 7,
    "start_time": "2022-06-06T06:18:18.393Z"
   },
   {
    "duration": 7,
    "start_time": "2022-06-06T06:18:18.401Z"
   },
   {
    "duration": 27,
    "start_time": "2022-06-06T06:18:18.410Z"
   },
   {
    "duration": 27,
    "start_time": "2022-06-06T06:18:18.438Z"
   },
   {
    "duration": 20,
    "start_time": "2022-06-06T06:18:18.466Z"
   },
   {
    "duration": 11,
    "start_time": "2022-06-06T06:18:18.487Z"
   },
   {
    "duration": 11,
    "start_time": "2022-06-06T06:18:18.500Z"
   },
   {
    "duration": 6,
    "start_time": "2022-06-06T06:18:18.512Z"
   },
   {
    "duration": 9,
    "start_time": "2022-06-06T06:18:18.519Z"
   },
   {
    "duration": 39,
    "start_time": "2022-06-06T06:18:18.529Z"
   },
   {
    "duration": 16,
    "start_time": "2022-06-06T06:18:18.570Z"
   },
   {
    "duration": 11,
    "start_time": "2022-06-06T06:18:18.587Z"
   },
   {
    "duration": 14,
    "start_time": "2022-06-06T06:18:18.599Z"
   },
   {
    "duration": 5,
    "start_time": "2022-06-06T06:18:18.617Z"
   },
   {
    "duration": 34,
    "start_time": "2022-06-06T06:18:18.627Z"
   },
   {
    "duration": 85,
    "start_time": "2022-06-06T08:56:41.110Z"
   },
   {
    "duration": 1526,
    "start_time": "2022-06-06T08:56:46.150Z"
   },
   {
    "duration": 3,
    "start_time": "2022-06-06T08:56:47.812Z"
   },
   {
    "duration": 185,
    "start_time": "2022-06-06T08:56:49.480Z"
   },
   {
    "duration": 45,
    "start_time": "2022-06-06T08:56:51.452Z"
   },
   {
    "duration": 29,
    "start_time": "2022-06-06T08:57:04.394Z"
   },
   {
    "duration": 8,
    "start_time": "2022-06-06T08:57:13.064Z"
   },
   {
    "duration": 46,
    "start_time": "2022-06-06T08:57:32.502Z"
   },
   {
    "duration": 49,
    "start_time": "2022-06-06T08:58:49.582Z"
   },
   {
    "duration": 40,
    "start_time": "2022-06-06T08:59:37.188Z"
   },
   {
    "duration": 39,
    "start_time": "2022-06-06T09:00:12.409Z"
   },
   {
    "duration": 6,
    "start_time": "2022-06-06T09:00:36.570Z"
   },
   {
    "duration": 6,
    "start_time": "2022-06-06T09:01:33.544Z"
   },
   {
    "duration": 52,
    "start_time": "2022-06-06T09:01:38.400Z"
   },
   {
    "duration": 42,
    "start_time": "2022-06-06T09:02:42.770Z"
   },
   {
    "duration": 36,
    "start_time": "2022-06-06T09:03:34.141Z"
   },
   {
    "duration": 93,
    "start_time": "2022-06-06T09:08:33.777Z"
   },
   {
    "duration": 24,
    "start_time": "2022-06-06T09:08:38.333Z"
   },
   {
    "duration": 8,
    "start_time": "2022-06-06T09:08:59.945Z"
   },
   {
    "duration": 15,
    "start_time": "2022-06-06T09:09:15.409Z"
   },
   {
    "duration": 12,
    "start_time": "2022-06-06T09:09:21.014Z"
   },
   {
    "duration": 11,
    "start_time": "2022-06-06T09:11:21.302Z"
   },
   {
    "duration": 15,
    "start_time": "2022-06-06T09:11:48.823Z"
   },
   {
    "duration": 8,
    "start_time": "2022-06-06T09:11:56.757Z"
   },
   {
    "duration": 9,
    "start_time": "2022-06-06T09:12:18.043Z"
   },
   {
    "duration": 8,
    "start_time": "2022-06-06T09:12:27.746Z"
   },
   {
    "duration": 8,
    "start_time": "2022-06-06T09:12:31.051Z"
   },
   {
    "duration": 8,
    "start_time": "2022-06-06T09:12:48.663Z"
   },
   {
    "duration": 8,
    "start_time": "2022-06-06T09:12:53.057Z"
   },
   {
    "duration": 11,
    "start_time": "2022-06-06T09:13:19.041Z"
   },
   {
    "duration": 7,
    "start_time": "2022-06-06T09:17:14.295Z"
   },
   {
    "duration": 6,
    "start_time": "2022-06-06T09:17:16.902Z"
   },
   {
    "duration": 3,
    "start_time": "2022-06-06T09:17:19.662Z"
   },
   {
    "duration": 37,
    "start_time": "2022-06-06T09:17:27.053Z"
   },
   {
    "duration": 36,
    "start_time": "2022-06-06T09:17:51.943Z"
   },
   {
    "duration": 10,
    "start_time": "2022-06-06T09:17:56.455Z"
   },
   {
    "duration": 30,
    "start_time": "2022-06-06T09:18:46.711Z"
   },
   {
    "duration": 36,
    "start_time": "2022-06-06T09:18:59.645Z"
   },
   {
    "duration": 27,
    "start_time": "2022-06-06T09:19:10.487Z"
   },
   {
    "duration": 38,
    "start_time": "2022-06-06T09:19:15.581Z"
   },
   {
    "duration": 36,
    "start_time": "2022-06-06T09:19:28.524Z"
   },
   {
    "duration": 10,
    "start_time": "2022-06-06T09:19:34.249Z"
   },
   {
    "duration": 6,
    "start_time": "2022-06-06T09:21:04.901Z"
   },
   {
    "duration": 9,
    "start_time": "2022-06-06T09:22:49.986Z"
   },
   {
    "duration": 6,
    "start_time": "2022-06-06T09:22:52.579Z"
   },
   {
    "duration": 6,
    "start_time": "2022-06-06T09:22:53.938Z"
   },
   {
    "duration": 7,
    "start_time": "2022-06-06T09:22:55.727Z"
   },
   {
    "duration": 12,
    "start_time": "2022-06-06T09:25:26.998Z"
   },
   {
    "duration": 5,
    "start_time": "2022-06-06T09:25:36.527Z"
   },
   {
    "duration": 6,
    "start_time": "2022-06-06T09:26:44.593Z"
   },
   {
    "duration": 10,
    "start_time": "2022-06-06T09:27:07.734Z"
   },
   {
    "duration": 9,
    "start_time": "2022-06-06T09:28:31.497Z"
   },
   {
    "duration": 9,
    "start_time": "2022-06-06T09:28:40.043Z"
   },
   {
    "duration": 36,
    "start_time": "2022-06-06T09:29:19.636Z"
   },
   {
    "duration": 9,
    "start_time": "2022-06-06T09:29:32.228Z"
   },
   {
    "duration": 10,
    "start_time": "2022-06-06T09:30:35.648Z"
   },
   {
    "duration": 4,
    "start_time": "2022-06-06T09:31:04.002Z"
   },
   {
    "duration": 11,
    "start_time": "2022-06-06T09:32:12.188Z"
   },
   {
    "duration": 10,
    "start_time": "2022-06-06T09:32:23.412Z"
   },
   {
    "duration": 12,
    "start_time": "2022-06-06T09:35:06.261Z"
   },
   {
    "duration": 11,
    "start_time": "2022-06-06T09:35:19.556Z"
   },
   {
    "duration": 5,
    "start_time": "2022-06-06T09:40:45.055Z"
   },
   {
    "duration": 4,
    "start_time": "2022-06-06T09:41:14.815Z"
   },
   {
    "duration": 6,
    "start_time": "2022-06-06T09:41:32.483Z"
   },
   {
    "duration": 12,
    "start_time": "2022-06-06T09:43:06.515Z"
   },
   {
    "duration": 11,
    "start_time": "2022-06-06T09:43:20.668Z"
   },
   {
    "duration": 12,
    "start_time": "2022-06-06T09:43:27.535Z"
   },
   {
    "duration": 8,
    "start_time": "2022-06-06T09:45:18.672Z"
   },
   {
    "duration": 10,
    "start_time": "2022-06-06T09:45:20.058Z"
   },
   {
    "duration": 11,
    "start_time": "2022-06-06T09:46:12.673Z"
   },
   {
    "duration": 5,
    "start_time": "2022-06-06T09:46:53.312Z"
   },
   {
    "duration": 11,
    "start_time": "2022-06-06T09:47:01.516Z"
   },
   {
    "duration": 63,
    "start_time": "2022-06-06T09:49:52.595Z"
   },
   {
    "duration": 3,
    "start_time": "2022-06-06T09:50:16.621Z"
   },
   {
    "duration": 3,
    "start_time": "2022-06-06T09:50:16.644Z"
   },
   {
    "duration": 76,
    "start_time": "2022-06-06T09:50:16.649Z"
   },
   {
    "duration": 36,
    "start_time": "2022-06-06T09:50:16.727Z"
   },
   {
    "duration": 6,
    "start_time": "2022-06-06T09:50:16.764Z"
   },
   {
    "duration": 7,
    "start_time": "2022-06-06T09:50:16.772Z"
   },
   {
    "duration": 15,
    "start_time": "2022-06-06T09:50:16.781Z"
   },
   {
    "duration": 7,
    "start_time": "2022-06-06T09:50:16.798Z"
   },
   {
    "duration": 13,
    "start_time": "2022-06-06T09:50:16.807Z"
   },
   {
    "duration": 76,
    "start_time": "2022-06-06T09:50:16.821Z"
   },
   {
    "duration": 9,
    "start_time": "2022-06-06T09:50:16.898Z"
   },
   {
    "duration": 11,
    "start_time": "2022-06-06T09:50:16.909Z"
   },
   {
    "duration": 5,
    "start_time": "2022-06-06T09:50:16.921Z"
   },
   {
    "duration": 10,
    "start_time": "2022-06-06T09:50:16.929Z"
   },
   {
    "duration": 21,
    "start_time": "2022-06-06T09:50:16.941Z"
   },
   {
    "duration": 16,
    "start_time": "2022-06-06T09:50:16.989Z"
   },
   {
    "duration": 8,
    "start_time": "2022-06-06T09:50:17.007Z"
   },
   {
    "duration": 12,
    "start_time": "2022-06-06T09:50:17.017Z"
   },
   {
    "duration": 427,
    "start_time": "2022-06-06T09:50:17.030Z"
   },
   {
    "duration": 227,
    "start_time": "2022-06-06T09:50:17.459Z"
   },
   {
    "duration": 353,
    "start_time": "2022-06-06T09:50:38.711Z"
   },
   {
    "duration": 256,
    "start_time": "2022-06-06T09:50:50.765Z"
   },
   {
    "duration": 275,
    "start_time": "2022-06-06T09:51:10.331Z"
   },
   {
    "duration": 11,
    "start_time": "2022-06-06T09:51:30.334Z"
   },
   {
    "duration": 153,
    "start_time": "2022-06-06T09:51:34.379Z"
   },
   {
    "duration": 6,
    "start_time": "2022-06-06T09:51:53.610Z"
   },
   {
    "duration": 7,
    "start_time": "2022-06-06T09:53:47.490Z"
   },
   {
    "duration": 7,
    "start_time": "2022-06-06T09:53:49.276Z"
   },
   {
    "duration": 6,
    "start_time": "2022-06-06T09:54:06.247Z"
   },
   {
    "duration": 147,
    "start_time": "2022-06-06T09:54:13.428Z"
   },
   {
    "duration": 8,
    "start_time": "2022-06-06T09:54:18.543Z"
   },
   {
    "duration": 4,
    "start_time": "2022-06-06T09:54:21.783Z"
   },
   {
    "duration": 11,
    "start_time": "2022-06-06T09:54:28.700Z"
   },
   {
    "duration": 8,
    "start_time": "2022-06-06T09:54:30.163Z"
   },
   {
    "duration": 9,
    "start_time": "2022-06-06T09:54:32.775Z"
   },
   {
    "duration": 10,
    "start_time": "2022-06-06T09:54:36.369Z"
   },
   {
    "duration": 10,
    "start_time": "2022-06-06T09:54:43.086Z"
   },
   {
    "duration": 6,
    "start_time": "2022-06-06T09:54:44.956Z"
   },
   {
    "duration": 6,
    "start_time": "2022-06-06T09:54:46.221Z"
   },
   {
    "duration": 13,
    "start_time": "2022-06-06T09:54:59.060Z"
   },
   {
    "duration": 9,
    "start_time": "2022-06-06T09:55:00.566Z"
   },
   {
    "duration": 6,
    "start_time": "2022-06-06T09:55:21.244Z"
   },
   {
    "duration": 9,
    "start_time": "2022-06-06T09:55:22.191Z"
   },
   {
    "duration": 6,
    "start_time": "2022-06-06T09:55:24.248Z"
   },
   {
    "duration": 6,
    "start_time": "2022-06-06T09:55:25.570Z"
   },
   {
    "duration": 3,
    "start_time": "2022-06-06T09:58:18.604Z"
   },
   {
    "duration": 11,
    "start_time": "2022-06-06T09:58:20.518Z"
   },
   {
    "duration": 12,
    "start_time": "2022-06-06T09:59:17.069Z"
   },
   {
    "duration": 8,
    "start_time": "2022-06-06T09:59:21.894Z"
   },
   {
    "duration": 6,
    "start_time": "2022-06-06T10:00:15.676Z"
   },
   {
    "duration": 10,
    "start_time": "2022-06-06T10:00:17.364Z"
   },
   {
    "duration": 1253,
    "start_time": "2022-06-06T10:00:29.709Z"
   },
   {
    "duration": 3,
    "start_time": "2022-06-06T10:00:30.964Z"
   },
   {
    "duration": 99,
    "start_time": "2022-06-06T10:00:30.969Z"
   },
   {
    "duration": 39,
    "start_time": "2022-06-06T10:00:31.070Z"
   },
   {
    "duration": 5,
    "start_time": "2022-06-06T10:00:31.112Z"
   },
   {
    "duration": 24,
    "start_time": "2022-06-06T10:00:31.119Z"
   },
   {
    "duration": 87,
    "start_time": "2022-06-06T10:00:31.144Z"
   },
   {
    "duration": 49,
    "start_time": "2022-06-06T10:00:31.233Z"
   },
   {
    "duration": 48,
    "start_time": "2022-06-06T10:00:31.283Z"
   },
   {
    "duration": 59,
    "start_time": "2022-06-06T10:00:31.333Z"
   },
   {
    "duration": 9,
    "start_time": "2022-06-06T10:00:31.394Z"
   },
   {
    "duration": 22,
    "start_time": "2022-06-06T10:00:31.405Z"
   },
   {
    "duration": 16,
    "start_time": "2022-06-06T10:00:31.428Z"
   },
   {
    "duration": 24,
    "start_time": "2022-06-06T10:00:31.447Z"
   },
   {
    "duration": 24,
    "start_time": "2022-06-06T10:00:31.473Z"
   },
   {
    "duration": 19,
    "start_time": "2022-06-06T10:00:31.499Z"
   },
   {
    "duration": 26,
    "start_time": "2022-06-06T10:00:31.520Z"
   },
   {
    "duration": 17,
    "start_time": "2022-06-06T10:00:31.547Z"
   },
   {
    "duration": 464,
    "start_time": "2022-06-06T10:00:31.566Z"
   },
   {
    "duration": 263,
    "start_time": "2022-06-06T10:00:32.032Z"
   },
   {
    "duration": 324,
    "start_time": "2022-06-06T10:00:32.297Z"
   },
   {
    "duration": 252,
    "start_time": "2022-06-06T10:00:32.622Z"
   },
   {
    "duration": 349,
    "start_time": "2022-06-06T10:00:32.876Z"
   },
   {
    "duration": 14,
    "start_time": "2022-06-06T10:00:33.227Z"
   },
   {
    "duration": 146,
    "start_time": "2022-06-06T10:00:33.243Z"
   },
   {
    "duration": 6,
    "start_time": "2022-06-06T10:00:33.391Z"
   },
   {
    "duration": 10,
    "start_time": "2022-06-06T10:00:33.398Z"
   },
   {
    "duration": 10,
    "start_time": "2022-06-06T10:00:33.410Z"
   },
   {
    "duration": 162,
    "start_time": "2022-06-06T10:00:33.421Z"
   },
   {
    "duration": 8,
    "start_time": "2022-06-06T10:00:33.584Z"
   },
   {
    "duration": 10,
    "start_time": "2022-06-06T10:00:33.594Z"
   },
   {
    "duration": 13,
    "start_time": "2022-06-06T10:00:33.606Z"
   },
   {
    "duration": 10,
    "start_time": "2022-06-06T10:00:33.621Z"
   },
   {
    "duration": 8,
    "start_time": "2022-06-06T10:00:33.633Z"
   },
   {
    "duration": 13,
    "start_time": "2022-06-06T10:00:33.643Z"
   },
   {
    "duration": 35,
    "start_time": "2022-06-06T10:00:33.658Z"
   },
   {
    "duration": 6,
    "start_time": "2022-06-06T10:00:33.695Z"
   },
   {
    "duration": 7,
    "start_time": "2022-06-06T10:00:33.702Z"
   },
   {
    "duration": 11,
    "start_time": "2022-06-06T10:00:33.711Z"
   },
   {
    "duration": 8,
    "start_time": "2022-06-06T10:00:33.724Z"
   },
   {
    "duration": 6,
    "start_time": "2022-06-06T10:00:33.735Z"
   },
   {
    "duration": 10,
    "start_time": "2022-06-06T10:00:33.743Z"
   },
   {
    "duration": 39,
    "start_time": "2022-06-06T10:00:33.754Z"
   },
   {
    "duration": 11,
    "start_time": "2022-06-06T10:00:33.795Z"
   },
   {
    "duration": 240,
    "start_time": "2022-06-06T10:06:15.266Z"
   },
   {
    "duration": 143,
    "start_time": "2022-06-06T10:07:23.981Z"
   },
   {
    "duration": 156,
    "start_time": "2022-06-06T10:07:33.839Z"
   },
   {
    "duration": 152,
    "start_time": "2022-06-06T10:08:15.842Z"
   },
   {
    "duration": 153,
    "start_time": "2022-06-06T10:08:19.948Z"
   },
   {
    "duration": 225,
    "start_time": "2022-06-06T10:12:15.773Z"
   },
   {
    "duration": 129,
    "start_time": "2022-06-06T10:12:34.468Z"
   },
   {
    "duration": 146,
    "start_time": "2022-06-06T10:19:36.755Z"
   },
   {
    "duration": 137,
    "start_time": "2022-06-06T10:19:54.105Z"
   },
   {
    "duration": 151,
    "start_time": "2022-06-06T10:20:18.985Z"
   },
   {
    "duration": 139,
    "start_time": "2022-06-06T10:20:27.457Z"
   },
   {
    "duration": 154,
    "start_time": "2022-06-06T10:20:35.640Z"
   },
   {
    "duration": 134,
    "start_time": "2022-06-06T10:21:49.613Z"
   },
   {
    "duration": 158,
    "start_time": "2022-06-06T10:21:56.702Z"
   },
   {
    "duration": 174,
    "start_time": "2022-06-06T10:22:01.153Z"
   },
   {
    "duration": 158,
    "start_time": "2022-06-06T10:22:18.952Z"
   },
   {
    "duration": 162,
    "start_time": "2022-06-06T10:22:45.675Z"
   },
   {
    "duration": 153,
    "start_time": "2022-06-06T10:23:04.937Z"
   },
   {
    "duration": 185,
    "start_time": "2022-06-06T10:23:10.745Z"
   },
   {
    "duration": 241,
    "start_time": "2022-06-06T10:23:48.358Z"
   },
   {
    "duration": 281,
    "start_time": "2022-06-06T10:23:51.981Z"
   },
   {
    "duration": 133,
    "start_time": "2022-06-06T10:29:08.722Z"
   },
   {
    "duration": 142,
    "start_time": "2022-06-06T10:30:01.133Z"
   },
   {
    "duration": 145,
    "start_time": "2022-06-06T10:30:11.111Z"
   },
   {
    "duration": 172,
    "start_time": "2022-06-06T10:31:24.111Z"
   },
   {
    "duration": 164,
    "start_time": "2022-06-06T10:31:40.846Z"
   },
   {
    "duration": 145,
    "start_time": "2022-06-06T10:32:29.524Z"
   },
   {
    "duration": 154,
    "start_time": "2022-06-06T10:33:23.225Z"
   },
   {
    "duration": 159,
    "start_time": "2022-06-06T10:33:52.622Z"
   },
   {
    "duration": 182,
    "start_time": "2022-06-06T10:33:55.289Z"
   },
   {
    "duration": 9,
    "start_time": "2022-06-06T11:03:21.414Z"
   },
   {
    "duration": 31,
    "start_time": "2022-06-06T11:04:49.379Z"
   },
   {
    "duration": 13,
    "start_time": "2022-06-06T11:04:55.008Z"
   },
   {
    "duration": 14,
    "start_time": "2022-06-06T11:05:07.283Z"
   },
   {
    "duration": 4,
    "start_time": "2022-06-06T11:06:02.476Z"
   },
   {
    "duration": 3,
    "start_time": "2022-06-06T11:06:11.820Z"
   },
   {
    "duration": 5,
    "start_time": "2022-06-06T11:06:22.317Z"
   },
   {
    "duration": 5,
    "start_time": "2022-06-06T11:07:29.195Z"
   },
   {
    "duration": 4,
    "start_time": "2022-06-06T11:07:39.633Z"
   },
   {
    "duration": 8,
    "start_time": "2022-06-06T11:10:48.603Z"
   },
   {
    "duration": 17,
    "start_time": "2022-06-06T11:10:49.907Z"
   },
   {
    "duration": 11,
    "start_time": "2022-06-06T11:10:51.518Z"
   },
   {
    "duration": 27,
    "start_time": "2022-06-06T11:10:54.491Z"
   },
   {
    "duration": 13,
    "start_time": "2022-06-06T11:10:55.989Z"
   },
   {
    "duration": 12,
    "start_time": "2022-06-06T11:12:17.774Z"
   },
   {
    "duration": 18,
    "start_time": "2022-06-06T11:12:26.188Z"
   },
   {
    "duration": 4,
    "start_time": "2022-06-06T11:13:11.479Z"
   },
   {
    "duration": 7,
    "start_time": "2022-06-06T11:14:27.331Z"
   },
   {
    "duration": 12,
    "start_time": "2022-06-06T12:14:02.386Z"
   },
   {
    "duration": 4,
    "start_time": "2022-06-06T12:15:24.578Z"
   },
   {
    "duration": 9,
    "start_time": "2022-06-06T12:15:47.729Z"
   },
   {
    "duration": 9,
    "start_time": "2022-06-06T12:16:02.169Z"
   },
   {
    "duration": 4,
    "start_time": "2022-06-06T12:16:08.933Z"
   },
   {
    "duration": 20,
    "start_time": "2022-06-06T12:20:07.238Z"
   },
   {
    "duration": 168,
    "start_time": "2022-06-06T12:21:04.441Z"
   },
   {
    "duration": 226,
    "start_time": "2022-06-06T12:22:18.431Z"
   },
   {
    "duration": 52,
    "start_time": "2022-06-06T12:24:48.864Z"
   },
   {
    "duration": 451,
    "start_time": "2022-06-06T12:25:28.770Z"
   },
   {
    "duration": 432,
    "start_time": "2022-06-06T12:27:23.542Z"
   },
   {
    "duration": 6,
    "start_time": "2022-06-06T12:28:13.339Z"
   },
   {
    "duration": 5,
    "start_time": "2022-06-06T12:28:16.199Z"
   },
   {
    "duration": 6,
    "start_time": "2022-06-06T12:31:13.178Z"
   },
   {
    "duration": 6,
    "start_time": "2022-06-06T12:31:20.673Z"
   },
   {
    "duration": 61,
    "start_time": "2022-06-06T12:37:21.080Z"
   },
   {
    "duration": 15,
    "start_time": "2022-06-06T12:40:48.097Z"
   },
   {
    "duration": 6,
    "start_time": "2022-06-06T12:42:00.333Z"
   },
   {
    "duration": 6,
    "start_time": "2022-06-06T12:42:02.401Z"
   },
   {
    "duration": 8,
    "start_time": "2022-06-06T12:42:03.950Z"
   },
   {
    "duration": 9,
    "start_time": "2022-06-06T12:42:15.405Z"
   },
   {
    "duration": 8,
    "start_time": "2022-06-06T12:42:22.039Z"
   },
   {
    "duration": 8,
    "start_time": "2022-06-06T12:42:32.220Z"
   },
   {
    "duration": 8,
    "start_time": "2022-06-06T12:42:41.713Z"
   },
   {
    "duration": 7,
    "start_time": "2022-06-06T12:42:54.830Z"
   },
   {
    "duration": 6,
    "start_time": "2022-06-06T12:42:59.334Z"
   },
   {
    "duration": 10,
    "start_time": "2022-06-06T12:44:44.648Z"
   },
   {
    "duration": 9,
    "start_time": "2022-06-06T12:48:29.014Z"
   },
   {
    "duration": 16,
    "start_time": "2022-06-06T12:48:49.850Z"
   },
   {
    "duration": 9,
    "start_time": "2022-06-06T12:49:19.371Z"
   },
   {
    "duration": 8,
    "start_time": "2022-06-06T12:49:39.459Z"
   },
   {
    "duration": 10,
    "start_time": "2022-06-06T12:57:54.350Z"
   },
   {
    "duration": 8,
    "start_time": "2022-06-06T12:58:40.727Z"
   },
   {
    "duration": 36,
    "start_time": "2022-06-06T12:59:47.269Z"
   },
   {
    "duration": 4,
    "start_time": "2022-06-06T13:00:33.742Z"
   },
   {
    "duration": 7,
    "start_time": "2022-06-06T13:00:33.749Z"
   },
   {
    "duration": 86,
    "start_time": "2022-06-06T13:00:33.760Z"
   },
   {
    "duration": 47,
    "start_time": "2022-06-06T13:00:33.849Z"
   },
   {
    "duration": 7,
    "start_time": "2022-06-06T13:00:33.899Z"
   },
   {
    "duration": 18,
    "start_time": "2022-06-06T13:00:33.908Z"
   },
   {
    "duration": 24,
    "start_time": "2022-06-06T13:00:33.929Z"
   },
   {
    "duration": 13,
    "start_time": "2022-06-06T13:00:33.955Z"
   },
   {
    "duration": 25,
    "start_time": "2022-06-06T13:00:33.971Z"
   },
   {
    "duration": 10,
    "start_time": "2022-06-06T13:00:33.998Z"
   },
   {
    "duration": 15,
    "start_time": "2022-06-06T13:00:34.010Z"
   },
   {
    "duration": 16,
    "start_time": "2022-06-06T13:00:34.027Z"
   },
   {
    "duration": 4,
    "start_time": "2022-06-06T13:00:34.051Z"
   },
   {
    "duration": 35,
    "start_time": "2022-06-06T13:00:34.058Z"
   },
   {
    "duration": 20,
    "start_time": "2022-06-06T13:00:34.095Z"
   },
   {
    "duration": 16,
    "start_time": "2022-06-06T13:00:34.118Z"
   },
   {
    "duration": 8,
    "start_time": "2022-06-06T13:00:34.136Z"
   },
   {
    "duration": 11,
    "start_time": "2022-06-06T13:00:34.189Z"
   },
   {
    "duration": 260,
    "start_time": "2022-06-06T13:00:34.203Z"
   },
   {
    "duration": 263,
    "start_time": "2022-06-06T13:00:34.465Z"
   },
   {
    "duration": 453,
    "start_time": "2022-06-06T13:00:34.730Z"
   },
   {
    "duration": 254,
    "start_time": "2022-06-06T13:00:35.185Z"
   },
   {
    "duration": 313,
    "start_time": "2022-06-06T13:00:35.440Z"
   },
   {
    "duration": 13,
    "start_time": "2022-06-06T13:00:35.756Z"
   },
   {
    "duration": 170,
    "start_time": "2022-06-06T13:00:35.771Z"
   },
   {
    "duration": 182,
    "start_time": "2022-06-06T13:00:35.943Z"
   },
   {
    "duration": 6,
    "start_time": "2022-06-06T13:00:36.127Z"
   },
   {
    "duration": 7,
    "start_time": "2022-06-06T13:00:36.135Z"
   },
   {
    "duration": 6,
    "start_time": "2022-06-06T13:00:36.144Z"
   },
   {
    "duration": 176,
    "start_time": "2022-06-06T13:00:36.152Z"
   },
   {
    "duration": 183,
    "start_time": "2022-06-06T13:00:36.331Z"
   },
   {
    "duration": 6,
    "start_time": "2022-06-06T13:00:36.516Z"
   },
   {
    "duration": 14,
    "start_time": "2022-06-06T13:00:36.524Z"
   },
   {
    "duration": 9,
    "start_time": "2022-06-06T13:00:36.539Z"
   },
   {
    "duration": 6,
    "start_time": "2022-06-06T13:00:36.550Z"
   },
   {
    "duration": 413,
    "start_time": "2022-06-06T13:00:36.558Z"
   },
   {
    "duration": 10,
    "start_time": "2022-06-06T13:00:36.973Z"
   },
   {
    "duration": 9,
    "start_time": "2022-06-06T13:00:36.984Z"
   },
   {
    "duration": 7,
    "start_time": "2022-06-06T13:00:36.995Z"
   },
   {
    "duration": 7,
    "start_time": "2022-06-06T13:00:37.004Z"
   },
   {
    "duration": 11,
    "start_time": "2022-06-06T13:00:37.013Z"
   },
   {
    "duration": 8,
    "start_time": "2022-06-06T13:00:37.025Z"
   },
   {
    "duration": 13,
    "start_time": "2022-06-06T13:00:37.034Z"
   },
   {
    "duration": 36,
    "start_time": "2022-06-06T13:00:54.817Z"
   },
   {
    "duration": 15,
    "start_time": "2022-06-06T13:01:24.553Z"
   },
   {
    "duration": 13,
    "start_time": "2022-06-06T13:01:47.129Z"
   },
   {
    "duration": 8,
    "start_time": "2022-06-06T13:02:21.665Z"
   },
   {
    "duration": 9,
    "start_time": "2022-06-06T13:02:26.488Z"
   },
   {
    "duration": 34,
    "start_time": "2022-06-06T13:02:34.863Z"
   },
   {
    "duration": 6,
    "start_time": "2022-06-06T13:02:47.819Z"
   },
   {
    "duration": 11,
    "start_time": "2022-06-06T13:02:50.800Z"
   },
   {
    "duration": 6,
    "start_time": "2022-06-06T13:02:55.960Z"
   },
   {
    "duration": 6,
    "start_time": "2022-06-06T13:02:57.161Z"
   },
   {
    "duration": 10,
    "start_time": "2022-06-06T13:02:58.815Z"
   },
   {
    "duration": 8,
    "start_time": "2022-06-06T13:03:14.065Z"
   },
   {
    "duration": 13,
    "start_time": "2022-06-06T13:03:15.129Z"
   },
   {
    "duration": 8,
    "start_time": "2022-06-06T13:03:17.000Z"
   },
   {
    "duration": 8,
    "start_time": "2022-06-06T13:03:17.960Z"
   },
   {
    "duration": 10,
    "start_time": "2022-06-06T13:03:18.928Z"
   },
   {
    "duration": 5,
    "start_time": "2022-06-06T13:03:53.370Z"
   },
   {
    "duration": 4,
    "start_time": "2022-06-06T13:04:18.625Z"
   },
   {
    "duration": 4,
    "start_time": "2022-06-06T13:04:20.344Z"
   },
   {
    "duration": 10,
    "start_time": "2022-06-06T13:04:31.067Z"
   },
   {
    "duration": 31,
    "start_time": "2022-06-06T13:04:32.657Z"
   },
   {
    "duration": 18,
    "start_time": "2022-06-06T13:33:42.212Z"
   },
   {
    "duration": 10,
    "start_time": "2022-06-06T13:33:47.451Z"
   },
   {
    "duration": 32,
    "start_time": "2022-06-06T13:33:50.344Z"
   },
   {
    "duration": 40,
    "start_time": "2022-06-06T13:37:00.742Z"
   },
   {
    "duration": 29,
    "start_time": "2022-06-06T13:38:19.376Z"
   },
   {
    "duration": 1435,
    "start_time": "2022-06-06T13:38:32.298Z"
   },
   {
    "duration": 87,
    "start_time": "2022-06-06T13:38:33.735Z"
   },
   {
    "duration": 49,
    "start_time": "2022-06-06T13:38:33.824Z"
   },
   {
    "duration": 7,
    "start_time": "2022-06-06T13:38:33.875Z"
   },
   {
    "duration": 11,
    "start_time": "2022-06-06T13:38:33.885Z"
   },
   {
    "duration": 15,
    "start_time": "2022-06-06T13:38:33.898Z"
   },
   {
    "duration": 6,
    "start_time": "2022-06-06T13:38:33.915Z"
   },
   {
    "duration": 16,
    "start_time": "2022-06-06T13:38:33.923Z"
   },
   {
    "duration": 85,
    "start_time": "2022-06-06T13:38:33.942Z"
   },
   {
    "duration": 12,
    "start_time": "2022-06-06T13:38:34.029Z"
   },
   {
    "duration": 30,
    "start_time": "2022-06-06T13:38:34.043Z"
   },
   {
    "duration": 24,
    "start_time": "2022-06-06T13:38:34.075Z"
   },
   {
    "duration": 16,
    "start_time": "2022-06-06T13:38:34.102Z"
   },
   {
    "duration": 30,
    "start_time": "2022-06-06T13:38:34.123Z"
   },
   {
    "duration": 21,
    "start_time": "2022-06-06T13:38:34.155Z"
   },
   {
    "duration": 13,
    "start_time": "2022-06-06T13:38:34.178Z"
   },
   {
    "duration": 17,
    "start_time": "2022-06-06T13:38:34.193Z"
   },
   {
    "duration": 470,
    "start_time": "2022-06-06T13:38:34.212Z"
   },
   {
    "duration": 239,
    "start_time": "2022-06-06T13:38:34.690Z"
   },
   {
    "duration": 347,
    "start_time": "2022-06-06T13:38:34.931Z"
   },
   {
    "duration": 252,
    "start_time": "2022-06-06T13:38:35.290Z"
   },
   {
    "duration": 381,
    "start_time": "2022-06-06T13:38:35.543Z"
   },
   {
    "duration": 15,
    "start_time": "2022-06-06T13:38:35.926Z"
   },
   {
    "duration": 207,
    "start_time": "2022-06-06T13:38:35.942Z"
   },
   {
    "duration": 284,
    "start_time": "2022-06-06T13:38:36.151Z"
   },
   {
    "duration": 9,
    "start_time": "2022-06-06T13:38:36.437Z"
   },
   {
    "duration": 28,
    "start_time": "2022-06-06T13:38:36.448Z"
   },
   {
    "duration": 26,
    "start_time": "2022-06-06T13:38:36.478Z"
   },
   {
    "duration": 187,
    "start_time": "2022-06-06T13:38:36.506Z"
   },
   {
    "duration": 184,
    "start_time": "2022-06-06T13:38:36.695Z"
   },
   {
    "duration": 15,
    "start_time": "2022-06-06T13:38:36.881Z"
   },
   {
    "duration": 29,
    "start_time": "2022-06-06T13:38:36.899Z"
   },
   {
    "duration": 30,
    "start_time": "2022-06-06T13:38:36.931Z"
   },
   {
    "duration": 17,
    "start_time": "2022-06-06T13:38:36.963Z"
   },
   {
    "duration": 459,
    "start_time": "2022-06-06T13:38:36.982Z"
   },
   {
    "duration": 12,
    "start_time": "2022-06-06T13:38:37.443Z"
   },
   {
    "duration": 11,
    "start_time": "2022-06-06T13:38:37.457Z"
   },
   {
    "duration": 27,
    "start_time": "2022-06-06T13:38:37.470Z"
   },
   {
    "duration": 22,
    "start_time": "2022-06-06T13:38:37.500Z"
   },
   {
    "duration": 10,
    "start_time": "2022-06-06T13:38:37.527Z"
   },
   {
    "duration": 11,
    "start_time": "2022-06-06T13:38:37.542Z"
   },
   {
    "duration": 22,
    "start_time": "2022-06-06T13:38:37.554Z"
   },
   {
    "duration": 30,
    "start_time": "2022-06-06T13:38:37.578Z"
   },
   {
    "duration": 51,
    "start_time": "2022-06-06T13:38:37.610Z"
   },
   {
    "duration": 8,
    "start_time": "2022-06-06T13:38:37.663Z"
   },
   {
    "duration": 22,
    "start_time": "2022-06-06T13:38:37.674Z"
   },
   {
    "duration": 10,
    "start_time": "2022-06-06T13:38:37.697Z"
   },
   {
    "duration": 16,
    "start_time": "2022-06-06T13:38:37.708Z"
   },
   {
    "duration": 15,
    "start_time": "2022-06-06T13:38:37.726Z"
   },
   {
    "duration": 13,
    "start_time": "2022-06-06T13:40:38.849Z"
   },
   {
    "duration": 10,
    "start_time": "2022-06-06T13:40:44.559Z"
   },
   {
    "duration": 31,
    "start_time": "2022-06-06T13:40:46.230Z"
   },
   {
    "duration": 1257,
    "start_time": "2022-06-06T13:41:23.632Z"
   },
   {
    "duration": 78,
    "start_time": "2022-06-06T13:41:24.892Z"
   },
   {
    "duration": 43,
    "start_time": "2022-06-06T13:41:24.972Z"
   },
   {
    "duration": 7,
    "start_time": "2022-06-06T13:41:25.017Z"
   },
   {
    "duration": 8,
    "start_time": "2022-06-06T13:41:25.026Z"
   },
   {
    "duration": 20,
    "start_time": "2022-06-06T13:41:25.036Z"
   },
   {
    "duration": 34,
    "start_time": "2022-06-06T13:41:25.058Z"
   },
   {
    "duration": 24,
    "start_time": "2022-06-06T13:41:25.095Z"
   },
   {
    "duration": 55,
    "start_time": "2022-06-06T13:41:25.121Z"
   },
   {
    "duration": 17,
    "start_time": "2022-06-06T13:41:25.189Z"
   },
   {
    "duration": 33,
    "start_time": "2022-06-06T13:41:25.208Z"
   },
   {
    "duration": 5,
    "start_time": "2022-06-06T13:41:25.243Z"
   },
   {
    "duration": 29,
    "start_time": "2022-06-06T13:41:25.250Z"
   },
   {
    "duration": 35,
    "start_time": "2022-06-06T13:41:25.281Z"
   },
   {
    "duration": 20,
    "start_time": "2022-06-06T13:41:25.318Z"
   },
   {
    "duration": 15,
    "start_time": "2022-06-06T13:41:25.340Z"
   },
   {
    "duration": 22,
    "start_time": "2022-06-06T13:41:25.357Z"
   },
   {
    "duration": 432,
    "start_time": "2022-06-06T13:41:25.381Z"
   },
   {
    "duration": 230,
    "start_time": "2022-06-06T13:41:25.815Z"
   },
   {
    "duration": 384,
    "start_time": "2022-06-06T13:41:26.047Z"
   },
   {
    "duration": 250,
    "start_time": "2022-06-06T13:41:26.433Z"
   },
   {
    "duration": 350,
    "start_time": "2022-06-06T13:41:26.685Z"
   },
   {
    "duration": 12,
    "start_time": "2022-06-06T13:41:27.036Z"
   },
   {
    "duration": 168,
    "start_time": "2022-06-06T13:41:27.050Z"
   },
   {
    "duration": 189,
    "start_time": "2022-06-06T13:41:27.220Z"
   },
   {
    "duration": 7,
    "start_time": "2022-06-06T13:41:27.410Z"
   },
   {
    "duration": 6,
    "start_time": "2022-06-06T13:41:27.419Z"
   },
   {
    "duration": 4,
    "start_time": "2022-06-06T13:41:27.429Z"
   },
   {
    "duration": 193,
    "start_time": "2022-06-06T13:41:27.435Z"
   },
   {
    "duration": 181,
    "start_time": "2022-06-06T13:41:27.630Z"
   },
   {
    "duration": 7,
    "start_time": "2022-06-06T13:41:27.813Z"
   },
   {
    "duration": 6,
    "start_time": "2022-06-06T13:41:27.822Z"
   },
   {
    "duration": 7,
    "start_time": "2022-06-06T13:41:27.830Z"
   },
   {
    "duration": 7,
    "start_time": "2022-06-06T13:41:27.839Z"
   },
   {
    "duration": 455,
    "start_time": "2022-06-06T13:41:27.848Z"
   },
   {
    "duration": 10,
    "start_time": "2022-06-06T13:41:28.305Z"
   },
   {
    "duration": 10,
    "start_time": "2022-06-06T13:41:28.323Z"
   },
   {
    "duration": 19,
    "start_time": "2022-06-06T13:41:28.336Z"
   },
   {
    "duration": 19,
    "start_time": "2022-06-06T13:41:28.358Z"
   },
   {
    "duration": 13,
    "start_time": "2022-06-06T13:41:28.380Z"
   },
   {
    "duration": 18,
    "start_time": "2022-06-06T13:41:28.395Z"
   },
   {
    "duration": 24,
    "start_time": "2022-06-06T13:41:28.416Z"
   },
   {
    "duration": 22,
    "start_time": "2022-06-06T13:41:28.442Z"
   },
   {
    "duration": 57,
    "start_time": "2022-06-06T13:41:28.466Z"
   },
   {
    "duration": 8,
    "start_time": "2022-06-06T13:41:28.526Z"
   },
   {
    "duration": 28,
    "start_time": "2022-06-06T13:41:28.537Z"
   },
   {
    "duration": 12,
    "start_time": "2022-06-06T13:41:28.567Z"
   },
   {
    "duration": 29,
    "start_time": "2022-06-06T13:41:28.581Z"
   },
   {
    "duration": 16,
    "start_time": "2022-06-06T13:41:28.613Z"
   },
   {
    "duration": 1249,
    "start_time": "2022-06-07T11:09:24.007Z"
   },
   {
    "duration": 189,
    "start_time": "2022-06-07T11:09:25.258Z"
   },
   {
    "duration": 34,
    "start_time": "2022-06-07T11:09:25.448Z"
   },
   {
    "duration": 6,
    "start_time": "2022-06-07T11:09:25.483Z"
   },
   {
    "duration": 8,
    "start_time": "2022-06-07T11:09:25.490Z"
   },
   {
    "duration": 14,
    "start_time": "2022-06-07T11:09:25.500Z"
   },
   {
    "duration": 14,
    "start_time": "2022-06-07T11:09:25.515Z"
   },
   {
    "duration": 18,
    "start_time": "2022-06-07T11:09:25.531Z"
   },
   {
    "duration": 46,
    "start_time": "2022-06-07T11:09:25.550Z"
   },
   {
    "duration": 8,
    "start_time": "2022-06-07T11:09:25.599Z"
   },
   {
    "duration": 12,
    "start_time": "2022-06-07T11:09:25.626Z"
   },
   {
    "duration": 11,
    "start_time": "2022-06-07T11:09:25.640Z"
   },
   {
    "duration": 13,
    "start_time": "2022-06-07T11:09:25.653Z"
   },
   {
    "duration": 18,
    "start_time": "2022-06-07T11:09:25.668Z"
   },
   {
    "duration": 16,
    "start_time": "2022-06-07T11:09:25.688Z"
   },
   {
    "duration": 26,
    "start_time": "2022-06-07T11:09:25.705Z"
   },
   {
    "duration": 12,
    "start_time": "2022-06-07T11:09:25.733Z"
   },
   {
    "duration": 369,
    "start_time": "2022-06-07T11:09:25.746Z"
   },
   {
    "duration": 251,
    "start_time": "2022-06-07T11:09:26.116Z"
   },
   {
    "duration": 395,
    "start_time": "2022-06-07T11:09:26.369Z"
   },
   {
    "duration": 198,
    "start_time": "2022-06-07T11:09:26.766Z"
   },
   {
    "duration": 264,
    "start_time": "2022-06-07T11:09:26.966Z"
   },
   {
    "duration": 14,
    "start_time": "2022-06-07T11:09:27.232Z"
   },
   {
    "duration": 152,
    "start_time": "2022-06-07T11:09:27.248Z"
   },
   {
    "duration": 182,
    "start_time": "2022-06-07T11:09:27.402Z"
   },
   {
    "duration": 8,
    "start_time": "2022-06-07T11:09:27.586Z"
   },
   {
    "duration": 14,
    "start_time": "2022-06-07T11:09:27.596Z"
   },
   {
    "duration": 17,
    "start_time": "2022-06-07T11:09:27.614Z"
   },
   {
    "duration": 150,
    "start_time": "2022-06-07T11:09:27.632Z"
   },
   {
    "duration": 143,
    "start_time": "2022-06-07T11:09:27.784Z"
   },
   {
    "duration": 6,
    "start_time": "2022-06-07T11:09:27.928Z"
   },
   {
    "duration": 9,
    "start_time": "2022-06-07T11:09:27.936Z"
   },
   {
    "duration": 12,
    "start_time": "2022-06-07T11:09:27.947Z"
   },
   {
    "duration": 6,
    "start_time": "2022-06-07T11:09:27.961Z"
   },
   {
    "duration": 368,
    "start_time": "2022-06-07T11:09:27.969Z"
   },
   {
    "duration": 10,
    "start_time": "2022-06-07T11:09:28.339Z"
   },
   {
    "duration": 8,
    "start_time": "2022-06-07T11:09:28.351Z"
   },
   {
    "duration": 6,
    "start_time": "2022-06-07T11:09:28.363Z"
   },
   {
    "duration": 8,
    "start_time": "2022-06-07T11:09:28.371Z"
   },
   {
    "duration": 4,
    "start_time": "2022-06-07T11:09:28.381Z"
   },
   {
    "duration": 4,
    "start_time": "2022-06-07T11:09:28.427Z"
   },
   {
    "duration": 17,
    "start_time": "2022-06-07T11:09:28.433Z"
   },
   {
    "duration": 11,
    "start_time": "2022-06-07T11:09:28.452Z"
   },
   {
    "duration": 38,
    "start_time": "2022-06-07T11:09:28.464Z"
   },
   {
    "duration": 6,
    "start_time": "2022-06-07T11:09:28.504Z"
   },
   {
    "duration": 17,
    "start_time": "2022-06-07T11:09:28.512Z"
   },
   {
    "duration": 5,
    "start_time": "2022-06-07T11:09:28.531Z"
   },
   {
    "duration": 11,
    "start_time": "2022-06-07T11:09:28.538Z"
   },
   {
    "duration": 10,
    "start_time": "2022-06-07T11:09:28.551Z"
   },
   {
    "duration": 1104,
    "start_time": "2022-06-07T11:51:50.090Z"
   },
   {
    "duration": 83,
    "start_time": "2022-06-07T11:51:51.196Z"
   },
   {
    "duration": 48,
    "start_time": "2022-06-07T11:51:51.281Z"
   },
   {
    "duration": 11,
    "start_time": "2022-06-07T11:51:51.335Z"
   },
   {
    "duration": 13,
    "start_time": "2022-06-07T11:51:51.350Z"
   },
   {
    "duration": 18,
    "start_time": "2022-06-07T11:51:51.365Z"
   },
   {
    "duration": 5,
    "start_time": "2022-06-07T11:51:51.385Z"
   },
   {
    "duration": 19,
    "start_time": "2022-06-07T11:51:51.392Z"
   },
   {
    "duration": 84,
    "start_time": "2022-06-07T11:51:51.413Z"
   },
   {
    "duration": 9,
    "start_time": "2022-06-07T11:51:51.500Z"
   },
   {
    "duration": 42,
    "start_time": "2022-06-07T11:51:51.511Z"
   },
   {
    "duration": 8,
    "start_time": "2022-06-07T11:51:51.555Z"
   },
   {
    "duration": 13,
    "start_time": "2022-06-07T11:51:51.564Z"
   },
   {
    "duration": 19,
    "start_time": "2022-06-07T11:51:51.579Z"
   },
   {
    "duration": 28,
    "start_time": "2022-06-07T11:51:51.600Z"
   },
   {
    "duration": 12,
    "start_time": "2022-06-07T11:51:51.630Z"
   },
   {
    "duration": 19,
    "start_time": "2022-06-07T11:51:51.647Z"
   },
   {
    "duration": 411,
    "start_time": "2022-06-07T11:51:51.668Z"
   },
   {
    "duration": 187,
    "start_time": "2022-06-07T11:51:52.081Z"
   },
   {
    "duration": 290,
    "start_time": "2022-06-07T11:51:52.269Z"
   },
   {
    "duration": 203,
    "start_time": "2022-06-07T11:51:52.566Z"
   },
   {
    "duration": 268,
    "start_time": "2022-06-07T11:51:52.771Z"
   },
   {
    "duration": 14,
    "start_time": "2022-06-07T11:51:53.040Z"
   },
   {
    "duration": 201,
    "start_time": "2022-06-07T11:51:53.057Z"
   },
   {
    "duration": 156,
    "start_time": "2022-06-07T11:51:53.268Z"
   },
   {
    "duration": 10,
    "start_time": "2022-06-07T11:51:53.427Z"
   },
   {
    "duration": 25,
    "start_time": "2022-06-07T11:51:53.442Z"
   },
   {
    "duration": 5,
    "start_time": "2022-06-07T11:51:53.473Z"
   },
   {
    "duration": 170,
    "start_time": "2022-06-07T11:51:53.480Z"
   },
   {
    "duration": 150,
    "start_time": "2022-06-07T11:51:53.652Z"
   },
   {
    "duration": 10,
    "start_time": "2022-06-07T11:51:53.804Z"
   },
   {
    "duration": 11,
    "start_time": "2022-06-07T11:51:53.828Z"
   },
   {
    "duration": 22,
    "start_time": "2022-06-07T11:51:53.844Z"
   },
   {
    "duration": 8,
    "start_time": "2022-06-07T11:51:53.868Z"
   },
   {
    "duration": 380,
    "start_time": "2022-06-07T11:51:53.878Z"
   },
   {
    "duration": 11,
    "start_time": "2022-06-07T11:51:54.260Z"
   },
   {
    "duration": 59,
    "start_time": "2022-06-07T11:51:54.273Z"
   },
   {
    "duration": 21,
    "start_time": "2022-06-07T11:51:54.337Z"
   },
   {
    "duration": 13,
    "start_time": "2022-06-07T11:51:54.360Z"
   },
   {
    "duration": 17,
    "start_time": "2022-06-07T11:51:54.374Z"
   },
   {
    "duration": 11,
    "start_time": "2022-06-07T11:51:54.393Z"
   },
   {
    "duration": 20,
    "start_time": "2022-06-07T11:51:54.406Z"
   },
   {
    "duration": 20,
    "start_time": "2022-06-07T11:51:54.428Z"
   },
   {
    "duration": 54,
    "start_time": "2022-06-07T11:51:54.450Z"
   },
   {
    "duration": 6,
    "start_time": "2022-06-07T11:51:54.506Z"
   },
   {
    "duration": 19,
    "start_time": "2022-06-07T11:51:54.514Z"
   },
   {
    "duration": 21,
    "start_time": "2022-06-07T11:51:54.536Z"
   },
   {
    "duration": 8,
    "start_time": "2022-06-07T11:51:54.558Z"
   },
   {
    "duration": 11,
    "start_time": "2022-06-07T11:51:54.568Z"
   }
  ],
  "kernelspec": {
   "display_name": "Python 3 (ipykernel)",
   "language": "python",
   "name": "python3"
  },
  "language_info": {
   "codemirror_mode": {
    "name": "ipython",
    "version": 3
   },
   "file_extension": ".py",
   "mimetype": "text/x-python",
   "name": "python",
   "nbconvert_exporter": "python",
   "pygments_lexer": "ipython3",
   "version": "3.9.12"
  },
  "toc": {
   "base_numbering": 1,
   "nav_menu": {},
   "number_sections": true,
   "sideBar": true,
   "skip_h1_title": true,
   "title_cell": "Содержание",
   "title_sidebar": "Содержание",
   "toc_cell": true,
   "toc_position": {},
   "toc_section_display": true,
   "toc_window_display": false
  }
 },
 "nbformat": 4,
 "nbformat_minor": 2
}
