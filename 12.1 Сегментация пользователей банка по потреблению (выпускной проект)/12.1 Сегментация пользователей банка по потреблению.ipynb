{
 "cells": [
  {
   "cell_type": "markdown",
   "metadata": {
    "toc": true
   },
   "source": [
    "<h1>Содержание<span class=\"tocSkip\"></span></h1>\n",
    "<div class=\"toc\"><ul class=\"toc-item\"><li><ul class=\"toc-item\"><li><span><a href=\"#Описание-проекта\" data-toc-modified-id=\"Описание-проекта-0.1\"><span class=\"toc-item-num\">0.1&nbsp;&nbsp;</span>Описание проекта</a></span></li><li><span><a href=\"#Описание-данных\" data-toc-modified-id=\"Описание-данных-0.2\"><span class=\"toc-item-num\">0.2&nbsp;&nbsp;</span>Описание данных</a></span></li></ul></li><li><span><a href=\"#Материалы:\" data-toc-modified-id=\"Материалы:-1\"><span class=\"toc-item-num\">1&nbsp;&nbsp;</span>Материалы:</a></span></li><li><span><a href=\"#Предобработка-данных\" data-toc-modified-id=\"Предобработка-данных-2\"><span class=\"toc-item-num\">2&nbsp;&nbsp;</span>Предобработка данных</a></span></li><li><span><a href=\"#Исследовательский-анализ-данных\" data-toc-modified-id=\"Исследовательский-анализ-данных-3\"><span class=\"toc-item-num\">3&nbsp;&nbsp;</span>Исследовательский анализ данных</a></span><ul class=\"toc-item\"><li><span><a href=\"#Распределение-показателей-по-группам-оттока\" data-toc-modified-id=\"Распределение-показателей-по-группам-оттока-3.1\"><span class=\"toc-item-num\">3.1&nbsp;&nbsp;</span>Распределение показателей по группам оттока</a></span></li><li><span><a href=\"#Матрица-корреляций\" data-toc-modified-id=\"Матрица-корреляций-3.2\"><span class=\"toc-item-num\">3.2&nbsp;&nbsp;</span>Матрица корреляций</a></span></li><li><span><a href=\"#Вывод\" data-toc-modified-id=\"Вывод-3.3\"><span class=\"toc-item-num\">3.3&nbsp;&nbsp;</span>Вывод</a></span></li></ul></li><li><span><a href=\"#Проверка-гипотез\" data-toc-modified-id=\"Проверка-гипотез-4\"><span class=\"toc-item-num\">4&nbsp;&nbsp;</span>Проверка гипотез</a></span><ul class=\"toc-item\"><li><span><a href=\"#Гипотеза-различия-дохода-между-клиентами\" data-toc-modified-id=\"Гипотеза-различия-дохода-между-клиентами-4.1\"><span class=\"toc-item-num\">4.1&nbsp;&nbsp;</span>Гипотеза различия дохода между клиентами</a></span></li><li><span><a href=\"#Гипотеза-различия-возраста-между-клиентами\" data-toc-modified-id=\"Гипотеза-различия-возраста-между-клиентами-4.2\"><span class=\"toc-item-num\">4.2&nbsp;&nbsp;</span>Гипотеза различия возраста между клиентами</a></span></li><li><span><a href=\"#Вывод\" data-toc-modified-id=\"Вывод-4.3\"><span class=\"toc-item-num\">4.3&nbsp;&nbsp;</span>Вывод</a></span></li></ul></li><li><span><a href=\"#Итоговый-вывод\" data-toc-modified-id=\"Итоговый-вывод-5\"><span class=\"toc-item-num\">5&nbsp;&nbsp;</span>Итоговый вывод</a></span></li><li><span><a href=\"#Рекомендации\" data-toc-modified-id=\"Рекомендации-6\"><span class=\"toc-item-num\">6&nbsp;&nbsp;</span>Рекомендации</a></span><ul class=\"toc-item\"><li><span><a href=\"#Сбор-данных\" data-toc-modified-id=\"Сбор-данных-6.1\"><span class=\"toc-item-num\">6.1&nbsp;&nbsp;</span>Сбор данных</a></span></li><li><span><a href=\"#Удержание-и-привлечение\" data-toc-modified-id=\"Удержание-и-привлечение-6.2\"><span class=\"toc-item-num\">6.2&nbsp;&nbsp;</span>Удержание и привлечение</a></span></li></ul></li></ul></div>"
   ]
  },
  {
   "cell_type": "markdown",
   "metadata": {},
   "source": [
    "### Описание проекта"
   ]
  },
  {
   "cell_type": "markdown",
   "metadata": {},
   "source": [
    "Заказчик исследования «Метанпромбанк».\n",
    "Анализ должен показать, как клиенты пользуются его услугами, а так же поможет составить портрет клиентов, которые склонны уходить из банка.\n",
    "\n",
    "Задачи, которые предстоит решить:\n",
    "\n",
    "- провести исследовательский анализ данных\n",
    "- выделить портреты клиентов, которые склонны уходить из банка\n",
    "- сформулировать и проверить статистические гипотезы"
   ]
  },
  {
   "cell_type": "markdown",
   "metadata": {},
   "source": [
    "### Описание данных"
   ]
  },
  {
   "cell_type": "markdown",
   "metadata": {},
   "source": [
    "Датасет содержит данные о клиентах банка «Метанпром». Банк располагается в Ярославле и областных городах: Ростов Великий и Рыбинск.\n",
    "\n",
    "Колонки:\n",
    "\n",
    "- `userid` — идентификатор пользователя,\n",
    "- `score` — баллы кредитного скоринга,\n",
    "- `City` — город,\n",
    "- `Gender` — пол,\n",
    "- `Age` — возраст,\n",
    "- `Objects` — количество объектов в собственности,\n",
    "- `Balance` — баланс на счёте,\n",
    "- `Products` — количество продуктов, которыми пользуется клиент,\n",
    "- `CreditCard` — есть ли кредитная карта,\n",
    "- `Loyalty` — активный клиент,\n",
    "- `estimated_salary` — заработная плата клиента,\n",
    "- `Churn` — ушёл или нет."
   ]
  },
  {
   "cell_type": "markdown",
   "metadata": {},
   "source": [
    "## Материалы:"
   ]
  },
  {
   "cell_type": "markdown",
   "metadata": {},
   "source": [
    "* [Презентация](https://disk.yandex.ru/i/pMGd0KtKPeBzsA)"
   ]
  },
  {
   "cell_type": "markdown",
   "metadata": {},
   "source": [
    "## Предобработка данных"
   ]
  },
  {
   "cell_type": "code",
   "execution_count": 1,
   "metadata": {},
   "outputs": [],
   "source": [
    "import pandas as pd\n",
    "import seaborn as sns\n",
    "import matplotlib.pyplot as plt\n",
    "import numpy as np\n",
    "import scipy.stats as st\n",
    "import math"
   ]
  },
  {
   "cell_type": "code",
   "execution_count": 2,
   "metadata": {},
   "outputs": [],
   "source": [
    "pd.options.display.float_format = '{:,.2f}'.format"
   ]
  },
  {
   "cell_type": "code",
   "execution_count": 3,
   "metadata": {
    "scrolled": true
   },
   "outputs": [
    {
     "data": {
      "text/html": [
       "<div>\n",
       "<style scoped>\n",
       "    .dataframe tbody tr th:only-of-type {\n",
       "        vertical-align: middle;\n",
       "    }\n",
       "\n",
       "    .dataframe tbody tr th {\n",
       "        vertical-align: top;\n",
       "    }\n",
       "\n",
       "    .dataframe thead th {\n",
       "        text-align: right;\n",
       "    }\n",
       "</style>\n",
       "<table border=\"1\" class=\"dataframe\">\n",
       "  <thead>\n",
       "    <tr style=\"text-align: right;\">\n",
       "      <th></th>\n",
       "      <th>userid</th>\n",
       "      <th>score</th>\n",
       "      <th>City</th>\n",
       "      <th>Gender</th>\n",
       "      <th>Age</th>\n",
       "      <th>Objects</th>\n",
       "      <th>Balance</th>\n",
       "      <th>Products</th>\n",
       "      <th>CreditCard</th>\n",
       "      <th>Loyalty</th>\n",
       "      <th>estimated_salary</th>\n",
       "      <th>Churn</th>\n",
       "    </tr>\n",
       "  </thead>\n",
       "  <tbody>\n",
       "    <tr>\n",
       "      <th>0</th>\n",
       "      <td>15677338</td>\n",
       "      <td>619</td>\n",
       "      <td>Ярославль</td>\n",
       "      <td>Ж</td>\n",
       "      <td>42</td>\n",
       "      <td>2</td>\n",
       "      <td>NaN</td>\n",
       "      <td>1</td>\n",
       "      <td>1</td>\n",
       "      <td>1</td>\n",
       "      <td>101,348.88</td>\n",
       "      <td>1</td>\n",
       "    </tr>\n",
       "    <tr>\n",
       "      <th>1</th>\n",
       "      <td>15690047</td>\n",
       "      <td>608</td>\n",
       "      <td>Рыбинск</td>\n",
       "      <td>Ж</td>\n",
       "      <td>41</td>\n",
       "      <td>1</td>\n",
       "      <td>83,807.86</td>\n",
       "      <td>1</td>\n",
       "      <td>0</td>\n",
       "      <td>1</td>\n",
       "      <td>112,542.58</td>\n",
       "      <td>0</td>\n",
       "    </tr>\n",
       "    <tr>\n",
       "      <th>2</th>\n",
       "      <td>15662040</td>\n",
       "      <td>502</td>\n",
       "      <td>Ярославль</td>\n",
       "      <td>Ж</td>\n",
       "      <td>42</td>\n",
       "      <td>8</td>\n",
       "      <td>159,660.80</td>\n",
       "      <td>3</td>\n",
       "      <td>1</td>\n",
       "      <td>0</td>\n",
       "      <td>113,931.57</td>\n",
       "      <td>1</td>\n",
       "    </tr>\n",
       "    <tr>\n",
       "      <th>3</th>\n",
       "      <td>15744090</td>\n",
       "      <td>699</td>\n",
       "      <td>Ярославль</td>\n",
       "      <td>Ж</td>\n",
       "      <td>39</td>\n",
       "      <td>1</td>\n",
       "      <td>NaN</td>\n",
       "      <td>2</td>\n",
       "      <td>0</td>\n",
       "      <td>0</td>\n",
       "      <td>93,826.63</td>\n",
       "      <td>0</td>\n",
       "    </tr>\n",
       "    <tr>\n",
       "      <th>4</th>\n",
       "      <td>15780624</td>\n",
       "      <td>850</td>\n",
       "      <td>Рыбинск</td>\n",
       "      <td>Ж</td>\n",
       "      <td>43</td>\n",
       "      <td>2</td>\n",
       "      <td>125,510.82</td>\n",
       "      <td>1</td>\n",
       "      <td>1</td>\n",
       "      <td>1</td>\n",
       "      <td>79,084.10</td>\n",
       "      <td>0</td>\n",
       "    </tr>\n",
       "    <tr>\n",
       "      <th>...</th>\n",
       "      <td>...</td>\n",
       "      <td>...</td>\n",
       "      <td>...</td>\n",
       "      <td>...</td>\n",
       "      <td>...</td>\n",
       "      <td>...</td>\n",
       "      <td>...</td>\n",
       "      <td>...</td>\n",
       "      <td>...</td>\n",
       "      <td>...</td>\n",
       "      <td>...</td>\n",
       "      <td>...</td>\n",
       "    </tr>\n",
       "    <tr>\n",
       "      <th>9995</th>\n",
       "      <td>15648965</td>\n",
       "      <td>771</td>\n",
       "      <td>Ярославль</td>\n",
       "      <td>М</td>\n",
       "      <td>39</td>\n",
       "      <td>5</td>\n",
       "      <td>NaN</td>\n",
       "      <td>2</td>\n",
       "      <td>1</td>\n",
       "      <td>0</td>\n",
       "      <td>96,270.64</td>\n",
       "      <td>0</td>\n",
       "    </tr>\n",
       "    <tr>\n",
       "      <th>9996</th>\n",
       "      <td>15612628</td>\n",
       "      <td>516</td>\n",
       "      <td>Ярославль</td>\n",
       "      <td>М</td>\n",
       "      <td>35</td>\n",
       "      <td>10</td>\n",
       "      <td>57,369.61</td>\n",
       "      <td>1</td>\n",
       "      <td>1</td>\n",
       "      <td>1</td>\n",
       "      <td>101,699.77</td>\n",
       "      <td>0</td>\n",
       "    </tr>\n",
       "    <tr>\n",
       "      <th>9997</th>\n",
       "      <td>15627268</td>\n",
       "      <td>709</td>\n",
       "      <td>Ярославль</td>\n",
       "      <td>Ж</td>\n",
       "      <td>36</td>\n",
       "      <td>7</td>\n",
       "      <td>NaN</td>\n",
       "      <td>1</td>\n",
       "      <td>0</td>\n",
       "      <td>1</td>\n",
       "      <td>42,085.58</td>\n",
       "      <td>1</td>\n",
       "    </tr>\n",
       "    <tr>\n",
       "      <th>9998</th>\n",
       "      <td>15725091</td>\n",
       "      <td>772</td>\n",
       "      <td>Ростов Великий</td>\n",
       "      <td>М</td>\n",
       "      <td>42</td>\n",
       "      <td>3</td>\n",
       "      <td>75,075.31</td>\n",
       "      <td>2</td>\n",
       "      <td>1</td>\n",
       "      <td>0</td>\n",
       "      <td>92,888.52</td>\n",
       "      <td>1</td>\n",
       "    </tr>\n",
       "    <tr>\n",
       "      <th>9999</th>\n",
       "      <td>15671055</td>\n",
       "      <td>792</td>\n",
       "      <td>Ярославль</td>\n",
       "      <td>Ж</td>\n",
       "      <td>28</td>\n",
       "      <td>4</td>\n",
       "      <td>130,142.79</td>\n",
       "      <td>1</td>\n",
       "      <td>1</td>\n",
       "      <td>0</td>\n",
       "      <td>38,190.78</td>\n",
       "      <td>0</td>\n",
       "    </tr>\n",
       "  </tbody>\n",
       "</table>\n",
       "<p>10000 rows × 12 columns</p>\n",
       "</div>"
      ],
      "text/plain": [
       "        userid  score            City Gender  Age  Objects    Balance  \\\n",
       "0     15677338    619       Ярославль      Ж   42        2        NaN   \n",
       "1     15690047    608         Рыбинск      Ж   41        1  83,807.86   \n",
       "2     15662040    502       Ярославль      Ж   42        8 159,660.80   \n",
       "3     15744090    699       Ярославль      Ж   39        1        NaN   \n",
       "4     15780624    850         Рыбинск      Ж   43        2 125,510.82   \n",
       "...        ...    ...             ...    ...  ...      ...        ...   \n",
       "9995  15648965    771       Ярославль      М   39        5        NaN   \n",
       "9996  15612628    516       Ярославль      М   35       10  57,369.61   \n",
       "9997  15627268    709       Ярославль      Ж   36        7        NaN   \n",
       "9998  15725091    772  Ростов Великий      М   42        3  75,075.31   \n",
       "9999  15671055    792       Ярославль      Ж   28        4 130,142.79   \n",
       "\n",
       "      Products  CreditCard  Loyalty  estimated_salary  Churn  \n",
       "0            1           1        1        101,348.88      1  \n",
       "1            1           0        1        112,542.58      0  \n",
       "2            3           1        0        113,931.57      1  \n",
       "3            2           0        0         93,826.63      0  \n",
       "4            1           1        1         79,084.10      0  \n",
       "...        ...         ...      ...               ...    ...  \n",
       "9995         2           1        0         96,270.64      0  \n",
       "9996         1           1        1        101,699.77      0  \n",
       "9997         1           0        1         42,085.58      1  \n",
       "9998         2           1        0         92,888.52      1  \n",
       "9999         1           1        0         38,190.78      0  \n",
       "\n",
       "[10000 rows x 12 columns]"
      ]
     },
     "execution_count": 3,
     "metadata": {},
     "output_type": "execute_result"
    }
   ],
   "source": [
    "df = pd.read_csv('bank_dataset.csv')\n",
    "df"
   ]
  },
  {
   "cell_type": "markdown",
   "metadata": {},
   "source": [
    "Датасет состоит из 10 000 строк и 12 колонок.\n",
    "Явно стоит задать единообразные названия колонкам."
   ]
  },
  {
   "cell_type": "code",
   "execution_count": 4,
   "metadata": {},
   "outputs": [],
   "source": [
    "#названия колонок будут в нижнем регистре, а userid и creditcard разделим _\n",
    "df.rename(str.lower, axis='columns', inplace=True)\n",
    "df.rename(columns={'userid': 'user_id', 'creditcard': 'credit_card'}, inplace=True)"
   ]
  },
  {
   "cell_type": "code",
   "execution_count": 5,
   "metadata": {
    "scrolled": true
   },
   "outputs": [
    {
     "name": "stdout",
     "output_type": "stream",
     "text": [
      "<class 'pandas.core.frame.DataFrame'>\n",
      "RangeIndex: 10000 entries, 0 to 9999\n",
      "Data columns (total 12 columns):\n",
      " #   Column            Non-Null Count  Dtype  \n",
      "---  ------            --------------  -----  \n",
      " 0   user_id           10000 non-null  int64  \n",
      " 1   score             10000 non-null  int64  \n",
      " 2   city              10000 non-null  object \n",
      " 3   gender            10000 non-null  object \n",
      " 4   age               10000 non-null  int64  \n",
      " 5   objects           10000 non-null  int64  \n",
      " 6   balance           6383 non-null   float64\n",
      " 7   products          10000 non-null  int64  \n",
      " 8   credit_card       10000 non-null  int64  \n",
      " 9   loyalty           10000 non-null  int64  \n",
      " 10  estimated_salary  10000 non-null  float64\n",
      " 11  churn             10000 non-null  int64  \n",
      "dtypes: float64(2), int64(8), object(2)\n",
      "memory usage: 937.6+ KB\n"
     ]
    }
   ],
   "source": [
    "df.info()"
   ]
  },
  {
   "cell_type": "markdown",
   "metadata": {},
   "source": [
    "Типы данных соответствуют содержанию колонок. Колонка balance единственная содержит пропуски, их доля 36,17%. Посмотрим сколько пропусков в разных городах."
   ]
  },
  {
   "cell_type": "code",
   "execution_count": 6,
   "metadata": {
    "scrolled": true
   },
   "outputs": [
    {
     "data": {
      "text/plain": [
       "0"
      ]
     },
     "execution_count": 6,
     "metadata": {},
     "output_type": "execute_result"
    }
   ],
   "source": [
    "df[df['city'] == 'Ростов Великий']['balance'].isna().sum()"
   ]
  },
  {
   "cell_type": "code",
   "execution_count": 7,
   "metadata": {},
   "outputs": [
    {
     "data": {
      "text/plain": [
       "2418"
      ]
     },
     "execution_count": 7,
     "metadata": {},
     "output_type": "execute_result"
    }
   ],
   "source": [
    "df[df['city'] == 'Ярославль']['balance'].isna().sum()"
   ]
  },
  {
   "cell_type": "code",
   "execution_count": 8,
   "metadata": {},
   "outputs": [
    {
     "data": {
      "text/plain": [
       "1199"
      ]
     },
     "execution_count": 8,
     "metadata": {},
     "output_type": "execute_result"
    }
   ],
   "source": [
    "df[df['city'] == 'Рыбинск']['balance'].isna().sum()"
   ]
  },
  {
   "cell_type": "markdown",
   "metadata": {},
   "source": [
    "Все пропуски из Ярославля и Рыбинска, в данных по Ростову Великому их нет. Возможна ошибка в выгрузке данных по этим городам, либо пропуски представляют собой пустые балансы (тогда странно что их нет в Ростове Великом)."
   ]
  },
  {
   "cell_type": "markdown",
   "metadata": {},
   "source": [
    "Изучим строки с пропусками поближе."
   ]
  },
  {
   "cell_type": "code",
   "execution_count": 9,
   "metadata": {},
   "outputs": [
    {
     "data": {
      "text/html": [
       "<div>\n",
       "<style scoped>\n",
       "    .dataframe tbody tr th:only-of-type {\n",
       "        vertical-align: middle;\n",
       "    }\n",
       "\n",
       "    .dataframe tbody tr th {\n",
       "        vertical-align: top;\n",
       "    }\n",
       "\n",
       "    .dataframe thead th {\n",
       "        text-align: right;\n",
       "    }\n",
       "</style>\n",
       "<table border=\"1\" class=\"dataframe\">\n",
       "  <thead>\n",
       "    <tr style=\"text-align: right;\">\n",
       "      <th></th>\n",
       "      <th>user_id</th>\n",
       "      <th>score</th>\n",
       "      <th>city</th>\n",
       "      <th>gender</th>\n",
       "      <th>age</th>\n",
       "      <th>objects</th>\n",
       "      <th>balance</th>\n",
       "      <th>products</th>\n",
       "      <th>credit_card</th>\n",
       "      <th>loyalty</th>\n",
       "      <th>estimated_salary</th>\n",
       "      <th>churn</th>\n",
       "    </tr>\n",
       "  </thead>\n",
       "  <tbody>\n",
       "    <tr>\n",
       "      <th>8427</th>\n",
       "      <td>15849507</td>\n",
       "      <td>753</td>\n",
       "      <td>Ярославль</td>\n",
       "      <td>Ж</td>\n",
       "      <td>40</td>\n",
       "      <td>0</td>\n",
       "      <td>3,768.69</td>\n",
       "      <td>2</td>\n",
       "      <td>1</td>\n",
       "      <td>0</td>\n",
       "      <td>177,065.24</td>\n",
       "      <td>1</td>\n",
       "    </tr>\n",
       "    <tr>\n",
       "      <th>5686</th>\n",
       "      <td>15756510</td>\n",
       "      <td>644</td>\n",
       "      <td>Рыбинск</td>\n",
       "      <td>Ж</td>\n",
       "      <td>46</td>\n",
       "      <td>6</td>\n",
       "      <td>12,459.19</td>\n",
       "      <td>1</td>\n",
       "      <td>0</td>\n",
       "      <td>0</td>\n",
       "      <td>156,787.34</td>\n",
       "      <td>1</td>\n",
       "    </tr>\n",
       "    <tr>\n",
       "      <th>1791</th>\n",
       "      <td>15819203</td>\n",
       "      <td>702</td>\n",
       "      <td>Рыбинск</td>\n",
       "      <td>Ж</td>\n",
       "      <td>35</td>\n",
       "      <td>8</td>\n",
       "      <td>14,262.80</td>\n",
       "      <td>2</td>\n",
       "      <td>1</td>\n",
       "      <td>0</td>\n",
       "      <td>54,689.16</td>\n",
       "      <td>0</td>\n",
       "    </tr>\n",
       "    <tr>\n",
       "      <th>5048</th>\n",
       "      <td>15784152</td>\n",
       "      <td>707</td>\n",
       "      <td>Ярославль</td>\n",
       "      <td>М</td>\n",
       "      <td>42</td>\n",
       "      <td>2</td>\n",
       "      <td>16,893.59</td>\n",
       "      <td>1</td>\n",
       "      <td>1</td>\n",
       "      <td>1</td>\n",
       "      <td>77,502.56</td>\n",
       "      <td>0</td>\n",
       "    </tr>\n",
       "    <tr>\n",
       "      <th>6029</th>\n",
       "      <td>15711747</td>\n",
       "      <td>659</td>\n",
       "      <td>Ярославль</td>\n",
       "      <td>Ж</td>\n",
       "      <td>44</td>\n",
       "      <td>9</td>\n",
       "      <td>23,503.31</td>\n",
       "      <td>1</td>\n",
       "      <td>0</td>\n",
       "      <td>1</td>\n",
       "      <td>169,862.01</td>\n",
       "      <td>1</td>\n",
       "    </tr>\n",
       "  </tbody>\n",
       "</table>\n",
       "</div>"
      ],
      "text/plain": [
       "       user_id  score       city gender  age  objects   balance  products  \\\n",
       "8427  15849507    753  Ярославль      Ж   40        0  3,768.69         2   \n",
       "5686  15756510    644    Рыбинск      Ж   46        6 12,459.19         1   \n",
       "1791  15819203    702    Рыбинск      Ж   35        8 14,262.80         2   \n",
       "5048  15784152    707  Ярославль      М   42        2 16,893.59         1   \n",
       "6029  15711747    659  Ярославль      Ж   44        9 23,503.31         1   \n",
       "\n",
       "      credit_card  loyalty  estimated_salary  churn  \n",
       "8427            1        0        177,065.24      1  \n",
       "5686            0        0        156,787.34      1  \n",
       "1791            1        0         54,689.16      0  \n",
       "5048            1        1         77,502.56      0  \n",
       "6029            0        1        169,862.01      1  "
      ]
     },
     "execution_count": 9,
     "metadata": {},
     "output_type": "execute_result"
    }
   ],
   "source": [
    "#проверим предположение о том, что пустые балансы - это балансы без средств\n",
    "df.sort_values(by='balance').head(5)"
   ]
  },
  {
   "cell_type": "markdown",
   "metadata": {},
   "source": [
    "Видно, что минимальный баланс составил 3 768,69. То есть в датасете в принципе не встречаются нулевые балансы. Дальше посмотрим в разрезе по городам."
   ]
  },
  {
   "cell_type": "code",
   "execution_count": 10,
   "metadata": {
    "scrolled": false
   },
   "outputs": [
    {
     "data": {
      "text/html": [
       "<div>\n",
       "<style scoped>\n",
       "    .dataframe tbody tr th:only-of-type {\n",
       "        vertical-align: middle;\n",
       "    }\n",
       "\n",
       "    .dataframe tbody tr th {\n",
       "        vertical-align: top;\n",
       "    }\n",
       "\n",
       "    .dataframe thead th {\n",
       "        text-align: right;\n",
       "    }\n",
       "</style>\n",
       "<table border=\"1\" class=\"dataframe\">\n",
       "  <thead>\n",
       "    <tr style=\"text-align: right;\">\n",
       "      <th></th>\n",
       "      <th>user_id</th>\n",
       "      <th>score</th>\n",
       "      <th>city</th>\n",
       "      <th>gender</th>\n",
       "      <th>age</th>\n",
       "      <th>objects</th>\n",
       "      <th>balance</th>\n",
       "      <th>products</th>\n",
       "      <th>credit_card</th>\n",
       "      <th>loyalty</th>\n",
       "      <th>estimated_salary</th>\n",
       "      <th>churn</th>\n",
       "    </tr>\n",
       "  </thead>\n",
       "  <tbody>\n",
       "    <tr>\n",
       "      <th>8427</th>\n",
       "      <td>15849507</td>\n",
       "      <td>753</td>\n",
       "      <td>Ярославль</td>\n",
       "      <td>Ж</td>\n",
       "      <td>40</td>\n",
       "      <td>0</td>\n",
       "      <td>3,768.69</td>\n",
       "      <td>2</td>\n",
       "      <td>1</td>\n",
       "      <td>0</td>\n",
       "      <td>177,065.24</td>\n",
       "      <td>1</td>\n",
       "    </tr>\n",
       "    <tr>\n",
       "      <th>5048</th>\n",
       "      <td>15784152</td>\n",
       "      <td>707</td>\n",
       "      <td>Ярославль</td>\n",
       "      <td>М</td>\n",
       "      <td>42</td>\n",
       "      <td>2</td>\n",
       "      <td>16,893.59</td>\n",
       "      <td>1</td>\n",
       "      <td>1</td>\n",
       "      <td>1</td>\n",
       "      <td>77,502.56</td>\n",
       "      <td>0</td>\n",
       "    </tr>\n",
       "    <tr>\n",
       "      <th>6029</th>\n",
       "      <td>15711747</td>\n",
       "      <td>659</td>\n",
       "      <td>Ярославль</td>\n",
       "      <td>Ж</td>\n",
       "      <td>44</td>\n",
       "      <td>9</td>\n",
       "      <td>23,503.31</td>\n",
       "      <td>1</td>\n",
       "      <td>0</td>\n",
       "      <td>1</td>\n",
       "      <td>169,862.01</td>\n",
       "      <td>1</td>\n",
       "    </tr>\n",
       "    <tr>\n",
       "      <th>4062</th>\n",
       "      <td>15842819</td>\n",
       "      <td>559</td>\n",
       "      <td>Ярославль</td>\n",
       "      <td>М</td>\n",
       "      <td>45</td>\n",
       "      <td>8</td>\n",
       "      <td>24,043.45</td>\n",
       "      <td>1</td>\n",
       "      <td>0</td>\n",
       "      <td>1</td>\n",
       "      <td>169,781.45</td>\n",
       "      <td>1</td>\n",
       "    </tr>\n",
       "    <tr>\n",
       "      <th>4612</th>\n",
       "      <td>15692028</td>\n",
       "      <td>748</td>\n",
       "      <td>Ярославль</td>\n",
       "      <td>Ж</td>\n",
       "      <td>49</td>\n",
       "      <td>7</td>\n",
       "      <td>29,602.08</td>\n",
       "      <td>1</td>\n",
       "      <td>0</td>\n",
       "      <td>0</td>\n",
       "      <td>163,550.58</td>\n",
       "      <td>1</td>\n",
       "    </tr>\n",
       "  </tbody>\n",
       "</table>\n",
       "</div>"
      ],
      "text/plain": [
       "       user_id  score       city gender  age  objects   balance  products  \\\n",
       "8427  15849507    753  Ярославль      Ж   40        0  3,768.69         2   \n",
       "5048  15784152    707  Ярославль      М   42        2 16,893.59         1   \n",
       "6029  15711747    659  Ярославль      Ж   44        9 23,503.31         1   \n",
       "4062  15842819    559  Ярославль      М   45        8 24,043.45         1   \n",
       "4612  15692028    748  Ярославль      Ж   49        7 29,602.08         1   \n",
       "\n",
       "      credit_card  loyalty  estimated_salary  churn  \n",
       "8427            1        0        177,065.24      1  \n",
       "5048            1        1         77,502.56      0  \n",
       "6029            0        1        169,862.01      1  \n",
       "4062            0        1        169,781.45      1  \n",
       "4612            0        0        163,550.58      1  "
      ]
     },
     "execution_count": 10,
     "metadata": {},
     "output_type": "execute_result"
    }
   ],
   "source": [
    "df.query('city == \"Ярославль\"').sort_values(by='balance').head(5)"
   ]
  },
  {
   "cell_type": "code",
   "execution_count": 11,
   "metadata": {},
   "outputs": [
    {
     "data": {
      "text/html": [
       "<div>\n",
       "<style scoped>\n",
       "    .dataframe tbody tr th:only-of-type {\n",
       "        vertical-align: middle;\n",
       "    }\n",
       "\n",
       "    .dataframe tbody tr th {\n",
       "        vertical-align: top;\n",
       "    }\n",
       "\n",
       "    .dataframe thead th {\n",
       "        text-align: right;\n",
       "    }\n",
       "</style>\n",
       "<table border=\"1\" class=\"dataframe\">\n",
       "  <thead>\n",
       "    <tr style=\"text-align: right;\">\n",
       "      <th></th>\n",
       "      <th>user_id</th>\n",
       "      <th>score</th>\n",
       "      <th>city</th>\n",
       "      <th>gender</th>\n",
       "      <th>age</th>\n",
       "      <th>objects</th>\n",
       "      <th>balance</th>\n",
       "      <th>products</th>\n",
       "      <th>credit_card</th>\n",
       "      <th>loyalty</th>\n",
       "      <th>estimated_salary</th>\n",
       "      <th>churn</th>\n",
       "    </tr>\n",
       "  </thead>\n",
       "  <tbody>\n",
       "    <tr>\n",
       "      <th>5686</th>\n",
       "      <td>15756510</td>\n",
       "      <td>644</td>\n",
       "      <td>Рыбинск</td>\n",
       "      <td>Ж</td>\n",
       "      <td>46</td>\n",
       "      <td>6</td>\n",
       "      <td>12,459.19</td>\n",
       "      <td>1</td>\n",
       "      <td>0</td>\n",
       "      <td>0</td>\n",
       "      <td>156,787.34</td>\n",
       "      <td>1</td>\n",
       "    </tr>\n",
       "    <tr>\n",
       "      <th>1791</th>\n",
       "      <td>15819203</td>\n",
       "      <td>702</td>\n",
       "      <td>Рыбинск</td>\n",
       "      <td>Ж</td>\n",
       "      <td>35</td>\n",
       "      <td>8</td>\n",
       "      <td>14,262.80</td>\n",
       "      <td>2</td>\n",
       "      <td>1</td>\n",
       "      <td>0</td>\n",
       "      <td>54,689.16</td>\n",
       "      <td>0</td>\n",
       "    </tr>\n",
       "    <tr>\n",
       "      <th>1856</th>\n",
       "      <td>15733661</td>\n",
       "      <td>527</td>\n",
       "      <td>Рыбинск</td>\n",
       "      <td>Ж</td>\n",
       "      <td>29</td>\n",
       "      <td>2</td>\n",
       "      <td>27,755.97</td>\n",
       "      <td>1</td>\n",
       "      <td>1</td>\n",
       "      <td>0</td>\n",
       "      <td>97,468.44</td>\n",
       "      <td>1</td>\n",
       "    </tr>\n",
       "    <tr>\n",
       "      <th>3519</th>\n",
       "      <td>15637614</td>\n",
       "      <td>661</td>\n",
       "      <td>Рыбинск</td>\n",
       "      <td>Ж</td>\n",
       "      <td>41</td>\n",
       "      <td>5</td>\n",
       "      <td>28,082.95</td>\n",
       "      <td>1</td>\n",
       "      <td>1</td>\n",
       "      <td>0</td>\n",
       "      <td>69,586.27</td>\n",
       "      <td>1</td>\n",
       "    </tr>\n",
       "    <tr>\n",
       "      <th>8281</th>\n",
       "      <td>15641221</td>\n",
       "      <td>567</td>\n",
       "      <td>Рыбинск</td>\n",
       "      <td>М</td>\n",
       "      <td>40</td>\n",
       "      <td>8</td>\n",
       "      <td>28,649.64</td>\n",
       "      <td>1</td>\n",
       "      <td>1</td>\n",
       "      <td>1</td>\n",
       "      <td>95,140.62</td>\n",
       "      <td>0</td>\n",
       "    </tr>\n",
       "  </tbody>\n",
       "</table>\n",
       "</div>"
      ],
      "text/plain": [
       "       user_id  score     city gender  age  objects   balance  products  \\\n",
       "5686  15756510    644  Рыбинск      Ж   46        6 12,459.19         1   \n",
       "1791  15819203    702  Рыбинск      Ж   35        8 14,262.80         2   \n",
       "1856  15733661    527  Рыбинск      Ж   29        2 27,755.97         1   \n",
       "3519  15637614    661  Рыбинск      Ж   41        5 28,082.95         1   \n",
       "8281  15641221    567  Рыбинск      М   40        8 28,649.64         1   \n",
       "\n",
       "      credit_card  loyalty  estimated_salary  churn  \n",
       "5686            0        0        156,787.34      1  \n",
       "1791            1        0         54,689.16      0  \n",
       "1856            1        0         97,468.44      1  \n",
       "3519            1        0         69,586.27      1  \n",
       "8281            1        1         95,140.62      0  "
      ]
     },
     "execution_count": 11,
     "metadata": {},
     "output_type": "execute_result"
    }
   ],
   "source": [
    "df.query('city == \"Рыбинск\"').sort_values(by='balance').head(5)"
   ]
  },
  {
   "cell_type": "code",
   "execution_count": 12,
   "metadata": {
    "scrolled": true
   },
   "outputs": [
    {
     "data": {
      "text/html": [
       "<div>\n",
       "<style scoped>\n",
       "    .dataframe tbody tr th:only-of-type {\n",
       "        vertical-align: middle;\n",
       "    }\n",
       "\n",
       "    .dataframe tbody tr th {\n",
       "        vertical-align: top;\n",
       "    }\n",
       "\n",
       "    .dataframe thead th {\n",
       "        text-align: right;\n",
       "    }\n",
       "</style>\n",
       "<table border=\"1\" class=\"dataframe\">\n",
       "  <thead>\n",
       "    <tr style=\"text-align: right;\">\n",
       "      <th></th>\n",
       "      <th>user_id</th>\n",
       "      <th>score</th>\n",
       "      <th>city</th>\n",
       "      <th>gender</th>\n",
       "      <th>age</th>\n",
       "      <th>objects</th>\n",
       "      <th>balance</th>\n",
       "      <th>products</th>\n",
       "      <th>credit_card</th>\n",
       "      <th>loyalty</th>\n",
       "      <th>estimated_salary</th>\n",
       "      <th>churn</th>\n",
       "    </tr>\n",
       "  </thead>\n",
       "  <tbody>\n",
       "    <tr>\n",
       "      <th>9402</th>\n",
       "      <td>15716892</td>\n",
       "      <td>810</td>\n",
       "      <td>Ростов Великий</td>\n",
       "      <td>М</td>\n",
       "      <td>69</td>\n",
       "      <td>3</td>\n",
       "      <td>27,288.43</td>\n",
       "      <td>1</td>\n",
       "      <td>1</td>\n",
       "      <td>1</td>\n",
       "      <td>110,509.90</td>\n",
       "      <td>0</td>\n",
       "    </tr>\n",
       "    <tr>\n",
       "      <th>6721</th>\n",
       "      <td>15758374</td>\n",
       "      <td>824</td>\n",
       "      <td>Ростов Великий</td>\n",
       "      <td>М</td>\n",
       "      <td>77</td>\n",
       "      <td>3</td>\n",
       "      <td>27,517.15</td>\n",
       "      <td>2</td>\n",
       "      <td>0</td>\n",
       "      <td>1</td>\n",
       "      <td>2,746.41</td>\n",
       "      <td>0</td>\n",
       "    </tr>\n",
       "    <tr>\n",
       "      <th>8260</th>\n",
       "      <td>15670566</td>\n",
       "      <td>640</td>\n",
       "      <td>Ростов Великий</td>\n",
       "      <td>Ж</td>\n",
       "      <td>30</td>\n",
       "      <td>5</td>\n",
       "      <td>32,197.64</td>\n",
       "      <td>1</td>\n",
       "      <td>0</td>\n",
       "      <td>1</td>\n",
       "      <td>141,446.01</td>\n",
       "      <td>0</td>\n",
       "    </tr>\n",
       "    <tr>\n",
       "      <th>9990</th>\n",
       "      <td>15841700</td>\n",
       "      <td>714</td>\n",
       "      <td>Ростов Великий</td>\n",
       "      <td>М</td>\n",
       "      <td>33</td>\n",
       "      <td>3</td>\n",
       "      <td>35,016.60</td>\n",
       "      <td>1</td>\n",
       "      <td>1</td>\n",
       "      <td>0</td>\n",
       "      <td>53,667.08</td>\n",
       "      <td>0</td>\n",
       "    </tr>\n",
       "    <tr>\n",
       "      <th>8251</th>\n",
       "      <td>15793768</td>\n",
       "      <td>629</td>\n",
       "      <td>Ростов Великий</td>\n",
       "      <td>Ж</td>\n",
       "      <td>37</td>\n",
       "      <td>1</td>\n",
       "      <td>35,549.81</td>\n",
       "      <td>2</td>\n",
       "      <td>0</td>\n",
       "      <td>0</td>\n",
       "      <td>49,676.33</td>\n",
       "      <td>0</td>\n",
       "    </tr>\n",
       "  </tbody>\n",
       "</table>\n",
       "</div>"
      ],
      "text/plain": [
       "       user_id  score            city gender  age  objects   balance  \\\n",
       "9402  15716892    810  Ростов Великий      М   69        3 27,288.43   \n",
       "6721  15758374    824  Ростов Великий      М   77        3 27,517.15   \n",
       "8260  15670566    640  Ростов Великий      Ж   30        5 32,197.64   \n",
       "9990  15841700    714  Ростов Великий      М   33        3 35,016.60   \n",
       "8251  15793768    629  Ростов Великий      Ж   37        1 35,549.81   \n",
       "\n",
       "      products  credit_card  loyalty  estimated_salary  churn  \n",
       "9402         1            1        1        110,509.90      0  \n",
       "6721         2            0        1          2,746.41      0  \n",
       "8260         1            0        1        141,446.01      0  \n",
       "9990         1            1        0         53,667.08      0  \n",
       "8251         2            0        0         49,676.33      0  "
      ]
     },
     "execution_count": 12,
     "metadata": {},
     "output_type": "execute_result"
    }
   ],
   "source": [
    "df.query('city == \"Ростов Великий\"').sort_values(by='balance').head(5)"
   ]
  },
  {
   "cell_type": "code",
   "execution_count": 13,
   "metadata": {
    "scrolled": true
   },
   "outputs": [
    {
     "data": {
      "text/plain": [
       "churn\n",
       "0    3117\n",
       "1     500\n",
       "Name: balance, dtype: int64"
      ]
     },
     "execution_count": 13,
     "metadata": {},
     "output_type": "execute_result"
    }
   ],
   "source": [
    "#как распределены пропуски среди ушедших и оставшихся клиентов?\n",
    "df.groupby('churn')['balance'].apply(lambda x: x.isna().sum())"
   ]
  },
  {
   "cell_type": "markdown",
   "metadata": {},
   "source": [
    "Среди клиентов с пустым балансом отношение ушедших клиентов к оставшимся 1/6"
   ]
  },
  {
   "cell_type": "code",
   "execution_count": 14,
   "metadata": {
    "scrolled": true
   },
   "outputs": [
    {
     "data": {
      "text/plain": [
       "0.25580811252040686"
      ]
     },
     "execution_count": 14,
     "metadata": {},
     "output_type": "execute_result"
    }
   ],
   "source": [
    "#отношение ушедших к оставшимся\n",
    "len(df.query('churn == 1')) / len(df.query('churn == 0'))"
   ]
  },
  {
   "cell_type": "markdown",
   "metadata": {},
   "source": [
    "Среди клиентов в целом отношение ушедших клиентов к оставшимся 1/4"
   ]
  },
  {
   "cell_type": "code",
   "execution_count": 15,
   "metadata": {
    "scrolled": true
   },
   "outputs": [
    {
     "data": {
      "text/plain": [
       "credit_card\n",
       "0    1025\n",
       "1    2592\n",
       "Name: balance, dtype: int64"
      ]
     },
     "execution_count": 15,
     "metadata": {},
     "output_type": "execute_result"
    }
   ],
   "source": [
    "#есть ли пустые балансы у пользователей с кредитной картой и без неё?\n",
    "df.groupby('credit_card')['balance'].apply(lambda x: x.isna().sum())"
   ]
  },
  {
   "cell_type": "markdown",
   "metadata": {},
   "source": [
    "Среди клиентов с пустым балансом кредитный продукт имеют примерно 39,5% клиентов"
   ]
  },
  {
   "cell_type": "code",
   "execution_count": 16,
   "metadata": {},
   "outputs": [
    {
     "data": {
      "text/plain": [
       "1    7055\n",
       "0    2945\n",
       "Name: credit_card, dtype: int64"
      ]
     },
     "execution_count": 16,
     "metadata": {},
     "output_type": "execute_result"
    }
   ],
   "source": [
    "#количество кредитных карт среди ушедших и оставшихся в целом\n",
    "df['credit_card'].value_counts()"
   ]
  },
  {
   "cell_type": "markdown",
   "metadata": {},
   "source": [
    "Среди клиентов в целом кредитный продукт имеют примерно 41,7% клиентов"
   ]
  },
  {
   "cell_type": "code",
   "execution_count": 17,
   "metadata": {
    "scrolled": false
   },
   "outputs": [
    {
     "data": {
      "text/plain": [
       "products\n",
       "1     905\n",
       "2    2600\n",
       "3      98\n",
       "4      14\n",
       "Name: balance, dtype: int64"
      ]
     },
     "execution_count": 17,
     "metadata": {},
     "output_type": "execute_result"
    }
   ],
   "source": [
    "#есть ли зависимость от числа продуктов?\n",
    "df.groupby('products')['balance'].apply(lambda x: x.isna().sum())"
   ]
  },
  {
   "cell_type": "code",
   "execution_count": 18,
   "metadata": {},
   "outputs": [
    {
     "data": {
      "text/plain": [
       "1    5084\n",
       "2    4590\n",
       "3     266\n",
       "4      60\n",
       "Name: products, dtype: int64"
      ]
     },
     "execution_count": 18,
     "metadata": {},
     "output_type": "execute_result"
    }
   ],
   "source": [
    "#посмотрим на количество продуктов в целом по всем клиентам\n",
    "df['products'].value_counts()"
   ]
  },
  {
   "cell_type": "markdown",
   "metadata": {},
   "source": [
    "В целом количество клиентов с 1 и 2 не сильно отличается, но среди клиентов с пустыми балансами появляется кардинальное различие, количество клиентов с 2 продуктами в таком случае в 2,9 раза больше"
   ]
  },
  {
   "cell_type": "markdown",
   "metadata": {},
   "source": [
    "Таким образом, мы можем сделать два предположения. \n",
    "\n",
    "Как минимум часть пропущенных значений может означать нулевой баланс, т.к. сложно представить что у банка нет клиентов с пустым балансом или по крайней мере балансом ниже 3 768,69 у.е.\n",
    "\n",
    "Другая причина пропусков может крыться в использовании какого-либо кредитного продукта, такие клиенты могут пользоваться кредитной картой, ипотекой, либо другим продуктом, который не предполагает положительного баланса счета.\n",
    "\n",
    "Таким образом, нельзя принять решение о заполнении или удалении пропусков."
   ]
  },
  {
   "cell_type": "code",
   "execution_count": 20,
   "metadata": {},
   "outputs": [
    {
     "data": {
      "text/plain": [
       "0"
      ]
     },
     "execution_count": 20,
     "metadata": {},
     "output_type": "execute_result"
    }
   ],
   "source": [
    "#проверим датасет на дубликаты\n",
    "df.duplicated().sum()"
   ]
  },
  {
   "cell_type": "code",
   "execution_count": 21,
   "metadata": {
    "scrolled": false
   },
   "outputs": [
    {
     "data": {
      "text/html": [
       "<div>\n",
       "<style scoped>\n",
       "    .dataframe tbody tr th:only-of-type {\n",
       "        vertical-align: middle;\n",
       "    }\n",
       "\n",
       "    .dataframe tbody tr th {\n",
       "        vertical-align: top;\n",
       "    }\n",
       "\n",
       "    .dataframe thead th {\n",
       "        text-align: right;\n",
       "    }\n",
       "</style>\n",
       "<table border=\"1\" class=\"dataframe\">\n",
       "  <thead>\n",
       "    <tr style=\"text-align: right;\">\n",
       "      <th></th>\n",
       "      <th>user_id</th>\n",
       "      <th>score</th>\n",
       "      <th>age</th>\n",
       "      <th>objects</th>\n",
       "      <th>balance</th>\n",
       "      <th>products</th>\n",
       "      <th>credit_card</th>\n",
       "      <th>loyalty</th>\n",
       "      <th>estimated_salary</th>\n",
       "      <th>churn</th>\n",
       "    </tr>\n",
       "  </thead>\n",
       "  <tbody>\n",
       "    <tr>\n",
       "      <th>count</th>\n",
       "      <td>10,000.00</td>\n",
       "      <td>10,000.00</td>\n",
       "      <td>10,000.00</td>\n",
       "      <td>10,000.00</td>\n",
       "      <td>6,383.00</td>\n",
       "      <td>10,000.00</td>\n",
       "      <td>10,000.00</td>\n",
       "      <td>10,000.00</td>\n",
       "      <td>10,000.00</td>\n",
       "      <td>10,000.00</td>\n",
       "    </tr>\n",
       "    <tr>\n",
       "      <th>mean</th>\n",
       "      <td>15,733,676.57</td>\n",
       "      <td>650.53</td>\n",
       "      <td>38.92</td>\n",
       "      <td>5.01</td>\n",
       "      <td>119,827.49</td>\n",
       "      <td>1.53</td>\n",
       "      <td>0.71</td>\n",
       "      <td>0.52</td>\n",
       "      <td>100,090.24</td>\n",
       "      <td>0.20</td>\n",
       "    </tr>\n",
       "    <tr>\n",
       "      <th>std</th>\n",
       "      <td>71,936.19</td>\n",
       "      <td>96.65</td>\n",
       "      <td>10.49</td>\n",
       "      <td>2.89</td>\n",
       "      <td>30,095.06</td>\n",
       "      <td>0.58</td>\n",
       "      <td>0.46</td>\n",
       "      <td>0.50</td>\n",
       "      <td>57,510.49</td>\n",
       "      <td>0.40</td>\n",
       "    </tr>\n",
       "    <tr>\n",
       "      <th>min</th>\n",
       "      <td>15,608,437.00</td>\n",
       "      <td>350.00</td>\n",
       "      <td>18.00</td>\n",
       "      <td>0.00</td>\n",
       "      <td>3,768.69</td>\n",
       "      <td>1.00</td>\n",
       "      <td>0.00</td>\n",
       "      <td>0.00</td>\n",
       "      <td>11.58</td>\n",
       "      <td>0.00</td>\n",
       "    </tr>\n",
       "    <tr>\n",
       "      <th>25%</th>\n",
       "      <td>15,671,264.25</td>\n",
       "      <td>584.00</td>\n",
       "      <td>32.00</td>\n",
       "      <td>3.00</td>\n",
       "      <td>100,181.98</td>\n",
       "      <td>1.00</td>\n",
       "      <td>0.00</td>\n",
       "      <td>0.00</td>\n",
       "      <td>51,002.11</td>\n",
       "      <td>0.00</td>\n",
       "    </tr>\n",
       "    <tr>\n",
       "      <th>50%</th>\n",
       "      <td>15,733,474.00</td>\n",
       "      <td>652.00</td>\n",
       "      <td>37.00</td>\n",
       "      <td>5.00</td>\n",
       "      <td>119,839.69</td>\n",
       "      <td>1.00</td>\n",
       "      <td>1.00</td>\n",
       "      <td>1.00</td>\n",
       "      <td>100,193.91</td>\n",
       "      <td>0.00</td>\n",
       "    </tr>\n",
       "    <tr>\n",
       "      <th>75%</th>\n",
       "      <td>15,795,969.75</td>\n",
       "      <td>718.00</td>\n",
       "      <td>44.00</td>\n",
       "      <td>7.00</td>\n",
       "      <td>139,512.29</td>\n",
       "      <td>2.00</td>\n",
       "      <td>1.00</td>\n",
       "      <td>1.00</td>\n",
       "      <td>149,388.25</td>\n",
       "      <td>0.00</td>\n",
       "    </tr>\n",
       "    <tr>\n",
       "      <th>max</th>\n",
       "      <td>15,858,426.00</td>\n",
       "      <td>850.00</td>\n",
       "      <td>92.00</td>\n",
       "      <td>10.00</td>\n",
       "      <td>250,898.09</td>\n",
       "      <td>4.00</td>\n",
       "      <td>1.00</td>\n",
       "      <td>1.00</td>\n",
       "      <td>199,992.48</td>\n",
       "      <td>1.00</td>\n",
       "    </tr>\n",
       "  </tbody>\n",
       "</table>\n",
       "</div>"
      ],
      "text/plain": [
       "            user_id     score       age   objects    balance  products  \\\n",
       "count     10,000.00 10,000.00 10,000.00 10,000.00   6,383.00 10,000.00   \n",
       "mean  15,733,676.57    650.53     38.92      5.01 119,827.49      1.53   \n",
       "std       71,936.19     96.65     10.49      2.89  30,095.06      0.58   \n",
       "min   15,608,437.00    350.00     18.00      0.00   3,768.69      1.00   \n",
       "25%   15,671,264.25    584.00     32.00      3.00 100,181.98      1.00   \n",
       "50%   15,733,474.00    652.00     37.00      5.00 119,839.69      1.00   \n",
       "75%   15,795,969.75    718.00     44.00      7.00 139,512.29      2.00   \n",
       "max   15,858,426.00    850.00     92.00     10.00 250,898.09      4.00   \n",
       "\n",
       "       credit_card   loyalty  estimated_salary     churn  \n",
       "count    10,000.00 10,000.00         10,000.00 10,000.00  \n",
       "mean          0.71      0.52        100,090.24      0.20  \n",
       "std           0.46      0.50         57,510.49      0.40  \n",
       "min           0.00      0.00             11.58      0.00  \n",
       "25%           0.00      0.00         51,002.11      0.00  \n",
       "50%           1.00      1.00        100,193.91      0.00  \n",
       "75%           1.00      1.00        149,388.25      0.00  \n",
       "max           1.00      1.00        199,992.48      1.00  "
      ]
     },
     "execution_count": 21,
     "metadata": {},
     "output_type": "execute_result"
    }
   ],
   "source": [
    "#посмотрим на датасет методом describe()\n",
    "df.describe()"
   ]
  },
  {
   "cell_type": "code",
   "execution_count": 22,
   "metadata": {},
   "outputs": [
    {
     "data": {
      "text/html": [
       "<div>\n",
       "<style scoped>\n",
       "    .dataframe tbody tr th:only-of-type {\n",
       "        vertical-align: middle;\n",
       "    }\n",
       "\n",
       "    .dataframe tbody tr th {\n",
       "        vertical-align: top;\n",
       "    }\n",
       "\n",
       "    .dataframe thead th {\n",
       "        text-align: right;\n",
       "    }\n",
       "</style>\n",
       "<table border=\"1\" class=\"dataframe\">\n",
       "  <thead>\n",
       "    <tr style=\"text-align: right;\">\n",
       "      <th></th>\n",
       "      <th>user_id</th>\n",
       "      <th>score</th>\n",
       "      <th>age</th>\n",
       "      <th>objects</th>\n",
       "      <th>balance</th>\n",
       "      <th>products</th>\n",
       "      <th>credit_card</th>\n",
       "      <th>loyalty</th>\n",
       "      <th>estimated_salary</th>\n",
       "      <th>churn</th>\n",
       "    </tr>\n",
       "  </thead>\n",
       "  <tbody>\n",
       "    <tr>\n",
       "      <th>count</th>\n",
       "      <td>7,963.00</td>\n",
       "      <td>7,963.00</td>\n",
       "      <td>7,963.00</td>\n",
       "      <td>7,963.00</td>\n",
       "      <td>4,846.00</td>\n",
       "      <td>7,963.00</td>\n",
       "      <td>7,963.00</td>\n",
       "      <td>7,963.00</td>\n",
       "      <td>7,963.00</td>\n",
       "      <td>7,963.00</td>\n",
       "    </tr>\n",
       "    <tr>\n",
       "      <th>mean</th>\n",
       "      <td>15,733,903.88</td>\n",
       "      <td>651.85</td>\n",
       "      <td>37.41</td>\n",
       "      <td>5.03</td>\n",
       "      <td>119,535.86</td>\n",
       "      <td>1.54</td>\n",
       "      <td>0.71</td>\n",
       "      <td>0.55</td>\n",
       "      <td>99,738.39</td>\n",
       "      <td>0.00</td>\n",
       "    </tr>\n",
       "    <tr>\n",
       "      <th>std</th>\n",
       "      <td>71,744.23</td>\n",
       "      <td>95.65</td>\n",
       "      <td>10.13</td>\n",
       "      <td>2.88</td>\n",
       "      <td>29,944.93</td>\n",
       "      <td>0.51</td>\n",
       "      <td>0.46</td>\n",
       "      <td>0.50</td>\n",
       "      <td>57,405.59</td>\n",
       "      <td>0.00</td>\n",
       "    </tr>\n",
       "    <tr>\n",
       "      <th>min</th>\n",
       "      <td>15,608,437.00</td>\n",
       "      <td>405.00</td>\n",
       "      <td>18.00</td>\n",
       "      <td>0.00</td>\n",
       "      <td>14,262.80</td>\n",
       "      <td>1.00</td>\n",
       "      <td>0.00</td>\n",
       "      <td>0.00</td>\n",
       "      <td>90.07</td>\n",
       "      <td>0.00</td>\n",
       "    </tr>\n",
       "    <tr>\n",
       "      <th>25%</th>\n",
       "      <td>15,671,554.50</td>\n",
       "      <td>585.00</td>\n",
       "      <td>31.00</td>\n",
       "      <td>3.00</td>\n",
       "      <td>99,118.23</td>\n",
       "      <td>1.00</td>\n",
       "      <td>0.00</td>\n",
       "      <td>0.00</td>\n",
       "      <td>50,783.49</td>\n",
       "      <td>0.00</td>\n",
       "    </tr>\n",
       "    <tr>\n",
       "      <th>50%</th>\n",
       "      <td>15,734,279.00</td>\n",
       "      <td>653.00</td>\n",
       "      <td>36.00</td>\n",
       "      <td>5.00</td>\n",
       "      <td>119,791.21</td>\n",
       "      <td>2.00</td>\n",
       "      <td>1.00</td>\n",
       "      <td>1.00</td>\n",
       "      <td>99,645.04</td>\n",
       "      <td>0.00</td>\n",
       "    </tr>\n",
       "    <tr>\n",
       "      <th>75%</th>\n",
       "      <td>15,796,088.50</td>\n",
       "      <td>718.00</td>\n",
       "      <td>41.00</td>\n",
       "      <td>7.00</td>\n",
       "      <td>139,747.40</td>\n",
       "      <td>2.00</td>\n",
       "      <td>1.00</td>\n",
       "      <td>1.00</td>\n",
       "      <td>148,609.96</td>\n",
       "      <td>0.00</td>\n",
       "    </tr>\n",
       "    <tr>\n",
       "      <th>max</th>\n",
       "      <td>15,858,426.00</td>\n",
       "      <td>850.00</td>\n",
       "      <td>92.00</td>\n",
       "      <td>10.00</td>\n",
       "      <td>221,532.80</td>\n",
       "      <td>3.00</td>\n",
       "      <td>1.00</td>\n",
       "      <td>1.00</td>\n",
       "      <td>199,992.48</td>\n",
       "      <td>0.00</td>\n",
       "    </tr>\n",
       "  </tbody>\n",
       "</table>\n",
       "</div>"
      ],
      "text/plain": [
       "            user_id    score      age  objects    balance  products  \\\n",
       "count      7,963.00 7,963.00 7,963.00 7,963.00   4,846.00  7,963.00   \n",
       "mean  15,733,903.88   651.85    37.41     5.03 119,535.86      1.54   \n",
       "std       71,744.23    95.65    10.13     2.88  29,944.93      0.51   \n",
       "min   15,608,437.00   405.00    18.00     0.00  14,262.80      1.00   \n",
       "25%   15,671,554.50   585.00    31.00     3.00  99,118.23      1.00   \n",
       "50%   15,734,279.00   653.00    36.00     5.00 119,791.21      2.00   \n",
       "75%   15,796,088.50   718.00    41.00     7.00 139,747.40      2.00   \n",
       "max   15,858,426.00   850.00    92.00    10.00 221,532.80      3.00   \n",
       "\n",
       "       credit_card  loyalty  estimated_salary    churn  \n",
       "count     7,963.00 7,963.00          7,963.00 7,963.00  \n",
       "mean          0.71     0.55         99,738.39     0.00  \n",
       "std           0.46     0.50         57,405.59     0.00  \n",
       "min           0.00     0.00             90.07     0.00  \n",
       "25%           0.00     0.00         50,783.49     0.00  \n",
       "50%           1.00     1.00         99,645.04     0.00  \n",
       "75%           1.00     1.00        148,609.96     0.00  \n",
       "max           1.00     1.00        199,992.48     0.00  "
      ]
     },
     "execution_count": 22,
     "metadata": {},
     "output_type": "execute_result"
    }
   ],
   "source": [
    "df.query('churn == 0').describe()"
   ]
  },
  {
   "cell_type": "code",
   "execution_count": 23,
   "metadata": {},
   "outputs": [
    {
     "data": {
      "text/html": [
       "<div>\n",
       "<style scoped>\n",
       "    .dataframe tbody tr th:only-of-type {\n",
       "        vertical-align: middle;\n",
       "    }\n",
       "\n",
       "    .dataframe tbody tr th {\n",
       "        vertical-align: top;\n",
       "    }\n",
       "\n",
       "    .dataframe thead th {\n",
       "        text-align: right;\n",
       "    }\n",
       "</style>\n",
       "<table border=\"1\" class=\"dataframe\">\n",
       "  <thead>\n",
       "    <tr style=\"text-align: right;\">\n",
       "      <th></th>\n",
       "      <th>user_id</th>\n",
       "      <th>score</th>\n",
       "      <th>age</th>\n",
       "      <th>objects</th>\n",
       "      <th>balance</th>\n",
       "      <th>products</th>\n",
       "      <th>credit_card</th>\n",
       "      <th>loyalty</th>\n",
       "      <th>estimated_salary</th>\n",
       "      <th>churn</th>\n",
       "    </tr>\n",
       "  </thead>\n",
       "  <tbody>\n",
       "    <tr>\n",
       "      <th>count</th>\n",
       "      <td>2,037.00</td>\n",
       "      <td>2,037.00</td>\n",
       "      <td>2,037.00</td>\n",
       "      <td>2,037.00</td>\n",
       "      <td>1,537.00</td>\n",
       "      <td>2,037.00</td>\n",
       "      <td>2,037.00</td>\n",
       "      <td>2,037.00</td>\n",
       "      <td>2,037.00</td>\n",
       "      <td>2,037.00</td>\n",
       "    </tr>\n",
       "    <tr>\n",
       "      <th>mean</th>\n",
       "      <td>15,732,787.96</td>\n",
       "      <td>645.35</td>\n",
       "      <td>44.84</td>\n",
       "      <td>4.93</td>\n",
       "      <td>120,746.97</td>\n",
       "      <td>1.48</td>\n",
       "      <td>0.70</td>\n",
       "      <td>0.36</td>\n",
       "      <td>101,465.68</td>\n",
       "      <td>1.00</td>\n",
       "    </tr>\n",
       "    <tr>\n",
       "      <th>std</th>\n",
       "      <td>72,692.62</td>\n",
       "      <td>100.32</td>\n",
       "      <td>9.76</td>\n",
       "      <td>2.94</td>\n",
       "      <td>30,555.19</td>\n",
       "      <td>0.80</td>\n",
       "      <td>0.46</td>\n",
       "      <td>0.48</td>\n",
       "      <td>57,912.42</td>\n",
       "      <td>0.00</td>\n",
       "    </tr>\n",
       "    <tr>\n",
       "      <th>min</th>\n",
       "      <td>15,608,442.00</td>\n",
       "      <td>350.00</td>\n",
       "      <td>18.00</td>\n",
       "      <td>0.00</td>\n",
       "      <td>3,768.69</td>\n",
       "      <td>1.00</td>\n",
       "      <td>0.00</td>\n",
       "      <td>0.00</td>\n",
       "      <td>11.58</td>\n",
       "      <td>1.00</td>\n",
       "    </tr>\n",
       "    <tr>\n",
       "      <th>25%</th>\n",
       "      <td>15,670,096.00</td>\n",
       "      <td>578.00</td>\n",
       "      <td>38.00</td>\n",
       "      <td>2.00</td>\n",
       "      <td>103,700.69</td>\n",
       "      <td>1.00</td>\n",
       "      <td>0.00</td>\n",
       "      <td>0.00</td>\n",
       "      <td>51,907.72</td>\n",
       "      <td>1.00</td>\n",
       "    </tr>\n",
       "    <tr>\n",
       "      <th>50%</th>\n",
       "      <td>15,731,699.00</td>\n",
       "      <td>646.00</td>\n",
       "      <td>45.00</td>\n",
       "      <td>5.00</td>\n",
       "      <td>119,948.09</td>\n",
       "      <td>1.00</td>\n",
       "      <td>1.00</td>\n",
       "      <td>0.00</td>\n",
       "      <td>102,460.84</td>\n",
       "      <td>1.00</td>\n",
       "    </tr>\n",
       "    <tr>\n",
       "      <th>75%</th>\n",
       "      <td>15,795,828.00</td>\n",
       "      <td>716.00</td>\n",
       "      <td>51.00</td>\n",
       "      <td>8.00</td>\n",
       "      <td>137,986.58</td>\n",
       "      <td>2.00</td>\n",
       "      <td>1.00</td>\n",
       "      <td>1.00</td>\n",
       "      <td>152,422.91</td>\n",
       "      <td>1.00</td>\n",
       "    </tr>\n",
       "    <tr>\n",
       "      <th>max</th>\n",
       "      <td>15,858,392.00</td>\n",
       "      <td>850.00</td>\n",
       "      <td>84.00</td>\n",
       "      <td>10.00</td>\n",
       "      <td>250,898.09</td>\n",
       "      <td>4.00</td>\n",
       "      <td>1.00</td>\n",
       "      <td>1.00</td>\n",
       "      <td>199,808.10</td>\n",
       "      <td>1.00</td>\n",
       "    </tr>\n",
       "  </tbody>\n",
       "</table>\n",
       "</div>"
      ],
      "text/plain": [
       "            user_id    score      age  objects    balance  products  \\\n",
       "count      2,037.00 2,037.00 2,037.00 2,037.00   1,537.00  2,037.00   \n",
       "mean  15,732,787.96   645.35    44.84     4.93 120,746.97      1.48   \n",
       "std       72,692.62   100.32     9.76     2.94  30,555.19      0.80   \n",
       "min   15,608,442.00   350.00    18.00     0.00   3,768.69      1.00   \n",
       "25%   15,670,096.00   578.00    38.00     2.00 103,700.69      1.00   \n",
       "50%   15,731,699.00   646.00    45.00     5.00 119,948.09      1.00   \n",
       "75%   15,795,828.00   716.00    51.00     8.00 137,986.58      2.00   \n",
       "max   15,858,392.00   850.00    84.00    10.00 250,898.09      4.00   \n",
       "\n",
       "       credit_card  loyalty  estimated_salary    churn  \n",
       "count     2,037.00 2,037.00          2,037.00 2,037.00  \n",
       "mean          0.70     0.36        101,465.68     1.00  \n",
       "std           0.46     0.48         57,912.42     0.00  \n",
       "min           0.00     0.00             11.58     1.00  \n",
       "25%           0.00     0.00         51,907.72     1.00  \n",
       "50%           1.00     0.00        102,460.84     1.00  \n",
       "75%           1.00     1.00        152,422.91     1.00  \n",
       "max           1.00     1.00        199,808.10     1.00  "
      ]
     },
     "execution_count": 23,
     "metadata": {},
     "output_type": "execute_result"
    }
   ],
   "source": [
    "df.query('churn == 1').describe()"
   ]
  },
  {
   "cell_type": "code",
   "execution_count": 24,
   "metadata": {
    "scrolled": false
   },
   "outputs": [
    {
     "data": {
      "text/plain": [
       "698"
      ]
     },
     "execution_count": 24,
     "metadata": {},
     "output_type": "execute_result"
    }
   ],
   "source": [
    "#посмотрим на количество клиентов с доходом ниже прожиточного минимума (13 919 на 01.06.2022)\n",
    "df.query('estimated_salary < 13919')['estimated_salary'].count()"
   ]
  },
  {
   "cell_type": "markdown",
   "metadata": {},
   "source": [
    "* возраст клиентов от 18 до 92 лет\n",
    "* количество объектов в собственности от 0 до 10\n",
    "* количество продуктов банка от 1 до 4\n",
    "* доход клиентов варируется от 11 у.е. до 200 000 у.е."
   ]
  },
  {
   "cell_type": "markdown",
   "metadata": {},
   "source": [
    "**Вывод**\n",
    "\n",
    "Предобработка данных завершена. Были изменены названия столбцов, пропуски оставлены нетронутыми. Выявлена группа пользователей с доходами от ниже прожиточного минимума"
   ]
  },
  {
   "cell_type": "markdown",
   "metadata": {},
   "source": [
    "## Исследовательский анализ данных"
   ]
  },
  {
   "cell_type": "markdown",
   "metadata": {},
   "source": [
    "### Распределение показателей по группам оттока"
   ]
  },
  {
   "cell_type": "code",
   "execution_count": 25,
   "metadata": {
    "scrolled": true
   },
   "outputs": [
    {
     "data": {
      "text/html": [
       "<div>\n",
       "<style scoped>\n",
       "    .dataframe tbody tr th:only-of-type {\n",
       "        vertical-align: middle;\n",
       "    }\n",
       "\n",
       "    .dataframe tbody tr th {\n",
       "        vertical-align: top;\n",
       "    }\n",
       "\n",
       "    .dataframe thead th {\n",
       "        text-align: right;\n",
       "    }\n",
       "</style>\n",
       "<table border=\"1\" class=\"dataframe\">\n",
       "  <thead>\n",
       "    <tr style=\"text-align: right;\">\n",
       "      <th>churn</th>\n",
       "      <th>0</th>\n",
       "      <th>1</th>\n",
       "    </tr>\n",
       "  </thead>\n",
       "  <tbody>\n",
       "    <tr>\n",
       "      <th>user_id</th>\n",
       "      <td>15,734,279.00</td>\n",
       "      <td>15,731,699.00</td>\n",
       "    </tr>\n",
       "    <tr>\n",
       "      <th>score</th>\n",
       "      <td>653.00</td>\n",
       "      <td>646.00</td>\n",
       "    </tr>\n",
       "    <tr>\n",
       "      <th>age</th>\n",
       "      <td>36.00</td>\n",
       "      <td>45.00</td>\n",
       "    </tr>\n",
       "    <tr>\n",
       "      <th>objects</th>\n",
       "      <td>5.00</td>\n",
       "      <td>5.00</td>\n",
       "    </tr>\n",
       "    <tr>\n",
       "      <th>balance</th>\n",
       "      <td>119,791.21</td>\n",
       "      <td>119,948.09</td>\n",
       "    </tr>\n",
       "    <tr>\n",
       "      <th>products</th>\n",
       "      <td>2.00</td>\n",
       "      <td>1.00</td>\n",
       "    </tr>\n",
       "    <tr>\n",
       "      <th>credit_card</th>\n",
       "      <td>1.00</td>\n",
       "      <td>1.00</td>\n",
       "    </tr>\n",
       "    <tr>\n",
       "      <th>loyalty</th>\n",
       "      <td>1.00</td>\n",
       "      <td>0.00</td>\n",
       "    </tr>\n",
       "    <tr>\n",
       "      <th>estimated_salary</th>\n",
       "      <td>99,645.04</td>\n",
       "      <td>102,460.84</td>\n",
       "    </tr>\n",
       "  </tbody>\n",
       "</table>\n",
       "</div>"
      ],
      "text/plain": [
       "churn                        0             1\n",
       "user_id          15,734,279.00 15,731,699.00\n",
       "score                   653.00        646.00\n",
       "age                      36.00         45.00\n",
       "objects                   5.00          5.00\n",
       "balance             119,791.21    119,948.09\n",
       "products                  2.00          1.00\n",
       "credit_card               1.00          1.00\n",
       "loyalty                   1.00          0.00\n",
       "estimated_salary     99,645.04    102,460.84"
      ]
     },
     "execution_count": 25,
     "metadata": {},
     "output_type": "execute_result"
    }
   ],
   "source": [
    "#сгруппируем данные по группам оттока и сравним медианы показателей\n",
    "churn_grouped = df.groupby('churn').median().transpose()\n",
    "churn_grouped"
   ]
  },
  {
   "cell_type": "markdown",
   "metadata": {},
   "source": [
    "Уже по медианным значениям показателей видно, что ушедший пользователь в среднем старше (45 лет против 36 лет) и, как не удивительно, имеет больший баланс (109 тыс. у.е. против 92 тыс. у.е.). Остальные показатели схожи."
   ]
  },
  {
   "cell_type": "code",
   "execution_count": 26,
   "metadata": {
    "scrolled": false
   },
   "outputs": [
    {
     "data": {
      "image/png": "[encoded data removed]",
      "text/plain": [
       "<Figure size 432x288 with 1 Axes>"
      ]
     },
     "metadata": {
      "needs_background": "light"
     },
     "output_type": "display_data"
    },
    {
     "data": {
      "image/png": "[encoded data removed]",
      "text/plain": [
       "<Figure size 432x288 with 1 Axes>"
      ]
     },
     "metadata": {
      "needs_background": "light"
     },
     "output_type": "display_data"
    },
    {
     "data": {
      "image/png": "[encoded data removed]",
      "text/plain": [
       "<Figure size 432x288 with 1 Axes>"
      ]
     },
     "metadata": {
      "needs_background": "light"
     },
     "output_type": "display_data"
    },
    {
     "data": {
      "image/png": "[encoded data removed]",
      "text/plain": [
       "<Figure size 432x288 with 1 Axes>"
      ]
     },
     "metadata": {
      "needs_background": "light"
     },
     "output_type": "display_data"
    },
    {
     "data": {
      "image/png": "[encoded data removed]",
      "text/plain": [
       "<Figure size 432x288 with 1 Axes>"
      ]
     },
     "metadata": {
      "needs_background": "light"
     },
     "output_type": "display_data"
    }
   ],
   "source": [
    "#преставим интересующие распределения графически с помощью боксплотов\n",
    "for column in df[['products', 'balance', 'objects', 'age', 'score']]:\n",
    "    plt.title('Показатель ' + column)\n",
    "    sns.boxplot(data = df, x = 'churn', y = column)\n",
    "    plt.ylabel('Значение')\n",
    "    plt.show()"
   ]
  },
  {
   "cell_type": "code",
   "execution_count": 27,
   "metadata": {},
   "outputs": [
    {
     "data": {
      "image/png": "[encoded data removed]",
      "text/plain": [
       "<Figure size 438.375x360 with 1 Axes>"
      ]
     },
     "metadata": {},
     "output_type": "display_data"
    },
    {
     "data": {
      "image/png": "[encoded data removed]",
      "text/plain": [
       "<Figure size 438.375x360 with 1 Axes>"
      ]
     },
     "metadata": {},
     "output_type": "display_data"
    },
    {
     "data": {
      "image/png": "[encoded data removed]",
      "text/plain": [
       "<Figure size 438.375x360 with 1 Axes>"
      ]
     },
     "metadata": {},
     "output_type": "display_data"
    },
    {
     "data": {
      "image/png": "[encoded data removed]",
      "text/plain": [
       "<Figure size 438.375x360 with 1 Axes>"
      ]
     },
     "metadata": {},
     "output_type": "display_data"
    },
    {
     "data": {
      "image/png": "[encoded data removed]",
      "text/plain": [
       "<Figure size 438.375x360 with 1 Axes>"
      ]
     },
     "metadata": {},
     "output_type": "display_data"
    },
    {
     "data": {
      "image/png": "[encoded data removed]",
      "text/plain": [
       "<Figure size 438.375x360 with 1 Axes>"
      ]
     },
     "metadata": {},
     "output_type": "display_data"
    },
    {
     "data": {
      "image/png": "[encoded data removed]",
      "text/plain": [
       "<Figure size 438.375x360 with 1 Axes>"
      ]
     },
     "metadata": {},
     "output_type": "display_data"
    },
    {
     "data": {
      "image/png": "[encoded data removed]",
      "text/plain": [
       "<Figure size 438.375x360 with 1 Axes>"
      ]
     },
     "metadata": {},
     "output_type": "display_data"
    },
    {
     "data": {
      "image/png": "[encoded data removed]",
      "text/plain": [
       "<Figure size 438.375x360 with 1 Axes>"
      ]
     },
     "metadata": {},
     "output_type": "display_data"
    },
    {
     "data": {
      "image/png": "[encoded data removed]",
      "text/plain": [
       "<Figure size 438.375x360 with 1 Axes>"
      ]
     },
     "metadata": {},
     "output_type": "display_data"
    },
    {
     "data": {
      "image/png": "[encoded data removed]",
      "text/plain": [
       "<Figure size 438.375x360 with 1 Axes>"
      ]
     },
     "metadata": {},
     "output_type": "display_data"
    }
   ],
   "source": [
    "#представим показатели с помощью столбчатых гистрограмм\n",
    "temp1 = df.replace({'churn':{1:'ушли', 0:'остались'}})\n",
    "\n",
    "sns.set_style(\"whitegrid\")\n",
    "\n",
    "def hist_func(data, column):\n",
    "    sns.displot(data, hue = 'churn', x = column)\n",
    "    plt.title('Показатель '+ name)\n",
    "    plt.xlabel(name)\n",
    "    plt.ylabel('Количество клиентов')\n",
    "    plt.show()\n",
    "    \n",
    "for name in temp1.columns[1:]:\n",
    "    hist_func(temp1, name)"
   ]
  },
  {
   "cell_type": "code",
   "execution_count": 28,
   "metadata": {},
   "outputs": [
    {
     "data": {
      "image/png": "[encoded data removed]",
      "text/plain": [
       "<Figure size 469.75x360 with 1 Axes>"
      ]
     },
     "metadata": {},
     "output_type": "display_data"
    },
    {
     "data": {
      "image/png": "[encoded data removed]",
      "text/plain": [
       "<Figure size 469.75x360 with 1 Axes>"
      ]
     },
     "metadata": {},
     "output_type": "display_data"
    },
    {
     "data": {
      "image/png": "[encoded data removed]",
      "text/plain": [
       "<Figure size 469.75x360 with 1 Axes>"
      ]
     },
     "metadata": {},
     "output_type": "display_data"
    },
    {
     "data": {
      "image/png": "[encoded data removed]",
      "text/plain": [
       "<Figure size 469.75x360 with 1 Axes>"
      ]
     },
     "metadata": {},
     "output_type": "display_data"
    },
    {
     "data": {
      "image/png": "[encoded data removed]",
      "text/plain": [
       "<Figure size 469.75x360 with 1 Axes>"
      ]
     },
     "metadata": {},
     "output_type": "display_data"
    },
    {
     "data": {
      "image/png": "[encoded data removed]",
      "text/plain": [
       "<Figure size 469.75x360 with 1 Axes>"
      ]
     },
     "metadata": {},
     "output_type": "display_data"
    },
    {
     "data": {
      "image/png": "[encoded data removed]",
      "text/plain": [
       "<Figure size 469.75x360 with 1 Axes>"
      ]
     },
     "metadata": {},
     "output_type": "display_data"
    },
    {
     "data": {
      "image/png": "[encoded data removed]",
      "text/plain": [
       "<Figure size 469.75x360 with 1 Axes>"
      ]
     },
     "metadata": {},
     "output_type": "display_data"
    },
    {
     "data": {
      "image/png": "[encoded data removed]",
      "text/plain": [
       "<Figure size 469.75x360 with 1 Axes>"
      ]
     },
     "metadata": {},
     "output_type": "display_data"
    },
    {
     "data": {
      "image/png": "[encoded data removed]",
      "text/plain": [
       "<Figure size 469.75x360 with 1 Axes>"
      ]
     },
     "metadata": {},
     "output_type": "display_data"
    },
    {
     "data": {
      "image/png": "[encoded data removed]",
      "text/plain": [
       "<Figure size 469.75x360 with 1 Axes>"
      ]
     },
     "metadata": {},
     "output_type": "display_data"
    }
   ],
   "source": [
    "#те же гистрограммы с разбивкой по городам\n",
    "sns.set_style(\"whitegrid\")\n",
    "\n",
    "sns.set_palette(['green','yellow', 'red'])\n",
    "\n",
    "def hist_func(data, column):\n",
    "    sns.displot(data, hue = 'city', x = column)\n",
    "    plt.title('Показатель '+ name)\n",
    "    plt.xlabel(name)\n",
    "    plt.ylabel('Количество клиентов')\n",
    "    plt.show()\n",
    "        \n",
    "for name in temp1.columns[1:]:\n",
    "    hist_func(temp1,name)"
   ]
  },
  {
   "cell_type": "code",
   "execution_count": 29,
   "metadata": {
    "scrolled": true
   },
   "outputs": [
    {
     "data": {
      "text/plain": [
       "<Figure size 2160x2160 with 0 Axes>"
      ]
     },
     "metadata": {},
     "output_type": "display_data"
    },
    {
     "data": {
      "image/png": "[encoded data removed]",
      "text/plain": [
       "<Figure size 438.375x360 with 1 Axes>"
      ]
     },
     "metadata": {},
     "output_type": "display_data"
    },
    {
     "data": {
      "text/plain": [
       "<Figure size 2160x2160 with 0 Axes>"
      ]
     },
     "metadata": {},
     "output_type": "display_data"
    },
    {
     "data": {
      "image/png": "[encoded data removed]",
      "text/plain": [
       "<Figure size 438.375x360 with 1 Axes>"
      ]
     },
     "metadata": {},
     "output_type": "display_data"
    },
    {
     "data": {
      "text/plain": [
       "<Figure size 2160x2160 with 0 Axes>"
      ]
     },
     "metadata": {},
     "output_type": "display_data"
    },
    {
     "data": {
      "image/png": "[encoded data removed]",
      "text/plain": [
       "<Figure size 438.375x360 with 1 Axes>"
      ]
     },
     "metadata": {},
     "output_type": "display_data"
    },
    {
     "data": {
      "text/plain": [
       "<Figure size 2160x2160 with 0 Axes>"
      ]
     },
     "metadata": {},
     "output_type": "display_data"
    },
    {
     "data": {
      "image/png": "[encoded data removed]",
      "text/plain": [
       "<Figure size 438.375x360 with 1 Axes>"
      ]
     },
     "metadata": {},
     "output_type": "display_data"
    },
    {
     "data": {
      "text/plain": [
       "<Figure size 2160x2160 with 0 Axes>"
      ]
     },
     "metadata": {},
     "output_type": "display_data"
    },
    {
     "data": {
      "image/png": "[encoded data removed]",
      "text/plain": [
       "<Figure size 438.375x360 with 1 Axes>"
      ]
     },
     "metadata": {},
     "output_type": "display_data"
    },
    {
     "data": {
      "text/plain": [
       "<Figure size 2160x2160 with 0 Axes>"
      ]
     },
     "metadata": {},
     "output_type": "display_data"
    },
    {
     "data": {
      "image/png": "[encoded data removed]",
      "text/plain": [
       "<Figure size 438.375x360 with 1 Axes>"
      ]
     },
     "metadata": {},
     "output_type": "display_data"
    },
    {
     "data": {
      "text/plain": [
       "<Figure size 2160x2160 with 0 Axes>"
      ]
     },
     "metadata": {},
     "output_type": "display_data"
    },
    {
     "data": {
      "image/png": "[encoded data removed]",
      "text/plain": [
       "<Figure size 438.375x360 with 1 Axes>"
      ]
     },
     "metadata": {},
     "output_type": "display_data"
    },
    {
     "data": {
      "text/plain": [
       "<Figure size 2160x2160 with 0 Axes>"
      ]
     },
     "metadata": {},
     "output_type": "display_data"
    },
    {
     "data": {
      "image/png": "[encoded data removed]",
      "text/plain": [
       "<Figure size 438.375x360 with 1 Axes>"
      ]
     },
     "metadata": {},
     "output_type": "display_data"
    },
    {
     "data": {
      "text/plain": [
       "<Figure size 2160x2160 with 0 Axes>"
      ]
     },
     "metadata": {},
     "output_type": "display_data"
    },
    {
     "data": {
      "image/png": "[encoded data removed]",
      "text/plain": [
       "<Figure size 438.375x360 with 1 Axes>"
      ]
     },
     "metadata": {},
     "output_type": "display_data"
    },
    {
     "data": {
      "text/plain": [
       "<Figure size 2160x2160 with 0 Axes>"
      ]
     },
     "metadata": {},
     "output_type": "display_data"
    },
    {
     "data": {
      "image/png": "[encoded data removed]",
      "text/plain": [
       "<Figure size 438.375x360 with 1 Axes>"
      ]
     },
     "metadata": {},
     "output_type": "display_data"
    },
    {
     "data": {
      "text/plain": [
       "<Figure size 2160x2160 with 0 Axes>"
      ]
     },
     "metadata": {},
     "output_type": "display_data"
    },
    {
     "data": {
      "image/png": "[encoded data removed]",
      "text/plain": [
       "<Figure size 438.375x360 with 1 Axes>"
      ]
     },
     "metadata": {},
     "output_type": "display_data"
    }
   ],
   "source": [
    "#изучим клиентов с доходом меньше ПМ\n",
    "temp2 = df.query('estimated_salary < 13919').replace({'churn':{1:'ушли', 0:'остались'}})\n",
    "\n",
    "sns.set_style(\"whitegrid\")\n",
    "\n",
    "def hist_func(data, column):\n",
    "    plt.figure(figsize=(30, 30))\n",
    "    sns.displot(data, hue = 'churn', x = column)\n",
    "    plt.title('Показатель '+ name)\n",
    "    plt.xlabel(name)\n",
    "    plt.ylabel('Количество клиентов')\n",
    "    plt.show()\n",
    "       \n",
    "for name in temp2.columns[1:]:\n",
    "    hist_func(temp2, name)"
   ]
  },
  {
   "cell_type": "code",
   "execution_count": 30,
   "metadata": {},
   "outputs": [],
   "source": [
    "df_temp = pd.get_dummies(df)\n",
    "df_women = df_temp.query('gender_Ж == 1')\n",
    "df_men = df_temp.query('gender_М == 1')\n",
    "df_rostov_great = df_temp.query('city_Рыбинск == 0 and city_Ярославль == 0')\n",
    "df_rybinsk = df_temp.query('city_Рыбинск == 1')\n",
    "df_yaroslavl = df_temp.query('city_Ярославль == 1')\n",
    "df_rostov_great_w = df_temp.query('city_Рыбинск == 0 and city_Ярославль == 0 and gender_Ж == 1')\n",
    "df_rostov_great_m = df_temp.query('city_Рыбинск == 0 and city_Ярославль == 0 and gender_М == 1')\n",
    "df_rybinsk_w = df_temp.query('city_Рыбинск == 1 and gender_Ж == 1')\n",
    "df_rybinsk_m = df_temp.query('city_Рыбинск == 1 and gender_М == 1')\n",
    "df_yaroslavl_w = df_temp.query('city_Ярославль == 1 and gender_Ж == 1')\n",
    "df_yaroslavl_m = df_temp.query('city_Ярославль == 1 and gender_М == 1')"
   ]
  },
  {
   "cell_type": "code",
   "execution_count": 31,
   "metadata": {},
   "outputs": [
    {
     "data": {
      "text/plain": [
       "'Доля ушедших в отток среди женщин 25%'"
      ]
     },
     "execution_count": 31,
     "metadata": {},
     "output_type": "execute_result"
    }
   ],
   "source": [
    "\"Доля ушедших в отток среди женщин {:.0%}\".format(df_women['churn'].sum() / df_women['churn'].count())"
   ]
  },
  {
   "cell_type": "code",
   "execution_count": 32,
   "metadata": {},
   "outputs": [
    {
     "data": {
      "text/plain": [
       "'Доля ушедших в отток среди мужчин 16%'"
      ]
     },
     "execution_count": 32,
     "metadata": {},
     "output_type": "execute_result"
    }
   ],
   "source": [
    "\"Доля ушедших в отток среди мужчин {:.0%}\".format(df_men['churn'].sum() / df_men['churn'].count())"
   ]
  },
  {
   "cell_type": "code",
   "execution_count": 33,
   "metadata": {},
   "outputs": [
    {
     "data": {
      "text/plain": [
       "'Доля ушедших в отток среди Ростовских женщин 38%'"
      ]
     },
     "execution_count": 33,
     "metadata": {},
     "output_type": "execute_result"
    }
   ],
   "source": [
    "\"Доля ушедших в отток среди Ростовских женщин {:.0%}\".format(df_rostov_great_w['churn'].sum() / df_rostov_great_w['churn'].count())"
   ]
  },
  {
   "cell_type": "code",
   "execution_count": 34,
   "metadata": {},
   "outputs": [
    {
     "data": {
      "text/plain": [
       "'Доля ушедших в отток среди Ростовских мужчин 28%'"
      ]
     },
     "execution_count": 34,
     "metadata": {},
     "output_type": "execute_result"
    }
   ],
   "source": [
    "\"Доля ушедших в отток среди Ростовских мужчин {:.0%}\".format(df_rostov_great_m['churn'].sum() / df_rostov_great_m['churn'].count())"
   ]
  },
  {
   "cell_type": "code",
   "execution_count": 35,
   "metadata": {},
   "outputs": [
    {
     "data": {
      "text/plain": [
       "'Доля ушедших в отток среди Рыбинских женщин 21%'"
      ]
     },
     "execution_count": 35,
     "metadata": {},
     "output_type": "execute_result"
    }
   ],
   "source": [
    "\"Доля ушедших в отток среди Рыбинских женщин {:.0%}\".format(df_rybinsk_w['churn'].sum() / df_rybinsk_w['churn'].count())"
   ]
  },
  {
   "cell_type": "code",
   "execution_count": 36,
   "metadata": {},
   "outputs": [
    {
     "data": {
      "text/plain": [
       "'Доля ушедших в отток среди Рыбинских мужчин 13%'"
      ]
     },
     "execution_count": 36,
     "metadata": {},
     "output_type": "execute_result"
    }
   ],
   "source": [
    "\"Доля ушедших в отток среди Рыбинских мужчин {:.0%}\".format(df_rybinsk_m['churn'].sum() / df_rybinsk_m['churn'].count())"
   ]
  },
  {
   "cell_type": "code",
   "execution_count": 37,
   "metadata": {
    "scrolled": true
   },
   "outputs": [
    {
     "data": {
      "text/plain": [
       "'Доля ушедших в отток среди Ярославльских женщин 20%'"
      ]
     },
     "execution_count": 37,
     "metadata": {},
     "output_type": "execute_result"
    }
   ],
   "source": [
    "\"Доля ушедших в отток среди Ярославльских женщин {:.0%}\".format(df_yaroslavl_w['churn'].sum() / df_yaroslavl_w['churn'].count())"
   ]
  },
  {
   "cell_type": "code",
   "execution_count": 38,
   "metadata": {},
   "outputs": [
    {
     "data": {
      "text/plain": [
       "'Доля ушедших в отток среди Ярославльских мужчин 13%'"
      ]
     },
     "execution_count": 38,
     "metadata": {},
     "output_type": "execute_result"
    }
   ],
   "source": [
    "\"Доля ушедших в отток среди Ярославльских мужчин {:.0%}\".format(df_yaroslavl_m['churn'].sum() / df_yaroslavl_m['churn'].count())"
   ]
  },
  {
   "cell_type": "markdown",
   "metadata": {},
   "source": [
    "### Матрица корреляций"
   ]
  },
  {
   "cell_type": "code",
   "execution_count": 39,
   "metadata": {
    "scrolled": false
   },
   "outputs": [
    {
     "data": {
      "image/png": "[encoded data removed]",
      "text/plain": [
       "<Figure size 1296x1008 with 2 Axes>"
      ]
     },
     "metadata": {},
     "output_type": "display_data"
    }
   ],
   "source": [
    "#посмтроим матрицу корреляций показателей\n",
    "plt.figure(figsize=(18, 14))\n",
    "sns.heatmap(df.corr(), annot = True, square=False)\n",
    "plt.title('Матрица корреляций', fontsize = 14)\n",
    "plt.xlabel('Показатели', fontsize = 14)\n",
    "plt.ylabel('Показатели', fontsize = 14)\n",
    "plt.show()"
   ]
  },
  {
   "cell_type": "markdown",
   "metadata": {},
   "source": [
    "### Вывод"
   ]
  },
  {
   "cell_type": "markdown",
   "metadata": {},
   "source": [
    "* ушло 20% клиентов\n",
    "* чаще уходят клиенты в возрасте 40-50 лет\n",
    "* чаще уходят клиенты с одним продуктом\n",
    "* женщины уходят чаще мужчин, в каждом городе ушедших женщин примерно на треть больше ушедших мужчин\n",
    "* самая высокая доля ушедших в Ростове Великом, там ушла почти половина клиентов\n",
    "* активные пользователи уходят немного реже\n",
    "* наличие кредитного продукта практически не влияет на вероятность ухода\n",
    "* матрица корреляции показателей показывает, что значимых корреляций между показателями нет\n",
    "\n",
    "Аномальные выбросы не обнаружены. Есть длинный хвост в возрасте оставшихся клиентов, тянущийся с 55 до 92 лет и хвост с низким кредитным рейтингом среди ушедших клиентов.\n",
    "\n",
    "Изучение группы с доходом меньше прожиточного минимума наталкивает на мысль о проблеме сбора данных. Такие клиенты имеют до 10 объектов в собственности, баланс счета до 140 000"
   ]
  },
  {
   "cell_type": "markdown",
   "metadata": {},
   "source": [
    "## Проверка гипотез"
   ]
  },
  {
   "cell_type": "markdown",
   "metadata": {},
   "source": [
    "###  Гипотеза различия дохода между клиентами"
   ]
  },
  {
   "cell_type": "markdown",
   "metadata": {},
   "source": [
    "H0 - между средним доходом оставшихся и ушедших пользователей нет статистически значимых различий\n",
    "\n",
    "H1 - между средним доходом оставшихся и ушедших пользователей есть статистически значимые различия\n",
    "\n",
    "α - 0,05"
   ]
  },
  {
   "cell_type": "code",
   "execution_count": 40,
   "metadata": {
    "scrolled": false
   },
   "outputs": [
    {
     "name": "stderr",
     "output_type": "stream",
     "text": [
      "/Users/kirillkostin/opt/anaconda3/lib/python3.9/site-packages/seaborn/distributions.py:2619: FutureWarning: `distplot` is a deprecated function and will be removed in a future version. Please adapt your code to use either `displot` (a figure-level function with similar flexibility) or `histplot` (an axes-level function for histograms).\n",
      "  warnings.warn(msg, FutureWarning)\n"
     ]
    },
    {
     "data": {
      "image/png": "[encoded data removed]",
      "text/plain": [
       "<Figure size 432x288 with 1 Axes>"
      ]
     },
     "metadata": {},
     "output_type": "display_data"
    }
   ],
   "source": [
    "#убедимся в нормальности распределения\n",
    "#и корректности испольования критерия Стьюдента\n",
    "sns_plot = sns.distplot(df['estimated_salary'])\n",
    "fig = sns_plot.get_figure()\n",
    "plt.title('Распределение уровня дохода клиентов')\n",
    "plt.show()"
   ]
  },
  {
   "cell_type": "code",
   "execution_count": 41,
   "metadata": {},
   "outputs": [
    {
     "name": "stdout",
     "output_type": "stream",
     "text": [
      "p-значение: 0.22644042802223346\n",
      "Не получилось отвергнуть нулевую гипотезу\n"
     ]
    }
   ],
   "source": [
    "#распредление близко к нормальному, проведем t-test\n",
    "alpha = 0.05\n",
    "\n",
    "results = st.ttest_ind(df[df['churn']==1]['estimated_salary'], df[df['churn']==0]['estimated_salary'])\n",
    "\n",
    "print('p-значение:', results.pvalue)\n",
    "\n",
    "if (results.pvalue < alpha):\n",
    "    print(\"Отвергаем нулевую гипотезу\")\n",
    "else:\n",
    "    print(\"Не получилось отвергнуть нулевую гипотезу\")"
   ]
  },
  {
   "cell_type": "markdown",
   "metadata": {},
   "source": [
    "Статистически значимой разницы в среднем доходе клиентов нет."
   ]
  },
  {
   "cell_type": "markdown",
   "metadata": {},
   "source": [
    "### Гипотеза различия возраста между клиентами"
   ]
  },
  {
   "cell_type": "markdown",
   "metadata": {},
   "source": [
    "При проведении исследовательского анализа данных была выявлена заметная разница в среднем возрасте ушедших и оставшихся клиентов. Проверим соответствующие гипотезы."
   ]
  },
  {
   "cell_type": "markdown",
   "metadata": {},
   "source": [
    "H0 - между средним возрастом оставшихся и ушедших пользователей нет статистически значимых различий\n",
    "\n",
    "H1 - между средним возрастом оставшихся и ушедших пользователей есть статистически значимые различия\n",
    "\n",
    "α - 0,05"
   ]
  },
  {
   "cell_type": "code",
   "execution_count": 42,
   "metadata": {
    "scrolled": false
   },
   "outputs": [
    {
     "name": "stderr",
     "output_type": "stream",
     "text": [
      "/Users/kirillkostin/opt/anaconda3/lib/python3.9/site-packages/seaborn/distributions.py:2619: FutureWarning: `distplot` is a deprecated function and will be removed in a future version. Please adapt your code to use either `displot` (a figure-level function with similar flexibility) or `histplot` (an axes-level function for histograms).\n",
      "  warnings.warn(msg, FutureWarning)\n"
     ]
    },
    {
     "data": {
      "image/png": "[encoded data removed]",
      "text/plain": [
       "<Figure size 432x288 with 1 Axes>"
      ]
     },
     "metadata": {},
     "output_type": "display_data"
    }
   ],
   "source": [
    "#убедимся в нормальности распределения\n",
    "sns_plot = sns.distplot(df['age'])\n",
    "fig = sns_plot.get_figure()\n",
    "plt.title('Распределение возраста клиентов')\n",
    "plt.show()"
   ]
  },
  {
   "cell_type": "code",
   "execution_count": 43,
   "metadata": {},
   "outputs": [
    {
     "name": "stdout",
     "output_type": "stream",
     "text": [
      "p-значение:  3.2104014319371675e-230\n",
      "Отвергаем нулевую гипотезу: разница статистически значима\n"
     ]
    }
   ],
   "source": [
    "#распределение неравномерно, используем U-критерий\n",
    "alpha = 0.05\n",
    "\n",
    "results = st.mannwhitneyu(df[df['churn']==1]['age'], df[df['churn']==0]['age'])\n",
    "pvalue = results.pvalue\n",
    "\n",
    "print('p-значение: ', pvalue)\n",
    "\n",
    "if (pvalue < alpha):\n",
    "    print('Отвергаем нулевую гипотезу: разница статистически значима')\n",
    "else:\n",
    "    print('Не получилось отвергнуть нулевую гипотезу, вывод о различии сделать нельзя')"
   ]
  },
  {
   "cell_type": "markdown",
   "metadata": {},
   "source": [
    "### Вывод"
   ]
  },
  {
   "cell_type": "markdown",
   "metadata": {},
   "source": [
    "Не получилось нулевую гипотезу о различии среднего дохода между ушедшими и оставшимися клиентами. Приходим к выводу, что разницы в доходах между группами оттока нет.\n",
    "\n",
    "Отвергли нулевую гипотезу о различии среднего возраста между теми клиентами, которые ушли и теми, которые остались. Разница статистически значима."
   ]
  },
  {
   "cell_type": "markdown",
   "metadata": {},
   "source": [
    "## Итоговый вывод"
   ]
  },
  {
   "cell_type": "markdown",
   "metadata": {},
   "source": [
    "Исследовательский анализ данных показал, что:\n",
    "* чаще уходят клиенты в возрасте 40-50 лет\n",
    "* чаще уходят клиенты с одним продуктом\n",
    "* женщины уходят чаще мужчин\n",
    "* самая высокая доля ушедших в Ростове Великом, там ушла почти половина клиентов\n",
    "* активные пользователи уходят немного реже\n",
    "* наличие кредитного продукта практически не влияет на вероятность ухода\n",
    "* матрица корреляции показателей показывает, что значимых корреляций между показателями нет\n",
    "\n",
    "При этом портрет ушедшего клиента не сильно отличается от оставшегося. В первую очередь это возраст - 45 против 36 и количество продуктов 1 против 2 у ушедших и оставшихся соответственно."
   ]
  },
  {
   "cell_type": "markdown",
   "metadata": {},
   "source": [
    "Были проверены две гипотезы.\n",
    "\n",
    "Гипотеза различия дохода между клиентами:\n",
    "\n",
    "Нулевая гипотеза - между средним доходом оставшихся и ушедших пользователей нет статистически значимых различий.\n",
    "\n",
    "Альтернативная гипотеза - между средним доходом оставшихся и ушедших пользователей есть статистически значимые различия.\n",
    "\n",
    "Нулевую гипотезу отвергнуть не удалось. Статистической значимости в разнице среднего дохода между группами оттока нет.\n",
    "\n",
    "Гипотеза различия среднего возраста между группами по оттоку:\n",
    "\n",
    "Нулевая гипотеза - между средним возрастом оставшихся и ушедших пользователей нет статистически значимых различий.\n",
    "\n",
    "Альтернативная гипотеза - между средним возрастом оставшихся и ушедших пользователей есть статистически значимые различия.\n",
    "\n",
    "Отвергли нулевую гипотезу о различии в среднем возрасте между теми клиентами, которые ушли и теми, которые остались. Разница статистически значима."
   ]
  },
  {
   "cell_type": "markdown",
   "metadata": {},
   "source": [
    "## Рекомендации"
   ]
  },
  {
   "cell_type": "markdown",
   "metadata": {},
   "source": [
    "### Сбор данных"
   ]
  },
  {
   "cell_type": "markdown",
   "metadata": {},
   "source": [
    "Были обнаружены пропуски в колонке с балансом на счету клиента. Таких пропусков 36,17% от общего количества значений. Что интересно, пропуски наблюдаются только в данных о клиентах из Ярославля и Рыбинска, в Ростове Великом такая проблема не наблюдается. Среди клиентов с пустыми балансами более чем в два раза выше доля пользователей 2 продуктов. Сделан вывод о том, что пропуски могут быть заменены нулевыми, либо отрицательными балансами, но для этого нужно переработать сбор данных.\n",
    "\n",
    "Также выявлено, что доход 698 клиентов оказалась ниже прожиточного минимума (13 919 рублей в месяц). Причем такие клиенты могут иметь крупные суммы на балансе и множество объектов в собственности. Стоит обратить отдельное внимание на таких клиентов и попытаться выяснить причины возникновения такой ситуации."
   ]
  },
  {
   "cell_type": "markdown",
   "metadata": {},
   "source": [
    "### Удержание и привлечение"
   ]
  },
  {
   "cell_type": "markdown",
   "metadata": {},
   "source": [
    "* следует подробно изучить филиал банка в Ростове Великом и установить причину заметно более высого оттока клиентов, чем в других городах\n",
    "* т.к. самой лояльной возрастной категорией оказались клиенты с возрастом 31-41 год, активно предлагать подходящие этим клиентам продукты и услуги, для увеличения выручки\n",
    "* средний возраст клиента ушедшего в отток 45, оставшегося - 36, стоит проанализировать причины ухода старших клиентов, список которых может оказаться самым широким, от неинтуитивного дизайна сайта и приложения до отсутсвия интересных этой возрастной группе продуктов\n",
    "* проанализировать причины более высокого оттока среди женской части клиентов, что возможно сделать простым опросом именно этой группы клиентов и оценить какие продукты можно ей предложить"
   ]
  }
 ],
 "metadata": {
  "ExecuteTimeLog": [
   {
    "duration": 5,
    "start_time": "2022-07-22T08:12:56.873Z"
   },
   {
    "duration": 1553,
    "start_time": "2022-07-22T08:20:36.179Z"
   },
   {
    "duration": 115,
    "start_time": "2022-07-22T08:20:58.196Z"
   },
   {
    "duration": 4,
    "start_time": "2022-07-22T08:29:35.254Z"
   },
   {
    "duration": 30,
    "start_time": "2022-07-22T08:31:35.453Z"
   },
   {
    "duration": 27,
    "start_time": "2022-07-22T08:32:42.751Z"
   },
   {
    "duration": 20,
    "start_time": "2022-07-22T08:34:56.142Z"
   },
   {
    "duration": 25,
    "start_time": "2022-07-22T08:35:06.882Z"
   },
   {
    "duration": 11,
    "start_time": "2022-07-22T08:35:18.189Z"
   },
   {
    "duration": 12,
    "start_time": "2022-07-22T08:35:50.461Z"
   },
   {
    "duration": 14,
    "start_time": "2022-07-22T08:56:49.855Z"
   },
   {
    "duration": 7,
    "start_time": "2022-07-22T08:59:16.377Z"
   },
   {
    "duration": 7,
    "start_time": "2022-07-22T08:59:43.227Z"
   },
   {
    "duration": 6,
    "start_time": "2022-07-22T08:59:51.043Z"
   },
   {
    "duration": 5,
    "start_time": "2022-07-22T09:02:18.892Z"
   },
   {
    "duration": 43,
    "start_time": "2022-07-22T09:03:12.133Z"
   },
   {
    "duration": 93,
    "start_time": "2022-07-22T09:03:23.010Z"
   },
   {
    "duration": 9,
    "start_time": "2022-07-22T09:04:29.196Z"
   },
   {
    "duration": 12,
    "start_time": "2022-07-22T09:04:52.425Z"
   },
   {
    "duration": 10,
    "start_time": "2022-07-22T09:05:09.806Z"
   },
   {
    "duration": 10,
    "start_time": "2022-07-22T09:05:23.260Z"
   },
   {
    "duration": 12,
    "start_time": "2022-07-22T09:05:38.067Z"
   },
   {
    "duration": 14,
    "start_time": "2022-07-22T09:06:15.483Z"
   },
   {
    "duration": 17,
    "start_time": "2022-07-22T09:06:20.077Z"
   },
   {
    "duration": 28,
    "start_time": "2022-07-22T09:09:30.891Z"
   },
   {
    "duration": 14,
    "start_time": "2022-07-22T09:09:36.930Z"
   },
   {
    "duration": 6,
    "start_time": "2022-07-22T09:23:46.732Z"
   },
   {
    "duration": 40,
    "start_time": "2022-07-22T09:32:30.629Z"
   },
   {
    "duration": 2,
    "start_time": "2022-07-22T09:33:08.329Z"
   },
   {
    "duration": 53,
    "start_time": "2022-07-22T09:33:10.876Z"
   },
   {
    "duration": 50,
    "start_time": "2022-07-25T00:00:47.149Z"
   },
   {
    "duration": 1337,
    "start_time": "2022-07-25T00:00:51.295Z"
   },
   {
    "duration": 3,
    "start_time": "2022-07-25T00:00:52.634Z"
   },
   {
    "duration": 126,
    "start_time": "2022-07-25T00:00:52.639Z"
   },
   {
    "duration": 16,
    "start_time": "2022-07-25T00:00:52.768Z"
   },
   {
    "duration": 13,
    "start_time": "2022-07-25T00:00:52.786Z"
   },
   {
    "duration": 809,
    "start_time": "2022-07-25T00:00:52.801Z"
   },
   {
    "duration": 0,
    "start_time": "2022-07-25T00:00:53.613Z"
   },
   {
    "duration": 0,
    "start_time": "2022-07-25T00:00:53.614Z"
   },
   {
    "duration": 0,
    "start_time": "2022-07-25T00:00:53.616Z"
   },
   {
    "duration": 0,
    "start_time": "2022-07-25T00:00:53.617Z"
   },
   {
    "duration": 0,
    "start_time": "2022-07-25T00:00:53.618Z"
   },
   {
    "duration": 0,
    "start_time": "2022-07-25T00:00:53.620Z"
   },
   {
    "duration": 0,
    "start_time": "2022-07-25T00:00:53.622Z"
   },
   {
    "duration": 50,
    "start_time": "2022-07-25T00:01:11.329Z"
   },
   {
    "duration": 20,
    "start_time": "2022-07-25T00:01:14.585Z"
   },
   {
    "duration": 4,
    "start_time": "2022-07-25T00:01:37.484Z"
   },
   {
    "duration": 12,
    "start_time": "2022-07-25T00:01:40.444Z"
   },
   {
    "duration": 6,
    "start_time": "2022-07-25T00:02:07.534Z"
   },
   {
    "duration": 3,
    "start_time": "2022-07-25T00:02:11.853Z"
   },
   {
    "duration": 7,
    "start_time": "2022-07-25T00:02:11.859Z"
   },
   {
    "duration": 58,
    "start_time": "2022-07-25T00:02:11.867Z"
   },
   {
    "duration": 4,
    "start_time": "2022-07-25T00:02:11.926Z"
   },
   {
    "duration": 14,
    "start_time": "2022-07-25T00:02:11.932Z"
   },
   {
    "duration": 6,
    "start_time": "2022-07-25T00:02:11.948Z"
   },
   {
    "duration": 9,
    "start_time": "2022-07-25T00:02:11.956Z"
   },
   {
    "duration": 11,
    "start_time": "2022-07-25T00:02:11.967Z"
   },
   {
    "duration": 36,
    "start_time": "2022-07-25T00:02:11.980Z"
   },
   {
    "duration": 4,
    "start_time": "2022-07-25T00:02:12.018Z"
   },
   {
    "duration": 18,
    "start_time": "2022-07-25T00:02:12.023Z"
   },
   {
    "duration": 35,
    "start_time": "2022-07-25T00:02:12.042Z"
   },
   {
    "duration": 6,
    "start_time": "2022-07-25T00:02:12.078Z"
   },
   {
    "duration": 8,
    "start_time": "2022-07-25T00:02:16.054Z"
   },
   {
    "duration": 17,
    "start_time": "2022-07-25T00:02:21.881Z"
   },
   {
    "duration": 11,
    "start_time": "2022-07-25T00:02:30.148Z"
   },
   {
    "duration": 12,
    "start_time": "2022-07-25T00:05:41.916Z"
   },
   {
    "duration": 12,
    "start_time": "2022-07-25T00:07:24.757Z"
   },
   {
    "duration": 134,
    "start_time": "2022-07-25T00:10:14.980Z"
   },
   {
    "duration": 1407,
    "start_time": "2022-07-25T00:10:22.683Z"
   },
   {
    "duration": 307,
    "start_time": "2022-07-25T00:10:33.453Z"
   },
   {
    "duration": 1388,
    "start_time": "2022-07-25T00:10:42.116Z"
   },
   {
    "duration": 1394,
    "start_time": "2022-07-25T00:12:23.086Z"
   },
   {
    "duration": 1455,
    "start_time": "2022-07-25T00:12:41.085Z"
   },
   {
    "duration": 1382,
    "start_time": "2022-07-25T00:17:02.416Z"
   },
   {
    "duration": 417,
    "start_time": "2022-07-25T00:29:24.331Z"
   },
   {
    "duration": 299,
    "start_time": "2022-07-25T00:29:41.594Z"
   },
   {
    "duration": 5,
    "start_time": "2022-07-25T00:34:00.326Z"
   },
   {
    "duration": 6,
    "start_time": "2022-07-25T00:34:08.355Z"
   },
   {
    "duration": 10,
    "start_time": "2022-07-25T00:34:17.763Z"
   },
   {
    "duration": 4,
    "start_time": "2022-07-25T00:34:22.504Z"
   },
   {
    "duration": 23,
    "start_time": "2022-07-25T00:35:16.383Z"
   },
   {
    "duration": 13,
    "start_time": "2022-07-25T00:39:37.478Z"
   },
   {
    "duration": 14,
    "start_time": "2022-07-25T00:39:54.902Z"
   },
   {
    "duration": 14,
    "start_time": "2022-07-25T00:40:00.127Z"
   },
   {
    "duration": 7297,
    "start_time": "2022-07-25T00:40:06.559Z"
   },
   {
    "duration": 1439,
    "start_time": "2022-07-25T00:43:17.392Z"
   },
   {
    "duration": 92,
    "start_time": "2022-07-25T00:43:31.992Z"
   },
   {
    "duration": 7554,
    "start_time": "2022-07-25T00:43:39.992Z"
   },
   {
    "duration": 7165,
    "start_time": "2022-07-25T00:44:07.315Z"
   },
   {
    "duration": 6341,
    "start_time": "2022-07-25T01:46:52.425Z"
   },
   {
    "duration": 7219,
    "start_time": "2022-07-25T01:47:53.840Z"
   },
   {
    "duration": 7052,
    "start_time": "2022-07-25T01:50:47.321Z"
   },
   {
    "duration": 7805,
    "start_time": "2022-07-25T01:51:43.409Z"
   },
   {
    "duration": 7877,
    "start_time": "2022-07-25T01:52:20.689Z"
   },
   {
    "duration": 8049,
    "start_time": "2022-07-25T01:52:35.836Z"
   },
   {
    "duration": 7781,
    "start_time": "2022-07-25T01:52:47.731Z"
   },
   {
    "duration": 7771,
    "start_time": "2022-07-25T01:53:13.884Z"
   },
   {
    "duration": 7699,
    "start_time": "2022-07-25T01:53:29.634Z"
   },
   {
    "duration": 7773,
    "start_time": "2022-07-25T01:53:55.851Z"
   },
   {
    "duration": 981,
    "start_time": "2022-07-25T01:55:52.467Z"
   },
   {
    "duration": 972,
    "start_time": "2022-07-25T01:56:10.059Z"
   },
   {
    "duration": 975,
    "start_time": "2022-07-25T01:56:31.968Z"
   },
   {
    "duration": 942,
    "start_time": "2022-07-25T01:57:17.524Z"
   },
   {
    "duration": 3,
    "start_time": "2022-07-25T02:06:53.269Z"
   },
   {
    "duration": 10,
    "start_time": "2022-07-25T02:10:44.861Z"
   },
   {
    "duration": 343,
    "start_time": "2022-07-25T02:10:53.071Z"
   },
   {
    "duration": 198,
    "start_time": "2022-07-25T02:11:22.533Z"
   },
   {
    "duration": 257,
    "start_time": "2022-07-25T02:11:26.903Z"
   },
   {
    "duration": 395,
    "start_time": "2022-07-25T02:11:31.049Z"
   },
   {
    "duration": 198,
    "start_time": "2022-07-25T02:11:37.696Z"
   },
   {
    "duration": 10,
    "start_time": "2022-07-25T02:15:10.633Z"
   },
   {
    "duration": 15,
    "start_time": "2022-07-25T02:15:27.673Z"
   },
   {
    "duration": 9,
    "start_time": "2022-07-25T02:15:44.195Z"
   },
   {
    "duration": 2,
    "start_time": "2022-07-25T02:19:04.779Z"
   },
   {
    "duration": 244,
    "start_time": "2022-07-25T02:21:56.701Z"
   },
   {
    "duration": 240,
    "start_time": "2022-07-25T02:22:07.199Z"
   },
   {
    "duration": 18,
    "start_time": "2022-07-25T02:23:34.196Z"
   },
   {
    "duration": 1466,
    "start_time": "2022-07-26T04:58:36.249Z"
   },
   {
    "duration": 4,
    "start_time": "2022-07-26T04:58:37.718Z"
   },
   {
    "duration": 168,
    "start_time": "2022-07-26T04:58:37.724Z"
   },
   {
    "duration": 4,
    "start_time": "2022-07-26T04:58:37.894Z"
   },
   {
    "duration": 20,
    "start_time": "2022-07-26T04:58:37.900Z"
   },
   {
    "duration": 7,
    "start_time": "2022-07-26T04:58:37.922Z"
   },
   {
    "duration": 9,
    "start_time": "2022-07-26T04:58:37.931Z"
   },
   {
    "duration": 11,
    "start_time": "2022-07-26T04:58:37.941Z"
   },
   {
    "duration": 18,
    "start_time": "2022-07-26T04:58:37.954Z"
   },
   {
    "duration": 36,
    "start_time": "2022-07-26T04:58:37.974Z"
   },
   {
    "duration": 17,
    "start_time": "2022-07-26T04:58:38.012Z"
   },
   {
    "duration": 39,
    "start_time": "2022-07-26T04:58:38.031Z"
   },
   {
    "duration": 13,
    "start_time": "2022-07-26T04:58:38.072Z"
   },
   {
    "duration": 523,
    "start_time": "2022-07-26T04:58:43.620Z"
   },
   {
    "duration": 3,
    "start_time": "2022-07-26T05:24:04.508Z"
   },
   {
    "duration": 624,
    "start_time": "2022-07-26T05:29:30.865Z"
   },
   {
    "duration": 3,
    "start_time": "2022-07-26T05:32:27.002Z"
   },
   {
    "duration": 100,
    "start_time": "2022-07-26T05:34:05.895Z"
   },
   {
    "duration": 10,
    "start_time": "2022-07-26T05:34:26.713Z"
   },
   {
    "duration": 9,
    "start_time": "2022-07-26T05:36:41.834Z"
   },
   {
    "duration": 8,
    "start_time": "2022-07-26T05:54:39.650Z"
   },
   {
    "duration": 117,
    "start_time": "2022-07-26T05:56:43.953Z"
   },
   {
    "duration": 3,
    "start_time": "2022-07-26T05:56:48.389Z"
   },
   {
    "duration": 43,
    "start_time": "2022-07-26T05:56:48.394Z"
   },
   {
    "duration": 75,
    "start_time": "2022-07-26T05:56:48.438Z"
   },
   {
    "duration": 4,
    "start_time": "2022-07-26T05:56:48.515Z"
   },
   {
    "duration": 36,
    "start_time": "2022-07-26T05:56:48.521Z"
   },
   {
    "duration": 28,
    "start_time": "2022-07-26T05:56:48.559Z"
   },
   {
    "duration": 32,
    "start_time": "2022-07-26T05:56:48.588Z"
   },
   {
    "duration": 47,
    "start_time": "2022-07-26T05:56:48.621Z"
   },
   {
    "duration": 42,
    "start_time": "2022-07-26T05:56:48.669Z"
   },
   {
    "duration": 22,
    "start_time": "2022-07-26T05:56:48.714Z"
   },
   {
    "duration": 37,
    "start_time": "2022-07-26T05:56:48.738Z"
   },
   {
    "duration": 46,
    "start_time": "2022-07-26T05:56:48.777Z"
   },
   {
    "duration": 21,
    "start_time": "2022-07-26T05:56:48.825Z"
   },
   {
    "duration": 31,
    "start_time": "2022-07-26T05:56:48.848Z"
   },
   {
    "duration": 740,
    "start_time": "2022-07-26T05:56:48.880Z"
   },
   {
    "duration": 13,
    "start_time": "2022-07-26T05:56:49.622Z"
   },
   {
    "duration": 0,
    "start_time": "2022-07-26T05:56:49.636Z"
   },
   {
    "duration": 20,
    "start_time": "2022-07-26T05:56:51.954Z"
   },
   {
    "duration": 7740,
    "start_time": "2022-07-26T05:57:10.586Z"
   },
   {
    "duration": 6924,
    "start_time": "2022-07-26T05:57:22.942Z"
   },
   {
    "duration": 7021,
    "start_time": "2022-07-26T06:00:53.353Z"
   },
   {
    "duration": 7723,
    "start_time": "2022-07-26T06:01:11.152Z"
   },
   {
    "duration": 7294,
    "start_time": "2022-07-26T06:01:35.281Z"
   },
   {
    "duration": 7144,
    "start_time": "2022-07-26T06:01:55.441Z"
   },
   {
    "duration": 7493,
    "start_time": "2022-07-26T06:02:10.137Z"
   },
   {
    "duration": 7136,
    "start_time": "2022-07-26T06:07:20.751Z"
   },
   {
    "duration": 7208,
    "start_time": "2022-07-26T06:19:49.260Z"
   },
   {
    "duration": 4,
    "start_time": "2022-07-26T06:47:13.746Z"
   },
   {
    "duration": 316,
    "start_time": "2022-07-26T06:47:17.338Z"
   },
   {
    "duration": 288,
    "start_time": "2022-07-26T06:47:22.467Z"
   },
   {
    "duration": 6928,
    "start_time": "2022-07-26T06:47:29.555Z"
   },
   {
    "duration": 1294,
    "start_time": "2022-07-26T06:48:05.223Z"
   },
   {
    "duration": 4,
    "start_time": "2022-07-26T06:48:06.519Z"
   },
   {
    "duration": 145,
    "start_time": "2022-07-26T06:48:06.525Z"
   },
   {
    "duration": 4,
    "start_time": "2022-07-26T06:48:06.673Z"
   },
   {
    "duration": 18,
    "start_time": "2022-07-26T06:48:06.679Z"
   },
   {
    "duration": 7,
    "start_time": "2022-07-26T06:48:06.699Z"
   },
   {
    "duration": 8,
    "start_time": "2022-07-26T06:48:06.708Z"
   },
   {
    "duration": 12,
    "start_time": "2022-07-26T06:48:06.718Z"
   },
   {
    "duration": 15,
    "start_time": "2022-07-26T06:48:06.732Z"
   },
   {
    "duration": 5,
    "start_time": "2022-07-26T06:48:06.749Z"
   },
   {
    "duration": 14,
    "start_time": "2022-07-26T06:48:06.756Z"
   },
   {
    "duration": 63,
    "start_time": "2022-07-26T06:48:06.772Z"
   },
   {
    "duration": 11,
    "start_time": "2022-07-26T06:48:06.837Z"
   },
   {
    "duration": 15,
    "start_time": "2022-07-26T06:48:06.850Z"
   },
   {
    "duration": 868,
    "start_time": "2022-07-26T06:48:06.867Z"
   },
   {
    "duration": 7937,
    "start_time": "2022-07-26T06:48:07.736Z"
   },
   {
    "duration": 8700,
    "start_time": "2022-07-26T06:48:15.675Z"
   },
   {
    "duration": 7005,
    "start_time": "2022-07-26T06:48:24.377Z"
   },
   {
    "duration": 1258,
    "start_time": "2022-07-26T06:48:31.384Z"
   },
   {
    "duration": 277,
    "start_time": "2022-07-26T06:48:32.644Z"
   },
   {
    "duration": 9,
    "start_time": "2022-07-26T06:48:32.923Z"
   },
   {
    "duration": 427,
    "start_time": "2022-07-26T06:48:32.934Z"
   },
   {
    "duration": 15,
    "start_time": "2022-07-26T06:48:33.363Z"
   },
   {
    "duration": 811,
    "start_time": "2022-07-26T06:53:24.749Z"
   },
   {
    "duration": 800,
    "start_time": "2022-07-26T06:53:28.447Z"
   },
   {
    "duration": 916,
    "start_time": "2022-07-26T06:53:37.007Z"
   },
   {
    "duration": 813,
    "start_time": "2022-07-26T06:54:54.872Z"
   },
   {
    "duration": 879,
    "start_time": "2022-07-26T06:55:02.356Z"
   },
   {
    "duration": 5,
    "start_time": "2022-07-26T06:55:24.640Z"
   },
   {
    "duration": 4,
    "start_time": "2022-07-26T06:55:31.250Z"
   },
   {
    "duration": 21,
    "start_time": "2022-07-26T06:55:31.257Z"
   },
   {
    "duration": 55,
    "start_time": "2022-07-26T06:55:31.280Z"
   },
   {
    "duration": 4,
    "start_time": "2022-07-26T06:55:31.338Z"
   },
   {
    "duration": 21,
    "start_time": "2022-07-26T06:55:31.344Z"
   },
   {
    "duration": 8,
    "start_time": "2022-07-26T06:55:31.367Z"
   },
   {
    "duration": 12,
    "start_time": "2022-07-26T06:55:31.376Z"
   },
   {
    "duration": 7,
    "start_time": "2022-07-26T06:55:31.412Z"
   },
   {
    "duration": 15,
    "start_time": "2022-07-26T06:55:31.421Z"
   },
   {
    "duration": 5,
    "start_time": "2022-07-26T06:55:31.439Z"
   },
   {
    "duration": 20,
    "start_time": "2022-07-26T06:55:31.445Z"
   },
   {
    "duration": 66,
    "start_time": "2022-07-26T06:55:31.467Z"
   },
   {
    "duration": 8,
    "start_time": "2022-07-26T06:55:31.535Z"
   },
   {
    "duration": 15,
    "start_time": "2022-07-26T06:55:31.545Z"
   },
   {
    "duration": 882,
    "start_time": "2022-07-26T06:55:31.561Z"
   },
   {
    "duration": 7905,
    "start_time": "2022-07-26T06:55:32.446Z"
   },
   {
    "duration": 8438,
    "start_time": "2022-07-26T06:55:40.354Z"
   },
   {
    "duration": 7195,
    "start_time": "2022-07-26T06:55:48.794Z"
   },
   {
    "duration": 1187,
    "start_time": "2022-07-26T06:55:55.991Z"
   },
   {
    "duration": 262,
    "start_time": "2022-07-26T06:55:57.181Z"
   },
   {
    "duration": 9,
    "start_time": "2022-07-26T06:55:57.446Z"
   },
   {
    "duration": 333,
    "start_time": "2022-07-26T06:55:57.458Z"
   },
   {
    "duration": 26,
    "start_time": "2022-07-26T06:55:57.793Z"
   },
   {
    "duration": 8765,
    "start_time": "2022-07-26T06:56:08.648Z"
   },
   {
    "duration": 2,
    "start_time": "2022-07-26T06:56:29.049Z"
   },
   {
    "duration": 916,
    "start_time": "2022-07-26T06:56:31.845Z"
   },
   {
    "duration": 7797,
    "start_time": "2022-07-26T06:56:37.118Z"
   },
   {
    "duration": 8531,
    "start_time": "2022-07-26T06:57:24.983Z"
   },
   {
    "duration": 7220,
    "start_time": "2022-07-26T06:57:39.021Z"
   },
   {
    "duration": 7306,
    "start_time": "2022-07-26T06:57:56.374Z"
   },
   {
    "duration": 7428,
    "start_time": "2022-07-26T06:58:09.806Z"
   },
   {
    "duration": 1468,
    "start_time": "2022-07-26T18:24:58.791Z"
   },
   {
    "duration": 3,
    "start_time": "2022-07-26T18:25:00.262Z"
   },
   {
    "duration": 194,
    "start_time": "2022-07-26T18:25:00.266Z"
   },
   {
    "duration": 5,
    "start_time": "2022-07-26T18:25:00.462Z"
   },
   {
    "duration": 19,
    "start_time": "2022-07-26T18:25:00.468Z"
   },
   {
    "duration": 7,
    "start_time": "2022-07-26T18:25:00.489Z"
   },
   {
    "duration": 13,
    "start_time": "2022-07-26T18:25:00.497Z"
   },
   {
    "duration": 8,
    "start_time": "2022-07-26T18:25:00.512Z"
   },
   {
    "duration": 20,
    "start_time": "2022-07-26T18:25:00.522Z"
   },
   {
    "duration": 12,
    "start_time": "2022-07-26T18:25:00.546Z"
   },
   {
    "duration": 17,
    "start_time": "2022-07-26T18:25:00.560Z"
   },
   {
    "duration": 57,
    "start_time": "2022-07-26T18:25:00.579Z"
   },
   {
    "duration": 8,
    "start_time": "2022-07-26T18:25:00.638Z"
   },
   {
    "duration": 21,
    "start_time": "2022-07-26T18:25:00.647Z"
   },
   {
    "duration": 656,
    "start_time": "2022-07-26T18:25:00.670Z"
   },
   {
    "duration": 8243,
    "start_time": "2022-07-26T18:25:01.328Z"
   },
   {
    "duration": 8728,
    "start_time": "2022-07-26T18:25:09.573Z"
   },
   {
    "duration": 7013,
    "start_time": "2022-07-26T18:25:18.310Z"
   },
   {
    "duration": 1136,
    "start_time": "2022-07-26T18:25:25.326Z"
   },
   {
    "duration": 238,
    "start_time": "2022-07-26T18:25:26.465Z"
   },
   {
    "duration": 10,
    "start_time": "2022-07-26T18:25:26.710Z"
   },
   {
    "duration": 471,
    "start_time": "2022-07-26T18:25:26.722Z"
   },
   {
    "duration": 25,
    "start_time": "2022-07-26T18:25:27.196Z"
   },
   {
    "duration": 46,
    "start_time": "2022-07-26T18:41:44.493Z"
   },
   {
    "duration": 37,
    "start_time": "2022-07-26T18:41:52.135Z"
   },
   {
    "duration": 1356,
    "start_time": "2022-07-26T22:12:11.717Z"
   },
   {
    "duration": 3,
    "start_time": "2022-07-26T22:12:13.075Z"
   },
   {
    "duration": 98,
    "start_time": "2022-07-26T22:12:13.080Z"
   },
   {
    "duration": 4,
    "start_time": "2022-07-26T22:12:13.180Z"
   },
   {
    "duration": 19,
    "start_time": "2022-07-26T22:12:13.187Z"
   },
   {
    "duration": 7,
    "start_time": "2022-07-26T22:12:13.208Z"
   },
   {
    "duration": 8,
    "start_time": "2022-07-26T22:12:13.217Z"
   },
   {
    "duration": 6,
    "start_time": "2022-07-26T22:12:13.226Z"
   },
   {
    "duration": 13,
    "start_time": "2022-07-26T22:12:13.234Z"
   },
   {
    "duration": 4,
    "start_time": "2022-07-26T22:12:13.249Z"
   },
   {
    "duration": 12,
    "start_time": "2022-07-26T22:12:13.255Z"
   },
   {
    "duration": 57,
    "start_time": "2022-07-26T22:12:13.269Z"
   },
   {
    "duration": 37,
    "start_time": "2022-07-26T22:12:13.328Z"
   },
   {
    "duration": 32,
    "start_time": "2022-07-26T22:12:13.367Z"
   },
   {
    "duration": 27,
    "start_time": "2022-07-26T22:12:13.401Z"
   },
   {
    "duration": 18,
    "start_time": "2022-07-26T22:12:13.429Z"
   },
   {
    "duration": 597,
    "start_time": "2022-07-26T22:12:13.449Z"
   },
   {
    "duration": 7490,
    "start_time": "2022-07-26T22:12:14.048Z"
   },
   {
    "duration": 8398,
    "start_time": "2022-07-26T22:12:21.539Z"
   },
   {
    "duration": 6660,
    "start_time": "2022-07-26T22:12:29.939Z"
   },
   {
    "duration": 1145,
    "start_time": "2022-07-26T22:12:36.600Z"
   },
   {
    "duration": 202,
    "start_time": "2022-07-26T22:12:37.747Z"
   },
   {
    "duration": 8,
    "start_time": "2022-07-26T22:12:37.951Z"
   },
   {
    "duration": 377,
    "start_time": "2022-07-26T22:12:37.961Z"
   },
   {
    "duration": 14,
    "start_time": "2022-07-26T22:12:38.341Z"
   },
   {
    "duration": 1171,
    "start_time": "2022-07-26T22:15:11.894Z"
   },
   {
    "duration": 3,
    "start_time": "2022-07-26T22:15:13.067Z"
   },
   {
    "duration": 59,
    "start_time": "2022-07-26T22:15:13.072Z"
   },
   {
    "duration": 4,
    "start_time": "2022-07-26T22:15:13.133Z"
   },
   {
    "duration": 22,
    "start_time": "2022-07-26T22:15:13.139Z"
   },
   {
    "duration": 6,
    "start_time": "2022-07-26T22:15:13.163Z"
   },
   {
    "duration": 10,
    "start_time": "2022-07-26T22:15:13.171Z"
   },
   {
    "duration": 8,
    "start_time": "2022-07-26T22:15:13.182Z"
   },
   {
    "duration": 38,
    "start_time": "2022-07-26T22:15:13.192Z"
   },
   {
    "duration": 6,
    "start_time": "2022-07-26T22:15:13.233Z"
   },
   {
    "duration": 14,
    "start_time": "2022-07-26T22:15:13.240Z"
   },
   {
    "duration": 33,
    "start_time": "2022-07-26T22:15:13.256Z"
   },
   {
    "duration": 68,
    "start_time": "2022-07-26T22:15:13.290Z"
   },
   {
    "duration": 32,
    "start_time": "2022-07-26T22:15:13.360Z"
   },
   {
    "duration": 7,
    "start_time": "2022-07-26T22:15:13.393Z"
   },
   {
    "duration": 34,
    "start_time": "2022-07-26T22:15:13.401Z"
   },
   {
    "duration": 579,
    "start_time": "2022-07-26T22:15:13.437Z"
   },
   {
    "duration": 7215,
    "start_time": "2022-07-26T22:15:14.017Z"
   },
   {
    "duration": 8060,
    "start_time": "2022-07-26T22:15:21.234Z"
   },
   {
    "duration": 6493,
    "start_time": "2022-07-26T22:15:29.296Z"
   },
   {
    "duration": 1014,
    "start_time": "2022-07-26T22:15:35.791Z"
   },
   {
    "duration": 197,
    "start_time": "2022-07-26T22:15:36.807Z"
   },
   {
    "duration": 19,
    "start_time": "2022-07-26T22:15:37.006Z"
   },
   {
    "duration": 455,
    "start_time": "2022-07-26T22:15:37.026Z"
   },
   {
    "duration": 13,
    "start_time": "2022-07-26T22:15:37.483Z"
   },
   {
    "duration": 1321,
    "start_time": "2022-07-27T20:48:35.784Z"
   },
   {
    "duration": 3,
    "start_time": "2022-07-27T20:48:37.107Z"
   },
   {
    "duration": 115,
    "start_time": "2022-07-27T20:48:37.111Z"
   },
   {
    "duration": 4,
    "start_time": "2022-07-27T20:48:37.228Z"
   },
   {
    "duration": 23,
    "start_time": "2022-07-27T20:48:37.234Z"
   },
   {
    "duration": 10,
    "start_time": "2022-07-27T20:48:37.260Z"
   },
   {
    "duration": 11,
    "start_time": "2022-07-27T20:48:37.272Z"
   },
   {
    "duration": 11,
    "start_time": "2022-07-27T20:48:37.286Z"
   },
   {
    "duration": 25,
    "start_time": "2022-07-27T20:48:37.325Z"
   },
   {
    "duration": 10,
    "start_time": "2022-07-27T20:48:37.354Z"
   },
   {
    "duration": 21,
    "start_time": "2022-07-27T20:48:37.366Z"
   },
   {
    "duration": 58,
    "start_time": "2022-07-27T20:48:37.389Z"
   },
   {
    "duration": 42,
    "start_time": "2022-07-27T20:48:37.448Z"
   },
   {
    "duration": 55,
    "start_time": "2022-07-27T20:48:37.492Z"
   },
   {
    "duration": 6,
    "start_time": "2022-07-27T20:48:37.549Z"
   },
   {
    "duration": 14,
    "start_time": "2022-07-27T20:48:37.556Z"
   },
   {
    "duration": 578,
    "start_time": "2022-07-27T20:48:37.572Z"
   },
   {
    "duration": 7038,
    "start_time": "2022-07-27T20:48:38.151Z"
   },
   {
    "duration": 7801,
    "start_time": "2022-07-27T20:48:45.191Z"
   },
   {
    "duration": 6572,
    "start_time": "2022-07-27T20:48:52.993Z"
   },
   {
    "duration": 959,
    "start_time": "2022-07-27T20:48:59.566Z"
   },
   {
    "duration": 200,
    "start_time": "2022-07-27T20:49:00.527Z"
   },
   {
    "duration": 7,
    "start_time": "2022-07-27T20:49:00.729Z"
   },
   {
    "duration": 355,
    "start_time": "2022-07-27T20:49:00.737Z"
   },
   {
    "duration": 18,
    "start_time": "2022-07-27T20:49:01.094Z"
   },
   {
    "duration": 56,
    "start_time": "2022-07-28T20:34:20.794Z"
   },
   {
    "duration": 42,
    "start_time": "2022-07-28T20:38:57.443Z"
   },
   {
    "duration": 1313,
    "start_time": "2022-07-28T20:39:02.847Z"
   },
   {
    "duration": 3,
    "start_time": "2022-07-28T20:39:04.162Z"
   },
   {
    "duration": 104,
    "start_time": "2022-07-28T20:39:04.166Z"
   },
   {
    "duration": 3,
    "start_time": "2022-07-28T20:39:04.272Z"
   },
   {
    "duration": 14,
    "start_time": "2022-07-28T20:39:04.277Z"
   },
   {
    "duration": 6,
    "start_time": "2022-07-28T20:39:04.293Z"
   },
   {
    "duration": 5,
    "start_time": "2022-07-28T20:39:04.301Z"
   },
   {
    "duration": 8,
    "start_time": "2022-07-28T20:39:04.308Z"
   },
   {
    "duration": 12,
    "start_time": "2022-07-28T20:39:04.317Z"
   },
   {
    "duration": 43,
    "start_time": "2022-07-28T20:39:04.331Z"
   },
   {
    "duration": 14,
    "start_time": "2022-07-28T20:39:29.256Z"
   },
   {
    "duration": 15,
    "start_time": "2022-07-28T20:39:32.218Z"
   },
   {
    "duration": 55,
    "start_time": "2022-07-28T20:41:50.788Z"
   },
   {
    "duration": 9,
    "start_time": "2022-07-28T20:41:54.114Z"
   },
   {
    "duration": 8,
    "start_time": "2022-07-28T20:41:57.637Z"
   },
   {
    "duration": 9,
    "start_time": "2022-07-28T20:42:13.250Z"
   },
   {
    "duration": 8,
    "start_time": "2022-07-28T20:42:30.211Z"
   },
   {
    "duration": 8,
    "start_time": "2022-07-28T20:42:33.541Z"
   },
   {
    "duration": 9,
    "start_time": "2022-07-28T20:42:40.989Z"
   },
   {
    "duration": 7,
    "start_time": "2022-07-28T20:42:49.187Z"
   },
   {
    "duration": 9,
    "start_time": "2022-07-28T20:43:25.067Z"
   },
   {
    "duration": 8,
    "start_time": "2022-07-28T20:43:33.231Z"
   },
   {
    "duration": 7,
    "start_time": "2022-07-28T20:44:04.637Z"
   },
   {
    "duration": 48,
    "start_time": "2022-07-28T20:45:53.078Z"
   },
   {
    "duration": 14,
    "start_time": "2022-07-28T20:46:41.140Z"
   },
   {
    "duration": 7,
    "start_time": "2022-07-28T20:48:10.116Z"
   },
   {
    "duration": 6,
    "start_time": "2022-07-28T20:48:13.380Z"
   },
   {
    "duration": 8,
    "start_time": "2022-07-28T20:48:16.508Z"
   },
   {
    "duration": 8,
    "start_time": "2022-07-28T20:49:53.789Z"
   },
   {
    "duration": 8,
    "start_time": "2022-07-28T20:49:55.645Z"
   },
   {
    "duration": 66,
    "start_time": "2022-07-28T20:54:34.392Z"
   },
   {
    "duration": 53,
    "start_time": "2022-07-28T21:02:15.692Z"
   },
   {
    "duration": 2,
    "start_time": "2022-07-28T21:03:19.833Z"
   },
   {
    "duration": 55,
    "start_time": "2022-07-28T21:08:02.809Z"
   },
   {
    "duration": 48,
    "start_time": "2022-07-28T21:14:59.044Z"
   },
   {
    "duration": 48,
    "start_time": "2022-07-28T21:30:27.854Z"
   },
   {
    "duration": 17,
    "start_time": "2022-07-28T21:30:33.837Z"
   },
   {
    "duration": 20,
    "start_time": "2022-07-28T21:30:38.923Z"
   },
   {
    "duration": 26,
    "start_time": "2022-07-28T21:48:37.471Z"
   },
   {
    "duration": 49,
    "start_time": "2022-07-28T21:53:02.787Z"
   },
   {
    "duration": 25,
    "start_time": "2022-07-28T21:53:35.948Z"
   },
   {
    "duration": 17,
    "start_time": "2022-07-28T21:54:07.449Z"
   },
   {
    "duration": 22,
    "start_time": "2022-07-28T21:57:43.083Z"
   },
   {
    "duration": 19,
    "start_time": "2022-07-28T21:57:44.026Z"
   },
   {
    "duration": 7,
    "start_time": "2022-07-28T22:03:27.401Z"
   },
   {
    "duration": 5,
    "start_time": "2022-07-28T22:04:07.388Z"
   },
   {
    "duration": 5,
    "start_time": "2022-07-28T22:04:13.664Z"
   },
   {
    "duration": 5,
    "start_time": "2022-07-28T22:04:23.005Z"
   },
   {
    "duration": 5,
    "start_time": "2022-07-28T22:04:40.237Z"
   },
   {
    "duration": 5,
    "start_time": "2022-07-28T22:06:34.446Z"
   },
   {
    "duration": 5,
    "start_time": "2022-07-28T22:06:41.192Z"
   },
   {
    "duration": 6,
    "start_time": "2022-07-28T22:07:57.900Z"
   },
   {
    "duration": 6,
    "start_time": "2022-07-28T22:08:25.775Z"
   },
   {
    "duration": 6,
    "start_time": "2022-07-28T22:08:48.286Z"
   },
   {
    "duration": 6,
    "start_time": "2022-07-28T22:09:16.439Z"
   },
   {
    "duration": 5,
    "start_time": "2022-07-28T22:09:31.198Z"
   },
   {
    "duration": 5,
    "start_time": "2022-07-28T22:10:29.834Z"
   },
   {
    "duration": 6,
    "start_time": "2022-07-28T22:10:50.643Z"
   },
   {
    "duration": 5,
    "start_time": "2022-07-28T22:10:54.560Z"
   },
   {
    "duration": 5,
    "start_time": "2022-07-28T22:11:22.382Z"
   },
   {
    "duration": 5,
    "start_time": "2022-07-28T22:11:35.844Z"
   },
   {
    "duration": 1151,
    "start_time": "2022-07-28T22:12:09.649Z"
   },
   {
    "duration": 3,
    "start_time": "2022-07-28T22:12:10.802Z"
   },
   {
    "duration": 60,
    "start_time": "2022-07-28T22:12:10.806Z"
   },
   {
    "duration": 4,
    "start_time": "2022-07-28T22:12:10.868Z"
   },
   {
    "duration": 17,
    "start_time": "2022-07-28T22:12:10.874Z"
   },
   {
    "duration": 6,
    "start_time": "2022-07-28T22:12:10.893Z"
   },
   {
    "duration": 15,
    "start_time": "2022-07-28T22:12:10.901Z"
   },
   {
    "duration": 7,
    "start_time": "2022-07-28T22:12:10.918Z"
   },
   {
    "duration": 15,
    "start_time": "2022-07-28T22:12:10.926Z"
   },
   {
    "duration": 34,
    "start_time": "2022-07-28T22:12:10.944Z"
   },
   {
    "duration": 17,
    "start_time": "2022-07-28T22:12:10.980Z"
   },
   {
    "duration": 13,
    "start_time": "2022-07-28T22:12:10.999Z"
   },
   {
    "duration": 12,
    "start_time": "2022-07-28T22:12:11.014Z"
   },
   {
    "duration": 16,
    "start_time": "2022-07-28T22:12:11.027Z"
   },
   {
    "duration": 6,
    "start_time": "2022-07-28T22:12:11.045Z"
   },
   {
    "duration": 25,
    "start_time": "2022-07-28T22:12:11.052Z"
   },
   {
    "duration": 13,
    "start_time": "2022-07-28T22:12:11.078Z"
   },
   {
    "duration": 35,
    "start_time": "2022-07-28T22:12:11.092Z"
   },
   {
    "duration": 51,
    "start_time": "2022-07-28T22:12:11.129Z"
   },
   {
    "duration": 31,
    "start_time": "2022-07-28T22:12:11.181Z"
   },
   {
    "duration": 6,
    "start_time": "2022-07-28T22:12:11.213Z"
   },
   {
    "duration": 13,
    "start_time": "2022-07-28T22:12:11.221Z"
   },
   {
    "duration": 629,
    "start_time": "2022-07-28T22:12:11.236Z"
   },
   {
    "duration": 7069,
    "start_time": "2022-07-28T22:12:11.867Z"
   },
   {
    "duration": 7792,
    "start_time": "2022-07-28T22:12:18.938Z"
   },
   {
    "duration": 6494,
    "start_time": "2022-07-28T22:12:26.731Z"
   },
   {
    "duration": 52,
    "start_time": "2022-07-28T22:12:33.227Z"
   },
   {
    "duration": 4,
    "start_time": "2022-07-28T22:12:33.282Z"
   },
   {
    "duration": 7,
    "start_time": "2022-07-28T22:12:33.288Z"
   },
   {
    "duration": 11,
    "start_time": "2022-07-28T22:12:33.297Z"
   },
   {
    "duration": 7,
    "start_time": "2022-07-28T22:12:33.309Z"
   },
   {
    "duration": 10,
    "start_time": "2022-07-28T22:12:33.318Z"
   },
   {
    "duration": 9,
    "start_time": "2022-07-28T22:12:33.329Z"
   },
   {
    "duration": 6,
    "start_time": "2022-07-28T22:12:33.339Z"
   },
   {
    "duration": 29,
    "start_time": "2022-07-28T22:12:33.346Z"
   },
   {
    "duration": 927,
    "start_time": "2022-07-28T22:12:33.377Z"
   },
   {
    "duration": 189,
    "start_time": "2022-07-28T22:12:34.306Z"
   },
   {
    "duration": 8,
    "start_time": "2022-07-28T22:12:34.496Z"
   },
   {
    "duration": 389,
    "start_time": "2022-07-28T22:12:34.506Z"
   },
   {
    "duration": 14,
    "start_time": "2022-07-28T22:12:34.897Z"
   },
   {
    "duration": 1112,
    "start_time": "2022-07-28T22:14:49.314Z"
   },
   {
    "duration": 2,
    "start_time": "2022-07-28T22:14:50.428Z"
   },
   {
    "duration": 61,
    "start_time": "2022-07-28T22:14:50.432Z"
   },
   {
    "duration": 4,
    "start_time": "2022-07-28T22:14:50.496Z"
   },
   {
    "duration": 16,
    "start_time": "2022-07-28T22:14:50.501Z"
   },
   {
    "duration": 6,
    "start_time": "2022-07-28T22:14:50.519Z"
   },
   {
    "duration": 13,
    "start_time": "2022-07-28T22:14:50.527Z"
   },
   {
    "duration": 7,
    "start_time": "2022-07-28T22:14:50.542Z"
   },
   {
    "duration": 31,
    "start_time": "2022-07-28T22:14:50.551Z"
   },
   {
    "duration": 15,
    "start_time": "2022-07-28T22:14:50.585Z"
   },
   {
    "duration": 13,
    "start_time": "2022-07-28T22:14:50.602Z"
   },
   {
    "duration": 16,
    "start_time": "2022-07-28T22:14:50.616Z"
   },
   {
    "duration": 40,
    "start_time": "2022-07-28T22:14:50.634Z"
   },
   {
    "duration": 8,
    "start_time": "2022-07-28T22:14:50.676Z"
   },
   {
    "duration": 10,
    "start_time": "2022-07-28T22:14:50.686Z"
   },
   {
    "duration": 12,
    "start_time": "2022-07-28T22:14:50.697Z"
   },
   {
    "duration": 15,
    "start_time": "2022-07-28T22:14:50.710Z"
   },
   {
    "duration": 57,
    "start_time": "2022-07-28T22:14:50.726Z"
   },
   {
    "duration": 33,
    "start_time": "2022-07-28T22:14:50.785Z"
   },
   {
    "duration": 31,
    "start_time": "2022-07-28T22:14:50.820Z"
   },
   {
    "duration": 27,
    "start_time": "2022-07-28T22:14:50.852Z"
   },
   {
    "duration": 30,
    "start_time": "2022-07-28T22:14:50.880Z"
   },
   {
    "duration": 567,
    "start_time": "2022-07-28T22:14:50.912Z"
   },
   {
    "duration": 7271,
    "start_time": "2022-07-28T22:14:51.481Z"
   },
   {
    "duration": 7895,
    "start_time": "2022-07-28T22:14:58.754Z"
   },
   {
    "duration": 6926,
    "start_time": "2022-07-28T22:15:06.651Z"
   },
   {
    "duration": 37,
    "start_time": "2022-07-28T22:15:13.579Z"
   },
   {
    "duration": 6,
    "start_time": "2022-07-28T22:15:13.620Z"
   },
   {
    "duration": 5,
    "start_time": "2022-07-28T22:15:13.629Z"
   },
   {
    "duration": 9,
    "start_time": "2022-07-28T22:15:13.636Z"
   },
   {
    "duration": 30,
    "start_time": "2022-07-28T22:15:13.646Z"
   },
   {
    "duration": 7,
    "start_time": "2022-07-28T22:15:13.677Z"
   },
   {
    "duration": 8,
    "start_time": "2022-07-28T22:15:13.686Z"
   },
   {
    "duration": 6,
    "start_time": "2022-07-28T22:15:13.695Z"
   },
   {
    "duration": 8,
    "start_time": "2022-07-28T22:15:13.703Z"
   },
   {
    "duration": 1027,
    "start_time": "2022-07-28T22:15:13.713Z"
   },
   {
    "duration": 196,
    "start_time": "2022-07-28T22:15:14.742Z"
   },
   {
    "duration": 9,
    "start_time": "2022-07-28T22:15:14.940Z"
   },
   {
    "duration": 405,
    "start_time": "2022-07-28T22:15:14.951Z"
   },
   {
    "duration": 15,
    "start_time": "2022-07-28T22:15:15.358Z"
   },
   {
    "duration": 69,
    "start_time": "2022-07-30T02:54:53.302Z"
   },
   {
    "duration": 41,
    "start_time": "2022-07-30T03:01:37.019Z"
   },
   {
    "duration": 1240,
    "start_time": "2022-07-30T03:03:04.082Z"
   },
   {
    "duration": 3,
    "start_time": "2022-07-30T03:03:05.324Z"
   },
   {
    "duration": 97,
    "start_time": "2022-07-30T03:03:05.329Z"
   },
   {
    "duration": 4,
    "start_time": "2022-07-30T03:03:05.427Z"
   },
   {
    "duration": 14,
    "start_time": "2022-07-30T03:03:05.433Z"
   },
   {
    "duration": 6,
    "start_time": "2022-07-30T03:03:05.448Z"
   },
   {
    "duration": 7,
    "start_time": "2022-07-30T03:03:05.457Z"
   },
   {
    "duration": 9,
    "start_time": "2022-07-30T03:03:05.465Z"
   },
   {
    "duration": 12,
    "start_time": "2022-07-30T03:03:05.476Z"
   },
   {
    "duration": 47,
    "start_time": "2022-07-30T03:03:05.491Z"
   },
   {
    "duration": 15,
    "start_time": "2022-07-30T03:03:05.539Z"
   },
   {
    "duration": 13,
    "start_time": "2022-07-30T03:03:05.556Z"
   },
   {
    "duration": 7,
    "start_time": "2022-07-30T03:03:13.814Z"
   },
   {
    "duration": 3,
    "start_time": "2022-07-30T03:05:29.669Z"
   },
   {
    "duration": 6,
    "start_time": "2022-07-30T03:07:24.427Z"
   },
   {
    "duration": 4,
    "start_time": "2022-07-30T03:07:28.618Z"
   },
   {
    "duration": 7,
    "start_time": "2022-07-30T03:08:18.858Z"
   },
   {
    "duration": 98,
    "start_time": "2022-07-30T03:08:44.637Z"
   },
   {
    "duration": 7,
    "start_time": "2022-07-30T03:08:48.187Z"
   },
   {
    "duration": 60,
    "start_time": "2022-07-30T03:11:58.283Z"
   },
   {
    "duration": 17,
    "start_time": "2022-07-30T03:12:10.187Z"
   },
   {
    "duration": 8,
    "start_time": "2022-07-30T03:12:32.149Z"
   },
   {
    "duration": 9,
    "start_time": "2022-07-30T03:13:37.381Z"
   },
   {
    "duration": 62,
    "start_time": "2022-07-30T03:14:58.947Z"
   },
   {
    "duration": 7,
    "start_time": "2022-07-30T03:15:11.459Z"
   },
   {
    "duration": 5,
    "start_time": "2022-07-30T03:15:59.332Z"
   },
   {
    "duration": 8,
    "start_time": "2022-07-30T03:20:27.918Z"
   },
   {
    "duration": 5,
    "start_time": "2022-07-30T03:21:17.013Z"
   },
   {
    "duration": 1065,
    "start_time": "2022-07-30T03:31:10.505Z"
   },
   {
    "duration": 3,
    "start_time": "2022-07-30T03:31:11.571Z"
   },
   {
    "duration": 56,
    "start_time": "2022-07-30T03:31:11.575Z"
   },
   {
    "duration": 3,
    "start_time": "2022-07-30T03:31:11.633Z"
   },
   {
    "duration": 16,
    "start_time": "2022-07-30T03:31:11.638Z"
   },
   {
    "duration": 6,
    "start_time": "2022-07-30T03:31:11.655Z"
   },
   {
    "duration": 6,
    "start_time": "2022-07-30T03:31:11.662Z"
   },
   {
    "duration": 5,
    "start_time": "2022-07-30T03:31:11.669Z"
   },
   {
    "duration": 12,
    "start_time": "2022-07-30T03:31:11.676Z"
   },
   {
    "duration": 14,
    "start_time": "2022-07-30T03:31:11.690Z"
   },
   {
    "duration": 41,
    "start_time": "2022-07-30T03:31:11.705Z"
   },
   {
    "duration": 12,
    "start_time": "2022-07-30T03:31:11.748Z"
   },
   {
    "duration": 6,
    "start_time": "2022-07-30T03:31:11.761Z"
   },
   {
    "duration": 8,
    "start_time": "2022-07-30T03:31:11.768Z"
   },
   {
    "duration": 5,
    "start_time": "2022-07-30T03:31:11.778Z"
   },
   {
    "duration": 4,
    "start_time": "2022-07-30T03:31:11.785Z"
   },
   {
    "duration": 9,
    "start_time": "2022-07-30T03:31:11.790Z"
   },
   {
    "duration": 40,
    "start_time": "2022-07-30T03:31:11.800Z"
   },
   {
    "duration": 4,
    "start_time": "2022-07-30T03:31:11.841Z"
   },
   {
    "duration": 12,
    "start_time": "2022-07-30T03:31:11.847Z"
   },
   {
    "duration": 32,
    "start_time": "2022-07-30T03:31:11.860Z"
   },
   {
    "duration": 51,
    "start_time": "2022-07-30T03:31:11.893Z"
   },
   {
    "duration": 31,
    "start_time": "2022-07-30T03:31:11.945Z"
   },
   {
    "duration": 6,
    "start_time": "2022-07-30T03:31:11.977Z"
   },
   {
    "duration": 12,
    "start_time": "2022-07-30T03:31:11.984Z"
   },
   {
    "duration": 564,
    "start_time": "2022-07-30T03:31:11.998Z"
   },
   {
    "duration": 7132,
    "start_time": "2022-07-30T03:31:12.563Z"
   },
   {
    "duration": 7679,
    "start_time": "2022-07-30T03:31:19.698Z"
   },
   {
    "duration": 6411,
    "start_time": "2022-07-30T03:31:27.379Z"
   },
   {
    "duration": 46,
    "start_time": "2022-07-30T03:31:33.792Z"
   },
   {
    "duration": 5,
    "start_time": "2022-07-30T03:31:33.840Z"
   },
   {
    "duration": 6,
    "start_time": "2022-07-30T03:31:33.847Z"
   },
   {
    "duration": 4,
    "start_time": "2022-07-30T03:31:33.854Z"
   },
   {
    "duration": 6,
    "start_time": "2022-07-30T03:31:33.860Z"
   },
   {
    "duration": 5,
    "start_time": "2022-07-30T03:31:33.867Z"
   },
   {
    "duration": 5,
    "start_time": "2022-07-30T03:31:33.874Z"
   },
   {
    "duration": 6,
    "start_time": "2022-07-30T03:31:33.881Z"
   },
   {
    "duration": 48,
    "start_time": "2022-07-30T03:31:33.889Z"
   },
   {
    "duration": 989,
    "start_time": "2022-07-30T03:31:33.939Z"
   },
   {
    "duration": 313,
    "start_time": "2022-07-30T03:31:34.930Z"
   },
   {
    "duration": 8,
    "start_time": "2022-07-30T03:31:35.245Z"
   },
   {
    "duration": 247,
    "start_time": "2022-07-30T03:31:35.254Z"
   },
   {
    "duration": 12,
    "start_time": "2022-07-30T03:31:35.502Z"
   },
   {
    "duration": 9,
    "start_time": "2022-07-30T03:34:35.582Z"
   },
   {
    "duration": 10,
    "start_time": "2022-07-30T03:35:01.825Z"
   },
   {
    "duration": 10,
    "start_time": "2022-07-30T03:35:23.670Z"
   },
   {
    "duration": 50,
    "start_time": "2022-07-30T03:35:55.031Z"
   },
   {
    "duration": 8,
    "start_time": "2022-07-30T03:36:07.204Z"
   },
   {
    "duration": 8,
    "start_time": "2022-07-30T03:36:22.223Z"
   },
   {
    "duration": 8,
    "start_time": "2022-07-30T03:36:34.519Z"
   },
   {
    "duration": 47,
    "start_time": "2022-07-30T03:40:57.920Z"
   },
   {
    "duration": 49,
    "start_time": "2022-07-30T03:41:29.035Z"
   },
   {
    "duration": 1073,
    "start_time": "2022-07-30T03:41:55.856Z"
   },
   {
    "duration": 2,
    "start_time": "2022-07-30T03:41:56.931Z"
   },
   {
    "duration": 56,
    "start_time": "2022-07-30T03:41:56.934Z"
   },
   {
    "duration": 4,
    "start_time": "2022-07-30T03:41:56.991Z"
   },
   {
    "duration": 18,
    "start_time": "2022-07-30T03:41:56.996Z"
   },
   {
    "duration": 6,
    "start_time": "2022-07-30T03:41:57.015Z"
   },
   {
    "duration": 8,
    "start_time": "2022-07-30T03:41:57.022Z"
   },
   {
    "duration": 7,
    "start_time": "2022-07-30T03:41:57.031Z"
   },
   {
    "duration": 13,
    "start_time": "2022-07-30T03:41:57.039Z"
   },
   {
    "duration": 13,
    "start_time": "2022-07-30T03:41:57.054Z"
   },
   {
    "duration": 12,
    "start_time": "2022-07-30T03:41:57.069Z"
   },
   {
    "duration": 12,
    "start_time": "2022-07-30T03:41:57.083Z"
   },
   {
    "duration": 6,
    "start_time": "2022-07-30T03:41:57.096Z"
   },
   {
    "duration": 39,
    "start_time": "2022-07-30T03:41:57.103Z"
   },
   {
    "duration": 6,
    "start_time": "2022-07-30T03:41:57.143Z"
   },
   {
    "duration": 6,
    "start_time": "2022-07-30T03:41:57.150Z"
   },
   {
    "duration": 6,
    "start_time": "2022-07-30T03:41:57.158Z"
   },
   {
    "duration": 7,
    "start_time": "2022-07-30T03:41:57.166Z"
   },
   {
    "duration": 4,
    "start_time": "2022-07-30T03:41:57.174Z"
   },
   {
    "duration": 12,
    "start_time": "2022-07-30T03:41:57.179Z"
   },
   {
    "duration": 65,
    "start_time": "2022-07-30T03:41:57.192Z"
   },
   {
    "duration": 32,
    "start_time": "2022-07-30T03:41:57.259Z"
   },
   {
    "duration": 44,
    "start_time": "2022-07-30T03:41:57.293Z"
   },
   {
    "duration": 6,
    "start_time": "2022-07-30T03:41:57.339Z"
   },
   {
    "duration": 14,
    "start_time": "2022-07-30T03:41:57.346Z"
   },
   {
    "duration": 542,
    "start_time": "2022-07-30T03:41:57.361Z"
   },
   {
    "duration": 7180,
    "start_time": "2022-07-30T03:41:57.904Z"
   },
   {
    "duration": 7704,
    "start_time": "2022-07-30T03:42:05.087Z"
   }
  ],
  "kernelspec": {
   "display_name": "Python 3 (ipykernel)",
   "language": "python",
   "name": "python3"
  },
  "language_info": {
   "codemirror_mode": {
    "name": "ipython",
    "version": 3
   },
   "file_extension": ".py",
   "mimetype": "text/x-python",
   "name": "python",
   "nbconvert_exporter": "python",
   "pygments_lexer": "ipython3",
   "version": "3.9.12"
  },
  "toc": {
   "base_numbering": 1,
   "nav_menu": {},
   "number_sections": true,
   "sideBar": true,
   "skip_h1_title": true,
   "title_cell": "Содержание",
   "title_sidebar": "Contents",
   "toc_cell": true,
   "toc_position": {},
   "toc_section_display": true,
   "toc_window_display": false
  }
 },
 "nbformat": 4,
 "nbformat_minor": 2
}
