{
 "cells": [
  {
   "cell_type": "markdown",
   "metadata": {},
   "source": [
    "Я похоже сперва не так прочёл задачу и сделал дашборд по двум наборам данных)"
   ]
  },
  {
   "cell_type": "markdown",
   "metadata": {},
   "source": [
    "[Дашборд тут](https://public.tableau.com/views/FinalProject_YP/Dashboard1?:language=en-US&publish=yes&:display_count=n&:origin=viz_share_link)\n",
    "\n",
    "[Презентация тут](https://disk.yandex.ru/i/FZPcIRKeXApxJA)"
   ]
  },
  {
   "cell_type": "markdown",
   "metadata": {},
   "source": [
    "<div class=\"alert alert-danger\"> \n",
    "    \n",
    "Привет! <s>да, ты сделал 2 задания. дашборды выполнены по ТЗ, но давай еще доработаем фильтр по оттоку. Было бы здорово, чтобы он распространялся также и на первую диаграмму - количество клиентов по продуктам.\n",
    "    \n",
    "    \n",
    "Также не забудь еще прислать презентацию по финальному проекту, это также обязательное задание </s>\n",
    "    \n",
    "    \n",
    "дашборд и презентация приняты. Если будешь использовать презентацию для портфолио, обязательно сделай краткое описание задачи, так читателю будет легче воспринимать презентацию\n",
    "    \n",
    "</div>\n"
   ]
  },
  {
   "cell_type": "markdown",
   "metadata": {},
   "source": [
    "<div class=\"alert alert-info\"> \n",
    "    \n",
    "Теперь фильтр работает и для первой диаграммы\n",
    "    \n",
    "</div>"
   ]
  }
 ],
 "metadata": {
  "ExecuteTimeLog": [
   {
    "duration": 95,
    "start_time": "2022-07-31T12:57:45.811Z"
   }
  ],
  "kernelspec": {
   "display_name": "Python 3 (ipykernel)",
   "language": "python",
   "name": "python3"
  },
  "language_info": {
   "codemirror_mode": {
    "name": "ipython",
    "version": 3
   },
   "file_extension": ".py",
   "mimetype": "text/x-python",
   "name": "python",
   "nbconvert_exporter": "python",
   "pygments_lexer": "ipython3",
   "version": "3.9.5"
  },
  "toc": {
   "base_numbering": 1,
   "nav_menu": {},
   "number_sections": true,
   "sideBar": true,
   "skip_h1_title": true,
   "title_cell": "Table of Contents",
   "title_sidebar": "Contents",
   "toc_cell": false,
   "toc_position": {},
   "toc_section_display": true,
   "toc_window_display": false
  }
 },
 "nbformat": 4,
 "nbformat_minor": 2
}
