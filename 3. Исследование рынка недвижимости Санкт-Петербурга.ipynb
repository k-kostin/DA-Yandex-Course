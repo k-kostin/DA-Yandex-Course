{
 "cells": [
  {
   "cell_type": "markdown",
   "metadata": {},
   "source": [
    "# Исследование объявлений о продаже квартир"
   ]
  },
  {
   "cell_type": "markdown",
   "metadata": {},
   "source": [
    "В нашем распоряжении данные сервиса Яндекс Недвижимость — архив объявлений о продаже квартир в Санкт-Петербурге и соседних населённых пунктах за несколько лет.\n",
    "<br>\n",
    "<br>\n",
    "**Цель исследования:**\n",
    "- Изучить следующие параметры: площадь, цена, число комнат, высота потолков. Построить гистограммы для каждого параметра\n",
    "- Изучить время продажи квартиры. Построить гистограмму. Посчитать среднее и медиану. Описать, сколько обычно занимает продажа. Когда можно считать, что продажи прошли очень быстро, а когда необычно долго?\n",
    "- Убать редкие и выбивающиеся значения. Описать, какие особенности обнаружены\n",
    "- Какие факторы больше всего влияют на стоимость квартиры? Изучить, зависит ли цена от площади, числа комнат, удалённости от центра. Изучите зависимость цены от того, на каком этаже расположена квартира: первом, последнем или другом. Изучить зависимость от даты размещения: дня недели, месяца и года\n",
    "- Выбрать 10 населённых пунктов с наибольшим числом объявлений. Посчитать среднюю цену квадратного метра в этих населённых пунктах. Выделить населённые пункты с самой высокой и низкой стоимостью жилья. Эти данные можно найти по имени в столбце locality_name\n",
    "- Изучить предложения квартир: для каждой квартиры есть информация о расстоянии до центра. Выделить квартиры в Санкт-Петербурге (locality_name). Задача — выяснить, какая область входит в центр. Создать столбец с расстоянием до центра в километрах: округлите до целых значений. После этого посчитать среднюю цену для каждого километра. Построить график: он должен показывать, как цена зависит от удалённости от центра. Определить границу, где график сильно меняется, — это и будет центральная зона\n",
    "- Выделить сегмент квартир в центре. Проанализировать эту территорию и изучить следующие параметры: площадь, цена, число комнат, высота потолков. Выделить факторы, которые влияют на стоимость квартиры (число комнат, этаж, удалённость от центра, дата размещения объявления). Сделать выводы. Отличаются ли они от общих выводов по всей базе?\n",
    "\n",
    "Нужно научиться определять рыночную стоимость объектов недвижимости.\n",
    "<br>\n",
    "Задача — установить параметры. Это позволит построить автоматизированную систему: она отследит аномалии и мошенническую деятельность.\n",
    "<br>\n",
    "По каждой квартире на продажу доступны два вида данных. Первые вписаны пользователем, вторые — получены автоматически на основе картографических данных. Например, расстояние до центра, аэропорта, ближайшего парка и водоёма.\n",
    "\n",
    "Данные о поведении пользователей вы получите из файла `/datasets/real_estate_data.csv`. О качестве данных ничего не известно. Поэтому перед проверкой гипотез понадобится обзор данных. \n",
    "\n",
    "Вы проверите данные на ошибки и оцените их влияние на исследование. Затем, на этапе предобработки вы поищете возможность исправить самые критичные ошибки данных.\n",
    " \n",
    "Таким образом, исследование пройдёт в семь этапов:\n",
    " 1. Обзор данных\n",
    " 2. Предобработка данных\n",
    " 3. Подсчитать и добавить в таблицу\n",
    " 4. Провести исследовательский анализ данных\n",
    " 5. Выделить 10 населенных пунктов с наибольшим числом объявлений\n",
    " 6. Выделение центра Санкт-Петербурга\n",
    " 7. Общий вывод"
   ]
  },
  {
   "cell_type": "markdown",
   "metadata": {
    "toc": true
   },
   "source": [
    "<h1>Содержание<span class=\"tocSkip\"></span></h1>\n",
    "<div class=\"toc\"><ul class=\"toc-item\"><li><span><a href=\"#Обзор-данных\" data-toc-modified-id=\"Обзор-данных-1\"><span class=\"toc-item-num\">1&nbsp;&nbsp;</span>Обзор данных</a></span></li><li><span><a href=\"#Предобработка-данных\" data-toc-modified-id=\"Предобработка-данных-2\"><span class=\"toc-item-num\">2&nbsp;&nbsp;</span>Предобработка данных</a></span><ul class=\"toc-item\"><li><span><a href=\"#Определение-и-изучение-пропущенных-значений\" data-toc-modified-id=\"Определение-и-изучение-пропущенных-значений-2.1\"><span class=\"toc-item-num\">2.1&nbsp;&nbsp;</span>Определение и изучение пропущенных значений</a></span><ul class=\"toc-item\"><li><span><a href=\"#Столбец-&quot;высота-потолков&quot;\" data-toc-modified-id=\"Столбец-&quot;высота-потолков&quot;-2.1.1\"><span class=\"toc-item-num\">2.1.1&nbsp;&nbsp;</span>Столбец \"высота потолков\"</a></span></li><li><span><a href=\"#Столбец-&quot;всего-этажей-в-доме&quot;\" data-toc-modified-id=\"Столбец-&quot;всего-этажей-в-доме&quot;-2.1.2\"><span class=\"toc-item-num\">2.1.2&nbsp;&nbsp;</span>Столбец \"всего этажей в доме\"</a></span></li><li><span><a href=\"#Столбец-&quot;жилая-площадь-в-квадратных-метрах&quot;\" data-toc-modified-id=\"Столбец-&quot;жилая-площадь-в-квадратных-метрах&quot;-2.1.3\"><span class=\"toc-item-num\">2.1.3&nbsp;&nbsp;</span>Столбец \"жилая площадь в квадратных метрах\"</a></span></li><li><span><a href=\"#Столбец-&quot;апартаменты&quot;\" data-toc-modified-id=\"Столбец-&quot;апартаменты&quot;-2.1.4\"><span class=\"toc-item-num\">2.1.4&nbsp;&nbsp;</span>Столбец \"апартаменты\"</a></span></li><li><span><a href=\"#Столбец-&quot;площадь-кухни-в-квадратных-метрах&quot;\" data-toc-modified-id=\"Столбец-&quot;площадь-кухни-в-квадратных-метрах&quot;-2.1.5\"><span class=\"toc-item-num\">2.1.5&nbsp;&nbsp;</span>Столбец \"площадь кухни в квадратных метрах\"</a></span></li><li><span><a href=\"#Столбец-&quot;число-балконов&quot;\" data-toc-modified-id=\"Столбец-&quot;число-балконов&quot;-2.1.6\"><span class=\"toc-item-num\">2.1.6&nbsp;&nbsp;</span>Столбец \"число балконов\"</a></span></li><li><span><a href=\"#Столбец-&quot;название-населённого-пункта&quot;\" data-toc-modified-id=\"Столбец-&quot;название-населённого-пункта&quot;-2.1.7\"><span class=\"toc-item-num\">2.1.7&nbsp;&nbsp;</span>Столбец \"название населённого пункта\"</a></span></li><li><span><a href=\"#Столбец-&quot;расстояние-до-ближайшего-аэропорта-в-метрах&quot;\" data-toc-modified-id=\"Столбец-&quot;расстояние-до-ближайшего-аэропорта-в-метрах&quot;-2.1.8\"><span class=\"toc-item-num\">2.1.8&nbsp;&nbsp;</span>Столбец \"расстояние до ближайшего аэропорта в метрах\"</a></span></li><li><span><a href=\"#Столбец-&quot;расстояние-до-центра-города&quot;\" data-toc-modified-id=\"Столбец-&quot;расстояние-до-центра-города&quot;-2.1.9\"><span class=\"toc-item-num\">2.1.9&nbsp;&nbsp;</span>Столбец \"расстояние до центра города\"</a></span></li><li><span><a href=\"#Cтолбец-&quot;число-парков-в-радиусе-3-км&quot;\" data-toc-modified-id=\"Cтолбец-&quot;число-парков-в-радиусе-3-км&quot;-2.1.10\"><span class=\"toc-item-num\">2.1.10&nbsp;&nbsp;</span>Cтолбец \"число парков в радиусе 3 км\"</a></span></li><li><span><a href=\"#Столбец-&quot;расстояние-до-ближайшего-парка&quot;\" data-toc-modified-id=\"Столбец-&quot;расстояние-до-ближайшего-парка&quot;-2.1.11\"><span class=\"toc-item-num\">2.1.11&nbsp;&nbsp;</span>Столбец \"расстояние до ближайшего парка\"</a></span></li><li><span><a href=\"#Столбец-&quot;число-водоёмов-в-радиусе-3-км&quot;\" data-toc-modified-id=\"Столбец-&quot;число-водоёмов-в-радиусе-3-км&quot;-2.1.12\"><span class=\"toc-item-num\">2.1.12&nbsp;&nbsp;</span>Столбец \"число водоёмов в радиусе 3 км\"</a></span></li><li><span><a href=\"#Столбец-&quot;расстояние-до-ближайшего-водоёма&quot;\" data-toc-modified-id=\"Столбец-&quot;расстояние-до-ближайшего-водоёма&quot;-2.1.13\"><span class=\"toc-item-num\">2.1.13&nbsp;&nbsp;</span>Столбец \"расстояние до ближайшего водоёма\"</a></span></li><li><span><a href=\"#Столбец-&quot;сколько-дней-было-размещено-объявление&quot;\" data-toc-modified-id=\"Столбец-&quot;сколько-дней-было-размещено-объявление&quot;-2.1.14\"><span class=\"toc-item-num\">2.1.14&nbsp;&nbsp;</span>Столбец \"сколько дней было размещено объявление\"</a></span></li></ul></li><li><span><a href=\"#Приведение-данных-к-нужным-типам\" data-toc-modified-id=\"Приведение-данных-к-нужным-типам-2.2\"><span class=\"toc-item-num\">2.2&nbsp;&nbsp;</span>Приведение данных к нужным типам</a></span></li><li><span><a href=\"#Вывод\" data-toc-modified-id=\"Вывод-2.3\"><span class=\"toc-item-num\">2.3&nbsp;&nbsp;</span>Вывод</a></span></li></ul></li><li><span><a href=\"#Посчитать-и-добавить-в-таблицу\" data-toc-modified-id=\"Посчитать-и-добавить-в-таблицу-3\"><span class=\"toc-item-num\">3&nbsp;&nbsp;</span>Посчитать и добавить в таблицу</a></span></li><li><span><a href=\"#Провести-исследовательский-анализ-данных\" data-toc-modified-id=\"Провести-исследовательский-анализ-данных-4\"><span class=\"toc-item-num\">4&nbsp;&nbsp;</span>Провести исследовательский анализ данных</a></span><ul class=\"toc-item\"><li><span><a href=\"#Изучение-параметров:-площади,-цены,-числа-комнат,-высоты-потолков,-срока-продажи-квартиры\" data-toc-modified-id=\"Изучение-параметров:-площади,-цены,-числа-комнат,-высоты-потолков,-срока-продажи-квартиры-4.1\"><span class=\"toc-item-num\">4.1&nbsp;&nbsp;</span>Изучение параметров: площади, цены, числа комнат, высоты потолков, срока продажи квартиры</a></span><ul class=\"toc-item\"><li><span><a href=\"#Площадь\" data-toc-modified-id=\"Площадь-4.1.1\"><span class=\"toc-item-num\">4.1.1&nbsp;&nbsp;</span>Площадь</a></span></li><li><span><a href=\"#Цена\" data-toc-modified-id=\"Цена-4.1.2\"><span class=\"toc-item-num\">4.1.2&nbsp;&nbsp;</span>Цена</a></span></li><li><span><a href=\"#Число-комнат\" data-toc-modified-id=\"Число-комнат-4.1.3\"><span class=\"toc-item-num\">4.1.3&nbsp;&nbsp;</span>Число комнат</a></span></li><li><span><a href=\"#Высота-потолков\" data-toc-modified-id=\"Высота-потолков-4.1.4\"><span class=\"toc-item-num\">4.1.4&nbsp;&nbsp;</span>Высота потолков</a></span></li><li><span><a href=\"#Время-продажи-квартиры\" data-toc-modified-id=\"Время-продажи-квартиры-4.1.5\"><span class=\"toc-item-num\">4.1.5&nbsp;&nbsp;</span>Время продажи квартиры</a></span></li><li><span><a href=\"#Уберем-редкие-и-выбивающиеся-значения\" data-toc-modified-id=\"Уберем-редкие-и-выбивающиеся-значения-4.1.6\"><span class=\"toc-item-num\">4.1.6&nbsp;&nbsp;</span>Уберем редкие и выбивающиеся значения</a></span></li><li><span><a href=\"#Вывод\" data-toc-modified-id=\"Вывод-4.1.7\"><span class=\"toc-item-num\">4.1.7&nbsp;&nbsp;</span>Вывод</a></span></li></ul></li><li><span><a href=\"#Факторы,-влияющие-на-стоимость-квартиры\" data-toc-modified-id=\"Факторы,-влияющие-на-стоимость-квартиры-4.2\"><span class=\"toc-item-num\">4.2&nbsp;&nbsp;</span>Факторы, влияющие на стоимость квартиры</a></span><ul class=\"toc-item\"><li><span><a href=\"#Зависимость-цены-от-площади-квартиры-и-от-расстояния-до-центра-города\" data-toc-modified-id=\"Зависимость-цены-от-площади-квартиры-и-от-расстояния-до-центра-города-4.2.1\"><span class=\"toc-item-num\">4.2.1&nbsp;&nbsp;</span>Зависимость цены от площади квартиры и от расстояния до центра города</a></span></li><li><span><a href=\"#Зависимость-цены-от-числа-комнат,-этажа-и-времени-размещения-объявления:\" data-toc-modified-id=\"Зависимость-цены-от-числа-комнат,-этажа-и-времени-размещения-объявления:-4.2.2\"><span class=\"toc-item-num\">4.2.2&nbsp;&nbsp;</span>Зависимость цены от числа комнат, этажа и времени размещения объявления:</a></span></li><li><span><a href=\"#Вывод\" data-toc-modified-id=\"Вывод-4.2.3\"><span class=\"toc-item-num\">4.2.3&nbsp;&nbsp;</span>Вывод</a></span></li></ul></li></ul></li><li><span><a href=\"#10-населенных-пунктов-с-наибольшим-числом-объявлений\" data-toc-modified-id=\"10-населенных-пунктов-с-наибольшим-числом-объявлений-5\"><span class=\"toc-item-num\">5&nbsp;&nbsp;</span>10 населенных пунктов с наибольшим числом объявлений</a></span></li><li><span><a href=\"#Выделение-центра-Санкт-Петербурга\" data-toc-modified-id=\"Выделение-центра-Санкт-Петербурга-6\"><span class=\"toc-item-num\">6&nbsp;&nbsp;</span>Выделение центра Санкт-Петербурга</a></span></li><li><span><a href=\"#Общий-вывод\" data-toc-modified-id=\"Общий-вывод-7\"><span class=\"toc-item-num\">7&nbsp;&nbsp;</span>Общий вывод</a></span></li></ul></div>"
   ]
  },
  {
   "cell_type": "markdown",
   "metadata": {
    "id": "XVvE06ajLTlP"
   },
   "source": [
    "## Обзор данных"
   ]
  },
  {
   "cell_type": "code",
   "execution_count": 1,
   "metadata": {
    "colab": {
     "base_uri": "https://localhost:8080/",
     "height": 357
    },
    "id": "2RmepzTODiVU",
    "outputId": "7c99d551-d3c0-452d-fd79-d1af27c507cb"
   },
   "outputs": [
    {
     "data": {
      "text/html": [
       "<div>\n",
       "<style scoped>\n",
       "    .dataframe tbody tr th:only-of-type {\n",
       "        vertical-align: middle;\n",
       "    }\n",
       "\n",
       "    .dataframe tbody tr th {\n",
       "        vertical-align: top;\n",
       "    }\n",
       "\n",
       "    .dataframe thead th {\n",
       "        text-align: right;\n",
       "    }\n",
       "</style>\n",
       "<table border=\"1\" class=\"dataframe\">\n",
       "  <thead>\n",
       "    <tr style=\"text-align: right;\">\n",
       "      <th></th>\n",
       "      <th>total_images</th>\n",
       "      <th>last_price</th>\n",
       "      <th>total_area</th>\n",
       "      <th>first_day_exposition</th>\n",
       "      <th>rooms</th>\n",
       "      <th>ceiling_height</th>\n",
       "      <th>floors_total</th>\n",
       "      <th>living_area</th>\n",
       "      <th>floor</th>\n",
       "      <th>is_apartment</th>\n",
       "      <th>...</th>\n",
       "      <th>kitchen_area</th>\n",
       "      <th>balcony</th>\n",
       "      <th>locality_name</th>\n",
       "      <th>airports_nearest</th>\n",
       "      <th>cityCenters_nearest</th>\n",
       "      <th>parks_around3000</th>\n",
       "      <th>parks_nearest</th>\n",
       "      <th>ponds_around3000</th>\n",
       "      <th>ponds_nearest</th>\n",
       "      <th>days_exposition</th>\n",
       "    </tr>\n",
       "  </thead>\n",
       "  <tbody>\n",
       "    <tr>\n",
       "      <th>0</th>\n",
       "      <td>20</td>\n",
       "      <td>13000000.0</td>\n",
       "      <td>108.0</td>\n",
       "      <td>2019-03-07T00:00:00</td>\n",
       "      <td>3</td>\n",
       "      <td>2.70</td>\n",
       "      <td>16.0</td>\n",
       "      <td>51.0</td>\n",
       "      <td>8</td>\n",
       "      <td>NaN</td>\n",
       "      <td>...</td>\n",
       "      <td>25.0</td>\n",
       "      <td>NaN</td>\n",
       "      <td>Санкт-Петербург</td>\n",
       "      <td>18863.0</td>\n",
       "      <td>16028.0</td>\n",
       "      <td>1.0</td>\n",
       "      <td>482.0</td>\n",
       "      <td>2.0</td>\n",
       "      <td>755.0</td>\n",
       "      <td>NaN</td>\n",
       "    </tr>\n",
       "    <tr>\n",
       "      <th>1</th>\n",
       "      <td>7</td>\n",
       "      <td>3350000.0</td>\n",
       "      <td>40.4</td>\n",
       "      <td>2018-12-04T00:00:00</td>\n",
       "      <td>1</td>\n",
       "      <td>NaN</td>\n",
       "      <td>11.0</td>\n",
       "      <td>18.6</td>\n",
       "      <td>1</td>\n",
       "      <td>NaN</td>\n",
       "      <td>...</td>\n",
       "      <td>11.0</td>\n",
       "      <td>2.0</td>\n",
       "      <td>посёлок Шушары</td>\n",
       "      <td>12817.0</td>\n",
       "      <td>18603.0</td>\n",
       "      <td>0.0</td>\n",
       "      <td>NaN</td>\n",
       "      <td>0.0</td>\n",
       "      <td>NaN</td>\n",
       "      <td>81.0</td>\n",
       "    </tr>\n",
       "    <tr>\n",
       "      <th>2</th>\n",
       "      <td>10</td>\n",
       "      <td>5196000.0</td>\n",
       "      <td>56.0</td>\n",
       "      <td>2015-08-20T00:00:00</td>\n",
       "      <td>2</td>\n",
       "      <td>NaN</td>\n",
       "      <td>5.0</td>\n",
       "      <td>34.3</td>\n",
       "      <td>4</td>\n",
       "      <td>NaN</td>\n",
       "      <td>...</td>\n",
       "      <td>8.3</td>\n",
       "      <td>0.0</td>\n",
       "      <td>Санкт-Петербург</td>\n",
       "      <td>21741.0</td>\n",
       "      <td>13933.0</td>\n",
       "      <td>1.0</td>\n",
       "      <td>90.0</td>\n",
       "      <td>2.0</td>\n",
       "      <td>574.0</td>\n",
       "      <td>558.0</td>\n",
       "    </tr>\n",
       "    <tr>\n",
       "      <th>3</th>\n",
       "      <td>0</td>\n",
       "      <td>64900000.0</td>\n",
       "      <td>159.0</td>\n",
       "      <td>2015-07-24T00:00:00</td>\n",
       "      <td>3</td>\n",
       "      <td>NaN</td>\n",
       "      <td>14.0</td>\n",
       "      <td>NaN</td>\n",
       "      <td>9</td>\n",
       "      <td>NaN</td>\n",
       "      <td>...</td>\n",
       "      <td>NaN</td>\n",
       "      <td>0.0</td>\n",
       "      <td>Санкт-Петербург</td>\n",
       "      <td>28098.0</td>\n",
       "      <td>6800.0</td>\n",
       "      <td>2.0</td>\n",
       "      <td>84.0</td>\n",
       "      <td>3.0</td>\n",
       "      <td>234.0</td>\n",
       "      <td>424.0</td>\n",
       "    </tr>\n",
       "    <tr>\n",
       "      <th>4</th>\n",
       "      <td>2</td>\n",
       "      <td>10000000.0</td>\n",
       "      <td>100.0</td>\n",
       "      <td>2018-06-19T00:00:00</td>\n",
       "      <td>2</td>\n",
       "      <td>3.03</td>\n",
       "      <td>14.0</td>\n",
       "      <td>32.0</td>\n",
       "      <td>13</td>\n",
       "      <td>NaN</td>\n",
       "      <td>...</td>\n",
       "      <td>41.0</td>\n",
       "      <td>NaN</td>\n",
       "      <td>Санкт-Петербург</td>\n",
       "      <td>31856.0</td>\n",
       "      <td>8098.0</td>\n",
       "      <td>2.0</td>\n",
       "      <td>112.0</td>\n",
       "      <td>1.0</td>\n",
       "      <td>48.0</td>\n",
       "      <td>121.0</td>\n",
       "    </tr>\n",
       "  </tbody>\n",
       "</table>\n",
       "<p>5 rows × 22 columns</p>\n",
       "</div>"
      ],
      "text/plain": [
       "   total_images  last_price  total_area first_day_exposition  rooms  \\\n",
       "0            20  13000000.0       108.0  2019-03-07T00:00:00      3   \n",
       "1             7   3350000.0        40.4  2018-12-04T00:00:00      1   \n",
       "2            10   5196000.0        56.0  2015-08-20T00:00:00      2   \n",
       "3             0  64900000.0       159.0  2015-07-24T00:00:00      3   \n",
       "4             2  10000000.0       100.0  2018-06-19T00:00:00      2   \n",
       "\n",
       "   ceiling_height  floors_total  living_area  floor is_apartment  ...  \\\n",
       "0            2.70          16.0         51.0      8          NaN  ...   \n",
       "1             NaN          11.0         18.6      1          NaN  ...   \n",
       "2             NaN           5.0         34.3      4          NaN  ...   \n",
       "3             NaN          14.0          NaN      9          NaN  ...   \n",
       "4            3.03          14.0         32.0     13          NaN  ...   \n",
       "\n",
       "   kitchen_area  balcony    locality_name  airports_nearest  \\\n",
       "0          25.0      NaN  Санкт-Петербург           18863.0   \n",
       "1          11.0      2.0   посёлок Шушары           12817.0   \n",
       "2           8.3      0.0  Санкт-Петербург           21741.0   \n",
       "3           NaN      0.0  Санкт-Петербург           28098.0   \n",
       "4          41.0      NaN  Санкт-Петербург           31856.0   \n",
       "\n",
       "  cityCenters_nearest  parks_around3000  parks_nearest  ponds_around3000  \\\n",
       "0             16028.0               1.0          482.0               2.0   \n",
       "1             18603.0               0.0            NaN               0.0   \n",
       "2             13933.0               1.0           90.0               2.0   \n",
       "3              6800.0               2.0           84.0               3.0   \n",
       "4              8098.0               2.0          112.0               1.0   \n",
       "\n",
       "   ponds_nearest  days_exposition  \n",
       "0          755.0              NaN  \n",
       "1            NaN             81.0  \n",
       "2          574.0            558.0  \n",
       "3          234.0            424.0  \n",
       "4           48.0            121.0  \n",
       "\n",
       "[5 rows x 22 columns]"
      ]
     },
     "execution_count": 1,
     "metadata": {},
     "output_type": "execute_result"
    }
   ],
   "source": [
    "import pandas as pd\n",
    "import matplotlib.pyplot as plt\n",
    "import seaborn as sns\n",
    "\n",
    "data = pd.read_csv('real_estate_data.csv', sep='\\t', decimal='.')\n",
    "data.head()"
   ]
  },
  {
   "cell_type": "code",
   "execution_count": 2,
   "metadata": {
    "colab": {
     "base_uri": "https://localhost:8080/"
    },
    "id": "cSgrBWAbGYru",
    "outputId": "c7daf1f4-3e19-4e90-81bb-fe78f5e5731c",
    "scrolled": true
   },
   "outputs": [
    {
     "name": "stdout",
     "output_type": "stream",
     "text": [
      "<class 'pandas.core.frame.DataFrame'>\n",
      "RangeIndex: 23699 entries, 0 to 23698\n",
      "Data columns (total 22 columns):\n",
      " #   Column                Non-Null Count  Dtype  \n",
      "---  ------                --------------  -----  \n",
      " 0   total_images          23699 non-null  int64  \n",
      " 1   last_price            23699 non-null  float64\n",
      " 2   total_area            23699 non-null  float64\n",
      " 3   first_day_exposition  23699 non-null  object \n",
      " 4   rooms                 23699 non-null  int64  \n",
      " 5   ceiling_height        14504 non-null  float64\n",
      " 6   floors_total          23613 non-null  float64\n",
      " 7   living_area           21796 non-null  float64\n",
      " 8   floor                 23699 non-null  int64  \n",
      " 9   is_apartment          2775 non-null   object \n",
      " 10  studio                23699 non-null  bool   \n",
      " 11  open_plan             23699 non-null  bool   \n",
      " 12  kitchen_area          21421 non-null  float64\n",
      " 13  balcony               12180 non-null  float64\n",
      " 14  locality_name         23650 non-null  object \n",
      " 15  airports_nearest      18157 non-null  float64\n",
      " 16  cityCenters_nearest   18180 non-null  float64\n",
      " 17  parks_around3000      18181 non-null  float64\n",
      " 18  parks_nearest         8079 non-null   float64\n",
      " 19  ponds_around3000      18181 non-null  float64\n",
      " 20  ponds_nearest         9110 non-null   float64\n",
      " 21  days_exposition       20518 non-null  float64\n",
      "dtypes: bool(2), float64(14), int64(3), object(3)\n",
      "memory usage: 3.7+ MB\n"
     ]
    }
   ],
   "source": [
    "data.info()"
   ]
  },
  {
   "cell_type": "code",
   "execution_count": 3,
   "metadata": {},
   "outputs": [
    {
     "data": {
      "text/html": [
       "<div>\n",
       "<style scoped>\n",
       "    .dataframe tbody tr th:only-of-type {\n",
       "        vertical-align: middle;\n",
       "    }\n",
       "\n",
       "    .dataframe tbody tr th {\n",
       "        vertical-align: top;\n",
       "    }\n",
       "\n",
       "    .dataframe thead th {\n",
       "        text-align: right;\n",
       "    }\n",
       "</style>\n",
       "<table border=\"1\" class=\"dataframe\">\n",
       "  <thead>\n",
       "    <tr style=\"text-align: right;\">\n",
       "      <th></th>\n",
       "      <th>total_images</th>\n",
       "      <th>last_price</th>\n",
       "      <th>total_area</th>\n",
       "      <th>rooms</th>\n",
       "      <th>ceiling_height</th>\n",
       "      <th>floors_total</th>\n",
       "      <th>living_area</th>\n",
       "      <th>floor</th>\n",
       "      <th>kitchen_area</th>\n",
       "      <th>balcony</th>\n",
       "      <th>airports_nearest</th>\n",
       "      <th>cityCenters_nearest</th>\n",
       "      <th>parks_around3000</th>\n",
       "      <th>parks_nearest</th>\n",
       "      <th>ponds_around3000</th>\n",
       "      <th>ponds_nearest</th>\n",
       "      <th>days_exposition</th>\n",
       "    </tr>\n",
       "  </thead>\n",
       "  <tbody>\n",
       "    <tr>\n",
       "      <th>count</th>\n",
       "      <td>23699.000000</td>\n",
       "      <td>2.369900e+04</td>\n",
       "      <td>23699.000000</td>\n",
       "      <td>23699.000000</td>\n",
       "      <td>14504.000000</td>\n",
       "      <td>23613.000000</td>\n",
       "      <td>21796.000000</td>\n",
       "      <td>23699.000000</td>\n",
       "      <td>21421.000000</td>\n",
       "      <td>12180.000000</td>\n",
       "      <td>18157.000000</td>\n",
       "      <td>18180.000000</td>\n",
       "      <td>18181.000000</td>\n",
       "      <td>8079.000000</td>\n",
       "      <td>18181.000000</td>\n",
       "      <td>9110.000000</td>\n",
       "      <td>20518.000000</td>\n",
       "    </tr>\n",
       "    <tr>\n",
       "      <th>mean</th>\n",
       "      <td>9.858475</td>\n",
       "      <td>6.541549e+06</td>\n",
       "      <td>60.348651</td>\n",
       "      <td>2.070636</td>\n",
       "      <td>2.771499</td>\n",
       "      <td>10.673824</td>\n",
       "      <td>34.457852</td>\n",
       "      <td>5.892358</td>\n",
       "      <td>10.569807</td>\n",
       "      <td>1.150082</td>\n",
       "      <td>28793.672193</td>\n",
       "      <td>14191.277833</td>\n",
       "      <td>0.611408</td>\n",
       "      <td>490.804555</td>\n",
       "      <td>0.770255</td>\n",
       "      <td>517.980900</td>\n",
       "      <td>180.888634</td>\n",
       "    </tr>\n",
       "    <tr>\n",
       "      <th>std</th>\n",
       "      <td>5.682529</td>\n",
       "      <td>1.088701e+07</td>\n",
       "      <td>35.654083</td>\n",
       "      <td>1.078405</td>\n",
       "      <td>1.261056</td>\n",
       "      <td>6.597173</td>\n",
       "      <td>22.030445</td>\n",
       "      <td>4.885249</td>\n",
       "      <td>5.905438</td>\n",
       "      <td>1.071300</td>\n",
       "      <td>12630.880622</td>\n",
       "      <td>8608.386210</td>\n",
       "      <td>0.802074</td>\n",
       "      <td>342.317995</td>\n",
       "      <td>0.938346</td>\n",
       "      <td>277.720643</td>\n",
       "      <td>219.727988</td>\n",
       "    </tr>\n",
       "    <tr>\n",
       "      <th>min</th>\n",
       "      <td>0.000000</td>\n",
       "      <td>1.219000e+04</td>\n",
       "      <td>12.000000</td>\n",
       "      <td>0.000000</td>\n",
       "      <td>1.000000</td>\n",
       "      <td>1.000000</td>\n",
       "      <td>2.000000</td>\n",
       "      <td>1.000000</td>\n",
       "      <td>1.300000</td>\n",
       "      <td>0.000000</td>\n",
       "      <td>0.000000</td>\n",
       "      <td>181.000000</td>\n",
       "      <td>0.000000</td>\n",
       "      <td>1.000000</td>\n",
       "      <td>0.000000</td>\n",
       "      <td>13.000000</td>\n",
       "      <td>1.000000</td>\n",
       "    </tr>\n",
       "    <tr>\n",
       "      <th>25%</th>\n",
       "      <td>6.000000</td>\n",
       "      <td>3.400000e+06</td>\n",
       "      <td>40.000000</td>\n",
       "      <td>1.000000</td>\n",
       "      <td>2.520000</td>\n",
       "      <td>5.000000</td>\n",
       "      <td>18.600000</td>\n",
       "      <td>2.000000</td>\n",
       "      <td>7.000000</td>\n",
       "      <td>0.000000</td>\n",
       "      <td>18585.000000</td>\n",
       "      <td>9238.000000</td>\n",
       "      <td>0.000000</td>\n",
       "      <td>288.000000</td>\n",
       "      <td>0.000000</td>\n",
       "      <td>294.000000</td>\n",
       "      <td>45.000000</td>\n",
       "    </tr>\n",
       "    <tr>\n",
       "      <th>50%</th>\n",
       "      <td>9.000000</td>\n",
       "      <td>4.650000e+06</td>\n",
       "      <td>52.000000</td>\n",
       "      <td>2.000000</td>\n",
       "      <td>2.650000</td>\n",
       "      <td>9.000000</td>\n",
       "      <td>30.000000</td>\n",
       "      <td>4.000000</td>\n",
       "      <td>9.100000</td>\n",
       "      <td>1.000000</td>\n",
       "      <td>26726.000000</td>\n",
       "      <td>13098.500000</td>\n",
       "      <td>0.000000</td>\n",
       "      <td>455.000000</td>\n",
       "      <td>1.000000</td>\n",
       "      <td>502.000000</td>\n",
       "      <td>95.000000</td>\n",
       "    </tr>\n",
       "    <tr>\n",
       "      <th>75%</th>\n",
       "      <td>14.000000</td>\n",
       "      <td>6.800000e+06</td>\n",
       "      <td>69.900000</td>\n",
       "      <td>3.000000</td>\n",
       "      <td>2.800000</td>\n",
       "      <td>16.000000</td>\n",
       "      <td>42.300000</td>\n",
       "      <td>8.000000</td>\n",
       "      <td>12.000000</td>\n",
       "      <td>2.000000</td>\n",
       "      <td>37273.000000</td>\n",
       "      <td>16293.000000</td>\n",
       "      <td>1.000000</td>\n",
       "      <td>612.000000</td>\n",
       "      <td>1.000000</td>\n",
       "      <td>729.000000</td>\n",
       "      <td>232.000000</td>\n",
       "    </tr>\n",
       "    <tr>\n",
       "      <th>max</th>\n",
       "      <td>50.000000</td>\n",
       "      <td>7.630000e+08</td>\n",
       "      <td>900.000000</td>\n",
       "      <td>19.000000</td>\n",
       "      <td>100.000000</td>\n",
       "      <td>60.000000</td>\n",
       "      <td>409.700000</td>\n",
       "      <td>33.000000</td>\n",
       "      <td>112.000000</td>\n",
       "      <td>5.000000</td>\n",
       "      <td>84869.000000</td>\n",
       "      <td>65968.000000</td>\n",
       "      <td>3.000000</td>\n",
       "      <td>3190.000000</td>\n",
       "      <td>3.000000</td>\n",
       "      <td>1344.000000</td>\n",
       "      <td>1580.000000</td>\n",
       "    </tr>\n",
       "  </tbody>\n",
       "</table>\n",
       "</div>"
      ],
      "text/plain": [
       "       total_images    last_price    total_area         rooms  ceiling_height  \\\n",
       "count  23699.000000  2.369900e+04  23699.000000  23699.000000    14504.000000   \n",
       "mean       9.858475  6.541549e+06     60.348651      2.070636        2.771499   \n",
       "std        5.682529  1.088701e+07     35.654083      1.078405        1.261056   \n",
       "min        0.000000  1.219000e+04     12.000000      0.000000        1.000000   \n",
       "25%        6.000000  3.400000e+06     40.000000      1.000000        2.520000   \n",
       "50%        9.000000  4.650000e+06     52.000000      2.000000        2.650000   \n",
       "75%       14.000000  6.800000e+06     69.900000      3.000000        2.800000   \n",
       "max       50.000000  7.630000e+08    900.000000     19.000000      100.000000   \n",
       "\n",
       "       floors_total   living_area         floor  kitchen_area       balcony  \\\n",
       "count  23613.000000  21796.000000  23699.000000  21421.000000  12180.000000   \n",
       "mean      10.673824     34.457852      5.892358     10.569807      1.150082   \n",
       "std        6.597173     22.030445      4.885249      5.905438      1.071300   \n",
       "min        1.000000      2.000000      1.000000      1.300000      0.000000   \n",
       "25%        5.000000     18.600000      2.000000      7.000000      0.000000   \n",
       "50%        9.000000     30.000000      4.000000      9.100000      1.000000   \n",
       "75%       16.000000     42.300000      8.000000     12.000000      2.000000   \n",
       "max       60.000000    409.700000     33.000000    112.000000      5.000000   \n",
       "\n",
       "       airports_nearest  cityCenters_nearest  parks_around3000  parks_nearest  \\\n",
       "count      18157.000000         18180.000000      18181.000000    8079.000000   \n",
       "mean       28793.672193         14191.277833          0.611408     490.804555   \n",
       "std        12630.880622          8608.386210          0.802074     342.317995   \n",
       "min            0.000000           181.000000          0.000000       1.000000   \n",
       "25%        18585.000000          9238.000000          0.000000     288.000000   \n",
       "50%        26726.000000         13098.500000          0.000000     455.000000   \n",
       "75%        37273.000000         16293.000000          1.000000     612.000000   \n",
       "max        84869.000000         65968.000000          3.000000    3190.000000   \n",
       "\n",
       "       ponds_around3000  ponds_nearest  days_exposition  \n",
       "count      18181.000000    9110.000000     20518.000000  \n",
       "mean           0.770255     517.980900       180.888634  \n",
       "std            0.938346     277.720643       219.727988  \n",
       "min            0.000000      13.000000         1.000000  \n",
       "25%            0.000000     294.000000        45.000000  \n",
       "50%            1.000000     502.000000        95.000000  \n",
       "75%            1.000000     729.000000       232.000000  \n",
       "max            3.000000    1344.000000      1580.000000  "
      ]
     },
     "execution_count": 3,
     "metadata": {},
     "output_type": "execute_result"
    }
   ],
   "source": [
    "data.describe()"
   ]
  },
  {
   "cell_type": "markdown",
   "metadata": {
    "id": "HySwSueJLyxe"
   },
   "source": [
    "**Вывод**\n",
    "<br>\n",
    "В исходных данных содержатся 23699 строк, 14 из 22 столбцов имеют пропущенные значения. При этом сразу видны аномальные значения в виде высоты потолка в 1 и 100 м, жилая площадь в 2 м и цена в 12 190 руб."
   ]
  },
  {
   "cell_type": "markdown",
   "metadata": {
    "id": "oTSOkxCJGGwY"
   },
   "source": [
    "## Предобработка данных"
   ]
  },
  {
   "cell_type": "markdown",
   "metadata": {
    "id": "7LASNDfXQmbk"
   },
   "source": [
    "### Определение и изучение пропущенных значений"
   ]
  },
  {
   "cell_type": "markdown",
   "metadata": {
    "id": "krS62vNdRZBh"
   },
   "source": [
    "Напишем функцию, определяющую долю пропущенных значений в столбце. Эти сведения пригодятся для принятия решений о сохранении строк с пропусками в тех или иных столбцах:"
   ]
  },
  {
   "cell_type": "code",
   "execution_count": 4,
   "metadata": {
    "id": "oTUyyjB7SIsZ"
   },
   "outputs": [],
   "source": [
    "def na_share(column):\n",
    "      na_share = data[column].isna().sum() / len(data)\n",
    "      return print(f'Пропущено {na_share:.1%} значений.')"
   ]
  },
  {
   "cell_type": "markdown",
   "metadata": {
    "id": "MNggL1KQUSk5"
   },
   "source": [
    "#### Столбец \"высота потолков\""
   ]
  },
  {
   "cell_type": "code",
   "execution_count": 5,
   "metadata": {
    "colab": {
     "base_uri": "https://localhost:8080/"
    },
    "id": "tIrOr5R1TWZu",
    "outputId": "59b08980-e3b5-4553-a435-d34c020edf47",
    "scrolled": true
   },
   "outputs": [
    {
     "name": "stdout",
     "output_type": "stream",
     "text": [
      "Пропущено 38.8% значений.\n"
     ]
    }
   ],
   "source": [
    "na_share('ceiling_height')"
   ]
  },
  {
   "cell_type": "code",
   "execution_count": 6,
   "metadata": {},
   "outputs": [
    {
     "data": {
      "text/html": [
       "<div>\n",
       "<style scoped>\n",
       "    .dataframe tbody tr th:only-of-type {\n",
       "        vertical-align: middle;\n",
       "    }\n",
       "\n",
       "    .dataframe tbody tr th {\n",
       "        vertical-align: top;\n",
       "    }\n",
       "\n",
       "    .dataframe thead th {\n",
       "        text-align: right;\n",
       "    }\n",
       "</style>\n",
       "<table border=\"1\" class=\"dataframe\">\n",
       "  <thead>\n",
       "    <tr style=\"text-align: right;\">\n",
       "      <th></th>\n",
       "      <th>total_images</th>\n",
       "      <th>last_price</th>\n",
       "      <th>total_area</th>\n",
       "      <th>first_day_exposition</th>\n",
       "      <th>rooms</th>\n",
       "      <th>ceiling_height</th>\n",
       "      <th>floors_total</th>\n",
       "      <th>living_area</th>\n",
       "      <th>floor</th>\n",
       "      <th>is_apartment</th>\n",
       "      <th>...</th>\n",
       "      <th>kitchen_area</th>\n",
       "      <th>balcony</th>\n",
       "      <th>locality_name</th>\n",
       "      <th>airports_nearest</th>\n",
       "      <th>cityCenters_nearest</th>\n",
       "      <th>parks_around3000</th>\n",
       "      <th>parks_nearest</th>\n",
       "      <th>ponds_around3000</th>\n",
       "      <th>ponds_nearest</th>\n",
       "      <th>days_exposition</th>\n",
       "    </tr>\n",
       "  </thead>\n",
       "  <tbody>\n",
       "    <tr>\n",
       "      <th>1</th>\n",
       "      <td>7</td>\n",
       "      <td>3350000.0</td>\n",
       "      <td>40.4</td>\n",
       "      <td>2018-12-04T00:00:00</td>\n",
       "      <td>1</td>\n",
       "      <td>NaN</td>\n",
       "      <td>11.0</td>\n",
       "      <td>18.6</td>\n",
       "      <td>1</td>\n",
       "      <td>NaN</td>\n",
       "      <td>...</td>\n",
       "      <td>11.0</td>\n",
       "      <td>2.0</td>\n",
       "      <td>посёлок Шушары</td>\n",
       "      <td>12817.0</td>\n",
       "      <td>18603.0</td>\n",
       "      <td>0.0</td>\n",
       "      <td>NaN</td>\n",
       "      <td>0.0</td>\n",
       "      <td>NaN</td>\n",
       "      <td>81.0</td>\n",
       "    </tr>\n",
       "    <tr>\n",
       "      <th>2</th>\n",
       "      <td>10</td>\n",
       "      <td>5196000.0</td>\n",
       "      <td>56.0</td>\n",
       "      <td>2015-08-20T00:00:00</td>\n",
       "      <td>2</td>\n",
       "      <td>NaN</td>\n",
       "      <td>5.0</td>\n",
       "      <td>34.3</td>\n",
       "      <td>4</td>\n",
       "      <td>NaN</td>\n",
       "      <td>...</td>\n",
       "      <td>8.3</td>\n",
       "      <td>0.0</td>\n",
       "      <td>Санкт-Петербург</td>\n",
       "      <td>21741.0</td>\n",
       "      <td>13933.0</td>\n",
       "      <td>1.0</td>\n",
       "      <td>90.0</td>\n",
       "      <td>2.0</td>\n",
       "      <td>574.0</td>\n",
       "      <td>558.0</td>\n",
       "    </tr>\n",
       "    <tr>\n",
       "      <th>3</th>\n",
       "      <td>0</td>\n",
       "      <td>64900000.0</td>\n",
       "      <td>159.0</td>\n",
       "      <td>2015-07-24T00:00:00</td>\n",
       "      <td>3</td>\n",
       "      <td>NaN</td>\n",
       "      <td>14.0</td>\n",
       "      <td>NaN</td>\n",
       "      <td>9</td>\n",
       "      <td>NaN</td>\n",
       "      <td>...</td>\n",
       "      <td>NaN</td>\n",
       "      <td>0.0</td>\n",
       "      <td>Санкт-Петербург</td>\n",
       "      <td>28098.0</td>\n",
       "      <td>6800.0</td>\n",
       "      <td>2.0</td>\n",
       "      <td>84.0</td>\n",
       "      <td>3.0</td>\n",
       "      <td>234.0</td>\n",
       "      <td>424.0</td>\n",
       "    </tr>\n",
       "    <tr>\n",
       "      <th>5</th>\n",
       "      <td>10</td>\n",
       "      <td>2890000.0</td>\n",
       "      <td>30.4</td>\n",
       "      <td>2018-09-10T00:00:00</td>\n",
       "      <td>1</td>\n",
       "      <td>NaN</td>\n",
       "      <td>12.0</td>\n",
       "      <td>14.4</td>\n",
       "      <td>5</td>\n",
       "      <td>NaN</td>\n",
       "      <td>...</td>\n",
       "      <td>9.1</td>\n",
       "      <td>NaN</td>\n",
       "      <td>городской посёлок Янино-1</td>\n",
       "      <td>NaN</td>\n",
       "      <td>NaN</td>\n",
       "      <td>NaN</td>\n",
       "      <td>NaN</td>\n",
       "      <td>NaN</td>\n",
       "      <td>NaN</td>\n",
       "      <td>55.0</td>\n",
       "    </tr>\n",
       "    <tr>\n",
       "      <th>6</th>\n",
       "      <td>6</td>\n",
       "      <td>3700000.0</td>\n",
       "      <td>37.3</td>\n",
       "      <td>2017-11-02T00:00:00</td>\n",
       "      <td>1</td>\n",
       "      <td>NaN</td>\n",
       "      <td>26.0</td>\n",
       "      <td>10.6</td>\n",
       "      <td>6</td>\n",
       "      <td>NaN</td>\n",
       "      <td>...</td>\n",
       "      <td>14.4</td>\n",
       "      <td>1.0</td>\n",
       "      <td>посёлок Парголово</td>\n",
       "      <td>52996.0</td>\n",
       "      <td>19143.0</td>\n",
       "      <td>0.0</td>\n",
       "      <td>NaN</td>\n",
       "      <td>0.0</td>\n",
       "      <td>NaN</td>\n",
       "      <td>155.0</td>\n",
       "    </tr>\n",
       "  </tbody>\n",
       "</table>\n",
       "<p>5 rows × 22 columns</p>\n",
       "</div>"
      ],
      "text/plain": [
       "   total_images  last_price  total_area first_day_exposition  rooms  \\\n",
       "1             7   3350000.0        40.4  2018-12-04T00:00:00      1   \n",
       "2            10   5196000.0        56.0  2015-08-20T00:00:00      2   \n",
       "3             0  64900000.0       159.0  2015-07-24T00:00:00      3   \n",
       "5            10   2890000.0        30.4  2018-09-10T00:00:00      1   \n",
       "6             6   3700000.0        37.3  2017-11-02T00:00:00      1   \n",
       "\n",
       "   ceiling_height  floors_total  living_area  floor is_apartment  ...  \\\n",
       "1             NaN          11.0         18.6      1          NaN  ...   \n",
       "2             NaN           5.0         34.3      4          NaN  ...   \n",
       "3             NaN          14.0          NaN      9          NaN  ...   \n",
       "5             NaN          12.0         14.4      5          NaN  ...   \n",
       "6             NaN          26.0         10.6      6          NaN  ...   \n",
       "\n",
       "   kitchen_area  balcony              locality_name  airports_nearest  \\\n",
       "1          11.0      2.0             посёлок Шушары           12817.0   \n",
       "2           8.3      0.0            Санкт-Петербург           21741.0   \n",
       "3           NaN      0.0            Санкт-Петербург           28098.0   \n",
       "5           9.1      NaN  городской посёлок Янино-1               NaN   \n",
       "6          14.4      1.0          посёлок Парголово           52996.0   \n",
       "\n",
       "  cityCenters_nearest  parks_around3000  parks_nearest  ponds_around3000  \\\n",
       "1             18603.0               0.0            NaN               0.0   \n",
       "2             13933.0               1.0           90.0               2.0   \n",
       "3              6800.0               2.0           84.0               3.0   \n",
       "5                 NaN               NaN            NaN               NaN   \n",
       "6             19143.0               0.0            NaN               0.0   \n",
       "\n",
       "   ponds_nearest  days_exposition  \n",
       "1            NaN             81.0  \n",
       "2          574.0            558.0  \n",
       "3          234.0            424.0  \n",
       "5            NaN             55.0  \n",
       "6            NaN            155.0  \n",
       "\n",
       "[5 rows x 22 columns]"
      ]
     },
     "execution_count": 6,
     "metadata": {},
     "output_type": "execute_result"
    }
   ],
   "source": [
    "data.loc[data['ceiling_height'].isna()].head()"
   ]
  },
  {
   "cell_type": "markdown",
   "metadata": {
    "id": "OwDzN-GnaBIU"
   },
   "source": [
    "Заменим пропущенные значения высоты потолков на медиану по этажности здания:"
   ]
  },
  {
   "cell_type": "code",
   "execution_count": 7,
   "metadata": {
    "colab": {
     "base_uri": "https://localhost:8080/"
    },
    "id": "Ib0_QsNXaDbu",
    "outputId": "bf34b45b-b981-4fa1-8c8e-bdc8404d9d06",
    "scrolled": true
   },
   "outputs": [
    {
     "name": "stdout",
     "output_type": "stream",
     "text": [
      "Пропущено 0.3% значений.\n"
     ]
    }
   ],
   "source": [
    "data['ceiling_height'] = data['ceiling_height'].fillna(data.groupby('floors_total')['ceiling_height'].transform('mean'))\n",
    "na_share('ceiling_height')"
   ]
  },
  {
   "cell_type": "code",
   "execution_count": 8,
   "metadata": {
    "scrolled": false
   },
   "outputs": [
    {
     "data": {
      "text/html": [
       "<div>\n",
       "<style scoped>\n",
       "    .dataframe tbody tr th:only-of-type {\n",
       "        vertical-align: middle;\n",
       "    }\n",
       "\n",
       "    .dataframe tbody tr th {\n",
       "        vertical-align: top;\n",
       "    }\n",
       "\n",
       "    .dataframe thead th {\n",
       "        text-align: right;\n",
       "    }\n",
       "</style>\n",
       "<table border=\"1\" class=\"dataframe\">\n",
       "  <thead>\n",
       "    <tr style=\"text-align: right;\">\n",
       "      <th></th>\n",
       "      <th>total_images</th>\n",
       "      <th>last_price</th>\n",
       "      <th>total_area</th>\n",
       "      <th>first_day_exposition</th>\n",
       "      <th>rooms</th>\n",
       "      <th>ceiling_height</th>\n",
       "      <th>floors_total</th>\n",
       "      <th>living_area</th>\n",
       "      <th>floor</th>\n",
       "      <th>is_apartment</th>\n",
       "      <th>...</th>\n",
       "      <th>kitchen_area</th>\n",
       "      <th>balcony</th>\n",
       "      <th>locality_name</th>\n",
       "      <th>airports_nearest</th>\n",
       "      <th>cityCenters_nearest</th>\n",
       "      <th>parks_around3000</th>\n",
       "      <th>parks_nearest</th>\n",
       "      <th>ponds_around3000</th>\n",
       "      <th>ponds_nearest</th>\n",
       "      <th>days_exposition</th>\n",
       "    </tr>\n",
       "  </thead>\n",
       "  <tbody>\n",
       "    <tr>\n",
       "      <th>186</th>\n",
       "      <td>12</td>\n",
       "      <td>11640000.0</td>\n",
       "      <td>65.2</td>\n",
       "      <td>2018-10-02T00:00:00</td>\n",
       "      <td>2</td>\n",
       "      <td>NaN</td>\n",
       "      <td>NaN</td>\n",
       "      <td>30.80</td>\n",
       "      <td>4</td>\n",
       "      <td>NaN</td>\n",
       "      <td>...</td>\n",
       "      <td>12.00</td>\n",
       "      <td>NaN</td>\n",
       "      <td>Санкт-Петербург</td>\n",
       "      <td>39197.0</td>\n",
       "      <td>12373.0</td>\n",
       "      <td>1.0</td>\n",
       "      <td>123.0</td>\n",
       "      <td>0.0</td>\n",
       "      <td>NaN</td>\n",
       "      <td>49.0</td>\n",
       "    </tr>\n",
       "    <tr>\n",
       "      <th>237</th>\n",
       "      <td>4</td>\n",
       "      <td>2438033.0</td>\n",
       "      <td>28.1</td>\n",
       "      <td>2016-11-23T00:00:00</td>\n",
       "      <td>1</td>\n",
       "      <td>NaN</td>\n",
       "      <td>NaN</td>\n",
       "      <td>20.75</td>\n",
       "      <td>1</td>\n",
       "      <td>NaN</td>\n",
       "      <td>...</td>\n",
       "      <td>NaN</td>\n",
       "      <td>0.0</td>\n",
       "      <td>Санкт-Петербург</td>\n",
       "      <td>22041.0</td>\n",
       "      <td>17369.0</td>\n",
       "      <td>0.0</td>\n",
       "      <td>NaN</td>\n",
       "      <td>1.0</td>\n",
       "      <td>374.0</td>\n",
       "      <td>251.0</td>\n",
       "    </tr>\n",
       "    <tr>\n",
       "      <th>457</th>\n",
       "      <td>4</td>\n",
       "      <td>9788348.0</td>\n",
       "      <td>70.8</td>\n",
       "      <td>2015-08-01T00:00:00</td>\n",
       "      <td>2</td>\n",
       "      <td>NaN</td>\n",
       "      <td>NaN</td>\n",
       "      <td>38.40</td>\n",
       "      <td>12</td>\n",
       "      <td>NaN</td>\n",
       "      <td>...</td>\n",
       "      <td>10.63</td>\n",
       "      <td>0.0</td>\n",
       "      <td>Санкт-Петербург</td>\n",
       "      <td>37364.0</td>\n",
       "      <td>8322.0</td>\n",
       "      <td>2.0</td>\n",
       "      <td>309.0</td>\n",
       "      <td>2.0</td>\n",
       "      <td>706.0</td>\n",
       "      <td>727.0</td>\n",
       "    </tr>\n",
       "    <tr>\n",
       "      <th>671</th>\n",
       "      <td>4</td>\n",
       "      <td>6051191.0</td>\n",
       "      <td>93.6</td>\n",
       "      <td>2017-04-06T00:00:00</td>\n",
       "      <td>3</td>\n",
       "      <td>NaN</td>\n",
       "      <td>NaN</td>\n",
       "      <td>47.10</td>\n",
       "      <td>8</td>\n",
       "      <td>NaN</td>\n",
       "      <td>...</td>\n",
       "      <td>16.80</td>\n",
       "      <td>0.0</td>\n",
       "      <td>Санкт-Петербург</td>\n",
       "      <td>22041.0</td>\n",
       "      <td>17369.0</td>\n",
       "      <td>0.0</td>\n",
       "      <td>NaN</td>\n",
       "      <td>1.0</td>\n",
       "      <td>374.0</td>\n",
       "      <td>123.0</td>\n",
       "    </tr>\n",
       "    <tr>\n",
       "      <th>1757</th>\n",
       "      <td>5</td>\n",
       "      <td>3600000.0</td>\n",
       "      <td>39.0</td>\n",
       "      <td>2017-04-22T00:00:00</td>\n",
       "      <td>1</td>\n",
       "      <td>NaN</td>\n",
       "      <td>NaN</td>\n",
       "      <td>NaN</td>\n",
       "      <td>9</td>\n",
       "      <td>NaN</td>\n",
       "      <td>...</td>\n",
       "      <td>NaN</td>\n",
       "      <td>0.0</td>\n",
       "      <td>Санкт-Петербург</td>\n",
       "      <td>22735.0</td>\n",
       "      <td>11618.0</td>\n",
       "      <td>1.0</td>\n",
       "      <td>835.0</td>\n",
       "      <td>1.0</td>\n",
       "      <td>652.0</td>\n",
       "      <td>77.0</td>\n",
       "    </tr>\n",
       "  </tbody>\n",
       "</table>\n",
       "<p>5 rows × 22 columns</p>\n",
       "</div>"
      ],
      "text/plain": [
       "      total_images  last_price  total_area first_day_exposition  rooms  \\\n",
       "186             12  11640000.0        65.2  2018-10-02T00:00:00      2   \n",
       "237              4   2438033.0        28.1  2016-11-23T00:00:00      1   \n",
       "457              4   9788348.0        70.8  2015-08-01T00:00:00      2   \n",
       "671              4   6051191.0        93.6  2017-04-06T00:00:00      3   \n",
       "1757             5   3600000.0        39.0  2017-04-22T00:00:00      1   \n",
       "\n",
       "      ceiling_height  floors_total  living_area  floor is_apartment  ...  \\\n",
       "186              NaN           NaN        30.80      4          NaN  ...   \n",
       "237              NaN           NaN        20.75      1          NaN  ...   \n",
       "457              NaN           NaN        38.40     12          NaN  ...   \n",
       "671              NaN           NaN        47.10      8          NaN  ...   \n",
       "1757             NaN           NaN          NaN      9          NaN  ...   \n",
       "\n",
       "      kitchen_area  balcony    locality_name  airports_nearest  \\\n",
       "186          12.00      NaN  Санкт-Петербург           39197.0   \n",
       "237            NaN      0.0  Санкт-Петербург           22041.0   \n",
       "457          10.63      0.0  Санкт-Петербург           37364.0   \n",
       "671          16.80      0.0  Санкт-Петербург           22041.0   \n",
       "1757           NaN      0.0  Санкт-Петербург           22735.0   \n",
       "\n",
       "     cityCenters_nearest  parks_around3000  parks_nearest  ponds_around3000  \\\n",
       "186              12373.0               1.0          123.0               0.0   \n",
       "237              17369.0               0.0            NaN               1.0   \n",
       "457               8322.0               2.0          309.0               2.0   \n",
       "671              17369.0               0.0            NaN               1.0   \n",
       "1757             11618.0               1.0          835.0               1.0   \n",
       "\n",
       "      ponds_nearest  days_exposition  \n",
       "186             NaN             49.0  \n",
       "237           374.0            251.0  \n",
       "457           706.0            727.0  \n",
       "671           374.0            123.0  \n",
       "1757          652.0             77.0  \n",
       "\n",
       "[5 rows x 22 columns]"
      ]
     },
     "execution_count": 8,
     "metadata": {},
     "output_type": "execute_result"
    }
   ],
   "source": [
    "data[data['ceiling_height'].isna()].head()"
   ]
  },
  {
   "cell_type": "markdown",
   "metadata": {},
   "source": [
    "Пропуски остались в тех случаях, где не было указано количество этажей в доме, заменим на общую медиану:"
   ]
  },
  {
   "cell_type": "code",
   "execution_count": 9,
   "metadata": {
    "scrolled": true
   },
   "outputs": [
    {
     "name": "stdout",
     "output_type": "stream",
     "text": [
      "Пропущено 0.0% значений.\n"
     ]
    }
   ],
   "source": [
    "data.ceiling_height.where(data.ceiling_height.notna(), data.ceiling_height.median(), inplace=True)\n",
    "na_share('ceiling_height')"
   ]
  },
  {
   "cell_type": "markdown",
   "metadata": {},
   "source": [
    "Явной закономерности в причине появления пропусков не прослеживается, следует либо сделать заполнение этого пункта обязательным, либо автоматически заполнять высоту потолков на основании известных данных по квартирам в том же доме, либо брать информацию о высоте потолков из других источников."
   ]
  },
  {
   "cell_type": "markdown",
   "metadata": {
    "id": "0lGLJoTBflqa"
   },
   "source": [
    "#### Столбец \"всего этажей в доме\""
   ]
  },
  {
   "cell_type": "code",
   "execution_count": 10,
   "metadata": {
    "colab": {
     "base_uri": "https://localhost:8080/"
    },
    "id": "yW3oPd5vfk-t",
    "outputId": "6fe0e3dd-4ae5-48fb-c90b-0d25fdf7836a"
   },
   "outputs": [
    {
     "name": "stdout",
     "output_type": "stream",
     "text": [
      "Пропущено 0.4% значений.\n"
     ]
    }
   ],
   "source": [
    "na_share('floors_total')"
   ]
  },
  {
   "cell_type": "code",
   "execution_count": 11,
   "metadata": {},
   "outputs": [
    {
     "data": {
      "text/html": [
       "<div>\n",
       "<style scoped>\n",
       "    .dataframe tbody tr th:only-of-type {\n",
       "        vertical-align: middle;\n",
       "    }\n",
       "\n",
       "    .dataframe tbody tr th {\n",
       "        vertical-align: top;\n",
       "    }\n",
       "\n",
       "    .dataframe thead th {\n",
       "        text-align: right;\n",
       "    }\n",
       "</style>\n",
       "<table border=\"1\" class=\"dataframe\">\n",
       "  <thead>\n",
       "    <tr style=\"text-align: right;\">\n",
       "      <th></th>\n",
       "      <th>total_images</th>\n",
       "      <th>last_price</th>\n",
       "      <th>total_area</th>\n",
       "      <th>first_day_exposition</th>\n",
       "      <th>rooms</th>\n",
       "      <th>ceiling_height</th>\n",
       "      <th>floors_total</th>\n",
       "      <th>living_area</th>\n",
       "      <th>floor</th>\n",
       "      <th>is_apartment</th>\n",
       "      <th>...</th>\n",
       "      <th>kitchen_area</th>\n",
       "      <th>balcony</th>\n",
       "      <th>locality_name</th>\n",
       "      <th>airports_nearest</th>\n",
       "      <th>cityCenters_nearest</th>\n",
       "      <th>parks_around3000</th>\n",
       "      <th>parks_nearest</th>\n",
       "      <th>ponds_around3000</th>\n",
       "      <th>ponds_nearest</th>\n",
       "      <th>days_exposition</th>\n",
       "    </tr>\n",
       "  </thead>\n",
       "  <tbody>\n",
       "    <tr>\n",
       "      <th>186</th>\n",
       "      <td>12</td>\n",
       "      <td>11640000.0</td>\n",
       "      <td>65.2</td>\n",
       "      <td>2018-10-02T00:00:00</td>\n",
       "      <td>2</td>\n",
       "      <td>2.711692</td>\n",
       "      <td>NaN</td>\n",
       "      <td>30.80</td>\n",
       "      <td>4</td>\n",
       "      <td>NaN</td>\n",
       "      <td>...</td>\n",
       "      <td>12.00</td>\n",
       "      <td>NaN</td>\n",
       "      <td>Санкт-Петербург</td>\n",
       "      <td>39197.0</td>\n",
       "      <td>12373.0</td>\n",
       "      <td>1.0</td>\n",
       "      <td>123.0</td>\n",
       "      <td>0.0</td>\n",
       "      <td>NaN</td>\n",
       "      <td>49.0</td>\n",
       "    </tr>\n",
       "    <tr>\n",
       "      <th>237</th>\n",
       "      <td>4</td>\n",
       "      <td>2438033.0</td>\n",
       "      <td>28.1</td>\n",
       "      <td>2016-11-23T00:00:00</td>\n",
       "      <td>1</td>\n",
       "      <td>2.711692</td>\n",
       "      <td>NaN</td>\n",
       "      <td>20.75</td>\n",
       "      <td>1</td>\n",
       "      <td>NaN</td>\n",
       "      <td>...</td>\n",
       "      <td>NaN</td>\n",
       "      <td>0.0</td>\n",
       "      <td>Санкт-Петербург</td>\n",
       "      <td>22041.0</td>\n",
       "      <td>17369.0</td>\n",
       "      <td>0.0</td>\n",
       "      <td>NaN</td>\n",
       "      <td>1.0</td>\n",
       "      <td>374.0</td>\n",
       "      <td>251.0</td>\n",
       "    </tr>\n",
       "    <tr>\n",
       "      <th>457</th>\n",
       "      <td>4</td>\n",
       "      <td>9788348.0</td>\n",
       "      <td>70.8</td>\n",
       "      <td>2015-08-01T00:00:00</td>\n",
       "      <td>2</td>\n",
       "      <td>2.711692</td>\n",
       "      <td>NaN</td>\n",
       "      <td>38.40</td>\n",
       "      <td>12</td>\n",
       "      <td>NaN</td>\n",
       "      <td>...</td>\n",
       "      <td>10.63</td>\n",
       "      <td>0.0</td>\n",
       "      <td>Санкт-Петербург</td>\n",
       "      <td>37364.0</td>\n",
       "      <td>8322.0</td>\n",
       "      <td>2.0</td>\n",
       "      <td>309.0</td>\n",
       "      <td>2.0</td>\n",
       "      <td>706.0</td>\n",
       "      <td>727.0</td>\n",
       "    </tr>\n",
       "    <tr>\n",
       "      <th>671</th>\n",
       "      <td>4</td>\n",
       "      <td>6051191.0</td>\n",
       "      <td>93.6</td>\n",
       "      <td>2017-04-06T00:00:00</td>\n",
       "      <td>3</td>\n",
       "      <td>2.711692</td>\n",
       "      <td>NaN</td>\n",
       "      <td>47.10</td>\n",
       "      <td>8</td>\n",
       "      <td>NaN</td>\n",
       "      <td>...</td>\n",
       "      <td>16.80</td>\n",
       "      <td>0.0</td>\n",
       "      <td>Санкт-Петербург</td>\n",
       "      <td>22041.0</td>\n",
       "      <td>17369.0</td>\n",
       "      <td>0.0</td>\n",
       "      <td>NaN</td>\n",
       "      <td>1.0</td>\n",
       "      <td>374.0</td>\n",
       "      <td>123.0</td>\n",
       "    </tr>\n",
       "    <tr>\n",
       "      <th>1757</th>\n",
       "      <td>5</td>\n",
       "      <td>3600000.0</td>\n",
       "      <td>39.0</td>\n",
       "      <td>2017-04-22T00:00:00</td>\n",
       "      <td>1</td>\n",
       "      <td>2.711692</td>\n",
       "      <td>NaN</td>\n",
       "      <td>NaN</td>\n",
       "      <td>9</td>\n",
       "      <td>NaN</td>\n",
       "      <td>...</td>\n",
       "      <td>NaN</td>\n",
       "      <td>0.0</td>\n",
       "      <td>Санкт-Петербург</td>\n",
       "      <td>22735.0</td>\n",
       "      <td>11618.0</td>\n",
       "      <td>1.0</td>\n",
       "      <td>835.0</td>\n",
       "      <td>1.0</td>\n",
       "      <td>652.0</td>\n",
       "      <td>77.0</td>\n",
       "    </tr>\n",
       "  </tbody>\n",
       "</table>\n",
       "<p>5 rows × 22 columns</p>\n",
       "</div>"
      ],
      "text/plain": [
       "      total_images  last_price  total_area first_day_exposition  rooms  \\\n",
       "186             12  11640000.0        65.2  2018-10-02T00:00:00      2   \n",
       "237              4   2438033.0        28.1  2016-11-23T00:00:00      1   \n",
       "457              4   9788348.0        70.8  2015-08-01T00:00:00      2   \n",
       "671              4   6051191.0        93.6  2017-04-06T00:00:00      3   \n",
       "1757             5   3600000.0        39.0  2017-04-22T00:00:00      1   \n",
       "\n",
       "      ceiling_height  floors_total  living_area  floor is_apartment  ...  \\\n",
       "186         2.711692           NaN        30.80      4          NaN  ...   \n",
       "237         2.711692           NaN        20.75      1          NaN  ...   \n",
       "457         2.711692           NaN        38.40     12          NaN  ...   \n",
       "671         2.711692           NaN        47.10      8          NaN  ...   \n",
       "1757        2.711692           NaN          NaN      9          NaN  ...   \n",
       "\n",
       "      kitchen_area  balcony    locality_name  airports_nearest  \\\n",
       "186          12.00      NaN  Санкт-Петербург           39197.0   \n",
       "237            NaN      0.0  Санкт-Петербург           22041.0   \n",
       "457          10.63      0.0  Санкт-Петербург           37364.0   \n",
       "671          16.80      0.0  Санкт-Петербург           22041.0   \n",
       "1757           NaN      0.0  Санкт-Петербург           22735.0   \n",
       "\n",
       "     cityCenters_nearest  parks_around3000  parks_nearest  ponds_around3000  \\\n",
       "186              12373.0               1.0          123.0               0.0   \n",
       "237              17369.0               0.0            NaN               1.0   \n",
       "457               8322.0               2.0          309.0               2.0   \n",
       "671              17369.0               0.0            NaN               1.0   \n",
       "1757             11618.0               1.0          835.0               1.0   \n",
       "\n",
       "      ponds_nearest  days_exposition  \n",
       "186             NaN             49.0  \n",
       "237           374.0            251.0  \n",
       "457           706.0            727.0  \n",
       "671           374.0            123.0  \n",
       "1757          652.0             77.0  \n",
       "\n",
       "[5 rows x 22 columns]"
      ]
     },
     "execution_count": 11,
     "metadata": {},
     "output_type": "execute_result"
    }
   ],
   "source": [
    "data[data['floors_total'].isna()].head()"
   ]
  },
  {
   "cell_type": "markdown",
   "metadata": {
    "id": "N1eUKpC_gY8w"
   },
   "source": [
    "Строки с пропусками в количестве этажей совсем немного. Их следует удалить, т.к. дальше в исследовании нужно будет выявить зависимость цены квартиры от её этажа:"
   ]
  },
  {
   "cell_type": "code",
   "execution_count": 12,
   "metadata": {
    "colab": {
     "base_uri": "https://localhost:8080/"
    },
    "id": "bIRD7Giuhxo3",
    "outputId": "3fad72d7-ac2c-4458-f096-2ccd90483b88",
    "scrolled": true
   },
   "outputs": [
    {
     "name": "stdout",
     "output_type": "stream",
     "text": [
      "Пропущено 0.0% значений.\n"
     ]
    }
   ],
   "source": [
    "data.dropna(subset=['floors_total'], inplace=True)\n",
    "na_share('floors_total')"
   ]
  },
  {
   "cell_type": "markdown",
   "metadata": {},
   "source": [
    "Аналогично предыдущему пункту, следует либо сделать заполнение этого пункта обязательным, либо автоматически заполнять параметр на основании известных данных по квартирам в том же доме, либо брать информацию о количестве этажей из других источников."
   ]
  },
  {
   "cell_type": "markdown",
   "metadata": {
    "id": "hVUFa9tmiTrO"
   },
   "source": [
    "#### Столбец \"жилая площадь в квадратных метрах\""
   ]
  },
  {
   "cell_type": "code",
   "execution_count": 13,
   "metadata": {
    "colab": {
     "base_uri": "https://localhost:8080/"
    },
    "id": "TIDorTkEipVM",
    "outputId": "78416f3e-e4e5-4718-cca4-302a2e8626b6",
    "scrolled": true
   },
   "outputs": [
    {
     "name": "stdout",
     "output_type": "stream",
     "text": [
      "Пропущено 7.9% значений.\n"
     ]
    }
   ],
   "source": [
    "na_share('living_area')"
   ]
  },
  {
   "cell_type": "code",
   "execution_count": 14,
   "metadata": {},
   "outputs": [
    {
     "data": {
      "text/html": [
       "<div>\n",
       "<style scoped>\n",
       "    .dataframe tbody tr th:only-of-type {\n",
       "        vertical-align: middle;\n",
       "    }\n",
       "\n",
       "    .dataframe tbody tr th {\n",
       "        vertical-align: top;\n",
       "    }\n",
       "\n",
       "    .dataframe thead th {\n",
       "        text-align: right;\n",
       "    }\n",
       "</style>\n",
       "<table border=\"1\" class=\"dataframe\">\n",
       "  <thead>\n",
       "    <tr style=\"text-align: right;\">\n",
       "      <th></th>\n",
       "      <th>total_images</th>\n",
       "      <th>last_price</th>\n",
       "      <th>total_area</th>\n",
       "      <th>first_day_exposition</th>\n",
       "      <th>rooms</th>\n",
       "      <th>ceiling_height</th>\n",
       "      <th>floors_total</th>\n",
       "      <th>living_area</th>\n",
       "      <th>floor</th>\n",
       "      <th>is_apartment</th>\n",
       "      <th>...</th>\n",
       "      <th>kitchen_area</th>\n",
       "      <th>balcony</th>\n",
       "      <th>locality_name</th>\n",
       "      <th>airports_nearest</th>\n",
       "      <th>cityCenters_nearest</th>\n",
       "      <th>parks_around3000</th>\n",
       "      <th>parks_nearest</th>\n",
       "      <th>ponds_around3000</th>\n",
       "      <th>ponds_nearest</th>\n",
       "      <th>days_exposition</th>\n",
       "    </tr>\n",
       "  </thead>\n",
       "  <tbody>\n",
       "    <tr>\n",
       "      <th>3</th>\n",
       "      <td>0</td>\n",
       "      <td>64900000.0</td>\n",
       "      <td>159.0</td>\n",
       "      <td>2015-07-24T00:00:00</td>\n",
       "      <td>3</td>\n",
       "      <td>2.731545</td>\n",
       "      <td>14.0</td>\n",
       "      <td>NaN</td>\n",
       "      <td>9</td>\n",
       "      <td>NaN</td>\n",
       "      <td>...</td>\n",
       "      <td>NaN</td>\n",
       "      <td>0.0</td>\n",
       "      <td>Санкт-Петербург</td>\n",
       "      <td>28098.0</td>\n",
       "      <td>6800.0</td>\n",
       "      <td>2.0</td>\n",
       "      <td>84.0</td>\n",
       "      <td>3.0</td>\n",
       "      <td>234.0</td>\n",
       "      <td>424.0</td>\n",
       "    </tr>\n",
       "    <tr>\n",
       "      <th>7</th>\n",
       "      <td>5</td>\n",
       "      <td>7915000.0</td>\n",
       "      <td>71.6</td>\n",
       "      <td>2019-04-18T00:00:00</td>\n",
       "      <td>2</td>\n",
       "      <td>2.851567</td>\n",
       "      <td>24.0</td>\n",
       "      <td>NaN</td>\n",
       "      <td>22</td>\n",
       "      <td>NaN</td>\n",
       "      <td>...</td>\n",
       "      <td>18.9</td>\n",
       "      <td>2.0</td>\n",
       "      <td>Санкт-Петербург</td>\n",
       "      <td>23982.0</td>\n",
       "      <td>11634.0</td>\n",
       "      <td>0.0</td>\n",
       "      <td>NaN</td>\n",
       "      <td>0.0</td>\n",
       "      <td>NaN</td>\n",
       "      <td>NaN</td>\n",
       "    </tr>\n",
       "    <tr>\n",
       "      <th>30</th>\n",
       "      <td>12</td>\n",
       "      <td>2200000.0</td>\n",
       "      <td>32.8</td>\n",
       "      <td>2018-02-19T00:00:00</td>\n",
       "      <td>1</td>\n",
       "      <td>2.599093</td>\n",
       "      <td>9.0</td>\n",
       "      <td>NaN</td>\n",
       "      <td>2</td>\n",
       "      <td>NaN</td>\n",
       "      <td>...</td>\n",
       "      <td>NaN</td>\n",
       "      <td>NaN</td>\n",
       "      <td>Коммунар</td>\n",
       "      <td>NaN</td>\n",
       "      <td>NaN</td>\n",
       "      <td>NaN</td>\n",
       "      <td>NaN</td>\n",
       "      <td>NaN</td>\n",
       "      <td>NaN</td>\n",
       "      <td>63.0</td>\n",
       "    </tr>\n",
       "    <tr>\n",
       "      <th>37</th>\n",
       "      <td>10</td>\n",
       "      <td>1990000.0</td>\n",
       "      <td>45.8</td>\n",
       "      <td>2017-10-28T00:00:00</td>\n",
       "      <td>2</td>\n",
       "      <td>2.500000</td>\n",
       "      <td>5.0</td>\n",
       "      <td>NaN</td>\n",
       "      <td>1</td>\n",
       "      <td>NaN</td>\n",
       "      <td>...</td>\n",
       "      <td>NaN</td>\n",
       "      <td>NaN</td>\n",
       "      <td>поселок городского типа Красный Бор</td>\n",
       "      <td>NaN</td>\n",
       "      <td>NaN</td>\n",
       "      <td>NaN</td>\n",
       "      <td>NaN</td>\n",
       "      <td>NaN</td>\n",
       "      <td>NaN</td>\n",
       "      <td>196.0</td>\n",
       "    </tr>\n",
       "    <tr>\n",
       "      <th>44</th>\n",
       "      <td>13</td>\n",
       "      <td>5350000.0</td>\n",
       "      <td>40.0</td>\n",
       "      <td>2018-11-18T00:00:00</td>\n",
       "      <td>1</td>\n",
       "      <td>2.731560</td>\n",
       "      <td>22.0</td>\n",
       "      <td>NaN</td>\n",
       "      <td>3</td>\n",
       "      <td>NaN</td>\n",
       "      <td>...</td>\n",
       "      <td>NaN</td>\n",
       "      <td>1.0</td>\n",
       "      <td>Санкт-Петербург</td>\n",
       "      <td>30471.0</td>\n",
       "      <td>11603.0</td>\n",
       "      <td>1.0</td>\n",
       "      <td>620.0</td>\n",
       "      <td>1.0</td>\n",
       "      <td>1152.0</td>\n",
       "      <td>NaN</td>\n",
       "    </tr>\n",
       "  </tbody>\n",
       "</table>\n",
       "<p>5 rows × 22 columns</p>\n",
       "</div>"
      ],
      "text/plain": [
       "    total_images  last_price  total_area first_day_exposition  rooms  \\\n",
       "3              0  64900000.0       159.0  2015-07-24T00:00:00      3   \n",
       "7              5   7915000.0        71.6  2019-04-18T00:00:00      2   \n",
       "30            12   2200000.0        32.8  2018-02-19T00:00:00      1   \n",
       "37            10   1990000.0        45.8  2017-10-28T00:00:00      2   \n",
       "44            13   5350000.0        40.0  2018-11-18T00:00:00      1   \n",
       "\n",
       "    ceiling_height  floors_total  living_area  floor is_apartment  ...  \\\n",
       "3         2.731545          14.0          NaN      9          NaN  ...   \n",
       "7         2.851567          24.0          NaN     22          NaN  ...   \n",
       "30        2.599093           9.0          NaN      2          NaN  ...   \n",
       "37        2.500000           5.0          NaN      1          NaN  ...   \n",
       "44        2.731560          22.0          NaN      3          NaN  ...   \n",
       "\n",
       "    kitchen_area  balcony                        locality_name  \\\n",
       "3            NaN      0.0                      Санкт-Петербург   \n",
       "7           18.9      2.0                      Санкт-Петербург   \n",
       "30           NaN      NaN                             Коммунар   \n",
       "37           NaN      NaN  поселок городского типа Красный Бор   \n",
       "44           NaN      1.0                      Санкт-Петербург   \n",
       "\n",
       "    airports_nearest cityCenters_nearest  parks_around3000  parks_nearest  \\\n",
       "3            28098.0              6800.0               2.0           84.0   \n",
       "7            23982.0             11634.0               0.0            NaN   \n",
       "30               NaN                 NaN               NaN            NaN   \n",
       "37               NaN                 NaN               NaN            NaN   \n",
       "44           30471.0             11603.0               1.0          620.0   \n",
       "\n",
       "    ponds_around3000  ponds_nearest  days_exposition  \n",
       "3                3.0          234.0            424.0  \n",
       "7                0.0            NaN              NaN  \n",
       "30               NaN            NaN             63.0  \n",
       "37               NaN            NaN            196.0  \n",
       "44               1.0         1152.0              NaN  \n",
       "\n",
       "[5 rows x 22 columns]"
      ]
     },
     "execution_count": 14,
     "metadata": {},
     "output_type": "execute_result"
    }
   ],
   "source": [
    "data[data['living_area'].isna()].head()"
   ]
  },
  {
   "cell_type": "markdown",
   "metadata": {
    "id": "0_nCI-gTijor"
   },
   "source": [
    "Замену пропусков произведём через цикл. Итератором будет индекс в series, где индексы - количество комнат, значения - медианная жилая площадь:"
   ]
  },
  {
   "cell_type": "code",
   "execution_count": 15,
   "metadata": {
    "colab": {
     "base_uri": "https://localhost:8080/"
    },
    "id": "X3IKKaDjqfaL",
    "outputId": "874617dd-6e5c-4d30-cc3f-e89acc856965"
   },
   "outputs": [
    {
     "name": "stdout",
     "output_type": "stream",
     "text": [
      "Пропущено 0.0% значений.\n"
     ]
    }
   ],
   "source": [
    "living_area_by_rooms = data.groupby('rooms')['living_area'].median()\n",
    "for i in living_area_by_rooms.index: \n",
    "  data.loc[(data['living_area'].isna()) & (data['rooms'] == i), 'living_area'] = living_area_by_rooms[i]\n",
    "\n",
    "na_share('living_area')"
   ]
  },
  {
   "cell_type": "markdown",
   "metadata": {},
   "source": [
    "И снова, пропуски явно возникают из-за того что у пользователей сервиса есть возможность не указывать корректные значения."
   ]
  },
  {
   "cell_type": "markdown",
   "metadata": {
    "id": "_k8AMwh6qY9o"
   },
   "source": [
    "#### Столбец \"апартаменты\""
   ]
  },
  {
   "cell_type": "code",
   "execution_count": 16,
   "metadata": {
    "colab": {
     "base_uri": "https://localhost:8080/"
    },
    "id": "BjeFcR9MA-br",
    "outputId": "4e992cb8-28ca-4bf2-8b77-41e047eea4a2"
   },
   "outputs": [
    {
     "name": "stdout",
     "output_type": "stream",
     "text": [
      "Пропущено 88.2% значений.\n"
     ]
    }
   ],
   "source": [
    "na_share('is_apartment')"
   ]
  },
  {
   "cell_type": "markdown",
   "metadata": {
    "id": "E7ZtQZK0Kldp"
   },
   "source": [
    "Посмотрим какие уникальные значения есть в столбце и сколько их:"
   ]
  },
  {
   "cell_type": "code",
   "execution_count": 17,
   "metadata": {
    "colab": {
     "base_uri": "https://localhost:8080/"
    },
    "id": "lRSyGQl3NJJe",
    "outputId": "50e1c873-3471-4856-8989-08875b6fc283"
   },
   "outputs": [
    {
     "data": {
      "text/plain": [
       "array([nan, False, True], dtype=object)"
      ]
     },
     "execution_count": 17,
     "metadata": {},
     "output_type": "execute_result"
    }
   ],
   "source": [
    "data['is_apartment'].unique()"
   ]
  },
  {
   "cell_type": "code",
   "execution_count": 18,
   "metadata": {
    "colab": {
     "base_uri": "https://localhost:8080/"
    },
    "id": "3j32PmKuVskV",
    "outputId": "92187c40-4b42-43be-d9a5-a0c90743ae60"
   },
   "outputs": [
    {
     "data": {
      "text/plain": [
       "False    2725\n",
       "True       50\n",
       "Name: is_apartment, dtype: int64"
      ]
     },
     "execution_count": 18,
     "metadata": {},
     "output_type": "execute_result"
    }
   ],
   "source": [
    "data['is_apartment'].value_counts()"
   ]
  },
  {
   "cell_type": "markdown",
   "metadata": {
    "id": "VdSakj92WyNf"
   },
   "source": [
    "Явно стоит сделать для пользователей обязательным ответ на вопрос, является ли жилье аппартаментами.\n",
    "<br>\n",
    "Разумно предположить, что среди объектов недвижимости аппартаменты составляют меньшиство и пропуски следует заменить на False. Для этого применим метод \"fillna()\":"
   ]
  },
  {
   "cell_type": "code",
   "execution_count": 19,
   "metadata": {
    "colab": {
     "base_uri": "https://localhost:8080/"
    },
    "id": "v0cKsJhlXCTV",
    "outputId": "1d9fbd2e-7b02-42e3-9779-516e470835b9"
   },
   "outputs": [
    {
     "data": {
      "text/plain": [
       "False    23563\n",
       "True        50\n",
       "Name: is_apartment, dtype: int64"
      ]
     },
     "execution_count": 19,
     "metadata": {},
     "output_type": "execute_result"
    }
   ],
   "source": [
    "data['is_apartment'].fillna(value=False, inplace=True)\n",
    "data['is_apartment'].value_counts()"
   ]
  },
  {
   "cell_type": "markdown",
   "metadata": {
    "id": "pnFUm2Q9ZQxb"
   },
   "source": [
    "#### Столбец \"площадь кухни в квадратных метрах\""
   ]
  },
  {
   "cell_type": "code",
   "execution_count": 20,
   "metadata": {
    "colab": {
     "base_uri": "https://localhost:8080/"
    },
    "id": "e5u8WuBiA3eK",
    "outputId": "6a232562-3692-4ada-fff9-629f86acec72"
   },
   "outputs": [
    {
     "name": "stdout",
     "output_type": "stream",
     "text": [
      "Пропущено 9.4% значений.\n"
     ]
    }
   ],
   "source": [
    "na_share('kitchen_area')"
   ]
  },
  {
   "cell_type": "markdown",
   "metadata": {
    "id": "QRrkvrnvCWc-"
   },
   "source": [
    "Посмотрим как связана площадь кухни и отнесении квартиры к категории \"студия\":"
   ]
  },
  {
   "cell_type": "code",
   "execution_count": 21,
   "metadata": {
    "colab": {
     "base_uri": "https://localhost:8080/"
    },
    "id": "ZE61cb6KLbKs",
    "outputId": "ec6f9dca-a53c-4b60-8e23-95b74e76e013"
   },
   "outputs": [
    {
     "data": {
      "text/plain": [
       "array([nan])"
      ]
     },
     "execution_count": 21,
     "metadata": {},
     "output_type": "execute_result"
    }
   ],
   "source": [
    "data.query('studio == True')['kitchen_area'].unique()"
   ]
  },
  {
   "cell_type": "markdown",
   "metadata": {
    "id": "WJy93dZ2MoKd"
   },
   "source": [
    "Все квартиры студии имеют пропуск в столбце \"площадь кухни в квадратных метрах\", следует заменить эти значения на 0:"
   ]
  },
  {
   "cell_type": "code",
   "execution_count": 22,
   "metadata": {
    "id": "sSzhjgEANBR2"
   },
   "outputs": [],
   "source": [
    "data.loc[data['studio'] == True, 'kitchen_area'] = 0"
   ]
  },
  {
   "cell_type": "markdown",
   "metadata": {
    "id": "VpA3etHnmG6U"
   },
   "source": [
    "Проверим гипотезу о том, что площадь кухни коррелирует с общей площадью квартиры, убрав из расчётов студии:"
   ]
  },
  {
   "cell_type": "code",
   "execution_count": 23,
   "metadata": {
    "colab": {
     "base_uri": "https://localhost:8080/",
     "height": 317
    },
    "id": "AVIs8tv0egen",
    "outputId": "dd43b75d-c6a0-4e7d-fde8-f81a8e1d0230"
   },
   "outputs": [
    {
     "name": "stdout",
     "output_type": "stream",
     "text": [
      "0.6094677166170354\n"
     ]
    },
    {
     "data": {
      "text/plain": [
       "<AxesSubplot:xlabel='kitchen_area', ylabel='total_area'>"
      ]
     },
     "execution_count": 23,
     "metadata": {},
     "output_type": "execute_result"
    },
    {
     "data": {
      "image/png": "[encoded data removed]",
      "text/plain": [
       "<Figure size 432x288 with 1 Axes>"
      ]
     },
     "metadata": {
      "needs_background": "light"
     },
     "output_type": "display_data"
    }
   ],
   "source": [
    "data_notstudio = data.query('kitchen_area > 0')\n",
    "print(data_notstudio['kitchen_area'].corr(data_notstudio['total_area']))\n",
    "data_notstudio.plot(x='kitchen_area', y='total_area', kind='scatter', alpha=0.03)"
   ]
  },
  {
   "cell_type": "markdown",
   "metadata": {
    "id": "dQt1QZm4rw9j"
   },
   "source": [
    "Наблюдаемую корреляцию Пирсона между площадью кухни и общей площадью квартиры в 0,61 можно считать умеренной.\n",
    "<br>\n",
    "Замену пропусков проведём с помощью цикла.\n",
    "<br>\n",
    "Итератором будет индекс в series, где индексы - количество комнат, значения - медианная общая площадь.\n",
    "При каждой итерации переменной k присваивается коэффициент соотношения медианной площади кухни и медианной общей площади для квартир с количеством комнат i. Затем пропущенная площадь кухни для квартир с i комнатами заменяется на произведение медианной площади квартир с i комнатами и коэффициента k:"
   ]
  },
  {
   "cell_type": "code",
   "execution_count": 24,
   "metadata": {
    "id": "KlYmQTRZeHXg"
   },
   "outputs": [],
   "source": [
    "for i in data.groupby('rooms')['total_area'].median().index:\n",
    "    k = data.query('rooms == @i')['kitchen_area'].median() / data.query('rooms == @i')['total_area'].median()\n",
    "    data.loc[(data['kitchen_area'].isna())\n",
    "             & (data['rooms'] == i), 'kitchen_area'] = data.query('rooms == @i')['total_area'].median() * k\n"
   ]
  },
  {
   "cell_type": "markdown",
   "metadata": {
    "id": "F4elY081827u"
   },
   "source": [
    "#### Столбец \"число балконов\""
   ]
  },
  {
   "cell_type": "code",
   "execution_count": 25,
   "metadata": {
    "colab": {
     "base_uri": "https://localhost:8080/"
    },
    "id": "qUO33p_H9kTB",
    "outputId": "8b105899-3512-4dfd-9a9f-b848c539209a"
   },
   "outputs": [
    {
     "name": "stdout",
     "output_type": "stream",
     "text": [
      "Пропущено 48.6% значений.\n"
     ]
    }
   ],
   "source": [
    "na_share('balcony')"
   ]
  },
  {
   "cell_type": "markdown",
   "metadata": {
    "id": "r-nVKfyx-kzF"
   },
   "source": [
    "Будем исходить из того, что пропуск обозначает отсутствие балкона:"
   ]
  },
  {
   "cell_type": "code",
   "execution_count": 26,
   "metadata": {
    "colab": {
     "base_uri": "https://localhost:8080/"
    },
    "id": "okUDecez-yM7",
    "outputId": "a1cdcf73-1758-458f-9d35-ba8e0d22f5b9"
   },
   "outputs": [
    {
     "name": "stdout",
     "output_type": "stream",
     "text": [
      "Пропущено 0.0% значений.\n"
     ]
    }
   ],
   "source": [
    "data['balcony'].fillna(0, inplace=True)\n",
    "na_share('balcony')"
   ]
  },
  {
   "cell_type": "markdown",
   "metadata": {
    "id": "-Wy-qQUS-39j"
   },
   "source": [
    "#### Столбец \"название населённого пункта\""
   ]
  },
  {
   "cell_type": "code",
   "execution_count": 27,
   "metadata": {
    "colab": {
     "base_uri": "https://localhost:8080/"
    },
    "id": "oJ1nyOUm-3DO",
    "outputId": "f444a4f2-0116-43e4-bb9e-ed1e83b13d7c",
    "scrolled": true
   },
   "outputs": [
    {
     "name": "stdout",
     "output_type": "stream",
     "text": [
      "Пропущено 0.2% значений.\n"
     ]
    }
   ],
   "source": [
    "na_share('locality_name')"
   ]
  },
  {
   "cell_type": "code",
   "execution_count": 28,
   "metadata": {},
   "outputs": [
    {
     "data": {
      "text/html": [
       "<div>\n",
       "<style scoped>\n",
       "    .dataframe tbody tr th:only-of-type {\n",
       "        vertical-align: middle;\n",
       "    }\n",
       "\n",
       "    .dataframe tbody tr th {\n",
       "        vertical-align: top;\n",
       "    }\n",
       "\n",
       "    .dataframe thead th {\n",
       "        text-align: right;\n",
       "    }\n",
       "</style>\n",
       "<table border=\"1\" class=\"dataframe\">\n",
       "  <thead>\n",
       "    <tr style=\"text-align: right;\">\n",
       "      <th></th>\n",
       "      <th>total_images</th>\n",
       "      <th>last_price</th>\n",
       "      <th>total_area</th>\n",
       "      <th>first_day_exposition</th>\n",
       "      <th>rooms</th>\n",
       "      <th>ceiling_height</th>\n",
       "      <th>floors_total</th>\n",
       "      <th>living_area</th>\n",
       "      <th>floor</th>\n",
       "      <th>is_apartment</th>\n",
       "      <th>...</th>\n",
       "      <th>kitchen_area</th>\n",
       "      <th>balcony</th>\n",
       "      <th>locality_name</th>\n",
       "      <th>airports_nearest</th>\n",
       "      <th>cityCenters_nearest</th>\n",
       "      <th>parks_around3000</th>\n",
       "      <th>parks_nearest</th>\n",
       "      <th>ponds_around3000</th>\n",
       "      <th>ponds_nearest</th>\n",
       "      <th>days_exposition</th>\n",
       "    </tr>\n",
       "  </thead>\n",
       "  <tbody>\n",
       "    <tr>\n",
       "      <th>1097</th>\n",
       "      <td>3</td>\n",
       "      <td>8600000.0</td>\n",
       "      <td>81.7</td>\n",
       "      <td>2016-04-15T00:00:00</td>\n",
       "      <td>3</td>\n",
       "      <td>3.550000</td>\n",
       "      <td>5.0</td>\n",
       "      <td>50.8</td>\n",
       "      <td>2</td>\n",
       "      <td>False</td>\n",
       "      <td>...</td>\n",
       "      <td>8.8</td>\n",
       "      <td>0.0</td>\n",
       "      <td>NaN</td>\n",
       "      <td>23478.0</td>\n",
       "      <td>4258.0</td>\n",
       "      <td>0.0</td>\n",
       "      <td>NaN</td>\n",
       "      <td>0.0</td>\n",
       "      <td>NaN</td>\n",
       "      <td>147.0</td>\n",
       "    </tr>\n",
       "    <tr>\n",
       "      <th>2033</th>\n",
       "      <td>6</td>\n",
       "      <td>5398000.0</td>\n",
       "      <td>80.0</td>\n",
       "      <td>2017-05-30T00:00:00</td>\n",
       "      <td>3</td>\n",
       "      <td>2.986831</td>\n",
       "      <td>4.0</td>\n",
       "      <td>42.6</td>\n",
       "      <td>2</td>\n",
       "      <td>False</td>\n",
       "      <td>...</td>\n",
       "      <td>18.6</td>\n",
       "      <td>0.0</td>\n",
       "      <td>NaN</td>\n",
       "      <td>NaN</td>\n",
       "      <td>NaN</td>\n",
       "      <td>NaN</td>\n",
       "      <td>NaN</td>\n",
       "      <td>NaN</td>\n",
       "      <td>NaN</td>\n",
       "      <td>34.0</td>\n",
       "    </tr>\n",
       "    <tr>\n",
       "      <th>2603</th>\n",
       "      <td>20</td>\n",
       "      <td>3351765.0</td>\n",
       "      <td>42.7</td>\n",
       "      <td>2015-09-20T00:00:00</td>\n",
       "      <td>1</td>\n",
       "      <td>2.851567</td>\n",
       "      <td>24.0</td>\n",
       "      <td>15.6</td>\n",
       "      <td>3</td>\n",
       "      <td>False</td>\n",
       "      <td>...</td>\n",
       "      <td>10.7</td>\n",
       "      <td>0.0</td>\n",
       "      <td>NaN</td>\n",
       "      <td>22041.0</td>\n",
       "      <td>17369.0</td>\n",
       "      <td>0.0</td>\n",
       "      <td>NaN</td>\n",
       "      <td>1.0</td>\n",
       "      <td>374.0</td>\n",
       "      <td>276.0</td>\n",
       "    </tr>\n",
       "    <tr>\n",
       "      <th>2632</th>\n",
       "      <td>2</td>\n",
       "      <td>5130593.0</td>\n",
       "      <td>62.4</td>\n",
       "      <td>2015-10-11T00:00:00</td>\n",
       "      <td>2</td>\n",
       "      <td>2.851567</td>\n",
       "      <td>24.0</td>\n",
       "      <td>33.1</td>\n",
       "      <td>21</td>\n",
       "      <td>False</td>\n",
       "      <td>...</td>\n",
       "      <td>8.2</td>\n",
       "      <td>0.0</td>\n",
       "      <td>NaN</td>\n",
       "      <td>22041.0</td>\n",
       "      <td>17369.0</td>\n",
       "      <td>0.0</td>\n",
       "      <td>NaN</td>\n",
       "      <td>1.0</td>\n",
       "      <td>374.0</td>\n",
       "      <td>256.0</td>\n",
       "    </tr>\n",
       "    <tr>\n",
       "      <th>3574</th>\n",
       "      <td>10</td>\n",
       "      <td>4200000.0</td>\n",
       "      <td>46.5</td>\n",
       "      <td>2016-05-28T00:00:00</td>\n",
       "      <td>2</td>\n",
       "      <td>2.793191</td>\n",
       "      <td>5.0</td>\n",
       "      <td>30.8</td>\n",
       "      <td>5</td>\n",
       "      <td>False</td>\n",
       "      <td>...</td>\n",
       "      <td>6.5</td>\n",
       "      <td>0.0</td>\n",
       "      <td>NaN</td>\n",
       "      <td>27419.0</td>\n",
       "      <td>8127.0</td>\n",
       "      <td>0.0</td>\n",
       "      <td>NaN</td>\n",
       "      <td>1.0</td>\n",
       "      <td>603.0</td>\n",
       "      <td>45.0</td>\n",
       "    </tr>\n",
       "  </tbody>\n",
       "</table>\n",
       "<p>5 rows × 22 columns</p>\n",
       "</div>"
      ],
      "text/plain": [
       "      total_images  last_price  total_area first_day_exposition  rooms  \\\n",
       "1097             3   8600000.0        81.7  2016-04-15T00:00:00      3   \n",
       "2033             6   5398000.0        80.0  2017-05-30T00:00:00      3   \n",
       "2603            20   3351765.0        42.7  2015-09-20T00:00:00      1   \n",
       "2632             2   5130593.0        62.4  2015-10-11T00:00:00      2   \n",
       "3574            10   4200000.0        46.5  2016-05-28T00:00:00      2   \n",
       "\n",
       "      ceiling_height  floors_total  living_area  floor  is_apartment  ...  \\\n",
       "1097        3.550000           5.0         50.8      2         False  ...   \n",
       "2033        2.986831           4.0         42.6      2         False  ...   \n",
       "2603        2.851567          24.0         15.6      3         False  ...   \n",
       "2632        2.851567          24.0         33.1     21         False  ...   \n",
       "3574        2.793191           5.0         30.8      5         False  ...   \n",
       "\n",
       "      kitchen_area  balcony  locality_name  airports_nearest  \\\n",
       "1097           8.8      0.0            NaN           23478.0   \n",
       "2033          18.6      0.0            NaN               NaN   \n",
       "2603          10.7      0.0            NaN           22041.0   \n",
       "2632           8.2      0.0            NaN           22041.0   \n",
       "3574           6.5      0.0            NaN           27419.0   \n",
       "\n",
       "     cityCenters_nearest  parks_around3000  parks_nearest  ponds_around3000  \\\n",
       "1097              4258.0               0.0            NaN               0.0   \n",
       "2033                 NaN               NaN            NaN               NaN   \n",
       "2603             17369.0               0.0            NaN               1.0   \n",
       "2632             17369.0               0.0            NaN               1.0   \n",
       "3574              8127.0               0.0            NaN               1.0   \n",
       "\n",
       "      ponds_nearest  days_exposition  \n",
       "1097            NaN            147.0  \n",
       "2033            NaN             34.0  \n",
       "2603          374.0            276.0  \n",
       "2632          374.0            256.0  \n",
       "3574          603.0             45.0  \n",
       "\n",
       "[5 rows x 22 columns]"
      ]
     },
     "execution_count": 28,
     "metadata": {},
     "output_type": "execute_result"
    }
   ],
   "source": [
    "data[data['locality_name'].isna()].head()"
   ]
  },
  {
   "cell_type": "markdown",
   "metadata": {
    "id": "zLeEuErC_IqY"
   },
   "source": [
    "Знать название населённого пункта критически важно для анализа, строки без этих сведений удалим:"
   ]
  },
  {
   "cell_type": "code",
   "execution_count": 29,
   "metadata": {
    "id": "inGYzE6__bfW"
   },
   "outputs": [],
   "source": [
    "data.dropna(subset=['locality_name'], inplace=True)"
   ]
  },
  {
   "cell_type": "markdown",
   "metadata": {},
   "source": [
    "Следует довести проблему до разработчиков, ситуация когда пользователь может опубликовать объявление о продаже недвижимости без указания населенного пункта явно не нормальна."
   ]
  },
  {
   "cell_type": "markdown",
   "metadata": {
    "id": "iaADhM0WEduC"
   },
   "source": [
    "#### Столбец \"расстояние до ближайшего аэропорта в метрах\""
   ]
  },
  {
   "cell_type": "code",
   "execution_count": 30,
   "metadata": {
    "colab": {
     "base_uri": "https://localhost:8080/"
    },
    "id": "4Zrj__pCEp3N",
    "outputId": "a7634d5f-0c12-4496-829e-85ae1abc539f",
    "scrolled": false
   },
   "outputs": [
    {
     "name": "stdout",
     "output_type": "stream",
     "text": [
      "Пропущено 23.4% значений.\n"
     ]
    }
   ],
   "source": [
    "na_share('airports_nearest')"
   ]
  },
  {
   "cell_type": "code",
   "execution_count": 31,
   "metadata": {},
   "outputs": [
    {
     "data": {
      "text/html": [
       "<div>\n",
       "<style scoped>\n",
       "    .dataframe tbody tr th:only-of-type {\n",
       "        vertical-align: middle;\n",
       "    }\n",
       "\n",
       "    .dataframe tbody tr th {\n",
       "        vertical-align: top;\n",
       "    }\n",
       "\n",
       "    .dataframe thead th {\n",
       "        text-align: right;\n",
       "    }\n",
       "</style>\n",
       "<table border=\"1\" class=\"dataframe\">\n",
       "  <thead>\n",
       "    <tr style=\"text-align: right;\">\n",
       "      <th></th>\n",
       "      <th>total_images</th>\n",
       "      <th>last_price</th>\n",
       "      <th>total_area</th>\n",
       "      <th>first_day_exposition</th>\n",
       "      <th>rooms</th>\n",
       "      <th>ceiling_height</th>\n",
       "      <th>floors_total</th>\n",
       "      <th>living_area</th>\n",
       "      <th>floor</th>\n",
       "      <th>is_apartment</th>\n",
       "      <th>...</th>\n",
       "      <th>kitchen_area</th>\n",
       "      <th>balcony</th>\n",
       "      <th>locality_name</th>\n",
       "      <th>airports_nearest</th>\n",
       "      <th>cityCenters_nearest</th>\n",
       "      <th>parks_around3000</th>\n",
       "      <th>parks_nearest</th>\n",
       "      <th>ponds_around3000</th>\n",
       "      <th>ponds_nearest</th>\n",
       "      <th>days_exposition</th>\n",
       "    </tr>\n",
       "  </thead>\n",
       "  <tbody>\n",
       "    <tr>\n",
       "      <th>5</th>\n",
       "      <td>10</td>\n",
       "      <td>2890000.0</td>\n",
       "      <td>30.40</td>\n",
       "      <td>2018-09-10T00:00:00</td>\n",
       "      <td>1</td>\n",
       "      <td>2.640258</td>\n",
       "      <td>12.0</td>\n",
       "      <td>14.40</td>\n",
       "      <td>5</td>\n",
       "      <td>False</td>\n",
       "      <td>...</td>\n",
       "      <td>9.10</td>\n",
       "      <td>0.0</td>\n",
       "      <td>городской посёлок Янино-1</td>\n",
       "      <td>NaN</td>\n",
       "      <td>NaN</td>\n",
       "      <td>NaN</td>\n",
       "      <td>NaN</td>\n",
       "      <td>NaN</td>\n",
       "      <td>NaN</td>\n",
       "      <td>55.0</td>\n",
       "    </tr>\n",
       "    <tr>\n",
       "      <th>8</th>\n",
       "      <td>20</td>\n",
       "      <td>2900000.0</td>\n",
       "      <td>33.16</td>\n",
       "      <td>2018-05-23T00:00:00</td>\n",
       "      <td>1</td>\n",
       "      <td>2.675556</td>\n",
       "      <td>27.0</td>\n",
       "      <td>15.43</td>\n",
       "      <td>26</td>\n",
       "      <td>False</td>\n",
       "      <td>...</td>\n",
       "      <td>8.81</td>\n",
       "      <td>0.0</td>\n",
       "      <td>посёлок Мурино</td>\n",
       "      <td>NaN</td>\n",
       "      <td>NaN</td>\n",
       "      <td>NaN</td>\n",
       "      <td>NaN</td>\n",
       "      <td>NaN</td>\n",
       "      <td>NaN</td>\n",
       "      <td>189.0</td>\n",
       "    </tr>\n",
       "    <tr>\n",
       "      <th>12</th>\n",
       "      <td>10</td>\n",
       "      <td>3890000.0</td>\n",
       "      <td>54.00</td>\n",
       "      <td>2016-06-30T00:00:00</td>\n",
       "      <td>2</td>\n",
       "      <td>2.793191</td>\n",
       "      <td>5.0</td>\n",
       "      <td>30.00</td>\n",
       "      <td>5</td>\n",
       "      <td>False</td>\n",
       "      <td>...</td>\n",
       "      <td>9.00</td>\n",
       "      <td>0.0</td>\n",
       "      <td>Сертолово</td>\n",
       "      <td>NaN</td>\n",
       "      <td>NaN</td>\n",
       "      <td>NaN</td>\n",
       "      <td>NaN</td>\n",
       "      <td>NaN</td>\n",
       "      <td>NaN</td>\n",
       "      <td>90.0</td>\n",
       "    </tr>\n",
       "    <tr>\n",
       "      <th>22</th>\n",
       "      <td>20</td>\n",
       "      <td>5000000.0</td>\n",
       "      <td>58.00</td>\n",
       "      <td>2017-04-24T00:00:00</td>\n",
       "      <td>2</td>\n",
       "      <td>2.750000</td>\n",
       "      <td>25.0</td>\n",
       "      <td>30.00</td>\n",
       "      <td>15</td>\n",
       "      <td>False</td>\n",
       "      <td>...</td>\n",
       "      <td>11.00</td>\n",
       "      <td>2.0</td>\n",
       "      <td>деревня Кудрово</td>\n",
       "      <td>NaN</td>\n",
       "      <td>NaN</td>\n",
       "      <td>NaN</td>\n",
       "      <td>NaN</td>\n",
       "      <td>NaN</td>\n",
       "      <td>NaN</td>\n",
       "      <td>60.0</td>\n",
       "    </tr>\n",
       "    <tr>\n",
       "      <th>30</th>\n",
       "      <td>12</td>\n",
       "      <td>2200000.0</td>\n",
       "      <td>32.80</td>\n",
       "      <td>2018-02-19T00:00:00</td>\n",
       "      <td>1</td>\n",
       "      <td>2.599093</td>\n",
       "      <td>9.0</td>\n",
       "      <td>17.60</td>\n",
       "      <td>2</td>\n",
       "      <td>False</td>\n",
       "      <td>...</td>\n",
       "      <td>9.00</td>\n",
       "      <td>0.0</td>\n",
       "      <td>Коммунар</td>\n",
       "      <td>NaN</td>\n",
       "      <td>NaN</td>\n",
       "      <td>NaN</td>\n",
       "      <td>NaN</td>\n",
       "      <td>NaN</td>\n",
       "      <td>NaN</td>\n",
       "      <td>63.0</td>\n",
       "    </tr>\n",
       "  </tbody>\n",
       "</table>\n",
       "<p>5 rows × 22 columns</p>\n",
       "</div>"
      ],
      "text/plain": [
       "    total_images  last_price  total_area first_day_exposition  rooms  \\\n",
       "5             10   2890000.0       30.40  2018-09-10T00:00:00      1   \n",
       "8             20   2900000.0       33.16  2018-05-23T00:00:00      1   \n",
       "12            10   3890000.0       54.00  2016-06-30T00:00:00      2   \n",
       "22            20   5000000.0       58.00  2017-04-24T00:00:00      2   \n",
       "30            12   2200000.0       32.80  2018-02-19T00:00:00      1   \n",
       "\n",
       "    ceiling_height  floors_total  living_area  floor  is_apartment  ...  \\\n",
       "5         2.640258          12.0        14.40      5         False  ...   \n",
       "8         2.675556          27.0        15.43     26         False  ...   \n",
       "12        2.793191           5.0        30.00      5         False  ...   \n",
       "22        2.750000          25.0        30.00     15         False  ...   \n",
       "30        2.599093           9.0        17.60      2         False  ...   \n",
       "\n",
       "    kitchen_area  balcony              locality_name  airports_nearest  \\\n",
       "5           9.10      0.0  городской посёлок Янино-1               NaN   \n",
       "8           8.81      0.0             посёлок Мурино               NaN   \n",
       "12          9.00      0.0                  Сертолово               NaN   \n",
       "22         11.00      2.0            деревня Кудрово               NaN   \n",
       "30          9.00      0.0                   Коммунар               NaN   \n",
       "\n",
       "   cityCenters_nearest  parks_around3000  parks_nearest  ponds_around3000  \\\n",
       "5                  NaN               NaN            NaN               NaN   \n",
       "8                  NaN               NaN            NaN               NaN   \n",
       "12                 NaN               NaN            NaN               NaN   \n",
       "22                 NaN               NaN            NaN               NaN   \n",
       "30                 NaN               NaN            NaN               NaN   \n",
       "\n",
       "    ponds_nearest  days_exposition  \n",
       "5             NaN             55.0  \n",
       "8             NaN            189.0  \n",
       "12            NaN             90.0  \n",
       "22            NaN             60.0  \n",
       "30            NaN             63.0  \n",
       "\n",
       "[5 rows x 22 columns]"
      ]
     },
     "execution_count": 31,
     "metadata": {},
     "output_type": "execute_result"
    }
   ],
   "source": [
    "data[data['airports_nearest'].isna()].head()"
   ]
  },
  {
   "cell_type": "markdown",
   "metadata": {},
   "source": [
    "Видно, что для некоторых квартир не указано расстояние до всех объектов, которые могут повлиять на цену. Для решения этой проблемы стоит запрашивать либо точный адрес объект, либо указание его положения на карте."
   ]
  },
  {
   "cell_type": "markdown",
   "metadata": {
    "id": "DqhblBcZ_cOv"
   },
   "source": [
    "#### Столбец \"расстояние до центра города\""
   ]
  },
  {
   "cell_type": "code",
   "execution_count": 32,
   "metadata": {
    "colab": {
     "base_uri": "https://localhost:8080/"
    },
    "id": "bGm3i5xo_s18",
    "outputId": "39dae846-edfe-4da2-8ff1-88860b0fcaab"
   },
   "outputs": [
    {
     "name": "stdout",
     "output_type": "stream",
     "text": [
      "Пропущено 23.3% значений.\n"
     ]
    }
   ],
   "source": [
    "na_share('cityCenters_nearest')"
   ]
  },
  {
   "cell_type": "markdown",
   "metadata": {
    "id": "Hr2eUqxL_9FQ"
   },
   "source": [
    "Информация о расстоянии до центра понадобится при исследовании квартир в Санкт-Петербурге, посмотрим сколько таких значений пропущено:"
   ]
  },
  {
   "cell_type": "code",
   "execution_count": 33,
   "metadata": {
    "colab": {
     "base_uri": "https://localhost:8080/"
    },
    "id": "wDAPYsSsAINY",
    "outputId": "220d3cee-db5b-4bb0-ad06-95734e03f8b6"
   },
   "outputs": [
    {
     "name": "stdout",
     "output_type": "stream",
     "text": [
      "Пропущено 0.38% значений.\n"
     ]
    }
   ],
   "source": [
    "spb_na_share = len(data.loc[(data['locality_name'] == 'Санкт-Петербург') & (data['cityCenters_nearest'].isna())]) / len(data.loc[data['locality_name'] == 'Санкт-Петербург'])\n",
    "print(f'Пропущено {spb_na_share:.2%} значений.')"
   ]
  },
  {
   "cell_type": "markdown",
   "metadata": {
    "id": "ppyrqtcXDqQj"
   },
   "source": [
    "#### Cтолбец \"число парков в радиусе 3 км\""
   ]
  },
  {
   "cell_type": "code",
   "execution_count": 34,
   "metadata": {
    "colab": {
     "base_uri": "https://localhost:8080/"
    },
    "id": "z6qcD0bgD6BH",
    "outputId": "857d93ad-f103-4ab3-e0ef-962e6b45b30f"
   },
   "outputs": [
    {
     "name": "stdout",
     "output_type": "stream",
     "text": [
      "Пропущено 23.3% значений.\n"
     ]
    }
   ],
   "source": [
    "na_share('parks_around3000')"
   ]
  },
  {
   "cell_type": "markdown",
   "metadata": {
    "id": "WFW1sHD6FahB"
   },
   "source": [
    "#### Столбец \"расстояние до ближайшего парка\""
   ]
  },
  {
   "cell_type": "code",
   "execution_count": 35,
   "metadata": {
    "colab": {
     "base_uri": "https://localhost:8080/"
    },
    "id": "OTtJRke2Fg8R",
    "outputId": "f736032d-666c-4779-ac70-b54d502aa5cb"
   },
   "outputs": [
    {
     "name": "stdout",
     "output_type": "stream",
     "text": [
      "Пропущено 65.9% значений.\n"
     ]
    }
   ],
   "source": [
    "na_share('parks_nearest')"
   ]
  },
  {
   "cell_type": "markdown",
   "metadata": {
    "id": "sVI8WnZUFmE3"
   },
   "source": [
    "#### Столбец \"число водоёмов в радиусе 3 км\""
   ]
  },
  {
   "cell_type": "code",
   "execution_count": 36,
   "metadata": {
    "colab": {
     "base_uri": "https://localhost:8080/"
    },
    "id": "m9gAb3NrF0MT",
    "outputId": "d0068cdb-807e-4f6f-b64d-4b51ccad3295"
   },
   "outputs": [
    {
     "name": "stdout",
     "output_type": "stream",
     "text": [
      "Пропущено 23.3% значений.\n"
     ]
    }
   ],
   "source": [
    "na_share('ponds_around3000')"
   ]
  },
  {
   "cell_type": "markdown",
   "metadata": {
    "id": "n8aT-l1mGl5R"
   },
   "source": [
    "#### Столбец \"расстояние до ближайшего водоёма\""
   ]
  },
  {
   "cell_type": "code",
   "execution_count": 37,
   "metadata": {
    "colab": {
     "base_uri": "https://localhost:8080/"
    },
    "id": "sH4eo_PUGqEn",
    "outputId": "58cb7344-9a5f-4908-e3b0-d645af7ef889"
   },
   "outputs": [
    {
     "name": "stdout",
     "output_type": "stream",
     "text": [
      "Пропущено 61.7% значений.\n"
     ]
    }
   ],
   "source": [
    "na_share('ponds_nearest')"
   ]
  },
  {
   "cell_type": "markdown",
   "metadata": {
    "id": "Upk6LmTMHoj6"
   },
   "source": [
    "#### Столбец \"сколько дней было размещено объявление\""
   ]
  },
  {
   "cell_type": "code",
   "execution_count": 38,
   "metadata": {
    "colab": {
     "base_uri": "https://localhost:8080/"
    },
    "id": "NllTOB4BHykV",
    "outputId": "21286a26-5715-4da1-ee0a-c745ed4cafe8"
   },
   "outputs": [
    {
     "name": "stdout",
     "output_type": "stream",
     "text": [
      "Пропущено 13.5% значений.\n"
     ]
    }
   ],
   "source": [
    "na_share('days_exposition')"
   ]
  },
  {
   "cell_type": "code",
   "execution_count": 39,
   "metadata": {
    "id": "l8GRZiDjI5d3"
   },
   "outputs": [],
   "source": [
    "data.loc[data['days_exposition'].isna(), 'days_exposition'] = data['days_exposition'].median()"
   ]
  },
  {
   "cell_type": "markdown",
   "metadata": {
    "id": "N4AnBiEAIaVM"
   },
   "source": [
    "### Приведение данных к нужным типам"
   ]
  },
  {
   "cell_type": "markdown",
   "metadata": {
    "id": "rIcSTV7iIrrN"
   },
   "source": [
    "Приведем тип данных столбца \"first_day_exposition\" в формат времени:"
   ]
  },
  {
   "cell_type": "code",
   "execution_count": 40,
   "metadata": {
    "colab": {
     "base_uri": "https://localhost:8080/",
     "height": 357
    },
    "id": "yJQrhdblIw7-",
    "outputId": "919459d4-c4e5-4d28-e59f-caba3bce3005"
   },
   "outputs": [
    {
     "data": {
      "text/html": [
       "<div>\n",
       "<style scoped>\n",
       "    .dataframe tbody tr th:only-of-type {\n",
       "        vertical-align: middle;\n",
       "    }\n",
       "\n",
       "    .dataframe tbody tr th {\n",
       "        vertical-align: top;\n",
       "    }\n",
       "\n",
       "    .dataframe thead th {\n",
       "        text-align: right;\n",
       "    }\n",
       "</style>\n",
       "<table border=\"1\" class=\"dataframe\">\n",
       "  <thead>\n",
       "    <tr style=\"text-align: right;\">\n",
       "      <th></th>\n",
       "      <th>total_images</th>\n",
       "      <th>last_price</th>\n",
       "      <th>total_area</th>\n",
       "      <th>first_day_exposition</th>\n",
       "      <th>rooms</th>\n",
       "      <th>ceiling_height</th>\n",
       "      <th>floors_total</th>\n",
       "      <th>living_area</th>\n",
       "      <th>floor</th>\n",
       "      <th>is_apartment</th>\n",
       "      <th>...</th>\n",
       "      <th>kitchen_area</th>\n",
       "      <th>balcony</th>\n",
       "      <th>locality_name</th>\n",
       "      <th>airports_nearest</th>\n",
       "      <th>cityCenters_nearest</th>\n",
       "      <th>parks_around3000</th>\n",
       "      <th>parks_nearest</th>\n",
       "      <th>ponds_around3000</th>\n",
       "      <th>ponds_nearest</th>\n",
       "      <th>days_exposition</th>\n",
       "    </tr>\n",
       "  </thead>\n",
       "  <tbody>\n",
       "    <tr>\n",
       "      <th>0</th>\n",
       "      <td>20</td>\n",
       "      <td>13000000.0</td>\n",
       "      <td>108.0</td>\n",
       "      <td>2019-03-07</td>\n",
       "      <td>3</td>\n",
       "      <td>2.700000</td>\n",
       "      <td>16.0</td>\n",
       "      <td>51.0</td>\n",
       "      <td>8</td>\n",
       "      <td>False</td>\n",
       "      <td>...</td>\n",
       "      <td>25.0</td>\n",
       "      <td>0.0</td>\n",
       "      <td>Санкт-Петербург</td>\n",
       "      <td>18863.0</td>\n",
       "      <td>16028.0</td>\n",
       "      <td>1.0</td>\n",
       "      <td>482.0</td>\n",
       "      <td>2.0</td>\n",
       "      <td>755.0</td>\n",
       "      <td>95.0</td>\n",
       "    </tr>\n",
       "    <tr>\n",
       "      <th>1</th>\n",
       "      <td>7</td>\n",
       "      <td>3350000.0</td>\n",
       "      <td>40.4</td>\n",
       "      <td>2018-12-04</td>\n",
       "      <td>1</td>\n",
       "      <td>2.782385</td>\n",
       "      <td>11.0</td>\n",
       "      <td>18.6</td>\n",
       "      <td>1</td>\n",
       "      <td>False</td>\n",
       "      <td>...</td>\n",
       "      <td>11.0</td>\n",
       "      <td>2.0</td>\n",
       "      <td>посёлок Шушары</td>\n",
       "      <td>12817.0</td>\n",
       "      <td>18603.0</td>\n",
       "      <td>0.0</td>\n",
       "      <td>NaN</td>\n",
       "      <td>0.0</td>\n",
       "      <td>NaN</td>\n",
       "      <td>81.0</td>\n",
       "    </tr>\n",
       "    <tr>\n",
       "      <th>2</th>\n",
       "      <td>10</td>\n",
       "      <td>5196000.0</td>\n",
       "      <td>56.0</td>\n",
       "      <td>2015-08-20</td>\n",
       "      <td>2</td>\n",
       "      <td>2.793191</td>\n",
       "      <td>5.0</td>\n",
       "      <td>34.3</td>\n",
       "      <td>4</td>\n",
       "      <td>False</td>\n",
       "      <td>...</td>\n",
       "      <td>8.3</td>\n",
       "      <td>0.0</td>\n",
       "      <td>Санкт-Петербург</td>\n",
       "      <td>21741.0</td>\n",
       "      <td>13933.0</td>\n",
       "      <td>1.0</td>\n",
       "      <td>90.0</td>\n",
       "      <td>2.0</td>\n",
       "      <td>574.0</td>\n",
       "      <td>558.0</td>\n",
       "    </tr>\n",
       "    <tr>\n",
       "      <th>3</th>\n",
       "      <td>0</td>\n",
       "      <td>64900000.0</td>\n",
       "      <td>159.0</td>\n",
       "      <td>2015-07-24</td>\n",
       "      <td>3</td>\n",
       "      <td>2.731545</td>\n",
       "      <td>14.0</td>\n",
       "      <td>45.0</td>\n",
       "      <td>9</td>\n",
       "      <td>False</td>\n",
       "      <td>...</td>\n",
       "      <td>9.5</td>\n",
       "      <td>0.0</td>\n",
       "      <td>Санкт-Петербург</td>\n",
       "      <td>28098.0</td>\n",
       "      <td>6800.0</td>\n",
       "      <td>2.0</td>\n",
       "      <td>84.0</td>\n",
       "      <td>3.0</td>\n",
       "      <td>234.0</td>\n",
       "      <td>424.0</td>\n",
       "    </tr>\n",
       "    <tr>\n",
       "      <th>4</th>\n",
       "      <td>2</td>\n",
       "      <td>10000000.0</td>\n",
       "      <td>100.0</td>\n",
       "      <td>2018-06-19</td>\n",
       "      <td>2</td>\n",
       "      <td>3.030000</td>\n",
       "      <td>14.0</td>\n",
       "      <td>32.0</td>\n",
       "      <td>13</td>\n",
       "      <td>False</td>\n",
       "      <td>...</td>\n",
       "      <td>41.0</td>\n",
       "      <td>0.0</td>\n",
       "      <td>Санкт-Петербург</td>\n",
       "      <td>31856.0</td>\n",
       "      <td>8098.0</td>\n",
       "      <td>2.0</td>\n",
       "      <td>112.0</td>\n",
       "      <td>1.0</td>\n",
       "      <td>48.0</td>\n",
       "      <td>121.0</td>\n",
       "    </tr>\n",
       "  </tbody>\n",
       "</table>\n",
       "<p>5 rows × 22 columns</p>\n",
       "</div>"
      ],
      "text/plain": [
       "   total_images  last_price  total_area first_day_exposition  rooms  \\\n",
       "0            20  13000000.0       108.0           2019-03-07      3   \n",
       "1             7   3350000.0        40.4           2018-12-04      1   \n",
       "2            10   5196000.0        56.0           2015-08-20      2   \n",
       "3             0  64900000.0       159.0           2015-07-24      3   \n",
       "4             2  10000000.0       100.0           2018-06-19      2   \n",
       "\n",
       "   ceiling_height  floors_total  living_area  floor  is_apartment  ...  \\\n",
       "0        2.700000          16.0         51.0      8         False  ...   \n",
       "1        2.782385          11.0         18.6      1         False  ...   \n",
       "2        2.793191           5.0         34.3      4         False  ...   \n",
       "3        2.731545          14.0         45.0      9         False  ...   \n",
       "4        3.030000          14.0         32.0     13         False  ...   \n",
       "\n",
       "   kitchen_area  balcony    locality_name  airports_nearest  \\\n",
       "0          25.0      0.0  Санкт-Петербург           18863.0   \n",
       "1          11.0      2.0   посёлок Шушары           12817.0   \n",
       "2           8.3      0.0  Санкт-Петербург           21741.0   \n",
       "3           9.5      0.0  Санкт-Петербург           28098.0   \n",
       "4          41.0      0.0  Санкт-Петербург           31856.0   \n",
       "\n",
       "  cityCenters_nearest  parks_around3000  parks_nearest  ponds_around3000  \\\n",
       "0             16028.0               1.0          482.0               2.0   \n",
       "1             18603.0               0.0            NaN               0.0   \n",
       "2             13933.0               1.0           90.0               2.0   \n",
       "3              6800.0               2.0           84.0               3.0   \n",
       "4              8098.0               2.0          112.0               1.0   \n",
       "\n",
       "   ponds_nearest  days_exposition  \n",
       "0          755.0             95.0  \n",
       "1            NaN             81.0  \n",
       "2          574.0            558.0  \n",
       "3          234.0            424.0  \n",
       "4           48.0            121.0  \n",
       "\n",
       "[5 rows x 22 columns]"
      ]
     },
     "execution_count": 40,
     "metadata": {},
     "output_type": "execute_result"
    }
   ],
   "source": [
    "data['first_day_exposition'] = pd.to_datetime(data['first_day_exposition'], format='%Y-%m-%dT%H:%M:%S')\n",
    "data.head()"
   ]
  },
  {
   "cell_type": "code",
   "execution_count": 41,
   "metadata": {
    "colab": {
     "base_uri": "https://localhost:8080/"
    },
    "id": "zgZisqMjI1Lh",
    "outputId": "ab9f8443-c34e-4b25-ba2e-804f4d132d62"
   },
   "outputs": [
    {
     "name": "stdout",
     "output_type": "stream",
     "text": [
      "<class 'pandas.core.frame.DataFrame'>\n",
      "Int64Index: 23565 entries, 0 to 23698\n",
      "Data columns (total 22 columns):\n",
      " #   Column                Non-Null Count  Dtype         \n",
      "---  ------                --------------  -----         \n",
      " 0   total_images          23565 non-null  int64         \n",
      " 1   last_price            23565 non-null  float64       \n",
      " 2   total_area            23565 non-null  float64       \n",
      " 3   first_day_exposition  23565 non-null  datetime64[ns]\n",
      " 4   rooms                 23565 non-null  int64         \n",
      " 5   ceiling_height        23565 non-null  float64       \n",
      " 6   floors_total          23565 non-null  float64       \n",
      " 7   living_area           23565 non-null  float64       \n",
      " 8   floor                 23565 non-null  int64         \n",
      " 9   is_apartment          23565 non-null  bool          \n",
      " 10  studio                23565 non-null  bool          \n",
      " 11  open_plan             23565 non-null  bool          \n",
      " 12  kitchen_area          23565 non-null  float64       \n",
      " 13  balcony               23565 non-null  float64       \n",
      " 14  locality_name         23565 non-null  object        \n",
      " 15  airports_nearest      18041 non-null  float64       \n",
      " 16  cityCenters_nearest   18064 non-null  float64       \n",
      " 17  parks_around3000      18065 non-null  float64       \n",
      " 18  parks_nearest         8030 non-null   float64       \n",
      " 19  ponds_around3000      18065 non-null  float64       \n",
      " 20  ponds_nearest         9036 non-null   float64       \n",
      " 21  days_exposition       23565 non-null  float64       \n",
      "dtypes: bool(3), datetime64[ns](1), float64(14), int64(3), object(1)\n",
      "memory usage: 3.7+ MB\n"
     ]
    }
   ],
   "source": [
    "data.info()"
   ]
  },
  {
   "cell_type": "markdown",
   "metadata": {
    "id": "eycGqGmVI9O2"
   },
   "source": [
    "Формат столбца \"first_day_exposition\" был сконвертирован в datetime. В исходных данных количество часов, минут и секунд во всех строках равнялось 0, после конвертации мы видим только дату. Большего и не нужно."
   ]
  },
  {
   "cell_type": "markdown",
   "metadata": {
    "id": "VRes_XXbd1N0"
   },
   "source": [
    "### Вывод"
   ]
  },
  {
   "cell_type": "markdown",
   "metadata": {
    "id": "5mMWqoj-d6au"
   },
   "source": [
    "**1. Пропущенные значения**\n",
    "<br>\n",
    "    **Высота потолков:** было пропущено 38,8% значений. Все пропущенные значения обработаны: была проведена замена на медиану. \n",
    "<br>\n",
    "    **Число этажей в доме:** пропущено 0,4% значений. Этот параметр будет использоваться в дальнейшем анализе, при этом заменить пропущенные значения не представляется возможным, поэтому все строки с пропущенными значениями удалены. В дальнейшем таких пропусков можно избежать с помощью автоматического заполнение на основе точного адреса.\n",
    "<br>\n",
    "    **Жилая площадь:** пропущено 7,9% значений. Была произведена замена на медианную площадь для квартир с разным количеством комнат.\n",
    "<br>\n",
    "    **Апартаменты:** пропущено 88,2% значений. Пропуски были заменены на False. Следует сделать указание этого параметра обязательным для избежания пропусков.\n",
    "<br>\n",
    "    **Площадь кухни в квадратных метрах:** пропущено 9,4% значений. Для квартиры типа «студия» пропуск заменили на 0, далее выявили умеренную корреляцию между общей площадью квартиры и заменили пропуски на медиану в зависимости от количества комнат.\n",
    "<br>\n",
    "    **Число балконов:** пропущено 48,6% значений. Предположим, что пропуск свидетельствует о том, что число балконов равно нулю.\n",
    "<br>\n",
    "    **Название населенного пункта:** пропущено 0,2% значений. Все строки с пропущенными значениями удалены, так как этот признак будет использоваться в дальнейшем анализе. Необходимо сделать обязательным указание этого признака.\n",
    "<br>\n",
    "    **Расстояние до центра города:** пропущено 23,3% значений. При этом из всех квартир Санкт-Петербурга отсутствует информация по расстоянию до центра для 0,4% квартир.\n",
    "<br>\n",
    "    **Расстояние до ближайшего аэропорта, число парков в радиусе 3 км, расстояние до ближайшего парка, число водоемов в радиусе 3 км, расстояние до ближайшего водоема:** пропущенные значения в этих признаках оставим без изменений, так как они не будут использованы в исследовании.\n",
    "<br>\n",
    "    **Длительность размещения объявления:** пропущено 13,5% значений. Все пропущенные значения были заменены на медиану.\n",
    "\n",
    "\n",
    "**2. Замена типа данных**\n",
    "<br>\n",
    "Тип признака Время публикации объявления был заменен со строчного на временной."
   ]
  },
  {
   "cell_type": "markdown",
   "metadata": {
    "id": "MIkmDCZxJrFn"
   },
   "source": [
    "## Посчитать и добавить в таблицу\n"
   ]
  },
  {
   "cell_type": "markdown",
   "metadata": {
    "id": "k1OwLPYWKGzs"
   },
   "source": [
    "Цена квадратного метра:"
   ]
  },
  {
   "cell_type": "code",
   "execution_count": 42,
   "metadata": {
    "id": "Yk4CsRmSKfPO"
   },
   "outputs": [],
   "source": [
    "data['price_of_sqm'] = round(data['last_price'] / data['total_area'], 1)"
   ]
  },
  {
   "cell_type": "markdown",
   "metadata": {
    "id": "fUv2US1CKrzX"
   },
   "source": [
    "День недели, месяц и год публикации объявления:"
   ]
  },
  {
   "cell_type": "code",
   "execution_count": 43,
   "metadata": {
    "id": "qG_GvCIyKw4B"
   },
   "outputs": [],
   "source": [
    "data['weekday'] = data['first_day_exposition'].dt.weekday\n",
    "data['month'] = data['first_day_exposition'].dt.month\n",
    "data['year'] = data['first_day_exposition'].dt.year"
   ]
  },
  {
   "cell_type": "markdown",
   "metadata": {
    "id": "ZElJVaEVLJE1"
   },
   "source": [
    "Этаж квартиры; варианты — первый, последний, другой:"
   ]
  },
  {
   "cell_type": "code",
   "execution_count": 44,
   "metadata": {
    "id": "7jyJTP2bLTYD"
   },
   "outputs": [],
   "source": [
    "data.loc[data['floor'] == 1, 'floor_category'] = 'первый'\n",
    "data.loc[data['floor'] == data['floors_total'], 'floor_category'] = 'последний'\n",
    "data.loc[data['floor_category'].isna(), 'floor_category'] = 'другой'"
   ]
  },
  {
   "cell_type": "markdown",
   "metadata": {
    "id": "1E_yc0qkLqDQ"
   },
   "source": [
    "Соотношение жилой и общей площади, а также отношение площади кухни к общей:"
   ]
  },
  {
   "cell_type": "code",
   "execution_count": 45,
   "metadata": {
    "id": "n1_rSKX7LtTb"
   },
   "outputs": [],
   "source": [
    "data['living_area_ratio'] = round(data['living_area'] / data['total_area'], 4)\n",
    "data['kitchen_area_ratio'] = round(data['kitchen_area'] / data['total_area'], 4)"
   ]
  },
  {
   "cell_type": "code",
   "execution_count": 46,
   "metadata": {
    "colab": {
     "base_uri": "https://localhost:8080/",
     "height": 357
    },
    "id": "nT88Tg_0MQqy",
    "outputId": "c2869d82-1deb-488c-c386-d84731d92875"
   },
   "outputs": [
    {
     "data": {
      "text/html": [
       "<div>\n",
       "<style scoped>\n",
       "    .dataframe tbody tr th:only-of-type {\n",
       "        vertical-align: middle;\n",
       "    }\n",
       "\n",
       "    .dataframe tbody tr th {\n",
       "        vertical-align: top;\n",
       "    }\n",
       "\n",
       "    .dataframe thead th {\n",
       "        text-align: right;\n",
       "    }\n",
       "</style>\n",
       "<table border=\"1\" class=\"dataframe\">\n",
       "  <thead>\n",
       "    <tr style=\"text-align: right;\">\n",
       "      <th></th>\n",
       "      <th>total_images</th>\n",
       "      <th>last_price</th>\n",
       "      <th>total_area</th>\n",
       "      <th>first_day_exposition</th>\n",
       "      <th>rooms</th>\n",
       "      <th>ceiling_height</th>\n",
       "      <th>floors_total</th>\n",
       "      <th>living_area</th>\n",
       "      <th>floor</th>\n",
       "      <th>is_apartment</th>\n",
       "      <th>...</th>\n",
       "      <th>ponds_around3000</th>\n",
       "      <th>ponds_nearest</th>\n",
       "      <th>days_exposition</th>\n",
       "      <th>price_of_sqm</th>\n",
       "      <th>weekday</th>\n",
       "      <th>month</th>\n",
       "      <th>year</th>\n",
       "      <th>floor_category</th>\n",
       "      <th>living_area_ratio</th>\n",
       "      <th>kitchen_area_ratio</th>\n",
       "    </tr>\n",
       "  </thead>\n",
       "  <tbody>\n",
       "    <tr>\n",
       "      <th>0</th>\n",
       "      <td>20</td>\n",
       "      <td>13000000.0</td>\n",
       "      <td>108.0</td>\n",
       "      <td>2019-03-07</td>\n",
       "      <td>3</td>\n",
       "      <td>2.700000</td>\n",
       "      <td>16.0</td>\n",
       "      <td>51.0</td>\n",
       "      <td>8</td>\n",
       "      <td>False</td>\n",
       "      <td>...</td>\n",
       "      <td>2.0</td>\n",
       "      <td>755.0</td>\n",
       "      <td>95.0</td>\n",
       "      <td>120370.4</td>\n",
       "      <td>3</td>\n",
       "      <td>3</td>\n",
       "      <td>2019</td>\n",
       "      <td>другой</td>\n",
       "      <td>0.4722</td>\n",
       "      <td>0.2315</td>\n",
       "    </tr>\n",
       "    <tr>\n",
       "      <th>1</th>\n",
       "      <td>7</td>\n",
       "      <td>3350000.0</td>\n",
       "      <td>40.4</td>\n",
       "      <td>2018-12-04</td>\n",
       "      <td>1</td>\n",
       "      <td>2.782385</td>\n",
       "      <td>11.0</td>\n",
       "      <td>18.6</td>\n",
       "      <td>1</td>\n",
       "      <td>False</td>\n",
       "      <td>...</td>\n",
       "      <td>0.0</td>\n",
       "      <td>NaN</td>\n",
       "      <td>81.0</td>\n",
       "      <td>82920.8</td>\n",
       "      <td>1</td>\n",
       "      <td>12</td>\n",
       "      <td>2018</td>\n",
       "      <td>первый</td>\n",
       "      <td>0.4604</td>\n",
       "      <td>0.2723</td>\n",
       "    </tr>\n",
       "    <tr>\n",
       "      <th>2</th>\n",
       "      <td>10</td>\n",
       "      <td>5196000.0</td>\n",
       "      <td>56.0</td>\n",
       "      <td>2015-08-20</td>\n",
       "      <td>2</td>\n",
       "      <td>2.793191</td>\n",
       "      <td>5.0</td>\n",
       "      <td>34.3</td>\n",
       "      <td>4</td>\n",
       "      <td>False</td>\n",
       "      <td>...</td>\n",
       "      <td>2.0</td>\n",
       "      <td>574.0</td>\n",
       "      <td>558.0</td>\n",
       "      <td>92785.7</td>\n",
       "      <td>3</td>\n",
       "      <td>8</td>\n",
       "      <td>2015</td>\n",
       "      <td>другой</td>\n",
       "      <td>0.6125</td>\n",
       "      <td>0.1482</td>\n",
       "    </tr>\n",
       "    <tr>\n",
       "      <th>3</th>\n",
       "      <td>0</td>\n",
       "      <td>64900000.0</td>\n",
       "      <td>159.0</td>\n",
       "      <td>2015-07-24</td>\n",
       "      <td>3</td>\n",
       "      <td>2.731545</td>\n",
       "      <td>14.0</td>\n",
       "      <td>45.0</td>\n",
       "      <td>9</td>\n",
       "      <td>False</td>\n",
       "      <td>...</td>\n",
       "      <td>3.0</td>\n",
       "      <td>234.0</td>\n",
       "      <td>424.0</td>\n",
       "      <td>408176.1</td>\n",
       "      <td>4</td>\n",
       "      <td>7</td>\n",
       "      <td>2015</td>\n",
       "      <td>другой</td>\n",
       "      <td>0.2830</td>\n",
       "      <td>0.0597</td>\n",
       "    </tr>\n",
       "    <tr>\n",
       "      <th>4</th>\n",
       "      <td>2</td>\n",
       "      <td>10000000.0</td>\n",
       "      <td>100.0</td>\n",
       "      <td>2018-06-19</td>\n",
       "      <td>2</td>\n",
       "      <td>3.030000</td>\n",
       "      <td>14.0</td>\n",
       "      <td>32.0</td>\n",
       "      <td>13</td>\n",
       "      <td>False</td>\n",
       "      <td>...</td>\n",
       "      <td>1.0</td>\n",
       "      <td>48.0</td>\n",
       "      <td>121.0</td>\n",
       "      <td>100000.0</td>\n",
       "      <td>1</td>\n",
       "      <td>6</td>\n",
       "      <td>2018</td>\n",
       "      <td>другой</td>\n",
       "      <td>0.3200</td>\n",
       "      <td>0.4100</td>\n",
       "    </tr>\n",
       "  </tbody>\n",
       "</table>\n",
       "<p>5 rows × 29 columns</p>\n",
       "</div>"
      ],
      "text/plain": [
       "   total_images  last_price  total_area first_day_exposition  rooms  \\\n",
       "0            20  13000000.0       108.0           2019-03-07      3   \n",
       "1             7   3350000.0        40.4           2018-12-04      1   \n",
       "2            10   5196000.0        56.0           2015-08-20      2   \n",
       "3             0  64900000.0       159.0           2015-07-24      3   \n",
       "4             2  10000000.0       100.0           2018-06-19      2   \n",
       "\n",
       "   ceiling_height  floors_total  living_area  floor  is_apartment  ...  \\\n",
       "0        2.700000          16.0         51.0      8         False  ...   \n",
       "1        2.782385          11.0         18.6      1         False  ...   \n",
       "2        2.793191           5.0         34.3      4         False  ...   \n",
       "3        2.731545          14.0         45.0      9         False  ...   \n",
       "4        3.030000          14.0         32.0     13         False  ...   \n",
       "\n",
       "   ponds_around3000  ponds_nearest  days_exposition  price_of_sqm weekday  \\\n",
       "0               2.0          755.0             95.0      120370.4       3   \n",
       "1               0.0            NaN             81.0       82920.8       1   \n",
       "2               2.0          574.0            558.0       92785.7       3   \n",
       "3               3.0          234.0            424.0      408176.1       4   \n",
       "4               1.0           48.0            121.0      100000.0       1   \n",
       "\n",
       "   month  year  floor_category  living_area_ratio  kitchen_area_ratio  \n",
       "0      3  2019          другой             0.4722              0.2315  \n",
       "1     12  2018          первый             0.4604              0.2723  \n",
       "2      8  2015          другой             0.6125              0.1482  \n",
       "3      7  2015          другой             0.2830              0.0597  \n",
       "4      6  2018          другой             0.3200              0.4100  \n",
       "\n",
       "[5 rows x 29 columns]"
      ]
     },
     "execution_count": 46,
     "metadata": {},
     "output_type": "execute_result"
    }
   ],
   "source": [
    "data.head()"
   ]
  },
  {
   "cell_type": "markdown",
   "metadata": {
    "id": "Imr9h0y1cIlX"
   },
   "source": [
    "## Провести исследовательский анализ данных"
   ]
  },
  {
   "cell_type": "markdown",
   "metadata": {
    "id": "IWKZMHd2cUMI"
   },
   "source": [
    "Прежде чем приступить к исследованию данных стоит избавиться от явных аномалий в виде выбросов:"
   ]
  },
  {
   "cell_type": "code",
   "execution_count": 47,
   "metadata": {
    "id": "maq8OL96Rt47"
   },
   "outputs": [],
   "source": [
    "#функция примет на вход столбец таблицы и вернет границы \"усов\"\n",
    "def whiskers(column):\n",
    "  #объявим переменную с описательными статистиками\n",
    "  column_described = data[column].describe()\n",
    "  #объявим переменную с межквартильным размахом\n",
    "  iqr = column_described[6] - column_described[4]\n",
    "  #обозначим левый и правый ус и ограничим их минимальным и максимальным значением\n",
    "  whisker_left = column_described[4] - 1.5 * iqr\n",
    "  whisker_right = column_described[6] + 1.5 * iqr\n",
    "  if whisker_left < column_described[3]:\n",
    "    whisker_left = column_described[3]\n",
    "  if whisker_right > column_described[7]:\n",
    "    whisker_right = column_described[7]\n",
    "\n",
    "  return [whisker_left, whisker_right]"
   ]
  },
  {
   "cell_type": "markdown",
   "metadata": {},
   "source": [
    "### Изучение параметров: площади, цены, числа комнат, высоты потолков, срока продажи квартиры"
   ]
  },
  {
   "cell_type": "markdown",
   "metadata": {
    "id": "Gpt_Jn07SxK-"
   },
   "source": [
    "#### Площадь"
   ]
  },
  {
   "cell_type": "code",
   "execution_count": 48,
   "metadata": {
    "colab": {
     "base_uri": "https://localhost:8080/"
    },
    "id": "QwyCzZDrS0N1",
    "outputId": "5cbd391e-1dd4-4678-b2ad-ea676d216fd9"
   },
   "outputs": [
    {
     "data": {
      "text/plain": [
       "[12.0, 114.25]"
      ]
     },
     "execution_count": 48,
     "metadata": {},
     "output_type": "execute_result"
    }
   ],
   "source": [
    "whiskers('total_area')"
   ]
  },
  {
   "cell_type": "code",
   "execution_count": 49,
   "metadata": {
    "colab": {
     "base_uri": "https://localhost:8080/"
    },
    "id": "54KZlLYXTDuE",
    "outputId": "1cc381bc-d01e-4429-dffb-4a9106bbac47",
    "scrolled": true
   },
   "outputs": [
    {
     "data": {
      "text/plain": [
       "count    23565.000000\n",
       "mean        60.322824\n",
       "std         35.657060\n",
       "min         12.000000\n",
       "25%         40.000000\n",
       "50%         52.000000\n",
       "75%         69.700000\n",
       "max        900.000000\n",
       "Name: total_area, dtype: float64"
      ]
     },
     "execution_count": 49,
     "metadata": {},
     "output_type": "execute_result"
    }
   ],
   "source": [
    "data['total_area'].describe()"
   ]
  },
  {
   "cell_type": "code",
   "execution_count": 50,
   "metadata": {
    "scrolled": false
   },
   "outputs": [
    {
     "data": {
      "text/plain": [
       "<AxesSubplot:>"
      ]
     },
     "execution_count": 50,
     "metadata": {},
     "output_type": "execute_result"
    },
    {
     "data": {
      "image/png": "[encoded data removed]",
      "text/plain": [
       "<Figure size 432x288 with 1 Axes>"
      ]
     },
     "metadata": {
      "needs_background": "light"
     },
     "output_type": "display_data"
    }
   ],
   "source": [
    "data.boxplot(column='total_area')"
   ]
  },
  {
   "cell_type": "code",
   "execution_count": 51,
   "metadata": {
    "colab": {
     "base_uri": "https://localhost:8080/",
     "height": 283
    },
    "id": "CK7ITEV0TPwf",
    "outputId": "44a829bd-cc41-493a-8f0a-996dc8dc6c5d",
    "scrolled": true
   },
   "outputs": [
    {
     "data": {
      "text/plain": [
       "<AxesSubplot:>"
      ]
     },
     "execution_count": 51,
     "metadata": {},
     "output_type": "execute_result"
    },
    {
     "data": {
      "image/png": "[encoded data removed]",
      "text/plain": [
       "<Figure size 432x288 with 1 Axes>"
      ]
     },
     "metadata": {
      "needs_background": "light"
     },
     "output_type": "display_data"
    }
   ],
   "source": [
    "data['total_area'].hist(range=(0, 130))"
   ]
  },
  {
   "cell_type": "code",
   "execution_count": 52,
   "metadata": {
    "scrolled": true
   },
   "outputs": [
    {
     "data": {
      "text/plain": [
       "<AxesSubplot:xlabel='total_area', ylabel='total_area'>"
      ]
     },
     "execution_count": 52,
     "metadata": {},
     "output_type": "execute_result"
    },
    {
     "data": {
      "image/png": "[encoded data removed]",
      "text/plain": [
       "<Figure size 432x288 with 1 Axes>"
      ]
     },
     "metadata": {
      "needs_background": "light"
     },
     "output_type": "display_data"
    }
   ],
   "source": [
    "data.plot(kind = 'scatter', x = 'total_area', y = 'total_area', alpha=0.01, xlim=(150, 600), ylim=(150, 600))"
   ]
  },
  {
   "cell_type": "markdown",
   "metadata": {},
   "source": [
    "Даже экстремально большие метражи квартир выглядят на визуализации относительно цельной линией без явных перерывов, в отличие от визуализации распределения высоты потолков, что будет видно ниже. Такие данные пока невозможно привести в порядок."
   ]
  },
  {
   "cell_type": "code",
   "execution_count": 53,
   "metadata": {
    "colab": {
     "base_uri": "https://localhost:8080/"
    },
    "id": "K2eCTSyFcySc",
    "outputId": "3a5ab767-3183-4d92-8830-5ad36266814e",
    "scrolled": true
   },
   "outputs": [
    {
     "name": "stdout",
     "output_type": "stream",
     "text": [
      "Аномальные значения составляют 5.26% от всей выборки\n"
     ]
    }
   ],
   "source": [
    "#функция возвращает процент аномальных значений\n",
    "def anomaly_ratio(column):\n",
    "  return(print(f'Аномальные значения составляют {len(data.loc[data[column] > whiskers(column)[1]]) / len(data):.2%} от всей выборки'))\n",
    "  \n",
    "anomaly_ratio('total_area')"
   ]
  },
  {
   "cell_type": "code",
   "execution_count": 54,
   "metadata": {
    "id": "5FvldK2PAAzW"
   },
   "outputs": [],
   "source": [
    "data['too_large_total_area'] = data['total_area'] > whiskers('total_area')[1]"
   ]
  },
  {
   "cell_type": "markdown",
   "metadata": {
    "id": "ke57k6_sAaSP"
   },
   "source": [
    "#### Цена"
   ]
  },
  {
   "cell_type": "code",
   "execution_count": 55,
   "metadata": {
    "colab": {
     "base_uri": "https://localhost:8080/"
    },
    "id": "WwMiHlwOo78U",
    "outputId": "adca3dc7-0971-4983-f164-7b2a65821498"
   },
   "outputs": [
    {
     "data": {
      "text/plain": [
       "[12190.0, 11875000.0]"
      ]
     },
     "execution_count": 55,
     "metadata": {},
     "output_type": "execute_result"
    }
   ],
   "source": [
    "whiskers('last_price')"
   ]
  },
  {
   "cell_type": "code",
   "execution_count": 56,
   "metadata": {
    "colab": {
     "base_uri": "https://localhost:8080/"
    },
    "id": "s1JFfHGwAwhE",
    "outputId": "97e39f2b-aba6-4f76-b0c6-f43d05692ccf",
    "scrolled": true
   },
   "outputs": [
    {
     "data": {
      "text/plain": [
       "count    2.356500e+04\n",
       "mean     6.540058e+06\n",
       "std      1.091093e+07\n",
       "min      1.219000e+04\n",
       "25%      3.400000e+06\n",
       "50%      4.646000e+06\n",
       "75%      6.790000e+06\n",
       "max      7.630000e+08\n",
       "Name: last_price, dtype: float64"
      ]
     },
     "execution_count": 56,
     "metadata": {},
     "output_type": "execute_result"
    }
   ],
   "source": [
    "data['last_price'].describe()"
   ]
  },
  {
   "cell_type": "markdown",
   "metadata": {},
   "source": [
    "Минимальная цена продажи квартиры 12190 руб! Осортируем цены по возрастанию и посмотрим как выглядит хвост:"
   ]
  },
  {
   "cell_type": "code",
   "execution_count": 57,
   "metadata": {
    "scrolled": false
   },
   "outputs": [
    {
     "data": {
      "text/html": [
       "<div>\n",
       "<style scoped>\n",
       "    .dataframe tbody tr th:only-of-type {\n",
       "        vertical-align: middle;\n",
       "    }\n",
       "\n",
       "    .dataframe tbody tr th {\n",
       "        vertical-align: top;\n",
       "    }\n",
       "\n",
       "    .dataframe thead th {\n",
       "        text-align: right;\n",
       "    }\n",
       "</style>\n",
       "<table border=\"1\" class=\"dataframe\">\n",
       "  <thead>\n",
       "    <tr style=\"text-align: right;\">\n",
       "      <th></th>\n",
       "      <th>total_images</th>\n",
       "      <th>last_price</th>\n",
       "      <th>total_area</th>\n",
       "      <th>first_day_exposition</th>\n",
       "      <th>rooms</th>\n",
       "      <th>ceiling_height</th>\n",
       "      <th>floors_total</th>\n",
       "      <th>living_area</th>\n",
       "      <th>floor</th>\n",
       "      <th>is_apartment</th>\n",
       "      <th>...</th>\n",
       "      <th>ponds_nearest</th>\n",
       "      <th>days_exposition</th>\n",
       "      <th>price_of_sqm</th>\n",
       "      <th>weekday</th>\n",
       "      <th>month</th>\n",
       "      <th>year</th>\n",
       "      <th>floor_category</th>\n",
       "      <th>living_area_ratio</th>\n",
       "      <th>kitchen_area_ratio</th>\n",
       "      <th>too_large_total_area</th>\n",
       "    </tr>\n",
       "  </thead>\n",
       "  <tbody>\n",
       "    <tr>\n",
       "      <th>8793</th>\n",
       "      <td>7</td>\n",
       "      <td>12190.0</td>\n",
       "      <td>109.0</td>\n",
       "      <td>2019-03-20</td>\n",
       "      <td>2</td>\n",
       "      <td>2.750000</td>\n",
       "      <td>25.0</td>\n",
       "      <td>32.0</td>\n",
       "      <td>25</td>\n",
       "      <td>False</td>\n",
       "      <td>...</td>\n",
       "      <td>NaN</td>\n",
       "      <td>8.0</td>\n",
       "      <td>111.8</td>\n",
       "      <td>2</td>\n",
       "      <td>3</td>\n",
       "      <td>2019</td>\n",
       "      <td>последний</td>\n",
       "      <td>0.2936</td>\n",
       "      <td>0.3716</td>\n",
       "      <td>False</td>\n",
       "    </tr>\n",
       "    <tr>\n",
       "      <th>17456</th>\n",
       "      <td>7</td>\n",
       "      <td>430000.0</td>\n",
       "      <td>30.4</td>\n",
       "      <td>2019-04-22</td>\n",
       "      <td>1</td>\n",
       "      <td>3.006791</td>\n",
       "      <td>2.0</td>\n",
       "      <td>16.0</td>\n",
       "      <td>1</td>\n",
       "      <td>False</td>\n",
       "      <td>...</td>\n",
       "      <td>NaN</td>\n",
       "      <td>95.0</td>\n",
       "      <td>14144.7</td>\n",
       "      <td>0</td>\n",
       "      <td>4</td>\n",
       "      <td>2019</td>\n",
       "      <td>первый</td>\n",
       "      <td>0.5263</td>\n",
       "      <td>0.1974</td>\n",
       "      <td>False</td>\n",
       "    </tr>\n",
       "    <tr>\n",
       "      <th>14911</th>\n",
       "      <td>5</td>\n",
       "      <td>430000.0</td>\n",
       "      <td>54.0</td>\n",
       "      <td>2018-06-26</td>\n",
       "      <td>2</td>\n",
       "      <td>2.969474</td>\n",
       "      <td>3.0</td>\n",
       "      <td>30.5</td>\n",
       "      <td>3</td>\n",
       "      <td>False</td>\n",
       "      <td>...</td>\n",
       "      <td>NaN</td>\n",
       "      <td>44.0</td>\n",
       "      <td>7963.0</td>\n",
       "      <td>1</td>\n",
       "      <td>6</td>\n",
       "      <td>2018</td>\n",
       "      <td>последний</td>\n",
       "      <td>0.5648</td>\n",
       "      <td>0.1611</td>\n",
       "      <td>False</td>\n",
       "    </tr>\n",
       "    <tr>\n",
       "      <th>16274</th>\n",
       "      <td>18</td>\n",
       "      <td>440000.0</td>\n",
       "      <td>40.0</td>\n",
       "      <td>2018-07-10</td>\n",
       "      <td>1</td>\n",
       "      <td>2.793191</td>\n",
       "      <td>5.0</td>\n",
       "      <td>17.6</td>\n",
       "      <td>1</td>\n",
       "      <td>False</td>\n",
       "      <td>...</td>\n",
       "      <td>NaN</td>\n",
       "      <td>45.0</td>\n",
       "      <td>11000.0</td>\n",
       "      <td>1</td>\n",
       "      <td>7</td>\n",
       "      <td>2018</td>\n",
       "      <td>первый</td>\n",
       "      <td>0.4400</td>\n",
       "      <td>0.2250</td>\n",
       "      <td>False</td>\n",
       "    </tr>\n",
       "    <tr>\n",
       "      <th>9581</th>\n",
       "      <td>7</td>\n",
       "      <td>450000.0</td>\n",
       "      <td>43.4</td>\n",
       "      <td>2018-08-31</td>\n",
       "      <td>2</td>\n",
       "      <td>2.793191</td>\n",
       "      <td>5.0</td>\n",
       "      <td>30.3</td>\n",
       "      <td>3</td>\n",
       "      <td>False</td>\n",
       "      <td>...</td>\n",
       "      <td>NaN</td>\n",
       "      <td>96.0</td>\n",
       "      <td>10368.7</td>\n",
       "      <td>4</td>\n",
       "      <td>8</td>\n",
       "      <td>2018</td>\n",
       "      <td>другой</td>\n",
       "      <td>0.6982</td>\n",
       "      <td>0.1267</td>\n",
       "      <td>False</td>\n",
       "    </tr>\n",
       "  </tbody>\n",
       "</table>\n",
       "<p>5 rows × 30 columns</p>\n",
       "</div>"
      ],
      "text/plain": [
       "       total_images  last_price  total_area first_day_exposition  rooms  \\\n",
       "8793              7     12190.0       109.0           2019-03-20      2   \n",
       "17456             7    430000.0        30.4           2019-04-22      1   \n",
       "14911             5    430000.0        54.0           2018-06-26      2   \n",
       "16274            18    440000.0        40.0           2018-07-10      1   \n",
       "9581              7    450000.0        43.4           2018-08-31      2   \n",
       "\n",
       "       ceiling_height  floors_total  living_area  floor  is_apartment  ...  \\\n",
       "8793         2.750000          25.0         32.0     25         False  ...   \n",
       "17456        3.006791           2.0         16.0      1         False  ...   \n",
       "14911        2.969474           3.0         30.5      3         False  ...   \n",
       "16274        2.793191           5.0         17.6      1         False  ...   \n",
       "9581         2.793191           5.0         30.3      3         False  ...   \n",
       "\n",
       "       ponds_nearest  days_exposition  price_of_sqm  weekday month  year  \\\n",
       "8793             NaN              8.0         111.8        2     3  2019   \n",
       "17456            NaN             95.0       14144.7        0     4  2019   \n",
       "14911            NaN             44.0        7963.0        1     6  2018   \n",
       "16274            NaN             45.0       11000.0        1     7  2018   \n",
       "9581             NaN             96.0       10368.7        4     8  2018   \n",
       "\n",
       "       floor_category  living_area_ratio  kitchen_area_ratio  \\\n",
       "8793        последний             0.2936              0.3716   \n",
       "17456          первый             0.5263              0.1974   \n",
       "14911       последний             0.5648              0.1611   \n",
       "16274          первый             0.4400              0.2250   \n",
       "9581           другой             0.6982              0.1267   \n",
       "\n",
       "       too_large_total_area  \n",
       "8793                  False  \n",
       "17456                 False  \n",
       "14911                 False  \n",
       "16274                 False  \n",
       "9581                  False  \n",
       "\n",
       "[5 rows x 30 columns]"
      ]
     },
     "execution_count": 57,
     "metadata": {},
     "output_type": "execute_result"
    }
   ],
   "source": [
    "data.sort_values(by='last_price').head()"
   ]
  },
  {
   "cell_type": "code",
   "execution_count": 58,
   "metadata": {
    "colab": {
     "base_uri": "https://localhost:8080/",
     "height": 296
    },
    "id": "JkVW_PHbAnGK",
    "outputId": "461f5916-77c0-429e-b774-566324a86688"
   },
   "outputs": [
    {
     "data": {
      "text/plain": [
       "<AxesSubplot:>"
      ]
     },
     "execution_count": 58,
     "metadata": {},
     "output_type": "execute_result"
    },
    {
     "data": {
      "image/png": "[encoded data removed]",
      "text/plain": [
       "<Figure size 432x288 with 1 Axes>"
      ]
     },
     "metadata": {
      "needs_background": "light"
     },
     "output_type": "display_data"
    }
   ],
   "source": [
    "data['last_price'].hist(range=(10000, 12000000))"
   ]
  },
  {
   "cell_type": "code",
   "execution_count": 59,
   "metadata": {
    "colab": {
     "base_uri": "https://localhost:8080/"
    },
    "id": "Kk3HokvvBCFV",
    "outputId": "6e52fac0-0e01-4fcb-dc16-af1e1c1cf988"
   },
   "outputs": [
    {
     "name": "stdout",
     "output_type": "stream",
     "text": [
      "Аномальные значения составляют 8.68% от всей выборки\n"
     ]
    }
   ],
   "source": [
    "anomaly_ratio('last_price')"
   ]
  },
  {
   "cell_type": "markdown",
   "metadata": {
    "id": "KDG6lImXBeLa"
   },
   "source": [
    "#### Число комнат"
   ]
  },
  {
   "cell_type": "code",
   "execution_count": 60,
   "metadata": {
    "colab": {
     "base_uri": "https://localhost:8080/"
    },
    "id": "RrfVg6H6Bk48",
    "outputId": "a1cc8f96-b1b3-4fac-bfea-22019246114e"
   },
   "outputs": [
    {
     "data": {
      "text/plain": [
       "[0.0, 6.0]"
      ]
     },
     "execution_count": 60,
     "metadata": {},
     "output_type": "execute_result"
    }
   ],
   "source": [
    "whiskers('rooms')"
   ]
  },
  {
   "cell_type": "code",
   "execution_count": 61,
   "metadata": {
    "colab": {
     "base_uri": "https://localhost:8080/"
    },
    "id": "ec4O7jYaCBHz",
    "outputId": "68fefd12-76fc-4204-d411-9208e91c1865"
   },
   "outputs": [
    {
     "data": {
      "text/plain": [
       "count    23565.000000\n",
       "mean         2.070656\n",
       "std          1.078591\n",
       "min          0.000000\n",
       "25%          1.000000\n",
       "50%          2.000000\n",
       "75%          3.000000\n",
       "max         19.000000\n",
       "Name: rooms, dtype: float64"
      ]
     },
     "execution_count": 61,
     "metadata": {},
     "output_type": "execute_result"
    }
   ],
   "source": [
    "data['rooms'].describe()"
   ]
  },
  {
   "cell_type": "code",
   "execution_count": 62,
   "metadata": {
    "colab": {
     "base_uri": "https://localhost:8080/",
     "height": 283
    },
    "id": "b-n2yQhRCEOL",
    "outputId": "022a0d98-0744-4e31-b949-e28692912343"
   },
   "outputs": [
    {
     "data": {
      "text/plain": [
       "<AxesSubplot:>"
      ]
     },
     "execution_count": 62,
     "metadata": {},
     "output_type": "execute_result"
    },
    {
     "data": {
      "image/png": "[encoded data removed]",
      "text/plain": [
       "<Figure size 432x288 with 1 Axes>"
      ]
     },
     "metadata": {
      "needs_background": "light"
     },
     "output_type": "display_data"
    }
   ],
   "source": [
    "data['rooms'].hist(range=(0, 10))"
   ]
  },
  {
   "cell_type": "code",
   "execution_count": 63,
   "metadata": {
    "colab": {
     "base_uri": "https://localhost:8080/"
    },
    "id": "3Bei2kzLCsc0",
    "outputId": "17a8d1f0-fd72-4140-d56b-897ae5bbc460"
   },
   "outputs": [
    {
     "name": "stdout",
     "output_type": "stream",
     "text": [
      "Аномальные значения составляют 0.38% от всей выборки\n"
     ]
    }
   ],
   "source": [
    "anomaly_ratio('rooms')"
   ]
  },
  {
   "cell_type": "markdown",
   "metadata": {
    "id": "je3P0yJoCviF"
   },
   "source": [
    "#### Высота потолков"
   ]
  },
  {
   "cell_type": "code",
   "execution_count": 64,
   "metadata": {
    "colab": {
     "base_uri": "https://localhost:8080/"
    },
    "id": "pTuCcgRxC6xb",
    "outputId": "6e6153db-557b-4ab1-de2e-85e31bb1a603"
   },
   "outputs": [
    {
     "data": {
      "text/plain": [
       "[2.307944482813137, 3.0843396932908407]"
      ]
     },
     "execution_count": 64,
     "metadata": {},
     "output_type": "execute_result"
    }
   ],
   "source": [
    "whiskers('ceiling_height')"
   ]
  },
  {
   "cell_type": "code",
   "execution_count": 65,
   "metadata": {
    "colab": {
     "base_uri": "https://localhost:8080/"
    },
    "id": "SyI6hoklENbs",
    "outputId": "395a4c6e-c06d-438e-f2fd-01783e2e1969",
    "scrolled": false
   },
   "outputs": [
    {
     "data": {
      "text/plain": [
       "count    23565.000000\n",
       "mean         2.771896\n",
       "std          0.995303\n",
       "min          1.000000\n",
       "25%          2.599093\n",
       "50%          2.710000\n",
       "75%          2.793191\n",
       "max        100.000000\n",
       "Name: ceiling_height, dtype: float64"
      ]
     },
     "execution_count": 65,
     "metadata": {},
     "output_type": "execute_result"
    }
   ],
   "source": [
    "data['ceiling_height'].describe()"
   ]
  },
  {
   "cell_type": "code",
   "execution_count": 66,
   "metadata": {
    "scrolled": true
   },
   "outputs": [
    {
     "data": {
      "text/plain": [
       "<AxesSubplot:xlabel='ceiling_height', ylabel='ceiling_height'>"
      ]
     },
     "execution_count": 66,
     "metadata": {},
     "output_type": "execute_result"
    },
    {
     "data": {
      "image/png": "[encoded data removed]",
      "text/plain": [
       "<Figure size 432x288 with 1 Axes>"
      ]
     },
     "metadata": {
      "needs_background": "light"
     },
     "output_type": "display_data"
    }
   ],
   "source": [
    "data.plot(kind = 'scatter', x = 'ceiling_height', y = 'ceiling_height', alpha=0.3)"
   ]
  },
  {
   "cell_type": "markdown",
   "metadata": {},
   "source": [
    "Похоже, что есть пользователи, которые указывали высоту не в метрах, а в других единицах, возможно дециметрах. Посмотрим поближе:"
   ]
  },
  {
   "cell_type": "code",
   "execution_count": 67,
   "metadata": {
    "scrolled": false
   },
   "outputs": [
    {
     "data": {
      "text/plain": [
       "<AxesSubplot:xlabel='ceiling_height', ylabel='ceiling_height'>"
      ]
     },
     "execution_count": 67,
     "metadata": {},
     "output_type": "execute_result"
    },
    {
     "data": {
      "image/png": "[encoded data removed]",
      "text/plain": [
       "<Figure size 432x288 with 1 Axes>"
      ]
     },
     "metadata": {
      "needs_background": "light"
     },
     "output_type": "display_data"
    }
   ],
   "source": [
    "data.plot(kind = 'scatter', x = 'ceiling_height', y = 'ceiling_height', alpha=0.2, xlim=(0, 40), ylim=(0, 40))"
   ]
  },
  {
   "cell_type": "markdown",
   "metadata": {},
   "source": [
    "Есть смысл поделить высоту потолков свыше 20 м на 10:"
   ]
  },
  {
   "cell_type": "code",
   "execution_count": 68,
   "metadata": {},
   "outputs": [
    {
     "data": {
      "text/plain": [
       "<AxesSubplot:xlabel='ceiling_height', ylabel='ceiling_height'>"
      ]
     },
     "execution_count": 68,
     "metadata": {},
     "output_type": "execute_result"
    },
    {
     "data": {
      "image/png": "[encoded data removed]",
      "text/plain": [
       "<Figure size 432x288 with 1 Axes>"
      ]
     },
     "metadata": {
      "needs_background": "light"
     },
     "output_type": "display_data"
    }
   ],
   "source": [
    "for value in data['ceiling_height']:\n",
    "    if value >= 20:\n",
    "        data.loc[data['ceiling_height'] == value] = value / 10\n",
    "\n",
    "data.plot(kind = 'scatter', x = 'ceiling_height', y = 'ceiling_height', alpha=0.2, xlim=(0, 40), ylim=(0, 40))"
   ]
  },
  {
   "cell_type": "code",
   "execution_count": 69,
   "metadata": {
    "colab": {
     "base_uri": "https://localhost:8080/",
     "height": 284
    },
    "id": "uQFh3OnpEPo6",
    "outputId": "46e71c4a-05e0-4c9c-d9e2-a665824c117c",
    "scrolled": false
   },
   "outputs": [
    {
     "data": {
      "text/plain": [
       "<AxesSubplot:>"
      ]
     },
     "execution_count": 69,
     "metadata": {},
     "output_type": "execute_result"
    },
    {
     "data": {
      "image/png": "[encoded data removed]",
      "text/plain": [
       "<Figure size 432x288 with 1 Axes>"
      ]
     },
     "metadata": {
      "needs_background": "light"
     },
     "output_type": "display_data"
    }
   ],
   "source": [
    "data['ceiling_height'].hist(range=(2, 3))"
   ]
  },
  {
   "cell_type": "code",
   "execution_count": 70,
   "metadata": {
    "colab": {
     "base_uri": "https://localhost:8080/"
    },
    "id": "Bc0S1q9mEd1j",
    "outputId": "81ca2728-4287-4829-fc7f-8e971819604c",
    "scrolled": true
   },
   "outputs": [
    {
     "name": "stdout",
     "output_type": "stream",
     "text": [
      "Аномальные значения составляют 7.18% от всей выборки\n"
     ]
    }
   ],
   "source": [
    "anomaly_ratio('ceiling_height')"
   ]
  },
  {
   "cell_type": "code",
   "execution_count": 71,
   "metadata": {
    "id": "IIkcyhgyEy6R"
   },
   "outputs": [],
   "source": [
    "#data['too_high_ceiling'] = (data['ceiling_height'] > whiskers('ceiling_height')[1]) | (data['ceiling_height'] < whiskers('ceiling_height')[0])\n",
    "data['too_high_ceiling'] = data['ceiling_height'] > 7"
   ]
  },
  {
   "cell_type": "markdown",
   "metadata": {
    "id": "SGp1H_K8FIbt"
   },
   "source": [
    "#### Время продажи квартиры"
   ]
  },
  {
   "cell_type": "code",
   "execution_count": 72,
   "metadata": {
    "colab": {
     "base_uri": "https://localhost:8080/"
    },
    "id": "O4r1WKB8FQtL",
    "outputId": "d327a32f-77ba-409e-cb89-21dc1aa2f00a"
   },
   "outputs": [
    {
     "data": {
      "text/plain": [
       "[1.0, 427.5]"
      ]
     },
     "execution_count": 72,
     "metadata": {},
     "output_type": "execute_result"
    }
   ],
   "source": [
    "whiskers('days_exposition')"
   ]
  },
  {
   "cell_type": "code",
   "execution_count": 73,
   "metadata": {},
   "outputs": [
    {
     "data": {
      "text/plain": [
       "count    23565.000000\n",
       "mean       169.085784\n",
       "std        206.515947\n",
       "min          1.000000\n",
       "25%         45.000000\n",
       "50%         95.000000\n",
       "75%        198.000000\n",
       "max       1580.000000\n",
       "Name: days_exposition, dtype: float64"
      ]
     },
     "execution_count": 73,
     "metadata": {},
     "output_type": "execute_result"
    }
   ],
   "source": [
    "data['days_exposition'].describe()"
   ]
  },
  {
   "cell_type": "code",
   "execution_count": 74,
   "metadata": {},
   "outputs": [
    {
     "data": {
      "text/plain": [
       "<AxesSubplot:>"
      ]
     },
     "execution_count": 74,
     "metadata": {},
     "output_type": "execute_result"
    },
    {
     "data": {
      "image/png": "[encoded data removed]",
      "text/plain": [
       "<Figure size 432x288 with 1 Axes>"
      ]
     },
     "metadata": {
      "needs_background": "light"
     },
     "output_type": "display_data"
    }
   ],
   "source": [
    "data.boxplot(column='days_exposition')"
   ]
  },
  {
   "cell_type": "code",
   "execution_count": 75,
   "metadata": {
    "colab": {
     "base_uri": "https://localhost:8080/",
     "height": 287
    },
    "id": "B5Wg_9RXFoGI",
    "outputId": "6302c03c-b68f-4332-a563-5d7b18c1ecc5",
    "scrolled": true
   },
   "outputs": [
    {
     "data": {
      "text/plain": [
       "<AxesSubplot:>"
      ]
     },
     "execution_count": 75,
     "metadata": {},
     "output_type": "execute_result"
    },
    {
     "data": {
      "image/png": "[encoded data removed]",
      "text/plain": [
       "<Figure size 432x288 with 1 Axes>"
      ]
     },
     "metadata": {
      "needs_background": "light"
     },
     "output_type": "display_data"
    }
   ],
   "source": [
    "data['days_exposition'].hist(range=(0, 430))"
   ]
  },
  {
   "cell_type": "code",
   "execution_count": 76,
   "metadata": {},
   "outputs": [
    {
     "name": "stdout",
     "output_type": "stream",
     "text": [
      "Аномальные значения составляют 9.91% от всей выборки\n"
     ]
    }
   ],
   "source": [
    "anomaly_ratio('days_exposition')"
   ]
  },
  {
   "cell_type": "markdown",
   "metadata": {
    "id": "zOW-AvuiHHoD"
   },
   "source": [
    "#### Уберем редкие и выбивающиеся значения\n"
   ]
  },
  {
   "cell_type": "code",
   "execution_count": 77,
   "metadata": {
    "colab": {
     "base_uri": "https://localhost:8080/"
    },
    "id": "h-NGxxz_HP9z",
    "outputId": "4cc1742f-ff2b-47ce-92f6-e61775005efe",
    "scrolled": true
   },
   "outputs": [
    {
     "name": "stdout",
     "output_type": "stream",
     "text": [
      "Доля чистых значений составила: 94.6%\n"
     ]
    }
   ],
   "source": [
    "'''good_data = data[(data['too_large_total_area'] == False) & \n",
    "     (data['too_big_last_price'] == False) &\n",
    "     (data['too_many_rooms'] == False) &\n",
    "     (data['too_high_ceiling'] == False) &\n",
    "     (data['too_long_exposition'] == False) &\n",
    "     (data['too_short_exposition'] == False)].reset_index(drop=True)'''\n",
    "\n",
    "good_data = data[(data['last_price'] > 12190) &\n",
    "    (data['too_large_total_area'] == False) &\n",
    "    (data['too_high_ceiling'] == False)].reset_index(drop=True)\n",
    "\n",
    "print('Доля чистых значений составила: {:.1%}'. format(len(good_data) / len(data)))"
   ]
  },
  {
   "cell_type": "markdown",
   "metadata": {},
   "source": [
    "#### Вывод\n",
    "<br>\n",
    "<br>\n",
    "Средняя квартира, выставленная на продажу, имеет следующие характеристики: это 2-комнатная квартира площадью 52 кв. м с потолками 2,65 м, проданная за 3 месяца (95 дней) по цене 4,7 млн рублей.\n",
    "\n",
    "В данных есть явные ошибки в виде метража от 114 до 900 м (5.26% от общего набора данных, сложно исправить), высота потолков от 8 до 32 м и даже 100 м (ошибочные данные частично вычищены, аномалий осталось 7.18%).\n",
    "\n",
    "Выделяющиеся характеристики квартир из представленного набора данных:\n",
    "\n",
    "- 7-комнатная квартира или больше\n",
    "<br>\n",
    "- площадью более 114,3 кв. м\n",
    "<br>\n",
    "- с потолками менее 2,25 м или более 3,05 м\n",
    "<br>\n",
    "- по цене более 11,9 млн рублей\n",
    "<br>\n",
    "- проданная за 14 месяцев (428 дней) или более\n",
    "<br>\n",
    "\n",
    "Как правило, продажа недвижимости занимала 3 месяца (95 дней). При этом четверть всех объектов недвижимости была продана в течение 45 дней с момента публикации. Если объект был продан в течение месяца, то необходимо проверить данную сделку на предмет мошенничества. Такая проверка особенна критична, если срок сделки не превышает двух недель. Кроме того, если объект был продан только после 14 месяцев (428 дней) с момента публикации, это говорит об аномально долгой продаже."
   ]
  },
  {
   "cell_type": "markdown",
   "metadata": {
    "id": "4slrfT5eMOiQ"
   },
   "source": [
    "### Факторы, влияющие на стоимость квартиры\n",
    "\n"
   ]
  },
  {
   "cell_type": "markdown",
   "metadata": {},
   "source": [
    "#### Зависимость цены от площади квартиры и от расстояния до центра города"
   ]
  },
  {
   "cell_type": "code",
   "execution_count": 78,
   "metadata": {
    "scrolled": true
   },
   "outputs": [
    {
     "data": {
      "text/plain": [
       "0.68"
      ]
     },
     "execution_count": 78,
     "metadata": {},
     "output_type": "execute_result"
    }
   ],
   "source": [
    "round(good_data['last_price'].corr(good_data['total_area']), 2)"
   ]
  },
  {
   "cell_type": "code",
   "execution_count": 79,
   "metadata": {
    "scrolled": true
   },
   "outputs": [
    {
     "data": {
      "text/plain": [
       "<AxesSubplot:xlabel='last_price', ylabel='total_area'>"
      ]
     },
     "execution_count": 79,
     "metadata": {},
     "output_type": "execute_result"
    },
    {
     "data": {
      "image/png": "[encoded data removed]",
      "text/plain": [
       "<Figure size 576x432 with 2 Axes>"
      ]
     },
     "metadata": {
      "needs_background": "light"
     },
     "output_type": "display_data"
    }
   ],
   "source": [
    "good_data.plot(x='last_price', y='total_area', kind='hexbin', gridsize=20, figsize=(8, 6), sharex=False, grid=True)\n",
    "#good_data.plot(x='last_price', y='total_area', kind='scatter', alpha=0.002) \n"
   ]
  },
  {
   "cell_type": "code",
   "execution_count": 80,
   "metadata": {},
   "outputs": [
    {
     "data": {
      "text/plain": [
       "-0.34"
      ]
     },
     "execution_count": 80,
     "metadata": {},
     "output_type": "execute_result"
    }
   ],
   "source": [
    "round(good_data['last_price'].corr(good_data['cityCenters_nearest']), 2)"
   ]
  },
  {
   "cell_type": "code",
   "execution_count": 81,
   "metadata": {},
   "outputs": [
    {
     "data": {
      "text/plain": [
       "<AxesSubplot:xlabel='last_price', ylabel='cityCenters_nearest'>"
      ]
     },
     "execution_count": 81,
     "metadata": {},
     "output_type": "execute_result"
    },
    {
     "data": {
      "image/png": "[encoded data removed]",
      "text/plain": [
       "<Figure size 576x432 with 2 Axes>"
      ]
     },
     "metadata": {
      "needs_background": "light"
     },
     "output_type": "display_data"
    }
   ],
   "source": [
    "good_data.plot(x='last_price', y='cityCenters_nearest', kind='hexbin', gridsize=20, figsize=(8, 6), sharex=False, grid=True) \n",
    "#good_data.plot(x='last_price', y='cityCenters_nearest', kind='scatter', alpha=0.002)"
   ]
  },
  {
   "cell_type": "markdown",
   "metadata": {},
   "source": [
    "#### Зависимость цены от числа комнат, этажа и времени размещения объявления:"
   ]
  },
  {
   "cell_type": "code",
   "execution_count": 82,
   "metadata": {},
   "outputs": [
    {
     "data": {
      "image/png": "[encoded data removed]",
      "text/plain": [
       "<Figure size 360x360 with 1 Axes>"
      ]
     },
     "metadata": {
      "needs_background": "light"
     },
     "output_type": "display_data"
    },
    {
     "data": {
      "image/png": "[encoded data removed]",
      "text/plain": [
       "<Figure size 360x360 with 1 Axes>"
      ]
     },
     "metadata": {
      "needs_background": "light"
     },
     "output_type": "display_data"
    },
    {
     "data": {
      "image/png": "[encoded data removed]",
      "text/plain": [
       "<Figure size 360x360 with 1 Axes>"
      ]
     },
     "metadata": {
      "needs_background": "light"
     },
     "output_type": "display_data"
    },
    {
     "data": {
      "image/png": "[encoded data removed]",
      "text/plain": [
       "<Figure size 360x360 with 1 Axes>"
      ]
     },
     "metadata": {
      "needs_background": "light"
     },
     "output_type": "display_data"
    },
    {
     "data": {
      "image/png": "[encoded data removed]",
      "text/plain": [
       "<Figure size 360x360 with 1 Axes>"
      ]
     },
     "metadata": {
      "needs_background": "light"
     },
     "output_type": "display_data"
    }
   ],
   "source": [
    "for column in ['rooms', 'floor_category', 'weekday', 'month', 'year']:\n",
    "    sns.catplot(x=column, y=\"last_price\", kind=\"box\", data=good_data)"
   ]
  },
  {
   "cell_type": "markdown",
   "metadata": {},
   "source": [
    "#### Вывод\n",
    "<br>\n",
    "- Ожидаемо, наиболее сильная корреляция наблюдается между площадью квартиры и ее стоимостью (коэфф. корреляции 0,67).\n",
    "Расстояние до центра города тоже влияет влияет на стоимость квартиры, но не так значимо, как можно было предположить (коэфф. корреляции -0,3).\n",
    "<br>\n",
    "- Стоимость квартиры также прямо коррелирует с количеством комнат до тех пор пока количество комнат не превышает 4, 5-комнатные квартиры могут быть проданы дешевле 4-комнатных.\n",
    "<br>\n",
    "- Квартиры на первом и последнем этажах продаются по цене ниже, чем квартиры на остальных этажах.\n",
    "<br>\n",
    "- День недели и месяц выставления квартиры на продажу не влияет значительно на стоимость продажи. Тут же заметим, что в 2014 году квартиры в среднем продавались по более высокой цене, что явно связано с экономической конъюнктурой в стране."
   ]
  },
  {
   "cell_type": "markdown",
   "metadata": {},
   "source": [
    "## 10 населенных пунктов с наибольшим числом объявлений\n",
    "\n"
   ]
  },
  {
   "cell_type": "code",
   "execution_count": 83,
   "metadata": {
    "scrolled": false
   },
   "outputs": [
    {
     "data": {
      "text/html": [
       "<div>\n",
       "<style scoped>\n",
       "    .dataframe tbody tr th:only-of-type {\n",
       "        vertical-align: middle;\n",
       "    }\n",
       "\n",
       "    .dataframe tbody tr th {\n",
       "        vertical-align: top;\n",
       "    }\n",
       "\n",
       "    .dataframe thead th {\n",
       "        text-align: right;\n",
       "    }\n",
       "</style>\n",
       "<table border=\"1\" class=\"dataframe\">\n",
       "  <thead>\n",
       "    <tr style=\"text-align: right;\">\n",
       "      <th></th>\n",
       "      <th>count</th>\n",
       "      <th>median</th>\n",
       "    </tr>\n",
       "    <tr>\n",
       "      <th>locality_name</th>\n",
       "      <th></th>\n",
       "      <th></th>\n",
       "    </tr>\n",
       "  </thead>\n",
       "  <tbody>\n",
       "    <tr>\n",
       "      <th>Санкт-Петербург</th>\n",
       "      <td>14490</td>\n",
       "      <td>103921.60</td>\n",
       "    </tr>\n",
       "    <tr>\n",
       "      <th>посёлок Мурино</th>\n",
       "      <td>518</td>\n",
       "      <td>85878.45</td>\n",
       "    </tr>\n",
       "    <tr>\n",
       "      <th>посёлок Шушары</th>\n",
       "      <td>436</td>\n",
       "      <td>76748.00</td>\n",
       "    </tr>\n",
       "    <tr>\n",
       "      <th>Всеволожск</th>\n",
       "      <td>395</td>\n",
       "      <td>65789.50</td>\n",
       "    </tr>\n",
       "    <tr>\n",
       "      <th>Пушкин</th>\n",
       "      <td>347</td>\n",
       "      <td>99650.30</td>\n",
       "    </tr>\n",
       "    <tr>\n",
       "      <th>Колпино</th>\n",
       "      <td>336</td>\n",
       "      <td>74723.75</td>\n",
       "    </tr>\n",
       "    <tr>\n",
       "      <th>посёлок Парголово</th>\n",
       "      <td>326</td>\n",
       "      <td>91780.25</td>\n",
       "    </tr>\n",
       "    <tr>\n",
       "      <th>Гатчина</th>\n",
       "      <td>303</td>\n",
       "      <td>67924.50</td>\n",
       "    </tr>\n",
       "    <tr>\n",
       "      <th>деревня Кудрово</th>\n",
       "      <td>298</td>\n",
       "      <td>91831.90</td>\n",
       "    </tr>\n",
       "    <tr>\n",
       "      <th>Выборг</th>\n",
       "      <td>228</td>\n",
       "      <td>58233.00</td>\n",
       "    </tr>\n",
       "  </tbody>\n",
       "</table>\n",
       "</div>"
      ],
      "text/plain": [
       "                   count     median\n",
       "locality_name                      \n",
       "Санкт-Петербург    14490  103921.60\n",
       "посёлок Мурино       518   85878.45\n",
       "посёлок Шушары       436   76748.00\n",
       "Всеволожск           395   65789.50\n",
       "Пушкин               347   99650.30\n",
       "Колпино              336   74723.75\n",
       "посёлок Парголово    326   91780.25\n",
       "Гатчина              303   67924.50\n",
       "деревня Кудрово      298   91831.90\n",
       "Выборг               228   58233.00"
      ]
     },
     "execution_count": 83,
     "metadata": {},
     "output_type": "execute_result"
    }
   ],
   "source": [
    "median_price_of_sqm = good_data.pivot_table(index='locality_name', values='price_of_sqm', aggfunc=['count', 'median'])\n",
    "median_price_of_sqm.columns = ['count', 'median']\n",
    "median_price_of_sqm.sort_values(by='count', ascending=False).head(10)"
   ]
  },
  {
   "cell_type": "markdown",
   "metadata": {},
   "source": [
    "**Вывод:**\n",
    "<br>\n",
    "- Из топ-10 населенных пунктов по количеству объявлений лидерами по цене квадратного метра являются: Санкт-Петербург, Пушкин и деревня Кудрово.\n",
    "\n",
    "- Дешевле всего квадратные метры в Выборге, Всеволожске и Гатчине."
   ]
  },
  {
   "cell_type": "markdown",
   "metadata": {},
   "source": [
    "## Выделение центра Санкт-Петербурга\n"
   ]
  },
  {
   "cell_type": "code",
   "execution_count": 84,
   "metadata": {
    "scrolled": true
   },
   "outputs": [
    {
     "data": {
      "text/html": [
       "<div>\n",
       "<style scoped>\n",
       "    .dataframe tbody tr th:only-of-type {\n",
       "        vertical-align: middle;\n",
       "    }\n",
       "\n",
       "    .dataframe tbody tr th {\n",
       "        vertical-align: top;\n",
       "    }\n",
       "\n",
       "    .dataframe thead th {\n",
       "        text-align: right;\n",
       "    }\n",
       "</style>\n",
       "<table border=\"1\" class=\"dataframe\">\n",
       "  <thead>\n",
       "    <tr style=\"text-align: right;\">\n",
       "      <th></th>\n",
       "      <th>cityСenters_km</th>\n",
       "      <th>last_price</th>\n",
       "      <th>price_of_sqm</th>\n",
       "    </tr>\n",
       "  </thead>\n",
       "  <tbody>\n",
       "    <tr>\n",
       "      <th>0</th>\n",
       "      <td>0.0</td>\n",
       "      <td>11500000.0</td>\n",
       "      <td>139318.90</td>\n",
       "    </tr>\n",
       "    <tr>\n",
       "      <th>1</th>\n",
       "      <td>1.0</td>\n",
       "      <td>9250000.0</td>\n",
       "      <td>127100.90</td>\n",
       "    </tr>\n",
       "    <tr>\n",
       "      <th>2</th>\n",
       "      <td>2.0</td>\n",
       "      <td>8860000.0</td>\n",
       "      <td>123966.90</td>\n",
       "    </tr>\n",
       "    <tr>\n",
       "      <th>3</th>\n",
       "      <td>3.0</td>\n",
       "      <td>7600000.0</td>\n",
       "      <td>110013.95</td>\n",
       "    </tr>\n",
       "    <tr>\n",
       "      <th>4</th>\n",
       "      <td>4.0</td>\n",
       "      <td>8000000.0</td>\n",
       "      <td>119224.10</td>\n",
       "    </tr>\n",
       "    <tr>\n",
       "      <th>5</th>\n",
       "      <td>5.0</td>\n",
       "      <td>8100000.0</td>\n",
       "      <td>126794.85</td>\n",
       "    </tr>\n",
       "    <tr>\n",
       "      <th>6</th>\n",
       "      <td>6.0</td>\n",
       "      <td>7610000.0</td>\n",
       "      <td>123973.70</td>\n",
       "    </tr>\n",
       "    <tr>\n",
       "      <th>7</th>\n",
       "      <td>7.0</td>\n",
       "      <td>6800000.0</td>\n",
       "      <td>120786.50</td>\n",
       "    </tr>\n",
       "    <tr>\n",
       "      <th>8</th>\n",
       "      <td>8.0</td>\n",
       "      <td>6781696.0</td>\n",
       "      <td>120147.75</td>\n",
       "    </tr>\n",
       "    <tr>\n",
       "      <th>9</th>\n",
       "      <td>9.0</td>\n",
       "      <td>5200000.0</td>\n",
       "      <td>105348.65</td>\n",
       "    </tr>\n",
       "  </tbody>\n",
       "</table>\n",
       "</div>"
      ],
      "text/plain": [
       "   cityСenters_km  last_price  price_of_sqm\n",
       "0             0.0  11500000.0     139318.90\n",
       "1             1.0   9250000.0     127100.90\n",
       "2             2.0   8860000.0     123966.90\n",
       "3             3.0   7600000.0     110013.95\n",
       "4             4.0   8000000.0     119224.10\n",
       "5             5.0   8100000.0     126794.85\n",
       "6             6.0   7610000.0     123973.70\n",
       "7             7.0   6800000.0     120786.50\n",
       "8             8.0   6781696.0     120147.75\n",
       "9             9.0   5200000.0     105348.65"
      ]
     },
     "execution_count": 84,
     "metadata": {},
     "output_type": "execute_result"
    }
   ],
   "source": [
    "data['cityСenters_km'] = round(data['cityCenters_nearest'] / 1000, 0).astype('int', errors='ignore')\n",
    "\n",
    "'''good_data = data[(data['too_large_total_area'] == False) & \n",
    "     (data['too_big_last_price'] == False) &\n",
    "     (data['too_many_rooms'] == False) &\n",
    "     (data['too_high_ceiling'] == False) &\n",
    "     (data['too_long_exposition'] == False) &\n",
    "     (data['too_short_exposition'] == False)].reset_index(drop=True)'''\n",
    "\n",
    "good_data = data[(data['last_price'] > 12190) & \n",
    "     (data['too_large_total_area'] == False) &\n",
    "     (data['too_high_ceiling'] == False)].reset_index(drop=True)\n",
    "\n",
    "    \n",
    "    \n",
    "\n",
    "good_data.loc[(good_data['locality_name'] == 'Санкт-Петербург') & (good_data['cityСenters_km'].notna()), 'cityСenters_km'].apply(round)\n",
    "spb_data = good_data.query('locality_name == \"Санкт-Петербург\"')\n",
    "spb_by_km = spb_data.pivot_table(index='cityСenters_km', values=['price_of_sqm', 'last_price'], aggfunc='median').reset_index()\n",
    "spb_by_km.head(10)"
   ]
  },
  {
   "cell_type": "code",
   "execution_count": 85,
   "metadata": {},
   "outputs": [
    {
     "data": {
      "text/plain": [
       "<AxesSubplot:xlabel='cityСenters_km', ylabel='last_price'>"
      ]
     },
     "execution_count": 85,
     "metadata": {},
     "output_type": "execute_result"
    },
    {
     "data": {
      "image/png": "[encoded data removed]",
      "text/plain": [
       "<Figure size 432x288 with 1 Axes>"
      ]
     },
     "metadata": {
      "needs_background": "light"
     },
     "output_type": "display_data"
    }
   ],
   "source": [
    "spb_by_km.plot(kind = 'scatter', x = 'cityСenters_km', y = 'last_price')"
   ]
  },
  {
   "cell_type": "markdown",
   "metadata": {},
   "source": [
    "Видно резкое падение цены на графике, примем за центральный район окружность радиусом 8 км:"
   ]
  },
  {
   "cell_type": "code",
   "execution_count": 86,
   "metadata": {},
   "outputs": [],
   "source": [
    "spb_center = good_data[(good_data['cityСenters_km'] <= 8) & (good_data['locality_name'] == 'Санкт-Петербург')]"
   ]
  },
  {
   "cell_type": "code",
   "execution_count": 87,
   "metadata": {
    "scrolled": true
   },
   "outputs": [
    {
     "data": {
      "text/plain": [
       "count    3252.000000\n",
       "mean       68.218216\n",
       "std        22.531625\n",
       "min        12.000000\n",
       "25%        50.000000\n",
       "50%        67.550000\n",
       "75%        85.200000\n",
       "max       114.200000\n",
       "Name: total_area, dtype: float64"
      ]
     },
     "execution_count": 87,
     "metadata": {},
     "output_type": "execute_result"
    }
   ],
   "source": [
    "spb_center['total_area'].describe()"
   ]
  },
  {
   "cell_type": "code",
   "execution_count": 88,
   "metadata": {},
   "outputs": [
    {
     "data": {
      "text/plain": [
       "<AxesSubplot:>"
      ]
     },
     "execution_count": 88,
     "metadata": {},
     "output_type": "execute_result"
    },
    {
     "data": {
      "image/png": "[encoded data removed]",
      "text/plain": [
       "<Figure size 432x288 with 1 Axes>"
      ]
     },
     "metadata": {
      "needs_background": "light"
     },
     "output_type": "display_data"
    }
   ],
   "source": [
    "spb_center['total_area'].hist(range=(0, 130))"
   ]
  },
  {
   "cell_type": "code",
   "execution_count": 89,
   "metadata": {},
   "outputs": [
    {
     "data": {
      "text/plain": [
       "count    3.252000e+03\n",
       "mean     9.012793e+06\n",
       "std      5.235247e+06\n",
       "min      1.600000e+06\n",
       "25%      5.950000e+06\n",
       "50%      7.800000e+06\n",
       "75%      1.050000e+07\n",
       "max      8.200000e+07\n",
       "Name: last_price, dtype: float64"
      ]
     },
     "execution_count": 89,
     "metadata": {},
     "output_type": "execute_result"
    }
   ],
   "source": [
    "spb_center['last_price'].describe()"
   ]
  },
  {
   "cell_type": "code",
   "execution_count": 90,
   "metadata": {
    "scrolled": true
   },
   "outputs": [
    {
     "data": {
      "text/plain": [
       "<AxesSubplot:>"
      ]
     },
     "execution_count": 90,
     "metadata": {},
     "output_type": "execute_result"
    },
    {
     "data": {
      "image/png": "[encoded data removed]",
      "text/plain": [
       "<Figure size 432x288 with 1 Axes>"
      ]
     },
     "metadata": {
      "needs_background": "light"
     },
     "output_type": "display_data"
    }
   ],
   "source": [
    "spb_center['last_price'].hist(range=(10000, 12000000))"
   ]
  },
  {
   "cell_type": "code",
   "execution_count": 91,
   "metadata": {
    "scrolled": true
   },
   "outputs": [
    {
     "data": {
      "text/plain": [
       "count    3252.000000\n",
       "mean        2.316728\n",
       "std         0.953191\n",
       "min         0.000000\n",
       "25%         2.000000\n",
       "50%         2.000000\n",
       "75%         3.000000\n",
       "max         7.000000\n",
       "Name: rooms, dtype: float64"
      ]
     },
     "execution_count": 91,
     "metadata": {},
     "output_type": "execute_result"
    }
   ],
   "source": [
    "spb_center['rooms'].describe()"
   ]
  },
  {
   "cell_type": "code",
   "execution_count": 92,
   "metadata": {},
   "outputs": [
    {
     "data": {
      "text/plain": [
       "<AxesSubplot:>"
      ]
     },
     "execution_count": 92,
     "metadata": {},
     "output_type": "execute_result"
    },
    {
     "data": {
      "image/png": "[encoded data removed]",
      "text/plain": [
       "<Figure size 432x288 with 1 Axes>"
      ]
     },
     "metadata": {
      "needs_background": "light"
     },
     "output_type": "display_data"
    }
   ],
   "source": [
    "spb_center['rooms'].hist(range=(0, 10))"
   ]
  },
  {
   "cell_type": "code",
   "execution_count": 93,
   "metadata": {
    "scrolled": true
   },
   "outputs": [
    {
     "data": {
      "text/plain": [
       "count    3252.000000\n",
       "mean        2.940292\n",
       "std         0.299953\n",
       "min         2.000000\n",
       "25%         2.747503\n",
       "50%         2.900000\n",
       "75%         3.100000\n",
       "max         5.800000\n",
       "Name: ceiling_height, dtype: float64"
      ]
     },
     "execution_count": 93,
     "metadata": {},
     "output_type": "execute_result"
    }
   ],
   "source": [
    "spb_center['ceiling_height'].describe()"
   ]
  },
  {
   "cell_type": "code",
   "execution_count": 94,
   "metadata": {},
   "outputs": [
    {
     "data": {
      "text/plain": [
       "<AxesSubplot:>"
      ]
     },
     "execution_count": 94,
     "metadata": {},
     "output_type": "execute_result"
    },
    {
     "data": {
      "image/png": "[encoded data removed]",
      "text/plain": [
       "<Figure size 432x288 with 1 Axes>"
      ]
     },
     "metadata": {
      "needs_background": "light"
     },
     "output_type": "display_data"
    }
   ],
   "source": [
    "spb_center['ceiling_height'].hist(range=(2, 3))"
   ]
  },
  {
   "cell_type": "code",
   "execution_count": 95,
   "metadata": {
    "scrolled": true
   },
   "outputs": [
    {
     "data": {
      "image/png": "[encoded data removed]",
      "text/plain": [
       "<Figure size 360x360 with 1 Axes>"
      ]
     },
     "metadata": {
      "needs_background": "light"
     },
     "output_type": "display_data"
    },
    {
     "data": {
      "image/png": "[encoded data removed]",
      "text/plain": [
       "<Figure size 360x360 with 1 Axes>"
      ]
     },
     "metadata": {
      "needs_background": "light"
     },
     "output_type": "display_data"
    },
    {
     "data": {
      "image/png": "[encoded data removed]",
      "text/plain": [
       "<Figure size 360x360 with 1 Axes>"
      ]
     },
     "metadata": {
      "needs_background": "light"
     },
     "output_type": "display_data"
    },
    {
     "data": {
      "image/png": "[encoded data removed]",
      "text/plain": [
       "<Figure size 360x360 with 1 Axes>"
      ]
     },
     "metadata": {
      "needs_background": "light"
     },
     "output_type": "display_data"
    },
    {
     "data": {
      "image/png": "[encoded data removed]",
      "text/plain": [
       "<Figure size 360x360 with 1 Axes>"
      ]
     },
     "metadata": {
      "needs_background": "light"
     },
     "output_type": "display_data"
    }
   ],
   "source": [
    "for column in ['rooms', 'floor_category', 'weekday', 'month', 'year']:\n",
    "    sns.catplot(x=column, y=\"last_price\", kind=\"box\", data=spb_center)"
   ]
  },
  {
   "cell_type": "code",
   "execution_count": 96,
   "metadata": {},
   "outputs": [
    {
     "name": "stdout",
     "output_type": "stream",
     "text": [
      "Корреляция цены и количества комнат: 0.36\n",
      "Корреляция цены и удаленности от центра: -0.72\n"
     ]
    }
   ],
   "source": [
    "print(f\"Корреляция цены и количества комнат: {round(data['last_price'].corr(data['rooms']), 2)}\")\n",
    "print(f\"Корреляция цены и удаленности от центра: {round(spb_by_km['last_price'].corr(spb_by_km['cityСenters_km']), 2)}\")"
   ]
  },
  {
   "cell_type": "markdown",
   "metadata": {},
   "source": [
    "**Вывод**\n",
    "\n",
    "Средняя продаваемая в центре Санкт-Петербурга квартира имеет такие параметры: 2-комнатная квартира площадью 58,3 кв. м с потолками 2,65 м с ценой в 6,8 млн рублей.\n",
    "\n",
    "Факторы, влияющие на стоимость квартиры:\n",
    "\n",
    "- Зависимость стоимости квартиры от числа комнат в центре Санкт-Петербурга проявляются сильнее чем в целом по выборке: наблюдается прямо пропорциональная зависимость цены от числа комнат. В отличие от результатов по всем квартирам, 5-комнатные квартиры в центре Санкт-Петербурга, продаются дороже, чем 4-комнатные.\n",
    "- В центре города существует явная зависимость от этажа расположения квартиры: квартира на последнем этаже будет стоить дороже, чем на первом. Подобное не наблюдается в окрестностях.\n",
    "- Расстояние от центра так же прямо влияет на стоимость.\n",
    "- Квартиры, объявления о продаже которых публикуются в воскресенье, в среднем продаются по более высокой цене. Дороже продаются квартиры, опубликованные в начале марте, июле и сентябре.\n"
   ]
  },
  {
   "cell_type": "markdown",
   "metadata": {},
   "source": [
    "## Общий вывод\n"
   ]
  },
  {
   "cell_type": "markdown",
   "metadata": {},
   "source": [
    "В исходных данных содержатся 23699 строк, 14 из 22 столбцов имеют пропущенные значения. При этом сразу видны аномальные значения в виде высоты потолка в 1 и 100 м, жилая площадь в 2 м и цена в 12 190 руб.\n",
    "Были обработаны пропущенные значения в столбцах:\n",
    "- «Высота потолков» - 38.8% пропусков, заменены на медиану по этажности здания, где это возможно, и на общую медиану в остальных случаях\n",
    "- «Жилая площадь в квадратных метрах» - 7.9% пропусков, заменены на медиану по количеству комнат\n",
    "- «Площадь кухни в квадратных метрах» - 9.4% пропусков, заменены на долю от общей площади\n",
    "- Удалены столбцы с пропусками «Всего этажей в доме» (0.4% пропусков), «Название населённого пункта» (0.2% пропусков)\n",
    "- Для некоторых квартир не указано расстояние до всех объектов, которые могут повлиять на цену. Явная проблема в сборе геоданных\n",
    "\n",
    "Изменен тип данных столбца \"first_day_exposition\" на datetime.\n",
    "Посчитаны и добавлены в таблицу:\n",
    "- «Цена квадратного метра»\n",
    "- «День недели, месяц и год публикации объявления»\n",
    "- «Этаж квартиры; варианты — первый, последний, другой»\n",
    "- «Соотношение жилой и общей площади, а также отношение площади кухни к общей»\n",
    "Проведен исследовательский анализ данных и получены следующие выводы:\n",
    "Средняя квартира, выставленная на продажу, имеет следующие характеристики: это 2-комнатная квартира площадью 52 кв. м с потолками 2,65 м, проданная за 3 месяца (95 дней) по цене 4,7 млн рублей.\n",
    "В данных есть явные ошибки в виде метража от 114 до 900 м (5.26% от общего набора данных, сложно исправить), высота потолков от 8 до 32 м и даже 100 м (ошибочные данные частично вычищены, аномалий осталось 7.18%).\n",
    "\n",
    "Выделяющиеся характеристики квартир из представленного набора данных:\n",
    "\n",
    "- 7 комнатная квартира или больше\n",
    "- площадью более 114,3 кв. м\n",
    "- с потолками менее 2,25 м или более 3,05 м\n",
    "- по цене более 11,9 млн рублей\n",
    "- проданная за 14 месяцев (428 дней) или более\n",
    "\n",
    "Различные факторы коррелируют со стоимостью недвижимости так:\n",
    "- Наиболее сильная корреляция наблюдается между площадью квартиры и ее стоимостью (коэфф. корреляции 0,67). Расстояние до центра города тоже влияет влияет на стоимость квартиры, но не так значимо, как можно было предположить (коэфф. корреляции -0,3).\n",
    "- Стоимость квартиры также прямо коррелирует с количеством комнат до тех пор пока количество комнат не превышает 4, 5-комнатные квартиры могут быть проданы дешевле 4-комнатных.\n",
    "- Квартиры на первом и последнем этажах продаются по цене ниже, чем квартиры на остальных этажах.\n",
    "- День недели и месяц выставления квартиры на продажу не влияет значительно на стоимость продажи. Тут же заметим, что в 2014 году квартиры в среднем продавались по более высокой цене, что явно связано с экономической конъюнктурой в стране.\n",
    "\n",
    "Из топ-10 населенных пунктов по количеству объявлений лидерами по цене квадратного метра являются: Санкт-Петербург, Пушкин и деревня Кудрово. Дешевле всего квадратные метры в Выборге, Всеволожске и Гатчине.\n",
    "<br>\n",
    "Выделяя центр Санкт-Петербурга, наблюдаем следующую картину:\n",
    "Средняя продаваемая в центре Санкт-Петербурга квартира имеет такие параметры: 2-комнатная квартира площадью 58,3 кв. м с потолками 2,65 м с ценой в 6,8 млн рублей.\n",
    "<br>\n",
    "Факторы, влияющие на стоимость квартиры в центре Санкт-Петербурга (окружность с радиусом в 8 км):\n",
    "- Зависимость стоимости квартиры от числа комнат в центре Санкт-Петербурга проявляются сильнее чем в целом по выборке: наблюдается прямо пропорциональная зависимость цены от числа комнат. В отличие от результатов по всем квартирам, 5-комнатные квартиры в центре Санкт-Петербурга, продаются дороже, чем 4-комнатные.\n",
    "- В центре города существует явная зависимость от этажа расположения квартиры: квартира на последнем этаже будет стоить дороже, чем на первом. Подобное не наблюдается в окрестностях.\n",
    "- Расстояние от центра так же прямо влияет на стоимость, коэффициент корреляции 0.72\n",
    "- Квартиры, объявления о продаже которых публикуются в воскресенье, в среднем продаются по более высокой цене. Дороже продаются квартиры, опубликованные в начале марте, июле и сентябре.\n",
    "\n"
   ]
  }
 ],
 "metadata": {
  "ExecuteTimeLog": [
   {
    "duration": 3738,
    "start_time": "2022-02-26T05:34:28.855Z"
   },
   {
    "duration": -40,
    "start_time": "2022-02-26T05:34:32.639Z"
   },
   {
    "duration": -45,
    "start_time": "2022-02-26T05:34:32.646Z"
   },
   {
    "duration": -48,
    "start_time": "2022-02-26T05:34:32.650Z"
   },
   {
    "duration": -48,
    "start_time": "2022-02-26T05:34:32.652Z"
   },
   {
    "duration": -48,
    "start_time": "2022-02-26T05:34:32.654Z"
   },
   {
    "duration": -55,
    "start_time": "2022-02-26T05:34:32.662Z"
   },
   {
    "duration": -55,
    "start_time": "2022-02-26T05:34:32.664Z"
   },
   {
    "duration": -55,
    "start_time": "2022-02-26T05:34:32.666Z"
   },
   {
    "duration": -56,
    "start_time": "2022-02-26T05:34:32.668Z"
   },
   {
    "duration": -56,
    "start_time": "2022-02-26T05:34:32.670Z"
   },
   {
    "duration": -57,
    "start_time": "2022-02-26T05:34:32.672Z"
   },
   {
    "duration": -58,
    "start_time": "2022-02-26T05:34:32.675Z"
   },
   {
    "duration": -58,
    "start_time": "2022-02-26T05:34:32.677Z"
   },
   {
    "duration": -59,
    "start_time": "2022-02-26T05:34:32.679Z"
   },
   {
    "duration": -58,
    "start_time": "2022-02-26T05:34:32.680Z"
   },
   {
    "duration": -58,
    "start_time": "2022-02-26T05:34:32.682Z"
   },
   {
    "duration": -59,
    "start_time": "2022-02-26T05:34:32.684Z"
   },
   {
    "duration": -64,
    "start_time": "2022-02-26T05:34:32.691Z"
   },
   {
    "duration": -64,
    "start_time": "2022-02-26T05:34:32.693Z"
   },
   {
    "duration": -68,
    "start_time": "2022-02-26T05:34:32.698Z"
   },
   {
    "duration": -68,
    "start_time": "2022-02-26T05:34:32.700Z"
   },
   {
    "duration": -68,
    "start_time": "2022-02-26T05:34:32.702Z"
   },
   {
    "duration": -69,
    "start_time": "2022-02-26T05:34:32.704Z"
   },
   {
    "duration": -40,
    "start_time": "2022-02-26T05:34:32.708Z"
   },
   {
    "duration": -41,
    "start_time": "2022-02-26T05:34:32.711Z"
   },
   {
    "duration": -41,
    "start_time": "2022-02-26T05:34:32.713Z"
   },
   {
    "duration": -42,
    "start_time": "2022-02-26T05:34:32.715Z"
   },
   {
    "duration": -43,
    "start_time": "2022-02-26T05:34:32.717Z"
   },
   {
    "duration": -48,
    "start_time": "2022-02-26T05:34:32.723Z"
   },
   {
    "duration": -48,
    "start_time": "2022-02-26T05:34:32.725Z"
   },
   {
    "duration": -49,
    "start_time": "2022-02-26T05:34:32.727Z"
   },
   {
    "duration": -50,
    "start_time": "2022-02-26T05:34:32.729Z"
   },
   {
    "duration": -49,
    "start_time": "2022-02-26T05:34:32.730Z"
   },
   {
    "duration": -50,
    "start_time": "2022-02-26T05:34:32.732Z"
   },
   {
    "duration": -51,
    "start_time": "2022-02-26T05:34:32.734Z"
   },
   {
    "duration": -56,
    "start_time": "2022-02-26T05:34:32.740Z"
   },
   {
    "duration": -56,
    "start_time": "2022-02-26T05:34:32.742Z"
   },
   {
    "duration": -57,
    "start_time": "2022-02-26T05:34:32.744Z"
   },
   {
    "duration": -61,
    "start_time": "2022-02-26T05:34:32.750Z"
   },
   {
    "duration": -62,
    "start_time": "2022-02-26T05:34:32.752Z"
   },
   {
    "duration": -62,
    "start_time": "2022-02-26T05:34:32.754Z"
   },
   {
    "duration": -117,
    "start_time": "2022-02-26T05:34:32.810Z"
   },
   {
    "duration": -154,
    "start_time": "2022-02-26T05:34:32.848Z"
   },
   {
    "duration": -155,
    "start_time": "2022-02-26T05:34:32.850Z"
   },
   {
    "duration": -155,
    "start_time": "2022-02-26T05:34:32.851Z"
   },
   {
    "duration": -155,
    "start_time": "2022-02-26T05:34:32.853Z"
   },
   {
    "duration": -156,
    "start_time": "2022-02-26T05:34:32.855Z"
   },
   {
    "duration": -156,
    "start_time": "2022-02-26T05:34:32.856Z"
   },
   {
    "duration": -157,
    "start_time": "2022-02-26T05:34:32.858Z"
   },
   {
    "duration": -157,
    "start_time": "2022-02-26T05:34:32.860Z"
   },
   {
    "duration": -158,
    "start_time": "2022-02-26T05:34:32.862Z"
   },
   {
    "duration": -159,
    "start_time": "2022-02-26T05:34:32.864Z"
   },
   {
    "duration": -161,
    "start_time": "2022-02-26T05:34:32.866Z"
   },
   {
    "duration": -162,
    "start_time": "2022-02-26T05:34:32.868Z"
   },
   {
    "duration": -163,
    "start_time": "2022-02-26T05:34:32.870Z"
   },
   {
    "duration": -189,
    "start_time": "2022-02-26T05:34:32.897Z"
   },
   {
    "duration": -195,
    "start_time": "2022-02-26T05:34:32.904Z"
   },
   {
    "duration": -197,
    "start_time": "2022-02-26T05:34:32.907Z"
   },
   {
    "duration": -198,
    "start_time": "2022-02-26T05:34:32.908Z"
   },
   {
    "duration": -199,
    "start_time": "2022-02-26T05:34:32.910Z"
   },
   {
    "duration": -144,
    "start_time": "2022-02-26T05:34:32.912Z"
   },
   {
    "duration": -143,
    "start_time": "2022-02-26T05:34:32.913Z"
   },
   {
    "duration": -144,
    "start_time": "2022-02-26T05:34:32.915Z"
   },
   {
    "duration": -146,
    "start_time": "2022-02-26T05:34:32.917Z"
   },
   {
    "duration": -146,
    "start_time": "2022-02-26T05:34:32.919Z"
   },
   {
    "duration": -148,
    "start_time": "2022-02-26T05:34:32.921Z"
   },
   {
    "duration": -148,
    "start_time": "2022-02-26T05:34:32.922Z"
   },
   {
    "duration": -149,
    "start_time": "2022-02-26T05:34:32.924Z"
   },
   {
    "duration": -150,
    "start_time": "2022-02-26T05:34:32.926Z"
   },
   {
    "duration": 115,
    "start_time": "2022-02-26T05:35:09.182Z"
   },
   {
    "duration": 13,
    "start_time": "2022-02-26T05:35:09.299Z"
   },
   {
    "duration": 3,
    "start_time": "2022-02-26T05:35:09.314Z"
   },
   {
    "duration": 8,
    "start_time": "2022-02-26T05:35:09.319Z"
   },
   {
    "duration": 43,
    "start_time": "2022-02-26T05:35:09.329Z"
   },
   {
    "duration": 7,
    "start_time": "2022-02-26T05:35:09.374Z"
   },
   {
    "duration": 20,
    "start_time": "2022-02-26T05:35:09.383Z"
   },
   {
    "duration": 4,
    "start_time": "2022-02-26T05:35:09.405Z"
   },
   {
    "duration": 72,
    "start_time": "2022-02-26T05:35:09.413Z"
   },
   {
    "duration": 5,
    "start_time": "2022-02-26T05:35:09.488Z"
   },
   {
    "duration": 12,
    "start_time": "2022-02-26T05:35:09.495Z"
   },
   {
    "duration": 11,
    "start_time": "2022-02-26T05:35:09.509Z"
   },
   {
    "duration": 11,
    "start_time": "2022-02-26T05:35:09.522Z"
   },
   {
    "duration": 6,
    "start_time": "2022-02-26T05:35:09.535Z"
   },
   {
    "duration": 39,
    "start_time": "2022-02-26T05:35:09.542Z"
   },
   {
    "duration": 5,
    "start_time": "2022-02-26T05:35:09.583Z"
   },
   {
    "duration": 578,
    "start_time": "2022-02-26T05:35:09.590Z"
   },
   {
    "duration": 185,
    "start_time": "2022-02-26T05:35:10.170Z"
   },
   {
    "duration": 4,
    "start_time": "2022-02-26T05:35:10.357Z"
   },
   {
    "duration": 10,
    "start_time": "2022-02-26T05:35:10.370Z"
   },
   {
    "duration": 12,
    "start_time": "2022-02-26T05:35:10.382Z"
   },
   {
    "duration": 21,
    "start_time": "2022-02-26T05:35:10.396Z"
   },
   {
    "duration": 6,
    "start_time": "2022-02-26T05:35:10.419Z"
   },
   {
    "duration": 8,
    "start_time": "2022-02-26T05:35:10.427Z"
   },
   {
    "duration": 29,
    "start_time": "2022-02-26T05:35:10.437Z"
   },
   {
    "duration": 8,
    "start_time": "2022-02-26T05:35:10.469Z"
   },
   {
    "duration": 11,
    "start_time": "2022-02-26T05:35:10.481Z"
   },
   {
    "duration": 13,
    "start_time": "2022-02-26T05:35:10.495Z"
   },
   {
    "duration": 16,
    "start_time": "2022-02-26T05:35:10.512Z"
   },
   {
    "duration": 27,
    "start_time": "2022-02-26T05:35:10.531Z"
   },
   {
    "duration": 15,
    "start_time": "2022-02-26T05:35:10.560Z"
   },
   {
    "duration": 43,
    "start_time": "2022-02-26T05:35:10.578Z"
   },
   {
    "duration": 11,
    "start_time": "2022-02-26T05:35:10.623Z"
   },
   {
    "duration": 5,
    "start_time": "2022-02-26T05:35:10.636Z"
   },
   {
    "duration": 28,
    "start_time": "2022-02-26T05:35:10.643Z"
   },
   {
    "duration": 29,
    "start_time": "2022-02-26T05:35:10.673Z"
   },
   {
    "duration": 6,
    "start_time": "2022-02-26T05:35:10.705Z"
   },
   {
    "duration": 26,
    "start_time": "2022-02-26T05:35:10.713Z"
   },
   {
    "duration": 30,
    "start_time": "2022-02-26T05:35:10.741Z"
   },
   {
    "duration": 16,
    "start_time": "2022-02-26T05:35:10.773Z"
   },
   {
    "duration": 11,
    "start_time": "2022-02-26T05:35:10.791Z"
   },
   {
    "duration": 234,
    "start_time": "2022-02-26T05:35:10.805Z"
   },
   {
    "duration": 2,
    "start_time": "2022-02-26T05:35:11.042Z"
   },
   {
    "duration": 31,
    "start_time": "2022-02-26T05:35:11.047Z"
   },
   {
    "duration": 11,
    "start_time": "2022-02-26T05:35:11.081Z"
   },
   {
    "duration": 16,
    "start_time": "2022-02-26T05:35:11.094Z"
   },
   {
    "duration": 12,
    "start_time": "2022-02-26T05:35:11.112Z"
   },
   {
    "duration": 236,
    "start_time": "2022-02-26T05:35:11.126Z"
   },
   {
    "duration": 12,
    "start_time": "2022-02-26T05:35:11.368Z"
   },
   {
    "duration": 10,
    "start_time": "2022-02-26T05:35:11.382Z"
   },
   {
    "duration": 10,
    "start_time": "2022-02-26T05:35:11.395Z"
   },
   {
    "duration": 12,
    "start_time": "2022-02-26T05:35:11.407Z"
   },
   {
    "duration": 351,
    "start_time": "2022-02-26T05:35:11.421Z"
   },
   {
    "duration": 11,
    "start_time": "2022-02-26T05:35:11.774Z"
   },
   {
    "duration": 13,
    "start_time": "2022-02-26T05:35:11.787Z"
   },
   {
    "duration": 10,
    "start_time": "2022-02-26T05:35:11.803Z"
   },
   {
    "duration": 10,
    "start_time": "2022-02-26T05:35:11.815Z"
   },
   {
    "duration": 244,
    "start_time": "2022-02-26T05:35:11.826Z"
   },
   {
    "duration": 10,
    "start_time": "2022-02-26T05:35:12.072Z"
   },
   {
    "duration": 32,
    "start_time": "2022-02-26T05:35:12.084Z"
   },
   {
    "duration": 24,
    "start_time": "2022-02-26T05:35:12.118Z"
   },
   {
    "duration": 211,
    "start_time": "2022-02-26T05:35:12.144Z"
   },
   {
    "duration": 18,
    "start_time": "2022-02-26T05:35:12.357Z"
   },
   {
    "duration": 20,
    "start_time": "2022-02-26T05:35:12.377Z"
   },
   {
    "duration": 39,
    "start_time": "2022-02-26T05:35:12.399Z"
   },
   {
    "duration": 3,
    "start_time": "2022-02-26T05:35:12.441Z"
   },
   {
    "duration": 215,
    "start_time": "2022-02-26T05:35:12.446Z"
   },
   {
    "duration": 212,
    "start_time": "2022-02-26T05:35:12.664Z"
   },
   {
    "duration": 221,
    "start_time": "2022-02-26T05:35:12.878Z"
   },
   {
    "duration": 220,
    "start_time": "2022-02-26T05:35:13.101Z"
   },
   {
    "duration": 85,
    "start_time": "2022-02-26T05:40:19.606Z"
   },
   {
    "duration": 7,
    "start_time": "2022-02-26T05:40:23.391Z"
   },
   {
    "duration": 5,
    "start_time": "2022-02-26T05:42:58.061Z"
   },
   {
    "duration": 351,
    "start_time": "2022-02-26T05:47:46.332Z"
   },
   {
    "duration": 349,
    "start_time": "2022-02-26T05:47:46.685Z"
   },
   {
    "duration": 237,
    "start_time": "2022-02-26T05:49:55.286Z"
   },
   {
    "duration": 631,
    "start_time": "2022-02-26T05:50:02.446Z"
   },
   {
    "duration": 618,
    "start_time": "2022-02-26T05:50:19.797Z"
   },
   {
    "duration": 1764,
    "start_time": "2022-02-26T05:50:45.271Z"
   },
   {
    "duration": 250,
    "start_time": "2022-02-26T05:50:54.445Z"
   },
   {
    "duration": 1792,
    "start_time": "2022-02-26T05:51:43.109Z"
   },
   {
    "duration": 1901,
    "start_time": "2022-02-26T05:51:51.532Z"
   },
   {
    "duration": 314,
    "start_time": "2022-02-26T05:52:39.357Z"
   },
   {
    "duration": 572,
    "start_time": "2022-02-26T05:52:45.757Z"
   },
   {
    "duration": 2148,
    "start_time": "2022-02-26T05:57:25.514Z"
   },
   {
    "duration": 117,
    "start_time": "2022-02-26T05:57:42.786Z"
   },
   {
    "duration": 80,
    "start_time": "2022-02-26T05:58:02.099Z"
   },
   {
    "duration": 556,
    "start_time": "2022-02-26T05:58:07.060Z"
   },
   {
    "duration": 475,
    "start_time": "2022-02-26T05:58:14.842Z"
   },
   {
    "duration": 624,
    "start_time": "2022-02-26T05:59:08.970Z"
   },
   {
    "duration": 525,
    "start_time": "2022-02-26T06:00:09.370Z"
   },
   {
    "duration": 599,
    "start_time": "2022-02-26T06:00:20.426Z"
   },
   {
    "duration": 1421,
    "start_time": "2022-02-26T06:00:57.362Z"
   },
   {
    "duration": 4126,
    "start_time": "2022-02-26T06:01:15.801Z"
   },
   {
    "duration": 862,
    "start_time": "2022-02-26T06:01:34.274Z"
   },
   {
    "duration": 946,
    "start_time": "2022-02-26T06:02:58.705Z"
   },
   {
    "duration": 982,
    "start_time": "2022-02-26T06:03:05.408Z"
   },
   {
    "duration": 999,
    "start_time": "2022-02-26T06:04:53.264Z"
   },
   {
    "duration": 833,
    "start_time": "2022-02-26T06:05:46.385Z"
   },
   {
    "duration": 225,
    "start_time": "2022-02-26T06:06:01.871Z"
   },
   {
    "duration": 490,
    "start_time": "2022-02-26T06:07:19.094Z"
   },
   {
    "duration": 334,
    "start_time": "2022-02-26T06:07:31.335Z"
   },
   {
    "duration": 440,
    "start_time": "2022-02-26T06:08:13.488Z"
   },
   {
    "duration": 438,
    "start_time": "2022-02-26T06:08:22.933Z"
   },
   {
    "duration": 448,
    "start_time": "2022-02-26T06:08:27.429Z"
   },
   {
    "duration": 437,
    "start_time": "2022-02-26T06:08:40.861Z"
   },
   {
    "duration": 470,
    "start_time": "2022-02-26T06:08:46.628Z"
   },
   {
    "duration": 439,
    "start_time": "2022-02-26T06:08:49.589Z"
   },
   {
    "duration": 441,
    "start_time": "2022-02-26T06:08:55.293Z"
   },
   {
    "duration": 630,
    "start_time": "2022-02-26T06:09:41.766Z"
   },
   {
    "duration": 663,
    "start_time": "2022-02-26T06:10:10.021Z"
   },
   {
    "duration": 586,
    "start_time": "2022-02-26T06:10:45.054Z"
   },
   {
    "duration": 1501,
    "start_time": "2022-02-26T06:11:26.548Z"
   },
   {
    "duration": 983,
    "start_time": "2022-02-26T06:11:41.020Z"
   },
   {
    "duration": 573,
    "start_time": "2022-02-26T06:12:40.817Z"
   },
   {
    "duration": 2671,
    "start_time": "2022-02-26T06:12:48.217Z"
   },
   {
    "duration": 3,
    "start_time": "2022-02-26T06:13:35.940Z"
   },
   {
    "duration": 933,
    "start_time": "2022-02-26T06:14:08.659Z"
   },
   {
    "duration": 784,
    "start_time": "2022-02-26T06:14:14.620Z"
   },
   {
    "duration": 774,
    "start_time": "2022-02-26T06:14:32.596Z"
   },
   {
    "duration": 3,
    "start_time": "2022-02-26T06:14:44.468Z"
   },
   {
    "duration": 24,
    "start_time": "2022-02-26T06:20:46.248Z"
   },
   {
    "duration": 25,
    "start_time": "2022-02-26T06:21:01.704Z"
   },
   {
    "duration": 20,
    "start_time": "2022-02-26T06:22:07.981Z"
   },
   {
    "duration": 26,
    "start_time": "2022-02-26T06:22:53.142Z"
   },
   {
    "duration": 76,
    "start_time": "2022-02-26T06:43:29.030Z"
   },
   {
    "duration": 1526,
    "start_time": "2022-02-26T15:06:46.716Z"
   },
   {
    "duration": 15,
    "start_time": "2022-02-26T15:06:48.244Z"
   },
   {
    "duration": 4,
    "start_time": "2022-02-26T15:06:48.262Z"
   },
   {
    "duration": 19,
    "start_time": "2022-02-26T15:06:48.268Z"
   },
   {
    "duration": 9,
    "start_time": "2022-02-26T15:06:48.289Z"
   },
   {
    "duration": 4,
    "start_time": "2022-02-26T15:06:48.300Z"
   },
   {
    "duration": 13,
    "start_time": "2022-02-26T15:06:48.306Z"
   },
   {
    "duration": 10,
    "start_time": "2022-02-26T15:06:48.323Z"
   },
   {
    "duration": 99,
    "start_time": "2022-02-26T15:06:48.337Z"
   },
   {
    "duration": 6,
    "start_time": "2022-02-26T15:06:48.438Z"
   },
   {
    "duration": 10,
    "start_time": "2022-02-26T15:06:48.446Z"
   },
   {
    "duration": 30,
    "start_time": "2022-02-26T15:06:48.458Z"
   },
   {
    "duration": 13,
    "start_time": "2022-02-26T15:06:48.491Z"
   },
   {
    "duration": 4,
    "start_time": "2022-02-26T15:06:48.507Z"
   },
   {
    "duration": 12,
    "start_time": "2022-02-26T15:06:48.514Z"
   },
   {
    "duration": 6,
    "start_time": "2022-02-26T15:06:48.529Z"
   },
   {
    "duration": 710,
    "start_time": "2022-02-26T15:06:48.538Z"
   },
   {
    "duration": 213,
    "start_time": "2022-02-26T15:06:49.250Z"
   },
   {
    "duration": 4,
    "start_time": "2022-02-26T15:06:49.465Z"
   },
   {
    "duration": 5,
    "start_time": "2022-02-26T15:06:49.482Z"
   },
   {
    "duration": 7,
    "start_time": "2022-02-26T15:06:49.489Z"
   },
   {
    "duration": 14,
    "start_time": "2022-02-26T15:06:49.498Z"
   },
   {
    "duration": 5,
    "start_time": "2022-02-26T15:06:49.518Z"
   },
   {
    "duration": 7,
    "start_time": "2022-02-26T15:06:49.526Z"
   },
   {
    "duration": 55,
    "start_time": "2022-02-26T15:06:49.535Z"
   },
   {
    "duration": 5,
    "start_time": "2022-02-26T15:06:49.592Z"
   },
   {
    "duration": 8,
    "start_time": "2022-02-26T15:06:49.599Z"
   },
   {
    "duration": 8,
    "start_time": "2022-02-26T15:06:49.608Z"
   },
   {
    "duration": 8,
    "start_time": "2022-02-26T15:06:49.618Z"
   },
   {
    "duration": 15,
    "start_time": "2022-02-26T15:06:49.628Z"
   },
   {
    "duration": 41,
    "start_time": "2022-02-26T15:06:49.645Z"
   },
   {
    "duration": 42,
    "start_time": "2022-02-26T15:06:49.688Z"
   },
   {
    "duration": 14,
    "start_time": "2022-02-26T15:06:49.733Z"
   },
   {
    "duration": 37,
    "start_time": "2022-02-26T15:06:49.750Z"
   },
   {
    "duration": 18,
    "start_time": "2022-02-26T15:06:49.790Z"
   },
   {
    "duration": 30,
    "start_time": "2022-02-26T15:06:49.811Z"
   },
   {
    "duration": 44,
    "start_time": "2022-02-26T15:06:49.844Z"
   },
   {
    "duration": 33,
    "start_time": "2022-02-26T15:06:49.891Z"
   },
   {
    "duration": 6,
    "start_time": "2022-02-26T15:06:49.927Z"
   },
   {
    "duration": 48,
    "start_time": "2022-02-26T15:06:49.936Z"
   },
   {
    "duration": 13,
    "start_time": "2022-02-26T15:06:49.986Z"
   },
   {
    "duration": 314,
    "start_time": "2022-02-26T15:06:50.002Z"
   },
   {
    "duration": 3,
    "start_time": "2022-02-26T15:06:50.319Z"
   },
   {
    "duration": 20,
    "start_time": "2022-02-26T15:06:50.325Z"
   },
   {
    "duration": 43,
    "start_time": "2022-02-26T15:06:50.347Z"
   },
   {
    "duration": 16,
    "start_time": "2022-02-26T15:06:50.392Z"
   },
   {
    "duration": 12,
    "start_time": "2022-02-26T15:06:50.419Z"
   },
   {
    "duration": 317,
    "start_time": "2022-02-26T15:06:50.433Z"
   },
   {
    "duration": 13,
    "start_time": "2022-02-26T15:06:50.752Z"
   },
   {
    "duration": 10,
    "start_time": "2022-02-26T15:06:50.782Z"
   },
   {
    "duration": 9,
    "start_time": "2022-02-26T15:06:50.795Z"
   },
   {
    "duration": 10,
    "start_time": "2022-02-26T15:06:50.806Z"
   },
   {
    "duration": 328,
    "start_time": "2022-02-26T15:06:50.818Z"
   },
   {
    "duration": 11,
    "start_time": "2022-02-26T15:06:51.148Z"
   },
   {
    "duration": 26,
    "start_time": "2022-02-26T15:06:51.162Z"
   },
   {
    "duration": 9,
    "start_time": "2022-02-26T15:06:51.191Z"
   },
   {
    "duration": 10,
    "start_time": "2022-02-26T15:06:51.202Z"
   },
   {
    "duration": 309,
    "start_time": "2022-02-26T15:06:51.214Z"
   },
   {
    "duration": 13,
    "start_time": "2022-02-26T15:06:51.525Z"
   },
   {
    "duration": 16,
    "start_time": "2022-02-26T15:06:51.541Z"
   },
   {
    "duration": 31,
    "start_time": "2022-02-26T15:06:51.559Z"
   },
   {
    "duration": 292,
    "start_time": "2022-02-26T15:06:51.592Z"
   },
   {
    "duration": 11,
    "start_time": "2022-02-26T15:06:51.887Z"
   },
   {
    "duration": 10,
    "start_time": "2022-02-26T15:06:51.901Z"
   },
   {
    "duration": 19,
    "start_time": "2022-02-26T15:06:51.914Z"
   },
   {
    "duration": 3,
    "start_time": "2022-02-26T15:06:51.935Z"
   },
   {
    "duration": 45,
    "start_time": "2022-02-26T15:06:51.940Z"
   },
   {
    "duration": 1152,
    "start_time": "2022-02-26T15:06:51.992Z"
   },
   {
    "duration": 7,
    "start_time": "2022-02-26T15:06:53.147Z"
   },
   {
    "duration": 1051,
    "start_time": "2022-02-26T15:06:53.156Z"
   },
   {
    "duration": 2,
    "start_time": "2022-02-26T15:06:54.210Z"
   },
   {
    "duration": 3414,
    "start_time": "2022-02-26T15:06:54.215Z"
   },
   {
    "duration": 3,
    "start_time": "2022-02-26T15:06:57.631Z"
   },
   {
    "duration": 48,
    "start_time": "2022-02-26T15:06:57.636Z"
   },
   {
    "duration": 3467,
    "start_time": "2022-02-26T15:09:39.660Z"
   },
   {
    "duration": 3356,
    "start_time": "2022-02-26T15:13:25.684Z"
   },
   {
    "duration": 4,
    "start_time": "2022-02-26T15:13:29.043Z"
   },
   {
    "duration": 386,
    "start_time": "2022-02-26T15:27:17.338Z"
   },
   {
    "duration": 3448,
    "start_time": "2022-02-26T15:27:22.836Z"
   },
   {
    "duration": 5669,
    "start_time": "2022-02-26T15:45:38.788Z"
   },
   {
    "duration": 33,
    "start_time": "2022-02-26T15:46:44.638Z"
   },
   {
    "duration": 19,
    "start_time": "2022-02-26T15:47:02.603Z"
   },
   {
    "duration": 7,
    "start_time": "2022-02-26T15:47:23.500Z"
   },
   {
    "duration": 158,
    "start_time": "2022-02-26T15:47:30.362Z"
   },
   {
    "duration": 18,
    "start_time": "2022-02-26T15:47:30.524Z"
   },
   {
    "duration": 40,
    "start_time": "2022-02-26T15:47:30.546Z"
   },
   {
    "duration": 31,
    "start_time": "2022-02-26T15:47:30.590Z"
   },
   {
    "duration": 31,
    "start_time": "2022-02-26T15:47:30.624Z"
   },
   {
    "duration": 20,
    "start_time": "2022-02-26T15:47:30.658Z"
   },
   {
    "duration": 41,
    "start_time": "2022-02-26T15:47:30.681Z"
   },
   {
    "duration": 16,
    "start_time": "2022-02-26T15:47:30.728Z"
   },
   {
    "duration": 87,
    "start_time": "2022-02-26T15:47:30.747Z"
   },
   {
    "duration": 6,
    "start_time": "2022-02-26T15:47:30.838Z"
   },
   {
    "duration": 12,
    "start_time": "2022-02-26T15:47:30.846Z"
   },
   {
    "duration": 25,
    "start_time": "2022-02-26T15:47:30.860Z"
   },
   {
    "duration": 22,
    "start_time": "2022-02-26T15:47:30.887Z"
   },
   {
    "duration": 4,
    "start_time": "2022-02-26T15:47:30.912Z"
   },
   {
    "duration": 25,
    "start_time": "2022-02-26T15:47:30.918Z"
   },
   {
    "duration": 19,
    "start_time": "2022-02-26T15:47:30.945Z"
   },
   {
    "duration": 719,
    "start_time": "2022-02-26T15:47:30.967Z"
   },
   {
    "duration": 230,
    "start_time": "2022-02-26T15:47:31.689Z"
   },
   {
    "duration": 5,
    "start_time": "2022-02-26T15:47:31.921Z"
   },
   {
    "duration": 10,
    "start_time": "2022-02-26T15:47:31.928Z"
   },
   {
    "duration": 9,
    "start_time": "2022-02-26T15:47:31.940Z"
   },
   {
    "duration": 41,
    "start_time": "2022-02-26T15:47:31.951Z"
   },
   {
    "duration": 5,
    "start_time": "2022-02-26T15:47:32.000Z"
   },
   {
    "duration": 9,
    "start_time": "2022-02-26T15:47:32.010Z"
   },
   {
    "duration": 15,
    "start_time": "2022-02-26T15:47:32.022Z"
   },
   {
    "duration": 7,
    "start_time": "2022-02-26T15:47:32.039Z"
   },
   {
    "duration": 37,
    "start_time": "2022-02-26T15:47:32.049Z"
   },
   {
    "duration": 9,
    "start_time": "2022-02-26T15:47:32.088Z"
   },
   {
    "duration": 5,
    "start_time": "2022-02-26T15:47:32.100Z"
   },
   {
    "duration": 8,
    "start_time": "2022-02-26T15:47:32.108Z"
   },
   {
    "duration": 8,
    "start_time": "2022-02-26T15:47:32.119Z"
   },
   {
    "duration": 83,
    "start_time": "2022-02-26T15:47:32.130Z"
   },
   {
    "duration": 13,
    "start_time": "2022-02-26T15:47:32.216Z"
   },
   {
    "duration": 5,
    "start_time": "2022-02-26T15:47:32.231Z"
   },
   {
    "duration": 50,
    "start_time": "2022-02-26T15:47:32.238Z"
   },
   {
    "duration": 33,
    "start_time": "2022-02-26T15:47:32.291Z"
   },
   {
    "duration": 7,
    "start_time": "2022-02-26T15:47:32.326Z"
   },
   {
    "duration": 60,
    "start_time": "2022-02-26T15:47:32.335Z"
   },
   {
    "duration": 5,
    "start_time": "2022-02-26T15:47:32.398Z"
   },
   {
    "duration": 20,
    "start_time": "2022-02-26T15:47:32.406Z"
   },
   {
    "duration": 17,
    "start_time": "2022-02-26T15:47:32.429Z"
   },
   {
    "duration": 308,
    "start_time": "2022-02-26T15:47:32.448Z"
   },
   {
    "duration": 2,
    "start_time": "2022-02-26T15:47:32.759Z"
   },
   {
    "duration": 31,
    "start_time": "2022-02-26T15:47:32.764Z"
   },
   {
    "duration": 10,
    "start_time": "2022-02-26T15:47:32.797Z"
   },
   {
    "duration": 10,
    "start_time": "2022-02-26T15:47:32.809Z"
   },
   {
    "duration": 10,
    "start_time": "2022-02-26T15:47:32.821Z"
   },
   {
    "duration": 343,
    "start_time": "2022-02-26T15:47:32.834Z"
   },
   {
    "duration": 13,
    "start_time": "2022-02-26T15:47:33.182Z"
   },
   {
    "duration": 12,
    "start_time": "2022-02-26T15:47:33.198Z"
   },
   {
    "duration": 11,
    "start_time": "2022-02-26T15:47:33.212Z"
   },
   {
    "duration": 11,
    "start_time": "2022-02-26T15:47:33.226Z"
   },
   {
    "duration": 300,
    "start_time": "2022-02-26T15:47:33.284Z"
   },
   {
    "duration": 11,
    "start_time": "2022-02-26T15:47:33.587Z"
   },
   {
    "duration": 9,
    "start_time": "2022-02-26T15:47:33.600Z"
   },
   {
    "duration": 10,
    "start_time": "2022-02-26T15:47:33.611Z"
   },
   {
    "duration": 11,
    "start_time": "2022-02-26T15:47:33.623Z"
   },
   {
    "duration": 324,
    "start_time": "2022-02-26T15:47:33.636Z"
   },
   {
    "duration": 25,
    "start_time": "2022-02-26T15:47:33.962Z"
   },
   {
    "duration": 14,
    "start_time": "2022-02-26T15:47:33.989Z"
   },
   {
    "duration": 9,
    "start_time": "2022-02-26T15:47:34.006Z"
   },
   {
    "duration": 301,
    "start_time": "2022-02-26T15:47:34.018Z"
   },
   {
    "duration": 12,
    "start_time": "2022-02-26T15:47:34.322Z"
   },
   {
    "duration": 10,
    "start_time": "2022-02-26T15:47:34.337Z"
   },
   {
    "duration": 44,
    "start_time": "2022-02-26T15:47:34.350Z"
   },
   {
    "duration": 3,
    "start_time": "2022-02-26T15:47:34.397Z"
   },
   {
    "duration": 10,
    "start_time": "2022-02-26T15:47:34.402Z"
   },
   {
    "duration": 1076,
    "start_time": "2022-02-26T15:47:34.418Z"
   },
   {
    "duration": 7,
    "start_time": "2022-02-26T15:47:35.496Z"
   },
   {
    "duration": 1221,
    "start_time": "2022-02-26T15:47:35.505Z"
   },
   {
    "duration": 3614,
    "start_time": "2022-02-26T15:47:36.728Z"
   },
   {
    "duration": 3,
    "start_time": "2022-02-26T15:47:40.344Z"
   },
   {
    "duration": 55,
    "start_time": "2022-02-26T15:47:40.350Z"
   },
   {
    "duration": 7,
    "start_time": "2022-02-26T15:47:40.408Z"
   },
   {
    "duration": 6,
    "start_time": "2022-02-26T15:47:52.379Z"
   },
   {
    "duration": 6515,
    "start_time": "2022-02-26T15:52:42.160Z"
   },
   {
    "duration": 5098,
    "start_time": "2022-02-26T15:53:27.529Z"
   },
   {
    "duration": 5749,
    "start_time": "2022-02-26T15:53:49.938Z"
   },
   {
    "duration": 53,
    "start_time": "2022-02-26T15:54:22.834Z"
   },
   {
    "duration": 481,
    "start_time": "2022-02-26T15:56:21.704Z"
   },
   {
    "duration": 488,
    "start_time": "2022-02-26T15:57:00.753Z"
   },
   {
    "duration": 526,
    "start_time": "2022-02-26T15:58:59.424Z"
   },
   {
    "duration": 528,
    "start_time": "2022-02-26T15:59:10.744Z"
   },
   {
    "duration": 495,
    "start_time": "2022-02-26T16:06:20.549Z"
   },
   {
    "duration": 534,
    "start_time": "2022-02-26T16:06:34.654Z"
   },
   {
    "duration": 539,
    "start_time": "2022-02-26T16:06:40.237Z"
   },
   {
    "duration": 480,
    "start_time": "2022-02-26T16:06:50.996Z"
   },
   {
    "duration": 448,
    "start_time": "2022-02-26T16:06:58.093Z"
   },
   {
    "duration": 565,
    "start_time": "2022-02-26T16:07:05.565Z"
   },
   {
    "duration": 519,
    "start_time": "2022-02-26T16:07:09.949Z"
   },
   {
    "duration": 518,
    "start_time": "2022-02-26T16:07:14.325Z"
   },
   {
    "duration": 511,
    "start_time": "2022-02-26T16:07:18.116Z"
   },
   {
    "duration": 518,
    "start_time": "2022-02-26T16:08:08.340Z"
   },
   {
    "duration": 66,
    "start_time": "2022-02-26T16:10:41.691Z"
   },
   {
    "duration": 964,
    "start_time": "2022-02-26T16:10:57.267Z"
   },
   {
    "duration": 934,
    "start_time": "2022-02-26T16:11:15.075Z"
   },
   {
    "duration": 276,
    "start_time": "2022-02-26T16:36:01.943Z"
   },
   {
    "duration": 6,
    "start_time": "2022-02-26T16:36:08.528Z"
   },
   {
    "duration": 432,
    "start_time": "2022-02-28T15:53:03.511Z"
   },
   {
    "duration": 1227,
    "start_time": "2022-02-28T15:53:08.287Z"
   },
   {
    "duration": 10,
    "start_time": "2022-02-28T15:53:09.515Z"
   },
   {
    "duration": 2,
    "start_time": "2022-02-28T15:53:09.527Z"
   },
   {
    "duration": 3,
    "start_time": "2022-02-28T15:53:09.531Z"
   },
   {
    "duration": 6,
    "start_time": "2022-02-28T15:53:09.536Z"
   },
   {
    "duration": 3,
    "start_time": "2022-02-28T15:53:09.543Z"
   },
   {
    "duration": 7,
    "start_time": "2022-02-28T15:53:09.548Z"
   },
   {
    "duration": 3,
    "start_time": "2022-02-28T15:53:09.558Z"
   },
   {
    "duration": 66,
    "start_time": "2022-02-28T15:53:09.562Z"
   },
   {
    "duration": 4,
    "start_time": "2022-02-28T15:53:09.629Z"
   },
   {
    "duration": 6,
    "start_time": "2022-02-28T15:53:09.634Z"
   },
   {
    "duration": 7,
    "start_time": "2022-02-28T15:53:09.641Z"
   },
   {
    "duration": 7,
    "start_time": "2022-02-28T15:53:09.649Z"
   },
   {
    "duration": 4,
    "start_time": "2022-02-28T15:53:09.658Z"
   },
   {
    "duration": 38,
    "start_time": "2022-02-28T15:53:09.664Z"
   },
   {
    "duration": 4,
    "start_time": "2022-02-28T15:53:09.704Z"
   },
   {
    "duration": 430,
    "start_time": "2022-02-28T15:53:09.709Z"
   },
   {
    "duration": 144,
    "start_time": "2022-02-28T15:53:10.140Z"
   },
   {
    "duration": 3,
    "start_time": "2022-02-28T15:53:10.286Z"
   },
   {
    "duration": 4,
    "start_time": "2022-02-28T15:53:10.301Z"
   },
   {
    "duration": 5,
    "start_time": "2022-02-28T15:53:10.307Z"
   },
   {
    "duration": 9,
    "start_time": "2022-02-28T15:53:10.314Z"
   },
   {
    "duration": 3,
    "start_time": "2022-02-28T15:53:10.327Z"
   },
   {
    "duration": 4,
    "start_time": "2022-02-28T15:53:10.332Z"
   },
   {
    "duration": 9,
    "start_time": "2022-02-28T15:53:10.338Z"
   },
   {
    "duration": 5,
    "start_time": "2022-02-28T15:53:10.348Z"
   },
   {
    "duration": 8,
    "start_time": "2022-02-28T15:53:10.354Z"
   },
   {
    "duration": 37,
    "start_time": "2022-02-28T15:53:10.364Z"
   },
   {
    "duration": 4,
    "start_time": "2022-02-28T15:53:10.402Z"
   },
   {
    "duration": 5,
    "start_time": "2022-02-28T15:53:10.408Z"
   },
   {
    "duration": 9,
    "start_time": "2022-02-28T15:53:10.414Z"
   },
   {
    "duration": 27,
    "start_time": "2022-02-28T15:53:10.424Z"
   },
   {
    "duration": 8,
    "start_time": "2022-02-28T15:53:10.453Z"
   },
   {
    "duration": 4,
    "start_time": "2022-02-28T15:53:10.463Z"
   },
   {
    "duration": 39,
    "start_time": "2022-02-28T15:53:10.469Z"
   },
   {
    "duration": 22,
    "start_time": "2022-02-28T15:53:10.510Z"
   },
   {
    "duration": 5,
    "start_time": "2022-02-28T15:53:10.534Z"
   },
   {
    "duration": 22,
    "start_time": "2022-02-28T15:53:10.540Z"
   },
   {
    "duration": 38,
    "start_time": "2022-02-28T15:53:10.563Z"
   },
   {
    "duration": 7,
    "start_time": "2022-02-28T15:53:10.603Z"
   },
   {
    "duration": 6,
    "start_time": "2022-02-28T15:53:10.612Z"
   },
   {
    "duration": 163,
    "start_time": "2022-02-28T15:53:10.620Z"
   },
   {
    "duration": 2,
    "start_time": "2022-02-28T15:53:10.784Z"
   },
   {
    "duration": 15,
    "start_time": "2022-02-28T15:53:10.787Z"
   },
   {
    "duration": 6,
    "start_time": "2022-02-28T15:53:10.804Z"
   },
   {
    "duration": 7,
    "start_time": "2022-02-28T15:53:10.811Z"
   },
   {
    "duration": 7,
    "start_time": "2022-02-28T15:53:10.819Z"
   },
   {
    "duration": 164,
    "start_time": "2022-02-28T15:53:10.828Z"
   },
   {
    "duration": 9,
    "start_time": "2022-02-28T15:53:10.994Z"
   },
   {
    "duration": 7,
    "start_time": "2022-02-28T15:53:11.004Z"
   },
   {
    "duration": 8,
    "start_time": "2022-02-28T15:53:11.012Z"
   },
   {
    "duration": 6,
    "start_time": "2022-02-28T15:53:11.022Z"
   },
   {
    "duration": 179,
    "start_time": "2022-02-28T15:53:11.030Z"
   },
   {
    "duration": 8,
    "start_time": "2022-02-28T15:53:11.210Z"
   },
   {
    "duration": 5,
    "start_time": "2022-02-28T15:53:11.219Z"
   },
   {
    "duration": 6,
    "start_time": "2022-02-28T15:53:11.226Z"
   },
   {
    "duration": 6,
    "start_time": "2022-02-28T15:53:11.234Z"
   },
   {
    "duration": 154,
    "start_time": "2022-02-28T15:53:11.252Z"
   },
   {
    "duration": 8,
    "start_time": "2022-02-28T15:53:11.407Z"
   },
   {
    "duration": 9,
    "start_time": "2022-02-28T15:53:11.416Z"
   },
   {
    "duration": 6,
    "start_time": "2022-02-28T15:53:11.426Z"
   },
   {
    "duration": 150,
    "start_time": "2022-02-28T15:53:11.434Z"
   },
   {
    "duration": 7,
    "start_time": "2022-02-28T15:53:11.586Z"
   },
   {
    "duration": 11,
    "start_time": "2022-02-28T15:53:11.595Z"
   },
   {
    "duration": 13,
    "start_time": "2022-02-28T15:53:11.607Z"
   },
   {
    "duration": 2,
    "start_time": "2022-02-28T15:53:11.622Z"
   },
   {
    "duration": 5,
    "start_time": "2022-02-28T15:53:11.625Z"
   },
   {
    "duration": 936,
    "start_time": "2022-02-28T15:53:11.635Z"
   },
   {
    "duration": 5,
    "start_time": "2022-02-28T15:53:12.572Z"
   },
   {
    "duration": 715,
    "start_time": "2022-02-28T15:53:12.578Z"
   },
   {
    "duration": 2355,
    "start_time": "2022-02-28T15:53:13.294Z"
   },
   {
    "duration": 2,
    "start_time": "2022-02-28T15:53:15.651Z"
   },
   {
    "duration": 22,
    "start_time": "2022-02-28T15:53:15.654Z"
   },
   {
    "duration": 381,
    "start_time": "2022-02-28T15:53:15.678Z"
   },
   {
    "duration": -71,
    "start_time": "2022-02-28T15:53:16.132Z"
   },
   {
    "duration": -73,
    "start_time": "2022-02-28T15:53:16.135Z"
   },
   {
    "duration": 368,
    "start_time": "2022-02-28T15:53:27.825Z"
   },
   {
    "duration": 138,
    "start_time": "2022-02-28T15:59:12.340Z"
   },
   {
    "duration": 3,
    "start_time": "2022-02-28T16:03:57.497Z"
   },
   {
    "duration": 1691,
    "start_time": "2022-03-04T09:17:01.599Z"
   },
   {
    "duration": 15,
    "start_time": "2022-03-04T09:17:03.293Z"
   },
   {
    "duration": 5,
    "start_time": "2022-03-04T09:17:03.311Z"
   },
   {
    "duration": 13,
    "start_time": "2022-03-04T09:17:03.318Z"
   },
   {
    "duration": 12,
    "start_time": "2022-03-04T09:17:03.333Z"
   },
   {
    "duration": 26,
    "start_time": "2022-03-04T09:17:03.348Z"
   },
   {
    "duration": 14,
    "start_time": "2022-03-04T09:17:03.377Z"
   },
   {
    "duration": 6,
    "start_time": "2022-03-04T09:17:03.394Z"
   },
   {
    "duration": 98,
    "start_time": "2022-03-04T09:17:03.404Z"
   },
   {
    "duration": 7,
    "start_time": "2022-03-04T09:17:03.505Z"
   },
   {
    "duration": 74,
    "start_time": "2022-03-04T09:17:03.514Z"
   },
   {
    "duration": 23,
    "start_time": "2022-03-04T09:17:03.590Z"
   },
   {
    "duration": 16,
    "start_time": "2022-03-04T09:17:03.616Z"
   },
   {
    "duration": 6,
    "start_time": "2022-03-04T09:17:03.634Z"
   },
   {
    "duration": 15,
    "start_time": "2022-03-04T09:17:03.643Z"
   },
   {
    "duration": 7,
    "start_time": "2022-03-04T09:17:03.673Z"
   },
   {
    "duration": 707,
    "start_time": "2022-03-04T09:17:03.682Z"
   },
   {
    "duration": 256,
    "start_time": "2022-03-04T09:17:04.393Z"
   },
   {
    "duration": 6,
    "start_time": "2022-03-04T09:17:04.652Z"
   },
   {
    "duration": 13,
    "start_time": "2022-03-04T09:17:04.661Z"
   },
   {
    "duration": 9,
    "start_time": "2022-03-04T09:17:04.677Z"
   },
   {
    "duration": 15,
    "start_time": "2022-03-04T09:17:04.688Z"
   },
   {
    "duration": 6,
    "start_time": "2022-03-04T09:17:04.706Z"
   },
   {
    "duration": 6,
    "start_time": "2022-03-04T09:17:04.714Z"
   },
   {
    "duration": 62,
    "start_time": "2022-03-04T09:17:04.723Z"
   },
   {
    "duration": 5,
    "start_time": "2022-03-04T09:17:04.788Z"
   },
   {
    "duration": 6,
    "start_time": "2022-03-04T09:17:04.801Z"
   },
   {
    "duration": 8,
    "start_time": "2022-03-04T09:17:04.810Z"
   },
   {
    "duration": 9,
    "start_time": "2022-03-04T09:17:04.821Z"
   },
   {
    "duration": 43,
    "start_time": "2022-03-04T09:17:04.833Z"
   },
   {
    "duration": 10,
    "start_time": "2022-03-04T09:17:04.879Z"
   },
   {
    "duration": 45,
    "start_time": "2022-03-04T09:17:04.892Z"
   },
   {
    "duration": 42,
    "start_time": "2022-03-04T09:17:04.940Z"
   },
   {
    "duration": 5,
    "start_time": "2022-03-04T09:17:04.985Z"
   },
   {
    "duration": 20,
    "start_time": "2022-03-04T09:17:04.992Z"
   },
   {
    "duration": 76,
    "start_time": "2022-03-04T09:17:05.014Z"
   },
   {
    "duration": 8,
    "start_time": "2022-03-04T09:17:05.093Z"
   },
   {
    "duration": 44,
    "start_time": "2022-03-04T09:17:05.103Z"
   },
   {
    "duration": 24,
    "start_time": "2022-03-04T09:17:05.149Z"
   },
   {
    "duration": 12,
    "start_time": "2022-03-04T09:17:05.176Z"
   },
   {
    "duration": 14,
    "start_time": "2022-03-04T09:17:05.191Z"
   },
   {
    "duration": 333,
    "start_time": "2022-03-04T09:17:05.208Z"
   },
   {
    "duration": 3,
    "start_time": "2022-03-04T09:17:05.543Z"
   },
   {
    "duration": 39,
    "start_time": "2022-03-04T09:17:05.549Z"
   },
   {
    "duration": 11,
    "start_time": "2022-03-04T09:17:05.591Z"
   },
   {
    "duration": 10,
    "start_time": "2022-03-04T09:17:05.604Z"
   },
   {
    "duration": 14,
    "start_time": "2022-03-04T09:17:05.617Z"
   },
   {
    "duration": 344,
    "start_time": "2022-03-04T09:17:05.634Z"
   },
   {
    "duration": 14,
    "start_time": "2022-03-04T09:17:05.980Z"
   },
   {
    "duration": 18,
    "start_time": "2022-03-04T09:17:05.997Z"
   },
   {
    "duration": 9,
    "start_time": "2022-03-04T09:17:06.018Z"
   },
   {
    "duration": 44,
    "start_time": "2022-03-04T09:17:06.030Z"
   },
   {
    "duration": 370,
    "start_time": "2022-03-04T09:17:06.077Z"
   },
   {
    "duration": 32,
    "start_time": "2022-03-04T09:17:06.450Z"
   },
   {
    "duration": 13,
    "start_time": "2022-03-04T09:17:06.485Z"
   },
   {
    "duration": 13,
    "start_time": "2022-03-04T09:17:06.501Z"
   },
   {
    "duration": 12,
    "start_time": "2022-03-04T09:17:06.516Z"
   },
   {
    "duration": 371,
    "start_time": "2022-03-04T09:17:06.530Z"
   },
   {
    "duration": 17,
    "start_time": "2022-03-04T09:17:06.903Z"
   },
   {
    "duration": 16,
    "start_time": "2022-03-04T09:17:06.922Z"
   },
   {
    "duration": 43,
    "start_time": "2022-03-04T09:17:06.941Z"
   },
   {
    "duration": 335,
    "start_time": "2022-03-04T09:17:06.987Z"
   },
   {
    "duration": 13,
    "start_time": "2022-03-04T09:17:07.324Z"
   },
   {
    "duration": 37,
    "start_time": "2022-03-04T09:17:07.340Z"
   },
   {
    "duration": 31,
    "start_time": "2022-03-04T09:17:07.379Z"
   },
   {
    "duration": 3,
    "start_time": "2022-03-04T09:17:07.412Z"
   },
   {
    "duration": 20,
    "start_time": "2022-03-04T09:17:07.417Z"
   },
   {
    "duration": 1189,
    "start_time": "2022-03-04T09:17:07.440Z"
   },
   {
    "duration": 9,
    "start_time": "2022-03-04T09:17:08.631Z"
   },
   {
    "duration": 1858,
    "start_time": "2022-03-04T09:17:08.643Z"
   },
   {
    "duration": 3927,
    "start_time": "2022-03-04T09:17:10.504Z"
   },
   {
    "duration": 3,
    "start_time": "2022-03-04T09:17:14.434Z"
   },
   {
    "duration": 71,
    "start_time": "2022-03-04T09:17:14.439Z"
   },
   {
    "duration": 598,
    "start_time": "2022-03-04T09:17:14.513Z"
   },
   {
    "duration": -8154,
    "start_time": "2022-03-04T09:17:23.269Z"
   },
   {
    "duration": -8155,
    "start_time": "2022-03-04T09:17:23.272Z"
   },
   {
    "duration": 302,
    "start_time": "2022-03-04T09:17:42.105Z"
   },
   {
    "duration": 350,
    "start_time": "2022-03-04T09:18:07.612Z"
   },
   {
    "duration": 296,
    "start_time": "2022-03-04T09:18:53.637Z"
   },
   {
    "duration": 55,
    "start_time": "2022-03-04T09:19:47.327Z"
   },
   {
    "duration": 1054,
    "start_time": "2022-03-04T09:19:52.418Z"
   },
   {
    "duration": 7139,
    "start_time": "2022-03-04T09:20:00.577Z"
   },
   {
    "duration": 488,
    "start_time": "2022-03-04T09:20:30.077Z"
   },
   {
    "duration": 521,
    "start_time": "2022-03-04T09:22:20.053Z"
   },
   {
    "duration": 578,
    "start_time": "2022-03-04T09:22:25.221Z"
   },
   {
    "duration": 420,
    "start_time": "2022-03-04T09:22:31.359Z"
   },
   {
    "duration": 6775,
    "start_time": "2022-03-04T09:23:05.692Z"
   },
   {
    "duration": 311,
    "start_time": "2022-03-04T09:23:39.813Z"
   },
   {
    "duration": 249,
    "start_time": "2022-03-04T09:26:05.329Z"
   },
   {
    "duration": 59,
    "start_time": "2022-03-04T09:27:36.367Z"
   },
   {
    "duration": 52,
    "start_time": "2022-03-04T09:27:50.793Z"
   },
   {
    "duration": 399,
    "start_time": "2022-03-04T09:28:20.688Z"
   },
   {
    "duration": 402,
    "start_time": "2022-03-04T09:28:59.626Z"
   },
   {
    "duration": 420,
    "start_time": "2022-03-04T09:29:17.730Z"
   },
   {
    "duration": 262,
    "start_time": "2022-03-04T09:30:08.742Z"
   },
   {
    "duration": 52,
    "start_time": "2022-03-04T09:30:09.999Z"
   },
   {
    "duration": 384,
    "start_time": "2022-03-04T09:30:12.125Z"
   },
   {
    "duration": 6786,
    "start_time": "2022-03-04T09:32:38.324Z"
   },
   {
    "duration": 9,
    "start_time": "2022-03-04T09:34:42.700Z"
   },
   {
    "duration": 110,
    "start_time": "2022-03-04T09:35:55.295Z"
   },
   {
    "duration": 113,
    "start_time": "2022-03-04T09:36:03.631Z"
   },
   {
    "duration": 11,
    "start_time": "2022-03-04T09:37:14.915Z"
   },
   {
    "duration": 3362,
    "start_time": "2022-03-04T11:04:35.552Z"
   },
   {
    "duration": 10,
    "start_time": "2022-03-04T11:05:04.605Z"
   },
   {
    "duration": 12,
    "start_time": "2022-03-04T11:05:06.731Z"
   },
   {
    "duration": 421,
    "start_time": "2022-03-04T11:05:50.429Z"
   },
   {
    "duration": 311,
    "start_time": "2022-03-04T11:06:08.265Z"
   },
   {
    "duration": 13,
    "start_time": "2022-03-04T11:06:09.633Z"
   },
   {
    "duration": 13,
    "start_time": "2022-03-04T11:06:16.290Z"
   },
   {
    "duration": 283,
    "start_time": "2022-03-04T11:06:23.302Z"
   },
   {
    "duration": 13,
    "start_time": "2022-03-04T11:06:30.341Z"
   },
   {
    "duration": 297,
    "start_time": "2022-03-04T11:06:35.683Z"
   },
   {
    "duration": 313,
    "start_time": "2022-03-04T11:11:20.093Z"
   },
   {
    "duration": 7,
    "start_time": "2022-03-04T11:12:14.932Z"
   },
   {
    "duration": 288,
    "start_time": "2022-03-04T11:20:38.435Z"
   },
   {
    "duration": 300,
    "start_time": "2022-03-04T11:20:47.175Z"
   },
   {
    "duration": 54,
    "start_time": "2022-03-04T11:22:26.344Z"
   },
   {
    "duration": 81,
    "start_time": "2022-03-04T11:28:32.107Z"
   },
   {
    "duration": 11,
    "start_time": "2022-03-04T11:33:36.605Z"
   },
   {
    "duration": 1635,
    "start_time": "2022-03-04T11:35:50.047Z"
   },
   {
    "duration": 16,
    "start_time": "2022-03-04T11:35:51.685Z"
   },
   {
    "duration": 5,
    "start_time": "2022-03-04T11:35:51.704Z"
   },
   {
    "duration": 13,
    "start_time": "2022-03-04T11:35:51.711Z"
   },
   {
    "duration": 15,
    "start_time": "2022-03-04T11:35:51.726Z"
   },
   {
    "duration": 31,
    "start_time": "2022-03-04T11:35:51.744Z"
   },
   {
    "duration": 14,
    "start_time": "2022-03-04T11:35:51.779Z"
   },
   {
    "duration": 9,
    "start_time": "2022-03-04T11:35:51.796Z"
   },
   {
    "duration": 102,
    "start_time": "2022-03-04T11:35:51.811Z"
   },
   {
    "duration": 6,
    "start_time": "2022-03-04T11:35:51.917Z"
   },
   {
    "duration": 24,
    "start_time": "2022-03-04T11:35:51.926Z"
   },
   {
    "duration": 30,
    "start_time": "2022-03-04T11:35:51.953Z"
   },
   {
    "duration": 32,
    "start_time": "2022-03-04T11:35:51.985Z"
   },
   {
    "duration": 26,
    "start_time": "2022-03-04T11:35:52.020Z"
   },
   {
    "duration": 18,
    "start_time": "2022-03-04T11:35:52.049Z"
   },
   {
    "duration": 9,
    "start_time": "2022-03-04T11:35:52.069Z"
   },
   {
    "duration": 698,
    "start_time": "2022-03-04T11:35:52.080Z"
   },
   {
    "duration": 253,
    "start_time": "2022-03-04T11:35:52.780Z"
   },
   {
    "duration": 5,
    "start_time": "2022-03-04T11:35:53.036Z"
   },
   {
    "duration": 19,
    "start_time": "2022-03-04T11:35:53.044Z"
   },
   {
    "duration": 11,
    "start_time": "2022-03-04T11:35:53.074Z"
   },
   {
    "duration": 33,
    "start_time": "2022-03-04T11:35:53.088Z"
   },
   {
    "duration": 10,
    "start_time": "2022-03-04T11:35:53.124Z"
   },
   {
    "duration": 24,
    "start_time": "2022-03-04T11:35:53.137Z"
   },
   {
    "duration": 29,
    "start_time": "2022-03-04T11:35:53.164Z"
   },
   {
    "duration": 12,
    "start_time": "2022-03-04T11:35:53.196Z"
   },
   {
    "duration": 22,
    "start_time": "2022-03-04T11:35:53.218Z"
   },
   {
    "duration": 9,
    "start_time": "2022-03-04T11:35:53.245Z"
   },
   {
    "duration": 13,
    "start_time": "2022-03-04T11:35:53.257Z"
   },
   {
    "duration": 8,
    "start_time": "2022-03-04T11:35:53.274Z"
   },
   {
    "duration": 21,
    "start_time": "2022-03-04T11:35:53.285Z"
   },
   {
    "duration": 52,
    "start_time": "2022-03-04T11:35:53.308Z"
   },
   {
    "duration": 16,
    "start_time": "2022-03-04T11:35:53.372Z"
   },
   {
    "duration": 8,
    "start_time": "2022-03-04T11:35:53.391Z"
   },
   {
    "duration": 30,
    "start_time": "2022-03-04T11:35:53.402Z"
   },
   {
    "duration": 66,
    "start_time": "2022-03-04T11:35:53.435Z"
   },
   {
    "duration": 9,
    "start_time": "2022-03-04T11:35:53.504Z"
   },
   {
    "duration": 63,
    "start_time": "2022-03-04T11:35:53.516Z"
   },
   {
    "duration": 6,
    "start_time": "2022-03-04T11:35:53.583Z"
   },
   {
    "duration": 18,
    "start_time": "2022-03-04T11:35:53.592Z"
   },
   {
    "duration": 15,
    "start_time": "2022-03-04T11:35:53.612Z"
   },
   {
    "duration": 329,
    "start_time": "2022-03-04T11:35:53.629Z"
   },
   {
    "duration": 29,
    "start_time": "2022-03-04T11:35:53.960Z"
   },
   {
    "duration": 11,
    "start_time": "2022-03-04T11:35:53.991Z"
   },
   {
    "duration": 17,
    "start_time": "2022-03-04T11:35:54.005Z"
   },
   {
    "duration": 11,
    "start_time": "2022-03-04T11:35:54.025Z"
   },
   {
    "duration": 337,
    "start_time": "2022-03-04T11:35:54.038Z"
   },
   {
    "duration": 14,
    "start_time": "2022-03-04T11:35:54.377Z"
   },
   {
    "duration": 13,
    "start_time": "2022-03-04T11:35:54.393Z"
   },
   {
    "duration": 10,
    "start_time": "2022-03-04T11:35:54.408Z"
   },
   {
    "duration": 13,
    "start_time": "2022-03-04T11:35:54.421Z"
   },
   {
    "duration": 326,
    "start_time": "2022-03-04T11:35:54.474Z"
   },
   {
    "duration": 11,
    "start_time": "2022-03-04T11:35:54.803Z"
   },
   {
    "duration": 23,
    "start_time": "2022-03-04T11:35:54.817Z"
   },
   {
    "duration": 17,
    "start_time": "2022-03-04T11:35:54.843Z"
   },
   {
    "duration": 12,
    "start_time": "2022-03-04T11:35:54.874Z"
   },
   {
    "duration": 318,
    "start_time": "2022-03-04T11:35:54.888Z"
   },
   {
    "duration": 13,
    "start_time": "2022-03-04T11:35:55.208Z"
   },
   {
    "duration": 15,
    "start_time": "2022-03-04T11:35:55.224Z"
   },
   {
    "duration": 36,
    "start_time": "2022-03-04T11:35:55.242Z"
   },
   {
    "duration": 313,
    "start_time": "2022-03-04T11:35:55.281Z"
   },
   {
    "duration": 12,
    "start_time": "2022-03-04T11:35:55.597Z"
   },
   {
    "duration": 28,
    "start_time": "2022-03-04T11:35:55.611Z"
   },
   {
    "duration": 33,
    "start_time": "2022-03-04T11:35:55.642Z"
   },
   {
    "duration": 7,
    "start_time": "2022-03-04T11:35:55.678Z"
   },
   {
    "duration": 533,
    "start_time": "2022-03-04T11:35:55.688Z"
   },
   {
    "duration": 8,
    "start_time": "2022-03-04T11:35:56.223Z"
   },
   {
    "duration": 615,
    "start_time": "2022-03-04T11:35:56.233Z"
   },
   {
    "duration": 3689,
    "start_time": "2022-03-04T11:35:56.850Z"
   },
   {
    "duration": 48,
    "start_time": "2022-03-04T11:36:00.541Z"
   },
   {
    "duration": 60,
    "start_time": "2022-03-04T11:36:00.592Z"
   },
   {
    "duration": 453,
    "start_time": "2022-03-04T11:36:00.654Z"
   },
   {
    "duration": 9,
    "start_time": "2022-03-04T11:36:01.110Z"
   },
   {
    "duration": 23,
    "start_time": "2022-03-04T11:36:01.121Z"
   },
   {
    "duration": 334,
    "start_time": "2022-03-04T11:36:01.147Z"
   },
   {
    "duration": 12,
    "start_time": "2022-03-04T11:36:01.484Z"
   },
   {
    "duration": 429,
    "start_time": "2022-03-04T11:36:01.498Z"
   },
   {
    "duration": 11,
    "start_time": "2022-03-04T11:36:01.930Z"
   },
   {
    "duration": 307,
    "start_time": "2022-03-04T11:36:01.943Z"
   },
   {
    "duration": 22,
    "start_time": "2022-03-04T11:36:02.253Z"
   },
   {
    "duration": 319,
    "start_time": "2022-03-04T11:36:02.283Z"
   },
   {
    "duration": 3238,
    "start_time": "2022-03-04T11:36:02.604Z"
   },
   {
    "duration": 104,
    "start_time": "2022-03-04T11:36:05.845Z"
   },
   {
    "duration": 2243,
    "start_time": "2022-03-04T11:57:03.810Z"
   },
   {
    "duration": 16,
    "start_time": "2022-03-04T11:57:06.057Z"
   },
   {
    "duration": 9,
    "start_time": "2022-03-04T11:57:06.076Z"
   },
   {
    "duration": 11,
    "start_time": "2022-03-04T11:57:06.088Z"
   },
   {
    "duration": 37,
    "start_time": "2022-03-04T11:57:06.101Z"
   },
   {
    "duration": 7,
    "start_time": "2022-03-04T11:57:06.140Z"
   },
   {
    "duration": 17,
    "start_time": "2022-03-04T11:57:06.150Z"
   },
   {
    "duration": 5,
    "start_time": "2022-03-04T11:57:06.170Z"
   },
   {
    "duration": 101,
    "start_time": "2022-03-04T11:57:06.180Z"
   },
   {
    "duration": 6,
    "start_time": "2022-03-04T11:57:06.284Z"
   },
   {
    "duration": 27,
    "start_time": "2022-03-04T11:57:06.292Z"
   },
   {
    "duration": 17,
    "start_time": "2022-03-04T11:57:06.321Z"
   },
   {
    "duration": 27,
    "start_time": "2022-03-04T11:57:06.341Z"
   },
   {
    "duration": 7,
    "start_time": "2022-03-04T11:57:06.370Z"
   },
   {
    "duration": 31,
    "start_time": "2022-03-04T11:57:06.379Z"
   },
   {
    "duration": 8,
    "start_time": "2022-03-04T11:57:06.413Z"
   },
   {
    "duration": 723,
    "start_time": "2022-03-04T11:57:06.433Z"
   },
   {
    "duration": 253,
    "start_time": "2022-03-04T11:57:07.158Z"
   },
   {
    "duration": 6,
    "start_time": "2022-03-04T11:57:07.413Z"
   },
   {
    "duration": 7,
    "start_time": "2022-03-04T11:57:07.433Z"
   },
   {
    "duration": 8,
    "start_time": "2022-03-04T11:57:07.442Z"
   },
   {
    "duration": 15,
    "start_time": "2022-03-04T11:57:07.452Z"
   },
   {
    "duration": 6,
    "start_time": "2022-03-04T11:57:07.470Z"
   },
   {
    "duration": 16,
    "start_time": "2022-03-04T11:57:07.479Z"
   },
   {
    "duration": 16,
    "start_time": "2022-03-04T11:57:07.534Z"
   },
   {
    "duration": 7,
    "start_time": "2022-03-04T11:57:07.552Z"
   },
   {
    "duration": 5,
    "start_time": "2022-03-04T11:57:07.567Z"
   },
   {
    "duration": 6,
    "start_time": "2022-03-04T11:57:07.576Z"
   },
   {
    "duration": 48,
    "start_time": "2022-03-04T11:57:07.585Z"
   },
   {
    "duration": 6,
    "start_time": "2022-03-04T11:57:07.635Z"
   },
   {
    "duration": 7,
    "start_time": "2022-03-04T11:57:07.644Z"
   },
   {
    "duration": 44,
    "start_time": "2022-03-04T11:57:07.654Z"
   },
   {
    "duration": 14,
    "start_time": "2022-03-04T11:57:07.732Z"
   },
   {
    "duration": 5,
    "start_time": "2022-03-04T11:57:07.749Z"
   },
   {
    "duration": 17,
    "start_time": "2022-03-04T11:57:07.757Z"
   },
   {
    "duration": 72,
    "start_time": "2022-03-04T11:57:07.777Z"
   },
   {
    "duration": 7,
    "start_time": "2022-03-04T11:57:07.851Z"
   },
   {
    "duration": 34,
    "start_time": "2022-03-04T11:57:07.861Z"
   },
   {
    "duration": 5,
    "start_time": "2022-03-04T11:57:07.897Z"
   },
   {
    "duration": 10,
    "start_time": "2022-03-04T11:57:07.933Z"
   },
   {
    "duration": 11,
    "start_time": "2022-03-04T11:57:07.946Z"
   },
   {
    "duration": 328,
    "start_time": "2022-03-04T11:57:07.959Z"
   },
   {
    "duration": 17,
    "start_time": "2022-03-04T11:57:08.289Z"
   },
   {
    "duration": 30,
    "start_time": "2022-03-04T11:57:08.309Z"
   },
   {
    "duration": 9,
    "start_time": "2022-03-04T11:57:08.342Z"
   },
   {
    "duration": 10,
    "start_time": "2022-03-04T11:57:08.354Z"
   },
   {
    "duration": 331,
    "start_time": "2022-03-04T11:57:08.366Z"
   },
   {
    "duration": 13,
    "start_time": "2022-03-04T11:57:08.699Z"
   },
   {
    "duration": 10,
    "start_time": "2022-03-04T11:57:08.733Z"
   },
   {
    "duration": 9,
    "start_time": "2022-03-04T11:57:08.746Z"
   },
   {
    "duration": 10,
    "start_time": "2022-03-04T11:57:08.757Z"
   },
   {
    "duration": 351,
    "start_time": "2022-03-04T11:57:08.770Z"
   },
   {
    "duration": 16,
    "start_time": "2022-03-04T11:57:09.124Z"
   },
   {
    "duration": 9,
    "start_time": "2022-03-04T11:57:09.142Z"
   },
   {
    "duration": 9,
    "start_time": "2022-03-04T11:57:09.154Z"
   },
   {
    "duration": 10,
    "start_time": "2022-03-04T11:57:09.166Z"
   },
   {
    "duration": 339,
    "start_time": "2022-03-04T11:57:09.178Z"
   },
   {
    "duration": 18,
    "start_time": "2022-03-04T11:57:09.519Z"
   },
   {
    "duration": 17,
    "start_time": "2022-03-04T11:57:09.540Z"
   },
   {
    "duration": 13,
    "start_time": "2022-03-04T11:57:09.561Z"
   },
   {
    "duration": 459,
    "start_time": "2022-03-04T11:57:09.577Z"
   },
   {
    "duration": 13,
    "start_time": "2022-03-04T11:57:10.038Z"
   },
   {
    "duration": 12,
    "start_time": "2022-03-04T11:57:10.053Z"
   },
   {
    "duration": 21,
    "start_time": "2022-03-04T11:57:10.067Z"
   },
   {
    "duration": 46,
    "start_time": "2022-03-04T11:57:10.090Z"
   },
   {
    "duration": 528,
    "start_time": "2022-03-04T11:57:10.139Z"
   },
   {
    "duration": 7,
    "start_time": "2022-03-04T11:57:10.669Z"
   },
   {
    "duration": 602,
    "start_time": "2022-03-04T11:57:10.679Z"
   },
   {
    "duration": 3525,
    "start_time": "2022-03-04T11:57:11.284Z"
   },
   {
    "duration": 42,
    "start_time": "2022-03-04T11:57:14.812Z"
   },
   {
    "duration": 77,
    "start_time": "2022-03-04T11:57:14.857Z"
   },
   {
    "duration": 415,
    "start_time": "2022-03-04T11:57:14.936Z"
   },
   {
    "duration": 8,
    "start_time": "2022-03-04T11:57:15.354Z"
   },
   {
    "duration": 14,
    "start_time": "2022-03-04T11:57:15.364Z"
   },
   {
    "duration": 319,
    "start_time": "2022-03-04T11:57:15.380Z"
   },
   {
    "duration": 12,
    "start_time": "2022-03-04T11:57:15.702Z"
   },
   {
    "duration": 312,
    "start_time": "2022-03-04T11:57:15.716Z"
   },
   {
    "duration": 11,
    "start_time": "2022-03-04T11:57:16.032Z"
   },
   {
    "duration": 300,
    "start_time": "2022-03-04T11:57:16.045Z"
   },
   {
    "duration": 13,
    "start_time": "2022-03-04T11:57:16.348Z"
   },
   {
    "duration": 346,
    "start_time": "2022-03-04T11:57:16.372Z"
   },
   {
    "duration": 3084,
    "start_time": "2022-03-04T11:57:16.721Z"
   },
   {
    "duration": 161,
    "start_time": "2022-03-04T14:00:19.409Z"
   },
   {
    "duration": 2531,
    "start_time": "2022-03-04T14:44:53.204Z"
   },
   {
    "duration": 16,
    "start_time": "2022-03-04T14:44:55.738Z"
   },
   {
    "duration": 4,
    "start_time": "2022-03-04T14:44:58.092Z"
   },
   {
    "duration": 5,
    "start_time": "2022-03-04T14:44:58.731Z"
   },
   {
    "duration": 11,
    "start_time": "2022-03-04T14:44:59.701Z"
   },
   {
    "duration": 6,
    "start_time": "2022-03-04T14:45:02.028Z"
   },
   {
    "duration": 14,
    "start_time": "2022-03-04T14:45:03.189Z"
   },
   {
    "duration": 7,
    "start_time": "2022-03-04T14:45:04.605Z"
   },
   {
    "duration": 35,
    "start_time": "2022-03-04T14:45:19.074Z"
   },
   {
    "duration": 8,
    "start_time": "2022-03-04T14:45:41.219Z"
   },
   {
    "duration": 12,
    "start_time": "2022-03-04T14:46:02.699Z"
   },
   {
    "duration": 61,
    "start_time": "2022-03-04T14:47:16.731Z"
   },
   {
    "duration": 6,
    "start_time": "2022-03-04T14:47:20.188Z"
   },
   {
    "duration": 7,
    "start_time": "2022-03-04T14:47:33.979Z"
   },
   {
    "duration": 10,
    "start_time": "2022-03-04T14:47:45.203Z"
   },
   {
    "duration": 12,
    "start_time": "2022-03-04T14:50:27.557Z"
   },
   {
    "duration": 6,
    "start_time": "2022-03-04T14:50:39.968Z"
   },
   {
    "duration": 17,
    "start_time": "2022-03-04T14:51:07.856Z"
   },
   {
    "duration": 7,
    "start_time": "2022-03-04T14:51:13.705Z"
   },
   {
    "duration": 687,
    "start_time": "2022-03-04T15:02:24.393Z"
   },
   {
    "duration": 9,
    "start_time": "2022-03-04T15:02:49.994Z"
   },
   {
    "duration": 13,
    "start_time": "2022-03-04T15:06:07.444Z"
   },
   {
    "duration": 13,
    "start_time": "2022-03-04T15:07:01.532Z"
   },
   {
    "duration": 13,
    "start_time": "2022-03-04T15:07:06.075Z"
   },
   {
    "duration": 274,
    "start_time": "2022-03-04T16:01:59.012Z"
   },
   {
    "duration": 526,
    "start_time": "2022-03-04T16:02:27.387Z"
   },
   {
    "duration": 305,
    "start_time": "2022-03-04T16:02:33.796Z"
   },
   {
    "duration": 271,
    "start_time": "2022-03-04T16:04:01.284Z"
   },
   {
    "duration": 352,
    "start_time": "2022-03-04T16:04:15.027Z"
   },
   {
    "duration": 340,
    "start_time": "2022-03-04T16:04:25.795Z"
   },
   {
    "duration": 111,
    "start_time": "2022-03-04T16:51:01.566Z"
   },
   {
    "duration": 1591,
    "start_time": "2022-03-04T16:57:07.699Z"
   },
   {
    "duration": 15,
    "start_time": "2022-03-04T16:57:09.293Z"
   },
   {
    "duration": 20,
    "start_time": "2022-03-04T16:57:09.311Z"
   },
   {
    "duration": 4,
    "start_time": "2022-03-04T16:57:09.334Z"
   },
   {
    "duration": 7,
    "start_time": "2022-03-04T16:57:09.341Z"
   },
   {
    "duration": 4,
    "start_time": "2022-03-04T16:57:09.351Z"
   },
   {
    "duration": 12,
    "start_time": "2022-03-04T16:57:09.357Z"
   },
   {
    "duration": 4,
    "start_time": "2022-03-04T16:57:09.373Z"
   },
   {
    "duration": 104,
    "start_time": "2022-03-04T16:57:09.379Z"
   },
   {
    "duration": 5,
    "start_time": "2022-03-04T16:57:09.485Z"
   },
   {
    "duration": 8,
    "start_time": "2022-03-04T16:57:09.492Z"
   },
   {
    "duration": 10,
    "start_time": "2022-03-04T16:57:09.533Z"
   },
   {
    "duration": 11,
    "start_time": "2022-03-04T16:57:09.545Z"
   },
   {
    "duration": 5,
    "start_time": "2022-03-04T16:57:09.559Z"
   },
   {
    "duration": 11,
    "start_time": "2022-03-04T16:57:09.567Z"
   },
   {
    "duration": 6,
    "start_time": "2022-03-04T16:57:09.580Z"
   },
   {
    "duration": 682,
    "start_time": "2022-03-04T16:57:09.632Z"
   },
   {
    "duration": 237,
    "start_time": "2022-03-04T16:57:10.317Z"
   },
   {
    "duration": 5,
    "start_time": "2022-03-04T16:57:10.556Z"
   },
   {
    "duration": 8,
    "start_time": "2022-03-04T16:57:10.563Z"
   },
   {
    "duration": 7,
    "start_time": "2022-03-04T16:57:10.574Z"
   },
   {
    "duration": 16,
    "start_time": "2022-03-04T16:57:10.583Z"
   },
   {
    "duration": 5,
    "start_time": "2022-03-04T16:57:10.634Z"
   },
   {
    "duration": 5,
    "start_time": "2022-03-04T16:57:10.643Z"
   },
   {
    "duration": 15,
    "start_time": "2022-03-04T16:57:10.650Z"
   },
   {
    "duration": 5,
    "start_time": "2022-03-04T16:57:10.668Z"
   },
   {
    "duration": 7,
    "start_time": "2022-03-04T16:57:10.675Z"
   },
   {
    "duration": 51,
    "start_time": "2022-03-04T16:57:10.685Z"
   },
   {
    "duration": 8,
    "start_time": "2022-03-04T16:57:10.738Z"
   },
   {
    "duration": 6,
    "start_time": "2022-03-04T16:57:10.748Z"
   },
   {
    "duration": 10,
    "start_time": "2022-03-04T16:57:10.756Z"
   },
   {
    "duration": 79,
    "start_time": "2022-03-04T16:57:10.768Z"
   },
   {
    "duration": 13,
    "start_time": "2022-03-04T16:57:10.850Z"
   },
   {
    "duration": 5,
    "start_time": "2022-03-04T16:57:10.866Z"
   },
   {
    "duration": 21,
    "start_time": "2022-03-04T16:57:10.873Z"
   },
   {
    "duration": 62,
    "start_time": "2022-03-04T16:57:10.896Z"
   },
   {
    "duration": 7,
    "start_time": "2022-03-04T16:57:10.960Z"
   },
   {
    "duration": 35,
    "start_time": "2022-03-04T16:57:10.969Z"
   },
   {
    "duration": 30,
    "start_time": "2022-03-04T16:57:11.006Z"
   },
   {
    "duration": 14,
    "start_time": "2022-03-04T16:57:11.038Z"
   },
   {
    "duration": 10,
    "start_time": "2022-03-04T16:57:11.054Z"
   },
   {
    "duration": 312,
    "start_time": "2022-03-04T16:57:11.067Z"
   },
   {
    "duration": 18,
    "start_time": "2022-03-04T16:57:11.382Z"
   },
   {
    "duration": 30,
    "start_time": "2022-03-04T16:57:11.403Z"
   },
   {
    "duration": 10,
    "start_time": "2022-03-04T16:57:11.435Z"
   },
   {
    "duration": 11,
    "start_time": "2022-03-04T16:57:11.447Z"
   },
   {
    "duration": 316,
    "start_time": "2022-03-04T16:57:11.460Z"
   },
   {
    "duration": 16,
    "start_time": "2022-03-04T16:57:11.779Z"
   },
   {
    "duration": 38,
    "start_time": "2022-03-04T16:57:11.798Z"
   },
   {
    "duration": 13,
    "start_time": "2022-03-04T16:57:11.839Z"
   },
   {
    "duration": 14,
    "start_time": "2022-03-04T16:57:11.855Z"
   },
   {
    "duration": 341,
    "start_time": "2022-03-04T16:57:11.872Z"
   },
   {
    "duration": 18,
    "start_time": "2022-03-04T16:57:12.216Z"
   },
   {
    "duration": 9,
    "start_time": "2022-03-04T16:57:12.237Z"
   },
   {
    "duration": 9,
    "start_time": "2022-03-04T16:57:12.249Z"
   },
   {
    "duration": 10,
    "start_time": "2022-03-04T16:57:12.261Z"
   },
   {
    "duration": 326,
    "start_time": "2022-03-04T16:57:12.273Z"
   },
   {
    "duration": 12,
    "start_time": "2022-03-04T16:57:12.601Z"
   },
   {
    "duration": 30,
    "start_time": "2022-03-04T16:57:12.615Z"
   },
   {
    "duration": 9,
    "start_time": "2022-03-04T16:57:12.647Z"
   },
   {
    "duration": 306,
    "start_time": "2022-03-04T16:57:12.658Z"
   },
   {
    "duration": 11,
    "start_time": "2022-03-04T16:57:12.966Z"
   },
   {
    "duration": 10,
    "start_time": "2022-03-04T16:57:12.979Z"
   },
   {
    "duration": 50,
    "start_time": "2022-03-04T16:57:12.991Z"
   },
   {
    "duration": 7,
    "start_time": "2022-03-04T16:57:13.043Z"
   },
   {
    "duration": 515,
    "start_time": "2022-03-04T16:57:13.052Z"
   },
   {
    "duration": 7,
    "start_time": "2022-03-04T16:57:13.569Z"
   },
   {
    "duration": 582,
    "start_time": "2022-03-04T16:57:13.583Z"
   },
   {
    "duration": 3515,
    "start_time": "2022-03-04T16:57:14.168Z"
   },
   {
    "duration": 49,
    "start_time": "2022-03-04T16:57:17.685Z"
   },
   {
    "duration": 56,
    "start_time": "2022-03-04T16:57:17.736Z"
   },
   {
    "duration": 423,
    "start_time": "2022-03-04T16:57:17.795Z"
   },
   {
    "duration": 15,
    "start_time": "2022-03-04T16:57:18.221Z"
   },
   {
    "duration": 13,
    "start_time": "2022-03-04T16:57:18.239Z"
   },
   {
    "duration": 310,
    "start_time": "2022-03-04T16:57:18.254Z"
   },
   {
    "duration": 11,
    "start_time": "2022-03-04T16:57:18.566Z"
   },
   {
    "duration": 296,
    "start_time": "2022-03-04T16:57:18.579Z"
   },
   {
    "duration": 12,
    "start_time": "2022-03-04T16:57:18.877Z"
   },
   {
    "duration": 286,
    "start_time": "2022-03-04T16:57:18.891Z"
   },
   {
    "duration": 10,
    "start_time": "2022-03-04T16:57:19.179Z"
   },
   {
    "duration": 312,
    "start_time": "2022-03-04T16:57:19.191Z"
   },
   {
    "duration": 2974,
    "start_time": "2022-03-04T16:57:19.505Z"
   },
   {
    "duration": 106,
    "start_time": "2022-03-05T14:34:06.351Z"
   },
   {
    "duration": 330,
    "start_time": "2022-03-05T14:44:05.987Z"
   },
   {
    "duration": 1183,
    "start_time": "2022-03-05T14:44:13.855Z"
   },
   {
    "duration": 9,
    "start_time": "2022-03-05T14:44:15.040Z"
   },
   {
    "duration": 3,
    "start_time": "2022-03-05T14:44:15.051Z"
   },
   {
    "duration": 5,
    "start_time": "2022-03-05T14:44:15.056Z"
   },
   {
    "duration": 162,
    "start_time": "2022-03-05T14:44:17.936Z"
   },
   {
    "duration": 353,
    "start_time": "2022-03-05T14:45:21.957Z"
   },
   {
    "duration": 165,
    "start_time": "2022-03-05T14:46:36.180Z"
   },
   {
    "duration": 442,
    "start_time": "2022-03-05T14:46:58.300Z"
   },
   {
    "duration": 610,
    "start_time": "2022-03-05T14:51:05.935Z"
   },
   {
    "duration": 9,
    "start_time": "2022-03-05T14:53:26.192Z"
   },
   {
    "duration": 9,
    "start_time": "2022-03-05T14:53:29.007Z"
   },
   {
    "duration": 13,
    "start_time": "2022-03-05T14:53:32.951Z"
   },
   {
    "duration": 17,
    "start_time": "2022-03-05T14:55:43.392Z"
   },
   {
    "duration": 17,
    "start_time": "2022-03-05T14:55:45.711Z"
   },
   {
    "duration": 6,
    "start_time": "2022-03-05T14:55:49.743Z"
   },
   {
    "duration": 88,
    "start_time": "2022-03-05T14:56:07.185Z"
   },
   {
    "duration": 9,
    "start_time": "2022-03-05T14:56:07.274Z"
   },
   {
    "duration": 12,
    "start_time": "2022-03-05T14:56:07.285Z"
   },
   {
    "duration": 13,
    "start_time": "2022-03-05T14:56:07.298Z"
   },
   {
    "duration": 30,
    "start_time": "2022-03-05T14:56:07.312Z"
   },
   {
    "duration": 17,
    "start_time": "2022-03-05T14:56:12.054Z"
   },
   {
    "duration": 3,
    "start_time": "2022-03-05T14:56:17.073Z"
   },
   {
    "duration": 3,
    "start_time": "2022-03-05T14:56:37.919Z"
   },
   {
    "duration": 12,
    "start_time": "2022-03-05T14:56:41.309Z"
   },
   {
    "duration": 5,
    "start_time": "2022-03-05T14:57:03.623Z"
   },
   {
    "duration": 5,
    "start_time": "2022-03-05T14:57:09.343Z"
   },
   {
    "duration": 111,
    "start_time": "2022-03-05T14:57:33.876Z"
   },
   {
    "duration": 32,
    "start_time": "2022-03-05T14:58:47.473Z"
   },
   {
    "duration": 457,
    "start_time": "2022-03-05T15:00:55.162Z"
   },
   {
    "duration": 294,
    "start_time": "2022-03-05T15:05:35.819Z"
   },
   {
    "duration": 322,
    "start_time": "2022-03-05T15:07:33.890Z"
   },
   {
    "duration": 457,
    "start_time": "2022-03-05T15:08:47.507Z"
   },
   {
    "duration": 546,
    "start_time": "2022-03-05T15:09:12.090Z"
   },
   {
    "duration": 77,
    "start_time": "2022-03-05T15:11:15.391Z"
   },
   {
    "duration": 9,
    "start_time": "2022-03-05T15:11:15.469Z"
   },
   {
    "duration": 3,
    "start_time": "2022-03-05T15:11:15.480Z"
   },
   {
    "duration": 4,
    "start_time": "2022-03-05T15:11:15.484Z"
   },
   {
    "duration": 411,
    "start_time": "2022-03-05T15:11:15.501Z"
   },
   {
    "duration": 151,
    "start_time": "2022-03-05T15:11:18.355Z"
   },
   {
    "duration": 612,
    "start_time": "2022-03-05T15:11:53.628Z"
   },
   {
    "duration": 765,
    "start_time": "2022-03-05T15:11:58.724Z"
   },
   {
    "duration": 164,
    "start_time": "2022-03-05T15:12:04.991Z"
   },
   {
    "duration": 167,
    "start_time": "2022-03-05T15:12:13.088Z"
   },
   {
    "duration": 188,
    "start_time": "2022-03-05T15:12:17.668Z"
   },
   {
    "duration": 123,
    "start_time": "2022-03-05T15:13:37.501Z"
   },
   {
    "duration": 7171,
    "start_time": "2022-03-05T15:16:17.438Z"
   },
   {
    "duration": 5,
    "start_time": "2022-03-05T15:16:31.664Z"
   },
   {
    "duration": 31,
    "start_time": "2022-03-05T15:17:52.493Z"
   },
   {
    "duration": 21,
    "start_time": "2022-03-05T15:18:06.750Z"
   },
   {
    "duration": 21,
    "start_time": "2022-03-05T15:18:08.391Z"
   },
   {
    "duration": 20,
    "start_time": "2022-03-05T15:18:10.631Z"
   },
   {
    "duration": 29,
    "start_time": "2022-03-05T15:18:12.506Z"
   },
   {
    "duration": 5,
    "start_time": "2022-03-05T15:18:44.369Z"
   },
   {
    "duration": 6,
    "start_time": "2022-03-05T15:18:46.478Z"
   },
   {
    "duration": 327,
    "start_time": "2022-03-05T15:21:07.843Z"
   },
   {
    "duration": 341,
    "start_time": "2022-03-05T15:21:12.409Z"
   },
   {
    "duration": 288,
    "start_time": "2022-03-05T15:21:16.767Z"
   },
   {
    "duration": 331,
    "start_time": "2022-03-05T15:21:19.594Z"
   },
   {
    "duration": 25848,
    "start_time": "2022-03-05T15:22:15.818Z"
   },
   {
    "duration": 2613,
    "start_time": "2022-03-05T15:27:22.279Z"
   },
   {
    "duration": 2703,
    "start_time": "2022-03-05T15:27:40.649Z"
   },
   {
    "duration": 219024,
    "start_time": "2022-03-05T15:32:19.212Z"
   },
   {
    "duration": 5,
    "start_time": "2022-03-05T20:45:15.323Z"
   },
   {
    "duration": 295,
    "start_time": "2022-03-05T21:03:37.076Z"
   },
   {
    "duration": 1564,
    "start_time": "2022-03-05T21:03:43.717Z"
   },
   {
    "duration": 15,
    "start_time": "2022-03-05T21:03:45.284Z"
   },
   {
    "duration": 104,
    "start_time": "2022-03-05T21:03:45.466Z"
   },
   {
    "duration": 89,
    "start_time": "2022-03-05T21:22:34.807Z"
   },
   {
    "duration": 322,
    "start_time": "2022-03-05T21:24:12.954Z"
   },
   {
    "duration": 16,
    "start_time": "2022-03-05T21:24:13.279Z"
   },
   {
    "duration": 134,
    "start_time": "2022-03-05T21:24:13.298Z"
   },
   {
    "duration": 4,
    "start_time": "2022-03-05T21:24:13.434Z"
   },
   {
    "duration": 8,
    "start_time": "2022-03-05T21:24:13.441Z"
   },
   {
    "duration": 743,
    "start_time": "2022-03-05T21:24:13.452Z"
   },
   {
    "duration": 313,
    "start_time": "2022-03-05T21:24:14.197Z"
   },
   {
    "duration": 243,
    "start_time": "2022-03-05T21:24:14.514Z"
   },
   {
    "duration": 1629,
    "start_time": "2022-03-05T21:27:07.548Z"
   },
   {
    "duration": 17,
    "start_time": "2022-03-05T21:27:09.181Z"
   },
   {
    "duration": 129,
    "start_time": "2022-03-05T21:27:09.202Z"
   },
   {
    "duration": 4,
    "start_time": "2022-03-05T21:27:09.333Z"
   },
   {
    "duration": 19,
    "start_time": "2022-03-05T21:27:09.340Z"
   },
   {
    "duration": 696,
    "start_time": "2022-03-05T21:27:09.362Z"
   },
   {
    "duration": 308,
    "start_time": "2022-03-05T21:27:10.061Z"
   },
   {
    "duration": 244,
    "start_time": "2022-03-05T21:27:10.375Z"
   },
   {
    "duration": 3,
    "start_time": "2022-03-05T21:27:10.622Z"
   },
   {
    "duration": 3899,
    "start_time": "2022-03-05T21:27:10.627Z"
   },
   {
    "duration": 133,
    "start_time": "2022-03-05T21:27:14.529Z"
   },
   {
    "duration": 62,
    "start_time": "2022-03-05T21:27:14.665Z"
   },
   {
    "duration": 804,
    "start_time": "2022-03-05T21:29:53.666Z"
   },
   {
    "duration": 694,
    "start_time": "2022-03-05T21:29:58.844Z"
   },
   {
    "duration": 686,
    "start_time": "2022-03-05T21:30:02.283Z"
   },
   {
    "duration": 653,
    "start_time": "2022-03-05T21:30:07.338Z"
   },
   {
    "duration": 699,
    "start_time": "2022-03-05T21:30:10.948Z"
   },
   {
    "duration": 217,
    "start_time": "2022-03-05T21:32:18.988Z"
   },
   {
    "duration": 219,
    "start_time": "2022-03-05T21:32:25.175Z"
   },
   {
    "duration": 38,
    "start_time": "2022-03-05T21:35:20.895Z"
   },
   {
    "duration": 700,
    "start_time": "2022-03-05T21:42:02.494Z"
   },
   {
    "duration": 1002,
    "start_time": "2022-03-05T21:42:10.462Z"
   },
   {
    "duration": 9,
    "start_time": "2022-03-05T21:48:06.256Z"
   },
   {
    "duration": 37,
    "start_time": "2022-03-05T21:48:09.978Z"
   },
   {
    "duration": 1601,
    "start_time": "2022-03-05T21:48:22.277Z"
   },
   {
    "duration": 17,
    "start_time": "2022-03-05T21:48:23.881Z"
   },
   {
    "duration": 121,
    "start_time": "2022-03-05T21:48:23.900Z"
   },
   {
    "duration": 3,
    "start_time": "2022-03-05T21:48:24.024Z"
   },
   {
    "duration": 8,
    "start_time": "2022-03-05T21:48:24.029Z"
   },
   {
    "duration": 713,
    "start_time": "2022-03-05T21:48:24.040Z"
   },
   {
    "duration": 3829,
    "start_time": "2022-03-05T21:48:24.757Z"
   },
   {
    "duration": 11,
    "start_time": "2022-03-05T21:48:28.591Z"
   },
   {
    "duration": 10,
    "start_time": "2022-03-05T21:48:33.591Z"
   },
   {
    "duration": 38,
    "start_time": "2022-03-05T21:48:35.439Z"
   },
   {
    "duration": 6,
    "start_time": "2022-03-05T21:48:42.473Z"
   },
   {
    "duration": 13,
    "start_time": "2022-03-05T21:51:56.592Z"
   },
   {
    "duration": 4615,
    "start_time": "2022-03-05T21:52:34.400Z"
   },
   {
    "duration": 711,
    "start_time": "2022-03-05T21:54:33.396Z"
   },
   {
    "duration": 23,
    "start_time": "2022-03-05T21:54:46.266Z"
   },
   {
    "duration": 1629,
    "start_time": "2022-03-05T21:55:18.054Z"
   },
   {
    "duration": 15,
    "start_time": "2022-03-05T21:55:19.686Z"
   },
   {
    "duration": 127,
    "start_time": "2022-03-05T21:55:19.704Z"
   },
   {
    "duration": 6,
    "start_time": "2022-03-05T21:55:19.834Z"
   },
   {
    "duration": 9,
    "start_time": "2022-03-05T21:55:19.843Z"
   },
   {
    "duration": 14,
    "start_time": "2022-03-05T21:55:19.874Z"
   },
   {
    "duration": 40,
    "start_time": "2022-03-05T21:55:19.891Z"
   },
   {
    "duration": 43,
    "start_time": "2022-03-05T21:55:19.934Z"
   },
   {
    "duration": 8,
    "start_time": "2022-03-05T21:55:28.187Z"
   },
   {
    "duration": 9,
    "start_time": "2022-03-05T22:00:32.660Z"
   },
   {
    "duration": 10,
    "start_time": "2022-03-05T22:00:44.054Z"
   },
   {
    "duration": 8,
    "start_time": "2022-03-05T22:01:52.310Z"
   },
   {
    "duration": 402,
    "start_time": "2022-03-05T22:02:07.141Z"
   },
   {
    "duration": 572,
    "start_time": "2022-03-05T22:02:12.941Z"
   },
   {
    "duration": 23,
    "start_time": "2022-03-05T22:02:32.062Z"
   },
   {
    "duration": 1639,
    "start_time": "2022-03-05T22:02:41.474Z"
   },
   {
    "duration": 16,
    "start_time": "2022-03-05T22:02:43.115Z"
   },
   {
    "duration": 127,
    "start_time": "2022-03-05T22:02:43.134Z"
   },
   {
    "duration": 9,
    "start_time": "2022-03-05T22:02:43.264Z"
   },
   {
    "duration": 6,
    "start_time": "2022-03-05T22:02:43.275Z"
   },
   {
    "duration": 40,
    "start_time": "2022-03-05T22:02:45.305Z"
   },
   {
    "duration": 81,
    "start_time": "2022-03-05T22:06:09.041Z"
   },
   {
    "duration": 37,
    "start_time": "2022-03-05T22:07:12.386Z"
   },
   {
    "duration": 36,
    "start_time": "2022-03-05T22:09:56.546Z"
   },
   {
    "duration": 37,
    "start_time": "2022-03-05T22:58:59.480Z"
   },
   {
    "duration": 36,
    "start_time": "2022-03-05T22:59:27.663Z"
   },
   {
    "duration": 71,
    "start_time": "2022-03-05T23:01:48.783Z"
   },
   {
    "duration": 243,
    "start_time": "2022-03-06T13:45:26.699Z"
   },
   {
    "duration": 1196,
    "start_time": "2022-03-06T13:45:31.311Z"
   },
   {
    "duration": 10,
    "start_time": "2022-03-06T13:45:32.509Z"
   },
   {
    "duration": 79,
    "start_time": "2022-03-06T13:45:32.520Z"
   },
   {
    "duration": 3,
    "start_time": "2022-03-06T13:45:32.601Z"
   },
   {
    "duration": 6,
    "start_time": "2022-03-06T13:45:32.605Z"
   },
   {
    "duration": 24,
    "start_time": "2022-03-06T13:45:32.613Z"
   },
   {
    "duration": 24,
    "start_time": "2022-03-06T13:45:32.639Z"
   },
   {
    "duration": 27,
    "start_time": "2022-03-06T13:45:32.664Z"
   },
   {
    "duration": 6,
    "start_time": "2022-03-06T13:45:32.694Z"
   },
   {
    "duration": 3,
    "start_time": "2022-03-06T13:45:32.702Z"
   },
   {
    "duration": 62,
    "start_time": "2022-03-06T13:45:32.707Z"
   },
   {
    "duration": 9,
    "start_time": "2022-03-06T13:45:32.771Z"
   },
   {
    "duration": 3,
    "start_time": "2022-03-06T13:45:32.782Z"
   },
   {
    "duration": 28,
    "start_time": "2022-03-06T13:45:32.787Z"
   },
   {
    "duration": 59,
    "start_time": "2022-03-06T13:45:32.816Z"
   },
   {
    "duration": 4,
    "start_time": "2022-03-06T13:45:32.876Z"
   },
   {
    "duration": 7,
    "start_time": "2022-03-06T13:45:32.882Z"
   },
   {
    "duration": 8,
    "start_time": "2022-03-06T13:45:32.891Z"
   },
   {
    "duration": 11,
    "start_time": "2022-03-06T13:45:32.900Z"
   },
   {
    "duration": 4,
    "start_time": "2022-03-06T13:45:32.912Z"
   },
   {
    "duration": 46,
    "start_time": "2022-03-06T13:45:32.917Z"
   },
   {
    "duration": 5,
    "start_time": "2022-03-06T13:45:32.964Z"
   },
   {
    "duration": 483,
    "start_time": "2022-03-06T13:45:32.970Z"
   },
   {
    "duration": 151,
    "start_time": "2022-03-06T13:45:33.460Z"
   },
   {
    "duration": 5,
    "start_time": "2022-03-06T13:45:33.612Z"
   },
   {
    "duration": 5,
    "start_time": "2022-03-06T13:45:33.619Z"
   },
   {
    "duration": 4,
    "start_time": "2022-03-06T13:45:33.628Z"
   },
   {
    "duration": 26,
    "start_time": "2022-03-06T13:45:33.658Z"
   },
   {
    "duration": 11,
    "start_time": "2022-03-06T13:45:33.686Z"
   },
   {
    "duration": 5,
    "start_time": "2022-03-06T13:45:33.699Z"
   },
   {
    "duration": 54,
    "start_time": "2022-03-06T13:45:33.706Z"
   },
   {
    "duration": 5,
    "start_time": "2022-03-06T13:45:33.762Z"
   },
   {
    "duration": 12,
    "start_time": "2022-03-06T13:45:33.769Z"
   },
   {
    "duration": 4,
    "start_time": "2022-03-06T13:45:33.783Z"
   },
   {
    "duration": 4,
    "start_time": "2022-03-06T13:45:33.789Z"
   },
   {
    "duration": 6,
    "start_time": "2022-03-06T13:45:33.795Z"
   },
   {
    "duration": 4,
    "start_time": "2022-03-06T13:45:33.803Z"
   },
   {
    "duration": 53,
    "start_time": "2022-03-06T13:45:33.809Z"
   },
   {
    "duration": 8,
    "start_time": "2022-03-06T13:45:33.863Z"
   },
   {
    "duration": 29,
    "start_time": "2022-03-06T13:45:33.873Z"
   },
   {
    "duration": 9,
    "start_time": "2022-03-06T13:45:33.903Z"
   },
   {
    "duration": 4,
    "start_time": "2022-03-06T13:45:33.913Z"
   },
   {
    "duration": 41,
    "start_time": "2022-03-06T13:45:33.919Z"
   },
   {
    "duration": 26,
    "start_time": "2022-03-06T13:45:33.962Z"
   },
   {
    "duration": 5,
    "start_time": "2022-03-06T13:45:33.989Z"
   },
   {
    "duration": 23,
    "start_time": "2022-03-06T13:45:33.996Z"
   },
   {
    "duration": 3,
    "start_time": "2022-03-06T13:45:34.021Z"
   },
   {
    "duration": 36,
    "start_time": "2022-03-06T13:45:34.026Z"
   },
   {
    "duration": 8,
    "start_time": "2022-03-06T13:45:34.064Z"
   },
   {
    "duration": 164,
    "start_time": "2022-03-06T13:45:34.073Z"
   },
   {
    "duration": 515,
    "start_time": "2022-03-06T13:45:36.580Z"
   },
   {
    "duration": 494,
    "start_time": "2022-03-06T13:45:47.372Z"
   },
   {
    "duration": 2492,
    "start_time": "2022-03-06T13:54:36.769Z"
   },
   {
    "duration": 535,
    "start_time": "2022-03-06T13:54:59.608Z"
   },
   {
    "duration": 538,
    "start_time": "2022-03-06T13:55:04.819Z"
   },
   {
    "duration": 147,
    "start_time": "2022-03-06T13:55:48.301Z"
   },
   {
    "duration": 222,
    "start_time": "2022-03-06T13:56:30.609Z"
   },
   {
    "duration": 79,
    "start_time": "2022-03-06T13:56:36.441Z"
   },
   {
    "duration": 10,
    "start_time": "2022-03-06T13:56:36.522Z"
   },
   {
    "duration": 88,
    "start_time": "2022-03-06T13:56:36.534Z"
   },
   {
    "duration": 3,
    "start_time": "2022-03-06T13:56:36.624Z"
   },
   {
    "duration": 5,
    "start_time": "2022-03-06T13:56:36.629Z"
   },
   {
    "duration": 44,
    "start_time": "2022-03-06T13:56:36.635Z"
   },
   {
    "duration": 10,
    "start_time": "2022-03-06T13:56:36.680Z"
   },
   {
    "duration": 24,
    "start_time": "2022-03-06T13:56:36.693Z"
   },
   {
    "duration": 40,
    "start_time": "2022-03-06T13:56:36.719Z"
   },
   {
    "duration": 3,
    "start_time": "2022-03-06T13:56:36.761Z"
   },
   {
    "duration": 26,
    "start_time": "2022-03-06T13:56:36.766Z"
   },
   {
    "duration": 12,
    "start_time": "2022-03-06T13:56:36.793Z"
   },
   {
    "duration": 3,
    "start_time": "2022-03-06T13:56:36.807Z"
   },
   {
    "duration": 51,
    "start_time": "2022-03-06T13:56:36.812Z"
   },
   {
    "duration": 38,
    "start_time": "2022-03-06T13:56:36.865Z"
   },
   {
    "duration": 4,
    "start_time": "2022-03-06T13:56:36.906Z"
   },
   {
    "duration": 7,
    "start_time": "2022-03-06T13:56:36.911Z"
   },
   {
    "duration": 8,
    "start_time": "2022-03-06T13:56:36.919Z"
   },
   {
    "duration": 36,
    "start_time": "2022-03-06T13:56:36.928Z"
   },
   {
    "duration": 4,
    "start_time": "2022-03-06T13:56:36.965Z"
   },
   {
    "duration": 11,
    "start_time": "2022-03-06T13:56:36.970Z"
   },
   {
    "duration": 5,
    "start_time": "2022-03-06T13:56:36.983Z"
   },
   {
    "duration": 535,
    "start_time": "2022-03-06T13:56:36.992Z"
   },
   {
    "duration": 151,
    "start_time": "2022-03-06T13:56:37.530Z"
   },
   {
    "duration": 3,
    "start_time": "2022-03-06T13:56:37.683Z"
   },
   {
    "duration": 5,
    "start_time": "2022-03-06T13:56:37.688Z"
   },
   {
    "duration": 5,
    "start_time": "2022-03-06T13:56:37.694Z"
   },
   {
    "duration": 25,
    "start_time": "2022-03-06T13:56:37.701Z"
   },
   {
    "duration": 36,
    "start_time": "2022-03-06T13:56:37.728Z"
   },
   {
    "duration": 4,
    "start_time": "2022-03-06T13:56:37.766Z"
   },
   {
    "duration": 23,
    "start_time": "2022-03-06T13:56:37.771Z"
   },
   {
    "duration": 4,
    "start_time": "2022-03-06T13:56:37.796Z"
   },
   {
    "duration": 9,
    "start_time": "2022-03-06T13:56:37.802Z"
   },
   {
    "duration": 5,
    "start_time": "2022-03-06T13:56:37.813Z"
   },
   {
    "duration": 41,
    "start_time": "2022-03-06T13:56:37.820Z"
   },
   {
    "duration": 3,
    "start_time": "2022-03-06T13:56:37.863Z"
   },
   {
    "duration": 5,
    "start_time": "2022-03-06T13:56:37.868Z"
   },
   {
    "duration": 4,
    "start_time": "2022-03-06T13:56:37.874Z"
   },
   {
    "duration": 6,
    "start_time": "2022-03-06T13:56:37.880Z"
   },
   {
    "duration": 27,
    "start_time": "2022-03-06T13:56:37.888Z"
   },
   {
    "duration": 49,
    "start_time": "2022-03-06T13:56:37.916Z"
   },
   {
    "duration": 4,
    "start_time": "2022-03-06T13:56:37.966Z"
   },
   {
    "duration": 12,
    "start_time": "2022-03-06T13:56:37.972Z"
   },
   {
    "duration": 23,
    "start_time": "2022-03-06T13:56:37.986Z"
   },
   {
    "duration": 5,
    "start_time": "2022-03-06T13:56:38.011Z"
   },
   {
    "duration": 51,
    "start_time": "2022-03-06T13:56:38.018Z"
   },
   {
    "duration": 4,
    "start_time": "2022-03-06T13:56:38.070Z"
   },
   {
    "duration": 11,
    "start_time": "2022-03-06T13:56:38.076Z"
   },
   {
    "duration": 8,
    "start_time": "2022-03-06T13:56:38.089Z"
   },
   {
    "duration": 163,
    "start_time": "2022-03-06T13:56:38.098Z"
   },
   {
    "duration": 274,
    "start_time": "2022-03-06T13:56:38.263Z"
   },
   {
    "duration": 9,
    "start_time": "2022-03-06T13:56:38.538Z"
   },
   {
    "duration": 15,
    "start_time": "2022-03-06T13:56:38.549Z"
   },
   {
    "duration": 7,
    "start_time": "2022-03-06T13:56:38.566Z"
   },
   {
    "duration": 9,
    "start_time": "2022-03-06T13:56:38.574Z"
   },
   {
    "duration": 217,
    "start_time": "2022-03-06T13:56:38.585Z"
   },
   {
    "duration": 9,
    "start_time": "2022-03-06T13:56:38.803Z"
   },
   {
    "duration": 7,
    "start_time": "2022-03-06T13:56:38.814Z"
   },
   {
    "duration": 6,
    "start_time": "2022-03-06T13:56:38.823Z"
   },
   {
    "duration": 29,
    "start_time": "2022-03-06T13:56:38.831Z"
   },
   {
    "duration": 210,
    "start_time": "2022-03-06T13:56:38.861Z"
   },
   {
    "duration": 9,
    "start_time": "2022-03-06T13:56:39.073Z"
   },
   {
    "duration": 7,
    "start_time": "2022-03-06T13:56:39.083Z"
   },
   {
    "duration": 7,
    "start_time": "2022-03-06T13:56:39.092Z"
   },
   {
    "duration": 8,
    "start_time": "2022-03-06T13:56:39.101Z"
   },
   {
    "duration": 527,
    "start_time": "2022-03-06T13:56:39.111Z"
   },
   {
    "duration": 199,
    "start_time": "2022-03-06T13:56:39.640Z"
   },
   {
    "duration": 18,
    "start_time": "2022-03-06T13:56:39.843Z"
   },
   {
    "duration": 10,
    "start_time": "2022-03-06T13:56:39.863Z"
   },
   {
    "duration": 7,
    "start_time": "2022-03-06T13:56:39.875Z"
   },
   {
    "duration": 202,
    "start_time": "2022-03-06T13:56:39.883Z"
   },
   {
    "duration": 8,
    "start_time": "2022-03-06T13:56:40.086Z"
   },
   {
    "duration": 176,
    "start_time": "2022-03-06T13:56:40.096Z"
   },
   {
    "duration": 151,
    "start_time": "2022-03-06T13:56:41.626Z"
   },
   {
    "duration": 9,
    "start_time": "2022-03-06T13:56:44.164Z"
   },
   {
    "duration": 509,
    "start_time": "2022-03-06T13:57:47.558Z"
   },
   {
    "duration": 28,
    "start_time": "2022-03-06T14:03:22.151Z"
   },
   {
    "duration": 37,
    "start_time": "2022-03-06T14:04:57.595Z"
   },
   {
    "duration": 39,
    "start_time": "2022-03-06T14:05:14.197Z"
   },
   {
    "duration": 42,
    "start_time": "2022-03-06T14:05:20.060Z"
   },
   {
    "duration": 30,
    "start_time": "2022-03-06T14:05:28.061Z"
   },
   {
    "duration": 536,
    "start_time": "2022-03-06T14:06:11.761Z"
   },
   {
    "duration": 531,
    "start_time": "2022-03-06T14:07:06.277Z"
   },
   {
    "duration": 523,
    "start_time": "2022-03-06T14:07:21.479Z"
   },
   {
    "duration": 3,
    "start_time": "2022-03-06T14:30:27.673Z"
   },
   {
    "duration": 9,
    "start_time": "2022-03-06T14:30:48.014Z"
   },
   {
    "duration": 9,
    "start_time": "2022-03-06T14:31:20.754Z"
   },
   {
    "duration": 2,
    "start_time": "2022-03-06T14:31:52.075Z"
   },
   {
    "duration": 64,
    "start_time": "2022-03-06T14:33:02.210Z"
   },
   {
    "duration": 3,
    "start_time": "2022-03-06T14:35:16.752Z"
   },
   {
    "duration": 478,
    "start_time": "2022-03-06T14:36:12.237Z"
   },
   {
    "duration": 473,
    "start_time": "2022-03-06T14:37:28.054Z"
   },
   {
    "duration": 526,
    "start_time": "2022-03-06T14:37:36.502Z"
   },
   {
    "duration": 543,
    "start_time": "2022-03-06T14:37:47.620Z"
   },
   {
    "duration": 527,
    "start_time": "2022-03-06T14:37:52.819Z"
   },
   {
    "duration": 628,
    "start_time": "2022-03-06T14:38:00.006Z"
   },
   {
    "duration": 508,
    "start_time": "2022-03-06T14:38:04.285Z"
   },
   {
    "duration": 508,
    "start_time": "2022-03-06T14:38:16.580Z"
   },
   {
    "duration": 494,
    "start_time": "2022-03-06T14:38:23.048Z"
   },
   {
    "duration": 506,
    "start_time": "2022-03-06T14:38:32.476Z"
   },
   {
    "duration": 504,
    "start_time": "2022-03-06T14:38:36.009Z"
   },
   {
    "duration": 525,
    "start_time": "2022-03-06T14:38:45.320Z"
   },
   {
    "duration": 255,
    "start_time": "2022-03-06T14:50:09.602Z"
   },
   {
    "duration": 77,
    "start_time": "2022-03-06T14:50:20.112Z"
   },
   {
    "duration": 238,
    "start_time": "2022-03-06T14:50:28.592Z"
   },
   {
    "duration": 262,
    "start_time": "2022-03-06T14:50:39.563Z"
   },
   {
    "duration": 63,
    "start_time": "2022-03-06T14:50:47.991Z"
   },
   {
    "duration": 2905,
    "start_time": "2022-03-06T14:52:39.670Z"
   },
   {
    "duration": 6,
    "start_time": "2022-03-06T14:52:54.667Z"
   },
   {
    "duration": 522,
    "start_time": "2022-03-06T14:52:57.801Z"
   },
   {
    "duration": 496,
    "start_time": "2022-03-06T14:53:00.559Z"
   },
   {
    "duration": 7,
    "start_time": "2022-03-06T14:54:16.976Z"
   },
   {
    "duration": 533,
    "start_time": "2022-03-06T14:54:18.382Z"
   },
   {
    "duration": 7,
    "start_time": "2022-03-06T14:56:00.569Z"
   },
   {
    "duration": 1207,
    "start_time": "2022-03-06T14:56:12.562Z"
   },
   {
    "duration": 11,
    "start_time": "2022-03-06T14:56:13.771Z"
   },
   {
    "duration": 79,
    "start_time": "2022-03-06T14:56:13.785Z"
   },
   {
    "duration": 3,
    "start_time": "2022-03-06T14:56:13.866Z"
   },
   {
    "duration": 6,
    "start_time": "2022-03-06T14:56:13.870Z"
   },
   {
    "duration": 25,
    "start_time": "2022-03-06T14:56:13.877Z"
   },
   {
    "duration": 8,
    "start_time": "2022-03-06T14:56:13.904Z"
   },
   {
    "duration": 55,
    "start_time": "2022-03-06T14:56:13.913Z"
   },
   {
    "duration": 6,
    "start_time": "2022-03-06T14:56:13.970Z"
   },
   {
    "duration": 3,
    "start_time": "2022-03-06T14:56:13.978Z"
   },
   {
    "duration": 22,
    "start_time": "2022-03-06T14:56:13.983Z"
   },
   {
    "duration": 9,
    "start_time": "2022-03-06T14:56:14.007Z"
   },
   {
    "duration": 3,
    "start_time": "2022-03-06T14:56:14.018Z"
   },
   {
    "duration": 60,
    "start_time": "2022-03-06T14:56:14.022Z"
   },
   {
    "duration": 39,
    "start_time": "2022-03-06T14:56:14.083Z"
   },
   {
    "duration": 4,
    "start_time": "2022-03-06T14:56:14.123Z"
   },
   {
    "duration": 7,
    "start_time": "2022-03-06T14:56:14.129Z"
   },
   {
    "duration": 8,
    "start_time": "2022-03-06T14:56:14.158Z"
   },
   {
    "duration": 8,
    "start_time": "2022-03-06T14:56:14.168Z"
   },
   {
    "duration": 3,
    "start_time": "2022-03-06T14:56:14.178Z"
   },
   {
    "duration": 9,
    "start_time": "2022-03-06T14:56:14.183Z"
   },
   {
    "duration": 4,
    "start_time": "2022-03-06T14:56:14.194Z"
   },
   {
    "duration": 523,
    "start_time": "2022-03-06T14:56:14.200Z"
   },
   {
    "duration": 150,
    "start_time": "2022-03-06T14:56:14.725Z"
   },
   {
    "duration": 3,
    "start_time": "2022-03-06T14:56:14.877Z"
   },
   {
    "duration": 6,
    "start_time": "2022-03-06T14:56:14.882Z"
   },
   {
    "duration": 4,
    "start_time": "2022-03-06T14:56:14.892Z"
   },
   {
    "duration": 25,
    "start_time": "2022-03-06T14:56:14.898Z"
   },
   {
    "duration": 39,
    "start_time": "2022-03-06T14:56:14.924Z"
   },
   {
    "duration": 4,
    "start_time": "2022-03-06T14:56:14.964Z"
   },
   {
    "duration": 26,
    "start_time": "2022-03-06T14:56:14.969Z"
   },
   {
    "duration": 4,
    "start_time": "2022-03-06T14:56:14.996Z"
   },
   {
    "duration": 14,
    "start_time": "2022-03-06T14:56:15.002Z"
   },
   {
    "duration": 4,
    "start_time": "2022-03-06T14:56:15.018Z"
   },
   {
    "duration": 8,
    "start_time": "2022-03-06T14:56:15.023Z"
   },
   {
    "duration": 4,
    "start_time": "2022-03-06T14:56:15.059Z"
   },
   {
    "duration": 5,
    "start_time": "2022-03-06T14:56:15.064Z"
   },
   {
    "duration": 5,
    "start_time": "2022-03-06T14:56:15.071Z"
   },
   {
    "duration": 10,
    "start_time": "2022-03-06T14:56:15.078Z"
   },
   {
    "duration": 28,
    "start_time": "2022-03-06T14:56:15.090Z"
   },
   {
    "duration": 40,
    "start_time": "2022-03-06T14:56:15.120Z"
   },
   {
    "duration": 4,
    "start_time": "2022-03-06T14:56:15.162Z"
   },
   {
    "duration": 13,
    "start_time": "2022-03-06T14:56:15.168Z"
   },
   {
    "duration": 25,
    "start_time": "2022-03-06T14:56:15.183Z"
   },
   {
    "duration": 5,
    "start_time": "2022-03-06T14:56:15.209Z"
   },
   {
    "duration": 48,
    "start_time": "2022-03-06T14:56:15.215Z"
   },
   {
    "duration": 3,
    "start_time": "2022-03-06T14:56:15.265Z"
   },
   {
    "duration": 10,
    "start_time": "2022-03-06T14:56:15.270Z"
   },
   {
    "duration": 7,
    "start_time": "2022-03-06T14:56:15.282Z"
   },
   {
    "duration": 170,
    "start_time": "2022-03-06T14:56:15.291Z"
   },
   {
    "duration": 205,
    "start_time": "2022-03-06T14:56:15.462Z"
   },
   {
    "duration": 10,
    "start_time": "2022-03-06T14:56:15.668Z"
   },
   {
    "duration": 2,
    "start_time": "2022-03-06T14:56:15.680Z"
   },
   {
    "duration": 9,
    "start_time": "2022-03-06T14:56:15.683Z"
   },
   {
    "duration": 8,
    "start_time": "2022-03-06T14:56:15.694Z"
   },
   {
    "duration": 75,
    "start_time": "2022-03-06T14:56:15.704Z"
   },
   {
    "duration": 554,
    "start_time": "2022-03-06T14:56:15.781Z"
   },
   {
    "duration": 209,
    "start_time": "2022-03-06T14:56:16.337Z"
   },
   {
    "duration": 14,
    "start_time": "2022-03-06T14:56:16.548Z"
   },
   {
    "duration": 2,
    "start_time": "2022-03-06T14:56:16.563Z"
   },
   {
    "duration": 9,
    "start_time": "2022-03-06T14:56:16.567Z"
   },
   {
    "duration": 8,
    "start_time": "2022-03-06T14:56:16.577Z"
   },
   {
    "duration": 237,
    "start_time": "2022-03-06T14:56:16.587Z"
   },
   {
    "duration": 9,
    "start_time": "2022-03-06T14:56:16.826Z"
   },
   {
    "duration": 3,
    "start_time": "2022-03-06T14:56:16.836Z"
   },
   {
    "duration": 22,
    "start_time": "2022-03-06T14:56:16.841Z"
   },
   {
    "duration": 11,
    "start_time": "2022-03-06T14:56:16.864Z"
   },
   {
    "duration": 566,
    "start_time": "2022-03-06T14:56:16.876Z"
   },
   {
    "duration": 601,
    "start_time": "2022-03-06T14:56:17.444Z"
   },
   {
    "duration": 303,
    "start_time": "2022-03-06T14:56:21.801Z"
   },
   {
    "duration": 550,
    "start_time": "2022-03-06T14:56:24.193Z"
   },
   {
    "duration": 21,
    "start_time": "2022-03-06T14:56:37.576Z"
   },
   {
    "duration": 511,
    "start_time": "2022-03-06T14:56:39.735Z"
   },
   {
    "duration": 74,
    "start_time": "2022-03-06T14:56:58.996Z"
   },
   {
    "duration": 6,
    "start_time": "2022-03-06T14:57:02.737Z"
   },
   {
    "duration": 196,
    "start_time": "2022-03-06T14:57:11.176Z"
   },
   {
    "duration": 10,
    "start_time": "2022-03-06T14:57:15.001Z"
   },
   {
    "duration": 10,
    "start_time": "2022-03-06T14:58:07.210Z"
   },
   {
    "duration": 12,
    "start_time": "2022-03-06T14:58:10.394Z"
   },
   {
    "duration": 542,
    "start_time": "2022-03-06T14:58:18.202Z"
   },
   {
    "duration": 4,
    "start_time": "2022-03-06T14:59:07.435Z"
   },
   {
    "duration": 33,
    "start_time": "2022-03-06T14:59:53.883Z"
   },
   {
    "duration": 481,
    "start_time": "2022-03-06T15:01:19.143Z"
   },
   {
    "duration": 491,
    "start_time": "2022-03-06T15:01:29.050Z"
   },
   {
    "duration": 449,
    "start_time": "2022-03-06T15:01:39.211Z"
   },
   {
    "duration": 70,
    "start_time": "2022-03-06T15:03:28.398Z"
   },
   {
    "duration": 57,
    "start_time": "2022-03-06T15:03:42.252Z"
   },
   {
    "duration": 87,
    "start_time": "2022-03-06T15:03:46.348Z"
   },
   {
    "duration": 5514,
    "start_time": "2022-03-06T15:04:06.749Z"
   },
   {
    "duration": 205,
    "start_time": "2022-03-06T19:31:24.244Z"
   },
   {
    "duration": 1287,
    "start_time": "2022-03-06T19:31:32.310Z"
   },
   {
    "duration": 11,
    "start_time": "2022-03-06T19:31:33.598Z"
   },
   {
    "duration": 79,
    "start_time": "2022-03-06T19:31:33.611Z"
   },
   {
    "duration": 3,
    "start_time": "2022-03-06T19:31:33.692Z"
   },
   {
    "duration": 8,
    "start_time": "2022-03-06T19:31:33.696Z"
   },
   {
    "duration": 43,
    "start_time": "2022-03-06T19:31:33.705Z"
   },
   {
    "duration": 7,
    "start_time": "2022-03-06T19:31:33.750Z"
   },
   {
    "duration": 24,
    "start_time": "2022-03-06T19:31:33.759Z"
   },
   {
    "duration": 5,
    "start_time": "2022-03-06T19:31:33.786Z"
   },
   {
    "duration": 15,
    "start_time": "2022-03-06T19:31:33.793Z"
   },
   {
    "duration": 44,
    "start_time": "2022-03-06T19:31:33.810Z"
   },
   {
    "duration": 12,
    "start_time": "2022-03-06T19:31:33.856Z"
   },
   {
    "duration": 11,
    "start_time": "2022-03-06T19:31:33.870Z"
   },
   {
    "duration": 42,
    "start_time": "2022-03-06T19:31:33.882Z"
   },
   {
    "duration": 40,
    "start_time": "2022-03-06T19:31:33.926Z"
   },
   {
    "duration": 4,
    "start_time": "2022-03-06T19:31:33.968Z"
   },
   {
    "duration": 15,
    "start_time": "2022-03-06T19:31:33.973Z"
   },
   {
    "duration": 23,
    "start_time": "2022-03-06T19:31:33.990Z"
   },
   {
    "duration": 18,
    "start_time": "2022-03-06T19:31:34.015Z"
   },
   {
    "duration": 14,
    "start_time": "2022-03-06T19:31:34.035Z"
   },
   {
    "duration": 22,
    "start_time": "2022-03-06T19:31:34.051Z"
   },
   {
    "duration": 26,
    "start_time": "2022-03-06T19:31:34.075Z"
   },
   {
    "duration": 492,
    "start_time": "2022-03-06T19:31:34.103Z"
   },
   {
    "duration": 155,
    "start_time": "2022-03-06T19:31:34.597Z"
   },
   {
    "duration": 5,
    "start_time": "2022-03-06T19:31:34.754Z"
   },
   {
    "duration": 6,
    "start_time": "2022-03-06T19:31:34.760Z"
   },
   {
    "duration": 3,
    "start_time": "2022-03-06T19:31:34.771Z"
   },
   {
    "duration": 29,
    "start_time": "2022-03-06T19:31:34.777Z"
   },
   {
    "duration": 31,
    "start_time": "2022-03-06T19:31:34.808Z"
   },
   {
    "duration": 5,
    "start_time": "2022-03-06T19:31:34.841Z"
   },
   {
    "duration": 26,
    "start_time": "2022-03-06T19:31:34.847Z"
   },
   {
    "duration": 4,
    "start_time": "2022-03-06T19:31:34.875Z"
   },
   {
    "duration": 19,
    "start_time": "2022-03-06T19:31:34.880Z"
   },
   {
    "duration": 36,
    "start_time": "2022-03-06T19:31:34.901Z"
   },
   {
    "duration": 5,
    "start_time": "2022-03-06T19:31:34.939Z"
   },
   {
    "duration": 6,
    "start_time": "2022-03-06T19:31:34.946Z"
   },
   {
    "duration": 5,
    "start_time": "2022-03-06T19:31:34.954Z"
   },
   {
    "duration": 6,
    "start_time": "2022-03-06T19:31:34.961Z"
   },
   {
    "duration": 8,
    "start_time": "2022-03-06T19:31:34.969Z"
   },
   {
    "duration": 63,
    "start_time": "2022-03-06T19:31:34.979Z"
   },
   {
    "duration": 10,
    "start_time": "2022-03-06T19:31:35.043Z"
   },
   {
    "duration": 5,
    "start_time": "2022-03-06T19:31:35.055Z"
   },
   {
    "duration": 20,
    "start_time": "2022-03-06T19:31:35.061Z"
   },
   {
    "duration": 29,
    "start_time": "2022-03-06T19:31:35.083Z"
   },
   {
    "duration": 24,
    "start_time": "2022-03-06T19:31:35.114Z"
   },
   {
    "duration": 24,
    "start_time": "2022-03-06T19:31:35.139Z"
   },
   {
    "duration": 4,
    "start_time": "2022-03-06T19:31:35.164Z"
   },
   {
    "duration": 19,
    "start_time": "2022-03-06T19:31:35.169Z"
   },
   {
    "duration": 10,
    "start_time": "2022-03-06T19:31:35.190Z"
   },
   {
    "duration": 162,
    "start_time": "2022-03-06T19:31:35.201Z"
   },
   {
    "duration": 189,
    "start_time": "2022-03-06T19:31:35.364Z"
   },
   {
    "duration": 528,
    "start_time": "2022-03-06T19:31:35.554Z"
   },
   {
    "duration": 458,
    "start_time": "2022-03-06T19:31:44.343Z"
   },
   {
    "duration": 481,
    "start_time": "2022-03-06T19:31:48.889Z"
   },
   {
    "duration": 450,
    "start_time": "2022-03-06T19:31:58.442Z"
   },
   {
    "duration": 546,
    "start_time": "2022-03-06T19:32:03.335Z"
   },
   {
    "duration": 466,
    "start_time": "2022-03-06T19:32:07.044Z"
   },
   {
    "duration": 474,
    "start_time": "2022-03-06T19:32:41.750Z"
   },
   {
    "duration": 498,
    "start_time": "2022-03-06T19:32:48.485Z"
   },
   {
    "duration": 483,
    "start_time": "2022-03-06T19:33:19.610Z"
   },
   {
    "duration": 489,
    "start_time": "2022-03-06T19:34:21.545Z"
   },
   {
    "duration": 484,
    "start_time": "2022-03-06T19:35:02.194Z"
   },
   {
    "duration": 856,
    "start_time": "2022-03-06T19:44:31.759Z"
   },
   {
    "duration": 1550,
    "start_time": "2022-03-06T19:44:52.138Z"
   },
   {
    "duration": 10,
    "start_time": "2022-03-06T19:44:53.690Z"
   },
   {
    "duration": 171,
    "start_time": "2022-03-06T19:44:53.702Z"
   },
   {
    "duration": 3,
    "start_time": "2022-03-06T19:44:53.875Z"
   },
   {
    "duration": 14,
    "start_time": "2022-03-06T19:44:53.880Z"
   },
   {
    "duration": 32,
    "start_time": "2022-03-06T19:44:53.896Z"
   },
   {
    "duration": 9,
    "start_time": "2022-03-06T19:44:53.938Z"
   },
   {
    "duration": 29,
    "start_time": "2022-03-06T19:44:53.949Z"
   },
   {
    "duration": 6,
    "start_time": "2022-03-06T19:44:53.981Z"
   },
   {
    "duration": 10,
    "start_time": "2022-03-06T19:44:53.990Z"
   },
   {
    "duration": 46,
    "start_time": "2022-03-06T19:44:54.002Z"
   },
   {
    "duration": 9,
    "start_time": "2022-03-06T19:44:54.049Z"
   },
   {
    "duration": 4,
    "start_time": "2022-03-06T19:44:54.059Z"
   },
   {
    "duration": 25,
    "start_time": "2022-03-06T19:44:54.064Z"
   },
   {
    "duration": 63,
    "start_time": "2022-03-06T19:44:54.091Z"
   },
   {
    "duration": 3,
    "start_time": "2022-03-06T19:44:54.156Z"
   },
   {
    "duration": 9,
    "start_time": "2022-03-06T19:44:54.161Z"
   },
   {
    "duration": 11,
    "start_time": "2022-03-06T19:44:54.172Z"
   },
   {
    "duration": 11,
    "start_time": "2022-03-06T19:44:54.184Z"
   },
   {
    "duration": 5,
    "start_time": "2022-03-06T19:44:54.196Z"
   },
   {
    "duration": 11,
    "start_time": "2022-03-06T19:44:54.202Z"
   },
   {
    "duration": 28,
    "start_time": "2022-03-06T19:44:54.214Z"
   },
   {
    "duration": 473,
    "start_time": "2022-03-06T19:44:54.244Z"
   },
   {
    "duration": 150,
    "start_time": "2022-03-06T19:44:54.718Z"
   },
   {
    "duration": 3,
    "start_time": "2022-03-06T19:44:54.870Z"
   },
   {
    "duration": 11,
    "start_time": "2022-03-06T19:44:54.875Z"
   },
   {
    "duration": 6,
    "start_time": "2022-03-06T19:44:54.890Z"
   },
   {
    "duration": 26,
    "start_time": "2022-03-06T19:44:54.898Z"
   },
   {
    "duration": 11,
    "start_time": "2022-03-06T19:44:54.939Z"
   },
   {
    "duration": 4,
    "start_time": "2022-03-06T19:44:54.952Z"
   },
   {
    "duration": 28,
    "start_time": "2022-03-06T19:44:54.958Z"
   },
   {
    "duration": 5,
    "start_time": "2022-03-06T19:44:54.988Z"
   },
   {
    "duration": 48,
    "start_time": "2022-03-06T19:44:54.995Z"
   },
   {
    "duration": 8,
    "start_time": "2022-03-06T19:44:55.045Z"
   },
   {
    "duration": 13,
    "start_time": "2022-03-06T19:44:55.055Z"
   },
   {
    "duration": 16,
    "start_time": "2022-03-06T19:44:55.070Z"
   },
   {
    "duration": 7,
    "start_time": "2022-03-06T19:44:55.088Z"
   },
   {
    "duration": 6,
    "start_time": "2022-03-06T19:44:55.097Z"
   },
   {
    "duration": 8,
    "start_time": "2022-03-06T19:44:55.105Z"
   },
   {
    "duration": 47,
    "start_time": "2022-03-06T19:44:55.115Z"
   },
   {
    "duration": 9,
    "start_time": "2022-03-06T19:44:55.163Z"
   },
   {
    "duration": 16,
    "start_time": "2022-03-06T19:44:55.173Z"
   },
   {
    "duration": 17,
    "start_time": "2022-03-06T19:44:55.191Z"
   },
   {
    "duration": 40,
    "start_time": "2022-03-06T19:44:55.209Z"
   },
   {
    "duration": 6,
    "start_time": "2022-03-06T19:44:55.250Z"
   },
   {
    "duration": 39,
    "start_time": "2022-03-06T19:44:55.257Z"
   },
   {
    "duration": 4,
    "start_time": "2022-03-06T19:44:55.298Z"
   },
   {
    "duration": 14,
    "start_time": "2022-03-06T19:44:55.303Z"
   },
   {
    "duration": 27,
    "start_time": "2022-03-06T19:44:55.319Z"
   },
   {
    "duration": 157,
    "start_time": "2022-03-06T19:44:55.348Z"
   },
   {
    "duration": 220,
    "start_time": "2022-03-06T19:44:55.508Z"
   },
   {
    "duration": 457,
    "start_time": "2022-03-06T19:44:55.730Z"
   },
   {
    "duration": 10,
    "start_time": "2022-03-06T19:44:56.188Z"
   },
   {
    "duration": 4,
    "start_time": "2022-03-06T19:44:56.199Z"
   },
   {
    "duration": 9,
    "start_time": "2022-03-06T19:44:56.205Z"
   },
   {
    "duration": 29,
    "start_time": "2022-03-06T19:44:56.216Z"
   },
   {
    "duration": 26,
    "start_time": "2022-03-06T19:44:56.247Z"
   },
   {
    "duration": 202,
    "start_time": "2022-03-06T19:44:56.275Z"
   },
   {
    "duration": 9,
    "start_time": "2022-03-06T19:44:56.479Z"
   },
   {
    "duration": 2,
    "start_time": "2022-03-06T19:44:56.489Z"
   },
   {
    "duration": 9,
    "start_time": "2022-03-06T19:44:56.493Z"
   },
   {
    "duration": 34,
    "start_time": "2022-03-06T19:44:56.504Z"
   },
   {
    "duration": 204,
    "start_time": "2022-03-06T19:44:56.540Z"
   },
   {
    "duration": 8,
    "start_time": "2022-03-06T19:44:56.746Z"
   },
   {
    "duration": 5,
    "start_time": "2022-03-06T19:44:56.755Z"
   },
   {
    "duration": 11,
    "start_time": "2022-03-06T19:44:56.761Z"
   },
   {
    "duration": 8,
    "start_time": "2022-03-06T19:44:56.773Z"
   },
   {
    "duration": 518,
    "start_time": "2022-03-06T19:44:56.782Z"
   },
   {
    "duration": 517,
    "start_time": "2022-03-06T19:44:57.301Z"
   },
   {
    "duration": 995,
    "start_time": "2022-03-06T19:45:01.623Z"
   },
   {
    "duration": 521,
    "start_time": "2022-03-06T19:45:14.917Z"
   },
   {
    "duration": 514,
    "start_time": "2022-03-06T19:45:24.089Z"
   },
   {
    "duration": 544,
    "start_time": "2022-03-06T19:45:49.260Z"
   },
   {
    "duration": 546,
    "start_time": "2022-03-06T19:46:12.973Z"
   },
   {
    "duration": 9,
    "start_time": "2022-03-06T19:48:08.727Z"
   },
   {
    "duration": 154,
    "start_time": "2022-03-06T19:49:17.636Z"
   },
   {
    "duration": 10,
    "start_time": "2022-03-06T19:49:33.777Z"
   },
   {
    "duration": 53,
    "start_time": "2022-03-06T19:49:44.204Z"
   },
   {
    "duration": 4413,
    "start_time": "2022-03-06T19:50:00.768Z"
   },
   {
    "duration": 4,
    "start_time": "2022-03-06T19:50:24.992Z"
   },
   {
    "duration": 8,
    "start_time": "2022-03-06T19:50:33.774Z"
   },
   {
    "duration": 1263,
    "start_time": "2022-03-06T19:51:13.731Z"
   },
   {
    "duration": 16,
    "start_time": "2022-03-06T19:51:14.996Z"
   },
   {
    "duration": 114,
    "start_time": "2022-03-06T19:51:15.016Z"
   },
   {
    "duration": 8,
    "start_time": "2022-03-06T19:51:15.132Z"
   },
   {
    "duration": 5,
    "start_time": "2022-03-06T19:51:15.141Z"
   },
   {
    "duration": 45,
    "start_time": "2022-03-06T19:51:15.147Z"
   },
   {
    "duration": 9,
    "start_time": "2022-03-06T19:51:15.194Z"
   },
   {
    "duration": 33,
    "start_time": "2022-03-06T19:51:15.205Z"
   },
   {
    "duration": 6,
    "start_time": "2022-03-06T19:51:15.242Z"
   },
   {
    "duration": 5,
    "start_time": "2022-03-06T19:51:15.251Z"
   },
   {
    "duration": 29,
    "start_time": "2022-03-06T19:51:15.258Z"
   },
   {
    "duration": 11,
    "start_time": "2022-03-06T19:51:15.289Z"
   },
   {
    "duration": 36,
    "start_time": "2022-03-06T19:51:15.302Z"
   },
   {
    "duration": 35,
    "start_time": "2022-03-06T19:51:15.340Z"
   },
   {
    "duration": 40,
    "start_time": "2022-03-06T19:51:15.377Z"
   },
   {
    "duration": 4,
    "start_time": "2022-03-06T19:51:15.419Z"
   },
   {
    "duration": 21,
    "start_time": "2022-03-06T19:51:15.437Z"
   },
   {
    "duration": 13,
    "start_time": "2022-03-06T19:51:15.460Z"
   },
   {
    "duration": 25,
    "start_time": "2022-03-06T19:51:15.475Z"
   },
   {
    "duration": 4,
    "start_time": "2022-03-06T19:51:15.502Z"
   },
   {
    "duration": 19,
    "start_time": "2022-03-06T19:51:15.508Z"
   },
   {
    "duration": 9,
    "start_time": "2022-03-06T19:51:15.529Z"
   },
   {
    "duration": 490,
    "start_time": "2022-03-06T19:51:15.541Z"
   },
   {
    "duration": 150,
    "start_time": "2022-03-06T19:51:16.032Z"
   },
   {
    "duration": 3,
    "start_time": "2022-03-06T19:51:16.184Z"
   },
   {
    "duration": 19,
    "start_time": "2022-03-06T19:51:16.189Z"
   },
   {
    "duration": 7,
    "start_time": "2022-03-06T19:51:16.213Z"
   },
   {
    "duration": 35,
    "start_time": "2022-03-06T19:51:16.222Z"
   },
   {
    "duration": 16,
    "start_time": "2022-03-06T19:51:16.259Z"
   },
   {
    "duration": 12,
    "start_time": "2022-03-06T19:51:16.276Z"
   },
   {
    "duration": 34,
    "start_time": "2022-03-06T19:51:16.290Z"
   },
   {
    "duration": 3,
    "start_time": "2022-03-06T19:51:16.326Z"
   },
   {
    "duration": 18,
    "start_time": "2022-03-06T19:51:16.331Z"
   },
   {
    "duration": 13,
    "start_time": "2022-03-06T19:51:16.351Z"
   },
   {
    "duration": 22,
    "start_time": "2022-03-06T19:51:16.366Z"
   },
   {
    "duration": 15,
    "start_time": "2022-03-06T19:51:16.389Z"
   },
   {
    "duration": 8,
    "start_time": "2022-03-06T19:51:16.406Z"
   },
   {
    "duration": 9,
    "start_time": "2022-03-06T19:51:16.417Z"
   },
   {
    "duration": 12,
    "start_time": "2022-03-06T19:51:16.429Z"
   },
   {
    "duration": 43,
    "start_time": "2022-03-06T19:51:16.443Z"
   },
   {
    "duration": 11,
    "start_time": "2022-03-06T19:51:16.487Z"
   },
   {
    "duration": 6,
    "start_time": "2022-03-06T19:51:16.500Z"
   },
   {
    "duration": 40,
    "start_time": "2022-03-06T19:51:16.508Z"
   },
   {
    "duration": 41,
    "start_time": "2022-03-06T19:51:16.550Z"
   },
   {
    "duration": 8,
    "start_time": "2022-03-06T19:51:16.592Z"
   },
   {
    "duration": 35,
    "start_time": "2022-03-06T19:51:16.602Z"
   },
   {
    "duration": 4,
    "start_time": "2022-03-06T19:51:16.639Z"
   },
   {
    "duration": 20,
    "start_time": "2022-03-06T19:51:16.645Z"
   },
   {
    "duration": 10,
    "start_time": "2022-03-06T19:51:16.667Z"
   },
   {
    "duration": 162,
    "start_time": "2022-03-06T19:51:16.679Z"
   },
   {
    "duration": 205,
    "start_time": "2022-03-06T19:51:16.842Z"
   },
   {
    "duration": 493,
    "start_time": "2022-03-06T19:51:17.049Z"
   },
   {
    "duration": 10,
    "start_time": "2022-03-06T19:51:17.544Z"
   },
   {
    "duration": 8,
    "start_time": "2022-03-06T19:51:17.556Z"
   },
   {
    "duration": 10,
    "start_time": "2022-03-06T19:51:17.566Z"
   },
   {
    "duration": 12,
    "start_time": "2022-03-06T19:51:17.578Z"
   },
   {
    "duration": 54,
    "start_time": "2022-03-06T19:51:17.592Z"
   },
   {
    "duration": 202,
    "start_time": "2022-03-06T19:51:17.648Z"
   },
   {
    "duration": 10,
    "start_time": "2022-03-06T19:51:17.852Z"
   },
   {
    "duration": 2,
    "start_time": "2022-03-06T19:51:17.864Z"
   },
   {
    "duration": 10,
    "start_time": "2022-03-06T19:51:17.869Z"
   },
   {
    "duration": 10,
    "start_time": "2022-03-06T19:51:17.882Z"
   },
   {
    "duration": 231,
    "start_time": "2022-03-06T19:51:17.894Z"
   },
   {
    "duration": 15,
    "start_time": "2022-03-06T19:51:18.127Z"
   },
   {
    "duration": 3,
    "start_time": "2022-03-06T19:51:18.143Z"
   },
   {
    "duration": 15,
    "start_time": "2022-03-06T19:51:18.147Z"
   },
   {
    "duration": 10,
    "start_time": "2022-03-06T19:51:18.164Z"
   },
   {
    "duration": 540,
    "start_time": "2022-03-06T19:51:18.176Z"
   },
   {
    "duration": 612,
    "start_time": "2022-03-06T19:51:18.718Z"
   },
   {
    "duration": 887,
    "start_time": "2022-03-06T19:51:19.332Z"
   },
   {
    "duration": 227,
    "start_time": "2022-03-06T19:51:20.221Z"
   },
   {
    "duration": 9,
    "start_time": "2022-03-06T19:51:20.450Z"
   },
   {
    "duration": 4,
    "start_time": "2022-03-06T19:51:20.461Z"
   },
   {
    "duration": 12,
    "start_time": "2022-03-06T19:51:20.466Z"
   },
   {
    "duration": 15,
    "start_time": "2022-03-06T19:51:20.480Z"
   },
   {
    "duration": 190,
    "start_time": "2022-03-06T19:51:20.496Z"
   },
   {
    "duration": 200,
    "start_time": "2022-03-06T19:51:20.688Z"
   },
   {
    "duration": 11,
    "start_time": "2022-03-06T19:51:20.891Z"
   },
   {
    "duration": 13,
    "start_time": "2022-03-06T19:51:20.903Z"
   },
   {
    "duration": 25,
    "start_time": "2022-03-06T19:51:20.918Z"
   },
   {
    "duration": 27,
    "start_time": "2022-03-06T19:51:38.510Z"
   },
   {
    "duration": 19,
    "start_time": "2022-03-06T19:52:01.872Z"
   },
   {
    "duration": 60,
    "start_time": "2022-03-06T20:00:50.158Z"
   },
   {
    "duration": 11,
    "start_time": "2022-03-06T20:08:26.031Z"
   },
   {
    "duration": 99,
    "start_time": "2022-03-06T20:15:42.365Z"
   },
   {
    "duration": 11,
    "start_time": "2022-03-06T20:15:42.466Z"
   },
   {
    "duration": 108,
    "start_time": "2022-03-06T20:15:42.479Z"
   },
   {
    "duration": 3,
    "start_time": "2022-03-06T20:15:42.589Z"
   },
   {
    "duration": 9,
    "start_time": "2022-03-06T20:15:42.594Z"
   },
   {
    "duration": 59,
    "start_time": "2022-03-06T20:15:42.604Z"
   },
   {
    "duration": 8,
    "start_time": "2022-03-06T20:15:42.664Z"
   },
   {
    "duration": 65,
    "start_time": "2022-03-06T20:15:42.674Z"
   },
   {
    "duration": 10,
    "start_time": "2022-03-06T20:15:42.745Z"
   },
   {
    "duration": 11,
    "start_time": "2022-03-06T20:15:42.759Z"
   },
   {
    "duration": 26,
    "start_time": "2022-03-06T20:15:42.772Z"
   },
   {
    "duration": 39,
    "start_time": "2022-03-06T20:15:42.799Z"
   },
   {
    "duration": 7,
    "start_time": "2022-03-06T20:15:42.841Z"
   },
   {
    "duration": 30,
    "start_time": "2022-03-06T20:15:42.851Z"
   },
   {
    "duration": 71,
    "start_time": "2022-03-06T20:15:42.883Z"
   },
   {
    "duration": 6,
    "start_time": "2022-03-06T20:15:42.956Z"
   },
   {
    "duration": 13,
    "start_time": "2022-03-06T20:15:42.965Z"
   },
   {
    "duration": 16,
    "start_time": "2022-03-06T20:15:42.980Z"
   },
   {
    "duration": 14,
    "start_time": "2022-03-06T20:15:42.998Z"
   },
   {
    "duration": 5,
    "start_time": "2022-03-06T20:15:43.014Z"
   },
   {
    "duration": 31,
    "start_time": "2022-03-06T20:15:43.021Z"
   },
   {
    "duration": 10,
    "start_time": "2022-03-06T20:15:43.054Z"
   },
   {
    "duration": 540,
    "start_time": "2022-03-06T20:15:43.066Z"
   },
   {
    "duration": 161,
    "start_time": "2022-03-06T20:15:43.608Z"
   },
   {
    "duration": 4,
    "start_time": "2022-03-06T20:15:43.771Z"
   },
   {
    "duration": 12,
    "start_time": "2022-03-06T20:15:43.777Z"
   },
   {
    "duration": 5,
    "start_time": "2022-03-06T20:15:43.793Z"
   },
   {
    "duration": 42,
    "start_time": "2022-03-06T20:15:43.801Z"
   },
   {
    "duration": 15,
    "start_time": "2022-03-06T20:15:43.846Z"
   },
   {
    "duration": 5,
    "start_time": "2022-03-06T20:15:43.864Z"
   },
   {
    "duration": 37,
    "start_time": "2022-03-06T20:15:43.871Z"
   },
   {
    "duration": 31,
    "start_time": "2022-03-06T20:15:43.910Z"
   },
   {
    "duration": 33,
    "start_time": "2022-03-06T20:15:43.943Z"
   },
   {
    "duration": 21,
    "start_time": "2022-03-06T20:15:43.978Z"
   },
   {
    "duration": 7,
    "start_time": "2022-03-06T20:15:44.001Z"
   },
   {
    "duration": 9,
    "start_time": "2022-03-06T20:15:44.010Z"
   },
   {
    "duration": 7,
    "start_time": "2022-03-06T20:15:44.020Z"
   },
   {
    "duration": 5,
    "start_time": "2022-03-06T20:15:44.029Z"
   },
   {
    "duration": 12,
    "start_time": "2022-03-06T20:15:44.036Z"
   },
   {
    "duration": 32,
    "start_time": "2022-03-06T20:15:44.050Z"
   },
   {
    "duration": 9,
    "start_time": "2022-03-06T20:15:44.084Z"
   },
   {
    "duration": 4,
    "start_time": "2022-03-06T20:15:44.094Z"
   },
   {
    "duration": 40,
    "start_time": "2022-03-06T20:15:44.100Z"
   },
   {
    "duration": 31,
    "start_time": "2022-03-06T20:15:44.142Z"
   },
   {
    "duration": 5,
    "start_time": "2022-03-06T20:15:44.175Z"
   },
   {
    "duration": 25,
    "start_time": "2022-03-06T20:15:44.182Z"
   },
   {
    "duration": 4,
    "start_time": "2022-03-06T20:15:44.208Z"
   },
   {
    "duration": 43,
    "start_time": "2022-03-06T20:15:44.214Z"
   },
   {
    "duration": 10,
    "start_time": "2022-03-06T20:15:44.261Z"
   },
   {
    "duration": 186,
    "start_time": "2022-03-06T20:15:44.273Z"
   },
   {
    "duration": 239,
    "start_time": "2022-03-06T20:15:44.461Z"
   },
   {
    "duration": 670,
    "start_time": "2022-03-06T20:15:44.702Z"
   },
   {
    "duration": 10,
    "start_time": "2022-03-06T20:15:45.374Z"
   },
   {
    "duration": 11,
    "start_time": "2022-03-06T20:15:45.386Z"
   },
   {
    "duration": 8,
    "start_time": "2022-03-06T20:15:45.399Z"
   },
   {
    "duration": 32,
    "start_time": "2022-03-06T20:15:45.408Z"
   },
   {
    "duration": 36,
    "start_time": "2022-03-06T20:15:45.443Z"
   },
   {
    "duration": 233,
    "start_time": "2022-03-06T20:15:45.481Z"
   },
   {
    "duration": 22,
    "start_time": "2022-03-06T20:15:45.716Z"
   },
   {
    "duration": 3,
    "start_time": "2022-03-06T20:15:45.741Z"
   },
   {
    "duration": 18,
    "start_time": "2022-03-06T20:15:45.747Z"
   },
   {
    "duration": 10,
    "start_time": "2022-03-06T20:15:45.767Z"
   },
   {
    "duration": 250,
    "start_time": "2022-03-06T20:15:45.779Z"
   },
   {
    "duration": 17,
    "start_time": "2022-03-06T20:15:46.031Z"
   },
   {
    "duration": 5,
    "start_time": "2022-03-06T20:15:46.052Z"
   },
   {
    "duration": 11,
    "start_time": "2022-03-06T20:15:46.061Z"
   },
   {
    "duration": 9,
    "start_time": "2022-03-06T20:15:46.075Z"
   },
   {
    "duration": 593,
    "start_time": "2022-03-06T20:15:46.086Z"
   },
   {
    "duration": 623,
    "start_time": "2022-03-06T20:15:46.681Z"
   },
   {
    "duration": 983,
    "start_time": "2022-03-06T20:15:47.306Z"
   },
   {
    "duration": 229,
    "start_time": "2022-03-06T20:15:48.291Z"
   },
   {
    "duration": 22,
    "start_time": "2022-03-06T20:15:48.523Z"
   },
   {
    "duration": 8,
    "start_time": "2022-03-06T20:15:48.548Z"
   },
   {
    "duration": 17,
    "start_time": "2022-03-06T20:15:48.559Z"
   },
   {
    "duration": 9,
    "start_time": "2022-03-06T20:15:48.578Z"
   },
   {
    "duration": 191,
    "start_time": "2022-03-06T20:15:48.589Z"
   },
   {
    "duration": 325,
    "start_time": "2022-03-06T20:15:48.782Z"
   },
   {
    "duration": 9,
    "start_time": "2022-03-06T20:15:49.109Z"
   },
   {
    "duration": 7,
    "start_time": "2022-03-06T20:15:49.120Z"
   },
   {
    "duration": 24,
    "start_time": "2022-03-06T20:15:49.143Z"
   },
   {
    "duration": 7,
    "start_time": "2022-03-06T20:15:49.174Z"
   },
   {
    "duration": 441,
    "start_time": "2022-03-06T20:15:49.183Z"
   },
   {
    "duration": 17,
    "start_time": "2022-03-06T20:15:49.627Z"
   },
   {
    "duration": 423,
    "start_time": "2022-03-06T20:15:49.647Z"
   },
   {
    "duration": 2744,
    "start_time": "2022-03-06T20:15:50.073Z"
   },
   {
    "duration": 45,
    "start_time": "2022-03-06T20:15:52.819Z"
   },
   {
    "duration": 4425,
    "start_time": "2022-03-06T20:15:52.866Z"
   },
   {
    "duration": -2257,
    "start_time": "2022-03-06T20:15:59.549Z"
   },
   {
    "duration": -2262,
    "start_time": "2022-03-06T20:15:59.555Z"
   },
   {
    "duration": -2265,
    "start_time": "2022-03-06T20:15:59.559Z"
   },
   {
    "duration": -2268,
    "start_time": "2022-03-06T20:15:59.563Z"
   },
   {
    "duration": -2271,
    "start_time": "2022-03-06T20:15:59.567Z"
   },
   {
    "duration": -2275,
    "start_time": "2022-03-06T20:15:59.572Z"
   },
   {
    "duration": -2278,
    "start_time": "2022-03-06T20:15:59.576Z"
   },
   {
    "duration": -2281,
    "start_time": "2022-03-06T20:15:59.580Z"
   },
   {
    "duration": -2284,
    "start_time": "2022-03-06T20:15:59.584Z"
   },
   {
    "duration": -2288,
    "start_time": "2022-03-06T20:15:59.589Z"
   },
   {
    "duration": -2290,
    "start_time": "2022-03-06T20:15:59.592Z"
   },
   {
    "duration": 53,
    "start_time": "2022-03-06T20:17:46.417Z"
   },
   {
    "duration": 54,
    "start_time": "2022-03-06T20:18:18.101Z"
   },
   {
    "duration": 81,
    "start_time": "2022-03-06T20:19:09.187Z"
   },
   {
    "duration": 11,
    "start_time": "2022-03-06T20:19:09.270Z"
   },
   {
    "duration": 91,
    "start_time": "2022-03-06T20:19:09.283Z"
   },
   {
    "duration": 3,
    "start_time": "2022-03-06T20:19:09.377Z"
   },
   {
    "duration": 11,
    "start_time": "2022-03-06T20:19:09.382Z"
   },
   {
    "duration": 45,
    "start_time": "2022-03-06T20:19:09.394Z"
   },
   {
    "duration": 10,
    "start_time": "2022-03-06T20:19:09.441Z"
   },
   {
    "duration": 30,
    "start_time": "2022-03-06T20:19:09.453Z"
   },
   {
    "duration": 8,
    "start_time": "2022-03-06T20:19:09.486Z"
   },
   {
    "duration": 42,
    "start_time": "2022-03-06T20:19:09.496Z"
   },
   {
    "duration": 28,
    "start_time": "2022-03-06T20:19:09.540Z"
   },
   {
    "duration": 11,
    "start_time": "2022-03-06T20:19:09.569Z"
   },
   {
    "duration": 4,
    "start_time": "2022-03-06T20:19:09.581Z"
   },
   {
    "duration": 28,
    "start_time": "2022-03-06T20:19:09.587Z"
   },
   {
    "duration": 58,
    "start_time": "2022-03-06T20:19:09.617Z"
   },
   {
    "duration": 5,
    "start_time": "2022-03-06T20:19:09.677Z"
   },
   {
    "duration": 9,
    "start_time": "2022-03-06T20:19:09.684Z"
   },
   {
    "duration": 11,
    "start_time": "2022-03-06T20:19:09.696Z"
   },
   {
    "duration": 12,
    "start_time": "2022-03-06T20:19:09.738Z"
   },
   {
    "duration": 12,
    "start_time": "2022-03-06T20:19:09.753Z"
   },
   {
    "duration": 21,
    "start_time": "2022-03-06T20:19:09.767Z"
   },
   {
    "duration": 9,
    "start_time": "2022-03-06T20:19:09.790Z"
   },
   {
    "duration": 492,
    "start_time": "2022-03-06T20:19:09.800Z"
   },
   {
    "duration": 148,
    "start_time": "2022-03-06T20:19:10.294Z"
   },
   {
    "duration": 4,
    "start_time": "2022-03-06T20:19:10.444Z"
   },
   {
    "duration": 6,
    "start_time": "2022-03-06T20:19:10.450Z"
   },
   {
    "duration": 5,
    "start_time": "2022-03-06T20:19:10.461Z"
   },
   {
    "duration": 26,
    "start_time": "2022-03-06T20:19:10.468Z"
   },
   {
    "duration": 10,
    "start_time": "2022-03-06T20:19:10.496Z"
   },
   {
    "duration": 4,
    "start_time": "2022-03-06T20:19:10.538Z"
   },
   {
    "duration": 26,
    "start_time": "2022-03-06T20:19:10.544Z"
   },
   {
    "duration": 4,
    "start_time": "2022-03-06T20:19:10.571Z"
   },
   {
    "duration": 14,
    "start_time": "2022-03-06T20:19:10.576Z"
   },
   {
    "duration": 6,
    "start_time": "2022-03-06T20:19:10.592Z"
   },
   {
    "duration": 39,
    "start_time": "2022-03-06T20:19:10.599Z"
   },
   {
    "duration": 12,
    "start_time": "2022-03-06T20:19:10.640Z"
   },
   {
    "duration": 7,
    "start_time": "2022-03-06T20:19:10.653Z"
   },
   {
    "duration": 7,
    "start_time": "2022-03-06T20:19:10.662Z"
   },
   {
    "duration": 8,
    "start_time": "2022-03-06T20:19:10.671Z"
   },
   {
    "duration": 29,
    "start_time": "2022-03-06T20:19:10.681Z"
   },
   {
    "duration": 34,
    "start_time": "2022-03-06T20:19:10.712Z"
   },
   {
    "duration": 5,
    "start_time": "2022-03-06T20:19:10.748Z"
   },
   {
    "duration": 19,
    "start_time": "2022-03-06T20:19:10.754Z"
   },
   {
    "duration": 21,
    "start_time": "2022-03-06T20:19:10.775Z"
   },
   {
    "duration": 5,
    "start_time": "2022-03-06T20:19:10.798Z"
   },
   {
    "duration": 50,
    "start_time": "2022-03-06T20:19:10.805Z"
   },
   {
    "duration": 6,
    "start_time": "2022-03-06T20:19:10.858Z"
   },
   {
    "duration": 23,
    "start_time": "2022-03-06T20:19:10.866Z"
   },
   {
    "duration": 17,
    "start_time": "2022-03-06T20:19:10.891Z"
   },
   {
    "duration": 182,
    "start_time": "2022-03-06T20:19:10.910Z"
   },
   {
    "duration": 202,
    "start_time": "2022-03-06T20:19:11.094Z"
   },
   {
    "duration": 495,
    "start_time": "2022-03-06T20:19:11.298Z"
   },
   {
    "duration": 9,
    "start_time": "2022-03-06T20:19:11.795Z"
   },
   {
    "duration": 8,
    "start_time": "2022-03-06T20:19:11.806Z"
   },
   {
    "duration": 25,
    "start_time": "2022-03-06T20:19:11.815Z"
   },
   {
    "duration": 9,
    "start_time": "2022-03-06T20:19:11.842Z"
   },
   {
    "duration": 29,
    "start_time": "2022-03-06T20:19:11.852Z"
   },
   {
    "duration": 379,
    "start_time": "2022-03-06T20:19:11.883Z"
   },
   {
    "duration": 9,
    "start_time": "2022-03-06T20:19:12.264Z"
   },
   {
    "duration": 3,
    "start_time": "2022-03-06T20:19:12.275Z"
   },
   {
    "duration": 11,
    "start_time": "2022-03-06T20:19:12.280Z"
   },
   {
    "duration": 14,
    "start_time": "2022-03-06T20:19:12.292Z"
   },
   {
    "duration": 229,
    "start_time": "2022-03-06T20:19:12.308Z"
   },
   {
    "duration": 8,
    "start_time": "2022-03-06T20:19:12.539Z"
   },
   {
    "duration": 4,
    "start_time": "2022-03-06T20:19:12.549Z"
   },
   {
    "duration": 11,
    "start_time": "2022-03-06T20:19:12.555Z"
   },
   {
    "duration": 12,
    "start_time": "2022-03-06T20:19:12.567Z"
   },
   {
    "duration": 539,
    "start_time": "2022-03-06T20:19:12.580Z"
   },
   {
    "duration": 507,
    "start_time": "2022-03-06T20:19:13.120Z"
   },
   {
    "duration": 884,
    "start_time": "2022-03-06T20:19:13.630Z"
   },
   {
    "duration": 203,
    "start_time": "2022-03-06T20:19:14.516Z"
   },
   {
    "duration": 16,
    "start_time": "2022-03-06T20:19:14.721Z"
   },
   {
    "duration": 4,
    "start_time": "2022-03-06T20:19:14.739Z"
   },
   {
    "duration": 12,
    "start_time": "2022-03-06T20:19:14.744Z"
   },
   {
    "duration": 9,
    "start_time": "2022-03-06T20:19:14.758Z"
   },
   {
    "duration": 173,
    "start_time": "2022-03-06T20:19:14.769Z"
   },
   {
    "duration": 229,
    "start_time": "2022-03-06T20:19:14.944Z"
   },
   {
    "duration": 13,
    "start_time": "2022-03-06T20:19:15.175Z"
   },
   {
    "duration": 2,
    "start_time": "2022-03-06T20:19:15.190Z"
   },
   {
    "duration": 21,
    "start_time": "2022-03-06T20:19:15.194Z"
   },
   {
    "duration": 6,
    "start_time": "2022-03-06T20:19:15.238Z"
   },
   {
    "duration": 380,
    "start_time": "2022-03-06T20:19:15.246Z"
   },
   {
    "duration": 11,
    "start_time": "2022-03-06T20:19:15.628Z"
   },
   {
    "duration": 357,
    "start_time": "2022-03-06T20:19:15.641Z"
   },
   {
    "duration": 2534,
    "start_time": "2022-03-06T20:19:16.001Z"
   },
   {
    "duration": 24,
    "start_time": "2022-03-06T20:19:18.538Z"
   },
   {
    "duration": 44,
    "start_time": "2022-03-06T20:19:18.564Z"
   },
   {
    "duration": 367,
    "start_time": "2022-03-06T20:19:18.610Z"
   },
   {
    "duration": 8,
    "start_time": "2022-03-06T20:19:18.979Z"
   },
   {
    "duration": 10,
    "start_time": "2022-03-06T20:19:18.988Z"
   },
   {
    "duration": 211,
    "start_time": "2022-03-06T20:19:19.000Z"
   },
   {
    "duration": 8,
    "start_time": "2022-03-06T20:19:19.213Z"
   },
   {
    "duration": 217,
    "start_time": "2022-03-06T20:19:19.223Z"
   },
   {
    "duration": 18,
    "start_time": "2022-03-06T20:19:19.443Z"
   },
   {
    "duration": 209,
    "start_time": "2022-03-06T20:19:19.463Z"
   },
   {
    "duration": 8,
    "start_time": "2022-03-06T20:19:19.674Z"
   },
   {
    "duration": 208,
    "start_time": "2022-03-06T20:19:19.683Z"
   },
   {
    "duration": 2192,
    "start_time": "2022-03-06T20:19:19.893Z"
   },
   {
    "duration": 59,
    "start_time": "2022-03-06T20:28:58.443Z"
   },
   {
    "duration": 63,
    "start_time": "2022-03-06T20:29:11.041Z"
   },
   {
    "duration": 535,
    "start_time": "2022-03-06T20:29:25.243Z"
   },
   {
    "duration": 11,
    "start_time": "2022-03-06T20:29:46.364Z"
   },
   {
    "duration": 10,
    "start_time": "2022-03-06T20:30:09.484Z"
   },
   {
    "duration": 12,
    "start_time": "2022-03-06T20:30:20.059Z"
   },
   {
    "duration": 11,
    "start_time": "2022-03-06T20:31:04.548Z"
   },
   {
    "duration": 14,
    "start_time": "2022-03-06T21:16:01.534Z"
   },
   {
    "duration": 10,
    "start_time": "2022-03-06T21:16:20.660Z"
   },
   {
    "duration": 21,
    "start_time": "2022-03-06T21:17:17.447Z"
   },
   {
    "duration": 13,
    "start_time": "2022-03-06T21:17:36.179Z"
   },
   {
    "duration": 11,
    "start_time": "2022-03-06T21:17:47.079Z"
   },
   {
    "duration": 12,
    "start_time": "2022-03-06T21:17:50.962Z"
   },
   {
    "duration": 7,
    "start_time": "2022-03-06T22:00:53.958Z"
   },
   {
    "duration": 7,
    "start_time": "2022-03-06T22:01:06.927Z"
   },
   {
    "duration": 5,
    "start_time": "2022-03-06T22:01:32.654Z"
   },
   {
    "duration": 1252,
    "start_time": "2022-03-06T22:10:21.044Z"
   },
   {
    "duration": 12,
    "start_time": "2022-03-06T22:10:22.298Z"
   },
   {
    "duration": 82,
    "start_time": "2022-03-06T22:10:22.312Z"
   },
   {
    "duration": 3,
    "start_time": "2022-03-06T22:10:22.396Z"
   },
   {
    "duration": 14,
    "start_time": "2022-03-06T22:10:22.400Z"
   },
   {
    "duration": 34,
    "start_time": "2022-03-06T22:10:22.416Z"
   },
   {
    "duration": 7,
    "start_time": "2022-03-06T22:10:22.452Z"
   },
   {
    "duration": 26,
    "start_time": "2022-03-06T22:10:22.461Z"
   },
   {
    "duration": 6,
    "start_time": "2022-03-06T22:10:22.490Z"
   },
   {
    "duration": 4,
    "start_time": "2022-03-06T22:10:22.498Z"
   },
   {
    "duration": 54,
    "start_time": "2022-03-06T22:10:22.504Z"
   },
   {
    "duration": 10,
    "start_time": "2022-03-06T22:10:22.560Z"
   },
   {
    "duration": 4,
    "start_time": "2022-03-06T22:10:22.571Z"
   },
   {
    "duration": 30,
    "start_time": "2022-03-06T22:10:22.576Z"
   },
   {
    "duration": 71,
    "start_time": "2022-03-06T22:10:22.608Z"
   },
   {
    "duration": 5,
    "start_time": "2022-03-06T22:10:22.681Z"
   },
   {
    "duration": 11,
    "start_time": "2022-03-06T22:10:22.688Z"
   },
   {
    "duration": 8,
    "start_time": "2022-03-06T22:10:22.701Z"
   },
   {
    "duration": 9,
    "start_time": "2022-03-06T22:10:22.711Z"
   },
   {
    "duration": 4,
    "start_time": "2022-03-06T22:10:22.738Z"
   },
   {
    "duration": 11,
    "start_time": "2022-03-06T22:10:22.743Z"
   },
   {
    "duration": 4,
    "start_time": "2022-03-06T22:10:22.756Z"
   },
   {
    "duration": 512,
    "start_time": "2022-03-06T22:10:22.762Z"
   },
   {
    "duration": 145,
    "start_time": "2022-03-06T22:10:23.276Z"
   },
   {
    "duration": 3,
    "start_time": "2022-03-06T22:10:23.423Z"
   },
   {
    "duration": 12,
    "start_time": "2022-03-06T22:10:23.427Z"
   },
   {
    "duration": 5,
    "start_time": "2022-03-06T22:10:23.443Z"
   },
   {
    "duration": 27,
    "start_time": "2022-03-06T22:10:23.450Z"
   },
   {
    "duration": 10,
    "start_time": "2022-03-06T22:10:23.479Z"
   },
   {
    "duration": 3,
    "start_time": "2022-03-06T22:10:23.491Z"
   },
   {
    "duration": 54,
    "start_time": "2022-03-06T22:10:23.495Z"
   },
   {
    "duration": 3,
    "start_time": "2022-03-06T22:10:23.551Z"
   },
   {
    "duration": 13,
    "start_time": "2022-03-06T22:10:23.555Z"
   },
   {
    "duration": 4,
    "start_time": "2022-03-06T22:10:23.570Z"
   },
   {
    "duration": 7,
    "start_time": "2022-03-06T22:10:23.575Z"
   },
   {
    "duration": 5,
    "start_time": "2022-03-06T22:10:23.584Z"
   },
   {
    "duration": 6,
    "start_time": "2022-03-06T22:10:23.590Z"
   },
   {
    "duration": 41,
    "start_time": "2022-03-06T22:10:23.597Z"
   },
   {
    "duration": 8,
    "start_time": "2022-03-06T22:10:23.640Z"
   },
   {
    "duration": 32,
    "start_time": "2022-03-06T22:10:23.649Z"
   },
   {
    "duration": 11,
    "start_time": "2022-03-06T22:10:23.683Z"
   },
   {
    "duration": 5,
    "start_time": "2022-03-06T22:10:23.696Z"
   },
   {
    "duration": 38,
    "start_time": "2022-03-06T22:10:23.703Z"
   },
   {
    "duration": 31,
    "start_time": "2022-03-06T22:10:23.743Z"
   },
   {
    "duration": 7,
    "start_time": "2022-03-06T22:10:23.776Z"
   },
   {
    "duration": 24,
    "start_time": "2022-03-06T22:10:23.784Z"
   },
   {
    "duration": 5,
    "start_time": "2022-03-06T22:10:23.838Z"
   },
   {
    "duration": 13,
    "start_time": "2022-03-06T22:10:23.845Z"
   },
   {
    "duration": 10,
    "start_time": "2022-03-06T22:10:23.860Z"
   },
   {
    "duration": 162,
    "start_time": "2022-03-06T22:10:23.872Z"
   },
   {
    "duration": 202,
    "start_time": "2022-03-06T22:10:24.037Z"
   },
   {
    "duration": 506,
    "start_time": "2022-03-06T22:10:24.242Z"
   },
   {
    "duration": 11,
    "start_time": "2022-03-06T22:10:24.750Z"
   },
   {
    "duration": 8,
    "start_time": "2022-03-06T22:10:24.763Z"
   },
   {
    "duration": 9,
    "start_time": "2022-03-06T22:10:24.773Z"
   },
   {
    "duration": 10,
    "start_time": "2022-03-06T22:10:24.783Z"
   },
   {
    "duration": 65,
    "start_time": "2022-03-06T22:10:24.795Z"
   },
   {
    "duration": 209,
    "start_time": "2022-03-06T22:10:24.862Z"
   },
   {
    "duration": 11,
    "start_time": "2022-03-06T22:10:25.074Z"
   },
   {
    "duration": 2,
    "start_time": "2022-03-06T22:10:25.088Z"
   },
   {
    "duration": 10,
    "start_time": "2022-03-06T22:10:25.092Z"
   },
   {
    "duration": 38,
    "start_time": "2022-03-06T22:10:25.104Z"
   },
   {
    "duration": 202,
    "start_time": "2022-03-06T22:10:25.143Z"
   },
   {
    "duration": 8,
    "start_time": "2022-03-06T22:10:25.347Z"
   },
   {
    "duration": 3,
    "start_time": "2022-03-06T22:10:25.356Z"
   },
   {
    "duration": 10,
    "start_time": "2022-03-06T22:10:25.360Z"
   },
   {
    "duration": 8,
    "start_time": "2022-03-06T22:10:25.372Z"
   },
   {
    "duration": 533,
    "start_time": "2022-03-06T22:10:25.381Z"
   },
   {
    "duration": 593,
    "start_time": "2022-03-06T22:10:25.916Z"
   },
   {
    "duration": 814,
    "start_time": "2022-03-06T22:10:26.510Z"
   },
   {
    "duration": 191,
    "start_time": "2022-03-06T22:10:27.326Z"
   },
   {
    "duration": 19,
    "start_time": "2022-03-06T22:10:27.518Z"
   },
   {
    "duration": 3,
    "start_time": "2022-03-06T22:10:27.539Z"
   },
   {
    "duration": 9,
    "start_time": "2022-03-06T22:10:27.544Z"
   },
   {
    "duration": 8,
    "start_time": "2022-03-06T22:10:27.555Z"
   },
   {
    "duration": 163,
    "start_time": "2022-03-06T22:10:27.564Z"
   },
   {
    "duration": 181,
    "start_time": "2022-03-06T22:10:27.729Z"
   },
   {
    "duration": 9,
    "start_time": "2022-03-06T22:10:27.911Z"
   },
   {
    "duration": 2,
    "start_time": "2022-03-06T22:10:27.922Z"
   },
   {
    "duration": 27,
    "start_time": "2022-03-06T22:10:27.925Z"
   },
   {
    "duration": 5,
    "start_time": "2022-03-06T22:10:27.958Z"
   },
   {
    "duration": 366,
    "start_time": "2022-03-06T22:10:27.965Z"
   },
   {
    "duration": 5,
    "start_time": "2022-03-06T22:10:28.337Z"
   },
   {
    "duration": 347,
    "start_time": "2022-03-06T22:10:28.344Z"
   },
   {
    "duration": 2524,
    "start_time": "2022-03-06T22:10:28.693Z"
   },
   {
    "duration": 32,
    "start_time": "2022-03-06T22:10:31.219Z"
   },
   {
    "duration": 44,
    "start_time": "2022-03-06T22:10:31.252Z"
   },
   {
    "duration": 335,
    "start_time": "2022-03-06T22:10:31.298Z"
   },
   {
    "duration": 9,
    "start_time": "2022-03-06T22:10:31.634Z"
   },
   {
    "duration": 18,
    "start_time": "2022-03-06T22:10:31.644Z"
   },
   {
    "duration": 200,
    "start_time": "2022-03-06T22:10:31.664Z"
   },
   {
    "duration": 7,
    "start_time": "2022-03-06T22:10:31.866Z"
   },
   {
    "duration": 194,
    "start_time": "2022-03-06T22:10:31.875Z"
   },
   {
    "duration": 8,
    "start_time": "2022-03-06T22:10:32.070Z"
   },
   {
    "duration": 195,
    "start_time": "2022-03-06T22:10:32.080Z"
   },
   {
    "duration": 8,
    "start_time": "2022-03-06T22:10:32.276Z"
   },
   {
    "duration": 211,
    "start_time": "2022-03-06T22:10:32.285Z"
   },
   {
    "duration": 2281,
    "start_time": "2022-03-06T22:10:32.497Z"
   },
   {
    "duration": 5,
    "start_time": "2022-03-06T22:10:34.780Z"
   }
  ],
  "colab": {
   "collapsed_sections": [],
   "name": "Project3.ipynb",
   "provenance": []
  },
  "kernelspec": {
   "display_name": "Python 3 (ipykernel)",
   "language": "python",
   "name": "python3"
  },
  "language_info": {
   "codemirror_mode": {
    "name": "ipython",
    "version": 3
   },
   "file_extension": ".py",
   "mimetype": "text/x-python",
   "name": "python",
   "nbconvert_exporter": "python",
   "pygments_lexer": "ipython3",
   "version": "3.9.12"
  },
  "toc": {
   "base_numbering": 1,
   "nav_menu": {},
   "number_sections": true,
   "sideBar": true,
   "skip_h1_title": true,
   "title_cell": "Содержание",
   "title_sidebar": "Contents",
   "toc_cell": true,
   "toc_position": {
    "height": "723.704px",
    "left": "623px",
    "top": "547.019px",
    "width": "361.771px"
   },
   "toc_section_display": true,
   "toc_window_display": false
  }
 },
 "nbformat": 4,
 "nbformat_minor": 1
}
